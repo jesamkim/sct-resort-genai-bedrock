{
 "cells": [
  {
   "cell_type": "markdown",
   "id": "ddb4fd9e-6226-4e06-ad55-46a06b6eacaf",
   "metadata": {},
   "source": [
    "## VOC에 대한 요약 생성\n",
    "\n",
    "- 프롬프트 엔지니어링 기반 요약 생성"
   ]
  },
  {
   "cell_type": "markdown",
   "id": "9ef3bb3b-8f95-44f5-bb26-54832eae802b",
   "metadata": {},
   "source": [
    "#### [중요!] 사전에 Bedrock KB (Knowledge Base) 설정은 완료 되어 있다고 가정 합니다."
   ]
  },
  {
   "cell_type": "code",
   "execution_count": 1,
   "id": "7884fbfc-4f1f-4b7a-85ae-f0bd07a688b3",
   "metadata": {},
   "outputs": [
    {
     "name": "stdout",
     "output_type": "stream",
     "text": [
      "Requirement already satisfied: boto3 in /home/ec2-user/anaconda3/envs/python3/lib/python3.10/site-packages (1.35.53)\n",
      "Requirement already satisfied: botocore<1.36.0,>=1.35.53 in /home/ec2-user/anaconda3/envs/python3/lib/python3.10/site-packages (from boto3) (1.35.53)\n",
      "Requirement already satisfied: jmespath<2.0.0,>=0.7.1 in /home/ec2-user/anaconda3/envs/python3/lib/python3.10/site-packages (from boto3) (1.0.1)\n",
      "Requirement already satisfied: s3transfer<0.11.0,>=0.10.0 in /home/ec2-user/anaconda3/envs/python3/lib/python3.10/site-packages (from boto3) (0.10.2)\n",
      "Requirement already satisfied: python-dateutil<3.0.0,>=2.1 in /home/ec2-user/anaconda3/envs/python3/lib/python3.10/site-packages (from botocore<1.36.0,>=1.35.53->boto3) (2.9.0)\n",
      "Requirement already satisfied: urllib3!=2.2.0,<3,>=1.25.4 in /home/ec2-user/anaconda3/envs/python3/lib/python3.10/site-packages (from botocore<1.36.0,>=1.35.53->boto3) (2.2.2)\n",
      "Requirement already satisfied: six>=1.5 in /home/ec2-user/anaconda3/envs/python3/lib/python3.10/site-packages (from python-dateutil<3.0.0,>=2.1->botocore<1.36.0,>=1.35.53->boto3) (1.16.0)\n",
      "Requirement already satisfied: pandas in /home/ec2-user/anaconda3/envs/python3/lib/python3.10/site-packages (2.2.3)\n",
      "Requirement already satisfied: numpy>=1.22.4 in /home/ec2-user/anaconda3/envs/python3/lib/python3.10/site-packages (from pandas) (1.22.4)\n",
      "Requirement already satisfied: python-dateutil>=2.8.2 in /home/ec2-user/anaconda3/envs/python3/lib/python3.10/site-packages (from pandas) (2.9.0)\n",
      "Requirement already satisfied: pytz>=2020.1 in /home/ec2-user/anaconda3/envs/python3/lib/python3.10/site-packages (from pandas) (2024.1)\n",
      "Requirement already satisfied: tzdata>=2022.7 in /home/ec2-user/anaconda3/envs/python3/lib/python3.10/site-packages (from pandas) (2024.1)\n",
      "Requirement already satisfied: six>=1.5 in /home/ec2-user/anaconda3/envs/python3/lib/python3.10/site-packages (from python-dateutil>=2.8.2->pandas) (1.16.0)\n",
      "Requirement already satisfied: openpyxl in /home/ec2-user/anaconda3/envs/python3/lib/python3.10/site-packages (3.1.5)\n",
      "Requirement already satisfied: et-xmlfile in /home/ec2-user/anaconda3/envs/python3/lib/python3.10/site-packages (from openpyxl) (1.1.0)\n"
     ]
    }
   ],
   "source": [
    "# 환경 설정\n",
    "!pip install boto3 -U\n",
    "!pip install pandas -U\n",
    "!pip install openpyxl -U"
   ]
  },
  {
   "cell_type": "markdown",
   "id": "8d012387-09e9-4e9d-8c47-a1d06b3abcfb",
   "metadata": {},
   "source": [
    "### Amazon Bedrock Client 설정"
   ]
  },
  {
   "cell_type": "code",
   "execution_count": 5,
   "id": "dd6465cc-1a9a-40d1-9e49-0b85367e82a4",
   "metadata": {},
   "outputs": [],
   "source": [
    "import boto3\n",
    "import pprint\n",
    "from botocore.client import Config\n",
    "import json\n",
    "\n",
    "pp = pprint.PrettyPrinter(indent=2)\n",
    "session = boto3.session.Session()\n",
    "region = session.region_name\n",
    "bedrock_config = Config(connect_timeout=120, read_timeout=120, retries={'max_attempts': 0})\n",
    "bedrock_runtime = boto3.client('bedrock-runtime', region_name = \"us-east-1\") ## Claude 리전\n"
   ]
  },
  {
   "cell_type": "markdown",
   "id": "d7ca7802-ea7a-49cc-b098-e3c338c24cc9",
   "metadata": {},
   "source": [
    "### 요약 함수 정의"
   ]
  },
  {
   "cell_type": "code",
   "execution_count": 8,
   "id": "ac9774bb-a1b8-4a18-9d34-d30b7e870fd4",
   "metadata": {
    "tags": []
   },
   "outputs": [],
   "source": [
    "def summarize_text(text):\n",
    "    prompt = f\"\"\"\n",
    "    다음 텍스트의 핵심 내용을 정확하고 간결하게 요약해주세요: \n",
    "    \n",
    "    <text>\n",
    "    {text}\n",
    "    </text>\n",
    "    \n",
    "    요약 지침:\n",
    "    1. 반드시 30자 이내로 작성하세요.\n",
    "    2. 가장 중요한 정보만 포함하세요.\n",
    "    3. 완전한 문장으로 작성하지 말고, 핵심 키워드나 구문만 사용하세요.\n",
    "    4. 불필요한 조사, 접속사는 생략하세요.\n",
    "    5. 원문의 주요 의도나 감정을 반영하세요.\n",
    "    \n",
    "    응답 형식은 다음 예시 <example></example>를 참조하세요.\n",
    "    <example>\n",
    "    자녀가 만원을 내고 5000원짜리 구슬 아이스크림을 사먹었는데 거스름돈을 돌려주지 않았음. 아이가 잔돈을 달라고 했으나 근무자가 대꾸도 안하고 무시했다는 이야기를 들어 활당했으니 개선 바람.\n",
    "    </example>\n",
    "    \n",
    "    응답 형식: 50자 이내로 서술형 문장 1개 또는 2개 이내로 요약된 내용을 표현하세요. 일부 추가 설명은 포함되어도 됩니다. 생성된 답변만 출력하세요.\n",
    "    \"\"\"\n",
    "\n",
    "    response = bedrock_runtime.converse(\n",
    "        modelId=\"us.anthropic.claude-3-5-sonnet-20240620-v1:0\",   ## Claude 3.5 Sonnet\n",
    "        #modelId=\"us.anthropic.claude-3-haiku-20240307-v1:0\",    ## Claude 3 Haiku\n",
    "        messages=[\n",
    "            {\n",
    "                \"role\": \"user\",\n",
    "                \"content\": [{\"text\": prompt}]\n",
    "            }\n",
    "        ],\n",
    "        inferenceConfig={\n",
    "            \"maxTokens\": 4096,\n",
    "            \"temperature\": 0.7,\n",
    "            \"topP\": 1\n",
    "        }\n",
    "    )\n",
    "    \n",
    "    # 응답 구조에 따라 텍스트 추출\n",
    "    if 'output' in response and 'message' in response['output']:\n",
    "        return response['output']['message']['content'][0]['text']\n",
    "    else:\n",
    "        # 응답 구조가 예상과 다를 경우 전체 응답 반환\n",
    "        return str(response)"
   ]
  },
  {
   "cell_type": "markdown",
   "id": "3820ec70-d8a1-456e-aa1a-8838c8fec813",
   "metadata": {},
   "source": [
    "### 사용자 쿼리 (입력 VOC)"
   ]
  },
  {
   "cell_type": "code",
   "execution_count": 10,
   "id": "87b8db59-8afb-4b86-bcb1-0bb9e36b7d07",
   "metadata": {},
   "outputs": [
    {
     "name": "stdout",
     "output_type": "stream",
     "text": [
      "=== 쿼리 요약 ===\n",
      "\n",
      "동물 먹이주기 체험 범위 문의, 다양한 동물 홍보 요청, 펭귄 행사 호평\n"
     ]
    }
   ],
   "source": [
    "# 입력하는 VOC \n",
    "query = \"\"\"\n",
    "안녕하세요. 동물원 체험 프로그램에 대해 문의드립니다. 지난번 공지사항에 매주 토요일마다 동물 먹이주기 체험을 진행한다고 하셨는데, 모든 동물에게 해당되는 건가요? 기린이랑 코끼리만 먹이주기 체험을 하고 다른 동물들은 제외된다면 좀 아쉬울 것 같아요. 공지사항만 봐서는 모든 동물이 포함되는 것처럼 보였는데, 혹시 잘못 이해한 건 아닌지 확인 차 여쭤봅니다.\n",
    "모든 동물들에게 골고루 관심을 가져주셨으면 좋겠어요. 요즘 SNS에서 기린과 코끼리 위주로 홍보하시는 걸 보고 다른 동물 팬들이 많이 아쉬워하더라고요. 저도 그동안 다른 동물 팬들의 요청으로 민원을 자주 넣었지만, 이제는 그냥 구경만 하고 있어요.\n",
    "하지만 계속 특정 동물들만 홍보하신다면 팬들이 계속해서 불만을 제기할 것 같아요. 그래도 지난번 '펭귄의 날' 행사는 정말 좋았습니다. 앞으로도 다양한 동물들을 위한 행사 많이 해주세요. 늘 동물원 소식 전해주셔서 감사합니다. \n",
    "\"\"\"\n",
    "\n",
    "# 기존 summarize_text() 함수를 활용하여 쿼리 처리\n",
    "summary = summarize_text(query)\n",
    "print(\"=== 쿼리 요약 ===\\n\")\n",
    "print(summary)"
   ]
  },
  {
   "cell_type": "code",
   "execution_count": null,
   "id": "8ddceb38-4bdf-40b6-affd-4470f7e5a5bb",
   "metadata": {},
   "outputs": [],
   "source": []
  }
 ],
 "metadata": {
  "kernelspec": {
   "display_name": "conda_python3",
   "language": "python",
   "name": "conda_python3"
  },
  "language_info": {
   "codemirror_mode": {
    "name": "ipython",
    "version": 3
   },
   "file_extension": ".py",
   "mimetype": "text/x-python",
   "name": "python",
   "nbconvert_exporter": "python",
   "pygments_lexer": "ipython3",
   "version": "3.10.14"
  }
 },
 "nbformat": 4,
 "nbformat_minor": 5
}
