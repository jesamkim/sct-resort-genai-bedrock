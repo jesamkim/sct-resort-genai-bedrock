{
 "cells": [
  {
   "cell_type": "markdown",
   "id": "ddb4fd9e-6226-4e06-ad55-46a06b6eacaf",
   "metadata": {},
   "source": [
    "## VOC에 대한 담당 부서 확인\n",
    "\n",
    "- RAG 검색을 통해 유사한 VOC에 배정된 \"담당 부서\"를 확인 후 매칭"
   ]
  },
  {
   "cell_type": "markdown",
   "id": "9ef3bb3b-8f95-44f5-bb26-54832eae802b",
   "metadata": {},
   "source": [
    "#### [중요!] 사전에 Bedrock KB (Knowledge Base) 설정은 완료 되어 있다고 가정 합니다."
   ]
  },
  {
   "cell_type": "code",
   "execution_count": 1,
   "id": "7884fbfc-4f1f-4b7a-85ae-f0bd07a688b3",
   "metadata": {},
   "outputs": [
    {
     "name": "stdout",
     "output_type": "stream",
     "text": [
      "Requirement already satisfied: boto3 in /home/ec2-user/anaconda3/envs/python3/lib/python3.10/site-packages (1.35.47)\n",
      "Requirement already satisfied: botocore<1.36.0,>=1.35.47 in /home/ec2-user/anaconda3/envs/python3/lib/python3.10/site-packages (from boto3) (1.35.47)\n",
      "Requirement already satisfied: jmespath<2.0.0,>=0.7.1 in /home/ec2-user/anaconda3/envs/python3/lib/python3.10/site-packages (from boto3) (1.0.1)\n",
      "Requirement already satisfied: s3transfer<0.11.0,>=0.10.0 in /home/ec2-user/anaconda3/envs/python3/lib/python3.10/site-packages (from boto3) (0.10.2)\n",
      "Requirement already satisfied: python-dateutil<3.0.0,>=2.1 in /home/ec2-user/anaconda3/envs/python3/lib/python3.10/site-packages (from botocore<1.36.0,>=1.35.47->boto3) (2.9.0)\n",
      "Requirement already satisfied: urllib3!=2.2.0,<3,>=1.25.4 in /home/ec2-user/anaconda3/envs/python3/lib/python3.10/site-packages (from botocore<1.36.0,>=1.35.47->boto3) (2.2.2)\n",
      "Requirement already satisfied: six>=1.5 in /home/ec2-user/anaconda3/envs/python3/lib/python3.10/site-packages (from python-dateutil<3.0.0,>=2.1->botocore<1.36.0,>=1.35.47->boto3) (1.16.0)\n",
      "Requirement already satisfied: pandas in /home/ec2-user/anaconda3/envs/python3/lib/python3.10/site-packages (2.2.3)\n",
      "Requirement already satisfied: numpy>=1.22.4 in /home/ec2-user/anaconda3/envs/python3/lib/python3.10/site-packages (from pandas) (1.22.4)\n",
      "Requirement already satisfied: python-dateutil>=2.8.2 in /home/ec2-user/anaconda3/envs/python3/lib/python3.10/site-packages (from pandas) (2.9.0)\n",
      "Requirement already satisfied: pytz>=2020.1 in /home/ec2-user/anaconda3/envs/python3/lib/python3.10/site-packages (from pandas) (2024.1)\n",
      "Requirement already satisfied: tzdata>=2022.7 in /home/ec2-user/anaconda3/envs/python3/lib/python3.10/site-packages (from pandas) (2024.1)\n",
      "Requirement already satisfied: six>=1.5 in /home/ec2-user/anaconda3/envs/python3/lib/python3.10/site-packages (from python-dateutil>=2.8.2->pandas) (1.16.0)\n",
      "Requirement already satisfied: openpyxl in /home/ec2-user/anaconda3/envs/python3/lib/python3.10/site-packages (3.1.5)\n",
      "Requirement already satisfied: et-xmlfile in /home/ec2-user/anaconda3/envs/python3/lib/python3.10/site-packages (from openpyxl) (1.1.0)\n"
     ]
    }
   ],
   "source": [
    "# 환경 설정\n",
    "!pip install boto3 -U\n",
    "!pip install pandas -U\n",
    "!pip install openpyxl -U"
   ]
  },
  {
   "cell_type": "markdown",
   "id": "8d012387-09e9-4e9d-8c47-a1d06b3abcfb",
   "metadata": {},
   "source": [
    "### Amazon Bedrock Client 설정"
   ]
  },
  {
   "cell_type": "code",
   "execution_count": 2,
   "id": "dd6465cc-1a9a-40d1-9e49-0b85367e82a4",
   "metadata": {},
   "outputs": [],
   "source": [
    "import boto3\n",
    "import pprint\n",
    "from botocore.client import Config\n",
    "import json\n",
    "\n",
    "pp = pprint.PrettyPrinter(indent=2)\n",
    "session = boto3.session.Session()\n",
    "region = session.region_name\n",
    "bedrock_config = Config(connect_timeout=120, read_timeout=120, retries={'max_attempts': 0})\n",
    "bedrock_client = boto3.client('bedrock-runtime', region_name = \"ap-northeast-2\") ## Claude 리전\n",
    "bedrock_agent_client = boto3.client(\"bedrock-agent-runtime\",\n",
    "                              config=bedrock_config, region_name = \"us-east-1\") ## KB 리전\n"
   ]
  },
  {
   "cell_type": "markdown",
   "id": "cb3b2078-94ef-4f82-bac0-56af818a53ac",
   "metadata": {},
   "source": [
    "### 미리 생성해 둔 KB 목록 확인\n",
    "- 사용자 Bedrock 환경에 미리 만들어진 KB의 ID를 확인"
   ]
  },
  {
   "cell_type": "code",
   "execution_count": 3,
   "id": "13ac32aa-fdd2-47ef-a2af-6a6b5d2c13be",
   "metadata": {},
   "outputs": [
    {
     "name": "stdout",
     "output_type": "stream",
     "text": [
      "Found Knowledge Bases:\n",
      "- Name: 240904-kb-test\n",
      "  ID: XZARIZ0GMG\n",
      "  Description: Prompt Flow Builder Workshop\n",
      "  Status: ACTIVE\n",
      "  Last Updated: 2024-09-04 00:56:49.549374+00:00\n",
      "---\n",
      "- Name: 2024-10-sct-resort-poc-basic\n",
      "  ID: UEDOZQC6HM\n",
      "  Description: N/A\n",
      "  Status: ACTIVE\n",
      "  Last Updated: 2024-10-21 10:18:05.458218+00:00\n",
      "---\n",
      "- Name: 241028-mendix-test\n",
      "  ID: LFKVALWYSR\n",
      "  Description: N/A\n",
      "  Status: ACTIVE\n",
      "  Last Updated: 2024-10-17 01:09:59.799360+00:00\n",
      "---\n",
      "- Name: evaluation-ws-knowledge-base-FAQ_WS_833\n",
      "  ID: IWDGO2QYUY\n",
      "  Description: FAQ KB\n",
      "  Status: ACTIVE\n",
      "  Last Updated: 2024-09-05 04:26:03.406068+00:00\n",
      "---\n",
      "- Name: knowledge-base-quick-start-en\n",
      "  ID: DJLWVWNGBT\n",
      "  Description: N/A\n",
      "  Status: DELETE_UNSUCCESSFUL\n",
      "  Last Updated: 2024-09-05 05:06:01.616497+00:00\n",
      "---\n",
      "- Name: 2024-10-sct-resort-poc\n",
      "  ID: ACSN5MRWK2\n",
      "  Description: N/A\n",
      "  Status: ACTIVE\n",
      "  Last Updated: 2024-10-21 09:49:07.169355+00:00\n",
      "---\n"
     ]
    }
   ],
   "source": [
    "import boto3\n",
    "\n",
    "def list_knowledge_bases():\n",
    "    # Bedrock 클라이언트 생성\n",
    "    bedrock_agent = boto3.client('bedrock-agent')\n",
    "\n",
    "    # Knowledge Base 목록 가져오기\n",
    "    response = bedrock_agent.list_knowledge_bases(\n",
    "        maxResults=100  # 한 번에 가져올 최대 결과 수\n",
    "    )\n",
    "\n",
    "    # 결과 출력\n",
    "    if 'knowledgeBaseSummaries' in response:\n",
    "        print(\"Found Knowledge Bases:\")\n",
    "        for kb in response['knowledgeBaseSummaries']:\n",
    "            print(f\"- Name: {kb['name']}\")\n",
    "            print(f\"  ID: {kb['knowledgeBaseId']}\")\n",
    "            print(f\"  Description: {kb.get('description', 'N/A')}\")\n",
    "            print(f\"  Status: {kb['status']}\")\n",
    "            print(f\"  Last Updated: {kb['updatedAt']}\")\n",
    "            print(\"---\")\n",
    "    else:\n",
    "        print(\"No Knowledge Bases found.\")\n",
    "\n",
    "    # 페이지네이션 처리\n",
    "    while 'nextToken' in response:\n",
    "        response = bedrock_agent.list_knowledge_bases(\n",
    "            maxResults=100,\n",
    "            nextToken=response['nextToken']\n",
    "        )\n",
    "        \n",
    "        for kb in response['knowledgeBaseSummaries']:\n",
    "            print(f\"- Name: {kb['name']}\")\n",
    "            print(f\"  ID: {kb['knowledgeBaseId']}\")\n",
    "            print(f\"  Description: {kb.get('description', 'N/A')}\")\n",
    "            print(f\"  Status: {kb['status']}\")\n",
    "            print(f\"  Last Updated: {kb['updatedAt']}\")\n",
    "            print(\"---\")\n",
    "\n",
    "if __name__ == \"__main__\":\n",
    "    list_knowledge_bases()"
   ]
  },
  {
   "cell_type": "markdown",
   "id": "0dd2a21e-0593-44ff-88be-a19da9049cbd",
   "metadata": {},
   "source": [
    "### KB 설정\n",
    "- Hybrid Search 사용\n",
    "- 위에서 KB ID 확인 후, KB ID 변경해야 함"
   ]
  },
  {
   "cell_type": "code",
   "execution_count": 4,
   "id": "2aa868e9-952c-4360-8a1e-a305f25b0235",
   "metadata": {},
   "outputs": [],
   "source": [
    "# 사용할 KB ID로 변경 합니다.\n",
    "\n",
    "kb_id = \"ACSN5MRWK2\""
   ]
  },
  {
   "cell_type": "code",
   "execution_count": 5,
   "id": "e8d6686b-69a0-4967-b5ee-324861195d5c",
   "metadata": {},
   "outputs": [],
   "source": [
    "# numberOfResults 는 RAG 검색에서 가져올 청크 갯수 입니다.\n",
    "def retrieve(query, kbId, numberOfResults=10):\n",
    "    return bedrock_agent_client.retrieve(\n",
    "        retrievalQuery= {\n",
    "            'text': query\n",
    "        },\n",
    "        knowledgeBaseId=kbId,\n",
    "        retrievalConfiguration= {\n",
    "            'vectorSearchConfiguration': {\n",
    "                'numberOfResults': numberOfResults,\n",
    "                'overrideSearchType': \"HYBRID\", # 하이브리드 검색\n",
    "            }\n",
    "        }\n",
    "    )\n",
    "\n",
    "# fetch context from the response\n",
    "def get_contexts(retrievalResults):\n",
    "    contexts = []\n",
    "    for retrievedResult in retrievalResults: \n",
    "        contexts.append(retrievedResult['content']['text'])\n",
    "    return contexts\n"
   ]
  },
  {
   "cell_type": "code",
   "execution_count": 6,
   "id": "87b8db59-8afb-4b86-bcb1-0bb9e36b7d07",
   "metadata": {},
   "outputs": [],
   "source": [
    "# 입력하는 VOC \n",
    "query = \"\"\"\n",
    "안녕하세요. 동물원 체험 프로그램에 대해 문의드립니다. 지난번 공지사항에 매주 토요일마다 동물 먹이주기 체험을 진행한다고 하셨는데, 모든 동물에게 해당되는 건가요? 기린이랑 코끼리만 먹이주기 체험을 하고 다른 동물들은 제외된다면 좀 아쉬울 것 같아요. 공지사항만 봐서는 모든 동물이 포함되는 것처럼 보였는데, 혹시 잘못 이해한 건 아닌지 확인 차 여쭤봅니다.\n",
    "모든 동물들에게 골고루 관심을 가져주셨으면 좋겠어요. 요즘 SNS에서 기린과 코끼리 위주로 홍보하시는 걸 보고 다른 동물 팬들이 많이 아쉬워하더라고요. 저도 그동안 다른 동물 팬들의 요청으로 민원을 자주 넣었지만, 이제는 그냥 구경만 하고 있어요.\n",
    "하지만 계속 특정 동물들만 홍보하신다면 팬들이 계속해서 불만을 제기할 것 같아요. 그래도 지난번 '펭귄의 날' 행사는 정말 좋았습니다. 앞으로도 다양한 동물들을 위한 행사 많이 해주세요. 늘 동물원 소식 전해주셔서 감사합니다. \n",
    "\"\"\"\n",
    "\n",
    "\n",
    "response = retrieve(query, kb_id, 10)\n",
    "retrievalResults = response['retrievalResults']\n",
    "contexts = get_contexts(retrievalResults)"
   ]
  },
  {
   "cell_type": "code",
   "execution_count": 7,
   "id": "070f5f7f-c1d4-4d91-a194-72221dc76e99",
   "metadata": {},
   "outputs": [],
   "source": [
    "# KB 검색 프롬프트 템플릿 정의\n",
    "\n",
    "prompt = f\"\"\"\n",
    "Human: 당신은 리조트 회사의 고객 서비스를 전문으로 하는 AI 어시스턴트입니다. 새로운 VOC(Voice of Customer)와 유사한 항목을 찾고, 관련 정보와 담당 부서를 제공하는 것이 당신의 임무입니다.\n",
    "다음의 맥락 정보를 사용하여 <question> 태그 안에 있는 질문에 답하세요. 맥락에는 이전 VOC 항목들의 \"질문내용\", \"답변내용\", \"담당 부서\" 등의 정보가 포함되어 있습니다.\n",
    "\n",
    "<context>\n",
    "{contexts}\n",
    "</context>\n",
    "\n",
    "<question>\n",
    "{query}\n",
    "</question>\n",
    "\n",
    "다음 형식으로 응답해 주세요:\n",
    "이러한 유형의 문의나 이슈를 처리하는 담당 부서 이름만 답변에 출력하세요.\n",
    "추가 설명이나 주석 없이 분류 단어만 작성해주세요.\n",
    "    \n",
    "예시 응답:\n",
    "리조트 주토피아운영그룹 동물보전1\n",
    "\n",
    "Assistant:\"\"\""
   ]
  },
  {
   "cell_type": "code",
   "execution_count": 13,
   "id": "80e834de-47c1-4a3e-bb2e-912c2adfc581",
   "metadata": {
    "tags": []
   },
   "outputs": [
    {
     "name": "stdout",
     "output_type": "stream",
     "text": [
      "리조트 주토피아운영그룹 운영지원\n",
      "CPU times: user 29.7 ms, sys: 7.49 ms, total: 37.2 ms\n",
      "Wall time: 2.89 s\n"
     ]
    }
   ],
   "source": [
    "%%time\n",
    "import json\n",
    "import boto3\n",
    "from botocore.config import Config\n",
    "\n",
    "# Cross-region inference를 위한 Bedrock 클라이언트 설정\n",
    "bedrock_runtime = boto3.client(\n",
    "    'bedrock-runtime',\n",
    "    region_name='ap-northeast-2',\n",
    "    config=Config(\n",
    "        retries=dict(\n",
    "            max_attempts=3,\n",
    "            mode='standard'\n",
    "        )\n",
    "    )\n",
    ")\n",
    "\n",
    "# 프롬프트 템플릿 포맷팅\n",
    "formatted_prompt = prompt.format(contexts=contexts, query=query)\n",
    "\n",
    "# Cross-Region (us-east-1 & us-west-2) inference 를 위한 modelID 설정 \n",
    "#region_name = 'us-east-1'\n",
    "#account_id = boto3.client('sts').get_caller_identity()['Account']\n",
    "#inference_profile_id = \"us.anthropic.claude-3-5-sonnet-20240620-v1:0\" # Claude 3.5 Sonnet v1 (Cross-region inference)\n",
    "#inference_profile_arn = f\"arn:aws:bedrock:{region_name}:{account_id}:inference-profile/{inference_profile_id}\"\n",
    "#print(inference_profile_arn)\n",
    "\n",
    "\n",
    "try:\n",
    "    # converse() 메서드를 위한 파라미터 설정\n",
    "    response = bedrock_runtime.converse(\n",
    "        #modelId = inference_profile_arn,  # Claude 3.5 Sonnet (Cross-region inference)\n",
    "        #modelId = 'anthropic.claude-3-sonnet-20240229-v1:0',  # Claude 3 Sonnet\n",
    "        modelId = 'anthropic.claude-3-5-sonnet-20240620-v1:0',  # Claude 3.5 Sonnet \n",
    "        messages=[\n",
    "            {\n",
    "                \"role\": \"user\",\n",
    "                \"content\": [{\"text\": formatted_prompt}]\n",
    "            }\n",
    "        ],\n",
    "        inferenceConfig={\n",
    "            \"maxTokens\": 4096,\n",
    "            \"temperature\": 0.0,\n",
    "            \"topP\": 0\n",
    "        }\n",
    "    )\n",
    "\n",
    "    # 응답 처리\n",
    "    if 'output' in response and 'message' in response['output']:\n",
    "        response_text = response['output']['message']['content'][0]['text']\n",
    "        print(response_text)\n",
    "    else:\n",
    "        print(\"응답 생성에 실패했습니다.\")\n",
    "\n",
    "except Exception as e:\n",
    "    print(f\"오류 발생: {str(e)}\")"
   ]
  },
  {
   "cell_type": "code",
   "execution_count": null,
   "id": "7b45ffcc-3fe8-4148-be2a-78a5b9eb57bf",
   "metadata": {},
   "outputs": [],
   "source": []
  }
 ],
 "metadata": {
  "kernelspec": {
   "display_name": "conda_python3",
   "language": "python",
   "name": "conda_python3"
  },
  "language_info": {
   "codemirror_mode": {
    "name": "ipython",
    "version": 3
   },
   "file_extension": ".py",
   "mimetype": "text/x-python",
   "name": "python",
   "nbconvert_exporter": "python",
   "pygments_lexer": "ipython3",
   "version": "3.10.14"
  }
 },
 "nbformat": 4,
 "nbformat_minor": 5
}
