{
 "cells": [
  {
   "cell_type": "markdown",
   "id": "327bf3d7-5539-406a-86a9-0bef908768da",
   "metadata": {},
   "source": [
    "# VOC 요약"
   ]
  },
  {
   "cell_type": "code",
   "execution_count": null,
   "id": "2e9bcab0-4561-4840-a175-9fc7f2a39d2d",
   "metadata": {},
   "outputs": [],
   "source": [
    "# 2024년 4월로 지정\n",
    "\n",
    "when = \"2024-04\"  # 2024년 4월\n",
    "\n"
   ]
  },
  {
   "cell_type": "code",
   "execution_count": 1,
   "id": "c638718f-f1bf-47aa-82bf-4f6a25411cc6",
   "metadata": {
    "tags": []
   },
   "outputs": [],
   "source": [
    "import time\n",
    "import pandas as pd\n",
    "import boto3\n",
    "from botocore.config import Config"
   ]
  },
  {
   "cell_type": "markdown",
   "id": "8f2112b4-61f2-44e6-98f0-1d11a6ebaa28",
   "metadata": {},
   "source": [
    "### VOC 파일(xlsx) 읽기"
   ]
  },
  {
   "cell_type": "code",
   "execution_count": 2,
   "id": "21685a7e-713b-49e4-a238-1a91f64b296b",
   "metadata": {
    "tags": []
   },
   "outputs": [],
   "source": [
    "def read_excel_sheets(file_path):\n",
    "    excel_file = pd.ExcelFile(file_path)\n",
    "    sheets = ['4월', '5월', '7월', '8월']\n",
    "    dataframes = {}\n",
    "    for sheet in sheets:\n",
    "        dataframes[sheet] = pd.read_excel(excel_file, sheet_name=sheet)\n",
    "    return dataframes\n",
    "\n",
    "file_path = './data/test.xlsx'\n",
    "dataframes = read_excel_sheets(file_path)\n",
    "\n",
    "df_4 = dataframes['4월']\n",
    "df_5 = dataframes['5월']\n",
    "df_7 = dataframes['7월']\n",
    "df_8 = dataframes['8월']"
   ]
  },
  {
   "cell_type": "markdown",
   "id": "9b270b32-9de8-4c87-89b0-6e7b3dc68cf8",
   "metadata": {},
   "source": [
    "### 요약 하려는 탭 (몇 월)에 대한 지정"
   ]
  },
  {
   "cell_type": "code",
   "execution_count": 23,
   "id": "6da634a2-69e9-4701-9b46-c9801be0f2c2",
   "metadata": {
    "tags": []
   },
   "outputs": [],
   "source": [
    "# 2024년 4월로 지정\n",
    "\n",
    "when = \"2024-04\"  # 2024년 4월\n",
    "df = df_4    # 4월 dataframe \n"
   ]
  },
  {
   "cell_type": "code",
   "execution_count": 24,
   "id": "8dce8ec3-78ed-4284-8529-c51318a9acdb",
   "metadata": {
    "tags": []
   },
   "outputs": [
    {
     "data": {
      "text/html": [
       "<div>\n",
       "<style scoped>\n",
       "    .dataframe tbody tr th:only-of-type {\n",
       "        vertical-align: middle;\n",
       "    }\n",
       "\n",
       "    .dataframe tbody tr th {\n",
       "        vertical-align: top;\n",
       "    }\n",
       "\n",
       "    .dataframe thead th {\n",
       "        text-align: right;\n",
       "    }\n",
       "</style>\n",
       "<table border=\"1\" class=\"dataframe\">\n",
       "  <thead>\n",
       "    <tr style=\"text-align: right;\">\n",
       "      <th></th>\n",
       "      <th>VOC_ID</th>\n",
       "      <th>담당 부서</th>\n",
       "      <th>사업 부문</th>\n",
       "      <th>답변채널</th>\n",
       "      <th>VOC유형</th>\n",
       "      <th>등록채널 유형</th>\n",
       "      <th>발생원인 유형</th>\n",
       "      <th>발생지 유형</th>\n",
       "      <th>처리기한 - 시/분</th>\n",
       "      <th>처리기한 - 일시</th>\n",
       "      <th>...</th>\n",
       "      <th>고객이 만족도 직접 회신여부</th>\n",
       "      <th>즉답처리 (I:등록, R:접수, N:일반)</th>\n",
       "      <th>질문내용</th>\n",
       "      <th>답변내용</th>\n",
       "      <th>개선관리ID</th>\n",
       "      <th>개선관리상태</th>\n",
       "      <th>사후처리유형</th>\n",
       "      <th>처리시간(시:분)</th>\n",
       "      <th>준수 여부</th>\n",
       "      <th>유형변경신청</th>\n",
       "    </tr>\n",
       "  </thead>\n",
       "  <tbody>\n",
       "    <tr>\n",
       "      <th>0</th>\n",
       "      <td>VOCS0000510819</td>\n",
       "      <td>리조트 B2C그룹</td>\n",
       "      <td>리조트</td>\n",
       "      <td>웹+메일</td>\n",
       "      <td>고객요구유형-제안사항</td>\n",
       "      <td>직접 VOC-모바일앱(APP)</td>\n",
       "      <td>규정 및 정책 -운영정책-패키지 상품</td>\n",
       "      <td>분류불가-발생지정보없음</td>\n",
       "      <td>48.0</td>\n",
       "      <td>20240404 090000</td>\n",
       "      <td>...</td>\n",
       "      <td>NaN</td>\n",
       "      <td>N</td>\n",
       "      <td>애가 셋인 다둥이 엄마입니다. 입장권 예매를 하려하는데 패키지 예매도 어른1 아이1...</td>\n",
       "      <td>안녕하세요 에버랜드 패키지 상품 담당자입니다.패키지 예매는 현재 2인 이상의 인원으...</td>\n",
       "      <td>NaN</td>\n",
       "      <td>NaN</td>\n",
       "      <td>NaN</td>\n",
       "      <td>10:0</td>\n",
       "      <td>준수</td>\n",
       "      <td>N</td>\n",
       "    </tr>\n",
       "    <tr>\n",
       "      <th>1</th>\n",
       "      <td>VOCS0000510814</td>\n",
       "      <td>리조트 파크서비스그룹 어트랙션B</td>\n",
       "      <td>리조트</td>\n",
       "      <td>내부처리</td>\n",
       "      <td>고객요구유형-칭찬격려</td>\n",
       "      <td>직접 VOC-QR코드</td>\n",
       "      <td>인적서비스-업무처리-응대스킬</td>\n",
       "      <td>주토피아-(어트랙션)사파리월드</td>\n",
       "      <td>48.0</td>\n",
       "      <td>20240404 090000</td>\n",
       "      <td>...</td>\n",
       "      <td>NaN</td>\n",
       "      <td>N</td>\n",
       "      <td>한국 호랑이,하이에나, 사자, 뱅갈 호랑이 곰 등 사파리에 있는 거의 모든 동물들의...</td>\n",
       "      <td>칭찬 사례 공유 및 해당 근무자 격려 하겠습니다.</td>\n",
       "      <td>NaN</td>\n",
       "      <td>NaN</td>\n",
       "      <td>NaN</td>\n",
       "      <td>14:50</td>\n",
       "      <td>준수</td>\n",
       "      <td>N</td>\n",
       "    </tr>\n",
       "    <tr>\n",
       "      <th>2</th>\n",
       "      <td>VOCS0000510817</td>\n",
       "      <td>리조트 MD그룹 운영지원</td>\n",
       "      <td>리조트</td>\n",
       "      <td>내부처리</td>\n",
       "      <td>고객요구유형-칭찬격려</td>\n",
       "      <td>직접 VOC-모바일앱(APP)</td>\n",
       "      <td>인적서비스-응대태도-배려</td>\n",
       "      <td>분류불가-발생지정보없음</td>\n",
       "      <td>48.0</td>\n",
       "      <td>20240404 090000</td>\n",
       "      <td>...</td>\n",
       "      <td>NaN</td>\n",
       "      <td>N</td>\n",
       "      <td>금일 가족과 함께 파크 입장 직후 풍선을 구매하러 방문했습니다.풍선끈이 아이 키보다...</td>\n",
       "      <td>메일 및 이캐비넷 게시를 통한 사례공유 및 격려</td>\n",
       "      <td>NaN</td>\n",
       "      <td>NaN</td>\n",
       "      <td>NaN</td>\n",
       "      <td>8:42</td>\n",
       "      <td>준수</td>\n",
       "      <td>N</td>\n",
       "    </tr>\n",
       "    <tr>\n",
       "      <th>3</th>\n",
       "      <td>VOCS0000510836</td>\n",
       "      <td>리조트 B2C그룹</td>\n",
       "      <td>리조트</td>\n",
       "      <td>웹+메일</td>\n",
       "      <td>고객요구유형-제안사항</td>\n",
       "      <td>직접 VOC-모바일앱(APP)</td>\n",
       "      <td>규정 및 정책 -운영정책-연간이용 프로모션/혜택</td>\n",
       "      <td>분류불가-발생지정보없음</td>\n",
       "      <td>48.0</td>\n",
       "      <td>20240404 101011</td>\n",
       "      <td>...</td>\n",
       "      <td>NaN</td>\n",
       "      <td>N</td>\n",
       "      <td>I am Japanese. I wish foreigners could also ma...</td>\n",
       "      <td>Hello, I'm the person in charge of Everland's ...</td>\n",
       "      <td>NaN</td>\n",
       "      <td>NaN</td>\n",
       "      <td>NaN</td>\n",
       "      <td>50:43</td>\n",
       "      <td>준수</td>\n",
       "      <td>N</td>\n",
       "    </tr>\n",
       "    <tr>\n",
       "      <th>4</th>\n",
       "      <td>VOCS0000510829</td>\n",
       "      <td>리조트 주토피아운영그룹 사파리</td>\n",
       "      <td>리조트</td>\n",
       "      <td>내부처리</td>\n",
       "      <td>고객요구유형-칭찬격려</td>\n",
       "      <td>직접 VOC-QR코드</td>\n",
       "      <td>인적서비스-업무처리-응대스킬</td>\n",
       "      <td>주토피아-(공연/전시)판다월드</td>\n",
       "      <td>48.0</td>\n",
       "      <td>20240404 102101</td>\n",
       "      <td>...</td>\n",
       "      <td>NaN</td>\n",
       "      <td>N</td>\n",
       "      <td>푸바오 관람으로 인해 사람이 아주 많을때도방사장내 질서정리를 정말 잘해주셔서 감사와...</td>\n",
       "      <td>해당 근무자 격려하겠습니다.고맙습니다.</td>\n",
       "      <td>NaN</td>\n",
       "      <td>NaN</td>\n",
       "      <td>NaN</td>\n",
       "      <td>24:40</td>\n",
       "      <td>준수</td>\n",
       "      <td>N</td>\n",
       "    </tr>\n",
       "    <tr>\n",
       "      <th>...</th>\n",
       "      <td>...</td>\n",
       "      <td>...</td>\n",
       "      <td>...</td>\n",
       "      <td>...</td>\n",
       "      <td>...</td>\n",
       "      <td>...</td>\n",
       "      <td>...</td>\n",
       "      <td>...</td>\n",
       "      <td>...</td>\n",
       "      <td>...</td>\n",
       "      <td>...</td>\n",
       "      <td>...</td>\n",
       "      <td>...</td>\n",
       "      <td>...</td>\n",
       "      <td>...</td>\n",
       "      <td>...</td>\n",
       "      <td>...</td>\n",
       "      <td>...</td>\n",
       "      <td>...</td>\n",
       "      <td>...</td>\n",
       "      <td>...</td>\n",
       "    </tr>\n",
       "    <tr>\n",
       "      <th>2383</th>\n",
       "      <td>VOCS0000515526</td>\n",
       "      <td>리조트 파크서비스그룹 어트랙션A</td>\n",
       "      <td>리조트</td>\n",
       "      <td>내부처리</td>\n",
       "      <td>고객요구유형-칭찬격려</td>\n",
       "      <td>직접 VOC-QR코드</td>\n",
       "      <td>인적서비스-응대태도-표정/자세/말투</td>\n",
       "      <td>유러피언어드벤처-(어트랙션)로얄쥬빌리캐로셀</td>\n",
       "      <td>48.0</td>\n",
       "      <td>20240504 090000</td>\n",
       "      <td>...</td>\n",
       "      <td>NaN</td>\n",
       "      <td>N</td>\n",
       "      <td>***  &amp; *** cast생일을 맞아 가족들과 10년만에 에버랜드에 방문을 했습니...</td>\n",
       "      <td>- VOC  내용 공유 및 해당캐스트 격려 실시</td>\n",
       "      <td>NaN</td>\n",
       "      <td>NaN</td>\n",
       "      <td>NaN</td>\n",
       "      <td>108:26</td>\n",
       "      <td>미준수</td>\n",
       "      <td>N</td>\n",
       "    </tr>\n",
       "    <tr>\n",
       "      <th>2384</th>\n",
       "      <td>VOCS0000515545</td>\n",
       "      <td>리조트 F&amp;B그룹 운영3</td>\n",
       "      <td>리조트</td>\n",
       "      <td>전화</td>\n",
       "      <td>고객요구유형-개선요청</td>\n",
       "      <td>직접 VOC-방문접수</td>\n",
       "      <td>인적서비스-업무처리-응대스킬</td>\n",
       "      <td>주토피아-(식당)가판매대</td>\n",
       "      <td>48.0</td>\n",
       "      <td>20240504 090000</td>\n",
       "      <td>...</td>\n",
       "      <td>NaN</td>\n",
       "      <td>NaN</td>\n",
       "      <td>4/30(화) 로스트밸리 앞쪽에 01가판대에서 17:03 딸기 젤라또 구매후 영수증...</td>\n",
       "      <td>NaN</td>\n",
       "      <td>NaN</td>\n",
       "      <td>NaN</td>\n",
       "      <td>NaN</td>\n",
       "      <td>58:25</td>\n",
       "      <td>준수</td>\n",
       "      <td>N</td>\n",
       "    </tr>\n",
       "    <tr>\n",
       "      <th>2385</th>\n",
       "      <td>VOCS0000515529</td>\n",
       "      <td>리조트 파크서비스그룹 어트랙션A</td>\n",
       "      <td>리조트</td>\n",
       "      <td>내부처리</td>\n",
       "      <td>고객요구유형-칭찬격려</td>\n",
       "      <td>직접 VOC-QR코드</td>\n",
       "      <td>인적서비스-응대태도-표정/자세/말투</td>\n",
       "      <td>아메리칸어드벤처-(어트랙션)허리케인</td>\n",
       "      <td>48.0</td>\n",
       "      <td>20240504 090000</td>\n",
       "      <td>...</td>\n",
       "      <td>NaN</td>\n",
       "      <td>N</td>\n",
       "      <td>당일 마지막으로 탔습니다. 마지막까지 텐션 높게 게스트 좋은 기억으로 채워줄 수 있...</td>\n",
       "      <td>해당 내용 공유 및 격려하겠습니다.</td>\n",
       "      <td>NaN</td>\n",
       "      <td>NaN</td>\n",
       "      <td>NaN</td>\n",
       "      <td>16:56</td>\n",
       "      <td>준수</td>\n",
       "      <td>N</td>\n",
       "    </tr>\n",
       "    <tr>\n",
       "      <th>2386</th>\n",
       "      <td>VOCS0000515530</td>\n",
       "      <td>리조트 MD그룹 운영지원</td>\n",
       "      <td>리조트</td>\n",
       "      <td>내부처리</td>\n",
       "      <td>고객요구유형-칭찬격려</td>\n",
       "      <td>직접 VOC-QR코드</td>\n",
       "      <td>인적서비스-응대태도-표정/자세/말투</td>\n",
       "      <td>주토피아-(상품점)아마존샵</td>\n",
       "      <td>48.0</td>\n",
       "      <td>20240504 090000</td>\n",
       "      <td>...</td>\n",
       "      <td>NaN</td>\n",
       "      <td>N</td>\n",
       "      <td>아마존샵 노*** 캐스터분이 너무 친절하시게 도와주셔서 글 남겨요.바쁘신 와중에도 ...</td>\n",
       "      <td>메일 및 이캐비넷 게시를 통한 사례공유 및 격려</td>\n",
       "      <td>NaN</td>\n",
       "      <td>NaN</td>\n",
       "      <td>NaN</td>\n",
       "      <td>17:38</td>\n",
       "      <td>준수</td>\n",
       "      <td>N</td>\n",
       "    </tr>\n",
       "    <tr>\n",
       "      <th>2387</th>\n",
       "      <td>VOCS0000515546</td>\n",
       "      <td>리조트 B2C그룹</td>\n",
       "      <td>리조트</td>\n",
       "      <td>웹+메일</td>\n",
       "      <td>고객요구유형-제안사항</td>\n",
       "      <td>직접 VOC-모바일앱(APP)</td>\n",
       "      <td>규정 및 정책 -운영정책-비해피 프로그램</td>\n",
       "      <td>분류불가-발생지정보없음</td>\n",
       "      <td>48.0</td>\n",
       "      <td>20240504 090000</td>\n",
       "      <td>...</td>\n",
       "      <td>NaN</td>\n",
       "      <td>N</td>\n",
       "      <td>작년 에버랜드 첫방문에서 폭우로 퍼레이드를 못보고 나와서 아쉬웠는데 재방문권을 보내...</td>\n",
       "      <td>비 해피 프로그램 안내 게시물 및 이용권 쿠폰에 B, C 구간에 대해 좀 더 쉽게 ...</td>\n",
       "      <td>NaN</td>\n",
       "      <td>NaN</td>\n",
       "      <td>NaN</td>\n",
       "      <td>38:37</td>\n",
       "      <td>준수</td>\n",
       "      <td>N</td>\n",
       "    </tr>\n",
       "  </tbody>\n",
       "</table>\n",
       "<p>2388 rows × 30 columns</p>\n",
       "</div>"
      ],
      "text/plain": [
       "              VOC_ID              담당 부서        사업 부문  답변채널        VOC유형  \\\n",
       "0     VOCS0000510819          리조트 B2C그룹  리조트          웹+메일  고객요구유형-제안사항   \n",
       "1     VOCS0000510814  리조트 파크서비스그룹 어트랙션B  리조트          내부처리  고객요구유형-칭찬격려   \n",
       "2     VOCS0000510817      리조트 MD그룹 운영지원  리조트          내부처리  고객요구유형-칭찬격려   \n",
       "3     VOCS0000510836          리조트 B2C그룹  리조트          웹+메일  고객요구유형-제안사항   \n",
       "4     VOCS0000510829   리조트 주토피아운영그룹 사파리  리조트          내부처리  고객요구유형-칭찬격려   \n",
       "...              ...                ...          ...   ...          ...   \n",
       "2383  VOCS0000515526  리조트 파크서비스그룹 어트랙션A  리조트          내부처리  고객요구유형-칭찬격려   \n",
       "2384  VOCS0000515545      리조트 F&B그룹 운영3  리조트            전화  고객요구유형-개선요청   \n",
       "2385  VOCS0000515529  리조트 파크서비스그룹 어트랙션A  리조트          내부처리  고객요구유형-칭찬격려   \n",
       "2386  VOCS0000515530      리조트 MD그룹 운영지원  리조트          내부처리  고객요구유형-칭찬격려   \n",
       "2387  VOCS0000515546          리조트 B2C그룹  리조트          웹+메일  고객요구유형-제안사항   \n",
       "\n",
       "               등록채널 유형                     발생원인 유형                   발생지 유형  \\\n",
       "0     직접 VOC-모바일앱(APP)        규정 및 정책 -운영정책-패키지 상품             분류불가-발생지정보없음   \n",
       "1          직접 VOC-QR코드             인적서비스-업무처리-응대스킬         주토피아-(어트랙션)사파리월드   \n",
       "2     직접 VOC-모바일앱(APP)               인적서비스-응대태도-배려             분류불가-발생지정보없음   \n",
       "3     직접 VOC-모바일앱(APP)  규정 및 정책 -운영정책-연간이용 프로모션/혜택             분류불가-발생지정보없음   \n",
       "4          직접 VOC-QR코드             인적서비스-업무처리-응대스킬         주토피아-(공연/전시)판다월드   \n",
       "...                ...                         ...                      ...   \n",
       "2383       직접 VOC-QR코드         인적서비스-응대태도-표정/자세/말투  유러피언어드벤처-(어트랙션)로얄쥬빌리캐로셀   \n",
       "2384       직접 VOC-방문접수             인적서비스-업무처리-응대스킬            주토피아-(식당)가판매대   \n",
       "2385       직접 VOC-QR코드         인적서비스-응대태도-표정/자세/말투      아메리칸어드벤처-(어트랙션)허리케인   \n",
       "2386       직접 VOC-QR코드         인적서비스-응대태도-표정/자세/말투           주토피아-(상품점)아마존샵   \n",
       "2387  직접 VOC-모바일앱(APP)      규정 및 정책 -운영정책-비해피 프로그램             분류불가-발생지정보없음   \n",
       "\n",
       "      처리기한 - 시/분        처리기한 - 일시  ... 고객이 만족도 직접 회신여부  \\\n",
       "0           48.0  20240404 090000  ...             NaN   \n",
       "1           48.0  20240404 090000  ...             NaN   \n",
       "2           48.0  20240404 090000  ...             NaN   \n",
       "3           48.0  20240404 101011  ...             NaN   \n",
       "4           48.0  20240404 102101  ...             NaN   \n",
       "...          ...              ...  ...             ...   \n",
       "2383        48.0  20240504 090000  ...             NaN   \n",
       "2384        48.0  20240504 090000  ...             NaN   \n",
       "2385        48.0  20240504 090000  ...             NaN   \n",
       "2386        48.0  20240504 090000  ...             NaN   \n",
       "2387        48.0  20240504 090000  ...             NaN   \n",
       "\n",
       "     즉답처리 (I:등록, R:접수, N:일반)  \\\n",
       "0                          N   \n",
       "1                          N   \n",
       "2                          N   \n",
       "3                          N   \n",
       "4                          N   \n",
       "...                      ...   \n",
       "2383                       N   \n",
       "2384                     NaN   \n",
       "2385                       N   \n",
       "2386                       N   \n",
       "2387                       N   \n",
       "\n",
       "                                                   질문내용  \\\n",
       "0     애가 셋인 다둥이 엄마입니다. 입장권 예매를 하려하는데 패키지 예매도 어른1 아이1...   \n",
       "1     한국 호랑이,하이에나, 사자, 뱅갈 호랑이 곰 등 사파리에 있는 거의 모든 동물들의...   \n",
       "2     금일 가족과 함께 파크 입장 직후 풍선을 구매하러 방문했습니다.풍선끈이 아이 키보다...   \n",
       "3     I am Japanese. I wish foreigners could also ma...   \n",
       "4     푸바오 관람으로 인해 사람이 아주 많을때도방사장내 질서정리를 정말 잘해주셔서 감사와...   \n",
       "...                                                 ...   \n",
       "2383  ***  & *** cast생일을 맞아 가족들과 10년만에 에버랜드에 방문을 했습니...   \n",
       "2384  4/30(화) 로스트밸리 앞쪽에 01가판대에서 17:03 딸기 젤라또 구매후 영수증...   \n",
       "2385  당일 마지막으로 탔습니다. 마지막까지 텐션 높게 게스트 좋은 기억으로 채워줄 수 있...   \n",
       "2386  아마존샵 노*** 캐스터분이 너무 친절하시게 도와주셔서 글 남겨요.바쁘신 와중에도 ...   \n",
       "2387  작년 에버랜드 첫방문에서 폭우로 퍼레이드를 못보고 나와서 아쉬웠는데 재방문권을 보내...   \n",
       "\n",
       "                                                   답변내용 개선관리ID 개선관리상태 사후처리유형  \\\n",
       "0     안녕하세요 에버랜드 패키지 상품 담당자입니다.패키지 예매는 현재 2인 이상의 인원으...    NaN    NaN    NaN   \n",
       "1                           칭찬 사례 공유 및 해당 근무자 격려 하겠습니다.    NaN    NaN    NaN   \n",
       "2                            메일 및 이캐비넷 게시를 통한 사례공유 및 격려    NaN    NaN    NaN   \n",
       "3     Hello, I'm the person in charge of Everland's ...    NaN    NaN    NaN   \n",
       "4                                 해당 근무자 격려하겠습니다.고맙습니다.    NaN    NaN    NaN   \n",
       "...                                                 ...    ...    ...    ...   \n",
       "2383                         - VOC  내용 공유 및 해당캐스트 격려 실시    NaN    NaN    NaN   \n",
       "2384                                                NaN    NaN    NaN    NaN   \n",
       "2385                                해당 내용 공유 및 격려하겠습니다.    NaN    NaN    NaN   \n",
       "2386                         메일 및 이캐비넷 게시를 통한 사례공유 및 격려    NaN    NaN    NaN   \n",
       "2387  비 해피 프로그램 안내 게시물 및 이용권 쿠폰에 B, C 구간에 대해 좀 더 쉽게 ...    NaN    NaN    NaN   \n",
       "\n",
       "     처리시간(시:분) 준수 여부 유형변경신청  \n",
       "0         10:0    준수      N  \n",
       "1        14:50    준수      N  \n",
       "2         8:42    준수      N  \n",
       "3        50:43    준수      N  \n",
       "4        24:40    준수      N  \n",
       "...        ...   ...    ...  \n",
       "2383    108:26   미준수      N  \n",
       "2384     58:25    준수      N  \n",
       "2385     16:56    준수      N  \n",
       "2386     17:38    준수      N  \n",
       "2387     38:37    준수      N  \n",
       "\n",
       "[2388 rows x 30 columns]"
      ]
     },
     "execution_count": 24,
     "metadata": {},
     "output_type": "execute_result"
    }
   ],
   "source": [
    "df"
   ]
  },
  {
   "cell_type": "markdown",
   "id": "f74a7eee-f539-4606-b265-6a9c4992a192",
   "metadata": {},
   "source": [
    "### Bedrock 설정"
   ]
  },
  {
   "cell_type": "code",
   "execution_count": 4,
   "id": "43eb6553-b77a-4919-ac90-4c0ca4b8c386",
   "metadata": {
    "tags": []
   },
   "outputs": [],
   "source": [
    "bedrock_runtime = boto3.client(\n",
    "    service_name='bedrock-runtime',\n",
    "    region_name='us-east-1',  # 사용하는 리전에 맞게 변경\n",
    "    config=Config(\n",
    "        retries={'max_attempts': 3, 'mode': 'standard'}\n",
    "    )\n",
    ")"
   ]
  },
  {
   "cell_type": "markdown",
   "id": "95076da3-a9fd-4d7a-920f-680176bfc337",
   "metadata": {},
   "source": [
    "### 요약 함수 정의"
   ]
  },
  {
   "cell_type": "code",
   "execution_count": 5,
   "id": "fc0325a7-f84a-4456-b789-cc7d3d70fa9b",
   "metadata": {
    "tags": []
   },
   "outputs": [],
   "source": [
    "def summarize_text(text):\n",
    "    prompt = f\"\"\"다음 텍스트를 요약해주세요. 공통적인 내용들은 묶고, 하이라이트 위주로 요약해주세요:\n",
    "\n",
    "{text}\n",
    "\n",
    "요약:\"\"\"\n",
    "\n",
    "    response = bedrock_runtime.converse(\n",
    "        # modelId=\"anthropic.claude-3-sonnet-20240229-v1:0\",   ## Claude 3 Sonnet\n",
    "        modelId=\"anthropic.claude-3-haiku-20240307-v1:0\",    ## Claude 3 Haiku\n",
    "        messages=[\n",
    "            {\n",
    "                \"role\": \"user\",\n",
    "                \"content\": [{\"text\": prompt}]\n",
    "            }\n",
    "        ],\n",
    "        inferenceConfig={\n",
    "            \"maxTokens\": 4096,\n",
    "            \"temperature\": 0.7,\n",
    "            \"topP\": 1\n",
    "        }\n",
    "    )\n",
    "    \n",
    "    # 응답 구조에 따라 텍스트 추출\n",
    "    if 'output' in response and 'message' in response['output']:\n",
    "        return response['output']['message']['content'][0]['text']\n",
    "    else:\n",
    "        # 응답 구조가 예상과 다를 경우 전체 응답 반환\n",
    "        return str(response)"
   ]
  },
  {
   "cell_type": "markdown",
   "id": "83ec473b-9771-4d18-be29-6d72da12aa2c",
   "metadata": {},
   "source": [
    "### 데이터 요약 및 결과 저장"
   ]
  },
  {
   "cell_type": "code",
   "execution_count": 6,
   "id": "6d1a6097-6874-4454-8482-367a485fee43",
   "metadata": {
    "tags": []
   },
   "outputs": [],
   "source": [
    "#df_summary = df['질문내용'].apply(summarize_text)"
   ]
  },
  {
   "cell_type": "code",
   "execution_count": 7,
   "id": "8605a83b-5c4f-4a0a-9712-8f7e35c0915d",
   "metadata": {
    "collapsed": true,
    "jupyter": {
     "outputs_hidden": true
    },
    "tags": []
   },
   "outputs": [
    {
     "name": "stderr",
     "output_type": "stream",
     "text": [
      "요약 진행 중:   0%|          | 0/2388 [00:00<?, ?it/s]"
     ]
    },
    {
     "name": "stdout",
     "output_type": "stream",
     "text": [
      "1/2388 행 요약 완료\n"
     ]
    },
    {
     "name": "stderr",
     "output_type": "stream",
     "text": [
      "요약 진행 중:   0%|          | 1/2388 [00:02<1:47:40,  2.71s/it]"
     ]
    },
    {
     "name": "stdout",
     "output_type": "stream",
     "text": [
      "2/2388 행 요약 완료\n"
     ]
    },
    {
     "name": "stderr",
     "output_type": "stream",
     "text": [
      "요약 진행 중:   0%|          | 2/2388 [00:04<1:27:11,  2.19s/it]"
     ]
    },
    {
     "name": "stdout",
     "output_type": "stream",
     "text": [
      "3/2388 행 요약 완료\n"
     ]
    },
    {
     "name": "stderr",
     "output_type": "stream",
     "text": [
      "요약 진행 중:   0%|          | 3/2388 [00:08<1:51:26,  2.80s/it]"
     ]
    },
    {
     "name": "stdout",
     "output_type": "stream",
     "text": [
      "4/2388 행 요약 완료\n"
     ]
    },
    {
     "name": "stderr",
     "output_type": "stream",
     "text": [
      "요약 진행 중:   0%|          | 4/2388 [00:09<1:28:30,  2.23s/it]"
     ]
    },
    {
     "name": "stdout",
     "output_type": "stream",
     "text": [
      "5/2388 행 요약 완료\n"
     ]
    },
    {
     "name": "stderr",
     "output_type": "stream",
     "text": [
      "요약 진행 중:   0%|          | 5/2388 [00:13<1:52:50,  2.84s/it]"
     ]
    },
    {
     "name": "stdout",
     "output_type": "stream",
     "text": [
      "6/2388 행 요약 완료\n"
     ]
    },
    {
     "name": "stderr",
     "output_type": "stream",
     "text": [
      "요약 진행 중:   0%|          | 6/2388 [00:16<1:55:20,  2.91s/it]"
     ]
    },
    {
     "name": "stdout",
     "output_type": "stream",
     "text": [
      "7/2388 행 요약 완료\n"
     ]
    },
    {
     "name": "stderr",
     "output_type": "stream",
     "text": [
      "요약 진행 중:   0%|          | 7/2388 [00:19<2:01:24,  3.06s/it]"
     ]
    },
    {
     "name": "stdout",
     "output_type": "stream",
     "text": [
      "8/2388 행 요약 완료\n"
     ]
    },
    {
     "name": "stderr",
     "output_type": "stream",
     "text": [
      "요약 진행 중:   0%|          | 8/2388 [00:21<1:41:50,  2.57s/it]"
     ]
    },
    {
     "name": "stdout",
     "output_type": "stream",
     "text": [
      "9/2388 행 요약 완료\n"
     ]
    },
    {
     "name": "stderr",
     "output_type": "stream",
     "text": [
      "요약 진행 중:   0%|          | 9/2388 [00:24<1:49:33,  2.76s/it]"
     ]
    },
    {
     "name": "stdout",
     "output_type": "stream",
     "text": [
      "10/2388 행 요약 완료\n"
     ]
    },
    {
     "name": "stderr",
     "output_type": "stream",
     "text": [
      "요약 진행 중:   0%|          | 10/2388 [00:27<1:55:55,  2.93s/it]"
     ]
    },
    {
     "name": "stdout",
     "output_type": "stream",
     "text": [
      "11/2388 행 요약 완료\n"
     ]
    },
    {
     "name": "stderr",
     "output_type": "stream",
     "text": [
      "요약 진행 중:   0%|          | 11/2388 [00:28<1:34:05,  2.38s/it]"
     ]
    },
    {
     "name": "stdout",
     "output_type": "stream",
     "text": [
      "12/2388 행 요약 완료\n"
     ]
    },
    {
     "name": "stderr",
     "output_type": "stream",
     "text": [
      "요약 진행 중:   1%|          | 12/2388 [00:30<1:21:07,  2.05s/it]"
     ]
    },
    {
     "name": "stdout",
     "output_type": "stream",
     "text": [
      "13/2388 행 요약 완료\n"
     ]
    },
    {
     "name": "stderr",
     "output_type": "stream",
     "text": [
      "요약 진행 중:   1%|          | 13/2388 [00:33<1:40:22,  2.54s/it]"
     ]
    },
    {
     "name": "stdout",
     "output_type": "stream",
     "text": [
      "14/2388 행 요약 완료\n"
     ]
    },
    {
     "name": "stderr",
     "output_type": "stream",
     "text": [
      "요약 진행 중:   1%|          | 14/2388 [00:36<1:44:13,  2.63s/it]"
     ]
    },
    {
     "name": "stdout",
     "output_type": "stream",
     "text": [
      "15/2388 행 요약 완료\n"
     ]
    },
    {
     "name": "stderr",
     "output_type": "stream",
     "text": [
      "요약 진행 중:   1%|          | 15/2388 [00:38<1:37:25,  2.46s/it]"
     ]
    },
    {
     "name": "stdout",
     "output_type": "stream",
     "text": [
      "16/2388 행 요약 완료\n"
     ]
    },
    {
     "name": "stderr",
     "output_type": "stream",
     "text": [
      "요약 진행 중:   1%|          | 16/2388 [00:41<1:40:50,  2.55s/it]"
     ]
    },
    {
     "name": "stdout",
     "output_type": "stream",
     "text": [
      "17/2388 행 요약 완료\n"
     ]
    },
    {
     "name": "stderr",
     "output_type": "stream",
     "text": [
      "요약 진행 중:   1%|          | 17/2388 [00:46<2:06:27,  3.20s/it]"
     ]
    },
    {
     "name": "stdout",
     "output_type": "stream",
     "text": [
      "18/2388 행 요약 완료\n"
     ]
    },
    {
     "name": "stderr",
     "output_type": "stream",
     "text": [
      "요약 진행 중:   1%|          | 18/2388 [00:47<1:49:06,  2.76s/it]"
     ]
    },
    {
     "name": "stdout",
     "output_type": "stream",
     "text": [
      "19/2388 행 요약 완료\n"
     ]
    },
    {
     "name": "stderr",
     "output_type": "stream",
     "text": [
      "요약 진행 중:   1%|          | 19/2388 [00:49<1:35:57,  2.43s/it]"
     ]
    },
    {
     "name": "stdout",
     "output_type": "stream",
     "text": [
      "20/2388 행 요약 완료\n"
     ]
    },
    {
     "name": "stderr",
     "output_type": "stream",
     "text": [
      "요약 진행 중:   1%|          | 20/2388 [00:51<1:26:45,  2.20s/it]"
     ]
    },
    {
     "name": "stdout",
     "output_type": "stream",
     "text": [
      "21/2388 행 요약 완료\n"
     ]
    },
    {
     "name": "stderr",
     "output_type": "stream",
     "text": [
      "요약 진행 중:   1%|          | 21/2388 [00:52<1:15:17,  1.91s/it]"
     ]
    },
    {
     "name": "stdout",
     "output_type": "stream",
     "text": [
      "22/2388 행 요약 완료\n"
     ]
    },
    {
     "name": "stderr",
     "output_type": "stream",
     "text": [
      "요약 진행 중:   1%|          | 22/2388 [00:54<1:11:55,  1.82s/it]"
     ]
    },
    {
     "name": "stdout",
     "output_type": "stream",
     "text": [
      "23/2388 행 요약 완료\n"
     ]
    },
    {
     "name": "stderr",
     "output_type": "stream",
     "text": [
      "요약 진행 중:   1%|          | 23/2388 [00:55<1:11:25,  1.81s/it]"
     ]
    },
    {
     "name": "stdout",
     "output_type": "stream",
     "text": [
      "24/2388 행 요약 완료\n"
     ]
    },
    {
     "name": "stderr",
     "output_type": "stream",
     "text": [
      "요약 진행 중:   1%|          | 24/2388 [00:57<1:05:11,  1.65s/it]"
     ]
    },
    {
     "name": "stdout",
     "output_type": "stream",
     "text": [
      "25/2388 행 요약 완료\n"
     ]
    },
    {
     "name": "stderr",
     "output_type": "stream",
     "text": [
      "요약 진행 중:   1%|          | 25/2388 [00:58<1:06:15,  1.68s/it]"
     ]
    },
    {
     "name": "stdout",
     "output_type": "stream",
     "text": [
      "26/2388 행 요약 완료\n"
     ]
    },
    {
     "name": "stderr",
     "output_type": "stream",
     "text": [
      "요약 진행 중:   1%|          | 26/2388 [01:00<1:05:02,  1.65s/it]"
     ]
    },
    {
     "name": "stdout",
     "output_type": "stream",
     "text": [
      "27/2388 행 요약 완료\n"
     ]
    },
    {
     "name": "stderr",
     "output_type": "stream",
     "text": [
      "요약 진행 중:   1%|          | 27/2388 [01:02<1:10:35,  1.79s/it]"
     ]
    },
    {
     "name": "stdout",
     "output_type": "stream",
     "text": [
      "28/2388 행 요약 완료\n"
     ]
    },
    {
     "name": "stderr",
     "output_type": "stream",
     "text": [
      "요약 진행 중:   1%|          | 28/2388 [01:05<1:28:22,  2.25s/it]"
     ]
    },
    {
     "name": "stdout",
     "output_type": "stream",
     "text": [
      "29/2388 행 요약 완료\n"
     ]
    },
    {
     "name": "stderr",
     "output_type": "stream",
     "text": [
      "요약 진행 중:   1%|          | 29/2388 [01:10<1:53:44,  2.89s/it]"
     ]
    },
    {
     "name": "stdout",
     "output_type": "stream",
     "text": [
      "30/2388 행 요약 완료\n"
     ]
    },
    {
     "name": "stderr",
     "output_type": "stream",
     "text": [
      "요약 진행 중:   1%|▏         | 30/2388 [01:11<1:38:13,  2.50s/it]"
     ]
    },
    {
     "name": "stdout",
     "output_type": "stream",
     "text": [
      "31/2388 행 요약 완료\n"
     ]
    },
    {
     "name": "stderr",
     "output_type": "stream",
     "text": [
      "요약 진행 중:   1%|▏         | 31/2388 [01:14<1:33:51,  2.39s/it]"
     ]
    },
    {
     "name": "stdout",
     "output_type": "stream",
     "text": [
      "32/2388 행 요약 완료\n"
     ]
    },
    {
     "name": "stderr",
     "output_type": "stream",
     "text": [
      "요약 진행 중:   1%|▏         | 32/2388 [01:15<1:24:43,  2.16s/it]"
     ]
    },
    {
     "name": "stdout",
     "output_type": "stream",
     "text": [
      "33/2388 행 요약 완료\n"
     ]
    },
    {
     "name": "stderr",
     "output_type": "stream",
     "text": [
      "요약 진행 중:   1%|▏         | 33/2388 [01:16<1:13:45,  1.88s/it]"
     ]
    },
    {
     "name": "stdout",
     "output_type": "stream",
     "text": [
      "34/2388 행 요약 완료\n"
     ]
    },
    {
     "name": "stderr",
     "output_type": "stream",
     "text": [
      "요약 진행 중:   1%|▏         | 34/2388 [01:18<1:15:26,  1.92s/it]"
     ]
    },
    {
     "name": "stdout",
     "output_type": "stream",
     "text": [
      "35/2388 행 요약 완료\n"
     ]
    },
    {
     "name": "stderr",
     "output_type": "stream",
     "text": [
      "요약 진행 중:   1%|▏         | 35/2388 [01:20<1:08:07,  1.74s/it]"
     ]
    },
    {
     "name": "stdout",
     "output_type": "stream",
     "text": [
      "36/2388 행 요약 완료\n"
     ]
    },
    {
     "name": "stderr",
     "output_type": "stream",
     "text": [
      "요약 진행 중:   2%|▏         | 36/2388 [01:21<1:00:34,  1.55s/it]"
     ]
    },
    {
     "name": "stdout",
     "output_type": "stream",
     "text": [
      "37/2388 행 요약 완료\n"
     ]
    },
    {
     "name": "stderr",
     "output_type": "stream",
     "text": [
      "요약 진행 중:   2%|▏         | 37/2388 [01:24<1:16:28,  1.95s/it]"
     ]
    },
    {
     "name": "stdout",
     "output_type": "stream",
     "text": [
      "38/2388 행 요약 완료\n"
     ]
    },
    {
     "name": "stderr",
     "output_type": "stream",
     "text": [
      "요약 진행 중:   2%|▏         | 38/2388 [01:27<1:34:19,  2.41s/it]"
     ]
    },
    {
     "name": "stdout",
     "output_type": "stream",
     "text": [
      "39/2388 행 요약 완료\n"
     ]
    },
    {
     "name": "stderr",
     "output_type": "stream",
     "text": [
      "요약 진행 중:   2%|▏         | 39/2388 [01:28<1:20:36,  2.06s/it]"
     ]
    },
    {
     "name": "stdout",
     "output_type": "stream",
     "text": [
      "40/2388 행 요약 완료\n"
     ]
    },
    {
     "name": "stderr",
     "output_type": "stream",
     "text": [
      "요약 진행 중:   2%|▏         | 40/2388 [01:30<1:13:33,  1.88s/it]"
     ]
    },
    {
     "name": "stdout",
     "output_type": "stream",
     "text": [
      "41/2388 행 요약 완료\n"
     ]
    },
    {
     "name": "stderr",
     "output_type": "stream",
     "text": [
      "요약 진행 중:   2%|▏         | 41/2388 [01:33<1:22:18,  2.10s/it]"
     ]
    },
    {
     "name": "stdout",
     "output_type": "stream",
     "text": [
      "42/2388 행 요약 완료\n"
     ]
    },
    {
     "name": "stderr",
     "output_type": "stream",
     "text": [
      "요약 진행 중:   2%|▏         | 42/2388 [01:36<1:42:37,  2.62s/it]"
     ]
    },
    {
     "name": "stdout",
     "output_type": "stream",
     "text": [
      "43/2388 행 요약 완료\n"
     ]
    },
    {
     "name": "stderr",
     "output_type": "stream",
     "text": [
      "요약 진행 중:   2%|▏         | 43/2388 [01:38<1:25:18,  2.18s/it]"
     ]
    },
    {
     "name": "stdout",
     "output_type": "stream",
     "text": [
      "44/2388 행 요약 완료\n"
     ]
    },
    {
     "name": "stderr",
     "output_type": "stream",
     "text": [
      "요약 진행 중:   2%|▏         | 44/2388 [01:39<1:13:56,  1.89s/it]"
     ]
    },
    {
     "name": "stdout",
     "output_type": "stream",
     "text": [
      "45/2388 행 요약 완료\n"
     ]
    },
    {
     "name": "stderr",
     "output_type": "stream",
     "text": [
      "요약 진행 중:   2%|▏         | 45/2388 [01:41<1:18:57,  2.02s/it]"
     ]
    },
    {
     "name": "stdout",
     "output_type": "stream",
     "text": [
      "46/2388 행 요약 완료\n"
     ]
    },
    {
     "name": "stderr",
     "output_type": "stream",
     "text": [
      "요약 진행 중:   2%|▏         | 46/2388 [01:44<1:31:27,  2.34s/it]"
     ]
    },
    {
     "name": "stdout",
     "output_type": "stream",
     "text": [
      "47/2388 행 요약 완료\n"
     ]
    },
    {
     "name": "stderr",
     "output_type": "stream",
     "text": [
      "요약 진행 중:   2%|▏         | 47/2388 [01:47<1:35:15,  2.44s/it]"
     ]
    },
    {
     "name": "stdout",
     "output_type": "stream",
     "text": [
      "48/2388 행 요약 완료\n"
     ]
    },
    {
     "name": "stderr",
     "output_type": "stream",
     "text": [
      "요약 진행 중:   2%|▏         | 48/2388 [01:48<1:23:09,  2.13s/it]"
     ]
    },
    {
     "name": "stdout",
     "output_type": "stream",
     "text": [
      "49/2388 행 요약 완료\n"
     ]
    },
    {
     "name": "stderr",
     "output_type": "stream",
     "text": [
      "요약 진행 중:   2%|▏         | 49/2388 [01:50<1:15:13,  1.93s/it]"
     ]
    },
    {
     "name": "stdout",
     "output_type": "stream",
     "text": [
      "50/2388 행 요약 완료\n"
     ]
    },
    {
     "name": "stderr",
     "output_type": "stream",
     "text": [
      "요약 진행 중:   2%|▏         | 50/2388 [01:52<1:17:59,  2.00s/it]"
     ]
    },
    {
     "name": "stdout",
     "output_type": "stream",
     "text": [
      "51/2388 행 요약 완료\n"
     ]
    },
    {
     "name": "stderr",
     "output_type": "stream",
     "text": [
      "요약 진행 중:   2%|▏         | 51/2388 [01:53<1:12:05,  1.85s/it]"
     ]
    },
    {
     "name": "stdout",
     "output_type": "stream",
     "text": [
      "52/2388 행 요약 완료\n"
     ]
    },
    {
     "name": "stderr",
     "output_type": "stream",
     "text": [
      "요약 진행 중:   2%|▏         | 52/2388 [01:55<1:07:45,  1.74s/it]"
     ]
    },
    {
     "name": "stdout",
     "output_type": "stream",
     "text": [
      "53/2388 행 요약 완료\n"
     ]
    },
    {
     "name": "stderr",
     "output_type": "stream",
     "text": [
      "요약 진행 중:   2%|▏         | 53/2388 [01:58<1:24:33,  2.17s/it]"
     ]
    },
    {
     "name": "stdout",
     "output_type": "stream",
     "text": [
      "54/2388 행 요약 완료\n"
     ]
    },
    {
     "name": "stderr",
     "output_type": "stream",
     "text": [
      "요약 진행 중:   2%|▏         | 54/2388 [01:59<1:14:51,  1.92s/it]"
     ]
    },
    {
     "name": "stdout",
     "output_type": "stream",
     "text": [
      "55/2388 행 요약 완료\n"
     ]
    },
    {
     "name": "stderr",
     "output_type": "stream",
     "text": [
      "요약 진행 중:   2%|▏         | 55/2388 [02:01<1:05:45,  1.69s/it]"
     ]
    },
    {
     "name": "stdout",
     "output_type": "stream",
     "text": [
      "56/2388 행 요약 완료\n"
     ]
    },
    {
     "name": "stderr",
     "output_type": "stream",
     "text": [
      "요약 진행 중:   2%|▏         | 56/2388 [02:02<1:03:45,  1.64s/it]"
     ]
    },
    {
     "name": "stdout",
     "output_type": "stream",
     "text": [
      "57/2388 행 요약 완료\n"
     ]
    },
    {
     "name": "stderr",
     "output_type": "stream",
     "text": [
      "요약 진행 중:   2%|▏         | 57/2388 [02:04<1:05:01,  1.67s/it]"
     ]
    },
    {
     "name": "stdout",
     "output_type": "stream",
     "text": [
      "58/2388 행 요약 완료\n"
     ]
    },
    {
     "name": "stderr",
     "output_type": "stream",
     "text": [
      "요약 진행 중:   2%|▏         | 58/2388 [02:07<1:19:06,  2.04s/it]"
     ]
    },
    {
     "name": "stdout",
     "output_type": "stream",
     "text": [
      "59/2388 행 요약 완료\n"
     ]
    },
    {
     "name": "stderr",
     "output_type": "stream",
     "text": [
      "요약 진행 중:   2%|▏         | 59/2388 [02:08<1:10:14,  1.81s/it]"
     ]
    },
    {
     "name": "stdout",
     "output_type": "stream",
     "text": [
      "60/2388 행 요약 완료\n"
     ]
    },
    {
     "name": "stderr",
     "output_type": "stream",
     "text": [
      "요약 진행 중:   3%|▎         | 60/2388 [02:11<1:24:44,  2.18s/it]"
     ]
    },
    {
     "name": "stdout",
     "output_type": "stream",
     "text": [
      "61/2388 행 요약 완료\n"
     ]
    },
    {
     "name": "stderr",
     "output_type": "stream",
     "text": [
      "요약 진행 중:   3%|▎         | 61/2388 [02:14<1:28:18,  2.28s/it]"
     ]
    },
    {
     "name": "stdout",
     "output_type": "stream",
     "text": [
      "62/2388 행 요약 완료\n"
     ]
    },
    {
     "name": "stderr",
     "output_type": "stream",
     "text": [
      "요약 진행 중:   3%|▎         | 62/2388 [02:15<1:13:13,  1.89s/it]"
     ]
    },
    {
     "name": "stdout",
     "output_type": "stream",
     "text": [
      "63/2388 행 요약 완료\n"
     ]
    },
    {
     "name": "stderr",
     "output_type": "stream",
     "text": [
      "요약 진행 중:   3%|▎         | 63/2388 [02:16<1:13:30,  1.90s/it]"
     ]
    },
    {
     "name": "stdout",
     "output_type": "stream",
     "text": [
      "64/2388 행 요약 완료\n"
     ]
    },
    {
     "name": "stderr",
     "output_type": "stream",
     "text": [
      "요약 진행 중:   3%|▎         | 64/2388 [02:18<1:06:44,  1.72s/it]"
     ]
    },
    {
     "name": "stdout",
     "output_type": "stream",
     "text": [
      "65/2388 행 요약 완료\n"
     ]
    },
    {
     "name": "stderr",
     "output_type": "stream",
     "text": [
      "요약 진행 중:   3%|▎         | 65/2388 [02:21<1:21:21,  2.10s/it]"
     ]
    },
    {
     "name": "stdout",
     "output_type": "stream",
     "text": [
      "66/2388 행 요약 완료\n"
     ]
    },
    {
     "name": "stderr",
     "output_type": "stream",
     "text": [
      "요약 진행 중:   3%|▎         | 66/2388 [02:23<1:23:56,  2.17s/it]"
     ]
    },
    {
     "name": "stdout",
     "output_type": "stream",
     "text": [
      "67/2388 행 요약 완료\n"
     ]
    },
    {
     "name": "stderr",
     "output_type": "stream",
     "text": [
      "요약 진행 중:   3%|▎         | 67/2388 [02:24<1:13:50,  1.91s/it]"
     ]
    },
    {
     "name": "stdout",
     "output_type": "stream",
     "text": [
      "68/2388 행 요약 완료\n"
     ]
    },
    {
     "name": "stderr",
     "output_type": "stream",
     "text": [
      "요약 진행 중:   3%|▎         | 68/2388 [02:28<1:34:48,  2.45s/it]"
     ]
    },
    {
     "name": "stdout",
     "output_type": "stream",
     "text": [
      "69/2388 행 요약 완료\n"
     ]
    },
    {
     "name": "stderr",
     "output_type": "stream",
     "text": [
      "요약 진행 중:   3%|▎         | 69/2388 [02:30<1:29:34,  2.32s/it]"
     ]
    },
    {
     "name": "stdout",
     "output_type": "stream",
     "text": [
      "70/2388 행 요약 완료\n"
     ]
    },
    {
     "name": "stderr",
     "output_type": "stream",
     "text": [
      "요약 진행 중:   3%|▎         | 70/2388 [02:32<1:21:32,  2.11s/it]"
     ]
    },
    {
     "name": "stdout",
     "output_type": "stream",
     "text": [
      "71/2388 행 요약 완료\n"
     ]
    },
    {
     "name": "stderr",
     "output_type": "stream",
     "text": [
      "요약 진행 중:   3%|▎         | 71/2388 [02:34<1:28:42,  2.30s/it]"
     ]
    },
    {
     "name": "stdout",
     "output_type": "stream",
     "text": [
      "72/2388 행 요약 완료\n"
     ]
    },
    {
     "name": "stderr",
     "output_type": "stream",
     "text": [
      "요약 진행 중:   3%|▎         | 72/2388 [02:36<1:15:47,  1.96s/it]"
     ]
    },
    {
     "name": "stdout",
     "output_type": "stream",
     "text": [
      "73/2388 행 요약 완료\n"
     ]
    },
    {
     "name": "stderr",
     "output_type": "stream",
     "text": [
      "요약 진행 중:   3%|▎         | 73/2388 [02:39<1:33:58,  2.44s/it]"
     ]
    },
    {
     "name": "stdout",
     "output_type": "stream",
     "text": [
      "74/2388 행 요약 완료\n"
     ]
    },
    {
     "name": "stderr",
     "output_type": "stream",
     "text": [
      "요약 진행 중:   3%|▎         | 74/2388 [02:42<1:33:38,  2.43s/it]"
     ]
    },
    {
     "name": "stdout",
     "output_type": "stream",
     "text": [
      "75/2388 행 요약 완료\n"
     ]
    },
    {
     "name": "stderr",
     "output_type": "stream",
     "text": [
      "요약 진행 중:   3%|▎         | 75/2388 [02:44<1:28:53,  2.31s/it]"
     ]
    },
    {
     "name": "stdout",
     "output_type": "stream",
     "text": [
      "76/2388 행 요약 완료\n"
     ]
    },
    {
     "name": "stderr",
     "output_type": "stream",
     "text": [
      "요약 진행 중:   3%|▎         | 76/2388 [02:47<1:40:25,  2.61s/it]"
     ]
    },
    {
     "name": "stdout",
     "output_type": "stream",
     "text": [
      "77/2388 행 요약 완료\n"
     ]
    },
    {
     "name": "stderr",
     "output_type": "stream",
     "text": [
      "요약 진행 중:   3%|▎         | 77/2388 [02:50<1:48:26,  2.82s/it]"
     ]
    },
    {
     "name": "stdout",
     "output_type": "stream",
     "text": [
      "78/2388 행 요약 완료\n"
     ]
    },
    {
     "name": "stderr",
     "output_type": "stream",
     "text": [
      "요약 진행 중:   3%|▎         | 78/2388 [02:52<1:39:59,  2.60s/it]"
     ]
    },
    {
     "name": "stdout",
     "output_type": "stream",
     "text": [
      "79/2388 행 요약 완료\n"
     ]
    },
    {
     "name": "stderr",
     "output_type": "stream",
     "text": [
      "요약 진행 중:   3%|▎         | 79/2388 [02:55<1:35:58,  2.49s/it]"
     ]
    },
    {
     "name": "stdout",
     "output_type": "stream",
     "text": [
      "80/2388 행 요약 완료\n"
     ]
    },
    {
     "name": "stderr",
     "output_type": "stream",
     "text": [
      "요약 진행 중:   3%|▎         | 80/2388 [02:58<1:46:41,  2.77s/it]"
     ]
    },
    {
     "name": "stdout",
     "output_type": "stream",
     "text": [
      "81/2388 행 요약 완료\n"
     ]
    },
    {
     "name": "stderr",
     "output_type": "stream",
     "text": [
      "요약 진행 중:   3%|▎         | 81/2388 [03:01<1:44:25,  2.72s/it]"
     ]
    },
    {
     "name": "stdout",
     "output_type": "stream",
     "text": [
      "82/2388 행 요약 완료\n"
     ]
    },
    {
     "name": "stderr",
     "output_type": "stream",
     "text": [
      "요약 진행 중:   3%|▎         | 82/2388 [03:03<1:43:51,  2.70s/it]"
     ]
    },
    {
     "name": "stdout",
     "output_type": "stream",
     "text": [
      "83/2388 행 요약 완료\n"
     ]
    },
    {
     "name": "stderr",
     "output_type": "stream",
     "text": [
      "요약 진행 중:   3%|▎         | 83/2388 [03:04<1:25:57,  2.24s/it]"
     ]
    },
    {
     "name": "stdout",
     "output_type": "stream",
     "text": [
      "84/2388 행 요약 완료\n"
     ]
    },
    {
     "name": "stderr",
     "output_type": "stream",
     "text": [
      "요약 진행 중:   4%|▎         | 84/2388 [03:06<1:19:01,  2.06s/it]"
     ]
    },
    {
     "name": "stdout",
     "output_type": "stream",
     "text": [
      "85/2388 행 요약 완료\n"
     ]
    },
    {
     "name": "stderr",
     "output_type": "stream",
     "text": [
      "요약 진행 중:   4%|▎         | 85/2388 [03:08<1:22:06,  2.14s/it]"
     ]
    },
    {
     "name": "stdout",
     "output_type": "stream",
     "text": [
      "86/2388 행 요약 완료\n"
     ]
    },
    {
     "name": "stderr",
     "output_type": "stream",
     "text": [
      "요약 진행 중:   4%|▎         | 86/2388 [03:10<1:21:09,  2.12s/it]"
     ]
    },
    {
     "name": "stdout",
     "output_type": "stream",
     "text": [
      "87/2388 행 요약 완료\n"
     ]
    },
    {
     "name": "stderr",
     "output_type": "stream",
     "text": [
      "요약 진행 중:   4%|▎         | 87/2388 [03:12<1:20:30,  2.10s/it]"
     ]
    },
    {
     "name": "stdout",
     "output_type": "stream",
     "text": [
      "88/2388 행 요약 완료\n"
     ]
    },
    {
     "name": "stderr",
     "output_type": "stream",
     "text": [
      "요약 진행 중:   4%|▎         | 88/2388 [03:13<1:06:49,  1.74s/it]"
     ]
    },
    {
     "name": "stdout",
     "output_type": "stream",
     "text": [
      "89/2388 행 요약 완료\n"
     ]
    },
    {
     "name": "stderr",
     "output_type": "stream",
     "text": [
      "요약 진행 중:   4%|▎         | 89/2388 [03:16<1:19:05,  2.06s/it]"
     ]
    },
    {
     "name": "stdout",
     "output_type": "stream",
     "text": [
      "90/2388 행 요약 완료\n"
     ]
    },
    {
     "name": "stderr",
     "output_type": "stream",
     "text": [
      "요약 진행 중:   4%|▍         | 90/2388 [03:19<1:22:56,  2.17s/it]"
     ]
    },
    {
     "name": "stdout",
     "output_type": "stream",
     "text": [
      "91/2388 행 요약 완료\n"
     ]
    },
    {
     "name": "stderr",
     "output_type": "stream",
     "text": [
      "요약 진행 중:   4%|▍         | 91/2388 [03:21<1:20:28,  2.10s/it]"
     ]
    },
    {
     "name": "stdout",
     "output_type": "stream",
     "text": [
      "92/2388 행 요약 완료\n"
     ]
    },
    {
     "name": "stderr",
     "output_type": "stream",
     "text": [
      "요약 진행 중:   4%|▍         | 92/2388 [03:23<1:19:26,  2.08s/it]"
     ]
    },
    {
     "name": "stdout",
     "output_type": "stream",
     "text": [
      "93/2388 행 요약 완료\n"
     ]
    },
    {
     "name": "stderr",
     "output_type": "stream",
     "text": [
      "요약 진행 중:   4%|▍         | 93/2388 [03:24<1:12:41,  1.90s/it]"
     ]
    },
    {
     "name": "stdout",
     "output_type": "stream",
     "text": [
      "94/2388 행 요약 완료\n"
     ]
    },
    {
     "name": "stderr",
     "output_type": "stream",
     "text": [
      "요약 진행 중:   4%|▍         | 94/2388 [03:26<1:11:27,  1.87s/it]"
     ]
    },
    {
     "name": "stdout",
     "output_type": "stream",
     "text": [
      "95/2388 행 요약 완료\n"
     ]
    },
    {
     "name": "stderr",
     "output_type": "stream",
     "text": [
      "요약 진행 중:   4%|▍         | 95/2388 [03:27<1:02:46,  1.64s/it]"
     ]
    },
    {
     "name": "stdout",
     "output_type": "stream",
     "text": [
      "96/2388 행 요약 완료\n"
     ]
    },
    {
     "name": "stderr",
     "output_type": "stream",
     "text": [
      "요약 진행 중:   4%|▍         | 96/2388 [03:30<1:15:39,  1.98s/it]"
     ]
    },
    {
     "name": "stdout",
     "output_type": "stream",
     "text": [
      "97/2388 행 요약 완료\n"
     ]
    },
    {
     "name": "stderr",
     "output_type": "stream",
     "text": [
      "요약 진행 중:   4%|▍         | 97/2388 [03:32<1:15:52,  1.99s/it]"
     ]
    },
    {
     "name": "stdout",
     "output_type": "stream",
     "text": [
      "98/2388 행 요약 완료\n"
     ]
    },
    {
     "name": "stderr",
     "output_type": "stream",
     "text": [
      "요약 진행 중:   4%|▍         | 98/2388 [03:33<1:09:29,  1.82s/it]"
     ]
    },
    {
     "name": "stdout",
     "output_type": "stream",
     "text": [
      "99/2388 행 요약 완료\n"
     ]
    },
    {
     "name": "stderr",
     "output_type": "stream",
     "text": [
      "요약 진행 중:   4%|▍         | 99/2388 [03:35<1:09:44,  1.83s/it]"
     ]
    },
    {
     "name": "stdout",
     "output_type": "stream",
     "text": [
      "100/2388 행 요약 완료\n"
     ]
    },
    {
     "name": "stderr",
     "output_type": "stream",
     "text": [
      "요약 진행 중:   4%|▍         | 100/2388 [03:38<1:28:25,  2.32s/it]"
     ]
    },
    {
     "name": "stdout",
     "output_type": "stream",
     "text": [
      "101/2388 행 요약 완료\n"
     ]
    },
    {
     "name": "stderr",
     "output_type": "stream",
     "text": [
      "요약 진행 중:   4%|▍         | 101/2388 [03:41<1:33:55,  2.46s/it]"
     ]
    },
    {
     "name": "stdout",
     "output_type": "stream",
     "text": [
      "102/2388 행 요약 완료\n"
     ]
    },
    {
     "name": "stderr",
     "output_type": "stream",
     "text": [
      "요약 진행 중:   4%|▍         | 102/2388 [03:45<1:44:00,  2.73s/it]"
     ]
    },
    {
     "name": "stdout",
     "output_type": "stream",
     "text": [
      "103/2388 행 요약 완료\n"
     ]
    },
    {
     "name": "stderr",
     "output_type": "stream",
     "text": [
      "요약 진행 중:   4%|▍         | 103/2388 [03:47<1:39:39,  2.62s/it]"
     ]
    },
    {
     "name": "stdout",
     "output_type": "stream",
     "text": [
      "104/2388 행 요약 완료\n"
     ]
    },
    {
     "name": "stderr",
     "output_type": "stream",
     "text": [
      "요약 진행 중:   4%|▍         | 104/2388 [03:48<1:26:31,  2.27s/it]"
     ]
    },
    {
     "name": "stdout",
     "output_type": "stream",
     "text": [
      "105/2388 행 요약 완료\n"
     ]
    },
    {
     "name": "stderr",
     "output_type": "stream",
     "text": [
      "요약 진행 중:   4%|▍         | 105/2388 [03:50<1:15:00,  1.97s/it]"
     ]
    },
    {
     "name": "stdout",
     "output_type": "stream",
     "text": [
      "106/2388 행 요약 완료\n"
     ]
    },
    {
     "name": "stderr",
     "output_type": "stream",
     "text": [
      "요약 진행 중:   4%|▍         | 106/2388 [03:52<1:22:57,  2.18s/it]"
     ]
    },
    {
     "name": "stdout",
     "output_type": "stream",
     "text": [
      "107/2388 행 요약 완료\n"
     ]
    },
    {
     "name": "stderr",
     "output_type": "stream",
     "text": [
      "요약 진행 중:   4%|▍         | 107/2388 [03:55<1:26:36,  2.28s/it]"
     ]
    },
    {
     "name": "stdout",
     "output_type": "stream",
     "text": [
      "108/2388 행 요약 완료\n"
     ]
    },
    {
     "name": "stderr",
     "output_type": "stream",
     "text": [
      "요약 진행 중:   5%|▍         | 108/2388 [03:56<1:15:45,  1.99s/it]"
     ]
    },
    {
     "name": "stdout",
     "output_type": "stream",
     "text": [
      "109/2388 행 요약 완료\n"
     ]
    },
    {
     "name": "stderr",
     "output_type": "stream",
     "text": [
      "요약 진행 중:   5%|▍         | 109/2388 [03:58<1:18:09,  2.06s/it]"
     ]
    },
    {
     "name": "stdout",
     "output_type": "stream",
     "text": [
      "110/2388 행 요약 완료\n"
     ]
    },
    {
     "name": "stderr",
     "output_type": "stream",
     "text": [
      "요약 진행 중:   5%|▍         | 110/2388 [04:00<1:11:23,  1.88s/it]"
     ]
    },
    {
     "name": "stdout",
     "output_type": "stream",
     "text": [
      "111/2388 행 요약 완료\n"
     ]
    },
    {
     "name": "stderr",
     "output_type": "stream",
     "text": [
      "요약 진행 중:   5%|▍         | 111/2388 [04:03<1:23:22,  2.20s/it]"
     ]
    },
    {
     "name": "stdout",
     "output_type": "stream",
     "text": [
      "112/2388 행 요약 완료\n"
     ]
    },
    {
     "name": "stderr",
     "output_type": "stream",
     "text": [
      "요약 진행 중:   5%|▍         | 112/2388 [04:06<1:33:46,  2.47s/it]"
     ]
    },
    {
     "name": "stdout",
     "output_type": "stream",
     "text": [
      "113/2388 행 요약 완료\n"
     ]
    },
    {
     "name": "stderr",
     "output_type": "stream",
     "text": [
      "요약 진행 중:   5%|▍         | 113/2388 [04:09<1:42:49,  2.71s/it]"
     ]
    },
    {
     "name": "stdout",
     "output_type": "stream",
     "text": [
      "114/2388 행 요약 완료\n"
     ]
    },
    {
     "name": "stderr",
     "output_type": "stream",
     "text": [
      "요약 진행 중:   5%|▍         | 114/2388 [04:11<1:35:28,  2.52s/it]"
     ]
    },
    {
     "name": "stdout",
     "output_type": "stream",
     "text": [
      "115/2388 행 요약 완료\n"
     ]
    },
    {
     "name": "stderr",
     "output_type": "stream",
     "text": [
      "요약 진행 중:   5%|▍         | 115/2388 [04:13<1:27:57,  2.32s/it]"
     ]
    },
    {
     "name": "stdout",
     "output_type": "stream",
     "text": [
      "116/2388 행 요약 완료\n"
     ]
    },
    {
     "name": "stderr",
     "output_type": "stream",
     "text": [
      "요약 진행 중:   5%|▍         | 116/2388 [04:14<1:15:42,  2.00s/it]"
     ]
    },
    {
     "name": "stdout",
     "output_type": "stream",
     "text": [
      "117/2388 행 요약 완료\n"
     ]
    },
    {
     "name": "stderr",
     "output_type": "stream",
     "text": [
      "요약 진행 중:   5%|▍         | 117/2388 [04:16<1:08:21,  1.81s/it]"
     ]
    },
    {
     "name": "stdout",
     "output_type": "stream",
     "text": [
      "118/2388 행 요약 완료\n"
     ]
    },
    {
     "name": "stderr",
     "output_type": "stream",
     "text": [
      "요약 진행 중:   5%|▍         | 118/2388 [04:18<1:11:05,  1.88s/it]"
     ]
    },
    {
     "name": "stdout",
     "output_type": "stream",
     "text": [
      "119/2388 행 요약 완료\n"
     ]
    },
    {
     "name": "stderr",
     "output_type": "stream",
     "text": [
      "요약 진행 중:   5%|▍         | 119/2388 [04:21<1:31:16,  2.41s/it]"
     ]
    },
    {
     "name": "stdout",
     "output_type": "stream",
     "text": [
      "120/2388 행 요약 완료\n"
     ]
    },
    {
     "name": "stderr",
     "output_type": "stream",
     "text": [
      "요약 진행 중:   5%|▌         | 120/2388 [04:24<1:34:02,  2.49s/it]"
     ]
    },
    {
     "name": "stdout",
     "output_type": "stream",
     "text": [
      "121/2388 행 요약 완료\n"
     ]
    },
    {
     "name": "stderr",
     "output_type": "stream",
     "text": [
      "요약 진행 중:   5%|▌         | 121/2388 [04:26<1:31:52,  2.43s/it]"
     ]
    },
    {
     "name": "stdout",
     "output_type": "stream",
     "text": [
      "122/2388 행 요약 완료\n"
     ]
    },
    {
     "name": "stderr",
     "output_type": "stream",
     "text": [
      "요약 진행 중:   5%|▌         | 122/2388 [04:28<1:20:18,  2.13s/it]"
     ]
    },
    {
     "name": "stdout",
     "output_type": "stream",
     "text": [
      "123/2388 행 요약 완료\n"
     ]
    },
    {
     "name": "stderr",
     "output_type": "stream",
     "text": [
      "요약 진행 중:   5%|▌         | 123/2388 [04:30<1:19:25,  2.10s/it]"
     ]
    },
    {
     "name": "stdout",
     "output_type": "stream",
     "text": [
      "124/2388 행 요약 완료\n"
     ]
    },
    {
     "name": "stderr",
     "output_type": "stream",
     "text": [
      "요약 진행 중:   5%|▌         | 124/2388 [04:32<1:24:46,  2.25s/it]"
     ]
    },
    {
     "name": "stdout",
     "output_type": "stream",
     "text": [
      "125/2388 행 요약 완료\n"
     ]
    },
    {
     "name": "stderr",
     "output_type": "stream",
     "text": [
      "요약 진행 중:   5%|▌         | 125/2388 [04:35<1:26:42,  2.30s/it]"
     ]
    },
    {
     "name": "stdout",
     "output_type": "stream",
     "text": [
      "126/2388 행 요약 완료\n"
     ]
    },
    {
     "name": "stderr",
     "output_type": "stream",
     "text": [
      "요약 진행 중:   5%|▌         | 126/2388 [04:38<1:37:06,  2.58s/it]"
     ]
    },
    {
     "name": "stdout",
     "output_type": "stream",
     "text": [
      "127/2388 행 요약 완료\n"
     ]
    },
    {
     "name": "stderr",
     "output_type": "stream",
     "text": [
      "요약 진행 중:   5%|▌         | 127/2388 [04:40<1:26:33,  2.30s/it]"
     ]
    },
    {
     "name": "stdout",
     "output_type": "stream",
     "text": [
      "128/2388 행 요약 완료\n"
     ]
    },
    {
     "name": "stderr",
     "output_type": "stream",
     "text": [
      "요약 진행 중:   5%|▌         | 128/2388 [04:43<1:35:18,  2.53s/it]"
     ]
    },
    {
     "name": "stdout",
     "output_type": "stream",
     "text": [
      "129/2388 행 요약 완료\n"
     ]
    },
    {
     "name": "stderr",
     "output_type": "stream",
     "text": [
      "요약 진행 중:   5%|▌         | 129/2388 [04:45<1:34:20,  2.51s/it]"
     ]
    },
    {
     "name": "stdout",
     "output_type": "stream",
     "text": [
      "130/2388 행 요약 완료\n"
     ]
    },
    {
     "name": "stderr",
     "output_type": "stream",
     "text": [
      "요약 진행 중:   5%|▌         | 130/2388 [04:49<1:42:49,  2.73s/it]"
     ]
    },
    {
     "name": "stdout",
     "output_type": "stream",
     "text": [
      "131/2388 행 요약 완료\n"
     ]
    },
    {
     "name": "stderr",
     "output_type": "stream",
     "text": [
      "요약 진행 중:   5%|▌         | 131/2388 [04:51<1:37:56,  2.60s/it]"
     ]
    },
    {
     "name": "stdout",
     "output_type": "stream",
     "text": [
      "132/2388 행 요약 완료\n"
     ]
    },
    {
     "name": "stderr",
     "output_type": "stream",
     "text": [
      "요약 진행 중:   6%|▌         | 132/2388 [04:53<1:32:03,  2.45s/it]"
     ]
    },
    {
     "name": "stdout",
     "output_type": "stream",
     "text": [
      "133/2388 행 요약 완료\n"
     ]
    },
    {
     "name": "stderr",
     "output_type": "stream",
     "text": [
      "요약 진행 중:   6%|▌         | 133/2388 [04:55<1:22:47,  2.20s/it]"
     ]
    },
    {
     "name": "stdout",
     "output_type": "stream",
     "text": [
      "134/2388 행 요약 완료\n"
     ]
    },
    {
     "name": "stderr",
     "output_type": "stream",
     "text": [
      "요약 진행 중:   6%|▌         | 134/2388 [04:57<1:22:05,  2.19s/it]"
     ]
    },
    {
     "name": "stdout",
     "output_type": "stream",
     "text": [
      "135/2388 행 요약 완료\n"
     ]
    },
    {
     "name": "stderr",
     "output_type": "stream",
     "text": [
      "요약 진행 중:   6%|▌         | 135/2388 [04:58<1:14:20,  1.98s/it]"
     ]
    },
    {
     "name": "stdout",
     "output_type": "stream",
     "text": [
      "136/2388 행 요약 완료\n"
     ]
    },
    {
     "name": "stderr",
     "output_type": "stream",
     "text": [
      "요약 진행 중:   6%|▌         | 136/2388 [05:01<1:22:49,  2.21s/it]"
     ]
    },
    {
     "name": "stdout",
     "output_type": "stream",
     "text": [
      "137/2388 행 요약 완료\n"
     ]
    },
    {
     "name": "stderr",
     "output_type": "stream",
     "text": [
      "요약 진행 중:   6%|▌         | 137/2388 [05:03<1:23:28,  2.23s/it]"
     ]
    },
    {
     "name": "stdout",
     "output_type": "stream",
     "text": [
      "138/2388 행 요약 완료\n"
     ]
    },
    {
     "name": "stderr",
     "output_type": "stream",
     "text": [
      "요약 진행 중:   6%|▌         | 138/2388 [05:04<1:12:28,  1.93s/it]"
     ]
    },
    {
     "name": "stdout",
     "output_type": "stream",
     "text": [
      "139/2388 행 요약 완료\n"
     ]
    },
    {
     "name": "stderr",
     "output_type": "stream",
     "text": [
      "요약 진행 중:   6%|▌         | 139/2388 [05:07<1:21:13,  2.17s/it]"
     ]
    },
    {
     "name": "stdout",
     "output_type": "stream",
     "text": [
      "140/2388 행 요약 완료\n"
     ]
    },
    {
     "name": "stderr",
     "output_type": "stream",
     "text": [
      "요약 진행 중:   6%|▌         | 140/2388 [05:08<1:08:28,  1.83s/it]"
     ]
    },
    {
     "name": "stdout",
     "output_type": "stream",
     "text": [
      "141/2388 행 요약 완료\n"
     ]
    },
    {
     "name": "stderr",
     "output_type": "stream",
     "text": [
      "요약 진행 중:   6%|▌         | 141/2388 [05:13<1:40:27,  2.68s/it]"
     ]
    },
    {
     "name": "stdout",
     "output_type": "stream",
     "text": [
      "142/2388 행 요약 완료\n"
     ]
    },
    {
     "name": "stderr",
     "output_type": "stream",
     "text": [
      "요약 진행 중:   6%|▌         | 142/2388 [05:15<1:35:23,  2.55s/it]"
     ]
    },
    {
     "name": "stdout",
     "output_type": "stream",
     "text": [
      "143/2388 행 요약 완료\n"
     ]
    },
    {
     "name": "stderr",
     "output_type": "stream",
     "text": [
      "요약 진행 중:   6%|▌         | 143/2388 [05:16<1:21:02,  2.17s/it]"
     ]
    },
    {
     "name": "stdout",
     "output_type": "stream",
     "text": [
      "144/2388 행 요약 완료\n"
     ]
    },
    {
     "name": "stderr",
     "output_type": "stream",
     "text": [
      "요약 진행 중:   6%|▌         | 144/2388 [05:18<1:16:08,  2.04s/it]"
     ]
    },
    {
     "name": "stdout",
     "output_type": "stream",
     "text": [
      "145/2388 행 요약 완료\n"
     ]
    },
    {
     "name": "stderr",
     "output_type": "stream",
     "text": [
      "요약 진행 중:   6%|▌         | 145/2388 [05:20<1:13:52,  1.98s/it]"
     ]
    },
    {
     "name": "stdout",
     "output_type": "stream",
     "text": [
      "146/2388 행 요약 완료\n"
     ]
    },
    {
     "name": "stderr",
     "output_type": "stream",
     "text": [
      "요약 진행 중:   6%|▌         | 146/2388 [05:23<1:20:35,  2.16s/it]"
     ]
    },
    {
     "name": "stdout",
     "output_type": "stream",
     "text": [
      "147/2388 행 요약 완료\n"
     ]
    },
    {
     "name": "stderr",
     "output_type": "stream",
     "text": [
      "요약 진행 중:   6%|▌         | 147/2388 [05:26<1:30:09,  2.41s/it]"
     ]
    },
    {
     "name": "stdout",
     "output_type": "stream",
     "text": [
      "148/2388 행 요약 완료\n"
     ]
    },
    {
     "name": "stderr",
     "output_type": "stream",
     "text": [
      "요약 진행 중:   6%|▌         | 148/2388 [05:27<1:20:58,  2.17s/it]"
     ]
    },
    {
     "name": "stdout",
     "output_type": "stream",
     "text": [
      "149/2388 행 요약 완료\n"
     ]
    },
    {
     "name": "stderr",
     "output_type": "stream",
     "text": [
      "요약 진행 중:   6%|▌         | 149/2388 [05:30<1:31:12,  2.44s/it]"
     ]
    },
    {
     "name": "stdout",
     "output_type": "stream",
     "text": [
      "150/2388 행 요약 완료\n"
     ]
    },
    {
     "name": "stderr",
     "output_type": "stream",
     "text": [
      "요약 진행 중:   6%|▋         | 150/2388 [05:32<1:28:14,  2.37s/it]"
     ]
    },
    {
     "name": "stdout",
     "output_type": "stream",
     "text": [
      "151/2388 행 요약 완료\n"
     ]
    },
    {
     "name": "stderr",
     "output_type": "stream",
     "text": [
      "요약 진행 중:   6%|▋         | 151/2388 [05:34<1:17:27,  2.08s/it]"
     ]
    },
    {
     "name": "stdout",
     "output_type": "stream",
     "text": [
      "152/2388 행 요약 완료\n"
     ]
    },
    {
     "name": "stderr",
     "output_type": "stream",
     "text": [
      "요약 진행 중:   6%|▋         | 152/2388 [05:38<1:38:08,  2.63s/it]"
     ]
    },
    {
     "name": "stdout",
     "output_type": "stream",
     "text": [
      "153/2388 행 요약 완료\n"
     ]
    },
    {
     "name": "stderr",
     "output_type": "stream",
     "text": [
      "요약 진행 중:   6%|▋         | 153/2388 [05:39<1:25:10,  2.29s/it]"
     ]
    },
    {
     "name": "stdout",
     "output_type": "stream",
     "text": [
      "154/2388 행 요약 완료\n"
     ]
    },
    {
     "name": "stderr",
     "output_type": "stream",
     "text": [
      "요약 진행 중:   6%|▋         | 154/2388 [05:40<1:11:00,  1.91s/it]"
     ]
    },
    {
     "name": "stdout",
     "output_type": "stream",
     "text": [
      "155/2388 행 요약 완료\n"
     ]
    },
    {
     "name": "stderr",
     "output_type": "stream",
     "text": [
      "요약 진행 중:   6%|▋         | 155/2388 [05:43<1:16:58,  2.07s/it]"
     ]
    },
    {
     "name": "stdout",
     "output_type": "stream",
     "text": [
      "156/2388 행 요약 완료\n"
     ]
    },
    {
     "name": "stderr",
     "output_type": "stream",
     "text": [
      "요약 진행 중:   7%|▋         | 156/2388 [05:45<1:15:13,  2.02s/it]"
     ]
    },
    {
     "name": "stdout",
     "output_type": "stream",
     "text": [
      "157/2388 행 요약 완료\n"
     ]
    },
    {
     "name": "stderr",
     "output_type": "stream",
     "text": [
      "요약 진행 중:   7%|▋         | 157/2388 [05:46<1:03:27,  1.71s/it]"
     ]
    },
    {
     "name": "stdout",
     "output_type": "stream",
     "text": [
      "158/2388 행 요약 완료\n"
     ]
    },
    {
     "name": "stderr",
     "output_type": "stream",
     "text": [
      "요약 진행 중:   7%|▋         | 158/2388 [05:50<1:31:07,  2.45s/it]"
     ]
    },
    {
     "name": "stdout",
     "output_type": "stream",
     "text": [
      "159/2388 행 요약 완료\n"
     ]
    },
    {
     "name": "stderr",
     "output_type": "stream",
     "text": [
      "요약 진행 중:   7%|▋         | 159/2388 [05:52<1:27:06,  2.34s/it]"
     ]
    },
    {
     "name": "stdout",
     "output_type": "stream",
     "text": [
      "160/2388 행 요약 완료\n"
     ]
    },
    {
     "name": "stderr",
     "output_type": "stream",
     "text": [
      "요약 진행 중:   7%|▋         | 160/2388 [05:54<1:21:19,  2.19s/it]"
     ]
    },
    {
     "name": "stdout",
     "output_type": "stream",
     "text": [
      "161/2388 행 요약 완료\n"
     ]
    },
    {
     "name": "stderr",
     "output_type": "stream",
     "text": [
      "요약 진행 중:   7%|▋         | 161/2388 [05:56<1:23:54,  2.26s/it]"
     ]
    },
    {
     "name": "stdout",
     "output_type": "stream",
     "text": [
      "162/2388 행 요약 완료\n"
     ]
    },
    {
     "name": "stderr",
     "output_type": "stream",
     "text": [
      "요약 진행 중:   7%|▋         | 162/2388 [05:58<1:14:50,  2.02s/it]"
     ]
    },
    {
     "name": "stdout",
     "output_type": "stream",
     "text": [
      "163/2388 행 요약 완료\n"
     ]
    },
    {
     "name": "stderr",
     "output_type": "stream",
     "text": [
      "요약 진행 중:   7%|▋         | 163/2388 [05:59<1:06:34,  1.80s/it]"
     ]
    },
    {
     "name": "stdout",
     "output_type": "stream",
     "text": [
      "164/2388 행 요약 완료\n"
     ]
    },
    {
     "name": "stderr",
     "output_type": "stream",
     "text": [
      "요약 진행 중:   7%|▋         | 164/2388 [06:00<1:02:31,  1.69s/it]"
     ]
    },
    {
     "name": "stdout",
     "output_type": "stream",
     "text": [
      "165/2388 행 요약 완료\n"
     ]
    },
    {
     "name": "stderr",
     "output_type": "stream",
     "text": [
      "요약 진행 중:   7%|▋         | 165/2388 [06:05<1:33:11,  2.52s/it]"
     ]
    },
    {
     "name": "stdout",
     "output_type": "stream",
     "text": [
      "166/2388 행 요약 완료\n"
     ]
    },
    {
     "name": "stderr",
     "output_type": "stream",
     "text": [
      "요약 진행 중:   7%|▋         | 166/2388 [06:06<1:22:09,  2.22s/it]"
     ]
    },
    {
     "name": "stdout",
     "output_type": "stream",
     "text": [
      "167/2388 행 요약 완료\n"
     ]
    },
    {
     "name": "stderr",
     "output_type": "stream",
     "text": [
      "요약 진행 중:   7%|▋         | 167/2388 [06:09<1:26:11,  2.33s/it]"
     ]
    },
    {
     "name": "stdout",
     "output_type": "stream",
     "text": [
      "168/2388 행 요약 완료\n"
     ]
    },
    {
     "name": "stderr",
     "output_type": "stream",
     "text": [
      "요약 진행 중:   7%|▋         | 168/2388 [06:10<1:15:17,  2.03s/it]"
     ]
    },
    {
     "name": "stdout",
     "output_type": "stream",
     "text": [
      "169/2388 행 요약 완료\n"
     ]
    },
    {
     "name": "stderr",
     "output_type": "stream",
     "text": [
      "요약 진행 중:   7%|▋         | 169/2388 [06:13<1:19:30,  2.15s/it]"
     ]
    },
    {
     "name": "stdout",
     "output_type": "stream",
     "text": [
      "170/2388 행 요약 완료\n"
     ]
    },
    {
     "name": "stderr",
     "output_type": "stream",
     "text": [
      "요약 진행 중:   7%|▋         | 170/2388 [06:15<1:25:53,  2.32s/it]"
     ]
    },
    {
     "name": "stdout",
     "output_type": "stream",
     "text": [
      "171/2388 행 요약 완료\n"
     ]
    },
    {
     "name": "stderr",
     "output_type": "stream",
     "text": [
      "요약 진행 중:   7%|▋         | 171/2388 [06:18<1:27:44,  2.37s/it]"
     ]
    },
    {
     "name": "stdout",
     "output_type": "stream",
     "text": [
      "172/2388 행 요약 완료\n"
     ]
    },
    {
     "name": "stderr",
     "output_type": "stream",
     "text": [
      "요약 진행 중:   7%|▋         | 172/2388 [06:20<1:21:58,  2.22s/it]"
     ]
    },
    {
     "name": "stdout",
     "output_type": "stream",
     "text": [
      "173/2388 행 요약 완료\n"
     ]
    },
    {
     "name": "stderr",
     "output_type": "stream",
     "text": [
      "요약 진행 중:   7%|▋         | 173/2388 [06:21<1:12:04,  1.95s/it]"
     ]
    },
    {
     "name": "stdout",
     "output_type": "stream",
     "text": [
      "174/2388 행 요약 완료\n"
     ]
    },
    {
     "name": "stderr",
     "output_type": "stream",
     "text": [
      "요약 진행 중:   7%|▋         | 174/2388 [06:25<1:29:35,  2.43s/it]"
     ]
    },
    {
     "name": "stdout",
     "output_type": "stream",
     "text": [
      "175/2388 행 요약 완료\n"
     ]
    },
    {
     "name": "stderr",
     "output_type": "stream",
     "text": [
      "요약 진행 중:   7%|▋         | 175/2388 [06:27<1:33:24,  2.53s/it]"
     ]
    },
    {
     "name": "stdout",
     "output_type": "stream",
     "text": [
      "176/2388 행 요약 완료\n"
     ]
    },
    {
     "name": "stderr",
     "output_type": "stream",
     "text": [
      "요약 진행 중:   7%|▋         | 176/2388 [06:31<1:49:58,  2.98s/it]"
     ]
    },
    {
     "name": "stdout",
     "output_type": "stream",
     "text": [
      "177/2388 행 요약 완료\n"
     ]
    },
    {
     "name": "stderr",
     "output_type": "stream",
     "text": [
      "요약 진행 중:   7%|▋         | 177/2388 [06:33<1:29:34,  2.43s/it]"
     ]
    },
    {
     "name": "stdout",
     "output_type": "stream",
     "text": [
      "178/2388 행 요약 완료\n"
     ]
    },
    {
     "name": "stderr",
     "output_type": "stream",
     "text": [
      "요약 진행 중:   7%|▋         | 178/2388 [06:36<1:41:53,  2.77s/it]"
     ]
    },
    {
     "name": "stdout",
     "output_type": "stream",
     "text": [
      "179/2388 행 요약 완료\n"
     ]
    },
    {
     "name": "stderr",
     "output_type": "stream",
     "text": [
      "요약 진행 중:   7%|▋         | 179/2388 [06:39<1:48:26,  2.95s/it]"
     ]
    },
    {
     "name": "stdout",
     "output_type": "stream",
     "text": [
      "180/2388 행 요약 완료\n"
     ]
    },
    {
     "name": "stderr",
     "output_type": "stream",
     "text": [
      "요약 진행 중:   8%|▊         | 180/2388 [06:42<1:47:47,  2.93s/it]"
     ]
    },
    {
     "name": "stdout",
     "output_type": "stream",
     "text": [
      "181/2388 행 요약 완료\n"
     ]
    },
    {
     "name": "stderr",
     "output_type": "stream",
     "text": [
      "요약 진행 중:   8%|▊         | 181/2388 [06:46<1:59:41,  3.25s/it]"
     ]
    },
    {
     "name": "stdout",
     "output_type": "stream",
     "text": [
      "182/2388 행 요약 완료\n"
     ]
    },
    {
     "name": "stderr",
     "output_type": "stream",
     "text": [
      "요약 진행 중:   8%|▊         | 182/2388 [06:49<1:55:59,  3.15s/it]"
     ]
    },
    {
     "name": "stdout",
     "output_type": "stream",
     "text": [
      "183/2388 행 요약 완료\n"
     ]
    },
    {
     "name": "stderr",
     "output_type": "stream",
     "text": [
      "요약 진행 중:   8%|▊         | 183/2388 [06:52<1:51:37,  3.04s/it]"
     ]
    },
    {
     "name": "stdout",
     "output_type": "stream",
     "text": [
      "184/2388 행 요약 완료\n"
     ]
    },
    {
     "name": "stderr",
     "output_type": "stream",
     "text": [
      "요약 진행 중:   8%|▊         | 184/2388 [06:55<1:53:48,  3.10s/it]"
     ]
    },
    {
     "name": "stdout",
     "output_type": "stream",
     "text": [
      "185/2388 행 요약 완료\n"
     ]
    },
    {
     "name": "stderr",
     "output_type": "stream",
     "text": [
      "요약 진행 중:   8%|▊         | 185/2388 [06:59<1:57:24,  3.20s/it]"
     ]
    },
    {
     "name": "stdout",
     "output_type": "stream",
     "text": [
      "186/2388 행 요약 완료\n"
     ]
    },
    {
     "name": "stderr",
     "output_type": "stream",
     "text": [
      "요약 진행 중:   8%|▊         | 186/2388 [07:00<1:40:10,  2.73s/it]"
     ]
    },
    {
     "name": "stdout",
     "output_type": "stream",
     "text": [
      "187/2388 행 요약 완료\n"
     ]
    },
    {
     "name": "stderr",
     "output_type": "stream",
     "text": [
      "요약 진행 중:   8%|▊         | 187/2388 [07:02<1:25:10,  2.32s/it]"
     ]
    },
    {
     "name": "stdout",
     "output_type": "stream",
     "text": [
      "188/2388 행 요약 완료\n"
     ]
    },
    {
     "name": "stderr",
     "output_type": "stream",
     "text": [
      "요약 진행 중:   8%|▊         | 188/2388 [07:03<1:12:56,  1.99s/it]"
     ]
    },
    {
     "name": "stdout",
     "output_type": "stream",
     "text": [
      "189/2388 행 요약 완료\n"
     ]
    },
    {
     "name": "stderr",
     "output_type": "stream",
     "text": [
      "요약 진행 중:   8%|▊         | 189/2388 [07:04<1:08:06,  1.86s/it]"
     ]
    },
    {
     "name": "stdout",
     "output_type": "stream",
     "text": [
      "190/2388 행 요약 완료\n"
     ]
    },
    {
     "name": "stderr",
     "output_type": "stream",
     "text": [
      "요약 진행 중:   8%|▊         | 190/2388 [07:07<1:10:52,  1.93s/it]"
     ]
    },
    {
     "name": "stdout",
     "output_type": "stream",
     "text": [
      "191/2388 행 요약 완료\n"
     ]
    },
    {
     "name": "stderr",
     "output_type": "stream",
     "text": [
      "요약 진행 중:   8%|▊         | 191/2388 [07:10<1:22:33,  2.25s/it]"
     ]
    },
    {
     "name": "stdout",
     "output_type": "stream",
     "text": [
      "192/2388 행 요약 완료\n"
     ]
    },
    {
     "name": "stderr",
     "output_type": "stream",
     "text": [
      "요약 진행 중:   8%|▊         | 192/2388 [07:12<1:29:09,  2.44s/it]"
     ]
    },
    {
     "name": "stdout",
     "output_type": "stream",
     "text": [
      "193/2388 행 요약 완료\n"
     ]
    },
    {
     "name": "stderr",
     "output_type": "stream",
     "text": [
      "요약 진행 중:   8%|▊         | 193/2388 [07:15<1:29:19,  2.44s/it]"
     ]
    },
    {
     "name": "stdout",
     "output_type": "stream",
     "text": [
      "194/2388 행 요약 완료\n"
     ]
    },
    {
     "name": "stderr",
     "output_type": "stream",
     "text": [
      "요약 진행 중:   8%|▊         | 194/2388 [07:17<1:22:59,  2.27s/it]"
     ]
    },
    {
     "name": "stdout",
     "output_type": "stream",
     "text": [
      "195/2388 행 요약 완료\n"
     ]
    },
    {
     "name": "stderr",
     "output_type": "stream",
     "text": [
      "요약 진행 중:   8%|▊         | 195/2388 [07:18<1:13:20,  2.01s/it]"
     ]
    },
    {
     "name": "stdout",
     "output_type": "stream",
     "text": [
      "196/2388 행 요약 완료\n"
     ]
    },
    {
     "name": "stderr",
     "output_type": "stream",
     "text": [
      "요약 진행 중:   8%|▊         | 196/2388 [07:20<1:14:49,  2.05s/it]"
     ]
    },
    {
     "name": "stdout",
     "output_type": "stream",
     "text": [
      "197/2388 행 요약 완료\n"
     ]
    },
    {
     "name": "stderr",
     "output_type": "stream",
     "text": [
      "요약 진행 중:   8%|▊         | 197/2388 [07:22<1:06:47,  1.83s/it]"
     ]
    },
    {
     "name": "stdout",
     "output_type": "stream",
     "text": [
      "198/2388 행 요약 완료\n"
     ]
    },
    {
     "name": "stderr",
     "output_type": "stream",
     "text": [
      "요약 진행 중:   8%|▊         | 198/2388 [07:23<59:12,  1.62s/it]  "
     ]
    },
    {
     "name": "stdout",
     "output_type": "stream",
     "text": [
      "199/2388 행 요약 완료\n"
     ]
    },
    {
     "name": "stderr",
     "output_type": "stream",
     "text": [
      "요약 진행 중:   8%|▊         | 199/2388 [07:28<1:35:30,  2.62s/it]"
     ]
    },
    {
     "name": "stdout",
     "output_type": "stream",
     "text": [
      "200/2388 행 요약 완료\n"
     ]
    },
    {
     "name": "stderr",
     "output_type": "stream",
     "text": [
      "요약 진행 중:   8%|▊         | 200/2388 [07:30<1:32:29,  2.54s/it]"
     ]
    },
    {
     "name": "stdout",
     "output_type": "stream",
     "text": [
      "201/2388 행 요약 완료\n"
     ]
    },
    {
     "name": "stderr",
     "output_type": "stream",
     "text": [
      "요약 진행 중:   8%|▊         | 201/2388 [07:32<1:26:00,  2.36s/it]"
     ]
    },
    {
     "name": "stdout",
     "output_type": "stream",
     "text": [
      "202/2388 행 요약 완료\n"
     ]
    },
    {
     "name": "stderr",
     "output_type": "stream",
     "text": [
      "요약 진행 중:   8%|▊         | 202/2388 [07:33<1:15:40,  2.08s/it]"
     ]
    },
    {
     "name": "stdout",
     "output_type": "stream",
     "text": [
      "203/2388 행 요약 완료\n"
     ]
    },
    {
     "name": "stderr",
     "output_type": "stream",
     "text": [
      "요약 진행 중:   9%|▊         | 203/2388 [07:35<1:06:54,  1.84s/it]"
     ]
    },
    {
     "name": "stdout",
     "output_type": "stream",
     "text": [
      "204/2388 행 요약 완료\n"
     ]
    },
    {
     "name": "stderr",
     "output_type": "stream",
     "text": [
      "요약 진행 중:   9%|▊         | 204/2388 [07:36<1:00:31,  1.66s/it]"
     ]
    },
    {
     "name": "stdout",
     "output_type": "stream",
     "text": [
      "205/2388 행 요약 완료\n"
     ]
    },
    {
     "name": "stderr",
     "output_type": "stream",
     "text": [
      "요약 진행 중:   9%|▊         | 205/2388 [07:39<1:17:25,  2.13s/it]"
     ]
    },
    {
     "name": "stdout",
     "output_type": "stream",
     "text": [
      "206/2388 행 요약 완료\n"
     ]
    },
    {
     "name": "stderr",
     "output_type": "stream",
     "text": [
      "요약 진행 중:   9%|▊         | 206/2388 [07:42<1:22:12,  2.26s/it]"
     ]
    },
    {
     "name": "stdout",
     "output_type": "stream",
     "text": [
      "207/2388 행 요약 완료\n"
     ]
    },
    {
     "name": "stderr",
     "output_type": "stream",
     "text": [
      "요약 진행 중:   9%|▊         | 207/2388 [07:43<1:13:51,  2.03s/it]"
     ]
    },
    {
     "name": "stdout",
     "output_type": "stream",
     "text": [
      "208/2388 행 요약 완료\n"
     ]
    },
    {
     "name": "stderr",
     "output_type": "stream",
     "text": [
      "요약 진행 중:   9%|▊         | 208/2388 [07:45<1:15:32,  2.08s/it]"
     ]
    },
    {
     "name": "stdout",
     "output_type": "stream",
     "text": [
      "209/2388 행 요약 완료\n"
     ]
    },
    {
     "name": "stderr",
     "output_type": "stream",
     "text": [
      "요약 진행 중:   9%|▉         | 209/2388 [07:48<1:15:49,  2.09s/it]"
     ]
    },
    {
     "name": "stdout",
     "output_type": "stream",
     "text": [
      "210/2388 행 요약 완료\n"
     ]
    },
    {
     "name": "stderr",
     "output_type": "stream",
     "text": [
      "요약 진행 중:   9%|▉         | 210/2388 [07:51<1:28:10,  2.43s/it]"
     ]
    },
    {
     "name": "stdout",
     "output_type": "stream",
     "text": [
      "211/2388 행 요약 완료\n"
     ]
    },
    {
     "name": "stderr",
     "output_type": "stream",
     "text": [
      "요약 진행 중:   9%|▉         | 211/2388 [07:54<1:37:03,  2.67s/it]"
     ]
    },
    {
     "name": "stdout",
     "output_type": "stream",
     "text": [
      "212/2388 행 요약 완료\n"
     ]
    },
    {
     "name": "stderr",
     "output_type": "stream",
     "text": [
      "요약 진행 중:   9%|▉         | 212/2388 [07:55<1:23:09,  2.29s/it]"
     ]
    },
    {
     "name": "stdout",
     "output_type": "stream",
     "text": [
      "213/2388 행 요약 완료\n"
     ]
    },
    {
     "name": "stderr",
     "output_type": "stream",
     "text": [
      "요약 진행 중:   9%|▉         | 213/2388 [07:58<1:22:58,  2.29s/it]"
     ]
    },
    {
     "name": "stdout",
     "output_type": "stream",
     "text": [
      "214/2388 행 요약 완료\n"
     ]
    },
    {
     "name": "stderr",
     "output_type": "stream",
     "text": [
      "요약 진행 중:   9%|▉         | 214/2388 [07:59<1:15:16,  2.08s/it]"
     ]
    },
    {
     "name": "stdout",
     "output_type": "stream",
     "text": [
      "215/2388 행 요약 완료\n"
     ]
    },
    {
     "name": "stderr",
     "output_type": "stream",
     "text": [
      "요약 진행 중:   9%|▉         | 215/2388 [08:02<1:23:03,  2.29s/it]"
     ]
    },
    {
     "name": "stdout",
     "output_type": "stream",
     "text": [
      "216/2388 행 요약 완료\n"
     ]
    },
    {
     "name": "stderr",
     "output_type": "stream",
     "text": [
      "요약 진행 중:   9%|▉         | 216/2388 [08:08<2:02:53,  3.39s/it]"
     ]
    },
    {
     "name": "stdout",
     "output_type": "stream",
     "text": [
      "217/2388 행 요약 완료\n"
     ]
    },
    {
     "name": "stderr",
     "output_type": "stream",
     "text": [
      "요약 진행 중:   9%|▉         | 217/2388 [08:10<1:42:37,  2.84s/it]"
     ]
    },
    {
     "name": "stdout",
     "output_type": "stream",
     "text": [
      "218/2388 행 요약 완료\n"
     ]
    },
    {
     "name": "stderr",
     "output_type": "stream",
     "text": [
      "요약 진행 중:   9%|▉         | 218/2388 [08:11<1:26:49,  2.40s/it]"
     ]
    },
    {
     "name": "stdout",
     "output_type": "stream",
     "text": [
      "219/2388 행 요약 완료\n"
     ]
    },
    {
     "name": "stderr",
     "output_type": "stream",
     "text": [
      "요약 진행 중:   9%|▉         | 219/2388 [08:13<1:20:42,  2.23s/it]"
     ]
    },
    {
     "name": "stdout",
     "output_type": "stream",
     "text": [
      "220/2388 행 요약 완료\n"
     ]
    },
    {
     "name": "stderr",
     "output_type": "stream",
     "text": [
      "요약 진행 중:   9%|▉         | 220/2388 [08:14<1:12:26,  2.00s/it]"
     ]
    },
    {
     "name": "stdout",
     "output_type": "stream",
     "text": [
      "221/2388 행 요약 완료\n"
     ]
    },
    {
     "name": "stderr",
     "output_type": "stream",
     "text": [
      "요약 진행 중:   9%|▉         | 221/2388 [08:16<1:14:48,  2.07s/it]"
     ]
    },
    {
     "name": "stdout",
     "output_type": "stream",
     "text": [
      "222/2388 행 요약 완료\n"
     ]
    },
    {
     "name": "stderr",
     "output_type": "stream",
     "text": [
      "요약 진행 중:   9%|▉         | 222/2388 [08:18<1:05:13,  1.81s/it]"
     ]
    },
    {
     "name": "stdout",
     "output_type": "stream",
     "text": [
      "223/2388 행 요약 완료\n"
     ]
    },
    {
     "name": "stderr",
     "output_type": "stream",
     "text": [
      "요약 진행 중:   9%|▉         | 223/2388 [08:20<1:09:58,  1.94s/it]"
     ]
    },
    {
     "name": "stdout",
     "output_type": "stream",
     "text": [
      "224/2388 행 요약 완료\n"
     ]
    },
    {
     "name": "stderr",
     "output_type": "stream",
     "text": [
      "요약 진행 중:   9%|▉         | 224/2388 [08:22<1:13:11,  2.03s/it]"
     ]
    },
    {
     "name": "stdout",
     "output_type": "stream",
     "text": [
      "225/2388 행 요약 완료\n"
     ]
    },
    {
     "name": "stderr",
     "output_type": "stream",
     "text": [
      "요약 진행 중:   9%|▉         | 225/2388 [08:25<1:25:48,  2.38s/it]"
     ]
    },
    {
     "name": "stdout",
     "output_type": "stream",
     "text": [
      "226/2388 행 요약 완료\n"
     ]
    },
    {
     "name": "stderr",
     "output_type": "stream",
     "text": [
      "요약 진행 중:   9%|▉         | 226/2388 [08:27<1:22:53,  2.30s/it]"
     ]
    },
    {
     "name": "stdout",
     "output_type": "stream",
     "text": [
      "227/2388 행 요약 완료\n"
     ]
    },
    {
     "name": "stderr",
     "output_type": "stream",
     "text": [
      "요약 진행 중:  10%|▉         | 227/2388 [08:30<1:24:07,  2.34s/it]"
     ]
    },
    {
     "name": "stdout",
     "output_type": "stream",
     "text": [
      "228/2388 행 요약 완료\n"
     ]
    },
    {
     "name": "stderr",
     "output_type": "stream",
     "text": [
      "요약 진행 중:  10%|▉         | 228/2388 [08:32<1:22:31,  2.29s/it]"
     ]
    },
    {
     "name": "stdout",
     "output_type": "stream",
     "text": [
      "229/2388 행 요약 완료\n"
     ]
    },
    {
     "name": "stderr",
     "output_type": "stream",
     "text": [
      "요약 진행 중:  10%|▉         | 229/2388 [08:34<1:20:49,  2.25s/it]"
     ]
    },
    {
     "name": "stdout",
     "output_type": "stream",
     "text": [
      "230/2388 행 요약 완료\n"
     ]
    },
    {
     "name": "stderr",
     "output_type": "stream",
     "text": [
      "요약 진행 중:  10%|▉         | 230/2388 [08:35<1:08:33,  1.91s/it]"
     ]
    },
    {
     "name": "stdout",
     "output_type": "stream",
     "text": [
      "231/2388 행 요약 완료\n"
     ]
    },
    {
     "name": "stderr",
     "output_type": "stream",
     "text": [
      "요약 진행 중:  10%|▉         | 231/2388 [08:38<1:17:12,  2.15s/it]"
     ]
    },
    {
     "name": "stdout",
     "output_type": "stream",
     "text": [
      "232/2388 행 요약 완료\n"
     ]
    },
    {
     "name": "stderr",
     "output_type": "stream",
     "text": [
      "요약 진행 중:  10%|▉         | 232/2388 [08:41<1:20:43,  2.25s/it]"
     ]
    },
    {
     "name": "stdout",
     "output_type": "stream",
     "text": [
      "233/2388 행 요약 완료\n"
     ]
    },
    {
     "name": "stderr",
     "output_type": "stream",
     "text": [
      "요약 진행 중:  10%|▉         | 233/2388 [08:44<1:31:33,  2.55s/it]"
     ]
    },
    {
     "name": "stdout",
     "output_type": "stream",
     "text": [
      "234/2388 행 요약 완료\n"
     ]
    },
    {
     "name": "stderr",
     "output_type": "stream",
     "text": [
      "요약 진행 중:  10%|▉         | 234/2388 [08:47<1:35:01,  2.65s/it]"
     ]
    },
    {
     "name": "stdout",
     "output_type": "stream",
     "text": [
      "235/2388 행 요약 완료\n"
     ]
    },
    {
     "name": "stderr",
     "output_type": "stream",
     "text": [
      "요약 진행 중:  10%|▉         | 235/2388 [08:48<1:22:59,  2.31s/it]"
     ]
    },
    {
     "name": "stdout",
     "output_type": "stream",
     "text": [
      "236/2388 행 요약 완료\n"
     ]
    },
    {
     "name": "stderr",
     "output_type": "stream",
     "text": [
      "요약 진행 중:  10%|▉         | 236/2388 [08:49<1:11:09,  1.98s/it]"
     ]
    },
    {
     "name": "stdout",
     "output_type": "stream",
     "text": [
      "237/2388 행 요약 완료\n"
     ]
    },
    {
     "name": "stderr",
     "output_type": "stream",
     "text": [
      "요약 진행 중:  10%|▉         | 237/2388 [08:52<1:21:36,  2.28s/it]"
     ]
    },
    {
     "name": "stdout",
     "output_type": "stream",
     "text": [
      "238/2388 행 요약 완료\n"
     ]
    },
    {
     "name": "stderr",
     "output_type": "stream",
     "text": [
      "요약 진행 중:  10%|▉         | 238/2388 [08:55<1:21:30,  2.27s/it]"
     ]
    },
    {
     "name": "stdout",
     "output_type": "stream",
     "text": [
      "239/2388 행 요약 완료\n"
     ]
    },
    {
     "name": "stderr",
     "output_type": "stream",
     "text": [
      "요약 진행 중:  10%|█         | 239/2388 [08:58<1:35:41,  2.67s/it]"
     ]
    },
    {
     "name": "stdout",
     "output_type": "stream",
     "text": [
      "240/2388 행 요약 완료\n"
     ]
    },
    {
     "name": "stderr",
     "output_type": "stream",
     "text": [
      "요약 진행 중:  10%|█         | 240/2388 [08:59<1:19:32,  2.22s/it]"
     ]
    },
    {
     "name": "stdout",
     "output_type": "stream",
     "text": [
      "241/2388 행 요약 완료\n"
     ]
    },
    {
     "name": "stderr",
     "output_type": "stream",
     "text": [
      "요약 진행 중:  10%|█         | 241/2388 [09:02<1:26:16,  2.41s/it]"
     ]
    },
    {
     "name": "stdout",
     "output_type": "stream",
     "text": [
      "242/2388 행 요약 완료\n"
     ]
    },
    {
     "name": "stderr",
     "output_type": "stream",
     "text": [
      "요약 진행 중:  10%|█         | 242/2388 [09:04<1:17:32,  2.17s/it]"
     ]
    },
    {
     "name": "stdout",
     "output_type": "stream",
     "text": [
      "243/2388 행 요약 완료\n"
     ]
    },
    {
     "name": "stderr",
     "output_type": "stream",
     "text": [
      "요약 진행 중:  10%|█         | 243/2388 [09:05<1:07:31,  1.89s/it]"
     ]
    },
    {
     "name": "stdout",
     "output_type": "stream",
     "text": [
      "244/2388 행 요약 완료\n"
     ]
    },
    {
     "name": "stderr",
     "output_type": "stream",
     "text": [
      "요약 진행 중:  10%|█         | 244/2388 [09:07<1:03:59,  1.79s/it]"
     ]
    },
    {
     "name": "stdout",
     "output_type": "stream",
     "text": [
      "245/2388 행 요약 완료\n"
     ]
    },
    {
     "name": "stderr",
     "output_type": "stream",
     "text": [
      "요약 진행 중:  10%|█         | 245/2388 [09:10<1:16:52,  2.15s/it]"
     ]
    },
    {
     "name": "stdout",
     "output_type": "stream",
     "text": [
      "246/2388 행 요약 완료\n"
     ]
    },
    {
     "name": "stderr",
     "output_type": "stream",
     "text": [
      "요약 진행 중:  10%|█         | 246/2388 [09:14<1:44:15,  2.92s/it]"
     ]
    },
    {
     "name": "stdout",
     "output_type": "stream",
     "text": [
      "247/2388 행 요약 완료\n"
     ]
    },
    {
     "name": "stderr",
     "output_type": "stream",
     "text": [
      "요약 진행 중:  10%|█         | 247/2388 [09:17<1:42:23,  2.87s/it]"
     ]
    },
    {
     "name": "stdout",
     "output_type": "stream",
     "text": [
      "248/2388 행 요약 완료\n"
     ]
    },
    {
     "name": "stderr",
     "output_type": "stream",
     "text": [
      "요약 진행 중:  10%|█         | 248/2388 [09:19<1:28:25,  2.48s/it]"
     ]
    },
    {
     "name": "stdout",
     "output_type": "stream",
     "text": [
      "249/2388 행 요약 완료\n"
     ]
    },
    {
     "name": "stderr",
     "output_type": "stream",
     "text": [
      "요약 진행 중:  10%|█         | 249/2388 [09:20<1:19:11,  2.22s/it]"
     ]
    },
    {
     "name": "stdout",
     "output_type": "stream",
     "text": [
      "250/2388 행 요약 완료\n"
     ]
    },
    {
     "name": "stderr",
     "output_type": "stream",
     "text": [
      "요약 진행 중:  10%|█         | 250/2388 [09:23<1:25:25,  2.40s/it]"
     ]
    },
    {
     "name": "stdout",
     "output_type": "stream",
     "text": [
      "251/2388 행 요약 완료\n"
     ]
    },
    {
     "name": "stderr",
     "output_type": "stream",
     "text": [
      "요약 진행 중:  11%|█         | 251/2388 [09:24<1:09:29,  1.95s/it]"
     ]
    },
    {
     "name": "stdout",
     "output_type": "stream",
     "text": [
      "252/2388 행 요약 완료\n"
     ]
    },
    {
     "name": "stderr",
     "output_type": "stream",
     "text": [
      "요약 진행 중:  11%|█         | 252/2388 [09:26<1:04:18,  1.81s/it]"
     ]
    },
    {
     "name": "stdout",
     "output_type": "stream",
     "text": [
      "253/2388 행 요약 완료\n"
     ]
    },
    {
     "name": "stderr",
     "output_type": "stream",
     "text": [
      "요약 진행 중:  11%|█         | 253/2388 [09:27<59:40,  1.68s/it]  "
     ]
    },
    {
     "name": "stdout",
     "output_type": "stream",
     "text": [
      "254/2388 행 요약 완료\n"
     ]
    },
    {
     "name": "stderr",
     "output_type": "stream",
     "text": [
      "요약 진행 중:  11%|█         | 254/2388 [09:31<1:24:28,  2.38s/it]"
     ]
    },
    {
     "name": "stdout",
     "output_type": "stream",
     "text": [
      "255/2388 행 요약 완료\n"
     ]
    },
    {
     "name": "stderr",
     "output_type": "stream",
     "text": [
      "요약 진행 중:  11%|█         | 255/2388 [09:34<1:29:48,  2.53s/it]"
     ]
    },
    {
     "name": "stdout",
     "output_type": "stream",
     "text": [
      "256/2388 행 요약 완료\n"
     ]
    },
    {
     "name": "stderr",
     "output_type": "stream",
     "text": [
      "요약 진행 중:  11%|█         | 256/2388 [09:36<1:22:43,  2.33s/it]"
     ]
    },
    {
     "name": "stdout",
     "output_type": "stream",
     "text": [
      "257/2388 행 요약 완료\n"
     ]
    },
    {
     "name": "stderr",
     "output_type": "stream",
     "text": [
      "요약 진행 중:  11%|█         | 257/2388 [09:38<1:24:30,  2.38s/it]"
     ]
    },
    {
     "name": "stdout",
     "output_type": "stream",
     "text": [
      "258/2388 행 요약 완료\n"
     ]
    },
    {
     "name": "stderr",
     "output_type": "stream",
     "text": [
      "요약 진행 중:  11%|█         | 258/2388 [09:40<1:17:06,  2.17s/it]"
     ]
    },
    {
     "name": "stdout",
     "output_type": "stream",
     "text": [
      "259/2388 행 요약 완료\n"
     ]
    },
    {
     "name": "stderr",
     "output_type": "stream",
     "text": [
      "요약 진행 중:  11%|█         | 259/2388 [09:42<1:22:15,  2.32s/it]"
     ]
    },
    {
     "name": "stdout",
     "output_type": "stream",
     "text": [
      "260/2388 행 요약 완료\n"
     ]
    },
    {
     "name": "stderr",
     "output_type": "stream",
     "text": [
      "요약 진행 중:  11%|█         | 260/2388 [09:44<1:12:57,  2.06s/it]"
     ]
    },
    {
     "name": "stdout",
     "output_type": "stream",
     "text": [
      "261/2388 행 요약 완료\n"
     ]
    },
    {
     "name": "stderr",
     "output_type": "stream",
     "text": [
      "요약 진행 중:  11%|█         | 261/2388 [09:46<1:16:37,  2.16s/it]"
     ]
    },
    {
     "name": "stdout",
     "output_type": "stream",
     "text": [
      "262/2388 행 요약 완료\n"
     ]
    },
    {
     "name": "stderr",
     "output_type": "stream",
     "text": [
      "요약 진행 중:  11%|█         | 262/2388 [09:50<1:27:36,  2.47s/it]"
     ]
    },
    {
     "name": "stdout",
     "output_type": "stream",
     "text": [
      "263/2388 행 요약 완료\n"
     ]
    },
    {
     "name": "stderr",
     "output_type": "stream",
     "text": [
      "요약 진행 중:  11%|█         | 263/2388 [09:51<1:19:53,  2.26s/it]"
     ]
    },
    {
     "name": "stdout",
     "output_type": "stream",
     "text": [
      "264/2388 행 요약 완료\n"
     ]
    },
    {
     "name": "stderr",
     "output_type": "stream",
     "text": [
      "요약 진행 중:  11%|█         | 264/2388 [09:53<1:18:44,  2.22s/it]"
     ]
    },
    {
     "name": "stdout",
     "output_type": "stream",
     "text": [
      "265/2388 행 요약 완료\n"
     ]
    },
    {
     "name": "stderr",
     "output_type": "stream",
     "text": [
      "요약 진행 중:  11%|█         | 265/2388 [09:55<1:12:49,  2.06s/it]"
     ]
    },
    {
     "name": "stdout",
     "output_type": "stream",
     "text": [
      "266/2388 행 요약 완료\n"
     ]
    },
    {
     "name": "stderr",
     "output_type": "stream",
     "text": [
      "요약 진행 중:  11%|█         | 266/2388 [09:56<1:05:34,  1.85s/it]"
     ]
    },
    {
     "name": "stdout",
     "output_type": "stream",
     "text": [
      "267/2388 행 요약 완료\n"
     ]
    },
    {
     "name": "stderr",
     "output_type": "stream",
     "text": [
      "요약 진행 중:  11%|█         | 267/2388 [09:59<1:07:44,  1.92s/it]"
     ]
    },
    {
     "name": "stdout",
     "output_type": "stream",
     "text": [
      "268/2388 행 요약 완료\n"
     ]
    },
    {
     "name": "stderr",
     "output_type": "stream",
     "text": [
      "요약 진행 중:  11%|█         | 268/2388 [10:01<1:09:16,  1.96s/it]"
     ]
    },
    {
     "name": "stdout",
     "output_type": "stream",
     "text": [
      "269/2388 행 요약 완료\n"
     ]
    },
    {
     "name": "stderr",
     "output_type": "stream",
     "text": [
      "요약 진행 중:  11%|█▏        | 269/2388 [10:02<1:01:53,  1.75s/it]"
     ]
    },
    {
     "name": "stdout",
     "output_type": "stream",
     "text": [
      "270/2388 행 요약 완료\n"
     ]
    },
    {
     "name": "stderr",
     "output_type": "stream",
     "text": [
      "요약 진행 중:  11%|█▏        | 270/2388 [10:05<1:16:17,  2.16s/it]"
     ]
    },
    {
     "name": "stdout",
     "output_type": "stream",
     "text": [
      "271/2388 행 요약 완료\n"
     ]
    },
    {
     "name": "stderr",
     "output_type": "stream",
     "text": [
      "요약 진행 중:  11%|█▏        | 271/2388 [10:08<1:20:15,  2.27s/it]"
     ]
    },
    {
     "name": "stdout",
     "output_type": "stream",
     "text": [
      "272/2388 행 요약 완료\n"
     ]
    },
    {
     "name": "stderr",
     "output_type": "stream",
     "text": [
      "요약 진행 중:  11%|█▏        | 272/2388 [10:09<1:07:56,  1.93s/it]"
     ]
    },
    {
     "name": "stdout",
     "output_type": "stream",
     "text": [
      "273/2388 행 요약 완료\n"
     ]
    },
    {
     "name": "stderr",
     "output_type": "stream",
     "text": [
      "요약 진행 중:  11%|█▏        | 273/2388 [10:11<1:11:24,  2.03s/it]"
     ]
    },
    {
     "name": "stdout",
     "output_type": "stream",
     "text": [
      "274/2388 행 요약 완료\n"
     ]
    },
    {
     "name": "stderr",
     "output_type": "stream",
     "text": [
      "요약 진행 중:  11%|█▏        | 274/2388 [10:12<1:02:29,  1.77s/it]"
     ]
    },
    {
     "name": "stdout",
     "output_type": "stream",
     "text": [
      "275/2388 행 요약 완료\n"
     ]
    },
    {
     "name": "stderr",
     "output_type": "stream",
     "text": [
      "요약 진행 중:  12%|█▏        | 275/2388 [10:14<1:03:25,  1.80s/it]"
     ]
    },
    {
     "name": "stdout",
     "output_type": "stream",
     "text": [
      "276/2388 행 요약 완료\n"
     ]
    },
    {
     "name": "stderr",
     "output_type": "stream",
     "text": [
      "요약 진행 중:  12%|█▏        | 276/2388 [10:15<1:00:03,  1.71s/it]"
     ]
    },
    {
     "name": "stdout",
     "output_type": "stream",
     "text": [
      "277/2388 행 요약 완료\n"
     ]
    },
    {
     "name": "stderr",
     "output_type": "stream",
     "text": [
      "요약 진행 중:  12%|█▏        | 277/2388 [10:18<1:10:26,  2.00s/it]"
     ]
    },
    {
     "name": "stdout",
     "output_type": "stream",
     "text": [
      "278/2388 행 요약 완료\n"
     ]
    },
    {
     "name": "stderr",
     "output_type": "stream",
     "text": [
      "요약 진행 중:  12%|█▏        | 278/2388 [10:20<1:07:24,  1.92s/it]"
     ]
    },
    {
     "name": "stdout",
     "output_type": "stream",
     "text": [
      "279/2388 행 요약 완료\n"
     ]
    },
    {
     "name": "stderr",
     "output_type": "stream",
     "text": [
      "요약 진행 중:  12%|█▏        | 279/2388 [10:22<1:08:21,  1.94s/it]"
     ]
    },
    {
     "name": "stdout",
     "output_type": "stream",
     "text": [
      "280/2388 행 요약 완료\n"
     ]
    },
    {
     "name": "stderr",
     "output_type": "stream",
     "text": [
      "요약 진행 중:  12%|█▏        | 280/2388 [10:23<1:00:40,  1.73s/it]"
     ]
    },
    {
     "name": "stdout",
     "output_type": "stream",
     "text": [
      "281/2388 행 요약 완료\n"
     ]
    },
    {
     "name": "stderr",
     "output_type": "stream",
     "text": [
      "요약 진행 중:  12%|█▏        | 281/2388 [10:25<58:39,  1.67s/it]  "
     ]
    },
    {
     "name": "stdout",
     "output_type": "stream",
     "text": [
      "282/2388 행 요약 완료\n"
     ]
    },
    {
     "name": "stderr",
     "output_type": "stream",
     "text": [
      "요약 진행 중:  12%|█▏        | 282/2388 [10:26<54:48,  1.56s/it]"
     ]
    },
    {
     "name": "stdout",
     "output_type": "stream",
     "text": [
      "283/2388 행 요약 완료\n"
     ]
    },
    {
     "name": "stderr",
     "output_type": "stream",
     "text": [
      "요약 진행 중:  12%|█▏        | 283/2388 [10:27<52:05,  1.48s/it]"
     ]
    },
    {
     "name": "stdout",
     "output_type": "stream",
     "text": [
      "284/2388 행 요약 완료\n"
     ]
    },
    {
     "name": "stderr",
     "output_type": "stream",
     "text": [
      "요약 진행 중:  12%|█▏        | 284/2388 [10:29<53:59,  1.54s/it]"
     ]
    },
    {
     "name": "stdout",
     "output_type": "stream",
     "text": [
      "285/2388 행 요약 완료\n"
     ]
    },
    {
     "name": "stderr",
     "output_type": "stream",
     "text": [
      "요약 진행 중:  12%|█▏        | 285/2388 [10:31<55:46,  1.59s/it]"
     ]
    },
    {
     "name": "stdout",
     "output_type": "stream",
     "text": [
      "286/2388 행 요약 완료\n"
     ]
    },
    {
     "name": "stderr",
     "output_type": "stream",
     "text": [
      "요약 진행 중:  12%|█▏        | 286/2388 [10:32<54:54,  1.57s/it]"
     ]
    },
    {
     "name": "stdout",
     "output_type": "stream",
     "text": [
      "287/2388 행 요약 완료\n"
     ]
    },
    {
     "name": "stderr",
     "output_type": "stream",
     "text": [
      "요약 진행 중:  12%|█▏        | 287/2388 [10:34<1:02:04,  1.77s/it]"
     ]
    },
    {
     "name": "stdout",
     "output_type": "stream",
     "text": [
      "288/2388 행 요약 완료\n"
     ]
    },
    {
     "name": "stderr",
     "output_type": "stream",
     "text": [
      "요약 진행 중:  12%|█▏        | 288/2388 [10:36<57:26,  1.64s/it]  "
     ]
    },
    {
     "name": "stdout",
     "output_type": "stream",
     "text": [
      "289/2388 행 요약 완료\n"
     ]
    },
    {
     "name": "stderr",
     "output_type": "stream",
     "text": [
      "요약 진행 중:  12%|█▏        | 289/2388 [10:38<59:27,  1.70s/it]"
     ]
    },
    {
     "name": "stdout",
     "output_type": "stream",
     "text": [
      "290/2388 행 요약 완료\n"
     ]
    },
    {
     "name": "stderr",
     "output_type": "stream",
     "text": [
      "요약 진행 중:  12%|█▏        | 290/2388 [10:41<1:23:13,  2.38s/it]"
     ]
    },
    {
     "name": "stdout",
     "output_type": "stream",
     "text": [
      "291/2388 행 요약 완료\n"
     ]
    },
    {
     "name": "stderr",
     "output_type": "stream",
     "text": [
      "요약 진행 중:  12%|█▏        | 291/2388 [10:46<1:40:48,  2.88s/it]"
     ]
    },
    {
     "name": "stdout",
     "output_type": "stream",
     "text": [
      "292/2388 행 요약 완료\n"
     ]
    },
    {
     "name": "stderr",
     "output_type": "stream",
     "text": [
      "요약 진행 중:  12%|█▏        | 292/2388 [10:48<1:38:53,  2.83s/it]"
     ]
    },
    {
     "name": "stdout",
     "output_type": "stream",
     "text": [
      "293/2388 행 요약 완료\n"
     ]
    },
    {
     "name": "stderr",
     "output_type": "stream",
     "text": [
      "요약 진행 중:  12%|█▏        | 293/2388 [10:50<1:23:03,  2.38s/it]"
     ]
    },
    {
     "name": "stdout",
     "output_type": "stream",
     "text": [
      "294/2388 행 요약 완료\n"
     ]
    },
    {
     "name": "stderr",
     "output_type": "stream",
     "text": [
      "요약 진행 중:  12%|█▏        | 294/2388 [10:51<1:10:17,  2.01s/it]"
     ]
    },
    {
     "name": "stdout",
     "output_type": "stream",
     "text": [
      "295/2388 행 요약 완료\n"
     ]
    },
    {
     "name": "stderr",
     "output_type": "stream",
     "text": [
      "요약 진행 중:  12%|█▏        | 295/2388 [10:54<1:21:03,  2.32s/it]"
     ]
    },
    {
     "name": "stdout",
     "output_type": "stream",
     "text": [
      "296/2388 행 요약 완료\n"
     ]
    },
    {
     "name": "stderr",
     "output_type": "stream",
     "text": [
      "요약 진행 중:  12%|█▏        | 296/2388 [10:57<1:27:49,  2.52s/it]"
     ]
    },
    {
     "name": "stdout",
     "output_type": "stream",
     "text": [
      "297/2388 행 요약 완료\n"
     ]
    },
    {
     "name": "stderr",
     "output_type": "stream",
     "text": [
      "요약 진행 중:  12%|█▏        | 297/2388 [10:58<1:15:30,  2.17s/it]"
     ]
    },
    {
     "name": "stdout",
     "output_type": "stream",
     "text": [
      "298/2388 행 요약 완료\n"
     ]
    },
    {
     "name": "stderr",
     "output_type": "stream",
     "text": [
      "요약 진행 중:  12%|█▏        | 298/2388 [11:00<1:16:27,  2.20s/it]"
     ]
    },
    {
     "name": "stdout",
     "output_type": "stream",
     "text": [
      "299/2388 행 요약 완료\n"
     ]
    },
    {
     "name": "stderr",
     "output_type": "stream",
     "text": [
      "요약 진행 중:  13%|█▎        | 299/2388 [11:03<1:16:08,  2.19s/it]"
     ]
    },
    {
     "name": "stdout",
     "output_type": "stream",
     "text": [
      "300/2388 행 요약 완료\n"
     ]
    },
    {
     "name": "stderr",
     "output_type": "stream",
     "text": [
      "요약 진행 중:  13%|█▎        | 300/2388 [11:04<1:07:38,  1.94s/it]"
     ]
    },
    {
     "name": "stdout",
     "output_type": "stream",
     "text": [
      "301/2388 행 요약 완료\n"
     ]
    },
    {
     "name": "stderr",
     "output_type": "stream",
     "text": [
      "요약 진행 중:  13%|█▎        | 301/2388 [11:07<1:23:28,  2.40s/it]"
     ]
    },
    {
     "name": "stdout",
     "output_type": "stream",
     "text": [
      "302/2388 행 요약 완료\n"
     ]
    },
    {
     "name": "stderr",
     "output_type": "stream",
     "text": [
      "요약 진행 중:  13%|█▎        | 302/2388 [11:09<1:18:26,  2.26s/it]"
     ]
    },
    {
     "name": "stdout",
     "output_type": "stream",
     "text": [
      "303/2388 행 요약 완료\n"
     ]
    },
    {
     "name": "stderr",
     "output_type": "stream",
     "text": [
      "요약 진행 중:  13%|█▎        | 303/2388 [11:12<1:18:42,  2.27s/it]"
     ]
    },
    {
     "name": "stdout",
     "output_type": "stream",
     "text": [
      "304/2388 행 요약 완료\n"
     ]
    },
    {
     "name": "stderr",
     "output_type": "stream",
     "text": [
      "요약 진행 중:  13%|█▎        | 304/2388 [11:13<1:08:35,  1.97s/it]"
     ]
    },
    {
     "name": "stdout",
     "output_type": "stream",
     "text": [
      "305/2388 행 요약 완료\n"
     ]
    },
    {
     "name": "stderr",
     "output_type": "stream",
     "text": [
      "요약 진행 중:  13%|█▎        | 305/2388 [11:15<1:06:07,  1.90s/it]"
     ]
    },
    {
     "name": "stdout",
     "output_type": "stream",
     "text": [
      "306/2388 행 요약 완료\n"
     ]
    },
    {
     "name": "stderr",
     "output_type": "stream",
     "text": [
      "요약 진행 중:  13%|█▎        | 306/2388 [11:18<1:17:41,  2.24s/it]"
     ]
    },
    {
     "name": "stdout",
     "output_type": "stream",
     "text": [
      "307/2388 행 요약 완료\n"
     ]
    },
    {
     "name": "stderr",
     "output_type": "stream",
     "text": [
      "요약 진행 중:  13%|█▎        | 307/2388 [11:20<1:23:47,  2.42s/it]"
     ]
    },
    {
     "name": "stdout",
     "output_type": "stream",
     "text": [
      "308/2388 행 요약 완료\n"
     ]
    },
    {
     "name": "stderr",
     "output_type": "stream",
     "text": [
      "요약 진행 중:  13%|█▎        | 308/2388 [11:22<1:18:35,  2.27s/it]"
     ]
    },
    {
     "name": "stdout",
     "output_type": "stream",
     "text": [
      "309/2388 행 요약 완료\n"
     ]
    },
    {
     "name": "stderr",
     "output_type": "stream",
     "text": [
      "요약 진행 중:  13%|█▎        | 309/2388 [11:24<1:14:34,  2.15s/it]"
     ]
    },
    {
     "name": "stdout",
     "output_type": "stream",
     "text": [
      "310/2388 행 요약 완료\n"
     ]
    },
    {
     "name": "stderr",
     "output_type": "stream",
     "text": [
      "요약 진행 중:  13%|█▎        | 310/2388 [11:26<1:13:56,  2.14s/it]"
     ]
    },
    {
     "name": "stdout",
     "output_type": "stream",
     "text": [
      "311/2388 행 요약 완료\n"
     ]
    },
    {
     "name": "stderr",
     "output_type": "stream",
     "text": [
      "요약 진행 중:  13%|█▎        | 311/2388 [11:32<1:50:25,  3.19s/it]"
     ]
    },
    {
     "name": "stdout",
     "output_type": "stream",
     "text": [
      "312/2388 행 요약 완료\n"
     ]
    },
    {
     "name": "stderr",
     "output_type": "stream",
     "text": [
      "요약 진행 중:  13%|█▎        | 312/2388 [11:34<1:38:30,  2.85s/it]"
     ]
    },
    {
     "name": "stdout",
     "output_type": "stream",
     "text": [
      "313/2388 행 요약 완료\n"
     ]
    },
    {
     "name": "stderr",
     "output_type": "stream",
     "text": [
      "요약 진행 중:  13%|█▎        | 313/2388 [11:36<1:24:02,  2.43s/it]"
     ]
    },
    {
     "name": "stdout",
     "output_type": "stream",
     "text": [
      "314/2388 행 요약 완료\n"
     ]
    },
    {
     "name": "stderr",
     "output_type": "stream",
     "text": [
      "요약 진행 중:  13%|█▎        | 314/2388 [11:37<1:18:57,  2.28s/it]"
     ]
    },
    {
     "name": "stdout",
     "output_type": "stream",
     "text": [
      "315/2388 행 요약 완료\n"
     ]
    },
    {
     "name": "stderr",
     "output_type": "stream",
     "text": [
      "요약 진행 중:  13%|█▎        | 315/2388 [11:39<1:15:15,  2.18s/it]"
     ]
    },
    {
     "name": "stdout",
     "output_type": "stream",
     "text": [
      "316/2388 행 요약 완료\n"
     ]
    },
    {
     "name": "stderr",
     "output_type": "stream",
     "text": [
      "요약 진행 중:  13%|█▎        | 316/2388 [11:43<1:25:34,  2.48s/it]"
     ]
    },
    {
     "name": "stdout",
     "output_type": "stream",
     "text": [
      "317/2388 행 요약 완료\n"
     ]
    },
    {
     "name": "stderr",
     "output_type": "stream",
     "text": [
      "요약 진행 중:  13%|█▎        | 317/2388 [11:45<1:20:57,  2.35s/it]"
     ]
    },
    {
     "name": "stdout",
     "output_type": "stream",
     "text": [
      "318/2388 행 요약 완료\n"
     ]
    },
    {
     "name": "stderr",
     "output_type": "stream",
     "text": [
      "요약 진행 중:  13%|█▎        | 318/2388 [11:47<1:23:09,  2.41s/it]"
     ]
    },
    {
     "name": "stdout",
     "output_type": "stream",
     "text": [
      "319/2388 행 요약 완료\n"
     ]
    },
    {
     "name": "stderr",
     "output_type": "stream",
     "text": [
      "요약 진행 중:  13%|█▎        | 319/2388 [11:51<1:34:58,  2.75s/it]"
     ]
    },
    {
     "name": "stdout",
     "output_type": "stream",
     "text": [
      "320/2388 행 요약 완료\n"
     ]
    },
    {
     "name": "stderr",
     "output_type": "stream",
     "text": [
      "요약 진행 중:  13%|█▎        | 320/2388 [11:52<1:20:08,  2.33s/it]"
     ]
    },
    {
     "name": "stdout",
     "output_type": "stream",
     "text": [
      "321/2388 행 요약 완료\n"
     ]
    },
    {
     "name": "stderr",
     "output_type": "stream",
     "text": [
      "요약 진행 중:  13%|█▎        | 321/2388 [11:54<1:14:04,  2.15s/it]"
     ]
    },
    {
     "name": "stdout",
     "output_type": "stream",
     "text": [
      "322/2388 행 요약 완료\n"
     ]
    },
    {
     "name": "stderr",
     "output_type": "stream",
     "text": [
      "요약 진행 중:  13%|█▎        | 322/2388 [11:56<1:18:26,  2.28s/it]"
     ]
    },
    {
     "name": "stdout",
     "output_type": "stream",
     "text": [
      "323/2388 행 요약 완료\n"
     ]
    },
    {
     "name": "stderr",
     "output_type": "stream",
     "text": [
      "요약 진행 중:  14%|█▎        | 323/2388 [11:59<1:22:26,  2.40s/it]"
     ]
    },
    {
     "name": "stdout",
     "output_type": "stream",
     "text": [
      "324/2388 행 요약 완료\n"
     ]
    },
    {
     "name": "stderr",
     "output_type": "stream",
     "text": [
      "요약 진행 중:  14%|█▎        | 324/2388 [12:01<1:14:19,  2.16s/it]"
     ]
    },
    {
     "name": "stdout",
     "output_type": "stream",
     "text": [
      "325/2388 행 요약 완료\n"
     ]
    },
    {
     "name": "stderr",
     "output_type": "stream",
     "text": [
      "요약 진행 중:  14%|█▎        | 325/2388 [12:04<1:24:52,  2.47s/it]"
     ]
    },
    {
     "name": "stdout",
     "output_type": "stream",
     "text": [
      "326/2388 행 요약 완료\n"
     ]
    },
    {
     "name": "stderr",
     "output_type": "stream",
     "text": [
      "요약 진행 중:  14%|█▎        | 326/2388 [12:07<1:29:32,  2.61s/it]"
     ]
    },
    {
     "name": "stdout",
     "output_type": "stream",
     "text": [
      "327/2388 행 요약 완료\n"
     ]
    },
    {
     "name": "stderr",
     "output_type": "stream",
     "text": [
      "요약 진행 중:  14%|█▎        | 327/2388 [12:09<1:29:31,  2.61s/it]"
     ]
    },
    {
     "name": "stdout",
     "output_type": "stream",
     "text": [
      "328/2388 행 요약 완료\n"
     ]
    },
    {
     "name": "stderr",
     "output_type": "stream",
     "text": [
      "요약 진행 중:  14%|█▎        | 328/2388 [12:13<1:40:32,  2.93s/it]"
     ]
    },
    {
     "name": "stdout",
     "output_type": "stream",
     "text": [
      "329/2388 행 요약 완료\n"
     ]
    },
    {
     "name": "stderr",
     "output_type": "stream",
     "text": [
      "요약 진행 중:  14%|█▍        | 329/2388 [12:17<1:48:49,  3.17s/it]"
     ]
    },
    {
     "name": "stdout",
     "output_type": "stream",
     "text": [
      "330/2388 행 요약 완료\n"
     ]
    },
    {
     "name": "stderr",
     "output_type": "stream",
     "text": [
      "요약 진행 중:  14%|█▍        | 330/2388 [12:18<1:27:47,  2.56s/it]"
     ]
    },
    {
     "name": "stdout",
     "output_type": "stream",
     "text": [
      "331/2388 행 요약 완료\n"
     ]
    },
    {
     "name": "stderr",
     "output_type": "stream",
     "text": [
      "요약 진행 중:  14%|█▍        | 331/2388 [12:22<1:43:24,  3.02s/it]"
     ]
    },
    {
     "name": "stdout",
     "output_type": "stream",
     "text": [
      "332/2388 행 요약 완료\n"
     ]
    },
    {
     "name": "stderr",
     "output_type": "stream",
     "text": [
      "요약 진행 중:  14%|█▍        | 332/2388 [12:25<1:41:35,  2.96s/it]"
     ]
    },
    {
     "name": "stdout",
     "output_type": "stream",
     "text": [
      "333/2388 행 요약 완료\n"
     ]
    },
    {
     "name": "stderr",
     "output_type": "stream",
     "text": [
      "요약 진행 중:  14%|█▍        | 333/2388 [12:28<1:42:42,  3.00s/it]"
     ]
    },
    {
     "name": "stdout",
     "output_type": "stream",
     "text": [
      "334/2388 행 요약 완료\n"
     ]
    },
    {
     "name": "stderr",
     "output_type": "stream",
     "text": [
      "요약 진행 중:  14%|█▍        | 334/2388 [12:30<1:29:45,  2.62s/it]"
     ]
    },
    {
     "name": "stdout",
     "output_type": "stream",
     "text": [
      "335/2388 행 요약 완료\n"
     ]
    },
    {
     "name": "stderr",
     "output_type": "stream",
     "text": [
      "요약 진행 중:  14%|█▍        | 335/2388 [12:31<1:20:11,  2.34s/it]"
     ]
    },
    {
     "name": "stdout",
     "output_type": "stream",
     "text": [
      "336/2388 행 요약 완료\n"
     ]
    },
    {
     "name": "stderr",
     "output_type": "stream",
     "text": [
      "요약 진행 중:  14%|█▍        | 336/2388 [12:33<1:13:13,  2.14s/it]"
     ]
    },
    {
     "name": "stdout",
     "output_type": "stream",
     "text": [
      "337/2388 행 요약 완료\n"
     ]
    },
    {
     "name": "stderr",
     "output_type": "stream",
     "text": [
      "요약 진행 중:  14%|█▍        | 337/2388 [12:34<1:05:51,  1.93s/it]"
     ]
    },
    {
     "name": "stdout",
     "output_type": "stream",
     "text": [
      "338/2388 행 요약 완료\n"
     ]
    },
    {
     "name": "stderr",
     "output_type": "stream",
     "text": [
      "요약 진행 중:  14%|█▍        | 338/2388 [12:39<1:35:59,  2.81s/it]"
     ]
    },
    {
     "name": "stdout",
     "output_type": "stream",
     "text": [
      "339/2388 행 요약 완료\n"
     ]
    },
    {
     "name": "stderr",
     "output_type": "stream",
     "text": [
      "요약 진행 중:  14%|█▍        | 339/2388 [12:41<1:23:34,  2.45s/it]"
     ]
    },
    {
     "name": "stdout",
     "output_type": "stream",
     "text": [
      "340/2388 행 요약 완료\n"
     ]
    },
    {
     "name": "stderr",
     "output_type": "stream",
     "text": [
      "요약 진행 중:  14%|█▍        | 340/2388 [12:43<1:16:01,  2.23s/it]"
     ]
    },
    {
     "name": "stdout",
     "output_type": "stream",
     "text": [
      "341/2388 행 요약 완료\n"
     ]
    },
    {
     "name": "stderr",
     "output_type": "stream",
     "text": [
      "요약 진행 중:  14%|█▍        | 341/2388 [12:46<1:24:41,  2.48s/it]"
     ]
    },
    {
     "name": "stdout",
     "output_type": "stream",
     "text": [
      "342/2388 행 요약 완료\n"
     ]
    },
    {
     "name": "stderr",
     "output_type": "stream",
     "text": [
      "요약 진행 중:  14%|█▍        | 342/2388 [12:48<1:24:51,  2.49s/it]"
     ]
    },
    {
     "name": "stdout",
     "output_type": "stream",
     "text": [
      "343/2388 행 요약 완료\n"
     ]
    },
    {
     "name": "stderr",
     "output_type": "stream",
     "text": [
      "요약 진행 중:  14%|█▍        | 343/2388 [12:50<1:13:57,  2.17s/it]"
     ]
    },
    {
     "name": "stdout",
     "output_type": "stream",
     "text": [
      "344/2388 행 요약 완료\n"
     ]
    },
    {
     "name": "stderr",
     "output_type": "stream",
     "text": [
      "요약 진행 중:  14%|█▍        | 344/2388 [12:53<1:28:29,  2.60s/it]"
     ]
    },
    {
     "name": "stdout",
     "output_type": "stream",
     "text": [
      "345/2388 행 요약 완료\n"
     ]
    },
    {
     "name": "stderr",
     "output_type": "stream",
     "text": [
      "요약 진행 중:  14%|█▍        | 345/2388 [12:55<1:17:52,  2.29s/it]"
     ]
    },
    {
     "name": "stdout",
     "output_type": "stream",
     "text": [
      "346/2388 행 요약 완료\n"
     ]
    },
    {
     "name": "stderr",
     "output_type": "stream",
     "text": [
      "요약 진행 중:  14%|█▍        | 346/2388 [12:56<1:08:10,  2.00s/it]"
     ]
    },
    {
     "name": "stdout",
     "output_type": "stream",
     "text": [
      "347/2388 행 요약 완료\n"
     ]
    },
    {
     "name": "stderr",
     "output_type": "stream",
     "text": [
      "요약 진행 중:  15%|█▍        | 347/2388 [12:58<1:03:58,  1.88s/it]"
     ]
    },
    {
     "name": "stdout",
     "output_type": "stream",
     "text": [
      "348/2388 행 요약 완료\n"
     ]
    },
    {
     "name": "stderr",
     "output_type": "stream",
     "text": [
      "요약 진행 중:  15%|█▍        | 348/2388 [12:59<59:13,  1.74s/it]  "
     ]
    },
    {
     "name": "stdout",
     "output_type": "stream",
     "text": [
      "349/2388 행 요약 완료\n"
     ]
    },
    {
     "name": "stderr",
     "output_type": "stream",
     "text": [
      "요약 진행 중:  15%|█▍        | 349/2388 [13:01<56:15,  1.66s/it]"
     ]
    },
    {
     "name": "stdout",
     "output_type": "stream",
     "text": [
      "350/2388 행 요약 완료\n"
     ]
    },
    {
     "name": "stderr",
     "output_type": "stream",
     "text": [
      "요약 진행 중:  15%|█▍        | 350/2388 [13:02<52:05,  1.53s/it]"
     ]
    },
    {
     "name": "stdout",
     "output_type": "stream",
     "text": [
      "351/2388 행 요약 완료\n"
     ]
    },
    {
     "name": "stderr",
     "output_type": "stream",
     "text": [
      "요약 진행 중:  15%|█▍        | 351/2388 [13:04<55:22,  1.63s/it]"
     ]
    },
    {
     "name": "stdout",
     "output_type": "stream",
     "text": [
      "352/2388 행 요약 완료\n"
     ]
    },
    {
     "name": "stderr",
     "output_type": "stream",
     "text": [
      "요약 진행 중:  15%|█▍        | 352/2388 [13:06<1:03:25,  1.87s/it]"
     ]
    },
    {
     "name": "stdout",
     "output_type": "stream",
     "text": [
      "353/2388 행 요약 완료\n"
     ]
    },
    {
     "name": "stderr",
     "output_type": "stream",
     "text": [
      "요약 진행 중:  15%|█▍        | 353/2388 [13:10<1:21:07,  2.39s/it]"
     ]
    },
    {
     "name": "stdout",
     "output_type": "stream",
     "text": [
      "354/2388 행 요약 완료\n"
     ]
    },
    {
     "name": "stderr",
     "output_type": "stream",
     "text": [
      "요약 진행 중:  15%|█▍        | 354/2388 [13:12<1:23:46,  2.47s/it]"
     ]
    },
    {
     "name": "stdout",
     "output_type": "stream",
     "text": [
      "355/2388 행 요약 완료\n"
     ]
    },
    {
     "name": "stderr",
     "output_type": "stream",
     "text": [
      "요약 진행 중:  15%|█▍        | 355/2388 [13:15<1:22:44,  2.44s/it]"
     ]
    },
    {
     "name": "stdout",
     "output_type": "stream",
     "text": [
      "356/2388 행 요약 완료\n"
     ]
    },
    {
     "name": "stderr",
     "output_type": "stream",
     "text": [
      "요약 진행 중:  15%|█▍        | 356/2388 [13:18<1:26:52,  2.57s/it]"
     ]
    },
    {
     "name": "stdout",
     "output_type": "stream",
     "text": [
      "357/2388 행 요약 완료\n"
     ]
    },
    {
     "name": "stderr",
     "output_type": "stream",
     "text": [
      "요약 진행 중:  15%|█▍        | 357/2388 [13:20<1:29:22,  2.64s/it]"
     ]
    },
    {
     "name": "stdout",
     "output_type": "stream",
     "text": [
      "358/2388 행 요약 완료\n"
     ]
    },
    {
     "name": "stderr",
     "output_type": "stream",
     "text": [
      "요약 진행 중:  15%|█▍        | 358/2388 [13:23<1:29:01,  2.63s/it]"
     ]
    },
    {
     "name": "stdout",
     "output_type": "stream",
     "text": [
      "359/2388 행 요약 완료\n"
     ]
    },
    {
     "name": "stderr",
     "output_type": "stream",
     "text": [
      "요약 진행 중:  15%|█▌        | 359/2388 [13:26<1:28:00,  2.60s/it]"
     ]
    },
    {
     "name": "stdout",
     "output_type": "stream",
     "text": [
      "360/2388 행 요약 완료\n"
     ]
    },
    {
     "name": "stderr",
     "output_type": "stream",
     "text": [
      "요약 진행 중:  15%|█▌        | 360/2388 [13:27<1:13:03,  2.16s/it]"
     ]
    },
    {
     "name": "stdout",
     "output_type": "stream",
     "text": [
      "361/2388 행 요약 완료\n"
     ]
    },
    {
     "name": "stderr",
     "output_type": "stream",
     "text": [
      "요약 진행 중:  15%|█▌        | 361/2388 [13:29<1:17:38,  2.30s/it]"
     ]
    },
    {
     "name": "stdout",
     "output_type": "stream",
     "text": [
      "362/2388 행 요약 완료\n"
     ]
    },
    {
     "name": "stderr",
     "output_type": "stream",
     "text": [
      "요약 진행 중:  15%|█▌        | 362/2388 [13:31<1:09:13,  2.05s/it]"
     ]
    },
    {
     "name": "stdout",
     "output_type": "stream",
     "text": [
      "363/2388 행 요약 완료\n"
     ]
    },
    {
     "name": "stderr",
     "output_type": "stream",
     "text": [
      "요약 진행 중:  15%|█▌        | 363/2388 [13:32<1:03:00,  1.87s/it]"
     ]
    },
    {
     "name": "stdout",
     "output_type": "stream",
     "text": [
      "364/2388 행 요약 완료\n"
     ]
    },
    {
     "name": "stderr",
     "output_type": "stream",
     "text": [
      "요약 진행 중:  15%|█▌        | 364/2388 [13:34<1:01:01,  1.81s/it]"
     ]
    },
    {
     "name": "stdout",
     "output_type": "stream",
     "text": [
      "365/2388 행 요약 완료\n"
     ]
    },
    {
     "name": "stderr",
     "output_type": "stream",
     "text": [
      "요약 진행 중:  15%|█▌        | 365/2388 [13:35<57:20,  1.70s/it]  "
     ]
    },
    {
     "name": "stdout",
     "output_type": "stream",
     "text": [
      "366/2388 행 요약 완료\n"
     ]
    },
    {
     "name": "stderr",
     "output_type": "stream",
     "text": [
      "요약 진행 중:  15%|█▌        | 366/2388 [13:38<1:05:03,  1.93s/it]"
     ]
    },
    {
     "name": "stdout",
     "output_type": "stream",
     "text": [
      "367/2388 행 요약 완료\n"
     ]
    },
    {
     "name": "stderr",
     "output_type": "stream",
     "text": [
      "요약 진행 중:  15%|█▌        | 367/2388 [13:40<1:02:48,  1.86s/it]"
     ]
    },
    {
     "name": "stdout",
     "output_type": "stream",
     "text": [
      "368/2388 행 요약 완료\n"
     ]
    },
    {
     "name": "stderr",
     "output_type": "stream",
     "text": [
      "요약 진행 중:  15%|█▌        | 368/2388 [13:41<59:21,  1.76s/it]  "
     ]
    },
    {
     "name": "stdout",
     "output_type": "stream",
     "text": [
      "369/2388 행 요약 완료\n"
     ]
    },
    {
     "name": "stderr",
     "output_type": "stream",
     "text": [
      "요약 진행 중:  15%|█▌        | 369/2388 [13:43<58:23,  1.74s/it]"
     ]
    },
    {
     "name": "stdout",
     "output_type": "stream",
     "text": [
      "370/2388 행 요약 완료\n"
     ]
    },
    {
     "name": "stderr",
     "output_type": "stream",
     "text": [
      "요약 진행 중:  15%|█▌        | 370/2388 [13:44<56:34,  1.68s/it]"
     ]
    },
    {
     "name": "stdout",
     "output_type": "stream",
     "text": [
      "371/2388 행 요약 완료\n"
     ]
    },
    {
     "name": "stderr",
     "output_type": "stream",
     "text": [
      "요약 진행 중:  16%|█▌        | 371/2388 [13:46<54:16,  1.61s/it]"
     ]
    },
    {
     "name": "stdout",
     "output_type": "stream",
     "text": [
      "372/2388 행 요약 완료\n"
     ]
    },
    {
     "name": "stderr",
     "output_type": "stream",
     "text": [
      "요약 진행 중:  16%|█▌        | 372/2388 [13:49<1:08:21,  2.03s/it]"
     ]
    },
    {
     "name": "stdout",
     "output_type": "stream",
     "text": [
      "373/2388 행 요약 완료\n"
     ]
    },
    {
     "name": "stderr",
     "output_type": "stream",
     "text": [
      "요약 진행 중:  16%|█▌        | 373/2388 [13:50<1:03:45,  1.90s/it]"
     ]
    },
    {
     "name": "stdout",
     "output_type": "stream",
     "text": [
      "374/2388 행 요약 완료\n"
     ]
    },
    {
     "name": "stderr",
     "output_type": "stream",
     "text": [
      "요약 진행 중:  16%|█▌        | 374/2388 [13:52<59:38,  1.78s/it]  "
     ]
    },
    {
     "name": "stdout",
     "output_type": "stream",
     "text": [
      "375/2388 행 요약 완료\n"
     ]
    },
    {
     "name": "stderr",
     "output_type": "stream",
     "text": [
      "요약 진행 중:  16%|█▌        | 375/2388 [13:54<1:08:00,  2.03s/it]"
     ]
    },
    {
     "name": "stdout",
     "output_type": "stream",
     "text": [
      "376/2388 행 요약 완료\n"
     ]
    },
    {
     "name": "stderr",
     "output_type": "stream",
     "text": [
      "요약 진행 중:  16%|█▌        | 376/2388 [13:58<1:27:01,  2.59s/it]"
     ]
    },
    {
     "name": "stdout",
     "output_type": "stream",
     "text": [
      "377/2388 행 요약 완료\n"
     ]
    },
    {
     "name": "stderr",
     "output_type": "stream",
     "text": [
      "요약 진행 중:  16%|█▌        | 377/2388 [14:00<1:14:32,  2.22s/it]"
     ]
    },
    {
     "name": "stdout",
     "output_type": "stream",
     "text": [
      "378/2388 행 요약 완료\n"
     ]
    },
    {
     "name": "stderr",
     "output_type": "stream",
     "text": [
      "요약 진행 중:  16%|█▌        | 378/2388 [14:03<1:19:55,  2.39s/it]"
     ]
    },
    {
     "name": "stdout",
     "output_type": "stream",
     "text": [
      "379/2388 행 요약 완료\n"
     ]
    },
    {
     "name": "stderr",
     "output_type": "stream",
     "text": [
      "요약 진행 중:  16%|█▌        | 379/2388 [14:05<1:16:03,  2.27s/it]"
     ]
    },
    {
     "name": "stdout",
     "output_type": "stream",
     "text": [
      "380/2388 행 요약 완료\n"
     ]
    },
    {
     "name": "stderr",
     "output_type": "stream",
     "text": [
      "요약 진행 중:  16%|█▌        | 380/2388 [14:07<1:19:52,  2.39s/it]"
     ]
    },
    {
     "name": "stdout",
     "output_type": "stream",
     "text": [
      "381/2388 행 요약 완료\n"
     ]
    },
    {
     "name": "stderr",
     "output_type": "stream",
     "text": [
      "요약 진행 중:  16%|█▌        | 381/2388 [14:10<1:20:37,  2.41s/it]"
     ]
    },
    {
     "name": "stdout",
     "output_type": "stream",
     "text": [
      "382/2388 행 요약 완료\n"
     ]
    },
    {
     "name": "stderr",
     "output_type": "stream",
     "text": [
      "요약 진행 중:  16%|█▌        | 382/2388 [14:11<1:09:10,  2.07s/it]"
     ]
    },
    {
     "name": "stdout",
     "output_type": "stream",
     "text": [
      "383/2388 행 요약 완료\n"
     ]
    },
    {
     "name": "stderr",
     "output_type": "stream",
     "text": [
      "요약 진행 중:  16%|█▌        | 383/2388 [14:12<1:03:47,  1.91s/it]"
     ]
    },
    {
     "name": "stdout",
     "output_type": "stream",
     "text": [
      "384/2388 행 요약 완료\n"
     ]
    },
    {
     "name": "stderr",
     "output_type": "stream",
     "text": [
      "요약 진행 중:  16%|█▌        | 384/2388 [14:14<57:33,  1.72s/it]  "
     ]
    },
    {
     "name": "stdout",
     "output_type": "stream",
     "text": [
      "385/2388 행 요약 완료\n"
     ]
    },
    {
     "name": "stderr",
     "output_type": "stream",
     "text": [
      "요약 진행 중:  16%|█▌        | 385/2388 [14:18<1:20:10,  2.40s/it]"
     ]
    },
    {
     "name": "stdout",
     "output_type": "stream",
     "text": [
      "386/2388 행 요약 완료\n"
     ]
    },
    {
     "name": "stderr",
     "output_type": "stream",
     "text": [
      "요약 진행 중:  16%|█▌        | 386/2388 [14:21<1:30:57,  2.73s/it]"
     ]
    },
    {
     "name": "stdout",
     "output_type": "stream",
     "text": [
      "387/2388 행 요약 완료\n"
     ]
    },
    {
     "name": "stderr",
     "output_type": "stream",
     "text": [
      "요약 진행 중:  16%|█▌        | 387/2388 [14:24<1:35:17,  2.86s/it]"
     ]
    },
    {
     "name": "stdout",
     "output_type": "stream",
     "text": [
      "388/2388 행 요약 완료\n"
     ]
    },
    {
     "name": "stderr",
     "output_type": "stream",
     "text": [
      "요약 진행 중:  16%|█▌        | 388/2388 [14:26<1:24:52,  2.55s/it]"
     ]
    },
    {
     "name": "stdout",
     "output_type": "stream",
     "text": [
      "389/2388 행 요약 완료\n"
     ]
    },
    {
     "name": "stderr",
     "output_type": "stream",
     "text": [
      "요약 진행 중:  16%|█▋        | 389/2388 [14:28<1:19:53,  2.40s/it]"
     ]
    },
    {
     "name": "stdout",
     "output_type": "stream",
     "text": [
      "390/2388 행 요약 완료\n"
     ]
    },
    {
     "name": "stderr",
     "output_type": "stream",
     "text": [
      "요약 진행 중:  16%|█▋        | 390/2388 [14:30<1:11:34,  2.15s/it]"
     ]
    },
    {
     "name": "stdout",
     "output_type": "stream",
     "text": [
      "391/2388 행 요약 완료\n"
     ]
    },
    {
     "name": "stderr",
     "output_type": "stream",
     "text": [
      "요약 진행 중:  16%|█▋        | 391/2388 [14:33<1:17:27,  2.33s/it]"
     ]
    },
    {
     "name": "stdout",
     "output_type": "stream",
     "text": [
      "392/2388 행 요약 완료\n"
     ]
    },
    {
     "name": "stderr",
     "output_type": "stream",
     "text": [
      "요약 진행 중:  16%|█▋        | 392/2388 [14:34<1:05:45,  1.98s/it]"
     ]
    },
    {
     "name": "stdout",
     "output_type": "stream",
     "text": [
      "393/2388 행 요약 완료\n"
     ]
    },
    {
     "name": "stderr",
     "output_type": "stream",
     "text": [
      "요약 진행 중:  16%|█▋        | 393/2388 [14:35<1:02:44,  1.89s/it]"
     ]
    },
    {
     "name": "stdout",
     "output_type": "stream",
     "text": [
      "394/2388 행 요약 완료\n"
     ]
    },
    {
     "name": "stderr",
     "output_type": "stream",
     "text": [
      "요약 진행 중:  16%|█▋        | 394/2388 [14:37<1:00:01,  1.81s/it]"
     ]
    },
    {
     "name": "stdout",
     "output_type": "stream",
     "text": [
      "395/2388 행 요약 완료\n"
     ]
    },
    {
     "name": "stderr",
     "output_type": "stream",
     "text": [
      "요약 진행 중:  17%|█▋        | 395/2388 [14:39<57:11,  1.72s/it]  "
     ]
    },
    {
     "name": "stdout",
     "output_type": "stream",
     "text": [
      "396/2388 행 요약 완료\n"
     ]
    },
    {
     "name": "stderr",
     "output_type": "stream",
     "text": [
      "요약 진행 중:  17%|█▋        | 396/2388 [14:40<55:04,  1.66s/it]"
     ]
    },
    {
     "name": "stdout",
     "output_type": "stream",
     "text": [
      "397/2388 행 요약 완료\n"
     ]
    },
    {
     "name": "stderr",
     "output_type": "stream",
     "text": [
      "요약 진행 중:  17%|█▋        | 397/2388 [14:42<53:47,  1.62s/it]"
     ]
    },
    {
     "name": "stdout",
     "output_type": "stream",
     "text": [
      "398/2388 행 요약 완료\n"
     ]
    },
    {
     "name": "stderr",
     "output_type": "stream",
     "text": [
      "요약 진행 중:  17%|█▋        | 398/2388 [14:44<1:05:23,  1.97s/it]"
     ]
    },
    {
     "name": "stdout",
     "output_type": "stream",
     "text": [
      "399/2388 행 요약 완료\n"
     ]
    },
    {
     "name": "stderr",
     "output_type": "stream",
     "text": [
      "요약 진행 중:  17%|█▋        | 399/2388 [14:47<1:07:02,  2.02s/it]"
     ]
    },
    {
     "name": "stdout",
     "output_type": "stream",
     "text": [
      "400/2388 행 요약 완료\n"
     ]
    },
    {
     "name": "stderr",
     "output_type": "stream",
     "text": [
      "요약 진행 중:  17%|█▋        | 400/2388 [14:50<1:21:03,  2.45s/it]"
     ]
    },
    {
     "name": "stdout",
     "output_type": "stream",
     "text": [
      "401/2388 행 요약 완료\n"
     ]
    },
    {
     "name": "stderr",
     "output_type": "stream",
     "text": [
      "요약 진행 중:  17%|█▋        | 401/2388 [14:53<1:31:21,  2.76s/it]"
     ]
    },
    {
     "name": "stdout",
     "output_type": "stream",
     "text": [
      "402/2388 행 요약 완료\n"
     ]
    },
    {
     "name": "stderr",
     "output_type": "stream",
     "text": [
      "요약 진행 중:  17%|█▋        | 402/2388 [14:56<1:29:58,  2.72s/it]"
     ]
    },
    {
     "name": "stdout",
     "output_type": "stream",
     "text": [
      "403/2388 행 요약 완료\n"
     ]
    },
    {
     "name": "stderr",
     "output_type": "stream",
     "text": [
      "요약 진행 중:  17%|█▋        | 403/2388 [14:59<1:33:55,  2.84s/it]"
     ]
    },
    {
     "name": "stdout",
     "output_type": "stream",
     "text": [
      "404/2388 행 요약 완료\n"
     ]
    },
    {
     "name": "stderr",
     "output_type": "stream",
     "text": [
      "요약 진행 중:  17%|█▋        | 404/2388 [15:01<1:27:46,  2.65s/it]"
     ]
    },
    {
     "name": "stdout",
     "output_type": "stream",
     "text": [
      "405/2388 행 요약 완료\n"
     ]
    },
    {
     "name": "stderr",
     "output_type": "stream",
     "text": [
      "요약 진행 중:  17%|█▋        | 405/2388 [15:05<1:37:11,  2.94s/it]"
     ]
    },
    {
     "name": "stdout",
     "output_type": "stream",
     "text": [
      "406/2388 행 요약 완료\n"
     ]
    },
    {
     "name": "stderr",
     "output_type": "stream",
     "text": [
      "요약 진행 중:  17%|█▋        | 406/2388 [15:08<1:41:14,  3.06s/it]"
     ]
    },
    {
     "name": "stdout",
     "output_type": "stream",
     "text": [
      "407/2388 행 요약 완료\n"
     ]
    },
    {
     "name": "stderr",
     "output_type": "stream",
     "text": [
      "요약 진행 중:  17%|█▋        | 407/2388 [15:11<1:36:44,  2.93s/it]"
     ]
    },
    {
     "name": "stdout",
     "output_type": "stream",
     "text": [
      "408/2388 행 요약 완료\n"
     ]
    },
    {
     "name": "stderr",
     "output_type": "stream",
     "text": [
      "요약 진행 중:  17%|█▋        | 408/2388 [15:13<1:30:20,  2.74s/it]"
     ]
    },
    {
     "name": "stdout",
     "output_type": "stream",
     "text": [
      "409/2388 행 요약 완료\n"
     ]
    },
    {
     "name": "stderr",
     "output_type": "stream",
     "text": [
      "요약 진행 중:  17%|█▋        | 409/2388 [15:16<1:29:45,  2.72s/it]"
     ]
    },
    {
     "name": "stdout",
     "output_type": "stream",
     "text": [
      "410/2388 행 요약 완료\n"
     ]
    },
    {
     "name": "stderr",
     "output_type": "stream",
     "text": [
      "요약 진행 중:  17%|█▋        | 410/2388 [15:20<1:41:32,  3.08s/it]"
     ]
    },
    {
     "name": "stdout",
     "output_type": "stream",
     "text": [
      "411/2388 행 요약 완료\n"
     ]
    },
    {
     "name": "stderr",
     "output_type": "stream",
     "text": [
      "요약 진행 중:  17%|█▋        | 411/2388 [15:23<1:39:32,  3.02s/it]"
     ]
    },
    {
     "name": "stdout",
     "output_type": "stream",
     "text": [
      "412/2388 행 요약 완료\n"
     ]
    },
    {
     "name": "stderr",
     "output_type": "stream",
     "text": [
      "요약 진행 중:  17%|█▋        | 412/2388 [15:25<1:32:15,  2.80s/it]"
     ]
    },
    {
     "name": "stdout",
     "output_type": "stream",
     "text": [
      "413/2388 행 요약 완료\n"
     ]
    },
    {
     "name": "stderr",
     "output_type": "stream",
     "text": [
      "요약 진행 중:  17%|█▋        | 413/2388 [15:28<1:36:12,  2.92s/it]"
     ]
    },
    {
     "name": "stdout",
     "output_type": "stream",
     "text": [
      "414/2388 행 요약 완료\n"
     ]
    },
    {
     "name": "stderr",
     "output_type": "stream",
     "text": [
      "요약 진행 중:  17%|█▋        | 414/2388 [15:30<1:26:57,  2.64s/it]"
     ]
    },
    {
     "name": "stdout",
     "output_type": "stream",
     "text": [
      "415/2388 행 요약 완료\n"
     ]
    },
    {
     "name": "stderr",
     "output_type": "stream",
     "text": [
      "요약 진행 중:  17%|█▋        | 415/2388 [15:35<1:48:32,  3.30s/it]"
     ]
    },
    {
     "name": "stdout",
     "output_type": "stream",
     "text": [
      "416/2388 행 요약 완료\n"
     ]
    },
    {
     "name": "stderr",
     "output_type": "stream",
     "text": [
      "요약 진행 중:  17%|█▋        | 416/2388 [15:38<1:41:21,  3.08s/it]"
     ]
    },
    {
     "name": "stdout",
     "output_type": "stream",
     "text": [
      "417/2388 행 요약 완료\n"
     ]
    },
    {
     "name": "stderr",
     "output_type": "stream",
     "text": [
      "요약 진행 중:  17%|█▋        | 417/2388 [15:40<1:29:40,  2.73s/it]"
     ]
    },
    {
     "name": "stdout",
     "output_type": "stream",
     "text": [
      "418/2388 행 요약 완료\n"
     ]
    },
    {
     "name": "stderr",
     "output_type": "stream",
     "text": [
      "요약 진행 중:  18%|█▊        | 418/2388 [15:42<1:30:52,  2.77s/it]"
     ]
    },
    {
     "name": "stdout",
     "output_type": "stream",
     "text": [
      "419/2388 행 요약 완료\n"
     ]
    },
    {
     "name": "stderr",
     "output_type": "stream",
     "text": [
      "요약 진행 중:  18%|█▊        | 419/2388 [15:46<1:41:36,  3.10s/it]"
     ]
    },
    {
     "name": "stdout",
     "output_type": "stream",
     "text": [
      "420/2388 행 요약 완료\n"
     ]
    },
    {
     "name": "stderr",
     "output_type": "stream",
     "text": [
      "요약 진행 중:  18%|█▊        | 420/2388 [15:50<1:44:17,  3.18s/it]"
     ]
    },
    {
     "name": "stdout",
     "output_type": "stream",
     "text": [
      "421/2388 행 요약 완료\n"
     ]
    },
    {
     "name": "stderr",
     "output_type": "stream",
     "text": [
      "요약 진행 중:  18%|█▊        | 421/2388 [15:51<1:30:57,  2.77s/it]"
     ]
    },
    {
     "name": "stdout",
     "output_type": "stream",
     "text": [
      "422/2388 행 요약 완료\n"
     ]
    },
    {
     "name": "stderr",
     "output_type": "stream",
     "text": [
      "요약 진행 중:  18%|█▊        | 422/2388 [15:53<1:21:35,  2.49s/it]"
     ]
    },
    {
     "name": "stdout",
     "output_type": "stream",
     "text": [
      "423/2388 행 요약 완료\n"
     ]
    },
    {
     "name": "stderr",
     "output_type": "stream",
     "text": [
      "요약 진행 중:  18%|█▊        | 423/2388 [15:55<1:08:48,  2.10s/it]"
     ]
    },
    {
     "name": "stdout",
     "output_type": "stream",
     "text": [
      "424/2388 행 요약 완료\n"
     ]
    },
    {
     "name": "stderr",
     "output_type": "stream",
     "text": [
      "요약 진행 중:  18%|█▊        | 424/2388 [15:56<1:01:36,  1.88s/it]"
     ]
    },
    {
     "name": "stdout",
     "output_type": "stream",
     "text": [
      "425/2388 행 요약 완료\n"
     ]
    },
    {
     "name": "stderr",
     "output_type": "stream",
     "text": [
      "요약 진행 중:  18%|█▊        | 425/2388 [15:58<1:01:51,  1.89s/it]"
     ]
    },
    {
     "name": "stdout",
     "output_type": "stream",
     "text": [
      "426/2388 행 요약 완료\n"
     ]
    },
    {
     "name": "stderr",
     "output_type": "stream",
     "text": [
      "요약 진행 중:  18%|█▊        | 426/2388 [16:00<1:08:47,  2.10s/it]"
     ]
    },
    {
     "name": "stdout",
     "output_type": "stream",
     "text": [
      "427/2388 행 요약 완료\n"
     ]
    },
    {
     "name": "stderr",
     "output_type": "stream",
     "text": [
      "요약 진행 중:  18%|█▊        | 427/2388 [16:01<58:38,  1.79s/it]  "
     ]
    },
    {
     "name": "stdout",
     "output_type": "stream",
     "text": [
      "428/2388 행 요약 완료\n"
     ]
    },
    {
     "name": "stderr",
     "output_type": "stream",
     "text": [
      "요약 진행 중:  18%|█▊        | 428/2388 [16:03<57:16,  1.75s/it]"
     ]
    },
    {
     "name": "stdout",
     "output_type": "stream",
     "text": [
      "429/2388 행 요약 완료\n"
     ]
    },
    {
     "name": "stderr",
     "output_type": "stream",
     "text": [
      "요약 진행 중:  18%|█▊        | 429/2388 [16:05<57:55,  1.77s/it]"
     ]
    },
    {
     "name": "stdout",
     "output_type": "stream",
     "text": [
      "430/2388 행 요약 완료\n"
     ]
    },
    {
     "name": "stderr",
     "output_type": "stream",
     "text": [
      "요약 진행 중:  18%|█▊        | 430/2388 [16:09<1:19:44,  2.44s/it]"
     ]
    },
    {
     "name": "stdout",
     "output_type": "stream",
     "text": [
      "431/2388 행 요약 완료\n"
     ]
    },
    {
     "name": "stderr",
     "output_type": "stream",
     "text": [
      "요약 진행 중:  18%|█▊        | 431/2388 [16:12<1:21:37,  2.50s/it]"
     ]
    },
    {
     "name": "stdout",
     "output_type": "stream",
     "text": [
      "432/2388 행 요약 완료\n"
     ]
    },
    {
     "name": "stderr",
     "output_type": "stream",
     "text": [
      "요약 진행 중:  18%|█▊        | 432/2388 [16:13<1:13:36,  2.26s/it]"
     ]
    },
    {
     "name": "stdout",
     "output_type": "stream",
     "text": [
      "433/2388 행 요약 완료\n"
     ]
    },
    {
     "name": "stderr",
     "output_type": "stream",
     "text": [
      "요약 진행 중:  18%|█▊        | 433/2388 [16:15<1:11:46,  2.20s/it]"
     ]
    },
    {
     "name": "stdout",
     "output_type": "stream",
     "text": [
      "434/2388 행 요약 완료\n"
     ]
    },
    {
     "name": "stderr",
     "output_type": "stream",
     "text": [
      "요약 진행 중:  18%|█▊        | 434/2388 [16:18<1:13:42,  2.26s/it]"
     ]
    },
    {
     "name": "stdout",
     "output_type": "stream",
     "text": [
      "435/2388 행 요약 완료\n"
     ]
    },
    {
     "name": "stderr",
     "output_type": "stream",
     "text": [
      "요약 진행 중:  18%|█▊        | 435/2388 [16:20<1:11:53,  2.21s/it]"
     ]
    },
    {
     "name": "stdout",
     "output_type": "stream",
     "text": [
      "436/2388 행 요약 완료\n"
     ]
    },
    {
     "name": "stderr",
     "output_type": "stream",
     "text": [
      "요약 진행 중:  18%|█▊        | 436/2388 [16:24<1:26:32,  2.66s/it]"
     ]
    },
    {
     "name": "stdout",
     "output_type": "stream",
     "text": [
      "437/2388 행 요약 완료\n"
     ]
    },
    {
     "name": "stderr",
     "output_type": "stream",
     "text": [
      "요약 진행 중:  18%|█▊        | 437/2388 [16:26<1:20:31,  2.48s/it]"
     ]
    },
    {
     "name": "stdout",
     "output_type": "stream",
     "text": [
      "438/2388 행 요약 완료\n"
     ]
    },
    {
     "name": "stderr",
     "output_type": "stream",
     "text": [
      "요약 진행 중:  18%|█▊        | 438/2388 [16:27<1:10:53,  2.18s/it]"
     ]
    },
    {
     "name": "stdout",
     "output_type": "stream",
     "text": [
      "439/2388 행 요약 완료\n"
     ]
    },
    {
     "name": "stderr",
     "output_type": "stream",
     "text": [
      "요약 진행 중:  18%|█▊        | 439/2388 [16:28<1:00:47,  1.87s/it]"
     ]
    },
    {
     "name": "stdout",
     "output_type": "stream",
     "text": [
      "440/2388 행 요약 완료\n"
     ]
    },
    {
     "name": "stderr",
     "output_type": "stream",
     "text": [
      "요약 진행 중:  18%|█▊        | 440/2388 [16:29<54:36,  1.68s/it]  "
     ]
    },
    {
     "name": "stdout",
     "output_type": "stream",
     "text": [
      "441/2388 행 요약 완료\n"
     ]
    },
    {
     "name": "stderr",
     "output_type": "stream",
     "text": [
      "요약 진행 중:  18%|█▊        | 441/2388 [16:31<51:06,  1.57s/it]"
     ]
    },
    {
     "name": "stdout",
     "output_type": "stream",
     "text": [
      "442/2388 행 요약 완료\n"
     ]
    },
    {
     "name": "stderr",
     "output_type": "stream",
     "text": [
      "요약 진행 중:  19%|█▊        | 442/2388 [16:33<57:30,  1.77s/it]"
     ]
    },
    {
     "name": "stdout",
     "output_type": "stream",
     "text": [
      "443/2388 행 요약 완료\n"
     ]
    },
    {
     "name": "stderr",
     "output_type": "stream",
     "text": [
      "요약 진행 중:  19%|█▊        | 443/2388 [16:34<51:12,  1.58s/it]"
     ]
    },
    {
     "name": "stdout",
     "output_type": "stream",
     "text": [
      "444/2388 행 요약 완료\n"
     ]
    },
    {
     "name": "stderr",
     "output_type": "stream",
     "text": [
      "요약 진행 중:  19%|█▊        | 444/2388 [16:35<47:16,  1.46s/it]"
     ]
    },
    {
     "name": "stdout",
     "output_type": "stream",
     "text": [
      "445/2388 행 요약 완료\n"
     ]
    },
    {
     "name": "stderr",
     "output_type": "stream",
     "text": [
      "요약 진행 중:  19%|█▊        | 445/2388 [16:37<48:47,  1.51s/it]"
     ]
    },
    {
     "name": "stdout",
     "output_type": "stream",
     "text": [
      "446/2388 행 요약 완료\n"
     ]
    },
    {
     "name": "stderr",
     "output_type": "stream",
     "text": [
      "요약 진행 중:  19%|█▊        | 446/2388 [16:38<47:57,  1.48s/it]"
     ]
    },
    {
     "name": "stdout",
     "output_type": "stream",
     "text": [
      "447/2388 행 요약 완료\n"
     ]
    },
    {
     "name": "stderr",
     "output_type": "stream",
     "text": [
      "요약 진행 중:  19%|█▊        | 447/2388 [16:42<1:03:53,  1.98s/it]"
     ]
    },
    {
     "name": "stdout",
     "output_type": "stream",
     "text": [
      "448/2388 행 요약 완료\n"
     ]
    },
    {
     "name": "stderr",
     "output_type": "stream",
     "text": [
      "요약 진행 중:  19%|█▉        | 448/2388 [16:44<1:05:17,  2.02s/it]"
     ]
    },
    {
     "name": "stdout",
     "output_type": "stream",
     "text": [
      "449/2388 행 요약 완료\n"
     ]
    },
    {
     "name": "stderr",
     "output_type": "stream",
     "text": [
      "요약 진행 중:  19%|█▉        | 449/2388 [16:45<59:13,  1.83s/it]  "
     ]
    },
    {
     "name": "stdout",
     "output_type": "stream",
     "text": [
      "450/2388 행 요약 완료\n"
     ]
    },
    {
     "name": "stderr",
     "output_type": "stream",
     "text": [
      "요약 진행 중:  19%|█▉        | 450/2388 [16:47<58:58,  1.83s/it]"
     ]
    },
    {
     "name": "stdout",
     "output_type": "stream",
     "text": [
      "451/2388 행 요약 완료\n"
     ]
    },
    {
     "name": "stderr",
     "output_type": "stream",
     "text": [
      "요약 진행 중:  19%|█▉        | 451/2388 [16:48<51:33,  1.60s/it]"
     ]
    },
    {
     "name": "stdout",
     "output_type": "stream",
     "text": [
      "452/2388 행 요약 완료\n"
     ]
    },
    {
     "name": "stderr",
     "output_type": "stream",
     "text": [
      "요약 진행 중:  19%|█▉        | 452/2388 [16:50<51:34,  1.60s/it]"
     ]
    },
    {
     "name": "stdout",
     "output_type": "stream",
     "text": [
      "453/2388 행 요약 완료\n"
     ]
    },
    {
     "name": "stderr",
     "output_type": "stream",
     "text": [
      "요약 진행 중:  19%|█▉        | 453/2388 [16:51<51:01,  1.58s/it]"
     ]
    },
    {
     "name": "stdout",
     "output_type": "stream",
     "text": [
      "454/2388 행 요약 완료\n"
     ]
    },
    {
     "name": "stderr",
     "output_type": "stream",
     "text": [
      "요약 진행 중:  19%|█▉        | 454/2388 [16:53<58:05,  1.80s/it]"
     ]
    },
    {
     "name": "stdout",
     "output_type": "stream",
     "text": [
      "455/2388 행 요약 완료\n"
     ]
    },
    {
     "name": "stderr",
     "output_type": "stream",
     "text": [
      "요약 진행 중:  19%|█▉        | 455/2388 [16:55<56:28,  1.75s/it]"
     ]
    },
    {
     "name": "stdout",
     "output_type": "stream",
     "text": [
      "456/2388 행 요약 완료\n"
     ]
    },
    {
     "name": "stderr",
     "output_type": "stream",
     "text": [
      "요약 진행 중:  19%|█▉        | 456/2388 [16:57<55:48,  1.73s/it]"
     ]
    },
    {
     "name": "stdout",
     "output_type": "stream",
     "text": [
      "457/2388 행 요약 완료\n"
     ]
    },
    {
     "name": "stderr",
     "output_type": "stream",
     "text": [
      "요약 진행 중:  19%|█▉        | 457/2388 [16:58<48:18,  1.50s/it]"
     ]
    },
    {
     "name": "stdout",
     "output_type": "stream",
     "text": [
      "458/2388 행 요약 완료\n"
     ]
    },
    {
     "name": "stderr",
     "output_type": "stream",
     "text": [
      "요약 진행 중:  19%|█▉        | 458/2388 [16:59<48:37,  1.51s/it]"
     ]
    },
    {
     "name": "stdout",
     "output_type": "stream",
     "text": [
      "459/2388 행 요약 완료\n"
     ]
    },
    {
     "name": "stderr",
     "output_type": "stream",
     "text": [
      "요약 진행 중:  19%|█▉        | 459/2388 [17:01<51:14,  1.59s/it]"
     ]
    },
    {
     "name": "stdout",
     "output_type": "stream",
     "text": [
      "460/2388 행 요약 완료\n"
     ]
    },
    {
     "name": "stderr",
     "output_type": "stream",
     "text": [
      "요약 진행 중:  19%|█▉        | 460/2388 [17:03<51:16,  1.60s/it]"
     ]
    },
    {
     "name": "stdout",
     "output_type": "stream",
     "text": [
      "461/2388 행 요약 완료\n"
     ]
    },
    {
     "name": "stderr",
     "output_type": "stream",
     "text": [
      "요약 진행 중:  19%|█▉        | 461/2388 [17:04<52:05,  1.62s/it]"
     ]
    },
    {
     "name": "stdout",
     "output_type": "stream",
     "text": [
      "462/2388 행 요약 완료\n"
     ]
    },
    {
     "name": "stderr",
     "output_type": "stream",
     "text": [
      "요약 진행 중:  19%|█▉        | 462/2388 [17:06<51:56,  1.62s/it]"
     ]
    },
    {
     "name": "stdout",
     "output_type": "stream",
     "text": [
      "463/2388 행 요약 완료\n"
     ]
    },
    {
     "name": "stderr",
     "output_type": "stream",
     "text": [
      "요약 진행 중:  19%|█▉        | 463/2388 [17:08<59:13,  1.85s/it]"
     ]
    },
    {
     "name": "stdout",
     "output_type": "stream",
     "text": [
      "464/2388 행 요약 완료\n"
     ]
    },
    {
     "name": "stderr",
     "output_type": "stream",
     "text": [
      "요약 진행 중:  19%|█▉        | 464/2388 [17:09<53:13,  1.66s/it]"
     ]
    },
    {
     "name": "stdout",
     "output_type": "stream",
     "text": [
      "465/2388 행 요약 완료\n"
     ]
    },
    {
     "name": "stderr",
     "output_type": "stream",
     "text": [
      "요약 진행 중:  19%|█▉        | 465/2388 [17:10<45:39,  1.42s/it]"
     ]
    },
    {
     "name": "stdout",
     "output_type": "stream",
     "text": [
      "466/2388 행 요약 완료\n"
     ]
    },
    {
     "name": "stderr",
     "output_type": "stream",
     "text": [
      "요약 진행 중:  20%|█▉        | 466/2388 [17:14<1:03:20,  1.98s/it]"
     ]
    },
    {
     "name": "stdout",
     "output_type": "stream",
     "text": [
      "467/2388 행 요약 완료\n"
     ]
    },
    {
     "name": "stderr",
     "output_type": "stream",
     "text": [
      "요약 진행 중:  20%|█▉        | 467/2388 [17:16<1:11:05,  2.22s/it]"
     ]
    },
    {
     "name": "stdout",
     "output_type": "stream",
     "text": [
      "468/2388 행 요약 완료\n"
     ]
    },
    {
     "name": "stderr",
     "output_type": "stream",
     "text": [
      "요약 진행 중:  20%|█▉        | 468/2388 [17:19<1:16:12,  2.38s/it]"
     ]
    },
    {
     "name": "stdout",
     "output_type": "stream",
     "text": [
      "469/2388 행 요약 완료\n"
     ]
    },
    {
     "name": "stderr",
     "output_type": "stream",
     "text": [
      "요약 진행 중:  20%|█▉        | 469/2388 [17:22<1:23:31,  2.61s/it]"
     ]
    },
    {
     "name": "stdout",
     "output_type": "stream",
     "text": [
      "470/2388 행 요약 완료\n"
     ]
    },
    {
     "name": "stderr",
     "output_type": "stream",
     "text": [
      "요약 진행 중:  20%|█▉        | 470/2388 [17:25<1:20:05,  2.51s/it]"
     ]
    },
    {
     "name": "stdout",
     "output_type": "stream",
     "text": [
      "471/2388 행 요약 완료\n"
     ]
    },
    {
     "name": "stderr",
     "output_type": "stream",
     "text": [
      "요약 진행 중:  20%|█▉        | 471/2388 [17:27<1:21:27,  2.55s/it]"
     ]
    },
    {
     "name": "stdout",
     "output_type": "stream",
     "text": [
      "472/2388 행 요약 완료\n"
     ]
    },
    {
     "name": "stderr",
     "output_type": "stream",
     "text": [
      "요약 진행 중:  20%|█▉        | 472/2388 [17:29<1:09:17,  2.17s/it]"
     ]
    },
    {
     "name": "stdout",
     "output_type": "stream",
     "text": [
      "473/2388 행 요약 완료\n"
     ]
    },
    {
     "name": "stderr",
     "output_type": "stream",
     "text": [
      "요약 진행 중:  20%|█▉        | 473/2388 [17:30<1:02:27,  1.96s/it]"
     ]
    },
    {
     "name": "stdout",
     "output_type": "stream",
     "text": [
      "474/2388 행 요약 완료\n"
     ]
    },
    {
     "name": "stderr",
     "output_type": "stream",
     "text": [
      "요약 진행 중:  20%|█▉        | 474/2388 [17:31<56:21,  1.77s/it]  "
     ]
    },
    {
     "name": "stdout",
     "output_type": "stream",
     "text": [
      "475/2388 행 요약 완료\n"
     ]
    },
    {
     "name": "stderr",
     "output_type": "stream",
     "text": [
      "요약 진행 중:  20%|█▉        | 475/2388 [17:33<51:16,  1.61s/it]"
     ]
    },
    {
     "name": "stdout",
     "output_type": "stream",
     "text": [
      "476/2388 행 요약 완료\n"
     ]
    },
    {
     "name": "stderr",
     "output_type": "stream",
     "text": [
      "요약 진행 중:  20%|█▉        | 476/2388 [17:35<1:00:28,  1.90s/it]"
     ]
    },
    {
     "name": "stdout",
     "output_type": "stream",
     "text": [
      "477/2388 행 요약 완료\n"
     ]
    },
    {
     "name": "stderr",
     "output_type": "stream",
     "text": [
      "요약 진행 중:  20%|█▉        | 477/2388 [17:36<54:16,  1.70s/it]  "
     ]
    },
    {
     "name": "stdout",
     "output_type": "stream",
     "text": [
      "478/2388 행 요약 완료\n"
     ]
    },
    {
     "name": "stderr",
     "output_type": "stream",
     "text": [
      "요약 진행 중:  20%|██        | 478/2388 [17:39<1:01:19,  1.93s/it]"
     ]
    },
    {
     "name": "stdout",
     "output_type": "stream",
     "text": [
      "479/2388 행 요약 완료\n"
     ]
    },
    {
     "name": "stderr",
     "output_type": "stream",
     "text": [
      "요약 진행 중:  20%|██        | 479/2388 [17:40<54:21,  1.71s/it]  "
     ]
    },
    {
     "name": "stdout",
     "output_type": "stream",
     "text": [
      "480/2388 행 요약 완료\n"
     ]
    },
    {
     "name": "stderr",
     "output_type": "stream",
     "text": [
      "요약 진행 중:  20%|██        | 480/2388 [17:41<49:05,  1.54s/it]"
     ]
    },
    {
     "name": "stdout",
     "output_type": "stream",
     "text": [
      "481/2388 행 요약 완료\n"
     ]
    },
    {
     "name": "stderr",
     "output_type": "stream",
     "text": [
      "요약 진행 중:  20%|██        | 481/2388 [17:43<50:48,  1.60s/it]"
     ]
    },
    {
     "name": "stdout",
     "output_type": "stream",
     "text": [
      "482/2388 행 요약 완료\n"
     ]
    },
    {
     "name": "stderr",
     "output_type": "stream",
     "text": [
      "요약 진행 중:  20%|██        | 482/2388 [17:45<52:45,  1.66s/it]"
     ]
    },
    {
     "name": "stdout",
     "output_type": "stream",
     "text": [
      "483/2388 행 요약 완료\n"
     ]
    },
    {
     "name": "stderr",
     "output_type": "stream",
     "text": [
      "요약 진행 중:  20%|██        | 483/2388 [17:46<51:15,  1.61s/it]"
     ]
    },
    {
     "name": "stdout",
     "output_type": "stream",
     "text": [
      "484/2388 행 요약 완료\n"
     ]
    },
    {
     "name": "stderr",
     "output_type": "stream",
     "text": [
      "요약 진행 중:  20%|██        | 484/2388 [17:48<49:53,  1.57s/it]"
     ]
    },
    {
     "name": "stdout",
     "output_type": "stream",
     "text": [
      "485/2388 행 요약 완료\n"
     ]
    },
    {
     "name": "stderr",
     "output_type": "stream",
     "text": [
      "요약 진행 중:  20%|██        | 485/2388 [17:49<51:32,  1.62s/it]"
     ]
    },
    {
     "name": "stdout",
     "output_type": "stream",
     "text": [
      "486/2388 행 요약 완료\n"
     ]
    },
    {
     "name": "stderr",
     "output_type": "stream",
     "text": [
      "요약 진행 중:  20%|██        | 486/2388 [17:51<54:41,  1.73s/it]"
     ]
    },
    {
     "name": "stdout",
     "output_type": "stream",
     "text": [
      "487/2388 행 요약 완료\n"
     ]
    },
    {
     "name": "stderr",
     "output_type": "stream",
     "text": [
      "요약 진행 중:  20%|██        | 487/2388 [17:54<59:54,  1.89s/it]"
     ]
    },
    {
     "name": "stdout",
     "output_type": "stream",
     "text": [
      "488/2388 행 요약 완료\n"
     ]
    },
    {
     "name": "stderr",
     "output_type": "stream",
     "text": [
      "요약 진행 중:  20%|██        | 488/2388 [17:56<1:06:02,  2.09s/it]"
     ]
    },
    {
     "name": "stdout",
     "output_type": "stream",
     "text": [
      "489/2388 행 요약 완료\n"
     ]
    },
    {
     "name": "stderr",
     "output_type": "stream",
     "text": [
      "요약 진행 중:  20%|██        | 489/2388 [17:59<1:11:55,  2.27s/it]"
     ]
    },
    {
     "name": "stdout",
     "output_type": "stream",
     "text": [
      "490/2388 행 요약 완료\n"
     ]
    },
    {
     "name": "stderr",
     "output_type": "stream",
     "text": [
      "요약 진행 중:  21%|██        | 490/2388 [18:02<1:15:00,  2.37s/it]"
     ]
    },
    {
     "name": "stdout",
     "output_type": "stream",
     "text": [
      "491/2388 행 요약 완료\n"
     ]
    },
    {
     "name": "stderr",
     "output_type": "stream",
     "text": [
      "요약 진행 중:  21%|██        | 491/2388 [18:04<1:17:46,  2.46s/it]"
     ]
    },
    {
     "name": "stdout",
     "output_type": "stream",
     "text": [
      "492/2388 행 요약 완료\n"
     ]
    },
    {
     "name": "stderr",
     "output_type": "stream",
     "text": [
      "요약 진행 중:  21%|██        | 492/2388 [18:05<1:06:45,  2.11s/it]"
     ]
    },
    {
     "name": "stdout",
     "output_type": "stream",
     "text": [
      "493/2388 행 요약 완료\n"
     ]
    },
    {
     "name": "stderr",
     "output_type": "stream",
     "text": [
      "요약 진행 중:  21%|██        | 493/2388 [18:08<1:09:59,  2.22s/it]"
     ]
    },
    {
     "name": "stdout",
     "output_type": "stream",
     "text": [
      "494/2388 행 요약 완료\n"
     ]
    },
    {
     "name": "stderr",
     "output_type": "stream",
     "text": [
      "요약 진행 중:  21%|██        | 494/2388 [18:11<1:21:05,  2.57s/it]"
     ]
    },
    {
     "name": "stdout",
     "output_type": "stream",
     "text": [
      "495/2388 행 요약 완료\n"
     ]
    },
    {
     "name": "stderr",
     "output_type": "stream",
     "text": [
      "요약 진행 중:  21%|██        | 495/2388 [18:14<1:21:31,  2.58s/it]"
     ]
    },
    {
     "name": "stdout",
     "output_type": "stream",
     "text": [
      "496/2388 행 요약 완료\n"
     ]
    },
    {
     "name": "stderr",
     "output_type": "stream",
     "text": [
      "요약 진행 중:  21%|██        | 496/2388 [18:15<1:10:14,  2.23s/it]"
     ]
    },
    {
     "name": "stdout",
     "output_type": "stream",
     "text": [
      "497/2388 행 요약 완료\n"
     ]
    },
    {
     "name": "stderr",
     "output_type": "stream",
     "text": [
      "요약 진행 중:  21%|██        | 497/2388 [18:18<1:17:45,  2.47s/it]"
     ]
    },
    {
     "name": "stdout",
     "output_type": "stream",
     "text": [
      "498/2388 행 요약 완료\n"
     ]
    },
    {
     "name": "stderr",
     "output_type": "stream",
     "text": [
      "요약 진행 중:  21%|██        | 498/2388 [18:20<1:13:40,  2.34s/it]"
     ]
    },
    {
     "name": "stdout",
     "output_type": "stream",
     "text": [
      "499/2388 행 요약 완료\n"
     ]
    },
    {
     "name": "stderr",
     "output_type": "stream",
     "text": [
      "요약 진행 중:  21%|██        | 499/2388 [18:23<1:12:23,  2.30s/it]"
     ]
    },
    {
     "name": "stdout",
     "output_type": "stream",
     "text": [
      "500/2388 행 요약 완료\n"
     ]
    },
    {
     "name": "stderr",
     "output_type": "stream",
     "text": [
      "요약 진행 중:  21%|██        | 500/2388 [18:25<1:17:03,  2.45s/it]"
     ]
    },
    {
     "name": "stdout",
     "output_type": "stream",
     "text": [
      "501/2388 행 요약 완료\n"
     ]
    },
    {
     "name": "stderr",
     "output_type": "stream",
     "text": [
      "요약 진행 중:  21%|██        | 501/2388 [18:28<1:14:09,  2.36s/it]"
     ]
    },
    {
     "name": "stdout",
     "output_type": "stream",
     "text": [
      "502/2388 행 요약 완료\n"
     ]
    },
    {
     "name": "stderr",
     "output_type": "stream",
     "text": [
      "요약 진행 중:  21%|██        | 502/2388 [18:30<1:18:37,  2.50s/it]"
     ]
    },
    {
     "name": "stdout",
     "output_type": "stream",
     "text": [
      "503/2388 행 요약 완료\n"
     ]
    },
    {
     "name": "stderr",
     "output_type": "stream",
     "text": [
      "요약 진행 중:  21%|██        | 503/2388 [18:33<1:16:31,  2.44s/it]"
     ]
    },
    {
     "name": "stdout",
     "output_type": "stream",
     "text": [
      "504/2388 행 요약 완료\n"
     ]
    },
    {
     "name": "stderr",
     "output_type": "stream",
     "text": [
      "요약 진행 중:  21%|██        | 504/2388 [18:34<1:05:18,  2.08s/it]"
     ]
    },
    {
     "name": "stdout",
     "output_type": "stream",
     "text": [
      "505/2388 행 요약 완료\n"
     ]
    },
    {
     "name": "stderr",
     "output_type": "stream",
     "text": [
      "요약 진행 중:  21%|██        | 505/2388 [18:35<59:30,  1.90s/it]  "
     ]
    },
    {
     "name": "stdout",
     "output_type": "stream",
     "text": [
      "506/2388 행 요약 완료\n"
     ]
    },
    {
     "name": "stderr",
     "output_type": "stream",
     "text": [
      "요약 진행 중:  21%|██        | 506/2388 [18:38<1:10:50,  2.26s/it]"
     ]
    },
    {
     "name": "stdout",
     "output_type": "stream",
     "text": [
      "507/2388 행 요약 완료\n"
     ]
    },
    {
     "name": "stderr",
     "output_type": "stream",
     "text": [
      "요약 진행 중:  21%|██        | 507/2388 [18:41<1:09:21,  2.21s/it]"
     ]
    },
    {
     "name": "stdout",
     "output_type": "stream",
     "text": [
      "508/2388 행 요약 완료\n"
     ]
    },
    {
     "name": "stderr",
     "output_type": "stream",
     "text": [
      "요약 진행 중:  21%|██▏       | 508/2388 [18:43<1:08:30,  2.19s/it]"
     ]
    },
    {
     "name": "stdout",
     "output_type": "stream",
     "text": [
      "509/2388 행 요약 완료\n"
     ]
    },
    {
     "name": "stderr",
     "output_type": "stream",
     "text": [
      "요약 진행 중:  21%|██▏       | 509/2388 [18:46<1:21:16,  2.60s/it]"
     ]
    },
    {
     "name": "stdout",
     "output_type": "stream",
     "text": [
      "510/2388 행 요약 완료\n"
     ]
    },
    {
     "name": "stderr",
     "output_type": "stream",
     "text": [
      "요약 진행 중:  21%|██▏       | 510/2388 [18:49<1:19:04,  2.53s/it]"
     ]
    },
    {
     "name": "stdout",
     "output_type": "stream",
     "text": [
      "511/2388 행 요약 완료\n"
     ]
    },
    {
     "name": "stderr",
     "output_type": "stream",
     "text": [
      "요약 진행 중:  21%|██▏       | 511/2388 [18:52<1:26:18,  2.76s/it]"
     ]
    },
    {
     "name": "stdout",
     "output_type": "stream",
     "text": [
      "512/2388 행 요약 완료\n"
     ]
    },
    {
     "name": "stderr",
     "output_type": "stream",
     "text": [
      "요약 진행 중:  21%|██▏       | 512/2388 [18:55<1:31:47,  2.94s/it]"
     ]
    },
    {
     "name": "stdout",
     "output_type": "stream",
     "text": [
      "513/2388 행 요약 완료\n"
     ]
    },
    {
     "name": "stderr",
     "output_type": "stream",
     "text": [
      "요약 진행 중:  21%|██▏       | 513/2388 [18:59<1:35:54,  3.07s/it]"
     ]
    },
    {
     "name": "stdout",
     "output_type": "stream",
     "text": [
      "514/2388 행 요약 완료\n"
     ]
    },
    {
     "name": "stderr",
     "output_type": "stream",
     "text": [
      "요약 진행 중:  22%|██▏       | 514/2388 [19:00<1:18:33,  2.52s/it]"
     ]
    },
    {
     "name": "stdout",
     "output_type": "stream",
     "text": [
      "515/2388 행 요약 완료\n"
     ]
    },
    {
     "name": "stderr",
     "output_type": "stream",
     "text": [
      "요약 진행 중:  22%|██▏       | 515/2388 [19:03<1:19:34,  2.55s/it]"
     ]
    },
    {
     "name": "stdout",
     "output_type": "stream",
     "text": [
      "516/2388 행 요약 완료\n"
     ]
    },
    {
     "name": "stderr",
     "output_type": "stream",
     "text": [
      "요약 진행 중:  22%|██▏       | 516/2388 [19:05<1:21:26,  2.61s/it]"
     ]
    },
    {
     "name": "stdout",
     "output_type": "stream",
     "text": [
      "517/2388 행 요약 완료\n"
     ]
    },
    {
     "name": "stderr",
     "output_type": "stream",
     "text": [
      "요약 진행 중:  22%|██▏       | 517/2388 [19:09<1:31:05,  2.92s/it]"
     ]
    },
    {
     "name": "stdout",
     "output_type": "stream",
     "text": [
      "518/2388 행 요약 완료\n"
     ]
    },
    {
     "name": "stderr",
     "output_type": "stream",
     "text": [
      "요약 진행 중:  22%|██▏       | 518/2388 [19:11<1:22:25,  2.64s/it]"
     ]
    },
    {
     "name": "stdout",
     "output_type": "stream",
     "text": [
      "519/2388 행 요약 완료\n"
     ]
    },
    {
     "name": "stderr",
     "output_type": "stream",
     "text": [
      "요약 진행 중:  22%|██▏       | 519/2388 [19:13<1:19:44,  2.56s/it]"
     ]
    },
    {
     "name": "stdout",
     "output_type": "stream",
     "text": [
      "520/2388 행 요약 완료\n"
     ]
    },
    {
     "name": "stderr",
     "output_type": "stream",
     "text": [
      "요약 진행 중:  22%|██▏       | 520/2388 [19:15<1:14:04,  2.38s/it]"
     ]
    },
    {
     "name": "stdout",
     "output_type": "stream",
     "text": [
      "521/2388 행 요약 완료\n"
     ]
    },
    {
     "name": "stderr",
     "output_type": "stream",
     "text": [
      "요약 진행 중:  22%|██▏       | 521/2388 [19:17<1:06:38,  2.14s/it]"
     ]
    },
    {
     "name": "stdout",
     "output_type": "stream",
     "text": [
      "522/2388 행 요약 완료\n"
     ]
    },
    {
     "name": "stderr",
     "output_type": "stream",
     "text": [
      "요약 진행 중:  22%|██▏       | 522/2388 [19:18<59:59,  1.93s/it]  "
     ]
    },
    {
     "name": "stdout",
     "output_type": "stream",
     "text": [
      "523/2388 행 요약 완료\n"
     ]
    },
    {
     "name": "stderr",
     "output_type": "stream",
     "text": [
      "요약 진행 중:  22%|██▏       | 523/2388 [19:21<1:05:58,  2.12s/it]"
     ]
    },
    {
     "name": "stdout",
     "output_type": "stream",
     "text": [
      "524/2388 행 요약 완료\n"
     ]
    },
    {
     "name": "stderr",
     "output_type": "stream",
     "text": [
      "요약 진행 중:  22%|██▏       | 524/2388 [19:23<1:10:33,  2.27s/it]"
     ]
    },
    {
     "name": "stdout",
     "output_type": "stream",
     "text": [
      "525/2388 행 요약 완료\n"
     ]
    },
    {
     "name": "stderr",
     "output_type": "stream",
     "text": [
      "요약 진행 중:  22%|██▏       | 525/2388 [19:26<1:09:27,  2.24s/it]"
     ]
    },
    {
     "name": "stdout",
     "output_type": "stream",
     "text": [
      "526/2388 행 요약 완료\n"
     ]
    },
    {
     "name": "stderr",
     "output_type": "stream",
     "text": [
      "요약 진행 중:  22%|██▏       | 526/2388 [19:27<1:04:32,  2.08s/it]"
     ]
    },
    {
     "name": "stdout",
     "output_type": "stream",
     "text": [
      "527/2388 행 요약 완료\n"
     ]
    },
    {
     "name": "stderr",
     "output_type": "stream",
     "text": [
      "요약 진행 중:  22%|██▏       | 527/2388 [19:30<1:08:09,  2.20s/it]"
     ]
    },
    {
     "name": "stdout",
     "output_type": "stream",
     "text": [
      "528/2388 행 요약 완료\n"
     ]
    },
    {
     "name": "stderr",
     "output_type": "stream",
     "text": [
      "요약 진행 중:  22%|██▏       | 528/2388 [19:32<1:03:36,  2.05s/it]"
     ]
    },
    {
     "name": "stdout",
     "output_type": "stream",
     "text": [
      "529/2388 행 요약 완료\n"
     ]
    },
    {
     "name": "stderr",
     "output_type": "stream",
     "text": [
      "요약 진행 중:  22%|██▏       | 529/2388 [19:34<1:11:53,  2.32s/it]"
     ]
    },
    {
     "name": "stdout",
     "output_type": "stream",
     "text": [
      "530/2388 행 요약 완료\n"
     ]
    },
    {
     "name": "stderr",
     "output_type": "stream",
     "text": [
      "요약 진행 중:  22%|██▏       | 530/2388 [19:36<1:02:34,  2.02s/it]"
     ]
    },
    {
     "name": "stdout",
     "output_type": "stream",
     "text": [
      "531/2388 행 요약 완료\n"
     ]
    },
    {
     "name": "stderr",
     "output_type": "stream",
     "text": [
      "요약 진행 중:  22%|██▏       | 531/2388 [19:39<1:13:42,  2.38s/it]"
     ]
    },
    {
     "name": "stdout",
     "output_type": "stream",
     "text": [
      "532/2388 행 요약 완료\n"
     ]
    },
    {
     "name": "stderr",
     "output_type": "stream",
     "text": [
      "요약 진행 중:  22%|██▏       | 532/2388 [19:40<1:03:31,  2.05s/it]"
     ]
    },
    {
     "name": "stdout",
     "output_type": "stream",
     "text": [
      "533/2388 행 요약 완료\n"
     ]
    },
    {
     "name": "stderr",
     "output_type": "stream",
     "text": [
      "요약 진행 중:  22%|██▏       | 533/2388 [19:44<1:17:59,  2.52s/it]"
     ]
    },
    {
     "name": "stdout",
     "output_type": "stream",
     "text": [
      "534/2388 행 요약 완료\n"
     ]
    },
    {
     "name": "stderr",
     "output_type": "stream",
     "text": [
      "요약 진행 중:  22%|██▏       | 534/2388 [19:45<1:08:46,  2.23s/it]"
     ]
    },
    {
     "name": "stdout",
     "output_type": "stream",
     "text": [
      "535/2388 행 요약 완료\n"
     ]
    },
    {
     "name": "stderr",
     "output_type": "stream",
     "text": [
      "요약 진행 중:  22%|██▏       | 535/2388 [19:47<1:03:56,  2.07s/it]"
     ]
    },
    {
     "name": "stdout",
     "output_type": "stream",
     "text": [
      "536/2388 행 요약 완료\n"
     ]
    },
    {
     "name": "stderr",
     "output_type": "stream",
     "text": [
      "요약 진행 중:  22%|██▏       | 536/2388 [19:50<1:08:35,  2.22s/it]"
     ]
    },
    {
     "name": "stdout",
     "output_type": "stream",
     "text": [
      "537/2388 행 요약 완료\n"
     ]
    },
    {
     "name": "stderr",
     "output_type": "stream",
     "text": [
      "요약 진행 중:  22%|██▏       | 537/2388 [19:51<1:03:04,  2.04s/it]"
     ]
    },
    {
     "name": "stdout",
     "output_type": "stream",
     "text": [
      "538/2388 행 요약 완료\n"
     ]
    },
    {
     "name": "stderr",
     "output_type": "stream",
     "text": [
      "요약 진행 중:  23%|██▎       | 538/2388 [19:54<1:12:19,  2.35s/it]"
     ]
    },
    {
     "name": "stdout",
     "output_type": "stream",
     "text": [
      "539/2388 행 요약 완료\n"
     ]
    },
    {
     "name": "stderr",
     "output_type": "stream",
     "text": [
      "요약 진행 중:  23%|██▎       | 539/2388 [19:56<1:09:19,  2.25s/it]"
     ]
    },
    {
     "name": "stdout",
     "output_type": "stream",
     "text": [
      "540/2388 행 요약 완료\n"
     ]
    },
    {
     "name": "stderr",
     "output_type": "stream",
     "text": [
      "요약 진행 중:  23%|██▎       | 540/2388 [19:58<1:04:40,  2.10s/it]"
     ]
    },
    {
     "name": "stdout",
     "output_type": "stream",
     "text": [
      "541/2388 행 요약 완료\n"
     ]
    },
    {
     "name": "stderr",
     "output_type": "stream",
     "text": [
      "요약 진행 중:  23%|██▎       | 541/2388 [20:01<1:07:32,  2.19s/it]"
     ]
    },
    {
     "name": "stdout",
     "output_type": "stream",
     "text": [
      "542/2388 행 요약 완료\n"
     ]
    },
    {
     "name": "stderr",
     "output_type": "stream",
     "text": [
      "요약 진행 중:  23%|██▎       | 542/2388 [20:03<1:12:41,  2.36s/it]"
     ]
    },
    {
     "name": "stdout",
     "output_type": "stream",
     "text": [
      "543/2388 행 요약 완료\n"
     ]
    },
    {
     "name": "stderr",
     "output_type": "stream",
     "text": [
      "요약 진행 중:  23%|██▎       | 543/2388 [20:05<1:03:32,  2.07s/it]"
     ]
    },
    {
     "name": "stdout",
     "output_type": "stream",
     "text": [
      "544/2388 행 요약 완료\n"
     ]
    },
    {
     "name": "stderr",
     "output_type": "stream",
     "text": [
      "요약 진행 중:  23%|██▎       | 544/2388 [20:06<55:30,  1.81s/it]  "
     ]
    },
    {
     "name": "stdout",
     "output_type": "stream",
     "text": [
      "545/2388 행 요약 완료\n"
     ]
    },
    {
     "name": "stderr",
     "output_type": "stream",
     "text": [
      "요약 진행 중:  23%|██▎       | 545/2388 [20:07<50:10,  1.63s/it]"
     ]
    },
    {
     "name": "stdout",
     "output_type": "stream",
     "text": [
      "546/2388 행 요약 완료\n"
     ]
    },
    {
     "name": "stderr",
     "output_type": "stream",
     "text": [
      "요약 진행 중:  23%|██▎       | 546/2388 [20:08<44:10,  1.44s/it]"
     ]
    },
    {
     "name": "stdout",
     "output_type": "stream",
     "text": [
      "547/2388 행 요약 완료\n"
     ]
    },
    {
     "name": "stderr",
     "output_type": "stream",
     "text": [
      "요약 진행 중:  23%|██▎       | 547/2388 [20:11<53:02,  1.73s/it]"
     ]
    },
    {
     "name": "stdout",
     "output_type": "stream",
     "text": [
      "548/2388 행 요약 완료\n"
     ]
    },
    {
     "name": "stderr",
     "output_type": "stream",
     "text": [
      "요약 진행 중:  23%|██▎       | 548/2388 [20:12<52:54,  1.73s/it]"
     ]
    },
    {
     "name": "stdout",
     "output_type": "stream",
     "text": [
      "549/2388 행 요약 완료\n"
     ]
    },
    {
     "name": "stderr",
     "output_type": "stream",
     "text": [
      "요약 진행 중:  23%|██▎       | 549/2388 [20:14<55:20,  1.81s/it]"
     ]
    },
    {
     "name": "stdout",
     "output_type": "stream",
     "text": [
      "550/2388 행 요약 완료\n"
     ]
    },
    {
     "name": "stderr",
     "output_type": "stream",
     "text": [
      "요약 진행 중:  23%|██▎       | 550/2388 [20:16<51:43,  1.69s/it]"
     ]
    },
    {
     "name": "stdout",
     "output_type": "stream",
     "text": [
      "551/2388 행 요약 완료\n"
     ]
    },
    {
     "name": "stderr",
     "output_type": "stream",
     "text": [
      "요약 진행 중:  23%|██▎       | 551/2388 [20:18<55:29,  1.81s/it]"
     ]
    },
    {
     "name": "stdout",
     "output_type": "stream",
     "text": [
      "552/2388 행 요약 완료\n"
     ]
    },
    {
     "name": "stderr",
     "output_type": "stream",
     "text": [
      "요약 진행 중:  23%|██▎       | 552/2388 [20:20<59:21,  1.94s/it]"
     ]
    },
    {
     "name": "stdout",
     "output_type": "stream",
     "text": [
      "553/2388 행 요약 완료\n"
     ]
    },
    {
     "name": "stderr",
     "output_type": "stream",
     "text": [
      "요약 진행 중:  23%|██▎       | 553/2388 [20:24<1:21:39,  2.67s/it]"
     ]
    },
    {
     "name": "stdout",
     "output_type": "stream",
     "text": [
      "554/2388 행 요약 완료\n"
     ]
    },
    {
     "name": "stderr",
     "output_type": "stream",
     "text": [
      "요약 진행 중:  23%|██▎       | 554/2388 [20:27<1:17:49,  2.55s/it]"
     ]
    },
    {
     "name": "stdout",
     "output_type": "stream",
     "text": [
      "555/2388 행 요약 완료\n"
     ]
    },
    {
     "name": "stderr",
     "output_type": "stream",
     "text": [
      "요약 진행 중:  23%|██▎       | 555/2388 [20:30<1:23:33,  2.73s/it]"
     ]
    },
    {
     "name": "stdout",
     "output_type": "stream",
     "text": [
      "556/2388 행 요약 완료\n"
     ]
    },
    {
     "name": "stderr",
     "output_type": "stream",
     "text": [
      "요약 진행 중:  23%|██▎       | 556/2388 [20:33<1:30:06,  2.95s/it]"
     ]
    },
    {
     "name": "stdout",
     "output_type": "stream",
     "text": [
      "557/2388 행 요약 완료\n"
     ]
    },
    {
     "name": "stderr",
     "output_type": "stream",
     "text": [
      "요약 진행 중:  23%|██▎       | 557/2388 [20:35<1:19:18,  2.60s/it]"
     ]
    },
    {
     "name": "stdout",
     "output_type": "stream",
     "text": [
      "558/2388 행 요약 완료\n"
     ]
    },
    {
     "name": "stderr",
     "output_type": "stream",
     "text": [
      "요약 진행 중:  23%|██▎       | 558/2388 [20:38<1:18:09,  2.56s/it]"
     ]
    },
    {
     "name": "stdout",
     "output_type": "stream",
     "text": [
      "559/2388 행 요약 완료\n"
     ]
    },
    {
     "name": "stderr",
     "output_type": "stream",
     "text": [
      "요약 진행 중:  23%|██▎       | 559/2388 [20:39<1:10:04,  2.30s/it]"
     ]
    },
    {
     "name": "stdout",
     "output_type": "stream",
     "text": [
      "560/2388 행 요약 완료\n"
     ]
    },
    {
     "name": "stderr",
     "output_type": "stream",
     "text": [
      "요약 진행 중:  23%|██▎       | 560/2388 [20:41<1:02:28,  2.05s/it]"
     ]
    },
    {
     "name": "stdout",
     "output_type": "stream",
     "text": [
      "561/2388 행 요약 완료\n"
     ]
    },
    {
     "name": "stderr",
     "output_type": "stream",
     "text": [
      "요약 진행 중:  23%|██▎       | 561/2388 [20:43<1:01:38,  2.02s/it]"
     ]
    },
    {
     "name": "stdout",
     "output_type": "stream",
     "text": [
      "562/2388 행 요약 완료\n"
     ]
    },
    {
     "name": "stderr",
     "output_type": "stream",
     "text": [
      "요약 진행 중:  24%|██▎       | 562/2388 [20:47<1:22:13,  2.70s/it]"
     ]
    },
    {
     "name": "stdout",
     "output_type": "stream",
     "text": [
      "563/2388 행 요약 완료\n"
     ]
    },
    {
     "name": "stderr",
     "output_type": "stream",
     "text": [
      "요약 진행 중:  24%|██▎       | 563/2388 [20:49<1:12:24,  2.38s/it]"
     ]
    },
    {
     "name": "stdout",
     "output_type": "stream",
     "text": [
      "564/2388 행 요약 완료\n"
     ]
    },
    {
     "name": "stderr",
     "output_type": "stream",
     "text": [
      "요약 진행 중:  24%|██▎       | 564/2388 [20:51<1:15:10,  2.47s/it]"
     ]
    },
    {
     "name": "stdout",
     "output_type": "stream",
     "text": [
      "565/2388 행 요약 완료\n"
     ]
    },
    {
     "name": "stderr",
     "output_type": "stream",
     "text": [
      "요약 진행 중:  24%|██▎       | 565/2388 [20:53<1:10:19,  2.31s/it]"
     ]
    },
    {
     "name": "stdout",
     "output_type": "stream",
     "text": [
      "566/2388 행 요약 완료\n"
     ]
    },
    {
     "name": "stderr",
     "output_type": "stream",
     "text": [
      "요약 진행 중:  24%|██▎       | 566/2388 [20:56<1:10:58,  2.34s/it]"
     ]
    },
    {
     "name": "stdout",
     "output_type": "stream",
     "text": [
      "567/2388 행 요약 완료\n"
     ]
    },
    {
     "name": "stderr",
     "output_type": "stream",
     "text": [
      "요약 진행 중:  24%|██▎       | 567/2388 [20:59<1:19:09,  2.61s/it]"
     ]
    },
    {
     "name": "stdout",
     "output_type": "stream",
     "text": [
      "568/2388 행 요약 완료\n"
     ]
    },
    {
     "name": "stderr",
     "output_type": "stream",
     "text": [
      "요약 진행 중:  24%|██▍       | 568/2388 [21:01<1:18:36,  2.59s/it]"
     ]
    },
    {
     "name": "stdout",
     "output_type": "stream",
     "text": [
      "569/2388 행 요약 완료\n"
     ]
    },
    {
     "name": "stderr",
     "output_type": "stream",
     "text": [
      "요약 진행 중:  24%|██▍       | 569/2388 [21:03<1:08:21,  2.25s/it]"
     ]
    },
    {
     "name": "stdout",
     "output_type": "stream",
     "text": [
      "570/2388 행 요약 완료\n"
     ]
    },
    {
     "name": "stderr",
     "output_type": "stream",
     "text": [
      "요약 진행 중:  24%|██▍       | 570/2388 [21:04<58:42,  1.94s/it]  "
     ]
    },
    {
     "name": "stdout",
     "output_type": "stream",
     "text": [
      "571/2388 행 요약 완료\n"
     ]
    },
    {
     "name": "stderr",
     "output_type": "stream",
     "text": [
      "요약 진행 중:  24%|██▍       | 571/2388 [21:06<59:05,  1.95s/it]"
     ]
    },
    {
     "name": "stdout",
     "output_type": "stream",
     "text": [
      "572/2388 행 요약 완료\n"
     ]
    },
    {
     "name": "stderr",
     "output_type": "stream",
     "text": [
      "요약 진행 중:  24%|██▍       | 572/2388 [21:09<1:05:18,  2.16s/it]"
     ]
    },
    {
     "name": "stdout",
     "output_type": "stream",
     "text": [
      "573/2388 행 요약 완료\n"
     ]
    },
    {
     "name": "stderr",
     "output_type": "stream",
     "text": [
      "요약 진행 중:  24%|██▍       | 573/2388 [21:12<1:12:48,  2.41s/it]"
     ]
    },
    {
     "name": "stdout",
     "output_type": "stream",
     "text": [
      "574/2388 행 요약 완료\n"
     ]
    },
    {
     "name": "stderr",
     "output_type": "stream",
     "text": [
      "요약 진행 중:  24%|██▍       | 574/2388 [21:14<1:16:46,  2.54s/it]"
     ]
    },
    {
     "name": "stdout",
     "output_type": "stream",
     "text": [
      "575/2388 행 요약 완료\n"
     ]
    },
    {
     "name": "stderr",
     "output_type": "stream",
     "text": [
      "요약 진행 중:  24%|██▍       | 575/2388 [21:16<1:10:08,  2.32s/it]"
     ]
    },
    {
     "name": "stdout",
     "output_type": "stream",
     "text": [
      "576/2388 행 요약 완료\n"
     ]
    },
    {
     "name": "stderr",
     "output_type": "stream",
     "text": [
      "요약 진행 중:  24%|██▍       | 576/2388 [21:19<1:12:10,  2.39s/it]"
     ]
    },
    {
     "name": "stdout",
     "output_type": "stream",
     "text": [
      "577/2388 행 요약 완료\n"
     ]
    },
    {
     "name": "stderr",
     "output_type": "stream",
     "text": [
      "요약 진행 중:  24%|██▍       | 577/2388 [21:21<1:12:50,  2.41s/it]"
     ]
    },
    {
     "name": "stdout",
     "output_type": "stream",
     "text": [
      "578/2388 행 요약 완료\n"
     ]
    },
    {
     "name": "stderr",
     "output_type": "stream",
     "text": [
      "요약 진행 중:  24%|██▍       | 578/2388 [21:24<1:18:53,  2.62s/it]"
     ]
    },
    {
     "name": "stdout",
     "output_type": "stream",
     "text": [
      "579/2388 행 요약 완료\n"
     ]
    },
    {
     "name": "stderr",
     "output_type": "stream",
     "text": [
      "요약 진행 중:  24%|██▍       | 579/2388 [21:26<1:10:22,  2.33s/it]"
     ]
    },
    {
     "name": "stdout",
     "output_type": "stream",
     "text": [
      "580/2388 행 요약 완료\n"
     ]
    },
    {
     "name": "stderr",
     "output_type": "stream",
     "text": [
      "요약 진행 중:  24%|██▍       | 580/2388 [21:29<1:14:47,  2.48s/it]"
     ]
    },
    {
     "name": "stdout",
     "output_type": "stream",
     "text": [
      "581/2388 행 요약 완료\n"
     ]
    },
    {
     "name": "stderr",
     "output_type": "stream",
     "text": [
      "요약 진행 중:  24%|██▍       | 581/2388 [21:30<1:05:48,  2.19s/it]"
     ]
    },
    {
     "name": "stdout",
     "output_type": "stream",
     "text": [
      "582/2388 행 요약 완료\n"
     ]
    },
    {
     "name": "stderr",
     "output_type": "stream",
     "text": [
      "요약 진행 중:  24%|██▍       | 582/2388 [21:33<1:11:15,  2.37s/it]"
     ]
    },
    {
     "name": "stdout",
     "output_type": "stream",
     "text": [
      "583/2388 행 요약 완료\n"
     ]
    },
    {
     "name": "stderr",
     "output_type": "stream",
     "text": [
      "요약 진행 중:  24%|██▍       | 583/2388 [21:35<1:09:52,  2.32s/it]"
     ]
    },
    {
     "name": "stdout",
     "output_type": "stream",
     "text": [
      "584/2388 행 요약 완료\n"
     ]
    },
    {
     "name": "stderr",
     "output_type": "stream",
     "text": [
      "요약 진행 중:  24%|██▍       | 584/2388 [21:39<1:24:31,  2.81s/it]"
     ]
    },
    {
     "name": "stdout",
     "output_type": "stream",
     "text": [
      "585/2388 행 요약 완료\n"
     ]
    },
    {
     "name": "stderr",
     "output_type": "stream",
     "text": [
      "요약 진행 중:  24%|██▍       | 585/2388 [21:43<1:31:19,  3.04s/it]"
     ]
    },
    {
     "name": "stdout",
     "output_type": "stream",
     "text": [
      "586/2388 행 요약 완료\n"
     ]
    },
    {
     "name": "stderr",
     "output_type": "stream",
     "text": [
      "요약 진행 중:  25%|██▍       | 586/2388 [21:45<1:24:07,  2.80s/it]"
     ]
    },
    {
     "name": "stdout",
     "output_type": "stream",
     "text": [
      "587/2388 행 요약 완료\n"
     ]
    },
    {
     "name": "stderr",
     "output_type": "stream",
     "text": [
      "요약 진행 중:  25%|██▍       | 587/2388 [21:47<1:12:17,  2.41s/it]"
     ]
    },
    {
     "name": "stdout",
     "output_type": "stream",
     "text": [
      "588/2388 행 요약 완료\n"
     ]
    },
    {
     "name": "stderr",
     "output_type": "stream",
     "text": [
      "요약 진행 중:  25%|██▍       | 588/2388 [21:51<1:25:38,  2.85s/it]"
     ]
    },
    {
     "name": "stdout",
     "output_type": "stream",
     "text": [
      "589/2388 행 요약 완료\n"
     ]
    },
    {
     "name": "stderr",
     "output_type": "stream",
     "text": [
      "요약 진행 중:  25%|██▍       | 589/2388 [21:52<1:14:20,  2.48s/it]"
     ]
    },
    {
     "name": "stdout",
     "output_type": "stream",
     "text": [
      "590/2388 행 요약 완료\n"
     ]
    },
    {
     "name": "stderr",
     "output_type": "stream",
     "text": [
      "요약 진행 중:  25%|██▍       | 590/2388 [21:56<1:29:33,  2.99s/it]"
     ]
    },
    {
     "name": "stdout",
     "output_type": "stream",
     "text": [
      "591/2388 행 요약 완료\n"
     ]
    },
    {
     "name": "stderr",
     "output_type": "stream",
     "text": [
      "요약 진행 중:  25%|██▍       | 591/2388 [21:57<1:12:05,  2.41s/it]"
     ]
    },
    {
     "name": "stdout",
     "output_type": "stream",
     "text": [
      "592/2388 행 요약 완료\n"
     ]
    },
    {
     "name": "stderr",
     "output_type": "stream",
     "text": [
      "요약 진행 중:  25%|██▍       | 592/2388 [22:00<1:15:15,  2.51s/it]"
     ]
    },
    {
     "name": "stdout",
     "output_type": "stream",
     "text": [
      "593/2388 행 요약 완료\n"
     ]
    },
    {
     "name": "stderr",
     "output_type": "stream",
     "text": [
      "요약 진행 중:  25%|██▍       | 593/2388 [22:03<1:15:19,  2.52s/it]"
     ]
    },
    {
     "name": "stdout",
     "output_type": "stream",
     "text": [
      "594/2388 행 요약 완료\n"
     ]
    },
    {
     "name": "stderr",
     "output_type": "stream",
     "text": [
      "요약 진행 중:  25%|██▍       | 594/2388 [22:06<1:18:36,  2.63s/it]"
     ]
    },
    {
     "name": "stdout",
     "output_type": "stream",
     "text": [
      "595/2388 행 요약 완료\n"
     ]
    },
    {
     "name": "stderr",
     "output_type": "stream",
     "text": [
      "요약 진행 중:  25%|██▍       | 595/2388 [22:09<1:25:05,  2.85s/it]"
     ]
    },
    {
     "name": "stdout",
     "output_type": "stream",
     "text": [
      "596/2388 행 요약 완료\n"
     ]
    },
    {
     "name": "stderr",
     "output_type": "stream",
     "text": [
      "요약 진행 중:  25%|██▍       | 596/2388 [22:11<1:20:11,  2.68s/it]"
     ]
    },
    {
     "name": "stdout",
     "output_type": "stream",
     "text": [
      "597/2388 행 요약 완료\n"
     ]
    },
    {
     "name": "stderr",
     "output_type": "stream",
     "text": [
      "요약 진행 중:  25%|██▌       | 597/2388 [22:13<1:15:35,  2.53s/it]"
     ]
    },
    {
     "name": "stdout",
     "output_type": "stream",
     "text": [
      "598/2388 행 요약 완료\n"
     ]
    },
    {
     "name": "stderr",
     "output_type": "stream",
     "text": [
      "요약 진행 중:  25%|██▌       | 598/2388 [22:17<1:23:25,  2.80s/it]"
     ]
    },
    {
     "name": "stdout",
     "output_type": "stream",
     "text": [
      "599/2388 행 요약 완료\n"
     ]
    },
    {
     "name": "stderr",
     "output_type": "stream",
     "text": [
      "요약 진행 중:  25%|██▌       | 599/2388 [22:18<1:11:52,  2.41s/it]"
     ]
    },
    {
     "name": "stdout",
     "output_type": "stream",
     "text": [
      "600/2388 행 요약 완료\n"
     ]
    },
    {
     "name": "stderr",
     "output_type": "stream",
     "text": [
      "요약 진행 중:  25%|██▌       | 600/2388 [22:22<1:21:04,  2.72s/it]"
     ]
    },
    {
     "name": "stdout",
     "output_type": "stream",
     "text": [
      "601/2388 행 요약 완료\n"
     ]
    },
    {
     "name": "stderr",
     "output_type": "stream",
     "text": [
      "요약 진행 중:  25%|██▌       | 601/2388 [22:23<1:09:44,  2.34s/it]"
     ]
    },
    {
     "name": "stdout",
     "output_type": "stream",
     "text": [
      "602/2388 행 요약 완료\n"
     ]
    },
    {
     "name": "stderr",
     "output_type": "stream",
     "text": [
      "요약 진행 중:  25%|██▌       | 602/2388 [22:26<1:10:38,  2.37s/it]"
     ]
    },
    {
     "name": "stdout",
     "output_type": "stream",
     "text": [
      "603/2388 행 요약 완료\n"
     ]
    },
    {
     "name": "stderr",
     "output_type": "stream",
     "text": [
      "요약 진행 중:  25%|██▌       | 603/2388 [22:28<1:11:28,  2.40s/it]"
     ]
    },
    {
     "name": "stdout",
     "output_type": "stream",
     "text": [
      "604/2388 행 요약 완료\n"
     ]
    },
    {
     "name": "stderr",
     "output_type": "stream",
     "text": [
      "요약 진행 중:  25%|██▌       | 604/2388 [22:31<1:19:13,  2.66s/it]"
     ]
    },
    {
     "name": "stdout",
     "output_type": "stream",
     "text": [
      "605/2388 행 요약 완료\n"
     ]
    },
    {
     "name": "stderr",
     "output_type": "stream",
     "text": [
      "요약 진행 중:  25%|██▌       | 605/2388 [22:33<1:13:30,  2.47s/it]"
     ]
    },
    {
     "name": "stdout",
     "output_type": "stream",
     "text": [
      "606/2388 행 요약 완료\n"
     ]
    },
    {
     "name": "stderr",
     "output_type": "stream",
     "text": [
      "요약 진행 중:  25%|██▌       | 606/2388 [22:35<1:09:20,  2.33s/it]"
     ]
    },
    {
     "name": "stdout",
     "output_type": "stream",
     "text": [
      "607/2388 행 요약 완료\n"
     ]
    },
    {
     "name": "stderr",
     "output_type": "stream",
     "text": [
      "요약 진행 중:  25%|██▌       | 607/2388 [22:38<1:08:54,  2.32s/it]"
     ]
    },
    {
     "name": "stdout",
     "output_type": "stream",
     "text": [
      "608/2388 행 요약 완료\n"
     ]
    },
    {
     "name": "stderr",
     "output_type": "stream",
     "text": [
      "요약 진행 중:  25%|██▌       | 608/2388 [22:40<1:07:17,  2.27s/it]"
     ]
    },
    {
     "name": "stdout",
     "output_type": "stream",
     "text": [
      "609/2388 행 요약 완료\n"
     ]
    },
    {
     "name": "stderr",
     "output_type": "stream",
     "text": [
      "요약 진행 중:  26%|██▌       | 609/2388 [22:41<58:50,  1.98s/it]  "
     ]
    },
    {
     "name": "stdout",
     "output_type": "stream",
     "text": [
      "610/2388 행 요약 완료\n"
     ]
    },
    {
     "name": "stderr",
     "output_type": "stream",
     "text": [
      "요약 진행 중:  26%|██▌       | 610/2388 [22:44<1:01:50,  2.09s/it]"
     ]
    },
    {
     "name": "stdout",
     "output_type": "stream",
     "text": [
      "611/2388 행 요약 완료\n"
     ]
    },
    {
     "name": "stderr",
     "output_type": "stream",
     "text": [
      "요약 진행 중:  26%|██▌       | 611/2388 [22:45<54:59,  1.86s/it]  "
     ]
    },
    {
     "name": "stdout",
     "output_type": "stream",
     "text": [
      "612/2388 행 요약 완료\n"
     ]
    },
    {
     "name": "stderr",
     "output_type": "stream",
     "text": [
      "요약 진행 중:  26%|██▌       | 612/2388 [22:47<56:15,  1.90s/it]"
     ]
    },
    {
     "name": "stdout",
     "output_type": "stream",
     "text": [
      "613/2388 행 요약 완료\n"
     ]
    },
    {
     "name": "stderr",
     "output_type": "stream",
     "text": [
      "요약 진행 중:  26%|██▌       | 613/2388 [22:49<54:24,  1.84s/it]"
     ]
    },
    {
     "name": "stdout",
     "output_type": "stream",
     "text": [
      "614/2388 행 요약 완료\n"
     ]
    },
    {
     "name": "stderr",
     "output_type": "stream",
     "text": [
      "요약 진행 중:  26%|██▌       | 614/2388 [22:50<53:05,  1.80s/it]"
     ]
    },
    {
     "name": "stdout",
     "output_type": "stream",
     "text": [
      "615/2388 행 요약 완료\n"
     ]
    },
    {
     "name": "stderr",
     "output_type": "stream",
     "text": [
      "요약 진행 중:  26%|██▌       | 615/2388 [22:52<54:04,  1.83s/it]"
     ]
    },
    {
     "name": "stdout",
     "output_type": "stream",
     "text": [
      "616/2388 행 요약 완료\n"
     ]
    },
    {
     "name": "stderr",
     "output_type": "stream",
     "text": [
      "요약 진행 중:  26%|██▌       | 616/2388 [22:56<1:14:44,  2.53s/it]"
     ]
    },
    {
     "name": "stdout",
     "output_type": "stream",
     "text": [
      "617/2388 행 요약 완료\n"
     ]
    },
    {
     "name": "stderr",
     "output_type": "stream",
     "text": [
      "요약 진행 중:  26%|██▌       | 617/2388 [22:59<1:14:22,  2.52s/it]"
     ]
    },
    {
     "name": "stdout",
     "output_type": "stream",
     "text": [
      "618/2388 행 요약 완료\n"
     ]
    },
    {
     "name": "stderr",
     "output_type": "stream",
     "text": [
      "요약 진행 중:  26%|██▌       | 618/2388 [23:02<1:19:09,  2.68s/it]"
     ]
    },
    {
     "name": "stdout",
     "output_type": "stream",
     "text": [
      "619/2388 행 요약 완료\n"
     ]
    },
    {
     "name": "stderr",
     "output_type": "stream",
     "text": [
      "요약 진행 중:  26%|██▌       | 619/2388 [23:04<1:09:26,  2.36s/it]"
     ]
    },
    {
     "name": "stdout",
     "output_type": "stream",
     "text": [
      "620/2388 행 요약 완료\n"
     ]
    },
    {
     "name": "stderr",
     "output_type": "stream",
     "text": [
      "요약 진행 중:  26%|██▌       | 620/2388 [23:05<59:24,  2.02s/it]  "
     ]
    },
    {
     "name": "stdout",
     "output_type": "stream",
     "text": [
      "621/2388 행 요약 완료\n"
     ]
    },
    {
     "name": "stderr",
     "output_type": "stream",
     "text": [
      "요약 진행 중:  26%|██▌       | 621/2388 [23:08<1:12:56,  2.48s/it]"
     ]
    },
    {
     "name": "stdout",
     "output_type": "stream",
     "text": [
      "622/2388 행 요약 완료\n"
     ]
    },
    {
     "name": "stderr",
     "output_type": "stream",
     "text": [
      "요약 진행 중:  26%|██▌       | 622/2388 [23:10<1:10:30,  2.40s/it]"
     ]
    },
    {
     "name": "stdout",
     "output_type": "stream",
     "text": [
      "623/2388 행 요약 완료\n"
     ]
    },
    {
     "name": "stderr",
     "output_type": "stream",
     "text": [
      "요약 진행 중:  26%|██▌       | 623/2388 [23:12<1:01:28,  2.09s/it]"
     ]
    },
    {
     "name": "stdout",
     "output_type": "stream",
     "text": [
      "624/2388 행 요약 완료\n"
     ]
    },
    {
     "name": "stderr",
     "output_type": "stream",
     "text": [
      "요약 진행 중:  26%|██▌       | 624/2388 [23:14<59:59,  2.04s/it]  "
     ]
    },
    {
     "name": "stdout",
     "output_type": "stream",
     "text": [
      "625/2388 행 요약 완료\n"
     ]
    },
    {
     "name": "stderr",
     "output_type": "stream",
     "text": [
      "요약 진행 중:  26%|██▌       | 625/2388 [23:17<1:10:26,  2.40s/it]"
     ]
    },
    {
     "name": "stdout",
     "output_type": "stream",
     "text": [
      "626/2388 행 요약 완료\n"
     ]
    },
    {
     "name": "stderr",
     "output_type": "stream",
     "text": [
      "요약 진행 중:  26%|██▌       | 626/2388 [23:18<1:01:25,  2.09s/it]"
     ]
    },
    {
     "name": "stdout",
     "output_type": "stream",
     "text": [
      "627/2388 행 요약 완료\n"
     ]
    },
    {
     "name": "stderr",
     "output_type": "stream",
     "text": [
      "요약 진행 중:  26%|██▋       | 627/2388 [23:20<1:00:05,  2.05s/it]"
     ]
    },
    {
     "name": "stdout",
     "output_type": "stream",
     "text": [
      "628/2388 행 요약 완료\n"
     ]
    },
    {
     "name": "stderr",
     "output_type": "stream",
     "text": [
      "요약 진행 중:  26%|██▋       | 628/2388 [23:23<1:01:24,  2.09s/it]"
     ]
    },
    {
     "name": "stdout",
     "output_type": "stream",
     "text": [
      "629/2388 행 요약 완료\n"
     ]
    },
    {
     "name": "stderr",
     "output_type": "stream",
     "text": [
      "요약 진행 중:  26%|██▋       | 629/2388 [23:24<53:55,  1.84s/it]  "
     ]
    },
    {
     "name": "stdout",
     "output_type": "stream",
     "text": [
      "630/2388 행 요약 완료\n"
     ]
    },
    {
     "name": "stderr",
     "output_type": "stream",
     "text": [
      "요약 진행 중:  26%|██▋       | 630/2388 [23:25<50:47,  1.73s/it]"
     ]
    },
    {
     "name": "stdout",
     "output_type": "stream",
     "text": [
      "631/2388 행 요약 완료\n"
     ]
    },
    {
     "name": "stderr",
     "output_type": "stream",
     "text": [
      "요약 진행 중:  26%|██▋       | 631/2388 [23:27<54:26,  1.86s/it]"
     ]
    },
    {
     "name": "stdout",
     "output_type": "stream",
     "text": [
      "632/2388 행 요약 완료\n"
     ]
    },
    {
     "name": "stderr",
     "output_type": "stream",
     "text": [
      "요약 진행 중:  26%|██▋       | 632/2388 [23:29<51:03,  1.74s/it]"
     ]
    },
    {
     "name": "stdout",
     "output_type": "stream",
     "text": [
      "633/2388 행 요약 완료\n"
     ]
    },
    {
     "name": "stderr",
     "output_type": "stream",
     "text": [
      "요약 진행 중:  27%|██▋       | 633/2388 [23:31<58:01,  1.98s/it]"
     ]
    },
    {
     "name": "stdout",
     "output_type": "stream",
     "text": [
      "634/2388 행 요약 완료\n"
     ]
    },
    {
     "name": "stderr",
     "output_type": "stream",
     "text": [
      "요약 진행 중:  27%|██▋       | 634/2388 [23:36<1:22:30,  2.82s/it]"
     ]
    },
    {
     "name": "stdout",
     "output_type": "stream",
     "text": [
      "635/2388 행 요약 완료\n"
     ]
    },
    {
     "name": "stderr",
     "output_type": "stream",
     "text": [
      "요약 진행 중:  27%|██▋       | 635/2388 [23:38<1:10:21,  2.41s/it]"
     ]
    },
    {
     "name": "stdout",
     "output_type": "stream",
     "text": [
      "636/2388 행 요약 완료\n"
     ]
    },
    {
     "name": "stderr",
     "output_type": "stream",
     "text": [
      "요약 진행 중:  27%|██▋       | 636/2388 [23:40<1:08:42,  2.35s/it]"
     ]
    },
    {
     "name": "stdout",
     "output_type": "stream",
     "text": [
      "637/2388 행 요약 완료\n"
     ]
    },
    {
     "name": "stderr",
     "output_type": "stream",
     "text": [
      "요약 진행 중:  27%|██▋       | 637/2388 [23:43<1:13:03,  2.50s/it]"
     ]
    },
    {
     "name": "stdout",
     "output_type": "stream",
     "text": [
      "638/2388 행 요약 완료\n"
     ]
    },
    {
     "name": "stderr",
     "output_type": "stream",
     "text": [
      "요약 진행 중:  27%|██▋       | 638/2388 [23:45<1:13:31,  2.52s/it]"
     ]
    },
    {
     "name": "stdout",
     "output_type": "stream",
     "text": [
      "639/2388 행 요약 완료\n"
     ]
    },
    {
     "name": "stderr",
     "output_type": "stream",
     "text": [
      "요약 진행 중:  27%|██▋       | 639/2388 [23:47<1:02:35,  2.15s/it]"
     ]
    },
    {
     "name": "stdout",
     "output_type": "stream",
     "text": [
      "640/2388 행 요약 완료\n"
     ]
    },
    {
     "name": "stderr",
     "output_type": "stream",
     "text": [
      "요약 진행 중:  27%|██▋       | 640/2388 [23:49<1:08:32,  2.35s/it]"
     ]
    },
    {
     "name": "stdout",
     "output_type": "stream",
     "text": [
      "641/2388 행 요약 완료\n"
     ]
    },
    {
     "name": "stderr",
     "output_type": "stream",
     "text": [
      "요약 진행 중:  27%|██▋       | 641/2388 [23:52<1:07:46,  2.33s/it]"
     ]
    },
    {
     "name": "stdout",
     "output_type": "stream",
     "text": [
      "642/2388 행 요약 완료\n"
     ]
    },
    {
     "name": "stderr",
     "output_type": "stream",
     "text": [
      "요약 진행 중:  27%|██▋       | 642/2388 [23:53<57:06,  1.96s/it]  "
     ]
    },
    {
     "name": "stdout",
     "output_type": "stream",
     "text": [
      "643/2388 행 요약 완료\n"
     ]
    },
    {
     "name": "stderr",
     "output_type": "stream",
     "text": [
      "요약 진행 중:  27%|██▋       | 643/2388 [23:55<58:50,  2.02s/it]"
     ]
    },
    {
     "name": "stdout",
     "output_type": "stream",
     "text": [
      "644/2388 행 요약 완료\n"
     ]
    },
    {
     "name": "stderr",
     "output_type": "stream",
     "text": [
      "요약 진행 중:  27%|██▋       | 644/2388 [23:57<59:06,  2.03s/it]"
     ]
    },
    {
     "name": "stdout",
     "output_type": "stream",
     "text": [
      "645/2388 행 요약 완료\n"
     ]
    },
    {
     "name": "stderr",
     "output_type": "stream",
     "text": [
      "요약 진행 중:  27%|██▋       | 645/2388 [23:59<57:52,  1.99s/it]"
     ]
    },
    {
     "name": "stdout",
     "output_type": "stream",
     "text": [
      "646/2388 행 요약 완료\n"
     ]
    },
    {
     "name": "stderr",
     "output_type": "stream",
     "text": [
      "요약 진행 중:  27%|██▋       | 646/2388 [24:01<58:33,  2.02s/it]"
     ]
    },
    {
     "name": "stdout",
     "output_type": "stream",
     "text": [
      "647/2388 행 요약 완료\n"
     ]
    },
    {
     "name": "stderr",
     "output_type": "stream",
     "text": [
      "요약 진행 중:  27%|██▋       | 647/2388 [24:04<1:02:57,  2.17s/it]"
     ]
    },
    {
     "name": "stdout",
     "output_type": "stream",
     "text": [
      "648/2388 행 요약 완료\n"
     ]
    },
    {
     "name": "stderr",
     "output_type": "stream",
     "text": [
      "요약 진행 중:  27%|██▋       | 648/2388 [24:07<1:12:33,  2.50s/it]"
     ]
    },
    {
     "name": "stdout",
     "output_type": "stream",
     "text": [
      "649/2388 행 요약 완료\n"
     ]
    },
    {
     "name": "stderr",
     "output_type": "stream",
     "text": [
      "요약 진행 중:  27%|██▋       | 649/2388 [24:09<1:06:55,  2.31s/it]"
     ]
    },
    {
     "name": "stdout",
     "output_type": "stream",
     "text": [
      "650/2388 행 요약 완료\n"
     ]
    },
    {
     "name": "stderr",
     "output_type": "stream",
     "text": [
      "요약 진행 중:  27%|██▋       | 650/2388 [24:10<1:00:51,  2.10s/it]"
     ]
    },
    {
     "name": "stdout",
     "output_type": "stream",
     "text": [
      "651/2388 행 요약 완료\n"
     ]
    },
    {
     "name": "stderr",
     "output_type": "stream",
     "text": [
      "요약 진행 중:  27%|██▋       | 651/2388 [24:12<53:27,  1.85s/it]  "
     ]
    },
    {
     "name": "stdout",
     "output_type": "stream",
     "text": [
      "652/2388 행 요약 완료\n"
     ]
    },
    {
     "name": "stderr",
     "output_type": "stream",
     "text": [
      "요약 진행 중:  27%|██▋       | 652/2388 [24:13<52:27,  1.81s/it]"
     ]
    },
    {
     "name": "stdout",
     "output_type": "stream",
     "text": [
      "653/2388 행 요약 완료\n"
     ]
    },
    {
     "name": "stderr",
     "output_type": "stream",
     "text": [
      "요약 진행 중:  27%|██▋       | 653/2388 [24:15<54:14,  1.88s/it]"
     ]
    },
    {
     "name": "stdout",
     "output_type": "stream",
     "text": [
      "654/2388 행 요약 완료\n"
     ]
    },
    {
     "name": "stderr",
     "output_type": "stream",
     "text": [
      "요약 진행 중:  27%|██▋       | 654/2388 [24:16<47:43,  1.65s/it]"
     ]
    },
    {
     "name": "stdout",
     "output_type": "stream",
     "text": [
      "655/2388 행 요약 완료\n"
     ]
    },
    {
     "name": "stderr",
     "output_type": "stream",
     "text": [
      "요약 진행 중:  27%|██▋       | 655/2388 [24:18<44:53,  1.55s/it]"
     ]
    },
    {
     "name": "stdout",
     "output_type": "stream",
     "text": [
      "656/2388 행 요약 완료\n"
     ]
    },
    {
     "name": "stderr",
     "output_type": "stream",
     "text": [
      "요약 진행 중:  27%|██▋       | 656/2388 [24:19<42:36,  1.48s/it]"
     ]
    },
    {
     "name": "stdout",
     "output_type": "stream",
     "text": [
      "657/2388 행 요약 완료\n"
     ]
    },
    {
     "name": "stderr",
     "output_type": "stream",
     "text": [
      "요약 진행 중:  28%|██▊       | 657/2388 [24:21<46:53,  1.63s/it]"
     ]
    },
    {
     "name": "stdout",
     "output_type": "stream",
     "text": [
      "658/2388 행 요약 완료\n"
     ]
    },
    {
     "name": "stderr",
     "output_type": "stream",
     "text": [
      "요약 진행 중:  28%|██▊       | 658/2388 [24:23<48:16,  1.67s/it]"
     ]
    },
    {
     "name": "stdout",
     "output_type": "stream",
     "text": [
      "659/2388 행 요약 완료\n"
     ]
    },
    {
     "name": "stderr",
     "output_type": "stream",
     "text": [
      "요약 진행 중:  28%|██▊       | 659/2388 [24:24<44:32,  1.55s/it]"
     ]
    },
    {
     "name": "stdout",
     "output_type": "stream",
     "text": [
      "660/2388 행 요약 완료\n"
     ]
    },
    {
     "name": "stderr",
     "output_type": "stream",
     "text": [
      "요약 진행 중:  28%|██▊       | 660/2388 [24:25<39:34,  1.37s/it]"
     ]
    },
    {
     "name": "stdout",
     "output_type": "stream",
     "text": [
      "661/2388 행 요약 완료\n"
     ]
    },
    {
     "name": "stderr",
     "output_type": "stream",
     "text": [
      "요약 진행 중:  28%|██▊       | 661/2388 [24:27<45:37,  1.58s/it]"
     ]
    },
    {
     "name": "stdout",
     "output_type": "stream",
     "text": [
      "662/2388 행 요약 완료\n"
     ]
    },
    {
     "name": "stderr",
     "output_type": "stream",
     "text": [
      "요약 진행 중:  28%|██▊       | 662/2388 [24:29<47:39,  1.66s/it]"
     ]
    },
    {
     "name": "stdout",
     "output_type": "stream",
     "text": [
      "663/2388 행 요약 완료\n"
     ]
    },
    {
     "name": "stderr",
     "output_type": "stream",
     "text": [
      "요약 진행 중:  28%|██▊       | 663/2388 [24:31<48:13,  1.68s/it]"
     ]
    },
    {
     "name": "stdout",
     "output_type": "stream",
     "text": [
      "664/2388 행 요약 완료\n"
     ]
    },
    {
     "name": "stderr",
     "output_type": "stream",
     "text": [
      "요약 진행 중:  28%|██▊       | 664/2388 [24:33<58:14,  2.03s/it]"
     ]
    },
    {
     "name": "stdout",
     "output_type": "stream",
     "text": [
      "665/2388 행 요약 완료\n"
     ]
    },
    {
     "name": "stderr",
     "output_type": "stream",
     "text": [
      "요약 진행 중:  28%|██▊       | 665/2388 [24:35<54:53,  1.91s/it]"
     ]
    },
    {
     "name": "stdout",
     "output_type": "stream",
     "text": [
      "666/2388 행 요약 완료\n"
     ]
    },
    {
     "name": "stderr",
     "output_type": "stream",
     "text": [
      "요약 진행 중:  28%|██▊       | 666/2388 [24:37<51:55,  1.81s/it]"
     ]
    },
    {
     "name": "stdout",
     "output_type": "stream",
     "text": [
      "667/2388 행 요약 완료\n"
     ]
    },
    {
     "name": "stderr",
     "output_type": "stream",
     "text": [
      "요약 진행 중:  28%|██▊       | 667/2388 [24:39<57:00,  1.99s/it]"
     ]
    },
    {
     "name": "stdout",
     "output_type": "stream",
     "text": [
      "668/2388 행 요약 완료\n"
     ]
    },
    {
     "name": "stderr",
     "output_type": "stream",
     "text": [
      "요약 진행 중:  28%|██▊       | 668/2388 [24:42<1:02:36,  2.18s/it]"
     ]
    },
    {
     "name": "stdout",
     "output_type": "stream",
     "text": [
      "669/2388 행 요약 완료\n"
     ]
    },
    {
     "name": "stderr",
     "output_type": "stream",
     "text": [
      "요약 진행 중:  28%|██▊       | 669/2388 [24:44<1:07:02,  2.34s/it]"
     ]
    },
    {
     "name": "stdout",
     "output_type": "stream",
     "text": [
      "670/2388 행 요약 완료\n"
     ]
    },
    {
     "name": "stderr",
     "output_type": "stream",
     "text": [
      "요약 진행 중:  28%|██▊       | 670/2388 [24:47<1:06:10,  2.31s/it]"
     ]
    },
    {
     "name": "stdout",
     "output_type": "stream",
     "text": [
      "671/2388 행 요약 완료\n"
     ]
    },
    {
     "name": "stderr",
     "output_type": "stream",
     "text": [
      "요약 진행 중:  28%|██▊       | 671/2388 [24:48<56:47,  1.98s/it]  "
     ]
    },
    {
     "name": "stdout",
     "output_type": "stream",
     "text": [
      "672/2388 행 요약 완료\n"
     ]
    },
    {
     "name": "stderr",
     "output_type": "stream",
     "text": [
      "요약 진행 중:  28%|██▊       | 672/2388 [24:49<50:18,  1.76s/it]"
     ]
    },
    {
     "name": "stdout",
     "output_type": "stream",
     "text": [
      "673/2388 행 요약 완료\n"
     ]
    },
    {
     "name": "stderr",
     "output_type": "stream",
     "text": [
      "요약 진행 중:  28%|██▊       | 673/2388 [24:51<48:57,  1.71s/it]"
     ]
    },
    {
     "name": "stdout",
     "output_type": "stream",
     "text": [
      "674/2388 행 요약 완료\n"
     ]
    },
    {
     "name": "stderr",
     "output_type": "stream",
     "text": [
      "요약 진행 중:  28%|██▊       | 674/2388 [24:52<47:00,  1.65s/it]"
     ]
    },
    {
     "name": "stdout",
     "output_type": "stream",
     "text": [
      "675/2388 행 요약 완료\n"
     ]
    },
    {
     "name": "stderr",
     "output_type": "stream",
     "text": [
      "요약 진행 중:  28%|██▊       | 675/2388 [24:56<1:07:06,  2.35s/it]"
     ]
    },
    {
     "name": "stdout",
     "output_type": "stream",
     "text": [
      "676/2388 행 요약 완료\n"
     ]
    },
    {
     "name": "stderr",
     "output_type": "stream",
     "text": [
      "요약 진행 중:  28%|██▊       | 676/2388 [24:59<1:13:35,  2.58s/it]"
     ]
    },
    {
     "name": "stdout",
     "output_type": "stream",
     "text": [
      "677/2388 행 요약 완료\n"
     ]
    },
    {
     "name": "stderr",
     "output_type": "stream",
     "text": [
      "요약 진행 중:  28%|██▊       | 677/2388 [25:02<1:16:49,  2.69s/it]"
     ]
    },
    {
     "name": "stdout",
     "output_type": "stream",
     "text": [
      "678/2388 행 요약 완료\n"
     ]
    },
    {
     "name": "stderr",
     "output_type": "stream",
     "text": [
      "요약 진행 중:  28%|██▊       | 678/2388 [25:05<1:15:16,  2.64s/it]"
     ]
    },
    {
     "name": "stdout",
     "output_type": "stream",
     "text": [
      "679/2388 행 요약 완료\n"
     ]
    },
    {
     "name": "stderr",
     "output_type": "stream",
     "text": [
      "요약 진행 중:  28%|██▊       | 679/2388 [25:06<1:06:09,  2.32s/it]"
     ]
    },
    {
     "name": "stdout",
     "output_type": "stream",
     "text": [
      "680/2388 행 요약 완료\n"
     ]
    },
    {
     "name": "stderr",
     "output_type": "stream",
     "text": [
      "요약 진행 중:  28%|██▊       | 680/2388 [25:08<57:58,  2.04s/it]  "
     ]
    },
    {
     "name": "stdout",
     "output_type": "stream",
     "text": [
      "681/2388 행 요약 완료\n"
     ]
    },
    {
     "name": "stderr",
     "output_type": "stream",
     "text": [
      "요약 진행 중:  29%|██▊       | 681/2388 [25:11<1:05:44,  2.31s/it]"
     ]
    },
    {
     "name": "stdout",
     "output_type": "stream",
     "text": [
      "682/2388 행 요약 완료\n"
     ]
    },
    {
     "name": "stderr",
     "output_type": "stream",
     "text": [
      "요약 진행 중:  29%|██▊       | 682/2388 [25:13<1:02:11,  2.19s/it]"
     ]
    },
    {
     "name": "stdout",
     "output_type": "stream",
     "text": [
      "683/2388 행 요약 완료\n"
     ]
    },
    {
     "name": "stderr",
     "output_type": "stream",
     "text": [
      "요약 진행 중:  29%|██▊       | 683/2388 [25:14<54:33,  1.92s/it]  "
     ]
    },
    {
     "name": "stdout",
     "output_type": "stream",
     "text": [
      "684/2388 행 요약 완료\n"
     ]
    },
    {
     "name": "stderr",
     "output_type": "stream",
     "text": [
      "요약 진행 중:  29%|██▊       | 684/2388 [25:17<1:02:47,  2.21s/it]"
     ]
    },
    {
     "name": "stdout",
     "output_type": "stream",
     "text": [
      "685/2388 행 요약 완료\n"
     ]
    },
    {
     "name": "stderr",
     "output_type": "stream",
     "text": [
      "요약 진행 중:  29%|██▊       | 685/2388 [25:19<1:04:01,  2.26s/it]"
     ]
    },
    {
     "name": "stdout",
     "output_type": "stream",
     "text": [
      "686/2388 행 요약 완료\n"
     ]
    },
    {
     "name": "stderr",
     "output_type": "stream",
     "text": [
      "요약 진행 중:  29%|██▊       | 686/2388 [25:20<55:29,  1.96s/it]  "
     ]
    },
    {
     "name": "stdout",
     "output_type": "stream",
     "text": [
      "687/2388 행 요약 완료\n"
     ]
    },
    {
     "name": "stderr",
     "output_type": "stream",
     "text": [
      "요약 진행 중:  29%|██▉       | 687/2388 [25:24<1:05:49,  2.32s/it]"
     ]
    },
    {
     "name": "stdout",
     "output_type": "stream",
     "text": [
      "688/2388 행 요약 완료\n"
     ]
    },
    {
     "name": "stderr",
     "output_type": "stream",
     "text": [
      "요약 진행 중:  29%|██▉       | 688/2388 [25:26<1:10:08,  2.48s/it]"
     ]
    },
    {
     "name": "stdout",
     "output_type": "stream",
     "text": [
      "689/2388 행 요약 완료\n"
     ]
    },
    {
     "name": "stderr",
     "output_type": "stream",
     "text": [
      "요약 진행 중:  29%|██▉       | 689/2388 [25:29<1:13:37,  2.60s/it]"
     ]
    },
    {
     "name": "stdout",
     "output_type": "stream",
     "text": [
      "690/2388 행 요약 완료\n"
     ]
    },
    {
     "name": "stderr",
     "output_type": "stream",
     "text": [
      "요약 진행 중:  29%|██▉       | 690/2388 [25:33<1:19:59,  2.83s/it]"
     ]
    },
    {
     "name": "stdout",
     "output_type": "stream",
     "text": [
      "691/2388 행 요약 완료\n"
     ]
    },
    {
     "name": "stderr",
     "output_type": "stream",
     "text": [
      "요약 진행 중:  29%|██▉       | 691/2388 [25:36<1:23:58,  2.97s/it]"
     ]
    },
    {
     "name": "stdout",
     "output_type": "stream",
     "text": [
      "692/2388 행 요약 완료\n"
     ]
    },
    {
     "name": "stderr",
     "output_type": "stream",
     "text": [
      "요약 진행 중:  29%|██▉       | 692/2388 [25:38<1:20:01,  2.83s/it]"
     ]
    },
    {
     "name": "stdout",
     "output_type": "stream",
     "text": [
      "693/2388 행 요약 완료\n"
     ]
    },
    {
     "name": "stderr",
     "output_type": "stream",
     "text": [
      "요약 진행 중:  29%|██▉       | 693/2388 [25:43<1:31:20,  3.23s/it]"
     ]
    },
    {
     "name": "stdout",
     "output_type": "stream",
     "text": [
      "694/2388 행 요약 완료\n"
     ]
    },
    {
     "name": "stderr",
     "output_type": "stream",
     "text": [
      "요약 진행 중:  29%|██▉       | 694/2388 [25:46<1:31:33,  3.24s/it]"
     ]
    },
    {
     "name": "stdout",
     "output_type": "stream",
     "text": [
      "695/2388 행 요약 완료\n"
     ]
    },
    {
     "name": "stderr",
     "output_type": "stream",
     "text": [
      "요약 진행 중:  29%|██▉       | 695/2388 [25:50<1:37:02,  3.44s/it]"
     ]
    },
    {
     "name": "stdout",
     "output_type": "stream",
     "text": [
      "696/2388 행 요약 완료\n"
     ]
    },
    {
     "name": "stderr",
     "output_type": "stream",
     "text": [
      "요약 진행 중:  29%|██▉       | 696/2388 [25:53<1:36:11,  3.41s/it]"
     ]
    },
    {
     "name": "stdout",
     "output_type": "stream",
     "text": [
      "697/2388 행 요약 완료\n"
     ]
    },
    {
     "name": "stderr",
     "output_type": "stream",
     "text": [
      "요약 진행 중:  29%|██▉       | 697/2388 [25:54<1:18:30,  2.79s/it]"
     ]
    },
    {
     "name": "stdout",
     "output_type": "stream",
     "text": [
      "698/2388 행 요약 완료\n"
     ]
    },
    {
     "name": "stderr",
     "output_type": "stream",
     "text": [
      "요약 진행 중:  29%|██▉       | 698/2388 [25:56<1:08:10,  2.42s/it]"
     ]
    },
    {
     "name": "stdout",
     "output_type": "stream",
     "text": [
      "699/2388 행 요약 완료\n"
     ]
    },
    {
     "name": "stderr",
     "output_type": "stream",
     "text": [
      "요약 진행 중:  29%|██▉       | 699/2388 [25:59<1:08:56,  2.45s/it]"
     ]
    },
    {
     "name": "stdout",
     "output_type": "stream",
     "text": [
      "700/2388 행 요약 완료\n"
     ]
    },
    {
     "name": "stderr",
     "output_type": "stream",
     "text": [
      "요약 진행 중:  29%|██▉       | 700/2388 [26:02<1:18:25,  2.79s/it]"
     ]
    },
    {
     "name": "stdout",
     "output_type": "stream",
     "text": [
      "701/2388 행 요약 완료\n"
     ]
    },
    {
     "name": "stderr",
     "output_type": "stream",
     "text": [
      "요약 진행 중:  29%|██▉       | 701/2388 [26:05<1:16:38,  2.73s/it]"
     ]
    },
    {
     "name": "stdout",
     "output_type": "stream",
     "text": [
      "702/2388 행 요약 완료\n"
     ]
    },
    {
     "name": "stderr",
     "output_type": "stream",
     "text": [
      "요약 진행 중:  29%|██▉       | 702/2388 [26:06<1:06:18,  2.36s/it]"
     ]
    },
    {
     "name": "stdout",
     "output_type": "stream",
     "text": [
      "703/2388 행 요약 완료\n"
     ]
    },
    {
     "name": "stderr",
     "output_type": "stream",
     "text": [
      "요약 진행 중:  29%|██▉       | 703/2388 [26:08<1:01:48,  2.20s/it]"
     ]
    },
    {
     "name": "stdout",
     "output_type": "stream",
     "text": [
      "704/2388 행 요약 완료\n"
     ]
    },
    {
     "name": "stderr",
     "output_type": "stream",
     "text": [
      "요약 진행 중:  29%|██▉       | 704/2388 [26:11<1:04:55,  2.31s/it]"
     ]
    },
    {
     "name": "stdout",
     "output_type": "stream",
     "text": [
      "705/2388 행 요약 완료\n"
     ]
    },
    {
     "name": "stderr",
     "output_type": "stream",
     "text": [
      "요약 진행 중:  30%|██▉       | 705/2388 [26:13<1:01:37,  2.20s/it]"
     ]
    },
    {
     "name": "stdout",
     "output_type": "stream",
     "text": [
      "706/2388 행 요약 완료\n"
     ]
    },
    {
     "name": "stderr",
     "output_type": "stream",
     "text": [
      "요약 진행 중:  30%|██▉       | 706/2388 [26:16<1:12:13,  2.58s/it]"
     ]
    },
    {
     "name": "stdout",
     "output_type": "stream",
     "text": [
      "707/2388 행 요약 완료\n"
     ]
    },
    {
     "name": "stderr",
     "output_type": "stream",
     "text": [
      "요약 진행 중:  30%|██▉       | 707/2388 [26:18<1:04:19,  2.30s/it]"
     ]
    },
    {
     "name": "stdout",
     "output_type": "stream",
     "text": [
      "708/2388 행 요약 완료\n"
     ]
    },
    {
     "name": "stderr",
     "output_type": "stream",
     "text": [
      "요약 진행 중:  30%|██▉       | 708/2388 [26:21<1:10:50,  2.53s/it]"
     ]
    },
    {
     "name": "stdout",
     "output_type": "stream",
     "text": [
      "709/2388 행 요약 완료\n"
     ]
    },
    {
     "name": "stderr",
     "output_type": "stream",
     "text": [
      "요약 진행 중:  30%|██▉       | 709/2388 [26:23<1:12:15,  2.58s/it]"
     ]
    },
    {
     "name": "stdout",
     "output_type": "stream",
     "text": [
      "710/2388 행 요약 완료\n"
     ]
    },
    {
     "name": "stderr",
     "output_type": "stream",
     "text": [
      "요약 진행 중:  30%|██▉       | 710/2388 [26:25<1:02:15,  2.23s/it]"
     ]
    },
    {
     "name": "stdout",
     "output_type": "stream",
     "text": [
      "711/2388 행 요약 완료\n"
     ]
    },
    {
     "name": "stderr",
     "output_type": "stream",
     "text": [
      "요약 진행 중:  30%|██▉       | 711/2388 [26:28<1:11:26,  2.56s/it]"
     ]
    },
    {
     "name": "stdout",
     "output_type": "stream",
     "text": [
      "712/2388 행 요약 완료\n"
     ]
    },
    {
     "name": "stderr",
     "output_type": "stream",
     "text": [
      "요약 진행 중:  30%|██▉       | 712/2388 [26:30<1:04:15,  2.30s/it]"
     ]
    },
    {
     "name": "stdout",
     "output_type": "stream",
     "text": [
      "713/2388 행 요약 완료\n"
     ]
    },
    {
     "name": "stderr",
     "output_type": "stream",
     "text": [
      "요약 진행 중:  30%|██▉       | 713/2388 [26:33<1:14:32,  2.67s/it]"
     ]
    },
    {
     "name": "stdout",
     "output_type": "stream",
     "text": [
      "714/2388 행 요약 완료\n"
     ]
    },
    {
     "name": "stderr",
     "output_type": "stream",
     "text": [
      "요약 진행 중:  30%|██▉       | 714/2388 [26:35<1:02:38,  2.25s/it]"
     ]
    },
    {
     "name": "stdout",
     "output_type": "stream",
     "text": [
      "715/2388 행 요약 완료\n"
     ]
    },
    {
     "name": "stderr",
     "output_type": "stream",
     "text": [
      "요약 진행 중:  30%|██▉       | 715/2388 [26:38<1:11:52,  2.58s/it]"
     ]
    },
    {
     "name": "stdout",
     "output_type": "stream",
     "text": [
      "716/2388 행 요약 완료\n"
     ]
    },
    {
     "name": "stderr",
     "output_type": "stream",
     "text": [
      "요약 진행 중:  30%|██▉       | 716/2388 [26:40<1:09:25,  2.49s/it]"
     ]
    },
    {
     "name": "stdout",
     "output_type": "stream",
     "text": [
      "717/2388 행 요약 완료\n"
     ]
    },
    {
     "name": "stderr",
     "output_type": "stream",
     "text": [
      "요약 진행 중:  30%|███       | 717/2388 [26:44<1:17:52,  2.80s/it]"
     ]
    },
    {
     "name": "stdout",
     "output_type": "stream",
     "text": [
      "718/2388 행 요약 완료\n"
     ]
    },
    {
     "name": "stderr",
     "output_type": "stream",
     "text": [
      "요약 진행 중:  30%|███       | 718/2388 [26:45<1:06:09,  2.38s/it]"
     ]
    },
    {
     "name": "stdout",
     "output_type": "stream",
     "text": [
      "719/2388 행 요약 완료\n"
     ]
    },
    {
     "name": "stderr",
     "output_type": "stream",
     "text": [
      "요약 진행 중:  30%|███       | 719/2388 [26:46<56:31,  2.03s/it]  "
     ]
    },
    {
     "name": "stdout",
     "output_type": "stream",
     "text": [
      "720/2388 행 요약 완료\n"
     ]
    },
    {
     "name": "stderr",
     "output_type": "stream",
     "text": [
      "요약 진행 중:  30%|███       | 720/2388 [26:50<1:10:06,  2.52s/it]"
     ]
    },
    {
     "name": "stdout",
     "output_type": "stream",
     "text": [
      "721/2388 행 요약 완료\n"
     ]
    },
    {
     "name": "stderr",
     "output_type": "stream",
     "text": [
      "요약 진행 중:  30%|███       | 721/2388 [26:52<1:01:22,  2.21s/it]"
     ]
    },
    {
     "name": "stdout",
     "output_type": "stream",
     "text": [
      "722/2388 행 요약 완료\n"
     ]
    },
    {
     "name": "stderr",
     "output_type": "stream",
     "text": [
      "요약 진행 중:  30%|███       | 722/2388 [26:53<52:02,  1.87s/it]  "
     ]
    },
    {
     "name": "stdout",
     "output_type": "stream",
     "text": [
      "723/2388 행 요약 완료\n"
     ]
    },
    {
     "name": "stderr",
     "output_type": "stream",
     "text": [
      "요약 진행 중:  30%|███       | 723/2388 [26:54<49:09,  1.77s/it]"
     ]
    },
    {
     "name": "stdout",
     "output_type": "stream",
     "text": [
      "724/2388 행 요약 완료\n"
     ]
    },
    {
     "name": "stderr",
     "output_type": "stream",
     "text": [
      "요약 진행 중:  30%|███       | 724/2388 [26:57<54:23,  1.96s/it]"
     ]
    },
    {
     "name": "stdout",
     "output_type": "stream",
     "text": [
      "725/2388 행 요약 완료\n"
     ]
    },
    {
     "name": "stderr",
     "output_type": "stream",
     "text": [
      "요약 진행 중:  30%|███       | 725/2388 [27:01<1:10:25,  2.54s/it]"
     ]
    },
    {
     "name": "stdout",
     "output_type": "stream",
     "text": [
      "726/2388 행 요약 완료\n"
     ]
    },
    {
     "name": "stderr",
     "output_type": "stream",
     "text": [
      "요약 진행 중:  30%|███       | 726/2388 [27:03<1:08:11,  2.46s/it]"
     ]
    },
    {
     "name": "stdout",
     "output_type": "stream",
     "text": [
      "727/2388 행 요약 완료\n"
     ]
    },
    {
     "name": "stderr",
     "output_type": "stream",
     "text": [
      "요약 진행 중:  30%|███       | 727/2388 [27:05<1:08:54,  2.49s/it]"
     ]
    },
    {
     "name": "stdout",
     "output_type": "stream",
     "text": [
      "728/2388 행 요약 완료\n"
     ]
    },
    {
     "name": "stderr",
     "output_type": "stream",
     "text": [
      "요약 진행 중:  30%|███       | 728/2388 [27:06<57:51,  2.09s/it]  "
     ]
    },
    {
     "name": "stdout",
     "output_type": "stream",
     "text": [
      "729/2388 행 요약 완료\n"
     ]
    },
    {
     "name": "stderr",
     "output_type": "stream",
     "text": [
      "요약 진행 중:  31%|███       | 729/2388 [27:10<1:07:38,  2.45s/it]"
     ]
    },
    {
     "name": "stdout",
     "output_type": "stream",
     "text": [
      "730/2388 행 요약 완료\n"
     ]
    },
    {
     "name": "stderr",
     "output_type": "stream",
     "text": [
      "요약 진행 중:  31%|███       | 730/2388 [27:11<57:56,  2.10s/it]  "
     ]
    },
    {
     "name": "stdout",
     "output_type": "stream",
     "text": [
      "731/2388 행 요약 완료\n"
     ]
    },
    {
     "name": "stderr",
     "output_type": "stream",
     "text": [
      "요약 진행 중:  31%|███       | 731/2388 [27:13<54:28,  1.97s/it]"
     ]
    },
    {
     "name": "stdout",
     "output_type": "stream",
     "text": [
      "732/2388 행 요약 완료\n"
     ]
    },
    {
     "name": "stderr",
     "output_type": "stream",
     "text": [
      "요약 진행 중:  31%|███       | 732/2388 [27:14<52:15,  1.89s/it]"
     ]
    },
    {
     "name": "stdout",
     "output_type": "stream",
     "text": [
      "733/2388 행 요약 완료\n"
     ]
    },
    {
     "name": "stderr",
     "output_type": "stream",
     "text": [
      "요약 진행 중:  31%|███       | 733/2388 [27:18<1:07:46,  2.46s/it]"
     ]
    },
    {
     "name": "stdout",
     "output_type": "stream",
     "text": [
      "734/2388 행 요약 완료\n"
     ]
    },
    {
     "name": "stderr",
     "output_type": "stream",
     "text": [
      "요약 진행 중:  31%|███       | 734/2388 [27:20<1:00:58,  2.21s/it]"
     ]
    },
    {
     "name": "stdout",
     "output_type": "stream",
     "text": [
      "735/2388 행 요약 완료\n"
     ]
    },
    {
     "name": "stderr",
     "output_type": "stream",
     "text": [
      "요약 진행 중:  31%|███       | 735/2388 [27:21<55:54,  2.03s/it]  "
     ]
    },
    {
     "name": "stdout",
     "output_type": "stream",
     "text": [
      "736/2388 행 요약 완료\n"
     ]
    },
    {
     "name": "stderr",
     "output_type": "stream",
     "text": [
      "요약 진행 중:  31%|███       | 736/2388 [27:23<53:54,  1.96s/it]"
     ]
    },
    {
     "name": "stdout",
     "output_type": "stream",
     "text": [
      "737/2388 행 요약 완료\n"
     ]
    },
    {
     "name": "stderr",
     "output_type": "stream",
     "text": [
      "요약 진행 중:  31%|███       | 737/2388 [27:25<53:31,  1.95s/it]"
     ]
    },
    {
     "name": "stdout",
     "output_type": "stream",
     "text": [
      "738/2388 행 요약 완료\n"
     ]
    },
    {
     "name": "stderr",
     "output_type": "stream",
     "text": [
      "요약 진행 중:  31%|███       | 738/2388 [27:27<54:38,  1.99s/it]"
     ]
    },
    {
     "name": "stdout",
     "output_type": "stream",
     "text": [
      "739/2388 행 요약 완료\n"
     ]
    },
    {
     "name": "stderr",
     "output_type": "stream",
     "text": [
      "요약 진행 중:  31%|███       | 739/2388 [27:29<53:52,  1.96s/it]"
     ]
    },
    {
     "name": "stdout",
     "output_type": "stream",
     "text": [
      "740/2388 행 요약 완료\n"
     ]
    },
    {
     "name": "stderr",
     "output_type": "stream",
     "text": [
      "요약 진행 중:  31%|███       | 740/2388 [27:30<47:14,  1.72s/it]"
     ]
    },
    {
     "name": "stdout",
     "output_type": "stream",
     "text": [
      "741/2388 행 요약 완료\n"
     ]
    },
    {
     "name": "stderr",
     "output_type": "stream",
     "text": [
      "요약 진행 중:  31%|███       | 741/2388 [27:32<44:58,  1.64s/it]"
     ]
    },
    {
     "name": "stdout",
     "output_type": "stream",
     "text": [
      "742/2388 행 요약 완료\n"
     ]
    },
    {
     "name": "stderr",
     "output_type": "stream",
     "text": [
      "요약 진행 중:  31%|███       | 742/2388 [27:35<54:22,  1.98s/it]"
     ]
    },
    {
     "name": "stdout",
     "output_type": "stream",
     "text": [
      "743/2388 행 요약 완료\n"
     ]
    },
    {
     "name": "stderr",
     "output_type": "stream",
     "text": [
      "요약 진행 중:  31%|███       | 743/2388 [27:36<48:46,  1.78s/it]"
     ]
    },
    {
     "name": "stdout",
     "output_type": "stream",
     "text": [
      "744/2388 행 요약 완료\n"
     ]
    },
    {
     "name": "stderr",
     "output_type": "stream",
     "text": [
      "요약 진행 중:  31%|███       | 744/2388 [27:38<50:46,  1.85s/it]"
     ]
    },
    {
     "name": "stdout",
     "output_type": "stream",
     "text": [
      "745/2388 행 요약 완료\n"
     ]
    },
    {
     "name": "stderr",
     "output_type": "stream",
     "text": [
      "요약 진행 중:  31%|███       | 745/2388 [27:39<46:48,  1.71s/it]"
     ]
    },
    {
     "name": "stdout",
     "output_type": "stream",
     "text": [
      "746/2388 행 요약 완료\n"
     ]
    },
    {
     "name": "stderr",
     "output_type": "stream",
     "text": [
      "요약 진행 중:  31%|███       | 746/2388 [27:41<48:52,  1.79s/it]"
     ]
    },
    {
     "name": "stdout",
     "output_type": "stream",
     "text": [
      "747/2388 행 요약 완료\n"
     ]
    },
    {
     "name": "stderr",
     "output_type": "stream",
     "text": [
      "요약 진행 중:  31%|███▏      | 747/2388 [27:44<53:21,  1.95s/it]"
     ]
    },
    {
     "name": "stdout",
     "output_type": "stream",
     "text": [
      "748/2388 행 요약 완료\n"
     ]
    },
    {
     "name": "stderr",
     "output_type": "stream",
     "text": [
      "요약 진행 중:  31%|███▏      | 748/2388 [27:44<43:59,  1.61s/it]"
     ]
    },
    {
     "name": "stdout",
     "output_type": "stream",
     "text": [
      "749/2388 행 요약 완료\n"
     ]
    },
    {
     "name": "stderr",
     "output_type": "stream",
     "text": [
      "요약 진행 중:  31%|███▏      | 749/2388 [27:46<41:17,  1.51s/it]"
     ]
    },
    {
     "name": "stdout",
     "output_type": "stream",
     "text": [
      "750/2388 행 요약 완료\n"
     ]
    },
    {
     "name": "stderr",
     "output_type": "stream",
     "text": [
      "요약 진행 중:  31%|███▏      | 750/2388 [27:48<44:54,  1.64s/it]"
     ]
    },
    {
     "name": "stdout",
     "output_type": "stream",
     "text": [
      "751/2388 행 요약 완료\n"
     ]
    },
    {
     "name": "stderr",
     "output_type": "stream",
     "text": [
      "요약 진행 중:  31%|███▏      | 751/2388 [27:51<1:02:17,  2.28s/it]"
     ]
    },
    {
     "name": "stdout",
     "output_type": "stream",
     "text": [
      "752/2388 행 요약 완료\n"
     ]
    },
    {
     "name": "stderr",
     "output_type": "stream",
     "text": [
      "요약 진행 중:  31%|███▏      | 752/2388 [27:53<55:26,  2.03s/it]  "
     ]
    },
    {
     "name": "stdout",
     "output_type": "stream",
     "text": [
      "753/2388 행 요약 완료\n"
     ]
    },
    {
     "name": "stderr",
     "output_type": "stream",
     "text": [
      "요약 진행 중:  32%|███▏      | 753/2388 [27:55<54:19,  1.99s/it]"
     ]
    },
    {
     "name": "stdout",
     "output_type": "stream",
     "text": [
      "754/2388 행 요약 완료\n"
     ]
    },
    {
     "name": "stderr",
     "output_type": "stream",
     "text": [
      "요약 진행 중:  32%|███▏      | 754/2388 [27:58<1:04:52,  2.38s/it]"
     ]
    },
    {
     "name": "stdout",
     "output_type": "stream",
     "text": [
      "755/2388 행 요약 완료\n"
     ]
    },
    {
     "name": "stderr",
     "output_type": "stream",
     "text": [
      "요약 진행 중:  32%|███▏      | 755/2388 [28:01<1:07:26,  2.48s/it]"
     ]
    },
    {
     "name": "stdout",
     "output_type": "stream",
     "text": [
      "756/2388 행 요약 완료\n"
     ]
    },
    {
     "name": "stderr",
     "output_type": "stream",
     "text": [
      "요약 진행 중:  32%|███▏      | 756/2388 [28:03<1:03:12,  2.32s/it]"
     ]
    },
    {
     "name": "stdout",
     "output_type": "stream",
     "text": [
      "757/2388 행 요약 완료\n"
     ]
    },
    {
     "name": "stderr",
     "output_type": "stream",
     "text": [
      "요약 진행 중:  32%|███▏      | 757/2388 [28:04<58:34,  2.15s/it]  "
     ]
    },
    {
     "name": "stdout",
     "output_type": "stream",
     "text": [
      "758/2388 행 요약 완료\n"
     ]
    },
    {
     "name": "stderr",
     "output_type": "stream",
     "text": [
      "요약 진행 중:  32%|███▏      | 758/2388 [28:08<1:11:36,  2.64s/it]"
     ]
    },
    {
     "name": "stdout",
     "output_type": "stream",
     "text": [
      "759/2388 행 요약 완료\n"
     ]
    },
    {
     "name": "stderr",
     "output_type": "stream",
     "text": [
      "요약 진행 중:  32%|███▏      | 759/2388 [28:11<1:15:24,  2.78s/it]"
     ]
    },
    {
     "name": "stdout",
     "output_type": "stream",
     "text": [
      "760/2388 행 요약 완료\n"
     ]
    },
    {
     "name": "stderr",
     "output_type": "stream",
     "text": [
      "요약 진행 중:  32%|███▏      | 760/2388 [28:13<1:04:53,  2.39s/it]"
     ]
    },
    {
     "name": "stdout",
     "output_type": "stream",
     "text": [
      "761/2388 행 요약 완료\n"
     ]
    },
    {
     "name": "stderr",
     "output_type": "stream",
     "text": [
      "요약 진행 중:  32%|███▏      | 761/2388 [28:15<1:04:51,  2.39s/it]"
     ]
    },
    {
     "name": "stdout",
     "output_type": "stream",
     "text": [
      "762/2388 행 요약 완료\n"
     ]
    },
    {
     "name": "stderr",
     "output_type": "stream",
     "text": [
      "요약 진행 중:  32%|███▏      | 762/2388 [28:17<1:04:00,  2.36s/it]"
     ]
    },
    {
     "name": "stdout",
     "output_type": "stream",
     "text": [
      "763/2388 행 요약 완료\n"
     ]
    },
    {
     "name": "stderr",
     "output_type": "stream",
     "text": [
      "요약 진행 중:  32%|███▏      | 763/2388 [28:19<57:14,  2.11s/it]  "
     ]
    },
    {
     "name": "stdout",
     "output_type": "stream",
     "text": [
      "764/2388 행 요약 완료\n"
     ]
    },
    {
     "name": "stderr",
     "output_type": "stream",
     "text": [
      "요약 진행 중:  32%|███▏      | 764/2388 [28:20<51:24,  1.90s/it]"
     ]
    },
    {
     "name": "stdout",
     "output_type": "stream",
     "text": [
      "765/2388 행 요약 완료\n"
     ]
    },
    {
     "name": "stderr",
     "output_type": "stream",
     "text": [
      "요약 진행 중:  32%|███▏      | 765/2388 [28:22<48:58,  1.81s/it]"
     ]
    },
    {
     "name": "stdout",
     "output_type": "stream",
     "text": [
      "766/2388 행 요약 완료\n"
     ]
    },
    {
     "name": "stderr",
     "output_type": "stream",
     "text": [
      "요약 진행 중:  32%|███▏      | 766/2388 [28:26<1:08:43,  2.54s/it]"
     ]
    },
    {
     "name": "stdout",
     "output_type": "stream",
     "text": [
      "767/2388 행 요약 완료\n"
     ]
    },
    {
     "name": "stderr",
     "output_type": "stream",
     "text": [
      "요약 진행 중:  32%|███▏      | 767/2388 [28:29<1:06:31,  2.46s/it]"
     ]
    },
    {
     "name": "stdout",
     "output_type": "stream",
     "text": [
      "768/2388 행 요약 완료\n"
     ]
    },
    {
     "name": "stderr",
     "output_type": "stream",
     "text": [
      "요약 진행 중:  32%|███▏      | 768/2388 [28:33<1:23:31,  3.09s/it]"
     ]
    },
    {
     "name": "stdout",
     "output_type": "stream",
     "text": [
      "769/2388 행 요약 완료\n"
     ]
    },
    {
     "name": "stderr",
     "output_type": "stream",
     "text": [
      "요약 진행 중:  32%|███▏      | 769/2388 [28:35<1:17:39,  2.88s/it]"
     ]
    },
    {
     "name": "stdout",
     "output_type": "stream",
     "text": [
      "770/2388 행 요약 완료\n"
     ]
    },
    {
     "name": "stderr",
     "output_type": "stream",
     "text": [
      "요약 진행 중:  32%|███▏      | 770/2388 [28:39<1:21:31,  3.02s/it]"
     ]
    },
    {
     "name": "stdout",
     "output_type": "stream",
     "text": [
      "771/2388 행 요약 완료\n"
     ]
    },
    {
     "name": "stderr",
     "output_type": "stream",
     "text": [
      "요약 진행 중:  32%|███▏      | 771/2388 [28:41<1:11:44,  2.66s/it]"
     ]
    },
    {
     "name": "stdout",
     "output_type": "stream",
     "text": [
      "772/2388 행 요약 완료\n"
     ]
    },
    {
     "name": "stderr",
     "output_type": "stream",
     "text": [
      "요약 진행 중:  32%|███▏      | 772/2388 [28:43<1:11:00,  2.64s/it]"
     ]
    },
    {
     "name": "stdout",
     "output_type": "stream",
     "text": [
      "773/2388 행 요약 완료\n"
     ]
    },
    {
     "name": "stderr",
     "output_type": "stream",
     "text": [
      "요약 진행 중:  32%|███▏      | 773/2388 [28:47<1:20:03,  2.97s/it]"
     ]
    },
    {
     "name": "stdout",
     "output_type": "stream",
     "text": [
      "774/2388 행 요약 완료\n"
     ]
    },
    {
     "name": "stderr",
     "output_type": "stream",
     "text": [
      "요약 진행 중:  32%|███▏      | 774/2388 [28:51<1:29:01,  3.31s/it]"
     ]
    },
    {
     "name": "stdout",
     "output_type": "stream",
     "text": [
      "775/2388 행 요약 완료\n"
     ]
    },
    {
     "name": "stderr",
     "output_type": "stream",
     "text": [
      "요약 진행 중:  32%|███▏      | 775/2388 [28:55<1:30:25,  3.36s/it]"
     ]
    },
    {
     "name": "stdout",
     "output_type": "stream",
     "text": [
      "776/2388 행 요약 완료\n"
     ]
    },
    {
     "name": "stderr",
     "output_type": "stream",
     "text": [
      "요약 진행 중:  32%|███▏      | 776/2388 [28:57<1:19:26,  2.96s/it]"
     ]
    },
    {
     "name": "stdout",
     "output_type": "stream",
     "text": [
      "777/2388 행 요약 완료\n"
     ]
    },
    {
     "name": "stderr",
     "output_type": "stream",
     "text": [
      "요약 진행 중:  33%|███▎      | 777/2388 [29:01<1:29:04,  3.32s/it]"
     ]
    },
    {
     "name": "stdout",
     "output_type": "stream",
     "text": [
      "778/2388 행 요약 완료\n"
     ]
    },
    {
     "name": "stderr",
     "output_type": "stream",
     "text": [
      "요약 진행 중:  33%|███▎      | 778/2388 [29:03<1:18:10,  2.91s/it]"
     ]
    },
    {
     "name": "stdout",
     "output_type": "stream",
     "text": [
      "779/2388 행 요약 완료\n"
     ]
    },
    {
     "name": "stderr",
     "output_type": "stream",
     "text": [
      "요약 진행 중:  33%|███▎      | 779/2388 [29:05<1:11:29,  2.67s/it]"
     ]
    },
    {
     "name": "stdout",
     "output_type": "stream",
     "text": [
      "780/2388 행 요약 완료\n"
     ]
    },
    {
     "name": "stderr",
     "output_type": "stream",
     "text": [
      "요약 진행 중:  33%|███▎      | 780/2388 [29:07<1:06:08,  2.47s/it]"
     ]
    },
    {
     "name": "stdout",
     "output_type": "stream",
     "text": [
      "781/2388 행 요약 완료\n"
     ]
    },
    {
     "name": "stderr",
     "output_type": "stream",
     "text": [
      "요약 진행 중:  33%|███▎      | 781/2388 [29:09<1:03:33,  2.37s/it]"
     ]
    },
    {
     "name": "stdout",
     "output_type": "stream",
     "text": [
      "782/2388 행 요약 완료\n"
     ]
    },
    {
     "name": "stderr",
     "output_type": "stream",
     "text": [
      "요약 진행 중:  33%|███▎      | 782/2388 [29:13<1:13:38,  2.75s/it]"
     ]
    },
    {
     "name": "stdout",
     "output_type": "stream",
     "text": [
      "783/2388 행 요약 완료\n"
     ]
    },
    {
     "name": "stderr",
     "output_type": "stream",
     "text": [
      "요약 진행 중:  33%|███▎      | 783/2388 [29:15<1:06:49,  2.50s/it]"
     ]
    },
    {
     "name": "stdout",
     "output_type": "stream",
     "text": [
      "784/2388 행 요약 완료\n"
     ]
    },
    {
     "name": "stderr",
     "output_type": "stream",
     "text": [
      "요약 진행 중:  33%|███▎      | 784/2388 [29:17<1:09:03,  2.58s/it]"
     ]
    },
    {
     "name": "stdout",
     "output_type": "stream",
     "text": [
      "785/2388 행 요약 완료\n"
     ]
    },
    {
     "name": "stderr",
     "output_type": "stream",
     "text": [
      "요약 진행 중:  33%|███▎      | 785/2388 [29:20<1:09:34,  2.60s/it]"
     ]
    },
    {
     "name": "stdout",
     "output_type": "stream",
     "text": [
      "786/2388 행 요약 완료\n"
     ]
    },
    {
     "name": "stderr",
     "output_type": "stream",
     "text": [
      "요약 진행 중:  33%|███▎      | 786/2388 [29:23<1:10:19,  2.63s/it]"
     ]
    },
    {
     "name": "stdout",
     "output_type": "stream",
     "text": [
      "787/2388 행 요약 완료\n"
     ]
    },
    {
     "name": "stderr",
     "output_type": "stream",
     "text": [
      "요약 진행 중:  33%|███▎      | 787/2388 [29:25<1:07:31,  2.53s/it]"
     ]
    },
    {
     "name": "stdout",
     "output_type": "stream",
     "text": [
      "788/2388 행 요약 완료\n"
     ]
    },
    {
     "name": "stderr",
     "output_type": "stream",
     "text": [
      "요약 진행 중:  33%|███▎      | 788/2388 [29:29<1:17:58,  2.92s/it]"
     ]
    },
    {
     "name": "stdout",
     "output_type": "stream",
     "text": [
      "789/2388 행 요약 완료\n"
     ]
    },
    {
     "name": "stderr",
     "output_type": "stream",
     "text": [
      "요약 진행 중:  33%|███▎      | 789/2388 [29:31<1:08:19,  2.56s/it]"
     ]
    },
    {
     "name": "stdout",
     "output_type": "stream",
     "text": [
      "790/2388 행 요약 완료\n"
     ]
    },
    {
     "name": "stderr",
     "output_type": "stream",
     "text": [
      "요약 진행 중:  33%|███▎      | 790/2388 [29:32<1:02:22,  2.34s/it]"
     ]
    },
    {
     "name": "stdout",
     "output_type": "stream",
     "text": [
      "791/2388 행 요약 완료\n"
     ]
    },
    {
     "name": "stderr",
     "output_type": "stream",
     "text": [
      "요약 진행 중:  33%|███▎      | 791/2388 [29:36<1:12:20,  2.72s/it]"
     ]
    },
    {
     "name": "stdout",
     "output_type": "stream",
     "text": [
      "792/2388 행 요약 완료\n"
     ]
    },
    {
     "name": "stderr",
     "output_type": "stream",
     "text": [
      "요약 진행 중:  33%|███▎      | 792/2388 [29:39<1:11:10,  2.68s/it]"
     ]
    },
    {
     "name": "stdout",
     "output_type": "stream",
     "text": [
      "793/2388 행 요약 완료\n"
     ]
    },
    {
     "name": "stderr",
     "output_type": "stream",
     "text": [
      "요약 진행 중:  33%|███▎      | 793/2388 [29:41<1:13:29,  2.76s/it]"
     ]
    },
    {
     "name": "stdout",
     "output_type": "stream",
     "text": [
      "794/2388 행 요약 완료\n"
     ]
    },
    {
     "name": "stderr",
     "output_type": "stream",
     "text": [
      "요약 진행 중:  33%|███▎      | 794/2388 [29:46<1:25:36,  3.22s/it]"
     ]
    },
    {
     "name": "stdout",
     "output_type": "stream",
     "text": [
      "795/2388 행 요약 완료\n"
     ]
    },
    {
     "name": "stderr",
     "output_type": "stream",
     "text": [
      "요약 진행 중:  33%|███▎      | 795/2388 [29:49<1:23:28,  3.14s/it]"
     ]
    },
    {
     "name": "stdout",
     "output_type": "stream",
     "text": [
      "796/2388 행 요약 완료\n"
     ]
    },
    {
     "name": "stderr",
     "output_type": "stream",
     "text": [
      "요약 진행 중:  33%|███▎      | 796/2388 [29:52<1:20:40,  3.04s/it]"
     ]
    },
    {
     "name": "stdout",
     "output_type": "stream",
     "text": [
      "797/2388 행 요약 완료\n"
     ]
    },
    {
     "name": "stderr",
     "output_type": "stream",
     "text": [
      "요약 진행 중:  33%|███▎      | 797/2388 [29:53<1:11:25,  2.69s/it]"
     ]
    },
    {
     "name": "stdout",
     "output_type": "stream",
     "text": [
      "798/2388 행 요약 완료\n"
     ]
    },
    {
     "name": "stderr",
     "output_type": "stream",
     "text": [
      "요약 진행 중:  33%|███▎      | 798/2388 [29:56<1:11:02,  2.68s/it]"
     ]
    },
    {
     "name": "stdout",
     "output_type": "stream",
     "text": [
      "799/2388 행 요약 완료\n"
     ]
    },
    {
     "name": "stderr",
     "output_type": "stream",
     "text": [
      "요약 진행 중:  33%|███▎      | 799/2388 [29:59<1:13:59,  2.79s/it]"
     ]
    },
    {
     "name": "stdout",
     "output_type": "stream",
     "text": [
      "800/2388 행 요약 완료\n"
     ]
    },
    {
     "name": "stderr",
     "output_type": "stream",
     "text": [
      "요약 진행 중:  34%|███▎      | 800/2388 [30:00<1:00:30,  2.29s/it]"
     ]
    },
    {
     "name": "stdout",
     "output_type": "stream",
     "text": [
      "801/2388 행 요약 완료\n"
     ]
    },
    {
     "name": "stderr",
     "output_type": "stream",
     "text": [
      "요약 진행 중:  34%|███▎      | 801/2388 [30:01<52:23,  1.98s/it]  "
     ]
    },
    {
     "name": "stdout",
     "output_type": "stream",
     "text": [
      "802/2388 행 요약 완료\n"
     ]
    },
    {
     "name": "stderr",
     "output_type": "stream",
     "text": [
      "요약 진행 중:  34%|███▎      | 802/2388 [30:06<1:16:11,  2.88s/it]"
     ]
    },
    {
     "name": "stdout",
     "output_type": "stream",
     "text": [
      "803/2388 행 요약 완료\n"
     ]
    },
    {
     "name": "stderr",
     "output_type": "stream",
     "text": [
      "요약 진행 중:  34%|███▎      | 803/2388 [30:08<1:05:20,  2.47s/it]"
     ]
    },
    {
     "name": "stdout",
     "output_type": "stream",
     "text": [
      "804/2388 행 요약 완료\n"
     ]
    },
    {
     "name": "stderr",
     "output_type": "stream",
     "text": [
      "요약 진행 중:  34%|███▎      | 804/2388 [30:09<55:34,  2.10s/it]  "
     ]
    },
    {
     "name": "stdout",
     "output_type": "stream",
     "text": [
      "805/2388 행 요약 완료\n"
     ]
    },
    {
     "name": "stderr",
     "output_type": "stream",
     "text": [
      "요약 진행 중:  34%|███▎      | 805/2388 [30:12<59:01,  2.24s/it]"
     ]
    },
    {
     "name": "stdout",
     "output_type": "stream",
     "text": [
      "806/2388 행 요약 완료\n"
     ]
    },
    {
     "name": "stderr",
     "output_type": "stream",
     "text": [
      "요약 진행 중:  34%|███▍      | 806/2388 [30:14<58:50,  2.23s/it]"
     ]
    },
    {
     "name": "stdout",
     "output_type": "stream",
     "text": [
      "807/2388 행 요약 완료\n"
     ]
    },
    {
     "name": "stderr",
     "output_type": "stream",
     "text": [
      "요약 진행 중:  34%|███▍      | 807/2388 [30:16<58:37,  2.22s/it]"
     ]
    },
    {
     "name": "stdout",
     "output_type": "stream",
     "text": [
      "808/2388 행 요약 완료\n"
     ]
    },
    {
     "name": "stderr",
     "output_type": "stream",
     "text": [
      "요약 진행 중:  34%|███▍      | 808/2388 [30:20<1:14:07,  2.81s/it]"
     ]
    },
    {
     "name": "stdout",
     "output_type": "stream",
     "text": [
      "809/2388 행 요약 완료\n"
     ]
    },
    {
     "name": "stderr",
     "output_type": "stream",
     "text": [
      "요약 진행 중:  34%|███▍      | 809/2388 [30:24<1:20:25,  3.06s/it]"
     ]
    },
    {
     "name": "stdout",
     "output_type": "stream",
     "text": [
      "810/2388 행 요약 완료\n"
     ]
    },
    {
     "name": "stderr",
     "output_type": "stream",
     "text": [
      "요약 진행 중:  34%|███▍      | 810/2388 [30:26<1:08:33,  2.61s/it]"
     ]
    },
    {
     "name": "stdout",
     "output_type": "stream",
     "text": [
      "811/2388 행 요약 완료\n"
     ]
    },
    {
     "name": "stderr",
     "output_type": "stream",
     "text": [
      "요약 진행 중:  34%|███▍      | 811/2388 [30:27<1:00:24,  2.30s/it]"
     ]
    },
    {
     "name": "stdout",
     "output_type": "stream",
     "text": [
      "812/2388 행 요약 완료\n"
     ]
    },
    {
     "name": "stderr",
     "output_type": "stream",
     "text": [
      "요약 진행 중:  34%|███▍      | 812/2388 [30:29<55:57,  2.13s/it]  "
     ]
    },
    {
     "name": "stdout",
     "output_type": "stream",
     "text": [
      "813/2388 행 요약 완료\n"
     ]
    },
    {
     "name": "stderr",
     "output_type": "stream",
     "text": [
      "요약 진행 중:  34%|███▍      | 813/2388 [30:31<54:28,  2.08s/it]"
     ]
    },
    {
     "name": "stdout",
     "output_type": "stream",
     "text": [
      "814/2388 행 요약 완료\n"
     ]
    },
    {
     "name": "stderr",
     "output_type": "stream",
     "text": [
      "요약 진행 중:  34%|███▍      | 814/2388 [30:32<50:31,  1.93s/it]"
     ]
    },
    {
     "name": "stdout",
     "output_type": "stream",
     "text": [
      "815/2388 행 요약 완료\n"
     ]
    },
    {
     "name": "stderr",
     "output_type": "stream",
     "text": [
      "요약 진행 중:  34%|███▍      | 815/2388 [30:35<57:03,  2.18s/it]"
     ]
    },
    {
     "name": "stdout",
     "output_type": "stream",
     "text": [
      "816/2388 행 요약 완료\n"
     ]
    },
    {
     "name": "stderr",
     "output_type": "stream",
     "text": [
      "요약 진행 중:  34%|███▍      | 816/2388 [30:37<51:33,  1.97s/it]"
     ]
    },
    {
     "name": "stdout",
     "output_type": "stream",
     "text": [
      "817/2388 행 요약 완료\n"
     ]
    },
    {
     "name": "stderr",
     "output_type": "stream",
     "text": [
      "요약 진행 중:  34%|███▍      | 817/2388 [30:38<47:22,  1.81s/it]"
     ]
    },
    {
     "name": "stdout",
     "output_type": "stream",
     "text": [
      "818/2388 행 요약 완료\n"
     ]
    },
    {
     "name": "stderr",
     "output_type": "stream",
     "text": [
      "요약 진행 중:  34%|███▍      | 818/2388 [30:42<1:07:38,  2.59s/it]"
     ]
    },
    {
     "name": "stdout",
     "output_type": "stream",
     "text": [
      "819/2388 행 요약 완료\n"
     ]
    },
    {
     "name": "stderr",
     "output_type": "stream",
     "text": [
      "요약 진행 중:  34%|███▍      | 819/2388 [30:46<1:13:44,  2.82s/it]"
     ]
    },
    {
     "name": "stdout",
     "output_type": "stream",
     "text": [
      "820/2388 행 요약 완료\n"
     ]
    },
    {
     "name": "stderr",
     "output_type": "stream",
     "text": [
      "요약 진행 중:  34%|███▍      | 820/2388 [30:49<1:13:24,  2.81s/it]"
     ]
    },
    {
     "name": "stdout",
     "output_type": "stream",
     "text": [
      "821/2388 행 요약 완료\n"
     ]
    },
    {
     "name": "stderr",
     "output_type": "stream",
     "text": [
      "요약 진행 중:  34%|███▍      | 821/2388 [30:50<1:03:34,  2.43s/it]"
     ]
    },
    {
     "name": "stdout",
     "output_type": "stream",
     "text": [
      "822/2388 행 요약 완료\n"
     ]
    },
    {
     "name": "stderr",
     "output_type": "stream",
     "text": [
      "요약 진행 중:  34%|███▍      | 822/2388 [30:52<1:02:19,  2.39s/it]"
     ]
    },
    {
     "name": "stdout",
     "output_type": "stream",
     "text": [
      "823/2388 행 요약 완료\n"
     ]
    },
    {
     "name": "stderr",
     "output_type": "stream",
     "text": [
      "요약 진행 중:  34%|███▍      | 823/2388 [30:55<1:02:18,  2.39s/it]"
     ]
    },
    {
     "name": "stdout",
     "output_type": "stream",
     "text": [
      "824/2388 행 요약 완료\n"
     ]
    },
    {
     "name": "stderr",
     "output_type": "stream",
     "text": [
      "요약 진행 중:  35%|███▍      | 824/2388 [30:59<1:14:26,  2.86s/it]"
     ]
    },
    {
     "name": "stdout",
     "output_type": "stream",
     "text": [
      "825/2388 행 요약 완료\n"
     ]
    },
    {
     "name": "stderr",
     "output_type": "stream",
     "text": [
      "요약 진행 중:  35%|███▍      | 825/2388 [31:00<1:04:39,  2.48s/it]"
     ]
    },
    {
     "name": "stdout",
     "output_type": "stream",
     "text": [
      "826/2388 행 요약 완료\n"
     ]
    },
    {
     "name": "stderr",
     "output_type": "stream",
     "text": [
      "요약 진행 중:  35%|███▍      | 826/2388 [31:02<58:57,  2.26s/it]  "
     ]
    },
    {
     "name": "stdout",
     "output_type": "stream",
     "text": [
      "827/2388 행 요약 완료\n"
     ]
    },
    {
     "name": "stderr",
     "output_type": "stream",
     "text": [
      "요약 진행 중:  35%|███▍      | 827/2388 [31:04<54:29,  2.09s/it]"
     ]
    },
    {
     "name": "stdout",
     "output_type": "stream",
     "text": [
      "828/2388 행 요약 완료\n"
     ]
    },
    {
     "name": "stderr",
     "output_type": "stream",
     "text": [
      "요약 진행 중:  35%|███▍      | 828/2388 [31:06<51:13,  1.97s/it]"
     ]
    },
    {
     "name": "stdout",
     "output_type": "stream",
     "text": [
      "829/2388 행 요약 완료\n"
     ]
    },
    {
     "name": "stderr",
     "output_type": "stream",
     "text": [
      "요약 진행 중:  35%|███▍      | 829/2388 [31:07<49:59,  1.92s/it]"
     ]
    },
    {
     "name": "stdout",
     "output_type": "stream",
     "text": [
      "830/2388 행 요약 완료\n"
     ]
    },
    {
     "name": "stderr",
     "output_type": "stream",
     "text": [
      "요약 진행 중:  35%|███▍      | 830/2388 [31:09<46:01,  1.77s/it]"
     ]
    },
    {
     "name": "stdout",
     "output_type": "stream",
     "text": [
      "831/2388 행 요약 완료\n"
     ]
    },
    {
     "name": "stderr",
     "output_type": "stream",
     "text": [
      "요약 진행 중:  35%|███▍      | 831/2388 [31:12<58:15,  2.24s/it]"
     ]
    },
    {
     "name": "stdout",
     "output_type": "stream",
     "text": [
      "832/2388 행 요약 완료\n"
     ]
    },
    {
     "name": "stderr",
     "output_type": "stream",
     "text": [
      "요약 진행 중:  35%|███▍      | 832/2388 [31:15<1:02:06,  2.39s/it]"
     ]
    },
    {
     "name": "stdout",
     "output_type": "stream",
     "text": [
      "833/2388 행 요약 완료\n"
     ]
    },
    {
     "name": "stderr",
     "output_type": "stream",
     "text": [
      "요약 진행 중:  35%|███▍      | 833/2388 [31:17<58:50,  2.27s/it]  "
     ]
    },
    {
     "name": "stdout",
     "output_type": "stream",
     "text": [
      "834/2388 행 요약 완료\n"
     ]
    },
    {
     "name": "stderr",
     "output_type": "stream",
     "text": [
      "요약 진행 중:  35%|███▍      | 834/2388 [31:19<1:00:49,  2.35s/it]"
     ]
    },
    {
     "name": "stdout",
     "output_type": "stream",
     "text": [
      "835/2388 행 요약 완료\n"
     ]
    },
    {
     "name": "stderr",
     "output_type": "stream",
     "text": [
      "요약 진행 중:  35%|███▍      | 835/2388 [31:21<54:49,  2.12s/it]  "
     ]
    },
    {
     "name": "stdout",
     "output_type": "stream",
     "text": [
      "836/2388 행 요약 완료\n"
     ]
    },
    {
     "name": "stderr",
     "output_type": "stream",
     "text": [
      "요약 진행 중:  35%|███▌      | 836/2388 [31:23<51:34,  1.99s/it]"
     ]
    },
    {
     "name": "stdout",
     "output_type": "stream",
     "text": [
      "837/2388 행 요약 완료\n"
     ]
    },
    {
     "name": "stderr",
     "output_type": "stream",
     "text": [
      "요약 진행 중:  35%|███▌      | 837/2388 [31:26<59:03,  2.28s/it]"
     ]
    },
    {
     "name": "stdout",
     "output_type": "stream",
     "text": [
      "838/2388 행 요약 완료\n"
     ]
    },
    {
     "name": "stderr",
     "output_type": "stream",
     "text": [
      "요약 진행 중:  35%|███▌      | 838/2388 [31:27<51:26,  1.99s/it]"
     ]
    },
    {
     "name": "stdout",
     "output_type": "stream",
     "text": [
      "839/2388 행 요약 완료\n"
     ]
    },
    {
     "name": "stderr",
     "output_type": "stream",
     "text": [
      "요약 진행 중:  35%|███▌      | 839/2388 [31:29<51:52,  2.01s/it]"
     ]
    },
    {
     "name": "stdout",
     "output_type": "stream",
     "text": [
      "840/2388 행 요약 완료\n"
     ]
    },
    {
     "name": "stderr",
     "output_type": "stream",
     "text": [
      "요약 진행 중:  35%|███▌      | 840/2388 [31:32<55:37,  2.16s/it]"
     ]
    },
    {
     "name": "stdout",
     "output_type": "stream",
     "text": [
      "841/2388 행 요약 완료\n"
     ]
    },
    {
     "name": "stderr",
     "output_type": "stream",
     "text": [
      "요약 진행 중:  35%|███▌      | 841/2388 [31:33<50:12,  1.95s/it]"
     ]
    },
    {
     "name": "stdout",
     "output_type": "stream",
     "text": [
      "842/2388 행 요약 완료\n"
     ]
    },
    {
     "name": "stderr",
     "output_type": "stream",
     "text": [
      "요약 진행 중:  35%|███▌      | 842/2388 [31:35<47:08,  1.83s/it]"
     ]
    },
    {
     "name": "stdout",
     "output_type": "stream",
     "text": [
      "843/2388 행 요약 완료\n"
     ]
    },
    {
     "name": "stderr",
     "output_type": "stream",
     "text": [
      "요약 진행 중:  35%|███▌      | 843/2388 [31:36<45:37,  1.77s/it]"
     ]
    },
    {
     "name": "stdout",
     "output_type": "stream",
     "text": [
      "844/2388 행 요약 완료\n"
     ]
    },
    {
     "name": "stderr",
     "output_type": "stream",
     "text": [
      "요약 진행 중:  35%|███▌      | 844/2388 [31:39<55:39,  2.16s/it]"
     ]
    },
    {
     "name": "stdout",
     "output_type": "stream",
     "text": [
      "845/2388 행 요약 완료\n"
     ]
    },
    {
     "name": "stderr",
     "output_type": "stream",
     "text": [
      "요약 진행 중:  35%|███▌      | 845/2388 [31:41<48:53,  1.90s/it]"
     ]
    },
    {
     "name": "stdout",
     "output_type": "stream",
     "text": [
      "846/2388 행 요약 완료\n"
     ]
    },
    {
     "name": "stderr",
     "output_type": "stream",
     "text": [
      "요약 진행 중:  35%|███▌      | 846/2388 [31:42<44:25,  1.73s/it]"
     ]
    },
    {
     "name": "stdout",
     "output_type": "stream",
     "text": [
      "847/2388 행 요약 완료\n"
     ]
    },
    {
     "name": "stderr",
     "output_type": "stream",
     "text": [
      "요약 진행 중:  35%|███▌      | 847/2388 [31:43<41:21,  1.61s/it]"
     ]
    },
    {
     "name": "stdout",
     "output_type": "stream",
     "text": [
      "848/2388 행 요약 완료\n"
     ]
    },
    {
     "name": "stderr",
     "output_type": "stream",
     "text": [
      "요약 진행 중:  36%|███▌      | 848/2388 [31:45<44:28,  1.73s/it]"
     ]
    },
    {
     "name": "stdout",
     "output_type": "stream",
     "text": [
      "849/2388 행 요약 완료\n"
     ]
    },
    {
     "name": "stderr",
     "output_type": "stream",
     "text": [
      "요약 진행 중:  36%|███▌      | 849/2388 [31:48<53:50,  2.10s/it]"
     ]
    },
    {
     "name": "stdout",
     "output_type": "stream",
     "text": [
      "850/2388 행 요약 완료\n"
     ]
    },
    {
     "name": "stderr",
     "output_type": "stream",
     "text": [
      "요약 진행 중:  36%|███▌      | 850/2388 [31:50<50:01,  1.95s/it]"
     ]
    },
    {
     "name": "stdout",
     "output_type": "stream",
     "text": [
      "851/2388 행 요약 완료\n"
     ]
    },
    {
     "name": "stderr",
     "output_type": "stream",
     "text": [
      "요약 진행 중:  36%|███▌      | 851/2388 [31:54<1:06:45,  2.61s/it]"
     ]
    },
    {
     "name": "stdout",
     "output_type": "stream",
     "text": [
      "852/2388 행 요약 완료\n"
     ]
    },
    {
     "name": "stderr",
     "output_type": "stream",
     "text": [
      "요약 진행 중:  36%|███▌      | 852/2388 [31:57<1:11:52,  2.81s/it]"
     ]
    },
    {
     "name": "stdout",
     "output_type": "stream",
     "text": [
      "853/2388 행 요약 완료\n"
     ]
    },
    {
     "name": "stderr",
     "output_type": "stream",
     "text": [
      "요약 진행 중:  36%|███▌      | 853/2388 [31:59<1:03:10,  2.47s/it]"
     ]
    },
    {
     "name": "stdout",
     "output_type": "stream",
     "text": [
      "854/2388 행 요약 완료\n"
     ]
    },
    {
     "name": "stderr",
     "output_type": "stream",
     "text": [
      "요약 진행 중:  36%|███▌      | 854/2388 [32:00<56:20,  2.20s/it]  "
     ]
    },
    {
     "name": "stdout",
     "output_type": "stream",
     "text": [
      "855/2388 행 요약 완료\n"
     ]
    },
    {
     "name": "stderr",
     "output_type": "stream",
     "text": [
      "요약 진행 중:  36%|███▌      | 855/2388 [32:03<1:01:25,  2.40s/it]"
     ]
    },
    {
     "name": "stdout",
     "output_type": "stream",
     "text": [
      "856/2388 행 요약 완료\n"
     ]
    },
    {
     "name": "stderr",
     "output_type": "stream",
     "text": [
      "요약 진행 중:  36%|███▌      | 856/2388 [32:06<1:02:15,  2.44s/it]"
     ]
    },
    {
     "name": "stdout",
     "output_type": "stream",
     "text": [
      "857/2388 행 요약 완료\n"
     ]
    },
    {
     "name": "stderr",
     "output_type": "stream",
     "text": [
      "요약 진행 중:  36%|███▌      | 857/2388 [32:09<1:09:44,  2.73s/it]"
     ]
    },
    {
     "name": "stdout",
     "output_type": "stream",
     "text": [
      "858/2388 행 요약 완료\n"
     ]
    },
    {
     "name": "stderr",
     "output_type": "stream",
     "text": [
      "요약 진행 중:  36%|███▌      | 858/2388 [32:11<1:00:21,  2.37s/it]"
     ]
    },
    {
     "name": "stdout",
     "output_type": "stream",
     "text": [
      "859/2388 행 요약 완료\n"
     ]
    },
    {
     "name": "stderr",
     "output_type": "stream",
     "text": [
      "요약 진행 중:  36%|███▌      | 859/2388 [32:13<56:38,  2.22s/it]  "
     ]
    },
    {
     "name": "stdout",
     "output_type": "stream",
     "text": [
      "860/2388 행 요약 완료\n"
     ]
    },
    {
     "name": "stderr",
     "output_type": "stream",
     "text": [
      "요약 진행 중:  36%|███▌      | 860/2388 [32:16<1:01:46,  2.43s/it]"
     ]
    },
    {
     "name": "stdout",
     "output_type": "stream",
     "text": [
      "861/2388 행 요약 완료\n"
     ]
    },
    {
     "name": "stderr",
     "output_type": "stream",
     "text": [
      "요약 진행 중:  36%|███▌      | 861/2388 [32:18<1:00:28,  2.38s/it]"
     ]
    },
    {
     "name": "stdout",
     "output_type": "stream",
     "text": [
      "862/2388 행 요약 완료\n"
     ]
    },
    {
     "name": "stderr",
     "output_type": "stream",
     "text": [
      "요약 진행 중:  36%|███▌      | 862/2388 [32:23<1:23:52,  3.30s/it]"
     ]
    },
    {
     "name": "stdout",
     "output_type": "stream",
     "text": [
      "863/2388 행 요약 완료\n"
     ]
    },
    {
     "name": "stderr",
     "output_type": "stream",
     "text": [
      "요약 진행 중:  36%|███▌      | 863/2388 [32:26<1:20:54,  3.18s/it]"
     ]
    },
    {
     "name": "stdout",
     "output_type": "stream",
     "text": [
      "864/2388 행 요약 완료\n"
     ]
    },
    {
     "name": "stderr",
     "output_type": "stream",
     "text": [
      "요약 진행 중:  36%|███▌      | 864/2388 [32:29<1:14:50,  2.95s/it]"
     ]
    },
    {
     "name": "stdout",
     "output_type": "stream",
     "text": [
      "865/2388 행 요약 완료\n"
     ]
    },
    {
     "name": "stderr",
     "output_type": "stream",
     "text": [
      "요약 진행 중:  36%|███▌      | 865/2388 [32:32<1:17:11,  3.04s/it]"
     ]
    },
    {
     "name": "stdout",
     "output_type": "stream",
     "text": [
      "866/2388 행 요약 완료\n"
     ]
    },
    {
     "name": "stderr",
     "output_type": "stream",
     "text": [
      "요약 진행 중:  36%|███▋      | 866/2388 [32:33<1:05:46,  2.59s/it]"
     ]
    },
    {
     "name": "stdout",
     "output_type": "stream",
     "text": [
      "867/2388 행 요약 완료\n"
     ]
    },
    {
     "name": "stderr",
     "output_type": "stream",
     "text": [
      "요약 진행 중:  36%|███▋      | 867/2388 [32:35<56:37,  2.23s/it]  "
     ]
    },
    {
     "name": "stdout",
     "output_type": "stream",
     "text": [
      "868/2388 행 요약 완료\n"
     ]
    },
    {
     "name": "stderr",
     "output_type": "stream",
     "text": [
      "요약 진행 중:  36%|███▋      | 868/2388 [32:38<1:06:44,  2.63s/it]"
     ]
    },
    {
     "name": "stdout",
     "output_type": "stream",
     "text": [
      "869/2388 행 요약 완료\n"
     ]
    },
    {
     "name": "stderr",
     "output_type": "stream",
     "text": [
      "요약 진행 중:  36%|███▋      | 869/2388 [32:41<1:08:44,  2.72s/it]"
     ]
    },
    {
     "name": "stdout",
     "output_type": "stream",
     "text": [
      "870/2388 행 요약 완료\n"
     ]
    },
    {
     "name": "stderr",
     "output_type": "stream",
     "text": [
      "요약 진행 중:  36%|███▋      | 870/2388 [32:45<1:13:15,  2.90s/it]"
     ]
    },
    {
     "name": "stdout",
     "output_type": "stream",
     "text": [
      "871/2388 행 요약 완료\n"
     ]
    },
    {
     "name": "stderr",
     "output_type": "stream",
     "text": [
      "요약 진행 중:  36%|███▋      | 871/2388 [32:48<1:14:57,  2.96s/it]"
     ]
    },
    {
     "name": "stdout",
     "output_type": "stream",
     "text": [
      "872/2388 행 요약 완료\n"
     ]
    },
    {
     "name": "stderr",
     "output_type": "stream",
     "text": [
      "요약 진행 중:  37%|███▋      | 872/2388 [32:50<1:11:44,  2.84s/it]"
     ]
    },
    {
     "name": "stdout",
     "output_type": "stream",
     "text": [
      "873/2388 행 요약 완료\n"
     ]
    },
    {
     "name": "stderr",
     "output_type": "stream",
     "text": [
      "요약 진행 중:  37%|███▋      | 873/2388 [32:53<1:08:31,  2.71s/it]"
     ]
    },
    {
     "name": "stdout",
     "output_type": "stream",
     "text": [
      "874/2388 행 요약 완료\n"
     ]
    },
    {
     "name": "stderr",
     "output_type": "stream",
     "text": [
      "요약 진행 중:  37%|███▋      | 874/2388 [32:56<1:11:32,  2.83s/it]"
     ]
    },
    {
     "name": "stdout",
     "output_type": "stream",
     "text": [
      "875/2388 행 요약 완료\n"
     ]
    },
    {
     "name": "stderr",
     "output_type": "stream",
     "text": [
      "요약 진행 중:  37%|███▋      | 875/2388 [32:58<1:10:04,  2.78s/it]"
     ]
    },
    {
     "name": "stdout",
     "output_type": "stream",
     "text": [
      "876/2388 행 요약 완료\n"
     ]
    },
    {
     "name": "stderr",
     "output_type": "stream",
     "text": [
      "요약 진행 중:  37%|███▋      | 876/2388 [33:02<1:12:54,  2.89s/it]"
     ]
    },
    {
     "name": "stdout",
     "output_type": "stream",
     "text": [
      "877/2388 행 요약 완료\n"
     ]
    },
    {
     "name": "stderr",
     "output_type": "stream",
     "text": [
      "요약 진행 중:  37%|███▋      | 877/2388 [33:04<1:11:48,  2.85s/it]"
     ]
    },
    {
     "name": "stdout",
     "output_type": "stream",
     "text": [
      "878/2388 행 요약 완료\n"
     ]
    },
    {
     "name": "stderr",
     "output_type": "stream",
     "text": [
      "요약 진행 중:  37%|███▋      | 878/2388 [33:07<1:10:56,  2.82s/it]"
     ]
    },
    {
     "name": "stdout",
     "output_type": "stream",
     "text": [
      "879/2388 행 요약 완료\n"
     ]
    },
    {
     "name": "stderr",
     "output_type": "stream",
     "text": [
      "요약 진행 중:  37%|███▋      | 879/2388 [33:09<1:05:26,  2.60s/it]"
     ]
    },
    {
     "name": "stdout",
     "output_type": "stream",
     "text": [
      "880/2388 행 요약 완료\n"
     ]
    },
    {
     "name": "stderr",
     "output_type": "stream",
     "text": [
      "요약 진행 중:  37%|███▋      | 880/2388 [33:13<1:14:12,  2.95s/it]"
     ]
    },
    {
     "name": "stdout",
     "output_type": "stream",
     "text": [
      "881/2388 행 요약 완료\n"
     ]
    },
    {
     "name": "stderr",
     "output_type": "stream",
     "text": [
      "요약 진행 중:  37%|███▋      | 881/2388 [33:14<1:03:03,  2.51s/it]"
     ]
    },
    {
     "name": "stdout",
     "output_type": "stream",
     "text": [
      "882/2388 행 요약 완료\n"
     ]
    },
    {
     "name": "stderr",
     "output_type": "stream",
     "text": [
      "요약 진행 중:  37%|███▋      | 882/2388 [33:18<1:08:21,  2.72s/it]"
     ]
    },
    {
     "name": "stdout",
     "output_type": "stream",
     "text": [
      "883/2388 행 요약 완료\n"
     ]
    },
    {
     "name": "stderr",
     "output_type": "stream",
     "text": [
      "요약 진행 중:  37%|███▋      | 883/2388 [33:20<1:04:54,  2.59s/it]"
     ]
    },
    {
     "name": "stdout",
     "output_type": "stream",
     "text": [
      "884/2388 행 요약 완료\n"
     ]
    },
    {
     "name": "stderr",
     "output_type": "stream",
     "text": [
      "요약 진행 중:  37%|███▋      | 884/2388 [33:23<1:07:00,  2.67s/it]"
     ]
    },
    {
     "name": "stdout",
     "output_type": "stream",
     "text": [
      "885/2388 행 요약 완료\n"
     ]
    },
    {
     "name": "stderr",
     "output_type": "stream",
     "text": [
      "요약 진행 중:  37%|███▋      | 885/2388 [33:25<1:01:54,  2.47s/it]"
     ]
    },
    {
     "name": "stdout",
     "output_type": "stream",
     "text": [
      "886/2388 행 요약 완료\n"
     ]
    },
    {
     "name": "stderr",
     "output_type": "stream",
     "text": [
      "요약 진행 중:  37%|███▋      | 886/2388 [33:27<57:31,  2.30s/it]  "
     ]
    },
    {
     "name": "stdout",
     "output_type": "stream",
     "text": [
      "887/2388 행 요약 완료\n"
     ]
    },
    {
     "name": "stderr",
     "output_type": "stream",
     "text": [
      "요약 진행 중:  37%|███▋      | 887/2388 [33:29<58:52,  2.35s/it]"
     ]
    },
    {
     "name": "stdout",
     "output_type": "stream",
     "text": [
      "888/2388 행 요약 완료\n"
     ]
    },
    {
     "name": "stderr",
     "output_type": "stream",
     "text": [
      "요약 진행 중:  37%|███▋      | 888/2388 [33:30<48:01,  1.92s/it]"
     ]
    },
    {
     "name": "stdout",
     "output_type": "stream",
     "text": [
      "889/2388 행 요약 완료\n"
     ]
    },
    {
     "name": "stderr",
     "output_type": "stream",
     "text": [
      "요약 진행 중:  37%|███▋      | 889/2388 [33:33<58:55,  2.36s/it]"
     ]
    },
    {
     "name": "stdout",
     "output_type": "stream",
     "text": [
      "890/2388 행 요약 완료\n"
     ]
    },
    {
     "name": "stderr",
     "output_type": "stream",
     "text": [
      "요약 진행 중:  37%|███▋      | 890/2388 [33:37<1:05:33,  2.63s/it]"
     ]
    },
    {
     "name": "stdout",
     "output_type": "stream",
     "text": [
      "891/2388 행 요약 완료\n"
     ]
    },
    {
     "name": "stderr",
     "output_type": "stream",
     "text": [
      "요약 진행 중:  37%|███▋      | 891/2388 [33:38<58:28,  2.34s/it]  "
     ]
    },
    {
     "name": "stdout",
     "output_type": "stream",
     "text": [
      "892/2388 행 요약 완료\n"
     ]
    },
    {
     "name": "stderr",
     "output_type": "stream",
     "text": [
      "요약 진행 중:  37%|███▋      | 892/2388 [33:40<54:43,  2.19s/it]"
     ]
    },
    {
     "name": "stdout",
     "output_type": "stream",
     "text": [
      "893/2388 행 요약 완료\n"
     ]
    },
    {
     "name": "stderr",
     "output_type": "stream",
     "text": [
      "요약 진행 중:  37%|███▋      | 893/2388 [33:43<59:51,  2.40s/it]"
     ]
    },
    {
     "name": "stdout",
     "output_type": "stream",
     "text": [
      "894/2388 행 요약 완료\n"
     ]
    },
    {
     "name": "stderr",
     "output_type": "stream",
     "text": [
      "요약 진행 중:  37%|███▋      | 894/2388 [33:45<53:48,  2.16s/it]"
     ]
    },
    {
     "name": "stdout",
     "output_type": "stream",
     "text": [
      "895/2388 행 요약 완료\n"
     ]
    },
    {
     "name": "stderr",
     "output_type": "stream",
     "text": [
      "요약 진행 중:  37%|███▋      | 895/2388 [33:48<1:05:12,  2.62s/it]"
     ]
    },
    {
     "name": "stdout",
     "output_type": "stream",
     "text": [
      "896/2388 행 요약 완료\n"
     ]
    },
    {
     "name": "stderr",
     "output_type": "stream",
     "text": [
      "요약 진행 중:  38%|███▊      | 896/2388 [33:50<56:33,  2.27s/it]  "
     ]
    },
    {
     "name": "stdout",
     "output_type": "stream",
     "text": [
      "897/2388 행 요약 완료\n"
     ]
    },
    {
     "name": "stderr",
     "output_type": "stream",
     "text": [
      "요약 진행 중:  38%|███▊      | 897/2388 [33:54<1:08:53,  2.77s/it]"
     ]
    },
    {
     "name": "stdout",
     "output_type": "stream",
     "text": [
      "898/2388 행 요약 완료\n"
     ]
    },
    {
     "name": "stderr",
     "output_type": "stream",
     "text": [
      "요약 진행 중:  38%|███▊      | 898/2388 [33:58<1:16:53,  3.10s/it]"
     ]
    },
    {
     "name": "stdout",
     "output_type": "stream",
     "text": [
      "899/2388 행 요약 완료\n"
     ]
    },
    {
     "name": "stderr",
     "output_type": "stream",
     "text": [
      "요약 진행 중:  38%|███▊      | 899/2388 [34:01<1:17:27,  3.12s/it]"
     ]
    },
    {
     "name": "stdout",
     "output_type": "stream",
     "text": [
      "900/2388 행 요약 완료\n"
     ]
    },
    {
     "name": "stderr",
     "output_type": "stream",
     "text": [
      "요약 진행 중:  38%|███▊      | 900/2388 [34:06<1:30:43,  3.66s/it]"
     ]
    },
    {
     "name": "stdout",
     "output_type": "stream",
     "text": [
      "901/2388 행 요약 완료\n"
     ]
    },
    {
     "name": "stderr",
     "output_type": "stream",
     "text": [
      "요약 진행 중:  38%|███▊      | 901/2388 [34:07<1:12:47,  2.94s/it]"
     ]
    },
    {
     "name": "stdout",
     "output_type": "stream",
     "text": [
      "902/2388 행 요약 완료\n"
     ]
    },
    {
     "name": "stderr",
     "output_type": "stream",
     "text": [
      "요약 진행 중:  38%|███▊      | 902/2388 [34:09<1:08:28,  2.76s/it]"
     ]
    },
    {
     "name": "stdout",
     "output_type": "stream",
     "text": [
      "903/2388 행 요약 완료\n"
     ]
    },
    {
     "name": "stderr",
     "output_type": "stream",
     "text": [
      "요약 진행 중:  38%|███▊      | 903/2388 [34:12<1:08:50,  2.78s/it]"
     ]
    },
    {
     "name": "stdout",
     "output_type": "stream",
     "text": [
      "904/2388 행 요약 완료\n"
     ]
    },
    {
     "name": "stderr",
     "output_type": "stream",
     "text": [
      "요약 진행 중:  38%|███▊      | 904/2388 [34:15<1:05:49,  2.66s/it]"
     ]
    },
    {
     "name": "stdout",
     "output_type": "stream",
     "text": [
      "905/2388 행 요약 완료\n"
     ]
    },
    {
     "name": "stderr",
     "output_type": "stream",
     "text": [
      "요약 진행 중:  38%|███▊      | 905/2388 [34:17<1:03:25,  2.57s/it]"
     ]
    },
    {
     "name": "stdout",
     "output_type": "stream",
     "text": [
      "906/2388 행 요약 완료\n"
     ]
    },
    {
     "name": "stderr",
     "output_type": "stream",
     "text": [
      "요약 진행 중:  38%|███▊      | 906/2388 [34:20<1:09:07,  2.80s/it]"
     ]
    },
    {
     "name": "stdout",
     "output_type": "stream",
     "text": [
      "907/2388 행 요약 완료\n"
     ]
    },
    {
     "name": "stderr",
     "output_type": "stream",
     "text": [
      "요약 진행 중:  38%|███▊      | 907/2388 [34:21<56:45,  2.30s/it]  "
     ]
    },
    {
     "name": "stdout",
     "output_type": "stream",
     "text": [
      "908/2388 행 요약 완료\n"
     ]
    },
    {
     "name": "stderr",
     "output_type": "stream",
     "text": [
      "요약 진행 중:  38%|███▊      | 908/2388 [34:23<49:39,  2.01s/it]"
     ]
    },
    {
     "name": "stdout",
     "output_type": "stream",
     "text": [
      "909/2388 행 요약 완료\n"
     ]
    },
    {
     "name": "stderr",
     "output_type": "stream",
     "text": [
      "요약 진행 중:  38%|███▊      | 909/2388 [34:24<45:56,  1.86s/it]"
     ]
    },
    {
     "name": "stdout",
     "output_type": "stream",
     "text": [
      "910/2388 행 요약 완료\n"
     ]
    },
    {
     "name": "stderr",
     "output_type": "stream",
     "text": [
      "요약 진행 중:  38%|███▊      | 910/2388 [34:25<40:47,  1.66s/it]"
     ]
    },
    {
     "name": "stdout",
     "output_type": "stream",
     "text": [
      "911/2388 행 요약 완료\n"
     ]
    },
    {
     "name": "stderr",
     "output_type": "stream",
     "text": [
      "요약 진행 중:  38%|███▊      | 911/2388 [34:28<47:07,  1.91s/it]"
     ]
    },
    {
     "name": "stdout",
     "output_type": "stream",
     "text": [
      "912/2388 행 요약 완료\n"
     ]
    },
    {
     "name": "stderr",
     "output_type": "stream",
     "text": [
      "요약 진행 중:  38%|███▊      | 912/2388 [34:29<43:56,  1.79s/it]"
     ]
    },
    {
     "name": "stdout",
     "output_type": "stream",
     "text": [
      "913/2388 행 요약 완료\n"
     ]
    },
    {
     "name": "stderr",
     "output_type": "stream",
     "text": [
      "요약 진행 중:  38%|███▊      | 913/2388 [34:32<47:33,  1.93s/it]"
     ]
    },
    {
     "name": "stdout",
     "output_type": "stream",
     "text": [
      "914/2388 행 요약 완료\n"
     ]
    },
    {
     "name": "stderr",
     "output_type": "stream",
     "text": [
      "요약 진행 중:  38%|███▊      | 914/2388 [34:34<52:31,  2.14s/it]"
     ]
    },
    {
     "name": "stdout",
     "output_type": "stream",
     "text": [
      "915/2388 행 요약 완료\n"
     ]
    },
    {
     "name": "stderr",
     "output_type": "stream",
     "text": [
      "요약 진행 중:  38%|███▊      | 915/2388 [34:38<1:01:02,  2.49s/it]"
     ]
    },
    {
     "name": "stdout",
     "output_type": "stream",
     "text": [
      "916/2388 행 요약 완료\n"
     ]
    },
    {
     "name": "stderr",
     "output_type": "stream",
     "text": [
      "요약 진행 중:  38%|███▊      | 916/2388 [34:40<1:00:36,  2.47s/it]"
     ]
    },
    {
     "name": "stdout",
     "output_type": "stream",
     "text": [
      "917/2388 행 요약 완료\n"
     ]
    },
    {
     "name": "stderr",
     "output_type": "stream",
     "text": [
      "요약 진행 중:  38%|███▊      | 917/2388 [34:42<57:44,  2.36s/it]  "
     ]
    },
    {
     "name": "stdout",
     "output_type": "stream",
     "text": [
      "918/2388 행 요약 완료\n"
     ]
    },
    {
     "name": "stderr",
     "output_type": "stream",
     "text": [
      "요약 진행 중:  38%|███▊      | 918/2388 [34:44<50:33,  2.06s/it]"
     ]
    },
    {
     "name": "stdout",
     "output_type": "stream",
     "text": [
      "919/2388 행 요약 완료\n"
     ]
    },
    {
     "name": "stderr",
     "output_type": "stream",
     "text": [
      "요약 진행 중:  38%|███▊      | 919/2388 [34:46<50:31,  2.06s/it]"
     ]
    },
    {
     "name": "stdout",
     "output_type": "stream",
     "text": [
      "920/2388 행 요약 완료\n"
     ]
    },
    {
     "name": "stderr",
     "output_type": "stream",
     "text": [
      "요약 진행 중:  39%|███▊      | 920/2388 [34:48<51:32,  2.11s/it]"
     ]
    },
    {
     "name": "stdout",
     "output_type": "stream",
     "text": [
      "921/2388 행 요약 완료\n"
     ]
    },
    {
     "name": "stderr",
     "output_type": "stream",
     "text": [
      "요약 진행 중:  39%|███▊      | 921/2388 [34:49<47:03,  1.92s/it]"
     ]
    },
    {
     "name": "stdout",
     "output_type": "stream",
     "text": [
      "922/2388 행 요약 완료\n"
     ]
    },
    {
     "name": "stderr",
     "output_type": "stream",
     "text": [
      "요약 진행 중:  39%|███▊      | 922/2388 [34:51<44:32,  1.82s/it]"
     ]
    },
    {
     "name": "stdout",
     "output_type": "stream",
     "text": [
      "923/2388 행 요약 완료\n"
     ]
    },
    {
     "name": "stderr",
     "output_type": "stream",
     "text": [
      "요약 진행 중:  39%|███▊      | 923/2388 [34:55<58:45,  2.41s/it]"
     ]
    },
    {
     "name": "stdout",
     "output_type": "stream",
     "text": [
      "924/2388 행 요약 완료\n"
     ]
    },
    {
     "name": "stderr",
     "output_type": "stream",
     "text": [
      "요약 진행 중:  39%|███▊      | 924/2388 [34:57<57:54,  2.37s/it]"
     ]
    },
    {
     "name": "stdout",
     "output_type": "stream",
     "text": [
      "925/2388 행 요약 완료\n"
     ]
    },
    {
     "name": "stderr",
     "output_type": "stream",
     "text": [
      "요약 진행 중:  39%|███▊      | 925/2388 [34:59<55:08,  2.26s/it]"
     ]
    },
    {
     "name": "stdout",
     "output_type": "stream",
     "text": [
      "926/2388 행 요약 완료\n"
     ]
    },
    {
     "name": "stderr",
     "output_type": "stream",
     "text": [
      "요약 진행 중:  39%|███▉      | 926/2388 [35:01<52:12,  2.14s/it]"
     ]
    },
    {
     "name": "stdout",
     "output_type": "stream",
     "text": [
      "927/2388 행 요약 완료\n"
     ]
    },
    {
     "name": "stderr",
     "output_type": "stream",
     "text": [
      "요약 진행 중:  39%|███▉      | 927/2388 [35:03<52:06,  2.14s/it]"
     ]
    },
    {
     "name": "stdout",
     "output_type": "stream",
     "text": [
      "928/2388 행 요약 완료\n"
     ]
    },
    {
     "name": "stderr",
     "output_type": "stream",
     "text": [
      "요약 진행 중:  39%|███▉      | 928/2388 [35:05<53:20,  2.19s/it]"
     ]
    },
    {
     "name": "stdout",
     "output_type": "stream",
     "text": [
      "929/2388 행 요약 완료\n"
     ]
    },
    {
     "name": "stderr",
     "output_type": "stream",
     "text": [
      "요약 진행 중:  39%|███▉      | 929/2388 [35:08<59:44,  2.46s/it]"
     ]
    },
    {
     "name": "stdout",
     "output_type": "stream",
     "text": [
      "930/2388 행 요약 완료\n"
     ]
    },
    {
     "name": "stderr",
     "output_type": "stream",
     "text": [
      "요약 진행 중:  39%|███▉      | 930/2388 [35:10<51:28,  2.12s/it]"
     ]
    },
    {
     "name": "stdout",
     "output_type": "stream",
     "text": [
      "931/2388 행 요약 완료\n"
     ]
    },
    {
     "name": "stderr",
     "output_type": "stream",
     "text": [
      "요약 진행 중:  39%|███▉      | 931/2388 [35:11<44:36,  1.84s/it]"
     ]
    },
    {
     "name": "stdout",
     "output_type": "stream",
     "text": [
      "932/2388 행 요약 완료\n"
     ]
    },
    {
     "name": "stderr",
     "output_type": "stream",
     "text": [
      "요약 진행 중:  39%|███▉      | 932/2388 [35:12<42:51,  1.77s/it]"
     ]
    },
    {
     "name": "stdout",
     "output_type": "stream",
     "text": [
      "933/2388 행 요약 완료\n"
     ]
    },
    {
     "name": "stderr",
     "output_type": "stream",
     "text": [
      "요약 진행 중:  39%|███▉      | 933/2388 [35:15<48:04,  1.98s/it]"
     ]
    },
    {
     "name": "stdout",
     "output_type": "stream",
     "text": [
      "934/2388 행 요약 완료\n"
     ]
    },
    {
     "name": "stderr",
     "output_type": "stream",
     "text": [
      "요약 진행 중:  39%|███▉      | 934/2388 [35:17<49:40,  2.05s/it]"
     ]
    },
    {
     "name": "stdout",
     "output_type": "stream",
     "text": [
      "935/2388 행 요약 완료\n"
     ]
    },
    {
     "name": "stderr",
     "output_type": "stream",
     "text": [
      "요약 진행 중:  39%|███▉      | 935/2388 [35:19<47:07,  1.95s/it]"
     ]
    },
    {
     "name": "stdout",
     "output_type": "stream",
     "text": [
      "936/2388 행 요약 완료\n"
     ]
    },
    {
     "name": "stderr",
     "output_type": "stream",
     "text": [
      "요약 진행 중:  39%|███▉      | 936/2388 [35:21<49:31,  2.05s/it]"
     ]
    },
    {
     "name": "stdout",
     "output_type": "stream",
     "text": [
      "937/2388 행 요약 완료\n"
     ]
    },
    {
     "name": "stderr",
     "output_type": "stream",
     "text": [
      "요약 진행 중:  39%|███▉      | 937/2388 [35:23<47:59,  1.98s/it]"
     ]
    },
    {
     "name": "stdout",
     "output_type": "stream",
     "text": [
      "938/2388 행 요약 완료\n"
     ]
    },
    {
     "name": "stderr",
     "output_type": "stream",
     "text": [
      "요약 진행 중:  39%|███▉      | 938/2388 [35:26<58:59,  2.44s/it]"
     ]
    },
    {
     "name": "stdout",
     "output_type": "stream",
     "text": [
      "939/2388 행 요약 완료\n"
     ]
    },
    {
     "name": "stderr",
     "output_type": "stream",
     "text": [
      "요약 진행 중:  39%|███▉      | 939/2388 [35:28<52:06,  2.16s/it]"
     ]
    },
    {
     "name": "stdout",
     "output_type": "stream",
     "text": [
      "940/2388 행 요약 완료\n"
     ]
    },
    {
     "name": "stderr",
     "output_type": "stream",
     "text": [
      "요약 진행 중:  39%|███▉      | 940/2388 [35:31<59:13,  2.45s/it]"
     ]
    },
    {
     "name": "stdout",
     "output_type": "stream",
     "text": [
      "941/2388 행 요약 완료\n"
     ]
    },
    {
     "name": "stderr",
     "output_type": "stream",
     "text": [
      "요약 진행 중:  39%|███▉      | 941/2388 [35:32<50:46,  2.11s/it]"
     ]
    },
    {
     "name": "stdout",
     "output_type": "stream",
     "text": [
      "942/2388 행 요약 완료\n"
     ]
    },
    {
     "name": "stderr",
     "output_type": "stream",
     "text": [
      "요약 진행 중:  39%|███▉      | 942/2388 [35:34<45:31,  1.89s/it]"
     ]
    },
    {
     "name": "stdout",
     "output_type": "stream",
     "text": [
      "943/2388 행 요약 완료\n"
     ]
    },
    {
     "name": "stderr",
     "output_type": "stream",
     "text": [
      "요약 진행 중:  39%|███▉      | 943/2388 [35:37<51:32,  2.14s/it]"
     ]
    },
    {
     "name": "stdout",
     "output_type": "stream",
     "text": [
      "944/2388 행 요약 완료\n"
     ]
    },
    {
     "name": "stderr",
     "output_type": "stream",
     "text": [
      "요약 진행 중:  40%|███▉      | 944/2388 [35:38<47:51,  1.99s/it]"
     ]
    },
    {
     "name": "stdout",
     "output_type": "stream",
     "text": [
      "945/2388 행 요약 완료\n"
     ]
    },
    {
     "name": "stderr",
     "output_type": "stream",
     "text": [
      "요약 진행 중:  40%|███▉      | 945/2388 [35:40<44:14,  1.84s/it]"
     ]
    },
    {
     "name": "stdout",
     "output_type": "stream",
     "text": [
      "946/2388 행 요약 완료\n"
     ]
    },
    {
     "name": "stderr",
     "output_type": "stream",
     "text": [
      "요약 진행 중:  40%|███▉      | 946/2388 [35:41<41:26,  1.72s/it]"
     ]
    },
    {
     "name": "stdout",
     "output_type": "stream",
     "text": [
      "947/2388 행 요약 완료\n"
     ]
    },
    {
     "name": "stderr",
     "output_type": "stream",
     "text": [
      "요약 진행 중:  40%|███▉      | 947/2388 [35:43<41:35,  1.73s/it]"
     ]
    },
    {
     "name": "stdout",
     "output_type": "stream",
     "text": [
      "948/2388 행 요약 완료\n"
     ]
    },
    {
     "name": "stderr",
     "output_type": "stream",
     "text": [
      "요약 진행 중:  40%|███▉      | 948/2388 [35:44<37:43,  1.57s/it]"
     ]
    },
    {
     "name": "stdout",
     "output_type": "stream",
     "text": [
      "949/2388 행 요약 완료\n"
     ]
    },
    {
     "name": "stderr",
     "output_type": "stream",
     "text": [
      "요약 진행 중:  40%|███▉      | 949/2388 [35:45<36:08,  1.51s/it]"
     ]
    },
    {
     "name": "stdout",
     "output_type": "stream",
     "text": [
      "950/2388 행 요약 완료\n"
     ]
    },
    {
     "name": "stderr",
     "output_type": "stream",
     "text": [
      "요약 진행 중:  40%|███▉      | 950/2388 [35:47<35:26,  1.48s/it]"
     ]
    },
    {
     "name": "stdout",
     "output_type": "stream",
     "text": [
      "951/2388 행 요약 완료\n"
     ]
    },
    {
     "name": "stderr",
     "output_type": "stream",
     "text": [
      "요약 진행 중:  40%|███▉      | 951/2388 [35:48<34:11,  1.43s/it]"
     ]
    },
    {
     "name": "stdout",
     "output_type": "stream",
     "text": [
      "952/2388 행 요약 완료\n"
     ]
    },
    {
     "name": "stderr",
     "output_type": "stream",
     "text": [
      "요약 진행 중:  40%|███▉      | 952/2388 [35:50<34:12,  1.43s/it]"
     ]
    },
    {
     "name": "stdout",
     "output_type": "stream",
     "text": [
      "953/2388 행 요약 완료\n"
     ]
    },
    {
     "name": "stderr",
     "output_type": "stream",
     "text": [
      "요약 진행 중:  40%|███▉      | 953/2388 [35:52<42:39,  1.78s/it]"
     ]
    },
    {
     "name": "stdout",
     "output_type": "stream",
     "text": [
      "954/2388 행 요약 완료\n"
     ]
    },
    {
     "name": "stderr",
     "output_type": "stream",
     "text": [
      "요약 진행 중:  40%|███▉      | 954/2388 [35:55<49:37,  2.08s/it]"
     ]
    },
    {
     "name": "stdout",
     "output_type": "stream",
     "text": [
      "955/2388 행 요약 완료\n"
     ]
    },
    {
     "name": "stderr",
     "output_type": "stream",
     "text": [
      "요약 진행 중:  40%|███▉      | 955/2388 [35:57<52:13,  2.19s/it]"
     ]
    },
    {
     "name": "stdout",
     "output_type": "stream",
     "text": [
      "956/2388 행 요약 완료\n"
     ]
    },
    {
     "name": "stderr",
     "output_type": "stream",
     "text": [
      "요약 진행 중:  40%|████      | 956/2388 [36:00<54:59,  2.30s/it]"
     ]
    },
    {
     "name": "stdout",
     "output_type": "stream",
     "text": [
      "957/2388 행 요약 완료\n"
     ]
    },
    {
     "name": "stderr",
     "output_type": "stream",
     "text": [
      "요약 진행 중:  40%|████      | 957/2388 [36:03<1:03:19,  2.66s/it]"
     ]
    },
    {
     "name": "stdout",
     "output_type": "stream",
     "text": [
      "958/2388 행 요약 완료\n"
     ]
    },
    {
     "name": "stderr",
     "output_type": "stream",
     "text": [
      "요약 진행 중:  40%|████      | 958/2388 [36:05<58:59,  2.48s/it]  "
     ]
    },
    {
     "name": "stdout",
     "output_type": "stream",
     "text": [
      "959/2388 행 요약 완료\n"
     ]
    },
    {
     "name": "stderr",
     "output_type": "stream",
     "text": [
      "요약 진행 중:  40%|████      | 959/2388 [36:07<49:09,  2.06s/it]"
     ]
    },
    {
     "name": "stdout",
     "output_type": "stream",
     "text": [
      "960/2388 행 요약 완료\n"
     ]
    },
    {
     "name": "stderr",
     "output_type": "stream",
     "text": [
      "요약 진행 중:  40%|████      | 960/2388 [36:11<1:04:12,  2.70s/it]"
     ]
    },
    {
     "name": "stdout",
     "output_type": "stream",
     "text": [
      "961/2388 행 요약 완료\n"
     ]
    },
    {
     "name": "stderr",
     "output_type": "stream",
     "text": [
      "요약 진행 중:  40%|████      | 961/2388 [36:14<1:08:48,  2.89s/it]"
     ]
    },
    {
     "name": "stdout",
     "output_type": "stream",
     "text": [
      "962/2388 행 요약 완료\n"
     ]
    },
    {
     "name": "stderr",
     "output_type": "stream",
     "text": [
      "요약 진행 중:  40%|████      | 962/2388 [36:16<1:03:22,  2.67s/it]"
     ]
    },
    {
     "name": "stdout",
     "output_type": "stream",
     "text": [
      "963/2388 행 요약 완료\n"
     ]
    },
    {
     "name": "stderr",
     "output_type": "stream",
     "text": [
      "요약 진행 중:  40%|████      | 963/2388 [36:18<1:00:18,  2.54s/it]"
     ]
    },
    {
     "name": "stdout",
     "output_type": "stream",
     "text": [
      "964/2388 행 요약 완료\n"
     ]
    },
    {
     "name": "stderr",
     "output_type": "stream",
     "text": [
      "요약 진행 중:  40%|████      | 964/2388 [36:20<54:32,  2.30s/it]  "
     ]
    },
    {
     "name": "stdout",
     "output_type": "stream",
     "text": [
      "965/2388 행 요약 완료\n"
     ]
    },
    {
     "name": "stderr",
     "output_type": "stream",
     "text": [
      "요약 진행 중:  40%|████      | 965/2388 [36:23<58:50,  2.48s/it]"
     ]
    },
    {
     "name": "stdout",
     "output_type": "stream",
     "text": [
      "966/2388 행 요약 완료\n"
     ]
    },
    {
     "name": "stderr",
     "output_type": "stream",
     "text": [
      "요약 진행 중:  40%|████      | 966/2388 [36:26<1:01:47,  2.61s/it]"
     ]
    },
    {
     "name": "stdout",
     "output_type": "stream",
     "text": [
      "967/2388 행 요약 완료\n"
     ]
    },
    {
     "name": "stderr",
     "output_type": "stream",
     "text": [
      "요약 진행 중:  40%|████      | 967/2388 [36:30<1:12:42,  3.07s/it]"
     ]
    },
    {
     "name": "stdout",
     "output_type": "stream",
     "text": [
      "968/2388 행 요약 완료\n"
     ]
    },
    {
     "name": "stderr",
     "output_type": "stream",
     "text": [
      "요약 진행 중:  41%|████      | 968/2388 [36:34<1:17:19,  3.27s/it]"
     ]
    },
    {
     "name": "stdout",
     "output_type": "stream",
     "text": [
      "969/2388 행 요약 완료\n"
     ]
    },
    {
     "name": "stderr",
     "output_type": "stream",
     "text": [
      "요약 진행 중:  41%|████      | 969/2388 [36:36<1:08:07,  2.88s/it]"
     ]
    },
    {
     "name": "stdout",
     "output_type": "stream",
     "text": [
      "970/2388 행 요약 완료\n"
     ]
    },
    {
     "name": "stderr",
     "output_type": "stream",
     "text": [
      "요약 진행 중:  41%|████      | 970/2388 [36:37<56:40,  2.40s/it]  "
     ]
    },
    {
     "name": "stdout",
     "output_type": "stream",
     "text": [
      "971/2388 행 요약 완료\n"
     ]
    },
    {
     "name": "stderr",
     "output_type": "stream",
     "text": [
      "요약 진행 중:  41%|████      | 971/2388 [36:39<52:42,  2.23s/it]"
     ]
    },
    {
     "name": "stdout",
     "output_type": "stream",
     "text": [
      "972/2388 행 요약 완료\n"
     ]
    },
    {
     "name": "stderr",
     "output_type": "stream",
     "text": [
      "요약 진행 중:  41%|████      | 972/2388 [36:41<49:09,  2.08s/it]"
     ]
    },
    {
     "name": "stdout",
     "output_type": "stream",
     "text": [
      "973/2388 행 요약 완료\n"
     ]
    },
    {
     "name": "stderr",
     "output_type": "stream",
     "text": [
      "요약 진행 중:  41%|████      | 973/2388 [36:44<55:27,  2.35s/it]"
     ]
    },
    {
     "name": "stdout",
     "output_type": "stream",
     "text": [
      "974/2388 행 요약 완료\n"
     ]
    },
    {
     "name": "stderr",
     "output_type": "stream",
     "text": [
      "요약 진행 중:  41%|████      | 974/2388 [36:46<54:27,  2.31s/it]"
     ]
    },
    {
     "name": "stdout",
     "output_type": "stream",
     "text": [
      "975/2388 행 요약 완료\n"
     ]
    },
    {
     "name": "stderr",
     "output_type": "stream",
     "text": [
      "요약 진행 중:  41%|████      | 975/2388 [36:48<54:55,  2.33s/it]"
     ]
    },
    {
     "name": "stdout",
     "output_type": "stream",
     "text": [
      "976/2388 행 요약 완료\n"
     ]
    },
    {
     "name": "stderr",
     "output_type": "stream",
     "text": [
      "요약 진행 중:  41%|████      | 976/2388 [36:53<1:14:14,  3.15s/it]"
     ]
    },
    {
     "name": "stdout",
     "output_type": "stream",
     "text": [
      "977/2388 행 요약 완료\n"
     ]
    },
    {
     "name": "stderr",
     "output_type": "stream",
     "text": [
      "요약 진행 중:  41%|████      | 977/2388 [36:58<1:25:16,  3.63s/it]"
     ]
    },
    {
     "name": "stdout",
     "output_type": "stream",
     "text": [
      "978/2388 행 요약 완료\n"
     ]
    },
    {
     "name": "stderr",
     "output_type": "stream",
     "text": [
      "요약 진행 중:  41%|████      | 978/2388 [37:01<1:19:28,  3.38s/it]"
     ]
    },
    {
     "name": "stdout",
     "output_type": "stream",
     "text": [
      "979/2388 행 요약 완료\n"
     ]
    },
    {
     "name": "stderr",
     "output_type": "stream",
     "text": [
      "요약 진행 중:  41%|████      | 979/2388 [37:04<1:13:56,  3.15s/it]"
     ]
    },
    {
     "name": "stdout",
     "output_type": "stream",
     "text": [
      "980/2388 행 요약 완료\n"
     ]
    },
    {
     "name": "stderr",
     "output_type": "stream",
     "text": [
      "요약 진행 중:  41%|████      | 980/2388 [37:05<1:02:02,  2.64s/it]"
     ]
    },
    {
     "name": "stdout",
     "output_type": "stream",
     "text": [
      "981/2388 행 요약 완료\n"
     ]
    },
    {
     "name": "stderr",
     "output_type": "stream",
     "text": [
      "요약 진행 중:  41%|████      | 981/2388 [37:07<57:18,  2.44s/it]  "
     ]
    },
    {
     "name": "stdout",
     "output_type": "stream",
     "text": [
      "982/2388 행 요약 완료\n"
     ]
    },
    {
     "name": "stderr",
     "output_type": "stream",
     "text": [
      "요약 진행 중:  41%|████      | 982/2388 [37:09<52:26,  2.24s/it]"
     ]
    },
    {
     "name": "stdout",
     "output_type": "stream",
     "text": [
      "983/2388 행 요약 완료\n"
     ]
    },
    {
     "name": "stderr",
     "output_type": "stream",
     "text": [
      "요약 진행 중:  41%|████      | 983/2388 [37:10<45:06,  1.93s/it]"
     ]
    },
    {
     "name": "stdout",
     "output_type": "stream",
     "text": [
      "984/2388 행 요약 완료\n"
     ]
    },
    {
     "name": "stderr",
     "output_type": "stream",
     "text": [
      "요약 진행 중:  41%|████      | 984/2388 [37:13<52:18,  2.24s/it]"
     ]
    },
    {
     "name": "stdout",
     "output_type": "stream",
     "text": [
      "985/2388 행 요약 완료\n"
     ]
    },
    {
     "name": "stderr",
     "output_type": "stream",
     "text": [
      "요약 진행 중:  41%|████      | 985/2388 [37:15<51:15,  2.19s/it]"
     ]
    },
    {
     "name": "stdout",
     "output_type": "stream",
     "text": [
      "986/2388 행 요약 완료\n"
     ]
    },
    {
     "name": "stderr",
     "output_type": "stream",
     "text": [
      "요약 진행 중:  41%|████▏     | 986/2388 [37:16<45:57,  1.97s/it]"
     ]
    },
    {
     "name": "stdout",
     "output_type": "stream",
     "text": [
      "987/2388 행 요약 완료\n"
     ]
    },
    {
     "name": "stderr",
     "output_type": "stream",
     "text": [
      "요약 진행 중:  41%|████▏     | 987/2388 [37:18<41:29,  1.78s/it]"
     ]
    },
    {
     "name": "stdout",
     "output_type": "stream",
     "text": [
      "988/2388 행 요약 완료\n"
     ]
    },
    {
     "name": "stderr",
     "output_type": "stream",
     "text": [
      "요약 진행 중:  41%|████▏     | 988/2388 [37:20<44:04,  1.89s/it]"
     ]
    },
    {
     "name": "stdout",
     "output_type": "stream",
     "text": [
      "989/2388 행 요약 완료\n"
     ]
    },
    {
     "name": "stderr",
     "output_type": "stream",
     "text": [
      "요약 진행 중:  41%|████▏     | 989/2388 [37:21<40:54,  1.75s/it]"
     ]
    },
    {
     "name": "stdout",
     "output_type": "stream",
     "text": [
      "990/2388 행 요약 완료\n"
     ]
    },
    {
     "name": "stderr",
     "output_type": "stream",
     "text": [
      "요약 진행 중:  41%|████▏     | 990/2388 [37:23<43:11,  1.85s/it]"
     ]
    },
    {
     "name": "stdout",
     "output_type": "stream",
     "text": [
      "991/2388 행 요약 완료\n"
     ]
    },
    {
     "name": "stderr",
     "output_type": "stream",
     "text": [
      "요약 진행 중:  41%|████▏     | 991/2388 [37:25<39:19,  1.69s/it]"
     ]
    },
    {
     "name": "stdout",
     "output_type": "stream",
     "text": [
      "992/2388 행 요약 완료\n"
     ]
    },
    {
     "name": "stderr",
     "output_type": "stream",
     "text": [
      "요약 진행 중:  42%|████▏     | 992/2388 [37:26<36:26,  1.57s/it]"
     ]
    },
    {
     "name": "stdout",
     "output_type": "stream",
     "text": [
      "993/2388 행 요약 완료\n"
     ]
    },
    {
     "name": "stderr",
     "output_type": "stream",
     "text": [
      "요약 진행 중:  42%|████▏     | 993/2388 [37:28<39:01,  1.68s/it]"
     ]
    },
    {
     "name": "stdout",
     "output_type": "stream",
     "text": [
      "994/2388 행 요약 완료\n"
     ]
    },
    {
     "name": "stderr",
     "output_type": "stream",
     "text": [
      "요약 진행 중:  42%|████▏     | 994/2388 [37:30<44:52,  1.93s/it]"
     ]
    },
    {
     "name": "stdout",
     "output_type": "stream",
     "text": [
      "995/2388 행 요약 완료\n"
     ]
    },
    {
     "name": "stderr",
     "output_type": "stream",
     "text": [
      "요약 진행 중:  42%|████▏     | 995/2388 [37:33<51:56,  2.24s/it]"
     ]
    },
    {
     "name": "stdout",
     "output_type": "stream",
     "text": [
      "996/2388 행 요약 완료\n"
     ]
    },
    {
     "name": "stderr",
     "output_type": "stream",
     "text": [
      "요약 진행 중:  42%|████▏     | 996/2388 [37:35<47:36,  2.05s/it]"
     ]
    },
    {
     "name": "stdout",
     "output_type": "stream",
     "text": [
      "997/2388 행 요약 완료\n"
     ]
    },
    {
     "name": "stderr",
     "output_type": "stream",
     "text": [
      "요약 진행 중:  42%|████▏     | 997/2388 [37:37<44:29,  1.92s/it]"
     ]
    },
    {
     "name": "stdout",
     "output_type": "stream",
     "text": [
      "998/2388 행 요약 완료\n"
     ]
    },
    {
     "name": "stderr",
     "output_type": "stream",
     "text": [
      "요약 진행 중:  42%|████▏     | 998/2388 [37:38<38:25,  1.66s/it]"
     ]
    },
    {
     "name": "stdout",
     "output_type": "stream",
     "text": [
      "999/2388 행 요약 완료\n"
     ]
    },
    {
     "name": "stderr",
     "output_type": "stream",
     "text": [
      "요약 진행 중:  42%|████▏     | 999/2388 [37:40<44:58,  1.94s/it]"
     ]
    },
    {
     "name": "stdout",
     "output_type": "stream",
     "text": [
      "1000/2388 행 요약 완료\n"
     ]
    },
    {
     "name": "stderr",
     "output_type": "stream",
     "text": [
      "요약 진행 중:  42%|████▏     | 1000/2388 [37:44<56:28,  2.44s/it]"
     ]
    },
    {
     "name": "stdout",
     "output_type": "stream",
     "text": [
      "1001/2388 행 요약 완료\n"
     ]
    },
    {
     "name": "stderr",
     "output_type": "stream",
     "text": [
      "요약 진행 중:  42%|████▏     | 1001/2388 [37:45<47:33,  2.06s/it]"
     ]
    },
    {
     "name": "stdout",
     "output_type": "stream",
     "text": [
      "1002/2388 행 요약 완료\n"
     ]
    },
    {
     "name": "stderr",
     "output_type": "stream",
     "text": [
      "요약 진행 중:  42%|████▏     | 1002/2388 [37:47<43:35,  1.89s/it]"
     ]
    },
    {
     "name": "stdout",
     "output_type": "stream",
     "text": [
      "1003/2388 행 요약 완료\n"
     ]
    },
    {
     "name": "stderr",
     "output_type": "stream",
     "text": [
      "요약 진행 중:  42%|████▏     | 1003/2388 [37:48<42:28,  1.84s/it]"
     ]
    },
    {
     "name": "stdout",
     "output_type": "stream",
     "text": [
      "1004/2388 행 요약 완료\n"
     ]
    },
    {
     "name": "stderr",
     "output_type": "stream",
     "text": [
      "요약 진행 중:  42%|████▏     | 1004/2388 [37:52<54:00,  2.34s/it]"
     ]
    },
    {
     "name": "stdout",
     "output_type": "stream",
     "text": [
      "1005/2388 행 요약 완료\n"
     ]
    },
    {
     "name": "stderr",
     "output_type": "stream",
     "text": [
      "요약 진행 중:  42%|████▏     | 1005/2388 [37:53<48:39,  2.11s/it]"
     ]
    },
    {
     "name": "stdout",
     "output_type": "stream",
     "text": [
      "1006/2388 행 요약 완료\n"
     ]
    },
    {
     "name": "stderr",
     "output_type": "stream",
     "text": [
      "요약 진행 중:  42%|████▏     | 1006/2388 [37:56<50:48,  2.21s/it]"
     ]
    },
    {
     "name": "stdout",
     "output_type": "stream",
     "text": [
      "1007/2388 행 요약 완료\n"
     ]
    },
    {
     "name": "stderr",
     "output_type": "stream",
     "text": [
      "요약 진행 중:  42%|████▏     | 1007/2388 [37:57<44:26,  1.93s/it]"
     ]
    },
    {
     "name": "stdout",
     "output_type": "stream",
     "text": [
      "1008/2388 행 요약 완료\n"
     ]
    },
    {
     "name": "stderr",
     "output_type": "stream",
     "text": [
      "요약 진행 중:  42%|████▏     | 1008/2388 [37:59<40:59,  1.78s/it]"
     ]
    },
    {
     "name": "stdout",
     "output_type": "stream",
     "text": [
      "1009/2388 행 요약 완료\n"
     ]
    },
    {
     "name": "stderr",
     "output_type": "stream",
     "text": [
      "요약 진행 중:  42%|████▏     | 1009/2388 [38:00<39:59,  1.74s/it]"
     ]
    },
    {
     "name": "stdout",
     "output_type": "stream",
     "text": [
      "1010/2388 행 요약 완료\n"
     ]
    },
    {
     "name": "stderr",
     "output_type": "stream",
     "text": [
      "요약 진행 중:  42%|████▏     | 1010/2388 [38:03<47:04,  2.05s/it]"
     ]
    },
    {
     "name": "stdout",
     "output_type": "stream",
     "text": [
      "1011/2388 행 요약 완료\n"
     ]
    },
    {
     "name": "stderr",
     "output_type": "stream",
     "text": [
      "요약 진행 중:  42%|████▏     | 1011/2388 [38:05<45:46,  1.99s/it]"
     ]
    },
    {
     "name": "stdout",
     "output_type": "stream",
     "text": [
      "1012/2388 행 요약 완료\n"
     ]
    },
    {
     "name": "stderr",
     "output_type": "stream",
     "text": [
      "요약 진행 중:  42%|████▏     | 1012/2388 [38:08<51:40,  2.25s/it]"
     ]
    },
    {
     "name": "stdout",
     "output_type": "stream",
     "text": [
      "1013/2388 행 요약 완료\n"
     ]
    },
    {
     "name": "stderr",
     "output_type": "stream",
     "text": [
      "요약 진행 중:  42%|████▏     | 1013/2388 [38:11<1:01:08,  2.67s/it]"
     ]
    },
    {
     "name": "stdout",
     "output_type": "stream",
     "text": [
      "1014/2388 행 요약 완료\n"
     ]
    },
    {
     "name": "stderr",
     "output_type": "stream",
     "text": [
      "요약 진행 중:  42%|████▏     | 1014/2388 [38:13<51:38,  2.25s/it]  "
     ]
    },
    {
     "name": "stdout",
     "output_type": "stream",
     "text": [
      "1015/2388 행 요약 완료\n"
     ]
    },
    {
     "name": "stderr",
     "output_type": "stream",
     "text": [
      "요약 진행 중:  43%|████▎     | 1015/2388 [38:16<57:17,  2.50s/it]"
     ]
    },
    {
     "name": "stdout",
     "output_type": "stream",
     "text": [
      "1016/2388 행 요약 완료\n"
     ]
    },
    {
     "name": "stderr",
     "output_type": "stream",
     "text": [
      "요약 진행 중:  43%|████▎     | 1016/2388 [38:20<1:09:09,  3.02s/it]"
     ]
    },
    {
     "name": "stdout",
     "output_type": "stream",
     "text": [
      "1017/2388 행 요약 완료\n"
     ]
    },
    {
     "name": "stderr",
     "output_type": "stream",
     "text": [
      "요약 진행 중:  43%|████▎     | 1017/2388 [38:23<1:06:06,  2.89s/it]"
     ]
    },
    {
     "name": "stdout",
     "output_type": "stream",
     "text": [
      "1018/2388 행 요약 완료\n"
     ]
    },
    {
     "name": "stderr",
     "output_type": "stream",
     "text": [
      "요약 진행 중:  43%|████▎     | 1018/2388 [38:24<59:08,  2.59s/it]  "
     ]
    },
    {
     "name": "stdout",
     "output_type": "stream",
     "text": [
      "1019/2388 행 요약 완료\n"
     ]
    },
    {
     "name": "stderr",
     "output_type": "stream",
     "text": [
      "요약 진행 중:  43%|████▎     | 1019/2388 [38:27<57:24,  2.52s/it]"
     ]
    },
    {
     "name": "stdout",
     "output_type": "stream",
     "text": [
      "1020/2388 행 요약 완료\n"
     ]
    },
    {
     "name": "stderr",
     "output_type": "stream",
     "text": [
      "요약 진행 중:  43%|████▎     | 1020/2388 [38:29<57:09,  2.51s/it]"
     ]
    },
    {
     "name": "stdout",
     "output_type": "stream",
     "text": [
      "1021/2388 행 요약 완료\n"
     ]
    },
    {
     "name": "stderr",
     "output_type": "stream",
     "text": [
      "요약 진행 중:  43%|████▎     | 1021/2388 [38:31<49:57,  2.19s/it]"
     ]
    },
    {
     "name": "stdout",
     "output_type": "stream",
     "text": [
      "1022/2388 행 요약 완료\n"
     ]
    },
    {
     "name": "stderr",
     "output_type": "stream",
     "text": [
      "요약 진행 중:  43%|████▎     | 1022/2388 [38:33<48:45,  2.14s/it]"
     ]
    },
    {
     "name": "stdout",
     "output_type": "stream",
     "text": [
      "1023/2388 행 요약 완료\n"
     ]
    },
    {
     "name": "stderr",
     "output_type": "stream",
     "text": [
      "요약 진행 중:  43%|████▎     | 1023/2388 [38:34<45:09,  1.99s/it]"
     ]
    },
    {
     "name": "stdout",
     "output_type": "stream",
     "text": [
      "1024/2388 행 요약 완료\n"
     ]
    },
    {
     "name": "stderr",
     "output_type": "stream",
     "text": [
      "요약 진행 중:  43%|████▎     | 1024/2388 [38:36<42:15,  1.86s/it]"
     ]
    },
    {
     "name": "stdout",
     "output_type": "stream",
     "text": [
      "1025/2388 행 요약 완료\n"
     ]
    },
    {
     "name": "stderr",
     "output_type": "stream",
     "text": [
      "요약 진행 중:  43%|████▎     | 1025/2388 [38:37<39:54,  1.76s/it]"
     ]
    },
    {
     "name": "stdout",
     "output_type": "stream",
     "text": [
      "1026/2388 행 요약 완료\n"
     ]
    },
    {
     "name": "stderr",
     "output_type": "stream",
     "text": [
      "요약 진행 중:  43%|████▎     | 1026/2388 [38:39<41:13,  1.82s/it]"
     ]
    },
    {
     "name": "stdout",
     "output_type": "stream",
     "text": [
      "1027/2388 행 요약 완료\n"
     ]
    },
    {
     "name": "stderr",
     "output_type": "stream",
     "text": [
      "요약 진행 중:  43%|████▎     | 1027/2388 [38:42<46:22,  2.04s/it]"
     ]
    },
    {
     "name": "stdout",
     "output_type": "stream",
     "text": [
      "1028/2388 행 요약 완료\n"
     ]
    },
    {
     "name": "stderr",
     "output_type": "stream",
     "text": [
      "요약 진행 중:  43%|████▎     | 1028/2388 [38:45<53:28,  2.36s/it]"
     ]
    },
    {
     "name": "stdout",
     "output_type": "stream",
     "text": [
      "1029/2388 행 요약 완료\n"
     ]
    },
    {
     "name": "stderr",
     "output_type": "stream",
     "text": [
      "요약 진행 중:  43%|████▎     | 1029/2388 [38:48<58:52,  2.60s/it]"
     ]
    },
    {
     "name": "stdout",
     "output_type": "stream",
     "text": [
      "1030/2388 행 요약 완료\n"
     ]
    },
    {
     "name": "stderr",
     "output_type": "stream",
     "text": [
      "요약 진행 중:  43%|████▎     | 1030/2388 [38:52<1:05:21,  2.89s/it]"
     ]
    },
    {
     "name": "stdout",
     "output_type": "stream",
     "text": [
      "1031/2388 행 요약 완료\n"
     ]
    },
    {
     "name": "stderr",
     "output_type": "stream",
     "text": [
      "요약 진행 중:  43%|████▎     | 1031/2388 [38:55<1:07:31,  2.99s/it]"
     ]
    },
    {
     "name": "stdout",
     "output_type": "stream",
     "text": [
      "1032/2388 행 요약 완료\n"
     ]
    },
    {
     "name": "stderr",
     "output_type": "stream",
     "text": [
      "요약 진행 중:  43%|████▎     | 1032/2388 [38:57<58:52,  2.61s/it]  "
     ]
    },
    {
     "name": "stdout",
     "output_type": "stream",
     "text": [
      "1033/2388 행 요약 완료\n"
     ]
    },
    {
     "name": "stderr",
     "output_type": "stream",
     "text": [
      "요약 진행 중:  43%|████▎     | 1033/2388 [38:58<50:34,  2.24s/it]"
     ]
    },
    {
     "name": "stdout",
     "output_type": "stream",
     "text": [
      "1034/2388 행 요약 완료\n"
     ]
    },
    {
     "name": "stderr",
     "output_type": "stream",
     "text": [
      "요약 진행 중:  43%|████▎     | 1034/2388 [39:00<47:00,  2.08s/it]"
     ]
    },
    {
     "name": "stdout",
     "output_type": "stream",
     "text": [
      "1035/2388 행 요약 완료\n"
     ]
    },
    {
     "name": "stderr",
     "output_type": "stream",
     "text": [
      "요약 진행 중:  43%|████▎     | 1035/2388 [39:02<45:54,  2.04s/it]"
     ]
    },
    {
     "name": "stdout",
     "output_type": "stream",
     "text": [
      "1036/2388 행 요약 완료\n"
     ]
    },
    {
     "name": "stderr",
     "output_type": "stream",
     "text": [
      "요약 진행 중:  43%|████▎     | 1036/2388 [39:04<45:07,  2.00s/it]"
     ]
    },
    {
     "name": "stdout",
     "output_type": "stream",
     "text": [
      "1037/2388 행 요약 완료\n"
     ]
    },
    {
     "name": "stderr",
     "output_type": "stream",
     "text": [
      "요약 진행 중:  43%|████▎     | 1037/2388 [39:06<48:43,  2.16s/it]"
     ]
    },
    {
     "name": "stdout",
     "output_type": "stream",
     "text": [
      "1038/2388 행 요약 완료\n"
     ]
    },
    {
     "name": "stderr",
     "output_type": "stream",
     "text": [
      "요약 진행 중:  43%|████▎     | 1038/2388 [39:09<53:50,  2.39s/it]"
     ]
    },
    {
     "name": "stdout",
     "output_type": "stream",
     "text": [
      "1039/2388 행 요약 완료\n"
     ]
    },
    {
     "name": "stderr",
     "output_type": "stream",
     "text": [
      "요약 진행 중:  44%|████▎     | 1039/2388 [39:11<52:23,  2.33s/it]"
     ]
    },
    {
     "name": "stdout",
     "output_type": "stream",
     "text": [
      "1040/2388 행 요약 완료\n"
     ]
    },
    {
     "name": "stderr",
     "output_type": "stream",
     "text": [
      "요약 진행 중:  44%|████▎     | 1040/2388 [39:13<49:49,  2.22s/it]"
     ]
    },
    {
     "name": "stdout",
     "output_type": "stream",
     "text": [
      "1041/2388 행 요약 완료\n"
     ]
    },
    {
     "name": "stderr",
     "output_type": "stream",
     "text": [
      "요약 진행 중:  44%|████▎     | 1041/2388 [39:17<59:06,  2.63s/it]"
     ]
    },
    {
     "name": "stdout",
     "output_type": "stream",
     "text": [
      "1042/2388 행 요약 완료\n"
     ]
    },
    {
     "name": "stderr",
     "output_type": "stream",
     "text": [
      "요약 진행 중:  44%|████▎     | 1042/2388 [39:19<57:39,  2.57s/it]"
     ]
    },
    {
     "name": "stdout",
     "output_type": "stream",
     "text": [
      "1043/2388 행 요약 완료\n"
     ]
    },
    {
     "name": "stderr",
     "output_type": "stream",
     "text": [
      "요약 진행 중:  44%|████▎     | 1043/2388 [39:21<50:02,  2.23s/it]"
     ]
    },
    {
     "name": "stdout",
     "output_type": "stream",
     "text": [
      "1044/2388 행 요약 완료\n"
     ]
    },
    {
     "name": "stderr",
     "output_type": "stream",
     "text": [
      "요약 진행 중:  44%|████▎     | 1044/2388 [39:22<46:20,  2.07s/it]"
     ]
    },
    {
     "name": "stdout",
     "output_type": "stream",
     "text": [
      "1045/2388 행 요약 완료\n"
     ]
    },
    {
     "name": "stderr",
     "output_type": "stream",
     "text": [
      "요약 진행 중:  44%|████▍     | 1045/2388 [39:24<44:13,  1.98s/it]"
     ]
    },
    {
     "name": "stdout",
     "output_type": "stream",
     "text": [
      "1046/2388 행 요약 완료\n"
     ]
    },
    {
     "name": "stderr",
     "output_type": "stream",
     "text": [
      "요약 진행 중:  44%|████▍     | 1046/2388 [39:27<47:05,  2.11s/it]"
     ]
    },
    {
     "name": "stdout",
     "output_type": "stream",
     "text": [
      "1047/2388 행 요약 완료\n"
     ]
    },
    {
     "name": "stderr",
     "output_type": "stream",
     "text": [
      "요약 진행 중:  44%|████▍     | 1047/2388 [39:28<45:16,  2.03s/it]"
     ]
    },
    {
     "name": "stdout",
     "output_type": "stream",
     "text": [
      "1048/2388 행 요약 완료\n"
     ]
    },
    {
     "name": "stderr",
     "output_type": "stream",
     "text": [
      "요약 진행 중:  44%|████▍     | 1048/2388 [39:31<46:43,  2.09s/it]"
     ]
    },
    {
     "name": "stdout",
     "output_type": "stream",
     "text": [
      "1049/2388 행 요약 완료\n"
     ]
    },
    {
     "name": "stderr",
     "output_type": "stream",
     "text": [
      "요약 진행 중:  44%|████▍     | 1049/2388 [39:32<43:00,  1.93s/it]"
     ]
    },
    {
     "name": "stdout",
     "output_type": "stream",
     "text": [
      "1050/2388 행 요약 완료\n"
     ]
    },
    {
     "name": "stderr",
     "output_type": "stream",
     "text": [
      "요약 진행 중:  44%|████▍     | 1050/2388 [39:34<40:31,  1.82s/it]"
     ]
    },
    {
     "name": "stdout",
     "output_type": "stream",
     "text": [
      "1051/2388 행 요약 완료\n"
     ]
    },
    {
     "name": "stderr",
     "output_type": "stream",
     "text": [
      "요약 진행 중:  44%|████▍     | 1051/2388 [39:36<40:15,  1.81s/it]"
     ]
    },
    {
     "name": "stdout",
     "output_type": "stream",
     "text": [
      "1052/2388 행 요약 완료\n"
     ]
    },
    {
     "name": "stderr",
     "output_type": "stream",
     "text": [
      "요약 진행 중:  44%|████▍     | 1052/2388 [39:37<36:08,  1.62s/it]"
     ]
    },
    {
     "name": "stdout",
     "output_type": "stream",
     "text": [
      "1053/2388 행 요약 완료\n"
     ]
    },
    {
     "name": "stderr",
     "output_type": "stream",
     "text": [
      "요약 진행 중:  44%|████▍     | 1053/2388 [39:38<36:30,  1.64s/it]"
     ]
    },
    {
     "name": "stdout",
     "output_type": "stream",
     "text": [
      "1054/2388 행 요약 완료\n"
     ]
    },
    {
     "name": "stderr",
     "output_type": "stream",
     "text": [
      "요약 진행 중:  44%|████▍     | 1054/2388 [39:43<52:53,  2.38s/it]"
     ]
    },
    {
     "name": "stdout",
     "output_type": "stream",
     "text": [
      "1055/2388 행 요약 완료\n"
     ]
    },
    {
     "name": "stderr",
     "output_type": "stream",
     "text": [
      "요약 진행 중:  44%|████▍     | 1055/2388 [39:45<51:29,  2.32s/it]"
     ]
    },
    {
     "name": "stdout",
     "output_type": "stream",
     "text": [
      "1056/2388 행 요약 완료\n"
     ]
    },
    {
     "name": "stderr",
     "output_type": "stream",
     "text": [
      "요약 진행 중:  44%|████▍     | 1056/2388 [39:46<45:37,  2.06s/it]"
     ]
    },
    {
     "name": "stdout",
     "output_type": "stream",
     "text": [
      "1057/2388 행 요약 완료\n"
     ]
    },
    {
     "name": "stderr",
     "output_type": "stream",
     "text": [
      "요약 진행 중:  44%|████▍     | 1057/2388 [39:48<47:00,  2.12s/it]"
     ]
    },
    {
     "name": "stdout",
     "output_type": "stream",
     "text": [
      "1058/2388 행 요약 완료\n"
     ]
    },
    {
     "name": "stderr",
     "output_type": "stream",
     "text": [
      "요약 진행 중:  44%|████▍     | 1058/2388 [39:50<41:37,  1.88s/it]"
     ]
    },
    {
     "name": "stdout",
     "output_type": "stream",
     "text": [
      "1059/2388 행 요약 완료\n"
     ]
    },
    {
     "name": "stderr",
     "output_type": "stream",
     "text": [
      "요약 진행 중:  44%|████▍     | 1059/2388 [39:51<38:25,  1.73s/it]"
     ]
    },
    {
     "name": "stdout",
     "output_type": "stream",
     "text": [
      "1060/2388 행 요약 완료\n"
     ]
    },
    {
     "name": "stderr",
     "output_type": "stream",
     "text": [
      "요약 진행 중:  44%|████▍     | 1060/2388 [39:55<50:35,  2.29s/it]"
     ]
    },
    {
     "name": "stdout",
     "output_type": "stream",
     "text": [
      "1061/2388 행 요약 완료\n"
     ]
    },
    {
     "name": "stderr",
     "output_type": "stream",
     "text": [
      "요약 진행 중:  44%|████▍     | 1061/2388 [39:56<45:16,  2.05s/it]"
     ]
    },
    {
     "name": "stdout",
     "output_type": "stream",
     "text": [
      "1062/2388 행 요약 완료\n"
     ]
    },
    {
     "name": "stderr",
     "output_type": "stream",
     "text": [
      "요약 진행 중:  44%|████▍     | 1062/2388 [40:01<1:00:23,  2.73s/it]"
     ]
    },
    {
     "name": "stdout",
     "output_type": "stream",
     "text": [
      "1063/2388 행 요약 완료\n"
     ]
    },
    {
     "name": "stderr",
     "output_type": "stream",
     "text": [
      "요약 진행 중:  45%|████▍     | 1063/2388 [40:02<52:37,  2.38s/it]  "
     ]
    },
    {
     "name": "stdout",
     "output_type": "stream",
     "text": [
      "1064/2388 행 요약 완료\n"
     ]
    },
    {
     "name": "stderr",
     "output_type": "stream",
     "text": [
      "요약 진행 중:  45%|████▍     | 1064/2388 [40:04<47:22,  2.15s/it]"
     ]
    },
    {
     "name": "stdout",
     "output_type": "stream",
     "text": [
      "1065/2388 행 요약 완료\n"
     ]
    },
    {
     "name": "stderr",
     "output_type": "stream",
     "text": [
      "요약 진행 중:  45%|████▍     | 1065/2388 [40:06<47:58,  2.18s/it]"
     ]
    },
    {
     "name": "stdout",
     "output_type": "stream",
     "text": [
      "1066/2388 행 요약 완료\n"
     ]
    },
    {
     "name": "stderr",
     "output_type": "stream",
     "text": [
      "요약 진행 중:  45%|████▍     | 1066/2388 [40:08<49:32,  2.25s/it]"
     ]
    },
    {
     "name": "stdout",
     "output_type": "stream",
     "text": [
      "1067/2388 행 요약 완료\n"
     ]
    },
    {
     "name": "stderr",
     "output_type": "stream",
     "text": [
      "요약 진행 중:  45%|████▍     | 1067/2388 [40:10<47:57,  2.18s/it]"
     ]
    },
    {
     "name": "stdout",
     "output_type": "stream",
     "text": [
      "1068/2388 행 요약 완료\n"
     ]
    },
    {
     "name": "stderr",
     "output_type": "stream",
     "text": [
      "요약 진행 중:  45%|████▍     | 1068/2388 [40:13<51:38,  2.35s/it]"
     ]
    },
    {
     "name": "stdout",
     "output_type": "stream",
     "text": [
      "1069/2388 행 요약 완료\n"
     ]
    },
    {
     "name": "stderr",
     "output_type": "stream",
     "text": [
      "요약 진행 중:  45%|████▍     | 1069/2388 [40:16<55:50,  2.54s/it]"
     ]
    },
    {
     "name": "stdout",
     "output_type": "stream",
     "text": [
      "1070/2388 행 요약 완료\n"
     ]
    },
    {
     "name": "stderr",
     "output_type": "stream",
     "text": [
      "요약 진행 중:  45%|████▍     | 1070/2388 [40:19<59:47,  2.72s/it]"
     ]
    },
    {
     "name": "stdout",
     "output_type": "stream",
     "text": [
      "1071/2388 행 요약 완료\n"
     ]
    },
    {
     "name": "stderr",
     "output_type": "stream",
     "text": [
      "요약 진행 중:  45%|████▍     | 1071/2388 [40:22<58:27,  2.66s/it]"
     ]
    },
    {
     "name": "stdout",
     "output_type": "stream",
     "text": [
      "1072/2388 행 요약 완료\n"
     ]
    },
    {
     "name": "stderr",
     "output_type": "stream",
     "text": [
      "요약 진행 중:  45%|████▍     | 1072/2388 [40:25<1:03:19,  2.89s/it]"
     ]
    },
    {
     "name": "stdout",
     "output_type": "stream",
     "text": [
      "1073/2388 행 요약 완료\n"
     ]
    },
    {
     "name": "stderr",
     "output_type": "stream",
     "text": [
      "요약 진행 중:  45%|████▍     | 1073/2388 [40:27<59:20,  2.71s/it]  "
     ]
    },
    {
     "name": "stdout",
     "output_type": "stream",
     "text": [
      "1074/2388 행 요약 완료\n"
     ]
    },
    {
     "name": "stderr",
     "output_type": "stream",
     "text": [
      "요약 진행 중:  45%|████▍     | 1074/2388 [40:30<59:06,  2.70s/it]"
     ]
    },
    {
     "name": "stdout",
     "output_type": "stream",
     "text": [
      "1075/2388 행 요약 완료\n"
     ]
    },
    {
     "name": "stderr",
     "output_type": "stream",
     "text": [
      "요약 진행 중:  45%|████▌     | 1075/2388 [40:32<52:55,  2.42s/it]"
     ]
    },
    {
     "name": "stdout",
     "output_type": "stream",
     "text": [
      "1076/2388 행 요약 완료\n"
     ]
    },
    {
     "name": "stderr",
     "output_type": "stream",
     "text": [
      "요약 진행 중:  45%|████▌     | 1076/2388 [40:34<49:21,  2.26s/it]"
     ]
    },
    {
     "name": "stdout",
     "output_type": "stream",
     "text": [
      "1077/2388 행 요약 완료\n"
     ]
    },
    {
     "name": "stderr",
     "output_type": "stream",
     "text": [
      "요약 진행 중:  45%|████▌     | 1077/2388 [40:36<46:27,  2.13s/it]"
     ]
    },
    {
     "name": "stdout",
     "output_type": "stream",
     "text": [
      "1078/2388 행 요약 완료\n"
     ]
    },
    {
     "name": "stderr",
     "output_type": "stream",
     "text": [
      "요약 진행 중:  45%|████▌     | 1078/2388 [40:38<47:10,  2.16s/it]"
     ]
    },
    {
     "name": "stdout",
     "output_type": "stream",
     "text": [
      "1079/2388 행 요약 완료\n"
     ]
    },
    {
     "name": "stderr",
     "output_type": "stream",
     "text": [
      "요약 진행 중:  45%|████▌     | 1079/2388 [40:41<52:41,  2.42s/it]"
     ]
    },
    {
     "name": "stdout",
     "output_type": "stream",
     "text": [
      "1080/2388 행 요약 완료\n"
     ]
    },
    {
     "name": "stderr",
     "output_type": "stream",
     "text": [
      "요약 진행 중:  45%|████▌     | 1080/2388 [40:43<50:50,  2.33s/it]"
     ]
    },
    {
     "name": "stdout",
     "output_type": "stream",
     "text": [
      "1081/2388 행 요약 완료\n"
     ]
    },
    {
     "name": "stderr",
     "output_type": "stream",
     "text": [
      "요약 진행 중:  45%|████▌     | 1081/2388 [40:46<56:20,  2.59s/it]"
     ]
    },
    {
     "name": "stdout",
     "output_type": "stream",
     "text": [
      "1082/2388 행 요약 완료\n"
     ]
    },
    {
     "name": "stderr",
     "output_type": "stream",
     "text": [
      "요약 진행 중:  45%|████▌     | 1082/2388 [40:49<58:27,  2.69s/it]"
     ]
    },
    {
     "name": "stdout",
     "output_type": "stream",
     "text": [
      "1083/2388 행 요약 완료\n"
     ]
    },
    {
     "name": "stderr",
     "output_type": "stream",
     "text": [
      "요약 진행 중:  45%|████▌     | 1083/2388 [40:52<58:22,  2.68s/it]"
     ]
    },
    {
     "name": "stdout",
     "output_type": "stream",
     "text": [
      "1084/2388 행 요약 완료\n"
     ]
    },
    {
     "name": "stderr",
     "output_type": "stream",
     "text": [
      "요약 진행 중:  45%|████▌     | 1084/2388 [40:55<1:02:46,  2.89s/it]"
     ]
    },
    {
     "name": "stdout",
     "output_type": "stream",
     "text": [
      "1085/2388 행 요약 완료\n"
     ]
    },
    {
     "name": "stderr",
     "output_type": "stream",
     "text": [
      "요약 진행 중:  45%|████▌     | 1085/2388 [40:57<52:51,  2.43s/it]  "
     ]
    },
    {
     "name": "stdout",
     "output_type": "stream",
     "text": [
      "1086/2388 행 요약 완료\n"
     ]
    },
    {
     "name": "stderr",
     "output_type": "stream",
     "text": [
      "요약 진행 중:  45%|████▌     | 1086/2388 [41:00<1:01:59,  2.86s/it]"
     ]
    },
    {
     "name": "stdout",
     "output_type": "stream",
     "text": [
      "1087/2388 행 요약 완료\n"
     ]
    },
    {
     "name": "stderr",
     "output_type": "stream",
     "text": [
      "요약 진행 중:  46%|████▌     | 1087/2388 [41:02<54:31,  2.51s/it]  "
     ]
    },
    {
     "name": "stdout",
     "output_type": "stream",
     "text": [
      "1088/2388 행 요약 완료\n"
     ]
    },
    {
     "name": "stderr",
     "output_type": "stream",
     "text": [
      "요약 진행 중:  46%|████▌     | 1088/2388 [41:04<52:59,  2.45s/it]"
     ]
    },
    {
     "name": "stdout",
     "output_type": "stream",
     "text": [
      "1089/2388 행 요약 완료\n"
     ]
    },
    {
     "name": "stderr",
     "output_type": "stream",
     "text": [
      "요약 진행 중:  46%|████▌     | 1089/2388 [41:06<47:09,  2.18s/it]"
     ]
    },
    {
     "name": "stdout",
     "output_type": "stream",
     "text": [
      "1090/2388 행 요약 완료\n"
     ]
    },
    {
     "name": "stderr",
     "output_type": "stream",
     "text": [
      "요약 진행 중:  46%|████▌     | 1090/2388 [41:09<50:58,  2.36s/it]"
     ]
    },
    {
     "name": "stdout",
     "output_type": "stream",
     "text": [
      "1091/2388 행 요약 완료\n"
     ]
    },
    {
     "name": "stderr",
     "output_type": "stream",
     "text": [
      "요약 진행 중:  46%|████▌     | 1091/2388 [41:10<42:28,  1.96s/it]"
     ]
    },
    {
     "name": "stdout",
     "output_type": "stream",
     "text": [
      "1092/2388 행 요약 완료\n"
     ]
    },
    {
     "name": "stderr",
     "output_type": "stream",
     "text": [
      "요약 진행 중:  46%|████▌     | 1092/2388 [41:12<45:28,  2.11s/it]"
     ]
    },
    {
     "name": "stdout",
     "output_type": "stream",
     "text": [
      "1093/2388 행 요약 완료\n"
     ]
    },
    {
     "name": "stderr",
     "output_type": "stream",
     "text": [
      "요약 진행 중:  46%|████▌     | 1093/2388 [41:13<39:19,  1.82s/it]"
     ]
    },
    {
     "name": "stdout",
     "output_type": "stream",
     "text": [
      "1094/2388 행 요약 완료\n"
     ]
    },
    {
     "name": "stderr",
     "output_type": "stream",
     "text": [
      "요약 진행 중:  46%|████▌     | 1094/2388 [41:15<36:41,  1.70s/it]"
     ]
    },
    {
     "name": "stdout",
     "output_type": "stream",
     "text": [
      "1095/2388 행 요약 완료\n"
     ]
    },
    {
     "name": "stderr",
     "output_type": "stream",
     "text": [
      "요약 진행 중:  46%|████▌     | 1095/2388 [41:16<36:09,  1.68s/it]"
     ]
    },
    {
     "name": "stdout",
     "output_type": "stream",
     "text": [
      "1096/2388 행 요약 완료\n"
     ]
    },
    {
     "name": "stderr",
     "output_type": "stream",
     "text": [
      "요약 진행 중:  46%|████▌     | 1096/2388 [41:18<35:00,  1.63s/it]"
     ]
    },
    {
     "name": "stdout",
     "output_type": "stream",
     "text": [
      "1097/2388 행 요약 완료\n"
     ]
    },
    {
     "name": "stderr",
     "output_type": "stream",
     "text": [
      "요약 진행 중:  46%|████▌     | 1097/2388 [41:19<32:50,  1.53s/it]"
     ]
    },
    {
     "name": "stdout",
     "output_type": "stream",
     "text": [
      "1098/2388 행 요약 완료\n"
     ]
    },
    {
     "name": "stderr",
     "output_type": "stream",
     "text": [
      "요약 진행 중:  46%|████▌     | 1098/2388 [41:20<28:44,  1.34s/it]"
     ]
    },
    {
     "name": "stdout",
     "output_type": "stream",
     "text": [
      "1099/2388 행 요약 완료\n"
     ]
    },
    {
     "name": "stderr",
     "output_type": "stream",
     "text": [
      "요약 진행 중:  46%|████▌     | 1099/2388 [41:22<35:40,  1.66s/it]"
     ]
    },
    {
     "name": "stdout",
     "output_type": "stream",
     "text": [
      "1100/2388 행 요약 완료\n"
     ]
    },
    {
     "name": "stderr",
     "output_type": "stream",
     "text": [
      "요약 진행 중:  46%|████▌     | 1100/2388 [41:24<35:25,  1.65s/it]"
     ]
    },
    {
     "name": "stdout",
     "output_type": "stream",
     "text": [
      "1101/2388 행 요약 완료\n"
     ]
    },
    {
     "name": "stderr",
     "output_type": "stream",
     "text": [
      "요약 진행 중:  46%|████▌     | 1101/2388 [41:25<32:08,  1.50s/it]"
     ]
    },
    {
     "name": "stdout",
     "output_type": "stream",
     "text": [
      "1102/2388 행 요약 완료\n"
     ]
    },
    {
     "name": "stderr",
     "output_type": "stream",
     "text": [
      "요약 진행 중:  46%|████▌     | 1102/2388 [41:29<44:39,  2.08s/it]"
     ]
    },
    {
     "name": "stdout",
     "output_type": "stream",
     "text": [
      "1103/2388 행 요약 완료\n"
     ]
    },
    {
     "name": "stderr",
     "output_type": "stream",
     "text": [
      "요약 진행 중:  46%|████▌     | 1103/2388 [41:32<51:15,  2.39s/it]"
     ]
    },
    {
     "name": "stdout",
     "output_type": "stream",
     "text": [
      "1104/2388 행 요약 완료\n"
     ]
    },
    {
     "name": "stderr",
     "output_type": "stream",
     "text": [
      "요약 진행 중:  46%|████▌     | 1104/2388 [41:33<43:09,  2.02s/it]"
     ]
    },
    {
     "name": "stdout",
     "output_type": "stream",
     "text": [
      "1105/2388 행 요약 완료\n"
     ]
    },
    {
     "name": "stderr",
     "output_type": "stream",
     "text": [
      "요약 진행 중:  46%|████▋     | 1105/2388 [41:35<42:49,  2.00s/it]"
     ]
    },
    {
     "name": "stdout",
     "output_type": "stream",
     "text": [
      "1106/2388 행 요약 완료\n"
     ]
    },
    {
     "name": "stderr",
     "output_type": "stream",
     "text": [
      "요약 진행 중:  46%|████▋     | 1106/2388 [41:39<58:25,  2.73s/it]"
     ]
    },
    {
     "name": "stdout",
     "output_type": "stream",
     "text": [
      "1107/2388 행 요약 완료\n"
     ]
    },
    {
     "name": "stderr",
     "output_type": "stream",
     "text": [
      "요약 진행 중:  46%|████▋     | 1107/2388 [41:41<48:55,  2.29s/it]"
     ]
    },
    {
     "name": "stdout",
     "output_type": "stream",
     "text": [
      "1108/2388 행 요약 완료\n"
     ]
    },
    {
     "name": "stderr",
     "output_type": "stream",
     "text": [
      "요약 진행 중:  46%|████▋     | 1108/2388 [41:42<44:35,  2.09s/it]"
     ]
    },
    {
     "name": "stdout",
     "output_type": "stream",
     "text": [
      "1109/2388 행 요약 완료\n"
     ]
    },
    {
     "name": "stderr",
     "output_type": "stream",
     "text": [
      "요약 진행 중:  46%|████▋     | 1109/2388 [41:44<39:49,  1.87s/it]"
     ]
    },
    {
     "name": "stdout",
     "output_type": "stream",
     "text": [
      "1110/2388 행 요약 완료\n"
     ]
    },
    {
     "name": "stderr",
     "output_type": "stream",
     "text": [
      "요약 진행 중:  46%|████▋     | 1110/2388 [41:45<38:48,  1.82s/it]"
     ]
    },
    {
     "name": "stdout",
     "output_type": "stream",
     "text": [
      "1111/2388 행 요약 완료\n"
     ]
    },
    {
     "name": "stderr",
     "output_type": "stream",
     "text": [
      "요약 진행 중:  47%|████▋     | 1111/2388 [41:48<43:47,  2.06s/it]"
     ]
    },
    {
     "name": "stdout",
     "output_type": "stream",
     "text": [
      "1112/2388 행 요약 완료\n"
     ]
    },
    {
     "name": "stderr",
     "output_type": "stream",
     "text": [
      "요약 진행 중:  47%|████▋     | 1112/2388 [41:50<42:49,  2.01s/it]"
     ]
    },
    {
     "name": "stdout",
     "output_type": "stream",
     "text": [
      "1113/2388 행 요약 완료\n"
     ]
    },
    {
     "name": "stderr",
     "output_type": "stream",
     "text": [
      "요약 진행 중:  47%|████▋     | 1113/2388 [41:51<36:37,  1.72s/it]"
     ]
    },
    {
     "name": "stdout",
     "output_type": "stream",
     "text": [
      "1114/2388 행 요약 완료\n"
     ]
    },
    {
     "name": "stderr",
     "output_type": "stream",
     "text": [
      "요약 진행 중:  47%|████▋     | 1114/2388 [41:53<40:26,  1.90s/it]"
     ]
    },
    {
     "name": "stdout",
     "output_type": "stream",
     "text": [
      "1115/2388 행 요약 완료\n"
     ]
    },
    {
     "name": "stderr",
     "output_type": "stream",
     "text": [
      "요약 진행 중:  47%|████▋     | 1115/2388 [41:55<40:10,  1.89s/it]"
     ]
    },
    {
     "name": "stdout",
     "output_type": "stream",
     "text": [
      "1116/2388 행 요약 완료\n"
     ]
    },
    {
     "name": "stderr",
     "output_type": "stream",
     "text": [
      "요약 진행 중:  47%|████▋     | 1116/2388 [41:56<36:13,  1.71s/it]"
     ]
    },
    {
     "name": "stdout",
     "output_type": "stream",
     "text": [
      "1117/2388 행 요약 완료\n"
     ]
    },
    {
     "name": "stderr",
     "output_type": "stream",
     "text": [
      "요약 진행 중:  47%|████▋     | 1117/2388 [41:59<43:11,  2.04s/it]"
     ]
    },
    {
     "name": "stdout",
     "output_type": "stream",
     "text": [
      "1118/2388 행 요약 완료\n"
     ]
    },
    {
     "name": "stderr",
     "output_type": "stream",
     "text": [
      "요약 진행 중:  47%|████▋     | 1118/2388 [42:01<41:16,  1.95s/it]"
     ]
    },
    {
     "name": "stdout",
     "output_type": "stream",
     "text": [
      "1119/2388 행 요약 완료\n"
     ]
    },
    {
     "name": "stderr",
     "output_type": "stream",
     "text": [
      "요약 진행 중:  47%|████▋     | 1119/2388 [42:02<36:26,  1.72s/it]"
     ]
    },
    {
     "name": "stdout",
     "output_type": "stream",
     "text": [
      "1120/2388 행 요약 완료\n"
     ]
    },
    {
     "name": "stderr",
     "output_type": "stream",
     "text": [
      "요약 진행 중:  47%|████▋     | 1120/2388 [42:04<40:41,  1.93s/it]"
     ]
    },
    {
     "name": "stdout",
     "output_type": "stream",
     "text": [
      "1121/2388 행 요약 완료\n"
     ]
    },
    {
     "name": "stderr",
     "output_type": "stream",
     "text": [
      "요약 진행 중:  47%|████▋     | 1121/2388 [42:07<41:26,  1.96s/it]"
     ]
    },
    {
     "name": "stdout",
     "output_type": "stream",
     "text": [
      "1122/2388 행 요약 완료\n"
     ]
    },
    {
     "name": "stderr",
     "output_type": "stream",
     "text": [
      "요약 진행 중:  47%|████▋     | 1122/2388 [42:08<36:58,  1.75s/it]"
     ]
    },
    {
     "name": "stdout",
     "output_type": "stream",
     "text": [
      "1123/2388 행 요약 완료\n"
     ]
    },
    {
     "name": "stderr",
     "output_type": "stream",
     "text": [
      "요약 진행 중:  47%|████▋     | 1123/2388 [42:10<36:37,  1.74s/it]"
     ]
    },
    {
     "name": "stdout",
     "output_type": "stream",
     "text": [
      "1124/2388 행 요약 완료\n"
     ]
    },
    {
     "name": "stderr",
     "output_type": "stream",
     "text": [
      "요약 진행 중:  47%|████▋     | 1124/2388 [42:11<32:34,  1.55s/it]"
     ]
    },
    {
     "name": "stdout",
     "output_type": "stream",
     "text": [
      "1125/2388 행 요약 완료\n"
     ]
    },
    {
     "name": "stderr",
     "output_type": "stream",
     "text": [
      "요약 진행 중:  47%|████▋     | 1125/2388 [42:12<31:32,  1.50s/it]"
     ]
    },
    {
     "name": "stdout",
     "output_type": "stream",
     "text": [
      "1126/2388 행 요약 완료\n"
     ]
    },
    {
     "name": "stderr",
     "output_type": "stream",
     "text": [
      "요약 진행 중:  47%|████▋     | 1126/2388 [42:13<30:53,  1.47s/it]"
     ]
    },
    {
     "name": "stdout",
     "output_type": "stream",
     "text": [
      "1127/2388 행 요약 완료\n"
     ]
    },
    {
     "name": "stderr",
     "output_type": "stream",
     "text": [
      "요약 진행 중:  47%|████▋     | 1127/2388 [42:15<30:05,  1.43s/it]"
     ]
    },
    {
     "name": "stdout",
     "output_type": "stream",
     "text": [
      "1128/2388 행 요약 완료\n"
     ]
    },
    {
     "name": "stderr",
     "output_type": "stream",
     "text": [
      "요약 진행 중:  47%|████▋     | 1128/2388 [42:16<31:01,  1.48s/it]"
     ]
    },
    {
     "name": "stdout",
     "output_type": "stream",
     "text": [
      "1129/2388 행 요약 완료\n"
     ]
    },
    {
     "name": "stderr",
     "output_type": "stream",
     "text": [
      "요약 진행 중:  47%|████▋     | 1129/2388 [42:19<36:06,  1.72s/it]"
     ]
    },
    {
     "name": "stdout",
     "output_type": "stream",
     "text": [
      "1130/2388 행 요약 완료\n"
     ]
    },
    {
     "name": "stderr",
     "output_type": "stream",
     "text": [
      "요약 진행 중:  47%|████▋     | 1130/2388 [42:21<38:38,  1.84s/it]"
     ]
    },
    {
     "name": "stdout",
     "output_type": "stream",
     "text": [
      "1131/2388 행 요약 완료\n"
     ]
    },
    {
     "name": "stderr",
     "output_type": "stream",
     "text": [
      "요약 진행 중:  47%|████▋     | 1131/2388 [42:22<36:02,  1.72s/it]"
     ]
    },
    {
     "name": "stdout",
     "output_type": "stream",
     "text": [
      "1132/2388 행 요약 완료\n"
     ]
    },
    {
     "name": "stderr",
     "output_type": "stream",
     "text": [
      "요약 진행 중:  47%|████▋     | 1132/2388 [42:24<33:49,  1.62s/it]"
     ]
    },
    {
     "name": "stdout",
     "output_type": "stream",
     "text": [
      "1133/2388 행 요약 완료\n"
     ]
    },
    {
     "name": "stderr",
     "output_type": "stream",
     "text": [
      "요약 진행 중:  47%|████▋     | 1133/2388 [42:25<33:48,  1.62s/it]"
     ]
    },
    {
     "name": "stdout",
     "output_type": "stream",
     "text": [
      "1134/2388 행 요약 완료\n"
     ]
    },
    {
     "name": "stderr",
     "output_type": "stream",
     "text": [
      "요약 진행 중:  47%|████▋     | 1134/2388 [42:28<38:58,  1.86s/it]"
     ]
    },
    {
     "name": "stdout",
     "output_type": "stream",
     "text": [
      "1135/2388 행 요약 완료\n"
     ]
    },
    {
     "name": "stderr",
     "output_type": "stream",
     "text": [
      "요약 진행 중:  48%|████▊     | 1135/2388 [42:29<35:05,  1.68s/it]"
     ]
    },
    {
     "name": "stdout",
     "output_type": "stream",
     "text": [
      "1136/2388 행 요약 완료\n"
     ]
    },
    {
     "name": "stderr",
     "output_type": "stream",
     "text": [
      "요약 진행 중:  48%|████▊     | 1136/2388 [42:32<42:46,  2.05s/it]"
     ]
    },
    {
     "name": "stdout",
     "output_type": "stream",
     "text": [
      "1137/2388 행 요약 완료\n"
     ]
    },
    {
     "name": "stderr",
     "output_type": "stream",
     "text": [
      "요약 진행 중:  48%|████▊     | 1137/2388 [42:35<47:21,  2.27s/it]"
     ]
    },
    {
     "name": "stdout",
     "output_type": "stream",
     "text": [
      "1138/2388 행 요약 완료\n"
     ]
    },
    {
     "name": "stderr",
     "output_type": "stream",
     "text": [
      "요약 진행 중:  48%|████▊     | 1138/2388 [42:37<48:10,  2.31s/it]"
     ]
    },
    {
     "name": "stdout",
     "output_type": "stream",
     "text": [
      "1139/2388 행 요약 완료\n"
     ]
    },
    {
     "name": "stderr",
     "output_type": "stream",
     "text": [
      "요약 진행 중:  48%|████▊     | 1139/2388 [42:39<43:31,  2.09s/it]"
     ]
    },
    {
     "name": "stdout",
     "output_type": "stream",
     "text": [
      "1140/2388 행 요약 완료\n"
     ]
    },
    {
     "name": "stderr",
     "output_type": "stream",
     "text": [
      "요약 진행 중:  48%|████▊     | 1140/2388 [42:40<37:21,  1.80s/it]"
     ]
    },
    {
     "name": "stdout",
     "output_type": "stream",
     "text": [
      "1141/2388 행 요약 완료\n"
     ]
    },
    {
     "name": "stderr",
     "output_type": "stream",
     "text": [
      "요약 진행 중:  48%|████▊     | 1141/2388 [42:41<37:04,  1.78s/it]"
     ]
    },
    {
     "name": "stdout",
     "output_type": "stream",
     "text": [
      "1142/2388 행 요약 완료\n"
     ]
    },
    {
     "name": "stderr",
     "output_type": "stream",
     "text": [
      "요약 진행 중:  48%|████▊     | 1142/2388 [42:43<32:54,  1.58s/it]"
     ]
    },
    {
     "name": "stdout",
     "output_type": "stream",
     "text": [
      "1143/2388 행 요약 완료\n"
     ]
    },
    {
     "name": "stderr",
     "output_type": "stream",
     "text": [
      "요약 진행 중:  48%|████▊     | 1143/2388 [42:44<32:46,  1.58s/it]"
     ]
    },
    {
     "name": "stdout",
     "output_type": "stream",
     "text": [
      "1144/2388 행 요약 완료\n"
     ]
    },
    {
     "name": "stderr",
     "output_type": "stream",
     "text": [
      "요약 진행 중:  48%|████▊     | 1144/2388 [42:46<32:38,  1.57s/it]"
     ]
    },
    {
     "name": "stdout",
     "output_type": "stream",
     "text": [
      "1145/2388 행 요약 완료\n"
     ]
    },
    {
     "name": "stderr",
     "output_type": "stream",
     "text": [
      "요약 진행 중:  48%|████▊     | 1145/2388 [42:47<30:04,  1.45s/it]"
     ]
    },
    {
     "name": "stdout",
     "output_type": "stream",
     "text": [
      "1146/2388 행 요약 완료\n"
     ]
    },
    {
     "name": "stderr",
     "output_type": "stream",
     "text": [
      "요약 진행 중:  48%|████▊     | 1146/2388 [42:49<33:37,  1.62s/it]"
     ]
    },
    {
     "name": "stdout",
     "output_type": "stream",
     "text": [
      "1147/2388 행 요약 완료\n"
     ]
    },
    {
     "name": "stderr",
     "output_type": "stream",
     "text": [
      "요약 진행 중:  48%|████▊     | 1147/2388 [42:51<38:36,  1.87s/it]"
     ]
    },
    {
     "name": "stdout",
     "output_type": "stream",
     "text": [
      "1148/2388 행 요약 완료\n"
     ]
    },
    {
     "name": "stderr",
     "output_type": "stream",
     "text": [
      "요약 진행 중:  48%|████▊     | 1148/2388 [42:56<53:29,  2.59s/it]"
     ]
    },
    {
     "name": "stdout",
     "output_type": "stream",
     "text": [
      "1149/2388 행 요약 완료\n"
     ]
    },
    {
     "name": "stderr",
     "output_type": "stream",
     "text": [
      "요약 진행 중:  48%|████▊     | 1149/2388 [42:57<47:49,  2.32s/it]"
     ]
    },
    {
     "name": "stdout",
     "output_type": "stream",
     "text": [
      "1150/2388 행 요약 완료\n"
     ]
    },
    {
     "name": "stderr",
     "output_type": "stream",
     "text": [
      "요약 진행 중:  48%|████▊     | 1150/2388 [43:00<50:22,  2.44s/it]"
     ]
    },
    {
     "name": "stdout",
     "output_type": "stream",
     "text": [
      "1151/2388 행 요약 완료\n"
     ]
    },
    {
     "name": "stderr",
     "output_type": "stream",
     "text": [
      "요약 진행 중:  48%|████▊     | 1151/2388 [43:01<41:07,  2.00s/it]"
     ]
    },
    {
     "name": "stdout",
     "output_type": "stream",
     "text": [
      "1152/2388 행 요약 완료\n"
     ]
    },
    {
     "name": "stderr",
     "output_type": "stream",
     "text": [
      "요약 진행 중:  48%|████▊     | 1152/2388 [43:02<38:01,  1.85s/it]"
     ]
    },
    {
     "name": "stdout",
     "output_type": "stream",
     "text": [
      "1153/2388 행 요약 완료\n"
     ]
    },
    {
     "name": "stderr",
     "output_type": "stream",
     "text": [
      "요약 진행 중:  48%|████▊     | 1153/2388 [43:05<44:11,  2.15s/it]"
     ]
    },
    {
     "name": "stdout",
     "output_type": "stream",
     "text": [
      "1154/2388 행 요약 완료\n"
     ]
    },
    {
     "name": "stderr",
     "output_type": "stream",
     "text": [
      "요약 진행 중:  48%|████▊     | 1154/2388 [43:08<45:37,  2.22s/it]"
     ]
    },
    {
     "name": "stdout",
     "output_type": "stream",
     "text": [
      "1155/2388 행 요약 완료\n"
     ]
    },
    {
     "name": "stderr",
     "output_type": "stream",
     "text": [
      "요약 진행 중:  48%|████▊     | 1155/2388 [43:10<46:55,  2.28s/it]"
     ]
    },
    {
     "name": "stdout",
     "output_type": "stream",
     "text": [
      "1156/2388 행 요약 완료\n"
     ]
    },
    {
     "name": "stderr",
     "output_type": "stream",
     "text": [
      "요약 진행 중:  48%|████▊     | 1156/2388 [43:13<51:47,  2.52s/it]"
     ]
    },
    {
     "name": "stdout",
     "output_type": "stream",
     "text": [
      "1157/2388 행 요약 완료\n"
     ]
    },
    {
     "name": "stderr",
     "output_type": "stream",
     "text": [
      "요약 진행 중:  48%|████▊     | 1157/2388 [43:17<1:01:17,  2.99s/it]"
     ]
    },
    {
     "name": "stdout",
     "output_type": "stream",
     "text": [
      "1158/2388 행 요약 완료\n"
     ]
    },
    {
     "name": "stderr",
     "output_type": "stream",
     "text": [
      "요약 진행 중:  48%|████▊     | 1158/2388 [43:22<1:11:16,  3.48s/it]"
     ]
    },
    {
     "name": "stdout",
     "output_type": "stream",
     "text": [
      "1159/2388 행 요약 완료\n"
     ]
    },
    {
     "name": "stderr",
     "output_type": "stream",
     "text": [
      "요약 진행 중:  49%|████▊     | 1159/2388 [43:23<59:50,  2.92s/it]  "
     ]
    },
    {
     "name": "stdout",
     "output_type": "stream",
     "text": [
      "1160/2388 행 요약 완료\n"
     ]
    },
    {
     "name": "stderr",
     "output_type": "stream",
     "text": [
      "요약 진행 중:  49%|████▊     | 1160/2388 [43:27<1:04:05,  3.13s/it]"
     ]
    },
    {
     "name": "stdout",
     "output_type": "stream",
     "text": [
      "1161/2388 행 요약 완료\n"
     ]
    },
    {
     "name": "stderr",
     "output_type": "stream",
     "text": [
      "요약 진행 중:  49%|████▊     | 1161/2388 [43:29<56:34,  2.77s/it]  "
     ]
    },
    {
     "name": "stdout",
     "output_type": "stream",
     "text": [
      "1162/2388 행 요약 완료\n"
     ]
    },
    {
     "name": "stderr",
     "output_type": "stream",
     "text": [
      "요약 진행 중:  49%|████▊     | 1162/2388 [43:31<53:27,  2.62s/it]"
     ]
    },
    {
     "name": "stdout",
     "output_type": "stream",
     "text": [
      "1163/2388 행 요약 완료\n"
     ]
    },
    {
     "name": "stderr",
     "output_type": "stream",
     "text": [
      "요약 진행 중:  49%|████▊     | 1163/2388 [43:33<47:04,  2.31s/it]"
     ]
    },
    {
     "name": "stdout",
     "output_type": "stream",
     "text": [
      "1164/2388 행 요약 완료\n"
     ]
    },
    {
     "name": "stderr",
     "output_type": "stream",
     "text": [
      "요약 진행 중:  49%|████▊     | 1164/2388 [43:34<42:14,  2.07s/it]"
     ]
    },
    {
     "name": "stdout",
     "output_type": "stream",
     "text": [
      "1165/2388 행 요약 완료\n"
     ]
    },
    {
     "name": "stderr",
     "output_type": "stream",
     "text": [
      "요약 진행 중:  49%|████▉     | 1165/2388 [43:36<42:30,  2.09s/it]"
     ]
    },
    {
     "name": "stdout",
     "output_type": "stream",
     "text": [
      "1166/2388 행 요약 완료\n"
     ]
    },
    {
     "name": "stderr",
     "output_type": "stream",
     "text": [
      "요약 진행 중:  49%|████▉     | 1166/2388 [43:38<40:50,  2.00s/it]"
     ]
    },
    {
     "name": "stdout",
     "output_type": "stream",
     "text": [
      "1167/2388 행 요약 완료\n"
     ]
    },
    {
     "name": "stderr",
     "output_type": "stream",
     "text": [
      "요약 진행 중:  49%|████▉     | 1167/2388 [43:41<42:57,  2.11s/it]"
     ]
    },
    {
     "name": "stdout",
     "output_type": "stream",
     "text": [
      "1168/2388 행 요약 완료\n"
     ]
    },
    {
     "name": "stderr",
     "output_type": "stream",
     "text": [
      "요약 진행 중:  49%|████▉     | 1168/2388 [43:42<39:05,  1.92s/it]"
     ]
    },
    {
     "name": "stdout",
     "output_type": "stream",
     "text": [
      "1169/2388 행 요약 완료\n"
     ]
    },
    {
     "name": "stderr",
     "output_type": "stream",
     "text": [
      "요약 진행 중:  49%|████▉     | 1169/2388 [43:46<49:30,  2.44s/it]"
     ]
    },
    {
     "name": "stdout",
     "output_type": "stream",
     "text": [
      "1170/2388 행 요약 완료\n"
     ]
    },
    {
     "name": "stderr",
     "output_type": "stream",
     "text": [
      "요약 진행 중:  49%|████▉     | 1170/2388 [43:49<57:09,  2.82s/it]"
     ]
    },
    {
     "name": "stdout",
     "output_type": "stream",
     "text": [
      "1171/2388 행 요약 완료\n"
     ]
    },
    {
     "name": "stderr",
     "output_type": "stream",
     "text": [
      "요약 진행 중:  49%|████▉     | 1171/2388 [43:52<55:57,  2.76s/it]"
     ]
    },
    {
     "name": "stdout",
     "output_type": "stream",
     "text": [
      "1172/2388 행 요약 완료\n"
     ]
    },
    {
     "name": "stderr",
     "output_type": "stream",
     "text": [
      "요약 진행 중:  49%|████▉     | 1172/2388 [43:56<1:01:29,  3.03s/it]"
     ]
    },
    {
     "name": "stdout",
     "output_type": "stream",
     "text": [
      "1173/2388 행 요약 완료\n"
     ]
    },
    {
     "name": "stderr",
     "output_type": "stream",
     "text": [
      "요약 진행 중:  49%|████▉     | 1173/2388 [43:59<1:00:03,  2.97s/it]"
     ]
    },
    {
     "name": "stdout",
     "output_type": "stream",
     "text": [
      "1174/2388 행 요약 완료\n"
     ]
    },
    {
     "name": "stderr",
     "output_type": "stream",
     "text": [
      "요약 진행 중:  49%|████▉     | 1174/2388 [44:01<56:04,  2.77s/it]  "
     ]
    },
    {
     "name": "stdout",
     "output_type": "stream",
     "text": [
      "1175/2388 행 요약 완료\n"
     ]
    },
    {
     "name": "stderr",
     "output_type": "stream",
     "text": [
      "요약 진행 중:  49%|████▉     | 1175/2388 [44:02<47:15,  2.34s/it]"
     ]
    },
    {
     "name": "stdout",
     "output_type": "stream",
     "text": [
      "1176/2388 행 요약 완료\n"
     ]
    },
    {
     "name": "stderr",
     "output_type": "stream",
     "text": [
      "요약 진행 중:  49%|████▉     | 1176/2388 [44:04<44:53,  2.22s/it]"
     ]
    },
    {
     "name": "stdout",
     "output_type": "stream",
     "text": [
      "1177/2388 행 요약 완료\n"
     ]
    },
    {
     "name": "stderr",
     "output_type": "stream",
     "text": [
      "요약 진행 중:  49%|████▉     | 1177/2388 [44:07<45:42,  2.26s/it]"
     ]
    },
    {
     "name": "stdout",
     "output_type": "stream",
     "text": [
      "1178/2388 행 요약 완료\n"
     ]
    },
    {
     "name": "stderr",
     "output_type": "stream",
     "text": [
      "요약 진행 중:  49%|████▉     | 1178/2388 [44:08<41:25,  2.05s/it]"
     ]
    },
    {
     "name": "stdout",
     "output_type": "stream",
     "text": [
      "1179/2388 행 요약 완료\n"
     ]
    },
    {
     "name": "stderr",
     "output_type": "stream",
     "text": [
      "요약 진행 중:  49%|████▉     | 1179/2388 [44:10<42:32,  2.11s/it]"
     ]
    },
    {
     "name": "stdout",
     "output_type": "stream",
     "text": [
      "1180/2388 행 요약 완료\n"
     ]
    },
    {
     "name": "stderr",
     "output_type": "stream",
     "text": [
      "요약 진행 중:  49%|████▉     | 1180/2388 [44:13<43:13,  2.15s/it]"
     ]
    },
    {
     "name": "stdout",
     "output_type": "stream",
     "text": [
      "1181/2388 행 요약 완료\n"
     ]
    },
    {
     "name": "stderr",
     "output_type": "stream",
     "text": [
      "요약 진행 중:  49%|████▉     | 1181/2388 [44:15<43:00,  2.14s/it]"
     ]
    },
    {
     "name": "stdout",
     "output_type": "stream",
     "text": [
      "1182/2388 행 요약 완료\n"
     ]
    },
    {
     "name": "stderr",
     "output_type": "stream",
     "text": [
      "요약 진행 중:  49%|████▉     | 1182/2388 [44:18<50:46,  2.53s/it]"
     ]
    },
    {
     "name": "stdout",
     "output_type": "stream",
     "text": [
      "1183/2388 행 요약 완료\n"
     ]
    },
    {
     "name": "stderr",
     "output_type": "stream",
     "text": [
      "요약 진행 중:  50%|████▉     | 1183/2388 [44:21<55:19,  2.75s/it]"
     ]
    },
    {
     "name": "stdout",
     "output_type": "stream",
     "text": [
      "1184/2388 행 요약 완료\n"
     ]
    },
    {
     "name": "stderr",
     "output_type": "stream",
     "text": [
      "요약 진행 중:  50%|████▉     | 1184/2388 [44:24<51:43,  2.58s/it]"
     ]
    },
    {
     "name": "stdout",
     "output_type": "stream",
     "text": [
      "1185/2388 행 요약 완료\n"
     ]
    },
    {
     "name": "stderr",
     "output_type": "stream",
     "text": [
      "요약 진행 중:  50%|████▉     | 1185/2388 [44:25<42:40,  2.13s/it]"
     ]
    },
    {
     "name": "stdout",
     "output_type": "stream",
     "text": [
      "1186/2388 행 요약 완료\n"
     ]
    },
    {
     "name": "stderr",
     "output_type": "stream",
     "text": [
      "요약 진행 중:  50%|████▉     | 1186/2388 [44:26<38:06,  1.90s/it]"
     ]
    },
    {
     "name": "stdout",
     "output_type": "stream",
     "text": [
      "1187/2388 행 요약 완료\n"
     ]
    },
    {
     "name": "stderr",
     "output_type": "stream",
     "text": [
      "요약 진행 중:  50%|████▉     | 1187/2388 [44:29<42:00,  2.10s/it]"
     ]
    },
    {
     "name": "stdout",
     "output_type": "stream",
     "text": [
      "1188/2388 행 요약 완료\n"
     ]
    },
    {
     "name": "stderr",
     "output_type": "stream",
     "text": [
      "요약 진행 중:  50%|████▉     | 1188/2388 [44:30<40:14,  2.01s/it]"
     ]
    },
    {
     "name": "stdout",
     "output_type": "stream",
     "text": [
      "1189/2388 행 요약 완료\n"
     ]
    },
    {
     "name": "stderr",
     "output_type": "stream",
     "text": [
      "요약 진행 중:  50%|████▉     | 1189/2388 [44:33<41:20,  2.07s/it]"
     ]
    },
    {
     "name": "stdout",
     "output_type": "stream",
     "text": [
      "1190/2388 행 요약 완료\n"
     ]
    },
    {
     "name": "stderr",
     "output_type": "stream",
     "text": [
      "요약 진행 중:  50%|████▉     | 1190/2388 [44:35<42:21,  2.12s/it]"
     ]
    },
    {
     "name": "stdout",
     "output_type": "stream",
     "text": [
      "1191/2388 행 요약 완료\n"
     ]
    },
    {
     "name": "stderr",
     "output_type": "stream",
     "text": [
      "요약 진행 중:  50%|████▉     | 1191/2388 [44:37<41:08,  2.06s/it]"
     ]
    },
    {
     "name": "stdout",
     "output_type": "stream",
     "text": [
      "1192/2388 행 요약 완료\n"
     ]
    },
    {
     "name": "stderr",
     "output_type": "stream",
     "text": [
      "요약 진행 중:  50%|████▉     | 1192/2388 [44:39<44:32,  2.23s/it]"
     ]
    },
    {
     "name": "stdout",
     "output_type": "stream",
     "text": [
      "1193/2388 행 요약 완료\n"
     ]
    },
    {
     "name": "stderr",
     "output_type": "stream",
     "text": [
      "요약 진행 중:  50%|████▉     | 1193/2388 [44:41<39:49,  2.00s/it]"
     ]
    },
    {
     "name": "stdout",
     "output_type": "stream",
     "text": [
      "1194/2388 행 요약 완료\n"
     ]
    },
    {
     "name": "stderr",
     "output_type": "stream",
     "text": [
      "요약 진행 중:  50%|█████     | 1194/2388 [44:42<34:56,  1.76s/it]"
     ]
    },
    {
     "name": "stdout",
     "output_type": "stream",
     "text": [
      "1195/2388 행 요약 완료\n"
     ]
    },
    {
     "name": "stderr",
     "output_type": "stream",
     "text": [
      "요약 진행 중:  50%|█████     | 1195/2388 [44:44<33:09,  1.67s/it]"
     ]
    },
    {
     "name": "stdout",
     "output_type": "stream",
     "text": [
      "1196/2388 행 요약 완료\n"
     ]
    },
    {
     "name": "stderr",
     "output_type": "stream",
     "text": [
      "요약 진행 중:  50%|█████     | 1196/2388 [44:47<42:36,  2.14s/it]"
     ]
    },
    {
     "name": "stdout",
     "output_type": "stream",
     "text": [
      "1197/2388 행 요약 완료\n"
     ]
    },
    {
     "name": "stderr",
     "output_type": "stream",
     "text": [
      "요약 진행 중:  50%|█████     | 1197/2388 [44:48<37:07,  1.87s/it]"
     ]
    },
    {
     "name": "stdout",
     "output_type": "stream",
     "text": [
      "1198/2388 행 요약 완료\n"
     ]
    },
    {
     "name": "stderr",
     "output_type": "stream",
     "text": [
      "요약 진행 중:  50%|█████     | 1198/2388 [44:50<38:05,  1.92s/it]"
     ]
    },
    {
     "name": "stdout",
     "output_type": "stream",
     "text": [
      "1199/2388 행 요약 완료\n"
     ]
    },
    {
     "name": "stderr",
     "output_type": "stream",
     "text": [
      "요약 진행 중:  50%|█████     | 1199/2388 [44:51<33:05,  1.67s/it]"
     ]
    },
    {
     "name": "stdout",
     "output_type": "stream",
     "text": [
      "1200/2388 행 요약 완료\n"
     ]
    },
    {
     "name": "stderr",
     "output_type": "stream",
     "text": [
      "요약 진행 중:  50%|█████     | 1200/2388 [44:53<36:56,  1.87s/it]"
     ]
    },
    {
     "name": "stdout",
     "output_type": "stream",
     "text": [
      "1201/2388 행 요약 완료\n"
     ]
    },
    {
     "name": "stderr",
     "output_type": "stream",
     "text": [
      "요약 진행 중:  50%|█████     | 1201/2388 [44:55<32:37,  1.65s/it]"
     ]
    },
    {
     "name": "stdout",
     "output_type": "stream",
     "text": [
      "1202/2388 행 요약 완료\n"
     ]
    },
    {
     "name": "stderr",
     "output_type": "stream",
     "text": [
      "요약 진행 중:  50%|█████     | 1202/2388 [44:56<28:30,  1.44s/it]"
     ]
    },
    {
     "name": "stdout",
     "output_type": "stream",
     "text": [
      "1203/2388 행 요약 완료\n"
     ]
    },
    {
     "name": "stderr",
     "output_type": "stream",
     "text": [
      "요약 진행 중:  50%|█████     | 1203/2388 [44:57<27:03,  1.37s/it]"
     ]
    },
    {
     "name": "stdout",
     "output_type": "stream",
     "text": [
      "1204/2388 행 요약 완료\n"
     ]
    },
    {
     "name": "stderr",
     "output_type": "stream",
     "text": [
      "요약 진행 중:  50%|█████     | 1204/2388 [44:59<31:51,  1.61s/it]"
     ]
    },
    {
     "name": "stdout",
     "output_type": "stream",
     "text": [
      "1205/2388 행 요약 완료\n"
     ]
    },
    {
     "name": "stderr",
     "output_type": "stream",
     "text": [
      "요약 진행 중:  50%|█████     | 1205/2388 [45:01<34:56,  1.77s/it]"
     ]
    },
    {
     "name": "stdout",
     "output_type": "stream",
     "text": [
      "1206/2388 행 요약 완료\n"
     ]
    },
    {
     "name": "stderr",
     "output_type": "stream",
     "text": [
      "요약 진행 중:  51%|█████     | 1206/2388 [45:03<37:21,  1.90s/it]"
     ]
    },
    {
     "name": "stdout",
     "output_type": "stream",
     "text": [
      "1207/2388 행 요약 완료\n"
     ]
    },
    {
     "name": "stderr",
     "output_type": "stream",
     "text": [
      "요약 진행 중:  51%|█████     | 1207/2388 [45:06<44:24,  2.26s/it]"
     ]
    },
    {
     "name": "stdout",
     "output_type": "stream",
     "text": [
      "1208/2388 행 요약 완료\n"
     ]
    },
    {
     "name": "stderr",
     "output_type": "stream",
     "text": [
      "요약 진행 중:  51%|█████     | 1208/2388 [45:08<42:08,  2.14s/it]"
     ]
    },
    {
     "name": "stdout",
     "output_type": "stream",
     "text": [
      "1209/2388 행 요약 완료\n"
     ]
    },
    {
     "name": "stderr",
     "output_type": "stream",
     "text": [
      "요약 진행 중:  51%|█████     | 1209/2388 [45:10<36:51,  1.88s/it]"
     ]
    },
    {
     "name": "stdout",
     "output_type": "stream",
     "text": [
      "1210/2388 행 요약 완료\n"
     ]
    },
    {
     "name": "stderr",
     "output_type": "stream",
     "text": [
      "요약 진행 중:  51%|█████     | 1210/2388 [45:12<41:44,  2.13s/it]"
     ]
    },
    {
     "name": "stdout",
     "output_type": "stream",
     "text": [
      "1211/2388 행 요약 완료\n"
     ]
    },
    {
     "name": "stderr",
     "output_type": "stream",
     "text": [
      "요약 진행 중:  51%|█████     | 1211/2388 [45:15<42:54,  2.19s/it]"
     ]
    },
    {
     "name": "stdout",
     "output_type": "stream",
     "text": [
      "1212/2388 행 요약 완료\n"
     ]
    },
    {
     "name": "stderr",
     "output_type": "stream",
     "text": [
      "요약 진행 중:  51%|█████     | 1212/2388 [45:17<44:38,  2.28s/it]"
     ]
    },
    {
     "name": "stdout",
     "output_type": "stream",
     "text": [
      "1213/2388 행 요약 완료\n"
     ]
    },
    {
     "name": "stderr",
     "output_type": "stream",
     "text": [
      "요약 진행 중:  51%|█████     | 1213/2388 [45:21<52:24,  2.68s/it]"
     ]
    },
    {
     "name": "stdout",
     "output_type": "stream",
     "text": [
      "1214/2388 행 요약 완료\n"
     ]
    },
    {
     "name": "stderr",
     "output_type": "stream",
     "text": [
      "요약 진행 중:  51%|█████     | 1214/2388 [45:24<56:32,  2.89s/it]"
     ]
    },
    {
     "name": "stdout",
     "output_type": "stream",
     "text": [
      "1215/2388 행 요약 완료\n"
     ]
    },
    {
     "name": "stderr",
     "output_type": "stream",
     "text": [
      "요약 진행 중:  51%|█████     | 1215/2388 [45:26<53:39,  2.74s/it]"
     ]
    },
    {
     "name": "stdout",
     "output_type": "stream",
     "text": [
      "1216/2388 행 요약 완료\n"
     ]
    },
    {
     "name": "stderr",
     "output_type": "stream",
     "text": [
      "요약 진행 중:  51%|█████     | 1216/2388 [45:30<1:01:09,  3.13s/it]"
     ]
    },
    {
     "name": "stdout",
     "output_type": "stream",
     "text": [
      "1217/2388 행 요약 완료\n"
     ]
    },
    {
     "name": "stderr",
     "output_type": "stream",
     "text": [
      "요약 진행 중:  51%|█████     | 1217/2388 [45:33<58:52,  3.02s/it]  "
     ]
    },
    {
     "name": "stdout",
     "output_type": "stream",
     "text": [
      "1218/2388 행 요약 완료\n"
     ]
    },
    {
     "name": "stderr",
     "output_type": "stream",
     "text": [
      "요약 진행 중:  51%|█████     | 1218/2388 [45:36<59:07,  3.03s/it]"
     ]
    },
    {
     "name": "stdout",
     "output_type": "stream",
     "text": [
      "1219/2388 행 요약 완료\n"
     ]
    },
    {
     "name": "stderr",
     "output_type": "stream",
     "text": [
      "요약 진행 중:  51%|█████     | 1219/2388 [45:39<58:19,  2.99s/it]"
     ]
    },
    {
     "name": "stdout",
     "output_type": "stream",
     "text": [
      "1220/2388 행 요약 완료\n"
     ]
    },
    {
     "name": "stderr",
     "output_type": "stream",
     "text": [
      "요약 진행 중:  51%|█████     | 1220/2388 [45:43<1:00:24,  3.10s/it]"
     ]
    },
    {
     "name": "stdout",
     "output_type": "stream",
     "text": [
      "1221/2388 행 요약 완료\n"
     ]
    },
    {
     "name": "stderr",
     "output_type": "stream",
     "text": [
      "요약 진행 중:  51%|█████     | 1221/2388 [45:44<50:03,  2.57s/it]  "
     ]
    },
    {
     "name": "stdout",
     "output_type": "stream",
     "text": [
      "1222/2388 행 요약 완료\n"
     ]
    },
    {
     "name": "stderr",
     "output_type": "stream",
     "text": [
      "요약 진행 중:  51%|█████     | 1222/2388 [45:46<45:37,  2.35s/it]"
     ]
    },
    {
     "name": "stdout",
     "output_type": "stream",
     "text": [
      "1223/2388 행 요약 완료\n"
     ]
    },
    {
     "name": "stderr",
     "output_type": "stream",
     "text": [
      "요약 진행 중:  51%|█████     | 1223/2388 [45:47<38:23,  1.98s/it]"
     ]
    },
    {
     "name": "stdout",
     "output_type": "stream",
     "text": [
      "1224/2388 행 요약 완료\n"
     ]
    },
    {
     "name": "stderr",
     "output_type": "stream",
     "text": [
      "요약 진행 중:  51%|█████▏    | 1224/2388 [45:48<34:57,  1.80s/it]"
     ]
    },
    {
     "name": "stdout",
     "output_type": "stream",
     "text": [
      "1225/2388 행 요약 완료\n"
     ]
    },
    {
     "name": "stderr",
     "output_type": "stream",
     "text": [
      "요약 진행 중:  51%|█████▏    | 1225/2388 [45:50<33:25,  1.72s/it]"
     ]
    },
    {
     "name": "stdout",
     "output_type": "stream",
     "text": [
      "1226/2388 행 요약 완료\n"
     ]
    },
    {
     "name": "stderr",
     "output_type": "stream",
     "text": [
      "요약 진행 중:  51%|█████▏    | 1226/2388 [45:54<47:12,  2.44s/it]"
     ]
    },
    {
     "name": "stdout",
     "output_type": "stream",
     "text": [
      "1227/2388 행 요약 완료\n"
     ]
    },
    {
     "name": "stderr",
     "output_type": "stream",
     "text": [
      "요약 진행 중:  51%|█████▏    | 1227/2388 [45:55<39:55,  2.06s/it]"
     ]
    },
    {
     "name": "stdout",
     "output_type": "stream",
     "text": [
      "1228/2388 행 요약 완료\n"
     ]
    },
    {
     "name": "stderr",
     "output_type": "stream",
     "text": [
      "요약 진행 중:  51%|█████▏    | 1228/2388 [45:58<44:59,  2.33s/it]"
     ]
    },
    {
     "name": "stdout",
     "output_type": "stream",
     "text": [
      "1229/2388 행 요약 완료\n"
     ]
    },
    {
     "name": "stderr",
     "output_type": "stream",
     "text": [
      "요약 진행 중:  51%|█████▏    | 1229/2388 [46:01<47:36,  2.46s/it]"
     ]
    },
    {
     "name": "stdout",
     "output_type": "stream",
     "text": [
      "1230/2388 행 요약 완료\n"
     ]
    },
    {
     "name": "stderr",
     "output_type": "stream",
     "text": [
      "요약 진행 중:  52%|█████▏    | 1230/2388 [46:02<41:00,  2.12s/it]"
     ]
    },
    {
     "name": "stdout",
     "output_type": "stream",
     "text": [
      "1231/2388 행 요약 완료\n"
     ]
    },
    {
     "name": "stderr",
     "output_type": "stream",
     "text": [
      "요약 진행 중:  52%|█████▏    | 1231/2388 [46:05<43:04,  2.23s/it]"
     ]
    },
    {
     "name": "stdout",
     "output_type": "stream",
     "text": [
      "1232/2388 행 요약 완료\n"
     ]
    },
    {
     "name": "stderr",
     "output_type": "stream",
     "text": [
      "요약 진행 중:  52%|█████▏    | 1232/2388 [46:09<53:35,  2.78s/it]"
     ]
    },
    {
     "name": "stdout",
     "output_type": "stream",
     "text": [
      "1233/2388 행 요약 완료\n"
     ]
    },
    {
     "name": "stderr",
     "output_type": "stream",
     "text": [
      "요약 진행 중:  52%|█████▏    | 1233/2388 [46:12<56:15,  2.92s/it]"
     ]
    },
    {
     "name": "stdout",
     "output_type": "stream",
     "text": [
      "1234/2388 행 요약 완료\n"
     ]
    },
    {
     "name": "stderr",
     "output_type": "stream",
     "text": [
      "요약 진행 중:  52%|█████▏    | 1234/2388 [46:14<52:19,  2.72s/it]"
     ]
    },
    {
     "name": "stdout",
     "output_type": "stream",
     "text": [
      "1235/2388 행 요약 완료\n"
     ]
    },
    {
     "name": "stderr",
     "output_type": "stream",
     "text": [
      "요약 진행 중:  52%|█████▏    | 1235/2388 [46:16<46:19,  2.41s/it]"
     ]
    },
    {
     "name": "stdout",
     "output_type": "stream",
     "text": [
      "1236/2388 행 요약 완료\n"
     ]
    },
    {
     "name": "stderr",
     "output_type": "stream",
     "text": [
      "요약 진행 중:  52%|█████▏    | 1236/2388 [46:17<40:26,  2.11s/it]"
     ]
    },
    {
     "name": "stdout",
     "output_type": "stream",
     "text": [
      "1237/2388 행 요약 완료\n"
     ]
    },
    {
     "name": "stderr",
     "output_type": "stream",
     "text": [
      "요약 진행 중:  52%|█████▏    | 1237/2388 [46:19<36:24,  1.90s/it]"
     ]
    },
    {
     "name": "stdout",
     "output_type": "stream",
     "text": [
      "1238/2388 행 요약 완료\n"
     ]
    },
    {
     "name": "stderr",
     "output_type": "stream",
     "text": [
      "요약 진행 중:  52%|█████▏    | 1238/2388 [46:21<38:56,  2.03s/it]"
     ]
    },
    {
     "name": "stdout",
     "output_type": "stream",
     "text": [
      "1239/2388 행 요약 완료\n"
     ]
    },
    {
     "name": "stderr",
     "output_type": "stream",
     "text": [
      "요약 진행 중:  52%|█████▏    | 1239/2388 [46:24<44:04,  2.30s/it]"
     ]
    },
    {
     "name": "stdout",
     "output_type": "stream",
     "text": [
      "1240/2388 행 요약 완료\n"
     ]
    },
    {
     "name": "stderr",
     "output_type": "stream",
     "text": [
      "요약 진행 중:  52%|█████▏    | 1240/2388 [46:25<39:12,  2.05s/it]"
     ]
    },
    {
     "name": "stdout",
     "output_type": "stream",
     "text": [
      "1241/2388 행 요약 완료\n"
     ]
    },
    {
     "name": "stderr",
     "output_type": "stream",
     "text": [
      "요약 진행 중:  52%|█████▏    | 1241/2388 [46:28<40:04,  2.10s/it]"
     ]
    },
    {
     "name": "stdout",
     "output_type": "stream",
     "text": [
      "1242/2388 행 요약 완료\n"
     ]
    },
    {
     "name": "stderr",
     "output_type": "stream",
     "text": [
      "요약 진행 중:  52%|█████▏    | 1242/2388 [46:31<45:51,  2.40s/it]"
     ]
    },
    {
     "name": "stdout",
     "output_type": "stream",
     "text": [
      "1243/2388 행 요약 완료\n"
     ]
    },
    {
     "name": "stderr",
     "output_type": "stream",
     "text": [
      "요약 진행 중:  52%|█████▏    | 1243/2388 [46:32<38:53,  2.04s/it]"
     ]
    },
    {
     "name": "stdout",
     "output_type": "stream",
     "text": [
      "1244/2388 행 요약 완료\n"
     ]
    },
    {
     "name": "stderr",
     "output_type": "stream",
     "text": [
      "요약 진행 중:  52%|█████▏    | 1244/2388 [46:33<33:48,  1.77s/it]"
     ]
    },
    {
     "name": "stdout",
     "output_type": "stream",
     "text": [
      "1245/2388 행 요약 완료\n"
     ]
    },
    {
     "name": "stderr",
     "output_type": "stream",
     "text": [
      "요약 진행 중:  52%|█████▏    | 1245/2388 [46:35<32:43,  1.72s/it]"
     ]
    },
    {
     "name": "stdout",
     "output_type": "stream",
     "text": [
      "1246/2388 행 요약 완료\n"
     ]
    },
    {
     "name": "stderr",
     "output_type": "stream",
     "text": [
      "요약 진행 중:  52%|█████▏    | 1246/2388 [46:37<34:57,  1.84s/it]"
     ]
    },
    {
     "name": "stdout",
     "output_type": "stream",
     "text": [
      "1247/2388 행 요약 완료\n"
     ]
    },
    {
     "name": "stderr",
     "output_type": "stream",
     "text": [
      "요약 진행 중:  52%|█████▏    | 1247/2388 [46:38<32:45,  1.72s/it]"
     ]
    },
    {
     "name": "stdout",
     "output_type": "stream",
     "text": [
      "1248/2388 행 요약 완료\n"
     ]
    },
    {
     "name": "stderr",
     "output_type": "stream",
     "text": [
      "요약 진행 중:  52%|█████▏    | 1248/2388 [46:42<43:45,  2.30s/it]"
     ]
    },
    {
     "name": "stdout",
     "output_type": "stream",
     "text": [
      "1249/2388 행 요약 완료\n"
     ]
    },
    {
     "name": "stderr",
     "output_type": "stream",
     "text": [
      "요약 진행 중:  52%|█████▏    | 1249/2388 [46:44<42:46,  2.25s/it]"
     ]
    },
    {
     "name": "stdout",
     "output_type": "stream",
     "text": [
      "1250/2388 행 요약 완료\n"
     ]
    },
    {
     "name": "stderr",
     "output_type": "stream",
     "text": [
      "요약 진행 중:  52%|█████▏    | 1250/2388 [46:45<38:16,  2.02s/it]"
     ]
    },
    {
     "name": "stdout",
     "output_type": "stream",
     "text": [
      "1251/2388 행 요약 완료\n"
     ]
    },
    {
     "name": "stderr",
     "output_type": "stream",
     "text": [
      "요약 진행 중:  52%|█████▏    | 1251/2388 [46:47<37:11,  1.96s/it]"
     ]
    },
    {
     "name": "stdout",
     "output_type": "stream",
     "text": [
      "1252/2388 행 요약 완료\n"
     ]
    },
    {
     "name": "stderr",
     "output_type": "stream",
     "text": [
      "요약 진행 중:  52%|█████▏    | 1252/2388 [46:49<37:41,  1.99s/it]"
     ]
    },
    {
     "name": "stdout",
     "output_type": "stream",
     "text": [
      "1253/2388 행 요약 완료\n"
     ]
    },
    {
     "name": "stderr",
     "output_type": "stream",
     "text": [
      "요약 진행 중:  52%|█████▏    | 1253/2388 [46:51<36:29,  1.93s/it]"
     ]
    },
    {
     "name": "stdout",
     "output_type": "stream",
     "text": [
      "1254/2388 행 요약 완료\n"
     ]
    },
    {
     "name": "stderr",
     "output_type": "stream",
     "text": [
      "요약 진행 중:  53%|█████▎    | 1254/2388 [46:54<41:33,  2.20s/it]"
     ]
    },
    {
     "name": "stdout",
     "output_type": "stream",
     "text": [
      "1255/2388 행 요약 완료\n"
     ]
    },
    {
     "name": "stderr",
     "output_type": "stream",
     "text": [
      "요약 진행 중:  53%|█████▎    | 1255/2388 [46:56<38:58,  2.06s/it]"
     ]
    },
    {
     "name": "stdout",
     "output_type": "stream",
     "text": [
      "1256/2388 행 요약 완료\n"
     ]
    },
    {
     "name": "stderr",
     "output_type": "stream",
     "text": [
      "요약 진행 중:  53%|█████▎    | 1256/2388 [46:58<37:59,  2.01s/it]"
     ]
    },
    {
     "name": "stdout",
     "output_type": "stream",
     "text": [
      "1257/2388 행 요약 완료\n"
     ]
    },
    {
     "name": "stderr",
     "output_type": "stream",
     "text": [
      "요약 진행 중:  53%|█████▎    | 1257/2388 [46:59<32:51,  1.74s/it]"
     ]
    },
    {
     "name": "stdout",
     "output_type": "stream",
     "text": [
      "1258/2388 행 요약 완료\n"
     ]
    },
    {
     "name": "stderr",
     "output_type": "stream",
     "text": [
      "요약 진행 중:  53%|█████▎    | 1258/2388 [47:00<31:49,  1.69s/it]"
     ]
    },
    {
     "name": "stdout",
     "output_type": "stream",
     "text": [
      "1259/2388 행 요약 완료\n"
     ]
    },
    {
     "name": "stderr",
     "output_type": "stream",
     "text": [
      "요약 진행 중:  53%|█████▎    | 1259/2388 [47:03<37:33,  2.00s/it]"
     ]
    },
    {
     "name": "stdout",
     "output_type": "stream",
     "text": [
      "1260/2388 행 요약 완료\n"
     ]
    },
    {
     "name": "stderr",
     "output_type": "stream",
     "text": [
      "요약 진행 중:  53%|█████▎    | 1260/2388 [47:06<41:00,  2.18s/it]"
     ]
    },
    {
     "name": "stdout",
     "output_type": "stream",
     "text": [
      "1261/2388 행 요약 완료\n"
     ]
    },
    {
     "name": "stderr",
     "output_type": "stream",
     "text": [
      "요약 진행 중:  53%|█████▎    | 1261/2388 [47:07<35:58,  1.92s/it]"
     ]
    },
    {
     "name": "stdout",
     "output_type": "stream",
     "text": [
      "1262/2388 행 요약 완료\n"
     ]
    },
    {
     "name": "stderr",
     "output_type": "stream",
     "text": [
      "요약 진행 중:  53%|█████▎    | 1262/2388 [47:09<36:35,  1.95s/it]"
     ]
    },
    {
     "name": "stdout",
     "output_type": "stream",
     "text": [
      "1263/2388 행 요약 완료\n"
     ]
    },
    {
     "name": "stderr",
     "output_type": "stream",
     "text": [
      "요약 진행 중:  53%|█████▎    | 1263/2388 [47:11<36:24,  1.94s/it]"
     ]
    },
    {
     "name": "stdout",
     "output_type": "stream",
     "text": [
      "1264/2388 행 요약 완료\n"
     ]
    },
    {
     "name": "stderr",
     "output_type": "stream",
     "text": [
      "요약 진행 중:  53%|█████▎    | 1264/2388 [47:12<34:18,  1.83s/it]"
     ]
    },
    {
     "name": "stdout",
     "output_type": "stream",
     "text": [
      "1265/2388 행 요약 완료\n"
     ]
    },
    {
     "name": "stderr",
     "output_type": "stream",
     "text": [
      "요약 진행 중:  53%|█████▎    | 1265/2388 [47:14<33:44,  1.80s/it]"
     ]
    },
    {
     "name": "stdout",
     "output_type": "stream",
     "text": [
      "1266/2388 행 요약 완료\n"
     ]
    },
    {
     "name": "stderr",
     "output_type": "stream",
     "text": [
      "요약 진행 중:  53%|█████▎    | 1266/2388 [47:17<39:24,  2.11s/it]"
     ]
    },
    {
     "name": "stdout",
     "output_type": "stream",
     "text": [
      "1267/2388 행 요약 완료\n"
     ]
    },
    {
     "name": "stderr",
     "output_type": "stream",
     "text": [
      "요약 진행 중:  53%|█████▎    | 1267/2388 [47:19<41:04,  2.20s/it]"
     ]
    },
    {
     "name": "stdout",
     "output_type": "stream",
     "text": [
      "1268/2388 행 요약 완료\n"
     ]
    },
    {
     "name": "stderr",
     "output_type": "stream",
     "text": [
      "요약 진행 중:  53%|█████▎    | 1268/2388 [47:22<41:08,  2.20s/it]"
     ]
    },
    {
     "name": "stdout",
     "output_type": "stream",
     "text": [
      "1269/2388 행 요약 완료\n"
     ]
    },
    {
     "name": "stderr",
     "output_type": "stream",
     "text": [
      "요약 진행 중:  53%|█████▎    | 1269/2388 [47:24<41:07,  2.21s/it]"
     ]
    },
    {
     "name": "stdout",
     "output_type": "stream",
     "text": [
      "1270/2388 행 요약 완료\n"
     ]
    },
    {
     "name": "stderr",
     "output_type": "stream",
     "text": [
      "요약 진행 중:  53%|█████▎    | 1270/2388 [47:26<40:39,  2.18s/it]"
     ]
    },
    {
     "name": "stdout",
     "output_type": "stream",
     "text": [
      "1271/2388 행 요약 완료\n"
     ]
    },
    {
     "name": "stderr",
     "output_type": "stream",
     "text": [
      "요약 진행 중:  53%|█████▎    | 1271/2388 [47:28<41:54,  2.25s/it]"
     ]
    },
    {
     "name": "stdout",
     "output_type": "stream",
     "text": [
      "1272/2388 행 요약 완료\n"
     ]
    },
    {
     "name": "stderr",
     "output_type": "stream",
     "text": [
      "요약 진행 중:  53%|█████▎    | 1272/2388 [47:30<40:17,  2.17s/it]"
     ]
    },
    {
     "name": "stdout",
     "output_type": "stream",
     "text": [
      "1273/2388 행 요약 완료\n"
     ]
    },
    {
     "name": "stderr",
     "output_type": "stream",
     "text": [
      "요약 진행 중:  53%|█████▎    | 1273/2388 [47:32<37:22,  2.01s/it]"
     ]
    },
    {
     "name": "stdout",
     "output_type": "stream",
     "text": [
      "1274/2388 행 요약 완료\n"
     ]
    },
    {
     "name": "stderr",
     "output_type": "stream",
     "text": [
      "요약 진행 중:  53%|█████▎    | 1274/2388 [47:35<43:04,  2.32s/it]"
     ]
    },
    {
     "name": "stdout",
     "output_type": "stream",
     "text": [
      "1275/2388 행 요약 완료\n"
     ]
    },
    {
     "name": "stderr",
     "output_type": "stream",
     "text": [
      "요약 진행 중:  53%|█████▎    | 1275/2388 [47:37<43:09,  2.33s/it]"
     ]
    },
    {
     "name": "stdout",
     "output_type": "stream",
     "text": [
      "1276/2388 행 요약 완료\n"
     ]
    },
    {
     "name": "stderr",
     "output_type": "stream",
     "text": [
      "요약 진행 중:  53%|█████▎    | 1276/2388 [47:40<47:31,  2.56s/it]"
     ]
    },
    {
     "name": "stdout",
     "output_type": "stream",
     "text": [
      "1277/2388 행 요약 완료\n"
     ]
    },
    {
     "name": "stderr",
     "output_type": "stream",
     "text": [
      "요약 진행 중:  53%|█████▎    | 1277/2388 [47:44<50:30,  2.73s/it]"
     ]
    },
    {
     "name": "stdout",
     "output_type": "stream",
     "text": [
      "1278/2388 행 요약 완료\n"
     ]
    },
    {
     "name": "stderr",
     "output_type": "stream",
     "text": [
      "요약 진행 중:  54%|█████▎    | 1278/2388 [47:46<50:22,  2.72s/it]"
     ]
    },
    {
     "name": "stdout",
     "output_type": "stream",
     "text": [
      "1279/2388 행 요약 완료\n"
     ]
    },
    {
     "name": "stderr",
     "output_type": "stream",
     "text": [
      "요약 진행 중:  54%|█████▎    | 1279/2388 [47:50<55:01,  2.98s/it]"
     ]
    },
    {
     "name": "stdout",
     "output_type": "stream",
     "text": [
      "1280/2388 행 요약 완료\n"
     ]
    },
    {
     "name": "stderr",
     "output_type": "stream",
     "text": [
      "요약 진행 중:  54%|█████▎    | 1280/2388 [47:53<57:13,  3.10s/it]"
     ]
    },
    {
     "name": "stdout",
     "output_type": "stream",
     "text": [
      "1281/2388 행 요약 완료\n"
     ]
    },
    {
     "name": "stderr",
     "output_type": "stream",
     "text": [
      "요약 진행 중:  54%|█████▎    | 1281/2388 [47:57<58:11,  3.15s/it]"
     ]
    },
    {
     "name": "stdout",
     "output_type": "stream",
     "text": [
      "1282/2388 행 요약 완료\n"
     ]
    },
    {
     "name": "stderr",
     "output_type": "stream",
     "text": [
      "요약 진행 중:  54%|█████▎    | 1282/2388 [48:00<57:11,  3.10s/it]"
     ]
    },
    {
     "name": "stdout",
     "output_type": "stream",
     "text": [
      "1283/2388 행 요약 완료\n"
     ]
    },
    {
     "name": "stderr",
     "output_type": "stream",
     "text": [
      "요약 진행 중:  54%|█████▎    | 1283/2388 [48:01<46:57,  2.55s/it]"
     ]
    },
    {
     "name": "stdout",
     "output_type": "stream",
     "text": [
      "1284/2388 행 요약 완료\n"
     ]
    },
    {
     "name": "stderr",
     "output_type": "stream",
     "text": [
      "요약 진행 중:  54%|█████▍    | 1284/2388 [48:02<41:06,  2.23s/it]"
     ]
    },
    {
     "name": "stdout",
     "output_type": "stream",
     "text": [
      "1285/2388 행 요약 완료\n"
     ]
    },
    {
     "name": "stderr",
     "output_type": "stream",
     "text": [
      "요약 진행 중:  54%|█████▍    | 1285/2388 [48:04<39:50,  2.17s/it]"
     ]
    },
    {
     "name": "stdout",
     "output_type": "stream",
     "text": [
      "1286/2388 행 요약 완료\n"
     ]
    },
    {
     "name": "stderr",
     "output_type": "stream",
     "text": [
      "요약 진행 중:  54%|█████▍    | 1286/2388 [48:06<39:28,  2.15s/it]"
     ]
    },
    {
     "name": "stdout",
     "output_type": "stream",
     "text": [
      "1287/2388 행 요약 완료\n"
     ]
    },
    {
     "name": "stderr",
     "output_type": "stream",
     "text": [
      "요약 진행 중:  54%|█████▍    | 1287/2388 [48:08<34:42,  1.89s/it]"
     ]
    },
    {
     "name": "stdout",
     "output_type": "stream",
     "text": [
      "1288/2388 행 요약 완료\n"
     ]
    },
    {
     "name": "stderr",
     "output_type": "stream",
     "text": [
      "요약 진행 중:  54%|█████▍    | 1288/2388 [48:09<31:44,  1.73s/it]"
     ]
    },
    {
     "name": "stdout",
     "output_type": "stream",
     "text": [
      "1289/2388 행 요약 완료\n"
     ]
    },
    {
     "name": "stderr",
     "output_type": "stream",
     "text": [
      "요약 진행 중:  54%|█████▍    | 1289/2388 [48:11<30:40,  1.67s/it]"
     ]
    },
    {
     "name": "stdout",
     "output_type": "stream",
     "text": [
      "1290/2388 행 요약 완료\n"
     ]
    },
    {
     "name": "stderr",
     "output_type": "stream",
     "text": [
      "요약 진행 중:  54%|█████▍    | 1290/2388 [48:13<33:33,  1.83s/it]"
     ]
    },
    {
     "name": "stdout",
     "output_type": "stream",
     "text": [
      "1291/2388 행 요약 완료\n"
     ]
    },
    {
     "name": "stderr",
     "output_type": "stream",
     "text": [
      "요약 진행 중:  54%|█████▍    | 1291/2388 [48:17<47:50,  2.62s/it]"
     ]
    },
    {
     "name": "stdout",
     "output_type": "stream",
     "text": [
      "1292/2388 행 요약 완료\n"
     ]
    },
    {
     "name": "stderr",
     "output_type": "stream",
     "text": [
      "요약 진행 중:  54%|█████▍    | 1292/2388 [48:19<45:14,  2.48s/it]"
     ]
    },
    {
     "name": "stdout",
     "output_type": "stream",
     "text": [
      "1293/2388 행 요약 완료\n"
     ]
    },
    {
     "name": "stderr",
     "output_type": "stream",
     "text": [
      "요약 진행 중:  54%|█████▍    | 1293/2388 [48:21<40:12,  2.20s/it]"
     ]
    },
    {
     "name": "stdout",
     "output_type": "stream",
     "text": [
      "1294/2388 행 요약 완료\n"
     ]
    },
    {
     "name": "stderr",
     "output_type": "stream",
     "text": [
      "요약 진행 중:  54%|█████▍    | 1294/2388 [48:23<41:54,  2.30s/it]"
     ]
    },
    {
     "name": "stdout",
     "output_type": "stream",
     "text": [
      "1295/2388 행 요약 완료\n"
     ]
    },
    {
     "name": "stderr",
     "output_type": "stream",
     "text": [
      "요약 진행 중:  54%|█████▍    | 1295/2388 [48:25<39:19,  2.16s/it]"
     ]
    },
    {
     "name": "stdout",
     "output_type": "stream",
     "text": [
      "1296/2388 행 요약 완료\n"
     ]
    },
    {
     "name": "stderr",
     "output_type": "stream",
     "text": [
      "요약 진행 중:  54%|█████▍    | 1296/2388 [48:27<34:05,  1.87s/it]"
     ]
    },
    {
     "name": "stdout",
     "output_type": "stream",
     "text": [
      "1297/2388 행 요약 완료\n"
     ]
    },
    {
     "name": "stderr",
     "output_type": "stream",
     "text": [
      "요약 진행 중:  54%|█████▍    | 1297/2388 [48:28<29:50,  1.64s/it]"
     ]
    },
    {
     "name": "stdout",
     "output_type": "stream",
     "text": [
      "1298/2388 행 요약 완료\n"
     ]
    },
    {
     "name": "stderr",
     "output_type": "stream",
     "text": [
      "요약 진행 중:  54%|█████▍    | 1298/2388 [48:30<32:51,  1.81s/it]"
     ]
    },
    {
     "name": "stdout",
     "output_type": "stream",
     "text": [
      "1299/2388 행 요약 완료\n"
     ]
    },
    {
     "name": "stderr",
     "output_type": "stream",
     "text": [
      "요약 진행 중:  54%|█████▍    | 1299/2388 [48:32<35:47,  1.97s/it]"
     ]
    },
    {
     "name": "stdout",
     "output_type": "stream",
     "text": [
      "1300/2388 행 요약 완료\n"
     ]
    },
    {
     "name": "stderr",
     "output_type": "stream",
     "text": [
      "요약 진행 중:  54%|█████▍    | 1300/2388 [48:34<34:35,  1.91s/it]"
     ]
    },
    {
     "name": "stdout",
     "output_type": "stream",
     "text": [
      "1301/2388 행 요약 완료\n"
     ]
    },
    {
     "name": "stderr",
     "output_type": "stream",
     "text": [
      "요약 진행 중:  54%|█████▍    | 1301/2388 [48:36<33:47,  1.87s/it]"
     ]
    },
    {
     "name": "stdout",
     "output_type": "stream",
     "text": [
      "1302/2388 행 요약 완료\n"
     ]
    },
    {
     "name": "stderr",
     "output_type": "stream",
     "text": [
      "요약 진행 중:  55%|█████▍    | 1302/2388 [48:37<30:23,  1.68s/it]"
     ]
    },
    {
     "name": "stdout",
     "output_type": "stream",
     "text": [
      "1303/2388 행 요약 완료\n"
     ]
    },
    {
     "name": "stderr",
     "output_type": "stream",
     "text": [
      "요약 진행 중:  55%|█████▍    | 1303/2388 [48:38<29:16,  1.62s/it]"
     ]
    },
    {
     "name": "stdout",
     "output_type": "stream",
     "text": [
      "1304/2388 행 요약 완료\n"
     ]
    },
    {
     "name": "stderr",
     "output_type": "stream",
     "text": [
      "요약 진행 중:  55%|█████▍    | 1304/2388 [48:41<34:15,  1.90s/it]"
     ]
    },
    {
     "name": "stdout",
     "output_type": "stream",
     "text": [
      "1305/2388 행 요약 완료\n"
     ]
    },
    {
     "name": "stderr",
     "output_type": "stream",
     "text": [
      "요약 진행 중:  55%|█████▍    | 1305/2388 [48:42<31:40,  1.75s/it]"
     ]
    },
    {
     "name": "stdout",
     "output_type": "stream",
     "text": [
      "1306/2388 행 요약 완료\n"
     ]
    },
    {
     "name": "stderr",
     "output_type": "stream",
     "text": [
      "요약 진행 중:  55%|█████▍    | 1306/2388 [48:44<30:36,  1.70s/it]"
     ]
    },
    {
     "name": "stdout",
     "output_type": "stream",
     "text": [
      "1307/2388 행 요약 완료\n"
     ]
    },
    {
     "name": "stderr",
     "output_type": "stream",
     "text": [
      "요약 진행 중:  55%|█████▍    | 1307/2388 [48:47<37:37,  2.09s/it]"
     ]
    },
    {
     "name": "stdout",
     "output_type": "stream",
     "text": [
      "1308/2388 행 요약 완료\n"
     ]
    },
    {
     "name": "stderr",
     "output_type": "stream",
     "text": [
      "요약 진행 중:  55%|█████▍    | 1308/2388 [48:49<38:01,  2.11s/it]"
     ]
    },
    {
     "name": "stdout",
     "output_type": "stream",
     "text": [
      "1309/2388 행 요약 완료\n"
     ]
    },
    {
     "name": "stderr",
     "output_type": "stream",
     "text": [
      "요약 진행 중:  55%|█████▍    | 1309/2388 [48:53<44:59,  2.50s/it]"
     ]
    },
    {
     "name": "stdout",
     "output_type": "stream",
     "text": [
      "1310/2388 행 요약 완료\n"
     ]
    },
    {
     "name": "stderr",
     "output_type": "stream",
     "text": [
      "요약 진행 중:  55%|█████▍    | 1310/2388 [48:54<38:33,  2.15s/it]"
     ]
    },
    {
     "name": "stdout",
     "output_type": "stream",
     "text": [
      "1311/2388 행 요약 완료\n"
     ]
    },
    {
     "name": "stderr",
     "output_type": "stream",
     "text": [
      "요약 진행 중:  55%|█████▍    | 1311/2388 [48:55<34:46,  1.94s/it]"
     ]
    },
    {
     "name": "stdout",
     "output_type": "stream",
     "text": [
      "1312/2388 행 요약 완료\n"
     ]
    },
    {
     "name": "stderr",
     "output_type": "stream",
     "text": [
      "요약 진행 중:  55%|█████▍    | 1312/2388 [48:57<36:09,  2.02s/it]"
     ]
    },
    {
     "name": "stdout",
     "output_type": "stream",
     "text": [
      "1313/2388 행 요약 완료\n"
     ]
    },
    {
     "name": "stderr",
     "output_type": "stream",
     "text": [
      "요약 진행 중:  55%|█████▍    | 1313/2388 [48:59<35:10,  1.96s/it]"
     ]
    },
    {
     "name": "stdout",
     "output_type": "stream",
     "text": [
      "1314/2388 행 요약 완료\n"
     ]
    },
    {
     "name": "stderr",
     "output_type": "stream",
     "text": [
      "요약 진행 중:  55%|█████▌    | 1314/2388 [49:02<36:30,  2.04s/it]"
     ]
    },
    {
     "name": "stdout",
     "output_type": "stream",
     "text": [
      "1315/2388 행 요약 완료\n"
     ]
    },
    {
     "name": "stderr",
     "output_type": "stream",
     "text": [
      "요약 진행 중:  55%|█████▌    | 1315/2388 [49:04<37:41,  2.11s/it]"
     ]
    },
    {
     "name": "stdout",
     "output_type": "stream",
     "text": [
      "1316/2388 행 요약 완료\n"
     ]
    },
    {
     "name": "stderr",
     "output_type": "stream",
     "text": [
      "요약 진행 중:  55%|█████▌    | 1316/2388 [49:08<46:24,  2.60s/it]"
     ]
    },
    {
     "name": "stdout",
     "output_type": "stream",
     "text": [
      "1317/2388 행 요약 완료\n"
     ]
    },
    {
     "name": "stderr",
     "output_type": "stream",
     "text": [
      "요약 진행 중:  55%|█████▌    | 1317/2388 [49:10<47:48,  2.68s/it]"
     ]
    },
    {
     "name": "stdout",
     "output_type": "stream",
     "text": [
      "1318/2388 행 요약 완료\n"
     ]
    },
    {
     "name": "stderr",
     "output_type": "stream",
     "text": [
      "요약 진행 중:  55%|█████▌    | 1318/2388 [49:12<40:22,  2.26s/it]"
     ]
    },
    {
     "name": "stdout",
     "output_type": "stream",
     "text": [
      "1319/2388 행 요약 완료\n"
     ]
    },
    {
     "name": "stderr",
     "output_type": "stream",
     "text": [
      "요약 진행 중:  55%|█████▌    | 1319/2388 [49:15<44:47,  2.51s/it]"
     ]
    },
    {
     "name": "stdout",
     "output_type": "stream",
     "text": [
      "1320/2388 행 요약 완료\n"
     ]
    },
    {
     "name": "stderr",
     "output_type": "stream",
     "text": [
      "요약 진행 중:  55%|█████▌    | 1320/2388 [49:18<47:48,  2.69s/it]"
     ]
    },
    {
     "name": "stdout",
     "output_type": "stream",
     "text": [
      "1321/2388 행 요약 완료\n"
     ]
    },
    {
     "name": "stderr",
     "output_type": "stream",
     "text": [
      "요약 진행 중:  55%|█████▌    | 1321/2388 [49:20<45:32,  2.56s/it]"
     ]
    },
    {
     "name": "stdout",
     "output_type": "stream",
     "text": [
      "1322/2388 행 요약 완료\n"
     ]
    },
    {
     "name": "stderr",
     "output_type": "stream",
     "text": [
      "요약 진행 중:  55%|█████▌    | 1322/2388 [49:23<48:23,  2.72s/it]"
     ]
    },
    {
     "name": "stdout",
     "output_type": "stream",
     "text": [
      "1323/2388 행 요약 완료\n"
     ]
    },
    {
     "name": "stderr",
     "output_type": "stream",
     "text": [
      "요약 진행 중:  55%|█████▌    | 1323/2388 [49:25<44:00,  2.48s/it]"
     ]
    },
    {
     "name": "stdout",
     "output_type": "stream",
     "text": [
      "1324/2388 행 요약 완료\n"
     ]
    },
    {
     "name": "stderr",
     "output_type": "stream",
     "text": [
      "요약 진행 중:  55%|█████▌    | 1324/2388 [49:27<42:59,  2.42s/it]"
     ]
    },
    {
     "name": "stdout",
     "output_type": "stream",
     "text": [
      "1325/2388 행 요약 완료\n"
     ]
    },
    {
     "name": "stderr",
     "output_type": "stream",
     "text": [
      "요약 진행 중:  55%|█████▌    | 1325/2388 [49:29<40:21,  2.28s/it]"
     ]
    },
    {
     "name": "stdout",
     "output_type": "stream",
     "text": [
      "1326/2388 행 요약 완료\n"
     ]
    },
    {
     "name": "stderr",
     "output_type": "stream",
     "text": [
      "요약 진행 중:  56%|█████▌    | 1326/2388 [49:32<40:55,  2.31s/it]"
     ]
    },
    {
     "name": "stdout",
     "output_type": "stream",
     "text": [
      "1327/2388 행 요약 완료\n"
     ]
    },
    {
     "name": "stderr",
     "output_type": "stream",
     "text": [
      "요약 진행 중:  56%|█████▌    | 1327/2388 [49:35<45:03,  2.55s/it]"
     ]
    },
    {
     "name": "stdout",
     "output_type": "stream",
     "text": [
      "1328/2388 행 요약 완료\n"
     ]
    },
    {
     "name": "stderr",
     "output_type": "stream",
     "text": [
      "요약 진행 중:  56%|█████▌    | 1328/2388 [49:37<44:19,  2.51s/it]"
     ]
    },
    {
     "name": "stdout",
     "output_type": "stream",
     "text": [
      "1329/2388 행 요약 완료\n"
     ]
    },
    {
     "name": "stderr",
     "output_type": "stream",
     "text": [
      "요약 진행 중:  56%|█████▌    | 1329/2388 [49:40<45:24,  2.57s/it]"
     ]
    },
    {
     "name": "stdout",
     "output_type": "stream",
     "text": [
      "1330/2388 행 요약 완료\n"
     ]
    },
    {
     "name": "stderr",
     "output_type": "stream",
     "text": [
      "요약 진행 중:  56%|█████▌    | 1330/2388 [49:42<41:50,  2.37s/it]"
     ]
    },
    {
     "name": "stdout",
     "output_type": "stream",
     "text": [
      "1331/2388 행 요약 완료\n"
     ]
    },
    {
     "name": "stderr",
     "output_type": "stream",
     "text": [
      "요약 진행 중:  56%|█████▌    | 1331/2388 [49:43<36:07,  2.05s/it]"
     ]
    },
    {
     "name": "stdout",
     "output_type": "stream",
     "text": [
      "1332/2388 행 요약 완료\n"
     ]
    },
    {
     "name": "stderr",
     "output_type": "stream",
     "text": [
      "요약 진행 중:  56%|█████▌    | 1332/2388 [49:46<40:37,  2.31s/it]"
     ]
    },
    {
     "name": "stdout",
     "output_type": "stream",
     "text": [
      "1333/2388 행 요약 완료\n"
     ]
    },
    {
     "name": "stderr",
     "output_type": "stream",
     "text": [
      "요약 진행 중:  56%|█████▌    | 1333/2388 [49:49<42:31,  2.42s/it]"
     ]
    },
    {
     "name": "stdout",
     "output_type": "stream",
     "text": [
      "1334/2388 행 요약 완료\n"
     ]
    },
    {
     "name": "stderr",
     "output_type": "stream",
     "text": [
      "요약 진행 중:  56%|█████▌    | 1334/2388 [49:50<35:24,  2.02s/it]"
     ]
    },
    {
     "name": "stdout",
     "output_type": "stream",
     "text": [
      "1335/2388 행 요약 완료\n"
     ]
    },
    {
     "name": "stderr",
     "output_type": "stream",
     "text": [
      "요약 진행 중:  56%|█████▌    | 1335/2388 [49:52<35:22,  2.02s/it]"
     ]
    },
    {
     "name": "stdout",
     "output_type": "stream",
     "text": [
      "1336/2388 행 요약 완료\n"
     ]
    },
    {
     "name": "stderr",
     "output_type": "stream",
     "text": [
      "요약 진행 중:  56%|█████▌    | 1336/2388 [49:53<31:35,  1.80s/it]"
     ]
    },
    {
     "name": "stdout",
     "output_type": "stream",
     "text": [
      "1337/2388 행 요약 완료\n"
     ]
    },
    {
     "name": "stderr",
     "output_type": "stream",
     "text": [
      "요약 진행 중:  56%|█████▌    | 1337/2388 [49:56<36:24,  2.08s/it]"
     ]
    },
    {
     "name": "stdout",
     "output_type": "stream",
     "text": [
      "1338/2388 행 요약 완료\n"
     ]
    },
    {
     "name": "stderr",
     "output_type": "stream",
     "text": [
      "요약 진행 중:  56%|█████▌    | 1338/2388 [49:58<36:14,  2.07s/it]"
     ]
    },
    {
     "name": "stdout",
     "output_type": "stream",
     "text": [
      "1339/2388 행 요약 완료\n"
     ]
    },
    {
     "name": "stderr",
     "output_type": "stream",
     "text": [
      "요약 진행 중:  56%|█████▌    | 1339/2388 [50:02<47:43,  2.73s/it]"
     ]
    },
    {
     "name": "stdout",
     "output_type": "stream",
     "text": [
      "1340/2388 행 요약 완료\n"
     ]
    },
    {
     "name": "stderr",
     "output_type": "stream",
     "text": [
      "요약 진행 중:  56%|█████▌    | 1340/2388 [50:05<47:48,  2.74s/it]"
     ]
    },
    {
     "name": "stdout",
     "output_type": "stream",
     "text": [
      "1341/2388 행 요약 완료\n"
     ]
    },
    {
     "name": "stderr",
     "output_type": "stream",
     "text": [
      "요약 진행 중:  56%|█████▌    | 1341/2388 [50:07<42:35,  2.44s/it]"
     ]
    },
    {
     "name": "stdout",
     "output_type": "stream",
     "text": [
      "1342/2388 행 요약 완료\n"
     ]
    },
    {
     "name": "stderr",
     "output_type": "stream",
     "text": [
      "요약 진행 중:  56%|█████▌    | 1342/2388 [50:10<46:02,  2.64s/it]"
     ]
    },
    {
     "name": "stdout",
     "output_type": "stream",
     "text": [
      "1343/2388 행 요약 완료\n"
     ]
    },
    {
     "name": "stderr",
     "output_type": "stream",
     "text": [
      "요약 진행 중:  56%|█████▌    | 1343/2388 [50:11<37:48,  2.17s/it]"
     ]
    },
    {
     "name": "stdout",
     "output_type": "stream",
     "text": [
      "1344/2388 행 요약 완료\n"
     ]
    },
    {
     "name": "stderr",
     "output_type": "stream",
     "text": [
      "요약 진행 중:  56%|█████▋    | 1344/2388 [50:13<35:33,  2.04s/it]"
     ]
    },
    {
     "name": "stdout",
     "output_type": "stream",
     "text": [
      "1345/2388 행 요약 완료\n"
     ]
    },
    {
     "name": "stderr",
     "output_type": "stream",
     "text": [
      "요약 진행 중:  56%|█████▋    | 1345/2388 [50:15<37:28,  2.16s/it]"
     ]
    },
    {
     "name": "stdout",
     "output_type": "stream",
     "text": [
      "1346/2388 행 요약 완료\n"
     ]
    },
    {
     "name": "stderr",
     "output_type": "stream",
     "text": [
      "요약 진행 중:  56%|█████▋    | 1346/2388 [50:19<44:07,  2.54s/it]"
     ]
    },
    {
     "name": "stdout",
     "output_type": "stream",
     "text": [
      "1347/2388 행 요약 완료\n"
     ]
    },
    {
     "name": "stderr",
     "output_type": "stream",
     "text": [
      "요약 진행 중:  56%|█████▋    | 1347/2388 [50:20<40:07,  2.31s/it]"
     ]
    },
    {
     "name": "stdout",
     "output_type": "stream",
     "text": [
      "1348/2388 행 요약 완료\n"
     ]
    },
    {
     "name": "stderr",
     "output_type": "stream",
     "text": [
      "요약 진행 중:  56%|█████▋    | 1348/2388 [50:24<45:05,  2.60s/it]"
     ]
    },
    {
     "name": "stdout",
     "output_type": "stream",
     "text": [
      "1349/2388 행 요약 완료\n"
     ]
    },
    {
     "name": "stderr",
     "output_type": "stream",
     "text": [
      "요약 진행 중:  56%|█████▋    | 1349/2388 [50:27<47:29,  2.74s/it]"
     ]
    },
    {
     "name": "stdout",
     "output_type": "stream",
     "text": [
      "1350/2388 행 요약 완료\n"
     ]
    },
    {
     "name": "stderr",
     "output_type": "stream",
     "text": [
      "요약 진행 중:  57%|█████▋    | 1350/2388 [50:28<42:10,  2.44s/it]"
     ]
    },
    {
     "name": "stdout",
     "output_type": "stream",
     "text": [
      "1351/2388 행 요약 완료\n"
     ]
    },
    {
     "name": "stderr",
     "output_type": "stream",
     "text": [
      "요약 진행 중:  57%|█████▋    | 1351/2388 [50:30<37:29,  2.17s/it]"
     ]
    },
    {
     "name": "stdout",
     "output_type": "stream",
     "text": [
      "1352/2388 행 요약 완료\n"
     ]
    },
    {
     "name": "stderr",
     "output_type": "stream",
     "text": [
      "요약 진행 중:  57%|█████▋    | 1352/2388 [50:32<34:31,  2.00s/it]"
     ]
    },
    {
     "name": "stdout",
     "output_type": "stream",
     "text": [
      "1353/2388 행 요약 완료\n"
     ]
    },
    {
     "name": "stderr",
     "output_type": "stream",
     "text": [
      "요약 진행 중:  57%|█████▋    | 1353/2388 [50:33<34:00,  1.97s/it]"
     ]
    },
    {
     "name": "stdout",
     "output_type": "stream",
     "text": [
      "1354/2388 행 요약 완료\n"
     ]
    },
    {
     "name": "stderr",
     "output_type": "stream",
     "text": [
      "요약 진행 중:  57%|█████▋    | 1354/2388 [50:36<39:17,  2.28s/it]"
     ]
    },
    {
     "name": "stdout",
     "output_type": "stream",
     "text": [
      "1355/2388 행 요약 완료\n"
     ]
    },
    {
     "name": "stderr",
     "output_type": "stream",
     "text": [
      "요약 진행 중:  57%|█████▋    | 1355/2388 [50:38<35:15,  2.05s/it]"
     ]
    },
    {
     "name": "stdout",
     "output_type": "stream",
     "text": [
      "1356/2388 행 요약 완료\n"
     ]
    },
    {
     "name": "stderr",
     "output_type": "stream",
     "text": [
      "요약 진행 중:  57%|█████▋    | 1356/2388 [50:40<34:54,  2.03s/it]"
     ]
    },
    {
     "name": "stdout",
     "output_type": "stream",
     "text": [
      "1357/2388 행 요약 완료\n"
     ]
    },
    {
     "name": "stderr",
     "output_type": "stream",
     "text": [
      "요약 진행 중:  57%|█████▋    | 1357/2388 [50:42<32:38,  1.90s/it]"
     ]
    },
    {
     "name": "stdout",
     "output_type": "stream",
     "text": [
      "1358/2388 행 요약 완료\n"
     ]
    },
    {
     "name": "stderr",
     "output_type": "stream",
     "text": [
      "요약 진행 중:  57%|█████▋    | 1358/2388 [50:44<36:53,  2.15s/it]"
     ]
    },
    {
     "name": "stdout",
     "output_type": "stream",
     "text": [
      "1359/2388 행 요약 완료\n"
     ]
    },
    {
     "name": "stderr",
     "output_type": "stream",
     "text": [
      "요약 진행 중:  57%|█████▋    | 1359/2388 [50:46<31:58,  1.86s/it]"
     ]
    },
    {
     "name": "stdout",
     "output_type": "stream",
     "text": [
      "1360/2388 행 요약 완료\n"
     ]
    },
    {
     "name": "stderr",
     "output_type": "stream",
     "text": [
      "요약 진행 중:  57%|█████▋    | 1360/2388 [50:47<29:53,  1.74s/it]"
     ]
    },
    {
     "name": "stdout",
     "output_type": "stream",
     "text": [
      "1361/2388 행 요약 완료\n"
     ]
    },
    {
     "name": "stderr",
     "output_type": "stream",
     "text": [
      "요약 진행 중:  57%|█████▋    | 1361/2388 [50:50<37:50,  2.21s/it]"
     ]
    },
    {
     "name": "stdout",
     "output_type": "stream",
     "text": [
      "1362/2388 행 요약 완료\n"
     ]
    },
    {
     "name": "stderr",
     "output_type": "stream",
     "text": [
      "요약 진행 중:  57%|█████▋    | 1362/2388 [50:51<31:49,  1.86s/it]"
     ]
    },
    {
     "name": "stdout",
     "output_type": "stream",
     "text": [
      "1363/2388 행 요약 완료\n"
     ]
    },
    {
     "name": "stderr",
     "output_type": "stream",
     "text": [
      "요약 진행 중:  57%|█████▋    | 1363/2388 [50:53<33:02,  1.93s/it]"
     ]
    },
    {
     "name": "stdout",
     "output_type": "stream",
     "text": [
      "1364/2388 행 요약 완료\n"
     ]
    },
    {
     "name": "stderr",
     "output_type": "stream",
     "text": [
      "요약 진행 중:  57%|█████▋    | 1364/2388 [50:56<33:59,  1.99s/it]"
     ]
    },
    {
     "name": "stdout",
     "output_type": "stream",
     "text": [
      "1365/2388 행 요약 완료\n"
     ]
    },
    {
     "name": "stderr",
     "output_type": "stream",
     "text": [
      "요약 진행 중:  57%|█████▋    | 1365/2388 [50:58<35:15,  2.07s/it]"
     ]
    },
    {
     "name": "stdout",
     "output_type": "stream",
     "text": [
      "1366/2388 행 요약 완료\n"
     ]
    },
    {
     "name": "stderr",
     "output_type": "stream",
     "text": [
      "요약 진행 중:  57%|█████▋    | 1366/2388 [51:00<33:45,  1.98s/it]"
     ]
    },
    {
     "name": "stdout",
     "output_type": "stream",
     "text": [
      "1367/2388 행 요약 완료\n"
     ]
    },
    {
     "name": "stderr",
     "output_type": "stream",
     "text": [
      "요약 진행 중:  57%|█████▋    | 1367/2388 [51:02<37:08,  2.18s/it]"
     ]
    },
    {
     "name": "stdout",
     "output_type": "stream",
     "text": [
      "1368/2388 행 요약 완료\n"
     ]
    },
    {
     "name": "stderr",
     "output_type": "stream",
     "text": [
      "요약 진행 중:  57%|█████▋    | 1368/2388 [51:06<46:41,  2.75s/it]"
     ]
    },
    {
     "name": "stdout",
     "output_type": "stream",
     "text": [
      "1369/2388 행 요약 완료\n"
     ]
    },
    {
     "name": "stderr",
     "output_type": "stream",
     "text": [
      "요약 진행 중:  57%|█████▋    | 1369/2388 [51:07<38:12,  2.25s/it]"
     ]
    },
    {
     "name": "stdout",
     "output_type": "stream",
     "text": [
      "1370/2388 행 요약 완료\n"
     ]
    },
    {
     "name": "stderr",
     "output_type": "stream",
     "text": [
      "요약 진행 중:  57%|█████▋    | 1370/2388 [51:11<45:05,  2.66s/it]"
     ]
    },
    {
     "name": "stdout",
     "output_type": "stream",
     "text": [
      "1371/2388 행 요약 완료\n"
     ]
    },
    {
     "name": "stderr",
     "output_type": "stream",
     "text": [
      "요약 진행 중:  57%|█████▋    | 1371/2388 [51:12<39:06,  2.31s/it]"
     ]
    },
    {
     "name": "stdout",
     "output_type": "stream",
     "text": [
      "1372/2388 행 요약 완료\n"
     ]
    },
    {
     "name": "stderr",
     "output_type": "stream",
     "text": [
      "요약 진행 중:  57%|█████▋    | 1372/2388 [51:16<45:08,  2.67s/it]"
     ]
    },
    {
     "name": "stdout",
     "output_type": "stream",
     "text": [
      "1373/2388 행 요약 완료\n"
     ]
    },
    {
     "name": "stderr",
     "output_type": "stream",
     "text": [
      "요약 진행 중:  57%|█████▋    | 1373/2388 [51:19<48:15,  2.85s/it]"
     ]
    },
    {
     "name": "stdout",
     "output_type": "stream",
     "text": [
      "1374/2388 행 요약 완료\n"
     ]
    },
    {
     "name": "stderr",
     "output_type": "stream",
     "text": [
      "요약 진행 중:  58%|█████▊    | 1374/2388 [51:23<53:34,  3.17s/it]"
     ]
    },
    {
     "name": "stdout",
     "output_type": "stream",
     "text": [
      "1375/2388 행 요약 완료\n"
     ]
    },
    {
     "name": "stderr",
     "output_type": "stream",
     "text": [
      "요약 진행 중:  58%|█████▊    | 1375/2388 [51:25<47:14,  2.80s/it]"
     ]
    },
    {
     "name": "stdout",
     "output_type": "stream",
     "text": [
      "1376/2388 행 요약 완료\n"
     ]
    },
    {
     "name": "stderr",
     "output_type": "stream",
     "text": [
      "요약 진행 중:  58%|█████▊    | 1376/2388 [51:28<48:36,  2.88s/it]"
     ]
    },
    {
     "name": "stdout",
     "output_type": "stream",
     "text": [
      "1377/2388 행 요약 완료\n"
     ]
    },
    {
     "name": "stderr",
     "output_type": "stream",
     "text": [
      "요약 진행 중:  58%|█████▊    | 1377/2388 [51:30<41:12,  2.45s/it]"
     ]
    },
    {
     "name": "stdout",
     "output_type": "stream",
     "text": [
      "1378/2388 행 요약 완료\n"
     ]
    },
    {
     "name": "stderr",
     "output_type": "stream",
     "text": [
      "요약 진행 중:  58%|█████▊    | 1378/2388 [51:31<35:02,  2.08s/it]"
     ]
    },
    {
     "name": "stdout",
     "output_type": "stream",
     "text": [
      "1379/2388 행 요약 완료\n"
     ]
    },
    {
     "name": "stderr",
     "output_type": "stream",
     "text": [
      "요약 진행 중:  58%|█████▊    | 1379/2388 [51:32<31:57,  1.90s/it]"
     ]
    },
    {
     "name": "stdout",
     "output_type": "stream",
     "text": [
      "1380/2388 행 요약 완료\n"
     ]
    },
    {
     "name": "stderr",
     "output_type": "stream",
     "text": [
      "요약 진행 중:  58%|█████▊    | 1380/2388 [51:35<38:17,  2.28s/it]"
     ]
    },
    {
     "name": "stdout",
     "output_type": "stream",
     "text": [
      "1381/2388 행 요약 완료\n"
     ]
    },
    {
     "name": "stderr",
     "output_type": "stream",
     "text": [
      "요약 진행 중:  58%|█████▊    | 1381/2388 [51:39<42:46,  2.55s/it]"
     ]
    },
    {
     "name": "stdout",
     "output_type": "stream",
     "text": [
      "1382/2388 행 요약 완료\n"
     ]
    },
    {
     "name": "stderr",
     "output_type": "stream",
     "text": [
      "요약 진행 중:  58%|█████▊    | 1382/2388 [51:40<38:16,  2.28s/it]"
     ]
    },
    {
     "name": "stdout",
     "output_type": "stream",
     "text": [
      "1383/2388 행 요약 완료\n"
     ]
    },
    {
     "name": "stderr",
     "output_type": "stream",
     "text": [
      "요약 진행 중:  58%|█████▊    | 1383/2388 [51:45<48:15,  2.88s/it]"
     ]
    },
    {
     "name": "stdout",
     "output_type": "stream",
     "text": [
      "1384/2388 행 요약 완료\n"
     ]
    },
    {
     "name": "stderr",
     "output_type": "stream",
     "text": [
      "요약 진행 중:  58%|█████▊    | 1384/2388 [51:47<47:38,  2.85s/it]"
     ]
    },
    {
     "name": "stdout",
     "output_type": "stream",
     "text": [
      "1385/2388 행 요약 완료\n"
     ]
    },
    {
     "name": "stderr",
     "output_type": "stream",
     "text": [
      "요약 진행 중:  58%|█████▊    | 1385/2388 [51:49<43:03,  2.58s/it]"
     ]
    },
    {
     "name": "stdout",
     "output_type": "stream",
     "text": [
      "1386/2388 행 요약 완료\n"
     ]
    },
    {
     "name": "stderr",
     "output_type": "stream",
     "text": [
      "요약 진행 중:  58%|█████▊    | 1386/2388 [51:51<39:49,  2.38s/it]"
     ]
    },
    {
     "name": "stdout",
     "output_type": "stream",
     "text": [
      "1387/2388 행 요약 완료\n"
     ]
    },
    {
     "name": "stderr",
     "output_type": "stream",
     "text": [
      "요약 진행 중:  58%|█████▊    | 1387/2388 [51:54<41:20,  2.48s/it]"
     ]
    },
    {
     "name": "stdout",
     "output_type": "stream",
     "text": [
      "1388/2388 행 요약 완료\n"
     ]
    },
    {
     "name": "stderr",
     "output_type": "stream",
     "text": [
      "요약 진행 중:  58%|█████▊    | 1388/2388 [51:56<37:25,  2.25s/it]"
     ]
    },
    {
     "name": "stdout",
     "output_type": "stream",
     "text": [
      "1389/2388 행 요약 완료\n"
     ]
    },
    {
     "name": "stderr",
     "output_type": "stream",
     "text": [
      "요약 진행 중:  58%|█████▊    | 1389/2388 [51:59<42:25,  2.55s/it]"
     ]
    },
    {
     "name": "stdout",
     "output_type": "stream",
     "text": [
      "1390/2388 행 요약 완료\n"
     ]
    },
    {
     "name": "stderr",
     "output_type": "stream",
     "text": [
      "요약 진행 중:  58%|█████▊    | 1390/2388 [52:02<43:11,  2.60s/it]"
     ]
    },
    {
     "name": "stdout",
     "output_type": "stream",
     "text": [
      "1391/2388 행 요약 완료\n"
     ]
    },
    {
     "name": "stderr",
     "output_type": "stream",
     "text": [
      "요약 진행 중:  58%|█████▊    | 1391/2388 [52:05<45:21,  2.73s/it]"
     ]
    },
    {
     "name": "stdout",
     "output_type": "stream",
     "text": [
      "1392/2388 행 요약 완료\n"
     ]
    },
    {
     "name": "stderr",
     "output_type": "stream",
     "text": [
      "요약 진행 중:  58%|█████▊    | 1392/2388 [52:06<39:33,  2.38s/it]"
     ]
    },
    {
     "name": "stdout",
     "output_type": "stream",
     "text": [
      "1393/2388 행 요약 완료\n"
     ]
    },
    {
     "name": "stderr",
     "output_type": "stream",
     "text": [
      "요약 진행 중:  58%|█████▊    | 1393/2388 [52:10<44:20,  2.67s/it]"
     ]
    },
    {
     "name": "stdout",
     "output_type": "stream",
     "text": [
      "1394/2388 행 요약 완료\n"
     ]
    },
    {
     "name": "stderr",
     "output_type": "stream",
     "text": [
      "요약 진행 중:  58%|█████▊    | 1394/2388 [52:12<44:00,  2.66s/it]"
     ]
    },
    {
     "name": "stdout",
     "output_type": "stream",
     "text": [
      "1395/2388 행 요약 완료\n"
     ]
    },
    {
     "name": "stderr",
     "output_type": "stream",
     "text": [
      "요약 진행 중:  58%|█████▊    | 1395/2388 [52:14<38:16,  2.31s/it]"
     ]
    },
    {
     "name": "stdout",
     "output_type": "stream",
     "text": [
      "1396/2388 행 요약 완료\n"
     ]
    },
    {
     "name": "stderr",
     "output_type": "stream",
     "text": [
      "요약 진행 중:  58%|█████▊    | 1396/2388 [52:16<36:29,  2.21s/it]"
     ]
    },
    {
     "name": "stdout",
     "output_type": "stream",
     "text": [
      "1397/2388 행 요약 완료\n"
     ]
    },
    {
     "name": "stderr",
     "output_type": "stream",
     "text": [
      "요약 진행 중:  59%|█████▊    | 1397/2388 [52:17<31:20,  1.90s/it]"
     ]
    },
    {
     "name": "stdout",
     "output_type": "stream",
     "text": [
      "1398/2388 행 요약 완료\n"
     ]
    },
    {
     "name": "stderr",
     "output_type": "stream",
     "text": [
      "요약 진행 중:  59%|█████▊    | 1398/2388 [52:18<27:04,  1.64s/it]"
     ]
    },
    {
     "name": "stdout",
     "output_type": "stream",
     "text": [
      "1399/2388 행 요약 완료\n"
     ]
    },
    {
     "name": "stderr",
     "output_type": "stream",
     "text": [
      "요약 진행 중:  59%|█████▊    | 1399/2388 [52:19<25:48,  1.57s/it]"
     ]
    },
    {
     "name": "stdout",
     "output_type": "stream",
     "text": [
      "1400/2388 행 요약 완료\n"
     ]
    },
    {
     "name": "stderr",
     "output_type": "stream",
     "text": [
      "요약 진행 중:  59%|█████▊    | 1400/2388 [52:21<26:09,  1.59s/it]"
     ]
    },
    {
     "name": "stdout",
     "output_type": "stream",
     "text": [
      "1401/2388 행 요약 완료\n"
     ]
    },
    {
     "name": "stderr",
     "output_type": "stream",
     "text": [
      "요약 진행 중:  59%|█████▊    | 1401/2388 [52:25<37:10,  2.26s/it]"
     ]
    },
    {
     "name": "stdout",
     "output_type": "stream",
     "text": [
      "1402/2388 행 요약 완료\n"
     ]
    },
    {
     "name": "stderr",
     "output_type": "stream",
     "text": [
      "요약 진행 중:  59%|█████▊    | 1402/2388 [52:27<37:25,  2.28s/it]"
     ]
    },
    {
     "name": "stdout",
     "output_type": "stream",
     "text": [
      "1403/2388 행 요약 완료\n"
     ]
    },
    {
     "name": "stderr",
     "output_type": "stream",
     "text": [
      "요약 진행 중:  59%|█████▉    | 1403/2388 [52:29<34:01,  2.07s/it]"
     ]
    },
    {
     "name": "stdout",
     "output_type": "stream",
     "text": [
      "1404/2388 행 요약 완료\n"
     ]
    },
    {
     "name": "stderr",
     "output_type": "stream",
     "text": [
      "요약 진행 중:  59%|█████▉    | 1404/2388 [52:30<30:25,  1.86s/it]"
     ]
    },
    {
     "name": "stdout",
     "output_type": "stream",
     "text": [
      "1405/2388 행 요약 완료\n"
     ]
    },
    {
     "name": "stderr",
     "output_type": "stream",
     "text": [
      "요약 진행 중:  59%|█████▉    | 1405/2388 [52:33<36:23,  2.22s/it]"
     ]
    },
    {
     "name": "stdout",
     "output_type": "stream",
     "text": [
      "1406/2388 행 요약 완료\n"
     ]
    },
    {
     "name": "stderr",
     "output_type": "stream",
     "text": [
      "요약 진행 중:  59%|█████▉    | 1406/2388 [52:36<38:57,  2.38s/it]"
     ]
    },
    {
     "name": "stdout",
     "output_type": "stream",
     "text": [
      "1407/2388 행 요약 완료\n"
     ]
    },
    {
     "name": "stderr",
     "output_type": "stream",
     "text": [
      "요약 진행 중:  59%|█████▉    | 1407/2388 [52:37<34:37,  2.12s/it]"
     ]
    },
    {
     "name": "stdout",
     "output_type": "stream",
     "text": [
      "1408/2388 행 요약 완료\n"
     ]
    },
    {
     "name": "stderr",
     "output_type": "stream",
     "text": [
      "요약 진행 중:  59%|█████▉    | 1408/2388 [52:40<35:16,  2.16s/it]"
     ]
    },
    {
     "name": "stdout",
     "output_type": "stream",
     "text": [
      "1409/2388 행 요약 완료\n"
     ]
    },
    {
     "name": "stderr",
     "output_type": "stream",
     "text": [
      "요약 진행 중:  59%|█████▉    | 1409/2388 [52:41<30:40,  1.88s/it]"
     ]
    },
    {
     "name": "stdout",
     "output_type": "stream",
     "text": [
      "1410/2388 행 요약 완료\n"
     ]
    },
    {
     "name": "stderr",
     "output_type": "stream",
     "text": [
      "요약 진행 중:  59%|█████▉    | 1410/2388 [52:43<32:32,  2.00s/it]"
     ]
    },
    {
     "name": "stdout",
     "output_type": "stream",
     "text": [
      "1411/2388 행 요약 완료\n"
     ]
    },
    {
     "name": "stderr",
     "output_type": "stream",
     "text": [
      "요약 진행 중:  59%|█████▉    | 1411/2388 [52:47<43:05,  2.65s/it]"
     ]
    },
    {
     "name": "stdout",
     "output_type": "stream",
     "text": [
      "1412/2388 행 요약 완료\n"
     ]
    },
    {
     "name": "stderr",
     "output_type": "stream",
     "text": [
      "요약 진행 중:  59%|█████▉    | 1412/2388 [52:49<37:23,  2.30s/it]"
     ]
    },
    {
     "name": "stdout",
     "output_type": "stream",
     "text": [
      "1413/2388 행 요약 완료\n"
     ]
    },
    {
     "name": "stderr",
     "output_type": "stream",
     "text": [
      "요약 진행 중:  59%|█████▉    | 1413/2388 [52:50<33:35,  2.07s/it]"
     ]
    },
    {
     "name": "stdout",
     "output_type": "stream",
     "text": [
      "1414/2388 행 요약 완료\n"
     ]
    },
    {
     "name": "stderr",
     "output_type": "stream",
     "text": [
      "요약 진행 중:  59%|█████▉    | 1414/2388 [52:54<40:04,  2.47s/it]"
     ]
    },
    {
     "name": "stdout",
     "output_type": "stream",
     "text": [
      "1415/2388 행 요약 완료\n"
     ]
    },
    {
     "name": "stderr",
     "output_type": "stream",
     "text": [
      "요약 진행 중:  59%|█████▉    | 1415/2388 [52:56<40:11,  2.48s/it]"
     ]
    },
    {
     "name": "stdout",
     "output_type": "stream",
     "text": [
      "1416/2388 행 요약 완료\n"
     ]
    },
    {
     "name": "stderr",
     "output_type": "stream",
     "text": [
      "요약 진행 중:  59%|█████▉    | 1416/2388 [52:59<42:20,  2.61s/it]"
     ]
    },
    {
     "name": "stdout",
     "output_type": "stream",
     "text": [
      "1417/2388 행 요약 완료\n"
     ]
    },
    {
     "name": "stderr",
     "output_type": "stream",
     "text": [
      "요약 진행 중:  59%|█████▉    | 1417/2388 [53:00<35:35,  2.20s/it]"
     ]
    },
    {
     "name": "stdout",
     "output_type": "stream",
     "text": [
      "1418/2388 행 요약 완료\n"
     ]
    },
    {
     "name": "stderr",
     "output_type": "stream",
     "text": [
      "요약 진행 중:  59%|█████▉    | 1418/2388 [53:03<38:37,  2.39s/it]"
     ]
    },
    {
     "name": "stdout",
     "output_type": "stream",
     "text": [
      "1419/2388 행 요약 완료\n"
     ]
    },
    {
     "name": "stderr",
     "output_type": "stream",
     "text": [
      "요약 진행 중:  59%|█████▉    | 1419/2388 [53:04<32:49,  2.03s/it]"
     ]
    },
    {
     "name": "stdout",
     "output_type": "stream",
     "text": [
      "1420/2388 행 요약 완료\n"
     ]
    },
    {
     "name": "stderr",
     "output_type": "stream",
     "text": [
      "요약 진행 중:  59%|█████▉    | 1420/2388 [53:06<30:09,  1.87s/it]"
     ]
    },
    {
     "name": "stdout",
     "output_type": "stream",
     "text": [
      "1421/2388 행 요약 완료\n"
     ]
    },
    {
     "name": "stderr",
     "output_type": "stream",
     "text": [
      "요약 진행 중:  60%|█████▉    | 1421/2388 [53:07<25:26,  1.58s/it]"
     ]
    },
    {
     "name": "stdout",
     "output_type": "stream",
     "text": [
      "1422/2388 행 요약 완료\n"
     ]
    },
    {
     "name": "stderr",
     "output_type": "stream",
     "text": [
      "요약 진행 중:  60%|█████▉    | 1422/2388 [53:08<24:53,  1.55s/it]"
     ]
    },
    {
     "name": "stdout",
     "output_type": "stream",
     "text": [
      "1423/2388 행 요약 완료\n"
     ]
    },
    {
     "name": "stderr",
     "output_type": "stream",
     "text": [
      "요약 진행 중:  60%|█████▉    | 1423/2388 [53:10<24:41,  1.54s/it]"
     ]
    },
    {
     "name": "stdout",
     "output_type": "stream",
     "text": [
      "1424/2388 행 요약 완료\n"
     ]
    },
    {
     "name": "stderr",
     "output_type": "stream",
     "text": [
      "요약 진행 중:  60%|█████▉    | 1424/2388 [53:12<28:50,  1.79s/it]"
     ]
    },
    {
     "name": "stdout",
     "output_type": "stream",
     "text": [
      "1425/2388 행 요약 완료\n"
     ]
    },
    {
     "name": "stderr",
     "output_type": "stream",
     "text": [
      "요약 진행 중:  60%|█████▉    | 1425/2388 [53:14<26:58,  1.68s/it]"
     ]
    },
    {
     "name": "stdout",
     "output_type": "stream",
     "text": [
      "1426/2388 행 요약 완료\n"
     ]
    },
    {
     "name": "stderr",
     "output_type": "stream",
     "text": [
      "요약 진행 중:  60%|█████▉    | 1426/2388 [53:18<39:52,  2.49s/it]"
     ]
    },
    {
     "name": "stdout",
     "output_type": "stream",
     "text": [
      "1427/2388 행 요약 완료\n"
     ]
    },
    {
     "name": "stderr",
     "output_type": "stream",
     "text": [
      "요약 진행 중:  60%|█████▉    | 1427/2388 [53:20<39:01,  2.44s/it]"
     ]
    },
    {
     "name": "stdout",
     "output_type": "stream",
     "text": [
      "1428/2388 행 요약 완료\n"
     ]
    },
    {
     "name": "stderr",
     "output_type": "stream",
     "text": [
      "요약 진행 중:  60%|█████▉    | 1428/2388 [53:22<36:38,  2.29s/it]"
     ]
    },
    {
     "name": "stdout",
     "output_type": "stream",
     "text": [
      "1429/2388 행 요약 완료\n"
     ]
    },
    {
     "name": "stderr",
     "output_type": "stream",
     "text": [
      "요약 진행 중:  60%|█████▉    | 1429/2388 [53:24<34:06,  2.13s/it]"
     ]
    },
    {
     "name": "stdout",
     "output_type": "stream",
     "text": [
      "1430/2388 행 요약 완료\n"
     ]
    },
    {
     "name": "stderr",
     "output_type": "stream",
     "text": [
      "요약 진행 중:  60%|█████▉    | 1430/2388 [53:27<38:48,  2.43s/it]"
     ]
    },
    {
     "name": "stdout",
     "output_type": "stream",
     "text": [
      "1431/2388 행 요약 완료\n"
     ]
    },
    {
     "name": "stderr",
     "output_type": "stream",
     "text": [
      "요약 진행 중:  60%|█████▉    | 1431/2388 [53:30<39:16,  2.46s/it]"
     ]
    },
    {
     "name": "stdout",
     "output_type": "stream",
     "text": [
      "1432/2388 행 요약 완료\n"
     ]
    },
    {
     "name": "stderr",
     "output_type": "stream",
     "text": [
      "요약 진행 중:  60%|█████▉    | 1432/2388 [53:31<35:13,  2.21s/it]"
     ]
    },
    {
     "name": "stdout",
     "output_type": "stream",
     "text": [
      "1433/2388 행 요약 완료\n"
     ]
    },
    {
     "name": "stderr",
     "output_type": "stream",
     "text": [
      "요약 진행 중:  60%|██████    | 1433/2388 [53:33<32:09,  2.02s/it]"
     ]
    },
    {
     "name": "stdout",
     "output_type": "stream",
     "text": [
      "1434/2388 행 요약 완료\n"
     ]
    },
    {
     "name": "stderr",
     "output_type": "stream",
     "text": [
      "요약 진행 중:  60%|██████    | 1434/2388 [53:34<30:01,  1.89s/it]"
     ]
    },
    {
     "name": "stdout",
     "output_type": "stream",
     "text": [
      "1435/2388 행 요약 완료\n"
     ]
    },
    {
     "name": "stderr",
     "output_type": "stream",
     "text": [
      "요약 진행 중:  60%|██████    | 1435/2388 [53:36<29:28,  1.86s/it]"
     ]
    },
    {
     "name": "stdout",
     "output_type": "stream",
     "text": [
      "1436/2388 행 요약 완료\n"
     ]
    },
    {
     "name": "stderr",
     "output_type": "stream",
     "text": [
      "요약 진행 중:  60%|██████    | 1436/2388 [53:38<28:35,  1.80s/it]"
     ]
    },
    {
     "name": "stdout",
     "output_type": "stream",
     "text": [
      "1437/2388 행 요약 완료\n"
     ]
    },
    {
     "name": "stderr",
     "output_type": "stream",
     "text": [
      "요약 진행 중:  60%|██████    | 1437/2388 [53:39<25:32,  1.61s/it]"
     ]
    },
    {
     "name": "stdout",
     "output_type": "stream",
     "text": [
      "1438/2388 행 요약 완료\n"
     ]
    },
    {
     "name": "stderr",
     "output_type": "stream",
     "text": [
      "요약 진행 중:  60%|██████    | 1438/2388 [53:40<23:56,  1.51s/it]"
     ]
    },
    {
     "name": "stdout",
     "output_type": "stream",
     "text": [
      "1439/2388 행 요약 완료\n"
     ]
    },
    {
     "name": "stderr",
     "output_type": "stream",
     "text": [
      "요약 진행 중:  60%|██████    | 1439/2388 [53:42<23:14,  1.47s/it]"
     ]
    },
    {
     "name": "stdout",
     "output_type": "stream",
     "text": [
      "1440/2388 행 요약 완료\n"
     ]
    },
    {
     "name": "stderr",
     "output_type": "stream",
     "text": [
      "요약 진행 중:  60%|██████    | 1440/2388 [53:43<22:36,  1.43s/it]"
     ]
    },
    {
     "name": "stdout",
     "output_type": "stream",
     "text": [
      "1441/2388 행 요약 완료\n"
     ]
    },
    {
     "name": "stderr",
     "output_type": "stream",
     "text": [
      "요약 진행 중:  60%|██████    | 1441/2388 [53:44<19:39,  1.25s/it]"
     ]
    },
    {
     "name": "stdout",
     "output_type": "stream",
     "text": [
      "1442/2388 행 요약 완료\n"
     ]
    },
    {
     "name": "stderr",
     "output_type": "stream",
     "text": [
      "요약 진행 중:  60%|██████    | 1442/2388 [53:45<19:14,  1.22s/it]"
     ]
    },
    {
     "name": "stdout",
     "output_type": "stream",
     "text": [
      "1443/2388 행 요약 완료\n"
     ]
    },
    {
     "name": "stderr",
     "output_type": "stream",
     "text": [
      "요약 진행 중:  60%|██████    | 1443/2388 [53:48<27:31,  1.75s/it]"
     ]
    },
    {
     "name": "stdout",
     "output_type": "stream",
     "text": [
      "1444/2388 행 요약 완료\n"
     ]
    },
    {
     "name": "stderr",
     "output_type": "stream",
     "text": [
      "요약 진행 중:  60%|██████    | 1444/2388 [53:50<30:38,  1.95s/it]"
     ]
    },
    {
     "name": "stdout",
     "output_type": "stream",
     "text": [
      "1445/2388 행 요약 완료\n"
     ]
    },
    {
     "name": "stderr",
     "output_type": "stream",
     "text": [
      "요약 진행 중:  61%|██████    | 1445/2388 [53:52<29:02,  1.85s/it]"
     ]
    },
    {
     "name": "stdout",
     "output_type": "stream",
     "text": [
      "1446/2388 행 요약 완료\n"
     ]
    },
    {
     "name": "stderr",
     "output_type": "stream",
     "text": [
      "요약 진행 중:  61%|██████    | 1446/2388 [53:53<25:59,  1.66s/it]"
     ]
    },
    {
     "name": "stdout",
     "output_type": "stream",
     "text": [
      "1447/2388 행 요약 완료\n"
     ]
    },
    {
     "name": "stderr",
     "output_type": "stream",
     "text": [
      "요약 진행 중:  61%|██████    | 1447/2388 [53:55<24:49,  1.58s/it]"
     ]
    },
    {
     "name": "stdout",
     "output_type": "stream",
     "text": [
      "1448/2388 행 요약 완료\n"
     ]
    },
    {
     "name": "stderr",
     "output_type": "stream",
     "text": [
      "요약 진행 중:  61%|██████    | 1448/2388 [53:57<29:43,  1.90s/it]"
     ]
    },
    {
     "name": "stdout",
     "output_type": "stream",
     "text": [
      "1449/2388 행 요약 완료\n"
     ]
    },
    {
     "name": "stderr",
     "output_type": "stream",
     "text": [
      "요약 진행 중:  61%|██████    | 1449/2388 [54:00<32:31,  2.08s/it]"
     ]
    },
    {
     "name": "stdout",
     "output_type": "stream",
     "text": [
      "1450/2388 행 요약 완료\n"
     ]
    },
    {
     "name": "stderr",
     "output_type": "stream",
     "text": [
      "요약 진행 중:  61%|██████    | 1450/2388 [54:02<32:14,  2.06s/it]"
     ]
    },
    {
     "name": "stdout",
     "output_type": "stream",
     "text": [
      "1451/2388 행 요약 완료\n"
     ]
    },
    {
     "name": "stderr",
     "output_type": "stream",
     "text": [
      "요약 진행 중:  61%|██████    | 1451/2388 [54:05<36:43,  2.35s/it]"
     ]
    },
    {
     "name": "stdout",
     "output_type": "stream",
     "text": [
      "1452/2388 행 요약 완료\n"
     ]
    },
    {
     "name": "stderr",
     "output_type": "stream",
     "text": [
      "요약 진행 중:  61%|██████    | 1452/2388 [54:07<33:52,  2.17s/it]"
     ]
    },
    {
     "name": "stdout",
     "output_type": "stream",
     "text": [
      "1453/2388 행 요약 완료\n"
     ]
    },
    {
     "name": "stderr",
     "output_type": "stream",
     "text": [
      "요약 진행 중:  61%|██████    | 1453/2388 [54:08<29:01,  1.86s/it]"
     ]
    },
    {
     "name": "stdout",
     "output_type": "stream",
     "text": [
      "1454/2388 행 요약 완료\n"
     ]
    },
    {
     "name": "stderr",
     "output_type": "stream",
     "text": [
      "요약 진행 중:  61%|██████    | 1454/2388 [54:09<25:54,  1.66s/it]"
     ]
    },
    {
     "name": "stdout",
     "output_type": "stream",
     "text": [
      "1455/2388 행 요약 완료\n"
     ]
    },
    {
     "name": "stderr",
     "output_type": "stream",
     "text": [
      "요약 진행 중:  61%|██████    | 1455/2388 [54:11<29:10,  1.88s/it]"
     ]
    },
    {
     "name": "stdout",
     "output_type": "stream",
     "text": [
      "1456/2388 행 요약 완료\n"
     ]
    },
    {
     "name": "stderr",
     "output_type": "stream",
     "text": [
      "요약 진행 중:  61%|██████    | 1456/2388 [54:12<25:43,  1.66s/it]"
     ]
    },
    {
     "name": "stdout",
     "output_type": "stream",
     "text": [
      "1457/2388 행 요약 완료\n"
     ]
    },
    {
     "name": "stderr",
     "output_type": "stream",
     "text": [
      "요약 진행 중:  61%|██████    | 1457/2388 [54:14<24:06,  1.55s/it]"
     ]
    },
    {
     "name": "stdout",
     "output_type": "stream",
     "text": [
      "1458/2388 행 요약 완료\n"
     ]
    },
    {
     "name": "stderr",
     "output_type": "stream",
     "text": [
      "요약 진행 중:  61%|██████    | 1458/2388 [54:16<25:34,  1.65s/it]"
     ]
    },
    {
     "name": "stdout",
     "output_type": "stream",
     "text": [
      "1459/2388 행 요약 완료\n"
     ]
    },
    {
     "name": "stderr",
     "output_type": "stream",
     "text": [
      "요약 진행 중:  61%|██████    | 1459/2388 [54:20<38:22,  2.48s/it]"
     ]
    },
    {
     "name": "stdout",
     "output_type": "stream",
     "text": [
      "1460/2388 행 요약 완료\n"
     ]
    },
    {
     "name": "stderr",
     "output_type": "stream",
     "text": [
      "요약 진행 중:  61%|██████    | 1460/2388 [54:23<39:35,  2.56s/it]"
     ]
    },
    {
     "name": "stdout",
     "output_type": "stream",
     "text": [
      "1461/2388 행 요약 완료\n"
     ]
    },
    {
     "name": "stderr",
     "output_type": "stream",
     "text": [
      "요약 진행 중:  61%|██████    | 1461/2388 [54:26<41:53,  2.71s/it]"
     ]
    },
    {
     "name": "stdout",
     "output_type": "stream",
     "text": [
      "1462/2388 행 요약 완료\n"
     ]
    },
    {
     "name": "stderr",
     "output_type": "stream",
     "text": [
      "요약 진행 중:  61%|██████    | 1462/2388 [54:28<41:35,  2.69s/it]"
     ]
    },
    {
     "name": "stdout",
     "output_type": "stream",
     "text": [
      "1463/2388 행 요약 완료\n"
     ]
    },
    {
     "name": "stderr",
     "output_type": "stream",
     "text": [
      "요약 진행 중:  61%|██████▏   | 1463/2388 [54:31<42:43,  2.77s/it]"
     ]
    },
    {
     "name": "stdout",
     "output_type": "stream",
     "text": [
      "1464/2388 행 요약 완료\n"
     ]
    },
    {
     "name": "stderr",
     "output_type": "stream",
     "text": [
      "요약 진행 중:  61%|██████▏   | 1464/2388 [54:34<42:56,  2.79s/it]"
     ]
    },
    {
     "name": "stdout",
     "output_type": "stream",
     "text": [
      "1465/2388 행 요약 완료\n"
     ]
    },
    {
     "name": "stderr",
     "output_type": "stream",
     "text": [
      "요약 진행 중:  61%|██████▏   | 1465/2388 [54:36<37:27,  2.44s/it]"
     ]
    },
    {
     "name": "stdout",
     "output_type": "stream",
     "text": [
      "1466/2388 행 요약 완료\n"
     ]
    },
    {
     "name": "stderr",
     "output_type": "stream",
     "text": [
      "요약 진행 중:  61%|██████▏   | 1466/2388 [54:38<33:47,  2.20s/it]"
     ]
    },
    {
     "name": "stdout",
     "output_type": "stream",
     "text": [
      "1467/2388 행 요약 완료\n"
     ]
    },
    {
     "name": "stderr",
     "output_type": "stream",
     "text": [
      "요약 진행 중:  61%|██████▏   | 1467/2388 [54:41<40:21,  2.63s/it]"
     ]
    },
    {
     "name": "stdout",
     "output_type": "stream",
     "text": [
      "1468/2388 행 요약 완료\n"
     ]
    },
    {
     "name": "stderr",
     "output_type": "stream",
     "text": [
      "요약 진행 중:  61%|██████▏   | 1468/2388 [54:45<43:39,  2.85s/it]"
     ]
    },
    {
     "name": "stdout",
     "output_type": "stream",
     "text": [
      "1469/2388 행 요약 완료\n"
     ]
    },
    {
     "name": "stderr",
     "output_type": "stream",
     "text": [
      "요약 진행 중:  62%|██████▏   | 1469/2388 [54:48<44:32,  2.91s/it]"
     ]
    },
    {
     "name": "stdout",
     "output_type": "stream",
     "text": [
      "1470/2388 행 요약 완료\n"
     ]
    },
    {
     "name": "stderr",
     "output_type": "stream",
     "text": [
      "요약 진행 중:  62%|██████▏   | 1470/2388 [54:50<42:32,  2.78s/it]"
     ]
    },
    {
     "name": "stdout",
     "output_type": "stream",
     "text": [
      "1471/2388 행 요약 완료\n"
     ]
    },
    {
     "name": "stderr",
     "output_type": "stream",
     "text": [
      "요약 진행 중:  62%|██████▏   | 1471/2388 [54:54<46:05,  3.02s/it]"
     ]
    },
    {
     "name": "stdout",
     "output_type": "stream",
     "text": [
      "1472/2388 행 요약 완료\n"
     ]
    },
    {
     "name": "stderr",
     "output_type": "stream",
     "text": [
      "요약 진행 중:  62%|██████▏   | 1472/2388 [54:56<44:32,  2.92s/it]"
     ]
    },
    {
     "name": "stdout",
     "output_type": "stream",
     "text": [
      "1473/2388 행 요약 완료\n"
     ]
    },
    {
     "name": "stderr",
     "output_type": "stream",
     "text": [
      "요약 진행 중:  62%|██████▏   | 1473/2388 [54:58<38:39,  2.54s/it]"
     ]
    },
    {
     "name": "stdout",
     "output_type": "stream",
     "text": [
      "1474/2388 행 요약 완료\n"
     ]
    },
    {
     "name": "stderr",
     "output_type": "stream",
     "text": [
      "요약 진행 중:  62%|██████▏   | 1474/2388 [54:59<33:25,  2.19s/it]"
     ]
    },
    {
     "name": "stdout",
     "output_type": "stream",
     "text": [
      "1475/2388 행 요약 완료\n"
     ]
    },
    {
     "name": "stderr",
     "output_type": "stream",
     "text": [
      "요약 진행 중:  62%|██████▏   | 1475/2388 [55:02<37:01,  2.43s/it]"
     ]
    },
    {
     "name": "stdout",
     "output_type": "stream",
     "text": [
      "1476/2388 행 요약 완료\n"
     ]
    },
    {
     "name": "stderr",
     "output_type": "stream",
     "text": [
      "요약 진행 중:  62%|██████▏   | 1476/2388 [55:04<33:02,  2.17s/it]"
     ]
    },
    {
     "name": "stdout",
     "output_type": "stream",
     "text": [
      "1477/2388 행 요약 완료\n"
     ]
    },
    {
     "name": "stderr",
     "output_type": "stream",
     "text": [
      "요약 진행 중:  62%|██████▏   | 1477/2388 [55:05<28:18,  1.86s/it]"
     ]
    },
    {
     "name": "stdout",
     "output_type": "stream",
     "text": [
      "1478/2388 행 요약 완료\n"
     ]
    },
    {
     "name": "stderr",
     "output_type": "stream",
     "text": [
      "요약 진행 중:  62%|██████▏   | 1478/2388 [55:06<25:30,  1.68s/it]"
     ]
    },
    {
     "name": "stdout",
     "output_type": "stream",
     "text": [
      "1479/2388 행 요약 완료\n"
     ]
    },
    {
     "name": "stderr",
     "output_type": "stream",
     "text": [
      "요약 진행 중:  62%|██████▏   | 1479/2388 [55:08<23:36,  1.56s/it]"
     ]
    },
    {
     "name": "stdout",
     "output_type": "stream",
     "text": [
      "1480/2388 행 요약 완료\n"
     ]
    },
    {
     "name": "stderr",
     "output_type": "stream",
     "text": [
      "요약 진행 중:  62%|██████▏   | 1480/2388 [55:09<23:01,  1.52s/it]"
     ]
    },
    {
     "name": "stdout",
     "output_type": "stream",
     "text": [
      "1481/2388 행 요약 완료\n"
     ]
    },
    {
     "name": "stderr",
     "output_type": "stream",
     "text": [
      "요약 진행 중:  62%|██████▏   | 1481/2388 [55:11<23:57,  1.58s/it]"
     ]
    },
    {
     "name": "stdout",
     "output_type": "stream",
     "text": [
      "1482/2388 행 요약 완료\n"
     ]
    },
    {
     "name": "stderr",
     "output_type": "stream",
     "text": [
      "요약 진행 중:  62%|██████▏   | 1482/2388 [55:12<23:31,  1.56s/it]"
     ]
    },
    {
     "name": "stdout",
     "output_type": "stream",
     "text": [
      "1483/2388 행 요약 완료\n"
     ]
    },
    {
     "name": "stderr",
     "output_type": "stream",
     "text": [
      "요약 진행 중:  62%|██████▏   | 1483/2388 [55:13<21:26,  1.42s/it]"
     ]
    },
    {
     "name": "stdout",
     "output_type": "stream",
     "text": [
      "1484/2388 행 요약 완료\n"
     ]
    },
    {
     "name": "stderr",
     "output_type": "stream",
     "text": [
      "요약 진행 중:  62%|██████▏   | 1484/2388 [55:15<20:47,  1.38s/it]"
     ]
    },
    {
     "name": "stdout",
     "output_type": "stream",
     "text": [
      "1485/2388 행 요약 완료\n"
     ]
    },
    {
     "name": "stderr",
     "output_type": "stream",
     "text": [
      "요약 진행 중:  62%|██████▏   | 1485/2388 [55:16<20:40,  1.37s/it]"
     ]
    },
    {
     "name": "stdout",
     "output_type": "stream",
     "text": [
      "1486/2388 행 요약 완료\n"
     ]
    },
    {
     "name": "stderr",
     "output_type": "stream",
     "text": [
      "요약 진행 중:  62%|██████▏   | 1486/2388 [55:17<20:00,  1.33s/it]"
     ]
    },
    {
     "name": "stdout",
     "output_type": "stream",
     "text": [
      "1487/2388 행 요약 완료\n"
     ]
    },
    {
     "name": "stderr",
     "output_type": "stream",
     "text": [
      "요약 진행 중:  62%|██████▏   | 1487/2388 [55:20<26:58,  1.80s/it]"
     ]
    },
    {
     "name": "stdout",
     "output_type": "stream",
     "text": [
      "1488/2388 행 요약 완료\n"
     ]
    },
    {
     "name": "stderr",
     "output_type": "stream",
     "text": [
      "요약 진행 중:  62%|██████▏   | 1488/2388 [55:22<27:11,  1.81s/it]"
     ]
    },
    {
     "name": "stdout",
     "output_type": "stream",
     "text": [
      "1489/2388 행 요약 완료\n"
     ]
    },
    {
     "name": "stderr",
     "output_type": "stream",
     "text": [
      "요약 진행 중:  62%|██████▏   | 1489/2388 [55:24<28:04,  1.87s/it]"
     ]
    },
    {
     "name": "stdout",
     "output_type": "stream",
     "text": [
      "1490/2388 행 요약 완료\n"
     ]
    },
    {
     "name": "stderr",
     "output_type": "stream",
     "text": [
      "요약 진행 중:  62%|██████▏   | 1490/2388 [55:26<28:22,  1.90s/it]"
     ]
    },
    {
     "name": "stdout",
     "output_type": "stream",
     "text": [
      "1491/2388 행 요약 완료\n"
     ]
    },
    {
     "name": "stderr",
     "output_type": "stream",
     "text": [
      "요약 진행 중:  62%|██████▏   | 1491/2388 [55:27<24:19,  1.63s/it]"
     ]
    },
    {
     "name": "stdout",
     "output_type": "stream",
     "text": [
      "1492/2388 행 요약 완료\n"
     ]
    },
    {
     "name": "stderr",
     "output_type": "stream",
     "text": [
      "요약 진행 중:  62%|██████▏   | 1492/2388 [55:30<29:47,  2.00s/it]"
     ]
    },
    {
     "name": "stdout",
     "output_type": "stream",
     "text": [
      "1493/2388 행 요약 완료\n"
     ]
    },
    {
     "name": "stderr",
     "output_type": "stream",
     "text": [
      "요약 진행 중:  63%|██████▎   | 1493/2388 [55:31<26:18,  1.76s/it]"
     ]
    },
    {
     "name": "stdout",
     "output_type": "stream",
     "text": [
      "1494/2388 행 요약 완료\n"
     ]
    },
    {
     "name": "stderr",
     "output_type": "stream",
     "text": [
      "요약 진행 중:  63%|██████▎   | 1494/2388 [55:33<28:20,  1.90s/it]"
     ]
    },
    {
     "name": "stdout",
     "output_type": "stream",
     "text": [
      "1495/2388 행 요약 완료\n"
     ]
    },
    {
     "name": "stderr",
     "output_type": "stream",
     "text": [
      "요약 진행 중:  63%|██████▎   | 1495/2388 [55:35<26:30,  1.78s/it]"
     ]
    },
    {
     "name": "stdout",
     "output_type": "stream",
     "text": [
      "1496/2388 행 요약 완료\n"
     ]
    },
    {
     "name": "stderr",
     "output_type": "stream",
     "text": [
      "요약 진행 중:  63%|██████▎   | 1496/2388 [55:36<26:06,  1.76s/it]"
     ]
    },
    {
     "name": "stdout",
     "output_type": "stream",
     "text": [
      "1497/2388 행 요약 완료\n"
     ]
    },
    {
     "name": "stderr",
     "output_type": "stream",
     "text": [
      "요약 진행 중:  63%|██████▎   | 1497/2388 [55:38<26:09,  1.76s/it]"
     ]
    },
    {
     "name": "stdout",
     "output_type": "stream",
     "text": [
      "1498/2388 행 요약 완료\n"
     ]
    },
    {
     "name": "stderr",
     "output_type": "stream",
     "text": [
      "요약 진행 중:  63%|██████▎   | 1498/2388 [55:43<37:46,  2.55s/it]"
     ]
    },
    {
     "name": "stdout",
     "output_type": "stream",
     "text": [
      "1499/2388 행 요약 완료\n"
     ]
    },
    {
     "name": "stderr",
     "output_type": "stream",
     "text": [
      "요약 진행 중:  63%|██████▎   | 1499/2388 [55:46<40:37,  2.74s/it]"
     ]
    },
    {
     "name": "stdout",
     "output_type": "stream",
     "text": [
      "1500/2388 행 요약 완료\n"
     ]
    },
    {
     "name": "stderr",
     "output_type": "stream",
     "text": [
      "요약 진행 중:  63%|██████▎   | 1500/2388 [55:49<42:04,  2.84s/it]"
     ]
    },
    {
     "name": "stdout",
     "output_type": "stream",
     "text": [
      "1501/2388 행 요약 완료\n"
     ]
    },
    {
     "name": "stderr",
     "output_type": "stream",
     "text": [
      "요약 진행 중:  63%|██████▎   | 1501/2388 [55:50<36:05,  2.44s/it]"
     ]
    },
    {
     "name": "stdout",
     "output_type": "stream",
     "text": [
      "1502/2388 행 요약 완료\n"
     ]
    },
    {
     "name": "stderr",
     "output_type": "stream",
     "text": [
      "요약 진행 중:  63%|██████▎   | 1502/2388 [55:52<34:32,  2.34s/it]"
     ]
    },
    {
     "name": "stdout",
     "output_type": "stream",
     "text": [
      "1503/2388 행 요약 완료\n"
     ]
    },
    {
     "name": "stderr",
     "output_type": "stream",
     "text": [
      "요약 진행 중:  63%|██████▎   | 1503/2388 [55:54<33:05,  2.24s/it]"
     ]
    },
    {
     "name": "stdout",
     "output_type": "stream",
     "text": [
      "1504/2388 행 요약 완료\n"
     ]
    },
    {
     "name": "stderr",
     "output_type": "stream",
     "text": [
      "요약 진행 중:  63%|██████▎   | 1504/2388 [55:56<31:22,  2.13s/it]"
     ]
    },
    {
     "name": "stdout",
     "output_type": "stream",
     "text": [
      "1505/2388 행 요약 완료\n"
     ]
    },
    {
     "name": "stderr",
     "output_type": "stream",
     "text": [
      "요약 진행 중:  63%|██████▎   | 1505/2388 [56:00<37:14,  2.53s/it]"
     ]
    },
    {
     "name": "stdout",
     "output_type": "stream",
     "text": [
      "1506/2388 행 요약 완료\n"
     ]
    },
    {
     "name": "stderr",
     "output_type": "stream",
     "text": [
      "요약 진행 중:  63%|██████▎   | 1506/2388 [56:02<35:58,  2.45s/it]"
     ]
    },
    {
     "name": "stdout",
     "output_type": "stream",
     "text": [
      "1507/2388 행 요약 완료\n"
     ]
    },
    {
     "name": "stderr",
     "output_type": "stream",
     "text": [
      "요약 진행 중:  63%|██████▎   | 1507/2388 [56:04<32:20,  2.20s/it]"
     ]
    },
    {
     "name": "stdout",
     "output_type": "stream",
     "text": [
      "1508/2388 행 요약 완료\n"
     ]
    },
    {
     "name": "stderr",
     "output_type": "stream",
     "text": [
      "요약 진행 중:  63%|██████▎   | 1508/2388 [56:05<29:22,  2.00s/it]"
     ]
    },
    {
     "name": "stdout",
     "output_type": "stream",
     "text": [
      "1509/2388 행 요약 완료\n"
     ]
    },
    {
     "name": "stderr",
     "output_type": "stream",
     "text": [
      "요약 진행 중:  63%|██████▎   | 1509/2388 [56:08<32:41,  2.23s/it]"
     ]
    },
    {
     "name": "stdout",
     "output_type": "stream",
     "text": [
      "1510/2388 행 요약 완료\n"
     ]
    },
    {
     "name": "stderr",
     "output_type": "stream",
     "text": [
      "요약 진행 중:  63%|██████▎   | 1510/2388 [56:10<31:54,  2.18s/it]"
     ]
    },
    {
     "name": "stdout",
     "output_type": "stream",
     "text": [
      "1511/2388 행 요약 완료\n"
     ]
    },
    {
     "name": "stderr",
     "output_type": "stream",
     "text": [
      "요약 진행 중:  63%|██████▎   | 1511/2388 [56:12<32:04,  2.19s/it]"
     ]
    },
    {
     "name": "stdout",
     "output_type": "stream",
     "text": [
      "1512/2388 행 요약 완료\n"
     ]
    },
    {
     "name": "stderr",
     "output_type": "stream",
     "text": [
      "요약 진행 중:  63%|██████▎   | 1512/2388 [56:15<35:48,  2.45s/it]"
     ]
    },
    {
     "name": "stdout",
     "output_type": "stream",
     "text": [
      "1513/2388 행 요약 완료\n"
     ]
    },
    {
     "name": "stderr",
     "output_type": "stream",
     "text": [
      "요약 진행 중:  63%|██████▎   | 1513/2388 [56:17<31:49,  2.18s/it]"
     ]
    },
    {
     "name": "stdout",
     "output_type": "stream",
     "text": [
      "1514/2388 행 요약 완료\n"
     ]
    },
    {
     "name": "stderr",
     "output_type": "stream",
     "text": [
      "요약 진행 중:  63%|██████▎   | 1514/2388 [56:18<27:39,  1.90s/it]"
     ]
    },
    {
     "name": "stdout",
     "output_type": "stream",
     "text": [
      "1515/2388 행 요약 완료\n"
     ]
    },
    {
     "name": "stderr",
     "output_type": "stream",
     "text": [
      "요약 진행 중:  63%|██████▎   | 1515/2388 [56:19<25:26,  1.75s/it]"
     ]
    },
    {
     "name": "stdout",
     "output_type": "stream",
     "text": [
      "1516/2388 행 요약 완료\n"
     ]
    },
    {
     "name": "stderr",
     "output_type": "stream",
     "text": [
      "요약 진행 중:  63%|██████▎   | 1516/2388 [56:22<29:00,  2.00s/it]"
     ]
    },
    {
     "name": "stdout",
     "output_type": "stream",
     "text": [
      "1517/2388 행 요약 완료\n"
     ]
    },
    {
     "name": "stderr",
     "output_type": "stream",
     "text": [
      "요약 진행 중:  64%|██████▎   | 1517/2388 [56:26<36:19,  2.50s/it]"
     ]
    },
    {
     "name": "stdout",
     "output_type": "stream",
     "text": [
      "1518/2388 행 요약 완료\n"
     ]
    },
    {
     "name": "stderr",
     "output_type": "stream",
     "text": [
      "요약 진행 중:  64%|██████▎   | 1518/2388 [56:29<37:25,  2.58s/it]"
     ]
    },
    {
     "name": "stdout",
     "output_type": "stream",
     "text": [
      "1519/2388 행 요약 완료\n"
     ]
    },
    {
     "name": "stderr",
     "output_type": "stream",
     "text": [
      "요약 진행 중:  64%|██████▎   | 1519/2388 [56:31<37:00,  2.56s/it]"
     ]
    },
    {
     "name": "stdout",
     "output_type": "stream",
     "text": [
      "1520/2388 행 요약 완료\n"
     ]
    },
    {
     "name": "stderr",
     "output_type": "stream",
     "text": [
      "요약 진행 중:  64%|██████▎   | 1520/2388 [56:32<32:03,  2.22s/it]"
     ]
    },
    {
     "name": "stdout",
     "output_type": "stream",
     "text": [
      "1521/2388 행 요약 완료\n"
     ]
    },
    {
     "name": "stderr",
     "output_type": "stream",
     "text": [
      "요약 진행 중:  64%|██████▎   | 1521/2388 [56:35<33:23,  2.31s/it]"
     ]
    },
    {
     "name": "stdout",
     "output_type": "stream",
     "text": [
      "1522/2388 행 요약 완료\n"
     ]
    },
    {
     "name": "stderr",
     "output_type": "stream",
     "text": [
      "요약 진행 중:  64%|██████▎   | 1522/2388 [56:38<36:52,  2.55s/it]"
     ]
    },
    {
     "name": "stdout",
     "output_type": "stream",
     "text": [
      "1523/2388 행 요약 완료\n"
     ]
    },
    {
     "name": "stderr",
     "output_type": "stream",
     "text": [
      "요약 진행 중:  64%|██████▍   | 1523/2388 [56:42<43:07,  2.99s/it]"
     ]
    },
    {
     "name": "stdout",
     "output_type": "stream",
     "text": [
      "1524/2388 행 요약 완료\n"
     ]
    },
    {
     "name": "stderr",
     "output_type": "stream",
     "text": [
      "요약 진행 중:  64%|██████▍   | 1524/2388 [56:45<43:59,  3.06s/it]"
     ]
    },
    {
     "name": "stdout",
     "output_type": "stream",
     "text": [
      "1525/2388 행 요약 완료\n"
     ]
    },
    {
     "name": "stderr",
     "output_type": "stream",
     "text": [
      "요약 진행 중:  64%|██████▍   | 1525/2388 [56:48<41:28,  2.88s/it]"
     ]
    },
    {
     "name": "stdout",
     "output_type": "stream",
     "text": [
      "1526/2388 행 요약 완료\n"
     ]
    },
    {
     "name": "stderr",
     "output_type": "stream",
     "text": [
      "요약 진행 중:  64%|██████▍   | 1526/2388 [56:49<34:05,  2.37s/it]"
     ]
    },
    {
     "name": "stdout",
     "output_type": "stream",
     "text": [
      "1527/2388 행 요약 완료\n"
     ]
    },
    {
     "name": "stderr",
     "output_type": "stream",
     "text": [
      "요약 진행 중:  64%|██████▍   | 1527/2388 [56:51<32:03,  2.23s/it]"
     ]
    },
    {
     "name": "stdout",
     "output_type": "stream",
     "text": [
      "1528/2388 행 요약 완료\n"
     ]
    },
    {
     "name": "stderr",
     "output_type": "stream",
     "text": [
      "요약 진행 중:  64%|██████▍   | 1528/2388 [56:53<32:55,  2.30s/it]"
     ]
    },
    {
     "name": "stdout",
     "output_type": "stream",
     "text": [
      "1529/2388 행 요약 완료\n"
     ]
    },
    {
     "name": "stderr",
     "output_type": "stream",
     "text": [
      "요약 진행 중:  64%|██████▍   | 1529/2388 [56:56<34:22,  2.40s/it]"
     ]
    },
    {
     "name": "stdout",
     "output_type": "stream",
     "text": [
      "1530/2388 행 요약 완료\n"
     ]
    },
    {
     "name": "stderr",
     "output_type": "stream",
     "text": [
      "요약 진행 중:  64%|██████▍   | 1530/2388 [56:58<31:18,  2.19s/it]"
     ]
    },
    {
     "name": "stdout",
     "output_type": "stream",
     "text": [
      "1531/2388 행 요약 완료\n"
     ]
    },
    {
     "name": "stderr",
     "output_type": "stream",
     "text": [
      "요약 진행 중:  64%|██████▍   | 1531/2388 [57:01<34:15,  2.40s/it]"
     ]
    },
    {
     "name": "stdout",
     "output_type": "stream",
     "text": [
      "1532/2388 행 요약 완료\n"
     ]
    },
    {
     "name": "stderr",
     "output_type": "stream",
     "text": [
      "요약 진행 중:  64%|██████▍   | 1532/2388 [57:02<29:20,  2.06s/it]"
     ]
    },
    {
     "name": "stdout",
     "output_type": "stream",
     "text": [
      "1533/2388 행 요약 완료\n"
     ]
    },
    {
     "name": "stderr",
     "output_type": "stream",
     "text": [
      "요약 진행 중:  64%|██████▍   | 1533/2388 [57:03<25:57,  1.82s/it]"
     ]
    },
    {
     "name": "stdout",
     "output_type": "stream",
     "text": [
      "1534/2388 행 요약 완료\n"
     ]
    },
    {
     "name": "stderr",
     "output_type": "stream",
     "text": [
      "요약 진행 중:  64%|██████▍   | 1534/2388 [57:05<24:54,  1.75s/it]"
     ]
    },
    {
     "name": "stdout",
     "output_type": "stream",
     "text": [
      "1535/2388 행 요약 완료\n"
     ]
    },
    {
     "name": "stderr",
     "output_type": "stream",
     "text": [
      "요약 진행 중:  64%|██████▍   | 1535/2388 [57:07<25:49,  1.82s/it]"
     ]
    },
    {
     "name": "stdout",
     "output_type": "stream",
     "text": [
      "1536/2388 행 요약 완료\n"
     ]
    },
    {
     "name": "stderr",
     "output_type": "stream",
     "text": [
      "요약 진행 중:  64%|██████▍   | 1536/2388 [57:10<33:47,  2.38s/it]"
     ]
    },
    {
     "name": "stdout",
     "output_type": "stream",
     "text": [
      "1537/2388 행 요약 완료\n"
     ]
    },
    {
     "name": "stderr",
     "output_type": "stream",
     "text": [
      "요약 진행 중:  64%|██████▍   | 1537/2388 [57:13<34:44,  2.45s/it]"
     ]
    },
    {
     "name": "stdout",
     "output_type": "stream",
     "text": [
      "1538/2388 행 요약 완료\n"
     ]
    },
    {
     "name": "stderr",
     "output_type": "stream",
     "text": [
      "요약 진행 중:  64%|██████▍   | 1538/2388 [57:15<34:05,  2.41s/it]"
     ]
    },
    {
     "name": "stdout",
     "output_type": "stream",
     "text": [
      "1539/2388 행 요약 완료\n"
     ]
    },
    {
     "name": "stderr",
     "output_type": "stream",
     "text": [
      "요약 진행 중:  64%|██████▍   | 1539/2388 [57:19<38:46,  2.74s/it]"
     ]
    },
    {
     "name": "stdout",
     "output_type": "stream",
     "text": [
      "1540/2388 행 요약 완료\n"
     ]
    },
    {
     "name": "stderr",
     "output_type": "stream",
     "text": [
      "요약 진행 중:  64%|██████▍   | 1540/2388 [57:20<34:19,  2.43s/it]"
     ]
    },
    {
     "name": "stdout",
     "output_type": "stream",
     "text": [
      "1541/2388 행 요약 완료\n"
     ]
    },
    {
     "name": "stderr",
     "output_type": "stream",
     "text": [
      "요약 진행 중:  65%|██████▍   | 1541/2388 [57:24<40:16,  2.85s/it]"
     ]
    },
    {
     "name": "stdout",
     "output_type": "stream",
     "text": [
      "1542/2388 행 요약 완료\n"
     ]
    },
    {
     "name": "stderr",
     "output_type": "stream",
     "text": [
      "요약 진행 중:  65%|██████▍   | 1542/2388 [57:27<39:04,  2.77s/it]"
     ]
    },
    {
     "name": "stdout",
     "output_type": "stream",
     "text": [
      "1543/2388 행 요약 완료\n"
     ]
    },
    {
     "name": "stderr",
     "output_type": "stream",
     "text": [
      "요약 진행 중:  65%|██████▍   | 1543/2388 [57:30<41:01,  2.91s/it]"
     ]
    },
    {
     "name": "stdout",
     "output_type": "stream",
     "text": [
      "1544/2388 행 요약 완료\n"
     ]
    },
    {
     "name": "stderr",
     "output_type": "stream",
     "text": [
      "요약 진행 중:  65%|██████▍   | 1544/2388 [57:31<33:45,  2.40s/it]"
     ]
    },
    {
     "name": "stdout",
     "output_type": "stream",
     "text": [
      "1545/2388 행 요약 완료\n"
     ]
    },
    {
     "name": "stderr",
     "output_type": "stream",
     "text": [
      "요약 진행 중:  65%|██████▍   | 1545/2388 [57:33<28:46,  2.05s/it]"
     ]
    },
    {
     "name": "stdout",
     "output_type": "stream",
     "text": [
      "1546/2388 행 요약 완료\n"
     ]
    },
    {
     "name": "stderr",
     "output_type": "stream",
     "text": [
      "요약 진행 중:  65%|██████▍   | 1546/2388 [57:34<25:38,  1.83s/it]"
     ]
    },
    {
     "name": "stdout",
     "output_type": "stream",
     "text": [
      "1547/2388 행 요약 완료\n"
     ]
    },
    {
     "name": "stderr",
     "output_type": "stream",
     "text": [
      "요약 진행 중:  65%|██████▍   | 1547/2388 [57:35<24:43,  1.76s/it]"
     ]
    },
    {
     "name": "stdout",
     "output_type": "stream",
     "text": [
      "1548/2388 행 요약 완료\n"
     ]
    },
    {
     "name": "stderr",
     "output_type": "stream",
     "text": [
      "요약 진행 중:  65%|██████▍   | 1548/2388 [57:38<28:55,  2.07s/it]"
     ]
    },
    {
     "name": "stdout",
     "output_type": "stream",
     "text": [
      "1549/2388 행 요약 완료\n"
     ]
    },
    {
     "name": "stderr",
     "output_type": "stream",
     "text": [
      "요약 진행 중:  65%|██████▍   | 1549/2388 [57:40<27:18,  1.95s/it]"
     ]
    },
    {
     "name": "stdout",
     "output_type": "stream",
     "text": [
      "1550/2388 행 요약 완료\n"
     ]
    },
    {
     "name": "stderr",
     "output_type": "stream",
     "text": [
      "요약 진행 중:  65%|██████▍   | 1550/2388 [57:41<24:41,  1.77s/it]"
     ]
    },
    {
     "name": "stdout",
     "output_type": "stream",
     "text": [
      "1551/2388 행 요약 완료\n"
     ]
    },
    {
     "name": "stderr",
     "output_type": "stream",
     "text": [
      "요약 진행 중:  65%|██████▍   | 1551/2388 [57:44<26:53,  1.93s/it]"
     ]
    },
    {
     "name": "stdout",
     "output_type": "stream",
     "text": [
      "1552/2388 행 요약 완료\n"
     ]
    },
    {
     "name": "stderr",
     "output_type": "stream",
     "text": [
      "요약 진행 중:  65%|██████▍   | 1552/2388 [57:45<26:03,  1.87s/it]"
     ]
    },
    {
     "name": "stdout",
     "output_type": "stream",
     "text": [
      "1553/2388 행 요약 완료\n"
     ]
    },
    {
     "name": "stderr",
     "output_type": "stream",
     "text": [
      "요약 진행 중:  65%|██████▌   | 1553/2388 [57:48<29:55,  2.15s/it]"
     ]
    },
    {
     "name": "stdout",
     "output_type": "stream",
     "text": [
      "1554/2388 행 요약 완료\n"
     ]
    },
    {
     "name": "stderr",
     "output_type": "stream",
     "text": [
      "요약 진행 중:  65%|██████▌   | 1554/2388 [57:50<29:12,  2.10s/it]"
     ]
    },
    {
     "name": "stdout",
     "output_type": "stream",
     "text": [
      "1555/2388 행 요약 완료\n"
     ]
    },
    {
     "name": "stderr",
     "output_type": "stream",
     "text": [
      "요약 진행 중:  65%|██████▌   | 1555/2388 [57:53<31:59,  2.30s/it]"
     ]
    },
    {
     "name": "stdout",
     "output_type": "stream",
     "text": [
      "1556/2388 행 요약 완료\n"
     ]
    },
    {
     "name": "stderr",
     "output_type": "stream",
     "text": [
      "요약 진행 중:  65%|██████▌   | 1556/2388 [57:54<27:39,  1.99s/it]"
     ]
    },
    {
     "name": "stdout",
     "output_type": "stream",
     "text": [
      "1557/2388 행 요약 완료\n"
     ]
    },
    {
     "name": "stderr",
     "output_type": "stream",
     "text": [
      "요약 진행 중:  65%|██████▌   | 1557/2388 [57:56<25:45,  1.86s/it]"
     ]
    },
    {
     "name": "stdout",
     "output_type": "stream",
     "text": [
      "1558/2388 행 요약 완료\n"
     ]
    },
    {
     "name": "stderr",
     "output_type": "stream",
     "text": [
      "요약 진행 중:  65%|██████▌   | 1558/2388 [57:57<23:22,  1.69s/it]"
     ]
    },
    {
     "name": "stdout",
     "output_type": "stream",
     "text": [
      "1559/2388 행 요약 완료\n"
     ]
    },
    {
     "name": "stderr",
     "output_type": "stream",
     "text": [
      "요약 진행 중:  65%|██████▌   | 1559/2388 [57:59<25:30,  1.85s/it]"
     ]
    },
    {
     "name": "stdout",
     "output_type": "stream",
     "text": [
      "1560/2388 행 요약 완료\n"
     ]
    },
    {
     "name": "stderr",
     "output_type": "stream",
     "text": [
      "요약 진행 중:  65%|██████▌   | 1560/2388 [58:01<23:10,  1.68s/it]"
     ]
    },
    {
     "name": "stdout",
     "output_type": "stream",
     "text": [
      "1561/2388 행 요약 완료\n"
     ]
    },
    {
     "name": "stderr",
     "output_type": "stream",
     "text": [
      "요약 진행 중:  65%|██████▌   | 1561/2388 [58:02<23:12,  1.68s/it]"
     ]
    },
    {
     "name": "stdout",
     "output_type": "stream",
     "text": [
      "1562/2388 행 요약 완료\n"
     ]
    },
    {
     "name": "stderr",
     "output_type": "stream",
     "text": [
      "요약 진행 중:  65%|██████▌   | 1562/2388 [58:05<28:30,  2.07s/it]"
     ]
    },
    {
     "name": "stdout",
     "output_type": "stream",
     "text": [
      "1563/2388 행 요약 완료\n"
     ]
    },
    {
     "name": "stderr",
     "output_type": "stream",
     "text": [
      "요약 진행 중:  65%|██████▌   | 1563/2388 [58:08<30:28,  2.22s/it]"
     ]
    },
    {
     "name": "stdout",
     "output_type": "stream",
     "text": [
      "1564/2388 행 요약 완료\n"
     ]
    },
    {
     "name": "stderr",
     "output_type": "stream",
     "text": [
      "요약 진행 중:  65%|██████▌   | 1564/2388 [58:09<26:05,  1.90s/it]"
     ]
    },
    {
     "name": "stdout",
     "output_type": "stream",
     "text": [
      "1565/2388 행 요약 완료\n"
     ]
    },
    {
     "name": "stderr",
     "output_type": "stream",
     "text": [
      "요약 진행 중:  66%|██████▌   | 1565/2388 [58:11<27:17,  1.99s/it]"
     ]
    },
    {
     "name": "stdout",
     "output_type": "stream",
     "text": [
      "1566/2388 행 요약 완료\n"
     ]
    },
    {
     "name": "stderr",
     "output_type": "stream",
     "text": [
      "요약 진행 중:  66%|██████▌   | 1566/2388 [58:12<24:23,  1.78s/it]"
     ]
    },
    {
     "name": "stdout",
     "output_type": "stream",
     "text": [
      "1567/2388 행 요약 완료\n"
     ]
    },
    {
     "name": "stderr",
     "output_type": "stream",
     "text": [
      "요약 진행 중:  66%|██████▌   | 1567/2388 [58:14<23:44,  1.74s/it]"
     ]
    },
    {
     "name": "stdout",
     "output_type": "stream",
     "text": [
      "1568/2388 행 요약 완료\n"
     ]
    },
    {
     "name": "stderr",
     "output_type": "stream",
     "text": [
      "요약 진행 중:  66%|██████▌   | 1568/2388 [58:18<31:16,  2.29s/it]"
     ]
    },
    {
     "name": "stdout",
     "output_type": "stream",
     "text": [
      "1569/2388 행 요약 완료\n"
     ]
    },
    {
     "name": "stderr",
     "output_type": "stream",
     "text": [
      "요약 진행 중:  66%|██████▌   | 1569/2388 [58:19<28:40,  2.10s/it]"
     ]
    },
    {
     "name": "stdout",
     "output_type": "stream",
     "text": [
      "1570/2388 행 요약 완료\n"
     ]
    },
    {
     "name": "stderr",
     "output_type": "stream",
     "text": [
      "요약 진행 중:  66%|██████▌   | 1570/2388 [58:22<29:52,  2.19s/it]"
     ]
    },
    {
     "name": "stdout",
     "output_type": "stream",
     "text": [
      "1571/2388 행 요약 완료\n"
     ]
    },
    {
     "name": "stderr",
     "output_type": "stream",
     "text": [
      "요약 진행 중:  66%|██████▌   | 1571/2388 [58:25<36:04,  2.65s/it]"
     ]
    },
    {
     "name": "stdout",
     "output_type": "stream",
     "text": [
      "1572/2388 행 요약 완료\n"
     ]
    },
    {
     "name": "stderr",
     "output_type": "stream",
     "text": [
      "요약 진행 중:  66%|██████▌   | 1572/2388 [58:26<29:17,  2.15s/it]"
     ]
    },
    {
     "name": "stdout",
     "output_type": "stream",
     "text": [
      "1573/2388 행 요약 완료\n"
     ]
    },
    {
     "name": "stderr",
     "output_type": "stream",
     "text": [
      "요약 진행 중:  66%|██████▌   | 1573/2388 [58:28<25:56,  1.91s/it]"
     ]
    },
    {
     "name": "stdout",
     "output_type": "stream",
     "text": [
      "1574/2388 행 요약 완료\n"
     ]
    },
    {
     "name": "stderr",
     "output_type": "stream",
     "text": [
      "요약 진행 중:  66%|██████▌   | 1574/2388 [58:30<27:10,  2.00s/it]"
     ]
    },
    {
     "name": "stdout",
     "output_type": "stream",
     "text": [
      "1575/2388 행 요약 완료\n"
     ]
    },
    {
     "name": "stderr",
     "output_type": "stream",
     "text": [
      "요약 진행 중:  66%|██████▌   | 1575/2388 [58:31<25:05,  1.85s/it]"
     ]
    },
    {
     "name": "stdout",
     "output_type": "stream",
     "text": [
      "1576/2388 행 요약 완료\n"
     ]
    },
    {
     "name": "stderr",
     "output_type": "stream",
     "text": [
      "요약 진행 중:  66%|██████▌   | 1576/2388 [58:35<32:36,  2.41s/it]"
     ]
    },
    {
     "name": "stdout",
     "output_type": "stream",
     "text": [
      "1577/2388 행 요약 완료\n"
     ]
    },
    {
     "name": "stderr",
     "output_type": "stream",
     "text": [
      "요약 진행 중:  66%|██████▌   | 1577/2388 [58:37<29:23,  2.17s/it]"
     ]
    },
    {
     "name": "stdout",
     "output_type": "stream",
     "text": [
      "1578/2388 행 요약 완료\n"
     ]
    },
    {
     "name": "stderr",
     "output_type": "stream",
     "text": [
      "요약 진행 중:  66%|██████▌   | 1578/2388 [58:38<24:40,  1.83s/it]"
     ]
    },
    {
     "name": "stdout",
     "output_type": "stream",
     "text": [
      "1579/2388 행 요약 완료\n"
     ]
    },
    {
     "name": "stderr",
     "output_type": "stream",
     "text": [
      "요약 진행 중:  66%|██████▌   | 1579/2388 [58:39<22:29,  1.67s/it]"
     ]
    },
    {
     "name": "stdout",
     "output_type": "stream",
     "text": [
      "1580/2388 행 요약 완료\n"
     ]
    },
    {
     "name": "stderr",
     "output_type": "stream",
     "text": [
      "요약 진행 중:  66%|██████▌   | 1580/2388 [58:40<20:09,  1.50s/it]"
     ]
    },
    {
     "name": "stdout",
     "output_type": "stream",
     "text": [
      "1581/2388 행 요약 완료\n"
     ]
    },
    {
     "name": "stderr",
     "output_type": "stream",
     "text": [
      "요약 진행 중:  66%|██████▌   | 1581/2388 [58:42<23:24,  1.74s/it]"
     ]
    },
    {
     "name": "stdout",
     "output_type": "stream",
     "text": [
      "1582/2388 행 요약 완료\n"
     ]
    },
    {
     "name": "stderr",
     "output_type": "stream",
     "text": [
      "요약 진행 중:  66%|██████▌   | 1582/2388 [58:45<24:55,  1.86s/it]"
     ]
    },
    {
     "name": "stdout",
     "output_type": "stream",
     "text": [
      "1583/2388 행 요약 완료\n"
     ]
    },
    {
     "name": "stderr",
     "output_type": "stream",
     "text": [
      "요약 진행 중:  66%|██████▋   | 1583/2388 [58:48<31:30,  2.35s/it]"
     ]
    },
    {
     "name": "stdout",
     "output_type": "stream",
     "text": [
      "1584/2388 행 요약 완료\n"
     ]
    },
    {
     "name": "stderr",
     "output_type": "stream",
     "text": [
      "요약 진행 중:  66%|██████▋   | 1584/2388 [58:49<27:14,  2.03s/it]"
     ]
    },
    {
     "name": "stdout",
     "output_type": "stream",
     "text": [
      "1585/2388 행 요약 완료\n"
     ]
    },
    {
     "name": "stderr",
     "output_type": "stream",
     "text": [
      "요약 진행 중:  66%|██████▋   | 1585/2388 [58:52<27:46,  2.08s/it]"
     ]
    },
    {
     "name": "stdout",
     "output_type": "stream",
     "text": [
      "1586/2388 행 요약 완료\n"
     ]
    },
    {
     "name": "stderr",
     "output_type": "stream",
     "text": [
      "요약 진행 중:  66%|██████▋   | 1586/2388 [58:54<30:38,  2.29s/it]"
     ]
    },
    {
     "name": "stdout",
     "output_type": "stream",
     "text": [
      "1587/2388 행 요약 완료\n"
     ]
    },
    {
     "name": "stderr",
     "output_type": "stream",
     "text": [
      "요약 진행 중:  66%|██████▋   | 1587/2388 [58:56<26:36,  1.99s/it]"
     ]
    },
    {
     "name": "stdout",
     "output_type": "stream",
     "text": [
      "1588/2388 행 요약 완료\n"
     ]
    },
    {
     "name": "stderr",
     "output_type": "stream",
     "text": [
      "요약 진행 중:  66%|██████▋   | 1588/2388 [58:57<22:41,  1.70s/it]"
     ]
    },
    {
     "name": "stdout",
     "output_type": "stream",
     "text": [
      "1589/2388 행 요약 완료\n"
     ]
    },
    {
     "name": "stderr",
     "output_type": "stream",
     "text": [
      "요약 진행 중:  67%|██████▋   | 1589/2388 [58:58<22:30,  1.69s/it]"
     ]
    },
    {
     "name": "stdout",
     "output_type": "stream",
     "text": [
      "1590/2388 행 요약 완료\n"
     ]
    },
    {
     "name": "stderr",
     "output_type": "stream",
     "text": [
      "요약 진행 중:  67%|██████▋   | 1590/2388 [59:01<25:58,  1.95s/it]"
     ]
    },
    {
     "name": "stdout",
     "output_type": "stream",
     "text": [
      "1591/2388 행 요약 완료\n"
     ]
    },
    {
     "name": "stderr",
     "output_type": "stream",
     "text": [
      "요약 진행 중:  67%|██████▋   | 1591/2388 [59:02<23:56,  1.80s/it]"
     ]
    },
    {
     "name": "stdout",
     "output_type": "stream",
     "text": [
      "1592/2388 행 요약 완료\n"
     ]
    },
    {
     "name": "stderr",
     "output_type": "stream",
     "text": [
      "요약 진행 중:  67%|██████▋   | 1592/2388 [59:04<24:49,  1.87s/it]"
     ]
    },
    {
     "name": "stdout",
     "output_type": "stream",
     "text": [
      "1593/2388 행 요약 완료\n"
     ]
    },
    {
     "name": "stderr",
     "output_type": "stream",
     "text": [
      "요약 진행 중:  67%|██████▋   | 1593/2388 [59:07<27:32,  2.08s/it]"
     ]
    },
    {
     "name": "stdout",
     "output_type": "stream",
     "text": [
      "1594/2388 행 요약 완료\n"
     ]
    },
    {
     "name": "stderr",
     "output_type": "stream",
     "text": [
      "요약 진행 중:  67%|██████▋   | 1594/2388 [59:10<29:37,  2.24s/it]"
     ]
    },
    {
     "name": "stdout",
     "output_type": "stream",
     "text": [
      "1595/2388 행 요약 완료\n"
     ]
    },
    {
     "name": "stderr",
     "output_type": "stream",
     "text": [
      "요약 진행 중:  67%|██████▋   | 1595/2388 [59:12<29:55,  2.26s/it]"
     ]
    },
    {
     "name": "stdout",
     "output_type": "stream",
     "text": [
      "1596/2388 행 요약 완료\n"
     ]
    },
    {
     "name": "stderr",
     "output_type": "stream",
     "text": [
      "요약 진행 중:  67%|██████▋   | 1596/2388 [59:15<33:51,  2.57s/it]"
     ]
    },
    {
     "name": "stdout",
     "output_type": "stream",
     "text": [
      "1597/2388 행 요약 완료\n"
     ]
    },
    {
     "name": "stderr",
     "output_type": "stream",
     "text": [
      "요약 진행 중:  67%|██████▋   | 1597/2388 [59:17<29:26,  2.23s/it]"
     ]
    },
    {
     "name": "stdout",
     "output_type": "stream",
     "text": [
      "1598/2388 행 요약 완료\n"
     ]
    },
    {
     "name": "stderr",
     "output_type": "stream",
     "text": [
      "요약 진행 중:  67%|██████▋   | 1598/2388 [59:19<28:24,  2.16s/it]"
     ]
    },
    {
     "name": "stdout",
     "output_type": "stream",
     "text": [
      "1599/2388 행 요약 완료\n"
     ]
    },
    {
     "name": "stderr",
     "output_type": "stream",
     "text": [
      "요약 진행 중:  67%|██████▋   | 1599/2388 [59:21<31:08,  2.37s/it]"
     ]
    },
    {
     "name": "stdout",
     "output_type": "stream",
     "text": [
      "1600/2388 행 요약 완료\n"
     ]
    },
    {
     "name": "stderr",
     "output_type": "stream",
     "text": [
      "요약 진행 중:  67%|██████▋   | 1600/2388 [59:23<28:34,  2.18s/it]"
     ]
    },
    {
     "name": "stdout",
     "output_type": "stream",
     "text": [
      "1601/2388 행 요약 완료\n"
     ]
    },
    {
     "name": "stderr",
     "output_type": "stream",
     "text": [
      "요약 진행 중:  67%|██████▋   | 1601/2388 [59:25<25:27,  1.94s/it]"
     ]
    },
    {
     "name": "stdout",
     "output_type": "stream",
     "text": [
      "1602/2388 행 요약 완료\n"
     ]
    },
    {
     "name": "stderr",
     "output_type": "stream",
     "text": [
      "요약 진행 중:  67%|██████▋   | 1602/2388 [59:26<22:53,  1.75s/it]"
     ]
    },
    {
     "name": "stdout",
     "output_type": "stream",
     "text": [
      "1603/2388 행 요약 완료\n"
     ]
    },
    {
     "name": "stderr",
     "output_type": "stream",
     "text": [
      "요약 진행 중:  67%|██████▋   | 1603/2388 [59:28<25:52,  1.98s/it]"
     ]
    },
    {
     "name": "stdout",
     "output_type": "stream",
     "text": [
      "1604/2388 행 요약 완료\n"
     ]
    },
    {
     "name": "stderr",
     "output_type": "stream",
     "text": [
      "요약 진행 중:  67%|██████▋   | 1604/2388 [59:31<28:29,  2.18s/it]"
     ]
    },
    {
     "name": "stdout",
     "output_type": "stream",
     "text": [
      "1605/2388 행 요약 완료\n"
     ]
    },
    {
     "name": "stderr",
     "output_type": "stream",
     "text": [
      "요약 진행 중:  67%|██████▋   | 1605/2388 [59:34<30:44,  2.36s/it]"
     ]
    },
    {
     "name": "stdout",
     "output_type": "stream",
     "text": [
      "1606/2388 행 요약 완료\n"
     ]
    },
    {
     "name": "stderr",
     "output_type": "stream",
     "text": [
      "요약 진행 중:  67%|██████▋   | 1606/2388 [59:36<31:05,  2.39s/it]"
     ]
    },
    {
     "name": "stdout",
     "output_type": "stream",
     "text": [
      "1607/2388 행 요약 완료\n"
     ]
    },
    {
     "name": "stderr",
     "output_type": "stream",
     "text": [
      "요약 진행 중:  67%|██████▋   | 1607/2388 [59:40<36:54,  2.84s/it]"
     ]
    },
    {
     "name": "stdout",
     "output_type": "stream",
     "text": [
      "1608/2388 행 요약 완료\n"
     ]
    },
    {
     "name": "stderr",
     "output_type": "stream",
     "text": [
      "요약 진행 중:  67%|██████▋   | 1608/2388 [59:43<35:20,  2.72s/it]"
     ]
    },
    {
     "name": "stdout",
     "output_type": "stream",
     "text": [
      "1609/2388 행 요약 완료\n"
     ]
    },
    {
     "name": "stderr",
     "output_type": "stream",
     "text": [
      "요약 진행 중:  67%|██████▋   | 1609/2388 [59:44<29:45,  2.29s/it]"
     ]
    },
    {
     "name": "stdout",
     "output_type": "stream",
     "text": [
      "1610/2388 행 요약 완료\n"
     ]
    },
    {
     "name": "stderr",
     "output_type": "stream",
     "text": [
      "요약 진행 중:  67%|██████▋   | 1610/2388 [59:45<26:14,  2.02s/it]"
     ]
    },
    {
     "name": "stdout",
     "output_type": "stream",
     "text": [
      "1611/2388 행 요약 완료\n"
     ]
    },
    {
     "name": "stderr",
     "output_type": "stream",
     "text": [
      "요약 진행 중:  67%|██████▋   | 1611/2388 [59:47<25:56,  2.00s/it]"
     ]
    },
    {
     "name": "stdout",
     "output_type": "stream",
     "text": [
      "1612/2388 행 요약 완료\n"
     ]
    },
    {
     "name": "stderr",
     "output_type": "stream",
     "text": [
      "요약 진행 중:  68%|██████▊   | 1612/2388 [59:49<23:43,  1.83s/it]"
     ]
    },
    {
     "name": "stdout",
     "output_type": "stream",
     "text": [
      "1613/2388 행 요약 완료\n"
     ]
    },
    {
     "name": "stderr",
     "output_type": "stream",
     "text": [
      "요약 진행 중:  68%|██████▊   | 1613/2388 [59:52<29:39,  2.30s/it]"
     ]
    },
    {
     "name": "stdout",
     "output_type": "stream",
     "text": [
      "1614/2388 행 요약 완료\n"
     ]
    },
    {
     "name": "stderr",
     "output_type": "stream",
     "text": [
      "요약 진행 중:  68%|██████▊   | 1614/2388 [59:54<28:33,  2.21s/it]"
     ]
    },
    {
     "name": "stdout",
     "output_type": "stream",
     "text": [
      "1615/2388 행 요약 완료\n"
     ]
    },
    {
     "name": "stderr",
     "output_type": "stream",
     "text": [
      "요약 진행 중:  68%|██████▊   | 1615/2388 [59:56<28:18,  2.20s/it]"
     ]
    },
    {
     "name": "stdout",
     "output_type": "stream",
     "text": [
      "1616/2388 행 요약 완료\n"
     ]
    },
    {
     "name": "stderr",
     "output_type": "stream",
     "text": [
      "요약 진행 중:  68%|██████▊   | 1616/2388 [59:58<27:01,  2.10s/it]"
     ]
    },
    {
     "name": "stdout",
     "output_type": "stream",
     "text": [
      "1617/2388 행 요약 완료\n"
     ]
    },
    {
     "name": "stderr",
     "output_type": "stream",
     "text": [
      "요약 진행 중:  68%|██████▊   | 1617/2388 [1:00:01<28:02,  2.18s/it]"
     ]
    },
    {
     "name": "stdout",
     "output_type": "stream",
     "text": [
      "1618/2388 행 요약 완료\n"
     ]
    },
    {
     "name": "stderr",
     "output_type": "stream",
     "text": [
      "요약 진행 중:  68%|██████▊   | 1618/2388 [1:00:03<29:37,  2.31s/it]"
     ]
    },
    {
     "name": "stdout",
     "output_type": "stream",
     "text": [
      "1619/2388 행 요약 완료\n"
     ]
    },
    {
     "name": "stderr",
     "output_type": "stream",
     "text": [
      "요약 진행 중:  68%|██████▊   | 1619/2388 [1:00:05<29:29,  2.30s/it]"
     ]
    },
    {
     "name": "stdout",
     "output_type": "stream",
     "text": [
      "1620/2388 행 요약 완료\n"
     ]
    },
    {
     "name": "stderr",
     "output_type": "stream",
     "text": [
      "요약 진행 중:  68%|██████▊   | 1620/2388 [1:00:08<30:32,  2.39s/it]"
     ]
    },
    {
     "name": "stdout",
     "output_type": "stream",
     "text": [
      "1621/2388 행 요약 완료\n"
     ]
    },
    {
     "name": "stderr",
     "output_type": "stream",
     "text": [
      "요약 진행 중:  68%|██████▊   | 1621/2388 [1:00:10<28:33,  2.23s/it]"
     ]
    },
    {
     "name": "stdout",
     "output_type": "stream",
     "text": [
      "1622/2388 행 요약 완료\n"
     ]
    },
    {
     "name": "stderr",
     "output_type": "stream",
     "text": [
      "요약 진행 중:  68%|██████▊   | 1622/2388 [1:00:13<33:08,  2.60s/it]"
     ]
    },
    {
     "name": "stdout",
     "output_type": "stream",
     "text": [
      "1623/2388 행 요약 완료\n"
     ]
    },
    {
     "name": "stderr",
     "output_type": "stream",
     "text": [
      "요약 진행 중:  68%|██████▊   | 1623/2388 [1:00:16<32:00,  2.51s/it]"
     ]
    },
    {
     "name": "stdout",
     "output_type": "stream",
     "text": [
      "1624/2388 행 요약 완료\n"
     ]
    },
    {
     "name": "stderr",
     "output_type": "stream",
     "text": [
      "요약 진행 중:  68%|██████▊   | 1624/2388 [1:00:18<30:11,  2.37s/it]"
     ]
    },
    {
     "name": "stdout",
     "output_type": "stream",
     "text": [
      "1625/2388 행 요약 완료\n"
     ]
    },
    {
     "name": "stderr",
     "output_type": "stream",
     "text": [
      "요약 진행 중:  68%|██████▊   | 1625/2388 [1:00:21<32:32,  2.56s/it]"
     ]
    },
    {
     "name": "stdout",
     "output_type": "stream",
     "text": [
      "1626/2388 행 요약 완료\n"
     ]
    },
    {
     "name": "stderr",
     "output_type": "stream",
     "text": [
      "요약 진행 중:  68%|██████▊   | 1626/2388 [1:00:22<29:00,  2.28s/it]"
     ]
    },
    {
     "name": "stdout",
     "output_type": "stream",
     "text": [
      "1627/2388 행 요약 완료\n"
     ]
    },
    {
     "name": "stderr",
     "output_type": "stream",
     "text": [
      "요약 진행 중:  68%|██████▊   | 1627/2388 [1:00:24<27:03,  2.13s/it]"
     ]
    },
    {
     "name": "stdout",
     "output_type": "stream",
     "text": [
      "1628/2388 행 요약 완료\n"
     ]
    },
    {
     "name": "stderr",
     "output_type": "stream",
     "text": [
      "요약 진행 중:  68%|██████▊   | 1628/2388 [1:00:26<26:42,  2.11s/it]"
     ]
    },
    {
     "name": "stdout",
     "output_type": "stream",
     "text": [
      "1629/2388 행 요약 완료\n"
     ]
    },
    {
     "name": "stderr",
     "output_type": "stream",
     "text": [
      "요약 진행 중:  68%|██████▊   | 1629/2388 [1:00:30<32:12,  2.55s/it]"
     ]
    },
    {
     "name": "stdout",
     "output_type": "stream",
     "text": [
      "1630/2388 행 요약 완료\n"
     ]
    },
    {
     "name": "stderr",
     "output_type": "stream",
     "text": [
      "요약 진행 중:  68%|██████▊   | 1630/2388 [1:00:35<42:02,  3.33s/it]"
     ]
    },
    {
     "name": "stdout",
     "output_type": "stream",
     "text": [
      "1631/2388 행 요약 완료\n"
     ]
    },
    {
     "name": "stderr",
     "output_type": "stream",
     "text": [
      "요약 진행 중:  68%|██████▊   | 1631/2388 [1:00:36<33:54,  2.69s/it]"
     ]
    },
    {
     "name": "stdout",
     "output_type": "stream",
     "text": [
      "1632/2388 행 요약 완료\n"
     ]
    },
    {
     "name": "stderr",
     "output_type": "stream",
     "text": [
      "요약 진행 중:  68%|██████▊   | 1632/2388 [1:00:40<38:20,  3.04s/it]"
     ]
    },
    {
     "name": "stdout",
     "output_type": "stream",
     "text": [
      "1633/2388 행 요약 완료\n"
     ]
    },
    {
     "name": "stderr",
     "output_type": "stream",
     "text": [
      "요약 진행 중:  68%|██████▊   | 1633/2388 [1:00:41<30:39,  2.44s/it]"
     ]
    },
    {
     "name": "stdout",
     "output_type": "stream",
     "text": [
      "1634/2388 행 요약 완료\n"
     ]
    },
    {
     "name": "stderr",
     "output_type": "stream",
     "text": [
      "요약 진행 중:  68%|██████▊   | 1634/2388 [1:00:42<27:08,  2.16s/it]"
     ]
    },
    {
     "name": "stdout",
     "output_type": "stream",
     "text": [
      "1635/2388 행 요약 완료\n"
     ]
    },
    {
     "name": "stderr",
     "output_type": "stream",
     "text": [
      "요약 진행 중:  68%|██████▊   | 1635/2388 [1:00:44<24:58,  1.99s/it]"
     ]
    },
    {
     "name": "stdout",
     "output_type": "stream",
     "text": [
      "1636/2388 행 요약 완료\n"
     ]
    },
    {
     "name": "stderr",
     "output_type": "stream",
     "text": [
      "요약 진행 중:  69%|██████▊   | 1636/2388 [1:00:46<25:28,  2.03s/it]"
     ]
    },
    {
     "name": "stdout",
     "output_type": "stream",
     "text": [
      "1637/2388 행 요약 완료\n"
     ]
    },
    {
     "name": "stderr",
     "output_type": "stream",
     "text": [
      "요약 진행 중:  69%|██████▊   | 1637/2388 [1:00:50<30:46,  2.46s/it]"
     ]
    },
    {
     "name": "stdout",
     "output_type": "stream",
     "text": [
      "1638/2388 행 요약 완료\n"
     ]
    },
    {
     "name": "stderr",
     "output_type": "stream",
     "text": [
      "요약 진행 중:  69%|██████▊   | 1638/2388 [1:00:51<26:02,  2.08s/it]"
     ]
    },
    {
     "name": "stdout",
     "output_type": "stream",
     "text": [
      "1639/2388 행 요약 완료\n"
     ]
    },
    {
     "name": "stderr",
     "output_type": "stream",
     "text": [
      "요약 진행 중:  69%|██████▊   | 1639/2388 [1:00:52<24:06,  1.93s/it]"
     ]
    },
    {
     "name": "stdout",
     "output_type": "stream",
     "text": [
      "1640/2388 행 요약 완료\n"
     ]
    },
    {
     "name": "stderr",
     "output_type": "stream",
     "text": [
      "요약 진행 중:  69%|██████▊   | 1640/2388 [1:00:57<32:45,  2.63s/it]"
     ]
    },
    {
     "name": "stdout",
     "output_type": "stream",
     "text": [
      "1641/2388 행 요약 완료\n"
     ]
    },
    {
     "name": "stderr",
     "output_type": "stream",
     "text": [
      "요약 진행 중:  69%|██████▊   | 1641/2388 [1:01:00<33:41,  2.71s/it]"
     ]
    },
    {
     "name": "stdout",
     "output_type": "stream",
     "text": [
      "1642/2388 행 요약 완료\n"
     ]
    },
    {
     "name": "stderr",
     "output_type": "stream",
     "text": [
      "요약 진행 중:  69%|██████▉   | 1642/2388 [1:01:03<36:01,  2.90s/it]"
     ]
    },
    {
     "name": "stdout",
     "output_type": "stream",
     "text": [
      "1643/2388 행 요약 완료\n"
     ]
    },
    {
     "name": "stderr",
     "output_type": "stream",
     "text": [
      "요약 진행 중:  69%|██████▉   | 1643/2388 [1:01:04<29:50,  2.40s/it]"
     ]
    },
    {
     "name": "stdout",
     "output_type": "stream",
     "text": [
      "1644/2388 행 요약 완료\n"
     ]
    },
    {
     "name": "stderr",
     "output_type": "stream",
     "text": [
      "요약 진행 중:  69%|██████▉   | 1644/2388 [1:01:06<28:03,  2.26s/it]"
     ]
    },
    {
     "name": "stdout",
     "output_type": "stream",
     "text": [
      "1645/2388 행 요약 완료\n"
     ]
    },
    {
     "name": "stderr",
     "output_type": "stream",
     "text": [
      "요약 진행 중:  69%|██████▉   | 1645/2388 [1:01:08<26:34,  2.15s/it]"
     ]
    },
    {
     "name": "stdout",
     "output_type": "stream",
     "text": [
      "1646/2388 행 요약 완료\n"
     ]
    },
    {
     "name": "stderr",
     "output_type": "stream",
     "text": [
      "요약 진행 중:  69%|██████▉   | 1646/2388 [1:01:10<27:20,  2.21s/it]"
     ]
    },
    {
     "name": "stdout",
     "output_type": "stream",
     "text": [
      "1647/2388 행 요약 완료\n"
     ]
    },
    {
     "name": "stderr",
     "output_type": "stream",
     "text": [
      "요약 진행 중:  69%|██████▉   | 1647/2388 [1:01:12<25:14,  2.04s/it]"
     ]
    },
    {
     "name": "stdout",
     "output_type": "stream",
     "text": [
      "1648/2388 행 요약 완료\n"
     ]
    },
    {
     "name": "stderr",
     "output_type": "stream",
     "text": [
      "요약 진행 중:  69%|██████▉   | 1648/2388 [1:01:14<25:30,  2.07s/it]"
     ]
    },
    {
     "name": "stdout",
     "output_type": "stream",
     "text": [
      "1649/2388 행 요약 완료\n"
     ]
    },
    {
     "name": "stderr",
     "output_type": "stream",
     "text": [
      "요약 진행 중:  69%|██████▉   | 1649/2388 [1:01:17<27:57,  2.27s/it]"
     ]
    },
    {
     "name": "stdout",
     "output_type": "stream",
     "text": [
      "1650/2388 행 요약 완료\n"
     ]
    },
    {
     "name": "stderr",
     "output_type": "stream",
     "text": [
      "요약 진행 중:  69%|██████▉   | 1650/2388 [1:01:20<32:47,  2.67s/it]"
     ]
    },
    {
     "name": "stdout",
     "output_type": "stream",
     "text": [
      "1651/2388 행 요약 완료\n"
     ]
    },
    {
     "name": "stderr",
     "output_type": "stream",
     "text": [
      "요약 진행 중:  69%|██████▉   | 1651/2388 [1:01:23<31:21,  2.55s/it]"
     ]
    },
    {
     "name": "stdout",
     "output_type": "stream",
     "text": [
      "1652/2388 행 요약 완료\n"
     ]
    },
    {
     "name": "stderr",
     "output_type": "stream",
     "text": [
      "요약 진행 중:  69%|██████▉   | 1652/2388 [1:01:25<29:28,  2.40s/it]"
     ]
    },
    {
     "name": "stdout",
     "output_type": "stream",
     "text": [
      "1653/2388 행 요약 완료\n"
     ]
    },
    {
     "name": "stderr",
     "output_type": "stream",
     "text": [
      "요약 진행 중:  69%|██████▉   | 1653/2388 [1:01:28<32:13,  2.63s/it]"
     ]
    },
    {
     "name": "stdout",
     "output_type": "stream",
     "text": [
      "1654/2388 행 요약 완료\n"
     ]
    },
    {
     "name": "stderr",
     "output_type": "stream",
     "text": [
      "요약 진행 중:  69%|██████▉   | 1654/2388 [1:01:29<28:05,  2.30s/it]"
     ]
    },
    {
     "name": "stdout",
     "output_type": "stream",
     "text": [
      "1655/2388 행 요약 완료\n"
     ]
    },
    {
     "name": "stderr",
     "output_type": "stream",
     "text": [
      "요약 진행 중:  69%|██████▉   | 1655/2388 [1:01:31<24:03,  1.97s/it]"
     ]
    },
    {
     "name": "stdout",
     "output_type": "stream",
     "text": [
      "1656/2388 행 요약 완료\n"
     ]
    },
    {
     "name": "stderr",
     "output_type": "stream",
     "text": [
      "요약 진행 중:  69%|██████▉   | 1656/2388 [1:01:33<23:46,  1.95s/it]"
     ]
    },
    {
     "name": "stdout",
     "output_type": "stream",
     "text": [
      "1657/2388 행 요약 완료\n"
     ]
    },
    {
     "name": "stderr",
     "output_type": "stream",
     "text": [
      "요약 진행 중:  69%|██████▉   | 1657/2388 [1:01:36<28:28,  2.34s/it]"
     ]
    },
    {
     "name": "stdout",
     "output_type": "stream",
     "text": [
      "1658/2388 행 요약 완료\n"
     ]
    },
    {
     "name": "stderr",
     "output_type": "stream",
     "text": [
      "요약 진행 중:  69%|██████▉   | 1658/2388 [1:01:38<27:00,  2.22s/it]"
     ]
    },
    {
     "name": "stdout",
     "output_type": "stream",
     "text": [
      "1659/2388 행 요약 완료\n"
     ]
    },
    {
     "name": "stderr",
     "output_type": "stream",
     "text": [
      "요약 진행 중:  69%|██████▉   | 1659/2388 [1:01:39<23:30,  1.93s/it]"
     ]
    },
    {
     "name": "stdout",
     "output_type": "stream",
     "text": [
      "1660/2388 행 요약 완료\n"
     ]
    },
    {
     "name": "stderr",
     "output_type": "stream",
     "text": [
      "요약 진행 중:  70%|██████▉   | 1660/2388 [1:01:41<23:36,  1.95s/it]"
     ]
    },
    {
     "name": "stdout",
     "output_type": "stream",
     "text": [
      "1661/2388 행 요약 완료\n"
     ]
    },
    {
     "name": "stderr",
     "output_type": "stream",
     "text": [
      "요약 진행 중:  70%|██████▉   | 1661/2388 [1:01:42<20:51,  1.72s/it]"
     ]
    },
    {
     "name": "stdout",
     "output_type": "stream",
     "text": [
      "1662/2388 행 요약 완료\n"
     ]
    },
    {
     "name": "stderr",
     "output_type": "stream",
     "text": [
      "요약 진행 중:  70%|██████▉   | 1662/2388 [1:01:44<22:40,  1.87s/it]"
     ]
    },
    {
     "name": "stdout",
     "output_type": "stream",
     "text": [
      "1663/2388 행 요약 완료\n"
     ]
    },
    {
     "name": "stderr",
     "output_type": "stream",
     "text": [
      "요약 진행 중:  70%|██████▉   | 1663/2388 [1:01:46<20:07,  1.67s/it]"
     ]
    },
    {
     "name": "stdout",
     "output_type": "stream",
     "text": [
      "1664/2388 행 요약 완료\n"
     ]
    },
    {
     "name": "stderr",
     "output_type": "stream",
     "text": [
      "요약 진행 중:  70%|██████▉   | 1664/2388 [1:01:47<18:47,  1.56s/it]"
     ]
    },
    {
     "name": "stdout",
     "output_type": "stream",
     "text": [
      "1665/2388 행 요약 완료\n"
     ]
    },
    {
     "name": "stderr",
     "output_type": "stream",
     "text": [
      "요약 진행 중:  70%|██████▉   | 1665/2388 [1:01:50<24:04,  2.00s/it]"
     ]
    },
    {
     "name": "stdout",
     "output_type": "stream",
     "text": [
      "1666/2388 행 요약 완료\n"
     ]
    },
    {
     "name": "stderr",
     "output_type": "stream",
     "text": [
      "요약 진행 중:  70%|██████▉   | 1666/2388 [1:01:52<24:20,  2.02s/it]"
     ]
    },
    {
     "name": "stdout",
     "output_type": "stream",
     "text": [
      "1667/2388 행 요약 완료\n"
     ]
    },
    {
     "name": "stderr",
     "output_type": "stream",
     "text": [
      "요약 진행 중:  70%|██████▉   | 1667/2388 [1:01:53<21:58,  1.83s/it]"
     ]
    },
    {
     "name": "stdout",
     "output_type": "stream",
     "text": [
      "1668/2388 행 요약 완료\n"
     ]
    },
    {
     "name": "stderr",
     "output_type": "stream",
     "text": [
      "요약 진행 중:  70%|██████▉   | 1668/2388 [1:01:55<21:20,  1.78s/it]"
     ]
    },
    {
     "name": "stdout",
     "output_type": "stream",
     "text": [
      "1669/2388 행 요약 완료\n"
     ]
    },
    {
     "name": "stderr",
     "output_type": "stream",
     "text": [
      "요약 진행 중:  70%|██████▉   | 1669/2388 [1:01:58<24:04,  2.01s/it]"
     ]
    },
    {
     "name": "stdout",
     "output_type": "stream",
     "text": [
      "1670/2388 행 요약 완료\n"
     ]
    },
    {
     "name": "stderr",
     "output_type": "stream",
     "text": [
      "요약 진행 중:  70%|██████▉   | 1670/2388 [1:02:00<24:04,  2.01s/it]"
     ]
    },
    {
     "name": "stdout",
     "output_type": "stream",
     "text": [
      "1671/2388 행 요약 완료\n"
     ]
    },
    {
     "name": "stderr",
     "output_type": "stream",
     "text": [
      "요약 진행 중:  70%|██████▉   | 1671/2388 [1:02:01<21:36,  1.81s/it]"
     ]
    },
    {
     "name": "stdout",
     "output_type": "stream",
     "text": [
      "1672/2388 행 요약 완료\n"
     ]
    },
    {
     "name": "stderr",
     "output_type": "stream",
     "text": [
      "요약 진행 중:  70%|███████   | 1672/2388 [1:02:03<21:36,  1.81s/it]"
     ]
    },
    {
     "name": "stdout",
     "output_type": "stream",
     "text": [
      "1673/2388 행 요약 완료\n"
     ]
    },
    {
     "name": "stderr",
     "output_type": "stream",
     "text": [
      "요약 진행 중:  70%|███████   | 1673/2388 [1:02:07<30:52,  2.59s/it]"
     ]
    },
    {
     "name": "stdout",
     "output_type": "stream",
     "text": [
      "1674/2388 행 요약 완료\n"
     ]
    },
    {
     "name": "stderr",
     "output_type": "stream",
     "text": [
      "요약 진행 중:  70%|███████   | 1674/2388 [1:02:09<27:35,  2.32s/it]"
     ]
    },
    {
     "name": "stdout",
     "output_type": "stream",
     "text": [
      "1675/2388 행 요약 완료\n"
     ]
    },
    {
     "name": "stderr",
     "output_type": "stream",
     "text": [
      "요약 진행 중:  70%|███████   | 1675/2388 [1:02:11<25:48,  2.17s/it]"
     ]
    },
    {
     "name": "stdout",
     "output_type": "stream",
     "text": [
      "1676/2388 행 요약 완료\n"
     ]
    },
    {
     "name": "stderr",
     "output_type": "stream",
     "text": [
      "요약 진행 중:  70%|███████   | 1676/2388 [1:02:13<25:04,  2.11s/it]"
     ]
    },
    {
     "name": "stdout",
     "output_type": "stream",
     "text": [
      "1677/2388 행 요약 완료\n"
     ]
    },
    {
     "name": "stderr",
     "output_type": "stream",
     "text": [
      "요약 진행 중:  70%|███████   | 1677/2388 [1:02:16<28:48,  2.43s/it]"
     ]
    },
    {
     "name": "stdout",
     "output_type": "stream",
     "text": [
      "1678/2388 행 요약 완료\n"
     ]
    },
    {
     "name": "stderr",
     "output_type": "stream",
     "text": [
      "요약 진행 중:  70%|███████   | 1678/2388 [1:02:17<24:22,  2.06s/it]"
     ]
    },
    {
     "name": "stdout",
     "output_type": "stream",
     "text": [
      "1679/2388 행 요약 완료\n"
     ]
    },
    {
     "name": "stderr",
     "output_type": "stream",
     "text": [
      "요약 진행 중:  70%|███████   | 1679/2388 [1:02:18<21:30,  1.82s/it]"
     ]
    },
    {
     "name": "stdout",
     "output_type": "stream",
     "text": [
      "1680/2388 행 요약 완료\n"
     ]
    },
    {
     "name": "stderr",
     "output_type": "stream",
     "text": [
      "요약 진행 중:  70%|███████   | 1680/2388 [1:02:20<20:14,  1.72s/it]"
     ]
    },
    {
     "name": "stdout",
     "output_type": "stream",
     "text": [
      "1681/2388 행 요약 완료\n"
     ]
    },
    {
     "name": "stderr",
     "output_type": "stream",
     "text": [
      "요약 진행 중:  70%|███████   | 1681/2388 [1:02:21<18:42,  1.59s/it]"
     ]
    },
    {
     "name": "stdout",
     "output_type": "stream",
     "text": [
      "1682/2388 행 요약 완료\n"
     ]
    },
    {
     "name": "stderr",
     "output_type": "stream",
     "text": [
      "요약 진행 중:  70%|███████   | 1682/2388 [1:02:22<17:44,  1.51s/it]"
     ]
    },
    {
     "name": "stdout",
     "output_type": "stream",
     "text": [
      "1683/2388 행 요약 완료\n"
     ]
    },
    {
     "name": "stderr",
     "output_type": "stream",
     "text": [
      "요약 진행 중:  70%|███████   | 1683/2388 [1:02:24<18:45,  1.60s/it]"
     ]
    },
    {
     "name": "stdout",
     "output_type": "stream",
     "text": [
      "1684/2388 행 요약 완료\n"
     ]
    },
    {
     "name": "stderr",
     "output_type": "stream",
     "text": [
      "요약 진행 중:  71%|███████   | 1684/2388 [1:02:27<23:12,  1.98s/it]"
     ]
    },
    {
     "name": "stdout",
     "output_type": "stream",
     "text": [
      "1685/2388 행 요약 완료\n"
     ]
    },
    {
     "name": "stderr",
     "output_type": "stream",
     "text": [
      "요약 진행 중:  71%|███████   | 1685/2388 [1:02:29<22:54,  1.95s/it]"
     ]
    },
    {
     "name": "stdout",
     "output_type": "stream",
     "text": [
      "1686/2388 행 요약 완료\n"
     ]
    },
    {
     "name": "stderr",
     "output_type": "stream",
     "text": [
      "요약 진행 중:  71%|███████   | 1686/2388 [1:02:31<24:14,  2.07s/it]"
     ]
    },
    {
     "name": "stdout",
     "output_type": "stream",
     "text": [
      "1687/2388 행 요약 완료\n"
     ]
    },
    {
     "name": "stderr",
     "output_type": "stream",
     "text": [
      "요약 진행 중:  71%|███████   | 1687/2388 [1:02:33<22:09,  1.90s/it]"
     ]
    },
    {
     "name": "stdout",
     "output_type": "stream",
     "text": [
      "1688/2388 행 요약 완료\n"
     ]
    },
    {
     "name": "stderr",
     "output_type": "stream",
     "text": [
      "요약 진행 중:  71%|███████   | 1688/2388 [1:02:34<19:13,  1.65s/it]"
     ]
    },
    {
     "name": "stdout",
     "output_type": "stream",
     "text": [
      "1689/2388 행 요약 완료\n"
     ]
    },
    {
     "name": "stderr",
     "output_type": "stream",
     "text": [
      "요약 진행 중:  71%|███████   | 1689/2388 [1:02:36<21:43,  1.86s/it]"
     ]
    },
    {
     "name": "stdout",
     "output_type": "stream",
     "text": [
      "1690/2388 행 요약 완료\n"
     ]
    },
    {
     "name": "stderr",
     "output_type": "stream",
     "text": [
      "요약 진행 중:  71%|███████   | 1690/2388 [1:02:40<27:13,  2.34s/it]"
     ]
    },
    {
     "name": "stdout",
     "output_type": "stream",
     "text": [
      "1691/2388 행 요약 완료\n"
     ]
    },
    {
     "name": "stderr",
     "output_type": "stream",
     "text": [
      "요약 진행 중:  71%|███████   | 1691/2388 [1:02:43<30:47,  2.65s/it]"
     ]
    },
    {
     "name": "stdout",
     "output_type": "stream",
     "text": [
      "1692/2388 행 요약 완료\n"
     ]
    },
    {
     "name": "stderr",
     "output_type": "stream",
     "text": [
      "요약 진행 중:  71%|███████   | 1692/2388 [1:02:45<30:00,  2.59s/it]"
     ]
    },
    {
     "name": "stdout",
     "output_type": "stream",
     "text": [
      "1693/2388 행 요약 완료\n"
     ]
    },
    {
     "name": "stderr",
     "output_type": "stream",
     "text": [
      "요약 진행 중:  71%|███████   | 1693/2388 [1:02:48<28:32,  2.46s/it]"
     ]
    },
    {
     "name": "stdout",
     "output_type": "stream",
     "text": [
      "1694/2388 행 요약 완료\n"
     ]
    },
    {
     "name": "stderr",
     "output_type": "stream",
     "text": [
      "요약 진행 중:  71%|███████   | 1694/2388 [1:02:50<26:54,  2.33s/it]"
     ]
    },
    {
     "name": "stdout",
     "output_type": "stream",
     "text": [
      "1695/2388 행 요약 완료\n"
     ]
    },
    {
     "name": "stderr",
     "output_type": "stream",
     "text": [
      "요약 진행 중:  71%|███████   | 1695/2388 [1:02:53<31:44,  2.75s/it]"
     ]
    },
    {
     "name": "stdout",
     "output_type": "stream",
     "text": [
      "1696/2388 행 요약 완료\n"
     ]
    },
    {
     "name": "stderr",
     "output_type": "stream",
     "text": [
      "요약 진행 중:  71%|███████   | 1696/2388 [1:02:55<26:29,  2.30s/it]"
     ]
    },
    {
     "name": "stdout",
     "output_type": "stream",
     "text": [
      "1697/2388 행 요약 완료\n"
     ]
    },
    {
     "name": "stderr",
     "output_type": "stream",
     "text": [
      "요약 진행 중:  71%|███████   | 1697/2388 [1:02:59<34:07,  2.96s/it]"
     ]
    },
    {
     "name": "stdout",
     "output_type": "stream",
     "text": [
      "1698/2388 행 요약 완료\n"
     ]
    },
    {
     "name": "stderr",
     "output_type": "stream",
     "text": [
      "요약 진행 중:  71%|███████   | 1698/2388 [1:03:01<29:28,  2.56s/it]"
     ]
    },
    {
     "name": "stdout",
     "output_type": "stream",
     "text": [
      "1699/2388 행 요약 완료\n"
     ]
    },
    {
     "name": "stderr",
     "output_type": "stream",
     "text": [
      "요약 진행 중:  71%|███████   | 1699/2388 [1:03:03<28:56,  2.52s/it]"
     ]
    },
    {
     "name": "stdout",
     "output_type": "stream",
     "text": [
      "1700/2388 행 요약 완료\n"
     ]
    },
    {
     "name": "stderr",
     "output_type": "stream",
     "text": [
      "요약 진행 중:  71%|███████   | 1700/2388 [1:03:05<25:13,  2.20s/it]"
     ]
    },
    {
     "name": "stdout",
     "output_type": "stream",
     "text": [
      "1701/2388 행 요약 완료\n"
     ]
    },
    {
     "name": "stderr",
     "output_type": "stream",
     "text": [
      "요약 진행 중:  71%|███████   | 1701/2388 [1:03:06<23:20,  2.04s/it]"
     ]
    },
    {
     "name": "stdout",
     "output_type": "stream",
     "text": [
      "1702/2388 행 요약 완료\n"
     ]
    },
    {
     "name": "stderr",
     "output_type": "stream",
     "text": [
      "요약 진행 중:  71%|███████▏  | 1702/2388 [1:03:09<24:01,  2.10s/it]"
     ]
    },
    {
     "name": "stdout",
     "output_type": "stream",
     "text": [
      "1703/2388 행 요약 완료\n"
     ]
    },
    {
     "name": "stderr",
     "output_type": "stream",
     "text": [
      "요약 진행 중:  71%|███████▏  | 1703/2388 [1:03:11<24:03,  2.11s/it]"
     ]
    },
    {
     "name": "stdout",
     "output_type": "stream",
     "text": [
      "1704/2388 행 요약 완료\n"
     ]
    },
    {
     "name": "stderr",
     "output_type": "stream",
     "text": [
      "요약 진행 중:  71%|███████▏  | 1704/2388 [1:03:13<24:28,  2.15s/it]"
     ]
    },
    {
     "name": "stdout",
     "output_type": "stream",
     "text": [
      "1705/2388 행 요약 완료\n"
     ]
    },
    {
     "name": "stderr",
     "output_type": "stream",
     "text": [
      "요약 진행 중:  71%|███████▏  | 1705/2388 [1:03:16<26:38,  2.34s/it]"
     ]
    },
    {
     "name": "stdout",
     "output_type": "stream",
     "text": [
      "1706/2388 행 요약 완료\n"
     ]
    },
    {
     "name": "stderr",
     "output_type": "stream",
     "text": [
      "요약 진행 중:  71%|███████▏  | 1706/2388 [1:03:18<26:21,  2.32s/it]"
     ]
    },
    {
     "name": "stdout",
     "output_type": "stream",
     "text": [
      "1707/2388 행 요약 완료\n"
     ]
    },
    {
     "name": "stderr",
     "output_type": "stream",
     "text": [
      "요약 진행 중:  71%|███████▏  | 1707/2388 [1:03:21<28:35,  2.52s/it]"
     ]
    },
    {
     "name": "stdout",
     "output_type": "stream",
     "text": [
      "1708/2388 행 요약 완료\n"
     ]
    },
    {
     "name": "stderr",
     "output_type": "stream",
     "text": [
      "요약 진행 중:  72%|███████▏  | 1708/2388 [1:03:23<25:53,  2.28s/it]"
     ]
    },
    {
     "name": "stdout",
     "output_type": "stream",
     "text": [
      "1709/2388 행 요약 완료\n"
     ]
    },
    {
     "name": "stderr",
     "output_type": "stream",
     "text": [
      "요약 진행 중:  72%|███████▏  | 1709/2388 [1:03:24<24:02,  2.13s/it]"
     ]
    },
    {
     "name": "stdout",
     "output_type": "stream",
     "text": [
      "1710/2388 행 요약 완료\n"
     ]
    },
    {
     "name": "stderr",
     "output_type": "stream",
     "text": [
      "요약 진행 중:  72%|███████▏  | 1710/2388 [1:03:26<22:53,  2.03s/it]"
     ]
    },
    {
     "name": "stdout",
     "output_type": "stream",
     "text": [
      "1711/2388 행 요약 완료\n"
     ]
    },
    {
     "name": "stderr",
     "output_type": "stream",
     "text": [
      "요약 진행 중:  72%|███████▏  | 1711/2388 [1:03:28<21:44,  1.93s/it]"
     ]
    },
    {
     "name": "stdout",
     "output_type": "stream",
     "text": [
      "1712/2388 행 요약 완료\n"
     ]
    },
    {
     "name": "stderr",
     "output_type": "stream",
     "text": [
      "요약 진행 중:  72%|███████▏  | 1712/2388 [1:03:30<20:31,  1.82s/it]"
     ]
    },
    {
     "name": "stdout",
     "output_type": "stream",
     "text": [
      "1713/2388 행 요약 완료\n"
     ]
    },
    {
     "name": "stderr",
     "output_type": "stream",
     "text": [
      "요약 진행 중:  72%|███████▏  | 1713/2388 [1:03:32<21:11,  1.88s/it]"
     ]
    },
    {
     "name": "stdout",
     "output_type": "stream",
     "text": [
      "1714/2388 행 요약 완료\n"
     ]
    },
    {
     "name": "stderr",
     "output_type": "stream",
     "text": [
      "요약 진행 중:  72%|███████▏  | 1714/2388 [1:03:33<20:11,  1.80s/it]"
     ]
    },
    {
     "name": "stdout",
     "output_type": "stream",
     "text": [
      "1715/2388 행 요약 완료\n"
     ]
    },
    {
     "name": "stderr",
     "output_type": "stream",
     "text": [
      "요약 진행 중:  72%|███████▏  | 1715/2388 [1:03:34<18:34,  1.66s/it]"
     ]
    },
    {
     "name": "stdout",
     "output_type": "stream",
     "text": [
      "1716/2388 행 요약 완료\n"
     ]
    },
    {
     "name": "stderr",
     "output_type": "stream",
     "text": [
      "요약 진행 중:  72%|███████▏  | 1716/2388 [1:03:37<22:08,  1.98s/it]"
     ]
    },
    {
     "name": "stdout",
     "output_type": "stream",
     "text": [
      "1717/2388 행 요약 완료\n"
     ]
    },
    {
     "name": "stderr",
     "output_type": "stream",
     "text": [
      "요약 진행 중:  72%|███████▏  | 1717/2388 [1:03:39<20:48,  1.86s/it]"
     ]
    },
    {
     "name": "stdout",
     "output_type": "stream",
     "text": [
      "1718/2388 행 요약 완료\n"
     ]
    },
    {
     "name": "stderr",
     "output_type": "stream",
     "text": [
      "요약 진행 중:  72%|███████▏  | 1718/2388 [1:03:42<25:04,  2.25s/it]"
     ]
    },
    {
     "name": "stdout",
     "output_type": "stream",
     "text": [
      "1719/2388 행 요약 완료\n"
     ]
    },
    {
     "name": "stderr",
     "output_type": "stream",
     "text": [
      "요약 진행 중:  72%|███████▏  | 1719/2388 [1:03:44<25:05,  2.25s/it]"
     ]
    },
    {
     "name": "stdout",
     "output_type": "stream",
     "text": [
      "1720/2388 행 요약 완료\n"
     ]
    },
    {
     "name": "stderr",
     "output_type": "stream",
     "text": [
      "요약 진행 중:  72%|███████▏  | 1720/2388 [1:03:47<26:30,  2.38s/it]"
     ]
    },
    {
     "name": "stdout",
     "output_type": "stream",
     "text": [
      "1721/2388 행 요약 완료\n"
     ]
    },
    {
     "name": "stderr",
     "output_type": "stream",
     "text": [
      "요약 진행 중:  72%|███████▏  | 1721/2388 [1:03:48<23:45,  2.14s/it]"
     ]
    },
    {
     "name": "stdout",
     "output_type": "stream",
     "text": [
      "1722/2388 행 요약 완료\n"
     ]
    },
    {
     "name": "stderr",
     "output_type": "stream",
     "text": [
      "요약 진행 중:  72%|███████▏  | 1722/2388 [1:03:50<20:40,  1.86s/it]"
     ]
    },
    {
     "name": "stdout",
     "output_type": "stream",
     "text": [
      "1723/2388 행 요약 완료\n"
     ]
    },
    {
     "name": "stderr",
     "output_type": "stream",
     "text": [
      "요약 진행 중:  72%|███████▏  | 1723/2388 [1:03:51<18:48,  1.70s/it]"
     ]
    },
    {
     "name": "stdout",
     "output_type": "stream",
     "text": [
      "1724/2388 행 요약 완료\n"
     ]
    },
    {
     "name": "stderr",
     "output_type": "stream",
     "text": [
      "요약 진행 중:  72%|███████▏  | 1724/2388 [1:03:55<25:58,  2.35s/it]"
     ]
    },
    {
     "name": "stdout",
     "output_type": "stream",
     "text": [
      "1725/2388 행 요약 완료\n"
     ]
    },
    {
     "name": "stderr",
     "output_type": "stream",
     "text": [
      "요약 진행 중:  72%|███████▏  | 1725/2388 [1:03:56<22:18,  2.02s/it]"
     ]
    },
    {
     "name": "stdout",
     "output_type": "stream",
     "text": [
      "1726/2388 행 요약 완료\n"
     ]
    },
    {
     "name": "stderr",
     "output_type": "stream",
     "text": [
      "요약 진행 중:  72%|███████▏  | 1726/2388 [1:03:57<20:09,  1.83s/it]"
     ]
    },
    {
     "name": "stdout",
     "output_type": "stream",
     "text": [
      "1727/2388 행 요약 완료\n"
     ]
    },
    {
     "name": "stderr",
     "output_type": "stream",
     "text": [
      "요약 진행 중:  72%|███████▏  | 1727/2388 [1:03:59<18:36,  1.69s/it]"
     ]
    },
    {
     "name": "stdout",
     "output_type": "stream",
     "text": [
      "1728/2388 행 요약 완료\n"
     ]
    },
    {
     "name": "stderr",
     "output_type": "stream",
     "text": [
      "요약 진행 중:  72%|███████▏  | 1728/2388 [1:04:00<17:35,  1.60s/it]"
     ]
    },
    {
     "name": "stdout",
     "output_type": "stream",
     "text": [
      "1729/2388 행 요약 완료\n"
     ]
    },
    {
     "name": "stderr",
     "output_type": "stream",
     "text": [
      "요약 진행 중:  72%|███████▏  | 1729/2388 [1:04:02<16:47,  1.53s/it]"
     ]
    },
    {
     "name": "stdout",
     "output_type": "stream",
     "text": [
      "1730/2388 행 요약 완료\n"
     ]
    },
    {
     "name": "stderr",
     "output_type": "stream",
     "text": [
      "요약 진행 중:  72%|███████▏  | 1730/2388 [1:04:03<15:16,  1.39s/it]"
     ]
    },
    {
     "name": "stdout",
     "output_type": "stream",
     "text": [
      "1731/2388 행 요약 완료\n"
     ]
    },
    {
     "name": "stderr",
     "output_type": "stream",
     "text": [
      "요약 진행 중:  72%|███████▏  | 1731/2388 [1:04:04<15:29,  1.41s/it]"
     ]
    },
    {
     "name": "stdout",
     "output_type": "stream",
     "text": [
      "1732/2388 행 요약 완료\n"
     ]
    },
    {
     "name": "stderr",
     "output_type": "stream",
     "text": [
      "요약 진행 중:  73%|███████▎  | 1732/2388 [1:04:06<16:38,  1.52s/it]"
     ]
    },
    {
     "name": "stdout",
     "output_type": "stream",
     "text": [
      "1733/2388 행 요약 완료\n"
     ]
    },
    {
     "name": "stderr",
     "output_type": "stream",
     "text": [
      "요약 진행 중:  73%|███████▎  | 1733/2388 [1:04:09<21:39,  1.98s/it]"
     ]
    },
    {
     "name": "stdout",
     "output_type": "stream",
     "text": [
      "1734/2388 행 요약 완료\n"
     ]
    },
    {
     "name": "stderr",
     "output_type": "stream",
     "text": [
      "요약 진행 중:  73%|███████▎  | 1734/2388 [1:04:11<21:10,  1.94s/it]"
     ]
    },
    {
     "name": "stdout",
     "output_type": "stream",
     "text": [
      "1735/2388 행 요약 완료\n"
     ]
    },
    {
     "name": "stderr",
     "output_type": "stream",
     "text": [
      "요약 진행 중:  73%|███████▎  | 1735/2388 [1:04:13<22:15,  2.04s/it]"
     ]
    },
    {
     "name": "stdout",
     "output_type": "stream",
     "text": [
      "1736/2388 행 요약 완료\n"
     ]
    },
    {
     "name": "stderr",
     "output_type": "stream",
     "text": [
      "요약 진행 중:  73%|███████▎  | 1736/2388 [1:04:15<21:56,  2.02s/it]"
     ]
    },
    {
     "name": "stdout",
     "output_type": "stream",
     "text": [
      "1737/2388 행 요약 완료\n"
     ]
    },
    {
     "name": "stderr",
     "output_type": "stream",
     "text": [
      "요약 진행 중:  73%|███████▎  | 1737/2388 [1:04:16<18:42,  1.72s/it]"
     ]
    },
    {
     "name": "stdout",
     "output_type": "stream",
     "text": [
      "1738/2388 행 요약 완료\n"
     ]
    },
    {
     "name": "stderr",
     "output_type": "stream",
     "text": [
      "요약 진행 중:  73%|███████▎  | 1738/2388 [1:04:18<17:59,  1.66s/it]"
     ]
    },
    {
     "name": "stdout",
     "output_type": "stream",
     "text": [
      "1739/2388 행 요약 완료\n"
     ]
    },
    {
     "name": "stderr",
     "output_type": "stream",
     "text": [
      "요약 진행 중:  73%|███████▎  | 1739/2388 [1:04:19<17:15,  1.60s/it]"
     ]
    },
    {
     "name": "stdout",
     "output_type": "stream",
     "text": [
      "1740/2388 행 요약 완료\n"
     ]
    },
    {
     "name": "stderr",
     "output_type": "stream",
     "text": [
      "요약 진행 중:  73%|███████▎  | 1740/2388 [1:04:21<18:47,  1.74s/it]"
     ]
    },
    {
     "name": "stdout",
     "output_type": "stream",
     "text": [
      "1741/2388 행 요약 완료\n"
     ]
    },
    {
     "name": "stderr",
     "output_type": "stream",
     "text": [
      "요약 진행 중:  73%|███████▎  | 1741/2388 [1:04:23<18:29,  1.71s/it]"
     ]
    },
    {
     "name": "stdout",
     "output_type": "stream",
     "text": [
      "1742/2388 행 요약 완료\n"
     ]
    },
    {
     "name": "stderr",
     "output_type": "stream",
     "text": [
      "요약 진행 중:  73%|███████▎  | 1742/2388 [1:04:25<18:44,  1.74s/it]"
     ]
    },
    {
     "name": "stdout",
     "output_type": "stream",
     "text": [
      "1743/2388 행 요약 완료\n"
     ]
    },
    {
     "name": "stderr",
     "output_type": "stream",
     "text": [
      "요약 진행 중:  73%|███████▎  | 1743/2388 [1:04:26<17:32,  1.63s/it]"
     ]
    },
    {
     "name": "stdout",
     "output_type": "stream",
     "text": [
      "1744/2388 행 요약 완료\n"
     ]
    },
    {
     "name": "stderr",
     "output_type": "stream",
     "text": [
      "요약 진행 중:  73%|███████▎  | 1744/2388 [1:04:28<17:35,  1.64s/it]"
     ]
    },
    {
     "name": "stdout",
     "output_type": "stream",
     "text": [
      "1745/2388 행 요약 완료\n"
     ]
    },
    {
     "name": "stderr",
     "output_type": "stream",
     "text": [
      "요약 진행 중:  73%|███████▎  | 1745/2388 [1:04:29<18:12,  1.70s/it]"
     ]
    },
    {
     "name": "stdout",
     "output_type": "stream",
     "text": [
      "1746/2388 행 요약 완료\n"
     ]
    },
    {
     "name": "stderr",
     "output_type": "stream",
     "text": [
      "요약 진행 중:  73%|███████▎  | 1746/2388 [1:04:32<21:53,  2.05s/it]"
     ]
    },
    {
     "name": "stdout",
     "output_type": "stream",
     "text": [
      "1747/2388 행 요약 완료\n"
     ]
    },
    {
     "name": "stderr",
     "output_type": "stream",
     "text": [
      "요약 진행 중:  73%|███████▎  | 1747/2388 [1:04:34<20:25,  1.91s/it]"
     ]
    },
    {
     "name": "stdout",
     "output_type": "stream",
     "text": [
      "1748/2388 행 요약 완료\n"
     ]
    },
    {
     "name": "stderr",
     "output_type": "stream",
     "text": [
      "요약 진행 중:  73%|███████▎  | 1748/2388 [1:04:37<23:17,  2.18s/it]"
     ]
    },
    {
     "name": "stdout",
     "output_type": "stream",
     "text": [
      "1749/2388 행 요약 완료\n"
     ]
    },
    {
     "name": "stderr",
     "output_type": "stream",
     "text": [
      "요약 진행 중:  73%|███████▎  | 1749/2388 [1:04:41<29:43,  2.79s/it]"
     ]
    },
    {
     "name": "stdout",
     "output_type": "stream",
     "text": [
      "1750/2388 행 요약 완료\n"
     ]
    },
    {
     "name": "stderr",
     "output_type": "stream",
     "text": [
      "요약 진행 중:  73%|███████▎  | 1750/2388 [1:04:44<29:19,  2.76s/it]"
     ]
    },
    {
     "name": "stdout",
     "output_type": "stream",
     "text": [
      "1751/2388 행 요약 완료\n"
     ]
    },
    {
     "name": "stderr",
     "output_type": "stream",
     "text": [
      "요약 진행 중:  73%|███████▎  | 1751/2388 [1:04:46<26:57,  2.54s/it]"
     ]
    },
    {
     "name": "stdout",
     "output_type": "stream",
     "text": [
      "1752/2388 행 요약 완료\n"
     ]
    },
    {
     "name": "stderr",
     "output_type": "stream",
     "text": [
      "요약 진행 중:  73%|███████▎  | 1752/2388 [1:04:48<25:57,  2.45s/it]"
     ]
    },
    {
     "name": "stdout",
     "output_type": "stream",
     "text": [
      "1753/2388 행 요약 완료\n"
     ]
    },
    {
     "name": "stderr",
     "output_type": "stream",
     "text": [
      "요약 진행 중:  73%|███████▎  | 1753/2388 [1:04:49<21:57,  2.08s/it]"
     ]
    },
    {
     "name": "stdout",
     "output_type": "stream",
     "text": [
      "1754/2388 행 요약 완료\n"
     ]
    },
    {
     "name": "stderr",
     "output_type": "stream",
     "text": [
      "요약 진행 중:  73%|███████▎  | 1754/2388 [1:04:51<22:01,  2.08s/it]"
     ]
    },
    {
     "name": "stdout",
     "output_type": "stream",
     "text": [
      "1755/2388 행 요약 완료\n"
     ]
    },
    {
     "name": "stderr",
     "output_type": "stream",
     "text": [
      "요약 진행 중:  73%|███████▎  | 1755/2388 [1:04:53<21:34,  2.04s/it]"
     ]
    },
    {
     "name": "stdout",
     "output_type": "stream",
     "text": [
      "1756/2388 행 요약 완료\n"
     ]
    },
    {
     "name": "stderr",
     "output_type": "stream",
     "text": [
      "요약 진행 중:  74%|███████▎  | 1756/2388 [1:04:55<20:36,  1.96s/it]"
     ]
    },
    {
     "name": "stdout",
     "output_type": "stream",
     "text": [
      "1757/2388 행 요약 완료\n"
     ]
    },
    {
     "name": "stderr",
     "output_type": "stream",
     "text": [
      "요약 진행 중:  74%|███████▎  | 1757/2388 [1:04:57<21:20,  2.03s/it]"
     ]
    },
    {
     "name": "stdout",
     "output_type": "stream",
     "text": [
      "1758/2388 행 요약 완료\n"
     ]
    },
    {
     "name": "stderr",
     "output_type": "stream",
     "text": [
      "요약 진행 중:  74%|███████▎  | 1758/2388 [1:04:59<21:55,  2.09s/it]"
     ]
    },
    {
     "name": "stdout",
     "output_type": "stream",
     "text": [
      "1759/2388 행 요약 완료\n"
     ]
    },
    {
     "name": "stderr",
     "output_type": "stream",
     "text": [
      "요약 진행 중:  74%|███████▎  | 1759/2388 [1:05:02<23:45,  2.27s/it]"
     ]
    },
    {
     "name": "stdout",
     "output_type": "stream",
     "text": [
      "1760/2388 행 요약 완료\n"
     ]
    },
    {
     "name": "stderr",
     "output_type": "stream",
     "text": [
      "요약 진행 중:  74%|███████▎  | 1760/2388 [1:05:03<19:30,  1.86s/it]"
     ]
    },
    {
     "name": "stdout",
     "output_type": "stream",
     "text": [
      "1761/2388 행 요약 완료\n"
     ]
    },
    {
     "name": "stderr",
     "output_type": "stream",
     "text": [
      "요약 진행 중:  74%|███████▎  | 1761/2388 [1:05:05<19:55,  1.91s/it]"
     ]
    },
    {
     "name": "stdout",
     "output_type": "stream",
     "text": [
      "1762/2388 행 요약 완료\n"
     ]
    },
    {
     "name": "stderr",
     "output_type": "stream",
     "text": [
      "요약 진행 중:  74%|███████▍  | 1762/2388 [1:05:10<28:39,  2.75s/it]"
     ]
    },
    {
     "name": "stdout",
     "output_type": "stream",
     "text": [
      "1763/2388 행 요약 완료\n"
     ]
    },
    {
     "name": "stderr",
     "output_type": "stream",
     "text": [
      "요약 진행 중:  74%|███████▍  | 1763/2388 [1:05:11<24:45,  2.38s/it]"
     ]
    },
    {
     "name": "stdout",
     "output_type": "stream",
     "text": [
      "1764/2388 행 요약 완료\n"
     ]
    },
    {
     "name": "stderr",
     "output_type": "stream",
     "text": [
      "요약 진행 중:  74%|███████▍  | 1764/2388 [1:05:15<29:31,  2.84s/it]"
     ]
    },
    {
     "name": "stdout",
     "output_type": "stream",
     "text": [
      "1765/2388 행 요약 완료\n"
     ]
    },
    {
     "name": "stderr",
     "output_type": "stream",
     "text": [
      "요약 진행 중:  74%|███████▍  | 1765/2388 [1:05:16<24:57,  2.40s/it]"
     ]
    },
    {
     "name": "stdout",
     "output_type": "stream",
     "text": [
      "1766/2388 행 요약 완료\n"
     ]
    },
    {
     "name": "stderr",
     "output_type": "stream",
     "text": [
      "요약 진행 중:  74%|███████▍  | 1766/2388 [1:05:18<22:30,  2.17s/it]"
     ]
    },
    {
     "name": "stdout",
     "output_type": "stream",
     "text": [
      "1767/2388 행 요약 완료\n"
     ]
    },
    {
     "name": "stderr",
     "output_type": "stream",
     "text": [
      "요약 진행 중:  74%|███████▍  | 1767/2388 [1:05:22<27:20,  2.64s/it]"
     ]
    },
    {
     "name": "stdout",
     "output_type": "stream",
     "text": [
      "1768/2388 행 요약 완료\n"
     ]
    },
    {
     "name": "stderr",
     "output_type": "stream",
     "text": [
      "요약 진행 중:  74%|███████▍  | 1768/2388 [1:05:23<23:37,  2.29s/it]"
     ]
    },
    {
     "name": "stdout",
     "output_type": "stream",
     "text": [
      "1769/2388 행 요약 완료\n"
     ]
    },
    {
     "name": "stderr",
     "output_type": "stream",
     "text": [
      "요약 진행 중:  74%|███████▍  | 1769/2388 [1:05:25<22:14,  2.16s/it]"
     ]
    },
    {
     "name": "stdout",
     "output_type": "stream",
     "text": [
      "1770/2388 행 요약 완료\n"
     ]
    },
    {
     "name": "stderr",
     "output_type": "stream",
     "text": [
      "요약 진행 중:  74%|███████▍  | 1770/2388 [1:05:28<23:11,  2.25s/it]"
     ]
    },
    {
     "name": "stdout",
     "output_type": "stream",
     "text": [
      "1771/2388 행 요약 완료\n"
     ]
    },
    {
     "name": "stderr",
     "output_type": "stream",
     "text": [
      "요약 진행 중:  74%|███████▍  | 1771/2388 [1:05:29<19:56,  1.94s/it]"
     ]
    },
    {
     "name": "stdout",
     "output_type": "stream",
     "text": [
      "1772/2388 행 요약 완료\n"
     ]
    },
    {
     "name": "stderr",
     "output_type": "stream",
     "text": [
      "요약 진행 중:  74%|███████▍  | 1772/2388 [1:05:31<21:11,  2.06s/it]"
     ]
    },
    {
     "name": "stdout",
     "output_type": "stream",
     "text": [
      "1773/2388 행 요약 완료\n"
     ]
    },
    {
     "name": "stderr",
     "output_type": "stream",
     "text": [
      "요약 진행 중:  74%|███████▍  | 1773/2388 [1:05:36<30:17,  2.96s/it]"
     ]
    },
    {
     "name": "stdout",
     "output_type": "stream",
     "text": [
      "1774/2388 행 요약 완료\n"
     ]
    },
    {
     "name": "stderr",
     "output_type": "stream",
     "text": [
      "요약 진행 중:  74%|███████▍  | 1774/2388 [1:05:39<30:36,  2.99s/it]"
     ]
    },
    {
     "name": "stdout",
     "output_type": "stream",
     "text": [
      "1775/2388 행 요약 완료\n"
     ]
    },
    {
     "name": "stderr",
     "output_type": "stream",
     "text": [
      "요약 진행 중:  74%|███████▍  | 1775/2388 [1:05:41<27:29,  2.69s/it]"
     ]
    },
    {
     "name": "stdout",
     "output_type": "stream",
     "text": [
      "1776/2388 행 요약 완료\n"
     ]
    },
    {
     "name": "stderr",
     "output_type": "stream",
     "text": [
      "요약 진행 중:  74%|███████▍  | 1776/2388 [1:05:44<27:07,  2.66s/it]"
     ]
    },
    {
     "name": "stdout",
     "output_type": "stream",
     "text": [
      "1777/2388 행 요약 완료\n"
     ]
    },
    {
     "name": "stderr",
     "output_type": "stream",
     "text": [
      "요약 진행 중:  74%|███████▍  | 1777/2388 [1:05:47<27:12,  2.67s/it]"
     ]
    },
    {
     "name": "stdout",
     "output_type": "stream",
     "text": [
      "1778/2388 행 요약 완료\n"
     ]
    },
    {
     "name": "stderr",
     "output_type": "stream",
     "text": [
      "요약 진행 중:  74%|███████▍  | 1778/2388 [1:05:49<27:36,  2.71s/it]"
     ]
    },
    {
     "name": "stdout",
     "output_type": "stream",
     "text": [
      "1779/2388 행 요약 완료\n"
     ]
    },
    {
     "name": "stderr",
     "output_type": "stream",
     "text": [
      "요약 진행 중:  74%|███████▍  | 1779/2388 [1:05:52<28:31,  2.81s/it]"
     ]
    },
    {
     "name": "stdout",
     "output_type": "stream",
     "text": [
      "1780/2388 행 요약 완료\n"
     ]
    },
    {
     "name": "stderr",
     "output_type": "stream",
     "text": [
      "요약 진행 중:  75%|███████▍  | 1780/2388 [1:05:55<27:39,  2.73s/it]"
     ]
    },
    {
     "name": "stdout",
     "output_type": "stream",
     "text": [
      "1781/2388 행 요약 완료\n"
     ]
    },
    {
     "name": "stderr",
     "output_type": "stream",
     "text": [
      "요약 진행 중:  75%|███████▍  | 1781/2388 [1:05:57<25:38,  2.53s/it]"
     ]
    },
    {
     "name": "stdout",
     "output_type": "stream",
     "text": [
      "1782/2388 행 요약 완료\n"
     ]
    },
    {
     "name": "stderr",
     "output_type": "stream",
     "text": [
      "요약 진행 중:  75%|███████▍  | 1782/2388 [1:05:59<22:23,  2.22s/it]"
     ]
    },
    {
     "name": "stdout",
     "output_type": "stream",
     "text": [
      "1783/2388 행 요약 완료\n"
     ]
    },
    {
     "name": "stderr",
     "output_type": "stream",
     "text": [
      "요약 진행 중:  75%|███████▍  | 1783/2388 [1:06:00<21:17,  2.11s/it]"
     ]
    },
    {
     "name": "stdout",
     "output_type": "stream",
     "text": [
      "1784/2388 행 요약 완료\n"
     ]
    },
    {
     "name": "stderr",
     "output_type": "stream",
     "text": [
      "요약 진행 중:  75%|███████▍  | 1784/2388 [1:06:02<19:30,  1.94s/it]"
     ]
    },
    {
     "name": "stdout",
     "output_type": "stream",
     "text": [
      "1785/2388 행 요약 완료\n"
     ]
    },
    {
     "name": "stderr",
     "output_type": "stream",
     "text": [
      "요약 진행 중:  75%|███████▍  | 1785/2388 [1:06:04<20:38,  2.05s/it]"
     ]
    },
    {
     "name": "stdout",
     "output_type": "stream",
     "text": [
      "1786/2388 행 요약 완료\n"
     ]
    },
    {
     "name": "stderr",
     "output_type": "stream",
     "text": [
      "요약 진행 중:  75%|███████▍  | 1786/2388 [1:06:06<18:14,  1.82s/it]"
     ]
    },
    {
     "name": "stdout",
     "output_type": "stream",
     "text": [
      "1787/2388 행 요약 완료\n"
     ]
    },
    {
     "name": "stderr",
     "output_type": "stream",
     "text": [
      "요약 진행 중:  75%|███████▍  | 1787/2388 [1:06:08<19:13,  1.92s/it]"
     ]
    },
    {
     "name": "stdout",
     "output_type": "stream",
     "text": [
      "1788/2388 행 요약 완료\n"
     ]
    },
    {
     "name": "stderr",
     "output_type": "stream",
     "text": [
      "요약 진행 중:  75%|███████▍  | 1788/2388 [1:06:11<23:42,  2.37s/it]"
     ]
    },
    {
     "name": "stdout",
     "output_type": "stream",
     "text": [
      "1789/2388 행 요약 완료\n"
     ]
    },
    {
     "name": "stderr",
     "output_type": "stream",
     "text": [
      "요약 진행 중:  75%|███████▍  | 1789/2388 [1:06:14<24:59,  2.50s/it]"
     ]
    },
    {
     "name": "stdout",
     "output_type": "stream",
     "text": [
      "1790/2388 행 요약 완료\n"
     ]
    },
    {
     "name": "stderr",
     "output_type": "stream",
     "text": [
      "요약 진행 중:  75%|███████▍  | 1790/2388 [1:06:15<21:19,  2.14s/it]"
     ]
    },
    {
     "name": "stdout",
     "output_type": "stream",
     "text": [
      "1791/2388 행 요약 완료\n"
     ]
    },
    {
     "name": "stderr",
     "output_type": "stream",
     "text": [
      "요약 진행 중:  75%|███████▌  | 1791/2388 [1:06:19<25:14,  2.54s/it]"
     ]
    },
    {
     "name": "stdout",
     "output_type": "stream",
     "text": [
      "1792/2388 행 요약 완료\n"
     ]
    },
    {
     "name": "stderr",
     "output_type": "stream",
     "text": [
      "요약 진행 중:  75%|███████▌  | 1792/2388 [1:06:20<20:51,  2.10s/it]"
     ]
    },
    {
     "name": "stdout",
     "output_type": "stream",
     "text": [
      "1793/2388 행 요약 완료\n"
     ]
    },
    {
     "name": "stderr",
     "output_type": "stream",
     "text": [
      "요약 진행 중:  75%|███████▌  | 1793/2388 [1:06:21<19:48,  2.00s/it]"
     ]
    },
    {
     "name": "stdout",
     "output_type": "stream",
     "text": [
      "1794/2388 행 요약 완료\n"
     ]
    },
    {
     "name": "stderr",
     "output_type": "stream",
     "text": [
      "요약 진행 중:  75%|███████▌  | 1794/2388 [1:06:23<19:09,  1.93s/it]"
     ]
    },
    {
     "name": "stdout",
     "output_type": "stream",
     "text": [
      "1795/2388 행 요약 완료\n"
     ]
    },
    {
     "name": "stderr",
     "output_type": "stream",
     "text": [
      "요약 진행 중:  75%|███████▌  | 1795/2388 [1:06:26<21:36,  2.19s/it]"
     ]
    },
    {
     "name": "stdout",
     "output_type": "stream",
     "text": [
      "1796/2388 행 요약 완료\n"
     ]
    },
    {
     "name": "stderr",
     "output_type": "stream",
     "text": [
      "요약 진행 중:  75%|███████▌  | 1796/2388 [1:06:30<25:31,  2.59s/it]"
     ]
    },
    {
     "name": "stdout",
     "output_type": "stream",
     "text": [
      "1797/2388 행 요약 완료\n"
     ]
    },
    {
     "name": "stderr",
     "output_type": "stream",
     "text": [
      "요약 진행 중:  75%|███████▌  | 1797/2388 [1:06:31<22:12,  2.25s/it]"
     ]
    },
    {
     "name": "stdout",
     "output_type": "stream",
     "text": [
      "1798/2388 행 요약 완료\n"
     ]
    },
    {
     "name": "stderr",
     "output_type": "stream",
     "text": [
      "요약 진행 중:  75%|███████▌  | 1798/2388 [1:06:33<20:54,  2.13s/it]"
     ]
    },
    {
     "name": "stdout",
     "output_type": "stream",
     "text": [
      "1799/2388 행 요약 완료\n"
     ]
    },
    {
     "name": "stderr",
     "output_type": "stream",
     "text": [
      "요약 진행 중:  75%|███████▌  | 1799/2388 [1:06:34<17:33,  1.79s/it]"
     ]
    },
    {
     "name": "stdout",
     "output_type": "stream",
     "text": [
      "1800/2388 행 요약 완료\n"
     ]
    },
    {
     "name": "stderr",
     "output_type": "stream",
     "text": [
      "요약 진행 중:  75%|███████▌  | 1800/2388 [1:06:36<17:54,  1.83s/it]"
     ]
    },
    {
     "name": "stdout",
     "output_type": "stream",
     "text": [
      "1801/2388 행 요약 완료\n"
     ]
    },
    {
     "name": "stderr",
     "output_type": "stream",
     "text": [
      "요약 진행 중:  75%|███████▌  | 1801/2388 [1:06:39<20:43,  2.12s/it]"
     ]
    },
    {
     "name": "stdout",
     "output_type": "stream",
     "text": [
      "1802/2388 행 요약 완료\n"
     ]
    },
    {
     "name": "stderr",
     "output_type": "stream",
     "text": [
      "요약 진행 중:  75%|███████▌  | 1802/2388 [1:06:42<24:54,  2.55s/it]"
     ]
    },
    {
     "name": "stdout",
     "output_type": "stream",
     "text": [
      "1803/2388 행 요약 완료\n"
     ]
    },
    {
     "name": "stderr",
     "output_type": "stream",
     "text": [
      "요약 진행 중:  76%|███████▌  | 1803/2388 [1:06:43<20:42,  2.12s/it]"
     ]
    },
    {
     "name": "stdout",
     "output_type": "stream",
     "text": [
      "1804/2388 행 요약 완료\n"
     ]
    },
    {
     "name": "stderr",
     "output_type": "stream",
     "text": [
      "요약 진행 중:  76%|███████▌  | 1804/2388 [1:06:45<20:03,  2.06s/it]"
     ]
    },
    {
     "name": "stdout",
     "output_type": "stream",
     "text": [
      "1805/2388 행 요약 완료\n"
     ]
    },
    {
     "name": "stderr",
     "output_type": "stream",
     "text": [
      "요약 진행 중:  76%|███████▌  | 1805/2388 [1:06:48<20:58,  2.16s/it]"
     ]
    },
    {
     "name": "stdout",
     "output_type": "stream",
     "text": [
      "1806/2388 행 요약 완료\n"
     ]
    },
    {
     "name": "stderr",
     "output_type": "stream",
     "text": [
      "요약 진행 중:  76%|███████▌  | 1806/2388 [1:06:49<17:46,  1.83s/it]"
     ]
    },
    {
     "name": "stdout",
     "output_type": "stream",
     "text": [
      "1807/2388 행 요약 완료\n"
     ]
    },
    {
     "name": "stderr",
     "output_type": "stream",
     "text": [
      "요약 진행 중:  76%|███████▌  | 1807/2388 [1:06:51<18:02,  1.86s/it]"
     ]
    },
    {
     "name": "stdout",
     "output_type": "stream",
     "text": [
      "1808/2388 행 요약 완료\n"
     ]
    },
    {
     "name": "stderr",
     "output_type": "stream",
     "text": [
      "요약 진행 중:  76%|███████▌  | 1808/2388 [1:06:53<20:24,  2.11s/it]"
     ]
    },
    {
     "name": "stdout",
     "output_type": "stream",
     "text": [
      "1809/2388 행 요약 완료\n"
     ]
    },
    {
     "name": "stderr",
     "output_type": "stream",
     "text": [
      "요약 진행 중:  76%|███████▌  | 1809/2388 [1:06:55<19:01,  1.97s/it]"
     ]
    },
    {
     "name": "stdout",
     "output_type": "stream",
     "text": [
      "1810/2388 행 요약 완료\n"
     ]
    },
    {
     "name": "stderr",
     "output_type": "stream",
     "text": [
      "요약 진행 중:  76%|███████▌  | 1810/2388 [1:06:57<19:32,  2.03s/it]"
     ]
    },
    {
     "name": "stdout",
     "output_type": "stream",
     "text": [
      "1811/2388 행 요약 완료\n"
     ]
    },
    {
     "name": "stderr",
     "output_type": "stream",
     "text": [
      "요약 진행 중:  76%|███████▌  | 1811/2388 [1:06:58<17:12,  1.79s/it]"
     ]
    },
    {
     "name": "stdout",
     "output_type": "stream",
     "text": [
      "1812/2388 행 요약 완료\n"
     ]
    },
    {
     "name": "stderr",
     "output_type": "stream",
     "text": [
      "요약 진행 중:  76%|███████▌  | 1812/2388 [1:07:01<20:55,  2.18s/it]"
     ]
    },
    {
     "name": "stdout",
     "output_type": "stream",
     "text": [
      "1813/2388 행 요약 완료\n"
     ]
    },
    {
     "name": "stderr",
     "output_type": "stream",
     "text": [
      "요약 진행 중:  76%|███████▌  | 1813/2388 [1:07:05<24:29,  2.56s/it]"
     ]
    },
    {
     "name": "stdout",
     "output_type": "stream",
     "text": [
      "1814/2388 행 요약 완료\n"
     ]
    },
    {
     "name": "stderr",
     "output_type": "stream",
     "text": [
      "요약 진행 중:  76%|███████▌  | 1814/2388 [1:07:07<22:13,  2.32s/it]"
     ]
    },
    {
     "name": "stdout",
     "output_type": "stream",
     "text": [
      "1815/2388 행 요약 완료\n"
     ]
    },
    {
     "name": "stderr",
     "output_type": "stream",
     "text": [
      "요약 진행 중:  76%|███████▌  | 1815/2388 [1:07:09<22:24,  2.35s/it]"
     ]
    },
    {
     "name": "stdout",
     "output_type": "stream",
     "text": [
      "1816/2388 행 요약 완료\n"
     ]
    },
    {
     "name": "stderr",
     "output_type": "stream",
     "text": [
      "요약 진행 중:  76%|███████▌  | 1816/2388 [1:07:12<24:19,  2.55s/it]"
     ]
    },
    {
     "name": "stdout",
     "output_type": "stream",
     "text": [
      "1817/2388 행 요약 완료\n"
     ]
    },
    {
     "name": "stderr",
     "output_type": "stream",
     "text": [
      "요약 진행 중:  76%|███████▌  | 1817/2388 [1:07:16<27:28,  2.89s/it]"
     ]
    },
    {
     "name": "stdout",
     "output_type": "stream",
     "text": [
      "1818/2388 행 요약 완료\n"
     ]
    },
    {
     "name": "stderr",
     "output_type": "stream",
     "text": [
      "요약 진행 중:  76%|███████▌  | 1818/2388 [1:07:19<29:18,  3.09s/it]"
     ]
    },
    {
     "name": "stdout",
     "output_type": "stream",
     "text": [
      "1819/2388 행 요약 완료\n"
     ]
    },
    {
     "name": "stderr",
     "output_type": "stream",
     "text": [
      "요약 진행 중:  76%|███████▌  | 1819/2388 [1:07:21<24:12,  2.55s/it]"
     ]
    },
    {
     "name": "stdout",
     "output_type": "stream",
     "text": [
      "1820/2388 행 요약 완료\n"
     ]
    },
    {
     "name": "stderr",
     "output_type": "stream",
     "text": [
      "요약 진행 중:  76%|███████▌  | 1820/2388 [1:07:23<22:42,  2.40s/it]"
     ]
    },
    {
     "name": "stdout",
     "output_type": "stream",
     "text": [
      "1821/2388 행 요약 완료\n"
     ]
    },
    {
     "name": "stderr",
     "output_type": "stream",
     "text": [
      "요약 진행 중:  76%|███████▋  | 1821/2388 [1:07:24<20:24,  2.16s/it]"
     ]
    },
    {
     "name": "stdout",
     "output_type": "stream",
     "text": [
      "1822/2388 행 요약 완료\n"
     ]
    },
    {
     "name": "stderr",
     "output_type": "stream",
     "text": [
      "요약 진행 중:  76%|███████▋  | 1822/2388 [1:07:28<23:50,  2.53s/it]"
     ]
    },
    {
     "name": "stdout",
     "output_type": "stream",
     "text": [
      "1823/2388 행 요약 완료\n"
     ]
    },
    {
     "name": "stderr",
     "output_type": "stream",
     "text": [
      "요약 진행 중:  76%|███████▋  | 1823/2388 [1:07:30<22:19,  2.37s/it]"
     ]
    },
    {
     "name": "stdout",
     "output_type": "stream",
     "text": [
      "1824/2388 행 요약 완료\n"
     ]
    },
    {
     "name": "stderr",
     "output_type": "stream",
     "text": [
      "요약 진행 중:  76%|███████▋  | 1824/2388 [1:07:32<21:01,  2.24s/it]"
     ]
    },
    {
     "name": "stdout",
     "output_type": "stream",
     "text": [
      "1825/2388 행 요약 완료\n"
     ]
    },
    {
     "name": "stderr",
     "output_type": "stream",
     "text": [
      "요약 진행 중:  76%|███████▋  | 1825/2388 [1:07:33<19:32,  2.08s/it]"
     ]
    },
    {
     "name": "stdout",
     "output_type": "stream",
     "text": [
      "1826/2388 행 요약 완료\n"
     ]
    },
    {
     "name": "stderr",
     "output_type": "stream",
     "text": [
      "요약 진행 중:  76%|███████▋  | 1826/2388 [1:07:35<18:07,  1.94s/it]"
     ]
    },
    {
     "name": "stdout",
     "output_type": "stream",
     "text": [
      "1827/2388 행 요약 완료\n"
     ]
    },
    {
     "name": "stderr",
     "output_type": "stream",
     "text": [
      "요약 진행 중:  77%|███████▋  | 1827/2388 [1:07:38<22:45,  2.43s/it]"
     ]
    },
    {
     "name": "stdout",
     "output_type": "stream",
     "text": [
      "1828/2388 행 요약 완료\n"
     ]
    },
    {
     "name": "stderr",
     "output_type": "stream",
     "text": [
      "요약 진행 중:  77%|███████▋  | 1828/2388 [1:07:41<23:53,  2.56s/it]"
     ]
    },
    {
     "name": "stdout",
     "output_type": "stream",
     "text": [
      "1829/2388 행 요약 완료\n"
     ]
    },
    {
     "name": "stderr",
     "output_type": "stream",
     "text": [
      "요약 진행 중:  77%|███████▋  | 1829/2388 [1:07:43<22:41,  2.44s/it]"
     ]
    },
    {
     "name": "stdout",
     "output_type": "stream",
     "text": [
      "1830/2388 행 요약 완료\n"
     ]
    },
    {
     "name": "stderr",
     "output_type": "stream",
     "text": [
      "요약 진행 중:  77%|███████▋  | 1830/2388 [1:07:45<19:01,  2.05s/it]"
     ]
    },
    {
     "name": "stdout",
     "output_type": "stream",
     "text": [
      "1831/2388 행 요약 완료\n"
     ]
    },
    {
     "name": "stderr",
     "output_type": "stream",
     "text": [
      "요약 진행 중:  77%|███████▋  | 1831/2388 [1:07:46<18:10,  1.96s/it]"
     ]
    },
    {
     "name": "stdout",
     "output_type": "stream",
     "text": [
      "1832/2388 행 요약 완료\n"
     ]
    },
    {
     "name": "stderr",
     "output_type": "stream",
     "text": [
      "요약 진행 중:  77%|███████▋  | 1832/2388 [1:07:47<15:48,  1.71s/it]"
     ]
    },
    {
     "name": "stdout",
     "output_type": "stream",
     "text": [
      "1833/2388 행 요약 완료\n"
     ]
    },
    {
     "name": "stderr",
     "output_type": "stream",
     "text": [
      "요약 진행 중:  77%|███████▋  | 1833/2388 [1:07:49<16:13,  1.75s/it]"
     ]
    },
    {
     "name": "stdout",
     "output_type": "stream",
     "text": [
      "1834/2388 행 요약 완료\n"
     ]
    },
    {
     "name": "stderr",
     "output_type": "stream",
     "text": [
      "요약 진행 중:  77%|███████▋  | 1834/2388 [1:07:52<19:58,  2.16s/it]"
     ]
    },
    {
     "name": "stdout",
     "output_type": "stream",
     "text": [
      "1835/2388 행 요약 완료\n"
     ]
    },
    {
     "name": "stderr",
     "output_type": "stream",
     "text": [
      "요약 진행 중:  77%|███████▋  | 1835/2388 [1:07:56<23:39,  2.57s/it]"
     ]
    },
    {
     "name": "stdout",
     "output_type": "stream",
     "text": [
      "1836/2388 행 요약 완료\n"
     ]
    },
    {
     "name": "stderr",
     "output_type": "stream",
     "text": [
      "요약 진행 중:  77%|███████▋  | 1836/2388 [1:07:57<20:04,  2.18s/it]"
     ]
    },
    {
     "name": "stdout",
     "output_type": "stream",
     "text": [
      "1837/2388 행 요약 완료\n"
     ]
    },
    {
     "name": "stderr",
     "output_type": "stream",
     "text": [
      "요약 진행 중:  77%|███████▋  | 1837/2388 [1:07:59<19:07,  2.08s/it]"
     ]
    },
    {
     "name": "stdout",
     "output_type": "stream",
     "text": [
      "1838/2388 행 요약 완료\n"
     ]
    },
    {
     "name": "stderr",
     "output_type": "stream",
     "text": [
      "요약 진행 중:  77%|███████▋  | 1838/2388 [1:08:01<18:43,  2.04s/it]"
     ]
    },
    {
     "name": "stdout",
     "output_type": "stream",
     "text": [
      "1839/2388 행 요약 완료\n"
     ]
    },
    {
     "name": "stderr",
     "output_type": "stream",
     "text": [
      "요약 진행 중:  77%|███████▋  | 1839/2388 [1:08:02<16:34,  1.81s/it]"
     ]
    },
    {
     "name": "stdout",
     "output_type": "stream",
     "text": [
      "1840/2388 행 요약 완료\n"
     ]
    },
    {
     "name": "stderr",
     "output_type": "stream",
     "text": [
      "요약 진행 중:  77%|███████▋  | 1840/2388 [1:08:04<15:17,  1.67s/it]"
     ]
    },
    {
     "name": "stdout",
     "output_type": "stream",
     "text": [
      "1841/2388 행 요약 완료\n"
     ]
    },
    {
     "name": "stderr",
     "output_type": "stream",
     "text": [
      "요약 진행 중:  77%|███████▋  | 1841/2388 [1:08:06<16:59,  1.86s/it]"
     ]
    },
    {
     "name": "stdout",
     "output_type": "stream",
     "text": [
      "1842/2388 행 요약 완료\n"
     ]
    },
    {
     "name": "stderr",
     "output_type": "stream",
     "text": [
      "요약 진행 중:  77%|███████▋  | 1842/2388 [1:08:07<15:38,  1.72s/it]"
     ]
    },
    {
     "name": "stdout",
     "output_type": "stream",
     "text": [
      "1843/2388 행 요약 완료\n"
     ]
    },
    {
     "name": "stderr",
     "output_type": "stream",
     "text": [
      "요약 진행 중:  77%|███████▋  | 1843/2388 [1:08:10<17:15,  1.90s/it]"
     ]
    },
    {
     "name": "stdout",
     "output_type": "stream",
     "text": [
      "1844/2388 행 요약 완료\n"
     ]
    },
    {
     "name": "stderr",
     "output_type": "stream",
     "text": [
      "요약 진행 중:  77%|███████▋  | 1844/2388 [1:08:12<18:26,  2.03s/it]"
     ]
    },
    {
     "name": "stdout",
     "output_type": "stream",
     "text": [
      "1845/2388 행 요약 완료\n"
     ]
    },
    {
     "name": "stderr",
     "output_type": "stream",
     "text": [
      "요약 진행 중:  77%|███████▋  | 1845/2388 [1:08:14<19:31,  2.16s/it]"
     ]
    },
    {
     "name": "stdout",
     "output_type": "stream",
     "text": [
      "1846/2388 행 요약 완료\n"
     ]
    },
    {
     "name": "stderr",
     "output_type": "stream",
     "text": [
      "요약 진행 중:  77%|███████▋  | 1846/2388 [1:08:16<17:02,  1.89s/it]"
     ]
    },
    {
     "name": "stdout",
     "output_type": "stream",
     "text": [
      "1847/2388 행 요약 완료\n"
     ]
    },
    {
     "name": "stderr",
     "output_type": "stream",
     "text": [
      "요약 진행 중:  77%|███████▋  | 1847/2388 [1:08:19<20:08,  2.23s/it]"
     ]
    },
    {
     "name": "stdout",
     "output_type": "stream",
     "text": [
      "1848/2388 행 요약 완료\n"
     ]
    },
    {
     "name": "stderr",
     "output_type": "stream",
     "text": [
      "요약 진행 중:  77%|███████▋  | 1848/2388 [1:08:20<17:40,  1.96s/it]"
     ]
    },
    {
     "name": "stdout",
     "output_type": "stream",
     "text": [
      "1849/2388 행 요약 완료\n"
     ]
    },
    {
     "name": "stderr",
     "output_type": "stream",
     "text": [
      "요약 진행 중:  77%|███████▋  | 1849/2388 [1:08:21<15:45,  1.75s/it]"
     ]
    },
    {
     "name": "stdout",
     "output_type": "stream",
     "text": [
      "1850/2388 행 요약 완료\n"
     ]
    },
    {
     "name": "stderr",
     "output_type": "stream",
     "text": [
      "요약 진행 중:  77%|███████▋  | 1850/2388 [1:08:23<14:25,  1.61s/it]"
     ]
    },
    {
     "name": "stdout",
     "output_type": "stream",
     "text": [
      "1851/2388 행 요약 완료\n"
     ]
    },
    {
     "name": "stderr",
     "output_type": "stream",
     "text": [
      "요약 진행 중:  78%|███████▊  | 1851/2388 [1:08:24<13:16,  1.48s/it]"
     ]
    },
    {
     "name": "stdout",
     "output_type": "stream",
     "text": [
      "1852/2388 행 요약 완료\n"
     ]
    },
    {
     "name": "stderr",
     "output_type": "stream",
     "text": [
      "요약 진행 중:  78%|███████▊  | 1852/2388 [1:08:25<12:19,  1.38s/it]"
     ]
    },
    {
     "name": "stdout",
     "output_type": "stream",
     "text": [
      "1853/2388 행 요약 완료\n"
     ]
    },
    {
     "name": "stderr",
     "output_type": "stream",
     "text": [
      "요약 진행 중:  78%|███████▊  | 1853/2388 [1:08:26<12:39,  1.42s/it]"
     ]
    },
    {
     "name": "stdout",
     "output_type": "stream",
     "text": [
      "1854/2388 행 요약 완료\n"
     ]
    },
    {
     "name": "stderr",
     "output_type": "stream",
     "text": [
      "요약 진행 중:  78%|███████▊  | 1854/2388 [1:08:28<12:28,  1.40s/it]"
     ]
    },
    {
     "name": "stdout",
     "output_type": "stream",
     "text": [
      "1855/2388 행 요약 완료\n"
     ]
    },
    {
     "name": "stderr",
     "output_type": "stream",
     "text": [
      "요약 진행 중:  78%|███████▊  | 1855/2388 [1:08:29<12:48,  1.44s/it]"
     ]
    },
    {
     "name": "stdout",
     "output_type": "stream",
     "text": [
      "1856/2388 행 요약 완료\n"
     ]
    },
    {
     "name": "stderr",
     "output_type": "stream",
     "text": [
      "요약 진행 중:  78%|███████▊  | 1856/2388 [1:08:31<14:28,  1.63s/it]"
     ]
    },
    {
     "name": "stdout",
     "output_type": "stream",
     "text": [
      "1857/2388 행 요약 완료\n"
     ]
    },
    {
     "name": "stderr",
     "output_type": "stream",
     "text": [
      "요약 진행 중:  78%|███████▊  | 1857/2388 [1:08:33<15:16,  1.73s/it]"
     ]
    },
    {
     "name": "stdout",
     "output_type": "stream",
     "text": [
      "1858/2388 행 요약 완료\n"
     ]
    },
    {
     "name": "stderr",
     "output_type": "stream",
     "text": [
      "요약 진행 중:  78%|███████▊  | 1858/2388 [1:08:35<14:56,  1.69s/it]"
     ]
    },
    {
     "name": "stdout",
     "output_type": "stream",
     "text": [
      "1859/2388 행 요약 완료\n"
     ]
    },
    {
     "name": "stderr",
     "output_type": "stream",
     "text": [
      "요약 진행 중:  78%|███████▊  | 1859/2388 [1:08:39<22:03,  2.50s/it]"
     ]
    },
    {
     "name": "stdout",
     "output_type": "stream",
     "text": [
      "1860/2388 행 요약 완료\n"
     ]
    },
    {
     "name": "stderr",
     "output_type": "stream",
     "text": [
      "요약 진행 중:  78%|███████▊  | 1860/2388 [1:08:42<21:04,  2.39s/it]"
     ]
    },
    {
     "name": "stdout",
     "output_type": "stream",
     "text": [
      "1861/2388 행 요약 완료\n"
     ]
    },
    {
     "name": "stderr",
     "output_type": "stream",
     "text": [
      "요약 진행 중:  78%|███████▊  | 1861/2388 [1:08:45<24:19,  2.77s/it]"
     ]
    },
    {
     "name": "stdout",
     "output_type": "stream",
     "text": [
      "1862/2388 행 요약 완료\n"
     ]
    },
    {
     "name": "stderr",
     "output_type": "stream",
     "text": [
      "요약 진행 중:  78%|███████▊  | 1862/2388 [1:08:46<20:26,  2.33s/it]"
     ]
    },
    {
     "name": "stdout",
     "output_type": "stream",
     "text": [
      "1863/2388 행 요약 완료\n"
     ]
    },
    {
     "name": "stderr",
     "output_type": "stream",
     "text": [
      "요약 진행 중:  78%|███████▊  | 1863/2388 [1:08:49<21:37,  2.47s/it]"
     ]
    },
    {
     "name": "stdout",
     "output_type": "stream",
     "text": [
      "1864/2388 행 요약 완료\n"
     ]
    },
    {
     "name": "stderr",
     "output_type": "stream",
     "text": [
      "요약 진행 중:  78%|███████▊  | 1864/2388 [1:08:53<24:01,  2.75s/it]"
     ]
    },
    {
     "name": "stdout",
     "output_type": "stream",
     "text": [
      "1865/2388 행 요약 완료\n"
     ]
    },
    {
     "name": "stderr",
     "output_type": "stream",
     "text": [
      "요약 진행 중:  78%|███████▊  | 1865/2388 [1:08:55<24:05,  2.76s/it]"
     ]
    },
    {
     "name": "stdout",
     "output_type": "stream",
     "text": [
      "1866/2388 행 요약 완료\n"
     ]
    },
    {
     "name": "stderr",
     "output_type": "stream",
     "text": [
      "요약 진행 중:  78%|███████▊  | 1866/2388 [1:08:58<23:31,  2.70s/it]"
     ]
    },
    {
     "name": "stdout",
     "output_type": "stream",
     "text": [
      "1867/2388 행 요약 완료\n"
     ]
    },
    {
     "name": "stderr",
     "output_type": "stream",
     "text": [
      "요약 진행 중:  78%|███████▊  | 1867/2388 [1:08:59<20:08,  2.32s/it]"
     ]
    },
    {
     "name": "stdout",
     "output_type": "stream",
     "text": [
      "1868/2388 행 요약 완료\n"
     ]
    },
    {
     "name": "stderr",
     "output_type": "stream",
     "text": [
      "요약 진행 중:  78%|███████▊  | 1868/2388 [1:09:02<19:21,  2.23s/it]"
     ]
    },
    {
     "name": "stdout",
     "output_type": "stream",
     "text": [
      "1869/2388 행 요약 완료\n"
     ]
    },
    {
     "name": "stderr",
     "output_type": "stream",
     "text": [
      "요약 진행 중:  78%|███████▊  | 1869/2388 [1:09:03<17:55,  2.07s/it]"
     ]
    },
    {
     "name": "stdout",
     "output_type": "stream",
     "text": [
      "1870/2388 행 요약 완료\n"
     ]
    },
    {
     "name": "stderr",
     "output_type": "stream",
     "text": [
      "요약 진행 중:  78%|███████▊  | 1870/2388 [1:09:04<15:33,  1.80s/it]"
     ]
    },
    {
     "name": "stdout",
     "output_type": "stream",
     "text": [
      "1871/2388 행 요약 완료\n"
     ]
    },
    {
     "name": "stderr",
     "output_type": "stream",
     "text": [
      "요약 진행 중:  78%|███████▊  | 1871/2388 [1:09:06<13:50,  1.61s/it]"
     ]
    },
    {
     "name": "stdout",
     "output_type": "stream",
     "text": [
      "1872/2388 행 요약 완료\n"
     ]
    },
    {
     "name": "stderr",
     "output_type": "stream",
     "text": [
      "요약 진행 중:  78%|███████▊  | 1872/2388 [1:09:07<14:02,  1.63s/it]"
     ]
    },
    {
     "name": "stdout",
     "output_type": "stream",
     "text": [
      "1873/2388 행 요약 완료\n"
     ]
    },
    {
     "name": "stderr",
     "output_type": "stream",
     "text": [
      "요약 진행 중:  78%|███████▊  | 1873/2388 [1:09:09<13:27,  1.57s/it]"
     ]
    },
    {
     "name": "stdout",
     "output_type": "stream",
     "text": [
      "1874/2388 행 요약 완료\n"
     ]
    },
    {
     "name": "stderr",
     "output_type": "stream",
     "text": [
      "요약 진행 중:  78%|███████▊  | 1874/2388 [1:09:11<16:16,  1.90s/it]"
     ]
    },
    {
     "name": "stdout",
     "output_type": "stream",
     "text": [
      "1875/2388 행 요약 완료\n"
     ]
    },
    {
     "name": "stderr",
     "output_type": "stream",
     "text": [
      "요약 진행 중:  79%|███████▊  | 1875/2388 [1:09:14<17:30,  2.05s/it]"
     ]
    },
    {
     "name": "stdout",
     "output_type": "stream",
     "text": [
      "1876/2388 행 요약 완료\n"
     ]
    },
    {
     "name": "stderr",
     "output_type": "stream",
     "text": [
      "요약 진행 중:  79%|███████▊  | 1876/2388 [1:09:15<16:48,  1.97s/it]"
     ]
    },
    {
     "name": "stdout",
     "output_type": "stream",
     "text": [
      "1877/2388 행 요약 완료\n"
     ]
    },
    {
     "name": "stderr",
     "output_type": "stream",
     "text": [
      "요약 진행 중:  79%|███████▊  | 1877/2388 [1:09:18<17:58,  2.11s/it]"
     ]
    },
    {
     "name": "stdout",
     "output_type": "stream",
     "text": [
      "1878/2388 행 요약 완료\n"
     ]
    },
    {
     "name": "stderr",
     "output_type": "stream",
     "text": [
      "요약 진행 중:  79%|███████▊  | 1878/2388 [1:09:19<16:23,  1.93s/it]"
     ]
    },
    {
     "name": "stdout",
     "output_type": "stream",
     "text": [
      "1879/2388 행 요약 완료\n"
     ]
    },
    {
     "name": "stderr",
     "output_type": "stream",
     "text": [
      "요약 진행 중:  79%|███████▊  | 1879/2388 [1:09:21<15:37,  1.84s/it]"
     ]
    },
    {
     "name": "stdout",
     "output_type": "stream",
     "text": [
      "1880/2388 행 요약 완료\n"
     ]
    },
    {
     "name": "stderr",
     "output_type": "stream",
     "text": [
      "요약 진행 중:  79%|███████▊  | 1880/2388 [1:09:23<14:47,  1.75s/it]"
     ]
    },
    {
     "name": "stdout",
     "output_type": "stream",
     "text": [
      "1881/2388 행 요약 완료\n"
     ]
    },
    {
     "name": "stderr",
     "output_type": "stream",
     "text": [
      "요약 진행 중:  79%|███████▉  | 1881/2388 [1:09:26<18:22,  2.18s/it]"
     ]
    },
    {
     "name": "stdout",
     "output_type": "stream",
     "text": [
      "1882/2388 행 요약 완료\n"
     ]
    },
    {
     "name": "stderr",
     "output_type": "stream",
     "text": [
      "요약 진행 중:  79%|███████▉  | 1882/2388 [1:09:29<19:59,  2.37s/it]"
     ]
    },
    {
     "name": "stdout",
     "output_type": "stream",
     "text": [
      "1883/2388 행 요약 완료\n"
     ]
    },
    {
     "name": "stderr",
     "output_type": "stream",
     "text": [
      "요약 진행 중:  79%|███████▉  | 1883/2388 [1:09:31<20:49,  2.47s/it]"
     ]
    },
    {
     "name": "stdout",
     "output_type": "stream",
     "text": [
      "1884/2388 행 요약 완료\n"
     ]
    },
    {
     "name": "stderr",
     "output_type": "stream",
     "text": [
      "요약 진행 중:  79%|███████▉  | 1884/2388 [1:09:35<23:03,  2.75s/it]"
     ]
    },
    {
     "name": "stdout",
     "output_type": "stream",
     "text": [
      "1885/2388 행 요약 완료\n"
     ]
    },
    {
     "name": "stderr",
     "output_type": "stream",
     "text": [
      "요약 진행 중:  79%|███████▉  | 1885/2388 [1:09:37<21:31,  2.57s/it]"
     ]
    },
    {
     "name": "stdout",
     "output_type": "stream",
     "text": [
      "1886/2388 행 요약 완료\n"
     ]
    },
    {
     "name": "stderr",
     "output_type": "stream",
     "text": [
      "요약 진행 중:  79%|███████▉  | 1886/2388 [1:09:40<23:59,  2.87s/it]"
     ]
    },
    {
     "name": "stdout",
     "output_type": "stream",
     "text": [
      "1887/2388 행 요약 완료\n"
     ]
    },
    {
     "name": "stderr",
     "output_type": "stream",
     "text": [
      "요약 진행 중:  79%|███████▉  | 1887/2388 [1:09:44<25:19,  3.03s/it]"
     ]
    },
    {
     "name": "stdout",
     "output_type": "stream",
     "text": [
      "1888/2388 행 요약 완료\n"
     ]
    },
    {
     "name": "stderr",
     "output_type": "stream",
     "text": [
      "요약 진행 중:  79%|███████▉  | 1888/2388 [1:09:47<24:23,  2.93s/it]"
     ]
    },
    {
     "name": "stdout",
     "output_type": "stream",
     "text": [
      "1889/2388 행 요약 완료\n"
     ]
    },
    {
     "name": "stderr",
     "output_type": "stream",
     "text": [
      "요약 진행 중:  79%|███████▉  | 1889/2388 [1:09:50<26:03,  3.13s/it]"
     ]
    },
    {
     "name": "stdout",
     "output_type": "stream",
     "text": [
      "1890/2388 행 요약 완료\n"
     ]
    },
    {
     "name": "stderr",
     "output_type": "stream",
     "text": [
      "요약 진행 중:  79%|███████▉  | 1890/2388 [1:09:52<22:12,  2.68s/it]"
     ]
    },
    {
     "name": "stdout",
     "output_type": "stream",
     "text": [
      "1891/2388 행 요약 완료\n"
     ]
    },
    {
     "name": "stderr",
     "output_type": "stream",
     "text": [
      "요약 진행 중:  79%|███████▉  | 1891/2388 [1:09:53<18:11,  2.20s/it]"
     ]
    },
    {
     "name": "stdout",
     "output_type": "stream",
     "text": [
      "1892/2388 행 요약 완료\n"
     ]
    },
    {
     "name": "stderr",
     "output_type": "stream",
     "text": [
      "요약 진행 중:  79%|███████▉  | 1892/2388 [1:09:55<17:46,  2.15s/it]"
     ]
    },
    {
     "name": "stdout",
     "output_type": "stream",
     "text": [
      "1893/2388 행 요약 완료\n"
     ]
    },
    {
     "name": "stderr",
     "output_type": "stream",
     "text": [
      "요약 진행 중:  79%|███████▉  | 1893/2388 [1:09:56<15:24,  1.87s/it]"
     ]
    },
    {
     "name": "stdout",
     "output_type": "stream",
     "text": [
      "1894/2388 행 요약 완료\n"
     ]
    },
    {
     "name": "stderr",
     "output_type": "stream",
     "text": [
      "요약 진행 중:  79%|███████▉  | 1894/2388 [1:09:59<17:16,  2.10s/it]"
     ]
    },
    {
     "name": "stdout",
     "output_type": "stream",
     "text": [
      "1895/2388 행 요약 완료\n"
     ]
    },
    {
     "name": "stderr",
     "output_type": "stream",
     "text": [
      "요약 진행 중:  79%|███████▉  | 1895/2388 [1:10:02<19:55,  2.42s/it]"
     ]
    },
    {
     "name": "stdout",
     "output_type": "stream",
     "text": [
      "1896/2388 행 요약 완료\n"
     ]
    },
    {
     "name": "stderr",
     "output_type": "stream",
     "text": [
      "요약 진행 중:  79%|███████▉  | 1896/2388 [1:10:05<20:48,  2.54s/it]"
     ]
    },
    {
     "name": "stdout",
     "output_type": "stream",
     "text": [
      "1897/2388 행 요약 완료\n"
     ]
    },
    {
     "name": "stderr",
     "output_type": "stream",
     "text": [
      "요약 진행 중:  79%|███████▉  | 1897/2388 [1:10:09<24:14,  2.96s/it]"
     ]
    },
    {
     "name": "stdout",
     "output_type": "stream",
     "text": [
      "1898/2388 행 요약 완료\n"
     ]
    },
    {
     "name": "stderr",
     "output_type": "stream",
     "text": [
      "요약 진행 중:  79%|███████▉  | 1898/2388 [1:10:11<21:59,  2.69s/it]"
     ]
    },
    {
     "name": "stdout",
     "output_type": "stream",
     "text": [
      "1899/2388 행 요약 완료\n"
     ]
    },
    {
     "name": "stderr",
     "output_type": "stream",
     "text": [
      "요약 진행 중:  80%|███████▉  | 1899/2388 [1:10:13<21:26,  2.63s/it]"
     ]
    },
    {
     "name": "stdout",
     "output_type": "stream",
     "text": [
      "1900/2388 행 요약 완료\n"
     ]
    },
    {
     "name": "stderr",
     "output_type": "stream",
     "text": [
      "요약 진행 중:  80%|███████▉  | 1900/2388 [1:10:15<18:51,  2.32s/it]"
     ]
    },
    {
     "name": "stdout",
     "output_type": "stream",
     "text": [
      "1901/2388 행 요약 완료\n"
     ]
    },
    {
     "name": "stderr",
     "output_type": "stream",
     "text": [
      "요약 진행 중:  80%|███████▉  | 1901/2388 [1:10:17<17:57,  2.21s/it]"
     ]
    },
    {
     "name": "stdout",
     "output_type": "stream",
     "text": [
      "1902/2388 행 요약 완료\n"
     ]
    },
    {
     "name": "stderr",
     "output_type": "stream",
     "text": [
      "요약 진행 중:  80%|███████▉  | 1902/2388 [1:10:20<21:13,  2.62s/it]"
     ]
    },
    {
     "name": "stdout",
     "output_type": "stream",
     "text": [
      "1903/2388 행 요약 완료\n"
     ]
    },
    {
     "name": "stderr",
     "output_type": "stream",
     "text": [
      "요약 진행 중:  80%|███████▉  | 1903/2388 [1:10:22<19:03,  2.36s/it]"
     ]
    },
    {
     "name": "stdout",
     "output_type": "stream",
     "text": [
      "1904/2388 행 요약 완료\n"
     ]
    },
    {
     "name": "stderr",
     "output_type": "stream",
     "text": [
      "요약 진행 중:  80%|███████▉  | 1904/2388 [1:10:24<17:19,  2.15s/it]"
     ]
    },
    {
     "name": "stdout",
     "output_type": "stream",
     "text": [
      "1905/2388 행 요약 완료\n"
     ]
    },
    {
     "name": "stderr",
     "output_type": "stream",
     "text": [
      "요약 진행 중:  80%|███████▉  | 1905/2388 [1:10:27<18:58,  2.36s/it]"
     ]
    },
    {
     "name": "stdout",
     "output_type": "stream",
     "text": [
      "1906/2388 행 요약 완료\n"
     ]
    },
    {
     "name": "stderr",
     "output_type": "stream",
     "text": [
      "요약 진행 중:  80%|███████▉  | 1906/2388 [1:10:30<21:26,  2.67s/it]"
     ]
    },
    {
     "name": "stdout",
     "output_type": "stream",
     "text": [
      "1907/2388 행 요약 완료\n"
     ]
    },
    {
     "name": "stderr",
     "output_type": "stream",
     "text": [
      "요약 진행 중:  80%|███████▉  | 1907/2388 [1:10:32<19:24,  2.42s/it]"
     ]
    },
    {
     "name": "stdout",
     "output_type": "stream",
     "text": [
      "1908/2388 행 요약 완료\n"
     ]
    },
    {
     "name": "stderr",
     "output_type": "stream",
     "text": [
      "요약 진행 중:  80%|███████▉  | 1908/2388 [1:10:36<23:15,  2.91s/it]"
     ]
    },
    {
     "name": "stdout",
     "output_type": "stream",
     "text": [
      "1909/2388 행 요약 완료\n"
     ]
    },
    {
     "name": "stderr",
     "output_type": "stream",
     "text": [
      "요약 진행 중:  80%|███████▉  | 1909/2388 [1:10:38<20:48,  2.61s/it]"
     ]
    },
    {
     "name": "stdout",
     "output_type": "stream",
     "text": [
      "1910/2388 행 요약 완료\n"
     ]
    },
    {
     "name": "stderr",
     "output_type": "stream",
     "text": [
      "요약 진행 중:  80%|███████▉  | 1910/2388 [1:10:40<19:05,  2.40s/it]"
     ]
    },
    {
     "name": "stdout",
     "output_type": "stream",
     "text": [
      "1911/2388 행 요약 완료\n"
     ]
    },
    {
     "name": "stderr",
     "output_type": "stream",
     "text": [
      "요약 진행 중:  80%|████████  | 1911/2388 [1:10:41<16:09,  2.03s/it]"
     ]
    },
    {
     "name": "stdout",
     "output_type": "stream",
     "text": [
      "1912/2388 행 요약 완료\n"
     ]
    },
    {
     "name": "stderr",
     "output_type": "stream",
     "text": [
      "요약 진행 중:  80%|████████  | 1912/2388 [1:10:43<16:12,  2.04s/it]"
     ]
    },
    {
     "name": "stdout",
     "output_type": "stream",
     "text": [
      "1913/2388 행 요약 완료\n"
     ]
    },
    {
     "name": "stderr",
     "output_type": "stream",
     "text": [
      "요약 진행 중:  80%|████████  | 1913/2388 [1:10:45<16:14,  2.05s/it]"
     ]
    },
    {
     "name": "stdout",
     "output_type": "stream",
     "text": [
      "1914/2388 행 요약 완료\n"
     ]
    },
    {
     "name": "stderr",
     "output_type": "stream",
     "text": [
      "요약 진행 중:  80%|████████  | 1914/2388 [1:10:47<15:00,  1.90s/it]"
     ]
    },
    {
     "name": "stdout",
     "output_type": "stream",
     "text": [
      "1915/2388 행 요약 완료\n"
     ]
    },
    {
     "name": "stderr",
     "output_type": "stream",
     "text": [
      "요약 진행 중:  80%|████████  | 1915/2388 [1:10:48<14:45,  1.87s/it]"
     ]
    },
    {
     "name": "stdout",
     "output_type": "stream",
     "text": [
      "1916/2388 행 요약 완료\n"
     ]
    },
    {
     "name": "stderr",
     "output_type": "stream",
     "text": [
      "요약 진행 중:  80%|████████  | 1916/2388 [1:10:50<13:24,  1.70s/it]"
     ]
    },
    {
     "name": "stdout",
     "output_type": "stream",
     "text": [
      "1917/2388 행 요약 완료\n"
     ]
    },
    {
     "name": "stderr",
     "output_type": "stream",
     "text": [
      "요약 진행 중:  80%|████████  | 1917/2388 [1:10:51<11:54,  1.52s/it]"
     ]
    },
    {
     "name": "stdout",
     "output_type": "stream",
     "text": [
      "1918/2388 행 요약 완료\n"
     ]
    },
    {
     "name": "stderr",
     "output_type": "stream",
     "text": [
      "요약 진행 중:  80%|████████  | 1918/2388 [1:10:52<11:59,  1.53s/it]"
     ]
    },
    {
     "name": "stdout",
     "output_type": "stream",
     "text": [
      "1919/2388 행 요약 완료\n"
     ]
    },
    {
     "name": "stderr",
     "output_type": "stream",
     "text": [
      "요약 진행 중:  80%|████████  | 1919/2388 [1:10:54<11:27,  1.47s/it]"
     ]
    },
    {
     "name": "stdout",
     "output_type": "stream",
     "text": [
      "1920/2388 행 요약 완료\n"
     ]
    },
    {
     "name": "stderr",
     "output_type": "stream",
     "text": [
      "요약 진행 중:  80%|████████  | 1920/2388 [1:10:55<11:44,  1.51s/it]"
     ]
    },
    {
     "name": "stdout",
     "output_type": "stream",
     "text": [
      "1921/2388 행 요약 완료\n"
     ]
    },
    {
     "name": "stderr",
     "output_type": "stream",
     "text": [
      "요약 진행 중:  80%|████████  | 1921/2388 [1:10:57<12:17,  1.58s/it]"
     ]
    },
    {
     "name": "stdout",
     "output_type": "stream",
     "text": [
      "1922/2388 행 요약 완료\n"
     ]
    },
    {
     "name": "stderr",
     "output_type": "stream",
     "text": [
      "요약 진행 중:  80%|████████  | 1922/2388 [1:10:58<11:37,  1.50s/it]"
     ]
    },
    {
     "name": "stdout",
     "output_type": "stream",
     "text": [
      "1923/2388 행 요약 완료\n"
     ]
    },
    {
     "name": "stderr",
     "output_type": "stream",
     "text": [
      "요약 진행 중:  81%|████████  | 1923/2388 [1:11:02<15:46,  2.04s/it]"
     ]
    },
    {
     "name": "stdout",
     "output_type": "stream",
     "text": [
      "1924/2388 행 요약 완료\n"
     ]
    },
    {
     "name": "stderr",
     "output_type": "stream",
     "text": [
      "요약 진행 중:  81%|████████  | 1924/2388 [1:11:04<17:29,  2.26s/it]"
     ]
    },
    {
     "name": "stdout",
     "output_type": "stream",
     "text": [
      "1925/2388 행 요약 완료\n"
     ]
    },
    {
     "name": "stderr",
     "output_type": "stream",
     "text": [
      "요약 진행 중:  81%|████████  | 1925/2388 [1:11:07<18:43,  2.43s/it]"
     ]
    },
    {
     "name": "stdout",
     "output_type": "stream",
     "text": [
      "1926/2388 행 요약 완료\n"
     ]
    },
    {
     "name": "stderr",
     "output_type": "stream",
     "text": [
      "요약 진행 중:  81%|████████  | 1926/2388 [1:11:09<17:58,  2.33s/it]"
     ]
    },
    {
     "name": "stdout",
     "output_type": "stream",
     "text": [
      "1927/2388 행 요약 완료\n"
     ]
    },
    {
     "name": "stderr",
     "output_type": "stream",
     "text": [
      "요약 진행 중:  81%|████████  | 1927/2388 [1:11:11<16:18,  2.12s/it]"
     ]
    },
    {
     "name": "stdout",
     "output_type": "stream",
     "text": [
      "1928/2388 행 요약 완료\n"
     ]
    },
    {
     "name": "stderr",
     "output_type": "stream",
     "text": [
      "요약 진행 중:  81%|████████  | 1928/2388 [1:11:13<16:33,  2.16s/it]"
     ]
    },
    {
     "name": "stdout",
     "output_type": "stream",
     "text": [
      "1929/2388 행 요약 완료\n"
     ]
    },
    {
     "name": "stderr",
     "output_type": "stream",
     "text": [
      "요약 진행 중:  81%|████████  | 1929/2388 [1:11:15<15:49,  2.07s/it]"
     ]
    },
    {
     "name": "stdout",
     "output_type": "stream",
     "text": [
      "1930/2388 행 요약 완료\n"
     ]
    },
    {
     "name": "stderr",
     "output_type": "stream",
     "text": [
      "요약 진행 중:  81%|████████  | 1930/2388 [1:11:17<14:57,  1.96s/it]"
     ]
    },
    {
     "name": "stdout",
     "output_type": "stream",
     "text": [
      "1931/2388 행 요약 완료\n"
     ]
    },
    {
     "name": "stderr",
     "output_type": "stream",
     "text": [
      "요약 진행 중:  81%|████████  | 1931/2388 [1:11:18<12:54,  1.70s/it]"
     ]
    },
    {
     "name": "stdout",
     "output_type": "stream",
     "text": [
      "1932/2388 행 요약 완료\n"
     ]
    },
    {
     "name": "stderr",
     "output_type": "stream",
     "text": [
      "요약 진행 중:  81%|████████  | 1932/2388 [1:11:19<12:39,  1.66s/it]"
     ]
    },
    {
     "name": "stdout",
     "output_type": "stream",
     "text": [
      "1933/2388 행 요약 완료\n"
     ]
    },
    {
     "name": "stderr",
     "output_type": "stream",
     "text": [
      "요약 진행 중:  81%|████████  | 1933/2388 [1:11:21<11:30,  1.52s/it]"
     ]
    },
    {
     "name": "stdout",
     "output_type": "stream",
     "text": [
      "1934/2388 행 요약 완료\n"
     ]
    },
    {
     "name": "stderr",
     "output_type": "stream",
     "text": [
      "요약 진행 중:  81%|████████  | 1934/2388 [1:11:22<10:35,  1.40s/it]"
     ]
    },
    {
     "name": "stdout",
     "output_type": "stream",
     "text": [
      "1935/2388 행 요약 완료\n"
     ]
    },
    {
     "name": "stderr",
     "output_type": "stream",
     "text": [
      "요약 진행 중:  81%|████████  | 1935/2388 [1:11:23<10:24,  1.38s/it]"
     ]
    },
    {
     "name": "stdout",
     "output_type": "stream",
     "text": [
      "1936/2388 행 요약 완료\n"
     ]
    },
    {
     "name": "stderr",
     "output_type": "stream",
     "text": [
      "요약 진행 중:  81%|████████  | 1936/2388 [1:11:24<10:11,  1.35s/it]"
     ]
    },
    {
     "name": "stdout",
     "output_type": "stream",
     "text": [
      "1937/2388 행 요약 완료\n"
     ]
    },
    {
     "name": "stderr",
     "output_type": "stream",
     "text": [
      "요약 진행 중:  81%|████████  | 1937/2388 [1:11:26<10:13,  1.36s/it]"
     ]
    },
    {
     "name": "stdout",
     "output_type": "stream",
     "text": [
      "1938/2388 행 요약 완료\n"
     ]
    },
    {
     "name": "stderr",
     "output_type": "stream",
     "text": [
      "요약 진행 중:  81%|████████  | 1938/2388 [1:11:27<10:39,  1.42s/it]"
     ]
    },
    {
     "name": "stdout",
     "output_type": "stream",
     "text": [
      "1939/2388 행 요약 완료\n"
     ]
    },
    {
     "name": "stderr",
     "output_type": "stream",
     "text": [
      "요약 진행 중:  81%|████████  | 1939/2388 [1:11:29<10:22,  1.39s/it]"
     ]
    },
    {
     "name": "stdout",
     "output_type": "stream",
     "text": [
      "1940/2388 행 요약 완료\n"
     ]
    },
    {
     "name": "stderr",
     "output_type": "stream",
     "text": [
      "요약 진행 중:  81%|████████  | 1940/2388 [1:11:32<16:01,  2.15s/it]"
     ]
    },
    {
     "name": "stdout",
     "output_type": "stream",
     "text": [
      "1941/2388 행 요약 완료\n"
     ]
    },
    {
     "name": "stderr",
     "output_type": "stream",
     "text": [
      "요약 진행 중:  81%|████████▏ | 1941/2388 [1:11:34<14:28,  1.94s/it]"
     ]
    },
    {
     "name": "stdout",
     "output_type": "stream",
     "text": [
      "1942/2388 행 요약 완료\n"
     ]
    },
    {
     "name": "stderr",
     "output_type": "stream",
     "text": [
      "요약 진행 중:  81%|████████▏ | 1942/2388 [1:11:35<12:35,  1.69s/it]"
     ]
    },
    {
     "name": "stdout",
     "output_type": "stream",
     "text": [
      "1943/2388 행 요약 완료\n"
     ]
    },
    {
     "name": "stderr",
     "output_type": "stream",
     "text": [
      "요약 진행 중:  81%|████████▏ | 1943/2388 [1:11:37<12:23,  1.67s/it]"
     ]
    },
    {
     "name": "stdout",
     "output_type": "stream",
     "text": [
      "1944/2388 행 요약 완료\n"
     ]
    },
    {
     "name": "stderr",
     "output_type": "stream",
     "text": [
      "요약 진행 중:  81%|████████▏ | 1944/2388 [1:11:38<11:30,  1.55s/it]"
     ]
    },
    {
     "name": "stdout",
     "output_type": "stream",
     "text": [
      "1945/2388 행 요약 완료\n"
     ]
    },
    {
     "name": "stderr",
     "output_type": "stream",
     "text": [
      "요약 진행 중:  81%|████████▏ | 1945/2388 [1:11:40<13:40,  1.85s/it]"
     ]
    },
    {
     "name": "stdout",
     "output_type": "stream",
     "text": [
      "1946/2388 행 요약 완료\n"
     ]
    },
    {
     "name": "stderr",
     "output_type": "stream",
     "text": [
      "요약 진행 중:  81%|████████▏ | 1946/2388 [1:11:44<17:08,  2.33s/it]"
     ]
    },
    {
     "name": "stdout",
     "output_type": "stream",
     "text": [
      "1947/2388 행 요약 완료\n"
     ]
    },
    {
     "name": "stderr",
     "output_type": "stream",
     "text": [
      "요약 진행 중:  82%|████████▏ | 1947/2388 [1:11:46<16:42,  2.27s/it]"
     ]
    },
    {
     "name": "stdout",
     "output_type": "stream",
     "text": [
      "1948/2388 행 요약 완료\n"
     ]
    },
    {
     "name": "stderr",
     "output_type": "stream",
     "text": [
      "요약 진행 중:  82%|████████▏ | 1948/2388 [1:11:49<18:45,  2.56s/it]"
     ]
    },
    {
     "name": "stdout",
     "output_type": "stream",
     "text": [
      "1949/2388 행 요약 완료\n"
     ]
    },
    {
     "name": "stderr",
     "output_type": "stream",
     "text": [
      "요약 진행 중:  82%|████████▏ | 1949/2388 [1:11:52<18:16,  2.50s/it]"
     ]
    },
    {
     "name": "stdout",
     "output_type": "stream",
     "text": [
      "1950/2388 행 요약 완료\n"
     ]
    },
    {
     "name": "stderr",
     "output_type": "stream",
     "text": [
      "요약 진행 중:  82%|████████▏ | 1950/2388 [1:11:54<17:23,  2.38s/it]"
     ]
    },
    {
     "name": "stdout",
     "output_type": "stream",
     "text": [
      "1951/2388 행 요약 완료\n"
     ]
    },
    {
     "name": "stderr",
     "output_type": "stream",
     "text": [
      "요약 진행 중:  82%|████████▏ | 1951/2388 [1:11:57<18:23,  2.52s/it]"
     ]
    },
    {
     "name": "stdout",
     "output_type": "stream",
     "text": [
      "1952/2388 행 요약 완료\n"
     ]
    },
    {
     "name": "stderr",
     "output_type": "stream",
     "text": [
      "요약 진행 중:  82%|████████▏ | 1952/2388 [1:11:58<16:35,  2.28s/it]"
     ]
    },
    {
     "name": "stdout",
     "output_type": "stream",
     "text": [
      "1953/2388 행 요약 완료\n"
     ]
    },
    {
     "name": "stderr",
     "output_type": "stream",
     "text": [
      "요약 진행 중:  82%|████████▏ | 1953/2388 [1:12:00<16:03,  2.22s/it]"
     ]
    },
    {
     "name": "stdout",
     "output_type": "stream",
     "text": [
      "1954/2388 행 요약 완료\n"
     ]
    },
    {
     "name": "stderr",
     "output_type": "stream",
     "text": [
      "요약 진행 중:  82%|████████▏ | 1954/2388 [1:12:02<14:24,  1.99s/it]"
     ]
    },
    {
     "name": "stdout",
     "output_type": "stream",
     "text": [
      "1955/2388 행 요약 완료\n"
     ]
    },
    {
     "name": "stderr",
     "output_type": "stream",
     "text": [
      "요약 진행 중:  82%|████████▏ | 1955/2388 [1:12:03<12:54,  1.79s/it]"
     ]
    },
    {
     "name": "stdout",
     "output_type": "stream",
     "text": [
      "1956/2388 행 요약 완료\n"
     ]
    },
    {
     "name": "stderr",
     "output_type": "stream",
     "text": [
      "요약 진행 중:  82%|████████▏ | 1956/2388 [1:12:06<14:50,  2.06s/it]"
     ]
    },
    {
     "name": "stdout",
     "output_type": "stream",
     "text": [
      "1957/2388 행 요약 완료\n"
     ]
    },
    {
     "name": "stderr",
     "output_type": "stream",
     "text": [
      "요약 진행 중:  82%|████████▏ | 1957/2388 [1:12:10<18:22,  2.56s/it]"
     ]
    },
    {
     "name": "stdout",
     "output_type": "stream",
     "text": [
      "1958/2388 행 요약 완료\n"
     ]
    },
    {
     "name": "stderr",
     "output_type": "stream",
     "text": [
      "요약 진행 중:  82%|████████▏ | 1958/2388 [1:12:11<16:24,  2.29s/it]"
     ]
    },
    {
     "name": "stdout",
     "output_type": "stream",
     "text": [
      "1959/2388 행 요약 완료\n"
     ]
    },
    {
     "name": "stderr",
     "output_type": "stream",
     "text": [
      "요약 진행 중:  82%|████████▏ | 1959/2388 [1:12:13<14:57,  2.09s/it]"
     ]
    },
    {
     "name": "stdout",
     "output_type": "stream",
     "text": [
      "1960/2388 행 요약 완료\n"
     ]
    },
    {
     "name": "stderr",
     "output_type": "stream",
     "text": [
      "요약 진행 중:  82%|████████▏ | 1960/2388 [1:12:17<19:35,  2.75s/it]"
     ]
    },
    {
     "name": "stdout",
     "output_type": "stream",
     "text": [
      "1961/2388 행 요약 완료\n"
     ]
    },
    {
     "name": "stderr",
     "output_type": "stream",
     "text": [
      "요약 진행 중:  82%|████████▏ | 1961/2388 [1:12:18<16:21,  2.30s/it]"
     ]
    },
    {
     "name": "stdout",
     "output_type": "stream",
     "text": [
      "1962/2388 행 요약 완료\n"
     ]
    },
    {
     "name": "stderr",
     "output_type": "stream",
     "text": [
      "요약 진행 중:  82%|████████▏ | 1962/2388 [1:12:20<14:10,  2.00s/it]"
     ]
    },
    {
     "name": "stdout",
     "output_type": "stream",
     "text": [
      "1963/2388 행 요약 완료\n"
     ]
    },
    {
     "name": "stderr",
     "output_type": "stream",
     "text": [
      "요약 진행 중:  82%|████████▏ | 1963/2388 [1:12:22<13:55,  1.97s/it]"
     ]
    },
    {
     "name": "stdout",
     "output_type": "stream",
     "text": [
      "1964/2388 행 요약 완료\n"
     ]
    },
    {
     "name": "stderr",
     "output_type": "stream",
     "text": [
      "요약 진행 중:  82%|████████▏ | 1964/2388 [1:12:23<11:55,  1.69s/it]"
     ]
    },
    {
     "name": "stdout",
     "output_type": "stream",
     "text": [
      "1965/2388 행 요약 완료\n"
     ]
    },
    {
     "name": "stderr",
     "output_type": "stream",
     "text": [
      "요약 진행 중:  82%|████████▏ | 1965/2388 [1:12:25<13:02,  1.85s/it]"
     ]
    },
    {
     "name": "stdout",
     "output_type": "stream",
     "text": [
      "1966/2388 행 요약 완료\n"
     ]
    },
    {
     "name": "stderr",
     "output_type": "stream",
     "text": [
      "요약 진행 중:  82%|████████▏ | 1966/2388 [1:12:26<11:22,  1.62s/it]"
     ]
    },
    {
     "name": "stdout",
     "output_type": "stream",
     "text": [
      "1967/2388 행 요약 완료\n"
     ]
    },
    {
     "name": "stderr",
     "output_type": "stream",
     "text": [
      "요약 진행 중:  82%|████████▏ | 1967/2388 [1:12:27<10:55,  1.56s/it]"
     ]
    },
    {
     "name": "stdout",
     "output_type": "stream",
     "text": [
      "1968/2388 행 요약 완료\n"
     ]
    },
    {
     "name": "stderr",
     "output_type": "stream",
     "text": [
      "요약 진행 중:  82%|████████▏ | 1968/2388 [1:12:29<10:09,  1.45s/it]"
     ]
    },
    {
     "name": "stdout",
     "output_type": "stream",
     "text": [
      "1969/2388 행 요약 완료\n"
     ]
    },
    {
     "name": "stderr",
     "output_type": "stream",
     "text": [
      "요약 진행 중:  82%|████████▏ | 1969/2388 [1:12:30<10:41,  1.53s/it]"
     ]
    },
    {
     "name": "stdout",
     "output_type": "stream",
     "text": [
      "1970/2388 행 요약 완료\n"
     ]
    },
    {
     "name": "stderr",
     "output_type": "stream",
     "text": [
      "요약 진행 중:  82%|████████▏ | 1970/2388 [1:12:32<10:34,  1.52s/it]"
     ]
    },
    {
     "name": "stdout",
     "output_type": "stream",
     "text": [
      "1971/2388 행 요약 완료\n"
     ]
    },
    {
     "name": "stderr",
     "output_type": "stream",
     "text": [
      "요약 진행 중:  83%|████████▎ | 1971/2388 [1:12:34<12:39,  1.82s/it]"
     ]
    },
    {
     "name": "stdout",
     "output_type": "stream",
     "text": [
      "1972/2388 행 요약 완료\n"
     ]
    },
    {
     "name": "stderr",
     "output_type": "stream",
     "text": [
      "요약 진행 중:  83%|████████▎ | 1972/2388 [1:12:36<11:19,  1.63s/it]"
     ]
    },
    {
     "name": "stdout",
     "output_type": "stream",
     "text": [
      "1973/2388 행 요약 완료\n"
     ]
    },
    {
     "name": "stderr",
     "output_type": "stream",
     "text": [
      "요약 진행 중:  83%|████████▎ | 1973/2388 [1:12:37<11:24,  1.65s/it]"
     ]
    },
    {
     "name": "stdout",
     "output_type": "stream",
     "text": [
      "1974/2388 행 요약 완료\n"
     ]
    },
    {
     "name": "stderr",
     "output_type": "stream",
     "text": [
      "요약 진행 중:  83%|████████▎ | 1974/2388 [1:12:40<13:51,  2.01s/it]"
     ]
    },
    {
     "name": "stdout",
     "output_type": "stream",
     "text": [
      "1975/2388 행 요약 완료\n"
     ]
    },
    {
     "name": "stderr",
     "output_type": "stream",
     "text": [
      "요약 진행 중:  83%|████████▎ | 1975/2388 [1:12:45<18:57,  2.75s/it]"
     ]
    },
    {
     "name": "stdout",
     "output_type": "stream",
     "text": [
      "1976/2388 행 요약 완료\n"
     ]
    },
    {
     "name": "stderr",
     "output_type": "stream",
     "text": [
      "요약 진행 중:  83%|████████▎ | 1976/2388 [1:12:46<16:02,  2.34s/it]"
     ]
    },
    {
     "name": "stdout",
     "output_type": "stream",
     "text": [
      "1977/2388 행 요약 완료\n"
     ]
    },
    {
     "name": "stderr",
     "output_type": "stream",
     "text": [
      "요약 진행 중:  83%|████████▎ | 1977/2388 [1:12:48<15:00,  2.19s/it]"
     ]
    },
    {
     "name": "stdout",
     "output_type": "stream",
     "text": [
      "1978/2388 행 요약 완료\n"
     ]
    },
    {
     "name": "stderr",
     "output_type": "stream",
     "text": [
      "요약 진행 중:  83%|████████▎ | 1978/2388 [1:12:50<15:54,  2.33s/it]"
     ]
    },
    {
     "name": "stdout",
     "output_type": "stream",
     "text": [
      "1979/2388 행 요약 완료\n"
     ]
    },
    {
     "name": "stderr",
     "output_type": "stream",
     "text": [
      "요약 진행 중:  83%|████████▎ | 1979/2388 [1:12:54<17:44,  2.60s/it]"
     ]
    },
    {
     "name": "stdout",
     "output_type": "stream",
     "text": [
      "1980/2388 행 요약 완료\n"
     ]
    },
    {
     "name": "stderr",
     "output_type": "stream",
     "text": [
      "요약 진행 중:  83%|████████▎ | 1980/2388 [1:12:55<15:01,  2.21s/it]"
     ]
    },
    {
     "name": "stdout",
     "output_type": "stream",
     "text": [
      "1981/2388 행 요약 완료\n"
     ]
    },
    {
     "name": "stderr",
     "output_type": "stream",
     "text": [
      "요약 진행 중:  83%|████████▎ | 1981/2388 [1:12:57<13:59,  2.06s/it]"
     ]
    },
    {
     "name": "stdout",
     "output_type": "stream",
     "text": [
      "1982/2388 행 요약 완료\n"
     ]
    },
    {
     "name": "stderr",
     "output_type": "stream",
     "text": [
      "요약 진행 중:  83%|████████▎ | 1982/2388 [1:12:58<13:05,  1.93s/it]"
     ]
    },
    {
     "name": "stdout",
     "output_type": "stream",
     "text": [
      "1983/2388 행 요약 완료\n"
     ]
    },
    {
     "name": "stderr",
     "output_type": "stream",
     "text": [
      "요약 진행 중:  83%|████████▎ | 1983/2388 [1:13:02<16:11,  2.40s/it]"
     ]
    },
    {
     "name": "stdout",
     "output_type": "stream",
     "text": [
      "1984/2388 행 요약 완료\n"
     ]
    },
    {
     "name": "stderr",
     "output_type": "stream",
     "text": [
      "요약 진행 중:  83%|████████▎ | 1984/2388 [1:13:03<14:02,  2.09s/it]"
     ]
    },
    {
     "name": "stdout",
     "output_type": "stream",
     "text": [
      "1985/2388 행 요약 완료\n"
     ]
    },
    {
     "name": "stderr",
     "output_type": "stream",
     "text": [
      "요약 진행 중:  83%|████████▎ | 1985/2388 [1:13:05<13:38,  2.03s/it]"
     ]
    },
    {
     "name": "stdout",
     "output_type": "stream",
     "text": [
      "1986/2388 행 요약 완료\n"
     ]
    },
    {
     "name": "stderr",
     "output_type": "stream",
     "text": [
      "요약 진행 중:  83%|████████▎ | 1986/2388 [1:13:07<12:45,  1.90s/it]"
     ]
    },
    {
     "name": "stdout",
     "output_type": "stream",
     "text": [
      "1987/2388 행 요약 완료\n"
     ]
    },
    {
     "name": "stderr",
     "output_type": "stream",
     "text": [
      "요약 진행 중:  83%|████████▎ | 1987/2388 [1:13:09<12:43,  1.90s/it]"
     ]
    },
    {
     "name": "stdout",
     "output_type": "stream",
     "text": [
      "1988/2388 행 요약 완료\n"
     ]
    },
    {
     "name": "stderr",
     "output_type": "stream",
     "text": [
      "요약 진행 중:  83%|████████▎ | 1988/2388 [1:13:12<15:23,  2.31s/it]"
     ]
    },
    {
     "name": "stdout",
     "output_type": "stream",
     "text": [
      "1989/2388 행 요약 완료\n"
     ]
    },
    {
     "name": "stderr",
     "output_type": "stream",
     "text": [
      "요약 진행 중:  83%|████████▎ | 1989/2388 [1:13:13<13:03,  1.96s/it]"
     ]
    },
    {
     "name": "stdout",
     "output_type": "stream",
     "text": [
      "1990/2388 행 요약 완료\n"
     ]
    },
    {
     "name": "stderr",
     "output_type": "stream",
     "text": [
      "요약 진행 중:  83%|████████▎ | 1990/2388 [1:13:15<12:33,  1.89s/it]"
     ]
    },
    {
     "name": "stdout",
     "output_type": "stream",
     "text": [
      "1991/2388 행 요약 완료\n"
     ]
    },
    {
     "name": "stderr",
     "output_type": "stream",
     "text": [
      "요약 진행 중:  83%|████████▎ | 1991/2388 [1:13:18<14:35,  2.21s/it]"
     ]
    },
    {
     "name": "stdout",
     "output_type": "stream",
     "text": [
      "1992/2388 행 요약 완료\n"
     ]
    },
    {
     "name": "stderr",
     "output_type": "stream",
     "text": [
      "요약 진행 중:  83%|████████▎ | 1992/2388 [1:13:21<16:16,  2.47s/it]"
     ]
    },
    {
     "name": "stdout",
     "output_type": "stream",
     "text": [
      "1993/2388 행 요약 완료\n"
     ]
    },
    {
     "name": "stderr",
     "output_type": "stream",
     "text": [
      "요약 진행 중:  83%|████████▎ | 1993/2388 [1:13:22<14:16,  2.17s/it]"
     ]
    },
    {
     "name": "stdout",
     "output_type": "stream",
     "text": [
      "1994/2388 행 요약 완료\n"
     ]
    },
    {
     "name": "stderr",
     "output_type": "stream",
     "text": [
      "요약 진행 중:  84%|████████▎ | 1994/2388 [1:13:23<12:10,  1.86s/it]"
     ]
    },
    {
     "name": "stdout",
     "output_type": "stream",
     "text": [
      "1995/2388 행 요약 완료\n"
     ]
    },
    {
     "name": "stderr",
     "output_type": "stream",
     "text": [
      "요약 진행 중:  84%|████████▎ | 1995/2388 [1:13:24<10:51,  1.66s/it]"
     ]
    },
    {
     "name": "stdout",
     "output_type": "stream",
     "text": [
      "1996/2388 행 요약 완료\n"
     ]
    },
    {
     "name": "stderr",
     "output_type": "stream",
     "text": [
      "요약 진행 중:  84%|████████▎ | 1996/2388 [1:13:26<10:06,  1.55s/it]"
     ]
    },
    {
     "name": "stdout",
     "output_type": "stream",
     "text": [
      "1997/2388 행 요약 완료\n"
     ]
    },
    {
     "name": "stderr",
     "output_type": "stream",
     "text": [
      "요약 진행 중:  84%|████████▎ | 1997/2388 [1:13:27<09:50,  1.51s/it]"
     ]
    },
    {
     "name": "stdout",
     "output_type": "stream",
     "text": [
      "1998/2388 행 요약 완료\n"
     ]
    },
    {
     "name": "stderr",
     "output_type": "stream",
     "text": [
      "요약 진행 중:  84%|████████▎ | 1998/2388 [1:13:28<09:06,  1.40s/it]"
     ]
    },
    {
     "name": "stdout",
     "output_type": "stream",
     "text": [
      "1999/2388 행 요약 완료\n"
     ]
    },
    {
     "name": "stderr",
     "output_type": "stream",
     "text": [
      "요약 진행 중:  84%|████████▎ | 1999/2388 [1:13:30<09:17,  1.43s/it]"
     ]
    },
    {
     "name": "stdout",
     "output_type": "stream",
     "text": [
      "2000/2388 행 요약 완료\n"
     ]
    },
    {
     "name": "stderr",
     "output_type": "stream",
     "text": [
      "요약 진행 중:  84%|████████▍ | 2000/2388 [1:13:31<09:19,  1.44s/it]"
     ]
    },
    {
     "name": "stdout",
     "output_type": "stream",
     "text": [
      "2001/2388 행 요약 완료\n"
     ]
    },
    {
     "name": "stderr",
     "output_type": "stream",
     "text": [
      "요약 진행 중:  84%|████████▍ | 2001/2388 [1:13:33<09:22,  1.45s/it]"
     ]
    },
    {
     "name": "stdout",
     "output_type": "stream",
     "text": [
      "2002/2388 행 요약 완료\n"
     ]
    },
    {
     "name": "stderr",
     "output_type": "stream",
     "text": [
      "요약 진행 중:  84%|████████▍ | 2002/2388 [1:13:35<10:19,  1.61s/it]"
     ]
    },
    {
     "name": "stdout",
     "output_type": "stream",
     "text": [
      "2003/2388 행 요약 완료\n"
     ]
    },
    {
     "name": "stderr",
     "output_type": "stream",
     "text": [
      "요약 진행 중:  84%|████████▍ | 2003/2388 [1:13:37<10:36,  1.65s/it]"
     ]
    },
    {
     "name": "stdout",
     "output_type": "stream",
     "text": [
      "2004/2388 행 요약 완료\n"
     ]
    },
    {
     "name": "stderr",
     "output_type": "stream",
     "text": [
      "요약 진행 중:  84%|████████▍ | 2004/2388 [1:13:38<10:28,  1.64s/it]"
     ]
    },
    {
     "name": "stdout",
     "output_type": "stream",
     "text": [
      "2005/2388 행 요약 완료\n"
     ]
    },
    {
     "name": "stderr",
     "output_type": "stream",
     "text": [
      "요약 진행 중:  84%|████████▍ | 2005/2388 [1:13:39<09:56,  1.56s/it]"
     ]
    },
    {
     "name": "stdout",
     "output_type": "stream",
     "text": [
      "2006/2388 행 요약 완료\n"
     ]
    },
    {
     "name": "stderr",
     "output_type": "stream",
     "text": [
      "요약 진행 중:  84%|████████▍ | 2006/2388 [1:13:41<10:33,  1.66s/it]"
     ]
    },
    {
     "name": "stdout",
     "output_type": "stream",
     "text": [
      "2007/2388 행 요약 완료\n"
     ]
    },
    {
     "name": "stderr",
     "output_type": "stream",
     "text": [
      "요약 진행 중:  84%|████████▍ | 2007/2388 [1:13:45<13:49,  2.18s/it]"
     ]
    },
    {
     "name": "stdout",
     "output_type": "stream",
     "text": [
      "2008/2388 행 요약 완료\n"
     ]
    },
    {
     "name": "stderr",
     "output_type": "stream",
     "text": [
      "요약 진행 중:  84%|████████▍ | 2008/2388 [1:13:46<12:45,  2.02s/it]"
     ]
    },
    {
     "name": "stdout",
     "output_type": "stream",
     "text": [
      "2009/2388 행 요약 완료\n"
     ]
    },
    {
     "name": "stderr",
     "output_type": "stream",
     "text": [
      "요약 진행 중:  84%|████████▍ | 2009/2388 [1:13:49<13:17,  2.10s/it]"
     ]
    },
    {
     "name": "stdout",
     "output_type": "stream",
     "text": [
      "2010/2388 행 요약 완료\n"
     ]
    },
    {
     "name": "stderr",
     "output_type": "stream",
     "text": [
      "요약 진행 중:  84%|████████▍ | 2010/2388 [1:13:50<11:45,  1.87s/it]"
     ]
    },
    {
     "name": "stdout",
     "output_type": "stream",
     "text": [
      "2011/2388 행 요약 완료\n"
     ]
    },
    {
     "name": "stderr",
     "output_type": "stream",
     "text": [
      "요약 진행 중:  84%|████████▍ | 2011/2388 [1:13:52<11:59,  1.91s/it]"
     ]
    },
    {
     "name": "stdout",
     "output_type": "stream",
     "text": [
      "2012/2388 행 요약 완료\n"
     ]
    },
    {
     "name": "stderr",
     "output_type": "stream",
     "text": [
      "요약 진행 중:  84%|████████▍ | 2012/2388 [1:13:55<14:23,  2.30s/it]"
     ]
    },
    {
     "name": "stdout",
     "output_type": "stream",
     "text": [
      "2013/2388 행 요약 완료\n"
     ]
    },
    {
     "name": "stderr",
     "output_type": "stream",
     "text": [
      "요약 진행 중:  84%|████████▍ | 2013/2388 [1:13:57<12:48,  2.05s/it]"
     ]
    },
    {
     "name": "stdout",
     "output_type": "stream",
     "text": [
      "2014/2388 행 요약 완료\n"
     ]
    },
    {
     "name": "stderr",
     "output_type": "stream",
     "text": [
      "요약 진행 중:  84%|████████▍ | 2014/2388 [1:13:59<12:37,  2.02s/it]"
     ]
    },
    {
     "name": "stdout",
     "output_type": "stream",
     "text": [
      "2015/2388 행 요약 완료\n"
     ]
    },
    {
     "name": "stderr",
     "output_type": "stream",
     "text": [
      "요약 진행 중:  84%|████████▍ | 2015/2388 [1:14:02<14:09,  2.28s/it]"
     ]
    },
    {
     "name": "stdout",
     "output_type": "stream",
     "text": [
      "2016/2388 행 요약 완료\n"
     ]
    },
    {
     "name": "stderr",
     "output_type": "stream",
     "text": [
      "요약 진행 중:  84%|████████▍ | 2016/2388 [1:14:04<14:28,  2.33s/it]"
     ]
    },
    {
     "name": "stdout",
     "output_type": "stream",
     "text": [
      "2017/2388 행 요약 완료\n"
     ]
    },
    {
     "name": "stderr",
     "output_type": "stream",
     "text": [
      "요약 진행 중:  84%|████████▍ | 2017/2388 [1:14:07<15:17,  2.47s/it]"
     ]
    },
    {
     "name": "stdout",
     "output_type": "stream",
     "text": [
      "2018/2388 행 요약 완료\n"
     ]
    },
    {
     "name": "stderr",
     "output_type": "stream",
     "text": [
      "요약 진행 중:  85%|████████▍ | 2018/2388 [1:14:09<14:53,  2.41s/it]"
     ]
    },
    {
     "name": "stdout",
     "output_type": "stream",
     "text": [
      "2019/2388 행 요약 완료\n"
     ]
    },
    {
     "name": "stderr",
     "output_type": "stream",
     "text": [
      "요약 진행 중:  85%|████████▍ | 2019/2388 [1:14:12<15:55,  2.59s/it]"
     ]
    },
    {
     "name": "stdout",
     "output_type": "stream",
     "text": [
      "2020/2388 행 요약 완료\n"
     ]
    },
    {
     "name": "stderr",
     "output_type": "stream",
     "text": [
      "요약 진행 중:  85%|████████▍ | 2020/2388 [1:14:13<13:38,  2.22s/it]"
     ]
    },
    {
     "name": "stdout",
     "output_type": "stream",
     "text": [
      "2021/2388 행 요약 완료\n"
     ]
    },
    {
     "name": "stderr",
     "output_type": "stream",
     "text": [
      "요약 진행 중:  85%|████████▍ | 2021/2388 [1:14:16<14:30,  2.37s/it]"
     ]
    },
    {
     "name": "stdout",
     "output_type": "stream",
     "text": [
      "2022/2388 행 요약 완료\n"
     ]
    },
    {
     "name": "stderr",
     "output_type": "stream",
     "text": [
      "요약 진행 중:  85%|████████▍ | 2022/2388 [1:14:18<13:15,  2.17s/it]"
     ]
    },
    {
     "name": "stdout",
     "output_type": "stream",
     "text": [
      "2023/2388 행 요약 완료\n"
     ]
    },
    {
     "name": "stderr",
     "output_type": "stream",
     "text": [
      "요약 진행 중:  85%|████████▍ | 2023/2388 [1:14:19<11:40,  1.92s/it]"
     ]
    },
    {
     "name": "stdout",
     "output_type": "stream",
     "text": [
      "2024/2388 행 요약 완료\n"
     ]
    },
    {
     "name": "stderr",
     "output_type": "stream",
     "text": [
      "요약 진행 중:  85%|████████▍ | 2024/2388 [1:14:21<10:35,  1.75s/it]"
     ]
    },
    {
     "name": "stdout",
     "output_type": "stream",
     "text": [
      "2025/2388 행 요약 완료\n"
     ]
    },
    {
     "name": "stderr",
     "output_type": "stream",
     "text": [
      "요약 진행 중:  85%|████████▍ | 2025/2388 [1:14:23<12:03,  1.99s/it]"
     ]
    },
    {
     "name": "stdout",
     "output_type": "stream",
     "text": [
      "2026/2388 행 요약 완료\n"
     ]
    },
    {
     "name": "stderr",
     "output_type": "stream",
     "text": [
      "요약 진행 중:  85%|████████▍ | 2026/2388 [1:14:26<13:07,  2.18s/it]"
     ]
    },
    {
     "name": "stdout",
     "output_type": "stream",
     "text": [
      "2027/2388 행 요약 완료\n"
     ]
    },
    {
     "name": "stderr",
     "output_type": "stream",
     "text": [
      "요약 진행 중:  85%|████████▍ | 2027/2388 [1:14:30<16:46,  2.79s/it]"
     ]
    },
    {
     "name": "stdout",
     "output_type": "stream",
     "text": [
      "2028/2388 행 요약 완료\n"
     ]
    },
    {
     "name": "stderr",
     "output_type": "stream",
     "text": [
      "요약 진행 중:  85%|████████▍ | 2028/2388 [1:14:32<15:07,  2.52s/it]"
     ]
    },
    {
     "name": "stdout",
     "output_type": "stream",
     "text": [
      "2029/2388 행 요약 완료\n"
     ]
    },
    {
     "name": "stderr",
     "output_type": "stream",
     "text": [
      "요약 진행 중:  85%|████████▍ | 2029/2388 [1:14:34<14:00,  2.34s/it]"
     ]
    },
    {
     "name": "stdout",
     "output_type": "stream",
     "text": [
      "2030/2388 행 요약 완료\n"
     ]
    },
    {
     "name": "stderr",
     "output_type": "stream",
     "text": [
      "요약 진행 중:  85%|████████▌ | 2030/2388 [1:14:36<12:53,  2.16s/it]"
     ]
    },
    {
     "name": "stdout",
     "output_type": "stream",
     "text": [
      "2031/2388 행 요약 완료\n"
     ]
    },
    {
     "name": "stderr",
     "output_type": "stream",
     "text": [
      "요약 진행 중:  85%|████████▌ | 2031/2388 [1:14:39<14:41,  2.47s/it]"
     ]
    },
    {
     "name": "stdout",
     "output_type": "stream",
     "text": [
      "2032/2388 행 요약 완료\n"
     ]
    },
    {
     "name": "stderr",
     "output_type": "stream",
     "text": [
      "요약 진행 중:  85%|████████▌ | 2032/2388 [1:14:40<13:04,  2.20s/it]"
     ]
    },
    {
     "name": "stdout",
     "output_type": "stream",
     "text": [
      "2033/2388 행 요약 완료\n"
     ]
    },
    {
     "name": "stderr",
     "output_type": "stream",
     "text": [
      "요약 진행 중:  85%|████████▌ | 2033/2388 [1:14:42<12:39,  2.14s/it]"
     ]
    },
    {
     "name": "stdout",
     "output_type": "stream",
     "text": [
      "2034/2388 행 요약 완료\n"
     ]
    },
    {
     "name": "stderr",
     "output_type": "stream",
     "text": [
      "요약 진행 중:  85%|████████▌ | 2034/2388 [1:14:46<14:45,  2.50s/it]"
     ]
    },
    {
     "name": "stdout",
     "output_type": "stream",
     "text": [
      "2035/2388 행 요약 완료\n"
     ]
    },
    {
     "name": "stderr",
     "output_type": "stream",
     "text": [
      "요약 진행 중:  85%|████████▌ | 2035/2388 [1:14:48<14:24,  2.45s/it]"
     ]
    },
    {
     "name": "stdout",
     "output_type": "stream",
     "text": [
      "2036/2388 행 요약 완료\n"
     ]
    },
    {
     "name": "stderr",
     "output_type": "stream",
     "text": [
      "요약 진행 중:  85%|████████▌ | 2036/2388 [1:14:50<13:43,  2.34s/it]"
     ]
    },
    {
     "name": "stdout",
     "output_type": "stream",
     "text": [
      "2037/2388 행 요약 완료\n"
     ]
    },
    {
     "name": "stderr",
     "output_type": "stream",
     "text": [
      "요약 진행 중:  85%|████████▌ | 2037/2388 [1:14:56<20:41,  3.54s/it]"
     ]
    },
    {
     "name": "stdout",
     "output_type": "stream",
     "text": [
      "2038/2388 행 요약 완료\n"
     ]
    },
    {
     "name": "stderr",
     "output_type": "stream",
     "text": [
      "요약 진행 중:  85%|████████▌ | 2038/2388 [1:14:57<16:22,  2.81s/it]"
     ]
    },
    {
     "name": "stdout",
     "output_type": "stream",
     "text": [
      "2039/2388 행 요약 완료\n"
     ]
    },
    {
     "name": "stderr",
     "output_type": "stream",
     "text": [
      "요약 진행 중:  85%|████████▌ | 2039/2388 [1:14:59<13:28,  2.32s/it]"
     ]
    },
    {
     "name": "stdout",
     "output_type": "stream",
     "text": [
      "2040/2388 행 요약 완료\n"
     ]
    },
    {
     "name": "stderr",
     "output_type": "stream",
     "text": [
      "요약 진행 중:  85%|████████▌ | 2040/2388 [1:15:01<13:34,  2.34s/it]"
     ]
    },
    {
     "name": "stdout",
     "output_type": "stream",
     "text": [
      "2041/2388 행 요약 완료\n"
     ]
    },
    {
     "name": "stderr",
     "output_type": "stream",
     "text": [
      "요약 진행 중:  85%|████████▌ | 2041/2388 [1:15:04<13:58,  2.42s/it]"
     ]
    },
    {
     "name": "stdout",
     "output_type": "stream",
     "text": [
      "2042/2388 행 요약 완료\n"
     ]
    },
    {
     "name": "stderr",
     "output_type": "stream",
     "text": [
      "요약 진행 중:  86%|████████▌ | 2042/2388 [1:15:07<14:56,  2.59s/it]"
     ]
    },
    {
     "name": "stdout",
     "output_type": "stream",
     "text": [
      "2043/2388 행 요약 완료\n"
     ]
    },
    {
     "name": "stderr",
     "output_type": "stream",
     "text": [
      "요약 진행 중:  86%|████████▌ | 2043/2388 [1:15:08<12:21,  2.15s/it]"
     ]
    },
    {
     "name": "stdout",
     "output_type": "stream",
     "text": [
      "2044/2388 행 요약 완료\n"
     ]
    },
    {
     "name": "stderr",
     "output_type": "stream",
     "text": [
      "요약 진행 중:  86%|████████▌ | 2044/2388 [1:15:09<10:43,  1.87s/it]"
     ]
    },
    {
     "name": "stdout",
     "output_type": "stream",
     "text": [
      "2045/2388 행 요약 완료\n"
     ]
    },
    {
     "name": "stderr",
     "output_type": "stream",
     "text": [
      "요약 진행 중:  86%|████████▌ | 2045/2388 [1:15:11<10:19,  1.80s/it]"
     ]
    },
    {
     "name": "stdout",
     "output_type": "stream",
     "text": [
      "2046/2388 행 요약 완료\n"
     ]
    },
    {
     "name": "stderr",
     "output_type": "stream",
     "text": [
      "요약 진행 중:  86%|████████▌ | 2046/2388 [1:15:12<08:53,  1.56s/it]"
     ]
    },
    {
     "name": "stdout",
     "output_type": "stream",
     "text": [
      "2047/2388 행 요약 완료\n"
     ]
    },
    {
     "name": "stderr",
     "output_type": "stream",
     "text": [
      "요약 진행 중:  86%|████████▌ | 2047/2388 [1:15:13<08:42,  1.53s/it]"
     ]
    },
    {
     "name": "stdout",
     "output_type": "stream",
     "text": [
      "2048/2388 행 요약 완료\n"
     ]
    },
    {
     "name": "stderr",
     "output_type": "stream",
     "text": [
      "요약 진행 중:  86%|████████▌ | 2048/2388 [1:15:16<10:58,  1.94s/it]"
     ]
    },
    {
     "name": "stdout",
     "output_type": "stream",
     "text": [
      "2049/2388 행 요약 완료\n"
     ]
    },
    {
     "name": "stderr",
     "output_type": "stream",
     "text": [
      "요약 진행 중:  86%|████████▌ | 2049/2388 [1:15:17<09:48,  1.74s/it]"
     ]
    },
    {
     "name": "stdout",
     "output_type": "stream",
     "text": [
      "2050/2388 행 요약 완료\n"
     ]
    },
    {
     "name": "stderr",
     "output_type": "stream",
     "text": [
      "요약 진행 중:  86%|████████▌ | 2050/2388 [1:15:21<13:54,  2.47s/it]"
     ]
    },
    {
     "name": "stdout",
     "output_type": "stream",
     "text": [
      "2051/2388 행 요약 완료\n"
     ]
    },
    {
     "name": "stderr",
     "output_type": "stream",
     "text": [
      "요약 진행 중:  86%|████████▌ | 2051/2388 [1:15:23<13:00,  2.32s/it]"
     ]
    },
    {
     "name": "stdout",
     "output_type": "stream",
     "text": [
      "2052/2388 행 요약 완료\n"
     ]
    },
    {
     "name": "stderr",
     "output_type": "stream",
     "text": [
      "요약 진행 중:  86%|████████▌ | 2052/2388 [1:15:26<12:56,  2.31s/it]"
     ]
    },
    {
     "name": "stdout",
     "output_type": "stream",
     "text": [
      "2053/2388 행 요약 완료\n"
     ]
    },
    {
     "name": "stderr",
     "output_type": "stream",
     "text": [
      "요약 진행 중:  86%|████████▌ | 2053/2388 [1:15:27<11:48,  2.12s/it]"
     ]
    },
    {
     "name": "stdout",
     "output_type": "stream",
     "text": [
      "2054/2388 행 요약 완료\n"
     ]
    },
    {
     "name": "stderr",
     "output_type": "stream",
     "text": [
      "요약 진행 중:  86%|████████▌ | 2054/2388 [1:15:30<13:30,  2.43s/it]"
     ]
    },
    {
     "name": "stdout",
     "output_type": "stream",
     "text": [
      "2055/2388 행 요약 완료\n"
     ]
    },
    {
     "name": "stderr",
     "output_type": "stream",
     "text": [
      "요약 진행 중:  86%|████████▌ | 2055/2388 [1:15:33<13:14,  2.39s/it]"
     ]
    },
    {
     "name": "stdout",
     "output_type": "stream",
     "text": [
      "2056/2388 행 요약 완료\n"
     ]
    },
    {
     "name": "stderr",
     "output_type": "stream",
     "text": [
      "요약 진행 중:  86%|████████▌ | 2056/2388 [1:15:35<12:34,  2.27s/it]"
     ]
    },
    {
     "name": "stdout",
     "output_type": "stream",
     "text": [
      "2057/2388 행 요약 완료\n"
     ]
    },
    {
     "name": "stderr",
     "output_type": "stream",
     "text": [
      "요약 진행 중:  86%|████████▌ | 2057/2388 [1:15:37<12:25,  2.25s/it]"
     ]
    },
    {
     "name": "stdout",
     "output_type": "stream",
     "text": [
      "2058/2388 행 요약 완료\n"
     ]
    },
    {
     "name": "stderr",
     "output_type": "stream",
     "text": [
      "요약 진행 중:  86%|████████▌ | 2058/2388 [1:15:39<12:39,  2.30s/it]"
     ]
    },
    {
     "name": "stdout",
     "output_type": "stream",
     "text": [
      "2059/2388 행 요약 완료\n"
     ]
    },
    {
     "name": "stderr",
     "output_type": "stream",
     "text": [
      "요약 진행 중:  86%|████████▌ | 2059/2388 [1:15:41<12:13,  2.23s/it]"
     ]
    },
    {
     "name": "stdout",
     "output_type": "stream",
     "text": [
      "2060/2388 행 요약 완료\n"
     ]
    },
    {
     "name": "stderr",
     "output_type": "stream",
     "text": [
      "요약 진행 중:  86%|████████▋ | 2060/2388 [1:15:46<16:03,  2.94s/it]"
     ]
    },
    {
     "name": "stdout",
     "output_type": "stream",
     "text": [
      "2061/2388 행 요약 완료\n"
     ]
    },
    {
     "name": "stderr",
     "output_type": "stream",
     "text": [
      "요약 진행 중:  86%|████████▋ | 2061/2388 [1:15:48<15:11,  2.79s/it]"
     ]
    },
    {
     "name": "stdout",
     "output_type": "stream",
     "text": [
      "2062/2388 행 요약 완료\n"
     ]
    },
    {
     "name": "stderr",
     "output_type": "stream",
     "text": [
      "요약 진행 중:  86%|████████▋ | 2062/2388 [1:15:51<15:09,  2.79s/it]"
     ]
    },
    {
     "name": "stdout",
     "output_type": "stream",
     "text": [
      "2063/2388 행 요약 완료\n"
     ]
    },
    {
     "name": "stderr",
     "output_type": "stream",
     "text": [
      "요약 진행 중:  86%|████████▋ | 2063/2388 [1:15:53<13:48,  2.55s/it]"
     ]
    },
    {
     "name": "stdout",
     "output_type": "stream",
     "text": [
      "2064/2388 행 요약 완료\n"
     ]
    },
    {
     "name": "stderr",
     "output_type": "stream",
     "text": [
      "요약 진행 중:  86%|████████▋ | 2064/2388 [1:15:55<12:21,  2.29s/it]"
     ]
    },
    {
     "name": "stdout",
     "output_type": "stream",
     "text": [
      "2065/2388 행 요약 완료\n"
     ]
    },
    {
     "name": "stderr",
     "output_type": "stream",
     "text": [
      "요약 진행 중:  86%|████████▋ | 2065/2388 [1:15:57<11:19,  2.10s/it]"
     ]
    },
    {
     "name": "stdout",
     "output_type": "stream",
     "text": [
      "2066/2388 행 요약 완료\n"
     ]
    },
    {
     "name": "stderr",
     "output_type": "stream",
     "text": [
      "요약 진행 중:  87%|████████▋ | 2066/2388 [1:15:58<10:28,  1.95s/it]"
     ]
    },
    {
     "name": "stdout",
     "output_type": "stream",
     "text": [
      "2067/2388 행 요약 완료\n"
     ]
    },
    {
     "name": "stderr",
     "output_type": "stream",
     "text": [
      "요약 진행 중:  87%|████████▋ | 2067/2388 [1:16:00<09:56,  1.86s/it]"
     ]
    },
    {
     "name": "stdout",
     "output_type": "stream",
     "text": [
      "2068/2388 행 요약 완료\n"
     ]
    },
    {
     "name": "stderr",
     "output_type": "stream",
     "text": [
      "요약 진행 중:  87%|████████▋ | 2068/2388 [1:16:02<10:12,  1.91s/it]"
     ]
    },
    {
     "name": "stdout",
     "output_type": "stream",
     "text": [
      "2069/2388 행 요약 완료\n"
     ]
    },
    {
     "name": "stderr",
     "output_type": "stream",
     "text": [
      "요약 진행 중:  87%|████████▋ | 2069/2388 [1:16:05<12:26,  2.34s/it]"
     ]
    },
    {
     "name": "stdout",
     "output_type": "stream",
     "text": [
      "2070/2388 행 요약 완료\n"
     ]
    },
    {
     "name": "stderr",
     "output_type": "stream",
     "text": [
      "요약 진행 중:  87%|████████▋ | 2070/2388 [1:16:09<15:19,  2.89s/it]"
     ]
    },
    {
     "name": "stdout",
     "output_type": "stream",
     "text": [
      "2071/2388 행 요약 완료\n"
     ]
    },
    {
     "name": "stderr",
     "output_type": "stream",
     "text": [
      "요약 진행 중:  87%|████████▋ | 2071/2388 [1:16:11<13:41,  2.59s/it]"
     ]
    },
    {
     "name": "stdout",
     "output_type": "stream",
     "text": [
      "2072/2388 행 요약 완료\n"
     ]
    },
    {
     "name": "stderr",
     "output_type": "stream",
     "text": [
      "요약 진행 중:  87%|████████▋ | 2072/2388 [1:16:13<12:40,  2.41s/it]"
     ]
    },
    {
     "name": "stdout",
     "output_type": "stream",
     "text": [
      "2073/2388 행 요약 완료\n"
     ]
    },
    {
     "name": "stderr",
     "output_type": "stream",
     "text": [
      "요약 진행 중:  87%|████████▋ | 2073/2388 [1:16:17<15:02,  2.86s/it]"
     ]
    },
    {
     "name": "stdout",
     "output_type": "stream",
     "text": [
      "2074/2388 행 요약 완료\n"
     ]
    },
    {
     "name": "stderr",
     "output_type": "stream",
     "text": [
      "요약 진행 중:  87%|████████▋ | 2074/2388 [1:16:19<13:21,  2.55s/it]"
     ]
    },
    {
     "name": "stdout",
     "output_type": "stream",
     "text": [
      "2075/2388 행 요약 완료\n"
     ]
    },
    {
     "name": "stderr",
     "output_type": "stream",
     "text": [
      "요약 진행 중:  87%|████████▋ | 2075/2388 [1:16:21<12:24,  2.38s/it]"
     ]
    },
    {
     "name": "stdout",
     "output_type": "stream",
     "text": [
      "2076/2388 행 요약 완료\n"
     ]
    },
    {
     "name": "stderr",
     "output_type": "stream",
     "text": [
      "요약 진행 중:  87%|████████▋ | 2076/2388 [1:16:22<10:46,  2.07s/it]"
     ]
    },
    {
     "name": "stdout",
     "output_type": "stream",
     "text": [
      "2077/2388 행 요약 완료\n"
     ]
    },
    {
     "name": "stderr",
     "output_type": "stream",
     "text": [
      "요약 진행 중:  87%|████████▋ | 2077/2388 [1:16:23<09:07,  1.76s/it]"
     ]
    },
    {
     "name": "stdout",
     "output_type": "stream",
     "text": [
      "2078/2388 행 요약 완료\n"
     ]
    },
    {
     "name": "stderr",
     "output_type": "stream",
     "text": [
      "요약 진행 중:  87%|████████▋ | 2078/2388 [1:16:26<09:40,  1.87s/it]"
     ]
    },
    {
     "name": "stdout",
     "output_type": "stream",
     "text": [
      "2079/2388 행 요약 완료\n"
     ]
    },
    {
     "name": "stderr",
     "output_type": "stream",
     "text": [
      "요약 진행 중:  87%|████████▋ | 2079/2388 [1:16:27<08:45,  1.70s/it]"
     ]
    },
    {
     "name": "stdout",
     "output_type": "stream",
     "text": [
      "2080/2388 행 요약 완료\n"
     ]
    },
    {
     "name": "stderr",
     "output_type": "stream",
     "text": [
      "요약 진행 중:  87%|████████▋ | 2080/2388 [1:16:28<07:50,  1.53s/it]"
     ]
    },
    {
     "name": "stdout",
     "output_type": "stream",
     "text": [
      "2081/2388 행 요약 완료\n"
     ]
    },
    {
     "name": "stderr",
     "output_type": "stream",
     "text": [
      "요약 진행 중:  87%|████████▋ | 2081/2388 [1:16:32<11:05,  2.17s/it]"
     ]
    },
    {
     "name": "stdout",
     "output_type": "stream",
     "text": [
      "2082/2388 행 요약 완료\n"
     ]
    },
    {
     "name": "stderr",
     "output_type": "stream",
     "text": [
      "요약 진행 중:  87%|████████▋ | 2082/2388 [1:16:35<13:23,  2.63s/it]"
     ]
    },
    {
     "name": "stdout",
     "output_type": "stream",
     "text": [
      "2083/2388 행 요약 완료\n"
     ]
    },
    {
     "name": "stderr",
     "output_type": "stream",
     "text": [
      "요약 진행 중:  87%|████████▋ | 2083/2388 [1:16:37<11:45,  2.31s/it]"
     ]
    },
    {
     "name": "stdout",
     "output_type": "stream",
     "text": [
      "2084/2388 행 요약 완료\n"
     ]
    },
    {
     "name": "stderr",
     "output_type": "stream",
     "text": [
      "요약 진행 중:  87%|████████▋ | 2084/2388 [1:16:38<10:35,  2.09s/it]"
     ]
    },
    {
     "name": "stdout",
     "output_type": "stream",
     "text": [
      "2085/2388 행 요약 완료\n"
     ]
    },
    {
     "name": "stderr",
     "output_type": "stream",
     "text": [
      "요약 진행 중:  87%|████████▋ | 2085/2388 [1:16:41<11:41,  2.31s/it]"
     ]
    },
    {
     "name": "stdout",
     "output_type": "stream",
     "text": [
      "2086/2388 행 요약 완료\n"
     ]
    },
    {
     "name": "stderr",
     "output_type": "stream",
     "text": [
      "요약 진행 중:  87%|████████▋ | 2086/2388 [1:16:43<10:29,  2.09s/it]"
     ]
    },
    {
     "name": "stdout",
     "output_type": "stream",
     "text": [
      "2087/2388 행 요약 완료\n"
     ]
    },
    {
     "name": "stderr",
     "output_type": "stream",
     "text": [
      "요약 진행 중:  87%|████████▋ | 2087/2388 [1:16:46<12:08,  2.42s/it]"
     ]
    },
    {
     "name": "stdout",
     "output_type": "stream",
     "text": [
      "2088/2388 행 요약 완료\n"
     ]
    },
    {
     "name": "stderr",
     "output_type": "stream",
     "text": [
      "요약 진행 중:  87%|████████▋ | 2088/2388 [1:16:49<13:11,  2.64s/it]"
     ]
    },
    {
     "name": "stdout",
     "output_type": "stream",
     "text": [
      "2089/2388 행 요약 완료\n"
     ]
    },
    {
     "name": "stderr",
     "output_type": "stream",
     "text": [
      "요약 진행 중:  87%|████████▋ | 2089/2388 [1:16:51<11:38,  2.34s/it]"
     ]
    },
    {
     "name": "stdout",
     "output_type": "stream",
     "text": [
      "2090/2388 행 요약 완료\n"
     ]
    },
    {
     "name": "stderr",
     "output_type": "stream",
     "text": [
      "요약 진행 중:  88%|████████▊ | 2090/2388 [1:16:54<12:36,  2.54s/it]"
     ]
    },
    {
     "name": "stdout",
     "output_type": "stream",
     "text": [
      "2091/2388 행 요약 완료\n"
     ]
    },
    {
     "name": "stderr",
     "output_type": "stream",
     "text": [
      "요약 진행 중:  88%|████████▊ | 2091/2388 [1:16:56<11:34,  2.34s/it]"
     ]
    },
    {
     "name": "stdout",
     "output_type": "stream",
     "text": [
      "2092/2388 행 요약 완료\n"
     ]
    },
    {
     "name": "stderr",
     "output_type": "stream",
     "text": [
      "요약 진행 중:  88%|████████▊ | 2092/2388 [1:17:00<13:52,  2.81s/it]"
     ]
    },
    {
     "name": "stdout",
     "output_type": "stream",
     "text": [
      "2093/2388 행 요약 완료\n"
     ]
    },
    {
     "name": "stderr",
     "output_type": "stream",
     "text": [
      "요약 진행 중:  88%|████████▊ | 2093/2388 [1:17:01<11:40,  2.37s/it]"
     ]
    },
    {
     "name": "stdout",
     "output_type": "stream",
     "text": [
      "2094/2388 행 요약 완료\n"
     ]
    },
    {
     "name": "stderr",
     "output_type": "stream",
     "text": [
      "요약 진행 중:  88%|████████▊ | 2094/2388 [1:17:03<10:32,  2.15s/it]"
     ]
    },
    {
     "name": "stdout",
     "output_type": "stream",
     "text": [
      "2095/2388 행 요약 완료\n"
     ]
    },
    {
     "name": "stderr",
     "output_type": "stream",
     "text": [
      "요약 진행 중:  88%|████████▊ | 2095/2388 [1:17:05<11:07,  2.28s/it]"
     ]
    },
    {
     "name": "stdout",
     "output_type": "stream",
     "text": [
      "2096/2388 행 요약 완료\n"
     ]
    },
    {
     "name": "stderr",
     "output_type": "stream",
     "text": [
      "요약 진행 중:  88%|████████▊ | 2096/2388 [1:17:09<13:47,  2.83s/it]"
     ]
    },
    {
     "name": "stdout",
     "output_type": "stream",
     "text": [
      "2097/2388 행 요약 완료\n"
     ]
    },
    {
     "name": "stderr",
     "output_type": "stream",
     "text": [
      "요약 진행 중:  88%|████████▊ | 2097/2388 [1:17:11<12:13,  2.52s/it]"
     ]
    },
    {
     "name": "stdout",
     "output_type": "stream",
     "text": [
      "2098/2388 행 요약 완료\n"
     ]
    },
    {
     "name": "stderr",
     "output_type": "stream",
     "text": [
      "요약 진행 중:  88%|████████▊ | 2098/2388 [1:17:13<10:48,  2.24s/it]"
     ]
    },
    {
     "name": "stdout",
     "output_type": "stream",
     "text": [
      "2099/2388 행 요약 완료\n"
     ]
    },
    {
     "name": "stderr",
     "output_type": "stream",
     "text": [
      "요약 진행 중:  88%|████████▊ | 2099/2388 [1:17:14<10:07,  2.10s/it]"
     ]
    },
    {
     "name": "stdout",
     "output_type": "stream",
     "text": [
      "2100/2388 행 요약 완료\n"
     ]
    },
    {
     "name": "stderr",
     "output_type": "stream",
     "text": [
      "요약 진행 중:  88%|████████▊ | 2100/2388 [1:17:16<09:59,  2.08s/it]"
     ]
    },
    {
     "name": "stdout",
     "output_type": "stream",
     "text": [
      "2101/2388 행 요약 완료\n"
     ]
    },
    {
     "name": "stderr",
     "output_type": "stream",
     "text": [
      "요약 진행 중:  88%|████████▊ | 2101/2388 [1:17:18<09:25,  1.97s/it]"
     ]
    },
    {
     "name": "stdout",
     "output_type": "stream",
     "text": [
      "2102/2388 행 요약 완료\n"
     ]
    },
    {
     "name": "stderr",
     "output_type": "stream",
     "text": [
      "요약 진행 중:  88%|████████▊ | 2102/2388 [1:17:21<10:17,  2.16s/it]"
     ]
    },
    {
     "name": "stdout",
     "output_type": "stream",
     "text": [
      "2103/2388 행 요약 완료\n"
     ]
    },
    {
     "name": "stderr",
     "output_type": "stream",
     "text": [
      "요약 진행 중:  88%|████████▊ | 2103/2388 [1:17:22<08:41,  1.83s/it]"
     ]
    },
    {
     "name": "stdout",
     "output_type": "stream",
     "text": [
      "2104/2388 행 요약 완료\n"
     ]
    },
    {
     "name": "stderr",
     "output_type": "stream",
     "text": [
      "요약 진행 중:  88%|████████▊ | 2104/2388 [1:17:25<09:57,  2.10s/it]"
     ]
    },
    {
     "name": "stdout",
     "output_type": "stream",
     "text": [
      "2105/2388 행 요약 완료\n"
     ]
    },
    {
     "name": "stderr",
     "output_type": "stream",
     "text": [
      "요약 진행 중:  88%|████████▊ | 2105/2388 [1:17:26<08:25,  1.79s/it]"
     ]
    },
    {
     "name": "stdout",
     "output_type": "stream",
     "text": [
      "2106/2388 행 요약 완료\n"
     ]
    },
    {
     "name": "stderr",
     "output_type": "stream",
     "text": [
      "요약 진행 중:  88%|████████▊ | 2106/2388 [1:17:28<08:58,  1.91s/it]"
     ]
    },
    {
     "name": "stdout",
     "output_type": "stream",
     "text": [
      "2107/2388 행 요약 완료\n"
     ]
    },
    {
     "name": "stderr",
     "output_type": "stream",
     "text": [
      "요약 진행 중:  88%|████████▊ | 2107/2388 [1:17:29<07:57,  1.70s/it]"
     ]
    },
    {
     "name": "stdout",
     "output_type": "stream",
     "text": [
      "2108/2388 행 요약 완료\n"
     ]
    },
    {
     "name": "stderr",
     "output_type": "stream",
     "text": [
      "요약 진행 중:  88%|████████▊ | 2108/2388 [1:17:31<08:37,  1.85s/it]"
     ]
    },
    {
     "name": "stdout",
     "output_type": "stream",
     "text": [
      "2109/2388 행 요약 완료\n"
     ]
    },
    {
     "name": "stderr",
     "output_type": "stream",
     "text": [
      "요약 진행 중:  88%|████████▊ | 2109/2388 [1:17:33<08:31,  1.84s/it]"
     ]
    },
    {
     "name": "stdout",
     "output_type": "stream",
     "text": [
      "2110/2388 행 요약 완료\n"
     ]
    },
    {
     "name": "stderr",
     "output_type": "stream",
     "text": [
      "요약 진행 중:  88%|████████▊ | 2110/2388 [1:17:35<09:15,  2.00s/it]"
     ]
    },
    {
     "name": "stdout",
     "output_type": "stream",
     "text": [
      "2111/2388 행 요약 완료\n"
     ]
    },
    {
     "name": "stderr",
     "output_type": "stream",
     "text": [
      "요약 진행 중:  88%|████████▊ | 2111/2388 [1:17:39<11:01,  2.39s/it]"
     ]
    },
    {
     "name": "stdout",
     "output_type": "stream",
     "text": [
      "2112/2388 행 요약 완료\n"
     ]
    },
    {
     "name": "stderr",
     "output_type": "stream",
     "text": [
      "요약 진행 중:  88%|████████▊ | 2112/2388 [1:17:41<11:04,  2.41s/it]"
     ]
    },
    {
     "name": "stdout",
     "output_type": "stream",
     "text": [
      "2113/2388 행 요약 완료\n"
     ]
    },
    {
     "name": "stderr",
     "output_type": "stream",
     "text": [
      "요약 진행 중:  88%|████████▊ | 2113/2388 [1:17:44<11:02,  2.41s/it]"
     ]
    },
    {
     "name": "stdout",
     "output_type": "stream",
     "text": [
      "2114/2388 행 요약 완료\n"
     ]
    },
    {
     "name": "stderr",
     "output_type": "stream",
     "text": [
      "요약 진행 중:  89%|████████▊ | 2114/2388 [1:17:45<09:41,  2.12s/it]"
     ]
    },
    {
     "name": "stdout",
     "output_type": "stream",
     "text": [
      "2115/2388 행 요약 완료\n"
     ]
    },
    {
     "name": "stderr",
     "output_type": "stream",
     "text": [
      "요약 진행 중:  89%|████████▊ | 2115/2388 [1:17:48<10:35,  2.33s/it]"
     ]
    },
    {
     "name": "stdout",
     "output_type": "stream",
     "text": [
      "2116/2388 행 요약 완료\n"
     ]
    },
    {
     "name": "stderr",
     "output_type": "stream",
     "text": [
      "요약 진행 중:  89%|████████▊ | 2116/2388 [1:17:51<11:42,  2.58s/it]"
     ]
    },
    {
     "name": "stdout",
     "output_type": "stream",
     "text": [
      "2117/2388 행 요약 완료\n"
     ]
    },
    {
     "name": "stderr",
     "output_type": "stream",
     "text": [
      "요약 진행 중:  89%|████████▊ | 2117/2388 [1:17:54<11:55,  2.64s/it]"
     ]
    },
    {
     "name": "stdout",
     "output_type": "stream",
     "text": [
      "2118/2388 행 요약 완료\n"
     ]
    },
    {
     "name": "stderr",
     "output_type": "stream",
     "text": [
      "요약 진행 중:  89%|████████▊ | 2118/2388 [1:17:55<09:51,  2.19s/it]"
     ]
    },
    {
     "name": "stdout",
     "output_type": "stream",
     "text": [
      "2119/2388 행 요약 완료\n"
     ]
    },
    {
     "name": "stderr",
     "output_type": "stream",
     "text": [
      "요약 진행 중:  89%|████████▊ | 2119/2388 [1:17:58<10:38,  2.37s/it]"
     ]
    },
    {
     "name": "stdout",
     "output_type": "stream",
     "text": [
      "2120/2388 행 요약 완료\n"
     ]
    },
    {
     "name": "stderr",
     "output_type": "stream",
     "text": [
      "요약 진행 중:  89%|████████▉ | 2120/2388 [1:18:01<12:00,  2.69s/it]"
     ]
    },
    {
     "name": "stdout",
     "output_type": "stream",
     "text": [
      "2121/2388 행 요약 완료\n"
     ]
    },
    {
     "name": "stderr",
     "output_type": "stream",
     "text": [
      "요약 진행 중:  89%|████████▉ | 2121/2388 [1:18:03<11:04,  2.49s/it]"
     ]
    },
    {
     "name": "stdout",
     "output_type": "stream",
     "text": [
      "2122/2388 행 요약 완료\n"
     ]
    },
    {
     "name": "stderr",
     "output_type": "stream",
     "text": [
      "요약 진행 중:  89%|████████▉ | 2122/2388 [1:18:05<09:40,  2.18s/it]"
     ]
    },
    {
     "name": "stdout",
     "output_type": "stream",
     "text": [
      "2123/2388 행 요약 완료\n"
     ]
    },
    {
     "name": "stderr",
     "output_type": "stream",
     "text": [
      "요약 진행 중:  89%|████████▉ | 2123/2388 [1:18:06<08:31,  1.93s/it]"
     ]
    },
    {
     "name": "stdout",
     "output_type": "stream",
     "text": [
      "2124/2388 행 요약 완료\n"
     ]
    },
    {
     "name": "stderr",
     "output_type": "stream",
     "text": [
      "요약 진행 중:  89%|████████▉ | 2124/2388 [1:18:08<08:45,  1.99s/it]"
     ]
    },
    {
     "name": "stdout",
     "output_type": "stream",
     "text": [
      "2125/2388 행 요약 완료\n"
     ]
    },
    {
     "name": "stderr",
     "output_type": "stream",
     "text": [
      "요약 진행 중:  89%|████████▉ | 2125/2388 [1:18:10<08:17,  1.89s/it]"
     ]
    },
    {
     "name": "stdout",
     "output_type": "stream",
     "text": [
      "2126/2388 행 요약 완료\n"
     ]
    },
    {
     "name": "stderr",
     "output_type": "stream",
     "text": [
      "요약 진행 중:  89%|████████▉ | 2126/2388 [1:18:11<07:49,  1.79s/it]"
     ]
    },
    {
     "name": "stdout",
     "output_type": "stream",
     "text": [
      "2127/2388 행 요약 완료\n"
     ]
    },
    {
     "name": "stderr",
     "output_type": "stream",
     "text": [
      "요약 진행 중:  89%|████████▉ | 2127/2388 [1:18:13<07:14,  1.66s/it]"
     ]
    },
    {
     "name": "stdout",
     "output_type": "stream",
     "text": [
      "2128/2388 행 요약 완료\n"
     ]
    },
    {
     "name": "stderr",
     "output_type": "stream",
     "text": [
      "요약 진행 중:  89%|████████▉ | 2128/2388 [1:18:14<06:34,  1.52s/it]"
     ]
    },
    {
     "name": "stdout",
     "output_type": "stream",
     "text": [
      "2129/2388 행 요약 완료\n"
     ]
    },
    {
     "name": "stderr",
     "output_type": "stream",
     "text": [
      "요약 진행 중:  89%|████████▉ | 2129/2388 [1:18:16<07:54,  1.83s/it]"
     ]
    },
    {
     "name": "stdout",
     "output_type": "stream",
     "text": [
      "2130/2388 행 요약 완료\n"
     ]
    },
    {
     "name": "stderr",
     "output_type": "stream",
     "text": [
      "요약 진행 중:  89%|████████▉ | 2130/2388 [1:18:18<07:15,  1.69s/it]"
     ]
    },
    {
     "name": "stdout",
     "output_type": "stream",
     "text": [
      "2131/2388 행 요약 완료\n"
     ]
    },
    {
     "name": "stderr",
     "output_type": "stream",
     "text": [
      "요약 진행 중:  89%|████████▉ | 2131/2388 [1:18:19<06:47,  1.58s/it]"
     ]
    },
    {
     "name": "stdout",
     "output_type": "stream",
     "text": [
      "2132/2388 행 요약 완료\n"
     ]
    },
    {
     "name": "stderr",
     "output_type": "stream",
     "text": [
      "요약 진행 중:  89%|████████▉ | 2132/2388 [1:18:20<06:05,  1.43s/it]"
     ]
    },
    {
     "name": "stdout",
     "output_type": "stream",
     "text": [
      "2133/2388 행 요약 완료\n"
     ]
    },
    {
     "name": "stderr",
     "output_type": "stream",
     "text": [
      "요약 진행 중:  89%|████████▉ | 2133/2388 [1:18:22<05:55,  1.39s/it]"
     ]
    },
    {
     "name": "stdout",
     "output_type": "stream",
     "text": [
      "2134/2388 행 요약 완료\n"
     ]
    },
    {
     "name": "stderr",
     "output_type": "stream",
     "text": [
      "요약 진행 중:  89%|████████▉ | 2134/2388 [1:18:25<08:04,  1.91s/it]"
     ]
    },
    {
     "name": "stdout",
     "output_type": "stream",
     "text": [
      "2135/2388 행 요약 완료\n"
     ]
    },
    {
     "name": "stderr",
     "output_type": "stream",
     "text": [
      "요약 진행 중:  89%|████████▉ | 2135/2388 [1:18:29<11:40,  2.77s/it]"
     ]
    },
    {
     "name": "stdout",
     "output_type": "stream",
     "text": [
      "2136/2388 행 요약 완료\n"
     ]
    },
    {
     "name": "stderr",
     "output_type": "stream",
     "text": [
      "요약 진행 중:  89%|████████▉ | 2136/2388 [1:18:31<09:52,  2.35s/it]"
     ]
    },
    {
     "name": "stdout",
     "output_type": "stream",
     "text": [
      "2137/2388 행 요약 완료\n"
     ]
    },
    {
     "name": "stderr",
     "output_type": "stream",
     "text": [
      "요약 진행 중:  89%|████████▉ | 2137/2388 [1:18:33<09:30,  2.27s/it]"
     ]
    },
    {
     "name": "stdout",
     "output_type": "stream",
     "text": [
      "2138/2388 행 요약 완료\n"
     ]
    },
    {
     "name": "stderr",
     "output_type": "stream",
     "text": [
      "요약 진행 중:  90%|████████▉ | 2138/2388 [1:18:35<08:39,  2.08s/it]"
     ]
    },
    {
     "name": "stdout",
     "output_type": "stream",
     "text": [
      "2139/2388 행 요약 완료\n"
     ]
    },
    {
     "name": "stderr",
     "output_type": "stream",
     "text": [
      "요약 진행 중:  90%|████████▉ | 2139/2388 [1:18:37<08:39,  2.09s/it]"
     ]
    },
    {
     "name": "stdout",
     "output_type": "stream",
     "text": [
      "2140/2388 행 요약 완료\n"
     ]
    },
    {
     "name": "stderr",
     "output_type": "stream",
     "text": [
      "요약 진행 중:  90%|████████▉ | 2140/2388 [1:18:38<07:27,  1.80s/it]"
     ]
    },
    {
     "name": "stdout",
     "output_type": "stream",
     "text": [
      "2141/2388 행 요약 완료\n"
     ]
    },
    {
     "name": "stderr",
     "output_type": "stream",
     "text": [
      "요약 진행 중:  90%|████████▉ | 2141/2388 [1:18:40<08:14,  2.00s/it]"
     ]
    },
    {
     "name": "stdout",
     "output_type": "stream",
     "text": [
      "2142/2388 행 요약 완료\n"
     ]
    },
    {
     "name": "stderr",
     "output_type": "stream",
     "text": [
      "요약 진행 중:  90%|████████▉ | 2142/2388 [1:18:42<07:27,  1.82s/it]"
     ]
    },
    {
     "name": "stdout",
     "output_type": "stream",
     "text": [
      "2143/2388 행 요약 완료\n"
     ]
    },
    {
     "name": "stderr",
     "output_type": "stream",
     "text": [
      "요약 진행 중:  90%|████████▉ | 2143/2388 [1:18:43<07:19,  1.79s/it]"
     ]
    },
    {
     "name": "stdout",
     "output_type": "stream",
     "text": [
      "2144/2388 행 요약 완료\n"
     ]
    },
    {
     "name": "stderr",
     "output_type": "stream",
     "text": [
      "요약 진행 중:  90%|████████▉ | 2144/2388 [1:18:45<06:42,  1.65s/it]"
     ]
    },
    {
     "name": "stdout",
     "output_type": "stream",
     "text": [
      "2145/2388 행 요약 완료\n"
     ]
    },
    {
     "name": "stderr",
     "output_type": "stream",
     "text": [
      "요약 진행 중:  90%|████████▉ | 2145/2388 [1:18:46<05:58,  1.48s/it]"
     ]
    },
    {
     "name": "stdout",
     "output_type": "stream",
     "text": [
      "2146/2388 행 요약 완료\n"
     ]
    },
    {
     "name": "stderr",
     "output_type": "stream",
     "text": [
      "요약 진행 중:  90%|████████▉ | 2146/2388 [1:18:49<08:15,  2.05s/it]"
     ]
    },
    {
     "name": "stdout",
     "output_type": "stream",
     "text": [
      "2147/2388 행 요약 완료\n"
     ]
    },
    {
     "name": "stderr",
     "output_type": "stream",
     "text": [
      "요약 진행 중:  90%|████████▉ | 2147/2388 [1:18:53<09:55,  2.47s/it]"
     ]
    },
    {
     "name": "stdout",
     "output_type": "stream",
     "text": [
      "2148/2388 행 요약 완료\n"
     ]
    },
    {
     "name": "stderr",
     "output_type": "stream",
     "text": [
      "요약 진행 중:  90%|████████▉ | 2148/2388 [1:18:54<08:19,  2.08s/it]"
     ]
    },
    {
     "name": "stdout",
     "output_type": "stream",
     "text": [
      "2149/2388 행 요약 완료\n"
     ]
    },
    {
     "name": "stderr",
     "output_type": "stream",
     "text": [
      "요약 진행 중:  90%|████████▉ | 2149/2388 [1:18:56<08:47,  2.21s/it]"
     ]
    },
    {
     "name": "stdout",
     "output_type": "stream",
     "text": [
      "2150/2388 행 요약 완료\n"
     ]
    },
    {
     "name": "stderr",
     "output_type": "stream",
     "text": [
      "요약 진행 중:  90%|█████████ | 2150/2388 [1:18:58<08:08,  2.05s/it]"
     ]
    },
    {
     "name": "stdout",
     "output_type": "stream",
     "text": [
      "2151/2388 행 요약 완료\n"
     ]
    },
    {
     "name": "stderr",
     "output_type": "stream",
     "text": [
      "요약 진행 중:  90%|█████████ | 2151/2388 [1:18:59<07:14,  1.83s/it]"
     ]
    },
    {
     "name": "stdout",
     "output_type": "stream",
     "text": [
      "2152/2388 행 요약 완료\n"
     ]
    },
    {
     "name": "stderr",
     "output_type": "stream",
     "text": [
      "요약 진행 중:  90%|█████████ | 2152/2388 [1:19:01<07:11,  1.83s/it]"
     ]
    },
    {
     "name": "stdout",
     "output_type": "stream",
     "text": [
      "2153/2388 행 요약 완료\n"
     ]
    },
    {
     "name": "stderr",
     "output_type": "stream",
     "text": [
      "요약 진행 중:  90%|█████████ | 2153/2388 [1:19:02<06:37,  1.69s/it]"
     ]
    },
    {
     "name": "stdout",
     "output_type": "stream",
     "text": [
      "2154/2388 행 요약 완료\n"
     ]
    },
    {
     "name": "stderr",
     "output_type": "stream",
     "text": [
      "요약 진행 중:  90%|█████████ | 2154/2388 [1:19:07<09:47,  2.51s/it]"
     ]
    },
    {
     "name": "stdout",
     "output_type": "stream",
     "text": [
      "2155/2388 행 요약 완료\n"
     ]
    },
    {
     "name": "stderr",
     "output_type": "stream",
     "text": [
      "요약 진행 중:  90%|█████████ | 2155/2388 [1:19:12<12:54,  3.32s/it]"
     ]
    },
    {
     "name": "stdout",
     "output_type": "stream",
     "text": [
      "2156/2388 행 요약 완료\n"
     ]
    },
    {
     "name": "stderr",
     "output_type": "stream",
     "text": [
      "요약 진행 중:  90%|█████████ | 2156/2388 [1:19:18<15:26,  3.99s/it]"
     ]
    },
    {
     "name": "stdout",
     "output_type": "stream",
     "text": [
      "2157/2388 행 요약 완료\n"
     ]
    },
    {
     "name": "stderr",
     "output_type": "stream",
     "text": [
      "요약 진행 중:  90%|█████████ | 2157/2388 [1:19:20<13:55,  3.62s/it]"
     ]
    },
    {
     "name": "stdout",
     "output_type": "stream",
     "text": [
      "2158/2388 행 요약 완료\n"
     ]
    },
    {
     "name": "stderr",
     "output_type": "stream",
     "text": [
      "요약 진행 중:  90%|█████████ | 2158/2388 [1:19:22<11:53,  3.10s/it]"
     ]
    },
    {
     "name": "stdout",
     "output_type": "stream",
     "text": [
      "2159/2388 행 요약 완료\n"
     ]
    },
    {
     "name": "stderr",
     "output_type": "stream",
     "text": [
      "요약 진행 중:  90%|█████████ | 2159/2388 [1:19:24<09:56,  2.60s/it]"
     ]
    },
    {
     "name": "stdout",
     "output_type": "stream",
     "text": [
      "2160/2388 행 요약 완료\n"
     ]
    },
    {
     "name": "stderr",
     "output_type": "stream",
     "text": [
      "요약 진행 중:  90%|█████████ | 2160/2388 [1:19:26<09:23,  2.47s/it]"
     ]
    },
    {
     "name": "stdout",
     "output_type": "stream",
     "text": [
      "2161/2388 행 요약 완료\n"
     ]
    },
    {
     "name": "stderr",
     "output_type": "stream",
     "text": [
      "요약 진행 중:  90%|█████████ | 2161/2388 [1:19:27<08:17,  2.19s/it]"
     ]
    },
    {
     "name": "stdout",
     "output_type": "stream",
     "text": [
      "2162/2388 행 요약 완료\n"
     ]
    },
    {
     "name": "stderr",
     "output_type": "stream",
     "text": [
      "요약 진행 중:  91%|█████████ | 2162/2388 [1:19:28<06:52,  1.82s/it]"
     ]
    },
    {
     "name": "stdout",
     "output_type": "stream",
     "text": [
      "2163/2388 행 요약 완료\n"
     ]
    },
    {
     "name": "stderr",
     "output_type": "stream",
     "text": [
      "요약 진행 중:  91%|█████████ | 2163/2388 [1:19:30<06:03,  1.62s/it]"
     ]
    },
    {
     "name": "stdout",
     "output_type": "stream",
     "text": [
      "2164/2388 행 요약 완료\n"
     ]
    },
    {
     "name": "stderr",
     "output_type": "stream",
     "text": [
      "요약 진행 중:  91%|█████████ | 2164/2388 [1:19:32<06:36,  1.77s/it]"
     ]
    },
    {
     "name": "stdout",
     "output_type": "stream",
     "text": [
      "2165/2388 행 요약 완료\n"
     ]
    },
    {
     "name": "stderr",
     "output_type": "stream",
     "text": [
      "요약 진행 중:  91%|█████████ | 2165/2388 [1:19:33<06:00,  1.62s/it]"
     ]
    },
    {
     "name": "stdout",
     "output_type": "stream",
     "text": [
      "2166/2388 행 요약 완료\n"
     ]
    },
    {
     "name": "stderr",
     "output_type": "stream",
     "text": [
      "요약 진행 중:  91%|█████████ | 2166/2388 [1:19:34<05:28,  1.48s/it]"
     ]
    },
    {
     "name": "stdout",
     "output_type": "stream",
     "text": [
      "2167/2388 행 요약 완료\n"
     ]
    },
    {
     "name": "stderr",
     "output_type": "stream",
     "text": [
      "요약 진행 중:  91%|█████████ | 2167/2388 [1:19:35<05:08,  1.40s/it]"
     ]
    },
    {
     "name": "stdout",
     "output_type": "stream",
     "text": [
      "2168/2388 행 요약 완료\n"
     ]
    },
    {
     "name": "stderr",
     "output_type": "stream",
     "text": [
      "요약 진행 중:  91%|█████████ | 2168/2388 [1:19:37<05:49,  1.59s/it]"
     ]
    },
    {
     "name": "stdout",
     "output_type": "stream",
     "text": [
      "2169/2388 행 요약 완료\n"
     ]
    },
    {
     "name": "stderr",
     "output_type": "stream",
     "text": [
      "요약 진행 중:  91%|█████████ | 2169/2388 [1:19:39<06:01,  1.65s/it]"
     ]
    },
    {
     "name": "stdout",
     "output_type": "stream",
     "text": [
      "2170/2388 행 요약 완료\n"
     ]
    },
    {
     "name": "stderr",
     "output_type": "stream",
     "text": [
      "요약 진행 중:  91%|█████████ | 2170/2388 [1:19:41<05:51,  1.61s/it]"
     ]
    },
    {
     "name": "stdout",
     "output_type": "stream",
     "text": [
      "2171/2388 행 요약 완료\n"
     ]
    },
    {
     "name": "stderr",
     "output_type": "stream",
     "text": [
      "요약 진행 중:  91%|█████████ | 2171/2388 [1:19:42<05:44,  1.59s/it]"
     ]
    },
    {
     "name": "stdout",
     "output_type": "stream",
     "text": [
      "2172/2388 행 요약 완료\n"
     ]
    },
    {
     "name": "stderr",
     "output_type": "stream",
     "text": [
      "요약 진행 중:  91%|█████████ | 2172/2388 [1:19:43<05:11,  1.44s/it]"
     ]
    },
    {
     "name": "stdout",
     "output_type": "stream",
     "text": [
      "2173/2388 행 요약 완료\n"
     ]
    },
    {
     "name": "stderr",
     "output_type": "stream",
     "text": [
      "요약 진행 중:  91%|█████████ | 2173/2388 [1:19:45<05:08,  1.44s/it]"
     ]
    },
    {
     "name": "stdout",
     "output_type": "stream",
     "text": [
      "2174/2388 행 요약 완료\n"
     ]
    },
    {
     "name": "stderr",
     "output_type": "stream",
     "text": [
      "요약 진행 중:  91%|█████████ | 2174/2388 [1:19:46<05:07,  1.43s/it]"
     ]
    },
    {
     "name": "stdout",
     "output_type": "stream",
     "text": [
      "2175/2388 행 요약 완료\n"
     ]
    },
    {
     "name": "stderr",
     "output_type": "stream",
     "text": [
      "요약 진행 중:  91%|█████████ | 2175/2388 [1:19:47<04:57,  1.40s/it]"
     ]
    },
    {
     "name": "stdout",
     "output_type": "stream",
     "text": [
      "2176/2388 행 요약 완료\n"
     ]
    },
    {
     "name": "stderr",
     "output_type": "stream",
     "text": [
      "요약 진행 중:  91%|█████████ | 2176/2388 [1:19:50<06:16,  1.77s/it]"
     ]
    },
    {
     "name": "stdout",
     "output_type": "stream",
     "text": [
      "2177/2388 행 요약 완료\n"
     ]
    },
    {
     "name": "stderr",
     "output_type": "stream",
     "text": [
      "요약 진행 중:  91%|█████████ | 2177/2388 [1:19:52<05:57,  1.70s/it]"
     ]
    },
    {
     "name": "stdout",
     "output_type": "stream",
     "text": [
      "2178/2388 행 요약 완료\n"
     ]
    },
    {
     "name": "stderr",
     "output_type": "stream",
     "text": [
      "요약 진행 중:  91%|█████████ | 2178/2388 [1:19:53<05:35,  1.60s/it]"
     ]
    },
    {
     "name": "stdout",
     "output_type": "stream",
     "text": [
      "2179/2388 행 요약 완료\n"
     ]
    },
    {
     "name": "stderr",
     "output_type": "stream",
     "text": [
      "요약 진행 중:  91%|█████████ | 2179/2388 [1:19:55<06:00,  1.72s/it]"
     ]
    },
    {
     "name": "stdout",
     "output_type": "stream",
     "text": [
      "2180/2388 행 요약 완료\n"
     ]
    },
    {
     "name": "stderr",
     "output_type": "stream",
     "text": [
      "요약 진행 중:  91%|█████████▏| 2180/2388 [1:19:57<06:33,  1.89s/it]"
     ]
    },
    {
     "name": "stdout",
     "output_type": "stream",
     "text": [
      "2181/2388 행 요약 완료\n"
     ]
    },
    {
     "name": "stderr",
     "output_type": "stream",
     "text": [
      "요약 진행 중:  91%|█████████▏| 2181/2388 [1:19:59<06:39,  1.93s/it]"
     ]
    },
    {
     "name": "stdout",
     "output_type": "stream",
     "text": [
      "2182/2388 행 요약 완료\n"
     ]
    },
    {
     "name": "stderr",
     "output_type": "stream",
     "text": [
      "요약 진행 중:  91%|█████████▏| 2182/2388 [1:20:00<05:39,  1.65s/it]"
     ]
    },
    {
     "name": "stdout",
     "output_type": "stream",
     "text": [
      "2183/2388 행 요약 완료\n"
     ]
    },
    {
     "name": "stderr",
     "output_type": "stream",
     "text": [
      "요약 진행 중:  91%|█████████▏| 2183/2388 [1:20:01<04:55,  1.44s/it]"
     ]
    },
    {
     "name": "stdout",
     "output_type": "stream",
     "text": [
      "2184/2388 행 요약 완료\n"
     ]
    },
    {
     "name": "stderr",
     "output_type": "stream",
     "text": [
      "요약 진행 중:  91%|█████████▏| 2184/2388 [1:20:02<04:29,  1.32s/it]"
     ]
    },
    {
     "name": "stdout",
     "output_type": "stream",
     "text": [
      "2185/2388 행 요약 완료\n"
     ]
    },
    {
     "name": "stderr",
     "output_type": "stream",
     "text": [
      "요약 진행 중:  91%|█████████▏| 2185/2388 [1:20:04<04:23,  1.30s/it]"
     ]
    },
    {
     "name": "stdout",
     "output_type": "stream",
     "text": [
      "2186/2388 행 요약 완료\n"
     ]
    },
    {
     "name": "stderr",
     "output_type": "stream",
     "text": [
      "요약 진행 중:  92%|█████████▏| 2186/2388 [1:20:04<03:52,  1.15s/it]"
     ]
    },
    {
     "name": "stdout",
     "output_type": "stream",
     "text": [
      "2187/2388 행 요약 완료\n"
     ]
    },
    {
     "name": "stderr",
     "output_type": "stream",
     "text": [
      "요약 진행 중:  92%|█████████▏| 2187/2388 [1:20:07<05:01,  1.50s/it]"
     ]
    },
    {
     "name": "stdout",
     "output_type": "stream",
     "text": [
      "2188/2388 행 요약 완료\n"
     ]
    },
    {
     "name": "stderr",
     "output_type": "stream",
     "text": [
      "요약 진행 중:  92%|█████████▏| 2188/2388 [1:20:08<05:01,  1.51s/it]"
     ]
    },
    {
     "name": "stdout",
     "output_type": "stream",
     "text": [
      "2189/2388 행 요약 완료\n"
     ]
    },
    {
     "name": "stderr",
     "output_type": "stream",
     "text": [
      "요약 진행 중:  92%|█████████▏| 2189/2388 [1:20:12<07:13,  2.18s/it]"
     ]
    },
    {
     "name": "stdout",
     "output_type": "stream",
     "text": [
      "2190/2388 행 요약 완료\n"
     ]
    },
    {
     "name": "stderr",
     "output_type": "stream",
     "text": [
      "요약 진행 중:  92%|█████████▏| 2190/2388 [1:20:15<07:34,  2.30s/it]"
     ]
    },
    {
     "name": "stdout",
     "output_type": "stream",
     "text": [
      "2191/2388 행 요약 완료\n"
     ]
    },
    {
     "name": "stderr",
     "output_type": "stream",
     "text": [
      "요약 진행 중:  92%|█████████▏| 2191/2388 [1:20:16<06:46,  2.06s/it]"
     ]
    },
    {
     "name": "stdout",
     "output_type": "stream",
     "text": [
      "2192/2388 행 요약 완료\n"
     ]
    },
    {
     "name": "stderr",
     "output_type": "stream",
     "text": [
      "요약 진행 중:  92%|█████████▏| 2192/2388 [1:20:17<06:09,  1.89s/it]"
     ]
    },
    {
     "name": "stdout",
     "output_type": "stream",
     "text": [
      "2193/2388 행 요약 완료\n"
     ]
    },
    {
     "name": "stderr",
     "output_type": "stream",
     "text": [
      "요약 진행 중:  92%|█████████▏| 2193/2388 [1:20:19<05:39,  1.74s/it]"
     ]
    },
    {
     "name": "stdout",
     "output_type": "stream",
     "text": [
      "2194/2388 행 요약 완료\n"
     ]
    },
    {
     "name": "stderr",
     "output_type": "stream",
     "text": [
      "요약 진행 중:  92%|█████████▏| 2194/2388 [1:20:21<05:53,  1.82s/it]"
     ]
    },
    {
     "name": "stdout",
     "output_type": "stream",
     "text": [
      "2195/2388 행 요약 완료\n"
     ]
    },
    {
     "name": "stderr",
     "output_type": "stream",
     "text": [
      "요약 진행 중:  92%|█████████▏| 2195/2388 [1:20:22<05:05,  1.58s/it]"
     ]
    },
    {
     "name": "stdout",
     "output_type": "stream",
     "text": [
      "2196/2388 행 요약 완료\n"
     ]
    },
    {
     "name": "stderr",
     "output_type": "stream",
     "text": [
      "요약 진행 중:  92%|█████████▏| 2196/2388 [1:20:23<04:49,  1.51s/it]"
     ]
    },
    {
     "name": "stdout",
     "output_type": "stream",
     "text": [
      "2197/2388 행 요약 완료\n"
     ]
    },
    {
     "name": "stderr",
     "output_type": "stream",
     "text": [
      "요약 진행 중:  92%|█████████▏| 2197/2388 [1:20:27<07:19,  2.30s/it]"
     ]
    },
    {
     "name": "stdout",
     "output_type": "stream",
     "text": [
      "2198/2388 행 요약 완료\n"
     ]
    },
    {
     "name": "stderr",
     "output_type": "stream",
     "text": [
      "요약 진행 중:  92%|█████████▏| 2198/2388 [1:20:29<06:21,  2.01s/it]"
     ]
    },
    {
     "name": "stdout",
     "output_type": "stream",
     "text": [
      "2199/2388 행 요약 완료\n"
     ]
    },
    {
     "name": "stderr",
     "output_type": "stream",
     "text": [
      "요약 진행 중:  92%|█████████▏| 2199/2388 [1:20:30<05:53,  1.87s/it]"
     ]
    },
    {
     "name": "stdout",
     "output_type": "stream",
     "text": [
      "2200/2388 행 요약 완료\n"
     ]
    },
    {
     "name": "stderr",
     "output_type": "stream",
     "text": [
      "요약 진행 중:  92%|█████████▏| 2200/2388 [1:20:33<06:54,  2.21s/it]"
     ]
    },
    {
     "name": "stdout",
     "output_type": "stream",
     "text": [
      "2201/2388 행 요약 완료\n"
     ]
    },
    {
     "name": "stderr",
     "output_type": "stream",
     "text": [
      "요약 진행 중:  92%|█████████▏| 2201/2388 [1:20:35<06:04,  1.95s/it]"
     ]
    },
    {
     "name": "stdout",
     "output_type": "stream",
     "text": [
      "2202/2388 행 요약 완료\n"
     ]
    },
    {
     "name": "stderr",
     "output_type": "stream",
     "text": [
      "요약 진행 중:  92%|█████████▏| 2202/2388 [1:20:36<05:15,  1.70s/it]"
     ]
    },
    {
     "name": "stdout",
     "output_type": "stream",
     "text": [
      "2203/2388 행 요약 완료\n"
     ]
    },
    {
     "name": "stderr",
     "output_type": "stream",
     "text": [
      "요약 진행 중:  92%|█████████▏| 2203/2388 [1:20:37<05:13,  1.70s/it]"
     ]
    },
    {
     "name": "stdout",
     "output_type": "stream",
     "text": [
      "2204/2388 행 요약 완료\n"
     ]
    },
    {
     "name": "stderr",
     "output_type": "stream",
     "text": [
      "요약 진행 중:  92%|█████████▏| 2204/2388 [1:20:39<05:02,  1.64s/it]"
     ]
    },
    {
     "name": "stdout",
     "output_type": "stream",
     "text": [
      "2205/2388 행 요약 완료\n"
     ]
    },
    {
     "name": "stderr",
     "output_type": "stream",
     "text": [
      "요약 진행 중:  92%|█████████▏| 2205/2388 [1:20:40<04:46,  1.57s/it]"
     ]
    },
    {
     "name": "stdout",
     "output_type": "stream",
     "text": [
      "2206/2388 행 요약 완료\n"
     ]
    },
    {
     "name": "stderr",
     "output_type": "stream",
     "text": [
      "요약 진행 중:  92%|█████████▏| 2206/2388 [1:20:42<04:53,  1.61s/it]"
     ]
    },
    {
     "name": "stdout",
     "output_type": "stream",
     "text": [
      "2207/2388 행 요약 완료\n"
     ]
    },
    {
     "name": "stderr",
     "output_type": "stream",
     "text": [
      "요약 진행 중:  92%|█████████▏| 2207/2388 [1:20:44<04:42,  1.56s/it]"
     ]
    },
    {
     "name": "stdout",
     "output_type": "stream",
     "text": [
      "2208/2388 행 요약 완료\n"
     ]
    },
    {
     "name": "stderr",
     "output_type": "stream",
     "text": [
      "요약 진행 중:  92%|█████████▏| 2208/2388 [1:20:45<04:34,  1.53s/it]"
     ]
    },
    {
     "name": "stdout",
     "output_type": "stream",
     "text": [
      "2209/2388 행 요약 완료\n"
     ]
    },
    {
     "name": "stderr",
     "output_type": "stream",
     "text": [
      "요약 진행 중:  93%|█████████▎| 2209/2388 [1:20:46<04:20,  1.46s/it]"
     ]
    },
    {
     "name": "stdout",
     "output_type": "stream",
     "text": [
      "2210/2388 행 요약 완료\n"
     ]
    },
    {
     "name": "stderr",
     "output_type": "stream",
     "text": [
      "요약 진행 중:  93%|█████████▎| 2210/2388 [1:20:48<05:00,  1.69s/it]"
     ]
    },
    {
     "name": "stdout",
     "output_type": "stream",
     "text": [
      "2211/2388 행 요약 완료\n"
     ]
    },
    {
     "name": "stderr",
     "output_type": "stream",
     "text": [
      "요약 진행 중:  93%|█████████▎| 2211/2388 [1:20:50<04:33,  1.54s/it]"
     ]
    },
    {
     "name": "stdout",
     "output_type": "stream",
     "text": [
      "2212/2388 행 요약 완료\n"
     ]
    },
    {
     "name": "stderr",
     "output_type": "stream",
     "text": [
      "요약 진행 중:  93%|█████████▎| 2212/2388 [1:20:51<04:44,  1.61s/it]"
     ]
    },
    {
     "name": "stdout",
     "output_type": "stream",
     "text": [
      "2213/2388 행 요약 완료\n"
     ]
    },
    {
     "name": "stderr",
     "output_type": "stream",
     "text": [
      "요약 진행 중:  93%|█████████▎| 2213/2388 [1:20:54<05:09,  1.77s/it]"
     ]
    },
    {
     "name": "stdout",
     "output_type": "stream",
     "text": [
      "2214/2388 행 요약 완료\n"
     ]
    },
    {
     "name": "stderr",
     "output_type": "stream",
     "text": [
      "요약 진행 중:  93%|█████████▎| 2214/2388 [1:20:55<04:58,  1.72s/it]"
     ]
    },
    {
     "name": "stdout",
     "output_type": "stream",
     "text": [
      "2215/2388 행 요약 완료\n"
     ]
    },
    {
     "name": "stderr",
     "output_type": "stream",
     "text": [
      "요약 진행 중:  93%|█████████▎| 2215/2388 [1:20:57<05:07,  1.78s/it]"
     ]
    },
    {
     "name": "stdout",
     "output_type": "stream",
     "text": [
      "2216/2388 행 요약 완료\n"
     ]
    },
    {
     "name": "stderr",
     "output_type": "stream",
     "text": [
      "요약 진행 중:  93%|█████████▎| 2216/2388 [1:20:59<05:04,  1.77s/it]"
     ]
    },
    {
     "name": "stdout",
     "output_type": "stream",
     "text": [
      "2217/2388 행 요약 완료\n"
     ]
    },
    {
     "name": "stderr",
     "output_type": "stream",
     "text": [
      "요약 진행 중:  93%|█████████▎| 2217/2388 [1:21:01<05:07,  1.80s/it]"
     ]
    },
    {
     "name": "stdout",
     "output_type": "stream",
     "text": [
      "2218/2388 행 요약 완료\n"
     ]
    },
    {
     "name": "stderr",
     "output_type": "stream",
     "text": [
      "요약 진행 중:  93%|█████████▎| 2218/2388 [1:21:02<04:54,  1.73s/it]"
     ]
    },
    {
     "name": "stdout",
     "output_type": "stream",
     "text": [
      "2219/2388 행 요약 완료\n"
     ]
    },
    {
     "name": "stderr",
     "output_type": "stream",
     "text": [
      "요약 진행 중:  93%|█████████▎| 2219/2388 [1:21:04<04:38,  1.65s/it]"
     ]
    },
    {
     "name": "stdout",
     "output_type": "stream",
     "text": [
      "2220/2388 행 요약 완료\n"
     ]
    },
    {
     "name": "stderr",
     "output_type": "stream",
     "text": [
      "요약 진행 중:  93%|█████████▎| 2220/2388 [1:21:06<04:47,  1.71s/it]"
     ]
    },
    {
     "name": "stdout",
     "output_type": "stream",
     "text": [
      "2221/2388 행 요약 완료\n"
     ]
    },
    {
     "name": "stderr",
     "output_type": "stream",
     "text": [
      "요약 진행 중:  93%|█████████▎| 2221/2388 [1:21:08<05:03,  1.82s/it]"
     ]
    },
    {
     "name": "stdout",
     "output_type": "stream",
     "text": [
      "2222/2388 행 요약 완료\n"
     ]
    },
    {
     "name": "stderr",
     "output_type": "stream",
     "text": [
      "요약 진행 중:  93%|█████████▎| 2222/2388 [1:21:09<04:52,  1.76s/it]"
     ]
    },
    {
     "name": "stdout",
     "output_type": "stream",
     "text": [
      "2223/2388 행 요약 완료\n"
     ]
    },
    {
     "name": "stderr",
     "output_type": "stream",
     "text": [
      "요약 진행 중:  93%|█████████▎| 2223/2388 [1:21:11<04:29,  1.64s/it]"
     ]
    },
    {
     "name": "stdout",
     "output_type": "stream",
     "text": [
      "2224/2388 행 요약 완료\n"
     ]
    },
    {
     "name": "stderr",
     "output_type": "stream",
     "text": [
      "요약 진행 중:  93%|█████████▎| 2224/2388 [1:21:12<04:07,  1.51s/it]"
     ]
    },
    {
     "name": "stdout",
     "output_type": "stream",
     "text": [
      "2225/2388 행 요약 완료\n"
     ]
    },
    {
     "name": "stderr",
     "output_type": "stream",
     "text": [
      "요약 진행 중:  93%|█████████▎| 2225/2388 [1:21:14<04:23,  1.62s/it]"
     ]
    },
    {
     "name": "stdout",
     "output_type": "stream",
     "text": [
      "2226/2388 행 요약 완료\n"
     ]
    },
    {
     "name": "stderr",
     "output_type": "stream",
     "text": [
      "요약 진행 중:  93%|█████████▎| 2226/2388 [1:21:16<04:33,  1.69s/it]"
     ]
    },
    {
     "name": "stdout",
     "output_type": "stream",
     "text": [
      "2227/2388 행 요약 완료\n"
     ]
    },
    {
     "name": "stderr",
     "output_type": "stream",
     "text": [
      "요약 진행 중:  93%|█████████▎| 2227/2388 [1:21:18<05:10,  1.93s/it]"
     ]
    },
    {
     "name": "stdout",
     "output_type": "stream",
     "text": [
      "2228/2388 행 요약 완료\n"
     ]
    },
    {
     "name": "stderr",
     "output_type": "stream",
     "text": [
      "요약 진행 중:  93%|█████████▎| 2228/2388 [1:21:21<05:49,  2.19s/it]"
     ]
    },
    {
     "name": "stdout",
     "output_type": "stream",
     "text": [
      "2229/2388 행 요약 완료\n"
     ]
    },
    {
     "name": "stderr",
     "output_type": "stream",
     "text": [
      "요약 진행 중:  93%|█████████▎| 2229/2388 [1:21:24<06:30,  2.46s/it]"
     ]
    },
    {
     "name": "stdout",
     "output_type": "stream",
     "text": [
      "2230/2388 행 요약 완료\n"
     ]
    },
    {
     "name": "stderr",
     "output_type": "stream",
     "text": [
      "요약 진행 중:  93%|█████████▎| 2230/2388 [1:21:26<06:08,  2.33s/it]"
     ]
    },
    {
     "name": "stdout",
     "output_type": "stream",
     "text": [
      "2231/2388 행 요약 완료\n"
     ]
    },
    {
     "name": "stderr",
     "output_type": "stream",
     "text": [
      "요약 진행 중:  93%|█████████▎| 2231/2388 [1:21:28<06:09,  2.35s/it]"
     ]
    },
    {
     "name": "stdout",
     "output_type": "stream",
     "text": [
      "2232/2388 행 요약 완료\n"
     ]
    },
    {
     "name": "stderr",
     "output_type": "stream",
     "text": [
      "요약 진행 중:  93%|█████████▎| 2232/2388 [1:21:30<05:38,  2.17s/it]"
     ]
    },
    {
     "name": "stdout",
     "output_type": "stream",
     "text": [
      "2233/2388 행 요약 완료\n"
     ]
    },
    {
     "name": "stderr",
     "output_type": "stream",
     "text": [
      "요약 진행 중:  94%|█████████▎| 2233/2388 [1:21:32<05:35,  2.17s/it]"
     ]
    },
    {
     "name": "stdout",
     "output_type": "stream",
     "text": [
      "2234/2388 행 요약 완료\n"
     ]
    },
    {
     "name": "stderr",
     "output_type": "stream",
     "text": [
      "요약 진행 중:  94%|█████████▎| 2234/2388 [1:21:34<05:31,  2.15s/it]"
     ]
    },
    {
     "name": "stdout",
     "output_type": "stream",
     "text": [
      "2235/2388 행 요약 완료\n"
     ]
    },
    {
     "name": "stderr",
     "output_type": "stream",
     "text": [
      "요약 진행 중:  94%|█████████▎| 2235/2388 [1:21:38<06:31,  2.56s/it]"
     ]
    },
    {
     "name": "stdout",
     "output_type": "stream",
     "text": [
      "2236/2388 행 요약 완료\n"
     ]
    },
    {
     "name": "stderr",
     "output_type": "stream",
     "text": [
      "요약 진행 중:  94%|█████████▎| 2236/2388 [1:21:41<06:53,  2.72s/it]"
     ]
    },
    {
     "name": "stdout",
     "output_type": "stream",
     "text": [
      "2237/2388 행 요약 완료\n"
     ]
    },
    {
     "name": "stderr",
     "output_type": "stream",
     "text": [
      "요약 진행 중:  94%|█████████▎| 2237/2388 [1:21:44<06:47,  2.70s/it]"
     ]
    },
    {
     "name": "stdout",
     "output_type": "stream",
     "text": [
      "2238/2388 행 요약 완료\n"
     ]
    },
    {
     "name": "stderr",
     "output_type": "stream",
     "text": [
      "요약 진행 중:  94%|█████████▎| 2238/2388 [1:21:47<07:14,  2.90s/it]"
     ]
    },
    {
     "name": "stdout",
     "output_type": "stream",
     "text": [
      "2239/2388 행 요약 완료\n"
     ]
    },
    {
     "name": "stderr",
     "output_type": "stream",
     "text": [
      "요약 진행 중:  94%|█████████▍| 2239/2388 [1:21:50<07:23,  2.98s/it]"
     ]
    },
    {
     "name": "stdout",
     "output_type": "stream",
     "text": [
      "2240/2388 행 요약 완료\n"
     ]
    },
    {
     "name": "stderr",
     "output_type": "stream",
     "text": [
      "요약 진행 중:  94%|█████████▍| 2240/2388 [1:21:54<07:46,  3.15s/it]"
     ]
    },
    {
     "name": "stdout",
     "output_type": "stream",
     "text": [
      "2241/2388 행 요약 완료\n"
     ]
    },
    {
     "name": "stderr",
     "output_type": "stream",
     "text": [
      "요약 진행 중:  94%|█████████▍| 2241/2388 [1:21:56<07:15,  2.96s/it]"
     ]
    },
    {
     "name": "stdout",
     "output_type": "stream",
     "text": [
      "2242/2388 행 요약 완료\n"
     ]
    },
    {
     "name": "stderr",
     "output_type": "stream",
     "text": [
      "요약 진행 중:  94%|█████████▍| 2242/2388 [1:21:58<06:27,  2.66s/it]"
     ]
    },
    {
     "name": "stdout",
     "output_type": "stream",
     "text": [
      "2243/2388 행 요약 완료\n"
     ]
    },
    {
     "name": "stderr",
     "output_type": "stream",
     "text": [
      "요약 진행 중:  94%|█████████▍| 2243/2388 [1:22:01<06:19,  2.62s/it]"
     ]
    },
    {
     "name": "stdout",
     "output_type": "stream",
     "text": [
      "2244/2388 행 요약 완료\n"
     ]
    },
    {
     "name": "stderr",
     "output_type": "stream",
     "text": [
      "요약 진행 중:  94%|█████████▍| 2244/2388 [1:22:03<05:56,  2.48s/it]"
     ]
    },
    {
     "name": "stdout",
     "output_type": "stream",
     "text": [
      "2245/2388 행 요약 완료\n"
     ]
    },
    {
     "name": "stderr",
     "output_type": "stream",
     "text": [
      "요약 진행 중:  94%|█████████▍| 2245/2388 [1:22:05<05:47,  2.43s/it]"
     ]
    },
    {
     "name": "stdout",
     "output_type": "stream",
     "text": [
      "2246/2388 행 요약 완료\n"
     ]
    },
    {
     "name": "stderr",
     "output_type": "stream",
     "text": [
      "요약 진행 중:  94%|█████████▍| 2246/2388 [1:22:06<04:47,  2.03s/it]"
     ]
    },
    {
     "name": "stdout",
     "output_type": "stream",
     "text": [
      "2247/2388 행 요약 완료\n"
     ]
    },
    {
     "name": "stderr",
     "output_type": "stream",
     "text": [
      "요약 진행 중:  94%|█████████▍| 2247/2388 [1:22:08<04:16,  1.82s/it]"
     ]
    },
    {
     "name": "stdout",
     "output_type": "stream",
     "text": [
      "2248/2388 행 요약 완료\n"
     ]
    },
    {
     "name": "stderr",
     "output_type": "stream",
     "text": [
      "요약 진행 중:  94%|█████████▍| 2248/2388 [1:22:12<06:04,  2.61s/it]"
     ]
    },
    {
     "name": "stdout",
     "output_type": "stream",
     "text": [
      "2249/2388 행 요약 완료\n"
     ]
    },
    {
     "name": "stderr",
     "output_type": "stream",
     "text": [
      "요약 진행 중:  94%|█████████▍| 2249/2388 [1:22:14<05:50,  2.52s/it]"
     ]
    },
    {
     "name": "stdout",
     "output_type": "stream",
     "text": [
      "2250/2388 행 요약 완료\n"
     ]
    },
    {
     "name": "stderr",
     "output_type": "stream",
     "text": [
      "요약 진행 중:  94%|█████████▍| 2250/2388 [1:22:17<05:50,  2.54s/it]"
     ]
    },
    {
     "name": "stdout",
     "output_type": "stream",
     "text": [
      "2251/2388 행 요약 완료\n"
     ]
    },
    {
     "name": "stderr",
     "output_type": "stream",
     "text": [
      "요약 진행 중:  94%|█████████▍| 2251/2388 [1:22:18<04:49,  2.11s/it]"
     ]
    },
    {
     "name": "stdout",
     "output_type": "stream",
     "text": [
      "2252/2388 행 요약 완료\n"
     ]
    },
    {
     "name": "stderr",
     "output_type": "stream",
     "text": [
      "요약 진행 중:  94%|█████████▍| 2252/2388 [1:22:21<05:13,  2.30s/it]"
     ]
    },
    {
     "name": "stdout",
     "output_type": "stream",
     "text": [
      "2253/2388 행 요약 완료\n"
     ]
    },
    {
     "name": "stderr",
     "output_type": "stream",
     "text": [
      "요약 진행 중:  94%|█████████▍| 2253/2388 [1:22:23<05:08,  2.29s/it]"
     ]
    },
    {
     "name": "stdout",
     "output_type": "stream",
     "text": [
      "2254/2388 행 요약 완료\n"
     ]
    },
    {
     "name": "stderr",
     "output_type": "stream",
     "text": [
      "요약 진행 중:  94%|█████████▍| 2254/2388 [1:22:25<04:42,  2.11s/it]"
     ]
    },
    {
     "name": "stdout",
     "output_type": "stream",
     "text": [
      "2255/2388 행 요약 완료\n"
     ]
    },
    {
     "name": "stderr",
     "output_type": "stream",
     "text": [
      "요약 진행 중:  94%|█████████▍| 2255/2388 [1:22:26<04:14,  1.91s/it]"
     ]
    },
    {
     "name": "stdout",
     "output_type": "stream",
     "text": [
      "2256/2388 행 요약 완료\n"
     ]
    },
    {
     "name": "stderr",
     "output_type": "stream",
     "text": [
      "요약 진행 중:  94%|█████████▍| 2256/2388 [1:22:28<03:56,  1.79s/it]"
     ]
    },
    {
     "name": "stdout",
     "output_type": "stream",
     "text": [
      "2257/2388 행 요약 완료\n"
     ]
    },
    {
     "name": "stderr",
     "output_type": "stream",
     "text": [
      "요약 진행 중:  95%|█████████▍| 2257/2388 [1:22:30<04:10,  1.91s/it]"
     ]
    },
    {
     "name": "stdout",
     "output_type": "stream",
     "text": [
      "2258/2388 행 요약 완료\n"
     ]
    },
    {
     "name": "stderr",
     "output_type": "stream",
     "text": [
      "요약 진행 중:  95%|█████████▍| 2258/2388 [1:22:31<03:47,  1.75s/it]"
     ]
    },
    {
     "name": "stdout",
     "output_type": "stream",
     "text": [
      "2259/2388 행 요약 완료\n"
     ]
    },
    {
     "name": "stderr",
     "output_type": "stream",
     "text": [
      "요약 진행 중:  95%|█████████▍| 2259/2388 [1:22:33<03:39,  1.70s/it]"
     ]
    },
    {
     "name": "stdout",
     "output_type": "stream",
     "text": [
      "2260/2388 행 요약 완료\n"
     ]
    },
    {
     "name": "stderr",
     "output_type": "stream",
     "text": [
      "요약 진행 중:  95%|█████████▍| 2260/2388 [1:22:36<04:23,  2.06s/it]"
     ]
    },
    {
     "name": "stdout",
     "output_type": "stream",
     "text": [
      "2261/2388 행 요약 완료\n"
     ]
    },
    {
     "name": "stderr",
     "output_type": "stream",
     "text": [
      "요약 진행 중:  95%|█████████▍| 2261/2388 [1:22:39<04:49,  2.28s/it]"
     ]
    },
    {
     "name": "stdout",
     "output_type": "stream",
     "text": [
      "2262/2388 행 요약 완료\n"
     ]
    },
    {
     "name": "stderr",
     "output_type": "stream",
     "text": [
      "요약 진행 중:  95%|█████████▍| 2262/2388 [1:22:40<04:24,  2.10s/it]"
     ]
    },
    {
     "name": "stdout",
     "output_type": "stream",
     "text": [
      "2263/2388 행 요약 완료\n"
     ]
    },
    {
     "name": "stderr",
     "output_type": "stream",
     "text": [
      "요약 진행 중:  95%|█████████▍| 2263/2388 [1:22:42<04:02,  1.94s/it]"
     ]
    },
    {
     "name": "stdout",
     "output_type": "stream",
     "text": [
      "2264/2388 행 요약 완료\n"
     ]
    },
    {
     "name": "stderr",
     "output_type": "stream",
     "text": [
      "요약 진행 중:  95%|█████████▍| 2264/2388 [1:22:45<04:42,  2.28s/it]"
     ]
    },
    {
     "name": "stdout",
     "output_type": "stream",
     "text": [
      "2265/2388 행 요약 완료\n"
     ]
    },
    {
     "name": "stderr",
     "output_type": "stream",
     "text": [
      "요약 진행 중:  95%|█████████▍| 2265/2388 [1:22:46<04:10,  2.03s/it]"
     ]
    },
    {
     "name": "stdout",
     "output_type": "stream",
     "text": [
      "2266/2388 행 요약 완료\n"
     ]
    },
    {
     "name": "stderr",
     "output_type": "stream",
     "text": [
      "요약 진행 중:  95%|█████████▍| 2266/2388 [1:22:48<04:00,  1.97s/it]"
     ]
    },
    {
     "name": "stdout",
     "output_type": "stream",
     "text": [
      "2267/2388 행 요약 완료\n"
     ]
    },
    {
     "name": "stderr",
     "output_type": "stream",
     "text": [
      "요약 진행 중:  95%|█████████▍| 2267/2388 [1:22:50<03:53,  1.93s/it]"
     ]
    },
    {
     "name": "stdout",
     "output_type": "stream",
     "text": [
      "2268/2388 행 요약 완료\n"
     ]
    },
    {
     "name": "stderr",
     "output_type": "stream",
     "text": [
      "요약 진행 중:  95%|█████████▍| 2268/2388 [1:22:51<03:26,  1.72s/it]"
     ]
    },
    {
     "name": "stdout",
     "output_type": "stream",
     "text": [
      "2269/2388 행 요약 완료\n"
     ]
    },
    {
     "name": "stderr",
     "output_type": "stream",
     "text": [
      "요약 진행 중:  95%|█████████▌| 2269/2388 [1:22:52<03:05,  1.56s/it]"
     ]
    },
    {
     "name": "stdout",
     "output_type": "stream",
     "text": [
      "2270/2388 행 요약 완료\n"
     ]
    },
    {
     "name": "stderr",
     "output_type": "stream",
     "text": [
      "요약 진행 중:  95%|█████████▌| 2270/2388 [1:22:54<03:05,  1.57s/it]"
     ]
    },
    {
     "name": "stdout",
     "output_type": "stream",
     "text": [
      "2271/2388 행 요약 완료\n"
     ]
    },
    {
     "name": "stderr",
     "output_type": "stream",
     "text": [
      "요약 진행 중:  95%|█████████▌| 2271/2388 [1:22:55<02:52,  1.47s/it]"
     ]
    },
    {
     "name": "stdout",
     "output_type": "stream",
     "text": [
      "2272/2388 행 요약 완료\n"
     ]
    },
    {
     "name": "stderr",
     "output_type": "stream",
     "text": [
      "요약 진행 중:  95%|█████████▌| 2272/2388 [1:22:57<02:46,  1.44s/it]"
     ]
    },
    {
     "name": "stdout",
     "output_type": "stream",
     "text": [
      "2273/2388 행 요약 완료\n"
     ]
    },
    {
     "name": "stderr",
     "output_type": "stream",
     "text": [
      "요약 진행 중:  95%|█████████▌| 2273/2388 [1:22:58<02:46,  1.44s/it]"
     ]
    },
    {
     "name": "stdout",
     "output_type": "stream",
     "text": [
      "2274/2388 행 요약 완료\n"
     ]
    },
    {
     "name": "stderr",
     "output_type": "stream",
     "text": [
      "요약 진행 중:  95%|█████████▌| 2274/2388 [1:23:01<03:50,  2.03s/it]"
     ]
    },
    {
     "name": "stdout",
     "output_type": "stream",
     "text": [
      "2275/2388 행 요약 완료\n"
     ]
    },
    {
     "name": "stderr",
     "output_type": "stream",
     "text": [
      "요약 진행 중:  95%|█████████▌| 2275/2388 [1:23:04<04:13,  2.24s/it]"
     ]
    },
    {
     "name": "stdout",
     "output_type": "stream",
     "text": [
      "2276/2388 행 요약 완료\n"
     ]
    },
    {
     "name": "stderr",
     "output_type": "stream",
     "text": [
      "요약 진행 중:  95%|█████████▌| 2276/2388 [1:23:07<04:16,  2.29s/it]"
     ]
    },
    {
     "name": "stdout",
     "output_type": "stream",
     "text": [
      "2277/2388 행 요약 완료\n"
     ]
    },
    {
     "name": "stderr",
     "output_type": "stream",
     "text": [
      "요약 진행 중:  95%|█████████▌| 2277/2388 [1:23:09<04:14,  2.29s/it]"
     ]
    },
    {
     "name": "stdout",
     "output_type": "stream",
     "text": [
      "2278/2388 행 요약 완료\n"
     ]
    },
    {
     "name": "stderr",
     "output_type": "stream",
     "text": [
      "요약 진행 중:  95%|█████████▌| 2278/2388 [1:23:11<03:53,  2.12s/it]"
     ]
    },
    {
     "name": "stdout",
     "output_type": "stream",
     "text": [
      "2279/2388 행 요약 완료\n"
     ]
    },
    {
     "name": "stderr",
     "output_type": "stream",
     "text": [
      "요약 진행 중:  95%|█████████▌| 2279/2388 [1:23:14<04:32,  2.50s/it]"
     ]
    },
    {
     "name": "stdout",
     "output_type": "stream",
     "text": [
      "2280/2388 행 요약 완료\n"
     ]
    },
    {
     "name": "stderr",
     "output_type": "stream",
     "text": [
      "요약 진행 중:  95%|█████████▌| 2280/2388 [1:23:16<04:18,  2.39s/it]"
     ]
    },
    {
     "name": "stdout",
     "output_type": "stream",
     "text": [
      "2281/2388 행 요약 완료\n"
     ]
    },
    {
     "name": "stderr",
     "output_type": "stream",
     "text": [
      "요약 진행 중:  96%|█████████▌| 2281/2388 [1:23:18<03:52,  2.17s/it]"
     ]
    },
    {
     "name": "stdout",
     "output_type": "stream",
     "text": [
      "2282/2388 행 요약 완료\n"
     ]
    },
    {
     "name": "stderr",
     "output_type": "stream",
     "text": [
      "요약 진행 중:  96%|█████████▌| 2282/2388 [1:23:19<03:32,  2.00s/it]"
     ]
    },
    {
     "name": "stdout",
     "output_type": "stream",
     "text": [
      "2283/2388 행 요약 완료\n"
     ]
    },
    {
     "name": "stderr",
     "output_type": "stream",
     "text": [
      "요약 진행 중:  96%|█████████▌| 2283/2388 [1:23:21<03:16,  1.88s/it]"
     ]
    },
    {
     "name": "stdout",
     "output_type": "stream",
     "text": [
      "2284/2388 행 요약 완료\n"
     ]
    },
    {
     "name": "stderr",
     "output_type": "stream",
     "text": [
      "요약 진행 중:  96%|█████████▌| 2284/2388 [1:23:22<03:01,  1.74s/it]"
     ]
    },
    {
     "name": "stdout",
     "output_type": "stream",
     "text": [
      "2285/2388 행 요약 완료\n"
     ]
    },
    {
     "name": "stderr",
     "output_type": "stream",
     "text": [
      "요약 진행 중:  96%|█████████▌| 2285/2388 [1:23:24<03:01,  1.76s/it]"
     ]
    },
    {
     "name": "stdout",
     "output_type": "stream",
     "text": [
      "2286/2388 행 요약 완료\n"
     ]
    },
    {
     "name": "stderr",
     "output_type": "stream",
     "text": [
      "요약 진행 중:  96%|█████████▌| 2286/2388 [1:23:26<02:51,  1.69s/it]"
     ]
    },
    {
     "name": "stdout",
     "output_type": "stream",
     "text": [
      "2287/2388 행 요약 완료\n"
     ]
    },
    {
     "name": "stderr",
     "output_type": "stream",
     "text": [
      "요약 진행 중:  96%|█████████▌| 2287/2388 [1:23:28<03:02,  1.80s/it]"
     ]
    },
    {
     "name": "stdout",
     "output_type": "stream",
     "text": [
      "2288/2388 행 요약 완료\n"
     ]
    },
    {
     "name": "stderr",
     "output_type": "stream",
     "text": [
      "요약 진행 중:  96%|█████████▌| 2288/2388 [1:23:29<02:47,  1.67s/it]"
     ]
    },
    {
     "name": "stdout",
     "output_type": "stream",
     "text": [
      "2289/2388 행 요약 완료\n"
     ]
    },
    {
     "name": "stderr",
     "output_type": "stream",
     "text": [
      "요약 진행 중:  96%|█████████▌| 2289/2388 [1:23:31<02:38,  1.60s/it]"
     ]
    },
    {
     "name": "stdout",
     "output_type": "stream",
     "text": [
      "2290/2388 행 요약 완료\n"
     ]
    },
    {
     "name": "stderr",
     "output_type": "stream",
     "text": [
      "요약 진행 중:  96%|█████████▌| 2290/2388 [1:23:33<03:10,  1.94s/it]"
     ]
    },
    {
     "name": "stdout",
     "output_type": "stream",
     "text": [
      "2291/2388 행 요약 완료\n"
     ]
    },
    {
     "name": "stderr",
     "output_type": "stream",
     "text": [
      "요약 진행 중:  96%|█████████▌| 2291/2388 [1:23:36<03:27,  2.14s/it]"
     ]
    },
    {
     "name": "stdout",
     "output_type": "stream",
     "text": [
      "2292/2388 행 요약 완료\n"
     ]
    },
    {
     "name": "stderr",
     "output_type": "stream",
     "text": [
      "요약 진행 중:  96%|█████████▌| 2292/2388 [1:23:38<03:11,  1.99s/it]"
     ]
    },
    {
     "name": "stdout",
     "output_type": "stream",
     "text": [
      "2293/2388 행 요약 완료\n"
     ]
    },
    {
     "name": "stderr",
     "output_type": "stream",
     "text": [
      "요약 진행 중:  96%|█████████▌| 2293/2388 [1:23:40<03:07,  1.97s/it]"
     ]
    },
    {
     "name": "stdout",
     "output_type": "stream",
     "text": [
      "2294/2388 행 요약 완료\n"
     ]
    },
    {
     "name": "stderr",
     "output_type": "stream",
     "text": [
      "요약 진행 중:  96%|█████████▌| 2294/2388 [1:23:41<02:51,  1.82s/it]"
     ]
    },
    {
     "name": "stdout",
     "output_type": "stream",
     "text": [
      "2295/2388 행 요약 완료\n"
     ]
    },
    {
     "name": "stderr",
     "output_type": "stream",
     "text": [
      "요약 진행 중:  96%|█████████▌| 2295/2388 [1:23:43<02:58,  1.92s/it]"
     ]
    },
    {
     "name": "stdout",
     "output_type": "stream",
     "text": [
      "2296/2388 행 요약 완료\n"
     ]
    },
    {
     "name": "stderr",
     "output_type": "stream",
     "text": [
      "요약 진행 중:  96%|█████████▌| 2296/2388 [1:23:44<02:38,  1.72s/it]"
     ]
    },
    {
     "name": "stdout",
     "output_type": "stream",
     "text": [
      "2297/2388 행 요약 완료\n"
     ]
    },
    {
     "name": "stderr",
     "output_type": "stream",
     "text": [
      "요약 진행 중:  96%|█████████▌| 2297/2388 [1:23:46<02:35,  1.71s/it]"
     ]
    },
    {
     "name": "stdout",
     "output_type": "stream",
     "text": [
      "2298/2388 행 요약 완료\n"
     ]
    },
    {
     "name": "stderr",
     "output_type": "stream",
     "text": [
      "요약 진행 중:  96%|█████████▌| 2298/2388 [1:23:47<02:21,  1.57s/it]"
     ]
    },
    {
     "name": "stdout",
     "output_type": "stream",
     "text": [
      "2299/2388 행 요약 완료\n"
     ]
    },
    {
     "name": "stderr",
     "output_type": "stream",
     "text": [
      "요약 진행 중:  96%|█████████▋| 2299/2388 [1:23:50<02:57,  2.00s/it]"
     ]
    },
    {
     "name": "stdout",
     "output_type": "stream",
     "text": [
      "2300/2388 행 요약 완료\n"
     ]
    },
    {
     "name": "stderr",
     "output_type": "stream",
     "text": [
      "요약 진행 중:  96%|█████████▋| 2300/2388 [1:23:53<03:15,  2.22s/it]"
     ]
    },
    {
     "name": "stdout",
     "output_type": "stream",
     "text": [
      "2301/2388 행 요약 완료\n"
     ]
    },
    {
     "name": "stderr",
     "output_type": "stream",
     "text": [
      "요약 진행 중:  96%|█████████▋| 2301/2388 [1:23:55<03:06,  2.15s/it]"
     ]
    },
    {
     "name": "stdout",
     "output_type": "stream",
     "text": [
      "2302/2388 행 요약 완료\n"
     ]
    },
    {
     "name": "stderr",
     "output_type": "stream",
     "text": [
      "요약 진행 중:  96%|█████████▋| 2302/2388 [1:23:57<02:58,  2.07s/it]"
     ]
    },
    {
     "name": "stdout",
     "output_type": "stream",
     "text": [
      "2303/2388 행 요약 완료\n"
     ]
    },
    {
     "name": "stderr",
     "output_type": "stream",
     "text": [
      "요약 진행 중:  96%|█████████▋| 2303/2388 [1:23:58<02:35,  1.83s/it]"
     ]
    },
    {
     "name": "stdout",
     "output_type": "stream",
     "text": [
      "2304/2388 행 요약 완료\n"
     ]
    },
    {
     "name": "stderr",
     "output_type": "stream",
     "text": [
      "요약 진행 중:  96%|█████████▋| 2304/2388 [1:24:00<02:27,  1.75s/it]"
     ]
    },
    {
     "name": "stdout",
     "output_type": "stream",
     "text": [
      "2305/2388 행 요약 완료\n"
     ]
    },
    {
     "name": "stderr",
     "output_type": "stream",
     "text": [
      "요약 진행 중:  97%|█████████▋| 2305/2388 [1:24:03<02:50,  2.05s/it]"
     ]
    },
    {
     "name": "stdout",
     "output_type": "stream",
     "text": [
      "2306/2388 행 요약 완료\n"
     ]
    },
    {
     "name": "stderr",
     "output_type": "stream",
     "text": [
      "요약 진행 중:  97%|█████████▋| 2306/2388 [1:24:04<02:26,  1.79s/it]"
     ]
    },
    {
     "name": "stdout",
     "output_type": "stream",
     "text": [
      "2307/2388 행 요약 완료\n"
     ]
    },
    {
     "name": "stderr",
     "output_type": "stream",
     "text": [
      "요약 진행 중:  97%|█████████▋| 2307/2388 [1:24:06<02:47,  2.07s/it]"
     ]
    },
    {
     "name": "stdout",
     "output_type": "stream",
     "text": [
      "2308/2388 행 요약 완료\n"
     ]
    },
    {
     "name": "stderr",
     "output_type": "stream",
     "text": [
      "요약 진행 중:  97%|█████████▋| 2308/2388 [1:24:08<02:27,  1.85s/it]"
     ]
    },
    {
     "name": "stdout",
     "output_type": "stream",
     "text": [
      "2309/2388 행 요약 완료\n"
     ]
    },
    {
     "name": "stderr",
     "output_type": "stream",
     "text": [
      "요약 진행 중:  97%|█████████▋| 2309/2388 [1:24:09<02:10,  1.66s/it]"
     ]
    },
    {
     "name": "stdout",
     "output_type": "stream",
     "text": [
      "2310/2388 행 요약 완료\n"
     ]
    },
    {
     "name": "stderr",
     "output_type": "stream",
     "text": [
      "요약 진행 중:  97%|█████████▋| 2310/2388 [1:24:12<02:32,  1.95s/it]"
     ]
    },
    {
     "name": "stdout",
     "output_type": "stream",
     "text": [
      "2311/2388 행 요약 완료\n"
     ]
    },
    {
     "name": "stderr",
     "output_type": "stream",
     "text": [
      "요약 진행 중:  97%|█████████▋| 2311/2388 [1:24:15<02:53,  2.25s/it]"
     ]
    },
    {
     "name": "stdout",
     "output_type": "stream",
     "text": [
      "2312/2388 행 요약 완료\n"
     ]
    },
    {
     "name": "stderr",
     "output_type": "stream",
     "text": [
      "요약 진행 중:  97%|█████████▋| 2312/2388 [1:24:17<02:47,  2.20s/it]"
     ]
    },
    {
     "name": "stdout",
     "output_type": "stream",
     "text": [
      "2313/2388 행 요약 완료\n"
     ]
    },
    {
     "name": "stderr",
     "output_type": "stream",
     "text": [
      "요약 진행 중:  97%|█████████▋| 2313/2388 [1:24:19<02:56,  2.35s/it]"
     ]
    },
    {
     "name": "stdout",
     "output_type": "stream",
     "text": [
      "2314/2388 행 요약 완료\n"
     ]
    },
    {
     "name": "stderr",
     "output_type": "stream",
     "text": [
      "요약 진행 중:  97%|█████████▋| 2314/2388 [1:24:22<03:07,  2.53s/it]"
     ]
    },
    {
     "name": "stdout",
     "output_type": "stream",
     "text": [
      "2315/2388 행 요약 완료\n"
     ]
    },
    {
     "name": "stderr",
     "output_type": "stream",
     "text": [
      "요약 진행 중:  97%|█████████▋| 2315/2388 [1:24:24<02:42,  2.22s/it]"
     ]
    },
    {
     "name": "stdout",
     "output_type": "stream",
     "text": [
      "2316/2388 행 요약 완료\n"
     ]
    },
    {
     "name": "stderr",
     "output_type": "stream",
     "text": [
      "요약 진행 중:  97%|█████████▋| 2316/2388 [1:24:26<02:37,  2.19s/it]"
     ]
    },
    {
     "name": "stdout",
     "output_type": "stream",
     "text": [
      "2317/2388 행 요약 완료\n"
     ]
    },
    {
     "name": "stderr",
     "output_type": "stream",
     "text": [
      "요약 진행 중:  97%|█████████▋| 2317/2388 [1:24:29<03:00,  2.55s/it]"
     ]
    },
    {
     "name": "stdout",
     "output_type": "stream",
     "text": [
      "2318/2388 행 요약 완료\n"
     ]
    },
    {
     "name": "stderr",
     "output_type": "stream",
     "text": [
      "요약 진행 중:  97%|█████████▋| 2318/2388 [1:24:31<02:33,  2.19s/it]"
     ]
    },
    {
     "name": "stdout",
     "output_type": "stream",
     "text": [
      "2319/2388 행 요약 완료\n"
     ]
    },
    {
     "name": "stderr",
     "output_type": "stream",
     "text": [
      "요약 진행 중:  97%|█████████▋| 2319/2388 [1:24:32<02:20,  2.03s/it]"
     ]
    },
    {
     "name": "stdout",
     "output_type": "stream",
     "text": [
      "2320/2388 행 요약 완료\n"
     ]
    },
    {
     "name": "stderr",
     "output_type": "stream",
     "text": [
      "요약 진행 중:  97%|█████████▋| 2320/2388 [1:24:35<02:24,  2.13s/it]"
     ]
    },
    {
     "name": "stdout",
     "output_type": "stream",
     "text": [
      "2321/2388 행 요약 완료\n"
     ]
    },
    {
     "name": "stderr",
     "output_type": "stream",
     "text": [
      "요약 진행 중:  97%|█████████▋| 2321/2388 [1:24:36<02:07,  1.91s/it]"
     ]
    },
    {
     "name": "stdout",
     "output_type": "stream",
     "text": [
      "2322/2388 행 요약 완료\n"
     ]
    },
    {
     "name": "stderr",
     "output_type": "stream",
     "text": [
      "요약 진행 중:  97%|█████████▋| 2322/2388 [1:24:39<02:34,  2.35s/it]"
     ]
    },
    {
     "name": "stdout",
     "output_type": "stream",
     "text": [
      "2323/2388 행 요약 완료\n"
     ]
    },
    {
     "name": "stderr",
     "output_type": "stream",
     "text": [
      "요약 진행 중:  97%|█████████▋| 2323/2388 [1:24:41<02:14,  2.07s/it]"
     ]
    },
    {
     "name": "stdout",
     "output_type": "stream",
     "text": [
      "2324/2388 행 요약 완료\n"
     ]
    },
    {
     "name": "stderr",
     "output_type": "stream",
     "text": [
      "요약 진행 중:  97%|█████████▋| 2324/2388 [1:24:43<02:06,  1.97s/it]"
     ]
    },
    {
     "name": "stdout",
     "output_type": "stream",
     "text": [
      "2325/2388 행 요약 완료\n"
     ]
    },
    {
     "name": "stderr",
     "output_type": "stream",
     "text": [
      "요약 진행 중:  97%|█████████▋| 2325/2388 [1:24:47<02:47,  2.66s/it]"
     ]
    },
    {
     "name": "stdout",
     "output_type": "stream",
     "text": [
      "2326/2388 행 요약 완료\n"
     ]
    },
    {
     "name": "stderr",
     "output_type": "stream",
     "text": [
      "요약 진행 중:  97%|█████████▋| 2326/2388 [1:24:50<02:44,  2.65s/it]"
     ]
    },
    {
     "name": "stdout",
     "output_type": "stream",
     "text": [
      "2327/2388 행 요약 완료\n"
     ]
    },
    {
     "name": "stderr",
     "output_type": "stream",
     "text": [
      "요약 진행 중:  97%|█████████▋| 2327/2388 [1:24:52<02:36,  2.57s/it]"
     ]
    },
    {
     "name": "stdout",
     "output_type": "stream",
     "text": [
      "2328/2388 행 요약 완료\n"
     ]
    },
    {
     "name": "stderr",
     "output_type": "stream",
     "text": [
      "요약 진행 중:  97%|█████████▋| 2328/2388 [1:24:54<02:19,  2.32s/it]"
     ]
    },
    {
     "name": "stdout",
     "output_type": "stream",
     "text": [
      "2329/2388 행 요약 완료\n"
     ]
    },
    {
     "name": "stderr",
     "output_type": "stream",
     "text": [
      "요약 진행 중:  98%|█████████▊| 2329/2388 [1:24:55<01:57,  1.99s/it]"
     ]
    },
    {
     "name": "stdout",
     "output_type": "stream",
     "text": [
      "2330/2388 행 요약 완료\n"
     ]
    },
    {
     "name": "stderr",
     "output_type": "stream",
     "text": [
      "요약 진행 중:  98%|█████████▊| 2330/2388 [1:24:57<01:50,  1.90s/it]"
     ]
    },
    {
     "name": "stdout",
     "output_type": "stream",
     "text": [
      "2331/2388 행 요약 완료\n"
     ]
    },
    {
     "name": "stderr",
     "output_type": "stream",
     "text": [
      "요약 진행 중:  98%|█████████▊| 2331/2388 [1:24:58<01:41,  1.79s/it]"
     ]
    },
    {
     "name": "stdout",
     "output_type": "stream",
     "text": [
      "2332/2388 행 요약 완료\n"
     ]
    },
    {
     "name": "stderr",
     "output_type": "stream",
     "text": [
      "요약 진행 중:  98%|█████████▊| 2332/2388 [1:25:01<02:05,  2.24s/it]"
     ]
    },
    {
     "name": "stdout",
     "output_type": "stream",
     "text": [
      "2333/2388 행 요약 완료\n"
     ]
    },
    {
     "name": "stderr",
     "output_type": "stream",
     "text": [
      "요약 진행 중:  98%|█████████▊| 2333/2388 [1:25:03<01:50,  2.00s/it]"
     ]
    },
    {
     "name": "stdout",
     "output_type": "stream",
     "text": [
      "2334/2388 행 요약 완료\n"
     ]
    },
    {
     "name": "stderr",
     "output_type": "stream",
     "text": [
      "요약 진행 중:  98%|█████████▊| 2334/2388 [1:25:04<01:39,  1.84s/it]"
     ]
    },
    {
     "name": "stdout",
     "output_type": "stream",
     "text": [
      "2335/2388 행 요약 완료\n"
     ]
    },
    {
     "name": "stderr",
     "output_type": "stream",
     "text": [
      "요약 진행 중:  98%|█████████▊| 2335/2388 [1:25:06<01:31,  1.73s/it]"
     ]
    },
    {
     "name": "stdout",
     "output_type": "stream",
     "text": [
      "2336/2388 행 요약 완료\n"
     ]
    },
    {
     "name": "stderr",
     "output_type": "stream",
     "text": [
      "요약 진행 중:  98%|█████████▊| 2336/2388 [1:25:07<01:26,  1.67s/it]"
     ]
    },
    {
     "name": "stdout",
     "output_type": "stream",
     "text": [
      "2337/2388 행 요약 완료\n"
     ]
    },
    {
     "name": "stderr",
     "output_type": "stream",
     "text": [
      "요약 진행 중:  98%|█████████▊| 2337/2388 [1:25:08<01:17,  1.53s/it]"
     ]
    },
    {
     "name": "stdout",
     "output_type": "stream",
     "text": [
      "2338/2388 행 요약 완료\n"
     ]
    },
    {
     "name": "stderr",
     "output_type": "stream",
     "text": [
      "요약 진행 중:  98%|█████████▊| 2338/2388 [1:25:11<01:32,  1.86s/it]"
     ]
    },
    {
     "name": "stdout",
     "output_type": "stream",
     "text": [
      "2339/2388 행 요약 완료\n"
     ]
    },
    {
     "name": "stderr",
     "output_type": "stream",
     "text": [
      "요약 진행 중:  98%|█████████▊| 2339/2388 [1:25:14<01:48,  2.22s/it]"
     ]
    },
    {
     "name": "stdout",
     "output_type": "stream",
     "text": [
      "2340/2388 행 요약 완료\n"
     ]
    },
    {
     "name": "stderr",
     "output_type": "stream",
     "text": [
      "요약 진행 중:  98%|█████████▊| 2340/2388 [1:25:16<01:36,  2.01s/it]"
     ]
    },
    {
     "name": "stdout",
     "output_type": "stream",
     "text": [
      "2341/2388 행 요약 완료\n"
     ]
    },
    {
     "name": "stderr",
     "output_type": "stream",
     "text": [
      "요약 진행 중:  98%|█████████▊| 2341/2388 [1:25:19<01:46,  2.27s/it]"
     ]
    },
    {
     "name": "stdout",
     "output_type": "stream",
     "text": [
      "2342/2388 행 요약 완료\n"
     ]
    },
    {
     "name": "stderr",
     "output_type": "stream",
     "text": [
      "요약 진행 중:  98%|█████████▊| 2342/2388 [1:25:20<01:39,  2.16s/it]"
     ]
    },
    {
     "name": "stdout",
     "output_type": "stream",
     "text": [
      "2343/2388 행 요약 완료\n"
     ]
    },
    {
     "name": "stderr",
     "output_type": "stream",
     "text": [
      "요약 진행 중:  98%|█████████▊| 2343/2388 [1:25:22<01:24,  1.87s/it]"
     ]
    },
    {
     "name": "stdout",
     "output_type": "stream",
     "text": [
      "2344/2388 행 요약 완료\n"
     ]
    },
    {
     "name": "stderr",
     "output_type": "stream",
     "text": [
      "요약 진행 중:  98%|█████████▊| 2344/2388 [1:25:25<01:40,  2.28s/it]"
     ]
    },
    {
     "name": "stdout",
     "output_type": "stream",
     "text": [
      "2345/2388 행 요약 완료\n"
     ]
    },
    {
     "name": "stderr",
     "output_type": "stream",
     "text": [
      "요약 진행 중:  98%|█████████▊| 2345/2388 [1:25:26<01:24,  1.96s/it]"
     ]
    },
    {
     "name": "stdout",
     "output_type": "stream",
     "text": [
      "2346/2388 행 요약 완료\n"
     ]
    },
    {
     "name": "stderr",
     "output_type": "stream",
     "text": [
      "요약 진행 중:  98%|█████████▊| 2346/2388 [1:25:28<01:22,  1.97s/it]"
     ]
    },
    {
     "name": "stdout",
     "output_type": "stream",
     "text": [
      "2347/2388 행 요약 완료\n"
     ]
    },
    {
     "name": "stderr",
     "output_type": "stream",
     "text": [
      "요약 진행 중:  98%|█████████▊| 2347/2388 [1:25:32<01:40,  2.46s/it]"
     ]
    },
    {
     "name": "stdout",
     "output_type": "stream",
     "text": [
      "2348/2388 행 요약 완료\n"
     ]
    },
    {
     "name": "stderr",
     "output_type": "stream",
     "text": [
      "요약 진행 중:  98%|█████████▊| 2348/2388 [1:25:34<01:35,  2.39s/it]"
     ]
    },
    {
     "name": "stdout",
     "output_type": "stream",
     "text": [
      "2349/2388 행 요약 완료\n"
     ]
    },
    {
     "name": "stderr",
     "output_type": "stream",
     "text": [
      "요약 진행 중:  98%|█████████▊| 2349/2388 [1:25:39<02:03,  3.16s/it]"
     ]
    },
    {
     "name": "stdout",
     "output_type": "stream",
     "text": [
      "2350/2388 행 요약 완료\n"
     ]
    },
    {
     "name": "stderr",
     "output_type": "stream",
     "text": [
      "요약 진행 중:  98%|█████████▊| 2350/2388 [1:25:42<01:56,  3.07s/it]"
     ]
    },
    {
     "name": "stdout",
     "output_type": "stream",
     "text": [
      "2351/2388 행 요약 완료\n"
     ]
    },
    {
     "name": "stderr",
     "output_type": "stream",
     "text": [
      "요약 진행 중:  98%|█████████▊| 2351/2388 [1:25:43<01:33,  2.52s/it]"
     ]
    },
    {
     "name": "stdout",
     "output_type": "stream",
     "text": [
      "2352/2388 행 요약 완료\n"
     ]
    },
    {
     "name": "stderr",
     "output_type": "stream",
     "text": [
      "요약 진행 중:  98%|█████████▊| 2352/2388 [1:25:46<01:39,  2.75s/it]"
     ]
    },
    {
     "name": "stdout",
     "output_type": "stream",
     "text": [
      "2353/2388 행 요약 완료\n"
     ]
    },
    {
     "name": "stderr",
     "output_type": "stream",
     "text": [
      "요약 진행 중:  99%|█████████▊| 2353/2388 [1:25:49<01:38,  2.80s/it]"
     ]
    },
    {
     "name": "stdout",
     "output_type": "stream",
     "text": [
      "2354/2388 행 요약 완료\n"
     ]
    },
    {
     "name": "stderr",
     "output_type": "stream",
     "text": [
      "요약 진행 중:  99%|█████████▊| 2354/2388 [1:25:51<01:28,  2.61s/it]"
     ]
    },
    {
     "name": "stdout",
     "output_type": "stream",
     "text": [
      "2355/2388 행 요약 완료\n"
     ]
    },
    {
     "name": "stderr",
     "output_type": "stream",
     "text": [
      "요약 진행 중:  99%|█████████▊| 2355/2388 [1:25:53<01:15,  2.29s/it]"
     ]
    },
    {
     "name": "stdout",
     "output_type": "stream",
     "text": [
      "2356/2388 행 요약 완료\n"
     ]
    },
    {
     "name": "stderr",
     "output_type": "stream",
     "text": [
      "요약 진행 중:  99%|█████████▊| 2356/2388 [1:25:54<01:03,  1.98s/it]"
     ]
    },
    {
     "name": "stdout",
     "output_type": "stream",
     "text": [
      "2357/2388 행 요약 완료\n"
     ]
    },
    {
     "name": "stderr",
     "output_type": "stream",
     "text": [
      "요약 진행 중:  99%|█████████▊| 2357/2388 [1:25:55<00:55,  1.78s/it]"
     ]
    },
    {
     "name": "stdout",
     "output_type": "stream",
     "text": [
      "2358/2388 행 요약 완료\n"
     ]
    },
    {
     "name": "stderr",
     "output_type": "stream",
     "text": [
      "요약 진행 중:  99%|█████████▊| 2358/2388 [1:25:58<01:00,  2.03s/it]"
     ]
    },
    {
     "name": "stdout",
     "output_type": "stream",
     "text": [
      "2359/2388 행 요약 완료\n"
     ]
    },
    {
     "name": "stderr",
     "output_type": "stream",
     "text": [
      "요약 진행 중:  99%|█████████▉| 2359/2388 [1:26:00<00:55,  1.90s/it]"
     ]
    },
    {
     "name": "stdout",
     "output_type": "stream",
     "text": [
      "2360/2388 행 요약 완료\n"
     ]
    },
    {
     "name": "stderr",
     "output_type": "stream",
     "text": [
      "요약 진행 중:  99%|█████████▉| 2360/2388 [1:26:01<00:49,  1.78s/it]"
     ]
    },
    {
     "name": "stdout",
     "output_type": "stream",
     "text": [
      "2361/2388 행 요약 완료\n"
     ]
    },
    {
     "name": "stderr",
     "output_type": "stream",
     "text": [
      "요약 진행 중:  99%|█████████▉| 2361/2388 [1:26:03<00:46,  1.73s/it]"
     ]
    },
    {
     "name": "stdout",
     "output_type": "stream",
     "text": [
      "2362/2388 행 요약 완료\n"
     ]
    },
    {
     "name": "stderr",
     "output_type": "stream",
     "text": [
      "요약 진행 중:  99%|█████████▉| 2362/2388 [1:26:04<00:44,  1.70s/it]"
     ]
    },
    {
     "name": "stdout",
     "output_type": "stream",
     "text": [
      "2363/2388 행 요약 완료\n"
     ]
    },
    {
     "name": "stderr",
     "output_type": "stream",
     "text": [
      "요약 진행 중:  99%|█████████▉| 2363/2388 [1:26:06<00:39,  1.56s/it]"
     ]
    },
    {
     "name": "stdout",
     "output_type": "stream",
     "text": [
      "2364/2388 행 요약 완료\n"
     ]
    },
    {
     "name": "stderr",
     "output_type": "stream",
     "text": [
      "요약 진행 중:  99%|█████████▉| 2364/2388 [1:26:07<00:38,  1.61s/it]"
     ]
    },
    {
     "name": "stdout",
     "output_type": "stream",
     "text": [
      "2365/2388 행 요약 완료\n"
     ]
    },
    {
     "name": "stderr",
     "output_type": "stream",
     "text": [
      "요약 진행 중:  99%|█████████▉| 2365/2388 [1:26:09<00:35,  1.52s/it]"
     ]
    },
    {
     "name": "stdout",
     "output_type": "stream",
     "text": [
      "2366/2388 행 요약 완료\n"
     ]
    },
    {
     "name": "stderr",
     "output_type": "stream",
     "text": [
      "요약 진행 중:  99%|█████████▉| 2366/2388 [1:26:10<00:34,  1.55s/it]"
     ]
    },
    {
     "name": "stdout",
     "output_type": "stream",
     "text": [
      "2367/2388 행 요약 완료\n"
     ]
    },
    {
     "name": "stderr",
     "output_type": "stream",
     "text": [
      "요약 진행 중:  99%|█████████▉| 2367/2388 [1:26:12<00:32,  1.54s/it]"
     ]
    },
    {
     "name": "stdout",
     "output_type": "stream",
     "text": [
      "2368/2388 행 요약 완료\n"
     ]
    },
    {
     "name": "stderr",
     "output_type": "stream",
     "text": [
      "요약 진행 중:  99%|█████████▉| 2368/2388 [1:26:13<00:30,  1.55s/it]"
     ]
    },
    {
     "name": "stdout",
     "output_type": "stream",
     "text": [
      "2369/2388 행 요약 완료\n"
     ]
    },
    {
     "name": "stderr",
     "output_type": "stream",
     "text": [
      "요약 진행 중:  99%|█████████▉| 2369/2388 [1:26:16<00:37,  1.96s/it]"
     ]
    },
    {
     "name": "stdout",
     "output_type": "stream",
     "text": [
      "2370/2388 행 요약 완료\n"
     ]
    },
    {
     "name": "stderr",
     "output_type": "stream",
     "text": [
      "요약 진행 중:  99%|█████████▉| 2370/2388 [1:26:19<00:41,  2.29s/it]"
     ]
    },
    {
     "name": "stdout",
     "output_type": "stream",
     "text": [
      "2371/2388 행 요약 완료\n"
     ]
    },
    {
     "name": "stderr",
     "output_type": "stream",
     "text": [
      "요약 진행 중:  99%|█████████▉| 2371/2388 [1:26:22<00:39,  2.34s/it]"
     ]
    },
    {
     "name": "stdout",
     "output_type": "stream",
     "text": [
      "2372/2388 행 요약 완료\n"
     ]
    },
    {
     "name": "stderr",
     "output_type": "stream",
     "text": [
      "요약 진행 중:  99%|█████████▉| 2372/2388 [1:26:24<00:35,  2.19s/it]"
     ]
    },
    {
     "name": "stdout",
     "output_type": "stream",
     "text": [
      "2373/2388 행 요약 완료\n"
     ]
    },
    {
     "name": "stderr",
     "output_type": "stream",
     "text": [
      "요약 진행 중:  99%|█████████▉| 2373/2388 [1:26:25<00:28,  1.92s/it]"
     ]
    },
    {
     "name": "stdout",
     "output_type": "stream",
     "text": [
      "2374/2388 행 요약 완료\n"
     ]
    },
    {
     "name": "stderr",
     "output_type": "stream",
     "text": [
      "요약 진행 중:  99%|█████████▉| 2374/2388 [1:26:27<00:27,  1.98s/it]"
     ]
    },
    {
     "name": "stdout",
     "output_type": "stream",
     "text": [
      "2375/2388 행 요약 완료\n"
     ]
    },
    {
     "name": "stderr",
     "output_type": "stream",
     "text": [
      "요약 진행 중:  99%|█████████▉| 2375/2388 [1:26:30<00:27,  2.12s/it]"
     ]
    },
    {
     "name": "stdout",
     "output_type": "stream",
     "text": [
      "2376/2388 행 요약 완료\n"
     ]
    },
    {
     "name": "stderr",
     "output_type": "stream",
     "text": [
      "요약 진행 중:  99%|█████████▉| 2376/2388 [1:26:31<00:22,  1.91s/it]"
     ]
    },
    {
     "name": "stdout",
     "output_type": "stream",
     "text": [
      "2377/2388 행 요약 완료\n"
     ]
    },
    {
     "name": "stderr",
     "output_type": "stream",
     "text": [
      "요약 진행 중: 100%|█████████▉| 2377/2388 [1:26:32<00:19,  1.79s/it]"
     ]
    },
    {
     "name": "stdout",
     "output_type": "stream",
     "text": [
      "2378/2388 행 요약 완료\n"
     ]
    },
    {
     "name": "stderr",
     "output_type": "stream",
     "text": [
      "요약 진행 중: 100%|█████████▉| 2378/2388 [1:26:35<00:19,  1.95s/it]"
     ]
    },
    {
     "name": "stdout",
     "output_type": "stream",
     "text": [
      "2379/2388 행 요약 완료\n"
     ]
    },
    {
     "name": "stderr",
     "output_type": "stream",
     "text": [
      "요약 진행 중: 100%|█████████▉| 2379/2388 [1:26:38<00:21,  2.43s/it]"
     ]
    },
    {
     "name": "stdout",
     "output_type": "stream",
     "text": [
      "2380/2388 행 요약 완료\n"
     ]
    },
    {
     "name": "stderr",
     "output_type": "stream",
     "text": [
      "요약 진행 중: 100%|█████████▉| 2380/2388 [1:26:41<00:20,  2.59s/it]"
     ]
    },
    {
     "name": "stdout",
     "output_type": "stream",
     "text": [
      "2381/2388 행 요약 완료\n"
     ]
    },
    {
     "name": "stderr",
     "output_type": "stream",
     "text": [
      "요약 진행 중: 100%|█████████▉| 2381/2388 [1:26:45<00:21,  3.00s/it]"
     ]
    },
    {
     "name": "stdout",
     "output_type": "stream",
     "text": [
      "2382/2388 행 요약 완료\n"
     ]
    },
    {
     "name": "stderr",
     "output_type": "stream",
     "text": [
      "요약 진행 중: 100%|█████████▉| 2382/2388 [1:26:47<00:16,  2.76s/it]"
     ]
    },
    {
     "name": "stdout",
     "output_type": "stream",
     "text": [
      "2383/2388 행 요약 완료\n"
     ]
    },
    {
     "name": "stderr",
     "output_type": "stream",
     "text": [
      "요약 진행 중: 100%|█████████▉| 2383/2388 [1:26:49<00:11,  2.39s/it]"
     ]
    },
    {
     "name": "stdout",
     "output_type": "stream",
     "text": [
      "2384/2388 행 요약 완료\n"
     ]
    },
    {
     "name": "stderr",
     "output_type": "stream",
     "text": [
      "요약 진행 중: 100%|█████████▉| 2384/2388 [1:26:52<00:09,  2.43s/it]"
     ]
    },
    {
     "name": "stdout",
     "output_type": "stream",
     "text": [
      "2385/2388 행 요약 완료\n"
     ]
    },
    {
     "name": "stderr",
     "output_type": "stream",
     "text": [
      "요약 진행 중: 100%|█████████▉| 2385/2388 [1:26:55<00:08,  2.86s/it]"
     ]
    },
    {
     "name": "stdout",
     "output_type": "stream",
     "text": [
      "2386/2388 행 요약 완료\n"
     ]
    },
    {
     "name": "stderr",
     "output_type": "stream",
     "text": [
      "요약 진행 중: 100%|█████████▉| 2386/2388 [1:26:57<00:04,  2.37s/it]"
     ]
    },
    {
     "name": "stdout",
     "output_type": "stream",
     "text": [
      "2387/2388 행 요약 완료\n"
     ]
    },
    {
     "name": "stderr",
     "output_type": "stream",
     "text": [
      "요약 진행 중: 100%|█████████▉| 2387/2388 [1:26:58<00:02,  2.09s/it]"
     ]
    },
    {
     "name": "stdout",
     "output_type": "stream",
     "text": [
      "2388/2388 행 요약 완료\n"
     ]
    },
    {
     "name": "stderr",
     "output_type": "stream",
     "text": [
      "요약 진행 중: 100%|██████████| 2388/2388 [1:27:02<00:00,  2.19s/it]\n"
     ]
    }
   ],
   "source": [
    "from tqdm import tqdm\n",
    "import time\n",
    "\n",
    "def summarize_with_progress(df):\n",
    "    total_rows = len(df)\n",
    "    summary_list = []\n",
    "    \n",
    "    for index, row in tqdm(df.iterrows(), total=total_rows, desc=\"요약 진행 중\"):\n",
    "        summary = summarize_text(row['질문내용'])\n",
    "        summary_list.append(summary)\n",
    "        \n",
    "        # 현재 진행 상황 출력\n",
    "        print(f\"{index + 1}/{total_rows} 행 요약 완료\")\n",
    "        \n",
    "        # API 호출 제한을 고려한 지연 시간 추가 (필요시 조정)\n",
    "        time.sleep(0.5)\n",
    "    \n",
    "    return pd.Series(summary_list, index=df.index)\n",
    "\n",
    "# 요약 실행\n",
    "df_summary = summarize_with_progress(df)"
   ]
  },
  {
   "cell_type": "markdown",
   "id": "012ee7d4-2e03-4d5b-9e5b-a115c0388f60",
   "metadata": {},
   "source": [
    "### 요약된 결과 (4월) 출력"
   ]
  },
  {
   "cell_type": "code",
   "execution_count": 22,
   "id": "548a8133-a214-4773-bfd1-f755c7267177",
   "metadata": {
    "tags": []
   },
   "outputs": [
    {
     "name": "stdout",
     "output_type": "stream",
     "text": [
      "0       요약:\\n\\n1. 다둥이 엄마로 3명의 아이가 있음\\n2. 패키지 예매 시 어른 1...\n",
      "1       요약하면 다음과 같습니다:\\n\\n1. 사파리 동물들의 이름을 자세히 알려주어 관람객...\n",
      "2       요약:\\n\\n1. 풍선 구매 시 고객의 요청사항(풍선끈 길이 조절, 연결부분 테이프...\n",
      "3       요약:\\n\\n1. 화자는 일본인입니다.\\n2. 화자는 외국인들도 연간 여권을 만들 ...\n",
      "4       이 글에서는 푸바오 관람객 관리와 관련된 내용을 다루고 있습니다. 주요 내용은 다음...\n",
      "                              ...                        \n",
      "2383    요약:\\n\\n1. *** & *** 가족들이 10년만에 에버랜드를 방문했습니다.\\n...\n",
      "2384    요약:\\n\\n1. 딸기 젤라또 구매 시 근무자가 품목을 잘못 입력하여 재결제를 진행...\n",
      "2385    요약:\\n\\n- 마지막 게스트로 방문했음\\n- 마감 직원들이 게스트에게 좋은 기억을...\n",
      "2386    요약:\\n\\n- 아마존샵 노*** 캐스터 직원이 매우 친절하게 도와주었음\\n- 바쁜...\n",
      "2387    요약:\\n\\n1. 작년 에버랜드 첫 방문 시 폭우로 퍼레이드를 보지 못해 아쉬웠으나...\n",
      "Length: 2388, dtype: object\n"
     ]
    }
   ],
   "source": [
    "print(df_summary)"
   ]
  },
  {
   "cell_type": "markdown",
   "id": "90c70c08-fd96-43f6-be30-62d5c90db2fe",
   "metadata": {},
   "source": [
    "### 요약된 결과 파일로 저장"
   ]
  },
  {
   "cell_type": "code",
   "execution_count": 17,
   "id": "2b8d6018-1ffe-497f-8d2c-7473d7a50772",
   "metadata": {
    "tags": []
   },
   "outputs": [
    {
     "name": "stdout",
     "output_type": "stream",
     "text": [
      "요약 결과가 './output/2024-04_summary_result_20241021_034055.csv' 파일로 저장되었습니다.\n"
     ]
    }
   ],
   "source": [
    "import pandas as pd\n",
    "from datetime import datetime\n",
    "\n",
    "when = \"2024-04\"  # 2024년 4월\n",
    "\n",
    "def save_summary_to_csv(df_original, df_summary, file_name=None):\n",
    "    # 원본 데이터프레임과 요약 데이터프레임 결합\n",
    "    df_combined = pd.concat([df_original, df_summary], axis=1)\n",
    "    \n",
    "    # 요약 컬럼 이름 변경\n",
    "    df_combined = df_combined.rename(columns={0: '요약내용'})\n",
    "    \n",
    "    # 현재 날짜와 시간을 파일명에 포함\n",
    "    if file_name is None:\n",
    "        current_time = datetime.now().strftime(\"%Y%m%d_%H%M%S\")\n",
    "        file_name = f\"./output/{when}_summary_result_{current_time}.csv\"\n",
    "    \n",
    "    # CSV 파일로 저장\n",
    "    df_combined.to_csv(file_name, index=False, encoding='utf-8-sig')\n",
    "    \n",
    "    print(f\"요약 결과가 './output/{file_name}' 파일로 저장되었습니다.\")\n",
    "\n",
    "# 사용 예시\n",
    "save_summary_to_csv(df, df_summary)"
   ]
  },
  {
   "cell_type": "markdown",
   "id": "f9d54636-c252-45f6-bb7e-fc37a3928f0d",
   "metadata": {},
   "source": [
    "---"
   ]
  },
  {
   "cell_type": "markdown",
   "id": "f95e2bb9-2565-406f-89ca-0dbd49a5730e",
   "metadata": {},
   "source": [
    "### 각 행별 요약 내용을 전체로 정리하는 요약\n",
    "--> md (markdown) 형태의 보고서 파일 생성"
   ]
  },
  {
   "cell_type": "code",
   "execution_count": 30,
   "id": "f254839d-4656-439e-a9d5-d123de771852",
   "metadata": {
    "tags": []
   },
   "outputs": [
    {
     "name": "stdout",
     "output_type": "stream",
     "text": [
      "Markdown 형식의 상세 보고서가 './output/2024-04_detailed_summary_report.md' 파일로 저장되었습니다.\n",
      "\n",
      "보고서 내용 미리보기:\n",
      "# 에버랜드 방문 고객 피드백 요약 및 원본 질문 보고서\n",
      "\n",
      "## 전체 요약\n",
      "\n",
      "요약하면 다음과 같습니다.\n",
      "\n",
      "1. 다자녀 가정을 위한 패키지 상품 및 예매 시스템 개선이 필요함\n",
      "- 현재 예매 시 어른 1명, 아이 1명만 가능해 다자녀 가정에 불편\n",
      "- 아이들이 성장할수록 예매 제한으로 인한 불편이 커질 것으로 예상\n",
      "\n",
      "2. 동물 이름 안내로 관람객 만족도 상승 \n",
      "- 동물 이름과 정보를 자세히 안내해주어 흥미롭고 유익한 관람 가능\n",
      "\n",
      "3. 친절하고 배려 있는 직원 서비스로 고객 만족\n",
      "- 풍선 구매 시 요청사항을 친절히 대응하고 유아 고객을 배려함  \n",
      "- 판다월드 안내 직원이 전문성과 친절한 태도로 호평받음\n",
      "\n",
      "4. 나비체험관 프로그램에 대한 긍정적 평가\n",
      "- 스토리텔링과 체험활동으로 아이들의 집중도와 흥미 유발\n",
      "- 직원의 친절한 안내로 유익하고 즐거운 경험 제공\n",
      "\n",
      "5. 카라멜 직원의 친절한 안내에 대한 칭찬\n",
      "\n",
      "6. 사파리 운전기사의 재미있고 세심한 서비스로 즐거운 경험\n",
      "\n",
      "전반적으로 에버랜드의 다양...\n",
      "CPU times: user 89.4 ms, sys: 184 μs, total: 89.5 ms\n",
      "Wall time: 13.5 s\n"
     ]
    }
   ],
   "source": [
    "%%time\n",
    "\n",
    "import pandas as pd\n",
    "import os\n",
    "from datetime import datetime\n",
    "\n",
    "def generate_overall_summary(df_original, df_summary, bedrock_runtime):\n",
    "    # 전체 내용을 하나의 문자열로 결합\n",
    "    all_content = \"\\n\\n\".join(df_summary.astype(str).tolist())\n",
    "    \n",
    "    prompt = f\"\"\"다음은 에버랜드 방문 고객의 피드백 요약입니다. 이 내용을 바탕으로 전체적인 내용을 간략하게 요약해주세요. \n",
    "    주요 주제와 전반적인 고객 만족도, 개선이 필요한 부분 등을 포함해 주세요.\n",
    "\n",
    "    요약 내용:\n",
    "    {all_content[:3000]}  # 토큰 제한을 고려하여 일부만 전송\n",
    "\n",
    "    전체 요약:\"\"\"\n",
    "\n",
    "    response = bedrock_runtime.converse(\n",
    "        modelId=\"anthropic.claude-3-sonnet-20240229-v1:0\",  ## Claude 3 Sonnet\n",
    "        messages=[\n",
    "            {\n",
    "                \"role\": \"user\",\n",
    "                \"content\": [{\"text\": prompt}]\n",
    "            }\n",
    "        ],\n",
    "        inferenceConfig={\n",
    "            \"maxTokens\": 500,\n",
    "            \"temperature\": 0.7,\n",
    "            \"topP\": 1\n",
    "        }\n",
    "    )\n",
    "    \n",
    "    if 'output' in response and 'message' in response['output']:\n",
    "        return response['output']['message']['content'][0]['text']\n",
    "    else:\n",
    "        return \"전체 요약 생성에 실패했습니다.\"\n",
    "\n",
    "def create_markdown_report(df_original, df_summary, overall_summary):\n",
    "    markdown_report = \"# 에버랜드 방문 고객 피드백 요약 및 원본 질문 보고서\\n\\n\"\n",
    "    markdown_report += f\"## 전체 요약\\n\\n{overall_summary}\\n\\n\"\n",
    "    \n",
    "    sections = [\n",
    "        (\"고객 서비스\", [\"캐스트\", \"직원\", \"서비스\"]),\n",
    "        (\"시설 및 편의성\", [\"시설\", \"편의\", \"노후화\"]),\n",
    "        (\"사파리 및 체험 프로그램\", [\"사파리\", \"동물\", \"체험\"]),\n",
    "        (\"대기시간 및 혼잡\", [\"대기\", \"혼잡\", \"줄\"]),\n",
    "        (\"전반적 만족도\", [\"만족\", \"경험\", \"즐거움\"])\n",
    "    ]\n",
    "\n",
    "    for section_title, keywords in sections:\n",
    "        markdown_report += f\"## {section_title}\\n\\n\"\n",
    "        relevant_feedback = []\n",
    "        for index, (original, summary) in enumerate(zip(df_original['질문내용'], df_summary)):\n",
    "            if any(keyword in original.lower() for keyword in keywords):\n",
    "                relevant_feedback.append((original, summary))\n",
    "        \n",
    "        if relevant_feedback:\n",
    "            for i, (original, summary) in enumerate(relevant_feedback[:5], 1):  # 각 섹션당 최대 5개 피드백 표시\n",
    "                markdown_report += f\"### 피드백 {i}\\n\"\n",
    "                markdown_report += f\"**원본 질문:** {original[:200]}...\\n\\n\"\n",
    "                markdown_report += f\"**요약:** {summary[:200]}...\\n\\n\"\n",
    "        else:\n",
    "            markdown_report += \"이 섹션과 관련된 피드백이 없습니다.\\n\\n\"\n",
    "\n",
    "    markdown_report += \"## 주요 원본 질문 목록 (Top 10)\\n\\n\"\n",
    "    top_10_questions = df_original['질문내용'].value_counts().nlargest(10).index.tolist()\n",
    "    for i, question in enumerate(top_10_questions, 1):\n",
    "        markdown_report += f\"{i}. {question[:200]}...\\n\\n\"\n",
    "\n",
    "    return markdown_report\n",
    "\n",
    "# 전체 요약 생성\n",
    "overall_summary = generate_overall_summary(df_4, df_4_summary, bedrock_runtime)\n",
    "\n",
    "# 상세 보고서 생성\n",
    "markdown_report = create_markdown_report(df_4, df_4_summary, overall_summary)\n",
    "\n",
    "# 출력 디렉토리 확인 및 생성\n",
    "output_dir = \"./output\"\n",
    "os.makedirs(output_dir, exist_ok=True)\n",
    "\n",
    "# 파일명 생성\n",
    "output_filename = f\"{output_dir}/{when}_detailed_summary_report.md\"\n",
    "\n",
    "# 파일로 저장\n",
    "with open(output_filename, \"w\", encoding=\"utf-8\") as f:\n",
    "    f.write(markdown_report)\n",
    "\n",
    "print(f\"Markdown 형식의 상세 보고서가 '{output_filename}' 파일로 저장되었습니다.\")\n",
    "print(\"\\n보고서 내용 미리보기:\")\n",
    "print(markdown_report[:500] + \"...\")  # 처음 500자만 출력"
   ]
  },
  {
   "cell_type": "code",
   "execution_count": null,
   "id": "484a1031-b55c-4d87-85ab-56170c7dc300",
   "metadata": {},
   "outputs": [],
   "source": []
  }
 ],
 "metadata": {
  "kernelspec": {
   "display_name": "conda_python3",
   "language": "python",
   "name": "conda_python3"
  },
  "language_info": {
   "codemirror_mode": {
    "name": "ipython",
    "version": 3
   },
   "file_extension": ".py",
   "mimetype": "text/x-python",
   "name": "python",
   "nbconvert_exporter": "python",
   "pygments_lexer": "ipython3",
   "version": "3.10.14"
  }
 },
 "nbformat": 4,
 "nbformat_minor": 5
}
