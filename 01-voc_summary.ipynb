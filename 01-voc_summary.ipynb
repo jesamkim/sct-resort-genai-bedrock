{
 "cells": [
  {
   "cell_type": "markdown",
   "id": "327bf3d7-5539-406a-86a9-0bef908768da",
   "metadata": {},
   "source": [
    "# VOC 요약"
   ]
  },
  {
   "cell_type": "code",
   "execution_count": 1,
   "id": "e3eeb783-404e-4e68-95c1-f870554c8357",
   "metadata": {},
   "outputs": [
    {
     "name": "stdout",
     "output_type": "stream",
     "text": [
      "Requirement already satisfied: boto3 in /opt/conda/lib/python3.11/site-packages (1.35.44)\n",
      "Requirement already satisfied: botocore<1.36.0,>=1.35.44 in /opt/conda/lib/python3.11/site-packages (from boto3) (1.35.44)\n",
      "Requirement already satisfied: jmespath<2.0.0,>=0.7.1 in /opt/conda/lib/python3.11/site-packages (from boto3) (1.0.1)\n",
      "Requirement already satisfied: s3transfer<0.11.0,>=0.10.0 in /opt/conda/lib/python3.11/site-packages (from boto3) (0.10.2)\n",
      "Requirement already satisfied: python-dateutil<3.0.0,>=2.1 in /opt/conda/lib/python3.11/site-packages (from botocore<1.36.0,>=1.35.44->boto3) (2.9.0)\n",
      "Requirement already satisfied: urllib3!=2.2.0,<3,>=1.25.4 in /opt/conda/lib/python3.11/site-packages (from botocore<1.36.0,>=1.35.44->boto3) (1.26.19)\n",
      "Requirement already satisfied: six>=1.5 in /opt/conda/lib/python3.11/site-packages (from python-dateutil<3.0.0,>=2.1->botocore<1.36.0,>=1.35.44->boto3) (1.16.0)\n",
      "Requirement already satisfied: pandas in /opt/conda/lib/python3.11/site-packages (2.2.3)\n",
      "Requirement already satisfied: numpy>=1.23.2 in /opt/conda/lib/python3.11/site-packages (from pandas) (1.26.4)\n",
      "Requirement already satisfied: python-dateutil>=2.8.2 in /opt/conda/lib/python3.11/site-packages (from pandas) (2.9.0)\n",
      "Requirement already satisfied: pytz>=2020.1 in /opt/conda/lib/python3.11/site-packages (from pandas) (2023.3)\n",
      "Requirement already satisfied: tzdata>=2022.7 in /opt/conda/lib/python3.11/site-packages (from pandas) (2024.1)\n",
      "Requirement already satisfied: six>=1.5 in /opt/conda/lib/python3.11/site-packages (from python-dateutil>=2.8.2->pandas) (1.16.0)\n",
      "Requirement already satisfied: openpyxl in /opt/conda/lib/python3.11/site-packages (3.1.5)\n",
      "Requirement already satisfied: et-xmlfile in /opt/conda/lib/python3.11/site-packages (from openpyxl) (1.1.0)\n",
      "Requirement already satisfied: seaborn in /opt/conda/lib/python3.11/site-packages (0.13.2)\n",
      "Requirement already satisfied: numpy!=1.24.0,>=1.20 in /opt/conda/lib/python3.11/site-packages (from seaborn) (1.26.4)\n",
      "Requirement already satisfied: pandas>=1.2 in /opt/conda/lib/python3.11/site-packages (from seaborn) (2.2.3)\n",
      "Requirement already satisfied: matplotlib!=3.6.1,>=3.4 in /opt/conda/lib/python3.11/site-packages (from seaborn) (3.9.2)\n",
      "Requirement already satisfied: contourpy>=1.0.1 in /opt/conda/lib/python3.11/site-packages (from matplotlib!=3.6.1,>=3.4->seaborn) (1.2.1)\n",
      "Requirement already satisfied: cycler>=0.10 in /opt/conda/lib/python3.11/site-packages (from matplotlib!=3.6.1,>=3.4->seaborn) (0.12.1)\n",
      "Requirement already satisfied: fonttools>=4.22.0 in /opt/conda/lib/python3.11/site-packages (from matplotlib!=3.6.1,>=3.4->seaborn) (4.53.1)\n",
      "Requirement already satisfied: kiwisolver>=1.3.1 in /opt/conda/lib/python3.11/site-packages (from matplotlib!=3.6.1,>=3.4->seaborn) (1.4.5)\n",
      "Requirement already satisfied: packaging>=20.0 in /opt/conda/lib/python3.11/site-packages (from matplotlib!=3.6.1,>=3.4->seaborn) (24.1)\n",
      "Requirement already satisfied: pillow>=8 in /opt/conda/lib/python3.11/site-packages (from matplotlib!=3.6.1,>=3.4->seaborn) (10.4.0)\n",
      "Requirement already satisfied: pyparsing>=2.3.1 in /opt/conda/lib/python3.11/site-packages (from matplotlib!=3.6.1,>=3.4->seaborn) (3.1.2)\n",
      "Requirement already satisfied: python-dateutil>=2.7 in /opt/conda/lib/python3.11/site-packages (from matplotlib!=3.6.1,>=3.4->seaborn) (2.9.0)\n",
      "Requirement already satisfied: pytz>=2020.1 in /opt/conda/lib/python3.11/site-packages (from pandas>=1.2->seaborn) (2023.3)\n",
      "Requirement already satisfied: tzdata>=2022.7 in /opt/conda/lib/python3.11/site-packages (from pandas>=1.2->seaborn) (2024.1)\n",
      "Requirement already satisfied: six>=1.5 in /opt/conda/lib/python3.11/site-packages (from python-dateutil>=2.7->matplotlib!=3.6.1,>=3.4->seaborn) (1.16.0)\n"
     ]
    }
   ],
   "source": [
    "# 환경 설정\n",
    "!pip install boto3 -U\n",
    "!pip install pandas -U\n",
    "!pip install openpyxl -U\n",
    "!pip install seaborn -U"
   ]
  },
  {
   "cell_type": "code",
   "execution_count": 2,
   "id": "c638718f-f1bf-47aa-82bf-4f6a25411cc6",
   "metadata": {
    "tags": []
   },
   "outputs": [],
   "source": [
    "import time\n",
    "import pandas as pd\n",
    "import boto3\n",
    "from botocore.config import Config"
   ]
  },
  {
   "cell_type": "markdown",
   "id": "8f2112b4-61f2-44e6-98f0-1d11a6ebaa28",
   "metadata": {},
   "source": [
    "### VOC 파일(xlsx) 읽기"
   ]
  },
  {
   "cell_type": "code",
   "execution_count": 3,
   "id": "21685a7e-713b-49e4-a238-1a91f64b296b",
   "metadata": {
    "tags": []
   },
   "outputs": [],
   "source": [
    "def read_excel_sheets(file_path):\n",
    "    excel_file = pd.ExcelFile(file_path)\n",
    "    sheets = ['4월', '5월', '7월', '8월']\n",
    "    dataframes = {}\n",
    "    for sheet in sheets:\n",
    "        dataframes[sheet] = pd.read_excel(excel_file, sheet_name=sheet)\n",
    "    return dataframes\n",
    "\n",
    "file_path = './data/test.xlsx'\n",
    "dataframes = read_excel_sheets(file_path)\n",
    "\n",
    "df_4 = dataframes['4월']\n",
    "df_5 = dataframes['5월']\n",
    "df_7 = dataframes['7월']\n",
    "df_8 = dataframes['8월']"
   ]
  },
  {
   "cell_type": "markdown",
   "id": "9b270b32-9de8-4c87-89b0-6e7b3dc68cf8",
   "metadata": {},
   "source": [
    "### 요약 하려는 탭 (몇 월)에 대한 지정"
   ]
  },
  {
   "cell_type": "code",
   "execution_count": 4,
   "id": "6da634a2-69e9-4701-9b46-c9801be0f2c2",
   "metadata": {
    "tags": []
   },
   "outputs": [],
   "source": [
    "# 월 지정\n",
    "\n",
    "when = \"2024-04\"  # 2024년 4월\n",
    "df = df_4    # 4월 dataframe \n"
   ]
  },
  {
   "cell_type": "code",
   "execution_count": 5,
   "id": "8dce8ec3-78ed-4284-8529-c51318a9acdb",
   "metadata": {
    "tags": []
   },
   "outputs": [
    {
     "data": {
      "text/html": [
       "<div>\n",
       "<style scoped>\n",
       "    .dataframe tbody tr th:only-of-type {\n",
       "        vertical-align: middle;\n",
       "    }\n",
       "\n",
       "    .dataframe tbody tr th {\n",
       "        vertical-align: top;\n",
       "    }\n",
       "\n",
       "    .dataframe thead th {\n",
       "        text-align: right;\n",
       "    }\n",
       "</style>\n",
       "<table border=\"1\" class=\"dataframe\">\n",
       "  <thead>\n",
       "    <tr style=\"text-align: right;\">\n",
       "      <th></th>\n",
       "      <th>VOC_ID</th>\n",
       "      <th>담당 부서</th>\n",
       "      <th>사업 부문</th>\n",
       "      <th>답변채널</th>\n",
       "      <th>VOC유형</th>\n",
       "      <th>등록채널 유형</th>\n",
       "      <th>발생원인 유형</th>\n",
       "      <th>발생지 유형</th>\n",
       "      <th>처리기한 - 시/분</th>\n",
       "      <th>처리기한 - 일시</th>\n",
       "      <th>...</th>\n",
       "      <th>고객이 만족도 직접 회신여부</th>\n",
       "      <th>즉답처리 (I:등록, R:접수, N:일반)</th>\n",
       "      <th>질문내용</th>\n",
       "      <th>답변내용</th>\n",
       "      <th>개선관리ID</th>\n",
       "      <th>개선관리상태</th>\n",
       "      <th>사후처리유형</th>\n",
       "      <th>처리시간(시:분)</th>\n",
       "      <th>준수 여부</th>\n",
       "      <th>유형변경신청</th>\n",
       "    </tr>\n",
       "  </thead>\n",
       "  <tbody>\n",
       "    <tr>\n",
       "      <th>0</th>\n",
       "      <td>VOCS0000510819</td>\n",
       "      <td>리조트 B2C그룹</td>\n",
       "      <td>리조트</td>\n",
       "      <td>웹+메일</td>\n",
       "      <td>고객요구유형-제안사항</td>\n",
       "      <td>직접 VOC-모바일앱(APP)</td>\n",
       "      <td>규정 및 정책 -운영정책-패키지 상품</td>\n",
       "      <td>분류불가-발생지정보없음</td>\n",
       "      <td>48.0</td>\n",
       "      <td>20240404 090000</td>\n",
       "      <td>...</td>\n",
       "      <td>NaN</td>\n",
       "      <td>N</td>\n",
       "      <td>애가 셋인 다둥이 엄마입니다. 입장권 예매를 하려하는데 패키지 예매도 어른1 아이1...</td>\n",
       "      <td>안녕하세요 에버랜드 패키지 상품 담당자입니다.패키지 예매는 현재 2인 이상의 인원으...</td>\n",
       "      <td>NaN</td>\n",
       "      <td>NaN</td>\n",
       "      <td>NaN</td>\n",
       "      <td>10:0</td>\n",
       "      <td>준수</td>\n",
       "      <td>N</td>\n",
       "    </tr>\n",
       "    <tr>\n",
       "      <th>1</th>\n",
       "      <td>VOCS0000510814</td>\n",
       "      <td>리조트 파크서비스그룹 어트랙션B</td>\n",
       "      <td>리조트</td>\n",
       "      <td>내부처리</td>\n",
       "      <td>고객요구유형-칭찬격려</td>\n",
       "      <td>직접 VOC-QR코드</td>\n",
       "      <td>인적서비스-업무처리-응대스킬</td>\n",
       "      <td>주토피아-(어트랙션)사파리월드</td>\n",
       "      <td>48.0</td>\n",
       "      <td>20240404 090000</td>\n",
       "      <td>...</td>\n",
       "      <td>NaN</td>\n",
       "      <td>N</td>\n",
       "      <td>한국 호랑이,하이에나, 사자, 뱅갈 호랑이 곰 등 사파리에 있는 거의 모든 동물들의...</td>\n",
       "      <td>칭찬 사례 공유 및 해당 근무자 격려 하겠습니다.</td>\n",
       "      <td>NaN</td>\n",
       "      <td>NaN</td>\n",
       "      <td>NaN</td>\n",
       "      <td>14:50</td>\n",
       "      <td>준수</td>\n",
       "      <td>N</td>\n",
       "    </tr>\n",
       "    <tr>\n",
       "      <th>2</th>\n",
       "      <td>VOCS0000510817</td>\n",
       "      <td>리조트 MD그룹 운영지원</td>\n",
       "      <td>리조트</td>\n",
       "      <td>내부처리</td>\n",
       "      <td>고객요구유형-칭찬격려</td>\n",
       "      <td>직접 VOC-모바일앱(APP)</td>\n",
       "      <td>인적서비스-응대태도-배려</td>\n",
       "      <td>분류불가-발생지정보없음</td>\n",
       "      <td>48.0</td>\n",
       "      <td>20240404 090000</td>\n",
       "      <td>...</td>\n",
       "      <td>NaN</td>\n",
       "      <td>N</td>\n",
       "      <td>금일 가족과 함께 파크 입장 직후 풍선을 구매하러 방문했습니다.풍선끈이 아이 키보다...</td>\n",
       "      <td>메일 및 이캐비넷 게시를 통한 사례공유 및 격려</td>\n",
       "      <td>NaN</td>\n",
       "      <td>NaN</td>\n",
       "      <td>NaN</td>\n",
       "      <td>8:42</td>\n",
       "      <td>준수</td>\n",
       "      <td>N</td>\n",
       "    </tr>\n",
       "    <tr>\n",
       "      <th>3</th>\n",
       "      <td>VOCS0000510836</td>\n",
       "      <td>리조트 B2C그룹</td>\n",
       "      <td>리조트</td>\n",
       "      <td>웹+메일</td>\n",
       "      <td>고객요구유형-제안사항</td>\n",
       "      <td>직접 VOC-모바일앱(APP)</td>\n",
       "      <td>규정 및 정책 -운영정책-연간이용 프로모션/혜택</td>\n",
       "      <td>분류불가-발생지정보없음</td>\n",
       "      <td>48.0</td>\n",
       "      <td>20240404 101011</td>\n",
       "      <td>...</td>\n",
       "      <td>NaN</td>\n",
       "      <td>N</td>\n",
       "      <td>I am Japanese. I wish foreigners could also ma...</td>\n",
       "      <td>Hello, I'm the person in charge of Everland's ...</td>\n",
       "      <td>NaN</td>\n",
       "      <td>NaN</td>\n",
       "      <td>NaN</td>\n",
       "      <td>50:43</td>\n",
       "      <td>준수</td>\n",
       "      <td>N</td>\n",
       "    </tr>\n",
       "    <tr>\n",
       "      <th>4</th>\n",
       "      <td>VOCS0000510829</td>\n",
       "      <td>리조트 주토피아운영그룹 사파리</td>\n",
       "      <td>리조트</td>\n",
       "      <td>내부처리</td>\n",
       "      <td>고객요구유형-칭찬격려</td>\n",
       "      <td>직접 VOC-QR코드</td>\n",
       "      <td>인적서비스-업무처리-응대스킬</td>\n",
       "      <td>주토피아-(공연/전시)판다월드</td>\n",
       "      <td>48.0</td>\n",
       "      <td>20240404 102101</td>\n",
       "      <td>...</td>\n",
       "      <td>NaN</td>\n",
       "      <td>N</td>\n",
       "      <td>푸바오 관람으로 인해 사람이 아주 많을때도방사장내 질서정리를 정말 잘해주셔서 감사와...</td>\n",
       "      <td>해당 근무자 격려하겠습니다.고맙습니다.</td>\n",
       "      <td>NaN</td>\n",
       "      <td>NaN</td>\n",
       "      <td>NaN</td>\n",
       "      <td>24:40</td>\n",
       "      <td>준수</td>\n",
       "      <td>N</td>\n",
       "    </tr>\n",
       "    <tr>\n",
       "      <th>...</th>\n",
       "      <td>...</td>\n",
       "      <td>...</td>\n",
       "      <td>...</td>\n",
       "      <td>...</td>\n",
       "      <td>...</td>\n",
       "      <td>...</td>\n",
       "      <td>...</td>\n",
       "      <td>...</td>\n",
       "      <td>...</td>\n",
       "      <td>...</td>\n",
       "      <td>...</td>\n",
       "      <td>...</td>\n",
       "      <td>...</td>\n",
       "      <td>...</td>\n",
       "      <td>...</td>\n",
       "      <td>...</td>\n",
       "      <td>...</td>\n",
       "      <td>...</td>\n",
       "      <td>...</td>\n",
       "      <td>...</td>\n",
       "      <td>...</td>\n",
       "    </tr>\n",
       "    <tr>\n",
       "      <th>2383</th>\n",
       "      <td>VOCS0000515526</td>\n",
       "      <td>리조트 파크서비스그룹 어트랙션A</td>\n",
       "      <td>리조트</td>\n",
       "      <td>내부처리</td>\n",
       "      <td>고객요구유형-칭찬격려</td>\n",
       "      <td>직접 VOC-QR코드</td>\n",
       "      <td>인적서비스-응대태도-표정/자세/말투</td>\n",
       "      <td>유러피언어드벤처-(어트랙션)로얄쥬빌리캐로셀</td>\n",
       "      <td>48.0</td>\n",
       "      <td>20240504 090000</td>\n",
       "      <td>...</td>\n",
       "      <td>NaN</td>\n",
       "      <td>N</td>\n",
       "      <td>***  &amp; *** cast생일을 맞아 가족들과 10년만에 에버랜드에 방문을 했습니...</td>\n",
       "      <td>- VOC  내용 공유 및 해당캐스트 격려 실시</td>\n",
       "      <td>NaN</td>\n",
       "      <td>NaN</td>\n",
       "      <td>NaN</td>\n",
       "      <td>108:26</td>\n",
       "      <td>미준수</td>\n",
       "      <td>N</td>\n",
       "    </tr>\n",
       "    <tr>\n",
       "      <th>2384</th>\n",
       "      <td>VOCS0000515545</td>\n",
       "      <td>리조트 F&amp;B그룹 운영3</td>\n",
       "      <td>리조트</td>\n",
       "      <td>전화</td>\n",
       "      <td>고객요구유형-개선요청</td>\n",
       "      <td>직접 VOC-방문접수</td>\n",
       "      <td>인적서비스-업무처리-응대스킬</td>\n",
       "      <td>주토피아-(식당)가판매대</td>\n",
       "      <td>48.0</td>\n",
       "      <td>20240504 090000</td>\n",
       "      <td>...</td>\n",
       "      <td>NaN</td>\n",
       "      <td>NaN</td>\n",
       "      <td>4/30(화) 로스트밸리 앞쪽에 01가판대에서 17:03 딸기 젤라또 구매후 영수증...</td>\n",
       "      <td>NaN</td>\n",
       "      <td>NaN</td>\n",
       "      <td>NaN</td>\n",
       "      <td>NaN</td>\n",
       "      <td>58:25</td>\n",
       "      <td>준수</td>\n",
       "      <td>N</td>\n",
       "    </tr>\n",
       "    <tr>\n",
       "      <th>2385</th>\n",
       "      <td>VOCS0000515529</td>\n",
       "      <td>리조트 파크서비스그룹 어트랙션A</td>\n",
       "      <td>리조트</td>\n",
       "      <td>내부처리</td>\n",
       "      <td>고객요구유형-칭찬격려</td>\n",
       "      <td>직접 VOC-QR코드</td>\n",
       "      <td>인적서비스-응대태도-표정/자세/말투</td>\n",
       "      <td>아메리칸어드벤처-(어트랙션)허리케인</td>\n",
       "      <td>48.0</td>\n",
       "      <td>20240504 090000</td>\n",
       "      <td>...</td>\n",
       "      <td>NaN</td>\n",
       "      <td>N</td>\n",
       "      <td>당일 마지막으로 탔습니다. 마지막까지 텐션 높게 게스트 좋은 기억으로 채워줄 수 있...</td>\n",
       "      <td>해당 내용 공유 및 격려하겠습니다.</td>\n",
       "      <td>NaN</td>\n",
       "      <td>NaN</td>\n",
       "      <td>NaN</td>\n",
       "      <td>16:56</td>\n",
       "      <td>준수</td>\n",
       "      <td>N</td>\n",
       "    </tr>\n",
       "    <tr>\n",
       "      <th>2386</th>\n",
       "      <td>VOCS0000515530</td>\n",
       "      <td>리조트 MD그룹 운영지원</td>\n",
       "      <td>리조트</td>\n",
       "      <td>내부처리</td>\n",
       "      <td>고객요구유형-칭찬격려</td>\n",
       "      <td>직접 VOC-QR코드</td>\n",
       "      <td>인적서비스-응대태도-표정/자세/말투</td>\n",
       "      <td>주토피아-(상품점)아마존샵</td>\n",
       "      <td>48.0</td>\n",
       "      <td>20240504 090000</td>\n",
       "      <td>...</td>\n",
       "      <td>NaN</td>\n",
       "      <td>N</td>\n",
       "      <td>아마존샵 노*** 캐스터분이 너무 친절하시게 도와주셔서 글 남겨요.바쁘신 와중에도 ...</td>\n",
       "      <td>메일 및 이캐비넷 게시를 통한 사례공유 및 격려</td>\n",
       "      <td>NaN</td>\n",
       "      <td>NaN</td>\n",
       "      <td>NaN</td>\n",
       "      <td>17:38</td>\n",
       "      <td>준수</td>\n",
       "      <td>N</td>\n",
       "    </tr>\n",
       "    <tr>\n",
       "      <th>2387</th>\n",
       "      <td>VOCS0000515546</td>\n",
       "      <td>리조트 B2C그룹</td>\n",
       "      <td>리조트</td>\n",
       "      <td>웹+메일</td>\n",
       "      <td>고객요구유형-제안사항</td>\n",
       "      <td>직접 VOC-모바일앱(APP)</td>\n",
       "      <td>규정 및 정책 -운영정책-비해피 프로그램</td>\n",
       "      <td>분류불가-발생지정보없음</td>\n",
       "      <td>48.0</td>\n",
       "      <td>20240504 090000</td>\n",
       "      <td>...</td>\n",
       "      <td>NaN</td>\n",
       "      <td>N</td>\n",
       "      <td>작년 에버랜드 첫방문에서 폭우로 퍼레이드를 못보고 나와서 아쉬웠는데 재방문권을 보내...</td>\n",
       "      <td>비 해피 프로그램 안내 게시물 및 이용권 쿠폰에 B, C 구간에 대해 좀 더 쉽게 ...</td>\n",
       "      <td>NaN</td>\n",
       "      <td>NaN</td>\n",
       "      <td>NaN</td>\n",
       "      <td>38:37</td>\n",
       "      <td>준수</td>\n",
       "      <td>N</td>\n",
       "    </tr>\n",
       "  </tbody>\n",
       "</table>\n",
       "<p>2388 rows × 30 columns</p>\n",
       "</div>"
      ],
      "text/plain": [
       "              VOC_ID              담당 부서        사업 부문  답변채널        VOC유형  \\\n",
       "0     VOCS0000510819          리조트 B2C그룹  리조트          웹+메일  고객요구유형-제안사항   \n",
       "1     VOCS0000510814  리조트 파크서비스그룹 어트랙션B  리조트          내부처리  고객요구유형-칭찬격려   \n",
       "2     VOCS0000510817      리조트 MD그룹 운영지원  리조트          내부처리  고객요구유형-칭찬격려   \n",
       "3     VOCS0000510836          리조트 B2C그룹  리조트          웹+메일  고객요구유형-제안사항   \n",
       "4     VOCS0000510829   리조트 주토피아운영그룹 사파리  리조트          내부처리  고객요구유형-칭찬격려   \n",
       "...              ...                ...          ...   ...          ...   \n",
       "2383  VOCS0000515526  리조트 파크서비스그룹 어트랙션A  리조트          내부처리  고객요구유형-칭찬격려   \n",
       "2384  VOCS0000515545      리조트 F&B그룹 운영3  리조트            전화  고객요구유형-개선요청   \n",
       "2385  VOCS0000515529  리조트 파크서비스그룹 어트랙션A  리조트          내부처리  고객요구유형-칭찬격려   \n",
       "2386  VOCS0000515530      리조트 MD그룹 운영지원  리조트          내부처리  고객요구유형-칭찬격려   \n",
       "2387  VOCS0000515546          리조트 B2C그룹  리조트          웹+메일  고객요구유형-제안사항   \n",
       "\n",
       "               등록채널 유형                     발생원인 유형                   발생지 유형  \\\n",
       "0     직접 VOC-모바일앱(APP)        규정 및 정책 -운영정책-패키지 상품             분류불가-발생지정보없음   \n",
       "1          직접 VOC-QR코드             인적서비스-업무처리-응대스킬         주토피아-(어트랙션)사파리월드   \n",
       "2     직접 VOC-모바일앱(APP)               인적서비스-응대태도-배려             분류불가-발생지정보없음   \n",
       "3     직접 VOC-모바일앱(APP)  규정 및 정책 -운영정책-연간이용 프로모션/혜택             분류불가-발생지정보없음   \n",
       "4          직접 VOC-QR코드             인적서비스-업무처리-응대스킬         주토피아-(공연/전시)판다월드   \n",
       "...                ...                         ...                      ...   \n",
       "2383       직접 VOC-QR코드         인적서비스-응대태도-표정/자세/말투  유러피언어드벤처-(어트랙션)로얄쥬빌리캐로셀   \n",
       "2384       직접 VOC-방문접수             인적서비스-업무처리-응대스킬            주토피아-(식당)가판매대   \n",
       "2385       직접 VOC-QR코드         인적서비스-응대태도-표정/자세/말투      아메리칸어드벤처-(어트랙션)허리케인   \n",
       "2386       직접 VOC-QR코드         인적서비스-응대태도-표정/자세/말투           주토피아-(상품점)아마존샵   \n",
       "2387  직접 VOC-모바일앱(APP)      규정 및 정책 -운영정책-비해피 프로그램             분류불가-발생지정보없음   \n",
       "\n",
       "      처리기한 - 시/분        처리기한 - 일시  ... 고객이 만족도 직접 회신여부  \\\n",
       "0           48.0  20240404 090000  ...             NaN   \n",
       "1           48.0  20240404 090000  ...             NaN   \n",
       "2           48.0  20240404 090000  ...             NaN   \n",
       "3           48.0  20240404 101011  ...             NaN   \n",
       "4           48.0  20240404 102101  ...             NaN   \n",
       "...          ...              ...  ...             ...   \n",
       "2383        48.0  20240504 090000  ...             NaN   \n",
       "2384        48.0  20240504 090000  ...             NaN   \n",
       "2385        48.0  20240504 090000  ...             NaN   \n",
       "2386        48.0  20240504 090000  ...             NaN   \n",
       "2387        48.0  20240504 090000  ...             NaN   \n",
       "\n",
       "     즉답처리 (I:등록, R:접수, N:일반)  \\\n",
       "0                          N   \n",
       "1                          N   \n",
       "2                          N   \n",
       "3                          N   \n",
       "4                          N   \n",
       "...                      ...   \n",
       "2383                       N   \n",
       "2384                     NaN   \n",
       "2385                       N   \n",
       "2386                       N   \n",
       "2387                       N   \n",
       "\n",
       "                                                   질문내용  \\\n",
       "0     애가 셋인 다둥이 엄마입니다. 입장권 예매를 하려하는데 패키지 예매도 어른1 아이1...   \n",
       "1     한국 호랑이,하이에나, 사자, 뱅갈 호랑이 곰 등 사파리에 있는 거의 모든 동물들의...   \n",
       "2     금일 가족과 함께 파크 입장 직후 풍선을 구매하러 방문했습니다.풍선끈이 아이 키보다...   \n",
       "3     I am Japanese. I wish foreigners could also ma...   \n",
       "4     푸바오 관람으로 인해 사람이 아주 많을때도방사장내 질서정리를 정말 잘해주셔서 감사와...   \n",
       "...                                                 ...   \n",
       "2383  ***  & *** cast생일을 맞아 가족들과 10년만에 에버랜드에 방문을 했습니...   \n",
       "2384  4/30(화) 로스트밸리 앞쪽에 01가판대에서 17:03 딸기 젤라또 구매후 영수증...   \n",
       "2385  당일 마지막으로 탔습니다. 마지막까지 텐션 높게 게스트 좋은 기억으로 채워줄 수 있...   \n",
       "2386  아마존샵 노*** 캐스터분이 너무 친절하시게 도와주셔서 글 남겨요.바쁘신 와중에도 ...   \n",
       "2387  작년 에버랜드 첫방문에서 폭우로 퍼레이드를 못보고 나와서 아쉬웠는데 재방문권을 보내...   \n",
       "\n",
       "                                                   답변내용 개선관리ID 개선관리상태 사후처리유형  \\\n",
       "0     안녕하세요 에버랜드 패키지 상품 담당자입니다.패키지 예매는 현재 2인 이상의 인원으...    NaN    NaN    NaN   \n",
       "1                           칭찬 사례 공유 및 해당 근무자 격려 하겠습니다.    NaN    NaN    NaN   \n",
       "2                            메일 및 이캐비넷 게시를 통한 사례공유 및 격려    NaN    NaN    NaN   \n",
       "3     Hello, I'm the person in charge of Everland's ...    NaN    NaN    NaN   \n",
       "4                                 해당 근무자 격려하겠습니다.고맙습니다.    NaN    NaN    NaN   \n",
       "...                                                 ...    ...    ...    ...   \n",
       "2383                         - VOC  내용 공유 및 해당캐스트 격려 실시    NaN    NaN    NaN   \n",
       "2384                                                NaN    NaN    NaN    NaN   \n",
       "2385                                해당 내용 공유 및 격려하겠습니다.    NaN    NaN    NaN   \n",
       "2386                         메일 및 이캐비넷 게시를 통한 사례공유 및 격려    NaN    NaN    NaN   \n",
       "2387  비 해피 프로그램 안내 게시물 및 이용권 쿠폰에 B, C 구간에 대해 좀 더 쉽게 ...    NaN    NaN    NaN   \n",
       "\n",
       "     처리시간(시:분) 준수 여부 유형변경신청  \n",
       "0         10:0    준수      N  \n",
       "1        14:50    준수      N  \n",
       "2         8:42    준수      N  \n",
       "3        50:43    준수      N  \n",
       "4        24:40    준수      N  \n",
       "...        ...   ...    ...  \n",
       "2383    108:26   미준수      N  \n",
       "2384     58:25    준수      N  \n",
       "2385     16:56    준수      N  \n",
       "2386     17:38    준수      N  \n",
       "2387     38:37    준수      N  \n",
       "\n",
       "[2388 rows x 30 columns]"
      ]
     },
     "execution_count": 5,
     "metadata": {},
     "output_type": "execute_result"
    }
   ],
   "source": [
    "df"
   ]
  },
  {
   "cell_type": "markdown",
   "id": "f74a7eee-f539-4606-b265-6a9c4992a192",
   "metadata": {},
   "source": [
    "### Bedrock 설정"
   ]
  },
  {
   "cell_type": "code",
   "execution_count": 6,
   "id": "43eb6553-b77a-4919-ac90-4c0ca4b8c386",
   "metadata": {
    "tags": []
   },
   "outputs": [],
   "source": [
    "bedrock_runtime = boto3.client(\n",
    "    service_name='bedrock-runtime',\n",
    "    region_name='us-east-1',  # 사용하는 리전에 맞게 변경\n",
    "    config=Config(\n",
    "        retries={'max_attempts': 3, 'mode': 'standard'}\n",
    "    )\n",
    ")"
   ]
  },
  {
   "cell_type": "markdown",
   "id": "95076da3-a9fd-4d7a-920f-680176bfc337",
   "metadata": {},
   "source": [
    "### 요약 함수 정의"
   ]
  },
  {
   "cell_type": "code",
   "execution_count": 7,
   "id": "fc0325a7-f84a-4456-b789-cc7d3d70fa9b",
   "metadata": {
    "tags": []
   },
   "outputs": [],
   "source": [
    "def summarize_text(text):\n",
    "    prompt = f\"\"\"다음 텍스트를 요약해주세요. 공통적인 내용들은 묶고, 하이라이트 위주로 요약해주세요:\n",
    "\n",
    "{text}\n",
    "\n",
    "요약:\"\"\"\n",
    "\n",
    "    response = bedrock_runtime.converse(\n",
    "        #modelId=\"us.anthropic.claude-3-5-sonnet-20240620-v1:0\",   ## Claude 3.5 Sonnet\n",
    "        modelId=\"us.anthropic.claude-3-haiku-20240307-v1:0\",    ## Claude 3 Haiku\n",
    "        messages=[\n",
    "            {\n",
    "                \"role\": \"user\",\n",
    "                \"content\": [{\"text\": prompt}]\n",
    "            }\n",
    "        ],\n",
    "        inferenceConfig={\n",
    "            \"maxTokens\": 4096,\n",
    "            \"temperature\": 0.7,\n",
    "            \"topP\": 1\n",
    "        }\n",
    "    )\n",
    "    \n",
    "    # 응답 구조에 따라 텍스트 추출\n",
    "    if 'output' in response and 'message' in response['output']:\n",
    "        return response['output']['message']['content'][0]['text']\n",
    "    else:\n",
    "        # 응답 구조가 예상과 다를 경우 전체 응답 반환\n",
    "        return str(response)"
   ]
  },
  {
   "cell_type": "markdown",
   "id": "83ec473b-9771-4d18-be29-6d72da12aa2c",
   "metadata": {},
   "source": [
    "### 데이터 요약 및 결과 저장 (약 2시간 소요)"
   ]
  },
  {
   "cell_type": "code",
   "execution_count": 8,
   "id": "6d1a6097-6874-4454-8482-367a485fee43",
   "metadata": {
    "tags": []
   },
   "outputs": [],
   "source": [
    "#df_summary = df['질문내용'].apply(summarize_text)"
   ]
  },
  {
   "cell_type": "code",
   "execution_count": 9,
   "id": "8605a83b-5c4f-4a0a-9712-8f7e35c0915d",
   "metadata": {
    "tags": []
   },
   "outputs": [
    {
     "name": "stderr",
     "output_type": "stream",
     "text": [
      "요약 진행 중:   0%|          | 0/2388 [00:00<?, ?it/s]"
     ]
    },
    {
     "name": "stdout",
     "output_type": "stream",
     "text": [
      "1/2388 행 요약 완료\n"
     ]
    },
    {
     "name": "stderr",
     "output_type": "stream",
     "text": [
      "요약 진행 중:   0%|          | 1/2388 [00:02<1:57:36,  2.96s/it]"
     ]
    },
    {
     "name": "stdout",
     "output_type": "stream",
     "text": [
      "2/2388 행 요약 완료\n"
     ]
    },
    {
     "name": "stderr",
     "output_type": "stream",
     "text": [
      "요약 진행 중:   0%|          | 2/2388 [00:07<2:25:25,  3.66s/it]"
     ]
    },
    {
     "name": "stdout",
     "output_type": "stream",
     "text": [
      "3/2388 행 요약 완료\n"
     ]
    },
    {
     "name": "stderr",
     "output_type": "stream",
     "text": [
      "요약 진행 중:   0%|          | 3/2388 [00:10<2:27:48,  3.72s/it]"
     ]
    },
    {
     "name": "stdout",
     "output_type": "stream",
     "text": [
      "4/2388 행 요약 완료\n"
     ]
    },
    {
     "name": "stderr",
     "output_type": "stream",
     "text": [
      "요약 진행 중:   0%|          | 4/2388 [00:12<1:52:21,  2.83s/it]"
     ]
    },
    {
     "name": "stdout",
     "output_type": "stream",
     "text": [
      "5/2388 행 요약 완료\n"
     ]
    },
    {
     "name": "stderr",
     "output_type": "stream",
     "text": [
      "요약 진행 중:   0%|          | 5/2388 [00:16<2:12:58,  3.35s/it]"
     ]
    },
    {
     "name": "stdout",
     "output_type": "stream",
     "text": [
      "6/2388 행 요약 완료\n"
     ]
    },
    {
     "name": "stderr",
     "output_type": "stream",
     "text": [
      "요약 진행 중:   0%|          | 6/2388 [00:20<2:16:03,  3.43s/it]"
     ]
    },
    {
     "name": "stdout",
     "output_type": "stream",
     "text": [
      "7/2388 행 요약 완료\n"
     ]
    },
    {
     "name": "stderr",
     "output_type": "stream",
     "text": [
      "요약 진행 중:   0%|          | 7/2388 [00:25<2:37:20,  3.96s/it]"
     ]
    },
    {
     "name": "stdout",
     "output_type": "stream",
     "text": [
      "8/2388 행 요약 완료\n"
     ]
    },
    {
     "name": "stderr",
     "output_type": "stream",
     "text": [
      "요약 진행 중:   0%|          | 8/2388 [00:26<2:07:25,  3.21s/it]"
     ]
    },
    {
     "name": "stdout",
     "output_type": "stream",
     "text": [
      "9/2388 행 요약 완료\n"
     ]
    },
    {
     "name": "stderr",
     "output_type": "stream",
     "text": [
      "요약 진행 중:   0%|          | 9/2388 [00:30<2:07:21,  3.21s/it]"
     ]
    },
    {
     "name": "stdout",
     "output_type": "stream",
     "text": [
      "10/2388 행 요약 완료\n"
     ]
    },
    {
     "name": "stderr",
     "output_type": "stream",
     "text": [
      "요약 진행 중:   0%|          | 10/2388 [00:33<2:14:01,  3.38s/it]"
     ]
    },
    {
     "name": "stdout",
     "output_type": "stream",
     "text": [
      "11/2388 행 요약 완료\n"
     ]
    },
    {
     "name": "stderr",
     "output_type": "stream",
     "text": [
      "요약 진행 중:   0%|          | 11/2388 [00:35<1:47:30,  2.71s/it]"
     ]
    },
    {
     "name": "stdout",
     "output_type": "stream",
     "text": [
      "12/2388 행 요약 완료\n"
     ]
    },
    {
     "name": "stderr",
     "output_type": "stream",
     "text": [
      "요약 진행 중:   1%|          | 12/2388 [00:36<1:32:27,  2.33s/it]"
     ]
    },
    {
     "name": "stdout",
     "output_type": "stream",
     "text": [
      "13/2388 행 요약 완료\n"
     ]
    },
    {
     "name": "stderr",
     "output_type": "stream",
     "text": [
      "요약 진행 중:   1%|          | 13/2388 [00:40<1:48:39,  2.75s/it]"
     ]
    },
    {
     "name": "stdout",
     "output_type": "stream",
     "text": [
      "14/2388 행 요약 완료\n"
     ]
    },
    {
     "name": "stderr",
     "output_type": "stream",
     "text": [
      "요약 진행 중:   1%|          | 14/2388 [00:43<1:56:27,  2.94s/it]"
     ]
    },
    {
     "name": "stdout",
     "output_type": "stream",
     "text": [
      "15/2388 행 요약 완료\n"
     ]
    },
    {
     "name": "stderr",
     "output_type": "stream",
     "text": [
      "요약 진행 중:   1%|          | 15/2388 [00:45<1:43:42,  2.62s/it]"
     ]
    },
    {
     "name": "stdout",
     "output_type": "stream",
     "text": [
      "16/2388 행 요약 완료\n"
     ]
    },
    {
     "name": "stderr",
     "output_type": "stream",
     "text": [
      "요약 진행 중:   1%|          | 16/2388 [00:47<1:41:00,  2.55s/it]"
     ]
    },
    {
     "name": "stdout",
     "output_type": "stream",
     "text": [
      "17/2388 행 요약 완료\n"
     ]
    },
    {
     "name": "stderr",
     "output_type": "stream",
     "text": [
      "요약 진행 중:   1%|          | 17/2388 [00:53<2:18:20,  3.50s/it]"
     ]
    },
    {
     "name": "stdout",
     "output_type": "stream",
     "text": [
      "18/2388 행 요약 완료\n"
     ]
    },
    {
     "name": "stderr",
     "output_type": "stream",
     "text": [
      "요약 진행 중:   1%|          | 18/2388 [00:54<1:51:27,  2.82s/it]"
     ]
    },
    {
     "name": "stdout",
     "output_type": "stream",
     "text": [
      "19/2388 행 요약 완료\n"
     ]
    },
    {
     "name": "stderr",
     "output_type": "stream",
     "text": [
      "요약 진행 중:   1%|          | 19/2388 [00:58<1:57:44,  2.98s/it]"
     ]
    },
    {
     "name": "stdout",
     "output_type": "stream",
     "text": [
      "20/2388 행 요약 완료\n"
     ]
    },
    {
     "name": "stderr",
     "output_type": "stream",
     "text": [
      "요약 진행 중:   1%|          | 20/2388 [01:00<1:48:50,  2.76s/it]"
     ]
    },
    {
     "name": "stdout",
     "output_type": "stream",
     "text": [
      "21/2388 행 요약 완료\n"
     ]
    },
    {
     "name": "stderr",
     "output_type": "stream",
     "text": [
      "요약 진행 중:   1%|          | 21/2388 [01:01<1:31:01,  2.31s/it]"
     ]
    },
    {
     "name": "stdout",
     "output_type": "stream",
     "text": [
      "22/2388 행 요약 완료\n"
     ]
    },
    {
     "name": "stderr",
     "output_type": "stream",
     "text": [
      "요약 진행 중:   1%|          | 22/2388 [01:03<1:20:46,  2.05s/it]"
     ]
    },
    {
     "name": "stdout",
     "output_type": "stream",
     "text": [
      "23/2388 행 요약 완료\n"
     ]
    },
    {
     "name": "stderr",
     "output_type": "stream",
     "text": [
      "요약 진행 중:   1%|          | 23/2388 [01:05<1:19:21,  2.01s/it]"
     ]
    },
    {
     "name": "stdout",
     "output_type": "stream",
     "text": [
      "24/2388 행 요약 완료\n"
     ]
    },
    {
     "name": "stderr",
     "output_type": "stream",
     "text": [
      "요약 진행 중:   1%|          | 24/2388 [01:06<1:13:11,  1.86s/it]"
     ]
    },
    {
     "name": "stdout",
     "output_type": "stream",
     "text": [
      "25/2388 행 요약 완료\n"
     ]
    },
    {
     "name": "stderr",
     "output_type": "stream",
     "text": [
      "요약 진행 중:   1%|          | 25/2388 [01:10<1:40:09,  2.54s/it]"
     ]
    },
    {
     "name": "stdout",
     "output_type": "stream",
     "text": [
      "26/2388 행 요약 완료\n"
     ]
    },
    {
     "name": "stderr",
     "output_type": "stream",
     "text": [
      "요약 진행 중:   1%|          | 26/2388 [01:12<1:32:07,  2.34s/it]"
     ]
    },
    {
     "name": "stdout",
     "output_type": "stream",
     "text": [
      "27/2388 행 요약 완료\n"
     ]
    },
    {
     "name": "stderr",
     "output_type": "stream",
     "text": [
      "요약 진행 중:   1%|          | 27/2388 [01:14<1:31:05,  2.31s/it]"
     ]
    },
    {
     "name": "stdout",
     "output_type": "stream",
     "text": [
      "28/2388 행 요약 완료\n"
     ]
    },
    {
     "name": "stderr",
     "output_type": "stream",
     "text": [
      "요약 진행 중:   1%|          | 28/2388 [01:18<1:50:36,  2.81s/it]"
     ]
    },
    {
     "name": "stdout",
     "output_type": "stream",
     "text": [
      "29/2388 행 요약 완료\n"
     ]
    },
    {
     "name": "stderr",
     "output_type": "stream",
     "text": [
      "요약 진행 중:   1%|          | 29/2388 [01:23<2:08:01,  3.26s/it]"
     ]
    },
    {
     "name": "stdout",
     "output_type": "stream",
     "text": [
      "30/2388 행 요약 완료\n"
     ]
    },
    {
     "name": "stderr",
     "output_type": "stream",
     "text": [
      "요약 진행 중:   1%|▏         | 30/2388 [01:24<1:48:23,  2.76s/it]"
     ]
    },
    {
     "name": "stdout",
     "output_type": "stream",
     "text": [
      "31/2388 행 요약 완료\n"
     ]
    },
    {
     "name": "stderr",
     "output_type": "stream",
     "text": [
      "요약 진행 중:   1%|▏         | 31/2388 [01:26<1:38:27,  2.51s/it]"
     ]
    },
    {
     "name": "stdout",
     "output_type": "stream",
     "text": [
      "32/2388 행 요약 완료\n"
     ]
    },
    {
     "name": "stderr",
     "output_type": "stream",
     "text": [
      "요약 진행 중:   1%|▏         | 32/2388 [01:29<1:48:06,  2.75s/it]"
     ]
    },
    {
     "name": "stdout",
     "output_type": "stream",
     "text": [
      "33/2388 행 요약 완료\n"
     ]
    },
    {
     "name": "stderr",
     "output_type": "stream",
     "text": [
      "요약 진행 중:   1%|▏         | 33/2388 [01:31<1:32:09,  2.35s/it]"
     ]
    },
    {
     "name": "stdout",
     "output_type": "stream",
     "text": [
      "34/2388 행 요약 완료\n"
     ]
    },
    {
     "name": "stderr",
     "output_type": "stream",
     "text": [
      "요약 진행 중:   1%|▏         | 34/2388 [01:34<1:37:55,  2.50s/it]"
     ]
    },
    {
     "name": "stdout",
     "output_type": "stream",
     "text": [
      "35/2388 행 요약 완료\n"
     ]
    },
    {
     "name": "stderr",
     "output_type": "stream",
     "text": [
      "요약 진행 중:   1%|▏         | 35/2388 [01:35<1:23:36,  2.13s/it]"
     ]
    },
    {
     "name": "stdout",
     "output_type": "stream",
     "text": [
      "36/2388 행 요약 완료\n"
     ]
    },
    {
     "name": "stderr",
     "output_type": "stream",
     "text": [
      "요약 진행 중:   2%|▏         | 36/2388 [01:36<1:16:42,  1.96s/it]"
     ]
    },
    {
     "name": "stdout",
     "output_type": "stream",
     "text": [
      "37/2388 행 요약 완료\n"
     ]
    },
    {
     "name": "stderr",
     "output_type": "stream",
     "text": [
      "요약 진행 중:   2%|▏         | 37/2388 [01:40<1:37:51,  2.50s/it]"
     ]
    },
    {
     "name": "stdout",
     "output_type": "stream",
     "text": [
      "38/2388 행 요약 완료\n"
     ]
    },
    {
     "name": "stderr",
     "output_type": "stream",
     "text": [
      "요약 진행 중:   2%|▏         | 38/2388 [01:44<1:51:38,  2.85s/it]"
     ]
    },
    {
     "name": "stdout",
     "output_type": "stream",
     "text": [
      "39/2388 행 요약 완료\n"
     ]
    },
    {
     "name": "stderr",
     "output_type": "stream",
     "text": [
      "요약 진행 중:   2%|▏         | 39/2388 [01:45<1:35:17,  2.43s/it]"
     ]
    },
    {
     "name": "stdout",
     "output_type": "stream",
     "text": [
      "40/2388 행 요약 완료\n"
     ]
    },
    {
     "name": "stderr",
     "output_type": "stream",
     "text": [
      "요약 진행 중:   2%|▏         | 40/2388 [01:47<1:25:26,  2.18s/it]"
     ]
    },
    {
     "name": "stdout",
     "output_type": "stream",
     "text": [
      "41/2388 행 요약 완료\n"
     ]
    },
    {
     "name": "stderr",
     "output_type": "stream",
     "text": [
      "요약 진행 중:   2%|▏         | 41/2388 [01:50<1:29:19,  2.28s/it]"
     ]
    },
    {
     "name": "stdout",
     "output_type": "stream",
     "text": [
      "42/2388 행 요약 완료\n"
     ]
    },
    {
     "name": "stderr",
     "output_type": "stream",
     "text": [
      "요약 진행 중:   2%|▏         | 42/2388 [01:54<1:54:22,  2.93s/it]"
     ]
    },
    {
     "name": "stdout",
     "output_type": "stream",
     "text": [
      "43/2388 행 요약 완료\n"
     ]
    },
    {
     "name": "stderr",
     "output_type": "stream",
     "text": [
      "요약 진행 중:   2%|▏         | 43/2388 [01:56<1:44:10,  2.67s/it]"
     ]
    },
    {
     "name": "stdout",
     "output_type": "stream",
     "text": [
      "44/2388 행 요약 완료\n"
     ]
    },
    {
     "name": "stderr",
     "output_type": "stream",
     "text": [
      "요약 진행 중:   2%|▏         | 44/2388 [01:57<1:25:41,  2.19s/it]"
     ]
    },
    {
     "name": "stdout",
     "output_type": "stream",
     "text": [
      "45/2388 행 요약 완료\n"
     ]
    },
    {
     "name": "stderr",
     "output_type": "stream",
     "text": [
      "요약 진행 중:   2%|▏         | 45/2388 [01:59<1:19:07,  2.03s/it]"
     ]
    },
    {
     "name": "stdout",
     "output_type": "stream",
     "text": [
      "46/2388 행 요약 완료\n"
     ]
    },
    {
     "name": "stderr",
     "output_type": "stream",
     "text": [
      "요약 진행 중:   2%|▏         | 46/2388 [02:02<1:31:37,  2.35s/it]"
     ]
    },
    {
     "name": "stdout",
     "output_type": "stream",
     "text": [
      "47/2388 행 요약 완료\n"
     ]
    },
    {
     "name": "stderr",
     "output_type": "stream",
     "text": [
      "요약 진행 중:   2%|▏         | 47/2388 [02:03<1:18:33,  2.01s/it]"
     ]
    },
    {
     "name": "stdout",
     "output_type": "stream",
     "text": [
      "48/2388 행 요약 완료\n"
     ]
    },
    {
     "name": "stderr",
     "output_type": "stream",
     "text": [
      "요약 진행 중:   2%|▏         | 48/2388 [02:05<1:20:05,  2.05s/it]"
     ]
    },
    {
     "name": "stdout",
     "output_type": "stream",
     "text": [
      "49/2388 행 요약 완료\n"
     ]
    },
    {
     "name": "stderr",
     "output_type": "stream",
     "text": [
      "요약 진행 중:   2%|▏         | 49/2388 [02:07<1:11:24,  1.83s/it]"
     ]
    },
    {
     "name": "stdout",
     "output_type": "stream",
     "text": [
      "50/2388 행 요약 완료\n"
     ]
    },
    {
     "name": "stderr",
     "output_type": "stream",
     "text": [
      "요약 진행 중:   2%|▏         | 50/2388 [02:09<1:16:28,  1.96s/it]"
     ]
    },
    {
     "name": "stdout",
     "output_type": "stream",
     "text": [
      "51/2388 행 요약 완료\n"
     ]
    },
    {
     "name": "stderr",
     "output_type": "stream",
     "text": [
      "요약 진행 중:   2%|▏         | 51/2388 [02:11<1:21:06,  2.08s/it]"
     ]
    },
    {
     "name": "stdout",
     "output_type": "stream",
     "text": [
      "52/2388 행 요약 완료\n"
     ]
    },
    {
     "name": "stderr",
     "output_type": "stream",
     "text": [
      "요약 진행 중:   2%|▏         | 52/2388 [02:13<1:20:29,  2.07s/it]"
     ]
    },
    {
     "name": "stdout",
     "output_type": "stream",
     "text": [
      "53/2388 행 요약 완료\n"
     ]
    },
    {
     "name": "stderr",
     "output_type": "stream",
     "text": [
      "요약 진행 중:   2%|▏         | 53/2388 [02:16<1:32:48,  2.38s/it]"
     ]
    },
    {
     "name": "stdout",
     "output_type": "stream",
     "text": [
      "54/2388 행 요약 완료\n"
     ]
    },
    {
     "name": "stderr",
     "output_type": "stream",
     "text": [
      "요약 진행 중:   2%|▏         | 54/2388 [02:19<1:32:00,  2.37s/it]"
     ]
    },
    {
     "name": "stdout",
     "output_type": "stream",
     "text": [
      "55/2388 행 요약 완료\n"
     ]
    },
    {
     "name": "stderr",
     "output_type": "stream",
     "text": [
      "요약 진행 중:   2%|▏         | 55/2388 [02:20<1:22:37,  2.12s/it]"
     ]
    },
    {
     "name": "stdout",
     "output_type": "stream",
     "text": [
      "56/2388 행 요약 완료\n"
     ]
    },
    {
     "name": "stderr",
     "output_type": "stream",
     "text": [
      "요약 진행 중:   2%|▏         | 56/2388 [02:22<1:16:49,  1.98s/it]"
     ]
    },
    {
     "name": "stdout",
     "output_type": "stream",
     "text": [
      "57/2388 행 요약 완료\n"
     ]
    },
    {
     "name": "stderr",
     "output_type": "stream",
     "text": [
      "요약 진행 중:   2%|▏         | 57/2388 [02:24<1:16:29,  1.97s/it]"
     ]
    },
    {
     "name": "stdout",
     "output_type": "stream",
     "text": [
      "58/2388 행 요약 완료\n"
     ]
    },
    {
     "name": "stderr",
     "output_type": "stream",
     "text": [
      "요약 진행 중:   2%|▏         | 58/2388 [02:27<1:30:55,  2.34s/it]"
     ]
    },
    {
     "name": "stdout",
     "output_type": "stream",
     "text": [
      "59/2388 행 요약 완료\n"
     ]
    },
    {
     "name": "stderr",
     "output_type": "stream",
     "text": [
      "요약 진행 중:   2%|▏         | 59/2388 [02:28<1:17:14,  1.99s/it]"
     ]
    },
    {
     "name": "stdout",
     "output_type": "stream",
     "text": [
      "60/2388 행 요약 완료\n"
     ]
    },
    {
     "name": "stderr",
     "output_type": "stream",
     "text": [
      "요약 진행 중:   3%|▎         | 60/2388 [02:32<1:37:44,  2.52s/it]"
     ]
    },
    {
     "name": "stdout",
     "output_type": "stream",
     "text": [
      "61/2388 행 요약 완료\n"
     ]
    },
    {
     "name": "stderr",
     "output_type": "stream",
     "text": [
      "요약 진행 중:   3%|▎         | 61/2388 [02:35<1:46:32,  2.75s/it]"
     ]
    },
    {
     "name": "stdout",
     "output_type": "stream",
     "text": [
      "62/2388 행 요약 완료\n"
     ]
    },
    {
     "name": "stderr",
     "output_type": "stream",
     "text": [
      "요약 진행 중:   3%|▎         | 62/2388 [02:36<1:29:02,  2.30s/it]"
     ]
    },
    {
     "name": "stdout",
     "output_type": "stream",
     "text": [
      "63/2388 행 요약 완료\n"
     ]
    },
    {
     "name": "stderr",
     "output_type": "stream",
     "text": [
      "요약 진행 중:   3%|▎         | 63/2388 [02:38<1:23:16,  2.15s/it]"
     ]
    },
    {
     "name": "stdout",
     "output_type": "stream",
     "text": [
      "64/2388 행 요약 완료\n"
     ]
    },
    {
     "name": "stderr",
     "output_type": "stream",
     "text": [
      "요약 진행 중:   3%|▎         | 64/2388 [02:40<1:19:54,  2.06s/it]"
     ]
    },
    {
     "name": "stdout",
     "output_type": "stream",
     "text": [
      "65/2388 행 요약 완료\n"
     ]
    },
    {
     "name": "stderr",
     "output_type": "stream",
     "text": [
      "요약 진행 중:   3%|▎         | 65/2388 [02:43<1:25:56,  2.22s/it]"
     ]
    },
    {
     "name": "stdout",
     "output_type": "stream",
     "text": [
      "66/2388 행 요약 완료\n"
     ]
    },
    {
     "name": "stderr",
     "output_type": "stream",
     "text": [
      "요약 진행 중:   3%|▎         | 66/2388 [02:46<1:33:26,  2.41s/it]"
     ]
    },
    {
     "name": "stdout",
     "output_type": "stream",
     "text": [
      "67/2388 행 요약 완료\n"
     ]
    },
    {
     "name": "stderr",
     "output_type": "stream",
     "text": [
      "요약 진행 중:   3%|▎         | 67/2388 [02:47<1:21:16,  2.10s/it]"
     ]
    },
    {
     "name": "stdout",
     "output_type": "stream",
     "text": [
      "68/2388 행 요약 완료\n"
     ]
    },
    {
     "name": "stderr",
     "output_type": "stream",
     "text": [
      "요약 진행 중:   3%|▎         | 68/2388 [02:50<1:32:44,  2.40s/it]"
     ]
    },
    {
     "name": "stdout",
     "output_type": "stream",
     "text": [
      "69/2388 행 요약 완료\n"
     ]
    },
    {
     "name": "stderr",
     "output_type": "stream",
     "text": [
      "요약 진행 중:   3%|▎         | 69/2388 [02:52<1:23:32,  2.16s/it]"
     ]
    },
    {
     "name": "stdout",
     "output_type": "stream",
     "text": [
      "70/2388 행 요약 완료\n"
     ]
    },
    {
     "name": "stderr",
     "output_type": "stream",
     "text": [
      "요약 진행 중:   3%|▎         | 70/2388 [02:55<1:33:03,  2.41s/it]"
     ]
    },
    {
     "name": "stdout",
     "output_type": "stream",
     "text": [
      "71/2388 행 요약 완료\n"
     ]
    },
    {
     "name": "stderr",
     "output_type": "stream",
     "text": [
      "요약 진행 중:   3%|▎         | 71/2388 [02:58<1:44:25,  2.70s/it]"
     ]
    },
    {
     "name": "stdout",
     "output_type": "stream",
     "text": [
      "72/2388 행 요약 완료\n"
     ]
    },
    {
     "name": "stderr",
     "output_type": "stream",
     "text": [
      "요약 진행 중:   3%|▎         | 72/2388 [03:00<1:31:07,  2.36s/it]"
     ]
    },
    {
     "name": "stdout",
     "output_type": "stream",
     "text": [
      "73/2388 행 요약 완료\n"
     ]
    },
    {
     "name": "stderr",
     "output_type": "stream",
     "text": [
      "요약 진행 중:   3%|▎         | 73/2388 [03:03<1:44:59,  2.72s/it]"
     ]
    },
    {
     "name": "stdout",
     "output_type": "stream",
     "text": [
      "74/2388 행 요약 완료\n"
     ]
    },
    {
     "name": "stderr",
     "output_type": "stream",
     "text": [
      "요약 진행 중:   3%|▎         | 74/2388 [03:06<1:44:38,  2.71s/it]"
     ]
    },
    {
     "name": "stdout",
     "output_type": "stream",
     "text": [
      "75/2388 행 요약 완료\n"
     ]
    },
    {
     "name": "stderr",
     "output_type": "stream",
     "text": [
      "요약 진행 중:   3%|▎         | 75/2388 [03:09<1:47:25,  2.79s/it]"
     ]
    },
    {
     "name": "stdout",
     "output_type": "stream",
     "text": [
      "76/2388 행 요약 완료\n"
     ]
    },
    {
     "name": "stderr",
     "output_type": "stream",
     "text": [
      "요약 진행 중:   3%|▎         | 76/2388 [03:11<1:41:28,  2.63s/it]"
     ]
    },
    {
     "name": "stdout",
     "output_type": "stream",
     "text": [
      "77/2388 행 요약 완료\n"
     ]
    },
    {
     "name": "stderr",
     "output_type": "stream",
     "text": [
      "요약 진행 중:   3%|▎         | 77/2388 [03:15<1:55:36,  3.00s/it]"
     ]
    },
    {
     "name": "stdout",
     "output_type": "stream",
     "text": [
      "78/2388 행 요약 완료\n"
     ]
    },
    {
     "name": "stderr",
     "output_type": "stream",
     "text": [
      "요약 진행 중:   3%|▎         | 78/2388 [03:17<1:47:45,  2.80s/it]"
     ]
    },
    {
     "name": "stdout",
     "output_type": "stream",
     "text": [
      "79/2388 행 요약 완료\n"
     ]
    },
    {
     "name": "stderr",
     "output_type": "stream",
     "text": [
      "요약 진행 중:   3%|▎         | 79/2388 [03:20<1:47:43,  2.80s/it]"
     ]
    },
    {
     "name": "stdout",
     "output_type": "stream",
     "text": [
      "80/2388 행 요약 완료\n"
     ]
    },
    {
     "name": "stderr",
     "output_type": "stream",
     "text": [
      "요약 진행 중:   3%|▎         | 80/2388 [03:23<1:47:42,  2.80s/it]"
     ]
    },
    {
     "name": "stdout",
     "output_type": "stream",
     "text": [
      "81/2388 행 요약 완료\n"
     ]
    },
    {
     "name": "stderr",
     "output_type": "stream",
     "text": [
      "요약 진행 중:   3%|▎         | 81/2388 [03:25<1:41:16,  2.63s/it]"
     ]
    },
    {
     "name": "stdout",
     "output_type": "stream",
     "text": [
      "82/2388 행 요약 완료\n"
     ]
    },
    {
     "name": "stderr",
     "output_type": "stream",
     "text": [
      "요약 진행 중:   3%|▎         | 82/2388 [03:28<1:47:08,  2.79s/it]"
     ]
    },
    {
     "name": "stdout",
     "output_type": "stream",
     "text": [
      "83/2388 행 요약 완료\n"
     ]
    },
    {
     "name": "stderr",
     "output_type": "stream",
     "text": [
      "요약 진행 중:   3%|▎         | 83/2388 [03:30<1:35:06,  2.48s/it]"
     ]
    },
    {
     "name": "stdout",
     "output_type": "stream",
     "text": [
      "84/2388 행 요약 완료\n"
     ]
    },
    {
     "name": "stderr",
     "output_type": "stream",
     "text": [
      "요약 진행 중:   4%|▎         | 84/2388 [03:32<1:33:56,  2.45s/it]"
     ]
    },
    {
     "name": "stdout",
     "output_type": "stream",
     "text": [
      "85/2388 행 요약 완료\n"
     ]
    },
    {
     "name": "stderr",
     "output_type": "stream",
     "text": [
      "요약 진행 중:   4%|▎         | 85/2388 [03:33<1:18:50,  2.05s/it]"
     ]
    },
    {
     "name": "stdout",
     "output_type": "stream",
     "text": [
      "86/2388 행 요약 완료\n"
     ]
    },
    {
     "name": "stderr",
     "output_type": "stream",
     "text": [
      "요약 진행 중:   4%|▎         | 86/2388 [03:37<1:29:55,  2.34s/it]"
     ]
    },
    {
     "name": "stdout",
     "output_type": "stream",
     "text": [
      "87/2388 행 요약 완료\n"
     ]
    },
    {
     "name": "stderr",
     "output_type": "stream",
     "text": [
      "요약 진행 중:   4%|▎         | 87/2388 [03:38<1:24:56,  2.21s/it]"
     ]
    },
    {
     "name": "stdout",
     "output_type": "stream",
     "text": [
      "88/2388 행 요약 완료\n"
     ]
    },
    {
     "name": "stderr",
     "output_type": "stream",
     "text": [
      "요약 진행 중:   4%|▎         | 88/2388 [03:40<1:13:20,  1.91s/it]"
     ]
    },
    {
     "name": "stdout",
     "output_type": "stream",
     "text": [
      "89/2388 행 요약 완료\n"
     ]
    },
    {
     "name": "stderr",
     "output_type": "stream",
     "text": [
      "요약 진행 중:   4%|▎         | 89/2388 [03:41<1:03:51,  1.67s/it]"
     ]
    },
    {
     "name": "stdout",
     "output_type": "stream",
     "text": [
      "90/2388 행 요약 완료\n"
     ]
    },
    {
     "name": "stderr",
     "output_type": "stream",
     "text": [
      "요약 진행 중:   4%|▍         | 90/2388 [03:43<1:13:09,  1.91s/it]"
     ]
    },
    {
     "name": "stdout",
     "output_type": "stream",
     "text": [
      "91/2388 행 요약 완료\n"
     ]
    },
    {
     "name": "stderr",
     "output_type": "stream",
     "text": [
      "요약 진행 중:   4%|▍         | 91/2388 [03:45<1:13:44,  1.93s/it]"
     ]
    },
    {
     "name": "stdout",
     "output_type": "stream",
     "text": [
      "92/2388 행 요약 완료\n"
     ]
    },
    {
     "name": "stderr",
     "output_type": "stream",
     "text": [
      "요약 진행 중:   4%|▍         | 92/2388 [03:48<1:22:52,  2.17s/it]"
     ]
    },
    {
     "name": "stdout",
     "output_type": "stream",
     "text": [
      "93/2388 행 요약 완료\n"
     ]
    },
    {
     "name": "stderr",
     "output_type": "stream",
     "text": [
      "요약 진행 중:   4%|▍         | 93/2388 [03:49<1:14:53,  1.96s/it]"
     ]
    },
    {
     "name": "stdout",
     "output_type": "stream",
     "text": [
      "94/2388 행 요약 완료\n"
     ]
    },
    {
     "name": "stderr",
     "output_type": "stream",
     "text": [
      "요약 진행 중:   4%|▍         | 94/2388 [03:51<1:16:12,  1.99s/it]"
     ]
    },
    {
     "name": "stdout",
     "output_type": "stream",
     "text": [
      "95/2388 행 요약 완료\n"
     ]
    },
    {
     "name": "stderr",
     "output_type": "stream",
     "text": [
      "요약 진행 중:   4%|▍         | 95/2388 [03:53<1:07:13,  1.76s/it]"
     ]
    },
    {
     "name": "stdout",
     "output_type": "stream",
     "text": [
      "96/2388 행 요약 완료\n"
     ]
    },
    {
     "name": "stderr",
     "output_type": "stream",
     "text": [
      "요약 진행 중:   4%|▍         | 96/2388 [03:56<1:22:24,  2.16s/it]"
     ]
    },
    {
     "name": "stdout",
     "output_type": "stream",
     "text": [
      "97/2388 행 요약 완료\n"
     ]
    },
    {
     "name": "stderr",
     "output_type": "stream",
     "text": [
      "요약 진행 중:   4%|▍         | 97/2388 [03:58<1:19:57,  2.09s/it]"
     ]
    },
    {
     "name": "stdout",
     "output_type": "stream",
     "text": [
      "98/2388 행 요약 완료\n"
     ]
    },
    {
     "name": "stderr",
     "output_type": "stream",
     "text": [
      "요약 진행 중:   4%|▍         | 98/2388 [03:59<1:09:19,  1.82s/it]"
     ]
    },
    {
     "name": "stdout",
     "output_type": "stream",
     "text": [
      "99/2388 행 요약 완료\n"
     ]
    },
    {
     "name": "stderr",
     "output_type": "stream",
     "text": [
      "요약 진행 중:   4%|▍         | 99/2388 [04:00<1:07:12,  1.76s/it]"
     ]
    },
    {
     "name": "stdout",
     "output_type": "stream",
     "text": [
      "100/2388 행 요약 완료\n"
     ]
    },
    {
     "name": "stderr",
     "output_type": "stream",
     "text": [
      "요약 진행 중:   4%|▍         | 100/2388 [04:04<1:27:25,  2.29s/it]"
     ]
    },
    {
     "name": "stdout",
     "output_type": "stream",
     "text": [
      "101/2388 행 요약 완료\n"
     ]
    },
    {
     "name": "stderr",
     "output_type": "stream",
     "text": [
      "요약 진행 중:   4%|▍         | 101/2388 [04:08<1:47:17,  2.82s/it]"
     ]
    },
    {
     "name": "stdout",
     "output_type": "stream",
     "text": [
      "102/2388 행 요약 완료\n"
     ]
    },
    {
     "name": "stderr",
     "output_type": "stream",
     "text": [
      "요약 진행 중:   4%|▍         | 102/2388 [04:13<2:10:40,  3.43s/it]"
     ]
    },
    {
     "name": "stdout",
     "output_type": "stream",
     "text": [
      "103/2388 행 요약 완료\n"
     ]
    },
    {
     "name": "stderr",
     "output_type": "stream",
     "text": [
      "요약 진행 중:   4%|▍         | 103/2388 [04:16<2:04:00,  3.26s/it]"
     ]
    },
    {
     "name": "stdout",
     "output_type": "stream",
     "text": [
      "104/2388 행 요약 완료\n"
     ]
    },
    {
     "name": "stderr",
     "output_type": "stream",
     "text": [
      "요약 진행 중:   4%|▍         | 104/2388 [04:19<2:02:47,  3.23s/it]"
     ]
    },
    {
     "name": "stdout",
     "output_type": "stream",
     "text": [
      "105/2388 행 요약 완료\n"
     ]
    },
    {
     "name": "stderr",
     "output_type": "stream",
     "text": [
      "요약 진행 중:   4%|▍         | 105/2388 [04:21<1:44:48,  2.75s/it]"
     ]
    },
    {
     "name": "stdout",
     "output_type": "stream",
     "text": [
      "106/2388 행 요약 완료\n"
     ]
    },
    {
     "name": "stderr",
     "output_type": "stream",
     "text": [
      "요약 진행 중:   4%|▍         | 106/2388 [04:24<1:46:58,  2.81s/it]"
     ]
    },
    {
     "name": "stdout",
     "output_type": "stream",
     "text": [
      "107/2388 행 요약 완료\n"
     ]
    },
    {
     "name": "stderr",
     "output_type": "stream",
     "text": [
      "요약 진행 중:   4%|▍         | 107/2388 [04:26<1:39:44,  2.62s/it]"
     ]
    },
    {
     "name": "stdout",
     "output_type": "stream",
     "text": [
      "108/2388 행 요약 완료\n"
     ]
    },
    {
     "name": "stderr",
     "output_type": "stream",
     "text": [
      "요약 진행 중:   5%|▍         | 108/2388 [04:27<1:30:13,  2.37s/it]"
     ]
    },
    {
     "name": "stdout",
     "output_type": "stream",
     "text": [
      "109/2388 행 요약 완료\n"
     ]
    },
    {
     "name": "stderr",
     "output_type": "stream",
     "text": [
      "요약 진행 중:   5%|▍         | 109/2388 [04:29<1:17:55,  2.05s/it]"
     ]
    },
    {
     "name": "stdout",
     "output_type": "stream",
     "text": [
      "110/2388 행 요약 완료\n"
     ]
    },
    {
     "name": "stderr",
     "output_type": "stream",
     "text": [
      "요약 진행 중:   5%|▍         | 110/2388 [04:30<1:09:54,  1.84s/it]"
     ]
    },
    {
     "name": "stdout",
     "output_type": "stream",
     "text": [
      "111/2388 행 요약 완료\n"
     ]
    },
    {
     "name": "stderr",
     "output_type": "stream",
     "text": [
      "요약 진행 중:   5%|▍         | 111/2388 [04:32<1:15:34,  1.99s/it]"
     ]
    },
    {
     "name": "stdout",
     "output_type": "stream",
     "text": [
      "112/2388 행 요약 완료\n"
     ]
    },
    {
     "name": "stderr",
     "output_type": "stream",
     "text": [
      "요약 진행 중:   5%|▍         | 112/2388 [04:35<1:21:52,  2.16s/it]"
     ]
    },
    {
     "name": "stdout",
     "output_type": "stream",
     "text": [
      "113/2388 행 요약 완료\n"
     ]
    },
    {
     "name": "stderr",
     "output_type": "stream",
     "text": [
      "요약 진행 중:   5%|▍         | 113/2388 [04:39<1:42:00,  2.69s/it]"
     ]
    },
    {
     "name": "stdout",
     "output_type": "stream",
     "text": [
      "114/2388 행 요약 완료\n"
     ]
    },
    {
     "name": "stderr",
     "output_type": "stream",
     "text": [
      "요약 진행 중:   5%|▍         | 114/2388 [04:41<1:34:08,  2.48s/it]"
     ]
    },
    {
     "name": "stdout",
     "output_type": "stream",
     "text": [
      "115/2388 행 요약 완료\n"
     ]
    },
    {
     "name": "stderr",
     "output_type": "stream",
     "text": [
      "요약 진행 중:   5%|▍         | 115/2388 [04:42<1:20:37,  2.13s/it]"
     ]
    },
    {
     "name": "stdout",
     "output_type": "stream",
     "text": [
      "116/2388 행 요약 완료\n"
     ]
    },
    {
     "name": "stderr",
     "output_type": "stream",
     "text": [
      "요약 진행 중:   5%|▍         | 116/2388 [04:44<1:12:16,  1.91s/it]"
     ]
    },
    {
     "name": "stdout",
     "output_type": "stream",
     "text": [
      "117/2388 행 요약 완료\n"
     ]
    },
    {
     "name": "stderr",
     "output_type": "stream",
     "text": [
      "요약 진행 중:   5%|▍         | 117/2388 [04:46<1:21:15,  2.15s/it]"
     ]
    },
    {
     "name": "stdout",
     "output_type": "stream",
     "text": [
      "118/2388 행 요약 완료\n"
     ]
    },
    {
     "name": "stderr",
     "output_type": "stream",
     "text": [
      "요약 진행 중:   5%|▍         | 118/2388 [04:49<1:21:17,  2.15s/it]"
     ]
    },
    {
     "name": "stdout",
     "output_type": "stream",
     "text": [
      "119/2388 행 요약 완료\n"
     ]
    },
    {
     "name": "stderr",
     "output_type": "stream",
     "text": [
      "요약 진행 중:   5%|▍         | 119/2388 [04:53<1:45:44,  2.80s/it]"
     ]
    },
    {
     "name": "stdout",
     "output_type": "stream",
     "text": [
      "120/2388 행 요약 완료\n"
     ]
    },
    {
     "name": "stderr",
     "output_type": "stream",
     "text": [
      "요약 진행 중:   5%|▌         | 120/2388 [04:56<1:51:36,  2.95s/it]"
     ]
    },
    {
     "name": "stdout",
     "output_type": "stream",
     "text": [
      "121/2388 행 요약 완료\n"
     ]
    },
    {
     "name": "stderr",
     "output_type": "stream",
     "text": [
      "요약 진행 중:   5%|▌         | 121/2388 [04:59<1:51:06,  2.94s/it]"
     ]
    },
    {
     "name": "stdout",
     "output_type": "stream",
     "text": [
      "122/2388 행 요약 완료\n"
     ]
    },
    {
     "name": "stderr",
     "output_type": "stream",
     "text": [
      "요약 진행 중:   5%|▌         | 122/2388 [05:01<1:45:18,  2.79s/it]"
     ]
    },
    {
     "name": "stdout",
     "output_type": "stream",
     "text": [
      "123/2388 행 요약 완료\n"
     ]
    },
    {
     "name": "stderr",
     "output_type": "stream",
     "text": [
      "요약 진행 중:   5%|▌         | 123/2388 [05:04<1:40:32,  2.66s/it]"
     ]
    },
    {
     "name": "stdout",
     "output_type": "stream",
     "text": [
      "124/2388 행 요약 완료\n"
     ]
    },
    {
     "name": "stderr",
     "output_type": "stream",
     "text": [
      "요약 진행 중:   5%|▌         | 124/2388 [05:06<1:32:46,  2.46s/it]"
     ]
    },
    {
     "name": "stdout",
     "output_type": "stream",
     "text": [
      "125/2388 행 요약 완료\n"
     ]
    },
    {
     "name": "stderr",
     "output_type": "stream",
     "text": [
      "요약 진행 중:   5%|▌         | 125/2388 [05:09<1:41:16,  2.69s/it]"
     ]
    },
    {
     "name": "stdout",
     "output_type": "stream",
     "text": [
      "126/2388 행 요약 완료\n"
     ]
    },
    {
     "name": "stderr",
     "output_type": "stream",
     "text": [
      "요약 진행 중:   5%|▌         | 126/2388 [05:12<1:40:28,  2.66s/it]"
     ]
    },
    {
     "name": "stdout",
     "output_type": "stream",
     "text": [
      "127/2388 행 요약 완료\n"
     ]
    },
    {
     "name": "stderr",
     "output_type": "stream",
     "text": [
      "요약 진행 중:   5%|▌         | 127/2388 [05:14<1:31:42,  2.43s/it]"
     ]
    },
    {
     "name": "stdout",
     "output_type": "stream",
     "text": [
      "128/2388 행 요약 완료\n"
     ]
    },
    {
     "name": "stderr",
     "output_type": "stream",
     "text": [
      "요약 진행 중:   5%|▌         | 128/2388 [05:17<1:47:28,  2.85s/it]"
     ]
    },
    {
     "name": "stdout",
     "output_type": "stream",
     "text": [
      "129/2388 행 요약 완료\n"
     ]
    },
    {
     "name": "stderr",
     "output_type": "stream",
     "text": [
      "요약 진행 중:   5%|▌         | 129/2388 [05:21<1:58:10,  3.14s/it]"
     ]
    },
    {
     "name": "stdout",
     "output_type": "stream",
     "text": [
      "130/2388 행 요약 완료\n"
     ]
    },
    {
     "name": "stderr",
     "output_type": "stream",
     "text": [
      "요약 진행 중:   5%|▌         | 130/2388 [05:25<2:00:00,  3.19s/it]"
     ]
    },
    {
     "name": "stdout",
     "output_type": "stream",
     "text": [
      "131/2388 행 요약 완료\n"
     ]
    },
    {
     "name": "stderr",
     "output_type": "stream",
     "text": [
      "요약 진행 중:   5%|▌         | 131/2388 [05:28<2:02:35,  3.26s/it]"
     ]
    },
    {
     "name": "stdout",
     "output_type": "stream",
     "text": [
      "132/2388 행 요약 완료\n"
     ]
    },
    {
     "name": "stderr",
     "output_type": "stream",
     "text": [
      "요약 진행 중:   6%|▌         | 132/2388 [05:30<1:52:52,  3.00s/it]"
     ]
    },
    {
     "name": "stdout",
     "output_type": "stream",
     "text": [
      "133/2388 행 요약 완료\n"
     ]
    },
    {
     "name": "stderr",
     "output_type": "stream",
     "text": [
      "요약 진행 중:   6%|▌         | 133/2388 [05:32<1:42:13,  2.72s/it]"
     ]
    },
    {
     "name": "stdout",
     "output_type": "stream",
     "text": [
      "134/2388 행 요약 완료\n"
     ]
    },
    {
     "name": "stderr",
     "output_type": "stream",
     "text": [
      "요약 진행 중:   6%|▌         | 134/2388 [05:35<1:36:55,  2.58s/it]"
     ]
    },
    {
     "name": "stdout",
     "output_type": "stream",
     "text": [
      "135/2388 행 요약 완료\n"
     ]
    },
    {
     "name": "stderr",
     "output_type": "stream",
     "text": [
      "요약 진행 중:   6%|▌         | 135/2388 [05:36<1:25:07,  2.27s/it]"
     ]
    },
    {
     "name": "stdout",
     "output_type": "stream",
     "text": [
      "136/2388 행 요약 완료\n"
     ]
    },
    {
     "name": "stderr",
     "output_type": "stream",
     "text": [
      "요약 진행 중:   6%|▌         | 136/2388 [05:39<1:30:13,  2.40s/it]"
     ]
    },
    {
     "name": "stdout",
     "output_type": "stream",
     "text": [
      "137/2388 행 요약 완료\n"
     ]
    },
    {
     "name": "stderr",
     "output_type": "stream",
     "text": [
      "요약 진행 중:   6%|▌         | 137/2388 [05:42<1:37:26,  2.60s/it]"
     ]
    },
    {
     "name": "stdout",
     "output_type": "stream",
     "text": [
      "138/2388 행 요약 완료\n"
     ]
    },
    {
     "name": "stderr",
     "output_type": "stream",
     "text": [
      "요약 진행 중:   6%|▌         | 138/2388 [05:43<1:24:02,  2.24s/it]"
     ]
    },
    {
     "name": "stdout",
     "output_type": "stream",
     "text": [
      "139/2388 행 요약 완료\n"
     ]
    },
    {
     "name": "stderr",
     "output_type": "stream",
     "text": [
      "요약 진행 중:   6%|▌         | 139/2388 [05:47<1:35:44,  2.55s/it]"
     ]
    },
    {
     "name": "stdout",
     "output_type": "stream",
     "text": [
      "140/2388 행 요약 완료\n"
     ]
    },
    {
     "name": "stderr",
     "output_type": "stream",
     "text": [
      "요약 진행 중:   6%|▌         | 140/2388 [05:50<1:42:45,  2.74s/it]"
     ]
    },
    {
     "name": "stdout",
     "output_type": "stream",
     "text": [
      "141/2388 행 요약 완료\n"
     ]
    },
    {
     "name": "stderr",
     "output_type": "stream",
     "text": [
      "요약 진행 중:   6%|▌         | 141/2388 [05:53<1:51:04,  2.97s/it]"
     ]
    },
    {
     "name": "stdout",
     "output_type": "stream",
     "text": [
      "142/2388 행 요약 완료\n"
     ]
    },
    {
     "name": "stderr",
     "output_type": "stream",
     "text": [
      "요약 진행 중:   6%|▌         | 142/2388 [05:56<1:46:22,  2.84s/it]"
     ]
    },
    {
     "name": "stdout",
     "output_type": "stream",
     "text": [
      "143/2388 행 요약 완료\n"
     ]
    },
    {
     "name": "stderr",
     "output_type": "stream",
     "text": [
      "요약 진행 중:   6%|▌         | 143/2388 [05:57<1:31:29,  2.45s/it]"
     ]
    },
    {
     "name": "stdout",
     "output_type": "stream",
     "text": [
      "144/2388 행 요약 완료\n"
     ]
    },
    {
     "name": "stderr",
     "output_type": "stream",
     "text": [
      "요약 진행 중:   6%|▌         | 144/2388 [06:01<1:41:14,  2.71s/it]"
     ]
    },
    {
     "name": "stdout",
     "output_type": "stream",
     "text": [
      "145/2388 행 요약 완료\n"
     ]
    },
    {
     "name": "stderr",
     "output_type": "stream",
     "text": [
      "요약 진행 중:   6%|▌         | 145/2388 [06:03<1:33:43,  2.51s/it]"
     ]
    },
    {
     "name": "stdout",
     "output_type": "stream",
     "text": [
      "146/2388 행 요약 완료\n"
     ]
    },
    {
     "name": "stderr",
     "output_type": "stream",
     "text": [
      "요약 진행 중:   6%|▌         | 146/2388 [06:07<1:48:47,  2.91s/it]"
     ]
    },
    {
     "name": "stdout",
     "output_type": "stream",
     "text": [
      "147/2388 행 요약 완료\n"
     ]
    },
    {
     "name": "stderr",
     "output_type": "stream",
     "text": [
      "요약 진행 중:   6%|▌         | 147/2388 [06:10<1:54:36,  3.07s/it]"
     ]
    },
    {
     "name": "stdout",
     "output_type": "stream",
     "text": [
      "148/2388 행 요약 완료\n"
     ]
    },
    {
     "name": "stderr",
     "output_type": "stream",
     "text": [
      "요약 진행 중:   6%|▌         | 148/2388 [06:12<1:37:33,  2.61s/it]"
     ]
    },
    {
     "name": "stdout",
     "output_type": "stream",
     "text": [
      "149/2388 행 요약 완료\n"
     ]
    },
    {
     "name": "stderr",
     "output_type": "stream",
     "text": [
      "요약 진행 중:   6%|▌         | 149/2388 [06:14<1:39:22,  2.66s/it]"
     ]
    },
    {
     "name": "stdout",
     "output_type": "stream",
     "text": [
      "150/2388 행 요약 완료\n"
     ]
    },
    {
     "name": "stderr",
     "output_type": "stream",
     "text": [
      "요약 진행 중:   6%|▋         | 150/2388 [06:16<1:27:58,  2.36s/it]"
     ]
    },
    {
     "name": "stdout",
     "output_type": "stream",
     "text": [
      "151/2388 행 요약 완료\n"
     ]
    },
    {
     "name": "stderr",
     "output_type": "stream",
     "text": [
      "요약 진행 중:   6%|▋         | 151/2388 [06:17<1:13:31,  1.97s/it]"
     ]
    },
    {
     "name": "stdout",
     "output_type": "stream",
     "text": [
      "152/2388 행 요약 완료\n"
     ]
    },
    {
     "name": "stderr",
     "output_type": "stream",
     "text": [
      "요약 진행 중:   6%|▋         | 152/2388 [06:22<1:46:50,  2.87s/it]"
     ]
    },
    {
     "name": "stdout",
     "output_type": "stream",
     "text": [
      "153/2388 행 요약 완료\n"
     ]
    },
    {
     "name": "stderr",
     "output_type": "stream",
     "text": [
      "요약 진행 중:   6%|▋         | 153/2388 [06:24<1:32:26,  2.48s/it]"
     ]
    },
    {
     "name": "stdout",
     "output_type": "stream",
     "text": [
      "154/2388 행 요약 완료\n"
     ]
    },
    {
     "name": "stderr",
     "output_type": "stream",
     "text": [
      "요약 진행 중:   6%|▋         | 154/2388 [06:25<1:22:11,  2.21s/it]"
     ]
    },
    {
     "name": "stdout",
     "output_type": "stream",
     "text": [
      "155/2388 행 요약 완료\n"
     ]
    },
    {
     "name": "stderr",
     "output_type": "stream",
     "text": [
      "요약 진행 중:   6%|▋         | 155/2388 [06:28<1:29:07,  2.39s/it]"
     ]
    },
    {
     "name": "stdout",
     "output_type": "stream",
     "text": [
      "156/2388 행 요약 완료\n"
     ]
    },
    {
     "name": "stderr",
     "output_type": "stream",
     "text": [
      "요약 진행 중:   7%|▋         | 156/2388 [06:30<1:21:04,  2.18s/it]"
     ]
    },
    {
     "name": "stdout",
     "output_type": "stream",
     "text": [
      "157/2388 행 요약 완료\n"
     ]
    },
    {
     "name": "stderr",
     "output_type": "stream",
     "text": [
      "요약 진행 중:   7%|▋         | 157/2388 [06:31<1:09:24,  1.87s/it]"
     ]
    },
    {
     "name": "stdout",
     "output_type": "stream",
     "text": [
      "158/2388 행 요약 완료\n"
     ]
    },
    {
     "name": "stderr",
     "output_type": "stream",
     "text": [
      "요약 진행 중:   7%|▋         | 158/2388 [06:34<1:28:24,  2.38s/it]"
     ]
    },
    {
     "name": "stdout",
     "output_type": "stream",
     "text": [
      "159/2388 행 요약 완료\n"
     ]
    },
    {
     "name": "stderr",
     "output_type": "stream",
     "text": [
      "요약 진행 중:   7%|▋         | 159/2388 [06:37<1:33:35,  2.52s/it]"
     ]
    },
    {
     "name": "stdout",
     "output_type": "stream",
     "text": [
      "160/2388 행 요약 완료\n"
     ]
    },
    {
     "name": "stderr",
     "output_type": "stream",
     "text": [
      "요약 진행 중:   7%|▋         | 160/2388 [06:39<1:27:07,  2.35s/it]"
     ]
    },
    {
     "name": "stdout",
     "output_type": "stream",
     "text": [
      "161/2388 행 요약 완료\n"
     ]
    },
    {
     "name": "stderr",
     "output_type": "stream",
     "text": [
      "요약 진행 중:   7%|▋         | 161/2388 [06:41<1:20:23,  2.17s/it]"
     ]
    },
    {
     "name": "stdout",
     "output_type": "stream",
     "text": [
      "162/2388 행 요약 완료\n"
     ]
    },
    {
     "name": "stderr",
     "output_type": "stream",
     "text": [
      "요약 진행 중:   7%|▋         | 162/2388 [06:43<1:14:55,  2.02s/it]"
     ]
    },
    {
     "name": "stdout",
     "output_type": "stream",
     "text": [
      "163/2388 행 요약 완료\n"
     ]
    },
    {
     "name": "stderr",
     "output_type": "stream",
     "text": [
      "요약 진행 중:   7%|▋         | 163/2388 [06:44<1:09:59,  1.89s/it]"
     ]
    },
    {
     "name": "stdout",
     "output_type": "stream",
     "text": [
      "164/2388 행 요약 완료\n"
     ]
    },
    {
     "name": "stderr",
     "output_type": "stream",
     "text": [
      "요약 진행 중:   7%|▋         | 164/2388 [06:46<1:08:19,  1.84s/it]"
     ]
    },
    {
     "name": "stdout",
     "output_type": "stream",
     "text": [
      "165/2388 행 요약 완료\n"
     ]
    },
    {
     "name": "stderr",
     "output_type": "stream",
     "text": [
      "요약 진행 중:   7%|▋         | 165/2388 [06:48<1:14:47,  2.02s/it]"
     ]
    },
    {
     "name": "stdout",
     "output_type": "stream",
     "text": [
      "166/2388 행 요약 완료\n"
     ]
    },
    {
     "name": "stderr",
     "output_type": "stream",
     "text": [
      "요약 진행 중:   7%|▋         | 166/2388 [06:50<1:10:21,  1.90s/it]"
     ]
    },
    {
     "name": "stdout",
     "output_type": "stream",
     "text": [
      "167/2388 행 요약 완료\n"
     ]
    },
    {
     "name": "stderr",
     "output_type": "stream",
     "text": [
      "요약 진행 중:   7%|▋         | 167/2388 [06:53<1:20:30,  2.17s/it]"
     ]
    },
    {
     "name": "stdout",
     "output_type": "stream",
     "text": [
      "168/2388 행 요약 완료\n"
     ]
    },
    {
     "name": "stderr",
     "output_type": "stream",
     "text": [
      "요약 진행 중:   7%|▋         | 168/2388 [06:54<1:10:19,  1.90s/it]"
     ]
    },
    {
     "name": "stdout",
     "output_type": "stream",
     "text": [
      "169/2388 행 요약 완료\n"
     ]
    },
    {
     "name": "stderr",
     "output_type": "stream",
     "text": [
      "요약 진행 중:   7%|▋         | 169/2388 [06:58<1:27:45,  2.37s/it]"
     ]
    },
    {
     "name": "stdout",
     "output_type": "stream",
     "text": [
      "170/2388 행 요약 완료\n"
     ]
    },
    {
     "name": "stderr",
     "output_type": "stream",
     "text": [
      "요약 진행 중:   7%|▋         | 170/2388 [07:01<1:44:35,  2.83s/it]"
     ]
    },
    {
     "name": "stdout",
     "output_type": "stream",
     "text": [
      "171/2388 행 요약 완료\n"
     ]
    },
    {
     "name": "stderr",
     "output_type": "stream",
     "text": [
      "요약 진행 중:   7%|▋         | 171/2388 [07:03<1:32:15,  2.50s/it]"
     ]
    },
    {
     "name": "stdout",
     "output_type": "stream",
     "text": [
      "172/2388 행 요약 완료\n"
     ]
    },
    {
     "name": "stderr",
     "output_type": "stream",
     "text": [
      "요약 진행 중:   7%|▋         | 172/2388 [07:05<1:27:58,  2.38s/it]"
     ]
    },
    {
     "name": "stdout",
     "output_type": "stream",
     "text": [
      "173/2388 행 요약 완료\n"
     ]
    },
    {
     "name": "stderr",
     "output_type": "stream",
     "text": [
      "요약 진행 중:   7%|▋         | 173/2388 [07:07<1:20:27,  2.18s/it]"
     ]
    },
    {
     "name": "stdout",
     "output_type": "stream",
     "text": [
      "174/2388 행 요약 완료\n"
     ]
    },
    {
     "name": "stderr",
     "output_type": "stream",
     "text": [
      "요약 진행 중:   7%|▋         | 174/2388 [07:10<1:26:16,  2.34s/it]"
     ]
    },
    {
     "name": "stdout",
     "output_type": "stream",
     "text": [
      "175/2388 행 요약 완료\n"
     ]
    },
    {
     "name": "stderr",
     "output_type": "stream",
     "text": [
      "요약 진행 중:   7%|▋         | 175/2388 [07:12<1:28:28,  2.40s/it]"
     ]
    },
    {
     "name": "stdout",
     "output_type": "stream",
     "text": [
      "176/2388 행 요약 완료\n"
     ]
    },
    {
     "name": "stderr",
     "output_type": "stream",
     "text": [
      "요약 진행 중:   7%|▋         | 176/2388 [07:18<2:03:24,  3.35s/it]"
     ]
    },
    {
     "name": "stdout",
     "output_type": "stream",
     "text": [
      "177/2388 행 요약 완료\n"
     ]
    },
    {
     "name": "stderr",
     "output_type": "stream",
     "text": [
      "요약 진행 중:   7%|▋         | 177/2388 [07:22<2:10:49,  3.55s/it]"
     ]
    },
    {
     "name": "stdout",
     "output_type": "stream",
     "text": [
      "178/2388 행 요약 완료\n"
     ]
    },
    {
     "name": "stderr",
     "output_type": "stream",
     "text": [
      "요약 진행 중:   7%|▋         | 178/2388 [07:27<2:24:51,  3.93s/it]"
     ]
    },
    {
     "name": "stdout",
     "output_type": "stream",
     "text": [
      "179/2388 행 요약 완료\n"
     ]
    },
    {
     "name": "stderr",
     "output_type": "stream",
     "text": [
      "요약 진행 중:   7%|▋         | 179/2388 [07:31<2:30:07,  4.08s/it]"
     ]
    },
    {
     "name": "stdout",
     "output_type": "stream",
     "text": [
      "180/2388 행 요약 완료\n"
     ]
    },
    {
     "name": "stderr",
     "output_type": "stream",
     "text": [
      "요약 진행 중:   8%|▊         | 180/2388 [07:34<2:18:30,  3.76s/it]"
     ]
    },
    {
     "name": "stdout",
     "output_type": "stream",
     "text": [
      "181/2388 행 요약 완료\n"
     ]
    },
    {
     "name": "stderr",
     "output_type": "stream",
     "text": [
      "요약 진행 중:   8%|▊         | 181/2388 [07:40<2:38:03,  4.30s/it]"
     ]
    },
    {
     "name": "stdout",
     "output_type": "stream",
     "text": [
      "182/2388 행 요약 완료\n"
     ]
    },
    {
     "name": "stderr",
     "output_type": "stream",
     "text": [
      "요약 진행 중:   8%|▊         | 182/2388 [07:43<2:27:06,  4.00s/it]"
     ]
    },
    {
     "name": "stdout",
     "output_type": "stream",
     "text": [
      "183/2388 행 요약 완료\n"
     ]
    },
    {
     "name": "stderr",
     "output_type": "stream",
     "text": [
      "요약 진행 중:   8%|▊         | 183/2388 [07:46<2:18:10,  3.76s/it]"
     ]
    },
    {
     "name": "stdout",
     "output_type": "stream",
     "text": [
      "184/2388 행 요약 완료\n"
     ]
    },
    {
     "name": "stderr",
     "output_type": "stream",
     "text": [
      "요약 진행 중:   8%|▊         | 184/2388 [07:50<2:16:44,  3.72s/it]"
     ]
    },
    {
     "name": "stdout",
     "output_type": "stream",
     "text": [
      "185/2388 행 요약 완료\n"
     ]
    },
    {
     "name": "stderr",
     "output_type": "stream",
     "text": [
      "요약 진행 중:   8%|▊         | 185/2388 [07:54<2:17:18,  3.74s/it]"
     ]
    },
    {
     "name": "stdout",
     "output_type": "stream",
     "text": [
      "186/2388 행 요약 완료\n"
     ]
    },
    {
     "name": "stderr",
     "output_type": "stream",
     "text": [
      "요약 진행 중:   8%|▊         | 186/2388 [07:55<1:53:24,  3.09s/it]"
     ]
    },
    {
     "name": "stdout",
     "output_type": "stream",
     "text": [
      "187/2388 행 요약 완료\n"
     ]
    },
    {
     "name": "stderr",
     "output_type": "stream",
     "text": [
      "요약 진행 중:   8%|▊         | 187/2388 [07:57<1:44:04,  2.84s/it]"
     ]
    },
    {
     "name": "stdout",
     "output_type": "stream",
     "text": [
      "188/2388 행 요약 완료\n"
     ]
    },
    {
     "name": "stderr",
     "output_type": "stream",
     "text": [
      "요약 진행 중:   8%|▊         | 188/2388 [07:59<1:25:24,  2.33s/it]"
     ]
    },
    {
     "name": "stdout",
     "output_type": "stream",
     "text": [
      "189/2388 행 요약 완료\n"
     ]
    },
    {
     "name": "stderr",
     "output_type": "stream",
     "text": [
      "요약 진행 중:   8%|▊         | 189/2388 [08:01<1:25:25,  2.33s/it]"
     ]
    },
    {
     "name": "stdout",
     "output_type": "stream",
     "text": [
      "190/2388 행 요약 완료\n"
     ]
    },
    {
     "name": "stderr",
     "output_type": "stream",
     "text": [
      "요약 진행 중:   8%|▊         | 190/2388 [08:03<1:23:50,  2.29s/it]"
     ]
    },
    {
     "name": "stdout",
     "output_type": "stream",
     "text": [
      "191/2388 행 요약 완료\n"
     ]
    },
    {
     "name": "stderr",
     "output_type": "stream",
     "text": [
      "요약 진행 중:   8%|▊         | 191/2388 [08:04<1:13:05,  2.00s/it]"
     ]
    },
    {
     "name": "stdout",
     "output_type": "stream",
     "text": [
      "192/2388 행 요약 완료\n"
     ]
    },
    {
     "name": "stderr",
     "output_type": "stream",
     "text": [
      "요약 진행 중:   8%|▊         | 192/2388 [08:07<1:21:49,  2.24s/it]"
     ]
    },
    {
     "name": "stdout",
     "output_type": "stream",
     "text": [
      "193/2388 행 요약 완료\n"
     ]
    },
    {
     "name": "stderr",
     "output_type": "stream",
     "text": [
      "요약 진행 중:   8%|▊         | 193/2388 [08:10<1:27:25,  2.39s/it]"
     ]
    },
    {
     "name": "stdout",
     "output_type": "stream",
     "text": [
      "194/2388 행 요약 완료\n"
     ]
    },
    {
     "name": "stderr",
     "output_type": "stream",
     "text": [
      "요약 진행 중:   8%|▊         | 194/2388 [08:12<1:25:56,  2.35s/it]"
     ]
    },
    {
     "name": "stdout",
     "output_type": "stream",
     "text": [
      "195/2388 행 요약 완료\n"
     ]
    },
    {
     "name": "stderr",
     "output_type": "stream",
     "text": [
      "요약 진행 중:   8%|▊         | 195/2388 [08:14<1:22:04,  2.25s/it]"
     ]
    },
    {
     "name": "stdout",
     "output_type": "stream",
     "text": [
      "196/2388 행 요약 완료\n"
     ]
    },
    {
     "name": "stderr",
     "output_type": "stream",
     "text": [
      "요약 진행 중:   8%|▊         | 196/2388 [08:16<1:20:03,  2.19s/it]"
     ]
    },
    {
     "name": "stdout",
     "output_type": "stream",
     "text": [
      "197/2388 행 요약 완료\n"
     ]
    },
    {
     "name": "stderr",
     "output_type": "stream",
     "text": [
      "요약 진행 중:   8%|▊         | 197/2388 [08:18<1:14:41,  2.05s/it]"
     ]
    },
    {
     "name": "stdout",
     "output_type": "stream",
     "text": [
      "198/2388 행 요약 완료\n"
     ]
    },
    {
     "name": "stderr",
     "output_type": "stream",
     "text": [
      "요약 진행 중:   8%|▊         | 198/2388 [08:21<1:21:19,  2.23s/it]"
     ]
    },
    {
     "name": "stdout",
     "output_type": "stream",
     "text": [
      "199/2388 행 요약 완료\n"
     ]
    },
    {
     "name": "stderr",
     "output_type": "stream",
     "text": [
      "요약 진행 중:   8%|▊         | 199/2388 [08:24<1:37:04,  2.66s/it]"
     ]
    },
    {
     "name": "stdout",
     "output_type": "stream",
     "text": [
      "200/2388 행 요약 완료\n"
     ]
    },
    {
     "name": "stderr",
     "output_type": "stream",
     "text": [
      "요약 진행 중:   8%|▊         | 200/2388 [08:26<1:26:07,  2.36s/it]"
     ]
    },
    {
     "name": "stdout",
     "output_type": "stream",
     "text": [
      "201/2388 행 요약 완료\n"
     ]
    },
    {
     "name": "stderr",
     "output_type": "stream",
     "text": [
      "요약 진행 중:   8%|▊         | 201/2388 [08:28<1:22:07,  2.25s/it]"
     ]
    },
    {
     "name": "stdout",
     "output_type": "stream",
     "text": [
      "202/2388 행 요약 완료\n"
     ]
    },
    {
     "name": "stderr",
     "output_type": "stream",
     "text": [
      "요약 진행 중:   8%|▊         | 202/2388 [08:30<1:16:33,  2.10s/it]"
     ]
    },
    {
     "name": "stdout",
     "output_type": "stream",
     "text": [
      "203/2388 행 요약 완료\n"
     ]
    },
    {
     "name": "stderr",
     "output_type": "stream",
     "text": [
      "요약 진행 중:   9%|▊         | 203/2388 [08:31<1:09:44,  1.92s/it]"
     ]
    },
    {
     "name": "stdout",
     "output_type": "stream",
     "text": [
      "204/2388 행 요약 완료\n"
     ]
    },
    {
     "name": "stderr",
     "output_type": "stream",
     "text": [
      "요약 진행 중:   9%|▊         | 204/2388 [08:34<1:24:21,  2.32s/it]"
     ]
    },
    {
     "name": "stdout",
     "output_type": "stream",
     "text": [
      "205/2388 행 요약 완료\n"
     ]
    },
    {
     "name": "stderr",
     "output_type": "stream",
     "text": [
      "요약 진행 중:   9%|▊         | 205/2388 [08:37<1:32:16,  2.54s/it]"
     ]
    },
    {
     "name": "stdout",
     "output_type": "stream",
     "text": [
      "206/2388 행 요약 완료\n"
     ]
    },
    {
     "name": "stderr",
     "output_type": "stream",
     "text": [
      "요약 진행 중:   9%|▊         | 206/2388 [08:40<1:30:12,  2.48s/it]"
     ]
    },
    {
     "name": "stdout",
     "output_type": "stream",
     "text": [
      "207/2388 행 요약 완료\n"
     ]
    },
    {
     "name": "stderr",
     "output_type": "stream",
     "text": [
      "요약 진행 중:   9%|▊         | 207/2388 [08:42<1:23:28,  2.30s/it]"
     ]
    },
    {
     "name": "stdout",
     "output_type": "stream",
     "text": [
      "208/2388 행 요약 완료\n"
     ]
    },
    {
     "name": "stderr",
     "output_type": "stream",
     "text": [
      "요약 진행 중:   9%|▊         | 208/2388 [08:44<1:24:07,  2.32s/it]"
     ]
    },
    {
     "name": "stdout",
     "output_type": "stream",
     "text": [
      "209/2388 행 요약 완료\n"
     ]
    },
    {
     "name": "stderr",
     "output_type": "stream",
     "text": [
      "요약 진행 중:   9%|▉         | 209/2388 [08:46<1:25:39,  2.36s/it]"
     ]
    },
    {
     "name": "stdout",
     "output_type": "stream",
     "text": [
      "210/2388 행 요약 완료\n"
     ]
    },
    {
     "name": "stderr",
     "output_type": "stream",
     "text": [
      "요약 진행 중:   9%|▉         | 210/2388 [08:51<1:50:27,  3.04s/it]"
     ]
    },
    {
     "name": "stdout",
     "output_type": "stream",
     "text": [
      "211/2388 행 요약 완료\n"
     ]
    },
    {
     "name": "stderr",
     "output_type": "stream",
     "text": [
      "요약 진행 중:   9%|▉         | 211/2388 [08:55<2:01:17,  3.34s/it]"
     ]
    },
    {
     "name": "stdout",
     "output_type": "stream",
     "text": [
      "212/2388 행 요약 완료\n"
     ]
    },
    {
     "name": "stderr",
     "output_type": "stream",
     "text": [
      "요약 진행 중:   9%|▉         | 212/2388 [08:58<1:52:59,  3.12s/it]"
     ]
    },
    {
     "name": "stdout",
     "output_type": "stream",
     "text": [
      "213/2388 행 요약 완료\n"
     ]
    },
    {
     "name": "stderr",
     "output_type": "stream",
     "text": [
      "요약 진행 중:   9%|▉         | 213/2388 [09:00<1:42:08,  2.82s/it]"
     ]
    },
    {
     "name": "stdout",
     "output_type": "stream",
     "text": [
      "214/2388 행 요약 완료\n"
     ]
    },
    {
     "name": "stderr",
     "output_type": "stream",
     "text": [
      "요약 진행 중:   9%|▉         | 214/2388 [09:02<1:32:13,  2.55s/it]"
     ]
    },
    {
     "name": "stdout",
     "output_type": "stream",
     "text": [
      "215/2388 행 요약 완료\n"
     ]
    },
    {
     "name": "stderr",
     "output_type": "stream",
     "text": [
      "요약 진행 중:   9%|▉         | 215/2388 [09:05<1:42:46,  2.84s/it]"
     ]
    },
    {
     "name": "stdout",
     "output_type": "stream",
     "text": [
      "216/2388 행 요약 완료\n"
     ]
    },
    {
     "name": "stderr",
     "output_type": "stream",
     "text": [
      "요약 진행 중:   9%|▉         | 216/2388 [09:07<1:33:30,  2.58s/it]"
     ]
    },
    {
     "name": "stdout",
     "output_type": "stream",
     "text": [
      "217/2388 행 요약 완료\n"
     ]
    },
    {
     "name": "stderr",
     "output_type": "stream",
     "text": [
      "요약 진행 중:   9%|▉         | 217/2388 [09:09<1:21:51,  2.26s/it]"
     ]
    },
    {
     "name": "stdout",
     "output_type": "stream",
     "text": [
      "218/2388 행 요약 완료\n"
     ]
    },
    {
     "name": "stderr",
     "output_type": "stream",
     "text": [
      "요약 진행 중:   9%|▉         | 218/2388 [09:10<1:13:30,  2.03s/it]"
     ]
    },
    {
     "name": "stdout",
     "output_type": "stream",
     "text": [
      "219/2388 행 요약 완료\n"
     ]
    },
    {
     "name": "stderr",
     "output_type": "stream",
     "text": [
      "요약 진행 중:   9%|▉         | 219/2388 [09:12<1:14:41,  2.07s/it]"
     ]
    },
    {
     "name": "stdout",
     "output_type": "stream",
     "text": [
      "220/2388 행 요약 완료\n"
     ]
    },
    {
     "name": "stderr",
     "output_type": "stream",
     "text": [
      "요약 진행 중:   9%|▉         | 220/2388 [09:14<1:08:05,  1.88s/it]"
     ]
    },
    {
     "name": "stdout",
     "output_type": "stream",
     "text": [
      "221/2388 행 요약 완료\n"
     ]
    },
    {
     "name": "stderr",
     "output_type": "stream",
     "text": [
      "요약 진행 중:   9%|▉         | 221/2388 [09:17<1:24:55,  2.35s/it]"
     ]
    },
    {
     "name": "stdout",
     "output_type": "stream",
     "text": [
      "222/2388 행 요약 완료\n"
     ]
    },
    {
     "name": "stderr",
     "output_type": "stream",
     "text": [
      "요약 진행 중:   9%|▉         | 222/2388 [09:19<1:14:31,  2.06s/it]"
     ]
    },
    {
     "name": "stdout",
     "output_type": "stream",
     "text": [
      "223/2388 행 요약 완료\n"
     ]
    },
    {
     "name": "stderr",
     "output_type": "stream",
     "text": [
      "요약 진행 중:   9%|▉         | 223/2388 [09:22<1:32:26,  2.56s/it]"
     ]
    },
    {
     "name": "stdout",
     "output_type": "stream",
     "text": [
      "224/2388 행 요약 완료\n"
     ]
    },
    {
     "name": "stderr",
     "output_type": "stream",
     "text": [
      "요약 진행 중:   9%|▉         | 224/2388 [09:25<1:28:12,  2.45s/it]"
     ]
    },
    {
     "name": "stdout",
     "output_type": "stream",
     "text": [
      "225/2388 행 요약 완료\n"
     ]
    },
    {
     "name": "stderr",
     "output_type": "stream",
     "text": [
      "요약 진행 중:   9%|▉         | 225/2388 [09:28<1:42:28,  2.84s/it]"
     ]
    },
    {
     "name": "stdout",
     "output_type": "stream",
     "text": [
      "226/2388 행 요약 완료\n"
     ]
    },
    {
     "name": "stderr",
     "output_type": "stream",
     "text": [
      "요약 진행 중:   9%|▉         | 226/2388 [09:31<1:35:36,  2.65s/it]"
     ]
    },
    {
     "name": "stdout",
     "output_type": "stream",
     "text": [
      "227/2388 행 요약 완료\n"
     ]
    },
    {
     "name": "stderr",
     "output_type": "stream",
     "text": [
      "요약 진행 중:  10%|▉         | 227/2388 [09:33<1:32:11,  2.56s/it]"
     ]
    },
    {
     "name": "stdout",
     "output_type": "stream",
     "text": [
      "228/2388 행 요약 완료\n"
     ]
    },
    {
     "name": "stderr",
     "output_type": "stream",
     "text": [
      "요약 진행 중:  10%|▉         | 228/2388 [09:35<1:29:37,  2.49s/it]"
     ]
    },
    {
     "name": "stdout",
     "output_type": "stream",
     "text": [
      "229/2388 행 요약 완료\n"
     ]
    },
    {
     "name": "stderr",
     "output_type": "stream",
     "text": [
      "요약 진행 중:  10%|▉         | 229/2388 [09:37<1:22:59,  2.31s/it]"
     ]
    },
    {
     "name": "stdout",
     "output_type": "stream",
     "text": [
      "230/2388 행 요약 완료\n"
     ]
    },
    {
     "name": "stderr",
     "output_type": "stream",
     "text": [
      "요약 진행 중:  10%|▉         | 230/2388 [09:38<1:10:10,  1.95s/it]"
     ]
    },
    {
     "name": "stdout",
     "output_type": "stream",
     "text": [
      "231/2388 행 요약 완료\n"
     ]
    },
    {
     "name": "stderr",
     "output_type": "stream",
     "text": [
      "요약 진행 중:  10%|▉         | 231/2388 [09:41<1:17:16,  2.15s/it]"
     ]
    },
    {
     "name": "stdout",
     "output_type": "stream",
     "text": [
      "232/2388 행 요약 완료\n"
     ]
    },
    {
     "name": "stderr",
     "output_type": "stream",
     "text": [
      "요약 진행 중:  10%|▉         | 232/2388 [09:44<1:24:20,  2.35s/it]"
     ]
    },
    {
     "name": "stdout",
     "output_type": "stream",
     "text": [
      "233/2388 행 요약 완료\n"
     ]
    },
    {
     "name": "stderr",
     "output_type": "stream",
     "text": [
      "요약 진행 중:  10%|▉         | 233/2388 [09:48<1:43:38,  2.89s/it]"
     ]
    },
    {
     "name": "stdout",
     "output_type": "stream",
     "text": [
      "234/2388 행 요약 완료\n"
     ]
    },
    {
     "name": "stderr",
     "output_type": "stream",
     "text": [
      "요약 진행 중:  10%|▉         | 234/2388 [09:51<1:47:06,  2.98s/it]"
     ]
    },
    {
     "name": "stdout",
     "output_type": "stream",
     "text": [
      "235/2388 행 요약 완료\n"
     ]
    },
    {
     "name": "stderr",
     "output_type": "stream",
     "text": [
      "요약 진행 중:  10%|▉         | 235/2388 [09:53<1:30:55,  2.53s/it]"
     ]
    },
    {
     "name": "stdout",
     "output_type": "stream",
     "text": [
      "236/2388 행 요약 완료\n"
     ]
    },
    {
     "name": "stderr",
     "output_type": "stream",
     "text": [
      "요약 진행 중:  10%|▉         | 236/2388 [09:54<1:20:29,  2.24s/it]"
     ]
    },
    {
     "name": "stdout",
     "output_type": "stream",
     "text": [
      "237/2388 행 요약 완료\n"
     ]
    },
    {
     "name": "stderr",
     "output_type": "stream",
     "text": [
      "요약 진행 중:  10%|▉         | 237/2388 [09:58<1:32:36,  2.58s/it]"
     ]
    },
    {
     "name": "stdout",
     "output_type": "stream",
     "text": [
      "238/2388 행 요약 완료\n"
     ]
    },
    {
     "name": "stderr",
     "output_type": "stream",
     "text": [
      "요약 진행 중:  10%|▉         | 238/2388 [10:00<1:36:41,  2.70s/it]"
     ]
    },
    {
     "name": "stdout",
     "output_type": "stream",
     "text": [
      "239/2388 행 요약 완료\n"
     ]
    },
    {
     "name": "stderr",
     "output_type": "stream",
     "text": [
      "요약 진행 중:  10%|█         | 239/2388 [10:03<1:34:56,  2.65s/it]"
     ]
    },
    {
     "name": "stdout",
     "output_type": "stream",
     "text": [
      "240/2388 행 요약 완료\n"
     ]
    },
    {
     "name": "stderr",
     "output_type": "stream",
     "text": [
      "요약 진행 중:  10%|█         | 240/2388 [10:04<1:20:02,  2.24s/it]"
     ]
    },
    {
     "name": "stdout",
     "output_type": "stream",
     "text": [
      "241/2388 행 요약 완료\n"
     ]
    },
    {
     "name": "stderr",
     "output_type": "stream",
     "text": [
      "요약 진행 중:  10%|█         | 241/2388 [10:08<1:34:43,  2.65s/it]"
     ]
    },
    {
     "name": "stdout",
     "output_type": "stream",
     "text": [
      "242/2388 행 요약 완료\n"
     ]
    },
    {
     "name": "stderr",
     "output_type": "stream",
     "text": [
      "요약 진행 중:  10%|█         | 242/2388 [10:09<1:21:38,  2.28s/it]"
     ]
    },
    {
     "name": "stdout",
     "output_type": "stream",
     "text": [
      "243/2388 행 요약 완료\n"
     ]
    },
    {
     "name": "stderr",
     "output_type": "stream",
     "text": [
      "요약 진행 중:  10%|█         | 243/2388 [10:11<1:13:01,  2.04s/it]"
     ]
    },
    {
     "name": "stdout",
     "output_type": "stream",
     "text": [
      "244/2388 행 요약 완료\n"
     ]
    },
    {
     "name": "stderr",
     "output_type": "stream",
     "text": [
      "요약 진행 중:  10%|█         | 244/2388 [10:12<1:03:06,  1.77s/it]"
     ]
    },
    {
     "name": "stdout",
     "output_type": "stream",
     "text": [
      "245/2388 행 요약 완료\n"
     ]
    },
    {
     "name": "stderr",
     "output_type": "stream",
     "text": [
      "요약 진행 중:  10%|█         | 245/2388 [10:15<1:19:44,  2.23s/it]"
     ]
    },
    {
     "name": "stdout",
     "output_type": "stream",
     "text": [
      "246/2388 행 요약 완료\n"
     ]
    },
    {
     "name": "stderr",
     "output_type": "stream",
     "text": [
      "요약 진행 중:  10%|█         | 246/2388 [10:21<2:01:43,  3.41s/it]"
     ]
    },
    {
     "name": "stdout",
     "output_type": "stream",
     "text": [
      "247/2388 행 요약 완료\n"
     ]
    },
    {
     "name": "stderr",
     "output_type": "stream",
     "text": [
      "요약 진행 중:  10%|█         | 247/2388 [10:26<2:09:40,  3.63s/it]"
     ]
    },
    {
     "name": "stdout",
     "output_type": "stream",
     "text": [
      "248/2388 행 요약 완료\n"
     ]
    },
    {
     "name": "stderr",
     "output_type": "stream",
     "text": [
      "요약 진행 중:  10%|█         | 248/2388 [10:27<1:49:31,  3.07s/it]"
     ]
    },
    {
     "name": "stdout",
     "output_type": "stream",
     "text": [
      "249/2388 행 요약 완료\n"
     ]
    },
    {
     "name": "stderr",
     "output_type": "stream",
     "text": [
      "요약 진행 중:  10%|█         | 249/2388 [10:28<1:29:20,  2.51s/it]"
     ]
    },
    {
     "name": "stdout",
     "output_type": "stream",
     "text": [
      "250/2388 행 요약 완료\n"
     ]
    },
    {
     "name": "stderr",
     "output_type": "stream",
     "text": [
      "요약 진행 중:  10%|█         | 250/2388 [10:31<1:33:58,  2.64s/it]"
     ]
    },
    {
     "name": "stdout",
     "output_type": "stream",
     "text": [
      "251/2388 행 요약 완료\n"
     ]
    },
    {
     "name": "stderr",
     "output_type": "stream",
     "text": [
      "요약 진행 중:  11%|█         | 251/2388 [10:32<1:16:05,  2.14s/it]"
     ]
    },
    {
     "name": "stdout",
     "output_type": "stream",
     "text": [
      "252/2388 행 요약 완료\n"
     ]
    },
    {
     "name": "stderr",
     "output_type": "stream",
     "text": [
      "요약 진행 중:  11%|█         | 252/2388 [10:34<1:11:05,  2.00s/it]"
     ]
    },
    {
     "name": "stdout",
     "output_type": "stream",
     "text": [
      "253/2388 행 요약 완료\n"
     ]
    },
    {
     "name": "stderr",
     "output_type": "stream",
     "text": [
      "요약 진행 중:  11%|█         | 253/2388 [10:36<1:05:03,  1.83s/it]"
     ]
    },
    {
     "name": "stdout",
     "output_type": "stream",
     "text": [
      "254/2388 행 요약 완료\n"
     ]
    },
    {
     "name": "stderr",
     "output_type": "stream",
     "text": [
      "요약 진행 중:  11%|█         | 254/2388 [10:37<59:14,  1.67s/it]  "
     ]
    },
    {
     "name": "stdout",
     "output_type": "stream",
     "text": [
      "255/2388 행 요약 완료\n"
     ]
    },
    {
     "name": "stderr",
     "output_type": "stream",
     "text": [
      "요약 진행 중:  11%|█         | 255/2388 [10:39<1:02:09,  1.75s/it]"
     ]
    },
    {
     "name": "stdout",
     "output_type": "stream",
     "text": [
      "256/2388 행 요약 완료\n"
     ]
    },
    {
     "name": "stderr",
     "output_type": "stream",
     "text": [
      "요약 진행 중:  11%|█         | 256/2388 [10:41<1:02:49,  1.77s/it]"
     ]
    },
    {
     "name": "stdout",
     "output_type": "stream",
     "text": [
      "257/2388 행 요약 완료\n"
     ]
    },
    {
     "name": "stderr",
     "output_type": "stream",
     "text": [
      "요약 진행 중:  11%|█         | 257/2388 [10:44<1:20:59,  2.28s/it]"
     ]
    },
    {
     "name": "stdout",
     "output_type": "stream",
     "text": [
      "258/2388 행 요약 완료\n"
     ]
    },
    {
     "name": "stderr",
     "output_type": "stream",
     "text": [
      "요약 진행 중:  11%|█         | 258/2388 [10:47<1:25:50,  2.42s/it]"
     ]
    },
    {
     "name": "stdout",
     "output_type": "stream",
     "text": [
      "259/2388 행 요약 완료\n"
     ]
    },
    {
     "name": "stderr",
     "output_type": "stream",
     "text": [
      "요약 진행 중:  11%|█         | 259/2388 [10:51<1:47:20,  3.03s/it]"
     ]
    },
    {
     "name": "stdout",
     "output_type": "stream",
     "text": [
      "260/2388 행 요약 완료\n"
     ]
    },
    {
     "name": "stderr",
     "output_type": "stream",
     "text": [
      "요약 진행 중:  11%|█         | 260/2388 [10:53<1:32:28,  2.61s/it]"
     ]
    },
    {
     "name": "stdout",
     "output_type": "stream",
     "text": [
      "261/2388 행 요약 완료\n"
     ]
    },
    {
     "name": "stderr",
     "output_type": "stream",
     "text": [
      "요약 진행 중:  11%|█         | 261/2388 [10:56<1:42:47,  2.90s/it]"
     ]
    },
    {
     "name": "stdout",
     "output_type": "stream",
     "text": [
      "262/2388 행 요약 완료\n"
     ]
    },
    {
     "name": "stderr",
     "output_type": "stream",
     "text": [
      "요약 진행 중:  11%|█         | 262/2388 [11:01<2:00:20,  3.40s/it]"
     ]
    },
    {
     "name": "stdout",
     "output_type": "stream",
     "text": [
      "263/2388 행 요약 완료\n"
     ]
    },
    {
     "name": "stderr",
     "output_type": "stream",
     "text": [
      "요약 진행 중:  11%|█         | 263/2388 [11:03<1:41:58,  2.88s/it]"
     ]
    },
    {
     "name": "stdout",
     "output_type": "stream",
     "text": [
      "264/2388 행 요약 완료\n"
     ]
    },
    {
     "name": "stderr",
     "output_type": "stream",
     "text": [
      "요약 진행 중:  11%|█         | 264/2388 [11:05<1:34:40,  2.67s/it]"
     ]
    },
    {
     "name": "stdout",
     "output_type": "stream",
     "text": [
      "265/2388 행 요약 완료\n"
     ]
    },
    {
     "name": "stderr",
     "output_type": "stream",
     "text": [
      "요약 진행 중:  11%|█         | 265/2388 [11:06<1:23:10,  2.35s/it]"
     ]
    },
    {
     "name": "stdout",
     "output_type": "stream",
     "text": [
      "266/2388 행 요약 완료\n"
     ]
    },
    {
     "name": "stderr",
     "output_type": "stream",
     "text": [
      "요약 진행 중:  11%|█         | 266/2388 [11:10<1:30:59,  2.57s/it]"
     ]
    },
    {
     "name": "stdout",
     "output_type": "stream",
     "text": [
      "267/2388 행 요약 완료\n"
     ]
    },
    {
     "name": "stderr",
     "output_type": "stream",
     "text": [
      "요약 진행 중:  11%|█         | 267/2388 [11:11<1:15:51,  2.15s/it]"
     ]
    },
    {
     "name": "stdout",
     "output_type": "stream",
     "text": [
      "268/2388 행 요약 완료\n"
     ]
    },
    {
     "name": "stderr",
     "output_type": "stream",
     "text": [
      "요약 진행 중:  11%|█         | 268/2388 [11:13<1:19:56,  2.26s/it]"
     ]
    },
    {
     "name": "stdout",
     "output_type": "stream",
     "text": [
      "269/2388 행 요약 완료\n"
     ]
    },
    {
     "name": "stderr",
     "output_type": "stream",
     "text": [
      "요약 진행 중:  11%|█▏        | 269/2388 [11:15<1:18:42,  2.23s/it]"
     ]
    },
    {
     "name": "stdout",
     "output_type": "stream",
     "text": [
      "270/2388 행 요약 완료\n"
     ]
    },
    {
     "name": "stderr",
     "output_type": "stream",
     "text": [
      "요약 진행 중:  11%|█▏        | 270/2388 [11:18<1:26:26,  2.45s/it]"
     ]
    },
    {
     "name": "stdout",
     "output_type": "stream",
     "text": [
      "271/2388 행 요약 완료\n"
     ]
    },
    {
     "name": "stderr",
     "output_type": "stream",
     "text": [
      "요약 진행 중:  11%|█▏        | 271/2388 [11:21<1:24:28,  2.39s/it]"
     ]
    },
    {
     "name": "stdout",
     "output_type": "stream",
     "text": [
      "272/2388 행 요약 완료\n"
     ]
    },
    {
     "name": "stderr",
     "output_type": "stream",
     "text": [
      "요약 진행 중:  11%|█▏        | 272/2388 [11:22<1:15:21,  2.14s/it]"
     ]
    },
    {
     "name": "stdout",
     "output_type": "stream",
     "text": [
      "273/2388 행 요약 완료\n"
     ]
    },
    {
     "name": "stderr",
     "output_type": "stream",
     "text": [
      "요약 진행 중:  11%|█▏        | 273/2388 [11:23<1:05:06,  1.85s/it]"
     ]
    },
    {
     "name": "stdout",
     "output_type": "stream",
     "text": [
      "274/2388 행 요약 완료\n"
     ]
    },
    {
     "name": "stderr",
     "output_type": "stream",
     "text": [
      "요약 진행 중:  11%|█▏        | 274/2388 [11:25<1:07:32,  1.92s/it]"
     ]
    },
    {
     "name": "stdout",
     "output_type": "stream",
     "text": [
      "275/2388 행 요약 완료\n"
     ]
    },
    {
     "name": "stderr",
     "output_type": "stream",
     "text": [
      "요약 진행 중:  12%|█▏        | 275/2388 [11:27<1:05:18,  1.85s/it]"
     ]
    },
    {
     "name": "stdout",
     "output_type": "stream",
     "text": [
      "276/2388 행 요약 완료\n"
     ]
    },
    {
     "name": "stderr",
     "output_type": "stream",
     "text": [
      "요약 진행 중:  12%|█▏        | 276/2388 [11:28<1:00:21,  1.71s/it]"
     ]
    },
    {
     "name": "stdout",
     "output_type": "stream",
     "text": [
      "277/2388 행 요약 완료\n"
     ]
    },
    {
     "name": "stderr",
     "output_type": "stream",
     "text": [
      "요약 진행 중:  12%|█▏        | 277/2388 [11:33<1:29:19,  2.54s/it]"
     ]
    },
    {
     "name": "stdout",
     "output_type": "stream",
     "text": [
      "278/2388 행 요약 완료\n"
     ]
    },
    {
     "name": "stderr",
     "output_type": "stream",
     "text": [
      "요약 진행 중:  12%|█▏        | 278/2388 [11:34<1:16:40,  2.18s/it]"
     ]
    },
    {
     "name": "stdout",
     "output_type": "stream",
     "text": [
      "279/2388 행 요약 완료\n"
     ]
    },
    {
     "name": "stderr",
     "output_type": "stream",
     "text": [
      "요약 진행 중:  12%|█▏        | 279/2388 [11:36<1:14:33,  2.12s/it]"
     ]
    },
    {
     "name": "stdout",
     "output_type": "stream",
     "text": [
      "280/2388 행 요약 완료\n"
     ]
    },
    {
     "name": "stderr",
     "output_type": "stream",
     "text": [
      "요약 진행 중:  12%|█▏        | 280/2388 [11:38<1:05:49,  1.87s/it]"
     ]
    },
    {
     "name": "stdout",
     "output_type": "stream",
     "text": [
      "281/2388 행 요약 완료\n"
     ]
    },
    {
     "name": "stderr",
     "output_type": "stream",
     "text": [
      "요약 진행 중:  12%|█▏        | 281/2388 [11:39<58:40,  1.67s/it]  "
     ]
    },
    {
     "name": "stdout",
     "output_type": "stream",
     "text": [
      "282/2388 행 요약 완료\n"
     ]
    },
    {
     "name": "stderr",
     "output_type": "stream",
     "text": [
      "요약 진행 중:  12%|█▏        | 282/2388 [11:40<53:20,  1.52s/it]"
     ]
    },
    {
     "name": "stdout",
     "output_type": "stream",
     "text": [
      "283/2388 행 요약 완료\n"
     ]
    },
    {
     "name": "stderr",
     "output_type": "stream",
     "text": [
      "요약 진행 중:  12%|█▏        | 283/2388 [11:41<53:16,  1.52s/it]"
     ]
    },
    {
     "name": "stdout",
     "output_type": "stream",
     "text": [
      "284/2388 행 요약 완료\n"
     ]
    },
    {
     "name": "stderr",
     "output_type": "stream",
     "text": [
      "요약 진행 중:  12%|█▏        | 284/2388 [11:44<1:00:45,  1.73s/it]"
     ]
    },
    {
     "name": "stdout",
     "output_type": "stream",
     "text": [
      "285/2388 행 요약 완료\n"
     ]
    },
    {
     "name": "stderr",
     "output_type": "stream",
     "text": [
      "요약 진행 중:  12%|█▏        | 285/2388 [11:45<57:59,  1.65s/it]  "
     ]
    },
    {
     "name": "stdout",
     "output_type": "stream",
     "text": [
      "286/2388 행 요약 완료\n"
     ]
    },
    {
     "name": "stderr",
     "output_type": "stream",
     "text": [
      "요약 진행 중:  12%|█▏        | 286/2388 [11:47<56:32,  1.61s/it]"
     ]
    },
    {
     "name": "stdout",
     "output_type": "stream",
     "text": [
      "287/2388 행 요약 완료\n"
     ]
    },
    {
     "name": "stderr",
     "output_type": "stream",
     "text": [
      "요약 진행 중:  12%|█▏        | 287/2388 [11:49<1:03:18,  1.81s/it]"
     ]
    },
    {
     "name": "stdout",
     "output_type": "stream",
     "text": [
      "288/2388 행 요약 완료\n"
     ]
    },
    {
     "name": "stderr",
     "output_type": "stream",
     "text": [
      "요약 진행 중:  12%|█▏        | 288/2388 [11:50<57:36,  1.65s/it]  "
     ]
    },
    {
     "name": "stdout",
     "output_type": "stream",
     "text": [
      "289/2388 행 요약 완료\n"
     ]
    },
    {
     "name": "stderr",
     "output_type": "stream",
     "text": [
      "요약 진행 중:  12%|█▏        | 289/2388 [11:53<1:04:39,  1.85s/it]"
     ]
    },
    {
     "name": "stdout",
     "output_type": "stream",
     "text": [
      "290/2388 행 요약 완료\n"
     ]
    },
    {
     "name": "stderr",
     "output_type": "stream",
     "text": [
      "요약 진행 중:  12%|█▏        | 290/2388 [11:57<1:29:56,  2.57s/it]"
     ]
    },
    {
     "name": "stdout",
     "output_type": "stream",
     "text": [
      "291/2388 행 요약 완료\n"
     ]
    },
    {
     "name": "stderr",
     "output_type": "stream",
     "text": [
      "요약 진행 중:  12%|█▏        | 291/2388 [12:01<1:49:51,  3.14s/it]"
     ]
    },
    {
     "name": "stdout",
     "output_type": "stream",
     "text": [
      "292/2388 행 요약 완료\n"
     ]
    },
    {
     "name": "stderr",
     "output_type": "stream",
     "text": [
      "요약 진행 중:  12%|█▏        | 292/2388 [12:04<1:41:10,  2.90s/it]"
     ]
    },
    {
     "name": "stdout",
     "output_type": "stream",
     "text": [
      "293/2388 행 요약 완료\n"
     ]
    },
    {
     "name": "stderr",
     "output_type": "stream",
     "text": [
      "요약 진행 중:  12%|█▏        | 293/2388 [12:06<1:40:00,  2.86s/it]"
     ]
    },
    {
     "name": "stdout",
     "output_type": "stream",
     "text": [
      "294/2388 행 요약 완료\n"
     ]
    },
    {
     "name": "stderr",
     "output_type": "stream",
     "text": [
      "요약 진행 중:  12%|█▏        | 294/2388 [12:08<1:25:59,  2.46s/it]"
     ]
    },
    {
     "name": "stdout",
     "output_type": "stream",
     "text": [
      "295/2388 행 요약 완료\n"
     ]
    },
    {
     "name": "stderr",
     "output_type": "stream",
     "text": [
      "요약 진행 중:  12%|█▏        | 295/2388 [12:10<1:26:33,  2.48s/it]"
     ]
    },
    {
     "name": "stdout",
     "output_type": "stream",
     "text": [
      "296/2388 행 요약 완료\n"
     ]
    },
    {
     "name": "stderr",
     "output_type": "stream",
     "text": [
      "요약 진행 중:  12%|█▏        | 296/2388 [12:15<1:49:52,  3.15s/it]"
     ]
    },
    {
     "name": "stdout",
     "output_type": "stream",
     "text": [
      "297/2388 행 요약 완료\n"
     ]
    },
    {
     "name": "stderr",
     "output_type": "stream",
     "text": [
      "요약 진행 중:  12%|█▏        | 297/2388 [12:16<1:30:02,  2.58s/it]"
     ]
    },
    {
     "name": "stdout",
     "output_type": "stream",
     "text": [
      "298/2388 행 요약 완료\n"
     ]
    },
    {
     "name": "stderr",
     "output_type": "stream",
     "text": [
      "요약 진행 중:  12%|█▏        | 298/2388 [12:18<1:23:14,  2.39s/it]"
     ]
    },
    {
     "name": "stdout",
     "output_type": "stream",
     "text": [
      "299/2388 행 요약 완료\n"
     ]
    },
    {
     "name": "stderr",
     "output_type": "stream",
     "text": [
      "요약 진행 중:  13%|█▎        | 299/2388 [12:20<1:19:59,  2.30s/it]"
     ]
    },
    {
     "name": "stdout",
     "output_type": "stream",
     "text": [
      "300/2388 행 요약 완료\n"
     ]
    },
    {
     "name": "stderr",
     "output_type": "stream",
     "text": [
      "요약 진행 중:  13%|█▎        | 300/2388 [12:22<1:10:35,  2.03s/it]"
     ]
    },
    {
     "name": "stdout",
     "output_type": "stream",
     "text": [
      "301/2388 행 요약 완료\n"
     ]
    },
    {
     "name": "stderr",
     "output_type": "stream",
     "text": [
      "요약 진행 중:  13%|█▎        | 301/2388 [12:25<1:20:40,  2.32s/it]"
     ]
    },
    {
     "name": "stdout",
     "output_type": "stream",
     "text": [
      "302/2388 행 요약 완료\n"
     ]
    },
    {
     "name": "stderr",
     "output_type": "stream",
     "text": [
      "요약 진행 중:  13%|█▎        | 302/2388 [12:28<1:28:06,  2.53s/it]"
     ]
    },
    {
     "name": "stdout",
     "output_type": "stream",
     "text": [
      "303/2388 행 요약 완료\n"
     ]
    },
    {
     "name": "stderr",
     "output_type": "stream",
     "text": [
      "요약 진행 중:  13%|█▎        | 303/2388 [12:30<1:28:24,  2.54s/it]"
     ]
    },
    {
     "name": "stdout",
     "output_type": "stream",
     "text": [
      "304/2388 행 요약 완료\n"
     ]
    },
    {
     "name": "stderr",
     "output_type": "stream",
     "text": [
      "요약 진행 중:  13%|█▎        | 304/2388 [12:32<1:23:30,  2.40s/it]"
     ]
    },
    {
     "name": "stdout",
     "output_type": "stream",
     "text": [
      "305/2388 행 요약 완료\n"
     ]
    },
    {
     "name": "stderr",
     "output_type": "stream",
     "text": [
      "요약 진행 중:  13%|█▎        | 305/2388 [12:35<1:22:28,  2.38s/it]"
     ]
    },
    {
     "name": "stdout",
     "output_type": "stream",
     "text": [
      "306/2388 행 요약 완료\n"
     ]
    },
    {
     "name": "stderr",
     "output_type": "stream",
     "text": [
      "요약 진행 중:  13%|█▎        | 306/2388 [12:39<1:41:38,  2.93s/it]"
     ]
    },
    {
     "name": "stdout",
     "output_type": "stream",
     "text": [
      "307/2388 행 요약 완료\n"
     ]
    },
    {
     "name": "stderr",
     "output_type": "stream",
     "text": [
      "요약 진행 중:  13%|█▎        | 307/2388 [12:43<1:48:32,  3.13s/it]"
     ]
    },
    {
     "name": "stdout",
     "output_type": "stream",
     "text": [
      "308/2388 행 요약 완료\n"
     ]
    },
    {
     "name": "stderr",
     "output_type": "stream",
     "text": [
      "요약 진행 중:  13%|█▎        | 308/2388 [12:46<1:52:01,  3.23s/it]"
     ]
    },
    {
     "name": "stdout",
     "output_type": "stream",
     "text": [
      "309/2388 행 요약 완료\n"
     ]
    },
    {
     "name": "stderr",
     "output_type": "stream",
     "text": [
      "요약 진행 중:  13%|█▎        | 309/2388 [12:49<1:47:01,  3.09s/it]"
     ]
    },
    {
     "name": "stdout",
     "output_type": "stream",
     "text": [
      "310/2388 행 요약 완료\n"
     ]
    },
    {
     "name": "stderr",
     "output_type": "stream",
     "text": [
      "요약 진행 중:  13%|█▎        | 310/2388 [12:52<1:43:36,  2.99s/it]"
     ]
    },
    {
     "name": "stdout",
     "output_type": "stream",
     "text": [
      "311/2388 행 요약 완료\n"
     ]
    },
    {
     "name": "stderr",
     "output_type": "stream",
     "text": [
      "요약 진행 중:  13%|█▎        | 311/2388 [12:56<1:59:03,  3.44s/it]"
     ]
    },
    {
     "name": "stdout",
     "output_type": "stream",
     "text": [
      "312/2388 행 요약 완료\n"
     ]
    },
    {
     "name": "stderr",
     "output_type": "stream",
     "text": [
      "요약 진행 중:  13%|█▎        | 312/2388 [12:58<1:42:55,  2.97s/it]"
     ]
    },
    {
     "name": "stdout",
     "output_type": "stream",
     "text": [
      "313/2388 행 요약 완료\n"
     ]
    },
    {
     "name": "stderr",
     "output_type": "stream",
     "text": [
      "요약 진행 중:  13%|█▎        | 313/2388 [13:00<1:32:24,  2.67s/it]"
     ]
    },
    {
     "name": "stdout",
     "output_type": "stream",
     "text": [
      "314/2388 행 요약 완료\n"
     ]
    },
    {
     "name": "stderr",
     "output_type": "stream",
     "text": [
      "요약 진행 중:  13%|█▎        | 314/2388 [13:02<1:26:58,  2.52s/it]"
     ]
    },
    {
     "name": "stdout",
     "output_type": "stream",
     "text": [
      "315/2388 행 요약 완료\n"
     ]
    },
    {
     "name": "stderr",
     "output_type": "stream",
     "text": [
      "요약 진행 중:  13%|█▎        | 315/2388 [13:05<1:32:32,  2.68s/it]"
     ]
    },
    {
     "name": "stdout",
     "output_type": "stream",
     "text": [
      "316/2388 행 요약 완료\n"
     ]
    },
    {
     "name": "stderr",
     "output_type": "stream",
     "text": [
      "요약 진행 중:  13%|█▎        | 316/2388 [13:08<1:31:11,  2.64s/it]"
     ]
    },
    {
     "name": "stdout",
     "output_type": "stream",
     "text": [
      "317/2388 행 요약 완료\n"
     ]
    },
    {
     "name": "stderr",
     "output_type": "stream",
     "text": [
      "요약 진행 중:  13%|█▎        | 317/2388 [13:10<1:29:10,  2.58s/it]"
     ]
    },
    {
     "name": "stdout",
     "output_type": "stream",
     "text": [
      "318/2388 행 요약 완료\n"
     ]
    },
    {
     "name": "stderr",
     "output_type": "stream",
     "text": [
      "요약 진행 중:  13%|█▎        | 318/2388 [13:14<1:40:03,  2.90s/it]"
     ]
    },
    {
     "name": "stdout",
     "output_type": "stream",
     "text": [
      "319/2388 행 요약 완료\n"
     ]
    },
    {
     "name": "stderr",
     "output_type": "stream",
     "text": [
      "요약 진행 중:  13%|█▎        | 319/2388 [13:16<1:31:39,  2.66s/it]"
     ]
    },
    {
     "name": "stdout",
     "output_type": "stream",
     "text": [
      "320/2388 행 요약 완료\n"
     ]
    },
    {
     "name": "stderr",
     "output_type": "stream",
     "text": [
      "요약 진행 중:  13%|█▎        | 320/2388 [13:17<1:17:39,  2.25s/it]"
     ]
    },
    {
     "name": "stdout",
     "output_type": "stream",
     "text": [
      "321/2388 행 요약 완료\n"
     ]
    },
    {
     "name": "stderr",
     "output_type": "stream",
     "text": [
      "요약 진행 중:  13%|█▎        | 321/2388 [13:19<1:16:58,  2.23s/it]"
     ]
    },
    {
     "name": "stdout",
     "output_type": "stream",
     "text": [
      "322/2388 행 요약 완료\n"
     ]
    },
    {
     "name": "stderr",
     "output_type": "stream",
     "text": [
      "요약 진행 중:  13%|█▎        | 322/2388 [13:24<1:37:04,  2.82s/it]"
     ]
    },
    {
     "name": "stdout",
     "output_type": "stream",
     "text": [
      "323/2388 행 요약 완료\n"
     ]
    },
    {
     "name": "stderr",
     "output_type": "stream",
     "text": [
      "요약 진행 중:  14%|█▎        | 323/2388 [13:25<1:26:19,  2.51s/it]"
     ]
    },
    {
     "name": "stdout",
     "output_type": "stream",
     "text": [
      "324/2388 행 요약 완료\n"
     ]
    },
    {
     "name": "stderr",
     "output_type": "stream",
     "text": [
      "요약 진행 중:  14%|█▎        | 324/2388 [13:27<1:17:56,  2.27s/it]"
     ]
    },
    {
     "name": "stdout",
     "output_type": "stream",
     "text": [
      "325/2388 행 요약 완료\n"
     ]
    },
    {
     "name": "stderr",
     "output_type": "stream",
     "text": [
      "요약 진행 중:  14%|█▎        | 325/2388 [13:30<1:26:44,  2.52s/it]"
     ]
    },
    {
     "name": "stdout",
     "output_type": "stream",
     "text": [
      "326/2388 행 요약 완료\n"
     ]
    },
    {
     "name": "stderr",
     "output_type": "stream",
     "text": [
      "요약 진행 중:  14%|█▎        | 326/2388 [13:34<1:42:57,  3.00s/it]"
     ]
    },
    {
     "name": "stdout",
     "output_type": "stream",
     "text": [
      "327/2388 행 요약 완료\n"
     ]
    },
    {
     "name": "stderr",
     "output_type": "stream",
     "text": [
      "요약 진행 중:  14%|█▎        | 327/2388 [13:37<1:38:49,  2.88s/it]"
     ]
    },
    {
     "name": "stdout",
     "output_type": "stream",
     "text": [
      "328/2388 행 요약 완료\n"
     ]
    },
    {
     "name": "stderr",
     "output_type": "stream",
     "text": [
      "요약 진행 중:  14%|█▎        | 328/2388 [13:40<1:44:21,  3.04s/it]"
     ]
    },
    {
     "name": "stdout",
     "output_type": "stream",
     "text": [
      "329/2388 행 요약 완료\n"
     ]
    },
    {
     "name": "stderr",
     "output_type": "stream",
     "text": [
      "요약 진행 중:  14%|█▍        | 329/2388 [13:44<1:53:07,  3.30s/it]"
     ]
    },
    {
     "name": "stdout",
     "output_type": "stream",
     "text": [
      "330/2388 행 요약 완료\n"
     ]
    },
    {
     "name": "stderr",
     "output_type": "stream",
     "text": [
      "요약 진행 중:  14%|█▍        | 330/2388 [13:46<1:32:42,  2.70s/it]"
     ]
    },
    {
     "name": "stdout",
     "output_type": "stream",
     "text": [
      "331/2388 행 요약 완료\n"
     ]
    },
    {
     "name": "stderr",
     "output_type": "stream",
     "text": [
      "요약 진행 중:  14%|█▍        | 331/2388 [13:50<1:56:01,  3.38s/it]"
     ]
    },
    {
     "name": "stdout",
     "output_type": "stream",
     "text": [
      "332/2388 행 요약 완료\n"
     ]
    },
    {
     "name": "stderr",
     "output_type": "stream",
     "text": [
      "요약 진행 중:  14%|█▍        | 332/2388 [13:52<1:37:23,  2.84s/it]"
     ]
    },
    {
     "name": "stdout",
     "output_type": "stream",
     "text": [
      "333/2388 행 요약 완료\n"
     ]
    },
    {
     "name": "stderr",
     "output_type": "stream",
     "text": [
      "요약 진행 중:  14%|█▍        | 333/2388 [13:55<1:43:03,  3.01s/it]"
     ]
    },
    {
     "name": "stdout",
     "output_type": "stream",
     "text": [
      "334/2388 행 요약 완료\n"
     ]
    },
    {
     "name": "stderr",
     "output_type": "stream",
     "text": [
      "요약 진행 중:  14%|█▍        | 334/2388 [13:57<1:31:38,  2.68s/it]"
     ]
    },
    {
     "name": "stdout",
     "output_type": "stream",
     "text": [
      "335/2388 행 요약 완료\n"
     ]
    },
    {
     "name": "stderr",
     "output_type": "stream",
     "text": [
      "요약 진행 중:  14%|█▍        | 335/2388 [13:59<1:23:32,  2.44s/it]"
     ]
    },
    {
     "name": "stdout",
     "output_type": "stream",
     "text": [
      "336/2388 행 요약 완료\n"
     ]
    },
    {
     "name": "stderr",
     "output_type": "stream",
     "text": [
      "요약 진행 중:  14%|█▍        | 336/2388 [14:02<1:28:33,  2.59s/it]"
     ]
    },
    {
     "name": "stdout",
     "output_type": "stream",
     "text": [
      "337/2388 행 요약 완료\n"
     ]
    },
    {
     "name": "stderr",
     "output_type": "stream",
     "text": [
      "요약 진행 중:  14%|█▍        | 337/2388 [14:04<1:24:36,  2.48s/it]"
     ]
    },
    {
     "name": "stdout",
     "output_type": "stream",
     "text": [
      "338/2388 행 요약 완료\n"
     ]
    },
    {
     "name": "stderr",
     "output_type": "stream",
     "text": [
      "요약 진행 중:  14%|█▍        | 338/2388 [14:08<1:35:29,  2.79s/it]"
     ]
    },
    {
     "name": "stdout",
     "output_type": "stream",
     "text": [
      "339/2388 행 요약 완료\n"
     ]
    },
    {
     "name": "stderr",
     "output_type": "stream",
     "text": [
      "요약 진행 중:  14%|█▍        | 339/2388 [14:10<1:27:30,  2.56s/it]"
     ]
    },
    {
     "name": "stdout",
     "output_type": "stream",
     "text": [
      "340/2388 행 요약 완료\n"
     ]
    },
    {
     "name": "stderr",
     "output_type": "stream",
     "text": [
      "요약 진행 중:  14%|█▍        | 340/2388 [14:12<1:19:30,  2.33s/it]"
     ]
    },
    {
     "name": "stdout",
     "output_type": "stream",
     "text": [
      "341/2388 행 요약 완료\n"
     ]
    },
    {
     "name": "stderr",
     "output_type": "stream",
     "text": [
      "요약 진행 중:  14%|█▍        | 341/2388 [14:14<1:23:43,  2.45s/it]"
     ]
    },
    {
     "name": "stdout",
     "output_type": "stream",
     "text": [
      "342/2388 행 요약 완료\n"
     ]
    },
    {
     "name": "stderr",
     "output_type": "stream",
     "text": [
      "요약 진행 중:  14%|█▍        | 342/2388 [14:18<1:35:43,  2.81s/it]"
     ]
    },
    {
     "name": "stdout",
     "output_type": "stream",
     "text": [
      "343/2388 행 요약 완료\n"
     ]
    },
    {
     "name": "stderr",
     "output_type": "stream",
     "text": [
      "요약 진행 중:  14%|█▍        | 343/2388 [14:22<1:45:59,  3.11s/it]"
     ]
    },
    {
     "name": "stdout",
     "output_type": "stream",
     "text": [
      "344/2388 행 요약 완료\n"
     ]
    },
    {
     "name": "stderr",
     "output_type": "stream",
     "text": [
      "요약 진행 중:  14%|█▍        | 344/2388 [14:27<2:09:59,  3.82s/it]"
     ]
    },
    {
     "name": "stdout",
     "output_type": "stream",
     "text": [
      "345/2388 행 요약 완료\n"
     ]
    },
    {
     "name": "stderr",
     "output_type": "stream",
     "text": [
      "요약 진행 중:  14%|█▍        | 345/2388 [14:29<1:46:23,  3.12s/it]"
     ]
    },
    {
     "name": "stdout",
     "output_type": "stream",
     "text": [
      "346/2388 행 요약 완료\n"
     ]
    },
    {
     "name": "stderr",
     "output_type": "stream",
     "text": [
      "요약 진행 중:  14%|█▍        | 346/2388 [14:30<1:28:07,  2.59s/it]"
     ]
    },
    {
     "name": "stdout",
     "output_type": "stream",
     "text": [
      "347/2388 행 요약 완료\n"
     ]
    },
    {
     "name": "stderr",
     "output_type": "stream",
     "text": [
      "요약 진행 중:  15%|█▍        | 347/2388 [14:34<1:35:48,  2.82s/it]"
     ]
    },
    {
     "name": "stdout",
     "output_type": "stream",
     "text": [
      "348/2388 행 요약 완료\n"
     ]
    },
    {
     "name": "stderr",
     "output_type": "stream",
     "text": [
      "요약 진행 중:  15%|█▍        | 348/2388 [14:35<1:21:43,  2.40s/it]"
     ]
    },
    {
     "name": "stdout",
     "output_type": "stream",
     "text": [
      "349/2388 행 요약 완료\n"
     ]
    },
    {
     "name": "stderr",
     "output_type": "stream",
     "text": [
      "요약 진행 중:  15%|█▍        | 349/2388 [14:36<1:10:41,  2.08s/it]"
     ]
    },
    {
     "name": "stdout",
     "output_type": "stream",
     "text": [
      "350/2388 행 요약 완료\n"
     ]
    },
    {
     "name": "stderr",
     "output_type": "stream",
     "text": [
      "요약 진행 중:  15%|█▍        | 350/2388 [14:38<1:02:56,  1.85s/it]"
     ]
    },
    {
     "name": "stdout",
     "output_type": "stream",
     "text": [
      "351/2388 행 요약 완료\n"
     ]
    },
    {
     "name": "stderr",
     "output_type": "stream",
     "text": [
      "요약 진행 중:  15%|█▍        | 351/2388 [14:39<55:29,  1.63s/it]  "
     ]
    },
    {
     "name": "stdout",
     "output_type": "stream",
     "text": [
      "352/2388 행 요약 완료\n"
     ]
    },
    {
     "name": "stderr",
     "output_type": "stream",
     "text": [
      "요약 진행 중:  15%|█▍        | 352/2388 [14:41<1:01:59,  1.83s/it]"
     ]
    },
    {
     "name": "stdout",
     "output_type": "stream",
     "text": [
      "353/2388 행 요약 완료\n"
     ]
    },
    {
     "name": "stderr",
     "output_type": "stream",
     "text": [
      "요약 진행 중:  15%|█▍        | 353/2388 [14:45<1:25:00,  2.51s/it]"
     ]
    },
    {
     "name": "stdout",
     "output_type": "stream",
     "text": [
      "354/2388 행 요약 완료\n"
     ]
    },
    {
     "name": "stderr",
     "output_type": "stream",
     "text": [
      "요약 진행 중:  15%|█▍        | 354/2388 [14:48<1:29:11,  2.63s/it]"
     ]
    },
    {
     "name": "stdout",
     "output_type": "stream",
     "text": [
      "355/2388 행 요약 완료\n"
     ]
    },
    {
     "name": "stderr",
     "output_type": "stream",
     "text": [
      "요약 진행 중:  15%|█▍        | 355/2388 [14:51<1:27:57,  2.60s/it]"
     ]
    },
    {
     "name": "stdout",
     "output_type": "stream",
     "text": [
      "356/2388 행 요약 완료\n"
     ]
    },
    {
     "name": "stderr",
     "output_type": "stream",
     "text": [
      "요약 진행 중:  15%|█▍        | 356/2388 [14:54<1:37:09,  2.87s/it]"
     ]
    },
    {
     "name": "stdout",
     "output_type": "stream",
     "text": [
      "357/2388 행 요약 완료\n"
     ]
    },
    {
     "name": "stderr",
     "output_type": "stream",
     "text": [
      "요약 진행 중:  15%|█▍        | 357/2388 [14:58<1:47:37,  3.18s/it]"
     ]
    },
    {
     "name": "stdout",
     "output_type": "stream",
     "text": [
      "358/2388 행 요약 완료\n"
     ]
    },
    {
     "name": "stderr",
     "output_type": "stream",
     "text": [
      "요약 진행 중:  15%|█▍        | 358/2388 [15:00<1:31:30,  2.70s/it]"
     ]
    },
    {
     "name": "stdout",
     "output_type": "stream",
     "text": [
      "359/2388 행 요약 완료\n"
     ]
    },
    {
     "name": "stderr",
     "output_type": "stream",
     "text": [
      "요약 진행 중:  15%|█▌        | 359/2388 [15:02<1:24:18,  2.49s/it]"
     ]
    },
    {
     "name": "stdout",
     "output_type": "stream",
     "text": [
      "360/2388 행 요약 완료\n"
     ]
    },
    {
     "name": "stderr",
     "output_type": "stream",
     "text": [
      "요약 진행 중:  15%|█▌        | 360/2388 [15:04<1:25:35,  2.53s/it]"
     ]
    },
    {
     "name": "stdout",
     "output_type": "stream",
     "text": [
      "361/2388 행 요약 완료\n"
     ]
    },
    {
     "name": "stderr",
     "output_type": "stream",
     "text": [
      "요약 진행 중:  15%|█▌        | 361/2388 [15:06<1:16:22,  2.26s/it]"
     ]
    },
    {
     "name": "stdout",
     "output_type": "stream",
     "text": [
      "362/2388 행 요약 완료\n"
     ]
    },
    {
     "name": "stderr",
     "output_type": "stream",
     "text": [
      "요약 진행 중:  15%|█▌        | 362/2388 [15:08<1:13:11,  2.17s/it]"
     ]
    },
    {
     "name": "stdout",
     "output_type": "stream",
     "text": [
      "363/2388 행 요약 완료\n"
     ]
    },
    {
     "name": "stderr",
     "output_type": "stream",
     "text": [
      "요약 진행 중:  15%|█▌        | 363/2388 [15:09<1:06:30,  1.97s/it]"
     ]
    },
    {
     "name": "stdout",
     "output_type": "stream",
     "text": [
      "364/2388 행 요약 완료\n"
     ]
    },
    {
     "name": "stderr",
     "output_type": "stream",
     "text": [
      "요약 진행 중:  15%|█▌        | 364/2388 [15:11<1:00:57,  1.81s/it]"
     ]
    },
    {
     "name": "stdout",
     "output_type": "stream",
     "text": [
      "365/2388 행 요약 완료\n"
     ]
    },
    {
     "name": "stderr",
     "output_type": "stream",
     "text": [
      "요약 진행 중:  15%|█▌        | 365/2388 [15:12<58:43,  1.74s/it]  "
     ]
    },
    {
     "name": "stdout",
     "output_type": "stream",
     "text": [
      "366/2388 행 요약 완료\n"
     ]
    },
    {
     "name": "stderr",
     "output_type": "stream",
     "text": [
      "요약 진행 중:  15%|█▌        | 366/2388 [15:14<1:01:55,  1.84s/it]"
     ]
    },
    {
     "name": "stdout",
     "output_type": "stream",
     "text": [
      "367/2388 행 요약 완료\n"
     ]
    },
    {
     "name": "stderr",
     "output_type": "stream",
     "text": [
      "요약 진행 중:  15%|█▌        | 367/2388 [15:17<1:13:29,  2.18s/it]"
     ]
    },
    {
     "name": "stdout",
     "output_type": "stream",
     "text": [
      "368/2388 행 요약 완료\n"
     ]
    },
    {
     "name": "stderr",
     "output_type": "stream",
     "text": [
      "요약 진행 중:  15%|█▌        | 368/2388 [15:19<1:06:09,  1.96s/it]"
     ]
    },
    {
     "name": "stdout",
     "output_type": "stream",
     "text": [
      "369/2388 행 요약 완료\n"
     ]
    },
    {
     "name": "stderr",
     "output_type": "stream",
     "text": [
      "요약 진행 중:  15%|█▌        | 369/2388 [15:20<1:01:37,  1.83s/it]"
     ]
    },
    {
     "name": "stdout",
     "output_type": "stream",
     "text": [
      "370/2388 행 요약 완료\n"
     ]
    },
    {
     "name": "stderr",
     "output_type": "stream",
     "text": [
      "요약 진행 중:  15%|█▌        | 370/2388 [15:22<58:53,  1.75s/it]  "
     ]
    },
    {
     "name": "stdout",
     "output_type": "stream",
     "text": [
      "371/2388 행 요약 완료\n"
     ]
    },
    {
     "name": "stderr",
     "output_type": "stream",
     "text": [
      "요약 진행 중:  16%|█▌        | 371/2388 [15:24<1:04:40,  1.92s/it]"
     ]
    },
    {
     "name": "stdout",
     "output_type": "stream",
     "text": [
      "372/2388 행 요약 완료\n"
     ]
    },
    {
     "name": "stderr",
     "output_type": "stream",
     "text": [
      "요약 진행 중:  16%|█▌        | 372/2388 [15:27<1:11:11,  2.12s/it]"
     ]
    },
    {
     "name": "stdout",
     "output_type": "stream",
     "text": [
      "373/2388 행 요약 완료\n"
     ]
    },
    {
     "name": "stderr",
     "output_type": "stream",
     "text": [
      "요약 진행 중:  16%|█▌        | 373/2388 [15:29<1:07:20,  2.01s/it]"
     ]
    },
    {
     "name": "stdout",
     "output_type": "stream",
     "text": [
      "374/2388 행 요약 완료\n"
     ]
    },
    {
     "name": "stderr",
     "output_type": "stream",
     "text": [
      "요약 진행 중:  16%|█▌        | 374/2388 [15:31<1:12:10,  2.15s/it]"
     ]
    },
    {
     "name": "stdout",
     "output_type": "stream",
     "text": [
      "375/2388 행 요약 완료\n"
     ]
    },
    {
     "name": "stderr",
     "output_type": "stream",
     "text": [
      "요약 진행 중:  16%|█▌        | 375/2388 [15:34<1:22:58,  2.47s/it]"
     ]
    },
    {
     "name": "stdout",
     "output_type": "stream",
     "text": [
      "376/2388 행 요약 완료\n"
     ]
    },
    {
     "name": "stderr",
     "output_type": "stream",
     "text": [
      "요약 진행 중:  16%|█▌        | 376/2388 [15:39<1:43:11,  3.08s/it]"
     ]
    },
    {
     "name": "stdout",
     "output_type": "stream",
     "text": [
      "377/2388 행 요약 완료\n"
     ]
    },
    {
     "name": "stderr",
     "output_type": "stream",
     "text": [
      "요약 진행 중:  16%|█▌        | 377/2388 [15:40<1:25:36,  2.55s/it]"
     ]
    },
    {
     "name": "stdout",
     "output_type": "stream",
     "text": [
      "378/2388 행 요약 완료\n"
     ]
    },
    {
     "name": "stderr",
     "output_type": "stream",
     "text": [
      "요약 진행 중:  16%|█▌        | 378/2388 [15:42<1:18:09,  2.33s/it]"
     ]
    },
    {
     "name": "stdout",
     "output_type": "stream",
     "text": [
      "379/2388 행 요약 완료\n"
     ]
    },
    {
     "name": "stderr",
     "output_type": "stream",
     "text": [
      "요약 진행 중:  16%|█▌        | 379/2388 [15:44<1:19:18,  2.37s/it]"
     ]
    },
    {
     "name": "stdout",
     "output_type": "stream",
     "text": [
      "380/2388 행 요약 완료\n"
     ]
    },
    {
     "name": "stderr",
     "output_type": "stream",
     "text": [
      "요약 진행 중:  16%|█▌        | 380/2388 [15:45<1:05:54,  1.97s/it]"
     ]
    },
    {
     "name": "stdout",
     "output_type": "stream",
     "text": [
      "381/2388 행 요약 완료\n"
     ]
    },
    {
     "name": "stderr",
     "output_type": "stream",
     "text": [
      "요약 진행 중:  16%|█▌        | 381/2388 [15:48<1:13:20,  2.19s/it]"
     ]
    },
    {
     "name": "stdout",
     "output_type": "stream",
     "text": [
      "382/2388 행 요약 완료\n"
     ]
    },
    {
     "name": "stderr",
     "output_type": "stream",
     "text": [
      "요약 진행 중:  16%|█▌        | 382/2388 [15:50<1:10:22,  2.11s/it]"
     ]
    },
    {
     "name": "stdout",
     "output_type": "stream",
     "text": [
      "383/2388 행 요약 완료\n"
     ]
    },
    {
     "name": "stderr",
     "output_type": "stream",
     "text": [
      "요약 진행 중:  16%|█▌        | 383/2388 [15:52<1:05:24,  1.96s/it]"
     ]
    },
    {
     "name": "stdout",
     "output_type": "stream",
     "text": [
      "384/2388 행 요약 완료\n"
     ]
    },
    {
     "name": "stderr",
     "output_type": "stream",
     "text": [
      "요약 진행 중:  16%|█▌        | 384/2388 [15:54<1:06:46,  2.00s/it]"
     ]
    },
    {
     "name": "stdout",
     "output_type": "stream",
     "text": [
      "385/2388 행 요약 완료\n"
     ]
    },
    {
     "name": "stderr",
     "output_type": "stream",
     "text": [
      "요약 진행 중:  16%|█▌        | 385/2388 [15:58<1:27:13,  2.61s/it]"
     ]
    },
    {
     "name": "stdout",
     "output_type": "stream",
     "text": [
      "386/2388 행 요약 완료\n"
     ]
    },
    {
     "name": "stderr",
     "output_type": "stream",
     "text": [
      "요약 진행 중:  16%|█▌        | 386/2388 [16:01<1:33:42,  2.81s/it]"
     ]
    },
    {
     "name": "stdout",
     "output_type": "stream",
     "text": [
      "387/2388 행 요약 완료\n"
     ]
    },
    {
     "name": "stderr",
     "output_type": "stream",
     "text": [
      "요약 진행 중:  16%|█▌        | 387/2388 [16:05<1:43:54,  3.12s/it]"
     ]
    },
    {
     "name": "stdout",
     "output_type": "stream",
     "text": [
      "388/2388 행 요약 완료\n"
     ]
    },
    {
     "name": "stderr",
     "output_type": "stream",
     "text": [
      "요약 진행 중:  16%|█▌        | 388/2388 [16:08<1:41:03,  3.03s/it]"
     ]
    },
    {
     "name": "stdout",
     "output_type": "stream",
     "text": [
      "389/2388 행 요약 완료\n"
     ]
    },
    {
     "name": "stderr",
     "output_type": "stream",
     "text": [
      "요약 진행 중:  16%|█▋        | 389/2388 [16:10<1:36:59,  2.91s/it]"
     ]
    },
    {
     "name": "stdout",
     "output_type": "stream",
     "text": [
      "390/2388 행 요약 완료\n"
     ]
    },
    {
     "name": "stderr",
     "output_type": "stream",
     "text": [
      "요약 진행 중:  16%|█▋        | 390/2388 [16:12<1:28:40,  2.66s/it]"
     ]
    },
    {
     "name": "stdout",
     "output_type": "stream",
     "text": [
      "391/2388 행 요약 완료\n"
     ]
    },
    {
     "name": "stderr",
     "output_type": "stream",
     "text": [
      "요약 진행 중:  16%|█▋        | 391/2388 [16:15<1:31:26,  2.75s/it]"
     ]
    },
    {
     "name": "stdout",
     "output_type": "stream",
     "text": [
      "392/2388 행 요약 완료\n"
     ]
    },
    {
     "name": "stderr",
     "output_type": "stream",
     "text": [
      "요약 진행 중:  16%|█▋        | 392/2388 [16:16<1:15:04,  2.26s/it]"
     ]
    },
    {
     "name": "stdout",
     "output_type": "stream",
     "text": [
      "393/2388 행 요약 완료\n"
     ]
    },
    {
     "name": "stderr",
     "output_type": "stream",
     "text": [
      "요약 진행 중:  16%|█▋        | 393/2388 [16:20<1:22:29,  2.48s/it]"
     ]
    },
    {
     "name": "stdout",
     "output_type": "stream",
     "text": [
      "394/2388 행 요약 완료\n"
     ]
    },
    {
     "name": "stderr",
     "output_type": "stream",
     "text": [
      "요약 진행 중:  16%|█▋        | 394/2388 [16:21<1:11:43,  2.16s/it]"
     ]
    },
    {
     "name": "stdout",
     "output_type": "stream",
     "text": [
      "395/2388 행 요약 완료\n"
     ]
    },
    {
     "name": "stderr",
     "output_type": "stream",
     "text": [
      "요약 진행 중:  17%|█▋        | 395/2388 [16:22<1:04:52,  1.95s/it]"
     ]
    },
    {
     "name": "stdout",
     "output_type": "stream",
     "text": [
      "396/2388 행 요약 완료\n"
     ]
    },
    {
     "name": "stderr",
     "output_type": "stream",
     "text": [
      "요약 진행 중:  17%|█▋        | 396/2388 [16:24<1:02:09,  1.87s/it]"
     ]
    },
    {
     "name": "stdout",
     "output_type": "stream",
     "text": [
      "397/2388 행 요약 완료\n"
     ]
    },
    {
     "name": "stderr",
     "output_type": "stream",
     "text": [
      "요약 진행 중:  17%|█▋        | 397/2388 [16:26<1:04:52,  1.95s/it]"
     ]
    },
    {
     "name": "stdout",
     "output_type": "stream",
     "text": [
      "398/2388 행 요약 완료\n"
     ]
    },
    {
     "name": "stderr",
     "output_type": "stream",
     "text": [
      "요약 진행 중:  17%|█▋        | 398/2388 [16:31<1:28:30,  2.67s/it]"
     ]
    },
    {
     "name": "stdout",
     "output_type": "stream",
     "text": [
      "399/2388 행 요약 완료\n"
     ]
    },
    {
     "name": "stderr",
     "output_type": "stream",
     "text": [
      "요약 진행 중:  17%|█▋        | 399/2388 [16:34<1:34:11,  2.84s/it]"
     ]
    },
    {
     "name": "stdout",
     "output_type": "stream",
     "text": [
      "400/2388 행 요약 완료\n"
     ]
    },
    {
     "name": "stderr",
     "output_type": "stream",
     "text": [
      "요약 진행 중:  17%|█▋        | 400/2388 [16:38<1:52:37,  3.40s/it]"
     ]
    },
    {
     "name": "stdout",
     "output_type": "stream",
     "text": [
      "401/2388 행 요약 완료\n"
     ]
    },
    {
     "name": "stderr",
     "output_type": "stream",
     "text": [
      "요약 진행 중:  17%|█▋        | 401/2388 [16:42<1:53:19,  3.42s/it]"
     ]
    },
    {
     "name": "stdout",
     "output_type": "stream",
     "text": [
      "402/2388 행 요약 완료\n"
     ]
    },
    {
     "name": "stderr",
     "output_type": "stream",
     "text": [
      "요약 진행 중:  17%|█▋        | 402/2388 [16:45<1:47:06,  3.24s/it]"
     ]
    },
    {
     "name": "stdout",
     "output_type": "stream",
     "text": [
      "403/2388 행 요약 완료\n"
     ]
    },
    {
     "name": "stderr",
     "output_type": "stream",
     "text": [
      "요약 진행 중:  17%|█▋        | 403/2388 [16:49<1:58:26,  3.58s/it]"
     ]
    },
    {
     "name": "stdout",
     "output_type": "stream",
     "text": [
      "404/2388 행 요약 완료\n"
     ]
    },
    {
     "name": "stderr",
     "output_type": "stream",
     "text": [
      "요약 진행 중:  17%|█▋        | 404/2388 [16:52<1:47:03,  3.24s/it]"
     ]
    },
    {
     "name": "stdout",
     "output_type": "stream",
     "text": [
      "405/2388 행 요약 완료\n"
     ]
    },
    {
     "name": "stderr",
     "output_type": "stream",
     "text": [
      "요약 진행 중:  17%|█▋        | 405/2388 [16:55<1:45:45,  3.20s/it]"
     ]
    },
    {
     "name": "stdout",
     "output_type": "stream",
     "text": [
      "406/2388 행 요약 완료\n"
     ]
    },
    {
     "name": "stderr",
     "output_type": "stream",
     "text": [
      "요약 진행 중:  17%|█▋        | 406/2388 [16:58<1:45:43,  3.20s/it]"
     ]
    },
    {
     "name": "stdout",
     "output_type": "stream",
     "text": [
      "407/2388 행 요약 완료\n"
     ]
    },
    {
     "name": "stderr",
     "output_type": "stream",
     "text": [
      "요약 진행 중:  17%|█▋        | 407/2388 [17:00<1:37:28,  2.95s/it]"
     ]
    },
    {
     "name": "stdout",
     "output_type": "stream",
     "text": [
      "408/2388 행 요약 완료\n"
     ]
    },
    {
     "name": "stderr",
     "output_type": "stream",
     "text": [
      "요약 진행 중:  17%|█▋        | 408/2388 [17:03<1:36:07,  2.91s/it]"
     ]
    },
    {
     "name": "stdout",
     "output_type": "stream",
     "text": [
      "409/2388 행 요약 완료\n"
     ]
    },
    {
     "name": "stderr",
     "output_type": "stream",
     "text": [
      "요약 진행 중:  17%|█▋        | 409/2388 [17:06<1:39:45,  3.02s/it]"
     ]
    },
    {
     "name": "stdout",
     "output_type": "stream",
     "text": [
      "410/2388 행 요약 완료\n"
     ]
    },
    {
     "name": "stderr",
     "output_type": "stream",
     "text": [
      "요약 진행 중:  17%|█▋        | 410/2388 [17:09<1:37:46,  2.97s/it]"
     ]
    },
    {
     "name": "stdout",
     "output_type": "stream",
     "text": [
      "411/2388 행 요약 완료\n"
     ]
    },
    {
     "name": "stderr",
     "output_type": "stream",
     "text": [
      "요약 진행 중:  17%|█▋        | 411/2388 [17:13<1:47:55,  3.28s/it]"
     ]
    },
    {
     "name": "stdout",
     "output_type": "stream",
     "text": [
      "412/2388 행 요약 완료\n"
     ]
    },
    {
     "name": "stderr",
     "output_type": "stream",
     "text": [
      "요약 진행 중:  17%|█▋        | 412/2388 [17:16<1:40:16,  3.04s/it]"
     ]
    },
    {
     "name": "stdout",
     "output_type": "stream",
     "text": [
      "413/2388 행 요약 완료\n"
     ]
    },
    {
     "name": "stderr",
     "output_type": "stream",
     "text": [
      "요약 진행 중:  17%|█▋        | 413/2388 [17:20<1:51:09,  3.38s/it]"
     ]
    },
    {
     "name": "stdout",
     "output_type": "stream",
     "text": [
      "414/2388 행 요약 완료\n"
     ]
    },
    {
     "name": "stderr",
     "output_type": "stream",
     "text": [
      "요약 진행 중:  17%|█▋        | 414/2388 [17:22<1:40:27,  3.05s/it]"
     ]
    },
    {
     "name": "stdout",
     "output_type": "stream",
     "text": [
      "415/2388 행 요약 완료\n"
     ]
    },
    {
     "name": "stderr",
     "output_type": "stream",
     "text": [
      "요약 진행 중:  17%|█▋        | 415/2388 [17:27<1:56:30,  3.54s/it]"
     ]
    },
    {
     "name": "stdout",
     "output_type": "stream",
     "text": [
      "416/2388 행 요약 완료\n"
     ]
    },
    {
     "name": "stderr",
     "output_type": "stream",
     "text": [
      "요약 진행 중:  17%|█▋        | 416/2388 [17:29<1:46:34,  3.24s/it]"
     ]
    },
    {
     "name": "stdout",
     "output_type": "stream",
     "text": [
      "417/2388 행 요약 완료\n"
     ]
    },
    {
     "name": "stderr",
     "output_type": "stream",
     "text": [
      "요약 진행 중:  17%|█▋        | 417/2388 [17:31<1:35:08,  2.90s/it]"
     ]
    },
    {
     "name": "stdout",
     "output_type": "stream",
     "text": [
      "418/2388 행 요약 완료\n"
     ]
    },
    {
     "name": "stderr",
     "output_type": "stream",
     "text": [
      "요약 진행 중:  18%|█▊        | 418/2388 [17:35<1:38:47,  3.01s/it]"
     ]
    },
    {
     "name": "stdout",
     "output_type": "stream",
     "text": [
      "419/2388 행 요약 완료\n"
     ]
    },
    {
     "name": "stderr",
     "output_type": "stream",
     "text": [
      "요약 진행 중:  18%|█▊        | 419/2388 [17:40<1:59:55,  3.65s/it]"
     ]
    },
    {
     "name": "stdout",
     "output_type": "stream",
     "text": [
      "420/2388 행 요약 완료\n"
     ]
    },
    {
     "name": "stderr",
     "output_type": "stream",
     "text": [
      "요약 진행 중:  18%|█▊        | 420/2388 [17:43<1:54:08,  3.48s/it]"
     ]
    },
    {
     "name": "stdout",
     "output_type": "stream",
     "text": [
      "421/2388 행 요약 완료\n"
     ]
    },
    {
     "name": "stderr",
     "output_type": "stream",
     "text": [
      "요약 진행 중:  18%|█▊        | 421/2388 [17:45<1:39:53,  3.05s/it]"
     ]
    },
    {
     "name": "stdout",
     "output_type": "stream",
     "text": [
      "422/2388 행 요약 완료\n"
     ]
    },
    {
     "name": "stderr",
     "output_type": "stream",
     "text": [
      "요약 진행 중:  18%|█▊        | 422/2388 [17:47<1:29:59,  2.75s/it]"
     ]
    },
    {
     "name": "stdout",
     "output_type": "stream",
     "text": [
      "423/2388 행 요약 완료\n"
     ]
    },
    {
     "name": "stderr",
     "output_type": "stream",
     "text": [
      "요약 진행 중:  18%|█▊        | 423/2388 [17:50<1:31:42,  2.80s/it]"
     ]
    },
    {
     "name": "stdout",
     "output_type": "stream",
     "text": [
      "424/2388 행 요약 완료\n"
     ]
    },
    {
     "name": "stderr",
     "output_type": "stream",
     "text": [
      "요약 진행 중:  18%|█▊        | 424/2388 [17:52<1:20:03,  2.45s/it]"
     ]
    },
    {
     "name": "stdout",
     "output_type": "stream",
     "text": [
      "425/2388 행 요약 완료\n"
     ]
    },
    {
     "name": "stderr",
     "output_type": "stream",
     "text": [
      "요약 진행 중:  18%|█▊        | 425/2388 [17:54<1:17:23,  2.37s/it]"
     ]
    },
    {
     "name": "stdout",
     "output_type": "stream",
     "text": [
      "426/2388 행 요약 완료\n"
     ]
    },
    {
     "name": "stderr",
     "output_type": "stream",
     "text": [
      "요약 진행 중:  18%|█▊        | 426/2388 [17:57<1:24:11,  2.57s/it]"
     ]
    },
    {
     "name": "stdout",
     "output_type": "stream",
     "text": [
      "427/2388 행 요약 완료\n"
     ]
    },
    {
     "name": "stderr",
     "output_type": "stream",
     "text": [
      "요약 진행 중:  18%|█▊        | 427/2388 [17:59<1:17:37,  2.38s/it]"
     ]
    },
    {
     "name": "stdout",
     "output_type": "stream",
     "text": [
      "428/2388 행 요약 완료\n"
     ]
    },
    {
     "name": "stderr",
     "output_type": "stream",
     "text": [
      "요약 진행 중:  18%|█▊        | 428/2388 [18:00<1:08:45,  2.11s/it]"
     ]
    },
    {
     "name": "stdout",
     "output_type": "stream",
     "text": [
      "429/2388 행 요약 완료\n"
     ]
    },
    {
     "name": "stderr",
     "output_type": "stream",
     "text": [
      "요약 진행 중:  18%|█▊        | 429/2388 [18:01<59:29,  1.82s/it]  "
     ]
    },
    {
     "name": "stdout",
     "output_type": "stream",
     "text": [
      "430/2388 행 요약 완료\n"
     ]
    },
    {
     "name": "stderr",
     "output_type": "stream",
     "text": [
      "요약 진행 중:  18%|█▊        | 430/2388 [18:03<56:26,  1.73s/it]"
     ]
    },
    {
     "name": "stdout",
     "output_type": "stream",
     "text": [
      "431/2388 행 요약 완료\n"
     ]
    },
    {
     "name": "stderr",
     "output_type": "stream",
     "text": [
      "요약 진행 중:  18%|█▊        | 431/2388 [18:05<1:02:26,  1.91s/it]"
     ]
    },
    {
     "name": "stdout",
     "output_type": "stream",
     "text": [
      "432/2388 행 요약 완료\n"
     ]
    },
    {
     "name": "stderr",
     "output_type": "stream",
     "text": [
      "요약 진행 중:  18%|█▊        | 432/2388 [18:08<1:11:57,  2.21s/it]"
     ]
    },
    {
     "name": "stdout",
     "output_type": "stream",
     "text": [
      "433/2388 행 요약 완료\n"
     ]
    },
    {
     "name": "stderr",
     "output_type": "stream",
     "text": [
      "요약 진행 중:  18%|█▊        | 433/2388 [18:10<1:09:42,  2.14s/it]"
     ]
    },
    {
     "name": "stdout",
     "output_type": "stream",
     "text": [
      "434/2388 행 요약 완료\n"
     ]
    },
    {
     "name": "stderr",
     "output_type": "stream",
     "text": [
      "요약 진행 중:  18%|█▊        | 434/2388 [18:13<1:16:25,  2.35s/it]"
     ]
    },
    {
     "name": "stdout",
     "output_type": "stream",
     "text": [
      "435/2388 행 요약 완료\n"
     ]
    },
    {
     "name": "stderr",
     "output_type": "stream",
     "text": [
      "요약 진행 중:  18%|█▊        | 435/2388 [18:15<1:17:03,  2.37s/it]"
     ]
    },
    {
     "name": "stdout",
     "output_type": "stream",
     "text": [
      "436/2388 행 요약 완료\n"
     ]
    },
    {
     "name": "stderr",
     "output_type": "stream",
     "text": [
      "요약 진행 중:  18%|█▊        | 436/2388 [18:19<1:31:20,  2.81s/it]"
     ]
    },
    {
     "name": "stdout",
     "output_type": "stream",
     "text": [
      "437/2388 행 요약 완료\n"
     ]
    },
    {
     "name": "stderr",
     "output_type": "stream",
     "text": [
      "요약 진행 중:  18%|█▊        | 437/2388 [18:22<1:29:14,  2.74s/it]"
     ]
    },
    {
     "name": "stdout",
     "output_type": "stream",
     "text": [
      "438/2388 행 요약 완료\n"
     ]
    },
    {
     "name": "stderr",
     "output_type": "stream",
     "text": [
      "요약 진행 중:  18%|█▊        | 438/2388 [18:25<1:30:35,  2.79s/it]"
     ]
    },
    {
     "name": "stdout",
     "output_type": "stream",
     "text": [
      "439/2388 행 요약 완료\n"
     ]
    },
    {
     "name": "stderr",
     "output_type": "stream",
     "text": [
      "요약 진행 중:  18%|█▊        | 439/2388 [18:27<1:22:37,  2.54s/it]"
     ]
    },
    {
     "name": "stdout",
     "output_type": "stream",
     "text": [
      "440/2388 행 요약 완료\n"
     ]
    },
    {
     "name": "stderr",
     "output_type": "stream",
     "text": [
      "요약 진행 중:  18%|█▊        | 440/2388 [18:28<1:10:38,  2.18s/it]"
     ]
    },
    {
     "name": "stdout",
     "output_type": "stream",
     "text": [
      "441/2388 행 요약 완료\n"
     ]
    },
    {
     "name": "stderr",
     "output_type": "stream",
     "text": [
      "요약 진행 중:  18%|█▊        | 441/2388 [18:30<1:05:28,  2.02s/it]"
     ]
    },
    {
     "name": "stdout",
     "output_type": "stream",
     "text": [
      "442/2388 행 요약 완료\n"
     ]
    },
    {
     "name": "stderr",
     "output_type": "stream",
     "text": [
      "요약 진행 중:  19%|█▊        | 442/2388 [18:32<1:11:41,  2.21s/it]"
     ]
    },
    {
     "name": "stdout",
     "output_type": "stream",
     "text": [
      "443/2388 행 요약 완료\n"
     ]
    },
    {
     "name": "stderr",
     "output_type": "stream",
     "text": [
      "요약 진행 중:  19%|█▊        | 443/2388 [18:33<1:00:58,  1.88s/it]"
     ]
    },
    {
     "name": "stdout",
     "output_type": "stream",
     "text": [
      "444/2388 행 요약 완료\n"
     ]
    },
    {
     "name": "stderr",
     "output_type": "stream",
     "text": [
      "요약 진행 중:  19%|█▊        | 444/2388 [18:35<55:48,  1.72s/it]  "
     ]
    },
    {
     "name": "stdout",
     "output_type": "stream",
     "text": [
      "445/2388 행 요약 완료\n"
     ]
    },
    {
     "name": "stderr",
     "output_type": "stream",
     "text": [
      "요약 진행 중:  19%|█▊        | 445/2388 [18:37<58:13,  1.80s/it]"
     ]
    },
    {
     "name": "stdout",
     "output_type": "stream",
     "text": [
      "446/2388 행 요약 완료\n"
     ]
    },
    {
     "name": "stderr",
     "output_type": "stream",
     "text": [
      "요약 진행 중:  19%|█▊        | 446/2388 [18:40<1:09:09,  2.14s/it]"
     ]
    },
    {
     "name": "stdout",
     "output_type": "stream",
     "text": [
      "447/2388 행 요약 완료\n"
     ]
    },
    {
     "name": "stderr",
     "output_type": "stream",
     "text": [
      "요약 진행 중:  19%|█▊        | 447/2388 [18:42<1:12:17,  2.23s/it]"
     ]
    },
    {
     "name": "stdout",
     "output_type": "stream",
     "text": [
      "448/2388 행 요약 완료\n"
     ]
    },
    {
     "name": "stderr",
     "output_type": "stream",
     "text": [
      "요약 진행 중:  19%|█▉        | 448/2388 [18:45<1:19:42,  2.46s/it]"
     ]
    },
    {
     "name": "stdout",
     "output_type": "stream",
     "text": [
      "449/2388 행 요약 완료\n"
     ]
    },
    {
     "name": "stderr",
     "output_type": "stream",
     "text": [
      "요약 진행 중:  19%|█▉        | 449/2388 [18:47<1:10:28,  2.18s/it]"
     ]
    },
    {
     "name": "stdout",
     "output_type": "stream",
     "text": [
      "450/2388 행 요약 완료\n"
     ]
    },
    {
     "name": "stderr",
     "output_type": "stream",
     "text": [
      "요약 진행 중:  19%|█▉        | 450/2388 [18:48<1:03:15,  1.96s/it]"
     ]
    },
    {
     "name": "stdout",
     "output_type": "stream",
     "text": [
      "451/2388 행 요약 완료\n"
     ]
    },
    {
     "name": "stderr",
     "output_type": "stream",
     "text": [
      "요약 진행 중:  19%|█▉        | 451/2388 [18:51<1:12:35,  2.25s/it]"
     ]
    },
    {
     "name": "stdout",
     "output_type": "stream",
     "text": [
      "452/2388 행 요약 완료\n"
     ]
    },
    {
     "name": "stderr",
     "output_type": "stream",
     "text": [
      "요약 진행 중:  19%|█▉        | 452/2388 [18:53<1:10:57,  2.20s/it]"
     ]
    },
    {
     "name": "stdout",
     "output_type": "stream",
     "text": [
      "453/2388 행 요약 완료\n"
     ]
    },
    {
     "name": "stderr",
     "output_type": "stream",
     "text": [
      "요약 진행 중:  19%|█▉        | 453/2388 [18:55<1:10:20,  2.18s/it]"
     ]
    },
    {
     "name": "stdout",
     "output_type": "stream",
     "text": [
      "454/2388 행 요약 완료\n"
     ]
    },
    {
     "name": "stderr",
     "output_type": "stream",
     "text": [
      "요약 진행 중:  19%|█▉        | 454/2388 [18:58<1:13:10,  2.27s/it]"
     ]
    },
    {
     "name": "stdout",
     "output_type": "stream",
     "text": [
      "455/2388 행 요약 완료\n"
     ]
    },
    {
     "name": "stderr",
     "output_type": "stream",
     "text": [
      "요약 진행 중:  19%|█▉        | 455/2388 [19:00<1:17:24,  2.40s/it]"
     ]
    },
    {
     "name": "stdout",
     "output_type": "stream",
     "text": [
      "456/2388 행 요약 완료\n"
     ]
    },
    {
     "name": "stderr",
     "output_type": "stream",
     "text": [
      "요약 진행 중:  19%|█▉        | 456/2388 [19:02<1:07:55,  2.11s/it]"
     ]
    },
    {
     "name": "stdout",
     "output_type": "stream",
     "text": [
      "457/2388 행 요약 완료\n"
     ]
    },
    {
     "name": "stderr",
     "output_type": "stream",
     "text": [
      "요약 진행 중:  19%|█▉        | 457/2388 [19:03<1:00:59,  1.90s/it]"
     ]
    },
    {
     "name": "stdout",
     "output_type": "stream",
     "text": [
      "458/2388 행 요약 완료\n"
     ]
    },
    {
     "name": "stderr",
     "output_type": "stream",
     "text": [
      "요약 진행 중:  19%|█▉        | 458/2388 [19:05<59:10,  1.84s/it]  "
     ]
    },
    {
     "name": "stdout",
     "output_type": "stream",
     "text": [
      "459/2388 행 요약 완료\n"
     ]
    },
    {
     "name": "stderr",
     "output_type": "stream",
     "text": [
      "요약 진행 중:  19%|█▉        | 459/2388 [19:07<1:01:38,  1.92s/it]"
     ]
    },
    {
     "name": "stdout",
     "output_type": "stream",
     "text": [
      "460/2388 행 요약 완료\n"
     ]
    },
    {
     "name": "stderr",
     "output_type": "stream",
     "text": [
      "요약 진행 중:  19%|█▉        | 460/2388 [19:09<1:02:36,  1.95s/it]"
     ]
    },
    {
     "name": "stdout",
     "output_type": "stream",
     "text": [
      "461/2388 행 요약 완료\n"
     ]
    },
    {
     "name": "stderr",
     "output_type": "stream",
     "text": [
      "요약 진행 중:  19%|█▉        | 461/2388 [19:11<1:01:02,  1.90s/it]"
     ]
    },
    {
     "name": "stdout",
     "output_type": "stream",
     "text": [
      "462/2388 행 요약 완료\n"
     ]
    },
    {
     "name": "stderr",
     "output_type": "stream",
     "text": [
      "요약 진행 중:  19%|█▉        | 462/2388 [19:13<59:56,  1.87s/it]  "
     ]
    },
    {
     "name": "stdout",
     "output_type": "stream",
     "text": [
      "463/2388 행 요약 완료\n"
     ]
    },
    {
     "name": "stderr",
     "output_type": "stream",
     "text": [
      "요약 진행 중:  19%|█▉        | 463/2388 [19:14<54:21,  1.69s/it]"
     ]
    },
    {
     "name": "stdout",
     "output_type": "stream",
     "text": [
      "464/2388 행 요약 완료\n"
     ]
    },
    {
     "name": "stderr",
     "output_type": "stream",
     "text": [
      "요약 진행 중:  19%|█▉        | 464/2388 [19:16<57:29,  1.79s/it]"
     ]
    },
    {
     "name": "stdout",
     "output_type": "stream",
     "text": [
      "465/2388 행 요약 완료\n"
     ]
    },
    {
     "name": "stderr",
     "output_type": "stream",
     "text": [
      "요약 진행 중:  19%|█▉        | 465/2388 [19:17<48:20,  1.51s/it]"
     ]
    },
    {
     "name": "stdout",
     "output_type": "stream",
     "text": [
      "466/2388 행 요약 완료\n"
     ]
    },
    {
     "name": "stderr",
     "output_type": "stream",
     "text": [
      "요약 진행 중:  20%|█▉        | 466/2388 [19:21<1:13:47,  2.30s/it]"
     ]
    },
    {
     "name": "stdout",
     "output_type": "stream",
     "text": [
      "467/2388 행 요약 완료\n"
     ]
    },
    {
     "name": "stderr",
     "output_type": "stream",
     "text": [
      "요약 진행 중:  20%|█▉        | 467/2388 [19:24<1:19:27,  2.48s/it]"
     ]
    },
    {
     "name": "stdout",
     "output_type": "stream",
     "text": [
      "468/2388 행 요약 완료\n"
     ]
    },
    {
     "name": "stderr",
     "output_type": "stream",
     "text": [
      "요약 진행 중:  20%|█▉        | 468/2388 [19:27<1:29:58,  2.81s/it]"
     ]
    },
    {
     "name": "stdout",
     "output_type": "stream",
     "text": [
      "469/2388 행 요약 완료\n"
     ]
    },
    {
     "name": "stderr",
     "output_type": "stream",
     "text": [
      "요약 진행 중:  20%|█▉        | 469/2388 [19:30<1:28:08,  2.76s/it]"
     ]
    },
    {
     "name": "stdout",
     "output_type": "stream",
     "text": [
      "470/2388 행 요약 완료\n"
     ]
    },
    {
     "name": "stderr",
     "output_type": "stream",
     "text": [
      "요약 진행 중:  20%|█▉        | 470/2388 [19:33<1:30:13,  2.82s/it]"
     ]
    },
    {
     "name": "stdout",
     "output_type": "stream",
     "text": [
      "471/2388 행 요약 완료\n"
     ]
    },
    {
     "name": "stderr",
     "output_type": "stream",
     "text": [
      "요약 진행 중:  20%|█▉        | 471/2388 [19:35<1:22:19,  2.58s/it]"
     ]
    },
    {
     "name": "stdout",
     "output_type": "stream",
     "text": [
      "472/2388 행 요약 완료\n"
     ]
    },
    {
     "name": "stderr",
     "output_type": "stream",
     "text": [
      "요약 진행 중:  20%|█▉        | 472/2388 [19:41<1:51:50,  3.50s/it]"
     ]
    },
    {
     "name": "stdout",
     "output_type": "stream",
     "text": [
      "473/2388 행 요약 완료\n"
     ]
    },
    {
     "name": "stderr",
     "output_type": "stream",
     "text": [
      "요약 진행 중:  20%|█▉        | 473/2388 [19:42<1:34:09,  2.95s/it]"
     ]
    },
    {
     "name": "stdout",
     "output_type": "stream",
     "text": [
      "474/2388 행 요약 완료\n"
     ]
    },
    {
     "name": "stderr",
     "output_type": "stream",
     "text": [
      "요약 진행 중:  20%|█▉        | 474/2388 [19:44<1:23:08,  2.61s/it]"
     ]
    },
    {
     "name": "stdout",
     "output_type": "stream",
     "text": [
      "475/2388 행 요약 완료\n"
     ]
    },
    {
     "name": "stderr",
     "output_type": "stream",
     "text": [
      "요약 진행 중:  20%|█▉        | 475/2388 [19:45<1:09:59,  2.20s/it]"
     ]
    },
    {
     "name": "stdout",
     "output_type": "stream",
     "text": [
      "476/2388 행 요약 완료\n"
     ]
    },
    {
     "name": "stderr",
     "output_type": "stream",
     "text": [
      "요약 진행 중:  20%|█▉        | 476/2388 [19:48<1:16:11,  2.39s/it]"
     ]
    },
    {
     "name": "stdout",
     "output_type": "stream",
     "text": [
      "477/2388 행 요약 완료\n"
     ]
    },
    {
     "name": "stderr",
     "output_type": "stream",
     "text": [
      "요약 진행 중:  20%|█▉        | 477/2388 [19:50<1:10:35,  2.22s/it]"
     ]
    },
    {
     "name": "stdout",
     "output_type": "stream",
     "text": [
      "478/2388 행 요약 완료\n"
     ]
    },
    {
     "name": "stderr",
     "output_type": "stream",
     "text": [
      "요약 진행 중:  20%|██        | 478/2388 [19:54<1:30:31,  2.84s/it]"
     ]
    },
    {
     "name": "stdout",
     "output_type": "stream",
     "text": [
      "479/2388 행 요약 완료\n"
     ]
    },
    {
     "name": "stderr",
     "output_type": "stream",
     "text": [
      "요약 진행 중:  20%|██        | 479/2388 [19:56<1:19:09,  2.49s/it]"
     ]
    },
    {
     "name": "stdout",
     "output_type": "stream",
     "text": [
      "480/2388 행 요약 완료\n"
     ]
    },
    {
     "name": "stderr",
     "output_type": "stream",
     "text": [
      "요약 진행 중:  20%|██        | 480/2388 [19:57<1:08:09,  2.14s/it]"
     ]
    },
    {
     "name": "stdout",
     "output_type": "stream",
     "text": [
      "481/2388 행 요약 완료\n"
     ]
    },
    {
     "name": "stderr",
     "output_type": "stream",
     "text": [
      "요약 진행 중:  20%|██        | 481/2388 [20:00<1:10:27,  2.22s/it]"
     ]
    },
    {
     "name": "stdout",
     "output_type": "stream",
     "text": [
      "482/2388 행 요약 완료\n"
     ]
    },
    {
     "name": "stderr",
     "output_type": "stream",
     "text": [
      "요약 진행 중:  20%|██        | 482/2388 [20:02<1:14:35,  2.35s/it]"
     ]
    },
    {
     "name": "stdout",
     "output_type": "stream",
     "text": [
      "483/2388 행 요약 완료\n"
     ]
    },
    {
     "name": "stderr",
     "output_type": "stream",
     "text": [
      "요약 진행 중:  20%|██        | 483/2388 [20:04<1:11:01,  2.24s/it]"
     ]
    },
    {
     "name": "stdout",
     "output_type": "stream",
     "text": [
      "484/2388 행 요약 완료\n"
     ]
    },
    {
     "name": "stderr",
     "output_type": "stream",
     "text": [
      "요약 진행 중:  20%|██        | 484/2388 [20:07<1:12:47,  2.29s/it]"
     ]
    },
    {
     "name": "stdout",
     "output_type": "stream",
     "text": [
      "485/2388 행 요약 완료\n"
     ]
    },
    {
     "name": "stderr",
     "output_type": "stream",
     "text": [
      "요약 진행 중:  20%|██        | 485/2388 [20:09<1:09:18,  2.19s/it]"
     ]
    },
    {
     "name": "stdout",
     "output_type": "stream",
     "text": [
      "486/2388 행 요약 완료\n"
     ]
    },
    {
     "name": "stderr",
     "output_type": "stream",
     "text": [
      "요약 진행 중:  20%|██        | 486/2388 [20:12<1:16:25,  2.41s/it]"
     ]
    },
    {
     "name": "stdout",
     "output_type": "stream",
     "text": [
      "487/2388 행 요약 완료\n"
     ]
    },
    {
     "name": "stderr",
     "output_type": "stream",
     "text": [
      "요약 진행 중:  20%|██        | 487/2388 [20:16<1:34:46,  2.99s/it]"
     ]
    },
    {
     "name": "stdout",
     "output_type": "stream",
     "text": [
      "488/2388 행 요약 완료\n"
     ]
    },
    {
     "name": "stderr",
     "output_type": "stream",
     "text": [
      "요약 진행 중:  20%|██        | 488/2388 [20:19<1:30:56,  2.87s/it]"
     ]
    },
    {
     "name": "stdout",
     "output_type": "stream",
     "text": [
      "489/2388 행 요약 완료\n"
     ]
    },
    {
     "name": "stderr",
     "output_type": "stream",
     "text": [
      "요약 진행 중:  20%|██        | 489/2388 [20:22<1:38:42,  3.12s/it]"
     ]
    },
    {
     "name": "stdout",
     "output_type": "stream",
     "text": [
      "490/2388 행 요약 완료\n"
     ]
    },
    {
     "name": "stderr",
     "output_type": "stream",
     "text": [
      "요약 진행 중:  21%|██        | 490/2388 [20:26<1:43:39,  3.28s/it]"
     ]
    },
    {
     "name": "stdout",
     "output_type": "stream",
     "text": [
      "491/2388 행 요약 완료\n"
     ]
    },
    {
     "name": "stderr",
     "output_type": "stream",
     "text": [
      "요약 진행 중:  21%|██        | 491/2388 [20:29<1:39:13,  3.14s/it]"
     ]
    },
    {
     "name": "stdout",
     "output_type": "stream",
     "text": [
      "492/2388 행 요약 완료\n"
     ]
    },
    {
     "name": "stderr",
     "output_type": "stream",
     "text": [
      "요약 진행 중:  21%|██        | 492/2388 [20:30<1:22:35,  2.61s/it]"
     ]
    },
    {
     "name": "stdout",
     "output_type": "stream",
     "text": [
      "493/2388 행 요약 완료\n"
     ]
    },
    {
     "name": "stderr",
     "output_type": "stream",
     "text": [
      "요약 진행 중:  21%|██        | 493/2388 [20:33<1:28:53,  2.81s/it]"
     ]
    },
    {
     "name": "stdout",
     "output_type": "stream",
     "text": [
      "494/2388 행 요약 완료\n"
     ]
    },
    {
     "name": "stderr",
     "output_type": "stream",
     "text": [
      "요약 진행 중:  21%|██        | 494/2388 [20:37<1:34:54,  3.01s/it]"
     ]
    },
    {
     "name": "stdout",
     "output_type": "stream",
     "text": [
      "495/2388 행 요약 완료\n"
     ]
    },
    {
     "name": "stderr",
     "output_type": "stream",
     "text": [
      "요약 진행 중:  21%|██        | 495/2388 [20:39<1:29:43,  2.84s/it]"
     ]
    },
    {
     "name": "stdout",
     "output_type": "stream",
     "text": [
      "496/2388 행 요약 완료\n"
     ]
    },
    {
     "name": "stderr",
     "output_type": "stream",
     "text": [
      "요약 진행 중:  21%|██        | 496/2388 [20:41<1:16:30,  2.43s/it]"
     ]
    },
    {
     "name": "stdout",
     "output_type": "stream",
     "text": [
      "497/2388 행 요약 완료\n"
     ]
    },
    {
     "name": "stderr",
     "output_type": "stream",
     "text": [
      "요약 진행 중:  21%|██        | 497/2388 [20:45<1:29:59,  2.86s/it]"
     ]
    },
    {
     "name": "stdout",
     "output_type": "stream",
     "text": [
      "498/2388 행 요약 완료\n"
     ]
    },
    {
     "name": "stderr",
     "output_type": "stream",
     "text": [
      "요약 진행 중:  21%|██        | 498/2388 [20:48<1:34:51,  3.01s/it]"
     ]
    },
    {
     "name": "stdout",
     "output_type": "stream",
     "text": [
      "499/2388 행 요약 완료\n"
     ]
    },
    {
     "name": "stderr",
     "output_type": "stream",
     "text": [
      "요약 진행 중:  21%|██        | 499/2388 [20:51<1:30:30,  2.88s/it]"
     ]
    },
    {
     "name": "stdout",
     "output_type": "stream",
     "text": [
      "500/2388 행 요약 완료\n"
     ]
    },
    {
     "name": "stderr",
     "output_type": "stream",
     "text": [
      "요약 진행 중:  21%|██        | 500/2388 [20:55<1:43:59,  3.30s/it]"
     ]
    },
    {
     "name": "stdout",
     "output_type": "stream",
     "text": [
      "501/2388 행 요약 완료\n"
     ]
    },
    {
     "name": "stderr",
     "output_type": "stream",
     "text": [
      "요약 진행 중:  21%|██        | 501/2388 [20:58<1:37:19,  3.09s/it]"
     ]
    },
    {
     "name": "stdout",
     "output_type": "stream",
     "text": [
      "502/2388 행 요약 완료\n"
     ]
    },
    {
     "name": "stderr",
     "output_type": "stream",
     "text": [
      "요약 진행 중:  21%|██        | 502/2388 [21:00<1:35:35,  3.04s/it]"
     ]
    },
    {
     "name": "stdout",
     "output_type": "stream",
     "text": [
      "503/2388 행 요약 완료\n"
     ]
    },
    {
     "name": "stderr",
     "output_type": "stream",
     "text": [
      "요약 진행 중:  21%|██        | 503/2388 [21:04<1:38:45,  3.14s/it]"
     ]
    },
    {
     "name": "stdout",
     "output_type": "stream",
     "text": [
      "504/2388 행 요약 완료\n"
     ]
    },
    {
     "name": "stderr",
     "output_type": "stream",
     "text": [
      "요약 진행 중:  21%|██        | 504/2388 [21:05<1:21:59,  2.61s/it]"
     ]
    },
    {
     "name": "stdout",
     "output_type": "stream",
     "text": [
      "505/2388 행 요약 완료\n"
     ]
    },
    {
     "name": "stderr",
     "output_type": "stream",
     "text": [
      "요약 진행 중:  21%|██        | 505/2388 [21:07<1:13:04,  2.33s/it]"
     ]
    },
    {
     "name": "stdout",
     "output_type": "stream",
     "text": [
      "506/2388 행 요약 완료\n"
     ]
    },
    {
     "name": "stderr",
     "output_type": "stream",
     "text": [
      "요약 진행 중:  21%|██        | 506/2388 [21:11<1:25:59,  2.74s/it]"
     ]
    },
    {
     "name": "stdout",
     "output_type": "stream",
     "text": [
      "507/2388 행 요약 완료\n"
     ]
    },
    {
     "name": "stderr",
     "output_type": "stream",
     "text": [
      "요약 진행 중:  21%|██        | 507/2388 [21:13<1:22:21,  2.63s/it]"
     ]
    },
    {
     "name": "stdout",
     "output_type": "stream",
     "text": [
      "508/2388 행 요약 완료\n"
     ]
    },
    {
     "name": "stderr",
     "output_type": "stream",
     "text": [
      "요약 진행 중:  21%|██▏       | 508/2388 [21:15<1:18:34,  2.51s/it]"
     ]
    },
    {
     "name": "stdout",
     "output_type": "stream",
     "text": [
      "509/2388 행 요약 완료\n"
     ]
    },
    {
     "name": "stderr",
     "output_type": "stream",
     "text": [
      "요약 진행 중:  21%|██▏       | 509/2388 [21:19<1:34:28,  3.02s/it]"
     ]
    },
    {
     "name": "stdout",
     "output_type": "stream",
     "text": [
      "510/2388 행 요약 완료\n"
     ]
    },
    {
     "name": "stderr",
     "output_type": "stream",
     "text": [
      "요약 진행 중:  21%|██▏       | 510/2388 [21:21<1:24:41,  2.71s/it]"
     ]
    },
    {
     "name": "stdout",
     "output_type": "stream",
     "text": [
      "511/2388 행 요약 완료\n"
     ]
    },
    {
     "name": "stderr",
     "output_type": "stream",
     "text": [
      "요약 진행 중:  21%|██▏       | 511/2388 [21:23<1:17:42,  2.48s/it]"
     ]
    },
    {
     "name": "stdout",
     "output_type": "stream",
     "text": [
      "512/2388 행 요약 완료\n"
     ]
    },
    {
     "name": "stderr",
     "output_type": "stream",
     "text": [
      "요약 진행 중:  21%|██▏       | 512/2388 [21:26<1:22:55,  2.65s/it]"
     ]
    },
    {
     "name": "stdout",
     "output_type": "stream",
     "text": [
      "513/2388 행 요약 완료\n"
     ]
    },
    {
     "name": "stderr",
     "output_type": "stream",
     "text": [
      "요약 진행 중:  21%|██▏       | 513/2388 [21:30<1:29:47,  2.87s/it]"
     ]
    },
    {
     "name": "stdout",
     "output_type": "stream",
     "text": [
      "514/2388 행 요약 완료\n"
     ]
    },
    {
     "name": "stderr",
     "output_type": "stream",
     "text": [
      "요약 진행 중:  22%|██▏       | 514/2388 [21:32<1:23:01,  2.66s/it]"
     ]
    },
    {
     "name": "stdout",
     "output_type": "stream",
     "text": [
      "515/2388 행 요약 완료\n"
     ]
    },
    {
     "name": "stderr",
     "output_type": "stream",
     "text": [
      "요약 진행 중:  22%|██▏       | 515/2388 [21:35<1:25:20,  2.73s/it]"
     ]
    },
    {
     "name": "stdout",
     "output_type": "stream",
     "text": [
      "516/2388 행 요약 완료\n"
     ]
    },
    {
     "name": "stderr",
     "output_type": "stream",
     "text": [
      "요약 진행 중:  22%|██▏       | 516/2388 [21:38<1:28:37,  2.84s/it]"
     ]
    },
    {
     "name": "stdout",
     "output_type": "stream",
     "text": [
      "517/2388 행 요약 완료\n"
     ]
    },
    {
     "name": "stderr",
     "output_type": "stream",
     "text": [
      "요약 진행 중:  22%|██▏       | 517/2388 [21:42<1:36:08,  3.08s/it]"
     ]
    },
    {
     "name": "stdout",
     "output_type": "stream",
     "text": [
      "518/2388 행 요약 완료\n"
     ]
    },
    {
     "name": "stderr",
     "output_type": "stream",
     "text": [
      "요약 진행 중:  22%|██▏       | 518/2388 [21:44<1:30:25,  2.90s/it]"
     ]
    },
    {
     "name": "stdout",
     "output_type": "stream",
     "text": [
      "519/2388 행 요약 완료\n"
     ]
    },
    {
     "name": "stderr",
     "output_type": "stream",
     "text": [
      "요약 진행 중:  22%|██▏       | 519/2388 [21:47<1:29:08,  2.86s/it]"
     ]
    },
    {
     "name": "stdout",
     "output_type": "stream",
     "text": [
      "520/2388 행 요약 완료\n"
     ]
    },
    {
     "name": "stderr",
     "output_type": "stream",
     "text": [
      "요약 진행 중:  22%|██▏       | 520/2388 [21:49<1:25:02,  2.73s/it]"
     ]
    },
    {
     "name": "stdout",
     "output_type": "stream",
     "text": [
      "521/2388 행 요약 완료\n"
     ]
    },
    {
     "name": "stderr",
     "output_type": "stream",
     "text": [
      "요약 진행 중:  22%|██▏       | 521/2388 [21:51<1:12:47,  2.34s/it]"
     ]
    },
    {
     "name": "stdout",
     "output_type": "stream",
     "text": [
      "522/2388 행 요약 완료\n"
     ]
    },
    {
     "name": "stderr",
     "output_type": "stream",
     "text": [
      "요약 진행 중:  22%|██▏       | 522/2388 [21:53<1:08:52,  2.21s/it]"
     ]
    },
    {
     "name": "stdout",
     "output_type": "stream",
     "text": [
      "523/2388 행 요약 완료\n"
     ]
    },
    {
     "name": "stderr",
     "output_type": "stream",
     "text": [
      "요약 진행 중:  22%|██▏       | 523/2388 [21:55<1:14:21,  2.39s/it]"
     ]
    },
    {
     "name": "stdout",
     "output_type": "stream",
     "text": [
      "524/2388 행 요약 완료\n"
     ]
    },
    {
     "name": "stderr",
     "output_type": "stream",
     "text": [
      "요약 진행 중:  22%|██▏       | 524/2388 [21:58<1:18:52,  2.54s/it]"
     ]
    },
    {
     "name": "stdout",
     "output_type": "stream",
     "text": [
      "525/2388 행 요약 완료\n"
     ]
    },
    {
     "name": "stderr",
     "output_type": "stream",
     "text": [
      "요약 진행 중:  22%|██▏       | 525/2388 [22:00<1:14:15,  2.39s/it]"
     ]
    },
    {
     "name": "stdout",
     "output_type": "stream",
     "text": [
      "526/2388 행 요약 완료\n"
     ]
    },
    {
     "name": "stderr",
     "output_type": "stream",
     "text": [
      "요약 진행 중:  22%|██▏       | 526/2388 [22:02<1:07:20,  2.17s/it]"
     ]
    },
    {
     "name": "stdout",
     "output_type": "stream",
     "text": [
      "527/2388 행 요약 완료\n"
     ]
    },
    {
     "name": "stderr",
     "output_type": "stream",
     "text": [
      "요약 진행 중:  22%|██▏       | 527/2388 [22:04<1:10:19,  2.27s/it]"
     ]
    },
    {
     "name": "stdout",
     "output_type": "stream",
     "text": [
      "528/2388 행 요약 완료\n"
     ]
    },
    {
     "name": "stderr",
     "output_type": "stream",
     "text": [
      "요약 진행 중:  22%|██▏       | 528/2388 [22:07<1:11:07,  2.29s/it]"
     ]
    },
    {
     "name": "stdout",
     "output_type": "stream",
     "text": [
      "529/2388 행 요약 완료\n"
     ]
    },
    {
     "name": "stderr",
     "output_type": "stream",
     "text": [
      "요약 진행 중:  22%|██▏       | 529/2388 [22:12<1:34:55,  3.06s/it]"
     ]
    },
    {
     "name": "stdout",
     "output_type": "stream",
     "text": [
      "530/2388 행 요약 완료\n"
     ]
    },
    {
     "name": "stderr",
     "output_type": "stream",
     "text": [
      "요약 진행 중:  22%|██▏       | 530/2388 [22:13<1:20:44,  2.61s/it]"
     ]
    },
    {
     "name": "stdout",
     "output_type": "stream",
     "text": [
      "531/2388 행 요약 완료\n"
     ]
    },
    {
     "name": "stderr",
     "output_type": "stream",
     "text": [
      "요약 진행 중:  22%|██▏       | 531/2388 [22:16<1:25:55,  2.78s/it]"
     ]
    },
    {
     "name": "stdout",
     "output_type": "stream",
     "text": [
      "532/2388 행 요약 완료\n"
     ]
    },
    {
     "name": "stderr",
     "output_type": "stream",
     "text": [
      "요약 진행 중:  22%|██▏       | 532/2388 [22:18<1:12:32,  2.35s/it]"
     ]
    },
    {
     "name": "stdout",
     "output_type": "stream",
     "text": [
      "533/2388 행 요약 완료\n"
     ]
    },
    {
     "name": "stderr",
     "output_type": "stream",
     "text": [
      "요약 진행 중:  22%|██▏       | 533/2388 [22:23<1:37:08,  3.14s/it]"
     ]
    },
    {
     "name": "stdout",
     "output_type": "stream",
     "text": [
      "534/2388 행 요약 완료\n"
     ]
    },
    {
     "name": "stderr",
     "output_type": "stream",
     "text": [
      "요약 진행 중:  22%|██▏       | 534/2388 [22:24<1:21:40,  2.64s/it]"
     ]
    },
    {
     "name": "stdout",
     "output_type": "stream",
     "text": [
      "535/2388 행 요약 완료\n"
     ]
    },
    {
     "name": "stderr",
     "output_type": "stream",
     "text": [
      "요약 진행 중:  22%|██▏       | 535/2388 [22:26<1:09:35,  2.25s/it]"
     ]
    },
    {
     "name": "stdout",
     "output_type": "stream",
     "text": [
      "536/2388 행 요약 완료\n"
     ]
    },
    {
     "name": "stderr",
     "output_type": "stream",
     "text": [
      "요약 진행 중:  22%|██▏       | 536/2388 [22:28<1:07:55,  2.20s/it]"
     ]
    },
    {
     "name": "stdout",
     "output_type": "stream",
     "text": [
      "537/2388 행 요약 완료\n"
     ]
    },
    {
     "name": "stderr",
     "output_type": "stream",
     "text": [
      "요약 진행 중:  22%|██▏       | 537/2388 [22:30<1:06:40,  2.16s/it]"
     ]
    },
    {
     "name": "stdout",
     "output_type": "stream",
     "text": [
      "538/2388 행 요약 완료\n"
     ]
    },
    {
     "name": "stderr",
     "output_type": "stream",
     "text": [
      "요약 진행 중:  23%|██▎       | 538/2388 [22:33<1:17:40,  2.52s/it]"
     ]
    },
    {
     "name": "stdout",
     "output_type": "stream",
     "text": [
      "539/2388 행 요약 완료\n"
     ]
    },
    {
     "name": "stderr",
     "output_type": "stream",
     "text": [
      "요약 진행 중:  23%|██▎       | 539/2388 [22:36<1:19:30,  2.58s/it]"
     ]
    },
    {
     "name": "stdout",
     "output_type": "stream",
     "text": [
      "540/2388 행 요약 완료\n"
     ]
    },
    {
     "name": "stderr",
     "output_type": "stream",
     "text": [
      "요약 진행 중:  23%|██▎       | 540/2388 [22:37<1:09:03,  2.24s/it]"
     ]
    },
    {
     "name": "stdout",
     "output_type": "stream",
     "text": [
      "541/2388 행 요약 완료\n"
     ]
    },
    {
     "name": "stderr",
     "output_type": "stream",
     "text": [
      "요약 진행 중:  23%|██▎       | 541/2388 [22:38<59:31,  1.93s/it]  "
     ]
    },
    {
     "name": "stdout",
     "output_type": "stream",
     "text": [
      "542/2388 행 요약 완료\n"
     ]
    },
    {
     "name": "stderr",
     "output_type": "stream",
     "text": [
      "요약 진행 중:  23%|██▎       | 542/2388 [22:41<1:02:35,  2.03s/it]"
     ]
    },
    {
     "name": "stdout",
     "output_type": "stream",
     "text": [
      "543/2388 행 요약 완료\n"
     ]
    },
    {
     "name": "stderr",
     "output_type": "stream",
     "text": [
      "요약 진행 중:  23%|██▎       | 543/2388 [22:42<58:42,  1.91s/it]  "
     ]
    },
    {
     "name": "stdout",
     "output_type": "stream",
     "text": [
      "544/2388 행 요약 완료\n"
     ]
    },
    {
     "name": "stderr",
     "output_type": "stream",
     "text": [
      "요약 진행 중:  23%|██▎       | 544/2388 [22:44<57:30,  1.87s/it]"
     ]
    },
    {
     "name": "stdout",
     "output_type": "stream",
     "text": [
      "545/2388 행 요약 완료\n"
     ]
    },
    {
     "name": "stderr",
     "output_type": "stream",
     "text": [
      "요약 진행 중:  23%|██▎       | 545/2388 [22:45<51:48,  1.69s/it]"
     ]
    },
    {
     "name": "stdout",
     "output_type": "stream",
     "text": [
      "546/2388 행 요약 완료\n"
     ]
    },
    {
     "name": "stderr",
     "output_type": "stream",
     "text": [
      "요약 진행 중:  23%|██▎       | 546/2388 [22:46<46:09,  1.50s/it]"
     ]
    },
    {
     "name": "stdout",
     "output_type": "stream",
     "text": [
      "547/2388 행 요약 완료\n"
     ]
    },
    {
     "name": "stderr",
     "output_type": "stream",
     "text": [
      "요약 진행 중:  23%|██▎       | 547/2388 [22:48<46:52,  1.53s/it]"
     ]
    },
    {
     "name": "stdout",
     "output_type": "stream",
     "text": [
      "548/2388 행 요약 완료\n"
     ]
    },
    {
     "name": "stderr",
     "output_type": "stream",
     "text": [
      "요약 진행 중:  23%|██▎       | 548/2388 [22:50<50:39,  1.65s/it]"
     ]
    },
    {
     "name": "stdout",
     "output_type": "stream",
     "text": [
      "549/2388 행 요약 완료\n"
     ]
    },
    {
     "name": "stderr",
     "output_type": "stream",
     "text": [
      "요약 진행 중:  23%|██▎       | 549/2388 [22:52<56:26,  1.84s/it]"
     ]
    },
    {
     "name": "stdout",
     "output_type": "stream",
     "text": [
      "550/2388 행 요약 완료\n"
     ]
    },
    {
     "name": "stderr",
     "output_type": "stream",
     "text": [
      "요약 진행 중:  23%|██▎       | 550/2388 [22:54<54:14,  1.77s/it]"
     ]
    },
    {
     "name": "stdout",
     "output_type": "stream",
     "text": [
      "551/2388 행 요약 완료\n"
     ]
    },
    {
     "name": "stderr",
     "output_type": "stream",
     "text": [
      "요약 진행 중:  23%|██▎       | 551/2388 [22:57<1:06:59,  2.19s/it]"
     ]
    },
    {
     "name": "stdout",
     "output_type": "stream",
     "text": [
      "552/2388 행 요약 완료\n"
     ]
    },
    {
     "name": "stderr",
     "output_type": "stream",
     "text": [
      "요약 진행 중:  23%|██▎       | 552/2388 [22:59<1:04:49,  2.12s/it]"
     ]
    },
    {
     "name": "stdout",
     "output_type": "stream",
     "text": [
      "553/2388 행 요약 완료\n"
     ]
    },
    {
     "name": "stderr",
     "output_type": "stream",
     "text": [
      "요약 진행 중:  23%|██▎       | 553/2388 [23:03<1:22:32,  2.70s/it]"
     ]
    },
    {
     "name": "stdout",
     "output_type": "stream",
     "text": [
      "554/2388 행 요약 완료\n"
     ]
    },
    {
     "name": "stderr",
     "output_type": "stream",
     "text": [
      "요약 진행 중:  23%|██▎       | 554/2388 [23:07<1:30:53,  2.97s/it]"
     ]
    },
    {
     "name": "stdout",
     "output_type": "stream",
     "text": [
      "555/2388 행 요약 완료\n"
     ]
    },
    {
     "name": "stderr",
     "output_type": "stream",
     "text": [
      "요약 진행 중:  23%|██▎       | 555/2388 [23:11<1:45:45,  3.46s/it]"
     ]
    },
    {
     "name": "stdout",
     "output_type": "stream",
     "text": [
      "556/2388 행 요약 완료\n"
     ]
    },
    {
     "name": "stderr",
     "output_type": "stream",
     "text": [
      "요약 진행 중:  23%|██▎       | 556/2388 [23:15<1:49:26,  3.58s/it]"
     ]
    },
    {
     "name": "stdout",
     "output_type": "stream",
     "text": [
      "557/2388 행 요약 완료\n"
     ]
    },
    {
     "name": "stderr",
     "output_type": "stream",
     "text": [
      "요약 진행 중:  23%|██▎       | 557/2388 [23:17<1:31:26,  3.00s/it]"
     ]
    },
    {
     "name": "stdout",
     "output_type": "stream",
     "text": [
      "558/2388 행 요약 완료\n"
     ]
    },
    {
     "name": "stderr",
     "output_type": "stream",
     "text": [
      "요약 진행 중:  23%|██▎       | 558/2388 [23:20<1:34:53,  3.11s/it]"
     ]
    },
    {
     "name": "stdout",
     "output_type": "stream",
     "text": [
      "559/2388 행 요약 완료\n"
     ]
    },
    {
     "name": "stderr",
     "output_type": "stream",
     "text": [
      "요약 진행 중:  23%|██▎       | 559/2388 [23:22<1:19:36,  2.61s/it]"
     ]
    },
    {
     "name": "stdout",
     "output_type": "stream",
     "text": [
      "560/2388 행 요약 완료\n"
     ]
    },
    {
     "name": "stderr",
     "output_type": "stream",
     "text": [
      "요약 진행 중:  23%|██▎       | 560/2388 [23:23<1:08:00,  2.23s/it]"
     ]
    },
    {
     "name": "stdout",
     "output_type": "stream",
     "text": [
      "561/2388 행 요약 완료\n"
     ]
    },
    {
     "name": "stderr",
     "output_type": "stream",
     "text": [
      "요약 진행 중:  23%|██▎       | 561/2388 [23:25<1:03:02,  2.07s/it]"
     ]
    },
    {
     "name": "stdout",
     "output_type": "stream",
     "text": [
      "562/2388 행 요약 완료\n"
     ]
    },
    {
     "name": "stderr",
     "output_type": "stream",
     "text": [
      "요약 진행 중:  24%|██▎       | 562/2388 [23:28<1:11:59,  2.37s/it]"
     ]
    },
    {
     "name": "stdout",
     "output_type": "stream",
     "text": [
      "563/2388 행 요약 완료\n"
     ]
    },
    {
     "name": "stderr",
     "output_type": "stream",
     "text": [
      "요약 진행 중:  24%|██▎       | 563/2388 [23:30<1:08:20,  2.25s/it]"
     ]
    },
    {
     "name": "stdout",
     "output_type": "stream",
     "text": [
      "564/2388 행 요약 완료\n"
     ]
    },
    {
     "name": "stderr",
     "output_type": "stream",
     "text": [
      "요약 진행 중:  24%|██▎       | 564/2388 [23:31<1:02:08,  2.04s/it]"
     ]
    },
    {
     "name": "stdout",
     "output_type": "stream",
     "text": [
      "565/2388 행 요약 완료\n"
     ]
    },
    {
     "name": "stderr",
     "output_type": "stream",
     "text": [
      "요약 진행 중:  24%|██▎       | 565/2388 [23:34<1:04:31,  2.12s/it]"
     ]
    },
    {
     "name": "stdout",
     "output_type": "stream",
     "text": [
      "566/2388 행 요약 완료\n"
     ]
    },
    {
     "name": "stderr",
     "output_type": "stream",
     "text": [
      "요약 진행 중:  24%|██▎       | 566/2388 [23:36<1:05:51,  2.17s/it]"
     ]
    },
    {
     "name": "stdout",
     "output_type": "stream",
     "text": [
      "567/2388 행 요약 완료\n"
     ]
    },
    {
     "name": "stderr",
     "output_type": "stream",
     "text": [
      "요약 진행 중:  24%|██▎       | 567/2388 [23:39<1:11:00,  2.34s/it]"
     ]
    },
    {
     "name": "stdout",
     "output_type": "stream",
     "text": [
      "568/2388 행 요약 완료\n"
     ]
    },
    {
     "name": "stderr",
     "output_type": "stream",
     "text": [
      "요약 진행 중:  24%|██▍       | 568/2388 [23:41<1:13:51,  2.43s/it]"
     ]
    },
    {
     "name": "stdout",
     "output_type": "stream",
     "text": [
      "569/2388 행 요약 완료\n"
     ]
    },
    {
     "name": "stderr",
     "output_type": "stream",
     "text": [
      "요약 진행 중:  24%|██▍       | 569/2388 [23:43<1:03:47,  2.10s/it]"
     ]
    },
    {
     "name": "stdout",
     "output_type": "stream",
     "text": [
      "570/2388 행 요약 완료\n"
     ]
    },
    {
     "name": "stderr",
     "output_type": "stream",
     "text": [
      "요약 진행 중:  24%|██▍       | 570/2388 [23:44<57:18,  1.89s/it]  "
     ]
    },
    {
     "name": "stdout",
     "output_type": "stream",
     "text": [
      "571/2388 행 요약 완료\n"
     ]
    },
    {
     "name": "stderr",
     "output_type": "stream",
     "text": [
      "요약 진행 중:  24%|██▍       | 571/2388 [23:46<54:34,  1.80s/it]"
     ]
    },
    {
     "name": "stdout",
     "output_type": "stream",
     "text": [
      "572/2388 행 요약 완료\n"
     ]
    },
    {
     "name": "stderr",
     "output_type": "stream",
     "text": [
      "요약 진행 중:  24%|██▍       | 572/2388 [23:48<1:01:59,  2.05s/it]"
     ]
    },
    {
     "name": "stdout",
     "output_type": "stream",
     "text": [
      "573/2388 행 요약 완료\n"
     ]
    },
    {
     "name": "stderr",
     "output_type": "stream",
     "text": [
      "요약 진행 중:  24%|██▍       | 573/2388 [23:52<1:17:29,  2.56s/it]"
     ]
    },
    {
     "name": "stdout",
     "output_type": "stream",
     "text": [
      "574/2388 행 요약 완료\n"
     ]
    },
    {
     "name": "stderr",
     "output_type": "stream",
     "text": [
      "요약 진행 중:  24%|██▍       | 574/2388 [23:55<1:23:17,  2.76s/it]"
     ]
    },
    {
     "name": "stdout",
     "output_type": "stream",
     "text": [
      "575/2388 행 요약 완료\n"
     ]
    },
    {
     "name": "stderr",
     "output_type": "stream",
     "text": [
      "요약 진행 중:  24%|██▍       | 575/2388 [23:57<1:15:46,  2.51s/it]"
     ]
    },
    {
     "name": "stdout",
     "output_type": "stream",
     "text": [
      "576/2388 행 요약 완료\n"
     ]
    },
    {
     "name": "stderr",
     "output_type": "stream",
     "text": [
      "요약 진행 중:  24%|██▍       | 576/2388 [24:00<1:16:55,  2.55s/it]"
     ]
    },
    {
     "name": "stdout",
     "output_type": "stream",
     "text": [
      "577/2388 행 요약 완료\n"
     ]
    },
    {
     "name": "stderr",
     "output_type": "stream",
     "text": [
      "요약 진행 중:  24%|██▍       | 577/2388 [24:02<1:18:45,  2.61s/it]"
     ]
    },
    {
     "name": "stdout",
     "output_type": "stream",
     "text": [
      "578/2388 행 요약 완료\n"
     ]
    },
    {
     "name": "stderr",
     "output_type": "stream",
     "text": [
      "요약 진행 중:  24%|██▍       | 578/2388 [24:06<1:29:05,  2.95s/it]"
     ]
    },
    {
     "name": "stdout",
     "output_type": "stream",
     "text": [
      "579/2388 행 요약 완료\n"
     ]
    },
    {
     "name": "stderr",
     "output_type": "stream",
     "text": [
      "요약 진행 중:  24%|██▍       | 579/2388 [24:08<1:21:37,  2.71s/it]"
     ]
    },
    {
     "name": "stdout",
     "output_type": "stream",
     "text": [
      "580/2388 행 요약 완료\n"
     ]
    },
    {
     "name": "stderr",
     "output_type": "stream",
     "text": [
      "요약 진행 중:  24%|██▍       | 580/2388 [24:12<1:31:51,  3.05s/it]"
     ]
    },
    {
     "name": "stdout",
     "output_type": "stream",
     "text": [
      "581/2388 행 요약 완료\n"
     ]
    },
    {
     "name": "stderr",
     "output_type": "stream",
     "text": [
      "요약 진행 중:  24%|██▍       | 581/2388 [24:14<1:21:12,  2.70s/it]"
     ]
    },
    {
     "name": "stdout",
     "output_type": "stream",
     "text": [
      "582/2388 행 요약 완료\n"
     ]
    },
    {
     "name": "stderr",
     "output_type": "stream",
     "text": [
      "요약 진행 중:  24%|██▍       | 582/2388 [24:17<1:26:32,  2.88s/it]"
     ]
    },
    {
     "name": "stdout",
     "output_type": "stream",
     "text": [
      "583/2388 행 요약 완료\n"
     ]
    },
    {
     "name": "stderr",
     "output_type": "stream",
     "text": [
      "요약 진행 중:  24%|██▍       | 583/2388 [24:20<1:27:08,  2.90s/it]"
     ]
    },
    {
     "name": "stdout",
     "output_type": "stream",
     "text": [
      "584/2388 행 요약 완료\n"
     ]
    },
    {
     "name": "stderr",
     "output_type": "stream",
     "text": [
      "요약 진행 중:  24%|██▍       | 584/2388 [24:24<1:33:02,  3.09s/it]"
     ]
    },
    {
     "name": "stdout",
     "output_type": "stream",
     "text": [
      "585/2388 행 요약 완료\n"
     ]
    },
    {
     "name": "stderr",
     "output_type": "stream",
     "text": [
      "요약 진행 중:  24%|██▍       | 585/2388 [24:28<1:38:42,  3.28s/it]"
     ]
    },
    {
     "name": "stdout",
     "output_type": "stream",
     "text": [
      "586/2388 행 요약 완료\n"
     ]
    },
    {
     "name": "stderr",
     "output_type": "stream",
     "text": [
      "요약 진행 중:  25%|██▍       | 586/2388 [24:30<1:30:46,  3.02s/it]"
     ]
    },
    {
     "name": "stdout",
     "output_type": "stream",
     "text": [
      "587/2388 행 요약 완료\n"
     ]
    },
    {
     "name": "stderr",
     "output_type": "stream",
     "text": [
      "요약 진행 중:  25%|██▍       | 587/2388 [24:31<1:14:17,  2.47s/it]"
     ]
    },
    {
     "name": "stdout",
     "output_type": "stream",
     "text": [
      "588/2388 행 요약 완료\n"
     ]
    },
    {
     "name": "stderr",
     "output_type": "stream",
     "text": [
      "요약 진행 중:  25%|██▍       | 588/2388 [24:35<1:25:08,  2.84s/it]"
     ]
    },
    {
     "name": "stdout",
     "output_type": "stream",
     "text": [
      "589/2388 행 요약 완료\n"
     ]
    },
    {
     "name": "stderr",
     "output_type": "stream",
     "text": [
      "요약 진행 중:  25%|██▍       | 589/2388 [24:37<1:18:48,  2.63s/it]"
     ]
    },
    {
     "name": "stdout",
     "output_type": "stream",
     "text": [
      "590/2388 행 요약 완료\n"
     ]
    },
    {
     "name": "stderr",
     "output_type": "stream",
     "text": [
      "요약 진행 중:  25%|██▍       | 590/2388 [24:40<1:20:51,  2.70s/it]"
     ]
    },
    {
     "name": "stdout",
     "output_type": "stream",
     "text": [
      "591/2388 행 요약 완료\n"
     ]
    },
    {
     "name": "stderr",
     "output_type": "stream",
     "text": [
      "요약 진행 중:  25%|██▍       | 591/2388 [24:41<1:06:44,  2.23s/it]"
     ]
    },
    {
     "name": "stdout",
     "output_type": "stream",
     "text": [
      "592/2388 행 요약 완료\n"
     ]
    },
    {
     "name": "stderr",
     "output_type": "stream",
     "text": [
      "요약 진행 중:  25%|██▍       | 592/2388 [24:44<1:12:59,  2.44s/it]"
     ]
    },
    {
     "name": "stdout",
     "output_type": "stream",
     "text": [
      "593/2388 행 요약 완료\n"
     ]
    },
    {
     "name": "stderr",
     "output_type": "stream",
     "text": [
      "요약 진행 중:  25%|██▍       | 593/2388 [24:46<1:12:50,  2.43s/it]"
     ]
    },
    {
     "name": "stdout",
     "output_type": "stream",
     "text": [
      "594/2388 행 요약 완료\n"
     ]
    },
    {
     "name": "stderr",
     "output_type": "stream",
     "text": [
      "요약 진행 중:  25%|██▍       | 594/2388 [24:49<1:14:27,  2.49s/it]"
     ]
    },
    {
     "name": "stdout",
     "output_type": "stream",
     "text": [
      "595/2388 행 요약 완료\n"
     ]
    },
    {
     "name": "stderr",
     "output_type": "stream",
     "text": [
      "요약 진행 중:  25%|██▍       | 595/2388 [24:53<1:31:20,  3.06s/it]"
     ]
    },
    {
     "name": "stdout",
     "output_type": "stream",
     "text": [
      "596/2388 행 요약 완료\n"
     ]
    },
    {
     "name": "stderr",
     "output_type": "stream",
     "text": [
      "요약 진행 중:  25%|██▍       | 596/2388 [24:55<1:20:12,  2.69s/it]"
     ]
    },
    {
     "name": "stdout",
     "output_type": "stream",
     "text": [
      "597/2388 행 요약 완료\n"
     ]
    },
    {
     "name": "stderr",
     "output_type": "stream",
     "text": [
      "요약 진행 중:  25%|██▌       | 597/2388 [24:57<1:15:05,  2.52s/it]"
     ]
    },
    {
     "name": "stdout",
     "output_type": "stream",
     "text": [
      "598/2388 행 요약 완료\n"
     ]
    },
    {
     "name": "stderr",
     "output_type": "stream",
     "text": [
      "요약 진행 중:  25%|██▌       | 598/2388 [25:01<1:27:00,  2.92s/it]"
     ]
    },
    {
     "name": "stdout",
     "output_type": "stream",
     "text": [
      "599/2388 행 요약 완료\n"
     ]
    },
    {
     "name": "stderr",
     "output_type": "stream",
     "text": [
      "요약 진행 중:  25%|██▌       | 599/2388 [25:03<1:19:33,  2.67s/it]"
     ]
    },
    {
     "name": "stdout",
     "output_type": "stream",
     "text": [
      "600/2388 행 요약 완료\n"
     ]
    },
    {
     "name": "stderr",
     "output_type": "stream",
     "text": [
      "요약 진행 중:  25%|██▌       | 600/2388 [25:07<1:31:33,  3.07s/it]"
     ]
    },
    {
     "name": "stdout",
     "output_type": "stream",
     "text": [
      "601/2388 행 요약 완료\n"
     ]
    },
    {
     "name": "stderr",
     "output_type": "stream",
     "text": [
      "요약 진행 중:  25%|██▌       | 601/2388 [25:08<1:14:42,  2.51s/it]"
     ]
    },
    {
     "name": "stdout",
     "output_type": "stream",
     "text": [
      "602/2388 행 요약 완료\n"
     ]
    },
    {
     "name": "stderr",
     "output_type": "stream",
     "text": [
      "요약 진행 중:  25%|██▌       | 602/2388 [25:11<1:14:47,  2.51s/it]"
     ]
    },
    {
     "name": "stdout",
     "output_type": "stream",
     "text": [
      "603/2388 행 요약 완료\n"
     ]
    },
    {
     "name": "stderr",
     "output_type": "stream",
     "text": [
      "요약 진행 중:  25%|██▌       | 603/2388 [25:14<1:17:22,  2.60s/it]"
     ]
    },
    {
     "name": "stdout",
     "output_type": "stream",
     "text": [
      "604/2388 행 요약 완료\n"
     ]
    },
    {
     "name": "stderr",
     "output_type": "stream",
     "text": [
      "요약 진행 중:  25%|██▌       | 604/2388 [25:17<1:21:00,  2.72s/it]"
     ]
    },
    {
     "name": "stdout",
     "output_type": "stream",
     "text": [
      "605/2388 행 요약 완료\n"
     ]
    },
    {
     "name": "stderr",
     "output_type": "stream",
     "text": [
      "요약 진행 중:  25%|██▌       | 605/2388 [25:19<1:13:06,  2.46s/it]"
     ]
    },
    {
     "name": "stdout",
     "output_type": "stream",
     "text": [
      "606/2388 행 요약 완료\n"
     ]
    },
    {
     "name": "stderr",
     "output_type": "stream",
     "text": [
      "요약 진행 중:  25%|██▌       | 606/2388 [25:21<1:10:49,  2.38s/it]"
     ]
    },
    {
     "name": "stdout",
     "output_type": "stream",
     "text": [
      "607/2388 행 요약 완료\n"
     ]
    },
    {
     "name": "stderr",
     "output_type": "stream",
     "text": [
      "요약 진행 중:  25%|██▌       | 607/2388 [25:23<1:06:34,  2.24s/it]"
     ]
    },
    {
     "name": "stdout",
     "output_type": "stream",
     "text": [
      "608/2388 행 요약 완료\n"
     ]
    },
    {
     "name": "stderr",
     "output_type": "stream",
     "text": [
      "요약 진행 중:  25%|██▌       | 608/2388 [25:26<1:16:06,  2.57s/it]"
     ]
    },
    {
     "name": "stdout",
     "output_type": "stream",
     "text": [
      "609/2388 행 요약 완료\n"
     ]
    },
    {
     "name": "stderr",
     "output_type": "stream",
     "text": [
      "요약 진행 중:  26%|██▌       | 609/2388 [25:28<1:12:31,  2.45s/it]"
     ]
    },
    {
     "name": "stdout",
     "output_type": "stream",
     "text": [
      "610/2388 행 요약 완료\n"
     ]
    },
    {
     "name": "stderr",
     "output_type": "stream",
     "text": [
      "요약 진행 중:  26%|██▌       | 610/2388 [25:30<1:08:26,  2.31s/it]"
     ]
    },
    {
     "name": "stdout",
     "output_type": "stream",
     "text": [
      "611/2388 행 요약 완료\n"
     ]
    },
    {
     "name": "stderr",
     "output_type": "stream",
     "text": [
      "요약 진행 중:  26%|██▌       | 611/2388 [25:31<59:20,  2.00s/it]  "
     ]
    },
    {
     "name": "stdout",
     "output_type": "stream",
     "text": [
      "612/2388 행 요약 완료\n"
     ]
    },
    {
     "name": "stderr",
     "output_type": "stream",
     "text": [
      "요약 진행 중:  26%|██▌       | 612/2388 [25:34<1:02:13,  2.10s/it]"
     ]
    },
    {
     "name": "stdout",
     "output_type": "stream",
     "text": [
      "613/2388 행 요약 완료\n"
     ]
    },
    {
     "name": "stderr",
     "output_type": "stream",
     "text": [
      "요약 진행 중:  26%|██▌       | 613/2388 [25:35<57:21,  1.94s/it]  "
     ]
    },
    {
     "name": "stdout",
     "output_type": "stream",
     "text": [
      "614/2388 행 요약 완료\n"
     ]
    },
    {
     "name": "stderr",
     "output_type": "stream",
     "text": [
      "요약 진행 중:  26%|██▌       | 614/2388 [25:37<53:42,  1.82s/it]"
     ]
    },
    {
     "name": "stdout",
     "output_type": "stream",
     "text": [
      "615/2388 행 요약 완료\n"
     ]
    },
    {
     "name": "stderr",
     "output_type": "stream",
     "text": [
      "요약 진행 중:  26%|██▌       | 615/2388 [25:39<56:37,  1.92s/it]"
     ]
    },
    {
     "name": "stdout",
     "output_type": "stream",
     "text": [
      "616/2388 행 요약 완료\n"
     ]
    },
    {
     "name": "stderr",
     "output_type": "stream",
     "text": [
      "요약 진행 중:  26%|██▌       | 616/2388 [25:42<1:02:34,  2.12s/it]"
     ]
    },
    {
     "name": "stdout",
     "output_type": "stream",
     "text": [
      "617/2388 행 요약 완료\n"
     ]
    },
    {
     "name": "stderr",
     "output_type": "stream",
     "text": [
      "요약 진행 중:  26%|██▌       | 617/2388 [25:44<1:07:56,  2.30s/it]"
     ]
    },
    {
     "name": "stdout",
     "output_type": "stream",
     "text": [
      "618/2388 행 요약 완료\n"
     ]
    },
    {
     "name": "stderr",
     "output_type": "stream",
     "text": [
      "요약 진행 중:  26%|██▌       | 618/2388 [25:47<1:13:54,  2.51s/it]"
     ]
    },
    {
     "name": "stdout",
     "output_type": "stream",
     "text": [
      "619/2388 행 요약 완료\n"
     ]
    },
    {
     "name": "stderr",
     "output_type": "stream",
     "text": [
      "요약 진행 중:  26%|██▌       | 619/2388 [25:49<1:05:40,  2.23s/it]"
     ]
    },
    {
     "name": "stdout",
     "output_type": "stream",
     "text": [
      "620/2388 행 요약 완료\n"
     ]
    },
    {
     "name": "stderr",
     "output_type": "stream",
     "text": [
      "요약 진행 중:  26%|██▌       | 620/2388 [25:50<58:14,  1.98s/it]  "
     ]
    },
    {
     "name": "stdout",
     "output_type": "stream",
     "text": [
      "621/2388 행 요약 완료\n"
     ]
    },
    {
     "name": "stderr",
     "output_type": "stream",
     "text": [
      "요약 진행 중:  26%|██▌       | 621/2388 [25:54<1:12:46,  2.47s/it]"
     ]
    },
    {
     "name": "stdout",
     "output_type": "stream",
     "text": [
      "622/2388 행 요약 완료\n"
     ]
    },
    {
     "name": "stderr",
     "output_type": "stream",
     "text": [
      "요약 진행 중:  26%|██▌       | 622/2388 [25:56<1:11:35,  2.43s/it]"
     ]
    },
    {
     "name": "stdout",
     "output_type": "stream",
     "text": [
      "623/2388 행 요약 완료\n"
     ]
    },
    {
     "name": "stderr",
     "output_type": "stream",
     "text": [
      "요약 진행 중:  26%|██▌       | 623/2388 [25:58<1:02:15,  2.12s/it]"
     ]
    },
    {
     "name": "stdout",
     "output_type": "stream",
     "text": [
      "624/2388 행 요약 완료\n"
     ]
    },
    {
     "name": "stderr",
     "output_type": "stream",
     "text": [
      "요약 진행 중:  26%|██▌       | 624/2388 [26:00<1:05:54,  2.24s/it]"
     ]
    },
    {
     "name": "stdout",
     "output_type": "stream",
     "text": [
      "625/2388 행 요약 완료\n"
     ]
    },
    {
     "name": "stderr",
     "output_type": "stream",
     "text": [
      "요약 진행 중:  26%|██▌       | 625/2388 [26:02<1:05:10,  2.22s/it]"
     ]
    },
    {
     "name": "stdout",
     "output_type": "stream",
     "text": [
      "626/2388 행 요약 완료\n"
     ]
    },
    {
     "name": "stderr",
     "output_type": "stream",
     "text": [
      "요약 진행 중:  26%|██▌       | 626/2388 [26:05<1:10:24,  2.40s/it]"
     ]
    },
    {
     "name": "stdout",
     "output_type": "stream",
     "text": [
      "627/2388 행 요약 완료\n"
     ]
    },
    {
     "name": "stderr",
     "output_type": "stream",
     "text": [
      "요약 진행 중:  26%|██▋       | 627/2388 [26:08<1:17:08,  2.63s/it]"
     ]
    },
    {
     "name": "stdout",
     "output_type": "stream",
     "text": [
      "628/2388 행 요약 완료\n"
     ]
    },
    {
     "name": "stderr",
     "output_type": "stream",
     "text": [
      "요약 진행 중:  26%|██▋       | 628/2388 [26:10<1:06:47,  2.28s/it]"
     ]
    },
    {
     "name": "stdout",
     "output_type": "stream",
     "text": [
      "629/2388 행 요약 완료\n"
     ]
    },
    {
     "name": "stderr",
     "output_type": "stream",
     "text": [
      "요약 진행 중:  26%|██▋       | 629/2388 [26:11<59:49,  2.04s/it]  "
     ]
    },
    {
     "name": "stdout",
     "output_type": "stream",
     "text": [
      "630/2388 행 요약 완료\n"
     ]
    },
    {
     "name": "stderr",
     "output_type": "stream",
     "text": [
      "요약 진행 중:  26%|██▋       | 630/2388 [26:13<58:38,  2.00s/it]"
     ]
    },
    {
     "name": "stdout",
     "output_type": "stream",
     "text": [
      "631/2388 행 요약 완료\n"
     ]
    },
    {
     "name": "stderr",
     "output_type": "stream",
     "text": [
      "요약 진행 중:  26%|██▋       | 631/2388 [26:15<53:15,  1.82s/it]"
     ]
    },
    {
     "name": "stdout",
     "output_type": "stream",
     "text": [
      "632/2388 행 요약 완료\n"
     ]
    },
    {
     "name": "stderr",
     "output_type": "stream",
     "text": [
      "요약 진행 중:  26%|██▋       | 632/2388 [26:16<50:59,  1.74s/it]"
     ]
    },
    {
     "name": "stdout",
     "output_type": "stream",
     "text": [
      "633/2388 행 요약 완료\n"
     ]
    },
    {
     "name": "stderr",
     "output_type": "stream",
     "text": [
      "요약 진행 중:  27%|██▋       | 633/2388 [26:18<54:16,  1.86s/it]"
     ]
    },
    {
     "name": "stdout",
     "output_type": "stream",
     "text": [
      "634/2388 행 요약 완료\n"
     ]
    },
    {
     "name": "stderr",
     "output_type": "stream",
     "text": [
      "요약 진행 중:  27%|██▋       | 634/2388 [26:23<1:19:04,  2.71s/it]"
     ]
    },
    {
     "name": "stdout",
     "output_type": "stream",
     "text": [
      "635/2388 행 요약 완료\n"
     ]
    },
    {
     "name": "stderr",
     "output_type": "stream",
     "text": [
      "요약 진행 중:  27%|██▋       | 635/2388 [26:25<1:09:38,  2.38s/it]"
     ]
    },
    {
     "name": "stdout",
     "output_type": "stream",
     "text": [
      "636/2388 행 요약 완료\n"
     ]
    },
    {
     "name": "stderr",
     "output_type": "stream",
     "text": [
      "요약 진행 중:  27%|██▋       | 636/2388 [26:27<1:10:31,  2.42s/it]"
     ]
    },
    {
     "name": "stdout",
     "output_type": "stream",
     "text": [
      "637/2388 행 요약 완료\n"
     ]
    },
    {
     "name": "stderr",
     "output_type": "stream",
     "text": [
      "요약 진행 중:  27%|██▋       | 637/2388 [26:32<1:33:14,  3.20s/it]"
     ]
    },
    {
     "name": "stdout",
     "output_type": "stream",
     "text": [
      "638/2388 행 요약 완료\n"
     ]
    },
    {
     "name": "stderr",
     "output_type": "stream",
     "text": [
      "요약 진행 중:  27%|██▋       | 638/2388 [26:35<1:27:51,  3.01s/it]"
     ]
    },
    {
     "name": "stdout",
     "output_type": "stream",
     "text": [
      "639/2388 행 요약 완료\n"
     ]
    },
    {
     "name": "stderr",
     "output_type": "stream",
     "text": [
      "요약 진행 중:  27%|██▋       | 639/2388 [26:36<1:12:42,  2.49s/it]"
     ]
    },
    {
     "name": "stdout",
     "output_type": "stream",
     "text": [
      "640/2388 행 요약 완료\n"
     ]
    },
    {
     "name": "stderr",
     "output_type": "stream",
     "text": [
      "요약 진행 중:  27%|██▋       | 640/2388 [26:39<1:18:09,  2.68s/it]"
     ]
    },
    {
     "name": "stdout",
     "output_type": "stream",
     "text": [
      "641/2388 행 요약 완료\n"
     ]
    },
    {
     "name": "stderr",
     "output_type": "stream",
     "text": [
      "요약 진행 중:  27%|██▋       | 641/2388 [26:41<1:09:50,  2.40s/it]"
     ]
    },
    {
     "name": "stdout",
     "output_type": "stream",
     "text": [
      "642/2388 행 요약 완료\n"
     ]
    },
    {
     "name": "stderr",
     "output_type": "stream",
     "text": [
      "요약 진행 중:  27%|██▋       | 642/2388 [26:42<1:02:57,  2.16s/it]"
     ]
    },
    {
     "name": "stdout",
     "output_type": "stream",
     "text": [
      "643/2388 행 요약 완료\n"
     ]
    },
    {
     "name": "stderr",
     "output_type": "stream",
     "text": [
      "요약 진행 중:  27%|██▋       | 643/2388 [26:45<1:03:27,  2.18s/it]"
     ]
    },
    {
     "name": "stdout",
     "output_type": "stream",
     "text": [
      "644/2388 행 요약 완료\n"
     ]
    },
    {
     "name": "stderr",
     "output_type": "stream",
     "text": [
      "요약 진행 중:  27%|██▋       | 644/2388 [26:46<56:05,  1.93s/it]  "
     ]
    },
    {
     "name": "stdout",
     "output_type": "stream",
     "text": [
      "645/2388 행 요약 완료\n"
     ]
    },
    {
     "name": "stderr",
     "output_type": "stream",
     "text": [
      "요약 진행 중:  27%|██▋       | 645/2388 [26:48<58:07,  2.00s/it]"
     ]
    },
    {
     "name": "stdout",
     "output_type": "stream",
     "text": [
      "646/2388 행 요약 완료\n"
     ]
    },
    {
     "name": "stderr",
     "output_type": "stream",
     "text": [
      "요약 진행 중:  27%|██▋       | 646/2388 [26:50<1:00:24,  2.08s/it]"
     ]
    },
    {
     "name": "stdout",
     "output_type": "stream",
     "text": [
      "647/2388 행 요약 완료\n"
     ]
    },
    {
     "name": "stderr",
     "output_type": "stream",
     "text": [
      "요약 진행 중:  27%|██▋       | 647/2388 [26:53<1:04:32,  2.22s/it]"
     ]
    },
    {
     "name": "stdout",
     "output_type": "stream",
     "text": [
      "648/2388 행 요약 완료\n"
     ]
    },
    {
     "name": "stderr",
     "output_type": "stream",
     "text": [
      "요약 진행 중:  27%|██▋       | 648/2388 [26:55<59:57,  2.07s/it]  "
     ]
    },
    {
     "name": "stdout",
     "output_type": "stream",
     "text": [
      "649/2388 행 요약 완료\n"
     ]
    },
    {
     "name": "stderr",
     "output_type": "stream",
     "text": [
      "요약 진행 중:  27%|██▋       | 649/2388 [26:59<1:17:07,  2.66s/it]"
     ]
    },
    {
     "name": "stdout",
     "output_type": "stream",
     "text": [
      "650/2388 행 요약 완료\n"
     ]
    },
    {
     "name": "stderr",
     "output_type": "stream",
     "text": [
      "요약 진행 중:  27%|██▋       | 650/2388 [27:00<1:05:47,  2.27s/it]"
     ]
    },
    {
     "name": "stdout",
     "output_type": "stream",
     "text": [
      "651/2388 행 요약 완료\n"
     ]
    },
    {
     "name": "stderr",
     "output_type": "stream",
     "text": [
      "요약 진행 중:  27%|██▋       | 651/2388 [27:01<57:27,  1.98s/it]  "
     ]
    },
    {
     "name": "stdout",
     "output_type": "stream",
     "text": [
      "652/2388 행 요약 완료\n"
     ]
    },
    {
     "name": "stderr",
     "output_type": "stream",
     "text": [
      "요약 진행 중:  27%|██▋       | 652/2388 [27:03<55:46,  1.93s/it]"
     ]
    },
    {
     "name": "stdout",
     "output_type": "stream",
     "text": [
      "653/2388 행 요약 완료\n"
     ]
    },
    {
     "name": "stderr",
     "output_type": "stream",
     "text": [
      "요약 진행 중:  27%|██▋       | 653/2388 [27:05<54:08,  1.87s/it]"
     ]
    },
    {
     "name": "stdout",
     "output_type": "stream",
     "text": [
      "654/2388 행 요약 완료\n"
     ]
    },
    {
     "name": "stderr",
     "output_type": "stream",
     "text": [
      "요약 진행 중:  27%|██▋       | 654/2388 [27:06<47:17,  1.64s/it]"
     ]
    },
    {
     "name": "stdout",
     "output_type": "stream",
     "text": [
      "655/2388 행 요약 완료\n"
     ]
    },
    {
     "name": "stderr",
     "output_type": "stream",
     "text": [
      "요약 진행 중:  27%|██▋       | 655/2388 [27:07<45:27,  1.57s/it]"
     ]
    },
    {
     "name": "stdout",
     "output_type": "stream",
     "text": [
      "656/2388 행 요약 완료\n"
     ]
    },
    {
     "name": "stderr",
     "output_type": "stream",
     "text": [
      "요약 진행 중:  27%|██▋       | 656/2388 [27:09<48:48,  1.69s/it]"
     ]
    },
    {
     "name": "stdout",
     "output_type": "stream",
     "text": [
      "657/2388 행 요약 완료\n"
     ]
    },
    {
     "name": "stderr",
     "output_type": "stream",
     "text": [
      "요약 진행 중:  28%|██▊       | 657/2388 [27:12<59:57,  2.08s/it]"
     ]
    },
    {
     "name": "stdout",
     "output_type": "stream",
     "text": [
      "658/2388 행 요약 완료\n"
     ]
    },
    {
     "name": "stderr",
     "output_type": "stream",
     "text": [
      "요약 진행 중:  28%|██▊       | 658/2388 [27:14<55:32,  1.93s/it]"
     ]
    },
    {
     "name": "stdout",
     "output_type": "stream",
     "text": [
      "659/2388 행 요약 완료\n"
     ]
    },
    {
     "name": "stderr",
     "output_type": "stream",
     "text": [
      "요약 진행 중:  28%|██▊       | 659/2388 [27:16<57:11,  1.98s/it]"
     ]
    },
    {
     "name": "stdout",
     "output_type": "stream",
     "text": [
      "660/2388 행 요약 완료\n"
     ]
    },
    {
     "name": "stderr",
     "output_type": "stream",
     "text": [
      "요약 진행 중:  28%|██▊       | 660/2388 [27:18<57:11,  1.99s/it]"
     ]
    },
    {
     "name": "stdout",
     "output_type": "stream",
     "text": [
      "661/2388 행 요약 완료\n"
     ]
    },
    {
     "name": "stderr",
     "output_type": "stream",
     "text": [
      "요약 진행 중:  28%|██▊       | 661/2388 [27:20<56:41,  1.97s/it]"
     ]
    },
    {
     "name": "stdout",
     "output_type": "stream",
     "text": [
      "662/2388 행 요약 완료\n"
     ]
    },
    {
     "name": "stderr",
     "output_type": "stream",
     "text": [
      "요약 진행 중:  28%|██▊       | 662/2388 [27:22<58:37,  2.04s/it]"
     ]
    },
    {
     "name": "stdout",
     "output_type": "stream",
     "text": [
      "663/2388 행 요약 완료\n"
     ]
    },
    {
     "name": "stderr",
     "output_type": "stream",
     "text": [
      "요약 진행 중:  28%|██▊       | 663/2388 [27:24<59:18,  2.06s/it]"
     ]
    },
    {
     "name": "stdout",
     "output_type": "stream",
     "text": [
      "664/2388 행 요약 완료\n"
     ]
    },
    {
     "name": "stderr",
     "output_type": "stream",
     "text": [
      "요약 진행 중:  28%|██▊       | 664/2388 [27:27<1:03:54,  2.22s/it]"
     ]
    },
    {
     "name": "stdout",
     "output_type": "stream",
     "text": [
      "665/2388 행 요약 완료\n"
     ]
    },
    {
     "name": "stderr",
     "output_type": "stream",
     "text": [
      "요약 진행 중:  28%|██▊       | 665/2388 [27:29<59:36,  2.08s/it]  "
     ]
    },
    {
     "name": "stdout",
     "output_type": "stream",
     "text": [
      "666/2388 행 요약 완료\n"
     ]
    },
    {
     "name": "stderr",
     "output_type": "stream",
     "text": [
      "요약 진행 중:  28%|██▊       | 666/2388 [27:30<53:44,  1.87s/it]"
     ]
    },
    {
     "name": "stdout",
     "output_type": "stream",
     "text": [
      "667/2388 행 요약 완료\n"
     ]
    },
    {
     "name": "stderr",
     "output_type": "stream",
     "text": [
      "요약 진행 중:  28%|██▊       | 667/2388 [27:32<53:08,  1.85s/it]"
     ]
    },
    {
     "name": "stdout",
     "output_type": "stream",
     "text": [
      "668/2388 행 요약 완료\n"
     ]
    },
    {
     "name": "stderr",
     "output_type": "stream",
     "text": [
      "요약 진행 중:  28%|██▊       | 668/2388 [27:36<1:09:42,  2.43s/it]"
     ]
    },
    {
     "name": "stdout",
     "output_type": "stream",
     "text": [
      "669/2388 행 요약 완료\n"
     ]
    },
    {
     "name": "stderr",
     "output_type": "stream",
     "text": [
      "요약 진행 중:  28%|██▊       | 669/2388 [27:38<1:09:32,  2.43s/it]"
     ]
    },
    {
     "name": "stdout",
     "output_type": "stream",
     "text": [
      "670/2388 행 요약 완료\n"
     ]
    },
    {
     "name": "stderr",
     "output_type": "stream",
     "text": [
      "요약 진행 중:  28%|██▊       | 670/2388 [27:40<1:08:40,  2.40s/it]"
     ]
    },
    {
     "name": "stdout",
     "output_type": "stream",
     "text": [
      "671/2388 행 요약 완료\n"
     ]
    },
    {
     "name": "stderr",
     "output_type": "stream",
     "text": [
      "요약 진행 중:  28%|██▊       | 671/2388 [27:42<1:01:41,  2.16s/it]"
     ]
    },
    {
     "name": "stdout",
     "output_type": "stream",
     "text": [
      "672/2388 행 요약 완료\n"
     ]
    },
    {
     "name": "stderr",
     "output_type": "stream",
     "text": [
      "요약 진행 중:  28%|██▊       | 672/2388 [27:44<57:36,  2.01s/it]  "
     ]
    },
    {
     "name": "stdout",
     "output_type": "stream",
     "text": [
      "673/2388 행 요약 완료\n"
     ]
    },
    {
     "name": "stderr",
     "output_type": "stream",
     "text": [
      "요약 진행 중:  28%|██▊       | 673/2388 [27:46<58:06,  2.03s/it]"
     ]
    },
    {
     "name": "stdout",
     "output_type": "stream",
     "text": [
      "674/2388 행 요약 완료\n"
     ]
    },
    {
     "name": "stderr",
     "output_type": "stream",
     "text": [
      "요약 진행 중:  28%|██▊       | 674/2388 [27:48<56:23,  1.97s/it]"
     ]
    },
    {
     "name": "stdout",
     "output_type": "stream",
     "text": [
      "675/2388 행 요약 완료\n"
     ]
    },
    {
     "name": "stderr",
     "output_type": "stream",
     "text": [
      "요약 진행 중:  28%|██▊       | 675/2388 [27:53<1:22:30,  2.89s/it]"
     ]
    },
    {
     "name": "stdout",
     "output_type": "stream",
     "text": [
      "676/2388 행 요약 완료\n"
     ]
    },
    {
     "name": "stderr",
     "output_type": "stream",
     "text": [
      "요약 진행 중:  28%|██▊       | 676/2388 [27:57<1:34:44,  3.32s/it]"
     ]
    },
    {
     "name": "stdout",
     "output_type": "stream",
     "text": [
      "677/2388 행 요약 완료\n"
     ]
    },
    {
     "name": "stderr",
     "output_type": "stream",
     "text": [
      "요약 진행 중:  28%|██▊       | 677/2388 [28:00<1:35:03,  3.33s/it]"
     ]
    },
    {
     "name": "stdout",
     "output_type": "stream",
     "text": [
      "678/2388 행 요약 완료\n"
     ]
    },
    {
     "name": "stderr",
     "output_type": "stream",
     "text": [
      "요약 진행 중:  28%|██▊       | 678/2388 [28:04<1:33:30,  3.28s/it]"
     ]
    },
    {
     "name": "stdout",
     "output_type": "stream",
     "text": [
      "679/2388 행 요약 완료\n"
     ]
    },
    {
     "name": "stderr",
     "output_type": "stream",
     "text": [
      "요약 진행 중:  28%|██▊       | 679/2388 [28:05<1:21:59,  2.88s/it]"
     ]
    },
    {
     "name": "stdout",
     "output_type": "stream",
     "text": [
      "680/2388 행 요약 완료\n"
     ]
    },
    {
     "name": "stderr",
     "output_type": "stream",
     "text": [
      "요약 진행 중:  28%|██▊       | 680/2388 [28:07<1:10:42,  2.48s/it]"
     ]
    },
    {
     "name": "stdout",
     "output_type": "stream",
     "text": [
      "681/2388 행 요약 완료\n"
     ]
    },
    {
     "name": "stderr",
     "output_type": "stream",
     "text": [
      "요약 진행 중:  29%|██▊       | 681/2388 [28:10<1:13:19,  2.58s/it]"
     ]
    },
    {
     "name": "stdout",
     "output_type": "stream",
     "text": [
      "682/2388 행 요약 완료\n"
     ]
    },
    {
     "name": "stderr",
     "output_type": "stream",
     "text": [
      "요약 진행 중:  29%|██▊       | 682/2388 [28:12<1:10:15,  2.47s/it]"
     ]
    },
    {
     "name": "stdout",
     "output_type": "stream",
     "text": [
      "683/2388 행 요약 완료\n"
     ]
    },
    {
     "name": "stderr",
     "output_type": "stream",
     "text": [
      "요약 진행 중:  29%|██▊       | 683/2388 [28:13<1:00:03,  2.11s/it]"
     ]
    },
    {
     "name": "stdout",
     "output_type": "stream",
     "text": [
      "684/2388 행 요약 완료\n"
     ]
    },
    {
     "name": "stderr",
     "output_type": "stream",
     "text": [
      "요약 진행 중:  29%|██▊       | 684/2388 [28:16<1:06:04,  2.33s/it]"
     ]
    },
    {
     "name": "stdout",
     "output_type": "stream",
     "text": [
      "685/2388 행 요약 완료\n"
     ]
    },
    {
     "name": "stderr",
     "output_type": "stream",
     "text": [
      "요약 진행 중:  29%|██▊       | 685/2388 [28:19<1:10:01,  2.47s/it]"
     ]
    },
    {
     "name": "stdout",
     "output_type": "stream",
     "text": [
      "686/2388 행 요약 완료\n"
     ]
    },
    {
     "name": "stderr",
     "output_type": "stream",
     "text": [
      "요약 진행 중:  29%|██▊       | 686/2388 [28:20<1:00:53,  2.15s/it]"
     ]
    },
    {
     "name": "stdout",
     "output_type": "stream",
     "text": [
      "687/2388 행 요약 완료\n"
     ]
    },
    {
     "name": "stderr",
     "output_type": "stream",
     "text": [
      "요약 진행 중:  29%|██▉       | 687/2388 [28:25<1:18:36,  2.77s/it]"
     ]
    },
    {
     "name": "stdout",
     "output_type": "stream",
     "text": [
      "688/2388 행 요약 완료\n"
     ]
    },
    {
     "name": "stderr",
     "output_type": "stream",
     "text": [
      "요약 진행 중:  29%|██▉       | 688/2388 [28:28<1:22:34,  2.91s/it]"
     ]
    },
    {
     "name": "stdout",
     "output_type": "stream",
     "text": [
      "689/2388 행 요약 완료\n"
     ]
    },
    {
     "name": "stderr",
     "output_type": "stream",
     "text": [
      "요약 진행 중:  29%|██▉       | 689/2388 [28:31<1:28:44,  3.13s/it]"
     ]
    },
    {
     "name": "stdout",
     "output_type": "stream",
     "text": [
      "690/2388 행 요약 완료\n"
     ]
    },
    {
     "name": "stderr",
     "output_type": "stream",
     "text": [
      "요약 진행 중:  29%|██▉       | 690/2388 [28:35<1:28:14,  3.12s/it]"
     ]
    },
    {
     "name": "stdout",
     "output_type": "stream",
     "text": [
      "691/2388 행 요약 완료\n"
     ]
    },
    {
     "name": "stderr",
     "output_type": "stream",
     "text": [
      "요약 진행 중:  29%|██▉       | 691/2388 [28:38<1:29:25,  3.16s/it]"
     ]
    },
    {
     "name": "stdout",
     "output_type": "stream",
     "text": [
      "692/2388 행 요약 완료\n"
     ]
    },
    {
     "name": "stderr",
     "output_type": "stream",
     "text": [
      "요약 진행 중:  29%|██▉       | 692/2388 [28:41<1:30:12,  3.19s/it]"
     ]
    },
    {
     "name": "stdout",
     "output_type": "stream",
     "text": [
      "693/2388 행 요약 완료\n"
     ]
    },
    {
     "name": "stderr",
     "output_type": "stream",
     "text": [
      "요약 진행 중:  29%|██▉       | 693/2388 [28:45<1:32:45,  3.28s/it]"
     ]
    },
    {
     "name": "stdout",
     "output_type": "stream",
     "text": [
      "694/2388 행 요약 완료\n"
     ]
    },
    {
     "name": "stderr",
     "output_type": "stream",
     "text": [
      "요약 진행 중:  29%|██▉       | 694/2388 [28:47<1:29:24,  3.17s/it]"
     ]
    },
    {
     "name": "stdout",
     "output_type": "stream",
     "text": [
      "695/2388 행 요약 완료\n"
     ]
    },
    {
     "name": "stderr",
     "output_type": "stream",
     "text": [
      "요약 진행 중:  29%|██▉       | 695/2388 [28:51<1:32:39,  3.28s/it]"
     ]
    },
    {
     "name": "stdout",
     "output_type": "stream",
     "text": [
      "696/2388 행 요약 완료\n"
     ]
    },
    {
     "name": "stderr",
     "output_type": "stream",
     "text": [
      "요약 진행 중:  29%|██▉       | 696/2388 [28:55<1:35:33,  3.39s/it]"
     ]
    },
    {
     "name": "stdout",
     "output_type": "stream",
     "text": [
      "697/2388 행 요약 완료\n"
     ]
    },
    {
     "name": "stderr",
     "output_type": "stream",
     "text": [
      "요약 진행 중:  29%|██▉       | 697/2388 [28:56<1:21:41,  2.90s/it]"
     ]
    },
    {
     "name": "stdout",
     "output_type": "stream",
     "text": [
      "698/2388 행 요약 완료\n"
     ]
    },
    {
     "name": "stderr",
     "output_type": "stream",
     "text": [
      "요약 진행 중:  29%|██▉       | 698/2388 [28:59<1:16:16,  2.71s/it]"
     ]
    },
    {
     "name": "stdout",
     "output_type": "stream",
     "text": [
      "699/2388 행 요약 완료\n"
     ]
    },
    {
     "name": "stderr",
     "output_type": "stream",
     "text": [
      "요약 진행 중:  29%|██▉       | 699/2388 [29:01<1:15:33,  2.68s/it]"
     ]
    },
    {
     "name": "stdout",
     "output_type": "stream",
     "text": [
      "700/2388 행 요약 완료\n"
     ]
    },
    {
     "name": "stderr",
     "output_type": "stream",
     "text": [
      "요약 진행 중:  29%|██▉       | 700/2388 [29:05<1:21:41,  2.90s/it]"
     ]
    },
    {
     "name": "stdout",
     "output_type": "stream",
     "text": [
      "701/2388 행 요약 완료\n"
     ]
    },
    {
     "name": "stderr",
     "output_type": "stream",
     "text": [
      "요약 진행 중:  29%|██▉       | 701/2388 [29:08<1:25:41,  3.05s/it]"
     ]
    },
    {
     "name": "stdout",
     "output_type": "stream",
     "text": [
      "702/2388 행 요약 완료\n"
     ]
    },
    {
     "name": "stderr",
     "output_type": "stream",
     "text": [
      "요약 진행 중:  29%|██▉       | 702/2388 [29:09<1:10:59,  2.53s/it]"
     ]
    },
    {
     "name": "stdout",
     "output_type": "stream",
     "text": [
      "703/2388 행 요약 완료\n"
     ]
    },
    {
     "name": "stderr",
     "output_type": "stream",
     "text": [
      "요약 진행 중:  29%|██▉       | 703/2388 [29:11<1:06:08,  2.36s/it]"
     ]
    },
    {
     "name": "stdout",
     "output_type": "stream",
     "text": [
      "704/2388 행 요약 완료\n"
     ]
    },
    {
     "name": "stderr",
     "output_type": "stream",
     "text": [
      "요약 진행 중:  29%|██▉       | 704/2388 [29:15<1:15:59,  2.71s/it]"
     ]
    },
    {
     "name": "stdout",
     "output_type": "stream",
     "text": [
      "705/2388 행 요약 완료\n"
     ]
    },
    {
     "name": "stderr",
     "output_type": "stream",
     "text": [
      "요약 진행 중:  30%|██▉       | 705/2388 [29:17<1:14:34,  2.66s/it]"
     ]
    },
    {
     "name": "stdout",
     "output_type": "stream",
     "text": [
      "706/2388 행 요약 완료\n"
     ]
    },
    {
     "name": "stderr",
     "output_type": "stream",
     "text": [
      "요약 진행 중:  30%|██▉       | 706/2388 [29:21<1:26:02,  3.07s/it]"
     ]
    },
    {
     "name": "stdout",
     "output_type": "stream",
     "text": [
      "707/2388 행 요약 완료\n"
     ]
    },
    {
     "name": "stderr",
     "output_type": "stream",
     "text": [
      "요약 진행 중:  30%|██▉       | 707/2388 [29:23<1:11:33,  2.55s/it]"
     ]
    },
    {
     "name": "stdout",
     "output_type": "stream",
     "text": [
      "708/2388 행 요약 완료\n"
     ]
    },
    {
     "name": "stderr",
     "output_type": "stream",
     "text": [
      "요약 진행 중:  30%|██▉       | 708/2388 [29:25<1:12:07,  2.58s/it]"
     ]
    },
    {
     "name": "stdout",
     "output_type": "stream",
     "text": [
      "709/2388 행 요약 완료\n"
     ]
    },
    {
     "name": "stderr",
     "output_type": "stream",
     "text": [
      "요약 진행 중:  30%|██▉       | 709/2388 [29:27<1:02:39,  2.24s/it]"
     ]
    },
    {
     "name": "stdout",
     "output_type": "stream",
     "text": [
      "710/2388 행 요약 완료\n"
     ]
    },
    {
     "name": "stderr",
     "output_type": "stream",
     "text": [
      "요약 진행 중:  30%|██▉       | 710/2388 [29:29<58:40,  2.10s/it]  "
     ]
    },
    {
     "name": "stdout",
     "output_type": "stream",
     "text": [
      "711/2388 행 요약 완료\n"
     ]
    },
    {
     "name": "stderr",
     "output_type": "stream",
     "text": [
      "요약 진행 중:  30%|██▉       | 711/2388 [29:31<1:04:18,  2.30s/it]"
     ]
    },
    {
     "name": "stdout",
     "output_type": "stream",
     "text": [
      "712/2388 행 요약 완료\n"
     ]
    },
    {
     "name": "stderr",
     "output_type": "stream",
     "text": [
      "요약 진행 중:  30%|██▉       | 712/2388 [29:33<57:02,  2.04s/it]  "
     ]
    },
    {
     "name": "stdout",
     "output_type": "stream",
     "text": [
      "713/2388 행 요약 완료\n"
     ]
    },
    {
     "name": "stderr",
     "output_type": "stream",
     "text": [
      "요약 진행 중:  30%|██▉       | 713/2388 [29:37<1:14:54,  2.68s/it]"
     ]
    },
    {
     "name": "stdout",
     "output_type": "stream",
     "text": [
      "714/2388 행 요약 완료\n"
     ]
    },
    {
     "name": "stderr",
     "output_type": "stream",
     "text": [
      "요약 진행 중:  30%|██▉       | 714/2388 [29:38<1:02:38,  2.25s/it]"
     ]
    },
    {
     "name": "stdout",
     "output_type": "stream",
     "text": [
      "715/2388 행 요약 완료\n"
     ]
    },
    {
     "name": "stderr",
     "output_type": "stream",
     "text": [
      "요약 진행 중:  30%|██▉       | 715/2388 [29:43<1:22:05,  2.94s/it]"
     ]
    },
    {
     "name": "stdout",
     "output_type": "stream",
     "text": [
      "716/2388 행 요약 완료\n"
     ]
    },
    {
     "name": "stderr",
     "output_type": "stream",
     "text": [
      "요약 진행 중:  30%|██▉       | 716/2388 [29:46<1:24:17,  3.02s/it]"
     ]
    },
    {
     "name": "stdout",
     "output_type": "stream",
     "text": [
      "717/2388 행 요약 완료\n"
     ]
    },
    {
     "name": "stderr",
     "output_type": "stream",
     "text": [
      "요약 진행 중:  30%|███       | 717/2388 [29:50<1:30:26,  3.25s/it]"
     ]
    },
    {
     "name": "stdout",
     "output_type": "stream",
     "text": [
      "718/2388 행 요약 완료\n"
     ]
    },
    {
     "name": "stderr",
     "output_type": "stream",
     "text": [
      "요약 진행 중:  30%|███       | 718/2388 [29:51<1:16:18,  2.74s/it]"
     ]
    },
    {
     "name": "stdout",
     "output_type": "stream",
     "text": [
      "719/2388 행 요약 완료\n"
     ]
    },
    {
     "name": "stderr",
     "output_type": "stream",
     "text": [
      "요약 진행 중:  30%|███       | 719/2388 [29:55<1:23:14,  2.99s/it]"
     ]
    },
    {
     "name": "stdout",
     "output_type": "stream",
     "text": [
      "720/2388 행 요약 완료\n"
     ]
    },
    {
     "name": "stderr",
     "output_type": "stream",
     "text": [
      "요약 진행 중:  30%|███       | 720/2388 [29:58<1:25:40,  3.08s/it]"
     ]
    },
    {
     "name": "stdout",
     "output_type": "stream",
     "text": [
      "721/2388 행 요약 완료\n"
     ]
    },
    {
     "name": "stderr",
     "output_type": "stream",
     "text": [
      "요약 진행 중:  30%|███       | 721/2388 [30:00<1:12:49,  2.62s/it]"
     ]
    },
    {
     "name": "stdout",
     "output_type": "stream",
     "text": [
      "722/2388 행 요약 완료\n"
     ]
    },
    {
     "name": "stderr",
     "output_type": "stream",
     "text": [
      "요약 진행 중:  30%|███       | 722/2388 [30:01<1:00:25,  2.18s/it]"
     ]
    },
    {
     "name": "stdout",
     "output_type": "stream",
     "text": [
      "723/2388 행 요약 완료\n"
     ]
    },
    {
     "name": "stderr",
     "output_type": "stream",
     "text": [
      "요약 진행 중:  30%|███       | 723/2388 [30:03<57:24,  2.07s/it]  "
     ]
    },
    {
     "name": "stdout",
     "output_type": "stream",
     "text": [
      "724/2388 행 요약 완료\n"
     ]
    },
    {
     "name": "stderr",
     "output_type": "stream",
     "text": [
      "요약 진행 중:  30%|███       | 724/2388 [30:06<1:09:17,  2.50s/it]"
     ]
    },
    {
     "name": "stdout",
     "output_type": "stream",
     "text": [
      "725/2388 행 요약 완료\n"
     ]
    },
    {
     "name": "stderr",
     "output_type": "stream",
     "text": [
      "요약 진행 중:  30%|███       | 725/2388 [30:10<1:22:47,  2.99s/it]"
     ]
    },
    {
     "name": "stdout",
     "output_type": "stream",
     "text": [
      "726/2388 행 요약 완료\n"
     ]
    },
    {
     "name": "stderr",
     "output_type": "stream",
     "text": [
      "요약 진행 중:  30%|███       | 726/2388 [30:13<1:17:55,  2.81s/it]"
     ]
    },
    {
     "name": "stdout",
     "output_type": "stream",
     "text": [
      "727/2388 행 요약 완료\n"
     ]
    },
    {
     "name": "stderr",
     "output_type": "stream",
     "text": [
      "요약 진행 중:  30%|███       | 727/2388 [30:15<1:15:50,  2.74s/it]"
     ]
    },
    {
     "name": "stdout",
     "output_type": "stream",
     "text": [
      "728/2388 행 요약 완료\n"
     ]
    },
    {
     "name": "stderr",
     "output_type": "stream",
     "text": [
      "요약 진행 중:  30%|███       | 728/2388 [30:18<1:13:43,  2.66s/it]"
     ]
    },
    {
     "name": "stdout",
     "output_type": "stream",
     "text": [
      "729/2388 행 요약 완료\n"
     ]
    },
    {
     "name": "stderr",
     "output_type": "stream",
     "text": [
      "요약 진행 중:  31%|███       | 729/2388 [30:21<1:17:05,  2.79s/it]"
     ]
    },
    {
     "name": "stdout",
     "output_type": "stream",
     "text": [
      "730/2388 행 요약 완료\n"
     ]
    },
    {
     "name": "stderr",
     "output_type": "stream",
     "text": [
      "요약 진행 중:  31%|███       | 730/2388 [30:22<1:06:02,  2.39s/it]"
     ]
    },
    {
     "name": "stdout",
     "output_type": "stream",
     "text": [
      "731/2388 행 요약 완료\n"
     ]
    },
    {
     "name": "stderr",
     "output_type": "stream",
     "text": [
      "요약 진행 중:  31%|███       | 731/2388 [30:24<58:01,  2.10s/it]  "
     ]
    },
    {
     "name": "stdout",
     "output_type": "stream",
     "text": [
      "732/2388 행 요약 완료\n"
     ]
    },
    {
     "name": "stderr",
     "output_type": "stream",
     "text": [
      "요약 진행 중:  31%|███       | 732/2388 [30:26<54:57,  1.99s/it]"
     ]
    },
    {
     "name": "stdout",
     "output_type": "stream",
     "text": [
      "733/2388 행 요약 완료\n"
     ]
    },
    {
     "name": "stderr",
     "output_type": "stream",
     "text": [
      "요약 진행 중:  31%|███       | 733/2388 [30:30<1:13:52,  2.68s/it]"
     ]
    },
    {
     "name": "stdout",
     "output_type": "stream",
     "text": [
      "734/2388 행 요약 완료\n"
     ]
    },
    {
     "name": "stderr",
     "output_type": "stream",
     "text": [
      "요약 진행 중:  31%|███       | 734/2388 [30:32<1:06:41,  2.42s/it]"
     ]
    },
    {
     "name": "stdout",
     "output_type": "stream",
     "text": [
      "735/2388 행 요약 완료\n"
     ]
    },
    {
     "name": "stderr",
     "output_type": "stream",
     "text": [
      "요약 진행 중:  31%|███       | 735/2388 [30:33<57:00,  2.07s/it]  "
     ]
    },
    {
     "name": "stdout",
     "output_type": "stream",
     "text": [
      "736/2388 행 요약 완료\n"
     ]
    },
    {
     "name": "stderr",
     "output_type": "stream",
     "text": [
      "요약 진행 중:  31%|███       | 736/2388 [30:34<52:26,  1.90s/it]"
     ]
    },
    {
     "name": "stdout",
     "output_type": "stream",
     "text": [
      "737/2388 행 요약 완료\n"
     ]
    },
    {
     "name": "stderr",
     "output_type": "stream",
     "text": [
      "요약 진행 중:  31%|███       | 737/2388 [30:37<1:00:32,  2.20s/it]"
     ]
    },
    {
     "name": "stdout",
     "output_type": "stream",
     "text": [
      "738/2388 행 요약 완료\n"
     ]
    },
    {
     "name": "stderr",
     "output_type": "stream",
     "text": [
      "요약 진행 중:  31%|███       | 738/2388 [30:41<1:16:01,  2.76s/it]"
     ]
    },
    {
     "name": "stdout",
     "output_type": "stream",
     "text": [
      "739/2388 행 요약 완료\n"
     ]
    },
    {
     "name": "stderr",
     "output_type": "stream",
     "text": [
      "요약 진행 중:  31%|███       | 739/2388 [30:43<1:04:23,  2.34s/it]"
     ]
    },
    {
     "name": "stdout",
     "output_type": "stream",
     "text": [
      "740/2388 행 요약 완료\n"
     ]
    },
    {
     "name": "stderr",
     "output_type": "stream",
     "text": [
      "요약 진행 중:  31%|███       | 740/2388 [30:44<54:46,  1.99s/it]  "
     ]
    },
    {
     "name": "stdout",
     "output_type": "stream",
     "text": [
      "741/2388 행 요약 완료\n"
     ]
    },
    {
     "name": "stderr",
     "output_type": "stream",
     "text": [
      "요약 진행 중:  31%|███       | 741/2388 [30:45<48:10,  1.75s/it]"
     ]
    },
    {
     "name": "stdout",
     "output_type": "stream",
     "text": [
      "742/2388 행 요약 완료\n"
     ]
    },
    {
     "name": "stderr",
     "output_type": "stream",
     "text": [
      "요약 진행 중:  31%|███       | 742/2388 [30:48<1:00:12,  2.19s/it]"
     ]
    },
    {
     "name": "stdout",
     "output_type": "stream",
     "text": [
      "743/2388 행 요약 완료\n"
     ]
    },
    {
     "name": "stderr",
     "output_type": "stream",
     "text": [
      "요약 진행 중:  31%|███       | 743/2388 [30:50<58:34,  2.14s/it]  "
     ]
    },
    {
     "name": "stdout",
     "output_type": "stream",
     "text": [
      "744/2388 행 요약 완료\n"
     ]
    },
    {
     "name": "stderr",
     "output_type": "stream",
     "text": [
      "요약 진행 중:  31%|███       | 744/2388 [30:52<56:11,  2.05s/it]"
     ]
    },
    {
     "name": "stdout",
     "output_type": "stream",
     "text": [
      "745/2388 행 요약 완료\n"
     ]
    },
    {
     "name": "stderr",
     "output_type": "stream",
     "text": [
      "요약 진행 중:  31%|███       | 745/2388 [30:54<54:38,  2.00s/it]"
     ]
    },
    {
     "name": "stdout",
     "output_type": "stream",
     "text": [
      "746/2388 행 요약 완료\n"
     ]
    },
    {
     "name": "stderr",
     "output_type": "stream",
     "text": [
      "요약 진행 중:  31%|███       | 746/2388 [30:56<55:12,  2.02s/it]"
     ]
    },
    {
     "name": "stdout",
     "output_type": "stream",
     "text": [
      "747/2388 행 요약 완료\n"
     ]
    },
    {
     "name": "stderr",
     "output_type": "stream",
     "text": [
      "요약 진행 중:  31%|███▏      | 747/2388 [30:58<57:00,  2.08s/it]"
     ]
    },
    {
     "name": "stdout",
     "output_type": "stream",
     "text": [
      "748/2388 행 요약 완료\n"
     ]
    },
    {
     "name": "stderr",
     "output_type": "stream",
     "text": [
      "요약 진행 중:  31%|███▏      | 748/2388 [30:59<46:36,  1.71s/it]"
     ]
    },
    {
     "name": "stdout",
     "output_type": "stream",
     "text": [
      "749/2388 행 요약 완료\n"
     ]
    },
    {
     "name": "stderr",
     "output_type": "stream",
     "text": [
      "요약 진행 중:  31%|███▏      | 749/2388 [31:00<42:48,  1.57s/it]"
     ]
    },
    {
     "name": "stdout",
     "output_type": "stream",
     "text": [
      "750/2388 행 요약 완료\n"
     ]
    },
    {
     "name": "stderr",
     "output_type": "stream",
     "text": [
      "요약 진행 중:  31%|███▏      | 750/2388 [31:03<53:21,  1.95s/it]"
     ]
    },
    {
     "name": "stdout",
     "output_type": "stream",
     "text": [
      "751/2388 행 요약 완료\n"
     ]
    },
    {
     "name": "stderr",
     "output_type": "stream",
     "text": [
      "요약 진행 중:  31%|███▏      | 751/2388 [31:07<1:07:07,  2.46s/it]"
     ]
    },
    {
     "name": "stdout",
     "output_type": "stream",
     "text": [
      "752/2388 행 요약 완료\n"
     ]
    },
    {
     "name": "stderr",
     "output_type": "stream",
     "text": [
      "요약 진행 중:  31%|███▏      | 752/2388 [31:08<59:02,  2.17s/it]  "
     ]
    },
    {
     "name": "stdout",
     "output_type": "stream",
     "text": [
      "753/2388 행 요약 완료\n"
     ]
    },
    {
     "name": "stderr",
     "output_type": "stream",
     "text": [
      "요약 진행 중:  32%|███▏      | 753/2388 [31:11<1:02:30,  2.29s/it]"
     ]
    },
    {
     "name": "stdout",
     "output_type": "stream",
     "text": [
      "754/2388 행 요약 완료\n"
     ]
    },
    {
     "name": "stderr",
     "output_type": "stream",
     "text": [
      "요약 진행 중:  32%|███▏      | 754/2388 [31:15<1:13:33,  2.70s/it]"
     ]
    },
    {
     "name": "stdout",
     "output_type": "stream",
     "text": [
      "755/2388 행 요약 완료\n"
     ]
    },
    {
     "name": "stderr",
     "output_type": "stream",
     "text": [
      "요약 진행 중:  32%|███▏      | 755/2388 [31:18<1:15:34,  2.78s/it]"
     ]
    },
    {
     "name": "stdout",
     "output_type": "stream",
     "text": [
      "756/2388 행 요약 완료\n"
     ]
    },
    {
     "name": "stderr",
     "output_type": "stream",
     "text": [
      "요약 진행 중:  32%|███▏      | 756/2388 [31:20<1:08:43,  2.53s/it]"
     ]
    },
    {
     "name": "stdout",
     "output_type": "stream",
     "text": [
      "757/2388 행 요약 완료\n"
     ]
    },
    {
     "name": "stderr",
     "output_type": "stream",
     "text": [
      "요약 진행 중:  32%|███▏      | 757/2388 [31:21<1:00:07,  2.21s/it]"
     ]
    },
    {
     "name": "stdout",
     "output_type": "stream",
     "text": [
      "758/2388 행 요약 완료\n"
     ]
    },
    {
     "name": "stderr",
     "output_type": "stream",
     "text": [
      "요약 진행 중:  32%|███▏      | 758/2388 [31:26<1:23:06,  3.06s/it]"
     ]
    },
    {
     "name": "stdout",
     "output_type": "stream",
     "text": [
      "759/2388 행 요약 완료\n"
     ]
    },
    {
     "name": "stderr",
     "output_type": "stream",
     "text": [
      "요약 진행 중:  32%|███▏      | 759/2388 [31:28<1:11:42,  2.64s/it]"
     ]
    },
    {
     "name": "stdout",
     "output_type": "stream",
     "text": [
      "760/2388 행 요약 완료\n"
     ]
    },
    {
     "name": "stderr",
     "output_type": "stream",
     "text": [
      "요약 진행 중:  32%|███▏      | 760/2388 [31:29<1:02:44,  2.31s/it]"
     ]
    },
    {
     "name": "stdout",
     "output_type": "stream",
     "text": [
      "761/2388 행 요약 완료\n"
     ]
    },
    {
     "name": "stderr",
     "output_type": "stream",
     "text": [
      "요약 진행 중:  32%|███▏      | 761/2388 [31:32<1:06:04,  2.44s/it]"
     ]
    },
    {
     "name": "stdout",
     "output_type": "stream",
     "text": [
      "762/2388 행 요약 완료\n"
     ]
    },
    {
     "name": "stderr",
     "output_type": "stream",
     "text": [
      "요약 진행 중:  32%|███▏      | 762/2388 [31:35<1:07:04,  2.48s/it]"
     ]
    },
    {
     "name": "stdout",
     "output_type": "stream",
     "text": [
      "763/2388 행 요약 완료\n"
     ]
    },
    {
     "name": "stderr",
     "output_type": "stream",
     "text": [
      "요약 진행 중:  32%|███▏      | 763/2388 [31:36<59:16,  2.19s/it]  "
     ]
    },
    {
     "name": "stdout",
     "output_type": "stream",
     "text": [
      "764/2388 행 요약 완료\n"
     ]
    },
    {
     "name": "stderr",
     "output_type": "stream",
     "text": [
      "요약 진행 중:  32%|███▏      | 764/2388 [31:38<53:36,  1.98s/it]"
     ]
    },
    {
     "name": "stdout",
     "output_type": "stream",
     "text": [
      "765/2388 행 요약 완료\n"
     ]
    },
    {
     "name": "stderr",
     "output_type": "stream",
     "text": [
      "요약 진행 중:  32%|███▏      | 765/2388 [31:39<52:13,  1.93s/it]"
     ]
    },
    {
     "name": "stdout",
     "output_type": "stream",
     "text": [
      "766/2388 행 요약 완료\n"
     ]
    },
    {
     "name": "stderr",
     "output_type": "stream",
     "text": [
      "요약 진행 중:  32%|███▏      | 766/2388 [31:44<1:16:47,  2.84s/it]"
     ]
    },
    {
     "name": "stdout",
     "output_type": "stream",
     "text": [
      "767/2388 행 요약 완료\n"
     ]
    },
    {
     "name": "stderr",
     "output_type": "stream",
     "text": [
      "요약 진행 중:  32%|███▏      | 767/2388 [31:47<1:15:47,  2.81s/it]"
     ]
    },
    {
     "name": "stdout",
     "output_type": "stream",
     "text": [
      "768/2388 행 요약 완료\n"
     ]
    },
    {
     "name": "stderr",
     "output_type": "stream",
     "text": [
      "요약 진행 중:  32%|███▏      | 768/2388 [31:51<1:26:03,  3.19s/it]"
     ]
    },
    {
     "name": "stdout",
     "output_type": "stream",
     "text": [
      "769/2388 행 요약 완료\n"
     ]
    },
    {
     "name": "stderr",
     "output_type": "stream",
     "text": [
      "요약 진행 중:  32%|███▏      | 769/2388 [31:54<1:19:15,  2.94s/it]"
     ]
    },
    {
     "name": "stdout",
     "output_type": "stream",
     "text": [
      "770/2388 행 요약 완료\n"
     ]
    },
    {
     "name": "stderr",
     "output_type": "stream",
     "text": [
      "요약 진행 중:  32%|███▏      | 770/2388 [31:56<1:12:20,  2.68s/it]"
     ]
    },
    {
     "name": "stdout",
     "output_type": "stream",
     "text": [
      "771/2388 행 요약 완료\n"
     ]
    },
    {
     "name": "stderr",
     "output_type": "stream",
     "text": [
      "요약 진행 중:  32%|███▏      | 771/2388 [31:57<1:03:58,  2.37s/it]"
     ]
    },
    {
     "name": "stdout",
     "output_type": "stream",
     "text": [
      "772/2388 행 요약 완료\n"
     ]
    },
    {
     "name": "stderr",
     "output_type": "stream",
     "text": [
      "요약 진행 중:  32%|███▏      | 772/2388 [32:00<1:08:08,  2.53s/it]"
     ]
    },
    {
     "name": "stdout",
     "output_type": "stream",
     "text": [
      "773/2388 행 요약 완료\n"
     ]
    },
    {
     "name": "stderr",
     "output_type": "stream",
     "text": [
      "요약 진행 중:  32%|███▏      | 773/2388 [32:04<1:20:30,  2.99s/it]"
     ]
    },
    {
     "name": "stdout",
     "output_type": "stream",
     "text": [
      "774/2388 행 요약 완료\n"
     ]
    },
    {
     "name": "stderr",
     "output_type": "stream",
     "text": [
      "요약 진행 중:  32%|███▏      | 774/2388 [32:09<1:31:29,  3.40s/it]"
     ]
    },
    {
     "name": "stdout",
     "output_type": "stream",
     "text": [
      "775/2388 행 요약 완료\n"
     ]
    },
    {
     "name": "stderr",
     "output_type": "stream",
     "text": [
      "요약 진행 중:  32%|███▏      | 775/2388 [32:12<1:32:38,  3.45s/it]"
     ]
    },
    {
     "name": "stdout",
     "output_type": "stream",
     "text": [
      "776/2388 행 요약 완료\n"
     ]
    },
    {
     "name": "stderr",
     "output_type": "stream",
     "text": [
      "요약 진행 중:  32%|███▏      | 776/2388 [32:15<1:29:21,  3.33s/it]"
     ]
    },
    {
     "name": "stdout",
     "output_type": "stream",
     "text": [
      "777/2388 행 요약 완료\n"
     ]
    },
    {
     "name": "stderr",
     "output_type": "stream",
     "text": [
      "요약 진행 중:  33%|███▎      | 777/2388 [32:17<1:18:51,  2.94s/it]"
     ]
    },
    {
     "name": "stdout",
     "output_type": "stream",
     "text": [
      "778/2388 행 요약 완료\n"
     ]
    },
    {
     "name": "stderr",
     "output_type": "stream",
     "text": [
      "요약 진행 중:  33%|███▎      | 778/2388 [32:19<1:10:03,  2.61s/it]"
     ]
    },
    {
     "name": "stdout",
     "output_type": "stream",
     "text": [
      "779/2388 행 요약 완료\n"
     ]
    },
    {
     "name": "stderr",
     "output_type": "stream",
     "text": [
      "요약 진행 중:  33%|███▎      | 779/2388 [32:23<1:22:34,  3.08s/it]"
     ]
    },
    {
     "name": "stdout",
     "output_type": "stream",
     "text": [
      "780/2388 행 요약 완료\n"
     ]
    },
    {
     "name": "stderr",
     "output_type": "stream",
     "text": [
      "요약 진행 중:  33%|███▎      | 780/2388 [32:27<1:28:46,  3.31s/it]"
     ]
    },
    {
     "name": "stdout",
     "output_type": "stream",
     "text": [
      "781/2388 행 요약 완료\n"
     ]
    },
    {
     "name": "stderr",
     "output_type": "stream",
     "text": [
      "요약 진행 중:  33%|███▎      | 781/2388 [32:31<1:33:26,  3.49s/it]"
     ]
    },
    {
     "name": "stdout",
     "output_type": "stream",
     "text": [
      "782/2388 행 요약 완료\n"
     ]
    },
    {
     "name": "stderr",
     "output_type": "stream",
     "text": [
      "요약 진행 중:  33%|███▎      | 782/2388 [32:33<1:20:14,  3.00s/it]"
     ]
    },
    {
     "name": "stdout",
     "output_type": "stream",
     "text": [
      "783/2388 행 요약 완료\n"
     ]
    },
    {
     "name": "stderr",
     "output_type": "stream",
     "text": [
      "요약 진행 중:  33%|███▎      | 783/2388 [32:35<1:13:28,  2.75s/it]"
     ]
    },
    {
     "name": "stdout",
     "output_type": "stream",
     "text": [
      "784/2388 행 요약 완료\n"
     ]
    },
    {
     "name": "stderr",
     "output_type": "stream",
     "text": [
      "요약 진행 중:  33%|███▎      | 784/2388 [32:38<1:16:11,  2.85s/it]"
     ]
    },
    {
     "name": "stdout",
     "output_type": "stream",
     "text": [
      "785/2388 행 요약 완료\n"
     ]
    },
    {
     "name": "stderr",
     "output_type": "stream",
     "text": [
      "요약 진행 중:  33%|███▎      | 785/2388 [32:41<1:14:46,  2.80s/it]"
     ]
    },
    {
     "name": "stdout",
     "output_type": "stream",
     "text": [
      "786/2388 행 요약 완료\n"
     ]
    },
    {
     "name": "stderr",
     "output_type": "stream",
     "text": [
      "요약 진행 중:  33%|███▎      | 786/2388 [32:44<1:16:32,  2.87s/it]"
     ]
    },
    {
     "name": "stdout",
     "output_type": "stream",
     "text": [
      "787/2388 행 요약 완료\n"
     ]
    },
    {
     "name": "stderr",
     "output_type": "stream",
     "text": [
      "요약 진행 중:  33%|███▎      | 787/2388 [32:46<1:14:32,  2.79s/it]"
     ]
    },
    {
     "name": "stdout",
     "output_type": "stream",
     "text": [
      "788/2388 행 요약 완료\n"
     ]
    },
    {
     "name": "stderr",
     "output_type": "stream",
     "text": [
      "요약 진행 중:  33%|███▎      | 788/2388 [32:50<1:21:16,  3.05s/it]"
     ]
    },
    {
     "name": "stdout",
     "output_type": "stream",
     "text": [
      "789/2388 행 요약 완료\n"
     ]
    },
    {
     "name": "stderr",
     "output_type": "stream",
     "text": [
      "요약 진행 중:  33%|███▎      | 789/2388 [32:53<1:17:05,  2.89s/it]"
     ]
    },
    {
     "name": "stdout",
     "output_type": "stream",
     "text": [
      "790/2388 행 요약 완료\n"
     ]
    },
    {
     "name": "stderr",
     "output_type": "stream",
     "text": [
      "요약 진행 중:  33%|███▎      | 790/2388 [32:54<1:04:32,  2.42s/it]"
     ]
    },
    {
     "name": "stdout",
     "output_type": "stream",
     "text": [
      "791/2388 행 요약 완료\n"
     ]
    },
    {
     "name": "stderr",
     "output_type": "stream",
     "text": [
      "요약 진행 중:  33%|███▎      | 791/2388 [32:58<1:17:48,  2.92s/it]"
     ]
    },
    {
     "name": "stdout",
     "output_type": "stream",
     "text": [
      "792/2388 행 요약 완료\n"
     ]
    },
    {
     "name": "stderr",
     "output_type": "stream",
     "text": [
      "요약 진행 중:  33%|███▎      | 792/2388 [33:01<1:20:10,  3.01s/it]"
     ]
    },
    {
     "name": "stdout",
     "output_type": "stream",
     "text": [
      "793/2388 행 요약 완료\n"
     ]
    },
    {
     "name": "stderr",
     "output_type": "stream",
     "text": [
      "요약 진행 중:  33%|███▎      | 793/2388 [33:04<1:18:11,  2.94s/it]"
     ]
    },
    {
     "name": "stdout",
     "output_type": "stream",
     "text": [
      "794/2388 행 요약 완료\n"
     ]
    },
    {
     "name": "stderr",
     "output_type": "stream",
     "text": [
      "요약 진행 중:  33%|███▎      | 794/2388 [33:09<1:33:02,  3.50s/it]"
     ]
    },
    {
     "name": "stdout",
     "output_type": "stream",
     "text": [
      "795/2388 행 요약 완료\n"
     ]
    },
    {
     "name": "stderr",
     "output_type": "stream",
     "text": [
      "요약 진행 중:  33%|███▎      | 795/2388 [33:13<1:35:33,  3.60s/it]"
     ]
    },
    {
     "name": "stdout",
     "output_type": "stream",
     "text": [
      "796/2388 행 요약 완료\n"
     ]
    },
    {
     "name": "stderr",
     "output_type": "stream",
     "text": [
      "요약 진행 중:  33%|███▎      | 796/2388 [33:16<1:36:52,  3.65s/it]"
     ]
    },
    {
     "name": "stdout",
     "output_type": "stream",
     "text": [
      "797/2388 행 요약 완료\n"
     ]
    },
    {
     "name": "stderr",
     "output_type": "stream",
     "text": [
      "요약 진행 중:  33%|███▎      | 797/2388 [33:19<1:27:33,  3.30s/it]"
     ]
    },
    {
     "name": "stdout",
     "output_type": "stream",
     "text": [
      "798/2388 행 요약 완료\n"
     ]
    },
    {
     "name": "stderr",
     "output_type": "stream",
     "text": [
      "요약 진행 중:  33%|███▎      | 798/2388 [33:22<1:23:14,  3.14s/it]"
     ]
    },
    {
     "name": "stdout",
     "output_type": "stream",
     "text": [
      "799/2388 행 요약 완료\n"
     ]
    },
    {
     "name": "stderr",
     "output_type": "stream",
     "text": [
      "요약 진행 중:  33%|███▎      | 799/2388 [33:25<1:28:06,  3.33s/it]"
     ]
    },
    {
     "name": "stdout",
     "output_type": "stream",
     "text": [
      "800/2388 행 요약 완료\n"
     ]
    },
    {
     "name": "stderr",
     "output_type": "stream",
     "text": [
      "요약 진행 중:  34%|███▎      | 800/2388 [33:27<1:15:21,  2.85s/it]"
     ]
    },
    {
     "name": "stdout",
     "output_type": "stream",
     "text": [
      "801/2388 행 요약 완료\n"
     ]
    },
    {
     "name": "stderr",
     "output_type": "stream",
     "text": [
      "요약 진행 중:  34%|███▎      | 801/2388 [33:28<1:01:56,  2.34s/it]"
     ]
    },
    {
     "name": "stdout",
     "output_type": "stream",
     "text": [
      "802/2388 행 요약 완료\n"
     ]
    },
    {
     "name": "stderr",
     "output_type": "stream",
     "text": [
      "요약 진행 중:  34%|███▎      | 802/2388 [33:32<1:12:34,  2.75s/it]"
     ]
    },
    {
     "name": "stdout",
     "output_type": "stream",
     "text": [
      "803/2388 행 요약 완료\n"
     ]
    },
    {
     "name": "stderr",
     "output_type": "stream",
     "text": [
      "요약 진행 중:  34%|███▎      | 803/2388 [33:34<1:06:01,  2.50s/it]"
     ]
    },
    {
     "name": "stdout",
     "output_type": "stream",
     "text": [
      "804/2388 행 요약 완료\n"
     ]
    },
    {
     "name": "stderr",
     "output_type": "stream",
     "text": [
      "요약 진행 중:  34%|███▎      | 804/2388 [33:35<57:55,  2.19s/it]  "
     ]
    },
    {
     "name": "stdout",
     "output_type": "stream",
     "text": [
      "805/2388 행 요약 완료\n"
     ]
    },
    {
     "name": "stderr",
     "output_type": "stream",
     "text": [
      "요약 진행 중:  34%|███▎      | 805/2388 [33:38<1:01:43,  2.34s/it]"
     ]
    },
    {
     "name": "stdout",
     "output_type": "stream",
     "text": [
      "806/2388 행 요약 완료\n"
     ]
    },
    {
     "name": "stderr",
     "output_type": "stream",
     "text": [
      "요약 진행 중:  34%|███▍      | 806/2388 [33:41<1:04:01,  2.43s/it]"
     ]
    },
    {
     "name": "stdout",
     "output_type": "stream",
     "text": [
      "807/2388 행 요약 완료\n"
     ]
    },
    {
     "name": "stderr",
     "output_type": "stream",
     "text": [
      "요약 진행 중:  34%|███▍      | 807/2388 [33:43<1:00:04,  2.28s/it]"
     ]
    },
    {
     "name": "stdout",
     "output_type": "stream",
     "text": [
      "808/2388 행 요약 완료\n"
     ]
    },
    {
     "name": "stderr",
     "output_type": "stream",
     "text": [
      "요약 진행 중:  34%|███▍      | 808/2388 [33:46<1:07:47,  2.57s/it]"
     ]
    },
    {
     "name": "stdout",
     "output_type": "stream",
     "text": [
      "809/2388 행 요약 완료\n"
     ]
    },
    {
     "name": "stderr",
     "output_type": "stream",
     "text": [
      "요약 진행 중:  34%|███▍      | 809/2388 [33:49<1:12:47,  2.77s/it]"
     ]
    },
    {
     "name": "stdout",
     "output_type": "stream",
     "text": [
      "810/2388 행 요약 완료\n"
     ]
    },
    {
     "name": "stderr",
     "output_type": "stream",
     "text": [
      "요약 진행 중:  34%|███▍      | 810/2388 [33:51<1:04:13,  2.44s/it]"
     ]
    },
    {
     "name": "stdout",
     "output_type": "stream",
     "text": [
      "811/2388 행 요약 완료\n"
     ]
    },
    {
     "name": "stderr",
     "output_type": "stream",
     "text": [
      "요약 진행 중:  34%|███▍      | 811/2388 [33:52<54:44,  2.08s/it]  "
     ]
    },
    {
     "name": "stdout",
     "output_type": "stream",
     "text": [
      "812/2388 행 요약 완료\n"
     ]
    },
    {
     "name": "stderr",
     "output_type": "stream",
     "text": [
      "요약 진행 중:  34%|███▍      | 812/2388 [33:54<51:04,  1.94s/it]"
     ]
    },
    {
     "name": "stdout",
     "output_type": "stream",
     "text": [
      "813/2388 행 요약 완료\n"
     ]
    },
    {
     "name": "stderr",
     "output_type": "stream",
     "text": [
      "요약 진행 중:  34%|███▍      | 813/2388 [33:55<49:38,  1.89s/it]"
     ]
    },
    {
     "name": "stdout",
     "output_type": "stream",
     "text": [
      "814/2388 행 요약 완료\n"
     ]
    },
    {
     "name": "stderr",
     "output_type": "stream",
     "text": [
      "요약 진행 중:  34%|███▍      | 814/2388 [33:57<43:37,  1.66s/it]"
     ]
    },
    {
     "name": "stdout",
     "output_type": "stream",
     "text": [
      "815/2388 행 요약 완료\n"
     ]
    },
    {
     "name": "stderr",
     "output_type": "stream",
     "text": [
      "요약 진행 중:  34%|███▍      | 815/2388 [34:00<1:00:59,  2.33s/it]"
     ]
    },
    {
     "name": "stdout",
     "output_type": "stream",
     "text": [
      "816/2388 행 요약 완료\n"
     ]
    },
    {
     "name": "stderr",
     "output_type": "stream",
     "text": [
      "요약 진행 중:  34%|███▍      | 816/2388 [34:02<56:37,  2.16s/it]  "
     ]
    },
    {
     "name": "stdout",
     "output_type": "stream",
     "text": [
      "817/2388 행 요약 완료\n"
     ]
    },
    {
     "name": "stderr",
     "output_type": "stream",
     "text": [
      "요약 진행 중:  34%|███▍      | 817/2388 [34:05<1:04:47,  2.47s/it]"
     ]
    },
    {
     "name": "stdout",
     "output_type": "stream",
     "text": [
      "818/2388 행 요약 완료\n"
     ]
    },
    {
     "name": "stderr",
     "output_type": "stream",
     "text": [
      "요약 진행 중:  34%|███▍      | 818/2388 [34:10<1:23:48,  3.20s/it]"
     ]
    },
    {
     "name": "stdout",
     "output_type": "stream",
     "text": [
      "819/2388 행 요약 완료\n"
     ]
    },
    {
     "name": "stderr",
     "output_type": "stream",
     "text": [
      "요약 진행 중:  34%|███▍      | 819/2388 [34:15<1:34:33,  3.62s/it]"
     ]
    },
    {
     "name": "stdout",
     "output_type": "stream",
     "text": [
      "820/2388 행 요약 완료\n"
     ]
    },
    {
     "name": "stderr",
     "output_type": "stream",
     "text": [
      "요약 진행 중:  34%|███▍      | 820/2388 [34:18<1:26:32,  3.31s/it]"
     ]
    },
    {
     "name": "stdout",
     "output_type": "stream",
     "text": [
      "821/2388 행 요약 완료\n"
     ]
    },
    {
     "name": "stderr",
     "output_type": "stream",
     "text": [
      "요약 진행 중:  34%|███▍      | 821/2388 [34:19<1:14:35,  2.86s/it]"
     ]
    },
    {
     "name": "stdout",
     "output_type": "stream",
     "text": [
      "822/2388 행 요약 완료\n"
     ]
    },
    {
     "name": "stderr",
     "output_type": "stream",
     "text": [
      "요약 진행 중:  34%|███▍      | 822/2388 [34:21<1:02:46,  2.40s/it]"
     ]
    },
    {
     "name": "stdout",
     "output_type": "stream",
     "text": [
      "823/2388 행 요약 완료\n"
     ]
    },
    {
     "name": "stderr",
     "output_type": "stream",
     "text": [
      "요약 진행 중:  34%|███▍      | 823/2388 [34:23<1:04:55,  2.49s/it]"
     ]
    },
    {
     "name": "stdout",
     "output_type": "stream",
     "text": [
      "824/2388 행 요약 완료\n"
     ]
    },
    {
     "name": "stderr",
     "output_type": "stream",
     "text": [
      "요약 진행 중:  35%|███▍      | 824/2388 [34:27<1:15:36,  2.90s/it]"
     ]
    },
    {
     "name": "stdout",
     "output_type": "stream",
     "text": [
      "825/2388 행 요약 완료\n"
     ]
    },
    {
     "name": "stderr",
     "output_type": "stream",
     "text": [
      "요약 진행 중:  35%|███▍      | 825/2388 [34:29<1:07:25,  2.59s/it]"
     ]
    },
    {
     "name": "stdout",
     "output_type": "stream",
     "text": [
      "826/2388 행 요약 완료\n"
     ]
    },
    {
     "name": "stderr",
     "output_type": "stream",
     "text": [
      "요약 진행 중:  35%|███▍      | 826/2388 [34:31<59:50,  2.30s/it]  "
     ]
    },
    {
     "name": "stdout",
     "output_type": "stream",
     "text": [
      "827/2388 행 요약 완료\n"
     ]
    },
    {
     "name": "stderr",
     "output_type": "stream",
     "text": [
      "요약 진행 중:  35%|███▍      | 827/2388 [34:32<52:05,  2.00s/it]"
     ]
    },
    {
     "name": "stdout",
     "output_type": "stream",
     "text": [
      "828/2388 행 요약 완료\n"
     ]
    },
    {
     "name": "stderr",
     "output_type": "stream",
     "text": [
      "요약 진행 중:  35%|███▍      | 828/2388 [34:35<55:56,  2.15s/it]"
     ]
    },
    {
     "name": "stdout",
     "output_type": "stream",
     "text": [
      "829/2388 행 요약 완료\n"
     ]
    },
    {
     "name": "stderr",
     "output_type": "stream",
     "text": [
      "요약 진행 중:  35%|███▍      | 829/2388 [34:36<50:41,  1.95s/it]"
     ]
    },
    {
     "name": "stdout",
     "output_type": "stream",
     "text": [
      "830/2388 행 요약 완료\n"
     ]
    },
    {
     "name": "stderr",
     "output_type": "stream",
     "text": [
      "요약 진행 중:  35%|███▍      | 830/2388 [34:38<49:47,  1.92s/it]"
     ]
    },
    {
     "name": "stdout",
     "output_type": "stream",
     "text": [
      "831/2388 행 요약 완료\n"
     ]
    },
    {
     "name": "stderr",
     "output_type": "stream",
     "text": [
      "요약 진행 중:  35%|███▍      | 831/2388 [34:41<1:01:25,  2.37s/it]"
     ]
    },
    {
     "name": "stdout",
     "output_type": "stream",
     "text": [
      "832/2388 행 요약 완료\n"
     ]
    },
    {
     "name": "stderr",
     "output_type": "stream",
     "text": [
      "요약 진행 중:  35%|███▍      | 832/2388 [34:44<1:05:27,  2.52s/it]"
     ]
    },
    {
     "name": "stdout",
     "output_type": "stream",
     "text": [
      "833/2388 행 요약 완료\n"
     ]
    },
    {
     "name": "stderr",
     "output_type": "stream",
     "text": [
      "요약 진행 중:  35%|███▍      | 833/2388 [34:46<1:02:03,  2.39s/it]"
     ]
    },
    {
     "name": "stdout",
     "output_type": "stream",
     "text": [
      "834/2388 행 요약 완료\n"
     ]
    },
    {
     "name": "stderr",
     "output_type": "stream",
     "text": [
      "요약 진행 중:  35%|███▍      | 834/2388 [34:50<1:15:05,  2.90s/it]"
     ]
    },
    {
     "name": "stdout",
     "output_type": "stream",
     "text": [
      "835/2388 행 요약 완료\n"
     ]
    },
    {
     "name": "stderr",
     "output_type": "stream",
     "text": [
      "요약 진행 중:  35%|███▍      | 835/2388 [34:52<1:06:31,  2.57s/it]"
     ]
    },
    {
     "name": "stdout",
     "output_type": "stream",
     "text": [
      "836/2388 행 요약 완료\n"
     ]
    },
    {
     "name": "stderr",
     "output_type": "stream",
     "text": [
      "요약 진행 중:  35%|███▌      | 836/2388 [34:54<1:01:29,  2.38s/it]"
     ]
    },
    {
     "name": "stdout",
     "output_type": "stream",
     "text": [
      "837/2388 행 요약 완료\n"
     ]
    },
    {
     "name": "stderr",
     "output_type": "stream",
     "text": [
      "요약 진행 중:  35%|███▌      | 837/2388 [34:56<1:01:34,  2.38s/it]"
     ]
    },
    {
     "name": "stdout",
     "output_type": "stream",
     "text": [
      "838/2388 행 요약 완료\n"
     ]
    },
    {
     "name": "stderr",
     "output_type": "stream",
     "text": [
      "요약 진행 중:  35%|███▌      | 838/2388 [34:58<55:22,  2.14s/it]  "
     ]
    },
    {
     "name": "stdout",
     "output_type": "stream",
     "text": [
      "839/2388 행 요약 완료\n"
     ]
    },
    {
     "name": "stderr",
     "output_type": "stream",
     "text": [
      "요약 진행 중:  35%|███▌      | 839/2388 [35:00<55:11,  2.14s/it]"
     ]
    },
    {
     "name": "stdout",
     "output_type": "stream",
     "text": [
      "840/2388 행 요약 완료\n"
     ]
    },
    {
     "name": "stderr",
     "output_type": "stream",
     "text": [
      "요약 진행 중:  35%|███▌      | 840/2388 [35:02<50:21,  1.95s/it]"
     ]
    },
    {
     "name": "stdout",
     "output_type": "stream",
     "text": [
      "841/2388 행 요약 완료\n"
     ]
    },
    {
     "name": "stderr",
     "output_type": "stream",
     "text": [
      "요약 진행 중:  35%|███▌      | 841/2388 [35:03<47:01,  1.82s/it]"
     ]
    },
    {
     "name": "stdout",
     "output_type": "stream",
     "text": [
      "842/2388 행 요약 완료\n"
     ]
    },
    {
     "name": "stderr",
     "output_type": "stream",
     "text": [
      "요약 진행 중:  35%|███▌      | 842/2388 [35:05<45:07,  1.75s/it]"
     ]
    },
    {
     "name": "stdout",
     "output_type": "stream",
     "text": [
      "843/2388 행 요약 완료\n"
     ]
    },
    {
     "name": "stderr",
     "output_type": "stream",
     "text": [
      "요약 진행 중:  35%|███▌      | 843/2388 [35:07<47:35,  1.85s/it]"
     ]
    },
    {
     "name": "stdout",
     "output_type": "stream",
     "text": [
      "844/2388 행 요약 완료\n"
     ]
    },
    {
     "name": "stderr",
     "output_type": "stream",
     "text": [
      "요약 진행 중:  35%|███▌      | 844/2388 [35:10<59:38,  2.32s/it]"
     ]
    },
    {
     "name": "stdout",
     "output_type": "stream",
     "text": [
      "845/2388 행 요약 완료\n"
     ]
    },
    {
     "name": "stderr",
     "output_type": "stream",
     "text": [
      "요약 진행 중:  35%|███▌      | 845/2388 [35:12<57:26,  2.23s/it]"
     ]
    },
    {
     "name": "stdout",
     "output_type": "stream",
     "text": [
      "846/2388 행 요약 완료\n"
     ]
    },
    {
     "name": "stderr",
     "output_type": "stream",
     "text": [
      "요약 진행 중:  35%|███▌      | 846/2388 [35:14<50:56,  1.98s/it]"
     ]
    },
    {
     "name": "stdout",
     "output_type": "stream",
     "text": [
      "847/2388 행 요약 완료\n"
     ]
    },
    {
     "name": "stderr",
     "output_type": "stream",
     "text": [
      "요약 진행 중:  35%|███▌      | 847/2388 [35:15<45:41,  1.78s/it]"
     ]
    },
    {
     "name": "stdout",
     "output_type": "stream",
     "text": [
      "848/2388 행 요약 완료\n"
     ]
    },
    {
     "name": "stderr",
     "output_type": "stream",
     "text": [
      "요약 진행 중:  36%|███▌      | 848/2388 [35:17<46:34,  1.81s/it]"
     ]
    },
    {
     "name": "stdout",
     "output_type": "stream",
     "text": [
      "849/2388 행 요약 완료\n"
     ]
    },
    {
     "name": "stderr",
     "output_type": "stream",
     "text": [
      "요약 진행 중:  36%|███▌      | 849/2388 [35:21<1:04:04,  2.50s/it]"
     ]
    },
    {
     "name": "stdout",
     "output_type": "stream",
     "text": [
      "850/2388 행 요약 완료\n"
     ]
    },
    {
     "name": "stderr",
     "output_type": "stream",
     "text": [
      "요약 진행 중:  36%|███▌      | 850/2388 [35:23<59:36,  2.33s/it]  "
     ]
    },
    {
     "name": "stdout",
     "output_type": "stream",
     "text": [
      "851/2388 행 요약 완료\n"
     ]
    },
    {
     "name": "stderr",
     "output_type": "stream",
     "text": [
      "요약 진행 중:  36%|███▌      | 851/2388 [35:28<1:21:32,  3.18s/it]"
     ]
    },
    {
     "name": "stdout",
     "output_type": "stream",
     "text": [
      "852/2388 행 요약 완료\n"
     ]
    },
    {
     "name": "stderr",
     "output_type": "stream",
     "text": [
      "요약 진행 중:  36%|███▌      | 852/2388 [35:32<1:23:43,  3.27s/it]"
     ]
    },
    {
     "name": "stdout",
     "output_type": "stream",
     "text": [
      "853/2388 행 요약 완료\n"
     ]
    },
    {
     "name": "stderr",
     "output_type": "stream",
     "text": [
      "요약 진행 중:  36%|███▌      | 853/2388 [35:33<1:09:01,  2.70s/it]"
     ]
    },
    {
     "name": "stdout",
     "output_type": "stream",
     "text": [
      "854/2388 행 요약 완료\n"
     ]
    },
    {
     "name": "stderr",
     "output_type": "stream",
     "text": [
      "요약 진행 중:  36%|███▌      | 854/2388 [35:35<1:02:50,  2.46s/it]"
     ]
    },
    {
     "name": "stdout",
     "output_type": "stream",
     "text": [
      "855/2388 행 요약 완료\n"
     ]
    },
    {
     "name": "stderr",
     "output_type": "stream",
     "text": [
      "요약 진행 중:  36%|███▌      | 855/2388 [35:38<1:10:25,  2.76s/it]"
     ]
    },
    {
     "name": "stdout",
     "output_type": "stream",
     "text": [
      "856/2388 행 요약 완료\n"
     ]
    },
    {
     "name": "stderr",
     "output_type": "stream",
     "text": [
      "요약 진행 중:  36%|███▌      | 856/2388 [35:41<1:08:14,  2.67s/it]"
     ]
    },
    {
     "name": "stdout",
     "output_type": "stream",
     "text": [
      "857/2388 행 요약 완료\n"
     ]
    },
    {
     "name": "stderr",
     "output_type": "stream",
     "text": [
      "요약 진행 중:  36%|███▌      | 857/2388 [35:45<1:17:41,  3.04s/it]"
     ]
    },
    {
     "name": "stdout",
     "output_type": "stream",
     "text": [
      "858/2388 행 요약 완료\n"
     ]
    },
    {
     "name": "stderr",
     "output_type": "stream",
     "text": [
      "요약 진행 중:  36%|███▌      | 858/2388 [35:46<1:07:12,  2.64s/it]"
     ]
    },
    {
     "name": "stdout",
     "output_type": "stream",
     "text": [
      "859/2388 행 요약 완료\n"
     ]
    },
    {
     "name": "stderr",
     "output_type": "stream",
     "text": [
      "요약 진행 중:  36%|███▌      | 859/2388 [35:48<58:43,  2.30s/it]  "
     ]
    },
    {
     "name": "stdout",
     "output_type": "stream",
     "text": [
      "860/2388 행 요약 완료\n"
     ]
    },
    {
     "name": "stderr",
     "output_type": "stream",
     "text": [
      "요약 진행 중:  36%|███▌      | 860/2388 [35:52<1:14:26,  2.92s/it]"
     ]
    },
    {
     "name": "stdout",
     "output_type": "stream",
     "text": [
      "861/2388 행 요약 완료\n"
     ]
    },
    {
     "name": "stderr",
     "output_type": "stream",
     "text": [
      "요약 진행 중:  36%|███▌      | 861/2388 [35:55<1:11:53,  2.82s/it]"
     ]
    },
    {
     "name": "stdout",
     "output_type": "stream",
     "text": [
      "862/2388 행 요약 완료\n"
     ]
    },
    {
     "name": "stderr",
     "output_type": "stream",
     "text": [
      "요약 진행 중:  36%|███▌      | 862/2388 [35:59<1:18:45,  3.10s/it]"
     ]
    },
    {
     "name": "stdout",
     "output_type": "stream",
     "text": [
      "863/2388 행 요약 완료\n"
     ]
    },
    {
     "name": "stderr",
     "output_type": "stream",
     "text": [
      "요약 진행 중:  36%|███▌      | 863/2388 [36:01<1:15:58,  2.99s/it]"
     ]
    },
    {
     "name": "stdout",
     "output_type": "stream",
     "text": [
      "864/2388 행 요약 완료\n"
     ]
    },
    {
     "name": "stderr",
     "output_type": "stream",
     "text": [
      "요약 진행 중:  36%|███▌      | 864/2388 [36:03<1:06:19,  2.61s/it]"
     ]
    },
    {
     "name": "stdout",
     "output_type": "stream",
     "text": [
      "865/2388 행 요약 완료\n"
     ]
    },
    {
     "name": "stderr",
     "output_type": "stream",
     "text": [
      "요약 진행 중:  36%|███▌      | 865/2388 [36:06<1:09:07,  2.72s/it]"
     ]
    },
    {
     "name": "stdout",
     "output_type": "stream",
     "text": [
      "866/2388 행 요약 완료\n"
     ]
    },
    {
     "name": "stderr",
     "output_type": "stream",
     "text": [
      "요약 진행 중:  36%|███▋      | 866/2388 [36:08<1:00:44,  2.39s/it]"
     ]
    },
    {
     "name": "stdout",
     "output_type": "stream",
     "text": [
      "867/2388 행 요약 완료\n"
     ]
    },
    {
     "name": "stderr",
     "output_type": "stream",
     "text": [
      "요약 진행 중:  36%|███▋      | 867/2388 [36:10<1:01:05,  2.41s/it]"
     ]
    },
    {
     "name": "stdout",
     "output_type": "stream",
     "text": [
      "868/2388 행 요약 완료\n"
     ]
    },
    {
     "name": "stderr",
     "output_type": "stream",
     "text": [
      "요약 진행 중:  36%|███▋      | 868/2388 [36:14<1:10:41,  2.79s/it]"
     ]
    },
    {
     "name": "stdout",
     "output_type": "stream",
     "text": [
      "869/2388 행 요약 완료\n"
     ]
    },
    {
     "name": "stderr",
     "output_type": "stream",
     "text": [
      "요약 진행 중:  36%|███▋      | 869/2388 [36:17<1:14:11,  2.93s/it]"
     ]
    },
    {
     "name": "stdout",
     "output_type": "stream",
     "text": [
      "870/2388 행 요약 완료\n"
     ]
    },
    {
     "name": "stderr",
     "output_type": "stream",
     "text": [
      "요약 진행 중:  36%|███▋      | 870/2388 [36:20<1:15:18,  2.98s/it]"
     ]
    },
    {
     "name": "stdout",
     "output_type": "stream",
     "text": [
      "871/2388 행 요약 완료\n"
     ]
    },
    {
     "name": "stderr",
     "output_type": "stream",
     "text": [
      "요약 진행 중:  36%|███▋      | 871/2388 [36:23<1:18:09,  3.09s/it]"
     ]
    },
    {
     "name": "stdout",
     "output_type": "stream",
     "text": [
      "872/2388 행 요약 완료\n"
     ]
    },
    {
     "name": "stderr",
     "output_type": "stream",
     "text": [
      "요약 진행 중:  37%|███▋      | 872/2388 [36:27<1:24:36,  3.35s/it]"
     ]
    },
    {
     "name": "stdout",
     "output_type": "stream",
     "text": [
      "873/2388 행 요약 완료\n"
     ]
    },
    {
     "name": "stderr",
     "output_type": "stream",
     "text": [
      "요약 진행 중:  37%|███▋      | 873/2388 [36:30<1:21:29,  3.23s/it]"
     ]
    },
    {
     "name": "stdout",
     "output_type": "stream",
     "text": [
      "874/2388 행 요약 완료\n"
     ]
    },
    {
     "name": "stderr",
     "output_type": "stream",
     "text": [
      "요약 진행 중:  37%|███▋      | 874/2388 [36:33<1:17:12,  3.06s/it]"
     ]
    },
    {
     "name": "stdout",
     "output_type": "stream",
     "text": [
      "875/2388 행 요약 완료\n"
     ]
    },
    {
     "name": "stderr",
     "output_type": "stream",
     "text": [
      "요약 진행 중:  37%|███▋      | 875/2388 [36:36<1:17:13,  3.06s/it]"
     ]
    },
    {
     "name": "stdout",
     "output_type": "stream",
     "text": [
      "876/2388 행 요약 완료\n"
     ]
    },
    {
     "name": "stderr",
     "output_type": "stream",
     "text": [
      "요약 진행 중:  37%|███▋      | 876/2388 [36:40<1:20:30,  3.19s/it]"
     ]
    },
    {
     "name": "stdout",
     "output_type": "stream",
     "text": [
      "877/2388 행 요약 완료\n"
     ]
    },
    {
     "name": "stderr",
     "output_type": "stream",
     "text": [
      "요약 진행 중:  37%|███▋      | 877/2388 [36:43<1:19:35,  3.16s/it]"
     ]
    },
    {
     "name": "stdout",
     "output_type": "stream",
     "text": [
      "878/2388 행 요약 완료\n"
     ]
    },
    {
     "name": "stderr",
     "output_type": "stream",
     "text": [
      "요약 진행 중:  37%|███▋      | 878/2388 [36:46<1:18:49,  3.13s/it]"
     ]
    },
    {
     "name": "stdout",
     "output_type": "stream",
     "text": [
      "879/2388 행 요약 완료\n"
     ]
    },
    {
     "name": "stderr",
     "output_type": "stream",
     "text": [
      "요약 진행 중:  37%|███▋      | 879/2388 [36:48<1:11:35,  2.85s/it]"
     ]
    },
    {
     "name": "stdout",
     "output_type": "stream",
     "text": [
      "880/2388 행 요약 완료\n"
     ]
    },
    {
     "name": "stderr",
     "output_type": "stream",
     "text": [
      "요약 진행 중:  37%|███▋      | 880/2388 [36:54<1:33:03,  3.70s/it]"
     ]
    },
    {
     "name": "stdout",
     "output_type": "stream",
     "text": [
      "881/2388 행 요약 완료\n"
     ]
    },
    {
     "name": "stderr",
     "output_type": "stream",
     "text": [
      "요약 진행 중:  37%|███▋      | 881/2388 [36:55<1:16:39,  3.05s/it]"
     ]
    },
    {
     "name": "stdout",
     "output_type": "stream",
     "text": [
      "882/2388 행 요약 완료\n"
     ]
    },
    {
     "name": "stderr",
     "output_type": "stream",
     "text": [
      "요약 진행 중:  37%|███▋      | 882/2388 [36:59<1:25:36,  3.41s/it]"
     ]
    },
    {
     "name": "stdout",
     "output_type": "stream",
     "text": [
      "883/2388 행 요약 완료\n"
     ]
    },
    {
     "name": "stderr",
     "output_type": "stream",
     "text": [
      "요약 진행 중:  37%|███▋      | 883/2388 [37:02<1:20:09,  3.20s/it]"
     ]
    },
    {
     "name": "stdout",
     "output_type": "stream",
     "text": [
      "884/2388 행 요약 완료\n"
     ]
    },
    {
     "name": "stderr",
     "output_type": "stream",
     "text": [
      "요약 진행 중:  37%|███▋      | 884/2388 [37:05<1:20:45,  3.22s/it]"
     ]
    },
    {
     "name": "stdout",
     "output_type": "stream",
     "text": [
      "885/2388 행 요약 완료\n"
     ]
    },
    {
     "name": "stderr",
     "output_type": "stream",
     "text": [
      "요약 진행 중:  37%|███▋      | 885/2388 [37:08<1:16:30,  3.05s/it]"
     ]
    },
    {
     "name": "stdout",
     "output_type": "stream",
     "text": [
      "886/2388 행 요약 완료\n"
     ]
    },
    {
     "name": "stderr",
     "output_type": "stream",
     "text": [
      "요약 진행 중:  37%|███▋      | 886/2388 [37:10<1:08:52,  2.75s/it]"
     ]
    },
    {
     "name": "stdout",
     "output_type": "stream",
     "text": [
      "887/2388 행 요약 완료\n"
     ]
    },
    {
     "name": "stderr",
     "output_type": "stream",
     "text": [
      "요약 진행 중:  37%|███▋      | 887/2388 [37:13<1:06:57,  2.68s/it]"
     ]
    },
    {
     "name": "stdout",
     "output_type": "stream",
     "text": [
      "888/2388 행 요약 완료\n"
     ]
    },
    {
     "name": "stderr",
     "output_type": "stream",
     "text": [
      "요약 진행 중:  37%|███▋      | 888/2388 [37:14<56:18,  2.25s/it]  "
     ]
    },
    {
     "name": "stdout",
     "output_type": "stream",
     "text": [
      "889/2388 행 요약 완료\n"
     ]
    },
    {
     "name": "stderr",
     "output_type": "stream",
     "text": [
      "요약 진행 중:  37%|███▋      | 889/2388 [37:17<1:04:17,  2.57s/it]"
     ]
    },
    {
     "name": "stdout",
     "output_type": "stream",
     "text": [
      "890/2388 행 요약 완료\n"
     ]
    },
    {
     "name": "stderr",
     "output_type": "stream",
     "text": [
      "요약 진행 중:  37%|███▋      | 890/2388 [37:22<1:18:29,  3.14s/it]"
     ]
    },
    {
     "name": "stdout",
     "output_type": "stream",
     "text": [
      "891/2388 행 요약 완료\n"
     ]
    },
    {
     "name": "stderr",
     "output_type": "stream",
     "text": [
      "요약 진행 중:  37%|███▋      | 891/2388 [37:23<1:07:58,  2.72s/it]"
     ]
    },
    {
     "name": "stdout",
     "output_type": "stream",
     "text": [
      "892/2388 행 요약 완료\n"
     ]
    },
    {
     "name": "stderr",
     "output_type": "stream",
     "text": [
      "요약 진행 중:  37%|███▋      | 892/2388 [37:25<1:00:25,  2.42s/it]"
     ]
    },
    {
     "name": "stdout",
     "output_type": "stream",
     "text": [
      "893/2388 행 요약 완료\n"
     ]
    },
    {
     "name": "stderr",
     "output_type": "stream",
     "text": [
      "요약 진행 중:  37%|███▋      | 893/2388 [37:29<1:11:13,  2.86s/it]"
     ]
    },
    {
     "name": "stdout",
     "output_type": "stream",
     "text": [
      "894/2388 행 요약 완료\n"
     ]
    },
    {
     "name": "stderr",
     "output_type": "stream",
     "text": [
      "요약 진행 중:  37%|███▋      | 894/2388 [37:32<1:12:05,  2.90s/it]"
     ]
    },
    {
     "name": "stdout",
     "output_type": "stream",
     "text": [
      "895/2388 행 요약 완료\n"
     ]
    },
    {
     "name": "stderr",
     "output_type": "stream",
     "text": [
      "요약 진행 중:  37%|███▋      | 895/2388 [37:36<1:18:53,  3.17s/it]"
     ]
    },
    {
     "name": "stdout",
     "output_type": "stream",
     "text": [
      "896/2388 행 요약 완료\n"
     ]
    },
    {
     "name": "stderr",
     "output_type": "stream",
     "text": [
      "요약 진행 중:  38%|███▊      | 896/2388 [37:38<1:10:29,  2.83s/it]"
     ]
    },
    {
     "name": "stdout",
     "output_type": "stream",
     "text": [
      "897/2388 행 요약 완료\n"
     ]
    },
    {
     "name": "stderr",
     "output_type": "stream",
     "text": [
      "요약 진행 중:  38%|███▊      | 897/2388 [37:41<1:13:38,  2.96s/it]"
     ]
    },
    {
     "name": "stdout",
     "output_type": "stream",
     "text": [
      "898/2388 행 요약 완료\n"
     ]
    },
    {
     "name": "stderr",
     "output_type": "stream",
     "text": [
      "요약 진행 중:  38%|███▊      | 898/2388 [37:47<1:35:16,  3.84s/it]"
     ]
    },
    {
     "name": "stdout",
     "output_type": "stream",
     "text": [
      "899/2388 행 요약 완료\n"
     ]
    },
    {
     "name": "stderr",
     "output_type": "stream",
     "text": [
      "요약 진행 중:  38%|███▊      | 899/2388 [37:50<1:31:11,  3.67s/it]"
     ]
    },
    {
     "name": "stdout",
     "output_type": "stream",
     "text": [
      "900/2388 행 요약 완료\n"
     ]
    },
    {
     "name": "stderr",
     "output_type": "stream",
     "text": [
      "요약 진행 중:  38%|███▊      | 900/2388 [37:54<1:34:30,  3.81s/it]"
     ]
    },
    {
     "name": "stdout",
     "output_type": "stream",
     "text": [
      "901/2388 행 요약 완료\n"
     ]
    },
    {
     "name": "stderr",
     "output_type": "stream",
     "text": [
      "요약 진행 중:  38%|███▊      | 901/2388 [37:56<1:15:05,  3.03s/it]"
     ]
    },
    {
     "name": "stdout",
     "output_type": "stream",
     "text": [
      "902/2388 행 요약 완료\n"
     ]
    },
    {
     "name": "stderr",
     "output_type": "stream",
     "text": [
      "요약 진행 중:  38%|███▊      | 902/2388 [37:58<1:09:37,  2.81s/it]"
     ]
    },
    {
     "name": "stdout",
     "output_type": "stream",
     "text": [
      "903/2388 행 요약 완료\n"
     ]
    },
    {
     "name": "stderr",
     "output_type": "stream",
     "text": [
      "요약 진행 중:  38%|███▊      | 903/2388 [37:59<58:15,  2.35s/it]  "
     ]
    },
    {
     "name": "stdout",
     "output_type": "stream",
     "text": [
      "904/2388 행 요약 완료\n"
     ]
    },
    {
     "name": "stderr",
     "output_type": "stream",
     "text": [
      "요약 진행 중:  38%|███▊      | 904/2388 [38:02<59:05,  2.39s/it]"
     ]
    },
    {
     "name": "stdout",
     "output_type": "stream",
     "text": [
      "905/2388 행 요약 완료\n"
     ]
    },
    {
     "name": "stderr",
     "output_type": "stream",
     "text": [
      "요약 진행 중:  38%|███▊      | 905/2388 [38:05<1:02:46,  2.54s/it]"
     ]
    },
    {
     "name": "stdout",
     "output_type": "stream",
     "text": [
      "906/2388 행 요약 완료\n"
     ]
    },
    {
     "name": "stderr",
     "output_type": "stream",
     "text": [
      "요약 진행 중:  38%|███▊      | 906/2388 [38:09<1:14:22,  3.01s/it]"
     ]
    },
    {
     "name": "stdout",
     "output_type": "stream",
     "text": [
      "907/2388 행 요약 완료\n"
     ]
    },
    {
     "name": "stderr",
     "output_type": "stream",
     "text": [
      "요약 진행 중:  38%|███▊      | 907/2388 [38:11<1:09:18,  2.81s/it]"
     ]
    },
    {
     "name": "stdout",
     "output_type": "stream",
     "text": [
      "908/2388 행 요약 완료\n"
     ]
    },
    {
     "name": "stderr",
     "output_type": "stream",
     "text": [
      "요약 진행 중:  38%|███▊      | 908/2388 [38:13<1:00:49,  2.47s/it]"
     ]
    },
    {
     "name": "stdout",
     "output_type": "stream",
     "text": [
      "909/2388 행 요약 완료\n"
     ]
    },
    {
     "name": "stderr",
     "output_type": "stream",
     "text": [
      "요약 진행 중:  38%|███▊      | 909/2388 [38:14<54:41,  2.22s/it]  "
     ]
    },
    {
     "name": "stdout",
     "output_type": "stream",
     "text": [
      "910/2388 행 요약 완료\n"
     ]
    },
    {
     "name": "stderr",
     "output_type": "stream",
     "text": [
      "요약 진행 중:  38%|███▊      | 910/2388 [38:16<47:35,  1.93s/it]"
     ]
    },
    {
     "name": "stdout",
     "output_type": "stream",
     "text": [
      "911/2388 행 요약 완료\n"
     ]
    },
    {
     "name": "stderr",
     "output_type": "stream",
     "text": [
      "요약 진행 중:  38%|███▊      | 911/2388 [38:18<53:17,  2.17s/it]"
     ]
    },
    {
     "name": "stdout",
     "output_type": "stream",
     "text": [
      "912/2388 행 요약 완료\n"
     ]
    },
    {
     "name": "stderr",
     "output_type": "stream",
     "text": [
      "요약 진행 중:  38%|███▊      | 912/2388 [38:20<48:08,  1.96s/it]"
     ]
    },
    {
     "name": "stdout",
     "output_type": "stream",
     "text": [
      "913/2388 행 요약 완료\n"
     ]
    },
    {
     "name": "stderr",
     "output_type": "stream",
     "text": [
      "요약 진행 중:  38%|███▊      | 913/2388 [38:21<43:18,  1.76s/it]"
     ]
    },
    {
     "name": "stdout",
     "output_type": "stream",
     "text": [
      "914/2388 행 요약 완료\n"
     ]
    },
    {
     "name": "stderr",
     "output_type": "stream",
     "text": [
      "요약 진행 중:  38%|███▊      | 914/2388 [38:24<51:17,  2.09s/it]"
     ]
    },
    {
     "name": "stdout",
     "output_type": "stream",
     "text": [
      "915/2388 행 요약 완료\n"
     ]
    },
    {
     "name": "stderr",
     "output_type": "stream",
     "text": [
      "요약 진행 중:  38%|███▊      | 915/2388 [38:27<57:33,  2.34s/it]"
     ]
    },
    {
     "name": "stdout",
     "output_type": "stream",
     "text": [
      "916/2388 행 요약 완료\n"
     ]
    },
    {
     "name": "stderr",
     "output_type": "stream",
     "text": [
      "요약 진행 중:  38%|███▊      | 916/2388 [38:30<1:02:14,  2.54s/it]"
     ]
    },
    {
     "name": "stdout",
     "output_type": "stream",
     "text": [
      "917/2388 행 요약 완료\n"
     ]
    },
    {
     "name": "stderr",
     "output_type": "stream",
     "text": [
      "요약 진행 중:  38%|███▊      | 917/2388 [38:33<1:03:17,  2.58s/it]"
     ]
    },
    {
     "name": "stdout",
     "output_type": "stream",
     "text": [
      "918/2388 행 요약 완료\n"
     ]
    },
    {
     "name": "stderr",
     "output_type": "stream",
     "text": [
      "요약 진행 중:  38%|███▊      | 918/2388 [38:35<58:59,  2.41s/it]  "
     ]
    },
    {
     "name": "stdout",
     "output_type": "stream",
     "text": [
      "919/2388 행 요약 완료\n"
     ]
    },
    {
     "name": "stderr",
     "output_type": "stream",
     "text": [
      "요약 진행 중:  38%|███▊      | 919/2388 [38:36<55:08,  2.25s/it]"
     ]
    },
    {
     "name": "stdout",
     "output_type": "stream",
     "text": [
      "920/2388 행 요약 완료\n"
     ]
    },
    {
     "name": "stderr",
     "output_type": "stream",
     "text": [
      "요약 진행 중:  39%|███▊      | 920/2388 [38:39<54:30,  2.23s/it]"
     ]
    },
    {
     "name": "stdout",
     "output_type": "stream",
     "text": [
      "921/2388 행 요약 완료\n"
     ]
    },
    {
     "name": "stderr",
     "output_type": "stream",
     "text": [
      "요약 진행 중:  39%|███▊      | 921/2388 [38:40<51:01,  2.09s/it]"
     ]
    },
    {
     "name": "stdout",
     "output_type": "stream",
     "text": [
      "922/2388 행 요약 완료\n"
     ]
    },
    {
     "name": "stderr",
     "output_type": "stream",
     "text": [
      "요약 진행 중:  39%|███▊      | 922/2388 [38:43<53:52,  2.21s/it]"
     ]
    },
    {
     "name": "stdout",
     "output_type": "stream",
     "text": [
      "923/2388 행 요약 완료\n"
     ]
    },
    {
     "name": "stderr",
     "output_type": "stream",
     "text": [
      "요약 진행 중:  39%|███▊      | 923/2388 [38:47<1:06:26,  2.72s/it]"
     ]
    },
    {
     "name": "stdout",
     "output_type": "stream",
     "text": [
      "924/2388 행 요약 완료\n"
     ]
    },
    {
     "name": "stderr",
     "output_type": "stream",
     "text": [
      "요약 진행 중:  39%|███▊      | 924/2388 [38:49<1:04:55,  2.66s/it]"
     ]
    },
    {
     "name": "stdout",
     "output_type": "stream",
     "text": [
      "925/2388 행 요약 완료\n"
     ]
    },
    {
     "name": "stderr",
     "output_type": "stream",
     "text": [
      "요약 진행 중:  39%|███▊      | 925/2388 [38:52<1:02:49,  2.58s/it]"
     ]
    },
    {
     "name": "stdout",
     "output_type": "stream",
     "text": [
      "926/2388 행 요약 완료\n"
     ]
    },
    {
     "name": "stderr",
     "output_type": "stream",
     "text": [
      "요약 진행 중:  39%|███▉      | 926/2388 [38:54<1:03:38,  2.61s/it]"
     ]
    },
    {
     "name": "stdout",
     "output_type": "stream",
     "text": [
      "927/2388 행 요약 완료\n"
     ]
    },
    {
     "name": "stderr",
     "output_type": "stream",
     "text": [
      "요약 진행 중:  39%|███▉      | 927/2388 [38:57<1:01:25,  2.52s/it]"
     ]
    },
    {
     "name": "stdout",
     "output_type": "stream",
     "text": [
      "928/2388 행 요약 완료\n"
     ]
    },
    {
     "name": "stderr",
     "output_type": "stream",
     "text": [
      "요약 진행 중:  39%|███▉      | 928/2388 [39:00<1:09:58,  2.88s/it]"
     ]
    },
    {
     "name": "stdout",
     "output_type": "stream",
     "text": [
      "929/2388 행 요약 완료\n"
     ]
    },
    {
     "name": "stderr",
     "output_type": "stream",
     "text": [
      "요약 진행 중:  39%|███▉      | 929/2388 [39:04<1:14:07,  3.05s/it]"
     ]
    },
    {
     "name": "stdout",
     "output_type": "stream",
     "text": [
      "930/2388 행 요약 완료\n"
     ]
    },
    {
     "name": "stderr",
     "output_type": "stream",
     "text": [
      "요약 진행 중:  39%|███▉      | 930/2388 [39:06<1:04:21,  2.65s/it]"
     ]
    },
    {
     "name": "stdout",
     "output_type": "stream",
     "text": [
      "931/2388 행 요약 완료\n"
     ]
    },
    {
     "name": "stderr",
     "output_type": "stream",
     "text": [
      "요약 진행 중:  39%|███▉      | 931/2388 [39:07<55:47,  2.30s/it]  "
     ]
    },
    {
     "name": "stdout",
     "output_type": "stream",
     "text": [
      "932/2388 행 요약 완료\n"
     ]
    },
    {
     "name": "stderr",
     "output_type": "stream",
     "text": [
      "요약 진행 중:  39%|███▉      | 932/2388 [39:09<54:00,  2.23s/it]"
     ]
    },
    {
     "name": "stdout",
     "output_type": "stream",
     "text": [
      "933/2388 행 요약 완료\n"
     ]
    },
    {
     "name": "stderr",
     "output_type": "stream",
     "text": [
      "요약 진행 중:  39%|███▉      | 933/2388 [39:11<48:22,  1.99s/it]"
     ]
    },
    {
     "name": "stdout",
     "output_type": "stream",
     "text": [
      "934/2388 행 요약 완료\n"
     ]
    },
    {
     "name": "stderr",
     "output_type": "stream",
     "text": [
      "요약 진행 중:  39%|███▉      | 934/2388 [39:13<49:37,  2.05s/it]"
     ]
    },
    {
     "name": "stdout",
     "output_type": "stream",
     "text": [
      "935/2388 행 요약 완료\n"
     ]
    },
    {
     "name": "stderr",
     "output_type": "stream",
     "text": [
      "요약 진행 중:  39%|███▉      | 935/2388 [39:14<45:47,  1.89s/it]"
     ]
    },
    {
     "name": "stdout",
     "output_type": "stream",
     "text": [
      "936/2388 행 요약 완료\n"
     ]
    },
    {
     "name": "stderr",
     "output_type": "stream",
     "text": [
      "요약 진행 중:  39%|███▉      | 936/2388 [39:16<47:33,  1.97s/it]"
     ]
    },
    {
     "name": "stdout",
     "output_type": "stream",
     "text": [
      "937/2388 행 요약 완료\n"
     ]
    },
    {
     "name": "stderr",
     "output_type": "stream",
     "text": [
      "요약 진행 중:  39%|███▉      | 937/2388 [39:18<44:10,  1.83s/it]"
     ]
    },
    {
     "name": "stdout",
     "output_type": "stream",
     "text": [
      "938/2388 행 요약 완료\n"
     ]
    },
    {
     "name": "stderr",
     "output_type": "stream",
     "text": [
      "요약 진행 중:  39%|███▉      | 938/2388 [39:21<52:21,  2.17s/it]"
     ]
    },
    {
     "name": "stdout",
     "output_type": "stream",
     "text": [
      "939/2388 행 요약 완료\n"
     ]
    },
    {
     "name": "stderr",
     "output_type": "stream",
     "text": [
      "요약 진행 중:  39%|███▉      | 939/2388 [39:22<45:20,  1.88s/it]"
     ]
    },
    {
     "name": "stdout",
     "output_type": "stream",
     "text": [
      "940/2388 행 요약 완료\n"
     ]
    },
    {
     "name": "stderr",
     "output_type": "stream",
     "text": [
      "요약 진행 중:  39%|███▉      | 940/2388 [39:25<54:32,  2.26s/it]"
     ]
    },
    {
     "name": "stdout",
     "output_type": "stream",
     "text": [
      "941/2388 행 요약 완료\n"
     ]
    },
    {
     "name": "stderr",
     "output_type": "stream",
     "text": [
      "요약 진행 중:  39%|███▉      | 941/2388 [39:27<48:06,  1.99s/it]"
     ]
    },
    {
     "name": "stdout",
     "output_type": "stream",
     "text": [
      "942/2388 행 요약 완료\n"
     ]
    },
    {
     "name": "stderr",
     "output_type": "stream",
     "text": [
      "요약 진행 중:  39%|███▉      | 942/2388 [39:28<47:17,  1.96s/it]"
     ]
    },
    {
     "name": "stdout",
     "output_type": "stream",
     "text": [
      "943/2388 행 요약 완료\n"
     ]
    },
    {
     "name": "stderr",
     "output_type": "stream",
     "text": [
      "요약 진행 중:  39%|███▉      | 943/2388 [39:30<45:42,  1.90s/it]"
     ]
    },
    {
     "name": "stdout",
     "output_type": "stream",
     "text": [
      "944/2388 행 요약 완료\n"
     ]
    },
    {
     "name": "stderr",
     "output_type": "stream",
     "text": [
      "요약 진행 중:  40%|███▉      | 944/2388 [39:33<48:46,  2.03s/it]"
     ]
    },
    {
     "name": "stdout",
     "output_type": "stream",
     "text": [
      "945/2388 행 요약 완료\n"
     ]
    },
    {
     "name": "stderr",
     "output_type": "stream",
     "text": [
      "요약 진행 중:  40%|███▉      | 945/2388 [39:34<47:16,  1.97s/it]"
     ]
    },
    {
     "name": "stdout",
     "output_type": "stream",
     "text": [
      "946/2388 행 요약 완료\n"
     ]
    },
    {
     "name": "stderr",
     "output_type": "stream",
     "text": [
      "요약 진행 중:  40%|███▉      | 946/2388 [39:36<43:00,  1.79s/it]"
     ]
    },
    {
     "name": "stdout",
     "output_type": "stream",
     "text": [
      "947/2388 행 요약 완료\n"
     ]
    },
    {
     "name": "stderr",
     "output_type": "stream",
     "text": [
      "요약 진행 중:  40%|███▉      | 947/2388 [39:38<47:40,  1.99s/it]"
     ]
    },
    {
     "name": "stdout",
     "output_type": "stream",
     "text": [
      "948/2388 행 요약 완료\n"
     ]
    },
    {
     "name": "stderr",
     "output_type": "stream",
     "text": [
      "요약 진행 중:  40%|███▉      | 948/2388 [39:40<45:08,  1.88s/it]"
     ]
    },
    {
     "name": "stdout",
     "output_type": "stream",
     "text": [
      "949/2388 행 요약 완료\n"
     ]
    },
    {
     "name": "stderr",
     "output_type": "stream",
     "text": [
      "요약 진행 중:  40%|███▉      | 949/2388 [39:41<42:04,  1.75s/it]"
     ]
    },
    {
     "name": "stdout",
     "output_type": "stream",
     "text": [
      "950/2388 행 요약 완료\n"
     ]
    },
    {
     "name": "stderr",
     "output_type": "stream",
     "text": [
      "요약 진행 중:  40%|███▉      | 950/2388 [39:43<42:54,  1.79s/it]"
     ]
    },
    {
     "name": "stdout",
     "output_type": "stream",
     "text": [
      "951/2388 행 요약 완료\n"
     ]
    },
    {
     "name": "stderr",
     "output_type": "stream",
     "text": [
      "요약 진행 중:  40%|███▉      | 951/2388 [39:45<46:23,  1.94s/it]"
     ]
    },
    {
     "name": "stdout",
     "output_type": "stream",
     "text": [
      "952/2388 행 요약 완료\n"
     ]
    },
    {
     "name": "stderr",
     "output_type": "stream",
     "text": [
      "요약 진행 중:  40%|███▉      | 952/2388 [39:48<47:51,  2.00s/it]"
     ]
    },
    {
     "name": "stdout",
     "output_type": "stream",
     "text": [
      "953/2388 행 요약 완료\n"
     ]
    },
    {
     "name": "stderr",
     "output_type": "stream",
     "text": [
      "요약 진행 중:  40%|███▉      | 953/2388 [39:50<51:44,  2.16s/it]"
     ]
    },
    {
     "name": "stdout",
     "output_type": "stream",
     "text": [
      "954/2388 행 요약 완료\n"
     ]
    },
    {
     "name": "stderr",
     "output_type": "stream",
     "text": [
      "요약 진행 중:  40%|███▉      | 954/2388 [39:53<58:19,  2.44s/it]"
     ]
    },
    {
     "name": "stdout",
     "output_type": "stream",
     "text": [
      "955/2388 행 요약 완료\n"
     ]
    },
    {
     "name": "stderr",
     "output_type": "stream",
     "text": [
      "요약 진행 중:  40%|███▉      | 955/2388 [39:56<59:28,  2.49s/it]"
     ]
    },
    {
     "name": "stdout",
     "output_type": "stream",
     "text": [
      "956/2388 행 요약 완료\n"
     ]
    },
    {
     "name": "stderr",
     "output_type": "stream",
     "text": [
      "요약 진행 중:  40%|████      | 956/2388 [39:59<1:01:08,  2.56s/it]"
     ]
    },
    {
     "name": "stdout",
     "output_type": "stream",
     "text": [
      "957/2388 행 요약 완료\n"
     ]
    },
    {
     "name": "stderr",
     "output_type": "stream",
     "text": [
      "요약 진행 중:  40%|████      | 957/2388 [40:01<1:00:44,  2.55s/it]"
     ]
    },
    {
     "name": "stdout",
     "output_type": "stream",
     "text": [
      "958/2388 행 요약 완료\n"
     ]
    },
    {
     "name": "stderr",
     "output_type": "stream",
     "text": [
      "요약 진행 중:  40%|████      | 958/2388 [40:04<1:01:32,  2.58s/it]"
     ]
    },
    {
     "name": "stdout",
     "output_type": "stream",
     "text": [
      "959/2388 행 요약 완료\n"
     ]
    },
    {
     "name": "stderr",
     "output_type": "stream",
     "text": [
      "요약 진행 중:  40%|████      | 959/2388 [40:05<51:46,  2.17s/it]  "
     ]
    },
    {
     "name": "stdout",
     "output_type": "stream",
     "text": [
      "960/2388 행 요약 완료\n"
     ]
    },
    {
     "name": "stderr",
     "output_type": "stream",
     "text": [
      "요약 진행 중:  40%|████      | 960/2388 [40:10<1:09:08,  2.91s/it]"
     ]
    },
    {
     "name": "stdout",
     "output_type": "stream",
     "text": [
      "961/2388 행 요약 완료\n"
     ]
    },
    {
     "name": "stderr",
     "output_type": "stream",
     "text": [
      "요약 진행 중:  40%|████      | 961/2388 [40:13<1:15:48,  3.19s/it]"
     ]
    },
    {
     "name": "stdout",
     "output_type": "stream",
     "text": [
      "962/2388 행 요약 완료\n"
     ]
    },
    {
     "name": "stderr",
     "output_type": "stream",
     "text": [
      "요약 진행 중:  40%|████      | 962/2388 [40:16<1:11:16,  3.00s/it]"
     ]
    },
    {
     "name": "stdout",
     "output_type": "stream",
     "text": [
      "963/2388 행 요약 완료\n"
     ]
    },
    {
     "name": "stderr",
     "output_type": "stream",
     "text": [
      "요약 진행 중:  40%|████      | 963/2388 [40:19<1:10:13,  2.96s/it]"
     ]
    },
    {
     "name": "stdout",
     "output_type": "stream",
     "text": [
      "964/2388 행 요약 완료\n"
     ]
    },
    {
     "name": "stderr",
     "output_type": "stream",
     "text": [
      "요약 진행 중:  40%|████      | 964/2388 [40:23<1:21:25,  3.43s/it]"
     ]
    },
    {
     "name": "stdout",
     "output_type": "stream",
     "text": [
      "965/2388 행 요약 완료\n"
     ]
    },
    {
     "name": "stderr",
     "output_type": "stream",
     "text": [
      "요약 진행 중:  40%|████      | 965/2388 [40:26<1:15:16,  3.17s/it]"
     ]
    },
    {
     "name": "stdout",
     "output_type": "stream",
     "text": [
      "966/2388 행 요약 완료\n"
     ]
    },
    {
     "name": "stderr",
     "output_type": "stream",
     "text": [
      "요약 진행 중:  40%|████      | 966/2388 [40:29<1:12:41,  3.07s/it]"
     ]
    },
    {
     "name": "stdout",
     "output_type": "stream",
     "text": [
      "967/2388 행 요약 완료\n"
     ]
    },
    {
     "name": "stderr",
     "output_type": "stream",
     "text": [
      "요약 진행 중:  40%|████      | 967/2388 [40:34<1:29:11,  3.77s/it]"
     ]
    },
    {
     "name": "stdout",
     "output_type": "stream",
     "text": [
      "968/2388 행 요약 완료\n"
     ]
    },
    {
     "name": "stderr",
     "output_type": "stream",
     "text": [
      "요약 진행 중:  41%|████      | 968/2388 [40:39<1:33:36,  3.96s/it]"
     ]
    },
    {
     "name": "stdout",
     "output_type": "stream",
     "text": [
      "969/2388 행 요약 완료\n"
     ]
    },
    {
     "name": "stderr",
     "output_type": "stream",
     "text": [
      "요약 진행 중:  41%|████      | 969/2388 [40:41<1:23:30,  3.53s/it]"
     ]
    },
    {
     "name": "stdout",
     "output_type": "stream",
     "text": [
      "970/2388 행 요약 완료\n"
     ]
    },
    {
     "name": "stderr",
     "output_type": "stream",
     "text": [
      "요약 진행 중:  41%|████      | 970/2388 [40:42<1:07:33,  2.86s/it]"
     ]
    },
    {
     "name": "stdout",
     "output_type": "stream",
     "text": [
      "971/2388 행 요약 완료\n"
     ]
    },
    {
     "name": "stderr",
     "output_type": "stream",
     "text": [
      "요약 진행 중:  41%|████      | 971/2388 [40:46<1:14:19,  3.15s/it]"
     ]
    },
    {
     "name": "stdout",
     "output_type": "stream",
     "text": [
      "972/2388 행 요약 완료\n"
     ]
    },
    {
     "name": "stderr",
     "output_type": "stream",
     "text": [
      "요약 진행 중:  41%|████      | 972/2388 [40:48<1:06:00,  2.80s/it]"
     ]
    },
    {
     "name": "stdout",
     "output_type": "stream",
     "text": [
      "973/2388 행 요약 완료\n"
     ]
    },
    {
     "name": "stderr",
     "output_type": "stream",
     "text": [
      "요약 진행 중:  41%|████      | 973/2388 [40:52<1:10:25,  2.99s/it]"
     ]
    },
    {
     "name": "stdout",
     "output_type": "stream",
     "text": [
      "974/2388 행 요약 완료\n"
     ]
    },
    {
     "name": "stderr",
     "output_type": "stream",
     "text": [
      "요약 진행 중:  41%|████      | 974/2388 [40:53<58:28,  2.48s/it]  "
     ]
    },
    {
     "name": "stdout",
     "output_type": "stream",
     "text": [
      "975/2388 행 요약 완료\n"
     ]
    },
    {
     "name": "stderr",
     "output_type": "stream",
     "text": [
      "요약 진행 중:  41%|████      | 975/2388 [40:56<59:35,  2.53s/it]"
     ]
    },
    {
     "name": "stdout",
     "output_type": "stream",
     "text": [
      "976/2388 행 요약 완료\n"
     ]
    },
    {
     "name": "stderr",
     "output_type": "stream",
     "text": [
      "요약 진행 중:  41%|████      | 976/2388 [41:00<1:12:45,  3.09s/it]"
     ]
    },
    {
     "name": "stdout",
     "output_type": "stream",
     "text": [
      "977/2388 행 요약 완료\n"
     ]
    },
    {
     "name": "stderr",
     "output_type": "stream",
     "text": [
      "요약 진행 중:  41%|████      | 977/2388 [41:05<1:24:52,  3.61s/it]"
     ]
    },
    {
     "name": "stdout",
     "output_type": "stream",
     "text": [
      "978/2388 행 요약 완료\n"
     ]
    },
    {
     "name": "stderr",
     "output_type": "stream",
     "text": [
      "요약 진행 중:  41%|████      | 978/2388 [41:07<1:15:41,  3.22s/it]"
     ]
    },
    {
     "name": "stdout",
     "output_type": "stream",
     "text": [
      "979/2388 행 요약 완료\n"
     ]
    },
    {
     "name": "stderr",
     "output_type": "stream",
     "text": [
      "요약 진행 중:  41%|████      | 979/2388 [41:09<1:07:34,  2.88s/it]"
     ]
    },
    {
     "name": "stdout",
     "output_type": "stream",
     "text": [
      "980/2388 행 요약 완료\n"
     ]
    },
    {
     "name": "stderr",
     "output_type": "stream",
     "text": [
      "요약 진행 중:  41%|████      | 980/2388 [41:11<1:01:57,  2.64s/it]"
     ]
    },
    {
     "name": "stdout",
     "output_type": "stream",
     "text": [
      "981/2388 행 요약 완료\n"
     ]
    },
    {
     "name": "stderr",
     "output_type": "stream",
     "text": [
      "요약 진행 중:  41%|████      | 981/2388 [41:13<54:57,  2.34s/it]  "
     ]
    },
    {
     "name": "stdout",
     "output_type": "stream",
     "text": [
      "982/2388 행 요약 완료\n"
     ]
    },
    {
     "name": "stderr",
     "output_type": "stream",
     "text": [
      "요약 진행 중:  41%|████      | 982/2388 [41:14<49:11,  2.10s/it]"
     ]
    },
    {
     "name": "stdout",
     "output_type": "stream",
     "text": [
      "983/2388 행 요약 완료\n"
     ]
    },
    {
     "name": "stderr",
     "output_type": "stream",
     "text": [
      "요약 진행 중:  41%|████      | 983/2388 [41:15<41:27,  1.77s/it]"
     ]
    },
    {
     "name": "stdout",
     "output_type": "stream",
     "text": [
      "984/2388 행 요약 완료\n"
     ]
    },
    {
     "name": "stderr",
     "output_type": "stream",
     "text": [
      "요약 진행 중:  41%|████      | 984/2388 [41:18<50:28,  2.16s/it]"
     ]
    },
    {
     "name": "stdout",
     "output_type": "stream",
     "text": [
      "985/2388 행 요약 완료\n"
     ]
    },
    {
     "name": "stderr",
     "output_type": "stream",
     "text": [
      "요약 진행 중:  41%|████      | 985/2388 [41:21<55:34,  2.38s/it]"
     ]
    },
    {
     "name": "stdout",
     "output_type": "stream",
     "text": [
      "986/2388 행 요약 완료\n"
     ]
    },
    {
     "name": "stderr",
     "output_type": "stream",
     "text": [
      "요약 진행 중:  41%|████▏     | 986/2388 [41:23<49:10,  2.10s/it]"
     ]
    },
    {
     "name": "stdout",
     "output_type": "stream",
     "text": [
      "987/2388 행 요약 완료\n"
     ]
    },
    {
     "name": "stderr",
     "output_type": "stream",
     "text": [
      "요약 진행 중:  41%|████▏     | 987/2388 [41:25<48:01,  2.06s/it]"
     ]
    },
    {
     "name": "stdout",
     "output_type": "stream",
     "text": [
      "988/2388 행 요약 완료\n"
     ]
    },
    {
     "name": "stderr",
     "output_type": "stream",
     "text": [
      "요약 진행 중:  41%|████▏     | 988/2388 [41:27<51:01,  2.19s/it]"
     ]
    },
    {
     "name": "stdout",
     "output_type": "stream",
     "text": [
      "989/2388 행 요약 완료\n"
     ]
    },
    {
     "name": "stderr",
     "output_type": "stream",
     "text": [
      "요약 진행 중:  41%|████▏     | 989/2388 [41:29<47:20,  2.03s/it]"
     ]
    },
    {
     "name": "stdout",
     "output_type": "stream",
     "text": [
      "990/2388 행 요약 완료\n"
     ]
    },
    {
     "name": "stderr",
     "output_type": "stream",
     "text": [
      "요약 진행 중:  41%|████▏     | 990/2388 [41:31<47:37,  2.04s/it]"
     ]
    },
    {
     "name": "stdout",
     "output_type": "stream",
     "text": [
      "991/2388 행 요약 완료\n"
     ]
    },
    {
     "name": "stderr",
     "output_type": "stream",
     "text": [
      "요약 진행 중:  41%|████▏     | 991/2388 [41:33<44:03,  1.89s/it]"
     ]
    },
    {
     "name": "stdout",
     "output_type": "stream",
     "text": [
      "992/2388 행 요약 완료\n"
     ]
    },
    {
     "name": "stderr",
     "output_type": "stream",
     "text": [
      "요약 진행 중:  42%|████▏     | 992/2388 [41:34<40:29,  1.74s/it]"
     ]
    },
    {
     "name": "stdout",
     "output_type": "stream",
     "text": [
      "993/2388 행 요약 완료\n"
     ]
    },
    {
     "name": "stderr",
     "output_type": "stream",
     "text": [
      "요약 진행 중:  42%|████▏     | 993/2388 [41:37<47:42,  2.05s/it]"
     ]
    },
    {
     "name": "stdout",
     "output_type": "stream",
     "text": [
      "994/2388 행 요약 완료\n"
     ]
    },
    {
     "name": "stderr",
     "output_type": "stream",
     "text": [
      "요약 진행 중:  42%|████▏     | 994/2388 [41:39<52:24,  2.26s/it]"
     ]
    },
    {
     "name": "stdout",
     "output_type": "stream",
     "text": [
      "995/2388 행 요약 완료\n"
     ]
    },
    {
     "name": "stderr",
     "output_type": "stream",
     "text": [
      "요약 진행 중:  42%|████▏     | 995/2388 [41:42<53:43,  2.31s/it]"
     ]
    },
    {
     "name": "stdout",
     "output_type": "stream",
     "text": [
      "996/2388 행 요약 완료\n"
     ]
    },
    {
     "name": "stderr",
     "output_type": "stream",
     "text": [
      "요약 진행 중:  42%|████▏     | 996/2388 [41:45<1:01:34,  2.65s/it]"
     ]
    },
    {
     "name": "stdout",
     "output_type": "stream",
     "text": [
      "997/2388 행 요약 완료\n"
     ]
    },
    {
     "name": "stderr",
     "output_type": "stream",
     "text": [
      "요약 진행 중:  42%|████▏     | 997/2388 [41:47<54:36,  2.36s/it]  "
     ]
    },
    {
     "name": "stdout",
     "output_type": "stream",
     "text": [
      "998/2388 행 요약 완료\n"
     ]
    },
    {
     "name": "stderr",
     "output_type": "stream",
     "text": [
      "요약 진행 중:  42%|████▏     | 998/2388 [41:49<55:22,  2.39s/it]"
     ]
    },
    {
     "name": "stdout",
     "output_type": "stream",
     "text": [
      "999/2388 행 요약 완료\n"
     ]
    },
    {
     "name": "stderr",
     "output_type": "stream",
     "text": [
      "요약 진행 중:  42%|████▏     | 999/2388 [41:53<1:01:02,  2.64s/it]"
     ]
    },
    {
     "name": "stdout",
     "output_type": "stream",
     "text": [
      "1000/2388 행 요약 완료\n"
     ]
    },
    {
     "name": "stderr",
     "output_type": "stream",
     "text": [
      "요약 진행 중:  42%|████▏     | 1000/2388 [41:56<1:03:02,  2.72s/it]"
     ]
    },
    {
     "name": "stdout",
     "output_type": "stream",
     "text": [
      "1001/2388 행 요약 완료\n"
     ]
    },
    {
     "name": "stderr",
     "output_type": "stream",
     "text": [
      "요약 진행 중:  42%|████▏     | 1001/2388 [41:57<52:14,  2.26s/it]  "
     ]
    },
    {
     "name": "stdout",
     "output_type": "stream",
     "text": [
      "1002/2388 행 요약 완료\n"
     ]
    },
    {
     "name": "stderr",
     "output_type": "stream",
     "text": [
      "요약 진행 중:  42%|████▏     | 1002/2388 [41:59<51:20,  2.22s/it]"
     ]
    },
    {
     "name": "stdout",
     "output_type": "stream",
     "text": [
      "1003/2388 행 요약 완료\n"
     ]
    },
    {
     "name": "stderr",
     "output_type": "stream",
     "text": [
      "요약 진행 중:  42%|████▏     | 1003/2388 [42:01<48:11,  2.09s/it]"
     ]
    },
    {
     "name": "stdout",
     "output_type": "stream",
     "text": [
      "1004/2388 행 요약 완료\n"
     ]
    },
    {
     "name": "stderr",
     "output_type": "stream",
     "text": [
      "요약 진행 중:  42%|████▏     | 1004/2388 [42:04<57:25,  2.49s/it]"
     ]
    },
    {
     "name": "stdout",
     "output_type": "stream",
     "text": [
      "1005/2388 행 요약 완료\n"
     ]
    },
    {
     "name": "stderr",
     "output_type": "stream",
     "text": [
      "요약 진행 중:  42%|████▏     | 1005/2388 [42:07<57:43,  2.50s/it]"
     ]
    },
    {
     "name": "stdout",
     "output_type": "stream",
     "text": [
      "1006/2388 행 요약 완료\n"
     ]
    },
    {
     "name": "stderr",
     "output_type": "stream",
     "text": [
      "요약 진행 중:  42%|████▏     | 1006/2388 [42:08<49:35,  2.15s/it]"
     ]
    },
    {
     "name": "stdout",
     "output_type": "stream",
     "text": [
      "1007/2388 행 요약 완료\n"
     ]
    },
    {
     "name": "stderr",
     "output_type": "stream",
     "text": [
      "요약 진행 중:  42%|████▏     | 1007/2388 [42:10<46:12,  2.01s/it]"
     ]
    },
    {
     "name": "stdout",
     "output_type": "stream",
     "text": [
      "1008/2388 행 요약 완료\n"
     ]
    },
    {
     "name": "stderr",
     "output_type": "stream",
     "text": [
      "요약 진행 중:  42%|████▏     | 1008/2388 [42:11<42:37,  1.85s/it]"
     ]
    },
    {
     "name": "stdout",
     "output_type": "stream",
     "text": [
      "1009/2388 행 요약 완료\n"
     ]
    },
    {
     "name": "stderr",
     "output_type": "stream",
     "text": [
      "요약 진행 중:  42%|████▏     | 1009/2388 [42:13<42:55,  1.87s/it]"
     ]
    },
    {
     "name": "stdout",
     "output_type": "stream",
     "text": [
      "1010/2388 행 요약 완료\n"
     ]
    },
    {
     "name": "stderr",
     "output_type": "stream",
     "text": [
      "요약 진행 중:  42%|████▏     | 1010/2388 [42:16<48:43,  2.12s/it]"
     ]
    },
    {
     "name": "stdout",
     "output_type": "stream",
     "text": [
      "1011/2388 행 요약 완료\n"
     ]
    },
    {
     "name": "stderr",
     "output_type": "stream",
     "text": [
      "요약 진행 중:  42%|████▏     | 1011/2388 [42:17<42:10,  1.84s/it]"
     ]
    },
    {
     "name": "stdout",
     "output_type": "stream",
     "text": [
      "1012/2388 행 요약 완료\n"
     ]
    },
    {
     "name": "stderr",
     "output_type": "stream",
     "text": [
      "요약 진행 중:  42%|████▏     | 1012/2388 [42:22<1:06:44,  2.91s/it]"
     ]
    },
    {
     "name": "stdout",
     "output_type": "stream",
     "text": [
      "1013/2388 행 요약 완료\n"
     ]
    },
    {
     "name": "stderr",
     "output_type": "stream",
     "text": [
      "요약 진행 중:  42%|████▏     | 1013/2388 [42:25<1:02:17,  2.72s/it]"
     ]
    },
    {
     "name": "stdout",
     "output_type": "stream",
     "text": [
      "1014/2388 행 요약 완료\n"
     ]
    },
    {
     "name": "stderr",
     "output_type": "stream",
     "text": [
      "요약 진행 중:  42%|████▏     | 1014/2388 [42:26<53:42,  2.35s/it]  "
     ]
    },
    {
     "name": "stdout",
     "output_type": "stream",
     "text": [
      "1015/2388 행 요약 완료\n"
     ]
    },
    {
     "name": "stderr",
     "output_type": "stream",
     "text": [
      "요약 진행 중:  43%|████▎     | 1015/2388 [42:31<1:09:25,  3.03s/it]"
     ]
    },
    {
     "name": "stdout",
     "output_type": "stream",
     "text": [
      "1016/2388 행 요약 완료\n"
     ]
    },
    {
     "name": "stderr",
     "output_type": "stream",
     "text": [
      "요약 진행 중:  43%|████▎     | 1016/2388 [42:34<1:12:41,  3.18s/it]"
     ]
    },
    {
     "name": "stdout",
     "output_type": "stream",
     "text": [
      "1017/2388 행 요약 완료\n"
     ]
    },
    {
     "name": "stderr",
     "output_type": "stream",
     "text": [
      "요약 진행 중:  43%|████▎     | 1017/2388 [42:36<1:00:28,  2.65s/it]"
     ]
    },
    {
     "name": "stdout",
     "output_type": "stream",
     "text": [
      "1018/2388 행 요약 완료\n"
     ]
    },
    {
     "name": "stderr",
     "output_type": "stream",
     "text": [
      "요약 진행 중:  43%|████▎     | 1018/2388 [42:37<54:18,  2.38s/it]  "
     ]
    },
    {
     "name": "stdout",
     "output_type": "stream",
     "text": [
      "1019/2388 행 요약 완료\n"
     ]
    },
    {
     "name": "stderr",
     "output_type": "stream",
     "text": [
      "요약 진행 중:  43%|████▎     | 1019/2388 [42:40<55:28,  2.43s/it]"
     ]
    },
    {
     "name": "stdout",
     "output_type": "stream",
     "text": [
      "1020/2388 행 요약 완료\n"
     ]
    },
    {
     "name": "stderr",
     "output_type": "stream",
     "text": [
      "요약 진행 중:  43%|████▎     | 1020/2388 [42:41<48:04,  2.11s/it]"
     ]
    },
    {
     "name": "stdout",
     "output_type": "stream",
     "text": [
      "1021/2388 행 요약 완료\n"
     ]
    },
    {
     "name": "stderr",
     "output_type": "stream",
     "text": [
      "요약 진행 중:  43%|████▎     | 1021/2388 [42:43<43:05,  1.89s/it]"
     ]
    },
    {
     "name": "stdout",
     "output_type": "stream",
     "text": [
      "1022/2388 행 요약 완료\n"
     ]
    },
    {
     "name": "stderr",
     "output_type": "stream",
     "text": [
      "요약 진행 중:  43%|████▎     | 1022/2388 [42:45<43:55,  1.93s/it]"
     ]
    },
    {
     "name": "stdout",
     "output_type": "stream",
     "text": [
      "1023/2388 행 요약 완료\n"
     ]
    },
    {
     "name": "stderr",
     "output_type": "stream",
     "text": [
      "요약 진행 중:  43%|████▎     | 1023/2388 [42:46<42:25,  1.86s/it]"
     ]
    },
    {
     "name": "stdout",
     "output_type": "stream",
     "text": [
      "1024/2388 행 요약 완료\n"
     ]
    },
    {
     "name": "stderr",
     "output_type": "stream",
     "text": [
      "요약 진행 중:  43%|████▎     | 1024/2388 [42:49<46:13,  2.03s/it]"
     ]
    },
    {
     "name": "stdout",
     "output_type": "stream",
     "text": [
      "1025/2388 행 요약 완료\n"
     ]
    },
    {
     "name": "stderr",
     "output_type": "stream",
     "text": [
      "요약 진행 중:  43%|████▎     | 1025/2388 [42:51<49:07,  2.16s/it]"
     ]
    },
    {
     "name": "stdout",
     "output_type": "stream",
     "text": [
      "1026/2388 행 요약 완료\n"
     ]
    },
    {
     "name": "stderr",
     "output_type": "stream",
     "text": [
      "요약 진행 중:  43%|████▎     | 1026/2388 [42:54<52:27,  2.31s/it]"
     ]
    },
    {
     "name": "stdout",
     "output_type": "stream",
     "text": [
      "1027/2388 행 요약 완료\n"
     ]
    },
    {
     "name": "stderr",
     "output_type": "stream",
     "text": [
      "요약 진행 중:  43%|████▎     | 1027/2388 [42:57<59:33,  2.63s/it]"
     ]
    },
    {
     "name": "stdout",
     "output_type": "stream",
     "text": [
      "1028/2388 행 요약 완료\n"
     ]
    },
    {
     "name": "stderr",
     "output_type": "stream",
     "text": [
      "요약 진행 중:  43%|████▎     | 1028/2388 [43:02<1:10:27,  3.11s/it]"
     ]
    },
    {
     "name": "stdout",
     "output_type": "stream",
     "text": [
      "1029/2388 행 요약 완료\n"
     ]
    },
    {
     "name": "stderr",
     "output_type": "stream",
     "text": [
      "요약 진행 중:  43%|████▎     | 1029/2388 [43:05<1:11:11,  3.14s/it]"
     ]
    },
    {
     "name": "stdout",
     "output_type": "stream",
     "text": [
      "1030/2388 행 요약 완료\n"
     ]
    },
    {
     "name": "stderr",
     "output_type": "stream",
     "text": [
      "요약 진행 중:  43%|████▎     | 1030/2388 [43:08<1:12:01,  3.18s/it]"
     ]
    },
    {
     "name": "stdout",
     "output_type": "stream",
     "text": [
      "1031/2388 행 요약 완료\n"
     ]
    },
    {
     "name": "stderr",
     "output_type": "stream",
     "text": [
      "요약 진행 중:  43%|████▎     | 1031/2388 [43:12<1:14:07,  3.28s/it]"
     ]
    },
    {
     "name": "stdout",
     "output_type": "stream",
     "text": [
      "1032/2388 행 요약 완료\n"
     ]
    },
    {
     "name": "stderr",
     "output_type": "stream",
     "text": [
      "요약 진행 중:  43%|████▎     | 1032/2388 [43:14<1:08:29,  3.03s/it]"
     ]
    },
    {
     "name": "stdout",
     "output_type": "stream",
     "text": [
      "1033/2388 행 요약 완료\n"
     ]
    },
    {
     "name": "stderr",
     "output_type": "stream",
     "text": [
      "요약 진행 중:  43%|████▎     | 1033/2388 [43:16<1:00:06,  2.66s/it]"
     ]
    },
    {
     "name": "stdout",
     "output_type": "stream",
     "text": [
      "1034/2388 행 요약 완료\n"
     ]
    },
    {
     "name": "stderr",
     "output_type": "stream",
     "text": [
      "요약 진행 중:  43%|████▎     | 1034/2388 [43:18<56:52,  2.52s/it]  "
     ]
    },
    {
     "name": "stdout",
     "output_type": "stream",
     "text": [
      "1035/2388 행 요약 완료\n"
     ]
    },
    {
     "name": "stderr",
     "output_type": "stream",
     "text": [
      "요약 진행 중:  43%|████▎     | 1035/2388 [43:20<50:22,  2.23s/it]"
     ]
    },
    {
     "name": "stdout",
     "output_type": "stream",
     "text": [
      "1036/2388 행 요약 완료\n"
     ]
    },
    {
     "name": "stderr",
     "output_type": "stream",
     "text": [
      "요약 진행 중:  43%|████▎     | 1036/2388 [43:22<52:48,  2.34s/it]"
     ]
    },
    {
     "name": "stdout",
     "output_type": "stream",
     "text": [
      "1037/2388 행 요약 완료\n"
     ]
    },
    {
     "name": "stderr",
     "output_type": "stream",
     "text": [
      "요약 진행 중:  43%|████▎     | 1037/2388 [43:24<46:20,  2.06s/it]"
     ]
    },
    {
     "name": "stdout",
     "output_type": "stream",
     "text": [
      "1038/2388 행 요약 완료\n"
     ]
    },
    {
     "name": "stderr",
     "output_type": "stream",
     "text": [
      "요약 진행 중:  43%|████▎     | 1038/2388 [43:25<44:03,  1.96s/it]"
     ]
    },
    {
     "name": "stdout",
     "output_type": "stream",
     "text": [
      "1039/2388 행 요약 완료\n"
     ]
    },
    {
     "name": "stderr",
     "output_type": "stream",
     "text": [
      "요약 진행 중:  44%|████▎     | 1039/2388 [43:27<42:54,  1.91s/it]"
     ]
    },
    {
     "name": "stdout",
     "output_type": "stream",
     "text": [
      "1040/2388 행 요약 완료\n"
     ]
    },
    {
     "name": "stderr",
     "output_type": "stream",
     "text": [
      "요약 진행 중:  44%|████▎     | 1040/2388 [43:28<38:17,  1.70s/it]"
     ]
    },
    {
     "name": "stdout",
     "output_type": "stream",
     "text": [
      "1041/2388 행 요약 완료\n"
     ]
    },
    {
     "name": "stderr",
     "output_type": "stream",
     "text": [
      "요약 진행 중:  44%|████▎     | 1041/2388 [43:33<59:09,  2.64s/it]"
     ]
    },
    {
     "name": "stdout",
     "output_type": "stream",
     "text": [
      "1042/2388 행 요약 완료\n"
     ]
    },
    {
     "name": "stderr",
     "output_type": "stream",
     "text": [
      "요약 진행 중:  44%|████▎     | 1042/2388 [43:36<1:01:22,  2.74s/it]"
     ]
    },
    {
     "name": "stdout",
     "output_type": "stream",
     "text": [
      "1043/2388 행 요약 완료\n"
     ]
    },
    {
     "name": "stderr",
     "output_type": "stream",
     "text": [
      "요약 진행 중:  44%|████▎     | 1043/2388 [43:38<53:41,  2.39s/it]  "
     ]
    },
    {
     "name": "stdout",
     "output_type": "stream",
     "text": [
      "1044/2388 행 요약 완료\n"
     ]
    },
    {
     "name": "stderr",
     "output_type": "stream",
     "text": [
      "요약 진행 중:  44%|████▎     | 1044/2388 [43:40<55:17,  2.47s/it]"
     ]
    },
    {
     "name": "stdout",
     "output_type": "stream",
     "text": [
      "1045/2388 행 요약 완료\n"
     ]
    },
    {
     "name": "stderr",
     "output_type": "stream",
     "text": [
      "요약 진행 중:  44%|████▍     | 1045/2388 [43:43<56:29,  2.52s/it]"
     ]
    },
    {
     "name": "stdout",
     "output_type": "stream",
     "text": [
      "1046/2388 행 요약 완료\n"
     ]
    },
    {
     "name": "stderr",
     "output_type": "stream",
     "text": [
      "요약 진행 중:  44%|████▍     | 1046/2388 [43:45<55:46,  2.49s/it]"
     ]
    },
    {
     "name": "stdout",
     "output_type": "stream",
     "text": [
      "1047/2388 행 요약 완료\n"
     ]
    },
    {
     "name": "stderr",
     "output_type": "stream",
     "text": [
      "요약 진행 중:  44%|████▍     | 1047/2388 [43:47<49:52,  2.23s/it]"
     ]
    },
    {
     "name": "stdout",
     "output_type": "stream",
     "text": [
      "1048/2388 행 요약 완료\n"
     ]
    },
    {
     "name": "stderr",
     "output_type": "stream",
     "text": [
      "요약 진행 중:  44%|████▍     | 1048/2388 [43:50<53:37,  2.40s/it]"
     ]
    },
    {
     "name": "stdout",
     "output_type": "stream",
     "text": [
      "1049/2388 행 요약 완료\n"
     ]
    },
    {
     "name": "stderr",
     "output_type": "stream",
     "text": [
      "요약 진행 중:  44%|████▍     | 1049/2388 [43:51<48:21,  2.17s/it]"
     ]
    },
    {
     "name": "stdout",
     "output_type": "stream",
     "text": [
      "1050/2388 행 요약 완료\n"
     ]
    },
    {
     "name": "stderr",
     "output_type": "stream",
     "text": [
      "요약 진행 중:  44%|████▍     | 1050/2388 [43:53<44:48,  2.01s/it]"
     ]
    },
    {
     "name": "stdout",
     "output_type": "stream",
     "text": [
      "1051/2388 행 요약 완료\n"
     ]
    },
    {
     "name": "stderr",
     "output_type": "stream",
     "text": [
      "요약 진행 중:  44%|████▍     | 1051/2388 [43:55<42:15,  1.90s/it]"
     ]
    },
    {
     "name": "stdout",
     "output_type": "stream",
     "text": [
      "1052/2388 행 요약 완료\n"
     ]
    },
    {
     "name": "stderr",
     "output_type": "stream",
     "text": [
      "요약 진행 중:  44%|████▍     | 1052/2388 [43:56<38:19,  1.72s/it]"
     ]
    },
    {
     "name": "stdout",
     "output_type": "stream",
     "text": [
      "1053/2388 행 요약 완료\n"
     ]
    },
    {
     "name": "stderr",
     "output_type": "stream",
     "text": [
      "요약 진행 중:  44%|████▍     | 1053/2388 [43:58<41:23,  1.86s/it]"
     ]
    },
    {
     "name": "stdout",
     "output_type": "stream",
     "text": [
      "1054/2388 행 요약 완료\n"
     ]
    },
    {
     "name": "stderr",
     "output_type": "stream",
     "text": [
      "요약 진행 중:  44%|████▍     | 1054/2388 [44:03<1:01:09,  2.75s/it]"
     ]
    },
    {
     "name": "stdout",
     "output_type": "stream",
     "text": [
      "1055/2388 행 요약 완료\n"
     ]
    },
    {
     "name": "stderr",
     "output_type": "stream",
     "text": [
      "요약 진행 중:  44%|████▍     | 1055/2388 [44:05<54:44,  2.46s/it]  "
     ]
    },
    {
     "name": "stdout",
     "output_type": "stream",
     "text": [
      "1056/2388 행 요약 완료\n"
     ]
    },
    {
     "name": "stderr",
     "output_type": "stream",
     "text": [
      "요약 진행 중:  44%|████▍     | 1056/2388 [44:07<51:23,  2.31s/it]"
     ]
    },
    {
     "name": "stdout",
     "output_type": "stream",
     "text": [
      "1057/2388 행 요약 완료\n"
     ]
    },
    {
     "name": "stderr",
     "output_type": "stream",
     "text": [
      "요약 진행 중:  44%|████▍     | 1057/2388 [44:09<52:20,  2.36s/it]"
     ]
    },
    {
     "name": "stdout",
     "output_type": "stream",
     "text": [
      "1058/2388 행 요약 완료\n"
     ]
    },
    {
     "name": "stderr",
     "output_type": "stream",
     "text": [
      "요약 진행 중:  44%|████▍     | 1058/2388 [44:11<46:06,  2.08s/it]"
     ]
    },
    {
     "name": "stdout",
     "output_type": "stream",
     "text": [
      "1059/2388 행 요약 완료\n"
     ]
    },
    {
     "name": "stderr",
     "output_type": "stream",
     "text": [
      "요약 진행 중:  44%|████▍     | 1059/2388 [44:12<43:17,  1.95s/it]"
     ]
    },
    {
     "name": "stdout",
     "output_type": "stream",
     "text": [
      "1060/2388 행 요약 완료\n"
     ]
    },
    {
     "name": "stderr",
     "output_type": "stream",
     "text": [
      "요약 진행 중:  44%|████▍     | 1060/2388 [44:15<46:01,  2.08s/it]"
     ]
    },
    {
     "name": "stdout",
     "output_type": "stream",
     "text": [
      "1061/2388 행 요약 완료\n"
     ]
    },
    {
     "name": "stderr",
     "output_type": "stream",
     "text": [
      "요약 진행 중:  44%|████▍     | 1061/2388 [44:16<39:42,  1.80s/it]"
     ]
    },
    {
     "name": "stdout",
     "output_type": "stream",
     "text": [
      "1062/2388 행 요약 완료\n"
     ]
    },
    {
     "name": "stderr",
     "output_type": "stream",
     "text": [
      "요약 진행 중:  44%|████▍     | 1062/2388 [44:21<1:01:38,  2.79s/it]"
     ]
    },
    {
     "name": "stdout",
     "output_type": "stream",
     "text": [
      "1063/2388 행 요약 완료\n"
     ]
    },
    {
     "name": "stderr",
     "output_type": "stream",
     "text": [
      "요약 진행 중:  45%|████▍     | 1063/2388 [44:23<53:28,  2.42s/it]  "
     ]
    },
    {
     "name": "stdout",
     "output_type": "stream",
     "text": [
      "1064/2388 행 요약 완료\n"
     ]
    },
    {
     "name": "stderr",
     "output_type": "stream",
     "text": [
      "요약 진행 중:  45%|████▍     | 1064/2388 [44:24<46:46,  2.12s/it]"
     ]
    },
    {
     "name": "stdout",
     "output_type": "stream",
     "text": [
      "1065/2388 행 요약 완료\n"
     ]
    },
    {
     "name": "stderr",
     "output_type": "stream",
     "text": [
      "요약 진행 중:  45%|████▍     | 1065/2388 [44:25<41:41,  1.89s/it]"
     ]
    },
    {
     "name": "stdout",
     "output_type": "stream",
     "text": [
      "1066/2388 행 요약 완료\n"
     ]
    },
    {
     "name": "stderr",
     "output_type": "stream",
     "text": [
      "요약 진행 중:  45%|████▍     | 1066/2388 [44:28<47:42,  2.17s/it]"
     ]
    },
    {
     "name": "stdout",
     "output_type": "stream",
     "text": [
      "1067/2388 행 요약 완료\n"
     ]
    },
    {
     "name": "stderr",
     "output_type": "stream",
     "text": [
      "요약 진행 중:  45%|████▍     | 1067/2388 [44:30<47:20,  2.15s/it]"
     ]
    },
    {
     "name": "stdout",
     "output_type": "stream",
     "text": [
      "1068/2388 행 요약 완료\n"
     ]
    },
    {
     "name": "stderr",
     "output_type": "stream",
     "text": [
      "요약 진행 중:  45%|████▍     | 1068/2388 [44:34<54:39,  2.48s/it]"
     ]
    },
    {
     "name": "stdout",
     "output_type": "stream",
     "text": [
      "1069/2388 행 요약 완료\n"
     ]
    },
    {
     "name": "stderr",
     "output_type": "stream",
     "text": [
      "요약 진행 중:  45%|████▍     | 1069/2388 [44:36<57:28,  2.61s/it]"
     ]
    },
    {
     "name": "stdout",
     "output_type": "stream",
     "text": [
      "1070/2388 행 요약 완료\n"
     ]
    },
    {
     "name": "stderr",
     "output_type": "stream",
     "text": [
      "요약 진행 중:  45%|████▍     | 1070/2388 [44:40<1:04:15,  2.93s/it]"
     ]
    },
    {
     "name": "stdout",
     "output_type": "stream",
     "text": [
      "1071/2388 행 요약 완료\n"
     ]
    },
    {
     "name": "stderr",
     "output_type": "stream",
     "text": [
      "요약 진행 중:  45%|████▍     | 1071/2388 [44:41<52:18,  2.38s/it]  "
     ]
    },
    {
     "name": "stdout",
     "output_type": "stream",
     "text": [
      "1072/2388 행 요약 완료\n"
     ]
    },
    {
     "name": "stderr",
     "output_type": "stream",
     "text": [
      "요약 진행 중:  45%|████▍     | 1072/2388 [44:46<1:09:05,  3.15s/it]"
     ]
    },
    {
     "name": "stdout",
     "output_type": "stream",
     "text": [
      "1073/2388 행 요약 완료\n"
     ]
    },
    {
     "name": "stderr",
     "output_type": "stream",
     "text": [
      "요약 진행 중:  45%|████▍     | 1073/2388 [44:49<1:07:55,  3.10s/it]"
     ]
    },
    {
     "name": "stdout",
     "output_type": "stream",
     "text": [
      "1074/2388 행 요약 완료\n"
     ]
    },
    {
     "name": "stderr",
     "output_type": "stream",
     "text": [
      "요약 진행 중:  45%|████▍     | 1074/2388 [44:53<1:10:48,  3.23s/it]"
     ]
    },
    {
     "name": "stdout",
     "output_type": "stream",
     "text": [
      "1075/2388 행 요약 완료\n"
     ]
    },
    {
     "name": "stderr",
     "output_type": "stream",
     "text": [
      "요약 진행 중:  45%|████▌     | 1075/2388 [44:54<55:58,  2.56s/it]  "
     ]
    },
    {
     "name": "stdout",
     "output_type": "stream",
     "text": [
      "1076/2388 행 요약 완료\n"
     ]
    },
    {
     "name": "stderr",
     "output_type": "stream",
     "text": [
      "요약 진행 중:  45%|████▌     | 1076/2388 [44:55<50:48,  2.32s/it]"
     ]
    },
    {
     "name": "stdout",
     "output_type": "stream",
     "text": [
      "1077/2388 행 요약 완료\n"
     ]
    },
    {
     "name": "stderr",
     "output_type": "stream",
     "text": [
      "요약 진행 중:  45%|████▌     | 1077/2388 [44:58<50:25,  2.31s/it]"
     ]
    },
    {
     "name": "stdout",
     "output_type": "stream",
     "text": [
      "1078/2388 행 요약 완료\n"
     ]
    },
    {
     "name": "stderr",
     "output_type": "stream",
     "text": [
      "요약 진행 중:  45%|████▌     | 1078/2388 [45:01<54:01,  2.47s/it]"
     ]
    },
    {
     "name": "stdout",
     "output_type": "stream",
     "text": [
      "1079/2388 행 요약 완료\n"
     ]
    },
    {
     "name": "stderr",
     "output_type": "stream",
     "text": [
      "요약 진행 중:  45%|████▌     | 1079/2388 [45:05<1:06:47,  3.06s/it]"
     ]
    },
    {
     "name": "stdout",
     "output_type": "stream",
     "text": [
      "1080/2388 행 요약 완료\n"
     ]
    },
    {
     "name": "stderr",
     "output_type": "stream",
     "text": [
      "요약 진행 중:  45%|████▌     | 1080/2388 [45:07<1:01:12,  2.81s/it]"
     ]
    },
    {
     "name": "stdout",
     "output_type": "stream",
     "text": [
      "1081/2388 행 요약 완료\n"
     ]
    },
    {
     "name": "stderr",
     "output_type": "stream",
     "text": [
      "요약 진행 중:  45%|████▌     | 1081/2388 [45:11<1:07:09,  3.08s/it]"
     ]
    },
    {
     "name": "stdout",
     "output_type": "stream",
     "text": [
      "1082/2388 행 요약 완료\n"
     ]
    },
    {
     "name": "stderr",
     "output_type": "stream",
     "text": [
      "요약 진행 중:  45%|████▌     | 1082/2388 [45:15<1:12:34,  3.33s/it]"
     ]
    },
    {
     "name": "stdout",
     "output_type": "stream",
     "text": [
      "1083/2388 행 요약 완료\n"
     ]
    },
    {
     "name": "stderr",
     "output_type": "stream",
     "text": [
      "요약 진행 중:  45%|████▌     | 1083/2388 [45:17<1:04:53,  2.98s/it]"
     ]
    },
    {
     "name": "stdout",
     "output_type": "stream",
     "text": [
      "1084/2388 행 요약 완료\n"
     ]
    },
    {
     "name": "stderr",
     "output_type": "stream",
     "text": [
      "요약 진행 중:  45%|████▌     | 1084/2388 [45:21<1:12:54,  3.35s/it]"
     ]
    },
    {
     "name": "stdout",
     "output_type": "stream",
     "text": [
      "1085/2388 행 요약 완료\n"
     ]
    },
    {
     "name": "stderr",
     "output_type": "stream",
     "text": [
      "요약 진행 중:  45%|████▌     | 1085/2388 [45:22<58:43,  2.70s/it]  "
     ]
    },
    {
     "name": "stdout",
     "output_type": "stream",
     "text": [
      "1086/2388 행 요약 완료\n"
     ]
    },
    {
     "name": "stderr",
     "output_type": "stream",
     "text": [
      "요약 진행 중:  45%|████▌     | 1086/2388 [45:25<56:48,  2.62s/it]"
     ]
    },
    {
     "name": "stdout",
     "output_type": "stream",
     "text": [
      "1087/2388 행 요약 완료\n"
     ]
    },
    {
     "name": "stderr",
     "output_type": "stream",
     "text": [
      "요약 진행 중:  46%|████▌     | 1087/2388 [45:27<52:39,  2.43s/it]"
     ]
    },
    {
     "name": "stdout",
     "output_type": "stream",
     "text": [
      "1088/2388 행 요약 완료\n"
     ]
    },
    {
     "name": "stderr",
     "output_type": "stream",
     "text": [
      "요약 진행 중:  46%|████▌     | 1088/2388 [45:29<52:10,  2.41s/it]"
     ]
    },
    {
     "name": "stdout",
     "output_type": "stream",
     "text": [
      "1089/2388 행 요약 완료\n"
     ]
    },
    {
     "name": "stderr",
     "output_type": "stream",
     "text": [
      "요약 진행 중:  46%|████▌     | 1089/2388 [45:30<43:41,  2.02s/it]"
     ]
    },
    {
     "name": "stdout",
     "output_type": "stream",
     "text": [
      "1090/2388 행 요약 완료\n"
     ]
    },
    {
     "name": "stderr",
     "output_type": "stream",
     "text": [
      "요약 진행 중:  46%|████▌     | 1090/2388 [45:33<47:36,  2.20s/it]"
     ]
    },
    {
     "name": "stdout",
     "output_type": "stream",
     "text": [
      "1091/2388 행 요약 완료\n"
     ]
    },
    {
     "name": "stderr",
     "output_type": "stream",
     "text": [
      "요약 진행 중:  46%|████▌     | 1091/2388 [45:34<40:10,  1.86s/it]"
     ]
    },
    {
     "name": "stdout",
     "output_type": "stream",
     "text": [
      "1092/2388 행 요약 완료\n"
     ]
    },
    {
     "name": "stderr",
     "output_type": "stream",
     "text": [
      "요약 진행 중:  46%|████▌     | 1092/2388 [45:37<46:24,  2.15s/it]"
     ]
    },
    {
     "name": "stdout",
     "output_type": "stream",
     "text": [
      "1093/2388 행 요약 완료\n"
     ]
    },
    {
     "name": "stderr",
     "output_type": "stream",
     "text": [
      "요약 진행 중:  46%|████▌     | 1093/2388 [45:39<44:28,  2.06s/it]"
     ]
    },
    {
     "name": "stdout",
     "output_type": "stream",
     "text": [
      "1094/2388 행 요약 완료\n"
     ]
    },
    {
     "name": "stderr",
     "output_type": "stream",
     "text": [
      "요약 진행 중:  46%|████▌     | 1094/2388 [45:40<40:01,  1.86s/it]"
     ]
    },
    {
     "name": "stdout",
     "output_type": "stream",
     "text": [
      "1095/2388 행 요약 완료\n"
     ]
    },
    {
     "name": "stderr",
     "output_type": "stream",
     "text": [
      "요약 진행 중:  46%|████▌     | 1095/2388 [45:42<37:56,  1.76s/it]"
     ]
    },
    {
     "name": "stdout",
     "output_type": "stream",
     "text": [
      "1096/2388 행 요약 완료\n"
     ]
    },
    {
     "name": "stderr",
     "output_type": "stream",
     "text": [
      "요약 진행 중:  46%|████▌     | 1096/2388 [45:43<34:58,  1.62s/it]"
     ]
    },
    {
     "name": "stdout",
     "output_type": "stream",
     "text": [
      "1097/2388 행 요약 완료\n"
     ]
    },
    {
     "name": "stderr",
     "output_type": "stream",
     "text": [
      "요약 진행 중:  46%|████▌     | 1097/2388 [45:44<34:39,  1.61s/it]"
     ]
    },
    {
     "name": "stdout",
     "output_type": "stream",
     "text": [
      "1098/2388 행 요약 완료\n"
     ]
    },
    {
     "name": "stderr",
     "output_type": "stream",
     "text": [
      "요약 진행 중:  46%|████▌     | 1098/2388 [45:46<32:57,  1.53s/it]"
     ]
    },
    {
     "name": "stdout",
     "output_type": "stream",
     "text": [
      "1099/2388 행 요약 완료\n"
     ]
    },
    {
     "name": "stderr",
     "output_type": "stream",
     "text": [
      "요약 진행 중:  46%|████▌     | 1099/2388 [45:49<41:28,  1.93s/it]"
     ]
    },
    {
     "name": "stdout",
     "output_type": "stream",
     "text": [
      "1100/2388 행 요약 완료\n"
     ]
    },
    {
     "name": "stderr",
     "output_type": "stream",
     "text": [
      "요약 진행 중:  46%|████▌     | 1100/2388 [45:50<39:50,  1.86s/it]"
     ]
    },
    {
     "name": "stdout",
     "output_type": "stream",
     "text": [
      "1101/2388 행 요약 완료\n"
     ]
    },
    {
     "name": "stderr",
     "output_type": "stream",
     "text": [
      "요약 진행 중:  46%|████▌     | 1101/2388 [45:52<37:40,  1.76s/it]"
     ]
    },
    {
     "name": "stdout",
     "output_type": "stream",
     "text": [
      "1102/2388 행 요약 완료\n"
     ]
    },
    {
     "name": "stderr",
     "output_type": "stream",
     "text": [
      "요약 진행 중:  46%|████▌     | 1102/2388 [45:55<46:45,  2.18s/it]"
     ]
    },
    {
     "name": "stdout",
     "output_type": "stream",
     "text": [
      "1103/2388 행 요약 완료\n"
     ]
    },
    {
     "name": "stderr",
     "output_type": "stream",
     "text": [
      "요약 진행 중:  46%|████▌     | 1103/2388 [45:59<1:00:31,  2.83s/it]"
     ]
    },
    {
     "name": "stdout",
     "output_type": "stream",
     "text": [
      "1104/2388 행 요약 완료\n"
     ]
    },
    {
     "name": "stderr",
     "output_type": "stream",
     "text": [
      "요약 진행 중:  46%|████▌     | 1104/2388 [46:01<50:48,  2.37s/it]  "
     ]
    },
    {
     "name": "stdout",
     "output_type": "stream",
     "text": [
      "1105/2388 행 요약 완료\n"
     ]
    },
    {
     "name": "stderr",
     "output_type": "stream",
     "text": [
      "요약 진행 중:  46%|████▋     | 1105/2388 [46:04<54:08,  2.53s/it]"
     ]
    },
    {
     "name": "stdout",
     "output_type": "stream",
     "text": [
      "1106/2388 행 요약 완료\n"
     ]
    },
    {
     "name": "stderr",
     "output_type": "stream",
     "text": [
      "요약 진행 중:  46%|████▋     | 1106/2388 [46:08<1:04:29,  3.02s/it]"
     ]
    },
    {
     "name": "stdout",
     "output_type": "stream",
     "text": [
      "1107/2388 행 요약 완료\n"
     ]
    },
    {
     "name": "stderr",
     "output_type": "stream",
     "text": [
      "요약 진행 중:  46%|████▋     | 1107/2388 [46:09<54:28,  2.55s/it]  "
     ]
    },
    {
     "name": "stdout",
     "output_type": "stream",
     "text": [
      "1108/2388 행 요약 완료\n"
     ]
    },
    {
     "name": "stderr",
     "output_type": "stream",
     "text": [
      "요약 진행 중:  46%|████▋     | 1108/2388 [46:11<46:21,  2.17s/it]"
     ]
    },
    {
     "name": "stdout",
     "output_type": "stream",
     "text": [
      "1109/2388 행 요약 완료\n"
     ]
    },
    {
     "name": "stderr",
     "output_type": "stream",
     "text": [
      "요약 진행 중:  46%|████▋     | 1109/2388 [46:16<1:06:30,  3.12s/it]"
     ]
    },
    {
     "name": "stdout",
     "output_type": "stream",
     "text": [
      "1110/2388 행 요약 완료\n"
     ]
    },
    {
     "name": "stderr",
     "output_type": "stream",
     "text": [
      "요약 진행 중:  46%|████▋     | 1110/2388 [46:17<54:37,  2.56s/it]  "
     ]
    },
    {
     "name": "stdout",
     "output_type": "stream",
     "text": [
      "1111/2388 행 요약 완료\n"
     ]
    },
    {
     "name": "stderr",
     "output_type": "stream",
     "text": [
      "요약 진행 중:  47%|████▋     | 1111/2388 [46:20<56:59,  2.68s/it]"
     ]
    },
    {
     "name": "stdout",
     "output_type": "stream",
     "text": [
      "1112/2388 행 요약 완료\n"
     ]
    },
    {
     "name": "stderr",
     "output_type": "stream",
     "text": [
      "요약 진행 중:  47%|████▋     | 1112/2388 [46:22<51:41,  2.43s/it]"
     ]
    },
    {
     "name": "stdout",
     "output_type": "stream",
     "text": [
      "1113/2388 행 요약 완료\n"
     ]
    },
    {
     "name": "stderr",
     "output_type": "stream",
     "text": [
      "요약 진행 중:  47%|████▋     | 1113/2388 [46:24<48:17,  2.27s/it]"
     ]
    },
    {
     "name": "stdout",
     "output_type": "stream",
     "text": [
      "1114/2388 행 요약 완료\n"
     ]
    },
    {
     "name": "stderr",
     "output_type": "stream",
     "text": [
      "요약 진행 중:  47%|████▋     | 1114/2388 [46:27<54:08,  2.55s/it]"
     ]
    },
    {
     "name": "stdout",
     "output_type": "stream",
     "text": [
      "1115/2388 행 요약 완료\n"
     ]
    },
    {
     "name": "stderr",
     "output_type": "stream",
     "text": [
      "요약 진행 중:  47%|████▋     | 1115/2388 [46:30<59:38,  2.81s/it]"
     ]
    },
    {
     "name": "stdout",
     "output_type": "stream",
     "text": [
      "1116/2388 행 요약 완료\n"
     ]
    },
    {
     "name": "stderr",
     "output_type": "stream",
     "text": [
      "요약 진행 중:  47%|████▋     | 1116/2388 [46:32<52:46,  2.49s/it]"
     ]
    },
    {
     "name": "stdout",
     "output_type": "stream",
     "text": [
      "1117/2388 행 요약 완료\n"
     ]
    },
    {
     "name": "stderr",
     "output_type": "stream",
     "text": [
      "요약 진행 중:  47%|████▋     | 1117/2388 [46:37<1:04:34,  3.05s/it]"
     ]
    },
    {
     "name": "stdout",
     "output_type": "stream",
     "text": [
      "1118/2388 행 요약 완료\n"
     ]
    },
    {
     "name": "stderr",
     "output_type": "stream",
     "text": [
      "요약 진행 중:  47%|████▋     | 1118/2388 [46:38<56:40,  2.68s/it]  "
     ]
    },
    {
     "name": "stdout",
     "output_type": "stream",
     "text": [
      "1119/2388 행 요약 완료\n"
     ]
    },
    {
     "name": "stderr",
     "output_type": "stream",
     "text": [
      "요약 진행 중:  47%|████▋     | 1119/2388 [46:40<48:35,  2.30s/it]"
     ]
    },
    {
     "name": "stdout",
     "output_type": "stream",
     "text": [
      "1120/2388 행 요약 완료\n"
     ]
    },
    {
     "name": "stderr",
     "output_type": "stream",
     "text": [
      "요약 진행 중:  47%|████▋     | 1120/2388 [46:43<53:17,  2.52s/it]"
     ]
    },
    {
     "name": "stdout",
     "output_type": "stream",
     "text": [
      "1121/2388 행 요약 완료\n"
     ]
    },
    {
     "name": "stderr",
     "output_type": "stream",
     "text": [
      "요약 진행 중:  47%|████▋     | 1121/2388 [46:45<48:32,  2.30s/it]"
     ]
    },
    {
     "name": "stdout",
     "output_type": "stream",
     "text": [
      "1122/2388 행 요약 완료\n"
     ]
    },
    {
     "name": "stderr",
     "output_type": "stream",
     "text": [
      "요약 진행 중:  47%|████▋     | 1122/2388 [46:46<43:46,  2.07s/it]"
     ]
    },
    {
     "name": "stdout",
     "output_type": "stream",
     "text": [
      "1123/2388 행 요약 완료\n"
     ]
    },
    {
     "name": "stderr",
     "output_type": "stream",
     "text": [
      "요약 진행 중:  47%|████▋     | 1123/2388 [46:48<41:51,  1.99s/it]"
     ]
    },
    {
     "name": "stdout",
     "output_type": "stream",
     "text": [
      "1124/2388 행 요약 완료\n"
     ]
    },
    {
     "name": "stderr",
     "output_type": "stream",
     "text": [
      "요약 진행 중:  47%|████▋     | 1124/2388 [46:49<36:19,  1.72s/it]"
     ]
    },
    {
     "name": "stdout",
     "output_type": "stream",
     "text": [
      "1125/2388 행 요약 완료\n"
     ]
    },
    {
     "name": "stderr",
     "output_type": "stream",
     "text": [
      "요약 진행 중:  47%|████▋     | 1125/2388 [46:50<33:48,  1.61s/it]"
     ]
    },
    {
     "name": "stdout",
     "output_type": "stream",
     "text": [
      "1126/2388 행 요약 완료\n"
     ]
    },
    {
     "name": "stderr",
     "output_type": "stream",
     "text": [
      "요약 진행 중:  47%|████▋     | 1126/2388 [46:52<33:50,  1.61s/it]"
     ]
    },
    {
     "name": "stdout",
     "output_type": "stream",
     "text": [
      "1127/2388 행 요약 완료\n"
     ]
    },
    {
     "name": "stderr",
     "output_type": "stream",
     "text": [
      "요약 진행 중:  47%|████▋     | 1127/2388 [46:53<33:22,  1.59s/it]"
     ]
    },
    {
     "name": "stdout",
     "output_type": "stream",
     "text": [
      "1128/2388 행 요약 완료\n"
     ]
    },
    {
     "name": "stderr",
     "output_type": "stream",
     "text": [
      "요약 진행 중:  47%|████▋     | 1128/2388 [46:55<34:03,  1.62s/it]"
     ]
    },
    {
     "name": "stdout",
     "output_type": "stream",
     "text": [
      "1129/2388 행 요약 완료\n"
     ]
    },
    {
     "name": "stderr",
     "output_type": "stream",
     "text": [
      "요약 진행 중:  47%|████▋     | 1129/2388 [46:57<35:43,  1.70s/it]"
     ]
    },
    {
     "name": "stdout",
     "output_type": "stream",
     "text": [
      "1130/2388 행 요약 완료\n"
     ]
    },
    {
     "name": "stderr",
     "output_type": "stream",
     "text": [
      "요약 진행 중:  47%|████▋     | 1130/2388 [47:00<46:10,  2.20s/it]"
     ]
    },
    {
     "name": "stdout",
     "output_type": "stream",
     "text": [
      "1131/2388 행 요약 완료\n"
     ]
    },
    {
     "name": "stderr",
     "output_type": "stream",
     "text": [
      "요약 진행 중:  47%|████▋     | 1131/2388 [47:03<48:05,  2.30s/it]"
     ]
    },
    {
     "name": "stdout",
     "output_type": "stream",
     "text": [
      "1132/2388 행 요약 완료\n"
     ]
    },
    {
     "name": "stderr",
     "output_type": "stream",
     "text": [
      "요약 진행 중:  47%|████▋     | 1132/2388 [47:05<47:11,  2.25s/it]"
     ]
    },
    {
     "name": "stdout",
     "output_type": "stream",
     "text": [
      "1133/2388 행 요약 완료\n"
     ]
    },
    {
     "name": "stderr",
     "output_type": "stream",
     "text": [
      "요약 진행 중:  47%|████▋     | 1133/2388 [47:07<43:38,  2.09s/it]"
     ]
    },
    {
     "name": "stdout",
     "output_type": "stream",
     "text": [
      "1134/2388 행 요약 완료\n"
     ]
    },
    {
     "name": "stderr",
     "output_type": "stream",
     "text": [
      "요약 진행 중:  47%|████▋     | 1134/2388 [47:09<41:10,  1.97s/it]"
     ]
    },
    {
     "name": "stdout",
     "output_type": "stream",
     "text": [
      "1135/2388 행 요약 완료\n"
     ]
    },
    {
     "name": "stderr",
     "output_type": "stream",
     "text": [
      "요약 진행 중:  48%|████▊     | 1135/2388 [47:10<39:00,  1.87s/it]"
     ]
    },
    {
     "name": "stdout",
     "output_type": "stream",
     "text": [
      "1136/2388 행 요약 완료\n"
     ]
    },
    {
     "name": "stderr",
     "output_type": "stream",
     "text": [
      "요약 진행 중:  48%|████▊     | 1136/2388 [47:14<49:34,  2.38s/it]"
     ]
    },
    {
     "name": "stdout",
     "output_type": "stream",
     "text": [
      "1137/2388 행 요약 완료\n"
     ]
    },
    {
     "name": "stderr",
     "output_type": "stream",
     "text": [
      "요약 진행 중:  48%|████▊     | 1137/2388 [47:17<56:11,  2.70s/it]"
     ]
    },
    {
     "name": "stdout",
     "output_type": "stream",
     "text": [
      "1138/2388 행 요약 완료\n"
     ]
    },
    {
     "name": "stderr",
     "output_type": "stream",
     "text": [
      "요약 진행 중:  48%|████▊     | 1138/2388 [47:19<53:36,  2.57s/it]"
     ]
    },
    {
     "name": "stdout",
     "output_type": "stream",
     "text": [
      "1139/2388 행 요약 완료\n"
     ]
    },
    {
     "name": "stderr",
     "output_type": "stream",
     "text": [
      "요약 진행 중:  48%|████▊     | 1139/2388 [47:23<57:21,  2.76s/it]"
     ]
    },
    {
     "name": "stdout",
     "output_type": "stream",
     "text": [
      "1140/2388 행 요약 완료\n"
     ]
    },
    {
     "name": "stderr",
     "output_type": "stream",
     "text": [
      "요약 진행 중:  48%|████▊     | 1140/2388 [47:24<51:20,  2.47s/it]"
     ]
    },
    {
     "name": "stdout",
     "output_type": "stream",
     "text": [
      "1141/2388 행 요약 완료\n"
     ]
    },
    {
     "name": "stderr",
     "output_type": "stream",
     "text": [
      "요약 진행 중:  48%|████▊     | 1141/2388 [47:27<52:51,  2.54s/it]"
     ]
    },
    {
     "name": "stdout",
     "output_type": "stream",
     "text": [
      "1142/2388 행 요약 완료\n"
     ]
    },
    {
     "name": "stderr",
     "output_type": "stream",
     "text": [
      "요약 진행 중:  48%|████▊     | 1142/2388 [47:30<52:48,  2.54s/it]"
     ]
    },
    {
     "name": "stdout",
     "output_type": "stream",
     "text": [
      "1143/2388 행 요약 완료\n"
     ]
    },
    {
     "name": "stderr",
     "output_type": "stream",
     "text": [
      "요약 진행 중:  48%|████▊     | 1143/2388 [47:31<47:07,  2.27s/it]"
     ]
    },
    {
     "name": "stdout",
     "output_type": "stream",
     "text": [
      "1144/2388 행 요약 완료\n"
     ]
    },
    {
     "name": "stderr",
     "output_type": "stream",
     "text": [
      "요약 진행 중:  48%|████▊     | 1144/2388 [47:34<47:11,  2.28s/it]"
     ]
    },
    {
     "name": "stdout",
     "output_type": "stream",
     "text": [
      "1145/2388 행 요약 완료\n"
     ]
    },
    {
     "name": "stderr",
     "output_type": "stream",
     "text": [
      "요약 진행 중:  48%|████▊     | 1145/2388 [47:36<46:44,  2.26s/it]"
     ]
    },
    {
     "name": "stdout",
     "output_type": "stream",
     "text": [
      "1146/2388 행 요약 완료\n"
     ]
    },
    {
     "name": "stderr",
     "output_type": "stream",
     "text": [
      "요약 진행 중:  48%|████▊     | 1146/2388 [47:38<45:14,  2.19s/it]"
     ]
    },
    {
     "name": "stdout",
     "output_type": "stream",
     "text": [
      "1147/2388 행 요약 완료\n"
     ]
    },
    {
     "name": "stderr",
     "output_type": "stream",
     "text": [
      "요약 진행 중:  48%|████▊     | 1147/2388 [47:41<49:28,  2.39s/it]"
     ]
    },
    {
     "name": "stdout",
     "output_type": "stream",
     "text": [
      "1148/2388 행 요약 완료\n"
     ]
    },
    {
     "name": "stderr",
     "output_type": "stream",
     "text": [
      "요약 진행 중:  48%|████▊     | 1148/2388 [47:45<1:04:05,  3.10s/it]"
     ]
    },
    {
     "name": "stdout",
     "output_type": "stream",
     "text": [
      "1149/2388 행 요약 완료\n"
     ]
    },
    {
     "name": "stderr",
     "output_type": "stream",
     "text": [
      "요약 진행 중:  48%|████▊     | 1149/2388 [47:48<1:00:47,  2.94s/it]"
     ]
    },
    {
     "name": "stdout",
     "output_type": "stream",
     "text": [
      "1150/2388 행 요약 완료\n"
     ]
    },
    {
     "name": "stderr",
     "output_type": "stream",
     "text": [
      "요약 진행 중:  48%|████▊     | 1150/2388 [47:51<59:32,  2.89s/it]  "
     ]
    },
    {
     "name": "stdout",
     "output_type": "stream",
     "text": [
      "1151/2388 행 요약 완료\n"
     ]
    },
    {
     "name": "stderr",
     "output_type": "stream",
     "text": [
      "요약 진행 중:  48%|████▊     | 1151/2388 [47:52<48:35,  2.36s/it]"
     ]
    },
    {
     "name": "stdout",
     "output_type": "stream",
     "text": [
      "1152/2388 행 요약 완료\n"
     ]
    },
    {
     "name": "stderr",
     "output_type": "stream",
     "text": [
      "요약 진행 중:  48%|████▊     | 1152/2388 [47:54<44:10,  2.14s/it]"
     ]
    },
    {
     "name": "stdout",
     "output_type": "stream",
     "text": [
      "1153/2388 행 요약 완료\n"
     ]
    },
    {
     "name": "stderr",
     "output_type": "stream",
     "text": [
      "요약 진행 중:  48%|████▊     | 1153/2388 [47:57<53:49,  2.62s/it]"
     ]
    },
    {
     "name": "stdout",
     "output_type": "stream",
     "text": [
      "1154/2388 행 요약 완료\n"
     ]
    },
    {
     "name": "stderr",
     "output_type": "stream",
     "text": [
      "요약 진행 중:  48%|████▊     | 1154/2388 [48:00<52:43,  2.56s/it]"
     ]
    },
    {
     "name": "stdout",
     "output_type": "stream",
     "text": [
      "1155/2388 행 요약 완료\n"
     ]
    },
    {
     "name": "stderr",
     "output_type": "stream",
     "text": [
      "요약 진행 중:  48%|████▊     | 1155/2388 [48:03<58:56,  2.87s/it]"
     ]
    },
    {
     "name": "stdout",
     "output_type": "stream",
     "text": [
      "1156/2388 행 요약 완료\n"
     ]
    },
    {
     "name": "stderr",
     "output_type": "stream",
     "text": [
      "요약 진행 중:  48%|████▊     | 1156/2388 [48:07<1:03:33,  3.10s/it]"
     ]
    },
    {
     "name": "stdout",
     "output_type": "stream",
     "text": [
      "1157/2388 행 요약 완료\n"
     ]
    },
    {
     "name": "stderr",
     "output_type": "stream",
     "text": [
      "요약 진행 중:  48%|████▊     | 1157/2388 [48:11<1:11:34,  3.49s/it]"
     ]
    },
    {
     "name": "stdout",
     "output_type": "stream",
     "text": [
      "1158/2388 행 요약 완료\n"
     ]
    },
    {
     "name": "stderr",
     "output_type": "stream",
     "text": [
      "요약 진행 중:  48%|████▊     | 1158/2388 [48:15<1:13:34,  3.59s/it]"
     ]
    },
    {
     "name": "stdout",
     "output_type": "stream",
     "text": [
      "1159/2388 행 요약 완료\n"
     ]
    },
    {
     "name": "stderr",
     "output_type": "stream",
     "text": [
      "요약 진행 중:  49%|████▊     | 1159/2388 [48:17<1:02:48,  3.07s/it]"
     ]
    },
    {
     "name": "stdout",
     "output_type": "stream",
     "text": [
      "1160/2388 행 요약 완료\n"
     ]
    },
    {
     "name": "stderr",
     "output_type": "stream",
     "text": [
      "요약 진행 중:  49%|████▊     | 1160/2388 [48:21<1:10:13,  3.43s/it]"
     ]
    },
    {
     "name": "stdout",
     "output_type": "stream",
     "text": [
      "1161/2388 행 요약 완료\n"
     ]
    },
    {
     "name": "stderr",
     "output_type": "stream",
     "text": [
      "요약 진행 중:  49%|████▊     | 1161/2388 [48:24<1:04:01,  3.13s/it]"
     ]
    },
    {
     "name": "stdout",
     "output_type": "stream",
     "text": [
      "1162/2388 행 요약 완료\n"
     ]
    },
    {
     "name": "stderr",
     "output_type": "stream",
     "text": [
      "요약 진행 중:  49%|████▊     | 1162/2388 [48:26<1:00:52,  2.98s/it]"
     ]
    },
    {
     "name": "stdout",
     "output_type": "stream",
     "text": [
      "1163/2388 행 요약 완료\n"
     ]
    },
    {
     "name": "stderr",
     "output_type": "stream",
     "text": [
      "요약 진행 중:  49%|████▊     | 1163/2388 [48:28<51:56,  2.54s/it]  "
     ]
    },
    {
     "name": "stdout",
     "output_type": "stream",
     "text": [
      "1164/2388 행 요약 완료\n"
     ]
    },
    {
     "name": "stderr",
     "output_type": "stream",
     "text": [
      "요약 진행 중:  49%|████▊     | 1164/2388 [48:29<45:27,  2.23s/it]"
     ]
    },
    {
     "name": "stdout",
     "output_type": "stream",
     "text": [
      "1165/2388 행 요약 완료\n"
     ]
    },
    {
     "name": "stderr",
     "output_type": "stream",
     "text": [
      "요약 진행 중:  49%|████▉     | 1165/2388 [48:32<48:16,  2.37s/it]"
     ]
    },
    {
     "name": "stdout",
     "output_type": "stream",
     "text": [
      "1166/2388 행 요약 완료\n"
     ]
    },
    {
     "name": "stderr",
     "output_type": "stream",
     "text": [
      "요약 진행 중:  49%|████▉     | 1166/2388 [48:34<45:30,  2.23s/it]"
     ]
    },
    {
     "name": "stdout",
     "output_type": "stream",
     "text": [
      "1167/2388 행 요약 완료\n"
     ]
    },
    {
     "name": "stderr",
     "output_type": "stream",
     "text": [
      "요약 진행 중:  49%|████▉     | 1167/2388 [48:35<39:39,  1.95s/it]"
     ]
    },
    {
     "name": "stdout",
     "output_type": "stream",
     "text": [
      "1168/2388 행 요약 완료\n"
     ]
    },
    {
     "name": "stderr",
     "output_type": "stream",
     "text": [
      "요약 진행 중:  49%|████▉     | 1168/2388 [48:37<37:11,  1.83s/it]"
     ]
    },
    {
     "name": "stdout",
     "output_type": "stream",
     "text": [
      "1169/2388 행 요약 완료\n"
     ]
    },
    {
     "name": "stderr",
     "output_type": "stream",
     "text": [
      "요약 진행 중:  49%|████▉     | 1169/2388 [48:41<50:32,  2.49s/it]"
     ]
    },
    {
     "name": "stdout",
     "output_type": "stream",
     "text": [
      "1170/2388 행 요약 완료\n"
     ]
    },
    {
     "name": "stderr",
     "output_type": "stream",
     "text": [
      "요약 진행 중:  49%|████▉     | 1170/2388 [48:45<1:02:43,  3.09s/it]"
     ]
    },
    {
     "name": "stdout",
     "output_type": "stream",
     "text": [
      "1171/2388 행 요약 완료\n"
     ]
    },
    {
     "name": "stderr",
     "output_type": "stream",
     "text": [
      "요약 진행 중:  49%|████▉     | 1171/2388 [48:48<1:01:54,  3.05s/it]"
     ]
    },
    {
     "name": "stdout",
     "output_type": "stream",
     "text": [
      "1172/2388 행 요약 완료\n"
     ]
    },
    {
     "name": "stderr",
     "output_type": "stream",
     "text": [
      "요약 진행 중:  49%|████▉     | 1172/2388 [48:52<1:08:24,  3.38s/it]"
     ]
    },
    {
     "name": "stdout",
     "output_type": "stream",
     "text": [
      "1173/2388 행 요약 완료\n"
     ]
    },
    {
     "name": "stderr",
     "output_type": "stream",
     "text": [
      "요약 진행 중:  49%|████▉     | 1173/2388 [48:55<1:05:02,  3.21s/it]"
     ]
    },
    {
     "name": "stdout",
     "output_type": "stream",
     "text": [
      "1174/2388 행 요약 완료\n"
     ]
    },
    {
     "name": "stderr",
     "output_type": "stream",
     "text": [
      "요약 진행 중:  49%|████▉     | 1174/2388 [48:58<1:02:23,  3.08s/it]"
     ]
    },
    {
     "name": "stdout",
     "output_type": "stream",
     "text": [
      "1175/2388 행 요약 완료\n"
     ]
    },
    {
     "name": "stderr",
     "output_type": "stream",
     "text": [
      "요약 진행 중:  49%|████▉     | 1175/2388 [48:59<52:20,  2.59s/it]  "
     ]
    },
    {
     "name": "stdout",
     "output_type": "stream",
     "text": [
      "1176/2388 행 요약 완료\n"
     ]
    },
    {
     "name": "stderr",
     "output_type": "stream",
     "text": [
      "요약 진행 중:  49%|████▉     | 1176/2388 [49:01<44:22,  2.20s/it]"
     ]
    },
    {
     "name": "stdout",
     "output_type": "stream",
     "text": [
      "1177/2388 행 요약 완료\n"
     ]
    },
    {
     "name": "stderr",
     "output_type": "stream",
     "text": [
      "요약 진행 중:  49%|████▉     | 1177/2388 [49:03<43:30,  2.16s/it]"
     ]
    },
    {
     "name": "stdout",
     "output_type": "stream",
     "text": [
      "1178/2388 행 요약 완료\n"
     ]
    },
    {
     "name": "stderr",
     "output_type": "stream",
     "text": [
      "요약 진행 중:  49%|████▉     | 1178/2388 [49:05<42:17,  2.10s/it]"
     ]
    },
    {
     "name": "stdout",
     "output_type": "stream",
     "text": [
      "1179/2388 행 요약 완료\n"
     ]
    },
    {
     "name": "stderr",
     "output_type": "stream",
     "text": [
      "요약 진행 중:  49%|████▉     | 1179/2388 [49:08<46:35,  2.31s/it]"
     ]
    },
    {
     "name": "stdout",
     "output_type": "stream",
     "text": [
      "1180/2388 행 요약 완료\n"
     ]
    },
    {
     "name": "stderr",
     "output_type": "stream",
     "text": [
      "요약 진행 중:  49%|████▉     | 1180/2388 [49:10<44:43,  2.22s/it]"
     ]
    },
    {
     "name": "stdout",
     "output_type": "stream",
     "text": [
      "1181/2388 행 요약 완료\n"
     ]
    },
    {
     "name": "stderr",
     "output_type": "stream",
     "text": [
      "요약 진행 중:  49%|████▉     | 1181/2388 [49:13<50:13,  2.50s/it]"
     ]
    },
    {
     "name": "stdout",
     "output_type": "stream",
     "text": [
      "1182/2388 행 요약 완료\n"
     ]
    },
    {
     "name": "stderr",
     "output_type": "stream",
     "text": [
      "요약 진행 중:  49%|████▉     | 1182/2388 [49:16<55:42,  2.77s/it]"
     ]
    },
    {
     "name": "stdout",
     "output_type": "stream",
     "text": [
      "1183/2388 행 요약 완료\n"
     ]
    },
    {
     "name": "stderr",
     "output_type": "stream",
     "text": [
      "요약 진행 중:  50%|████▉     | 1183/2388 [49:19<58:20,  2.91s/it]"
     ]
    },
    {
     "name": "stdout",
     "output_type": "stream",
     "text": [
      "1184/2388 행 요약 완료\n"
     ]
    },
    {
     "name": "stderr",
     "output_type": "stream",
     "text": [
      "요약 진행 중:  50%|████▉     | 1184/2388 [49:21<51:06,  2.55s/it]"
     ]
    },
    {
     "name": "stdout",
     "output_type": "stream",
     "text": [
      "1185/2388 행 요약 완료\n"
     ]
    },
    {
     "name": "stderr",
     "output_type": "stream",
     "text": [
      "요약 진행 중:  50%|████▉     | 1185/2388 [49:22<43:52,  2.19s/it]"
     ]
    },
    {
     "name": "stdout",
     "output_type": "stream",
     "text": [
      "1186/2388 행 요약 완료\n"
     ]
    },
    {
     "name": "stderr",
     "output_type": "stream",
     "text": [
      "요약 진행 중:  50%|████▉     | 1186/2388 [49:23<37:02,  1.85s/it]"
     ]
    },
    {
     "name": "stdout",
     "output_type": "stream",
     "text": [
      "1187/2388 행 요약 완료\n"
     ]
    },
    {
     "name": "stderr",
     "output_type": "stream",
     "text": [
      "요약 진행 중:  50%|████▉     | 1187/2388 [49:28<52:32,  2.62s/it]"
     ]
    },
    {
     "name": "stdout",
     "output_type": "stream",
     "text": [
      "1188/2388 행 요약 완료\n"
     ]
    },
    {
     "name": "stderr",
     "output_type": "stream",
     "text": [
      "요약 진행 중:  50%|████▉     | 1188/2388 [49:30<48:12,  2.41s/it]"
     ]
    },
    {
     "name": "stdout",
     "output_type": "stream",
     "text": [
      "1189/2388 행 요약 완료\n"
     ]
    },
    {
     "name": "stderr",
     "output_type": "stream",
     "text": [
      "요약 진행 중:  50%|████▉     | 1189/2388 [49:33<49:58,  2.50s/it]"
     ]
    },
    {
     "name": "stdout",
     "output_type": "stream",
     "text": [
      "1190/2388 행 요약 완료\n"
     ]
    },
    {
     "name": "stderr",
     "output_type": "stream",
     "text": [
      "요약 진행 중:  50%|████▉     | 1190/2388 [49:36<52:51,  2.65s/it]"
     ]
    },
    {
     "name": "stdout",
     "output_type": "stream",
     "text": [
      "1191/2388 행 요약 완료\n"
     ]
    },
    {
     "name": "stderr",
     "output_type": "stream",
     "text": [
      "요약 진행 중:  50%|████▉     | 1191/2388 [49:37<48:19,  2.42s/it]"
     ]
    },
    {
     "name": "stdout",
     "output_type": "stream",
     "text": [
      "1192/2388 행 요약 완료\n"
     ]
    },
    {
     "name": "stderr",
     "output_type": "stream",
     "text": [
      "요약 진행 중:  50%|████▉     | 1192/2388 [49:41<54:09,  2.72s/it]"
     ]
    },
    {
     "name": "stdout",
     "output_type": "stream",
     "text": [
      "1193/2388 행 요약 완료\n"
     ]
    },
    {
     "name": "stderr",
     "output_type": "stream",
     "text": [
      "요약 진행 중:  50%|████▉     | 1193/2388 [49:43<52:20,  2.63s/it]"
     ]
    },
    {
     "name": "stdout",
     "output_type": "stream",
     "text": [
      "1194/2388 행 요약 완료\n"
     ]
    },
    {
     "name": "stderr",
     "output_type": "stream",
     "text": [
      "요약 진행 중:  50%|█████     | 1194/2388 [49:45<46:40,  2.35s/it]"
     ]
    },
    {
     "name": "stdout",
     "output_type": "stream",
     "text": [
      "1195/2388 행 요약 완료\n"
     ]
    },
    {
     "name": "stderr",
     "output_type": "stream",
     "text": [
      "요약 진행 중:  50%|█████     | 1195/2388 [49:46<41:21,  2.08s/it]"
     ]
    },
    {
     "name": "stdout",
     "output_type": "stream",
     "text": [
      "1196/2388 행 요약 완료\n"
     ]
    },
    {
     "name": "stderr",
     "output_type": "stream",
     "text": [
      "요약 진행 중:  50%|█████     | 1196/2388 [49:50<48:27,  2.44s/it]"
     ]
    },
    {
     "name": "stdout",
     "output_type": "stream",
     "text": [
      "1197/2388 행 요약 완료\n"
     ]
    },
    {
     "name": "stderr",
     "output_type": "stream",
     "text": [
      "요약 진행 중:  50%|█████     | 1197/2388 [49:51<42:25,  2.14s/it]"
     ]
    },
    {
     "name": "stdout",
     "output_type": "stream",
     "text": [
      "1198/2388 행 요약 완료\n"
     ]
    },
    {
     "name": "stderr",
     "output_type": "stream",
     "text": [
      "요약 진행 중:  50%|█████     | 1198/2388 [49:53<40:02,  2.02s/it]"
     ]
    },
    {
     "name": "stdout",
     "output_type": "stream",
     "text": [
      "1199/2388 행 요약 완료\n"
     ]
    },
    {
     "name": "stderr",
     "output_type": "stream",
     "text": [
      "요약 진행 중:  50%|█████     | 1199/2388 [49:55<39:02,  1.97s/it]"
     ]
    },
    {
     "name": "stdout",
     "output_type": "stream",
     "text": [
      "1200/2388 행 요약 완료\n"
     ]
    },
    {
     "name": "stderr",
     "output_type": "stream",
     "text": [
      "요약 진행 중:  50%|█████     | 1200/2388 [49:56<36:53,  1.86s/it]"
     ]
    },
    {
     "name": "stdout",
     "output_type": "stream",
     "text": [
      "1201/2388 행 요약 완료\n"
     ]
    },
    {
     "name": "stderr",
     "output_type": "stream",
     "text": [
      "요약 진행 중:  50%|█████     | 1201/2388 [49:58<33:09,  1.68s/it]"
     ]
    },
    {
     "name": "stdout",
     "output_type": "stream",
     "text": [
      "1202/2388 행 요약 완료\n"
     ]
    },
    {
     "name": "stderr",
     "output_type": "stream",
     "text": [
      "요약 진행 중:  50%|█████     | 1202/2388 [49:59<33:04,  1.67s/it]"
     ]
    },
    {
     "name": "stdout",
     "output_type": "stream",
     "text": [
      "1203/2388 행 요약 완료\n"
     ]
    },
    {
     "name": "stderr",
     "output_type": "stream",
     "text": [
      "요약 진행 중:  50%|█████     | 1203/2388 [50:01<32:19,  1.64s/it]"
     ]
    },
    {
     "name": "stdout",
     "output_type": "stream",
     "text": [
      "1204/2388 행 요약 완료\n"
     ]
    },
    {
     "name": "stderr",
     "output_type": "stream",
     "text": [
      "요약 진행 중:  50%|█████     | 1204/2388 [50:03<35:58,  1.82s/it]"
     ]
    },
    {
     "name": "stdout",
     "output_type": "stream",
     "text": [
      "1205/2388 행 요약 완료\n"
     ]
    },
    {
     "name": "stderr",
     "output_type": "stream",
     "text": [
      "요약 진행 중:  50%|█████     | 1205/2388 [50:05<38:57,  1.98s/it]"
     ]
    },
    {
     "name": "stdout",
     "output_type": "stream",
     "text": [
      "1206/2388 행 요약 완료\n"
     ]
    },
    {
     "name": "stderr",
     "output_type": "stream",
     "text": [
      "요약 진행 중:  51%|█████     | 1206/2388 [50:08<43:28,  2.21s/it]"
     ]
    },
    {
     "name": "stdout",
     "output_type": "stream",
     "text": [
      "1207/2388 행 요약 완료\n"
     ]
    },
    {
     "name": "stderr",
     "output_type": "stream",
     "text": [
      "요약 진행 중:  51%|█████     | 1207/2388 [50:12<51:48,  2.63s/it]"
     ]
    },
    {
     "name": "stdout",
     "output_type": "stream",
     "text": [
      "1208/2388 행 요약 완료\n"
     ]
    },
    {
     "name": "stderr",
     "output_type": "stream",
     "text": [
      "요약 진행 중:  51%|█████     | 1208/2388 [50:14<47:06,  2.39s/it]"
     ]
    },
    {
     "name": "stdout",
     "output_type": "stream",
     "text": [
      "1209/2388 행 요약 완료\n"
     ]
    },
    {
     "name": "stderr",
     "output_type": "stream",
     "text": [
      "요약 진행 중:  51%|█████     | 1209/2388 [50:15<42:54,  2.18s/it]"
     ]
    },
    {
     "name": "stdout",
     "output_type": "stream",
     "text": [
      "1210/2388 행 요약 완료\n"
     ]
    },
    {
     "name": "stderr",
     "output_type": "stream",
     "text": [
      "요약 진행 중:  51%|█████     | 1210/2388 [50:18<48:19,  2.46s/it]"
     ]
    },
    {
     "name": "stdout",
     "output_type": "stream",
     "text": [
      "1211/2388 행 요약 완료\n"
     ]
    },
    {
     "name": "stderr",
     "output_type": "stream",
     "text": [
      "요약 진행 중:  51%|█████     | 1211/2388 [50:22<52:16,  2.66s/it]"
     ]
    },
    {
     "name": "stdout",
     "output_type": "stream",
     "text": [
      "1212/2388 행 요약 완료\n"
     ]
    },
    {
     "name": "stderr",
     "output_type": "stream",
     "text": [
      "요약 진행 중:  51%|█████     | 1212/2388 [50:24<51:33,  2.63s/it]"
     ]
    },
    {
     "name": "stdout",
     "output_type": "stream",
     "text": [
      "1213/2388 행 요약 완료\n"
     ]
    },
    {
     "name": "stderr",
     "output_type": "stream",
     "text": [
      "요약 진행 중:  51%|█████     | 1213/2388 [50:28<58:39,  3.00s/it]"
     ]
    },
    {
     "name": "stdout",
     "output_type": "stream",
     "text": [
      "1214/2388 행 요약 완료\n"
     ]
    },
    {
     "name": "stderr",
     "output_type": "stream",
     "text": [
      "요약 진행 중:  51%|█████     | 1214/2388 [50:32<1:03:15,  3.23s/it]"
     ]
    },
    {
     "name": "stdout",
     "output_type": "stream",
     "text": [
      "1215/2388 행 요약 완료\n"
     ]
    },
    {
     "name": "stderr",
     "output_type": "stream",
     "text": [
      "요약 진행 중:  51%|█████     | 1215/2388 [50:34<59:50,  3.06s/it]  "
     ]
    },
    {
     "name": "stdout",
     "output_type": "stream",
     "text": [
      "1216/2388 행 요약 완료\n"
     ]
    },
    {
     "name": "stderr",
     "output_type": "stream",
     "text": [
      "요약 진행 중:  51%|█████     | 1216/2388 [50:38<1:05:10,  3.34s/it]"
     ]
    },
    {
     "name": "stdout",
     "output_type": "stream",
     "text": [
      "1217/2388 행 요약 완료\n"
     ]
    },
    {
     "name": "stderr",
     "output_type": "stream",
     "text": [
      "요약 진행 중:  51%|█████     | 1217/2388 [50:41<1:03:04,  3.23s/it]"
     ]
    },
    {
     "name": "stdout",
     "output_type": "stream",
     "text": [
      "1218/2388 행 요약 완료\n"
     ]
    },
    {
     "name": "stderr",
     "output_type": "stream",
     "text": [
      "요약 진행 중:  51%|█████     | 1218/2388 [50:45<1:03:27,  3.25s/it]"
     ]
    },
    {
     "name": "stdout",
     "output_type": "stream",
     "text": [
      "1219/2388 행 요약 완료\n"
     ]
    },
    {
     "name": "stderr",
     "output_type": "stream",
     "text": [
      "요약 진행 중:  51%|█████     | 1219/2388 [50:48<1:05:59,  3.39s/it]"
     ]
    },
    {
     "name": "stdout",
     "output_type": "stream",
     "text": [
      "1220/2388 행 요약 완료\n"
     ]
    },
    {
     "name": "stderr",
     "output_type": "stream",
     "text": [
      "요약 진행 중:  51%|█████     | 1220/2388 [50:52<1:06:08,  3.40s/it]"
     ]
    },
    {
     "name": "stdout",
     "output_type": "stream",
     "text": [
      "1221/2388 행 요약 완료\n"
     ]
    },
    {
     "name": "stderr",
     "output_type": "stream",
     "text": [
      "요약 진행 중:  51%|█████     | 1221/2388 [50:54<56:41,  2.91s/it]  "
     ]
    },
    {
     "name": "stdout",
     "output_type": "stream",
     "text": [
      "1222/2388 행 요약 완료\n"
     ]
    },
    {
     "name": "stderr",
     "output_type": "stream",
     "text": [
      "요약 진행 중:  51%|█████     | 1222/2388 [50:56<51:46,  2.66s/it]"
     ]
    },
    {
     "name": "stdout",
     "output_type": "stream",
     "text": [
      "1223/2388 행 요약 완료\n"
     ]
    },
    {
     "name": "stderr",
     "output_type": "stream",
     "text": [
      "요약 진행 중:  51%|█████     | 1223/2388 [50:57<45:22,  2.34s/it]"
     ]
    },
    {
     "name": "stdout",
     "output_type": "stream",
     "text": [
      "1224/2388 행 요약 완료\n"
     ]
    },
    {
     "name": "stderr",
     "output_type": "stream",
     "text": [
      "요약 진행 중:  51%|█████▏    | 1224/2388 [50:59<40:09,  2.07s/it]"
     ]
    },
    {
     "name": "stdout",
     "output_type": "stream",
     "text": [
      "1225/2388 행 요약 완료\n"
     ]
    },
    {
     "name": "stderr",
     "output_type": "stream",
     "text": [
      "요약 진행 중:  51%|█████▏    | 1225/2388 [51:01<39:00,  2.01s/it]"
     ]
    },
    {
     "name": "stdout",
     "output_type": "stream",
     "text": [
      "1226/2388 행 요약 완료\n"
     ]
    },
    {
     "name": "stderr",
     "output_type": "stream",
     "text": [
      "요약 진행 중:  51%|█████▏    | 1226/2388 [51:05<51:05,  2.64s/it]"
     ]
    },
    {
     "name": "stdout",
     "output_type": "stream",
     "text": [
      "1227/2388 행 요약 완료\n"
     ]
    },
    {
     "name": "stderr",
     "output_type": "stream",
     "text": [
      "요약 진행 중:  51%|█████▏    | 1227/2388 [51:07<52:16,  2.70s/it]"
     ]
    },
    {
     "name": "stdout",
     "output_type": "stream",
     "text": [
      "1228/2388 행 요약 완료\n"
     ]
    },
    {
     "name": "stderr",
     "output_type": "stream",
     "text": [
      "요약 진행 중:  51%|█████▏    | 1228/2388 [51:10<53:28,  2.77s/it]"
     ]
    },
    {
     "name": "stdout",
     "output_type": "stream",
     "text": [
      "1229/2388 행 요약 완료\n"
     ]
    },
    {
     "name": "stderr",
     "output_type": "stream",
     "text": [
      "요약 진행 중:  51%|█████▏    | 1229/2388 [51:15<1:07:02,  3.47s/it]"
     ]
    },
    {
     "name": "stdout",
     "output_type": "stream",
     "text": [
      "1230/2388 행 요약 완료\n"
     ]
    },
    {
     "name": "stderr",
     "output_type": "stream",
     "text": [
      "요약 진행 중:  52%|█████▏    | 1230/2388 [51:17<54:37,  2.83s/it]  "
     ]
    },
    {
     "name": "stdout",
     "output_type": "stream",
     "text": [
      "1231/2388 행 요약 완료\n"
     ]
    },
    {
     "name": "stderr",
     "output_type": "stream",
     "text": [
      "요약 진행 중:  52%|█████▏    | 1231/2388 [51:19<51:58,  2.70s/it]"
     ]
    },
    {
     "name": "stdout",
     "output_type": "stream",
     "text": [
      "1232/2388 행 요약 완료\n"
     ]
    },
    {
     "name": "stderr",
     "output_type": "stream",
     "text": [
      "요약 진행 중:  52%|█████▏    | 1232/2388 [51:22<53:58,  2.80s/it]"
     ]
    },
    {
     "name": "stdout",
     "output_type": "stream",
     "text": [
      "1233/2388 행 요약 완료\n"
     ]
    },
    {
     "name": "stderr",
     "output_type": "stream",
     "text": [
      "요약 진행 중:  52%|█████▏    | 1233/2388 [51:26<1:00:37,  3.15s/it]"
     ]
    },
    {
     "name": "stdout",
     "output_type": "stream",
     "text": [
      "1234/2388 행 요약 완료\n"
     ]
    },
    {
     "name": "stderr",
     "output_type": "stream",
     "text": [
      "요약 진행 중:  52%|█████▏    | 1234/2388 [51:29<58:14,  3.03s/it]  "
     ]
    },
    {
     "name": "stdout",
     "output_type": "stream",
     "text": [
      "1235/2388 행 요약 완료\n"
     ]
    },
    {
     "name": "stderr",
     "output_type": "stream",
     "text": [
      "요약 진행 중:  52%|█████▏    | 1235/2388 [51:32<57:24,  2.99s/it]"
     ]
    },
    {
     "name": "stdout",
     "output_type": "stream",
     "text": [
      "1236/2388 행 요약 완료\n"
     ]
    },
    {
     "name": "stderr",
     "output_type": "stream",
     "text": [
      "요약 진행 중:  52%|█████▏    | 1236/2388 [51:34<51:06,  2.66s/it]"
     ]
    },
    {
     "name": "stdout",
     "output_type": "stream",
     "text": [
      "1237/2388 행 요약 완료\n"
     ]
    },
    {
     "name": "stderr",
     "output_type": "stream",
     "text": [
      "요약 진행 중:  52%|█████▏    | 1237/2388 [51:35<45:20,  2.36s/it]"
     ]
    },
    {
     "name": "stdout",
     "output_type": "stream",
     "text": [
      "1238/2388 행 요약 완료\n"
     ]
    },
    {
     "name": "stderr",
     "output_type": "stream",
     "text": [
      "요약 진행 중:  52%|█████▏    | 1238/2388 [51:38<47:21,  2.47s/it]"
     ]
    },
    {
     "name": "stdout",
     "output_type": "stream",
     "text": [
      "1239/2388 행 요약 완료\n"
     ]
    },
    {
     "name": "stderr",
     "output_type": "stream",
     "text": [
      "요약 진행 중:  52%|█████▏    | 1239/2388 [51:43<58:42,  3.07s/it]"
     ]
    },
    {
     "name": "stdout",
     "output_type": "stream",
     "text": [
      "1240/2388 행 요약 완료\n"
     ]
    },
    {
     "name": "stderr",
     "output_type": "stream",
     "text": [
      "요약 진행 중:  52%|█████▏    | 1240/2388 [51:44<50:17,  2.63s/it]"
     ]
    },
    {
     "name": "stdout",
     "output_type": "stream",
     "text": [
      "1241/2388 행 요약 완료\n"
     ]
    },
    {
     "name": "stderr",
     "output_type": "stream",
     "text": [
      "요약 진행 중:  52%|█████▏    | 1241/2388 [51:47<49:08,  2.57s/it]"
     ]
    },
    {
     "name": "stdout",
     "output_type": "stream",
     "text": [
      "1242/2388 행 요약 완료\n"
     ]
    },
    {
     "name": "stderr",
     "output_type": "stream",
     "text": [
      "요약 진행 중:  52%|█████▏    | 1242/2388 [51:52<1:05:17,  3.42s/it]"
     ]
    },
    {
     "name": "stdout",
     "output_type": "stream",
     "text": [
      "1243/2388 행 요약 완료\n"
     ]
    },
    {
     "name": "stderr",
     "output_type": "stream",
     "text": [
      "요약 진행 중:  52%|█████▏    | 1243/2388 [51:54<57:20,  3.00s/it]  "
     ]
    },
    {
     "name": "stdout",
     "output_type": "stream",
     "text": [
      "1244/2388 행 요약 완료\n"
     ]
    },
    {
     "name": "stderr",
     "output_type": "stream",
     "text": [
      "요약 진행 중:  52%|█████▏    | 1244/2388 [51:56<49:17,  2.59s/it]"
     ]
    },
    {
     "name": "stdout",
     "output_type": "stream",
     "text": [
      "1245/2388 행 요약 완료\n"
     ]
    },
    {
     "name": "stderr",
     "output_type": "stream",
     "text": [
      "요약 진행 중:  52%|█████▏    | 1245/2388 [51:58<45:40,  2.40s/it]"
     ]
    },
    {
     "name": "stdout",
     "output_type": "stream",
     "text": [
      "1246/2388 행 요약 완료\n"
     ]
    },
    {
     "name": "stderr",
     "output_type": "stream",
     "text": [
      "요약 진행 중:  52%|█████▏    | 1246/2388 [52:00<45:50,  2.41s/it]"
     ]
    },
    {
     "name": "stdout",
     "output_type": "stream",
     "text": [
      "1247/2388 행 요약 완료\n"
     ]
    },
    {
     "name": "stderr",
     "output_type": "stream",
     "text": [
      "요약 진행 중:  52%|█████▏    | 1247/2388 [52:02<42:45,  2.25s/it]"
     ]
    },
    {
     "name": "stdout",
     "output_type": "stream",
     "text": [
      "1248/2388 행 요약 완료\n"
     ]
    },
    {
     "name": "stderr",
     "output_type": "stream",
     "text": [
      "요약 진행 중:  52%|█████▏    | 1248/2388 [52:05<47:44,  2.51s/it]"
     ]
    },
    {
     "name": "stdout",
     "output_type": "stream",
     "text": [
      "1249/2388 행 요약 완료\n"
     ]
    },
    {
     "name": "stderr",
     "output_type": "stream",
     "text": [
      "요약 진행 중:  52%|█████▏    | 1249/2388 [52:09<53:55,  2.84s/it]"
     ]
    },
    {
     "name": "stdout",
     "output_type": "stream",
     "text": [
      "1250/2388 행 요약 완료\n"
     ]
    },
    {
     "name": "stderr",
     "output_type": "stream",
     "text": [
      "요약 진행 중:  52%|█████▏    | 1250/2388 [52:10<46:44,  2.46s/it]"
     ]
    },
    {
     "name": "stdout",
     "output_type": "stream",
     "text": [
      "1251/2388 행 요약 완료\n"
     ]
    },
    {
     "name": "stderr",
     "output_type": "stream",
     "text": [
      "요약 진행 중:  52%|█████▏    | 1251/2388 [52:15<57:30,  3.03s/it]"
     ]
    },
    {
     "name": "stdout",
     "output_type": "stream",
     "text": [
      "1252/2388 행 요약 완료\n"
     ]
    },
    {
     "name": "stderr",
     "output_type": "stream",
     "text": [
      "요약 진행 중:  52%|█████▏    | 1252/2388 [52:17<55:26,  2.93s/it]"
     ]
    },
    {
     "name": "stdout",
     "output_type": "stream",
     "text": [
      "1253/2388 행 요약 완료\n"
     ]
    },
    {
     "name": "stderr",
     "output_type": "stream",
     "text": [
      "요약 진행 중:  52%|█████▏    | 1253/2388 [52:20<52:15,  2.76s/it]"
     ]
    },
    {
     "name": "stdout",
     "output_type": "stream",
     "text": [
      "1254/2388 행 요약 완료\n"
     ]
    },
    {
     "name": "stderr",
     "output_type": "stream",
     "text": [
      "요약 진행 중:  53%|█████▎    | 1254/2388 [52:23<56:49,  3.01s/it]"
     ]
    },
    {
     "name": "stdout",
     "output_type": "stream",
     "text": [
      "1255/2388 행 요약 완료\n"
     ]
    },
    {
     "name": "stderr",
     "output_type": "stream",
     "text": [
      "요약 진행 중:  53%|█████▎    | 1255/2388 [52:25<50:36,  2.68s/it]"
     ]
    },
    {
     "name": "stdout",
     "output_type": "stream",
     "text": [
      "1256/2388 행 요약 완료\n"
     ]
    },
    {
     "name": "stderr",
     "output_type": "stream",
     "text": [
      "요약 진행 중:  53%|█████▎    | 1256/2388 [52:27<47:31,  2.52s/it]"
     ]
    },
    {
     "name": "stdout",
     "output_type": "stream",
     "text": [
      "1257/2388 행 요약 완료\n"
     ]
    },
    {
     "name": "stderr",
     "output_type": "stream",
     "text": [
      "요약 진행 중:  53%|█████▎    | 1257/2388 [52:28<39:41,  2.11s/it]"
     ]
    },
    {
     "name": "stdout",
     "output_type": "stream",
     "text": [
      "1258/2388 행 요약 완료\n"
     ]
    },
    {
     "name": "stderr",
     "output_type": "stream",
     "text": [
      "요약 진행 중:  53%|█████▎    | 1258/2388 [52:30<38:23,  2.04s/it]"
     ]
    },
    {
     "name": "stdout",
     "output_type": "stream",
     "text": [
      "1259/2388 행 요약 완료\n"
     ]
    },
    {
     "name": "stderr",
     "output_type": "stream",
     "text": [
      "요약 진행 중:  53%|█████▎    | 1259/2388 [52:35<52:23,  2.78s/it]"
     ]
    },
    {
     "name": "stdout",
     "output_type": "stream",
     "text": [
      "1260/2388 행 요약 완료\n"
     ]
    },
    {
     "name": "stderr",
     "output_type": "stream",
     "text": [
      "요약 진행 중:  53%|█████▎    | 1260/2388 [52:37<50:54,  2.71s/it]"
     ]
    },
    {
     "name": "stdout",
     "output_type": "stream",
     "text": [
      "1261/2388 행 요약 완료\n"
     ]
    },
    {
     "name": "stderr",
     "output_type": "stream",
     "text": [
      "요약 진행 중:  53%|█████▎    | 1261/2388 [52:39<45:03,  2.40s/it]"
     ]
    },
    {
     "name": "stdout",
     "output_type": "stream",
     "text": [
      "1262/2388 행 요약 완료\n"
     ]
    },
    {
     "name": "stderr",
     "output_type": "stream",
     "text": [
      "요약 진행 중:  53%|█████▎    | 1262/2388 [52:42<45:19,  2.41s/it]"
     ]
    },
    {
     "name": "stdout",
     "output_type": "stream",
     "text": [
      "1263/2388 행 요약 완료\n"
     ]
    },
    {
     "name": "stderr",
     "output_type": "stream",
     "text": [
      "요약 진행 중:  53%|█████▎    | 1263/2388 [52:44<45:52,  2.45s/it]"
     ]
    },
    {
     "name": "stdout",
     "output_type": "stream",
     "text": [
      "1264/2388 행 요약 완료\n"
     ]
    },
    {
     "name": "stderr",
     "output_type": "stream",
     "text": [
      "요약 진행 중:  53%|█████▎    | 1264/2388 [52:46<44:13,  2.36s/it]"
     ]
    },
    {
     "name": "stdout",
     "output_type": "stream",
     "text": [
      "1265/2388 행 요약 완료\n"
     ]
    },
    {
     "name": "stderr",
     "output_type": "stream",
     "text": [
      "요약 진행 중:  53%|█████▎    | 1265/2388 [52:48<41:38,  2.23s/it]"
     ]
    },
    {
     "name": "stdout",
     "output_type": "stream",
     "text": [
      "1266/2388 행 요약 완료\n"
     ]
    },
    {
     "name": "stderr",
     "output_type": "stream",
     "text": [
      "요약 진행 중:  53%|█████▎    | 1266/2388 [52:52<51:28,  2.75s/it]"
     ]
    },
    {
     "name": "stdout",
     "output_type": "stream",
     "text": [
      "1267/2388 행 요약 완료\n"
     ]
    },
    {
     "name": "stderr",
     "output_type": "stream",
     "text": [
      "요약 진행 중:  53%|█████▎    | 1267/2388 [52:55<52:57,  2.83s/it]"
     ]
    },
    {
     "name": "stdout",
     "output_type": "stream",
     "text": [
      "1268/2388 행 요약 완료\n"
     ]
    },
    {
     "name": "stderr",
     "output_type": "stream",
     "text": [
      "요약 진행 중:  53%|█████▎    | 1268/2388 [52:58<55:09,  2.96s/it]"
     ]
    },
    {
     "name": "stdout",
     "output_type": "stream",
     "text": [
      "1269/2388 행 요약 완료\n"
     ]
    },
    {
     "name": "stderr",
     "output_type": "stream",
     "text": [
      "요약 진행 중:  53%|█████▎    | 1269/2388 [53:01<52:06,  2.79s/it]"
     ]
    },
    {
     "name": "stdout",
     "output_type": "stream",
     "text": [
      "1270/2388 행 요약 완료\n"
     ]
    },
    {
     "name": "stderr",
     "output_type": "stream",
     "text": [
      "요약 진행 중:  53%|█████▎    | 1270/2388 [53:02<42:29,  2.28s/it]"
     ]
    },
    {
     "name": "stdout",
     "output_type": "stream",
     "text": [
      "1271/2388 행 요약 완료\n"
     ]
    },
    {
     "name": "stderr",
     "output_type": "stream",
     "text": [
      "요약 진행 중:  53%|█████▎    | 1271/2388 [53:05<47:21,  2.54s/it]"
     ]
    },
    {
     "name": "stdout",
     "output_type": "stream",
     "text": [
      "1272/2388 행 요약 완료\n"
     ]
    },
    {
     "name": "stderr",
     "output_type": "stream",
     "text": [
      "요약 진행 중:  53%|█████▎    | 1272/2388 [53:07<45:43,  2.46s/it]"
     ]
    },
    {
     "name": "stdout",
     "output_type": "stream",
     "text": [
      "1273/2388 행 요약 완료\n"
     ]
    },
    {
     "name": "stderr",
     "output_type": "stream",
     "text": [
      "요약 진행 중:  53%|█████▎    | 1273/2388 [53:09<42:05,  2.27s/it]"
     ]
    },
    {
     "name": "stdout",
     "output_type": "stream",
     "text": [
      "1274/2388 행 요약 완료\n"
     ]
    },
    {
     "name": "stderr",
     "output_type": "stream",
     "text": [
      "요약 진행 중:  53%|█████▎    | 1274/2388 [53:13<51:14,  2.76s/it]"
     ]
    },
    {
     "name": "stdout",
     "output_type": "stream",
     "text": [
      "1275/2388 행 요약 완료\n"
     ]
    },
    {
     "name": "stderr",
     "output_type": "stream",
     "text": [
      "요약 진행 중:  53%|█████▎    | 1275/2388 [53:17<57:46,  3.11s/it]"
     ]
    },
    {
     "name": "stdout",
     "output_type": "stream",
     "text": [
      "1276/2388 행 요약 완료\n"
     ]
    },
    {
     "name": "stderr",
     "output_type": "stream",
     "text": [
      "요약 진행 중:  53%|█████▎    | 1276/2388 [53:21<1:05:21,  3.53s/it]"
     ]
    },
    {
     "name": "stdout",
     "output_type": "stream",
     "text": [
      "1277/2388 행 요약 완료\n"
     ]
    },
    {
     "name": "stderr",
     "output_type": "stream",
     "text": [
      "요약 진행 중:  53%|█████▎    | 1277/2388 [53:26<1:08:42,  3.71s/it]"
     ]
    },
    {
     "name": "stdout",
     "output_type": "stream",
     "text": [
      "1278/2388 행 요약 완료\n"
     ]
    },
    {
     "name": "stderr",
     "output_type": "stream",
     "text": [
      "요약 진행 중:  54%|█████▎    | 1278/2388 [53:29<1:04:55,  3.51s/it]"
     ]
    },
    {
     "name": "stdout",
     "output_type": "stream",
     "text": [
      "1279/2388 행 요약 완료\n"
     ]
    },
    {
     "name": "stderr",
     "output_type": "stream",
     "text": [
      "요약 진행 중:  54%|█████▎    | 1279/2388 [53:34<1:17:01,  4.17s/it]"
     ]
    },
    {
     "name": "stdout",
     "output_type": "stream",
     "text": [
      "1280/2388 행 요약 완료\n"
     ]
    },
    {
     "name": "stderr",
     "output_type": "stream",
     "text": [
      "요약 진행 중:  54%|█████▎    | 1280/2388 [53:38<1:13:10,  3.96s/it]"
     ]
    },
    {
     "name": "stdout",
     "output_type": "stream",
     "text": [
      "1281/2388 행 요약 완료\n"
     ]
    },
    {
     "name": "stderr",
     "output_type": "stream",
     "text": [
      "요약 진행 중:  54%|█████▎    | 1281/2388 [53:41<1:06:36,  3.61s/it]"
     ]
    },
    {
     "name": "stdout",
     "output_type": "stream",
     "text": [
      "1282/2388 행 요약 완료\n"
     ]
    },
    {
     "name": "stderr",
     "output_type": "stream",
     "text": [
      "요약 진행 중:  54%|█████▎    | 1282/2388 [53:43<1:01:37,  3.34s/it]"
     ]
    },
    {
     "name": "stdout",
     "output_type": "stream",
     "text": [
      "1283/2388 행 요약 완료\n"
     ]
    },
    {
     "name": "stderr",
     "output_type": "stream",
     "text": [
      "요약 진행 중:  54%|█████▎    | 1283/2388 [53:45<51:17,  2.79s/it]  "
     ]
    },
    {
     "name": "stdout",
     "output_type": "stream",
     "text": [
      "1284/2388 행 요약 완료\n"
     ]
    },
    {
     "name": "stderr",
     "output_type": "stream",
     "text": [
      "요약 진행 중:  54%|█████▍    | 1284/2388 [53:46<43:57,  2.39s/it]"
     ]
    },
    {
     "name": "stdout",
     "output_type": "stream",
     "text": [
      "1285/2388 행 요약 완료\n"
     ]
    },
    {
     "name": "stderr",
     "output_type": "stream",
     "text": [
      "요약 진행 중:  54%|█████▍    | 1285/2388 [53:48<41:22,  2.25s/it]"
     ]
    },
    {
     "name": "stdout",
     "output_type": "stream",
     "text": [
      "1286/2388 행 요약 완료\n"
     ]
    },
    {
     "name": "stderr",
     "output_type": "stream",
     "text": [
      "요약 진행 중:  54%|█████▍    | 1286/2388 [53:50<38:53,  2.12s/it]"
     ]
    },
    {
     "name": "stdout",
     "output_type": "stream",
     "text": [
      "1287/2388 행 요약 완료\n"
     ]
    },
    {
     "name": "stderr",
     "output_type": "stream",
     "text": [
      "요약 진행 중:  54%|█████▍    | 1287/2388 [53:51<33:37,  1.83s/it]"
     ]
    },
    {
     "name": "stdout",
     "output_type": "stream",
     "text": [
      "1288/2388 행 요약 완료\n"
     ]
    },
    {
     "name": "stderr",
     "output_type": "stream",
     "text": [
      "요약 진행 중:  54%|█████▍    | 1288/2388 [53:53<33:00,  1.80s/it]"
     ]
    },
    {
     "name": "stdout",
     "output_type": "stream",
     "text": [
      "1289/2388 행 요약 완료\n"
     ]
    },
    {
     "name": "stderr",
     "output_type": "stream",
     "text": [
      "요약 진행 중:  54%|█████▍    | 1289/2388 [53:55<32:00,  1.75s/it]"
     ]
    },
    {
     "name": "stdout",
     "output_type": "stream",
     "text": [
      "1290/2388 행 요약 완료\n"
     ]
    },
    {
     "name": "stderr",
     "output_type": "stream",
     "text": [
      "요약 진행 중:  54%|█████▍    | 1290/2388 [53:58<40:48,  2.23s/it]"
     ]
    },
    {
     "name": "stdout",
     "output_type": "stream",
     "text": [
      "1291/2388 행 요약 완료\n"
     ]
    },
    {
     "name": "stderr",
     "output_type": "stream",
     "text": [
      "요약 진행 중:  54%|█████▍    | 1291/2388 [54:03<55:21,  3.03s/it]"
     ]
    },
    {
     "name": "stdout",
     "output_type": "stream",
     "text": [
      "1292/2388 행 요약 완료\n"
     ]
    },
    {
     "name": "stderr",
     "output_type": "stream",
     "text": [
      "요약 진행 중:  54%|█████▍    | 1292/2388 [54:04<47:32,  2.60s/it]"
     ]
    },
    {
     "name": "stdout",
     "output_type": "stream",
     "text": [
      "1293/2388 행 요약 완료\n"
     ]
    },
    {
     "name": "stderr",
     "output_type": "stream",
     "text": [
      "요약 진행 중:  54%|█████▍    | 1293/2388 [54:06<43:05,  2.36s/it]"
     ]
    },
    {
     "name": "stdout",
     "output_type": "stream",
     "text": [
      "1294/2388 행 요약 완료\n"
     ]
    },
    {
     "name": "stderr",
     "output_type": "stream",
     "text": [
      "요약 진행 중:  54%|█████▍    | 1294/2388 [54:09<46:44,  2.56s/it]"
     ]
    },
    {
     "name": "stdout",
     "output_type": "stream",
     "text": [
      "1295/2388 행 요약 완료\n"
     ]
    },
    {
     "name": "stderr",
     "output_type": "stream",
     "text": [
      "요약 진행 중:  54%|█████▍    | 1295/2388 [54:11<41:49,  2.30s/it]"
     ]
    },
    {
     "name": "stdout",
     "output_type": "stream",
     "text": [
      "1296/2388 행 요약 완료\n"
     ]
    },
    {
     "name": "stderr",
     "output_type": "stream",
     "text": [
      "요약 진행 중:  54%|█████▍    | 1296/2388 [54:12<35:57,  1.98s/it]"
     ]
    },
    {
     "name": "stdout",
     "output_type": "stream",
     "text": [
      "1297/2388 행 요약 완료\n"
     ]
    },
    {
     "name": "stderr",
     "output_type": "stream",
     "text": [
      "요약 진행 중:  54%|█████▍    | 1297/2388 [54:13<32:05,  1.77s/it]"
     ]
    },
    {
     "name": "stdout",
     "output_type": "stream",
     "text": [
      "1298/2388 행 요약 완료\n"
     ]
    },
    {
     "name": "stderr",
     "output_type": "stream",
     "text": [
      "요약 진행 중:  54%|█████▍    | 1298/2388 [54:16<36:16,  2.00s/it]"
     ]
    },
    {
     "name": "stdout",
     "output_type": "stream",
     "text": [
      "1299/2388 행 요약 완료\n"
     ]
    },
    {
     "name": "stderr",
     "output_type": "stream",
     "text": [
      "요약 진행 중:  54%|█████▍    | 1299/2388 [54:18<37:44,  2.08s/it]"
     ]
    },
    {
     "name": "stdout",
     "output_type": "stream",
     "text": [
      "1300/2388 행 요약 완료\n"
     ]
    },
    {
     "name": "stderr",
     "output_type": "stream",
     "text": [
      "요약 진행 중:  54%|█████▍    | 1300/2388 [54:20<34:31,  1.90s/it]"
     ]
    },
    {
     "name": "stdout",
     "output_type": "stream",
     "text": [
      "1301/2388 행 요약 완료\n"
     ]
    },
    {
     "name": "stderr",
     "output_type": "stream",
     "text": [
      "요약 진행 중:  54%|█████▍    | 1301/2388 [54:22<38:26,  2.12s/it]"
     ]
    },
    {
     "name": "stdout",
     "output_type": "stream",
     "text": [
      "1302/2388 행 요약 완료\n"
     ]
    },
    {
     "name": "stderr",
     "output_type": "stream",
     "text": [
      "요약 진행 중:  55%|█████▍    | 1302/2388 [54:24<34:35,  1.91s/it]"
     ]
    },
    {
     "name": "stdout",
     "output_type": "stream",
     "text": [
      "1303/2388 행 요약 완료\n"
     ]
    },
    {
     "name": "stderr",
     "output_type": "stream",
     "text": [
      "요약 진행 중:  55%|█████▍    | 1303/2388 [54:25<33:11,  1.84s/it]"
     ]
    },
    {
     "name": "stdout",
     "output_type": "stream",
     "text": [
      "1304/2388 행 요약 완료\n"
     ]
    },
    {
     "name": "stderr",
     "output_type": "stream",
     "text": [
      "요약 진행 중:  55%|█████▍    | 1304/2388 [54:28<39:37,  2.19s/it]"
     ]
    },
    {
     "name": "stdout",
     "output_type": "stream",
     "text": [
      "1305/2388 행 요약 완료\n"
     ]
    },
    {
     "name": "stderr",
     "output_type": "stream",
     "text": [
      "요약 진행 중:  55%|█████▍    | 1305/2388 [54:32<44:29,  2.47s/it]"
     ]
    },
    {
     "name": "stdout",
     "output_type": "stream",
     "text": [
      "1306/2388 행 요약 완료\n"
     ]
    },
    {
     "name": "stderr",
     "output_type": "stream",
     "text": [
      "요약 진행 중:  55%|█████▍    | 1306/2388 [54:34<42:16,  2.34s/it]"
     ]
    },
    {
     "name": "stdout",
     "output_type": "stream",
     "text": [
      "1307/2388 행 요약 완료\n"
     ]
    },
    {
     "name": "stderr",
     "output_type": "stream",
     "text": [
      "요약 진행 중:  55%|█████▍    | 1307/2388 [54:35<39:17,  2.18s/it]"
     ]
    },
    {
     "name": "stdout",
     "output_type": "stream",
     "text": [
      "1308/2388 행 요약 완료\n"
     ]
    },
    {
     "name": "stderr",
     "output_type": "stream",
     "text": [
      "요약 진행 중:  55%|█████▍    | 1308/2388 [54:37<34:07,  1.90s/it]"
     ]
    },
    {
     "name": "stdout",
     "output_type": "stream",
     "text": [
      "1309/2388 행 요약 완료\n"
     ]
    },
    {
     "name": "stderr",
     "output_type": "stream",
     "text": [
      "요약 진행 중:  55%|█████▍    | 1309/2388 [54:41<45:01,  2.50s/it]"
     ]
    },
    {
     "name": "stdout",
     "output_type": "stream",
     "text": [
      "1310/2388 행 요약 완료\n"
     ]
    },
    {
     "name": "stderr",
     "output_type": "stream",
     "text": [
      "요약 진행 중:  55%|█████▍    | 1310/2388 [54:42<38:14,  2.13s/it]"
     ]
    },
    {
     "name": "stdout",
     "output_type": "stream",
     "text": [
      "1311/2388 행 요약 완료\n"
     ]
    },
    {
     "name": "stderr",
     "output_type": "stream",
     "text": [
      "요약 진행 중:  55%|█████▍    | 1311/2388 [54:44<39:00,  2.17s/it]"
     ]
    },
    {
     "name": "stdout",
     "output_type": "stream",
     "text": [
      "1312/2388 행 요약 완료\n"
     ]
    },
    {
     "name": "stderr",
     "output_type": "stream",
     "text": [
      "요약 진행 중:  55%|█████▍    | 1312/2388 [54:46<38:55,  2.17s/it]"
     ]
    },
    {
     "name": "stdout",
     "output_type": "stream",
     "text": [
      "1313/2388 행 요약 완료\n"
     ]
    },
    {
     "name": "stderr",
     "output_type": "stream",
     "text": [
      "요약 진행 중:  55%|█████▍    | 1313/2388 [54:48<39:07,  2.18s/it]"
     ]
    },
    {
     "name": "stdout",
     "output_type": "stream",
     "text": [
      "1314/2388 행 요약 완료\n"
     ]
    },
    {
     "name": "stderr",
     "output_type": "stream",
     "text": [
      "요약 진행 중:  55%|█████▌    | 1314/2388 [54:52<47:50,  2.67s/it]"
     ]
    },
    {
     "name": "stdout",
     "output_type": "stream",
     "text": [
      "1315/2388 행 요약 완료\n"
     ]
    },
    {
     "name": "stderr",
     "output_type": "stream",
     "text": [
      "요약 진행 중:  55%|█████▌    | 1315/2388 [54:55<46:58,  2.63s/it]"
     ]
    },
    {
     "name": "stdout",
     "output_type": "stream",
     "text": [
      "1316/2388 행 요약 완료\n"
     ]
    },
    {
     "name": "stderr",
     "output_type": "stream",
     "text": [
      "요약 진행 중:  55%|█████▌    | 1316/2388 [54:58<49:20,  2.76s/it]"
     ]
    },
    {
     "name": "stdout",
     "output_type": "stream",
     "text": [
      "1317/2388 행 요약 완료\n"
     ]
    },
    {
     "name": "stderr",
     "output_type": "stream",
     "text": [
      "요약 진행 중:  55%|█████▌    | 1317/2388 [55:02<56:34,  3.17s/it]"
     ]
    },
    {
     "name": "stdout",
     "output_type": "stream",
     "text": [
      "1318/2388 행 요약 완료\n"
     ]
    },
    {
     "name": "stderr",
     "output_type": "stream",
     "text": [
      "요약 진행 중:  55%|█████▌    | 1318/2388 [55:04<47:57,  2.69s/it]"
     ]
    },
    {
     "name": "stdout",
     "output_type": "stream",
     "text": [
      "1319/2388 행 요약 완료\n"
     ]
    },
    {
     "name": "stderr",
     "output_type": "stream",
     "text": [
      "요약 진행 중:  55%|█████▌    | 1319/2388 [55:06<48:24,  2.72s/it]"
     ]
    },
    {
     "name": "stdout",
     "output_type": "stream",
     "text": [
      "1320/2388 행 요약 완료\n"
     ]
    },
    {
     "name": "stderr",
     "output_type": "stream",
     "text": [
      "요약 진행 중:  55%|█████▌    | 1320/2388 [55:10<51:05,  2.87s/it]"
     ]
    },
    {
     "name": "stdout",
     "output_type": "stream",
     "text": [
      "1321/2388 행 요약 완료\n"
     ]
    },
    {
     "name": "stderr",
     "output_type": "stream",
     "text": [
      "요약 진행 중:  55%|█████▌    | 1321/2388 [55:12<50:57,  2.87s/it]"
     ]
    },
    {
     "name": "stdout",
     "output_type": "stream",
     "text": [
      "1322/2388 행 요약 완료\n"
     ]
    },
    {
     "name": "stderr",
     "output_type": "stream",
     "text": [
      "요약 진행 중:  55%|█████▌    | 1322/2388 [55:15<48:59,  2.76s/it]"
     ]
    },
    {
     "name": "stdout",
     "output_type": "stream",
     "text": [
      "1323/2388 행 요약 완료\n"
     ]
    },
    {
     "name": "stderr",
     "output_type": "stream",
     "text": [
      "요약 진행 중:  55%|█████▌    | 1323/2388 [55:17<45:49,  2.58s/it]"
     ]
    },
    {
     "name": "stdout",
     "output_type": "stream",
     "text": [
      "1324/2388 행 요약 완료\n"
     ]
    },
    {
     "name": "stderr",
     "output_type": "stream",
     "text": [
      "요약 진행 중:  55%|█████▌    | 1324/2388 [55:19<40:28,  2.28s/it]"
     ]
    },
    {
     "name": "stdout",
     "output_type": "stream",
     "text": [
      "1325/2388 행 요약 완료\n"
     ]
    },
    {
     "name": "stderr",
     "output_type": "stream",
     "text": [
      "요약 진행 중:  55%|█████▌    | 1325/2388 [55:21<38:57,  2.20s/it]"
     ]
    },
    {
     "name": "stdout",
     "output_type": "stream",
     "text": [
      "1326/2388 행 요약 완료\n"
     ]
    },
    {
     "name": "stderr",
     "output_type": "stream",
     "text": [
      "요약 진행 중:  56%|█████▌    | 1326/2388 [55:22<34:22,  1.94s/it]"
     ]
    },
    {
     "name": "stdout",
     "output_type": "stream",
     "text": [
      "1327/2388 행 요약 완료\n"
     ]
    },
    {
     "name": "stderr",
     "output_type": "stream",
     "text": [
      "요약 진행 중:  56%|█████▌    | 1327/2388 [55:25<42:19,  2.39s/it]"
     ]
    },
    {
     "name": "stdout",
     "output_type": "stream",
     "text": [
      "1328/2388 행 요약 완료\n"
     ]
    },
    {
     "name": "stderr",
     "output_type": "stream",
     "text": [
      "요약 진행 중:  56%|█████▌    | 1328/2388 [55:28<41:54,  2.37s/it]"
     ]
    },
    {
     "name": "stdout",
     "output_type": "stream",
     "text": [
      "1329/2388 행 요약 완료\n"
     ]
    },
    {
     "name": "stderr",
     "output_type": "stream",
     "text": [
      "요약 진행 중:  56%|█████▌    | 1329/2388 [55:31<44:49,  2.54s/it]"
     ]
    },
    {
     "name": "stdout",
     "output_type": "stream",
     "text": [
      "1330/2388 행 요약 완료\n"
     ]
    },
    {
     "name": "stderr",
     "output_type": "stream",
     "text": [
      "요약 진행 중:  56%|█████▌    | 1330/2388 [55:32<40:15,  2.28s/it]"
     ]
    },
    {
     "name": "stdout",
     "output_type": "stream",
     "text": [
      "1331/2388 행 요약 완료\n"
     ]
    },
    {
     "name": "stderr",
     "output_type": "stream",
     "text": [
      "요약 진행 중:  56%|█████▌    | 1331/2388 [55:34<37:08,  2.11s/it]"
     ]
    },
    {
     "name": "stdout",
     "output_type": "stream",
     "text": [
      "1332/2388 행 요약 완료\n"
     ]
    },
    {
     "name": "stderr",
     "output_type": "stream",
     "text": [
      "요약 진행 중:  56%|█████▌    | 1332/2388 [55:37<43:10,  2.45s/it]"
     ]
    },
    {
     "name": "stdout",
     "output_type": "stream",
     "text": [
      "1333/2388 행 요약 완료\n"
     ]
    },
    {
     "name": "stderr",
     "output_type": "stream",
     "text": [
      "요약 진행 중:  56%|█████▌    | 1333/2388 [55:40<45:10,  2.57s/it]"
     ]
    },
    {
     "name": "stdout",
     "output_type": "stream",
     "text": [
      "1334/2388 행 요약 완료\n"
     ]
    },
    {
     "name": "stderr",
     "output_type": "stream",
     "text": [
      "요약 진행 중:  56%|█████▌    | 1334/2388 [55:41<38:20,  2.18s/it]"
     ]
    },
    {
     "name": "stdout",
     "output_type": "stream",
     "text": [
      "1335/2388 행 요약 완료\n"
     ]
    },
    {
     "name": "stderr",
     "output_type": "stream",
     "text": [
      "요약 진행 중:  56%|█████▌    | 1335/2388 [55:44<39:09,  2.23s/it]"
     ]
    },
    {
     "name": "stdout",
     "output_type": "stream",
     "text": [
      "1336/2388 행 요약 완료\n"
     ]
    },
    {
     "name": "stderr",
     "output_type": "stream",
     "text": [
      "요약 진행 중:  56%|█████▌    | 1336/2388 [55:45<35:28,  2.02s/it]"
     ]
    },
    {
     "name": "stdout",
     "output_type": "stream",
     "text": [
      "1337/2388 행 요약 완료\n"
     ]
    },
    {
     "name": "stderr",
     "output_type": "stream",
     "text": [
      "요약 진행 중:  56%|█████▌    | 1337/2388 [55:48<37:38,  2.15s/it]"
     ]
    },
    {
     "name": "stdout",
     "output_type": "stream",
     "text": [
      "1338/2388 행 요약 완료\n"
     ]
    },
    {
     "name": "stderr",
     "output_type": "stream",
     "text": [
      "요약 진행 중:  56%|█████▌    | 1338/2388 [55:49<32:37,  1.86s/it]"
     ]
    },
    {
     "name": "stdout",
     "output_type": "stream",
     "text": [
      "1339/2388 행 요약 완료\n"
     ]
    },
    {
     "name": "stderr",
     "output_type": "stream",
     "text": [
      "요약 진행 중:  56%|█████▌    | 1339/2388 [55:53<45:19,  2.59s/it]"
     ]
    },
    {
     "name": "stdout",
     "output_type": "stream",
     "text": [
      "1340/2388 행 요약 완료\n"
     ]
    },
    {
     "name": "stderr",
     "output_type": "stream",
     "text": [
      "요약 진행 중:  56%|█████▌    | 1340/2388 [55:57<49:43,  2.85s/it]"
     ]
    },
    {
     "name": "stdout",
     "output_type": "stream",
     "text": [
      "1341/2388 행 요약 완료\n"
     ]
    },
    {
     "name": "stderr",
     "output_type": "stream",
     "text": [
      "요약 진행 중:  56%|█████▌    | 1341/2388 [55:59<45:20,  2.60s/it]"
     ]
    },
    {
     "name": "stdout",
     "output_type": "stream",
     "text": [
      "1342/2388 행 요약 완료\n"
     ]
    },
    {
     "name": "stderr",
     "output_type": "stream",
     "text": [
      "요약 진행 중:  56%|█████▌    | 1342/2388 [56:03<55:04,  3.16s/it]"
     ]
    },
    {
     "name": "stdout",
     "output_type": "stream",
     "text": [
      "1343/2388 행 요약 완료\n"
     ]
    },
    {
     "name": "stderr",
     "output_type": "stream",
     "text": [
      "요약 진행 중:  56%|█████▌    | 1343/2388 [56:04<44:48,  2.57s/it]"
     ]
    },
    {
     "name": "stdout",
     "output_type": "stream",
     "text": [
      "1344/2388 행 요약 완료\n"
     ]
    },
    {
     "name": "stderr",
     "output_type": "stream",
     "text": [
      "요약 진행 중:  56%|█████▋    | 1344/2388 [56:06<42:02,  2.42s/it]"
     ]
    },
    {
     "name": "stdout",
     "output_type": "stream",
     "text": [
      "1345/2388 행 요약 완료\n"
     ]
    },
    {
     "name": "stderr",
     "output_type": "stream",
     "text": [
      "요약 진행 중:  56%|█████▋    | 1345/2388 [56:08<38:42,  2.23s/it]"
     ]
    },
    {
     "name": "stdout",
     "output_type": "stream",
     "text": [
      "1346/2388 행 요약 완료\n"
     ]
    },
    {
     "name": "stderr",
     "output_type": "stream",
     "text": [
      "요약 진행 중:  56%|█████▋    | 1346/2388 [56:13<49:54,  2.87s/it]"
     ]
    },
    {
     "name": "stdout",
     "output_type": "stream",
     "text": [
      "1347/2388 행 요약 완료\n"
     ]
    },
    {
     "name": "stderr",
     "output_type": "stream",
     "text": [
      "요약 진행 중:  56%|█████▋    | 1347/2388 [56:16<51:04,  2.94s/it]"
     ]
    },
    {
     "name": "stdout",
     "output_type": "stream",
     "text": [
      "1348/2388 행 요약 완료\n"
     ]
    },
    {
     "name": "stderr",
     "output_type": "stream",
     "text": [
      "요약 진행 중:  56%|█████▋    | 1348/2388 [56:21<1:02:10,  3.59s/it]"
     ]
    },
    {
     "name": "stdout",
     "output_type": "stream",
     "text": [
      "1349/2388 행 요약 완료\n"
     ]
    },
    {
     "name": "stderr",
     "output_type": "stream",
     "text": [
      "요약 진행 중:  56%|█████▋    | 1349/2388 [56:25<1:03:00,  3.64s/it]"
     ]
    },
    {
     "name": "stdout",
     "output_type": "stream",
     "text": [
      "1350/2388 행 요약 완료\n"
     ]
    },
    {
     "name": "stderr",
     "output_type": "stream",
     "text": [
      "요약 진행 중:  57%|█████▋    | 1350/2388 [56:27<54:25,  3.15s/it]  "
     ]
    },
    {
     "name": "stdout",
     "output_type": "stream",
     "text": [
      "1351/2388 행 요약 완료\n"
     ]
    },
    {
     "name": "stderr",
     "output_type": "stream",
     "text": [
      "요약 진행 중:  57%|█████▋    | 1351/2388 [56:28<45:47,  2.65s/it]"
     ]
    },
    {
     "name": "stdout",
     "output_type": "stream",
     "text": [
      "1352/2388 행 요약 완료\n"
     ]
    },
    {
     "name": "stderr",
     "output_type": "stream",
     "text": [
      "요약 진행 중:  57%|█████▋    | 1352/2388 [56:30<43:53,  2.54s/it]"
     ]
    },
    {
     "name": "stdout",
     "output_type": "stream",
     "text": [
      "1353/2388 행 요약 완료\n"
     ]
    },
    {
     "name": "stderr",
     "output_type": "stream",
     "text": [
      "요약 진행 중:  57%|█████▋    | 1353/2388 [56:34<47:48,  2.77s/it]"
     ]
    },
    {
     "name": "stdout",
     "output_type": "stream",
     "text": [
      "1354/2388 행 요약 완료\n"
     ]
    },
    {
     "name": "stderr",
     "output_type": "stream",
     "text": [
      "요약 진행 중:  57%|█████▋    | 1354/2388 [56:36<44:44,  2.60s/it]"
     ]
    },
    {
     "name": "stdout",
     "output_type": "stream",
     "text": [
      "1355/2388 행 요약 완료\n"
     ]
    },
    {
     "name": "stderr",
     "output_type": "stream",
     "text": [
      "요약 진행 중:  57%|█████▋    | 1355/2388 [56:37<38:44,  2.25s/it]"
     ]
    },
    {
     "name": "stdout",
     "output_type": "stream",
     "text": [
      "1356/2388 행 요약 완료\n"
     ]
    },
    {
     "name": "stderr",
     "output_type": "stream",
     "text": [
      "요약 진행 중:  57%|█████▋    | 1356/2388 [56:39<37:04,  2.16s/it]"
     ]
    },
    {
     "name": "stdout",
     "output_type": "stream",
     "text": [
      "1357/2388 행 요약 완료\n"
     ]
    },
    {
     "name": "stderr",
     "output_type": "stream",
     "text": [
      "요약 진행 중:  57%|█████▋    | 1357/2388 [56:42<39:05,  2.27s/it]"
     ]
    },
    {
     "name": "stdout",
     "output_type": "stream",
     "text": [
      "1358/2388 행 요약 완료\n"
     ]
    },
    {
     "name": "stderr",
     "output_type": "stream",
     "text": [
      "요약 진행 중:  57%|█████▋    | 1358/2388 [56:45<44:58,  2.62s/it]"
     ]
    },
    {
     "name": "stdout",
     "output_type": "stream",
     "text": [
      "1359/2388 행 요약 완료\n"
     ]
    },
    {
     "name": "stderr",
     "output_type": "stream",
     "text": [
      "요약 진행 중:  57%|█████▋    | 1359/2388 [56:47<38:08,  2.22s/it]"
     ]
    },
    {
     "name": "stdout",
     "output_type": "stream",
     "text": [
      "1360/2388 행 요약 완료\n"
     ]
    },
    {
     "name": "stderr",
     "output_type": "stream",
     "text": [
      "요약 진행 중:  57%|█████▋    | 1360/2388 [56:48<35:12,  2.06s/it]"
     ]
    },
    {
     "name": "stdout",
     "output_type": "stream",
     "text": [
      "1361/2388 행 요약 완료\n"
     ]
    },
    {
     "name": "stderr",
     "output_type": "stream",
     "text": [
      "요약 진행 중:  57%|█████▋    | 1361/2388 [56:52<45:35,  2.66s/it]"
     ]
    },
    {
     "name": "stdout",
     "output_type": "stream",
     "text": [
      "1362/2388 행 요약 완료\n"
     ]
    },
    {
     "name": "stderr",
     "output_type": "stream",
     "text": [
      "요약 진행 중:  57%|█████▋    | 1362/2388 [56:54<39:10,  2.29s/it]"
     ]
    },
    {
     "name": "stdout",
     "output_type": "stream",
     "text": [
      "1363/2388 행 요약 완료\n"
     ]
    },
    {
     "name": "stderr",
     "output_type": "stream",
     "text": [
      "요약 진행 중:  57%|█████▋    | 1363/2388 [56:55<36:28,  2.14s/it]"
     ]
    },
    {
     "name": "stdout",
     "output_type": "stream",
     "text": [
      "1364/2388 행 요약 완료\n"
     ]
    },
    {
     "name": "stderr",
     "output_type": "stream",
     "text": [
      "요약 진행 중:  57%|█████▋    | 1364/2388 [56:58<37:58,  2.23s/it]"
     ]
    },
    {
     "name": "stdout",
     "output_type": "stream",
     "text": [
      "1365/2388 행 요약 완료\n"
     ]
    },
    {
     "name": "stderr",
     "output_type": "stream",
     "text": [
      "요약 진행 중:  57%|█████▋    | 1365/2388 [57:00<38:24,  2.25s/it]"
     ]
    },
    {
     "name": "stdout",
     "output_type": "stream",
     "text": [
      "1366/2388 행 요약 완료\n"
     ]
    },
    {
     "name": "stderr",
     "output_type": "stream",
     "text": [
      "요약 진행 중:  57%|█████▋    | 1366/2388 [57:02<37:23,  2.19s/it]"
     ]
    },
    {
     "name": "stdout",
     "output_type": "stream",
     "text": [
      "1367/2388 행 요약 완료\n"
     ]
    },
    {
     "name": "stderr",
     "output_type": "stream",
     "text": [
      "요약 진행 중:  57%|█████▋    | 1367/2388 [57:06<44:14,  2.60s/it]"
     ]
    },
    {
     "name": "stdout",
     "output_type": "stream",
     "text": [
      "1368/2388 행 요약 완료\n"
     ]
    },
    {
     "name": "stderr",
     "output_type": "stream",
     "text": [
      "요약 진행 중:  57%|█████▋    | 1368/2388 [57:12<1:01:38,  3.63s/it]"
     ]
    },
    {
     "name": "stdout",
     "output_type": "stream",
     "text": [
      "1369/2388 행 요약 완료\n"
     ]
    },
    {
     "name": "stderr",
     "output_type": "stream",
     "text": [
      "요약 진행 중:  57%|█████▋    | 1369/2388 [57:14<52:07,  3.07s/it]  "
     ]
    },
    {
     "name": "stdout",
     "output_type": "stream",
     "text": [
      "1370/2388 행 요약 완료\n"
     ]
    },
    {
     "name": "stderr",
     "output_type": "stream",
     "text": [
      "요약 진행 중:  57%|█████▋    | 1370/2388 [57:17<52:07,  3.07s/it]"
     ]
    },
    {
     "name": "stdout",
     "output_type": "stream",
     "text": [
      "1371/2388 행 요약 완료\n"
     ]
    },
    {
     "name": "stderr",
     "output_type": "stream",
     "text": [
      "요약 진행 중:  57%|█████▋    | 1371/2388 [57:19<46:06,  2.72s/it]"
     ]
    },
    {
     "name": "stdout",
     "output_type": "stream",
     "text": [
      "1372/2388 행 요약 완료\n"
     ]
    },
    {
     "name": "stderr",
     "output_type": "stream",
     "text": [
      "요약 진행 중:  57%|█████▋    | 1372/2388 [57:22<51:47,  3.06s/it]"
     ]
    },
    {
     "name": "stdout",
     "output_type": "stream",
     "text": [
      "1373/2388 행 요약 완료\n"
     ]
    },
    {
     "name": "stderr",
     "output_type": "stream",
     "text": [
      "요약 진행 중:  57%|█████▋    | 1373/2388 [57:25<50:08,  2.96s/it]"
     ]
    },
    {
     "name": "stdout",
     "output_type": "stream",
     "text": [
      "1374/2388 행 요약 완료\n"
     ]
    },
    {
     "name": "stderr",
     "output_type": "stream",
     "text": [
      "요약 진행 중:  58%|█████▊    | 1374/2388 [57:30<59:39,  3.53s/it]"
     ]
    },
    {
     "name": "stdout",
     "output_type": "stream",
     "text": [
      "1375/2388 행 요약 완료\n"
     ]
    },
    {
     "name": "stderr",
     "output_type": "stream",
     "text": [
      "요약 진행 중:  58%|█████▊    | 1375/2388 [57:32<50:27,  2.99s/it]"
     ]
    },
    {
     "name": "stdout",
     "output_type": "stream",
     "text": [
      "1376/2388 행 요약 완료\n"
     ]
    },
    {
     "name": "stderr",
     "output_type": "stream",
     "text": [
      "요약 진행 중:  58%|█████▊    | 1376/2388 [57:35<51:04,  3.03s/it]"
     ]
    },
    {
     "name": "stdout",
     "output_type": "stream",
     "text": [
      "1377/2388 행 요약 완료\n"
     ]
    },
    {
     "name": "stderr",
     "output_type": "stream",
     "text": [
      "요약 진행 중:  58%|█████▊    | 1377/2388 [57:36<42:01,  2.49s/it]"
     ]
    },
    {
     "name": "stdout",
     "output_type": "stream",
     "text": [
      "1378/2388 행 요약 완료\n"
     ]
    },
    {
     "name": "stderr",
     "output_type": "stream",
     "text": [
      "요약 진행 중:  58%|█████▊    | 1378/2388 [57:38<36:23,  2.16s/it]"
     ]
    },
    {
     "name": "stdout",
     "output_type": "stream",
     "text": [
      "1379/2388 행 요약 완료\n"
     ]
    },
    {
     "name": "stderr",
     "output_type": "stream",
     "text": [
      "요약 진행 중:  58%|█████▊    | 1379/2388 [57:40<38:34,  2.29s/it]"
     ]
    },
    {
     "name": "stdout",
     "output_type": "stream",
     "text": [
      "1380/2388 행 요약 완료\n"
     ]
    },
    {
     "name": "stderr",
     "output_type": "stream",
     "text": [
      "요약 진행 중:  58%|█████▊    | 1380/2388 [57:43<43:47,  2.61s/it]"
     ]
    },
    {
     "name": "stdout",
     "output_type": "stream",
     "text": [
      "1381/2388 행 요약 완료\n"
     ]
    },
    {
     "name": "stderr",
     "output_type": "stream",
     "text": [
      "요약 진행 중:  58%|█████▊    | 1381/2388 [57:48<52:39,  3.14s/it]"
     ]
    },
    {
     "name": "stdout",
     "output_type": "stream",
     "text": [
      "1382/2388 행 요약 완료\n"
     ]
    },
    {
     "name": "stderr",
     "output_type": "stream",
     "text": [
      "요약 진행 중:  58%|█████▊    | 1382/2388 [57:49<44:58,  2.68s/it]"
     ]
    },
    {
     "name": "stdout",
     "output_type": "stream",
     "text": [
      "1383/2388 행 요약 완료\n"
     ]
    },
    {
     "name": "stderr",
     "output_type": "stream",
     "text": [
      "요약 진행 중:  58%|█████▊    | 1383/2388 [57:54<55:01,  3.29s/it]"
     ]
    },
    {
     "name": "stdout",
     "output_type": "stream",
     "text": [
      "1384/2388 행 요약 완료\n"
     ]
    },
    {
     "name": "stderr",
     "output_type": "stream",
     "text": [
      "요약 진행 중:  58%|█████▊    | 1384/2388 [57:58<56:44,  3.39s/it]"
     ]
    },
    {
     "name": "stdout",
     "output_type": "stream",
     "text": [
      "1385/2388 행 요약 완료\n"
     ]
    },
    {
     "name": "stderr",
     "output_type": "stream",
     "text": [
      "요약 진행 중:  58%|█████▊    | 1385/2388 [58:02<58:17,  3.49s/it]"
     ]
    },
    {
     "name": "stdout",
     "output_type": "stream",
     "text": [
      "1386/2388 행 요약 완료\n"
     ]
    },
    {
     "name": "stderr",
     "output_type": "stream",
     "text": [
      "요약 진행 중:  58%|█████▊    | 1386/2388 [58:04<52:36,  3.15s/it]"
     ]
    },
    {
     "name": "stdout",
     "output_type": "stream",
     "text": [
      "1387/2388 행 요약 완료\n"
     ]
    },
    {
     "name": "stderr",
     "output_type": "stream",
     "text": [
      "요약 진행 중:  58%|█████▊    | 1387/2388 [58:06<49:21,  2.96s/it]"
     ]
    },
    {
     "name": "stdout",
     "output_type": "stream",
     "text": [
      "1388/2388 행 요약 완료\n"
     ]
    },
    {
     "name": "stderr",
     "output_type": "stream",
     "text": [
      "요약 진행 중:  58%|█████▊    | 1388/2388 [58:08<42:35,  2.56s/it]"
     ]
    },
    {
     "name": "stdout",
     "output_type": "stream",
     "text": [
      "1389/2388 행 요약 완료\n"
     ]
    },
    {
     "name": "stderr",
     "output_type": "stream",
     "text": [
      "요약 진행 중:  58%|█████▊    | 1389/2388 [58:12<47:55,  2.88s/it]"
     ]
    },
    {
     "name": "stdout",
     "output_type": "stream",
     "text": [
      "1390/2388 행 요약 완료\n"
     ]
    },
    {
     "name": "stderr",
     "output_type": "stream",
     "text": [
      "요약 진행 중:  58%|█████▊    | 1390/2388 [58:15<50:47,  3.05s/it]"
     ]
    },
    {
     "name": "stdout",
     "output_type": "stream",
     "text": [
      "1391/2388 행 요약 완료\n"
     ]
    },
    {
     "name": "stderr",
     "output_type": "stream",
     "text": [
      "요약 진행 중:  58%|█████▊    | 1391/2388 [58:18<49:15,  2.96s/it]"
     ]
    },
    {
     "name": "stdout",
     "output_type": "stream",
     "text": [
      "1392/2388 행 요약 완료\n"
     ]
    },
    {
     "name": "stderr",
     "output_type": "stream",
     "text": [
      "요약 진행 중:  58%|█████▊    | 1392/2388 [58:20<43:31,  2.62s/it]"
     ]
    },
    {
     "name": "stdout",
     "output_type": "stream",
     "text": [
      "1393/2388 행 요약 완료\n"
     ]
    },
    {
     "name": "stderr",
     "output_type": "stream",
     "text": [
      "요약 진행 중:  58%|█████▊    | 1393/2388 [58:22<43:16,  2.61s/it]"
     ]
    },
    {
     "name": "stdout",
     "output_type": "stream",
     "text": [
      "1394/2388 행 요약 완료\n"
     ]
    },
    {
     "name": "stderr",
     "output_type": "stream",
     "text": [
      "요약 진행 중:  58%|█████▊    | 1394/2388 [58:26<51:17,  3.10s/it]"
     ]
    },
    {
     "name": "stdout",
     "output_type": "stream",
     "text": [
      "1395/2388 행 요약 완료\n"
     ]
    },
    {
     "name": "stderr",
     "output_type": "stream",
     "text": [
      "요약 진행 중:  58%|█████▊    | 1395/2388 [58:28<43:32,  2.63s/it]"
     ]
    },
    {
     "name": "stdout",
     "output_type": "stream",
     "text": [
      "1396/2388 행 요약 완료\n"
     ]
    },
    {
     "name": "stderr",
     "output_type": "stream",
     "text": [
      "요약 진행 중:  58%|█████▊    | 1396/2388 [58:30<40:05,  2.42s/it]"
     ]
    },
    {
     "name": "stdout",
     "output_type": "stream",
     "text": [
      "1397/2388 행 요약 완료\n"
     ]
    },
    {
     "name": "stderr",
     "output_type": "stream",
     "text": [
      "요약 진행 중:  59%|█████▊    | 1397/2388 [58:32<36:02,  2.18s/it]"
     ]
    },
    {
     "name": "stdout",
     "output_type": "stream",
     "text": [
      "1398/2388 행 요약 완료\n"
     ]
    },
    {
     "name": "stderr",
     "output_type": "stream",
     "text": [
      "요약 진행 중:  59%|█████▊    | 1398/2388 [58:33<30:41,  1.86s/it]"
     ]
    },
    {
     "name": "stdout",
     "output_type": "stream",
     "text": [
      "1399/2388 행 요약 완료\n"
     ]
    },
    {
     "name": "stderr",
     "output_type": "stream",
     "text": [
      "요약 진행 중:  59%|█████▊    | 1399/2388 [58:34<30:05,  1.83s/it]"
     ]
    },
    {
     "name": "stdout",
     "output_type": "stream",
     "text": [
      "1400/2388 행 요약 완료\n"
     ]
    },
    {
     "name": "stderr",
     "output_type": "stream",
     "text": [
      "요약 진행 중:  59%|█████▊    | 1400/2388 [58:36<27:58,  1.70s/it]"
     ]
    },
    {
     "name": "stdout",
     "output_type": "stream",
     "text": [
      "1401/2388 행 요약 완료\n"
     ]
    },
    {
     "name": "stderr",
     "output_type": "stream",
     "text": [
      "요약 진행 중:  59%|█████▊    | 1401/2388 [58:42<51:40,  3.14s/it]"
     ]
    },
    {
     "name": "stdout",
     "output_type": "stream",
     "text": [
      "1402/2388 행 요약 완료\n"
     ]
    },
    {
     "name": "stderr",
     "output_type": "stream",
     "text": [
      "요약 진행 중:  59%|█████▊    | 1402/2388 [58:44<46:39,  2.84s/it]"
     ]
    },
    {
     "name": "stdout",
     "output_type": "stream",
     "text": [
      "1403/2388 행 요약 완료\n"
     ]
    },
    {
     "name": "stderr",
     "output_type": "stream",
     "text": [
      "요약 진행 중:  59%|█████▉    | 1403/2388 [58:46<39:07,  2.38s/it]"
     ]
    },
    {
     "name": "stdout",
     "output_type": "stream",
     "text": [
      "1404/2388 행 요약 완료\n"
     ]
    },
    {
     "name": "stderr",
     "output_type": "stream",
     "text": [
      "요약 진행 중:  59%|█████▉    | 1404/2388 [58:47<34:22,  2.10s/it]"
     ]
    },
    {
     "name": "stdout",
     "output_type": "stream",
     "text": [
      "1405/2388 행 요약 완료\n"
     ]
    },
    {
     "name": "stderr",
     "output_type": "stream",
     "text": [
      "요약 진행 중:  59%|█████▉    | 1405/2388 [58:50<38:05,  2.32s/it]"
     ]
    },
    {
     "name": "stdout",
     "output_type": "stream",
     "text": [
      "1406/2388 행 요약 완료\n"
     ]
    },
    {
     "name": "stderr",
     "output_type": "stream",
     "text": [
      "요약 진행 중:  59%|█████▉    | 1406/2388 [58:54<43:53,  2.68s/it]"
     ]
    },
    {
     "name": "stdout",
     "output_type": "stream",
     "text": [
      "1407/2388 행 요약 완료\n"
     ]
    },
    {
     "name": "stderr",
     "output_type": "stream",
     "text": [
      "요약 진행 중:  59%|█████▉    | 1407/2388 [58:55<38:15,  2.34s/it]"
     ]
    },
    {
     "name": "stdout",
     "output_type": "stream",
     "text": [
      "1408/2388 행 요약 완료\n"
     ]
    },
    {
     "name": "stderr",
     "output_type": "stream",
     "text": [
      "요약 진행 중:  59%|█████▉    | 1408/2388 [58:57<35:13,  2.16s/it]"
     ]
    },
    {
     "name": "stdout",
     "output_type": "stream",
     "text": [
      "1409/2388 행 요약 완료\n"
     ]
    },
    {
     "name": "stderr",
     "output_type": "stream",
     "text": [
      "요약 진행 중:  59%|█████▉    | 1409/2388 [58:59<33:06,  2.03s/it]"
     ]
    },
    {
     "name": "stdout",
     "output_type": "stream",
     "text": [
      "1410/2388 행 요약 완료\n"
     ]
    },
    {
     "name": "stderr",
     "output_type": "stream",
     "text": [
      "요약 진행 중:  59%|█████▉    | 1410/2388 [59:00<29:22,  1.80s/it]"
     ]
    },
    {
     "name": "stdout",
     "output_type": "stream",
     "text": [
      "1411/2388 행 요약 완료\n"
     ]
    },
    {
     "name": "stderr",
     "output_type": "stream",
     "text": [
      "요약 진행 중:  59%|█████▉    | 1411/2388 [59:05<44:26,  2.73s/it]"
     ]
    },
    {
     "name": "stdout",
     "output_type": "stream",
     "text": [
      "1412/2388 행 요약 완료\n"
     ]
    },
    {
     "name": "stderr",
     "output_type": "stream",
     "text": [
      "요약 진행 중:  59%|█████▉    | 1412/2388 [59:07<39:50,  2.45s/it]"
     ]
    },
    {
     "name": "stdout",
     "output_type": "stream",
     "text": [
      "1413/2388 행 요약 완료\n"
     ]
    },
    {
     "name": "stderr",
     "output_type": "stream",
     "text": [
      "요약 진행 중:  59%|█████▉    | 1413/2388 [59:08<35:18,  2.17s/it]"
     ]
    },
    {
     "name": "stdout",
     "output_type": "stream",
     "text": [
      "1414/2388 행 요약 완료\n"
     ]
    },
    {
     "name": "stderr",
     "output_type": "stream",
     "text": [
      "요약 진행 중:  59%|█████▉    | 1414/2388 [59:12<44:09,  2.72s/it]"
     ]
    },
    {
     "name": "stdout",
     "output_type": "stream",
     "text": [
      "1415/2388 행 요약 완료\n"
     ]
    },
    {
     "name": "stderr",
     "output_type": "stream",
     "text": [
      "요약 진행 중:  59%|█████▉    | 1415/2388 [59:15<43:41,  2.69s/it]"
     ]
    },
    {
     "name": "stdout",
     "output_type": "stream",
     "text": [
      "1416/2388 행 요약 완료\n"
     ]
    },
    {
     "name": "stderr",
     "output_type": "stream",
     "text": [
      "요약 진행 중:  59%|█████▉    | 1416/2388 [59:17<41:41,  2.57s/it]"
     ]
    },
    {
     "name": "stdout",
     "output_type": "stream",
     "text": [
      "1417/2388 행 요약 완료\n"
     ]
    },
    {
     "name": "stderr",
     "output_type": "stream",
     "text": [
      "요약 진행 중:  59%|█████▉    | 1417/2388 [59:19<36:19,  2.24s/it]"
     ]
    },
    {
     "name": "stdout",
     "output_type": "stream",
     "text": [
      "1418/2388 행 요약 완료\n"
     ]
    },
    {
     "name": "stderr",
     "output_type": "stream",
     "text": [
      "요약 진행 중:  59%|█████▉    | 1418/2388 [59:22<43:07,  2.67s/it]"
     ]
    },
    {
     "name": "stdout",
     "output_type": "stream",
     "text": [
      "1419/2388 행 요약 완료\n"
     ]
    },
    {
     "name": "stderr",
     "output_type": "stream",
     "text": [
      "요약 진행 중:  59%|█████▉    | 1419/2388 [59:24<38:28,  2.38s/it]"
     ]
    },
    {
     "name": "stdout",
     "output_type": "stream",
     "text": [
      "1420/2388 행 요약 완료\n"
     ]
    },
    {
     "name": "stderr",
     "output_type": "stream",
     "text": [
      "요약 진행 중:  59%|█████▉    | 1420/2388 [59:26<35:54,  2.23s/it]"
     ]
    },
    {
     "name": "stdout",
     "output_type": "stream",
     "text": [
      "1421/2388 행 요약 완료\n"
     ]
    },
    {
     "name": "stderr",
     "output_type": "stream",
     "text": [
      "요약 진행 중:  60%|█████▉    | 1421/2388 [59:28<37:56,  2.35s/it]"
     ]
    },
    {
     "name": "stdout",
     "output_type": "stream",
     "text": [
      "1422/2388 행 요약 완료\n"
     ]
    },
    {
     "name": "stderr",
     "output_type": "stream",
     "text": [
      "요약 진행 중:  60%|█████▉    | 1422/2388 [59:30<33:09,  2.06s/it]"
     ]
    },
    {
     "name": "stdout",
     "output_type": "stream",
     "text": [
      "1423/2388 행 요약 완료\n"
     ]
    },
    {
     "name": "stderr",
     "output_type": "stream",
     "text": [
      "요약 진행 중:  60%|█████▉    | 1423/2388 [59:32<32:40,  2.03s/it]"
     ]
    },
    {
     "name": "stdout",
     "output_type": "stream",
     "text": [
      "1424/2388 행 요약 완료\n"
     ]
    },
    {
     "name": "stderr",
     "output_type": "stream",
     "text": [
      "요약 진행 중:  60%|█████▉    | 1424/2388 [59:35<36:22,  2.26s/it]"
     ]
    },
    {
     "name": "stdout",
     "output_type": "stream",
     "text": [
      "1425/2388 행 요약 완료\n"
     ]
    },
    {
     "name": "stderr",
     "output_type": "stream",
     "text": [
      "요약 진행 중:  60%|█████▉    | 1425/2388 [59:36<32:44,  2.04s/it]"
     ]
    },
    {
     "name": "stdout",
     "output_type": "stream",
     "text": [
      "1426/2388 행 요약 완료\n"
     ]
    },
    {
     "name": "stderr",
     "output_type": "stream",
     "text": [
      "요약 진행 중:  60%|█████▉    | 1426/2388 [59:41<47:02,  2.93s/it]"
     ]
    },
    {
     "name": "stdout",
     "output_type": "stream",
     "text": [
      "1427/2388 행 요약 완료\n"
     ]
    },
    {
     "name": "stderr",
     "output_type": "stream",
     "text": [
      "요약 진행 중:  60%|█████▉    | 1427/2388 [59:44<45:05,  2.82s/it]"
     ]
    },
    {
     "name": "stdout",
     "output_type": "stream",
     "text": [
      "1428/2388 행 요약 완료\n"
     ]
    },
    {
     "name": "stderr",
     "output_type": "stream",
     "text": [
      "요약 진행 중:  60%|█████▉    | 1428/2388 [59:45<39:02,  2.44s/it]"
     ]
    },
    {
     "name": "stdout",
     "output_type": "stream",
     "text": [
      "1429/2388 행 요약 완료\n"
     ]
    },
    {
     "name": "stderr",
     "output_type": "stream",
     "text": [
      "요약 진행 중:  60%|█████▉    | 1429/2388 [59:47<35:27,  2.22s/it]"
     ]
    },
    {
     "name": "stdout",
     "output_type": "stream",
     "text": [
      "1430/2388 행 요약 완료\n"
     ]
    },
    {
     "name": "stderr",
     "output_type": "stream",
     "text": [
      "요약 진행 중:  60%|█████▉    | 1430/2388 [59:49<36:13,  2.27s/it]"
     ]
    },
    {
     "name": "stdout",
     "output_type": "stream",
     "text": [
      "1431/2388 행 요약 완료\n"
     ]
    },
    {
     "name": "stderr",
     "output_type": "stream",
     "text": [
      "요약 진행 중:  60%|█████▉    | 1431/2388 [1:00:01<1:21:59,  5.14s/it]"
     ]
    },
    {
     "name": "stdout",
     "output_type": "stream",
     "text": [
      "1432/2388 행 요약 완료\n"
     ]
    },
    {
     "name": "stderr",
     "output_type": "stream",
     "text": [
      "요약 진행 중:  60%|█████▉    | 1432/2388 [1:00:03<1:04:12,  4.03s/it]"
     ]
    },
    {
     "name": "stdout",
     "output_type": "stream",
     "text": [
      "1433/2388 행 요약 완료\n"
     ]
    },
    {
     "name": "stderr",
     "output_type": "stream",
     "text": [
      "요약 진행 중:  60%|██████    | 1433/2388 [1:00:04<52:19,  3.29s/it]  "
     ]
    },
    {
     "name": "stdout",
     "output_type": "stream",
     "text": [
      "1434/2388 행 요약 완료\n"
     ]
    },
    {
     "name": "stderr",
     "output_type": "stream",
     "text": [
      "요약 진행 중:  60%|██████    | 1434/2388 [1:00:06<46:36,  2.93s/it]"
     ]
    },
    {
     "name": "stdout",
     "output_type": "stream",
     "text": [
      "1435/2388 행 요약 완료\n"
     ]
    },
    {
     "name": "stderr",
     "output_type": "stream",
     "text": [
      "요약 진행 중:  60%|██████    | 1435/2388 [1:00:09<43:54,  2.76s/it]"
     ]
    },
    {
     "name": "stdout",
     "output_type": "stream",
     "text": [
      "1436/2388 행 요약 완료\n"
     ]
    },
    {
     "name": "stderr",
     "output_type": "stream",
     "text": [
      "요약 진행 중:  60%|██████    | 1436/2388 [1:00:12<48:15,  3.04s/it]"
     ]
    },
    {
     "name": "stdout",
     "output_type": "stream",
     "text": [
      "1437/2388 행 요약 완료\n"
     ]
    },
    {
     "name": "stderr",
     "output_type": "stream",
     "text": [
      "요약 진행 중:  60%|██████    | 1437/2388 [1:00:14<39:48,  2.51s/it]"
     ]
    },
    {
     "name": "stdout",
     "output_type": "stream",
     "text": [
      "1438/2388 행 요약 완료\n"
     ]
    },
    {
     "name": "stderr",
     "output_type": "stream",
     "text": [
      "요약 진행 중:  60%|██████    | 1438/2388 [1:00:15<34:57,  2.21s/it]"
     ]
    },
    {
     "name": "stdout",
     "output_type": "stream",
     "text": [
      "1439/2388 행 요약 완료\n"
     ]
    },
    {
     "name": "stderr",
     "output_type": "stream",
     "text": [
      "요약 진행 중:  60%|██████    | 1439/2388 [1:00:16<31:14,  1.98s/it]"
     ]
    },
    {
     "name": "stdout",
     "output_type": "stream",
     "text": [
      "1440/2388 행 요약 완료\n"
     ]
    },
    {
     "name": "stderr",
     "output_type": "stream",
     "text": [
      "요약 진행 중:  60%|██████    | 1440/2388 [1:00:18<29:58,  1.90s/it]"
     ]
    },
    {
     "name": "stdout",
     "output_type": "stream",
     "text": [
      "1441/2388 행 요약 완료\n"
     ]
    },
    {
     "name": "stderr",
     "output_type": "stream",
     "text": [
      "요약 진행 중:  60%|██████    | 1441/2388 [1:00:20<29:42,  1.88s/it]"
     ]
    },
    {
     "name": "stdout",
     "output_type": "stream",
     "text": [
      "1442/2388 행 요약 완료\n"
     ]
    },
    {
     "name": "stderr",
     "output_type": "stream",
     "text": [
      "요약 진행 중:  60%|██████    | 1442/2388 [1:00:22<28:03,  1.78s/it]"
     ]
    },
    {
     "name": "stdout",
     "output_type": "stream",
     "text": [
      "1443/2388 행 요약 완료\n"
     ]
    },
    {
     "name": "stderr",
     "output_type": "stream",
     "text": [
      "요약 진행 중:  60%|██████    | 1443/2388 [1:00:25<34:09,  2.17s/it]"
     ]
    },
    {
     "name": "stdout",
     "output_type": "stream",
     "text": [
      "1444/2388 행 요약 완료\n"
     ]
    },
    {
     "name": "stderr",
     "output_type": "stream",
     "text": [
      "요약 진행 중:  60%|██████    | 1444/2388 [1:00:28<39:23,  2.50s/it]"
     ]
    },
    {
     "name": "stdout",
     "output_type": "stream",
     "text": [
      "1445/2388 행 요약 완료\n"
     ]
    },
    {
     "name": "stderr",
     "output_type": "stream",
     "text": [
      "요약 진행 중:  61%|██████    | 1445/2388 [1:00:30<37:13,  2.37s/it]"
     ]
    },
    {
     "name": "stdout",
     "output_type": "stream",
     "text": [
      "1446/2388 행 요약 완료\n"
     ]
    },
    {
     "name": "stderr",
     "output_type": "stream",
     "text": [
      "요약 진행 중:  61%|██████    | 1446/2388 [1:00:32<33:34,  2.14s/it]"
     ]
    },
    {
     "name": "stdout",
     "output_type": "stream",
     "text": [
      "1447/2388 행 요약 완료\n"
     ]
    },
    {
     "name": "stderr",
     "output_type": "stream",
     "text": [
      "요약 진행 중:  61%|██████    | 1447/2388 [1:00:33<30:20,  1.93s/it]"
     ]
    },
    {
     "name": "stdout",
     "output_type": "stream",
     "text": [
      "1448/2388 행 요약 완료\n"
     ]
    },
    {
     "name": "stderr",
     "output_type": "stream",
     "text": [
      "요약 진행 중:  61%|██████    | 1448/2388 [1:00:36<36:47,  2.35s/it]"
     ]
    },
    {
     "name": "stdout",
     "output_type": "stream",
     "text": [
      "1449/2388 행 요약 완료\n"
     ]
    },
    {
     "name": "stderr",
     "output_type": "stream",
     "text": [
      "요약 진행 중:  61%|██████    | 1449/2388 [1:00:39<36:15,  2.32s/it]"
     ]
    },
    {
     "name": "stdout",
     "output_type": "stream",
     "text": [
      "1450/2388 행 요약 완료\n"
     ]
    },
    {
     "name": "stderr",
     "output_type": "stream",
     "text": [
      "요약 진행 중:  61%|██████    | 1450/2388 [1:00:41<38:08,  2.44s/it]"
     ]
    },
    {
     "name": "stdout",
     "output_type": "stream",
     "text": [
      "1451/2388 행 요약 완료\n"
     ]
    },
    {
     "name": "stderr",
     "output_type": "stream",
     "text": [
      "요약 진행 중:  61%|██████    | 1451/2388 [1:00:48<1:00:01,  3.84s/it]"
     ]
    },
    {
     "name": "stdout",
     "output_type": "stream",
     "text": [
      "1452/2388 행 요약 완료\n"
     ]
    },
    {
     "name": "stderr",
     "output_type": "stream",
     "text": [
      "요약 진행 중:  61%|██████    | 1452/2388 [1:00:51<52:06,  3.34s/it]  "
     ]
    },
    {
     "name": "stdout",
     "output_type": "stream",
     "text": [
      "1453/2388 행 요약 완료\n"
     ]
    },
    {
     "name": "stderr",
     "output_type": "stream",
     "text": [
      "요약 진행 중:  61%|██████    | 1453/2388 [1:00:52<42:49,  2.75s/it]"
     ]
    },
    {
     "name": "stdout",
     "output_type": "stream",
     "text": [
      "1454/2388 행 요약 완료\n"
     ]
    },
    {
     "name": "stderr",
     "output_type": "stream",
     "text": [
      "요약 진행 중:  61%|██████    | 1454/2388 [1:00:54<37:11,  2.39s/it]"
     ]
    },
    {
     "name": "stdout",
     "output_type": "stream",
     "text": [
      "1455/2388 행 요약 완료\n"
     ]
    },
    {
     "name": "stderr",
     "output_type": "stream",
     "text": [
      "요약 진행 중:  61%|██████    | 1455/2388 [1:00:58<46:32,  2.99s/it]"
     ]
    },
    {
     "name": "stdout",
     "output_type": "stream",
     "text": [
      "1456/2388 행 요약 완료\n"
     ]
    },
    {
     "name": "stderr",
     "output_type": "stream",
     "text": [
      "요약 진행 중:  61%|██████    | 1456/2388 [1:01:01<45:55,  2.96s/it]"
     ]
    },
    {
     "name": "stdout",
     "output_type": "stream",
     "text": [
      "1457/2388 행 요약 완료\n"
     ]
    },
    {
     "name": "stderr",
     "output_type": "stream",
     "text": [
      "요약 진행 중:  61%|██████    | 1457/2388 [1:01:02<39:12,  2.53s/it]"
     ]
    },
    {
     "name": "stdout",
     "output_type": "stream",
     "text": [
      "1458/2388 행 요약 완료\n"
     ]
    },
    {
     "name": "stderr",
     "output_type": "stream",
     "text": [
      "요약 진행 중:  61%|██████    | 1458/2388 [1:01:03<31:55,  2.06s/it]"
     ]
    },
    {
     "name": "stdout",
     "output_type": "stream",
     "text": [
      "1459/2388 행 요약 완료\n"
     ]
    },
    {
     "name": "stderr",
     "output_type": "stream",
     "text": [
      "요약 진행 중:  61%|██████    | 1459/2388 [1:01:08<45:23,  2.93s/it]"
     ]
    },
    {
     "name": "stdout",
     "output_type": "stream",
     "text": [
      "1460/2388 행 요약 완료\n"
     ]
    },
    {
     "name": "stderr",
     "output_type": "stream",
     "text": [
      "요약 진행 중:  61%|██████    | 1460/2388 [1:01:11<45:55,  2.97s/it]"
     ]
    },
    {
     "name": "stdout",
     "output_type": "stream",
     "text": [
      "1461/2388 행 요약 완료\n"
     ]
    },
    {
     "name": "stderr",
     "output_type": "stream",
     "text": [
      "요약 진행 중:  61%|██████    | 1461/2388 [1:01:14<42:19,  2.74s/it]"
     ]
    },
    {
     "name": "stdout",
     "output_type": "stream",
     "text": [
      "1462/2388 행 요약 완료\n"
     ]
    },
    {
     "name": "stderr",
     "output_type": "stream",
     "text": [
      "요약 진행 중:  61%|██████    | 1462/2388 [1:01:17<44:18,  2.87s/it]"
     ]
    },
    {
     "name": "stdout",
     "output_type": "stream",
     "text": [
      "1463/2388 행 요약 완료\n"
     ]
    },
    {
     "name": "stderr",
     "output_type": "stream",
     "text": [
      "요약 진행 중:  61%|██████▏   | 1463/2388 [1:01:20<47:53,  3.11s/it]"
     ]
    },
    {
     "name": "stdout",
     "output_type": "stream",
     "text": [
      "1464/2388 행 요약 완료\n"
     ]
    },
    {
     "name": "stderr",
     "output_type": "stream",
     "text": [
      "요약 진행 중:  61%|██████▏   | 1464/2388 [1:01:23<46:51,  3.04s/it]"
     ]
    },
    {
     "name": "stdout",
     "output_type": "stream",
     "text": [
      "1465/2388 행 요약 완료\n"
     ]
    },
    {
     "name": "stderr",
     "output_type": "stream",
     "text": [
      "요약 진행 중:  61%|██████▏   | 1465/2388 [1:01:25<39:58,  2.60s/it]"
     ]
    },
    {
     "name": "stdout",
     "output_type": "stream",
     "text": [
      "1466/2388 행 요약 완료\n"
     ]
    },
    {
     "name": "stderr",
     "output_type": "stream",
     "text": [
      "요약 진행 중:  61%|██████▏   | 1466/2388 [1:01:27<37:05,  2.41s/it]"
     ]
    },
    {
     "name": "stdout",
     "output_type": "stream",
     "text": [
      "1467/2388 행 요약 완료\n"
     ]
    },
    {
     "name": "stderr",
     "output_type": "stream",
     "text": [
      "요약 진행 중:  61%|██████▏   | 1467/2388 [1:01:30<42:44,  2.78s/it]"
     ]
    },
    {
     "name": "stdout",
     "output_type": "stream",
     "text": [
      "1468/2388 행 요약 완료\n"
     ]
    },
    {
     "name": "stderr",
     "output_type": "stream",
     "text": [
      "요약 진행 중:  61%|██████▏   | 1468/2388 [1:01:36<53:38,  3.50s/it]"
     ]
    },
    {
     "name": "stdout",
     "output_type": "stream",
     "text": [
      "1469/2388 행 요약 완료\n"
     ]
    },
    {
     "name": "stderr",
     "output_type": "stream",
     "text": [
      "요약 진행 중:  62%|██████▏   | 1469/2388 [1:01:39<54:46,  3.58s/it]"
     ]
    },
    {
     "name": "stdout",
     "output_type": "stream",
     "text": [
      "1470/2388 행 요약 완료\n"
     ]
    },
    {
     "name": "stderr",
     "output_type": "stream",
     "text": [
      "요약 진행 중:  62%|██████▏   | 1470/2388 [1:01:42<49:07,  3.21s/it]"
     ]
    },
    {
     "name": "stdout",
     "output_type": "stream",
     "text": [
      "1471/2388 행 요약 완료\n"
     ]
    },
    {
     "name": "stderr",
     "output_type": "stream",
     "text": [
      "요약 진행 중:  62%|██████▏   | 1471/2388 [1:01:45<50:57,  3.33s/it]"
     ]
    },
    {
     "name": "stdout",
     "output_type": "stream",
     "text": [
      "1472/2388 행 요약 완료\n"
     ]
    },
    {
     "name": "stderr",
     "output_type": "stream",
     "text": [
      "요약 진행 중:  62%|██████▏   | 1472/2388 [1:01:49<50:57,  3.34s/it]"
     ]
    },
    {
     "name": "stdout",
     "output_type": "stream",
     "text": [
      "1473/2388 행 요약 완료\n"
     ]
    },
    {
     "name": "stderr",
     "output_type": "stream",
     "text": [
      "요약 진행 중:  62%|██████▏   | 1473/2388 [1:01:52<52:04,  3.42s/it]"
     ]
    },
    {
     "name": "stdout",
     "output_type": "stream",
     "text": [
      "1474/2388 행 요약 완료\n"
     ]
    },
    {
     "name": "stderr",
     "output_type": "stream",
     "text": [
      "요약 진행 중:  62%|██████▏   | 1474/2388 [1:01:54<44:35,  2.93s/it]"
     ]
    },
    {
     "name": "stdout",
     "output_type": "stream",
     "text": [
      "1475/2388 행 요약 완료\n"
     ]
    },
    {
     "name": "stderr",
     "output_type": "stream",
     "text": [
      "요약 진행 중:  62%|██████▏   | 1475/2388 [1:01:55<36:35,  2.40s/it]"
     ]
    },
    {
     "name": "stdout",
     "output_type": "stream",
     "text": [
      "1476/2388 행 요약 완료\n"
     ]
    },
    {
     "name": "stderr",
     "output_type": "stream",
     "text": [
      "요약 진행 중:  62%|██████▏   | 1476/2388 [1:01:58<37:36,  2.47s/it]"
     ]
    },
    {
     "name": "stdout",
     "output_type": "stream",
     "text": [
      "1477/2388 행 요약 완료\n"
     ]
    },
    {
     "name": "stderr",
     "output_type": "stream",
     "text": [
      "요약 진행 중:  62%|██████▏   | 1477/2388 [1:02:01<38:41,  2.55s/it]"
     ]
    },
    {
     "name": "stdout",
     "output_type": "stream",
     "text": [
      "1478/2388 행 요약 완료\n"
     ]
    },
    {
     "name": "stderr",
     "output_type": "stream",
     "text": [
      "요약 진행 중:  62%|██████▏   | 1478/2388 [1:02:02<34:00,  2.24s/it]"
     ]
    },
    {
     "name": "stdout",
     "output_type": "stream",
     "text": [
      "1479/2388 행 요약 완료\n"
     ]
    },
    {
     "name": "stderr",
     "output_type": "stream",
     "text": [
      "요약 진행 중:  62%|██████▏   | 1479/2388 [1:02:04<31:16,  2.06s/it]"
     ]
    },
    {
     "name": "stdout",
     "output_type": "stream",
     "text": [
      "1480/2388 행 요약 완료\n"
     ]
    },
    {
     "name": "stderr",
     "output_type": "stream",
     "text": [
      "요약 진행 중:  62%|██████▏   | 1480/2388 [1:02:05<27:53,  1.84s/it]"
     ]
    },
    {
     "name": "stdout",
     "output_type": "stream",
     "text": [
      "1481/2388 행 요약 완료\n"
     ]
    },
    {
     "name": "stderr",
     "output_type": "stream",
     "text": [
      "요약 진행 중:  62%|██████▏   | 1481/2388 [1:02:07<28:07,  1.86s/it]"
     ]
    },
    {
     "name": "stdout",
     "output_type": "stream",
     "text": [
      "1482/2388 행 요약 완료\n"
     ]
    },
    {
     "name": "stderr",
     "output_type": "stream",
     "text": [
      "요약 진행 중:  62%|██████▏   | 1482/2388 [1:02:09<27:13,  1.80s/it]"
     ]
    },
    {
     "name": "stdout",
     "output_type": "stream",
     "text": [
      "1483/2388 행 요약 완료\n"
     ]
    },
    {
     "name": "stderr",
     "output_type": "stream",
     "text": [
      "요약 진행 중:  62%|██████▏   | 1483/2388 [1:02:10<24:57,  1.65s/it]"
     ]
    },
    {
     "name": "stdout",
     "output_type": "stream",
     "text": [
      "1484/2388 행 요약 완료\n"
     ]
    },
    {
     "name": "stderr",
     "output_type": "stream",
     "text": [
      "요약 진행 중:  62%|██████▏   | 1484/2388 [1:02:11<23:32,  1.56s/it]"
     ]
    },
    {
     "name": "stdout",
     "output_type": "stream",
     "text": [
      "1485/2388 행 요약 완료\n"
     ]
    },
    {
     "name": "stderr",
     "output_type": "stream",
     "text": [
      "요약 진행 중:  62%|██████▏   | 1485/2388 [1:02:15<31:34,  2.10s/it]"
     ]
    },
    {
     "name": "stdout",
     "output_type": "stream",
     "text": [
      "1486/2388 행 요약 완료\n"
     ]
    },
    {
     "name": "stderr",
     "output_type": "stream",
     "text": [
      "요약 진행 중:  62%|██████▏   | 1486/2388 [1:02:16<26:45,  1.78s/it]"
     ]
    },
    {
     "name": "stdout",
     "output_type": "stream",
     "text": [
      "1487/2388 행 요약 완료\n"
     ]
    },
    {
     "name": "stderr",
     "output_type": "stream",
     "text": [
      "요약 진행 중:  62%|██████▏   | 1487/2388 [1:02:17<25:02,  1.67s/it]"
     ]
    },
    {
     "name": "stdout",
     "output_type": "stream",
     "text": [
      "1488/2388 행 요약 완료\n"
     ]
    },
    {
     "name": "stderr",
     "output_type": "stream",
     "text": [
      "요약 진행 중:  62%|██████▏   | 1488/2388 [1:02:19<24:28,  1.63s/it]"
     ]
    },
    {
     "name": "stdout",
     "output_type": "stream",
     "text": [
      "1489/2388 행 요약 완료\n"
     ]
    },
    {
     "name": "stderr",
     "output_type": "stream",
     "text": [
      "요약 진행 중:  62%|██████▏   | 1489/2388 [1:02:21<27:10,  1.81s/it]"
     ]
    },
    {
     "name": "stdout",
     "output_type": "stream",
     "text": [
      "1490/2388 행 요약 완료\n"
     ]
    },
    {
     "name": "stderr",
     "output_type": "stream",
     "text": [
      "요약 진행 중:  62%|██████▏   | 1490/2388 [1:02:23<28:59,  1.94s/it]"
     ]
    },
    {
     "name": "stdout",
     "output_type": "stream",
     "text": [
      "1491/2388 행 요약 완료\n"
     ]
    },
    {
     "name": "stderr",
     "output_type": "stream",
     "text": [
      "요약 진행 중:  62%|██████▏   | 1491/2388 [1:02:25<28:02,  1.88s/it]"
     ]
    },
    {
     "name": "stdout",
     "output_type": "stream",
     "text": [
      "1492/2388 행 요약 완료\n"
     ]
    },
    {
     "name": "stderr",
     "output_type": "stream",
     "text": [
      "요약 진행 중:  62%|██████▏   | 1492/2388 [1:02:29<39:15,  2.63s/it]"
     ]
    },
    {
     "name": "stdout",
     "output_type": "stream",
     "text": [
      "1493/2388 행 요약 완료\n"
     ]
    },
    {
     "name": "stderr",
     "output_type": "stream",
     "text": [
      "요약 진행 중:  63%|██████▎   | 1493/2388 [1:02:31<34:16,  2.30s/it]"
     ]
    },
    {
     "name": "stdout",
     "output_type": "stream",
     "text": [
      "1494/2388 행 요약 완료\n"
     ]
    },
    {
     "name": "stderr",
     "output_type": "stream",
     "text": [
      "요약 진행 중:  63%|██████▎   | 1494/2388 [1:02:33<34:40,  2.33s/it]"
     ]
    },
    {
     "name": "stdout",
     "output_type": "stream",
     "text": [
      "1495/2388 행 요약 완료\n"
     ]
    },
    {
     "name": "stderr",
     "output_type": "stream",
     "text": [
      "요약 진행 중:  63%|██████▎   | 1495/2388 [1:02:35<32:00,  2.15s/it]"
     ]
    },
    {
     "name": "stdout",
     "output_type": "stream",
     "text": [
      "1496/2388 행 요약 완료\n"
     ]
    },
    {
     "name": "stderr",
     "output_type": "stream",
     "text": [
      "요약 진행 중:  63%|██████▎   | 1496/2388 [1:02:36<29:18,  1.97s/it]"
     ]
    },
    {
     "name": "stdout",
     "output_type": "stream",
     "text": [
      "1497/2388 행 요약 완료\n"
     ]
    },
    {
     "name": "stderr",
     "output_type": "stream",
     "text": [
      "요약 진행 중:  63%|██████▎   | 1497/2388 [1:02:38<28:51,  1.94s/it]"
     ]
    },
    {
     "name": "stdout",
     "output_type": "stream",
     "text": [
      "1498/2388 행 요약 완료\n"
     ]
    },
    {
     "name": "stderr",
     "output_type": "stream",
     "text": [
      "요약 진행 중:  63%|██████▎   | 1498/2388 [1:02:43<40:14,  2.71s/it]"
     ]
    },
    {
     "name": "stdout",
     "output_type": "stream",
     "text": [
      "1499/2388 행 요약 완료\n"
     ]
    },
    {
     "name": "stderr",
     "output_type": "stream",
     "text": [
      "요약 진행 중:  63%|██████▎   | 1499/2388 [1:02:46<43:53,  2.96s/it]"
     ]
    },
    {
     "name": "stdout",
     "output_type": "stream",
     "text": [
      "1500/2388 행 요약 완료\n"
     ]
    },
    {
     "name": "stderr",
     "output_type": "stream",
     "text": [
      "요약 진행 중:  63%|██████▎   | 1500/2388 [1:02:51<49:46,  3.36s/it]"
     ]
    },
    {
     "name": "stdout",
     "output_type": "stream",
     "text": [
      "1501/2388 행 요약 완료\n"
     ]
    },
    {
     "name": "stderr",
     "output_type": "stream",
     "text": [
      "요약 진행 중:  63%|██████▎   | 1501/2388 [1:02:53<43:13,  2.92s/it]"
     ]
    },
    {
     "name": "stdout",
     "output_type": "stream",
     "text": [
      "1502/2388 행 요약 완료\n"
     ]
    },
    {
     "name": "stderr",
     "output_type": "stream",
     "text": [
      "요약 진행 중:  63%|██████▎   | 1502/2388 [1:02:55<39:51,  2.70s/it]"
     ]
    },
    {
     "name": "stdout",
     "output_type": "stream",
     "text": [
      "1503/2388 행 요약 완료\n"
     ]
    },
    {
     "name": "stderr",
     "output_type": "stream",
     "text": [
      "요약 진행 중:  63%|██████▎   | 1503/2388 [1:02:56<34:55,  2.37s/it]"
     ]
    },
    {
     "name": "stdout",
     "output_type": "stream",
     "text": [
      "1504/2388 행 요약 완료\n"
     ]
    },
    {
     "name": "stderr",
     "output_type": "stream",
     "text": [
      "요약 진행 중:  63%|██████▎   | 1504/2388 [1:02:59<35:26,  2.41s/it]"
     ]
    },
    {
     "name": "stdout",
     "output_type": "stream",
     "text": [
      "1505/2388 행 요약 완료\n"
     ]
    },
    {
     "name": "stderr",
     "output_type": "stream",
     "text": [
      "요약 진행 중:  63%|██████▎   | 1505/2388 [1:03:03<42:54,  2.92s/it]"
     ]
    },
    {
     "name": "stdout",
     "output_type": "stream",
     "text": [
      "1506/2388 행 요약 완료\n"
     ]
    },
    {
     "name": "stderr",
     "output_type": "stream",
     "text": [
      "요약 진행 중:  63%|██████▎   | 1506/2388 [1:03:04<36:01,  2.45s/it]"
     ]
    },
    {
     "name": "stdout",
     "output_type": "stream",
     "text": [
      "1507/2388 행 요약 완료\n"
     ]
    },
    {
     "name": "stderr",
     "output_type": "stream",
     "text": [
      "요약 진행 중:  63%|██████▎   | 1507/2388 [1:03:06<32:37,  2.22s/it]"
     ]
    },
    {
     "name": "stdout",
     "output_type": "stream",
     "text": [
      "1508/2388 행 요약 완료\n"
     ]
    },
    {
     "name": "stderr",
     "output_type": "stream",
     "text": [
      "요약 진행 중:  63%|██████▎   | 1508/2388 [1:03:08<30:00,  2.05s/it]"
     ]
    },
    {
     "name": "stdout",
     "output_type": "stream",
     "text": [
      "1509/2388 행 요약 완료\n"
     ]
    },
    {
     "name": "stderr",
     "output_type": "stream",
     "text": [
      "요약 진행 중:  63%|██████▎   | 1509/2388 [1:03:10<31:10,  2.13s/it]"
     ]
    },
    {
     "name": "stdout",
     "output_type": "stream",
     "text": [
      "1510/2388 행 요약 완료\n"
     ]
    },
    {
     "name": "stderr",
     "output_type": "stream",
     "text": [
      "요약 진행 중:  63%|██████▎   | 1510/2388 [1:03:12<32:39,  2.23s/it]"
     ]
    },
    {
     "name": "stdout",
     "output_type": "stream",
     "text": [
      "1511/2388 행 요약 완료\n"
     ]
    },
    {
     "name": "stderr",
     "output_type": "stream",
     "text": [
      "요약 진행 중:  63%|██████▎   | 1511/2388 [1:03:16<38:27,  2.63s/it]"
     ]
    },
    {
     "name": "stdout",
     "output_type": "stream",
     "text": [
      "1512/2388 행 요약 완료\n"
     ]
    },
    {
     "name": "stderr",
     "output_type": "stream",
     "text": [
      "요약 진행 중:  63%|██████▎   | 1512/2388 [1:03:20<43:24,  2.97s/it]"
     ]
    },
    {
     "name": "stdout",
     "output_type": "stream",
     "text": [
      "1513/2388 행 요약 완료\n"
     ]
    },
    {
     "name": "stderr",
     "output_type": "stream",
     "text": [
      "요약 진행 중:  63%|██████▎   | 1513/2388 [1:03:23<43:21,  2.97s/it]"
     ]
    },
    {
     "name": "stdout",
     "output_type": "stream",
     "text": [
      "1514/2388 행 요약 완료\n"
     ]
    },
    {
     "name": "stderr",
     "output_type": "stream",
     "text": [
      "요약 진행 중:  63%|██████▎   | 1514/2388 [1:03:24<37:38,  2.58s/it]"
     ]
    },
    {
     "name": "stdout",
     "output_type": "stream",
     "text": [
      "1515/2388 행 요약 완료\n"
     ]
    },
    {
     "name": "stderr",
     "output_type": "stream",
     "text": [
      "요약 진행 중:  63%|██████▎   | 1515/2388 [1:03:26<33:29,  2.30s/it]"
     ]
    },
    {
     "name": "stdout",
     "output_type": "stream",
     "text": [
      "1516/2388 행 요약 완료\n"
     ]
    },
    {
     "name": "stderr",
     "output_type": "stream",
     "text": [
      "요약 진행 중:  63%|██████▎   | 1516/2388 [1:03:29<33:59,  2.34s/it]"
     ]
    },
    {
     "name": "stdout",
     "output_type": "stream",
     "text": [
      "1517/2388 행 요약 완료\n"
     ]
    },
    {
     "name": "stderr",
     "output_type": "stream",
     "text": [
      "요약 진행 중:  64%|██████▎   | 1517/2388 [1:03:33<41:23,  2.85s/it]"
     ]
    },
    {
     "name": "stdout",
     "output_type": "stream",
     "text": [
      "1518/2388 행 요약 완료\n"
     ]
    },
    {
     "name": "stderr",
     "output_type": "stream",
     "text": [
      "요약 진행 중:  64%|██████▎   | 1518/2388 [1:03:36<41:47,  2.88s/it]"
     ]
    },
    {
     "name": "stdout",
     "output_type": "stream",
     "text": [
      "1519/2388 행 요약 완료\n"
     ]
    },
    {
     "name": "stderr",
     "output_type": "stream",
     "text": [
      "요약 진행 중:  64%|██████▎   | 1519/2388 [1:03:38<40:38,  2.81s/it]"
     ]
    },
    {
     "name": "stdout",
     "output_type": "stream",
     "text": [
      "1520/2388 행 요약 완료\n"
     ]
    },
    {
     "name": "stderr",
     "output_type": "stream",
     "text": [
      "요약 진행 중:  64%|██████▎   | 1520/2388 [1:03:40<35:49,  2.48s/it]"
     ]
    },
    {
     "name": "stdout",
     "output_type": "stream",
     "text": [
      "1521/2388 행 요약 완료\n"
     ]
    },
    {
     "name": "stderr",
     "output_type": "stream",
     "text": [
      "요약 진행 중:  64%|██████▎   | 1521/2388 [1:03:44<42:26,  2.94s/it]"
     ]
    },
    {
     "name": "stdout",
     "output_type": "stream",
     "text": [
      "1522/2388 행 요약 완료\n"
     ]
    },
    {
     "name": "stderr",
     "output_type": "stream",
     "text": [
      "요약 진행 중:  64%|██████▎   | 1522/2388 [1:03:48<47:24,  3.29s/it]"
     ]
    },
    {
     "name": "stdout",
     "output_type": "stream",
     "text": [
      "1523/2388 행 요약 완료\n"
     ]
    },
    {
     "name": "stderr",
     "output_type": "stream",
     "text": [
      "요약 진행 중:  64%|██████▍   | 1523/2388 [1:03:52<52:30,  3.64s/it]"
     ]
    },
    {
     "name": "stdout",
     "output_type": "stream",
     "text": [
      "1524/2388 행 요약 완료\n"
     ]
    },
    {
     "name": "stderr",
     "output_type": "stream",
     "text": [
      "요약 진행 중:  64%|██████▍   | 1524/2388 [1:03:56<52:21,  3.64s/it]"
     ]
    },
    {
     "name": "stdout",
     "output_type": "stream",
     "text": [
      "1525/2388 행 요약 완료\n"
     ]
    },
    {
     "name": "stderr",
     "output_type": "stream",
     "text": [
      "요약 진행 중:  64%|██████▍   | 1525/2388 [1:03:59<47:56,  3.33s/it]"
     ]
    },
    {
     "name": "stdout",
     "output_type": "stream",
     "text": [
      "1526/2388 행 요약 완료\n"
     ]
    },
    {
     "name": "stderr",
     "output_type": "stream",
     "text": [
      "요약 진행 중:  64%|██████▍   | 1526/2388 [1:04:00<41:01,  2.86s/it]"
     ]
    },
    {
     "name": "stdout",
     "output_type": "stream",
     "text": [
      "1527/2388 행 요약 완료\n"
     ]
    },
    {
     "name": "stderr",
     "output_type": "stream",
     "text": [
      "요약 진행 중:  64%|██████▍   | 1527/2388 [1:04:02<36:00,  2.51s/it]"
     ]
    },
    {
     "name": "stdout",
     "output_type": "stream",
     "text": [
      "1528/2388 행 요약 완료\n"
     ]
    },
    {
     "name": "stderr",
     "output_type": "stream",
     "text": [
      "요약 진행 중:  64%|██████▍   | 1528/2388 [1:04:05<38:16,  2.67s/it]"
     ]
    },
    {
     "name": "stdout",
     "output_type": "stream",
     "text": [
      "1529/2388 행 요약 완료\n"
     ]
    },
    {
     "name": "stderr",
     "output_type": "stream",
     "text": [
      "요약 진행 중:  64%|██████▍   | 1529/2388 [1:04:08<39:54,  2.79s/it]"
     ]
    },
    {
     "name": "stdout",
     "output_type": "stream",
     "text": [
      "1530/2388 행 요약 완료\n"
     ]
    },
    {
     "name": "stderr",
     "output_type": "stream",
     "text": [
      "요약 진행 중:  64%|██████▍   | 1530/2388 [1:04:11<37:38,  2.63s/it]"
     ]
    },
    {
     "name": "stdout",
     "output_type": "stream",
     "text": [
      "1531/2388 행 요약 완료\n"
     ]
    },
    {
     "name": "stderr",
     "output_type": "stream",
     "text": [
      "요약 진행 중:  64%|██████▍   | 1531/2388 [1:04:14<40:26,  2.83s/it]"
     ]
    },
    {
     "name": "stdout",
     "output_type": "stream",
     "text": [
      "1532/2388 행 요약 완료\n"
     ]
    },
    {
     "name": "stderr",
     "output_type": "stream",
     "text": [
      "요약 진행 중:  64%|██████▍   | 1532/2388 [1:04:16<36:54,  2.59s/it]"
     ]
    },
    {
     "name": "stdout",
     "output_type": "stream",
     "text": [
      "1533/2388 행 요약 완료\n"
     ]
    },
    {
     "name": "stderr",
     "output_type": "stream",
     "text": [
      "요약 진행 중:  64%|██████▍   | 1533/2388 [1:04:19<40:42,  2.86s/it]"
     ]
    },
    {
     "name": "stdout",
     "output_type": "stream",
     "text": [
      "1534/2388 행 요약 완료\n"
     ]
    },
    {
     "name": "stderr",
     "output_type": "stream",
     "text": [
      "요약 진행 중:  64%|██████▍   | 1534/2388 [1:04:22<39:07,  2.75s/it]"
     ]
    },
    {
     "name": "stdout",
     "output_type": "stream",
     "text": [
      "1535/2388 행 요약 완료\n"
     ]
    },
    {
     "name": "stderr",
     "output_type": "stream",
     "text": [
      "요약 진행 중:  64%|██████▍   | 1535/2388 [1:04:25<42:07,  2.96s/it]"
     ]
    },
    {
     "name": "stdout",
     "output_type": "stream",
     "text": [
      "1536/2388 행 요약 완료\n"
     ]
    },
    {
     "name": "stderr",
     "output_type": "stream",
     "text": [
      "요약 진행 중:  64%|██████▍   | 1536/2388 [1:04:29<44:48,  3.16s/it]"
     ]
    },
    {
     "name": "stdout",
     "output_type": "stream",
     "text": [
      "1537/2388 행 요약 완료\n"
     ]
    },
    {
     "name": "stderr",
     "output_type": "stream",
     "text": [
      "요약 진행 중:  64%|██████▍   | 1537/2388 [1:04:32<42:38,  3.01s/it]"
     ]
    },
    {
     "name": "stdout",
     "output_type": "stream",
     "text": [
      "1538/2388 행 요약 완료\n"
     ]
    },
    {
     "name": "stderr",
     "output_type": "stream",
     "text": [
      "요약 진행 중:  64%|██████▍   | 1538/2388 [1:04:36<46:53,  3.31s/it]"
     ]
    },
    {
     "name": "stdout",
     "output_type": "stream",
     "text": [
      "1539/2388 행 요약 완료\n"
     ]
    },
    {
     "name": "stderr",
     "output_type": "stream",
     "text": [
      "요약 진행 중:  64%|██████▍   | 1539/2388 [1:04:39<48:12,  3.41s/it]"
     ]
    },
    {
     "name": "stdout",
     "output_type": "stream",
     "text": [
      "1540/2388 행 요약 완료\n"
     ]
    },
    {
     "name": "stderr",
     "output_type": "stream",
     "text": [
      "요약 진행 중:  64%|██████▍   | 1540/2388 [1:04:41<42:38,  3.02s/it]"
     ]
    },
    {
     "name": "stdout",
     "output_type": "stream",
     "text": [
      "1541/2388 행 요약 완료\n"
     ]
    },
    {
     "name": "stderr",
     "output_type": "stream",
     "text": [
      "요약 진행 중:  65%|██████▍   | 1541/2388 [1:04:44<42:48,  3.03s/it]"
     ]
    },
    {
     "name": "stdout",
     "output_type": "stream",
     "text": [
      "1542/2388 행 요약 완료\n"
     ]
    },
    {
     "name": "stderr",
     "output_type": "stream",
     "text": [
      "요약 진행 중:  65%|██████▍   | 1542/2388 [1:04:47<42:00,  2.98s/it]"
     ]
    },
    {
     "name": "stdout",
     "output_type": "stream",
     "text": [
      "1543/2388 행 요약 완료\n"
     ]
    },
    {
     "name": "stderr",
     "output_type": "stream",
     "text": [
      "요약 진행 중:  65%|██████▍   | 1543/2388 [1:04:51<46:40,  3.31s/it]"
     ]
    },
    {
     "name": "stdout",
     "output_type": "stream",
     "text": [
      "1544/2388 행 요약 완료\n"
     ]
    },
    {
     "name": "stderr",
     "output_type": "stream",
     "text": [
      "요약 진행 중:  65%|██████▍   | 1544/2388 [1:04:53<39:07,  2.78s/it]"
     ]
    },
    {
     "name": "stdout",
     "output_type": "stream",
     "text": [
      "1545/2388 행 요약 완료\n"
     ]
    },
    {
     "name": "stderr",
     "output_type": "stream",
     "text": [
      "요약 진행 중:  65%|██████▍   | 1545/2388 [1:04:54<34:10,  2.43s/it]"
     ]
    },
    {
     "name": "stdout",
     "output_type": "stream",
     "text": [
      "1546/2388 행 요약 완료\n"
     ]
    },
    {
     "name": "stderr",
     "output_type": "stream",
     "text": [
      "요약 진행 중:  65%|██████▍   | 1546/2388 [1:04:56<30:06,  2.15s/it]"
     ]
    },
    {
     "name": "stdout",
     "output_type": "stream",
     "text": [
      "1547/2388 행 요약 완료\n"
     ]
    },
    {
     "name": "stderr",
     "output_type": "stream",
     "text": [
      "요약 진행 중:  65%|██████▍   | 1547/2388 [1:04:58<28:59,  2.07s/it]"
     ]
    },
    {
     "name": "stdout",
     "output_type": "stream",
     "text": [
      "1548/2388 행 요약 완료\n"
     ]
    },
    {
     "name": "stderr",
     "output_type": "stream",
     "text": [
      "요약 진행 중:  65%|██████▍   | 1548/2388 [1:05:00<28:07,  2.01s/it]"
     ]
    },
    {
     "name": "stdout",
     "output_type": "stream",
     "text": [
      "1549/2388 행 요약 완료\n"
     ]
    },
    {
     "name": "stderr",
     "output_type": "stream",
     "text": [
      "요약 진행 중:  65%|██████▍   | 1549/2388 [1:05:01<26:44,  1.91s/it]"
     ]
    },
    {
     "name": "stdout",
     "output_type": "stream",
     "text": [
      "1550/2388 행 요약 완료\n"
     ]
    },
    {
     "name": "stderr",
     "output_type": "stream",
     "text": [
      "요약 진행 중:  65%|██████▍   | 1550/2388 [1:05:03<25:05,  1.80s/it]"
     ]
    },
    {
     "name": "stdout",
     "output_type": "stream",
     "text": [
      "1551/2388 행 요약 완료\n"
     ]
    },
    {
     "name": "stderr",
     "output_type": "stream",
     "text": [
      "요약 진행 중:  65%|██████▍   | 1551/2388 [1:05:04<22:36,  1.62s/it]"
     ]
    },
    {
     "name": "stdout",
     "output_type": "stream",
     "text": [
      "1552/2388 행 요약 완료\n"
     ]
    },
    {
     "name": "stderr",
     "output_type": "stream",
     "text": [
      "요약 진행 중:  65%|██████▍   | 1552/2388 [1:05:06<24:16,  1.74s/it]"
     ]
    },
    {
     "name": "stdout",
     "output_type": "stream",
     "text": [
      "1553/2388 행 요약 완료\n"
     ]
    },
    {
     "name": "stderr",
     "output_type": "stream",
     "text": [
      "요약 진행 중:  65%|██████▌   | 1553/2388 [1:05:09<27:30,  1.98s/it]"
     ]
    },
    {
     "name": "stdout",
     "output_type": "stream",
     "text": [
      "1554/2388 행 요약 완료\n"
     ]
    },
    {
     "name": "stderr",
     "output_type": "stream",
     "text": [
      "요약 진행 중:  65%|██████▌   | 1554/2388 [1:05:11<28:33,  2.05s/it]"
     ]
    },
    {
     "name": "stdout",
     "output_type": "stream",
     "text": [
      "1555/2388 행 요약 완료\n"
     ]
    },
    {
     "name": "stderr",
     "output_type": "stream",
     "text": [
      "요약 진행 중:  65%|██████▌   | 1555/2388 [1:05:14<32:05,  2.31s/it]"
     ]
    },
    {
     "name": "stdout",
     "output_type": "stream",
     "text": [
      "1556/2388 행 요약 완료\n"
     ]
    },
    {
     "name": "stderr",
     "output_type": "stream",
     "text": [
      "요약 진행 중:  65%|██████▌   | 1556/2388 [1:05:16<30:24,  2.19s/it]"
     ]
    },
    {
     "name": "stdout",
     "output_type": "stream",
     "text": [
      "1557/2388 행 요약 완료\n"
     ]
    },
    {
     "name": "stderr",
     "output_type": "stream",
     "text": [
      "요약 진행 중:  65%|██████▌   | 1557/2388 [1:05:18<28:59,  2.09s/it]"
     ]
    },
    {
     "name": "stdout",
     "output_type": "stream",
     "text": [
      "1558/2388 행 요약 완료\n"
     ]
    },
    {
     "name": "stderr",
     "output_type": "stream",
     "text": [
      "요약 진행 중:  65%|██████▌   | 1558/2388 [1:05:19<26:46,  1.94s/it]"
     ]
    },
    {
     "name": "stdout",
     "output_type": "stream",
     "text": [
      "1559/2388 행 요약 완료\n"
     ]
    },
    {
     "name": "stderr",
     "output_type": "stream",
     "text": [
      "요약 진행 중:  65%|██████▌   | 1559/2388 [1:05:22<30:04,  2.18s/it]"
     ]
    },
    {
     "name": "stdout",
     "output_type": "stream",
     "text": [
      "1560/2388 행 요약 완료\n"
     ]
    },
    {
     "name": "stderr",
     "output_type": "stream",
     "text": [
      "요약 진행 중:  65%|██████▌   | 1560/2388 [1:05:24<28:21,  2.06s/it]"
     ]
    },
    {
     "name": "stdout",
     "output_type": "stream",
     "text": [
      "1561/2388 행 요약 완료\n"
     ]
    },
    {
     "name": "stderr",
     "output_type": "stream",
     "text": [
      "요약 진행 중:  65%|██████▌   | 1561/2388 [1:05:26<29:26,  2.14s/it]"
     ]
    },
    {
     "name": "stdout",
     "output_type": "stream",
     "text": [
      "1562/2388 행 요약 완료\n"
     ]
    },
    {
     "name": "stderr",
     "output_type": "stream",
     "text": [
      "요약 진행 중:  65%|██████▌   | 1562/2388 [1:05:29<34:20,  2.49s/it]"
     ]
    },
    {
     "name": "stdout",
     "output_type": "stream",
     "text": [
      "1563/2388 행 요약 완료\n"
     ]
    },
    {
     "name": "stderr",
     "output_type": "stream",
     "text": [
      "요약 진행 중:  65%|██████▌   | 1563/2388 [1:05:31<32:05,  2.33s/it]"
     ]
    },
    {
     "name": "stdout",
     "output_type": "stream",
     "text": [
      "1564/2388 행 요약 완료\n"
     ]
    },
    {
     "name": "stderr",
     "output_type": "stream",
     "text": [
      "요약 진행 중:  65%|██████▌   | 1564/2388 [1:05:33<29:30,  2.15s/it]"
     ]
    },
    {
     "name": "stdout",
     "output_type": "stream",
     "text": [
      "1565/2388 행 요약 완료\n"
     ]
    },
    {
     "name": "stderr",
     "output_type": "stream",
     "text": [
      "요약 진행 중:  66%|██████▌   | 1565/2388 [1:05:37<35:40,  2.60s/it]"
     ]
    },
    {
     "name": "stdout",
     "output_type": "stream",
     "text": [
      "1566/2388 행 요약 완료\n"
     ]
    },
    {
     "name": "stderr",
     "output_type": "stream",
     "text": [
      "요약 진행 중:  66%|██████▌   | 1566/2388 [1:05:38<30:01,  2.19s/it]"
     ]
    },
    {
     "name": "stdout",
     "output_type": "stream",
     "text": [
      "1567/2388 행 요약 완료\n"
     ]
    },
    {
     "name": "stderr",
     "output_type": "stream",
     "text": [
      "요약 진행 중:  66%|██████▌   | 1567/2388 [1:05:40<28:21,  2.07s/it]"
     ]
    },
    {
     "name": "stdout",
     "output_type": "stream",
     "text": [
      "1568/2388 행 요약 완료\n"
     ]
    },
    {
     "name": "stderr",
     "output_type": "stream",
     "text": [
      "요약 진행 중:  66%|██████▌   | 1568/2388 [1:05:45<41:08,  3.01s/it]"
     ]
    },
    {
     "name": "stdout",
     "output_type": "stream",
     "text": [
      "1569/2388 행 요약 완료\n"
     ]
    },
    {
     "name": "stderr",
     "output_type": "stream",
     "text": [
      "요약 진행 중:  66%|██████▌   | 1569/2388 [1:05:47<38:05,  2.79s/it]"
     ]
    },
    {
     "name": "stdout",
     "output_type": "stream",
     "text": [
      "1570/2388 행 요약 완료\n"
     ]
    },
    {
     "name": "stderr",
     "output_type": "stream",
     "text": [
      "요약 진행 중:  66%|██████▌   | 1570/2388 [1:05:51<41:48,  3.07s/it]"
     ]
    },
    {
     "name": "stdout",
     "output_type": "stream",
     "text": [
      "1571/2388 행 요약 완료\n"
     ]
    },
    {
     "name": "stderr",
     "output_type": "stream",
     "text": [
      "요약 진행 중:  66%|██████▌   | 1571/2388 [1:05:54<42:50,  3.15s/it]"
     ]
    },
    {
     "name": "stdout",
     "output_type": "stream",
     "text": [
      "1572/2388 행 요약 완료\n"
     ]
    },
    {
     "name": "stderr",
     "output_type": "stream",
     "text": [
      "요약 진행 중:  66%|██████▌   | 1572/2388 [1:05:56<35:49,  2.63s/it]"
     ]
    },
    {
     "name": "stdout",
     "output_type": "stream",
     "text": [
      "1573/2388 행 요약 완료\n"
     ]
    },
    {
     "name": "stderr",
     "output_type": "stream",
     "text": [
      "요약 진행 중:  66%|██████▌   | 1573/2388 [1:05:59<37:28,  2.76s/it]"
     ]
    },
    {
     "name": "stdout",
     "output_type": "stream",
     "text": [
      "1574/2388 행 요약 완료\n"
     ]
    },
    {
     "name": "stderr",
     "output_type": "stream",
     "text": [
      "요약 진행 중:  66%|██████▌   | 1574/2388 [1:06:01<37:23,  2.76s/it]"
     ]
    },
    {
     "name": "stdout",
     "output_type": "stream",
     "text": [
      "1575/2388 행 요약 완료\n"
     ]
    },
    {
     "name": "stderr",
     "output_type": "stream",
     "text": [
      "요약 진행 중:  66%|██████▌   | 1575/2388 [1:06:04<37:51,  2.79s/it]"
     ]
    },
    {
     "name": "stdout",
     "output_type": "stream",
     "text": [
      "1576/2388 행 요약 완료\n"
     ]
    },
    {
     "name": "stderr",
     "output_type": "stream",
     "text": [
      "요약 진행 중:  66%|██████▌   | 1576/2388 [1:06:10<49:22,  3.65s/it]"
     ]
    },
    {
     "name": "stdout",
     "output_type": "stream",
     "text": [
      "1577/2388 행 요약 완료\n"
     ]
    },
    {
     "name": "stderr",
     "output_type": "stream",
     "text": [
      "요약 진행 중:  66%|██████▌   | 1577/2388 [1:06:12<41:07,  3.04s/it]"
     ]
    },
    {
     "name": "stdout",
     "output_type": "stream",
     "text": [
      "1578/2388 행 요약 완료\n"
     ]
    },
    {
     "name": "stderr",
     "output_type": "stream",
     "text": [
      "요약 진행 중:  66%|██████▌   | 1578/2388 [1:06:13<33:05,  2.45s/it]"
     ]
    },
    {
     "name": "stdout",
     "output_type": "stream",
     "text": [
      "1579/2388 행 요약 완료\n"
     ]
    },
    {
     "name": "stderr",
     "output_type": "stream",
     "text": [
      "요약 진행 중:  66%|██████▌   | 1579/2388 [1:06:14<29:29,  2.19s/it]"
     ]
    },
    {
     "name": "stdout",
     "output_type": "stream",
     "text": [
      "1580/2388 행 요약 완료\n"
     ]
    },
    {
     "name": "stderr",
     "output_type": "stream",
     "text": [
      "요약 진행 중:  66%|██████▌   | 1580/2388 [1:06:15<25:30,  1.89s/it]"
     ]
    },
    {
     "name": "stdout",
     "output_type": "stream",
     "text": [
      "1581/2388 행 요약 완료\n"
     ]
    },
    {
     "name": "stderr",
     "output_type": "stream",
     "text": [
      "요약 진행 중:  66%|██████▌   | 1581/2388 [1:06:19<33:46,  2.51s/it]"
     ]
    },
    {
     "name": "stdout",
     "output_type": "stream",
     "text": [
      "1582/2388 행 요약 완료\n"
     ]
    },
    {
     "name": "stderr",
     "output_type": "stream",
     "text": [
      "요약 진행 중:  66%|██████▌   | 1582/2388 [1:06:22<35:13,  2.62s/it]"
     ]
    },
    {
     "name": "stdout",
     "output_type": "stream",
     "text": [
      "1583/2388 행 요약 완료\n"
     ]
    },
    {
     "name": "stderr",
     "output_type": "stream",
     "text": [
      "요약 진행 중:  66%|██████▋   | 1583/2388 [1:06:26<40:42,  3.03s/it]"
     ]
    },
    {
     "name": "stdout",
     "output_type": "stream",
     "text": [
      "1584/2388 행 요약 완료\n"
     ]
    },
    {
     "name": "stderr",
     "output_type": "stream",
     "text": [
      "요약 진행 중:  66%|██████▋   | 1584/2388 [1:06:28<35:22,  2.64s/it]"
     ]
    },
    {
     "name": "stdout",
     "output_type": "stream",
     "text": [
      "1585/2388 행 요약 완료\n"
     ]
    },
    {
     "name": "stderr",
     "output_type": "stream",
     "text": [
      "요약 진행 중:  66%|██████▋   | 1585/2388 [1:06:32<39:45,  2.97s/it]"
     ]
    },
    {
     "name": "stdout",
     "output_type": "stream",
     "text": [
      "1586/2388 행 요약 완료\n"
     ]
    },
    {
     "name": "stderr",
     "output_type": "stream",
     "text": [
      "요약 진행 중:  66%|██████▋   | 1586/2388 [1:06:34<36:26,  2.73s/it]"
     ]
    },
    {
     "name": "stdout",
     "output_type": "stream",
     "text": [
      "1587/2388 행 요약 완료\n"
     ]
    },
    {
     "name": "stderr",
     "output_type": "stream",
     "text": [
      "요약 진행 중:  66%|██████▋   | 1587/2388 [1:06:35<31:11,  2.34s/it]"
     ]
    },
    {
     "name": "stdout",
     "output_type": "stream",
     "text": [
      "1588/2388 행 요약 완료\n"
     ]
    },
    {
     "name": "stderr",
     "output_type": "stream",
     "text": [
      "요약 진행 중:  66%|██████▋   | 1588/2388 [1:06:36<26:18,  1.97s/it]"
     ]
    },
    {
     "name": "stdout",
     "output_type": "stream",
     "text": [
      "1589/2388 행 요약 완료\n"
     ]
    },
    {
     "name": "stderr",
     "output_type": "stream",
     "text": [
      "요약 진행 중:  67%|██████▋   | 1589/2388 [1:06:39<28:50,  2.17s/it]"
     ]
    },
    {
     "name": "stdout",
     "output_type": "stream",
     "text": [
      "1590/2388 행 요약 완료\n"
     ]
    },
    {
     "name": "stderr",
     "output_type": "stream",
     "text": [
      "요약 진행 중:  67%|██████▋   | 1590/2388 [1:06:41<28:58,  2.18s/it]"
     ]
    },
    {
     "name": "stdout",
     "output_type": "stream",
     "text": [
      "1591/2388 행 요약 완료\n"
     ]
    },
    {
     "name": "stderr",
     "output_type": "stream",
     "text": [
      "요약 진행 중:  67%|██████▋   | 1591/2388 [1:06:43<27:52,  2.10s/it]"
     ]
    },
    {
     "name": "stdout",
     "output_type": "stream",
     "text": [
      "1592/2388 행 요약 완료\n"
     ]
    },
    {
     "name": "stderr",
     "output_type": "stream",
     "text": [
      "요약 진행 중:  67%|██████▋   | 1592/2388 [1:06:45<24:46,  1.87s/it]"
     ]
    },
    {
     "name": "stdout",
     "output_type": "stream",
     "text": [
      "1593/2388 행 요약 완료\n"
     ]
    },
    {
     "name": "stderr",
     "output_type": "stream",
     "text": [
      "요약 진행 중:  67%|██████▋   | 1593/2388 [1:06:48<29:48,  2.25s/it]"
     ]
    },
    {
     "name": "stdout",
     "output_type": "stream",
     "text": [
      "1594/2388 행 요약 완료\n"
     ]
    },
    {
     "name": "stderr",
     "output_type": "stream",
     "text": [
      "요약 진행 중:  67%|██████▋   | 1594/2388 [1:06:51<34:34,  2.61s/it]"
     ]
    },
    {
     "name": "stdout",
     "output_type": "stream",
     "text": [
      "1595/2388 행 요약 완료\n"
     ]
    },
    {
     "name": "stderr",
     "output_type": "stream",
     "text": [
      "요약 진행 중:  67%|██████▋   | 1595/2388 [1:06:54<36:54,  2.79s/it]"
     ]
    },
    {
     "name": "stdout",
     "output_type": "stream",
     "text": [
      "1596/2388 행 요약 완료\n"
     ]
    },
    {
     "name": "stderr",
     "output_type": "stream",
     "text": [
      "요약 진행 중:  67%|██████▋   | 1596/2388 [1:06:57<36:19,  2.75s/it]"
     ]
    },
    {
     "name": "stdout",
     "output_type": "stream",
     "text": [
      "1597/2388 행 요약 완료\n"
     ]
    },
    {
     "name": "stderr",
     "output_type": "stream",
     "text": [
      "요약 진행 중:  67%|██████▋   | 1597/2388 [1:06:59<31:39,  2.40s/it]"
     ]
    },
    {
     "name": "stdout",
     "output_type": "stream",
     "text": [
      "1598/2388 행 요약 완료\n"
     ]
    },
    {
     "name": "stderr",
     "output_type": "stream",
     "text": [
      "요약 진행 중:  67%|██████▋   | 1598/2388 [1:07:01<31:31,  2.39s/it]"
     ]
    },
    {
     "name": "stdout",
     "output_type": "stream",
     "text": [
      "1599/2388 행 요약 완료\n"
     ]
    },
    {
     "name": "stderr",
     "output_type": "stream",
     "text": [
      "요약 진행 중:  67%|██████▋   | 1599/2388 [1:07:04<33:13,  2.53s/it]"
     ]
    },
    {
     "name": "stdout",
     "output_type": "stream",
     "text": [
      "1600/2388 행 요약 완료\n"
     ]
    },
    {
     "name": "stderr",
     "output_type": "stream",
     "text": [
      "요약 진행 중:  67%|██████▋   | 1600/2388 [1:07:06<32:04,  2.44s/it]"
     ]
    },
    {
     "name": "stdout",
     "output_type": "stream",
     "text": [
      "1601/2388 행 요약 완료\n"
     ]
    },
    {
     "name": "stderr",
     "output_type": "stream",
     "text": [
      "요약 진행 중:  67%|██████▋   | 1601/2388 [1:07:08<28:16,  2.16s/it]"
     ]
    },
    {
     "name": "stdout",
     "output_type": "stream",
     "text": [
      "1602/2388 행 요약 완료\n"
     ]
    },
    {
     "name": "stderr",
     "output_type": "stream",
     "text": [
      "요약 진행 중:  67%|██████▋   | 1602/2388 [1:07:09<27:09,  2.07s/it]"
     ]
    },
    {
     "name": "stdout",
     "output_type": "stream",
     "text": [
      "1603/2388 행 요약 완료\n"
     ]
    },
    {
     "name": "stderr",
     "output_type": "stream",
     "text": [
      "요약 진행 중:  67%|██████▋   | 1603/2388 [1:07:12<27:45,  2.12s/it]"
     ]
    },
    {
     "name": "stdout",
     "output_type": "stream",
     "text": [
      "1604/2388 행 요약 완료\n"
     ]
    },
    {
     "name": "stderr",
     "output_type": "stream",
     "text": [
      "요약 진행 중:  67%|██████▋   | 1604/2388 [1:07:15<32:59,  2.52s/it]"
     ]
    },
    {
     "name": "stdout",
     "output_type": "stream",
     "text": [
      "1605/2388 행 요약 완료\n"
     ]
    },
    {
     "name": "stderr",
     "output_type": "stream",
     "text": [
      "요약 진행 중:  67%|██████▋   | 1605/2388 [1:07:19<37:22,  2.86s/it]"
     ]
    },
    {
     "name": "stdout",
     "output_type": "stream",
     "text": [
      "1606/2388 행 요약 완료\n"
     ]
    },
    {
     "name": "stderr",
     "output_type": "stream",
     "text": [
      "요약 진행 중:  67%|██████▋   | 1606/2388 [1:07:24<45:21,  3.48s/it]"
     ]
    },
    {
     "name": "stdout",
     "output_type": "stream",
     "text": [
      "1607/2388 행 요약 완료\n"
     ]
    },
    {
     "name": "stderr",
     "output_type": "stream",
     "text": [
      "요약 진행 중:  67%|██████▋   | 1607/2388 [1:07:28<46:45,  3.59s/it]"
     ]
    },
    {
     "name": "stdout",
     "output_type": "stream",
     "text": [
      "1608/2388 행 요약 완료\n"
     ]
    },
    {
     "name": "stderr",
     "output_type": "stream",
     "text": [
      "요약 진행 중:  67%|██████▋   | 1608/2388 [1:07:31<44:44,  3.44s/it]"
     ]
    },
    {
     "name": "stdout",
     "output_type": "stream",
     "text": [
      "1609/2388 행 요약 완료\n"
     ]
    },
    {
     "name": "stderr",
     "output_type": "stream",
     "text": [
      "요약 진행 중:  67%|██████▋   | 1609/2388 [1:07:32<36:15,  2.79s/it]"
     ]
    },
    {
     "name": "stdout",
     "output_type": "stream",
     "text": [
      "1610/2388 행 요약 완료\n"
     ]
    },
    {
     "name": "stderr",
     "output_type": "stream",
     "text": [
      "요약 진행 중:  67%|██████▋   | 1610/2388 [1:07:34<32:51,  2.53s/it]"
     ]
    },
    {
     "name": "stdout",
     "output_type": "stream",
     "text": [
      "1611/2388 행 요약 완료\n"
     ]
    },
    {
     "name": "stderr",
     "output_type": "stream",
     "text": [
      "요약 진행 중:  67%|██████▋   | 1611/2388 [1:07:35<28:55,  2.23s/it]"
     ]
    },
    {
     "name": "stdout",
     "output_type": "stream",
     "text": [
      "1612/2388 행 요약 완료\n"
     ]
    },
    {
     "name": "stderr",
     "output_type": "stream",
     "text": [
      "요약 진행 중:  68%|██████▊   | 1612/2388 [1:07:37<26:04,  2.02s/it]"
     ]
    },
    {
     "name": "stdout",
     "output_type": "stream",
     "text": [
      "1613/2388 행 요약 완료\n"
     ]
    },
    {
     "name": "stderr",
     "output_type": "stream",
     "text": [
      "요약 진행 중:  68%|██████▊   | 1613/2388 [1:07:41<34:02,  2.64s/it]"
     ]
    },
    {
     "name": "stdout",
     "output_type": "stream",
     "text": [
      "1614/2388 행 요약 완료\n"
     ]
    },
    {
     "name": "stderr",
     "output_type": "stream",
     "text": [
      "요약 진행 중:  68%|██████▊   | 1614/2388 [1:07:43<32:32,  2.52s/it]"
     ]
    },
    {
     "name": "stdout",
     "output_type": "stream",
     "text": [
      "1615/2388 행 요약 완료\n"
     ]
    },
    {
     "name": "stderr",
     "output_type": "stream",
     "text": [
      "요약 진행 중:  68%|██████▊   | 1615/2388 [1:07:46<31:50,  2.47s/it]"
     ]
    },
    {
     "name": "stdout",
     "output_type": "stream",
     "text": [
      "1616/2388 행 요약 완료\n"
     ]
    },
    {
     "name": "stderr",
     "output_type": "stream",
     "text": [
      "요약 진행 중:  68%|██████▊   | 1616/2388 [1:07:48<30:52,  2.40s/it]"
     ]
    },
    {
     "name": "stdout",
     "output_type": "stream",
     "text": [
      "1617/2388 행 요약 완료\n"
     ]
    },
    {
     "name": "stderr",
     "output_type": "stream",
     "text": [
      "요약 진행 중:  68%|██████▊   | 1617/2388 [1:07:50<30:02,  2.34s/it]"
     ]
    },
    {
     "name": "stdout",
     "output_type": "stream",
     "text": [
      "1618/2388 행 요약 완료\n"
     ]
    },
    {
     "name": "stderr",
     "output_type": "stream",
     "text": [
      "요약 진행 중:  68%|██████▊   | 1618/2388 [1:07:53<34:03,  2.65s/it]"
     ]
    },
    {
     "name": "stdout",
     "output_type": "stream",
     "text": [
      "1619/2388 행 요약 완료\n"
     ]
    },
    {
     "name": "stderr",
     "output_type": "stream",
     "text": [
      "요약 진행 중:  68%|██████▊   | 1619/2388 [1:07:56<33:37,  2.62s/it]"
     ]
    },
    {
     "name": "stdout",
     "output_type": "stream",
     "text": [
      "1620/2388 행 요약 완료\n"
     ]
    },
    {
     "name": "stderr",
     "output_type": "stream",
     "text": [
      "요약 진행 중:  68%|██████▊   | 1620/2388 [1:07:59<35:30,  2.77s/it]"
     ]
    },
    {
     "name": "stdout",
     "output_type": "stream",
     "text": [
      "1621/2388 행 요약 완료\n"
     ]
    },
    {
     "name": "stderr",
     "output_type": "stream",
     "text": [
      "요약 진행 중:  68%|██████▊   | 1621/2388 [1:08:02<35:00,  2.74s/it]"
     ]
    },
    {
     "name": "stdout",
     "output_type": "stream",
     "text": [
      "1622/2388 행 요약 완료\n"
     ]
    },
    {
     "name": "stderr",
     "output_type": "stream",
     "text": [
      "요약 진행 중:  68%|██████▊   | 1622/2388 [1:08:05<36:26,  2.85s/it]"
     ]
    },
    {
     "name": "stdout",
     "output_type": "stream",
     "text": [
      "1623/2388 행 요약 완료\n"
     ]
    },
    {
     "name": "stderr",
     "output_type": "stream",
     "text": [
      "요약 진행 중:  68%|██████▊   | 1623/2388 [1:08:08<35:40,  2.80s/it]"
     ]
    },
    {
     "name": "stdout",
     "output_type": "stream",
     "text": [
      "1624/2388 행 요약 완료\n"
     ]
    },
    {
     "name": "stderr",
     "output_type": "stream",
     "text": [
      "요약 진행 중:  68%|██████▊   | 1624/2388 [1:08:10<36:17,  2.85s/it]"
     ]
    },
    {
     "name": "stdout",
     "output_type": "stream",
     "text": [
      "1625/2388 행 요약 완료\n"
     ]
    },
    {
     "name": "stderr",
     "output_type": "stream",
     "text": [
      "요약 진행 중:  68%|██████▊   | 1625/2388 [1:08:15<41:19,  3.25s/it]"
     ]
    },
    {
     "name": "stdout",
     "output_type": "stream",
     "text": [
      "1626/2388 행 요약 완료\n"
     ]
    },
    {
     "name": "stderr",
     "output_type": "stream",
     "text": [
      "요약 진행 중:  68%|██████▊   | 1626/2388 [1:08:16<35:51,  2.82s/it]"
     ]
    },
    {
     "name": "stdout",
     "output_type": "stream",
     "text": [
      "1627/2388 행 요약 완료\n"
     ]
    },
    {
     "name": "stderr",
     "output_type": "stream",
     "text": [
      "요약 진행 중:  68%|██████▊   | 1627/2388 [1:08:19<36:18,  2.86s/it]"
     ]
    },
    {
     "name": "stdout",
     "output_type": "stream",
     "text": [
      "1628/2388 행 요약 완료\n"
     ]
    },
    {
     "name": "stderr",
     "output_type": "stream",
     "text": [
      "요약 진행 중:  68%|██████▊   | 1628/2388 [1:08:21<32:53,  2.60s/it]"
     ]
    },
    {
     "name": "stdout",
     "output_type": "stream",
     "text": [
      "1629/2388 행 요약 완료\n"
     ]
    },
    {
     "name": "stderr",
     "output_type": "stream",
     "text": [
      "요약 진행 중:  68%|██████▊   | 1629/2388 [1:08:25<34:59,  2.77s/it]"
     ]
    },
    {
     "name": "stdout",
     "output_type": "stream",
     "text": [
      "1630/2388 행 요약 완료\n"
     ]
    },
    {
     "name": "stderr",
     "output_type": "stream",
     "text": [
      "요약 진행 중:  68%|██████▊   | 1630/2388 [1:08:29<40:00,  3.17s/it]"
     ]
    },
    {
     "name": "stdout",
     "output_type": "stream",
     "text": [
      "1631/2388 행 요약 완료\n"
     ]
    },
    {
     "name": "stderr",
     "output_type": "stream",
     "text": [
      "요약 진행 중:  68%|██████▊   | 1631/2388 [1:08:30<33:29,  2.65s/it]"
     ]
    },
    {
     "name": "stdout",
     "output_type": "stream",
     "text": [
      "1632/2388 행 요약 완료\n"
     ]
    },
    {
     "name": "stderr",
     "output_type": "stream",
     "text": [
      "요약 진행 중:  68%|██████▊   | 1632/2388 [1:08:34<38:17,  3.04s/it]"
     ]
    },
    {
     "name": "stdout",
     "output_type": "stream",
     "text": [
      "1633/2388 행 요약 완료\n"
     ]
    },
    {
     "name": "stderr",
     "output_type": "stream",
     "text": [
      "요약 진행 중:  68%|██████▊   | 1633/2388 [1:08:35<31:33,  2.51s/it]"
     ]
    },
    {
     "name": "stdout",
     "output_type": "stream",
     "text": [
      "1634/2388 행 요약 완료\n"
     ]
    },
    {
     "name": "stderr",
     "output_type": "stream",
     "text": [
      "요약 진행 중:  68%|██████▊   | 1634/2388 [1:08:37<30:04,  2.39s/it]"
     ]
    },
    {
     "name": "stdout",
     "output_type": "stream",
     "text": [
      "1635/2388 행 요약 완료\n"
     ]
    },
    {
     "name": "stderr",
     "output_type": "stream",
     "text": [
      "요약 진행 중:  68%|██████▊   | 1635/2388 [1:08:39<27:44,  2.21s/it]"
     ]
    },
    {
     "name": "stdout",
     "output_type": "stream",
     "text": [
      "1636/2388 행 요약 완료\n"
     ]
    },
    {
     "name": "stderr",
     "output_type": "stream",
     "text": [
      "요약 진행 중:  69%|██████▊   | 1636/2388 [1:08:42<29:16,  2.34s/it]"
     ]
    },
    {
     "name": "stdout",
     "output_type": "stream",
     "text": [
      "1637/2388 행 요약 완료\n"
     ]
    },
    {
     "name": "stderr",
     "output_type": "stream",
     "text": [
      "요약 진행 중:  69%|██████▊   | 1637/2388 [1:08:48<44:02,  3.52s/it]"
     ]
    },
    {
     "name": "stdout",
     "output_type": "stream",
     "text": [
      "1638/2388 행 요약 완료\n"
     ]
    },
    {
     "name": "stderr",
     "output_type": "stream",
     "text": [
      "요약 진행 중:  69%|██████▊   | 1638/2388 [1:08:49<33:48,  2.70s/it]"
     ]
    },
    {
     "name": "stdout",
     "output_type": "stream",
     "text": [
      "1639/2388 행 요약 완료\n"
     ]
    },
    {
     "name": "stderr",
     "output_type": "stream",
     "text": [
      "요약 진행 중:  69%|██████▊   | 1639/2388 [1:08:51<30:37,  2.45s/it]"
     ]
    },
    {
     "name": "stdout",
     "output_type": "stream",
     "text": [
      "1640/2388 행 요약 완료\n"
     ]
    },
    {
     "name": "stderr",
     "output_type": "stream",
     "text": [
      "요약 진행 중:  69%|██████▊   | 1640/2388 [1:08:54<33:26,  2.68s/it]"
     ]
    },
    {
     "name": "stdout",
     "output_type": "stream",
     "text": [
      "1641/2388 행 요약 완료\n"
     ]
    },
    {
     "name": "stderr",
     "output_type": "stream",
     "text": [
      "요약 진행 중:  69%|██████▊   | 1641/2388 [1:08:57<33:57,  2.73s/it]"
     ]
    },
    {
     "name": "stdout",
     "output_type": "stream",
     "text": [
      "1642/2388 행 요약 완료\n"
     ]
    },
    {
     "name": "stderr",
     "output_type": "stream",
     "text": [
      "요약 진행 중:  69%|██████▉   | 1642/2388 [1:09:03<46:10,  3.71s/it]"
     ]
    },
    {
     "name": "stdout",
     "output_type": "stream",
     "text": [
      "1643/2388 행 요약 완료\n"
     ]
    },
    {
     "name": "stderr",
     "output_type": "stream",
     "text": [
      "요약 진행 중:  69%|██████▉   | 1643/2388 [1:09:04<37:44,  3.04s/it]"
     ]
    },
    {
     "name": "stdout",
     "output_type": "stream",
     "text": [
      "1644/2388 행 요약 완료\n"
     ]
    },
    {
     "name": "stderr",
     "output_type": "stream",
     "text": [
      "요약 진행 중:  69%|██████▉   | 1644/2388 [1:09:06<33:48,  2.73s/it]"
     ]
    },
    {
     "name": "stdout",
     "output_type": "stream",
     "text": [
      "1645/2388 행 요약 완료\n"
     ]
    },
    {
     "name": "stderr",
     "output_type": "stream",
     "text": [
      "요약 진행 중:  69%|██████▉   | 1645/2388 [1:09:09<31:53,  2.58s/it]"
     ]
    },
    {
     "name": "stdout",
     "output_type": "stream",
     "text": [
      "1646/2388 행 요약 완료\n"
     ]
    },
    {
     "name": "stderr",
     "output_type": "stream",
     "text": [
      "요약 진행 중:  69%|██████▉   | 1646/2388 [1:09:11<32:35,  2.64s/it]"
     ]
    },
    {
     "name": "stdout",
     "output_type": "stream",
     "text": [
      "1647/2388 행 요약 완료\n"
     ]
    },
    {
     "name": "stderr",
     "output_type": "stream",
     "text": [
      "요약 진행 중:  69%|██████▉   | 1647/2388 [1:09:13<28:55,  2.34s/it]"
     ]
    },
    {
     "name": "stdout",
     "output_type": "stream",
     "text": [
      "1648/2388 행 요약 완료\n"
     ]
    },
    {
     "name": "stderr",
     "output_type": "stream",
     "text": [
      "요약 진행 중:  69%|██████▉   | 1648/2388 [1:09:15<28:04,  2.28s/it]"
     ]
    },
    {
     "name": "stdout",
     "output_type": "stream",
     "text": [
      "1649/2388 행 요약 완료\n"
     ]
    },
    {
     "name": "stderr",
     "output_type": "stream",
     "text": [
      "요약 진행 중:  69%|██████▉   | 1649/2388 [1:09:19<33:17,  2.70s/it]"
     ]
    },
    {
     "name": "stdout",
     "output_type": "stream",
     "text": [
      "1650/2388 행 요약 완료\n"
     ]
    },
    {
     "name": "stderr",
     "output_type": "stream",
     "text": [
      "요약 진행 중:  69%|██████▉   | 1650/2388 [1:09:23<38:37,  3.14s/it]"
     ]
    },
    {
     "name": "stdout",
     "output_type": "stream",
     "text": [
      "1651/2388 행 요약 완료\n"
     ]
    },
    {
     "name": "stderr",
     "output_type": "stream",
     "text": [
      "요약 진행 중:  69%|██████▉   | 1651/2388 [1:09:27<42:49,  3.49s/it]"
     ]
    },
    {
     "name": "stdout",
     "output_type": "stream",
     "text": [
      "1652/2388 행 요약 완료\n"
     ]
    },
    {
     "name": "stderr",
     "output_type": "stream",
     "text": [
      "요약 진행 중:  69%|██████▉   | 1652/2388 [1:09:33<50:02,  4.08s/it]"
     ]
    },
    {
     "name": "stdout",
     "output_type": "stream",
     "text": [
      "1653/2388 행 요약 완료\n"
     ]
    },
    {
     "name": "stderr",
     "output_type": "stream",
     "text": [
      "요약 진행 중:  69%|██████▉   | 1653/2388 [1:09:37<49:18,  4.02s/it]"
     ]
    },
    {
     "name": "stdout",
     "output_type": "stream",
     "text": [
      "1654/2388 행 요약 완료\n"
     ]
    },
    {
     "name": "stderr",
     "output_type": "stream",
     "text": [
      "요약 진행 중:  69%|██████▉   | 1654/2388 [1:09:39<44:11,  3.61s/it]"
     ]
    },
    {
     "name": "stdout",
     "output_type": "stream",
     "text": [
      "1655/2388 행 요약 완료\n"
     ]
    },
    {
     "name": "stderr",
     "output_type": "stream",
     "text": [
      "요약 진행 중:  69%|██████▉   | 1655/2388 [1:09:45<51:33,  4.22s/it]"
     ]
    },
    {
     "name": "stdout",
     "output_type": "stream",
     "text": [
      "1656/2388 행 요약 완료\n"
     ]
    },
    {
     "name": "stderr",
     "output_type": "stream",
     "text": [
      "요약 진행 중:  69%|██████▉   | 1656/2388 [1:09:46<41:28,  3.40s/it]"
     ]
    },
    {
     "name": "stdout",
     "output_type": "stream",
     "text": [
      "1657/2388 행 요약 완료\n"
     ]
    },
    {
     "name": "stderr",
     "output_type": "stream",
     "text": [
      "요약 진행 중:  69%|██████▉   | 1657/2388 [1:09:51<45:14,  3.71s/it]"
     ]
    },
    {
     "name": "stdout",
     "output_type": "stream",
     "text": [
      "1658/2388 행 요약 완료\n"
     ]
    },
    {
     "name": "stderr",
     "output_type": "stream",
     "text": [
      "요약 진행 중:  69%|██████▉   | 1658/2388 [1:09:53<38:16,  3.15s/it]"
     ]
    },
    {
     "name": "stdout",
     "output_type": "stream",
     "text": [
      "1659/2388 행 요약 완료\n"
     ]
    },
    {
     "name": "stderr",
     "output_type": "stream",
     "text": [
      "요약 진행 중:  69%|██████▉   | 1659/2388 [1:09:54<32:15,  2.66s/it]"
     ]
    },
    {
     "name": "stdout",
     "output_type": "stream",
     "text": [
      "1660/2388 행 요약 완료\n"
     ]
    },
    {
     "name": "stderr",
     "output_type": "stream",
     "text": [
      "요약 진행 중:  70%|██████▉   | 1660/2388 [1:09:55<25:58,  2.14s/it]"
     ]
    },
    {
     "name": "stdout",
     "output_type": "stream",
     "text": [
      "1661/2388 행 요약 완료\n"
     ]
    },
    {
     "name": "stderr",
     "output_type": "stream",
     "text": [
      "요약 진행 중:  70%|██████▉   | 1661/2388 [1:09:57<23:35,  1.95s/it]"
     ]
    },
    {
     "name": "stdout",
     "output_type": "stream",
     "text": [
      "1662/2388 행 요약 완료\n"
     ]
    },
    {
     "name": "stderr",
     "output_type": "stream",
     "text": [
      "요약 진행 중:  70%|██████▉   | 1662/2388 [1:09:59<25:34,  2.11s/it]"
     ]
    },
    {
     "name": "stdout",
     "output_type": "stream",
     "text": [
      "1663/2388 행 요약 완료\n"
     ]
    },
    {
     "name": "stderr",
     "output_type": "stream",
     "text": [
      "요약 진행 중:  70%|██████▉   | 1663/2388 [1:10:00<22:10,  1.84s/it]"
     ]
    },
    {
     "name": "stdout",
     "output_type": "stream",
     "text": [
      "1664/2388 행 요약 완료\n"
     ]
    },
    {
     "name": "stderr",
     "output_type": "stream",
     "text": [
      "요약 진행 중:  70%|██████▉   | 1664/2388 [1:10:02<21:21,  1.77s/it]"
     ]
    },
    {
     "name": "stdout",
     "output_type": "stream",
     "text": [
      "1665/2388 행 요약 완료\n"
     ]
    },
    {
     "name": "stderr",
     "output_type": "stream",
     "text": [
      "요약 진행 중:  70%|██████▉   | 1665/2388 [1:10:08<37:58,  3.15s/it]"
     ]
    },
    {
     "name": "stdout",
     "output_type": "stream",
     "text": [
      "1666/2388 행 요약 완료\n"
     ]
    },
    {
     "name": "stderr",
     "output_type": "stream",
     "text": [
      "요약 진행 중:  70%|██████▉   | 1666/2388 [1:10:11<35:03,  2.91s/it]"
     ]
    },
    {
     "name": "stdout",
     "output_type": "stream",
     "text": [
      "1667/2388 행 요약 완료\n"
     ]
    },
    {
     "name": "stderr",
     "output_type": "stream",
     "text": [
      "요약 진행 중:  70%|██████▉   | 1667/2388 [1:10:13<34:39,  2.88s/it]"
     ]
    },
    {
     "name": "stdout",
     "output_type": "stream",
     "text": [
      "1668/2388 행 요약 완료\n"
     ]
    },
    {
     "name": "stderr",
     "output_type": "stream",
     "text": [
      "요약 진행 중:  70%|██████▉   | 1668/2388 [1:10:17<36:32,  3.05s/it]"
     ]
    },
    {
     "name": "stdout",
     "output_type": "stream",
     "text": [
      "1669/2388 행 요약 완료\n"
     ]
    },
    {
     "name": "stderr",
     "output_type": "stream",
     "text": [
      "요약 진행 중:  70%|██████▉   | 1669/2388 [1:10:20<36:15,  3.03s/it]"
     ]
    },
    {
     "name": "stdout",
     "output_type": "stream",
     "text": [
      "1670/2388 행 요약 완료\n"
     ]
    },
    {
     "name": "stderr",
     "output_type": "stream",
     "text": [
      "요약 진행 중:  70%|██████▉   | 1670/2388 [1:10:22<31:48,  2.66s/it]"
     ]
    },
    {
     "name": "stdout",
     "output_type": "stream",
     "text": [
      "1671/2388 행 요약 완료\n"
     ]
    },
    {
     "name": "stderr",
     "output_type": "stream",
     "text": [
      "요약 진행 중:  70%|██████▉   | 1671/2388 [1:10:23<27:28,  2.30s/it]"
     ]
    },
    {
     "name": "stdout",
     "output_type": "stream",
     "text": [
      "1672/2388 행 요약 완료\n"
     ]
    },
    {
     "name": "stderr",
     "output_type": "stream",
     "text": [
      "요약 진행 중:  70%|███████   | 1672/2388 [1:10:25<25:39,  2.15s/it]"
     ]
    },
    {
     "name": "stdout",
     "output_type": "stream",
     "text": [
      "1673/2388 행 요약 완료\n"
     ]
    },
    {
     "name": "stderr",
     "output_type": "stream",
     "text": [
      "요약 진행 중:  70%|███████   | 1673/2388 [1:10:29<33:30,  2.81s/it]"
     ]
    },
    {
     "name": "stdout",
     "output_type": "stream",
     "text": [
      "1674/2388 행 요약 완료\n"
     ]
    },
    {
     "name": "stderr",
     "output_type": "stream",
     "text": [
      "요약 진행 중:  70%|███████   | 1674/2388 [1:10:31<30:49,  2.59s/it]"
     ]
    },
    {
     "name": "stdout",
     "output_type": "stream",
     "text": [
      "1675/2388 행 요약 완료\n"
     ]
    },
    {
     "name": "stderr",
     "output_type": "stream",
     "text": [
      "요약 진행 중:  70%|███████   | 1675/2388 [1:10:33<28:04,  2.36s/it]"
     ]
    },
    {
     "name": "stdout",
     "output_type": "stream",
     "text": [
      "1676/2388 행 요약 완료\n"
     ]
    },
    {
     "name": "stderr",
     "output_type": "stream",
     "text": [
      "요약 진행 중:  70%|███████   | 1676/2388 [1:10:35<26:25,  2.23s/it]"
     ]
    },
    {
     "name": "stdout",
     "output_type": "stream",
     "text": [
      "1677/2388 행 요약 완료\n"
     ]
    },
    {
     "name": "stderr",
     "output_type": "stream",
     "text": [
      "요약 진행 중:  70%|███████   | 1677/2388 [1:10:39<31:56,  2.70s/it]"
     ]
    },
    {
     "name": "stdout",
     "output_type": "stream",
     "text": [
      "1678/2388 행 요약 완료\n"
     ]
    },
    {
     "name": "stderr",
     "output_type": "stream",
     "text": [
      "요약 진행 중:  70%|███████   | 1678/2388 [1:10:40<26:55,  2.27s/it]"
     ]
    },
    {
     "name": "stdout",
     "output_type": "stream",
     "text": [
      "1679/2388 행 요약 완료\n"
     ]
    },
    {
     "name": "stderr",
     "output_type": "stream",
     "text": [
      "요약 진행 중:  70%|███████   | 1679/2388 [1:10:42<25:51,  2.19s/it]"
     ]
    },
    {
     "name": "stdout",
     "output_type": "stream",
     "text": [
      "1680/2388 행 요약 완료\n"
     ]
    },
    {
     "name": "stderr",
     "output_type": "stream",
     "text": [
      "요약 진행 중:  70%|███████   | 1680/2388 [1:10:44<25:54,  2.20s/it]"
     ]
    },
    {
     "name": "stdout",
     "output_type": "stream",
     "text": [
      "1681/2388 행 요약 완료\n"
     ]
    },
    {
     "name": "stderr",
     "output_type": "stream",
     "text": [
      "요약 진행 중:  70%|███████   | 1681/2388 [1:10:46<22:58,  1.95s/it]"
     ]
    },
    {
     "name": "stdout",
     "output_type": "stream",
     "text": [
      "1682/2388 행 요약 완료\n"
     ]
    },
    {
     "name": "stderr",
     "output_type": "stream",
     "text": [
      "요약 진행 중:  70%|███████   | 1682/2388 [1:10:48<24:28,  2.08s/it]"
     ]
    },
    {
     "name": "stdout",
     "output_type": "stream",
     "text": [
      "1683/2388 행 요약 완료\n"
     ]
    },
    {
     "name": "stderr",
     "output_type": "stream",
     "text": [
      "요약 진행 중:  70%|███████   | 1683/2388 [1:10:49<21:24,  1.82s/it]"
     ]
    },
    {
     "name": "stdout",
     "output_type": "stream",
     "text": [
      "1684/2388 행 요약 완료\n"
     ]
    },
    {
     "name": "stderr",
     "output_type": "stream",
     "text": [
      "요약 진행 중:  71%|███████   | 1684/2388 [1:10:52<24:44,  2.11s/it]"
     ]
    },
    {
     "name": "stdout",
     "output_type": "stream",
     "text": [
      "1685/2388 행 요약 완료\n"
     ]
    },
    {
     "name": "stderr",
     "output_type": "stream",
     "text": [
      "요약 진행 중:  71%|███████   | 1685/2388 [1:10:55<25:32,  2.18s/it]"
     ]
    },
    {
     "name": "stdout",
     "output_type": "stream",
     "text": [
      "1686/2388 행 요약 완료\n"
     ]
    },
    {
     "name": "stderr",
     "output_type": "stream",
     "text": [
      "요약 진행 중:  71%|███████   | 1686/2388 [1:10:58<28:37,  2.45s/it]"
     ]
    },
    {
     "name": "stdout",
     "output_type": "stream",
     "text": [
      "1687/2388 행 요약 완료\n"
     ]
    },
    {
     "name": "stderr",
     "output_type": "stream",
     "text": [
      "요약 진행 중:  71%|███████   | 1687/2388 [1:10:59<24:17,  2.08s/it]"
     ]
    },
    {
     "name": "stdout",
     "output_type": "stream",
     "text": [
      "1688/2388 행 요약 완료\n"
     ]
    },
    {
     "name": "stderr",
     "output_type": "stream",
     "text": [
      "요약 진행 중:  71%|███████   | 1688/2388 [1:11:00<21:08,  1.81s/it]"
     ]
    },
    {
     "name": "stdout",
     "output_type": "stream",
     "text": [
      "1689/2388 행 요약 완료\n"
     ]
    },
    {
     "name": "stderr",
     "output_type": "stream",
     "text": [
      "요약 진행 중:  71%|███████   | 1689/2388 [1:11:02<22:53,  1.97s/it]"
     ]
    },
    {
     "name": "stdout",
     "output_type": "stream",
     "text": [
      "1690/2388 행 요약 완료\n"
     ]
    },
    {
     "name": "stderr",
     "output_type": "stream",
     "text": [
      "요약 진행 중:  71%|███████   | 1690/2388 [1:11:06<29:31,  2.54s/it]"
     ]
    },
    {
     "name": "stdout",
     "output_type": "stream",
     "text": [
      "1691/2388 행 요약 완료\n"
     ]
    },
    {
     "name": "stderr",
     "output_type": "stream",
     "text": [
      "요약 진행 중:  71%|███████   | 1691/2388 [1:11:11<36:06,  3.11s/it]"
     ]
    },
    {
     "name": "stdout",
     "output_type": "stream",
     "text": [
      "1692/2388 행 요약 완료\n"
     ]
    },
    {
     "name": "stderr",
     "output_type": "stream",
     "text": [
      "요약 진행 중:  71%|███████   | 1692/2388 [1:11:13<31:49,  2.74s/it]"
     ]
    },
    {
     "name": "stdout",
     "output_type": "stream",
     "text": [
      "1693/2388 행 요약 완료\n"
     ]
    },
    {
     "name": "stderr",
     "output_type": "stream",
     "text": [
      "요약 진행 중:  71%|███████   | 1693/2388 [1:11:15<29:32,  2.55s/it]"
     ]
    },
    {
     "name": "stdout",
     "output_type": "stream",
     "text": [
      "1694/2388 행 요약 완료\n"
     ]
    },
    {
     "name": "stderr",
     "output_type": "stream",
     "text": [
      "요약 진행 중:  71%|███████   | 1694/2388 [1:11:16<27:08,  2.35s/it]"
     ]
    },
    {
     "name": "stdout",
     "output_type": "stream",
     "text": [
      "1695/2388 행 요약 완료\n"
     ]
    },
    {
     "name": "stderr",
     "output_type": "stream",
     "text": [
      "요약 진행 중:  71%|███████   | 1695/2388 [1:11:21<35:13,  3.05s/it]"
     ]
    },
    {
     "name": "stdout",
     "output_type": "stream",
     "text": [
      "1696/2388 행 요약 완료\n"
     ]
    },
    {
     "name": "stderr",
     "output_type": "stream",
     "text": [
      "요약 진행 중:  71%|███████   | 1696/2388 [1:11:23<29:46,  2.58s/it]"
     ]
    },
    {
     "name": "stdout",
     "output_type": "stream",
     "text": [
      "1697/2388 행 요약 완료\n"
     ]
    },
    {
     "name": "stderr",
     "output_type": "stream",
     "text": [
      "요약 진행 중:  71%|███████   | 1697/2388 [1:11:28<39:13,  3.41s/it]"
     ]
    },
    {
     "name": "stdout",
     "output_type": "stream",
     "text": [
      "1698/2388 행 요약 완료\n"
     ]
    },
    {
     "name": "stderr",
     "output_type": "stream",
     "text": [
      "요약 진행 중:  71%|███████   | 1698/2388 [1:11:30<33:17,  2.89s/it]"
     ]
    },
    {
     "name": "stdout",
     "output_type": "stream",
     "text": [
      "1699/2388 행 요약 완료\n"
     ]
    },
    {
     "name": "stderr",
     "output_type": "stream",
     "text": [
      "요약 진행 중:  71%|███████   | 1699/2388 [1:11:33<33:24,  2.91s/it]"
     ]
    },
    {
     "name": "stdout",
     "output_type": "stream",
     "text": [
      "1700/2388 행 요약 완료\n"
     ]
    },
    {
     "name": "stderr",
     "output_type": "stream",
     "text": [
      "요약 진행 중:  71%|███████   | 1700/2388 [1:11:34<28:43,  2.51s/it]"
     ]
    },
    {
     "name": "stdout",
     "output_type": "stream",
     "text": [
      "1701/2388 행 요약 완료\n"
     ]
    },
    {
     "name": "stderr",
     "output_type": "stream",
     "text": [
      "요약 진행 중:  71%|███████   | 1701/2388 [1:11:35<23:59,  2.10s/it]"
     ]
    },
    {
     "name": "stdout",
     "output_type": "stream",
     "text": [
      "1702/2388 행 요약 완료\n"
     ]
    },
    {
     "name": "stderr",
     "output_type": "stream",
     "text": [
      "요약 진행 중:  71%|███████▏  | 1702/2388 [1:11:38<26:11,  2.29s/it]"
     ]
    },
    {
     "name": "stdout",
     "output_type": "stream",
     "text": [
      "1703/2388 행 요약 완료\n"
     ]
    },
    {
     "name": "stderr",
     "output_type": "stream",
     "text": [
      "요약 진행 중:  71%|███████▏  | 1703/2388 [1:11:40<26:24,  2.31s/it]"
     ]
    },
    {
     "name": "stdout",
     "output_type": "stream",
     "text": [
      "1704/2388 행 요약 완료\n"
     ]
    },
    {
     "name": "stderr",
     "output_type": "stream",
     "text": [
      "요약 진행 중:  71%|███████▏  | 1704/2388 [1:11:43<28:25,  2.49s/it]"
     ]
    },
    {
     "name": "stdout",
     "output_type": "stream",
     "text": [
      "1705/2388 행 요약 완료\n"
     ]
    },
    {
     "name": "stderr",
     "output_type": "stream",
     "text": [
      "요약 진행 중:  71%|███████▏  | 1705/2388 [1:11:48<34:40,  3.05s/it]"
     ]
    },
    {
     "name": "stdout",
     "output_type": "stream",
     "text": [
      "1706/2388 행 요약 완료\n"
     ]
    },
    {
     "name": "stderr",
     "output_type": "stream",
     "text": [
      "요약 진행 중:  71%|███████▏  | 1706/2388 [1:11:50<33:08,  2.92s/it]"
     ]
    },
    {
     "name": "stdout",
     "output_type": "stream",
     "text": [
      "1707/2388 행 요약 완료\n"
     ]
    },
    {
     "name": "stderr",
     "output_type": "stream",
     "text": [
      "요약 진행 중:  71%|███████▏  | 1707/2388 [1:11:54<34:00,  3.00s/it]"
     ]
    },
    {
     "name": "stdout",
     "output_type": "stream",
     "text": [
      "1708/2388 행 요약 완료\n"
     ]
    },
    {
     "name": "stderr",
     "output_type": "stream",
     "text": [
      "요약 진행 중:  72%|███████▏  | 1708/2388 [1:11:57<34:18,  3.03s/it]"
     ]
    },
    {
     "name": "stdout",
     "output_type": "stream",
     "text": [
      "1709/2388 행 요약 완료\n"
     ]
    },
    {
     "name": "stderr",
     "output_type": "stream",
     "text": [
      "요약 진행 중:  72%|███████▏  | 1709/2388 [1:12:00<36:33,  3.23s/it]"
     ]
    },
    {
     "name": "stdout",
     "output_type": "stream",
     "text": [
      "1710/2388 행 요약 완료\n"
     ]
    },
    {
     "name": "stderr",
     "output_type": "stream",
     "text": [
      "요약 진행 중:  72%|███████▏  | 1710/2388 [1:12:02<32:57,  2.92s/it]"
     ]
    },
    {
     "name": "stdout",
     "output_type": "stream",
     "text": [
      "1711/2388 행 요약 완료\n"
     ]
    },
    {
     "name": "stderr",
     "output_type": "stream",
     "text": [
      "요약 진행 중:  72%|███████▏  | 1711/2388 [1:12:05<30:39,  2.72s/it]"
     ]
    },
    {
     "name": "stdout",
     "output_type": "stream",
     "text": [
      "1712/2388 행 요약 완료\n"
     ]
    },
    {
     "name": "stderr",
     "output_type": "stream",
     "text": [
      "요약 진행 중:  72%|███████▏  | 1712/2388 [1:12:08<31:54,  2.83s/it]"
     ]
    },
    {
     "name": "stdout",
     "output_type": "stream",
     "text": [
      "1713/2388 행 요약 완료\n"
     ]
    },
    {
     "name": "stderr",
     "output_type": "stream",
     "text": [
      "요약 진행 중:  72%|███████▏  | 1713/2388 [1:12:11<31:38,  2.81s/it]"
     ]
    },
    {
     "name": "stdout",
     "output_type": "stream",
     "text": [
      "1714/2388 행 요약 완료\n"
     ]
    },
    {
     "name": "stderr",
     "output_type": "stream",
     "text": [
      "요약 진행 중:  72%|███████▏  | 1714/2388 [1:12:12<28:24,  2.53s/it]"
     ]
    },
    {
     "name": "stdout",
     "output_type": "stream",
     "text": [
      "1715/2388 행 요약 완료\n"
     ]
    },
    {
     "name": "stderr",
     "output_type": "stream",
     "text": [
      "요약 진행 중:  72%|███████▏  | 1715/2388 [1:12:14<26:29,  2.36s/it]"
     ]
    },
    {
     "name": "stdout",
     "output_type": "stream",
     "text": [
      "1716/2388 행 요약 완료\n"
     ]
    },
    {
     "name": "stderr",
     "output_type": "stream",
     "text": [
      "요약 진행 중:  72%|███████▏  | 1716/2388 [1:12:17<25:41,  2.29s/it]"
     ]
    },
    {
     "name": "stdout",
     "output_type": "stream",
     "text": [
      "1717/2388 행 요약 완료\n"
     ]
    },
    {
     "name": "stderr",
     "output_type": "stream",
     "text": [
      "요약 진행 중:  72%|███████▏  | 1717/2388 [1:12:18<22:31,  2.01s/it]"
     ]
    },
    {
     "name": "stdout",
     "output_type": "stream",
     "text": [
      "1718/2388 행 요약 완료\n"
     ]
    },
    {
     "name": "stderr",
     "output_type": "stream",
     "text": [
      "요약 진행 중:  72%|███████▏  | 1718/2388 [1:12:21<26:49,  2.40s/it]"
     ]
    },
    {
     "name": "stdout",
     "output_type": "stream",
     "text": [
      "1719/2388 행 요약 완료\n"
     ]
    },
    {
     "name": "stderr",
     "output_type": "stream",
     "text": [
      "요약 진행 중:  72%|███████▏  | 1719/2388 [1:12:23<24:41,  2.21s/it]"
     ]
    },
    {
     "name": "stdout",
     "output_type": "stream",
     "text": [
      "1720/2388 행 요약 완료\n"
     ]
    },
    {
     "name": "stderr",
     "output_type": "stream",
     "text": [
      "요약 진행 중:  72%|███████▏  | 1720/2388 [1:12:25<25:21,  2.28s/it]"
     ]
    },
    {
     "name": "stdout",
     "output_type": "stream",
     "text": [
      "1721/2388 행 요약 완료\n"
     ]
    },
    {
     "name": "stderr",
     "output_type": "stream",
     "text": [
      "요약 진행 중:  72%|███████▏  | 1721/2388 [1:12:27<23:24,  2.11s/it]"
     ]
    },
    {
     "name": "stdout",
     "output_type": "stream",
     "text": [
      "1722/2388 행 요약 완료\n"
     ]
    },
    {
     "name": "stderr",
     "output_type": "stream",
     "text": [
      "요약 진행 중:  72%|███████▏  | 1722/2388 [1:12:29<21:27,  1.93s/it]"
     ]
    },
    {
     "name": "stdout",
     "output_type": "stream",
     "text": [
      "1723/2388 행 요약 완료\n"
     ]
    },
    {
     "name": "stderr",
     "output_type": "stream",
     "text": [
      "요약 진행 중:  72%|███████▏  | 1723/2388 [1:12:30<20:03,  1.81s/it]"
     ]
    },
    {
     "name": "stdout",
     "output_type": "stream",
     "text": [
      "1724/2388 행 요약 완료\n"
     ]
    },
    {
     "name": "stderr",
     "output_type": "stream",
     "text": [
      "요약 진행 중:  72%|███████▏  | 1724/2388 [1:12:33<24:37,  2.22s/it]"
     ]
    },
    {
     "name": "stdout",
     "output_type": "stream",
     "text": [
      "1725/2388 행 요약 완료\n"
     ]
    },
    {
     "name": "stderr",
     "output_type": "stream",
     "text": [
      "요약 진행 중:  72%|███████▏  | 1725/2388 [1:12:35<21:58,  1.99s/it]"
     ]
    },
    {
     "name": "stdout",
     "output_type": "stream",
     "text": [
      "1726/2388 행 요약 완료\n"
     ]
    },
    {
     "name": "stderr",
     "output_type": "stream",
     "text": [
      "요약 진행 중:  72%|███████▏  | 1726/2388 [1:12:36<18:42,  1.70s/it]"
     ]
    },
    {
     "name": "stdout",
     "output_type": "stream",
     "text": [
      "1727/2388 행 요약 완료\n"
     ]
    },
    {
     "name": "stderr",
     "output_type": "stream",
     "text": [
      "요약 진행 중:  72%|███████▏  | 1727/2388 [1:12:37<17:17,  1.57s/it]"
     ]
    },
    {
     "name": "stdout",
     "output_type": "stream",
     "text": [
      "1728/2388 행 요약 완료\n"
     ]
    },
    {
     "name": "stderr",
     "output_type": "stream",
     "text": [
      "요약 진행 중:  72%|███████▏  | 1728/2388 [1:12:39<17:09,  1.56s/it]"
     ]
    },
    {
     "name": "stdout",
     "output_type": "stream",
     "text": [
      "1729/2388 행 요약 완료\n"
     ]
    },
    {
     "name": "stderr",
     "output_type": "stream",
     "text": [
      "요약 진행 중:  72%|███████▏  | 1729/2388 [1:12:40<15:49,  1.44s/it]"
     ]
    },
    {
     "name": "stdout",
     "output_type": "stream",
     "text": [
      "1730/2388 행 요약 완료\n"
     ]
    },
    {
     "name": "stderr",
     "output_type": "stream",
     "text": [
      "요약 진행 중:  72%|███████▏  | 1730/2388 [1:12:41<14:39,  1.34s/it]"
     ]
    },
    {
     "name": "stdout",
     "output_type": "stream",
     "text": [
      "1731/2388 행 요약 완료\n"
     ]
    },
    {
     "name": "stderr",
     "output_type": "stream",
     "text": [
      "요약 진행 중:  72%|███████▏  | 1731/2388 [1:12:43<16:40,  1.52s/it]"
     ]
    },
    {
     "name": "stdout",
     "output_type": "stream",
     "text": [
      "1732/2388 행 요약 완료\n"
     ]
    },
    {
     "name": "stderr",
     "output_type": "stream",
     "text": [
      "요약 진행 중:  73%|███████▎  | 1732/2388 [1:12:46<20:49,  1.90s/it]"
     ]
    },
    {
     "name": "stdout",
     "output_type": "stream",
     "text": [
      "1733/2388 행 요약 완료\n"
     ]
    },
    {
     "name": "stderr",
     "output_type": "stream",
     "text": [
      "요약 진행 중:  73%|███████▎  | 1733/2388 [1:12:48<23:02,  2.11s/it]"
     ]
    },
    {
     "name": "stdout",
     "output_type": "stream",
     "text": [
      "1734/2388 행 요약 완료\n"
     ]
    },
    {
     "name": "stderr",
     "output_type": "stream",
     "text": [
      "요약 진행 중:  73%|███████▎  | 1734/2388 [1:12:51<25:34,  2.35s/it]"
     ]
    },
    {
     "name": "stdout",
     "output_type": "stream",
     "text": [
      "1735/2388 행 요약 완료\n"
     ]
    },
    {
     "name": "stderr",
     "output_type": "stream",
     "text": [
      "요약 진행 중:  73%|███████▎  | 1735/2388 [1:13:04<1:00:44,  5.58s/it]"
     ]
    },
    {
     "name": "stdout",
     "output_type": "stream",
     "text": [
      "1736/2388 행 요약 완료\n"
     ]
    },
    {
     "name": "stderr",
     "output_type": "stream",
     "text": [
      "요약 진행 중:  73%|███████▎  | 1736/2388 [1:13:06<48:03,  4.42s/it]  "
     ]
    },
    {
     "name": "stdout",
     "output_type": "stream",
     "text": [
      "1737/2388 행 요약 완료\n"
     ]
    },
    {
     "name": "stderr",
     "output_type": "stream",
     "text": [
      "요약 진행 중:  73%|███████▎  | 1737/2388 [1:13:09<42:48,  3.95s/it]"
     ]
    },
    {
     "name": "stdout",
     "output_type": "stream",
     "text": [
      "1738/2388 행 요약 완료\n"
     ]
    },
    {
     "name": "stderr",
     "output_type": "stream",
     "text": [
      "요약 진행 중:  73%|███████▎  | 1738/2388 [1:13:11<37:20,  3.45s/it]"
     ]
    },
    {
     "name": "stdout",
     "output_type": "stream",
     "text": [
      "1739/2388 행 요약 완료\n"
     ]
    },
    {
     "name": "stderr",
     "output_type": "stream",
     "text": [
      "요약 진행 중:  73%|███████▎  | 1739/2388 [1:13:12<30:28,  2.82s/it]"
     ]
    },
    {
     "name": "stdout",
     "output_type": "stream",
     "text": [
      "1740/2388 행 요약 완료\n"
     ]
    },
    {
     "name": "stderr",
     "output_type": "stream",
     "text": [
      "요약 진행 중:  73%|███████▎  | 1740/2388 [1:13:14<27:37,  2.56s/it]"
     ]
    },
    {
     "name": "stdout",
     "output_type": "stream",
     "text": [
      "1741/2388 행 요약 완료\n"
     ]
    },
    {
     "name": "stderr",
     "output_type": "stream",
     "text": [
      "요약 진행 중:  73%|███████▎  | 1741/2388 [1:13:17<26:14,  2.43s/it]"
     ]
    },
    {
     "name": "stdout",
     "output_type": "stream",
     "text": [
      "1742/2388 행 요약 완료\n"
     ]
    },
    {
     "name": "stderr",
     "output_type": "stream",
     "text": [
      "요약 진행 중:  73%|███████▎  | 1742/2388 [1:13:18<23:51,  2.22s/it]"
     ]
    },
    {
     "name": "stdout",
     "output_type": "stream",
     "text": [
      "1743/2388 행 요약 완료\n"
     ]
    },
    {
     "name": "stderr",
     "output_type": "stream",
     "text": [
      "요약 진행 중:  73%|███████▎  | 1743/2388 [1:13:20<21:19,  1.98s/it]"
     ]
    },
    {
     "name": "stdout",
     "output_type": "stream",
     "text": [
      "1744/2388 행 요약 완료\n"
     ]
    },
    {
     "name": "stderr",
     "output_type": "stream",
     "text": [
      "요약 진행 중:  73%|███████▎  | 1744/2388 [1:13:22<21:04,  1.96s/it]"
     ]
    },
    {
     "name": "stdout",
     "output_type": "stream",
     "text": [
      "1745/2388 행 요약 완료\n"
     ]
    },
    {
     "name": "stderr",
     "output_type": "stream",
     "text": [
      "요약 진행 중:  73%|███████▎  | 1745/2388 [1:13:24<23:34,  2.20s/it]"
     ]
    },
    {
     "name": "stdout",
     "output_type": "stream",
     "text": [
      "1746/2388 행 요약 완료\n"
     ]
    },
    {
     "name": "stderr",
     "output_type": "stream",
     "text": [
      "요약 진행 중:  73%|███████▎  | 1746/2388 [1:13:27<23:22,  2.18s/it]"
     ]
    },
    {
     "name": "stdout",
     "output_type": "stream",
     "text": [
      "1747/2388 행 요약 완료\n"
     ]
    },
    {
     "name": "stderr",
     "output_type": "stream",
     "text": [
      "요약 진행 중:  73%|███████▎  | 1747/2388 [1:13:29<24:30,  2.29s/it]"
     ]
    },
    {
     "name": "stdout",
     "output_type": "stream",
     "text": [
      "1748/2388 행 요약 완료\n"
     ]
    },
    {
     "name": "stderr",
     "output_type": "stream",
     "text": [
      "요약 진행 중:  73%|███████▎  | 1748/2388 [1:13:33<28:43,  2.69s/it]"
     ]
    },
    {
     "name": "stdout",
     "output_type": "stream",
     "text": [
      "1749/2388 행 요약 완료\n"
     ]
    },
    {
     "name": "stderr",
     "output_type": "stream",
     "text": [
      "요약 진행 중:  73%|███████▎  | 1749/2388 [1:13:36<30:34,  2.87s/it]"
     ]
    },
    {
     "name": "stdout",
     "output_type": "stream",
     "text": [
      "1750/2388 행 요약 완료\n"
     ]
    },
    {
     "name": "stderr",
     "output_type": "stream",
     "text": [
      "요약 진행 중:  73%|███████▎  | 1750/2388 [1:13:39<31:49,  2.99s/it]"
     ]
    },
    {
     "name": "stdout",
     "output_type": "stream",
     "text": [
      "1751/2388 행 요약 완료\n"
     ]
    },
    {
     "name": "stderr",
     "output_type": "stream",
     "text": [
      "요약 진행 중:  73%|███████▎  | 1751/2388 [1:13:42<30:22,  2.86s/it]"
     ]
    },
    {
     "name": "stdout",
     "output_type": "stream",
     "text": [
      "1752/2388 행 요약 완료\n"
     ]
    },
    {
     "name": "stderr",
     "output_type": "stream",
     "text": [
      "요약 진행 중:  73%|███████▎  | 1752/2388 [1:13:50<48:29,  4.57s/it]"
     ]
    },
    {
     "name": "stdout",
     "output_type": "stream",
     "text": [
      "1753/2388 행 요약 완료\n"
     ]
    },
    {
     "name": "stderr",
     "output_type": "stream",
     "text": [
      "요약 진행 중:  73%|███████▎  | 1753/2388 [1:13:53<40:40,  3.84s/it]"
     ]
    },
    {
     "name": "stdout",
     "output_type": "stream",
     "text": [
      "1754/2388 행 요약 완료\n"
     ]
    },
    {
     "name": "stderr",
     "output_type": "stream",
     "text": [
      "요약 진행 중:  73%|███████▎  | 1754/2388 [1:13:55<36:08,  3.42s/it]"
     ]
    },
    {
     "name": "stdout",
     "output_type": "stream",
     "text": [
      "1755/2388 행 요약 완료\n"
     ]
    },
    {
     "name": "stderr",
     "output_type": "stream",
     "text": [
      "요약 진행 중:  73%|███████▎  | 1755/2388 [1:13:56<29:03,  2.75s/it]"
     ]
    },
    {
     "name": "stdout",
     "output_type": "stream",
     "text": [
      "1756/2388 행 요약 완료\n"
     ]
    },
    {
     "name": "stderr",
     "output_type": "stream",
     "text": [
      "요약 진행 중:  74%|███████▎  | 1756/2388 [1:13:59<28:38,  2.72s/it]"
     ]
    },
    {
     "name": "stdout",
     "output_type": "stream",
     "text": [
      "1757/2388 행 요약 완료\n"
     ]
    },
    {
     "name": "stderr",
     "output_type": "stream",
     "text": [
      "요약 진행 중:  74%|███████▎  | 1757/2388 [1:14:01<26:58,  2.57s/it]"
     ]
    },
    {
     "name": "stdout",
     "output_type": "stream",
     "text": [
      "1758/2388 행 요약 완료\n"
     ]
    },
    {
     "name": "stderr",
     "output_type": "stream",
     "text": [
      "요약 진행 중:  74%|███████▎  | 1758/2388 [1:14:04<28:08,  2.68s/it]"
     ]
    },
    {
     "name": "stdout",
     "output_type": "stream",
     "text": [
      "1759/2388 행 요약 완료\n"
     ]
    },
    {
     "name": "stderr",
     "output_type": "stream",
     "text": [
      "요약 진행 중:  74%|███████▎  | 1759/2388 [1:14:07<28:57,  2.76s/it]"
     ]
    },
    {
     "name": "stdout",
     "output_type": "stream",
     "text": [
      "1760/2388 행 요약 완료\n"
     ]
    },
    {
     "name": "stderr",
     "output_type": "stream",
     "text": [
      "요약 진행 중:  74%|███████▎  | 1760/2388 [1:14:08<24:14,  2.32s/it]"
     ]
    },
    {
     "name": "stdout",
     "output_type": "stream",
     "text": [
      "1761/2388 행 요약 완료\n"
     ]
    },
    {
     "name": "stderr",
     "output_type": "stream",
     "text": [
      "요약 진행 중:  74%|███████▎  | 1761/2388 [1:14:11<25:08,  2.41s/it]"
     ]
    },
    {
     "name": "stdout",
     "output_type": "stream",
     "text": [
      "1762/2388 행 요약 완료\n"
     ]
    },
    {
     "name": "stderr",
     "output_type": "stream",
     "text": [
      "요약 진행 중:  74%|███████▍  | 1762/2388 [1:14:16<34:05,  3.27s/it]"
     ]
    },
    {
     "name": "stdout",
     "output_type": "stream",
     "text": [
      "1763/2388 행 요약 완료\n"
     ]
    },
    {
     "name": "stderr",
     "output_type": "stream",
     "text": [
      "요약 진행 중:  74%|███████▍  | 1763/2388 [1:14:18<29:31,  2.83s/it]"
     ]
    },
    {
     "name": "stdout",
     "output_type": "stream",
     "text": [
      "1764/2388 행 요약 완료\n"
     ]
    },
    {
     "name": "stderr",
     "output_type": "stream",
     "text": [
      "요약 진행 중:  74%|███████▍  | 1764/2388 [1:14:22<32:41,  3.14s/it]"
     ]
    },
    {
     "name": "stdout",
     "output_type": "stream",
     "text": [
      "1765/2388 행 요약 완료\n"
     ]
    },
    {
     "name": "stderr",
     "output_type": "stream",
     "text": [
      "요약 진행 중:  74%|███████▍  | 1765/2388 [1:14:23<27:53,  2.69s/it]"
     ]
    },
    {
     "name": "stdout",
     "output_type": "stream",
     "text": [
      "1766/2388 행 요약 완료\n"
     ]
    },
    {
     "name": "stderr",
     "output_type": "stream",
     "text": [
      "요약 진행 중:  74%|███████▍  | 1766/2388 [1:14:25<25:02,  2.41s/it]"
     ]
    },
    {
     "name": "stdout",
     "output_type": "stream",
     "text": [
      "1767/2388 행 요약 완료\n"
     ]
    },
    {
     "name": "stderr",
     "output_type": "stream",
     "text": [
      "요약 진행 중:  74%|███████▍  | 1767/2388 [1:14:29<30:52,  2.98s/it]"
     ]
    },
    {
     "name": "stdout",
     "output_type": "stream",
     "text": [
      "1768/2388 행 요약 완료\n"
     ]
    },
    {
     "name": "stderr",
     "output_type": "stream",
     "text": [
      "요약 진행 중:  74%|███████▍  | 1768/2388 [1:14:31<27:30,  2.66s/it]"
     ]
    },
    {
     "name": "stdout",
     "output_type": "stream",
     "text": [
      "1769/2388 행 요약 완료\n"
     ]
    },
    {
     "name": "stderr",
     "output_type": "stream",
     "text": [
      "요약 진행 중:  74%|███████▍  | 1769/2388 [1:14:34<26:03,  2.53s/it]"
     ]
    },
    {
     "name": "stdout",
     "output_type": "stream",
     "text": [
      "1770/2388 행 요약 완료\n"
     ]
    },
    {
     "name": "stderr",
     "output_type": "stream",
     "text": [
      "요약 진행 중:  74%|███████▍  | 1770/2388 [1:14:36<26:05,  2.53s/it]"
     ]
    },
    {
     "name": "stdout",
     "output_type": "stream",
     "text": [
      "1771/2388 행 요약 완료\n"
     ]
    },
    {
     "name": "stderr",
     "output_type": "stream",
     "text": [
      "요약 진행 중:  74%|███████▍  | 1771/2388 [1:14:37<21:57,  2.13s/it]"
     ]
    },
    {
     "name": "stdout",
     "output_type": "stream",
     "text": [
      "1772/2388 행 요약 완료\n"
     ]
    },
    {
     "name": "stderr",
     "output_type": "stream",
     "text": [
      "요약 진행 중:  74%|███████▍  | 1772/2388 [1:14:41<25:16,  2.46s/it]"
     ]
    },
    {
     "name": "stdout",
     "output_type": "stream",
     "text": [
      "1773/2388 행 요약 완료\n"
     ]
    },
    {
     "name": "stderr",
     "output_type": "stream",
     "text": [
      "요약 진행 중:  74%|███████▍  | 1773/2388 [1:14:45<32:17,  3.15s/it]"
     ]
    },
    {
     "name": "stdout",
     "output_type": "stream",
     "text": [
      "1774/2388 행 요약 완료\n"
     ]
    },
    {
     "name": "stderr",
     "output_type": "stream",
     "text": [
      "요약 진행 중:  74%|███████▍  | 1774/2388 [1:14:49<33:14,  3.25s/it]"
     ]
    },
    {
     "name": "stdout",
     "output_type": "stream",
     "text": [
      "1775/2388 행 요약 완료\n"
     ]
    },
    {
     "name": "stderr",
     "output_type": "stream",
     "text": [
      "요약 진행 중:  74%|███████▍  | 1775/2388 [1:14:50<27:51,  2.73s/it]"
     ]
    },
    {
     "name": "stdout",
     "output_type": "stream",
     "text": [
      "1776/2388 행 요약 완료\n"
     ]
    },
    {
     "name": "stderr",
     "output_type": "stream",
     "text": [
      "요약 진행 중:  74%|███████▍  | 1776/2388 [1:14:53<29:06,  2.85s/it]"
     ]
    },
    {
     "name": "stdout",
     "output_type": "stream",
     "text": [
      "1777/2388 행 요약 완료\n"
     ]
    },
    {
     "name": "stderr",
     "output_type": "stream",
     "text": [
      "요약 진행 중:  74%|███████▍  | 1777/2388 [1:14:56<26:49,  2.63s/it]"
     ]
    },
    {
     "name": "stdout",
     "output_type": "stream",
     "text": [
      "1778/2388 행 요약 완료\n"
     ]
    },
    {
     "name": "stderr",
     "output_type": "stream",
     "text": [
      "요약 진행 중:  74%|███████▍  | 1778/2388 [1:14:58<24:42,  2.43s/it]"
     ]
    },
    {
     "name": "stdout",
     "output_type": "stream",
     "text": [
      "1779/2388 행 요약 완료\n"
     ]
    },
    {
     "name": "stderr",
     "output_type": "stream",
     "text": [
      "요약 진행 중:  74%|███████▍  | 1779/2388 [1:14:59<21:46,  2.15s/it]"
     ]
    },
    {
     "name": "stdout",
     "output_type": "stream",
     "text": [
      "1780/2388 행 요약 완료\n"
     ]
    },
    {
     "name": "stderr",
     "output_type": "stream",
     "text": [
      "요약 진행 중:  75%|███████▍  | 1780/2388 [1:15:02<25:27,  2.51s/it]"
     ]
    },
    {
     "name": "stdout",
     "output_type": "stream",
     "text": [
      "1781/2388 행 요약 완료\n"
     ]
    },
    {
     "name": "stderr",
     "output_type": "stream",
     "text": [
      "요약 진행 중:  75%|███████▍  | 1781/2388 [1:15:04<22:37,  2.24s/it]"
     ]
    },
    {
     "name": "stdout",
     "output_type": "stream",
     "text": [
      "1782/2388 행 요약 완료\n"
     ]
    },
    {
     "name": "stderr",
     "output_type": "stream",
     "text": [
      "요약 진행 중:  75%|███████▍  | 1782/2388 [1:15:06<21:25,  2.12s/it]"
     ]
    },
    {
     "name": "stdout",
     "output_type": "stream",
     "text": [
      "1783/2388 행 요약 완료\n"
     ]
    },
    {
     "name": "stderr",
     "output_type": "stream",
     "text": [
      "요약 진행 중:  75%|███████▍  | 1783/2388 [1:15:08<21:05,  2.09s/it]"
     ]
    },
    {
     "name": "stdout",
     "output_type": "stream",
     "text": [
      "1784/2388 행 요약 완료\n"
     ]
    },
    {
     "name": "stderr",
     "output_type": "stream",
     "text": [
      "요약 진행 중:  75%|███████▍  | 1784/2388 [1:15:09<19:19,  1.92s/it]"
     ]
    },
    {
     "name": "stdout",
     "output_type": "stream",
     "text": [
      "1785/2388 행 요약 완료\n"
     ]
    },
    {
     "name": "stderr",
     "output_type": "stream",
     "text": [
      "요약 진행 중:  75%|███████▍  | 1785/2388 [1:15:13<23:24,  2.33s/it]"
     ]
    },
    {
     "name": "stdout",
     "output_type": "stream",
     "text": [
      "1786/2388 행 요약 완료\n"
     ]
    },
    {
     "name": "stderr",
     "output_type": "stream",
     "text": [
      "요약 진행 중:  75%|███████▍  | 1786/2388 [1:15:14<20:55,  2.09s/it]"
     ]
    },
    {
     "name": "stdout",
     "output_type": "stream",
     "text": [
      "1787/2388 행 요약 완료\n"
     ]
    },
    {
     "name": "stderr",
     "output_type": "stream",
     "text": [
      "요약 진행 중:  75%|███████▍  | 1787/2388 [1:15:17<21:34,  2.15s/it]"
     ]
    },
    {
     "name": "stdout",
     "output_type": "stream",
     "text": [
      "1788/2388 행 요약 완료\n"
     ]
    },
    {
     "name": "stderr",
     "output_type": "stream",
     "text": [
      "요약 진행 중:  75%|███████▍  | 1788/2388 [1:15:21<27:24,  2.74s/it]"
     ]
    },
    {
     "name": "stdout",
     "output_type": "stream",
     "text": [
      "1789/2388 행 요약 완료\n"
     ]
    },
    {
     "name": "stderr",
     "output_type": "stream",
     "text": [
      "요약 진행 중:  75%|███████▍  | 1789/2388 [1:15:23<25:52,  2.59s/it]"
     ]
    },
    {
     "name": "stdout",
     "output_type": "stream",
     "text": [
      "1790/2388 행 요약 완료\n"
     ]
    },
    {
     "name": "stderr",
     "output_type": "stream",
     "text": [
      "요약 진행 중:  75%|███████▍  | 1790/2388 [1:15:25<23:11,  2.33s/it]"
     ]
    },
    {
     "name": "stdout",
     "output_type": "stream",
     "text": [
      "1791/2388 행 요약 완료\n"
     ]
    },
    {
     "name": "stderr",
     "output_type": "stream",
     "text": [
      "요약 진행 중:  75%|███████▌  | 1791/2388 [1:15:29<28:12,  2.83s/it]"
     ]
    },
    {
     "name": "stdout",
     "output_type": "stream",
     "text": [
      "1792/2388 행 요약 완료\n"
     ]
    },
    {
     "name": "stderr",
     "output_type": "stream",
     "text": [
      "요약 진행 중:  75%|███████▌  | 1792/2388 [1:15:30<24:30,  2.47s/it]"
     ]
    },
    {
     "name": "stdout",
     "output_type": "stream",
     "text": [
      "1793/2388 행 요약 완료\n"
     ]
    },
    {
     "name": "stderr",
     "output_type": "stream",
     "text": [
      "요약 진행 중:  75%|███████▌  | 1793/2388 [1:15:32<23:11,  2.34s/it]"
     ]
    },
    {
     "name": "stdout",
     "output_type": "stream",
     "text": [
      "1794/2388 행 요약 완료\n"
     ]
    },
    {
     "name": "stderr",
     "output_type": "stream",
     "text": [
      "요약 진행 중:  75%|███████▌  | 1794/2388 [1:15:34<21:59,  2.22s/it]"
     ]
    },
    {
     "name": "stdout",
     "output_type": "stream",
     "text": [
      "1795/2388 행 요약 완료\n"
     ]
    },
    {
     "name": "stderr",
     "output_type": "stream",
     "text": [
      "요약 진행 중:  75%|███████▌  | 1795/2388 [1:15:38<27:12,  2.75s/it]"
     ]
    },
    {
     "name": "stdout",
     "output_type": "stream",
     "text": [
      "1796/2388 행 요약 완료\n"
     ]
    },
    {
     "name": "stderr",
     "output_type": "stream",
     "text": [
      "요약 진행 중:  75%|███████▌  | 1796/2388 [1:15:43<32:05,  3.25s/it]"
     ]
    },
    {
     "name": "stdout",
     "output_type": "stream",
     "text": [
      "1797/2388 행 요약 완료\n"
     ]
    },
    {
     "name": "stderr",
     "output_type": "stream",
     "text": [
      "요약 진행 중:  75%|███████▌  | 1797/2388 [1:15:45<29:07,  2.96s/it]"
     ]
    },
    {
     "name": "stdout",
     "output_type": "stream",
     "text": [
      "1798/2388 행 요약 완료\n"
     ]
    },
    {
     "name": "stderr",
     "output_type": "stream",
     "text": [
      "요약 진행 중:  75%|███████▌  | 1798/2388 [1:15:47<25:19,  2.58s/it]"
     ]
    },
    {
     "name": "stdout",
     "output_type": "stream",
     "text": [
      "1799/2388 행 요약 완료\n"
     ]
    },
    {
     "name": "stderr",
     "output_type": "stream",
     "text": [
      "요약 진행 중:  75%|███████▌  | 1799/2388 [1:15:48<21:56,  2.24s/it]"
     ]
    },
    {
     "name": "stdout",
     "output_type": "stream",
     "text": [
      "1800/2388 행 요약 완료\n"
     ]
    },
    {
     "name": "stderr",
     "output_type": "stream",
     "text": [
      "요약 진행 중:  75%|███████▌  | 1800/2388 [1:15:51<23:50,  2.43s/it]"
     ]
    },
    {
     "name": "stdout",
     "output_type": "stream",
     "text": [
      "1801/2388 행 요약 완료\n"
     ]
    },
    {
     "name": "stderr",
     "output_type": "stream",
     "text": [
      "요약 진행 중:  75%|███████▌  | 1801/2388 [1:15:55<29:22,  3.00s/it]"
     ]
    },
    {
     "name": "stdout",
     "output_type": "stream",
     "text": [
      "1802/2388 행 요약 완료\n"
     ]
    },
    {
     "name": "stderr",
     "output_type": "stream",
     "text": [
      "요약 진행 중:  75%|███████▌  | 1802/2388 [1:16:00<33:11,  3.40s/it]"
     ]
    },
    {
     "name": "stdout",
     "output_type": "stream",
     "text": [
      "1803/2388 행 요약 완료\n"
     ]
    },
    {
     "name": "stderr",
     "output_type": "stream",
     "text": [
      "요약 진행 중:  76%|███████▌  | 1803/2388 [1:16:01<26:51,  2.76s/it]"
     ]
    },
    {
     "name": "stdout",
     "output_type": "stream",
     "text": [
      "1804/2388 행 요약 완료\n"
     ]
    },
    {
     "name": "stderr",
     "output_type": "stream",
     "text": [
      "요약 진행 중:  76%|███████▌  | 1804/2388 [1:16:03<25:13,  2.59s/it]"
     ]
    },
    {
     "name": "stdout",
     "output_type": "stream",
     "text": [
      "1805/2388 행 요약 완료\n"
     ]
    },
    {
     "name": "stderr",
     "output_type": "stream",
     "text": [
      "요약 진행 중:  76%|███████▌  | 1805/2388 [1:16:06<25:37,  2.64s/it]"
     ]
    },
    {
     "name": "stdout",
     "output_type": "stream",
     "text": [
      "1806/2388 행 요약 완료\n"
     ]
    },
    {
     "name": "stderr",
     "output_type": "stream",
     "text": [
      "요약 진행 중:  76%|███████▌  | 1806/2388 [1:16:07<22:01,  2.27s/it]"
     ]
    },
    {
     "name": "stdout",
     "output_type": "stream",
     "text": [
      "1807/2388 행 요약 완료\n"
     ]
    },
    {
     "name": "stderr",
     "output_type": "stream",
     "text": [
      "요약 진행 중:  76%|███████▌  | 1807/2388 [1:16:09<20:55,  2.16s/it]"
     ]
    },
    {
     "name": "stdout",
     "output_type": "stream",
     "text": [
      "1808/2388 행 요약 완료\n"
     ]
    },
    {
     "name": "stderr",
     "output_type": "stream",
     "text": [
      "요약 진행 중:  76%|███████▌  | 1808/2388 [1:16:12<22:17,  2.31s/it]"
     ]
    },
    {
     "name": "stdout",
     "output_type": "stream",
     "text": [
      "1809/2388 행 요약 완료\n"
     ]
    },
    {
     "name": "stderr",
     "output_type": "stream",
     "text": [
      "요약 진행 중:  76%|███████▌  | 1809/2388 [1:16:14<21:17,  2.21s/it]"
     ]
    },
    {
     "name": "stdout",
     "output_type": "stream",
     "text": [
      "1810/2388 행 요약 완료\n"
     ]
    },
    {
     "name": "stderr",
     "output_type": "stream",
     "text": [
      "요약 진행 중:  76%|███████▌  | 1810/2388 [1:16:16<21:29,  2.23s/it]"
     ]
    },
    {
     "name": "stdout",
     "output_type": "stream",
     "text": [
      "1811/2388 행 요약 완료\n"
     ]
    },
    {
     "name": "stderr",
     "output_type": "stream",
     "text": [
      "요약 진행 중:  76%|███████▌  | 1811/2388 [1:16:17<18:50,  1.96s/it]"
     ]
    },
    {
     "name": "stdout",
     "output_type": "stream",
     "text": [
      "1812/2388 행 요약 완료\n"
     ]
    },
    {
     "name": "stderr",
     "output_type": "stream",
     "text": [
      "요약 진행 중:  76%|███████▌  | 1812/2388 [1:16:22<25:47,  2.69s/it]"
     ]
    },
    {
     "name": "stdout",
     "output_type": "stream",
     "text": [
      "1813/2388 행 요약 완료\n"
     ]
    },
    {
     "name": "stderr",
     "output_type": "stream",
     "text": [
      "요약 진행 중:  76%|███████▌  | 1813/2388 [1:16:26<29:17,  3.06s/it]"
     ]
    },
    {
     "name": "stdout",
     "output_type": "stream",
     "text": [
      "1814/2388 행 요약 완료\n"
     ]
    },
    {
     "name": "stderr",
     "output_type": "stream",
     "text": [
      "요약 진행 중:  76%|███████▌  | 1814/2388 [1:16:27<25:20,  2.65s/it]"
     ]
    },
    {
     "name": "stdout",
     "output_type": "stream",
     "text": [
      "1815/2388 행 요약 완료\n"
     ]
    },
    {
     "name": "stderr",
     "output_type": "stream",
     "text": [
      "요약 진행 중:  76%|███████▌  | 1815/2388 [1:16:30<25:49,  2.70s/it]"
     ]
    },
    {
     "name": "stdout",
     "output_type": "stream",
     "text": [
      "1816/2388 행 요약 완료\n"
     ]
    },
    {
     "name": "stderr",
     "output_type": "stream",
     "text": [
      "요약 진행 중:  76%|███████▌  | 1816/2388 [1:16:34<30:21,  3.19s/it]"
     ]
    },
    {
     "name": "stdout",
     "output_type": "stream",
     "text": [
      "1817/2388 행 요약 완료\n"
     ]
    },
    {
     "name": "stderr",
     "output_type": "stream",
     "text": [
      "요약 진행 중:  76%|███████▌  | 1817/2388 [1:16:38<31:51,  3.35s/it]"
     ]
    },
    {
     "name": "stdout",
     "output_type": "stream",
     "text": [
      "1818/2388 행 요약 완료\n"
     ]
    },
    {
     "name": "stderr",
     "output_type": "stream",
     "text": [
      "요약 진행 중:  76%|███████▌  | 1818/2388 [1:16:41<31:25,  3.31s/it]"
     ]
    },
    {
     "name": "stdout",
     "output_type": "stream",
     "text": [
      "1819/2388 행 요약 완료\n"
     ]
    },
    {
     "name": "stderr",
     "output_type": "stream",
     "text": [
      "요약 진행 중:  76%|███████▌  | 1819/2388 [1:16:43<25:52,  2.73s/it]"
     ]
    },
    {
     "name": "stdout",
     "output_type": "stream",
     "text": [
      "1820/2388 행 요약 완료\n"
     ]
    },
    {
     "name": "stderr",
     "output_type": "stream",
     "text": [
      "요약 진행 중:  76%|███████▌  | 1820/2388 [1:16:47<29:18,  3.10s/it]"
     ]
    },
    {
     "name": "stdout",
     "output_type": "stream",
     "text": [
      "1821/2388 행 요약 완료\n"
     ]
    },
    {
     "name": "stderr",
     "output_type": "stream",
     "text": [
      "요약 진행 중:  76%|███████▋  | 1821/2388 [1:16:48<25:07,  2.66s/it]"
     ]
    },
    {
     "name": "stdout",
     "output_type": "stream",
     "text": [
      "1822/2388 행 요약 완료\n"
     ]
    },
    {
     "name": "stderr",
     "output_type": "stream",
     "text": [
      "요약 진행 중:  76%|███████▋  | 1822/2388 [1:16:53<29:27,  3.12s/it]"
     ]
    },
    {
     "name": "stdout",
     "output_type": "stream",
     "text": [
      "1823/2388 행 요약 완료\n"
     ]
    },
    {
     "name": "stderr",
     "output_type": "stream",
     "text": [
      "요약 진행 중:  76%|███████▋  | 1823/2388 [1:16:55<26:10,  2.78s/it]"
     ]
    },
    {
     "name": "stdout",
     "output_type": "stream",
     "text": [
      "1824/2388 행 요약 완료\n"
     ]
    },
    {
     "name": "stderr",
     "output_type": "stream",
     "text": [
      "요약 진행 중:  76%|███████▋  | 1824/2388 [1:16:57<26:21,  2.80s/it]"
     ]
    },
    {
     "name": "stdout",
     "output_type": "stream",
     "text": [
      "1825/2388 행 요약 완료\n"
     ]
    },
    {
     "name": "stderr",
     "output_type": "stream",
     "text": [
      "요약 진행 중:  76%|███████▋  | 1825/2388 [1:16:59<23:49,  2.54s/it]"
     ]
    },
    {
     "name": "stdout",
     "output_type": "stream",
     "text": [
      "1826/2388 행 요약 완료\n"
     ]
    },
    {
     "name": "stderr",
     "output_type": "stream",
     "text": [
      "요약 진행 중:  76%|███████▋  | 1826/2388 [1:17:01<21:10,  2.26s/it]"
     ]
    },
    {
     "name": "stdout",
     "output_type": "stream",
     "text": [
      "1827/2388 행 요약 완료\n"
     ]
    },
    {
     "name": "stderr",
     "output_type": "stream",
     "text": [
      "요약 진행 중:  77%|███████▋  | 1827/2388 [1:17:05<25:11,  2.69s/it]"
     ]
    },
    {
     "name": "stdout",
     "output_type": "stream",
     "text": [
      "1828/2388 행 요약 완료\n"
     ]
    },
    {
     "name": "stderr",
     "output_type": "stream",
     "text": [
      "요약 진행 중:  77%|███████▋  | 1828/2388 [1:17:08<26:53,  2.88s/it]"
     ]
    },
    {
     "name": "stdout",
     "output_type": "stream",
     "text": [
      "1829/2388 행 요약 완료\n"
     ]
    },
    {
     "name": "stderr",
     "output_type": "stream",
     "text": [
      "요약 진행 중:  77%|███████▋  | 1829/2388 [1:17:11<26:17,  2.82s/it]"
     ]
    },
    {
     "name": "stdout",
     "output_type": "stream",
     "text": [
      "1830/2388 행 요약 완료\n"
     ]
    },
    {
     "name": "stderr",
     "output_type": "stream",
     "text": [
      "요약 진행 중:  77%|███████▋  | 1830/2388 [1:17:13<24:30,  2.63s/it]"
     ]
    },
    {
     "name": "stdout",
     "output_type": "stream",
     "text": [
      "1831/2388 행 요약 완료\n"
     ]
    },
    {
     "name": "stderr",
     "output_type": "stream",
     "text": [
      "요약 진행 중:  77%|███████▋  | 1831/2388 [1:17:15<22:30,  2.42s/it]"
     ]
    },
    {
     "name": "stdout",
     "output_type": "stream",
     "text": [
      "1832/2388 행 요약 완료\n"
     ]
    },
    {
     "name": "stderr",
     "output_type": "stream",
     "text": [
      "요약 진행 중:  77%|███████▋  | 1832/2388 [1:17:16<18:46,  2.03s/it]"
     ]
    },
    {
     "name": "stdout",
     "output_type": "stream",
     "text": [
      "1833/2388 행 요약 완료\n"
     ]
    },
    {
     "name": "stderr",
     "output_type": "stream",
     "text": [
      "요약 진행 중:  77%|███████▋  | 1833/2388 [1:17:18<18:03,  1.95s/it]"
     ]
    },
    {
     "name": "stdout",
     "output_type": "stream",
     "text": [
      "1834/2388 행 요약 완료\n"
     ]
    },
    {
     "name": "stderr",
     "output_type": "stream",
     "text": [
      "요약 진행 중:  77%|███████▋  | 1834/2388 [1:17:20<20:23,  2.21s/it]"
     ]
    },
    {
     "name": "stdout",
     "output_type": "stream",
     "text": [
      "1835/2388 행 요약 완료\n"
     ]
    },
    {
     "name": "stderr",
     "output_type": "stream",
     "text": [
      "요약 진행 중:  77%|███████▋  | 1835/2388 [1:17:24<24:09,  2.62s/it]"
     ]
    },
    {
     "name": "stdout",
     "output_type": "stream",
     "text": [
      "1836/2388 행 요약 완료\n"
     ]
    },
    {
     "name": "stderr",
     "output_type": "stream",
     "text": [
      "요약 진행 중:  77%|███████▋  | 1836/2388 [1:17:26<21:01,  2.28s/it]"
     ]
    },
    {
     "name": "stdout",
     "output_type": "stream",
     "text": [
      "1837/2388 행 요약 완료\n"
     ]
    },
    {
     "name": "stderr",
     "output_type": "stream",
     "text": [
      "요약 진행 중:  77%|███████▋  | 1837/2388 [1:17:28<20:28,  2.23s/it]"
     ]
    },
    {
     "name": "stdout",
     "output_type": "stream",
     "text": [
      "1838/2388 행 요약 완료\n"
     ]
    },
    {
     "name": "stderr",
     "output_type": "stream",
     "text": [
      "요약 진행 중:  77%|███████▋  | 1838/2388 [1:17:29<18:35,  2.03s/it]"
     ]
    },
    {
     "name": "stdout",
     "output_type": "stream",
     "text": [
      "1839/2388 행 요약 완료\n"
     ]
    },
    {
     "name": "stderr",
     "output_type": "stream",
     "text": [
      "요약 진행 중:  77%|███████▋  | 1839/2388 [1:17:31<16:38,  1.82s/it]"
     ]
    },
    {
     "name": "stdout",
     "output_type": "stream",
     "text": [
      "1840/2388 행 요약 완료\n"
     ]
    },
    {
     "name": "stderr",
     "output_type": "stream",
     "text": [
      "요약 진행 중:  77%|███████▋  | 1840/2388 [1:17:32<15:08,  1.66s/it]"
     ]
    },
    {
     "name": "stdout",
     "output_type": "stream",
     "text": [
      "1841/2388 행 요약 완료\n"
     ]
    },
    {
     "name": "stderr",
     "output_type": "stream",
     "text": [
      "요약 진행 중:  77%|███████▋  | 1841/2388 [1:17:35<18:58,  2.08s/it]"
     ]
    },
    {
     "name": "stdout",
     "output_type": "stream",
     "text": [
      "1842/2388 행 요약 완료\n"
     ]
    },
    {
     "name": "stderr",
     "output_type": "stream",
     "text": [
      "요약 진행 중:  77%|███████▋  | 1842/2388 [1:17:36<17:07,  1.88s/it]"
     ]
    },
    {
     "name": "stdout",
     "output_type": "stream",
     "text": [
      "1843/2388 행 요약 완료\n"
     ]
    },
    {
     "name": "stderr",
     "output_type": "stream",
     "text": [
      "요약 진행 중:  77%|███████▋  | 1843/2388 [1:17:40<22:50,  2.51s/it]"
     ]
    },
    {
     "name": "stdout",
     "output_type": "stream",
     "text": [
      "1844/2388 행 요약 완료\n"
     ]
    },
    {
     "name": "stderr",
     "output_type": "stream",
     "text": [
      "요약 진행 중:  77%|███████▋  | 1844/2388 [1:17:43<23:57,  2.64s/it]"
     ]
    },
    {
     "name": "stdout",
     "output_type": "stream",
     "text": [
      "1845/2388 행 요약 완료\n"
     ]
    },
    {
     "name": "stderr",
     "output_type": "stream",
     "text": [
      "요약 진행 중:  77%|███████▋  | 1845/2388 [1:17:48<28:48,  3.18s/it]"
     ]
    },
    {
     "name": "stdout",
     "output_type": "stream",
     "text": [
      "1846/2388 행 요약 완료\n"
     ]
    },
    {
     "name": "stderr",
     "output_type": "stream",
     "text": [
      "요약 진행 중:  77%|███████▋  | 1846/2388 [1:17:51<28:10,  3.12s/it]"
     ]
    },
    {
     "name": "stdout",
     "output_type": "stream",
     "text": [
      "1847/2388 행 요약 완료\n"
     ]
    },
    {
     "name": "stderr",
     "output_type": "stream",
     "text": [
      "요약 진행 중:  77%|███████▋  | 1847/2388 [1:17:55<32:16,  3.58s/it]"
     ]
    },
    {
     "name": "stdout",
     "output_type": "stream",
     "text": [
      "1848/2388 행 요약 완료\n"
     ]
    },
    {
     "name": "stderr",
     "output_type": "stream",
     "text": [
      "요약 진행 중:  77%|███████▋  | 1848/2388 [1:17:57<26:41,  2.97s/it]"
     ]
    },
    {
     "name": "stdout",
     "output_type": "stream",
     "text": [
      "1849/2388 행 요약 완료\n"
     ]
    },
    {
     "name": "stderr",
     "output_type": "stream",
     "text": [
      "요약 진행 중:  77%|███████▋  | 1849/2388 [1:17:58<23:07,  2.57s/it]"
     ]
    },
    {
     "name": "stdout",
     "output_type": "stream",
     "text": [
      "1850/2388 행 요약 완료\n"
     ]
    },
    {
     "name": "stderr",
     "output_type": "stream",
     "text": [
      "요약 진행 중:  77%|███████▋  | 1850/2388 [1:18:00<20:10,  2.25s/it]"
     ]
    },
    {
     "name": "stdout",
     "output_type": "stream",
     "text": [
      "1851/2388 행 요약 완료\n"
     ]
    },
    {
     "name": "stderr",
     "output_type": "stream",
     "text": [
      "요약 진행 중:  78%|███████▊  | 1851/2388 [1:18:01<17:46,  1.99s/it]"
     ]
    },
    {
     "name": "stdout",
     "output_type": "stream",
     "text": [
      "1852/2388 행 요약 완료\n"
     ]
    },
    {
     "name": "stderr",
     "output_type": "stream",
     "text": [
      "요약 진행 중:  78%|███████▊  | 1852/2388 [1:18:03<17:19,  1.94s/it]"
     ]
    },
    {
     "name": "stdout",
     "output_type": "stream",
     "text": [
      "1853/2388 행 요약 완료\n"
     ]
    },
    {
     "name": "stderr",
     "output_type": "stream",
     "text": [
      "요약 진행 중:  78%|███████▊  | 1853/2388 [1:18:06<18:36,  2.09s/it]"
     ]
    },
    {
     "name": "stdout",
     "output_type": "stream",
     "text": [
      "1854/2388 행 요약 완료\n"
     ]
    },
    {
     "name": "stderr",
     "output_type": "stream",
     "text": [
      "요약 진행 중:  78%|███████▊  | 1854/2388 [1:18:07<17:12,  1.93s/it]"
     ]
    },
    {
     "name": "stdout",
     "output_type": "stream",
     "text": [
      "1855/2388 행 요약 완료\n"
     ]
    },
    {
     "name": "stderr",
     "output_type": "stream",
     "text": [
      "요약 진행 중:  78%|███████▊  | 1855/2388 [1:18:09<15:48,  1.78s/it]"
     ]
    },
    {
     "name": "stdout",
     "output_type": "stream",
     "text": [
      "1856/2388 행 요약 완료\n"
     ]
    },
    {
     "name": "stderr",
     "output_type": "stream",
     "text": [
      "요약 진행 중:  78%|███████▊  | 1856/2388 [1:18:11<18:35,  2.10s/it]"
     ]
    },
    {
     "name": "stdout",
     "output_type": "stream",
     "text": [
      "1857/2388 행 요약 완료\n"
     ]
    },
    {
     "name": "stderr",
     "output_type": "stream",
     "text": [
      "요약 진행 중:  78%|███████▊  | 1857/2388 [1:18:14<18:25,  2.08s/it]"
     ]
    },
    {
     "name": "stdout",
     "output_type": "stream",
     "text": [
      "1858/2388 행 요약 완료\n"
     ]
    },
    {
     "name": "stderr",
     "output_type": "stream",
     "text": [
      "요약 진행 중:  78%|███████▊  | 1858/2388 [1:18:15<16:35,  1.88s/it]"
     ]
    },
    {
     "name": "stdout",
     "output_type": "stream",
     "text": [
      "1859/2388 행 요약 완료\n"
     ]
    },
    {
     "name": "stderr",
     "output_type": "stream",
     "text": [
      "요약 진행 중:  78%|███████▊  | 1859/2388 [1:18:20<24:45,  2.81s/it]"
     ]
    },
    {
     "name": "stdout",
     "output_type": "stream",
     "text": [
      "1860/2388 행 요약 완료\n"
     ]
    },
    {
     "name": "stderr",
     "output_type": "stream",
     "text": [
      "요약 진행 중:  78%|███████▊  | 1860/2388 [1:18:23<25:40,  2.92s/it]"
     ]
    },
    {
     "name": "stdout",
     "output_type": "stream",
     "text": [
      "1861/2388 행 요약 완료\n"
     ]
    },
    {
     "name": "stderr",
     "output_type": "stream",
     "text": [
      "요약 진행 중:  78%|███████▊  | 1861/2388 [1:18:25<24:13,  2.76s/it]"
     ]
    },
    {
     "name": "stdout",
     "output_type": "stream",
     "text": [
      "1862/2388 행 요약 완료\n"
     ]
    },
    {
     "name": "stderr",
     "output_type": "stream",
     "text": [
      "요약 진행 중:  78%|███████▊  | 1862/2388 [1:18:27<21:59,  2.51s/it]"
     ]
    },
    {
     "name": "stdout",
     "output_type": "stream",
     "text": [
      "1863/2388 행 요약 완료\n"
     ]
    },
    {
     "name": "stderr",
     "output_type": "stream",
     "text": [
      "요약 진행 중:  78%|███████▊  | 1863/2388 [1:18:31<25:08,  2.87s/it]"
     ]
    },
    {
     "name": "stdout",
     "output_type": "stream",
     "text": [
      "1864/2388 행 요약 완료\n"
     ]
    },
    {
     "name": "stderr",
     "output_type": "stream",
     "text": [
      "요약 진행 중:  78%|███████▊  | 1864/2388 [1:18:35<28:24,  3.25s/it]"
     ]
    },
    {
     "name": "stdout",
     "output_type": "stream",
     "text": [
      "1865/2388 행 요약 완료\n"
     ]
    },
    {
     "name": "stderr",
     "output_type": "stream",
     "text": [
      "요약 진행 중:  78%|███████▊  | 1865/2388 [1:18:38<27:19,  3.13s/it]"
     ]
    },
    {
     "name": "stdout",
     "output_type": "stream",
     "text": [
      "1866/2388 행 요약 완료\n"
     ]
    },
    {
     "name": "stderr",
     "output_type": "stream",
     "text": [
      "요약 진행 중:  78%|███████▊  | 1866/2388 [1:18:41<25:35,  2.94s/it]"
     ]
    },
    {
     "name": "stdout",
     "output_type": "stream",
     "text": [
      "1867/2388 행 요약 완료\n"
     ]
    },
    {
     "name": "stderr",
     "output_type": "stream",
     "text": [
      "요약 진행 중:  78%|███████▊  | 1867/2388 [1:18:42<21:47,  2.51s/it]"
     ]
    },
    {
     "name": "stdout",
     "output_type": "stream",
     "text": [
      "1868/2388 행 요약 완료\n"
     ]
    },
    {
     "name": "stderr",
     "output_type": "stream",
     "text": [
      "요약 진행 중:  78%|███████▊  | 1868/2388 [1:18:44<21:18,  2.46s/it]"
     ]
    },
    {
     "name": "stdout",
     "output_type": "stream",
     "text": [
      "1869/2388 행 요약 완료\n"
     ]
    },
    {
     "name": "stderr",
     "output_type": "stream",
     "text": [
      "요약 진행 중:  78%|███████▊  | 1869/2388 [1:18:46<19:52,  2.30s/it]"
     ]
    },
    {
     "name": "stdout",
     "output_type": "stream",
     "text": [
      "1870/2388 행 요약 완료\n"
     ]
    },
    {
     "name": "stderr",
     "output_type": "stream",
     "text": [
      "요약 진행 중:  78%|███████▊  | 1870/2388 [1:18:48<18:14,  2.11s/it]"
     ]
    },
    {
     "name": "stdout",
     "output_type": "stream",
     "text": [
      "1871/2388 행 요약 완료\n"
     ]
    },
    {
     "name": "stderr",
     "output_type": "stream",
     "text": [
      "요약 진행 중:  78%|███████▊  | 1871/2388 [1:18:51<20:51,  2.42s/it]"
     ]
    },
    {
     "name": "stdout",
     "output_type": "stream",
     "text": [
      "1872/2388 행 요약 완료\n"
     ]
    },
    {
     "name": "stderr",
     "output_type": "stream",
     "text": [
      "요약 진행 중:  78%|███████▊  | 1872/2388 [1:18:53<19:50,  2.31s/it]"
     ]
    },
    {
     "name": "stdout",
     "output_type": "stream",
     "text": [
      "1873/2388 행 요약 완료\n"
     ]
    },
    {
     "name": "stderr",
     "output_type": "stream",
     "text": [
      "요약 진행 중:  78%|███████▊  | 1873/2388 [1:18:55<19:10,  2.23s/it]"
     ]
    },
    {
     "name": "stdout",
     "output_type": "stream",
     "text": [
      "1874/2388 행 요약 완료\n"
     ]
    },
    {
     "name": "stderr",
     "output_type": "stream",
     "text": [
      "요약 진행 중:  78%|███████▊  | 1874/2388 [1:18:59<22:54,  2.67s/it]"
     ]
    },
    {
     "name": "stdout",
     "output_type": "stream",
     "text": [
      "1875/2388 행 요약 완료\n"
     ]
    },
    {
     "name": "stderr",
     "output_type": "stream",
     "text": [
      "요약 진행 중:  79%|███████▊  | 1875/2388 [1:19:01<22:25,  2.62s/it]"
     ]
    },
    {
     "name": "stdout",
     "output_type": "stream",
     "text": [
      "1876/2388 행 요약 완료\n"
     ]
    },
    {
     "name": "stderr",
     "output_type": "stream",
     "text": [
      "요약 진행 중:  79%|███████▊  | 1876/2388 [1:19:04<21:14,  2.49s/it]"
     ]
    },
    {
     "name": "stdout",
     "output_type": "stream",
     "text": [
      "1877/2388 행 요약 완료\n"
     ]
    },
    {
     "name": "stderr",
     "output_type": "stream",
     "text": [
      "요약 진행 중:  79%|███████▊  | 1877/2388 [1:19:07<22:47,  2.68s/it]"
     ]
    },
    {
     "name": "stdout",
     "output_type": "stream",
     "text": [
      "1878/2388 행 요약 완료\n"
     ]
    },
    {
     "name": "stderr",
     "output_type": "stream",
     "text": [
      "요약 진행 중:  79%|███████▊  | 1878/2388 [1:19:08<20:02,  2.36s/it]"
     ]
    },
    {
     "name": "stdout",
     "output_type": "stream",
     "text": [
      "1879/2388 행 요약 완료\n"
     ]
    },
    {
     "name": "stderr",
     "output_type": "stream",
     "text": [
      "요약 진행 중:  79%|███████▊  | 1879/2388 [1:19:11<19:35,  2.31s/it]"
     ]
    },
    {
     "name": "stdout",
     "output_type": "stream",
     "text": [
      "1880/2388 행 요약 완료\n"
     ]
    },
    {
     "name": "stderr",
     "output_type": "stream",
     "text": [
      "요약 진행 중:  79%|███████▊  | 1880/2388 [1:19:12<18:26,  2.18s/it]"
     ]
    },
    {
     "name": "stdout",
     "output_type": "stream",
     "text": [
      "1881/2388 행 요약 완료\n"
     ]
    },
    {
     "name": "stderr",
     "output_type": "stream",
     "text": [
      "요약 진행 중:  79%|███████▉  | 1881/2388 [1:19:16<21:40,  2.56s/it]"
     ]
    },
    {
     "name": "stdout",
     "output_type": "stream",
     "text": [
      "1882/2388 행 요약 완료\n"
     ]
    },
    {
     "name": "stderr",
     "output_type": "stream",
     "text": [
      "요약 진행 중:  79%|███████▉  | 1882/2388 [1:19:19<23:30,  2.79s/it]"
     ]
    },
    {
     "name": "stdout",
     "output_type": "stream",
     "text": [
      "1883/2388 행 요약 완료\n"
     ]
    },
    {
     "name": "stderr",
     "output_type": "stream",
     "text": [
      "요약 진행 중:  79%|███████▉  | 1883/2388 [1:19:22<23:04,  2.74s/it]"
     ]
    },
    {
     "name": "stdout",
     "output_type": "stream",
     "text": [
      "1884/2388 행 요약 완료\n"
     ]
    },
    {
     "name": "stderr",
     "output_type": "stream",
     "text": [
      "요약 진행 중:  79%|███████▉  | 1884/2388 [1:19:26<26:38,  3.17s/it]"
     ]
    },
    {
     "name": "stdout",
     "output_type": "stream",
     "text": [
      "1885/2388 행 요약 완료\n"
     ]
    },
    {
     "name": "stderr",
     "output_type": "stream",
     "text": [
      "요약 진행 중:  79%|███████▉  | 1885/2388 [1:19:29<25:43,  3.07s/it]"
     ]
    },
    {
     "name": "stdout",
     "output_type": "stream",
     "text": [
      "1886/2388 행 요약 완료\n"
     ]
    },
    {
     "name": "stderr",
     "output_type": "stream",
     "text": [
      "요약 진행 중:  79%|███████▉  | 1886/2388 [1:19:33<28:59,  3.47s/it]"
     ]
    },
    {
     "name": "stdout",
     "output_type": "stream",
     "text": [
      "1887/2388 행 요약 완료\n"
     ]
    },
    {
     "name": "stderr",
     "output_type": "stream",
     "text": [
      "요약 진행 중:  79%|███████▉  | 1887/2388 [1:19:37<29:46,  3.57s/it]"
     ]
    },
    {
     "name": "stdout",
     "output_type": "stream",
     "text": [
      "1888/2388 행 요약 완료\n"
     ]
    },
    {
     "name": "stderr",
     "output_type": "stream",
     "text": [
      "요약 진행 중:  79%|███████▉  | 1888/2388 [1:19:41<30:06,  3.61s/it]"
     ]
    },
    {
     "name": "stdout",
     "output_type": "stream",
     "text": [
      "1889/2388 행 요약 완료\n"
     ]
    },
    {
     "name": "stderr",
     "output_type": "stream",
     "text": [
      "요약 진행 중:  79%|███████▉  | 1889/2388 [1:19:47<36:18,  4.37s/it]"
     ]
    },
    {
     "name": "stdout",
     "output_type": "stream",
     "text": [
      "1890/2388 행 요약 완료\n"
     ]
    },
    {
     "name": "stderr",
     "output_type": "stream",
     "text": [
      "요약 진행 중:  79%|███████▉  | 1890/2388 [1:19:50<32:34,  3.93s/it]"
     ]
    },
    {
     "name": "stdout",
     "output_type": "stream",
     "text": [
      "1891/2388 행 요약 완료\n"
     ]
    },
    {
     "name": "stderr",
     "output_type": "stream",
     "text": [
      "요약 진행 중:  79%|███████▉  | 1891/2388 [1:19:52<27:11,  3.28s/it]"
     ]
    },
    {
     "name": "stdout",
     "output_type": "stream",
     "text": [
      "1892/2388 행 요약 완료\n"
     ]
    },
    {
     "name": "stderr",
     "output_type": "stream",
     "text": [
      "요약 진행 중:  79%|███████▉  | 1892/2388 [1:19:55<26:51,  3.25s/it]"
     ]
    },
    {
     "name": "stdout",
     "output_type": "stream",
     "text": [
      "1893/2388 행 요약 완료\n"
     ]
    },
    {
     "name": "stderr",
     "output_type": "stream",
     "text": [
      "요약 진행 중:  79%|███████▉  | 1893/2388 [1:19:57<24:12,  2.93s/it]"
     ]
    },
    {
     "name": "stdout",
     "output_type": "stream",
     "text": [
      "1894/2388 행 요약 완료\n"
     ]
    },
    {
     "name": "stderr",
     "output_type": "stream",
     "text": [
      "요약 진행 중:  79%|███████▉  | 1894/2388 [1:20:00<24:13,  2.94s/it]"
     ]
    },
    {
     "name": "stdout",
     "output_type": "stream",
     "text": [
      "1895/2388 행 요약 완료\n"
     ]
    },
    {
     "name": "stderr",
     "output_type": "stream",
     "text": [
      "요약 진행 중:  79%|███████▉  | 1895/2388 [1:20:05<29:20,  3.57s/it]"
     ]
    },
    {
     "name": "stdout",
     "output_type": "stream",
     "text": [
      "1896/2388 행 요약 완료\n"
     ]
    },
    {
     "name": "stderr",
     "output_type": "stream",
     "text": [
      "요약 진행 중:  79%|███████▉  | 1896/2388 [1:20:08<28:23,  3.46s/it]"
     ]
    },
    {
     "name": "stdout",
     "output_type": "stream",
     "text": [
      "1897/2388 행 요약 완료\n"
     ]
    },
    {
     "name": "stderr",
     "output_type": "stream",
     "text": [
      "요약 진행 중:  79%|███████▉  | 1897/2388 [1:20:12<29:44,  3.63s/it]"
     ]
    },
    {
     "name": "stdout",
     "output_type": "stream",
     "text": [
      "1898/2388 행 요약 완료\n"
     ]
    },
    {
     "name": "stderr",
     "output_type": "stream",
     "text": [
      "요약 진행 중:  79%|███████▉  | 1898/2388 [1:20:14<26:25,  3.24s/it]"
     ]
    },
    {
     "name": "stdout",
     "output_type": "stream",
     "text": [
      "1899/2388 행 요약 완료\n"
     ]
    },
    {
     "name": "stderr",
     "output_type": "stream",
     "text": [
      "요약 진행 중:  80%|███████▉  | 1899/2388 [1:20:18<27:10,  3.33s/it]"
     ]
    },
    {
     "name": "stdout",
     "output_type": "stream",
     "text": [
      "1900/2388 행 요약 완료\n"
     ]
    },
    {
     "name": "stderr",
     "output_type": "stream",
     "text": [
      "요약 진행 중:  80%|███████▉  | 1900/2388 [1:20:21<27:01,  3.32s/it]"
     ]
    },
    {
     "name": "stdout",
     "output_type": "stream",
     "text": [
      "1901/2388 행 요약 완료\n"
     ]
    },
    {
     "name": "stderr",
     "output_type": "stream",
     "text": [
      "요약 진행 중:  80%|███████▉  | 1901/2388 [1:20:24<24:19,  3.00s/it]"
     ]
    },
    {
     "name": "stdout",
     "output_type": "stream",
     "text": [
      "1902/2388 행 요약 완료\n"
     ]
    },
    {
     "name": "stderr",
     "output_type": "stream",
     "text": [
      "요약 진행 중:  80%|███████▉  | 1902/2388 [1:20:29<29:54,  3.69s/it]"
     ]
    },
    {
     "name": "stdout",
     "output_type": "stream",
     "text": [
      "1903/2388 행 요약 완료\n"
     ]
    },
    {
     "name": "stderr",
     "output_type": "stream",
     "text": [
      "요약 진행 중:  80%|███████▉  | 1903/2388 [1:20:32<29:08,  3.61s/it]"
     ]
    },
    {
     "name": "stdout",
     "output_type": "stream",
     "text": [
      "1904/2388 행 요약 완료\n"
     ]
    },
    {
     "name": "stderr",
     "output_type": "stream",
     "text": [
      "요약 진행 중:  80%|███████▉  | 1904/2388 [1:20:34<24:15,  3.01s/it]"
     ]
    },
    {
     "name": "stdout",
     "output_type": "stream",
     "text": [
      "1905/2388 행 요약 완료\n"
     ]
    },
    {
     "name": "stderr",
     "output_type": "stream",
     "text": [
      "요약 진행 중:  80%|███████▉  | 1905/2388 [1:20:37<23:54,  2.97s/it]"
     ]
    },
    {
     "name": "stdout",
     "output_type": "stream",
     "text": [
      "1906/2388 행 요약 완료\n"
     ]
    },
    {
     "name": "stderr",
     "output_type": "stream",
     "text": [
      "요약 진행 중:  80%|███████▉  | 1906/2388 [1:20:42<30:19,  3.77s/it]"
     ]
    },
    {
     "name": "stdout",
     "output_type": "stream",
     "text": [
      "1907/2388 행 요약 완료\n"
     ]
    },
    {
     "name": "stderr",
     "output_type": "stream",
     "text": [
      "요약 진행 중:  80%|███████▉  | 1907/2388 [1:20:45<26:48,  3.34s/it]"
     ]
    },
    {
     "name": "stdout",
     "output_type": "stream",
     "text": [
      "1908/2388 행 요약 완료\n"
     ]
    },
    {
     "name": "stderr",
     "output_type": "stream",
     "text": [
      "요약 진행 중:  80%|███████▉  | 1908/2388 [1:20:49<29:06,  3.64s/it]"
     ]
    },
    {
     "name": "stdout",
     "output_type": "stream",
     "text": [
      "1909/2388 행 요약 완료\n"
     ]
    },
    {
     "name": "stderr",
     "output_type": "stream",
     "text": [
      "요약 진행 중:  80%|███████▉  | 1909/2388 [1:20:52<26:11,  3.28s/it]"
     ]
    },
    {
     "name": "stdout",
     "output_type": "stream",
     "text": [
      "1910/2388 행 요약 완료\n"
     ]
    },
    {
     "name": "stderr",
     "output_type": "stream",
     "text": [
      "요약 진행 중:  80%|███████▉  | 1910/2388 [1:20:53<22:54,  2.87s/it]"
     ]
    },
    {
     "name": "stdout",
     "output_type": "stream",
     "text": [
      "1911/2388 행 요약 완료\n"
     ]
    },
    {
     "name": "stderr",
     "output_type": "stream",
     "text": [
      "요약 진행 중:  80%|████████  | 1911/2388 [1:20:55<19:44,  2.48s/it]"
     ]
    },
    {
     "name": "stdout",
     "output_type": "stream",
     "text": [
      "1912/2388 행 요약 완료\n"
     ]
    },
    {
     "name": "stderr",
     "output_type": "stream",
     "text": [
      "요약 진행 중:  80%|████████  | 1912/2388 [1:20:58<20:23,  2.57s/it]"
     ]
    },
    {
     "name": "stdout",
     "output_type": "stream",
     "text": [
      "1913/2388 행 요약 완료\n"
     ]
    },
    {
     "name": "stderr",
     "output_type": "stream",
     "text": [
      "요약 진행 중:  80%|████████  | 1913/2388 [1:21:00<19:59,  2.53s/it]"
     ]
    },
    {
     "name": "stdout",
     "output_type": "stream",
     "text": [
      "1914/2388 행 요약 완료\n"
     ]
    },
    {
     "name": "stderr",
     "output_type": "stream",
     "text": [
      "요약 진행 중:  80%|████████  | 1914/2388 [1:21:02<17:38,  2.23s/it]"
     ]
    },
    {
     "name": "stdout",
     "output_type": "stream",
     "text": [
      "1915/2388 행 요약 완료\n"
     ]
    },
    {
     "name": "stderr",
     "output_type": "stream",
     "text": [
      "요약 진행 중:  80%|████████  | 1915/2388 [1:21:04<17:02,  2.16s/it]"
     ]
    },
    {
     "name": "stdout",
     "output_type": "stream",
     "text": [
      "1916/2388 행 요약 완료\n"
     ]
    },
    {
     "name": "stderr",
     "output_type": "stream",
     "text": [
      "요약 진행 중:  80%|████████  | 1916/2388 [1:21:06<16:13,  2.06s/it]"
     ]
    },
    {
     "name": "stdout",
     "output_type": "stream",
     "text": [
      "1917/2388 행 요약 완료\n"
     ]
    },
    {
     "name": "stderr",
     "output_type": "stream",
     "text": [
      "요약 진행 중:  80%|████████  | 1917/2388 [1:21:07<14:33,  1.86s/it]"
     ]
    },
    {
     "name": "stdout",
     "output_type": "stream",
     "text": [
      "1918/2388 행 요약 완료\n"
     ]
    },
    {
     "name": "stderr",
     "output_type": "stream",
     "text": [
      "요약 진행 중:  80%|████████  | 1918/2388 [1:21:09<15:22,  1.96s/it]"
     ]
    },
    {
     "name": "stdout",
     "output_type": "stream",
     "text": [
      "1919/2388 행 요약 완료\n"
     ]
    },
    {
     "name": "stderr",
     "output_type": "stream",
     "text": [
      "요약 진행 중:  80%|████████  | 1919/2388 [1:21:11<15:15,  1.95s/it]"
     ]
    },
    {
     "name": "stdout",
     "output_type": "stream",
     "text": [
      "1920/2388 행 요약 완료\n"
     ]
    },
    {
     "name": "stderr",
     "output_type": "stream",
     "text": [
      "요약 진행 중:  80%|████████  | 1920/2388 [1:21:13<14:48,  1.90s/it]"
     ]
    },
    {
     "name": "stdout",
     "output_type": "stream",
     "text": [
      "1921/2388 행 요약 완료\n"
     ]
    },
    {
     "name": "stderr",
     "output_type": "stream",
     "text": [
      "요약 진행 중:  80%|████████  | 1921/2388 [1:21:16<16:34,  2.13s/it]"
     ]
    },
    {
     "name": "stdout",
     "output_type": "stream",
     "text": [
      "1922/2388 행 요약 완료\n"
     ]
    },
    {
     "name": "stderr",
     "output_type": "stream",
     "text": [
      "요약 진행 중:  80%|████████  | 1922/2388 [1:21:17<14:35,  1.88s/it]"
     ]
    },
    {
     "name": "stdout",
     "output_type": "stream",
     "text": [
      "1923/2388 행 요약 완료\n"
     ]
    },
    {
     "name": "stderr",
     "output_type": "stream",
     "text": [
      "요약 진행 중:  81%|████████  | 1923/2388 [1:21:22<22:17,  2.88s/it]"
     ]
    },
    {
     "name": "stdout",
     "output_type": "stream",
     "text": [
      "1924/2388 행 요약 완료\n"
     ]
    },
    {
     "name": "stderr",
     "output_type": "stream",
     "text": [
      "요약 진행 중:  81%|████████  | 1924/2388 [1:21:25<23:20,  3.02s/it]"
     ]
    },
    {
     "name": "stdout",
     "output_type": "stream",
     "text": [
      "1925/2388 행 요약 완료\n"
     ]
    },
    {
     "name": "stderr",
     "output_type": "stream",
     "text": [
      "요약 진행 중:  81%|████████  | 1925/2388 [1:21:27<20:18,  2.63s/it]"
     ]
    },
    {
     "name": "stdout",
     "output_type": "stream",
     "text": [
      "1926/2388 행 요약 완료\n"
     ]
    },
    {
     "name": "stderr",
     "output_type": "stream",
     "text": [
      "요약 진행 중:  81%|████████  | 1926/2388 [1:21:29<19:32,  2.54s/it]"
     ]
    },
    {
     "name": "stdout",
     "output_type": "stream",
     "text": [
      "1927/2388 행 요약 완료\n"
     ]
    },
    {
     "name": "stderr",
     "output_type": "stream",
     "text": [
      "요약 진행 중:  81%|████████  | 1927/2388 [1:21:31<17:14,  2.24s/it]"
     ]
    },
    {
     "name": "stdout",
     "output_type": "stream",
     "text": [
      "1928/2388 행 요약 완료\n"
     ]
    },
    {
     "name": "stderr",
     "output_type": "stream",
     "text": [
      "요약 진행 중:  81%|████████  | 1928/2388 [1:21:34<18:03,  2.35s/it]"
     ]
    },
    {
     "name": "stdout",
     "output_type": "stream",
     "text": [
      "1929/2388 행 요약 완료\n"
     ]
    },
    {
     "name": "stderr",
     "output_type": "stream",
     "text": [
      "요약 진행 중:  81%|████████  | 1929/2388 [1:21:36<18:31,  2.42s/it]"
     ]
    },
    {
     "name": "stdout",
     "output_type": "stream",
     "text": [
      "1930/2388 행 요약 완료\n"
     ]
    },
    {
     "name": "stderr",
     "output_type": "stream",
     "text": [
      "요약 진행 중:  81%|████████  | 1930/2388 [1:21:38<16:42,  2.19s/it]"
     ]
    },
    {
     "name": "stdout",
     "output_type": "stream",
     "text": [
      "1931/2388 행 요약 완료\n"
     ]
    },
    {
     "name": "stderr",
     "output_type": "stream",
     "text": [
      "요약 진행 중:  81%|████████  | 1931/2388 [1:21:40<17:32,  2.30s/it]"
     ]
    },
    {
     "name": "stdout",
     "output_type": "stream",
     "text": [
      "1932/2388 행 요약 완료\n"
     ]
    },
    {
     "name": "stderr",
     "output_type": "stream",
     "text": [
      "요약 진행 중:  81%|████████  | 1932/2388 [1:21:42<16:31,  2.17s/it]"
     ]
    },
    {
     "name": "stdout",
     "output_type": "stream",
     "text": [
      "1933/2388 행 요약 완료\n"
     ]
    },
    {
     "name": "stderr",
     "output_type": "stream",
     "text": [
      "요약 진행 중:  81%|████████  | 1933/2388 [1:21:44<14:22,  1.90s/it]"
     ]
    },
    {
     "name": "stdout",
     "output_type": "stream",
     "text": [
      "1934/2388 행 요약 완료\n"
     ]
    },
    {
     "name": "stderr",
     "output_type": "stream",
     "text": [
      "요약 진행 중:  81%|████████  | 1934/2388 [1:21:45<13:07,  1.73s/it]"
     ]
    },
    {
     "name": "stdout",
     "output_type": "stream",
     "text": [
      "1935/2388 행 요약 완료\n"
     ]
    },
    {
     "name": "stderr",
     "output_type": "stream",
     "text": [
      "요약 진행 중:  81%|████████  | 1935/2388 [1:21:46<12:28,  1.65s/it]"
     ]
    },
    {
     "name": "stdout",
     "output_type": "stream",
     "text": [
      "1936/2388 행 요약 완료\n"
     ]
    },
    {
     "name": "stderr",
     "output_type": "stream",
     "text": [
      "요약 진행 중:  81%|████████  | 1936/2388 [1:21:48<12:17,  1.63s/it]"
     ]
    },
    {
     "name": "stdout",
     "output_type": "stream",
     "text": [
      "1937/2388 행 요약 완료\n"
     ]
    },
    {
     "name": "stderr",
     "output_type": "stream",
     "text": [
      "요약 진행 중:  81%|████████  | 1937/2388 [1:21:50<12:25,  1.65s/it]"
     ]
    },
    {
     "name": "stdout",
     "output_type": "stream",
     "text": [
      "1938/2388 행 요약 완료\n"
     ]
    },
    {
     "name": "stderr",
     "output_type": "stream",
     "text": [
      "요약 진행 중:  81%|████████  | 1938/2388 [1:21:53<15:59,  2.13s/it]"
     ]
    },
    {
     "name": "stdout",
     "output_type": "stream",
     "text": [
      "1939/2388 행 요약 완료\n"
     ]
    },
    {
     "name": "stderr",
     "output_type": "stream",
     "text": [
      "요약 진행 중:  81%|████████  | 1939/2388 [1:21:54<14:36,  1.95s/it]"
     ]
    },
    {
     "name": "stdout",
     "output_type": "stream",
     "text": [
      "1940/2388 행 요약 완료\n"
     ]
    },
    {
     "name": "stderr",
     "output_type": "stream",
     "text": [
      "요약 진행 중:  81%|████████  | 1940/2388 [1:21:59<20:12,  2.71s/it]"
     ]
    },
    {
     "name": "stdout",
     "output_type": "stream",
     "text": [
      "1941/2388 행 요약 완료\n"
     ]
    },
    {
     "name": "stderr",
     "output_type": "stream",
     "text": [
      "요약 진행 중:  81%|████████▏ | 1941/2388 [1:22:01<17:48,  2.39s/it]"
     ]
    },
    {
     "name": "stdout",
     "output_type": "stream",
     "text": [
      "1942/2388 행 요약 완료\n"
     ]
    },
    {
     "name": "stderr",
     "output_type": "stream",
     "text": [
      "요약 진행 중:  81%|████████▏ | 1942/2388 [1:22:02<15:38,  2.10s/it]"
     ]
    },
    {
     "name": "stdout",
     "output_type": "stream",
     "text": [
      "1943/2388 행 요약 완료\n"
     ]
    },
    {
     "name": "stderr",
     "output_type": "stream",
     "text": [
      "요약 진행 중:  81%|████████▏ | 1943/2388 [1:22:04<15:40,  2.11s/it]"
     ]
    },
    {
     "name": "stdout",
     "output_type": "stream",
     "text": [
      "1944/2388 행 요약 완료\n"
     ]
    },
    {
     "name": "stderr",
     "output_type": "stream",
     "text": [
      "요약 진행 중:  81%|████████▏ | 1944/2388 [1:22:05<13:51,  1.87s/it]"
     ]
    },
    {
     "name": "stdout",
     "output_type": "stream",
     "text": [
      "1945/2388 행 요약 완료\n"
     ]
    },
    {
     "name": "stderr",
     "output_type": "stream",
     "text": [
      "요약 진행 중:  81%|████████▏ | 1945/2388 [1:22:08<14:42,  1.99s/it]"
     ]
    },
    {
     "name": "stdout",
     "output_type": "stream",
     "text": [
      "1946/2388 행 요약 완료\n"
     ]
    },
    {
     "name": "stderr",
     "output_type": "stream",
     "text": [
      "요약 진행 중:  81%|████████▏ | 1946/2388 [1:22:11<17:16,  2.35s/it]"
     ]
    },
    {
     "name": "stdout",
     "output_type": "stream",
     "text": [
      "1947/2388 행 요약 완료\n"
     ]
    },
    {
     "name": "stderr",
     "output_type": "stream",
     "text": [
      "요약 진행 중:  82%|████████▏ | 1947/2388 [1:22:14<18:02,  2.46s/it]"
     ]
    },
    {
     "name": "stdout",
     "output_type": "stream",
     "text": [
      "1948/2388 행 요약 완료\n"
     ]
    },
    {
     "name": "stderr",
     "output_type": "stream",
     "text": [
      "요약 진행 중:  82%|████████▏ | 1948/2388 [1:22:18<21:11,  2.89s/it]"
     ]
    },
    {
     "name": "stdout",
     "output_type": "stream",
     "text": [
      "1949/2388 행 요약 완료\n"
     ]
    },
    {
     "name": "stderr",
     "output_type": "stream",
     "text": [
      "요약 진행 중:  82%|████████▏ | 1949/2388 [1:22:20<21:02,  2.88s/it]"
     ]
    },
    {
     "name": "stdout",
     "output_type": "stream",
     "text": [
      "1950/2388 행 요약 완료\n"
     ]
    },
    {
     "name": "stderr",
     "output_type": "stream",
     "text": [
      "요약 진행 중:  82%|████████▏ | 1950/2388 [1:22:23<20:00,  2.74s/it]"
     ]
    },
    {
     "name": "stdout",
     "output_type": "stream",
     "text": [
      "1951/2388 행 요약 완료\n"
     ]
    },
    {
     "name": "stderr",
     "output_type": "stream",
     "text": [
      "요약 진행 중:  82%|████████▏ | 1951/2388 [1:22:26<20:54,  2.87s/it]"
     ]
    },
    {
     "name": "stdout",
     "output_type": "stream",
     "text": [
      "1952/2388 행 요약 완료\n"
     ]
    },
    {
     "name": "stderr",
     "output_type": "stream",
     "text": [
      "요약 진행 중:  82%|████████▏ | 1952/2388 [1:22:28<18:34,  2.56s/it]"
     ]
    },
    {
     "name": "stdout",
     "output_type": "stream",
     "text": [
      "1953/2388 행 요약 완료\n"
     ]
    },
    {
     "name": "stderr",
     "output_type": "stream",
     "text": [
      "요약 진행 중:  82%|████████▏ | 1953/2388 [1:22:30<17:55,  2.47s/it]"
     ]
    },
    {
     "name": "stdout",
     "output_type": "stream",
     "text": [
      "1954/2388 행 요약 완료\n"
     ]
    },
    {
     "name": "stderr",
     "output_type": "stream",
     "text": [
      "요약 진행 중:  82%|████████▏ | 1954/2388 [1:22:31<15:10,  2.10s/it]"
     ]
    },
    {
     "name": "stdout",
     "output_type": "stream",
     "text": [
      "1955/2388 행 요약 완료\n"
     ]
    },
    {
     "name": "stderr",
     "output_type": "stream",
     "text": [
      "요약 진행 중:  82%|████████▏ | 1955/2388 [1:22:33<13:20,  1.85s/it]"
     ]
    },
    {
     "name": "stdout",
     "output_type": "stream",
     "text": [
      "1956/2388 행 요약 완료\n"
     ]
    },
    {
     "name": "stderr",
     "output_type": "stream",
     "text": [
      "요약 진행 중:  82%|████████▏ | 1956/2388 [1:22:35<15:21,  2.13s/it]"
     ]
    },
    {
     "name": "stdout",
     "output_type": "stream",
     "text": [
      "1957/2388 행 요약 완료\n"
     ]
    },
    {
     "name": "stderr",
     "output_type": "stream",
     "text": [
      "요약 진행 중:  82%|████████▏ | 1957/2388 [1:22:38<15:27,  2.15s/it]"
     ]
    },
    {
     "name": "stdout",
     "output_type": "stream",
     "text": [
      "1958/2388 행 요약 완료\n"
     ]
    },
    {
     "name": "stderr",
     "output_type": "stream",
     "text": [
      "요약 진행 중:  82%|████████▏ | 1958/2388 [1:22:40<15:52,  2.22s/it]"
     ]
    },
    {
     "name": "stdout",
     "output_type": "stream",
     "text": [
      "1959/2388 행 요약 완료\n"
     ]
    },
    {
     "name": "stderr",
     "output_type": "stream",
     "text": [
      "요약 진행 중:  82%|████████▏ | 1959/2388 [1:22:41<14:27,  2.02s/it]"
     ]
    },
    {
     "name": "stdout",
     "output_type": "stream",
     "text": [
      "1960/2388 행 요약 완료\n"
     ]
    },
    {
     "name": "stderr",
     "output_type": "stream",
     "text": [
      "요약 진행 중:  82%|████████▏ | 1960/2388 [1:22:46<19:36,  2.75s/it]"
     ]
    },
    {
     "name": "stdout",
     "output_type": "stream",
     "text": [
      "1961/2388 행 요약 완료\n"
     ]
    },
    {
     "name": "stderr",
     "output_type": "stream",
     "text": [
      "요약 진행 중:  82%|████████▏ | 1961/2388 [1:22:48<17:55,  2.52s/it]"
     ]
    },
    {
     "name": "stdout",
     "output_type": "stream",
     "text": [
      "1962/2388 행 요약 완료\n"
     ]
    },
    {
     "name": "stderr",
     "output_type": "stream",
     "text": [
      "요약 진행 중:  82%|████████▏ | 1962/2388 [1:22:49<15:04,  2.12s/it]"
     ]
    },
    {
     "name": "stdout",
     "output_type": "stream",
     "text": [
      "1963/2388 행 요약 완료\n"
     ]
    },
    {
     "name": "stderr",
     "output_type": "stream",
     "text": [
      "요약 진행 중:  82%|████████▏ | 1963/2388 [1:22:51<15:21,  2.17s/it]"
     ]
    },
    {
     "name": "stdout",
     "output_type": "stream",
     "text": [
      "1964/2388 행 요약 완료\n"
     ]
    },
    {
     "name": "stderr",
     "output_type": "stream",
     "text": [
      "요약 진행 중:  82%|████████▏ | 1964/2388 [1:22:53<13:32,  1.92s/it]"
     ]
    },
    {
     "name": "stdout",
     "output_type": "stream",
     "text": [
      "1965/2388 행 요약 완료\n"
     ]
    },
    {
     "name": "stderr",
     "output_type": "stream",
     "text": [
      "요약 진행 중:  82%|████████▏ | 1965/2388 [1:22:55<13:59,  1.98s/it]"
     ]
    },
    {
     "name": "stdout",
     "output_type": "stream",
     "text": [
      "1966/2388 행 요약 완료\n"
     ]
    },
    {
     "name": "stderr",
     "output_type": "stream",
     "text": [
      "요약 진행 중:  82%|████████▏ | 1966/2388 [1:22:56<13:01,  1.85s/it]"
     ]
    },
    {
     "name": "stdout",
     "output_type": "stream",
     "text": [
      "1967/2388 행 요약 완료\n"
     ]
    },
    {
     "name": "stderr",
     "output_type": "stream",
     "text": [
      "요약 진행 중:  82%|████████▏ | 1967/2388 [1:22:58<12:48,  1.83s/it]"
     ]
    },
    {
     "name": "stdout",
     "output_type": "stream",
     "text": [
      "1968/2388 행 요약 완료\n"
     ]
    },
    {
     "name": "stderr",
     "output_type": "stream",
     "text": [
      "요약 진행 중:  82%|████████▏ | 1968/2388 [1:23:00<11:49,  1.69s/it]"
     ]
    },
    {
     "name": "stdout",
     "output_type": "stream",
     "text": [
      "1969/2388 행 요약 완료\n"
     ]
    },
    {
     "name": "stderr",
     "output_type": "stream",
     "text": [
      "요약 진행 중:  82%|████████▏ | 1969/2388 [1:23:02<12:23,  1.77s/it]"
     ]
    },
    {
     "name": "stdout",
     "output_type": "stream",
     "text": [
      "1970/2388 행 요약 완료\n"
     ]
    },
    {
     "name": "stderr",
     "output_type": "stream",
     "text": [
      "요약 진행 중:  82%|████████▏ | 1970/2388 [1:23:03<11:59,  1.72s/it]"
     ]
    },
    {
     "name": "stdout",
     "output_type": "stream",
     "text": [
      "1971/2388 행 요약 완료\n"
     ]
    },
    {
     "name": "stderr",
     "output_type": "stream",
     "text": [
      "요약 진행 중:  83%|████████▎ | 1971/2388 [1:23:06<14:30,  2.09s/it]"
     ]
    },
    {
     "name": "stdout",
     "output_type": "stream",
     "text": [
      "1972/2388 행 요약 완료\n"
     ]
    },
    {
     "name": "stderr",
     "output_type": "stream",
     "text": [
      "요약 진행 중:  83%|████████▎ | 1972/2388 [1:23:07<12:54,  1.86s/it]"
     ]
    },
    {
     "name": "stdout",
     "output_type": "stream",
     "text": [
      "1973/2388 행 요약 완료\n"
     ]
    },
    {
     "name": "stderr",
     "output_type": "stream",
     "text": [
      "요약 진행 중:  83%|████████▎ | 1973/2388 [1:23:09<12:30,  1.81s/it]"
     ]
    },
    {
     "name": "stdout",
     "output_type": "stream",
     "text": [
      "1974/2388 행 요약 완료\n"
     ]
    },
    {
     "name": "stderr",
     "output_type": "stream",
     "text": [
      "요약 진행 중:  83%|████████▎ | 1974/2388 [1:23:13<17:22,  2.52s/it]"
     ]
    },
    {
     "name": "stdout",
     "output_type": "stream",
     "text": [
      "1975/2388 행 요약 완료\n"
     ]
    },
    {
     "name": "stderr",
     "output_type": "stream",
     "text": [
      "요약 진행 중:  83%|████████▎ | 1975/2388 [1:23:19<23:01,  3.34s/it]"
     ]
    },
    {
     "name": "stdout",
     "output_type": "stream",
     "text": [
      "1976/2388 행 요약 완료\n"
     ]
    },
    {
     "name": "stderr",
     "output_type": "stream",
     "text": [
      "요약 진행 중:  83%|████████▎ | 1976/2388 [1:23:20<18:41,  2.72s/it]"
     ]
    },
    {
     "name": "stdout",
     "output_type": "stream",
     "text": [
      "1977/2388 행 요약 완료\n"
     ]
    },
    {
     "name": "stderr",
     "output_type": "stream",
     "text": [
      "요약 진행 중:  83%|████████▎ | 1977/2388 [1:23:22<17:13,  2.51s/it]"
     ]
    },
    {
     "name": "stdout",
     "output_type": "stream",
     "text": [
      "1978/2388 행 요약 완료\n"
     ]
    },
    {
     "name": "stderr",
     "output_type": "stream",
     "text": [
      "요약 진행 중:  83%|████████▎ | 1978/2388 [1:23:25<18:16,  2.68s/it]"
     ]
    },
    {
     "name": "stdout",
     "output_type": "stream",
     "text": [
      "1979/2388 행 요약 완료\n"
     ]
    },
    {
     "name": "stderr",
     "output_type": "stream",
     "text": [
      "요약 진행 중:  83%|████████▎ | 1979/2388 [1:23:29<20:56,  3.07s/it]"
     ]
    },
    {
     "name": "stdout",
     "output_type": "stream",
     "text": [
      "1980/2388 행 요약 완료\n"
     ]
    },
    {
     "name": "stderr",
     "output_type": "stream",
     "text": [
      "요약 진행 중:  83%|████████▎ | 1980/2388 [1:23:30<17:54,  2.63s/it]"
     ]
    },
    {
     "name": "stdout",
     "output_type": "stream",
     "text": [
      "1981/2388 행 요약 완료\n"
     ]
    },
    {
     "name": "stderr",
     "output_type": "stream",
     "text": [
      "요약 진행 중:  83%|████████▎ | 1981/2388 [1:23:33<16:47,  2.47s/it]"
     ]
    },
    {
     "name": "stdout",
     "output_type": "stream",
     "text": [
      "1982/2388 행 요약 완료\n"
     ]
    },
    {
     "name": "stderr",
     "output_type": "stream",
     "text": [
      "요약 진행 중:  83%|████████▎ | 1982/2388 [1:23:34<14:16,  2.11s/it]"
     ]
    },
    {
     "name": "stdout",
     "output_type": "stream",
     "text": [
      "1983/2388 행 요약 완료\n"
     ]
    },
    {
     "name": "stderr",
     "output_type": "stream",
     "text": [
      "요약 진행 중:  83%|████████▎ | 1983/2388 [1:23:39<20:09,  2.99s/it]"
     ]
    },
    {
     "name": "stdout",
     "output_type": "stream",
     "text": [
      "1984/2388 행 요약 완료\n"
     ]
    },
    {
     "name": "stderr",
     "output_type": "stream",
     "text": [
      "요약 진행 중:  83%|████████▎ | 1984/2388 [1:23:41<17:29,  2.60s/it]"
     ]
    },
    {
     "name": "stdout",
     "output_type": "stream",
     "text": [
      "1985/2388 행 요약 완료\n"
     ]
    },
    {
     "name": "stderr",
     "output_type": "stream",
     "text": [
      "요약 진행 중:  83%|████████▎ | 1985/2388 [1:23:43<16:27,  2.45s/it]"
     ]
    },
    {
     "name": "stdout",
     "output_type": "stream",
     "text": [
      "1986/2388 행 요약 완료\n"
     ]
    },
    {
     "name": "stderr",
     "output_type": "stream",
     "text": [
      "요약 진행 중:  83%|████████▎ | 1986/2388 [1:23:45<15:31,  2.32s/it]"
     ]
    },
    {
     "name": "stdout",
     "output_type": "stream",
     "text": [
      "1987/2388 행 요약 완료\n"
     ]
    },
    {
     "name": "stderr",
     "output_type": "stream",
     "text": [
      "요약 진행 중:  83%|████████▎ | 1987/2388 [1:23:47<14:37,  2.19s/it]"
     ]
    },
    {
     "name": "stdout",
     "output_type": "stream",
     "text": [
      "1988/2388 행 요약 완료\n"
     ]
    },
    {
     "name": "stderr",
     "output_type": "stream",
     "text": [
      "요약 진행 중:  83%|████████▎ | 1988/2388 [1:23:51<19:12,  2.88s/it]"
     ]
    },
    {
     "name": "stdout",
     "output_type": "stream",
     "text": [
      "1989/2388 행 요약 완료\n"
     ]
    },
    {
     "name": "stderr",
     "output_type": "stream",
     "text": [
      "요약 진행 중:  83%|████████▎ | 1989/2388 [1:23:53<16:27,  2.48s/it]"
     ]
    },
    {
     "name": "stdout",
     "output_type": "stream",
     "text": [
      "1990/2388 행 요약 완료\n"
     ]
    },
    {
     "name": "stderr",
     "output_type": "stream",
     "text": [
      "요약 진행 중:  83%|████████▎ | 1990/2388 [1:23:54<15:05,  2.28s/it]"
     ]
    },
    {
     "name": "stdout",
     "output_type": "stream",
     "text": [
      "1991/2388 행 요약 완료\n"
     ]
    },
    {
     "name": "stderr",
     "output_type": "stream",
     "text": [
      "요약 진행 중:  83%|████████▎ | 1991/2388 [1:23:58<17:10,  2.60s/it]"
     ]
    },
    {
     "name": "stdout",
     "output_type": "stream",
     "text": [
      "1992/2388 행 요약 완료\n"
     ]
    },
    {
     "name": "stderr",
     "output_type": "stream",
     "text": [
      "요약 진행 중:  83%|████████▎ | 1992/2388 [1:23:59<14:45,  2.24s/it]"
     ]
    },
    {
     "name": "stdout",
     "output_type": "stream",
     "text": [
      "1993/2388 행 요약 완료\n"
     ]
    },
    {
     "name": "stderr",
     "output_type": "stream",
     "text": [
      "요약 진행 중:  83%|████████▎ | 1993/2388 [1:24:01<14:08,  2.15s/it]"
     ]
    },
    {
     "name": "stdout",
     "output_type": "stream",
     "text": [
      "1994/2388 행 요약 완료\n"
     ]
    },
    {
     "name": "stderr",
     "output_type": "stream",
     "text": [
      "요약 진행 중:  84%|████████▎ | 1994/2388 [1:24:03<13:46,  2.10s/it]"
     ]
    },
    {
     "name": "stdout",
     "output_type": "stream",
     "text": [
      "1995/2388 행 요약 완료\n"
     ]
    },
    {
     "name": "stderr",
     "output_type": "stream",
     "text": [
      "요약 진행 중:  84%|████████▎ | 1995/2388 [1:24:04<12:18,  1.88s/it]"
     ]
    },
    {
     "name": "stdout",
     "output_type": "stream",
     "text": [
      "1996/2388 행 요약 완료\n"
     ]
    },
    {
     "name": "stderr",
     "output_type": "stream",
     "text": [
      "요약 진행 중:  84%|████████▎ | 1996/2388 [1:24:06<10:48,  1.66s/it]"
     ]
    },
    {
     "name": "stdout",
     "output_type": "stream",
     "text": [
      "1997/2388 행 요약 완료\n"
     ]
    },
    {
     "name": "stderr",
     "output_type": "stream",
     "text": [
      "요약 진행 중:  84%|████████▎ | 1997/2388 [1:24:07<10:12,  1.57s/it]"
     ]
    },
    {
     "name": "stdout",
     "output_type": "stream",
     "text": [
      "1998/2388 행 요약 완료\n"
     ]
    },
    {
     "name": "stderr",
     "output_type": "stream",
     "text": [
      "요약 진행 중:  84%|████████▎ | 1998/2388 [1:24:09<10:14,  1.58s/it]"
     ]
    },
    {
     "name": "stdout",
     "output_type": "stream",
     "text": [
      "1999/2388 행 요약 완료\n"
     ]
    },
    {
     "name": "stderr",
     "output_type": "stream",
     "text": [
      "요약 진행 중:  84%|████████▎ | 1999/2388 [1:24:10<10:44,  1.66s/it]"
     ]
    },
    {
     "name": "stdout",
     "output_type": "stream",
     "text": [
      "2000/2388 행 요약 완료\n"
     ]
    },
    {
     "name": "stderr",
     "output_type": "stream",
     "text": [
      "요약 진행 중:  84%|████████▍ | 2000/2388 [1:24:12<11:07,  1.72s/it]"
     ]
    },
    {
     "name": "stdout",
     "output_type": "stream",
     "text": [
      "2001/2388 행 요약 완료\n"
     ]
    },
    {
     "name": "stderr",
     "output_type": "stream",
     "text": [
      "요약 진행 중:  84%|████████▍ | 2001/2388 [1:24:14<10:55,  1.69s/it]"
     ]
    },
    {
     "name": "stdout",
     "output_type": "stream",
     "text": [
      "2002/2388 행 요약 완료\n"
     ]
    },
    {
     "name": "stderr",
     "output_type": "stream",
     "text": [
      "요약 진행 중:  84%|████████▍ | 2002/2388 [1:24:16<11:18,  1.76s/it]"
     ]
    },
    {
     "name": "stdout",
     "output_type": "stream",
     "text": [
      "2003/2388 행 요약 완료\n"
     ]
    },
    {
     "name": "stderr",
     "output_type": "stream",
     "text": [
      "요약 진행 중:  84%|████████▍ | 2003/2388 [1:24:18<11:40,  1.82s/it]"
     ]
    },
    {
     "name": "stdout",
     "output_type": "stream",
     "text": [
      "2004/2388 행 요약 완료\n"
     ]
    },
    {
     "name": "stderr",
     "output_type": "stream",
     "text": [
      "요약 진행 중:  84%|████████▍ | 2004/2388 [1:24:20<11:47,  1.84s/it]"
     ]
    },
    {
     "name": "stdout",
     "output_type": "stream",
     "text": [
      "2005/2388 행 요약 완료\n"
     ]
    },
    {
     "name": "stderr",
     "output_type": "stream",
     "text": [
      "요약 진행 중:  84%|████████▍ | 2005/2388 [1:24:21<11:40,  1.83s/it]"
     ]
    },
    {
     "name": "stdout",
     "output_type": "stream",
     "text": [
      "2006/2388 행 요약 완료\n"
     ]
    },
    {
     "name": "stderr",
     "output_type": "stream",
     "text": [
      "요약 진행 중:  84%|████████▍ | 2006/2388 [1:24:24<13:53,  2.18s/it]"
     ]
    },
    {
     "name": "stdout",
     "output_type": "stream",
     "text": [
      "2007/2388 행 요약 완료\n"
     ]
    },
    {
     "name": "stderr",
     "output_type": "stream",
     "text": [
      "요약 진행 중:  84%|████████▍ | 2007/2388 [1:24:29<17:48,  2.81s/it]"
     ]
    },
    {
     "name": "stdout",
     "output_type": "stream",
     "text": [
      "2008/2388 행 요약 완료\n"
     ]
    },
    {
     "name": "stderr",
     "output_type": "stream",
     "text": [
      "요약 진행 중:  84%|████████▍ | 2008/2388 [1:24:30<15:18,  2.42s/it]"
     ]
    },
    {
     "name": "stdout",
     "output_type": "stream",
     "text": [
      "2009/2388 행 요약 완료\n"
     ]
    },
    {
     "name": "stderr",
     "output_type": "stream",
     "text": [
      "요약 진행 중:  84%|████████▍ | 2009/2388 [1:24:33<15:43,  2.49s/it]"
     ]
    },
    {
     "name": "stdout",
     "output_type": "stream",
     "text": [
      "2010/2388 행 요약 완료\n"
     ]
    },
    {
     "name": "stderr",
     "output_type": "stream",
     "text": [
      "요약 진행 중:  84%|████████▍ | 2010/2388 [1:24:34<13:39,  2.17s/it]"
     ]
    },
    {
     "name": "stdout",
     "output_type": "stream",
     "text": [
      "2011/2388 행 요약 완료\n"
     ]
    },
    {
     "name": "stderr",
     "output_type": "stream",
     "text": [
      "요약 진행 중:  84%|████████▍ | 2011/2388 [1:24:37<14:21,  2.29s/it]"
     ]
    },
    {
     "name": "stdout",
     "output_type": "stream",
     "text": [
      "2012/2388 행 요약 완료\n"
     ]
    },
    {
     "name": "stderr",
     "output_type": "stream",
     "text": [
      "요약 진행 중:  84%|████████▍ | 2012/2388 [1:24:41<17:41,  2.82s/it]"
     ]
    },
    {
     "name": "stdout",
     "output_type": "stream",
     "text": [
      "2013/2388 행 요약 완료\n"
     ]
    },
    {
     "name": "stderr",
     "output_type": "stream",
     "text": [
      "요약 진행 중:  84%|████████▍ | 2013/2388 [1:24:43<15:31,  2.49s/it]"
     ]
    },
    {
     "name": "stdout",
     "output_type": "stream",
     "text": [
      "2014/2388 행 요약 완료\n"
     ]
    },
    {
     "name": "stderr",
     "output_type": "stream",
     "text": [
      "요약 진행 중:  84%|████████▍ | 2014/2388 [1:24:44<13:35,  2.18s/it]"
     ]
    },
    {
     "name": "stdout",
     "output_type": "stream",
     "text": [
      "2015/2388 행 요약 완료\n"
     ]
    },
    {
     "name": "stderr",
     "output_type": "stream",
     "text": [
      "요약 진행 중:  84%|████████▍ | 2015/2388 [1:24:48<16:59,  2.73s/it]"
     ]
    },
    {
     "name": "stdout",
     "output_type": "stream",
     "text": [
      "2016/2388 행 요약 완료\n"
     ]
    },
    {
     "name": "stderr",
     "output_type": "stream",
     "text": [
      "요약 진행 중:  84%|████████▍ | 2016/2388 [1:24:52<19:28,  3.14s/it]"
     ]
    },
    {
     "name": "stdout",
     "output_type": "stream",
     "text": [
      "2017/2388 행 요약 완료\n"
     ]
    },
    {
     "name": "stderr",
     "output_type": "stream",
     "text": [
      "요약 진행 중:  84%|████████▍ | 2017/2388 [1:24:56<20:31,  3.32s/it]"
     ]
    },
    {
     "name": "stdout",
     "output_type": "stream",
     "text": [
      "2018/2388 행 요약 완료\n"
     ]
    },
    {
     "name": "stderr",
     "output_type": "stream",
     "text": [
      "요약 진행 중:  85%|████████▍ | 2018/2388 [1:24:58<17:46,  2.88s/it]"
     ]
    },
    {
     "name": "stdout",
     "output_type": "stream",
     "text": [
      "2019/2388 행 요약 완료\n"
     ]
    },
    {
     "name": "stderr",
     "output_type": "stream",
     "text": [
      "요약 진행 중:  85%|████████▍ | 2019/2388 [1:25:01<18:59,  3.09s/it]"
     ]
    },
    {
     "name": "stdout",
     "output_type": "stream",
     "text": [
      "2020/2388 행 요약 완료\n"
     ]
    },
    {
     "name": "stderr",
     "output_type": "stream",
     "text": [
      "요약 진행 중:  85%|████████▍ | 2020/2388 [1:25:03<15:32,  2.53s/it]"
     ]
    },
    {
     "name": "stdout",
     "output_type": "stream",
     "text": [
      "2021/2388 행 요약 완료\n"
     ]
    },
    {
     "name": "stderr",
     "output_type": "stream",
     "text": [
      "요약 진행 중:  85%|████████▍ | 2021/2388 [1:25:06<16:37,  2.72s/it]"
     ]
    },
    {
     "name": "stdout",
     "output_type": "stream",
     "text": [
      "2022/2388 행 요약 완료\n"
     ]
    },
    {
     "name": "stderr",
     "output_type": "stream",
     "text": [
      "요약 진행 중:  85%|████████▍ | 2022/2388 [1:25:07<14:39,  2.40s/it]"
     ]
    },
    {
     "name": "stdout",
     "output_type": "stream",
     "text": [
      "2023/2388 행 요약 완료\n"
     ]
    },
    {
     "name": "stderr",
     "output_type": "stream",
     "text": [
      "요약 진행 중:  85%|████████▍ | 2023/2388 [1:25:09<13:51,  2.28s/it]"
     ]
    },
    {
     "name": "stdout",
     "output_type": "stream",
     "text": [
      "2024/2388 행 요약 완료\n"
     ]
    },
    {
     "name": "stderr",
     "output_type": "stream",
     "text": [
      "요약 진행 중:  85%|████████▍ | 2024/2388 [1:25:11<12:32,  2.07s/it]"
     ]
    },
    {
     "name": "stdout",
     "output_type": "stream",
     "text": [
      "2025/2388 행 요약 완료\n"
     ]
    },
    {
     "name": "stderr",
     "output_type": "stream",
     "text": [
      "요약 진행 중:  85%|████████▍ | 2025/2388 [1:25:15<16:12,  2.68s/it]"
     ]
    },
    {
     "name": "stdout",
     "output_type": "stream",
     "text": [
      "2026/2388 행 요약 완료\n"
     ]
    },
    {
     "name": "stderr",
     "output_type": "stream",
     "text": [
      "요약 진행 중:  85%|████████▍ | 2026/2388 [1:25:18<16:49,  2.79s/it]"
     ]
    },
    {
     "name": "stdout",
     "output_type": "stream",
     "text": [
      "2027/2388 행 요약 완료\n"
     ]
    },
    {
     "name": "stderr",
     "output_type": "stream",
     "text": [
      "요약 진행 중:  85%|████████▍ | 2027/2388 [1:25:24<21:54,  3.64s/it]"
     ]
    },
    {
     "name": "stdout",
     "output_type": "stream",
     "text": [
      "2028/2388 행 요약 완료\n"
     ]
    },
    {
     "name": "stderr",
     "output_type": "stream",
     "text": [
      "요약 진행 중:  85%|████████▍ | 2028/2388 [1:25:26<20:07,  3.35s/it]"
     ]
    },
    {
     "name": "stdout",
     "output_type": "stream",
     "text": [
      "2029/2388 행 요약 완료\n"
     ]
    },
    {
     "name": "stderr",
     "output_type": "stream",
     "text": [
      "요약 진행 중:  85%|████████▍ | 2029/2388 [1:25:29<18:40,  3.12s/it]"
     ]
    },
    {
     "name": "stdout",
     "output_type": "stream",
     "text": [
      "2030/2388 행 요약 완료\n"
     ]
    },
    {
     "name": "stderr",
     "output_type": "stream",
     "text": [
      "요약 진행 중:  85%|████████▌ | 2030/2388 [1:25:31<16:34,  2.78s/it]"
     ]
    },
    {
     "name": "stdout",
     "output_type": "stream",
     "text": [
      "2031/2388 행 요약 완료\n"
     ]
    },
    {
     "name": "stderr",
     "output_type": "stream",
     "text": [
      "요약 진행 중:  85%|████████▌ | 2031/2388 [1:25:34<17:30,  2.94s/it]"
     ]
    },
    {
     "name": "stdout",
     "output_type": "stream",
     "text": [
      "2032/2388 행 요약 완료\n"
     ]
    },
    {
     "name": "stderr",
     "output_type": "stream",
     "text": [
      "요약 진행 중:  85%|████████▌ | 2032/2388 [1:25:37<16:20,  2.76s/it]"
     ]
    },
    {
     "name": "stdout",
     "output_type": "stream",
     "text": [
      "2033/2388 행 요약 완료\n"
     ]
    },
    {
     "name": "stderr",
     "output_type": "stream",
     "text": [
      "요약 진행 중:  85%|████████▌ | 2033/2388 [1:25:39<16:12,  2.74s/it]"
     ]
    },
    {
     "name": "stdout",
     "output_type": "stream",
     "text": [
      "2034/2388 행 요약 완료\n"
     ]
    },
    {
     "name": "stderr",
     "output_type": "stream",
     "text": [
      "요약 진행 중:  85%|████████▌ | 2034/2388 [1:25:43<17:36,  2.98s/it]"
     ]
    },
    {
     "name": "stdout",
     "output_type": "stream",
     "text": [
      "2035/2388 행 요약 완료\n"
     ]
    },
    {
     "name": "stderr",
     "output_type": "stream",
     "text": [
      "요약 진행 중:  85%|████████▌ | 2035/2388 [1:25:46<17:17,  2.94s/it]"
     ]
    },
    {
     "name": "stdout",
     "output_type": "stream",
     "text": [
      "2036/2388 행 요약 완료\n"
     ]
    },
    {
     "name": "stderr",
     "output_type": "stream",
     "text": [
      "요약 진행 중:  85%|████████▌ | 2036/2388 [1:25:49<17:45,  3.03s/it]"
     ]
    },
    {
     "name": "stdout",
     "output_type": "stream",
     "text": [
      "2037/2388 행 요약 완료\n"
     ]
    },
    {
     "name": "stderr",
     "output_type": "stream",
     "text": [
      "요약 진행 중:  85%|████████▌ | 2037/2388 [1:25:53<18:55,  3.24s/it]"
     ]
    },
    {
     "name": "stdout",
     "output_type": "stream",
     "text": [
      "2038/2388 행 요약 완료\n"
     ]
    },
    {
     "name": "stderr",
     "output_type": "stream",
     "text": [
      "요약 진행 중:  85%|████████▌ | 2038/2388 [1:25:54<15:55,  2.73s/it]"
     ]
    },
    {
     "name": "stdout",
     "output_type": "stream",
     "text": [
      "2039/2388 행 요약 완료\n"
     ]
    },
    {
     "name": "stderr",
     "output_type": "stream",
     "text": [
      "요약 진행 중:  85%|████████▌ | 2039/2388 [1:25:56<13:38,  2.35s/it]"
     ]
    },
    {
     "name": "stdout",
     "output_type": "stream",
     "text": [
      "2040/2388 행 요약 완료\n"
     ]
    },
    {
     "name": "stderr",
     "output_type": "stream",
     "text": [
      "요약 진행 중:  85%|████████▌ | 2040/2388 [1:25:59<15:00,  2.59s/it]"
     ]
    },
    {
     "name": "stdout",
     "output_type": "stream",
     "text": [
      "2041/2388 행 요약 완료\n"
     ]
    },
    {
     "name": "stderr",
     "output_type": "stream",
     "text": [
      "요약 진행 중:  85%|████████▌ | 2041/2388 [1:26:02<15:42,  2.72s/it]"
     ]
    },
    {
     "name": "stdout",
     "output_type": "stream",
     "text": [
      "2042/2388 행 요약 완료\n"
     ]
    },
    {
     "name": "stderr",
     "output_type": "stream",
     "text": [
      "요약 진행 중:  86%|████████▌ | 2042/2388 [1:26:05<15:48,  2.74s/it]"
     ]
    },
    {
     "name": "stdout",
     "output_type": "stream",
     "text": [
      "2043/2388 행 요약 완료\n"
     ]
    },
    {
     "name": "stderr",
     "output_type": "stream",
     "text": [
      "요약 진행 중:  86%|████████▌ | 2043/2388 [1:26:06<13:33,  2.36s/it]"
     ]
    },
    {
     "name": "stdout",
     "output_type": "stream",
     "text": [
      "2044/2388 행 요약 완료\n"
     ]
    },
    {
     "name": "stderr",
     "output_type": "stream",
     "text": [
      "요약 진행 중:  86%|████████▌ | 2044/2388 [1:26:08<12:18,  2.15s/it]"
     ]
    },
    {
     "name": "stdout",
     "output_type": "stream",
     "text": [
      "2045/2388 행 요약 완료\n"
     ]
    },
    {
     "name": "stderr",
     "output_type": "stream",
     "text": [
      "요약 진행 중:  86%|████████▌ | 2045/2388 [1:26:10<12:21,  2.16s/it]"
     ]
    },
    {
     "name": "stdout",
     "output_type": "stream",
     "text": [
      "2046/2388 행 요약 완료\n"
     ]
    },
    {
     "name": "stderr",
     "output_type": "stream",
     "text": [
      "요약 진행 중:  86%|████████▌ | 2046/2388 [1:26:12<12:41,  2.23s/it]"
     ]
    },
    {
     "name": "stdout",
     "output_type": "stream",
     "text": [
      "2047/2388 행 요약 완료\n"
     ]
    },
    {
     "name": "stderr",
     "output_type": "stream",
     "text": [
      "요약 진행 중:  86%|████████▌ | 2047/2388 [1:26:14<11:41,  2.06s/it]"
     ]
    },
    {
     "name": "stdout",
     "output_type": "stream",
     "text": [
      "2048/2388 행 요약 완료\n"
     ]
    },
    {
     "name": "stderr",
     "output_type": "stream",
     "text": [
      "요약 진행 중:  86%|████████▌ | 2048/2388 [1:26:17<12:29,  2.20s/it]"
     ]
    },
    {
     "name": "stdout",
     "output_type": "stream",
     "text": [
      "2049/2388 행 요약 완료\n"
     ]
    },
    {
     "name": "stderr",
     "output_type": "stream",
     "text": [
      "요약 진행 중:  86%|████████▌ | 2049/2388 [1:26:18<11:26,  2.03s/it]"
     ]
    },
    {
     "name": "stdout",
     "output_type": "stream",
     "text": [
      "2050/2388 행 요약 완료\n"
     ]
    },
    {
     "name": "stderr",
     "output_type": "stream",
     "text": [
      "요약 진행 중:  86%|████████▌ | 2050/2388 [1:26:24<17:56,  3.18s/it]"
     ]
    },
    {
     "name": "stdout",
     "output_type": "stream",
     "text": [
      "2051/2388 행 요약 완료\n"
     ]
    },
    {
     "name": "stderr",
     "output_type": "stream",
     "text": [
      "요약 진행 중:  86%|████████▌ | 2051/2388 [1:26:27<16:42,  2.97s/it]"
     ]
    },
    {
     "name": "stdout",
     "output_type": "stream",
     "text": [
      "2052/2388 행 요약 완료\n"
     ]
    },
    {
     "name": "stderr",
     "output_type": "stream",
     "text": [
      "요약 진행 중:  86%|████████▌ | 2052/2388 [1:26:29<16:30,  2.95s/it]"
     ]
    },
    {
     "name": "stdout",
     "output_type": "stream",
     "text": [
      "2053/2388 행 요약 완료\n"
     ]
    },
    {
     "name": "stderr",
     "output_type": "stream",
     "text": [
      "요약 진행 중:  86%|████████▌ | 2053/2388 [1:26:31<14:14,  2.55s/it]"
     ]
    },
    {
     "name": "stdout",
     "output_type": "stream",
     "text": [
      "2054/2388 행 요약 완료\n"
     ]
    },
    {
     "name": "stderr",
     "output_type": "stream",
     "text": [
      "요약 진행 중:  86%|████████▌ | 2054/2388 [1:26:35<17:16,  3.10s/it]"
     ]
    },
    {
     "name": "stdout",
     "output_type": "stream",
     "text": [
      "2055/2388 행 요약 완료\n"
     ]
    },
    {
     "name": "stderr",
     "output_type": "stream",
     "text": [
      "요약 진행 중:  86%|████████▌ | 2055/2388 [1:26:38<15:51,  2.86s/it]"
     ]
    },
    {
     "name": "stdout",
     "output_type": "stream",
     "text": [
      "2056/2388 행 요약 완료\n"
     ]
    },
    {
     "name": "stderr",
     "output_type": "stream",
     "text": [
      "요약 진행 중:  86%|████████▌ | 2056/2388 [1:26:40<15:17,  2.76s/it]"
     ]
    },
    {
     "name": "stdout",
     "output_type": "stream",
     "text": [
      "2057/2388 행 요약 완료\n"
     ]
    },
    {
     "name": "stderr",
     "output_type": "stream",
     "text": [
      "요약 진행 중:  86%|████████▌ | 2057/2388 [1:26:43<14:42,  2.67s/it]"
     ]
    },
    {
     "name": "stdout",
     "output_type": "stream",
     "text": [
      "2058/2388 행 요약 완료\n"
     ]
    },
    {
     "name": "stderr",
     "output_type": "stream",
     "text": [
      "요약 진행 중:  86%|████████▌ | 2058/2388 [1:26:45<14:43,  2.68s/it]"
     ]
    },
    {
     "name": "stdout",
     "output_type": "stream",
     "text": [
      "2059/2388 행 요약 완료\n"
     ]
    },
    {
     "name": "stderr",
     "output_type": "stream",
     "text": [
      "요약 진행 중:  86%|████████▌ | 2059/2388 [1:26:48<13:59,  2.55s/it]"
     ]
    },
    {
     "name": "stdout",
     "output_type": "stream",
     "text": [
      "2060/2388 행 요약 완료\n"
     ]
    },
    {
     "name": "stderr",
     "output_type": "stream",
     "text": [
      "요약 진행 중:  86%|████████▋ | 2060/2388 [1:26:52<16:28,  3.01s/it]"
     ]
    },
    {
     "name": "stdout",
     "output_type": "stream",
     "text": [
      "2061/2388 행 요약 완료\n"
     ]
    },
    {
     "name": "stderr",
     "output_type": "stream",
     "text": [
      "요약 진행 중:  86%|████████▋ | 2061/2388 [1:26:53<14:19,  2.63s/it]"
     ]
    },
    {
     "name": "stdout",
     "output_type": "stream",
     "text": [
      "2062/2388 행 요약 완료\n"
     ]
    },
    {
     "name": "stderr",
     "output_type": "stream",
     "text": [
      "요약 진행 중:  86%|████████▋ | 2062/2388 [1:26:55<12:58,  2.39s/it]"
     ]
    },
    {
     "name": "stdout",
     "output_type": "stream",
     "text": [
      "2063/2388 행 요약 완료\n"
     ]
    },
    {
     "name": "stderr",
     "output_type": "stream",
     "text": [
      "요약 진행 중:  86%|████████▋ | 2063/2388 [1:26:57<12:18,  2.27s/it]"
     ]
    },
    {
     "name": "stdout",
     "output_type": "stream",
     "text": [
      "2064/2388 행 요약 완료\n"
     ]
    },
    {
     "name": "stderr",
     "output_type": "stream",
     "text": [
      "요약 진행 중:  86%|████████▋ | 2064/2388 [1:26:59<11:59,  2.22s/it]"
     ]
    },
    {
     "name": "stdout",
     "output_type": "stream",
     "text": [
      "2065/2388 행 요약 완료\n"
     ]
    },
    {
     "name": "stderr",
     "output_type": "stream",
     "text": [
      "요약 진행 중:  86%|████████▋ | 2065/2388 [1:27:02<12:09,  2.26s/it]"
     ]
    },
    {
     "name": "stdout",
     "output_type": "stream",
     "text": [
      "2066/2388 행 요약 완료\n"
     ]
    },
    {
     "name": "stderr",
     "output_type": "stream",
     "text": [
      "요약 진행 중:  87%|████████▋ | 2066/2388 [1:27:05<14:25,  2.69s/it]"
     ]
    },
    {
     "name": "stdout",
     "output_type": "stream",
     "text": [
      "2067/2388 행 요약 완료\n"
     ]
    },
    {
     "name": "stderr",
     "output_type": "stream",
     "text": [
      "요약 진행 중:  87%|████████▋ | 2067/2388 [1:27:07<12:41,  2.37s/it]"
     ]
    },
    {
     "name": "stdout",
     "output_type": "stream",
     "text": [
      "2068/2388 행 요약 완료\n"
     ]
    },
    {
     "name": "stderr",
     "output_type": "stream",
     "text": [
      "요약 진행 중:  87%|████████▋ | 2068/2388 [1:27:10<12:53,  2.42s/it]"
     ]
    },
    {
     "name": "stdout",
     "output_type": "stream",
     "text": [
      "2069/2388 행 요약 완료\n"
     ]
    },
    {
     "name": "stderr",
     "output_type": "stream",
     "text": [
      "요약 진행 중:  87%|████████▋ | 2069/2388 [1:27:14<15:25,  2.90s/it]"
     ]
    },
    {
     "name": "stdout",
     "output_type": "stream",
     "text": [
      "2070/2388 행 요약 완료\n"
     ]
    },
    {
     "name": "stderr",
     "output_type": "stream",
     "text": [
      "요약 진행 중:  87%|████████▋ | 2070/2388 [1:27:18<18:03,  3.41s/it]"
     ]
    },
    {
     "name": "stdout",
     "output_type": "stream",
     "text": [
      "2071/2388 행 요약 완료\n"
     ]
    },
    {
     "name": "stderr",
     "output_type": "stream",
     "text": [
      "요약 진행 중:  87%|████████▋ | 2071/2388 [1:27:20<15:14,  2.88s/it]"
     ]
    },
    {
     "name": "stdout",
     "output_type": "stream",
     "text": [
      "2072/2388 행 요약 완료\n"
     ]
    },
    {
     "name": "stderr",
     "output_type": "stream",
     "text": [
      "요약 진행 중:  87%|████████▋ | 2072/2388 [1:27:22<13:29,  2.56s/it]"
     ]
    },
    {
     "name": "stdout",
     "output_type": "stream",
     "text": [
      "2073/2388 행 요약 완료\n"
     ]
    },
    {
     "name": "stderr",
     "output_type": "stream",
     "text": [
      "요약 진행 중:  87%|████████▋ | 2073/2388 [1:27:26<16:38,  3.17s/it]"
     ]
    },
    {
     "name": "stdout",
     "output_type": "stream",
     "text": [
      "2074/2388 행 요약 완료\n"
     ]
    },
    {
     "name": "stderr",
     "output_type": "stream",
     "text": [
      "요약 진행 중:  87%|████████▋ | 2074/2388 [1:27:28<14:01,  2.68s/it]"
     ]
    },
    {
     "name": "stdout",
     "output_type": "stream",
     "text": [
      "2075/2388 행 요약 완료\n"
     ]
    },
    {
     "name": "stderr",
     "output_type": "stream",
     "text": [
      "요약 진행 중:  87%|████████▋ | 2075/2388 [1:27:30<13:01,  2.50s/it]"
     ]
    },
    {
     "name": "stdout",
     "output_type": "stream",
     "text": [
      "2076/2388 행 요약 완료\n"
     ]
    },
    {
     "name": "stderr",
     "output_type": "stream",
     "text": [
      "요약 진행 중:  87%|████████▋ | 2076/2388 [1:27:32<11:50,  2.28s/it]"
     ]
    },
    {
     "name": "stdout",
     "output_type": "stream",
     "text": [
      "2077/2388 행 요약 완료\n"
     ]
    },
    {
     "name": "stderr",
     "output_type": "stream",
     "text": [
      "요약 진행 중:  87%|████████▋ | 2077/2388 [1:27:33<10:51,  2.10s/it]"
     ]
    },
    {
     "name": "stdout",
     "output_type": "stream",
     "text": [
      "2078/2388 행 요약 완료\n"
     ]
    },
    {
     "name": "stderr",
     "output_type": "stream",
     "text": [
      "요약 진행 중:  87%|████████▋ | 2078/2388 [1:27:36<11:01,  2.13s/it]"
     ]
    },
    {
     "name": "stdout",
     "output_type": "stream",
     "text": [
      "2079/2388 행 요약 완료\n"
     ]
    },
    {
     "name": "stderr",
     "output_type": "stream",
     "text": [
      "요약 진행 중:  87%|████████▋ | 2079/2388 [1:27:37<10:19,  2.01s/it]"
     ]
    },
    {
     "name": "stdout",
     "output_type": "stream",
     "text": [
      "2080/2388 행 요약 완료\n"
     ]
    },
    {
     "name": "stderr",
     "output_type": "stream",
     "text": [
      "요약 진행 중:  87%|████████▋ | 2080/2388 [1:27:38<09:05,  1.77s/it]"
     ]
    },
    {
     "name": "stdout",
     "output_type": "stream",
     "text": [
      "2081/2388 행 요약 완료\n"
     ]
    },
    {
     "name": "stderr",
     "output_type": "stream",
     "text": [
      "요약 진행 중:  87%|████████▋ | 2081/2388 [1:27:42<12:20,  2.41s/it]"
     ]
    },
    {
     "name": "stdout",
     "output_type": "stream",
     "text": [
      "2082/2388 행 요약 완료\n"
     ]
    },
    {
     "name": "stderr",
     "output_type": "stream",
     "text": [
      "요약 진행 중:  87%|████████▋ | 2082/2388 [1:27:47<15:26,  3.03s/it]"
     ]
    },
    {
     "name": "stdout",
     "output_type": "stream",
     "text": [
      "2083/2388 행 요약 완료\n"
     ]
    },
    {
     "name": "stderr",
     "output_type": "stream",
     "text": [
      "요약 진행 중:  87%|████████▋ | 2083/2388 [1:27:49<13:44,  2.70s/it]"
     ]
    },
    {
     "name": "stdout",
     "output_type": "stream",
     "text": [
      "2084/2388 행 요약 완료\n"
     ]
    },
    {
     "name": "stderr",
     "output_type": "stream",
     "text": [
      "요약 진행 중:  87%|████████▋ | 2084/2388 [1:27:50<12:07,  2.39s/it]"
     ]
    },
    {
     "name": "stdout",
     "output_type": "stream",
     "text": [
      "2085/2388 행 요약 완료\n"
     ]
    },
    {
     "name": "stderr",
     "output_type": "stream",
     "text": [
      "요약 진행 중:  87%|████████▋ | 2085/2388 [1:27:53<12:55,  2.56s/it]"
     ]
    },
    {
     "name": "stdout",
     "output_type": "stream",
     "text": [
      "2086/2388 행 요약 완료\n"
     ]
    },
    {
     "name": "stderr",
     "output_type": "stream",
     "text": [
      "요약 진행 중:  87%|████████▋ | 2086/2388 [1:27:55<11:14,  2.23s/it]"
     ]
    },
    {
     "name": "stdout",
     "output_type": "stream",
     "text": [
      "2087/2388 행 요약 완료\n"
     ]
    },
    {
     "name": "stderr",
     "output_type": "stream",
     "text": [
      "요약 진행 중:  87%|████████▋ | 2087/2388 [1:28:00<15:33,  3.10s/it]"
     ]
    },
    {
     "name": "stdout",
     "output_type": "stream",
     "text": [
      "2088/2388 행 요약 완료\n"
     ]
    },
    {
     "name": "stderr",
     "output_type": "stream",
     "text": [
      "요약 진행 중:  87%|████████▋ | 2088/2388 [1:28:04<17:16,  3.46s/it]"
     ]
    },
    {
     "name": "stdout",
     "output_type": "stream",
     "text": [
      "2089/2388 행 요약 완료\n"
     ]
    },
    {
     "name": "stderr",
     "output_type": "stream",
     "text": [
      "요약 진행 중:  87%|████████▋ | 2089/2388 [1:28:08<17:07,  3.44s/it]"
     ]
    },
    {
     "name": "stdout",
     "output_type": "stream",
     "text": [
      "2090/2388 행 요약 완료\n"
     ]
    },
    {
     "name": "stderr",
     "output_type": "stream",
     "text": [
      "요약 진행 중:  88%|████████▊ | 2090/2388 [1:28:11<16:21,  3.29s/it]"
     ]
    },
    {
     "name": "stdout",
     "output_type": "stream",
     "text": [
      "2091/2388 행 요약 완료\n"
     ]
    },
    {
     "name": "stderr",
     "output_type": "stream",
     "text": [
      "요약 진행 중:  88%|████████▊ | 2091/2388 [1:28:13<14:34,  2.95s/it]"
     ]
    },
    {
     "name": "stdout",
     "output_type": "stream",
     "text": [
      "2092/2388 행 요약 완료\n"
     ]
    },
    {
     "name": "stderr",
     "output_type": "stream",
     "text": [
      "요약 진행 중:  88%|████████▊ | 2092/2388 [1:28:17<15:44,  3.19s/it]"
     ]
    },
    {
     "name": "stdout",
     "output_type": "stream",
     "text": [
      "2093/2388 행 요약 완료\n"
     ]
    },
    {
     "name": "stderr",
     "output_type": "stream",
     "text": [
      "요약 진행 중:  88%|████████▊ | 2093/2388 [1:28:19<14:22,  2.92s/it]"
     ]
    },
    {
     "name": "stdout",
     "output_type": "stream",
     "text": [
      "2094/2388 행 요약 완료\n"
     ]
    },
    {
     "name": "stderr",
     "output_type": "stream",
     "text": [
      "요약 진행 중:  88%|████████▊ | 2094/2388 [1:28:20<12:26,  2.54s/it]"
     ]
    },
    {
     "name": "stdout",
     "output_type": "stream",
     "text": [
      "2095/2388 행 요약 완료\n"
     ]
    },
    {
     "name": "stderr",
     "output_type": "stream",
     "text": [
      "요약 진행 중:  88%|████████▊ | 2095/2388 [1:28:23<12:20,  2.53s/it]"
     ]
    },
    {
     "name": "stdout",
     "output_type": "stream",
     "text": [
      "2096/2388 행 요약 완료\n"
     ]
    },
    {
     "name": "stderr",
     "output_type": "stream",
     "text": [
      "요약 진행 중:  88%|████████▊ | 2096/2388 [1:28:28<16:17,  3.35s/it]"
     ]
    },
    {
     "name": "stdout",
     "output_type": "stream",
     "text": [
      "2097/2388 행 요약 완료\n"
     ]
    },
    {
     "name": "stderr",
     "output_type": "stream",
     "text": [
      "요약 진행 중:  88%|████████▊ | 2097/2388 [1:28:31<14:38,  3.02s/it]"
     ]
    },
    {
     "name": "stdout",
     "output_type": "stream",
     "text": [
      "2098/2388 행 요약 완료\n"
     ]
    },
    {
     "name": "stderr",
     "output_type": "stream",
     "text": [
      "요약 진행 중:  88%|████████▊ | 2098/2388 [1:28:32<12:51,  2.66s/it]"
     ]
    },
    {
     "name": "stdout",
     "output_type": "stream",
     "text": [
      "2099/2388 행 요약 완료\n"
     ]
    },
    {
     "name": "stderr",
     "output_type": "stream",
     "text": [
      "요약 진행 중:  88%|████████▊ | 2099/2388 [1:28:34<11:03,  2.30s/it]"
     ]
    },
    {
     "name": "stdout",
     "output_type": "stream",
     "text": [
      "2100/2388 행 요약 완료\n"
     ]
    },
    {
     "name": "stderr",
     "output_type": "stream",
     "text": [
      "요약 진행 중:  88%|████████▊ | 2100/2388 [1:28:38<13:50,  2.88s/it]"
     ]
    },
    {
     "name": "stdout",
     "output_type": "stream",
     "text": [
      "2101/2388 행 요약 완료\n"
     ]
    },
    {
     "name": "stderr",
     "output_type": "stream",
     "text": [
      "요약 진행 중:  88%|████████▊ | 2101/2388 [1:28:40<12:13,  2.56s/it]"
     ]
    },
    {
     "name": "stdout",
     "output_type": "stream",
     "text": [
      "2102/2388 행 요약 완료\n"
     ]
    },
    {
     "name": "stderr",
     "output_type": "stream",
     "text": [
      "요약 진행 중:  88%|████████▊ | 2102/2388 [1:28:45<15:27,  3.24s/it]"
     ]
    },
    {
     "name": "stdout",
     "output_type": "stream",
     "text": [
      "2103/2388 행 요약 완료\n"
     ]
    },
    {
     "name": "stderr",
     "output_type": "stream",
     "text": [
      "요약 진행 중:  88%|████████▊ | 2103/2388 [1:28:47<13:26,  2.83s/it]"
     ]
    },
    {
     "name": "stdout",
     "output_type": "stream",
     "text": [
      "2104/2388 행 요약 완료\n"
     ]
    },
    {
     "name": "stderr",
     "output_type": "stream",
     "text": [
      "요약 진행 중:  88%|████████▊ | 2104/2388 [1:28:50<13:49,  2.92s/it]"
     ]
    },
    {
     "name": "stdout",
     "output_type": "stream",
     "text": [
      "2105/2388 행 요약 완료\n"
     ]
    },
    {
     "name": "stderr",
     "output_type": "stream",
     "text": [
      "요약 진행 중:  88%|████████▊ | 2105/2388 [1:28:51<11:24,  2.42s/it]"
     ]
    },
    {
     "name": "stdout",
     "output_type": "stream",
     "text": [
      "2106/2388 행 요약 완료\n"
     ]
    },
    {
     "name": "stderr",
     "output_type": "stream",
     "text": [
      "요약 진행 중:  88%|████████▊ | 2106/2388 [1:28:52<10:01,  2.13s/it]"
     ]
    },
    {
     "name": "stdout",
     "output_type": "stream",
     "text": [
      "2107/2388 행 요약 완료\n"
     ]
    },
    {
     "name": "stderr",
     "output_type": "stream",
     "text": [
      "요약 진행 중:  88%|████████▊ | 2107/2388 [1:28:54<09:18,  1.99s/it]"
     ]
    },
    {
     "name": "stdout",
     "output_type": "stream",
     "text": [
      "2108/2388 행 요약 완료\n"
     ]
    },
    {
     "name": "stderr",
     "output_type": "stream",
     "text": [
      "요약 진행 중:  88%|████████▊ | 2108/2388 [1:28:57<11:06,  2.38s/it]"
     ]
    },
    {
     "name": "stdout",
     "output_type": "stream",
     "text": [
      "2109/2388 행 요약 완료\n"
     ]
    },
    {
     "name": "stderr",
     "output_type": "stream",
     "text": [
      "요약 진행 중:  88%|████████▊ | 2109/2388 [1:28:59<09:53,  2.13s/it]"
     ]
    },
    {
     "name": "stdout",
     "output_type": "stream",
     "text": [
      "2110/2388 행 요약 완료\n"
     ]
    },
    {
     "name": "stderr",
     "output_type": "stream",
     "text": [
      "요약 진행 중:  88%|████████▊ | 2110/2388 [1:29:02<11:18,  2.44s/it]"
     ]
    },
    {
     "name": "stdout",
     "output_type": "stream",
     "text": [
      "2111/2388 행 요약 완료\n"
     ]
    },
    {
     "name": "stderr",
     "output_type": "stream",
     "text": [
      "요약 진행 중:  88%|████████▊ | 2111/2388 [1:29:06<13:10,  2.85s/it]"
     ]
    },
    {
     "name": "stdout",
     "output_type": "stream",
     "text": [
      "2112/2388 행 요약 완료\n"
     ]
    },
    {
     "name": "stderr",
     "output_type": "stream",
     "text": [
      "요약 진행 중:  88%|████████▊ | 2112/2388 [1:29:09<13:36,  2.96s/it]"
     ]
    },
    {
     "name": "stdout",
     "output_type": "stream",
     "text": [
      "2113/2388 행 요약 완료\n"
     ]
    },
    {
     "name": "stderr",
     "output_type": "stream",
     "text": [
      "요약 진행 중:  88%|████████▊ | 2113/2388 [1:29:14<15:50,  3.46s/it]"
     ]
    },
    {
     "name": "stdout",
     "output_type": "stream",
     "text": [
      "2114/2388 행 요약 완료\n"
     ]
    },
    {
     "name": "stderr",
     "output_type": "stream",
     "text": [
      "요약 진행 중:  89%|████████▊ | 2114/2388 [1:29:16<13:50,  3.03s/it]"
     ]
    },
    {
     "name": "stdout",
     "output_type": "stream",
     "text": [
      "2115/2388 행 요약 완료\n"
     ]
    },
    {
     "name": "stderr",
     "output_type": "stream",
     "text": [
      "요약 진행 중:  89%|████████▊ | 2115/2388 [1:29:19<14:46,  3.25s/it]"
     ]
    },
    {
     "name": "stdout",
     "output_type": "stream",
     "text": [
      "2116/2388 행 요약 완료\n"
     ]
    },
    {
     "name": "stderr",
     "output_type": "stream",
     "text": [
      "요약 진행 중:  89%|████████▊ | 2116/2388 [1:29:23<15:31,  3.43s/it]"
     ]
    },
    {
     "name": "stdout",
     "output_type": "stream",
     "text": [
      "2117/2388 행 요약 완료\n"
     ]
    },
    {
     "name": "stderr",
     "output_type": "stream",
     "text": [
      "요약 진행 중:  89%|████████▊ | 2117/2388 [1:29:27<15:43,  3.48s/it]"
     ]
    },
    {
     "name": "stdout",
     "output_type": "stream",
     "text": [
      "2118/2388 행 요약 완료\n"
     ]
    },
    {
     "name": "stderr",
     "output_type": "stream",
     "text": [
      "요약 진행 중:  89%|████████▊ | 2118/2388 [1:29:29<13:45,  3.06s/it]"
     ]
    },
    {
     "name": "stdout",
     "output_type": "stream",
     "text": [
      "2119/2388 행 요약 완료\n"
     ]
    },
    {
     "name": "stderr",
     "output_type": "stream",
     "text": [
      "요약 진행 중:  89%|████████▊ | 2119/2388 [1:29:33<15:25,  3.44s/it]"
     ]
    },
    {
     "name": "stdout",
     "output_type": "stream",
     "text": [
      "2120/2388 행 요약 완료\n"
     ]
    },
    {
     "name": "stderr",
     "output_type": "stream",
     "text": [
      "요약 진행 중:  89%|████████▉ | 2120/2388 [1:29:38<16:59,  3.80s/it]"
     ]
    },
    {
     "name": "stdout",
     "output_type": "stream",
     "text": [
      "2121/2388 행 요약 완료\n"
     ]
    },
    {
     "name": "stderr",
     "output_type": "stream",
     "text": [
      "요약 진행 중:  89%|████████▉ | 2121/2388 [1:29:40<14:16,  3.21s/it]"
     ]
    },
    {
     "name": "stdout",
     "output_type": "stream",
     "text": [
      "2122/2388 행 요약 완료\n"
     ]
    },
    {
     "name": "stderr",
     "output_type": "stream",
     "text": [
      "요약 진행 중:  89%|████████▉ | 2122/2388 [1:29:43<13:48,  3.11s/it]"
     ]
    },
    {
     "name": "stdout",
     "output_type": "stream",
     "text": [
      "2123/2388 행 요약 완료\n"
     ]
    },
    {
     "name": "stderr",
     "output_type": "stream",
     "text": [
      "요약 진행 중:  89%|████████▉ | 2123/2388 [1:29:44<11:35,  2.62s/it]"
     ]
    },
    {
     "name": "stdout",
     "output_type": "stream",
     "text": [
      "2124/2388 행 요약 완료\n"
     ]
    },
    {
     "name": "stderr",
     "output_type": "stream",
     "text": [
      "요약 진행 중:  89%|████████▉ | 2124/2388 [1:29:47<11:21,  2.58s/it]"
     ]
    },
    {
     "name": "stdout",
     "output_type": "stream",
     "text": [
      "2125/2388 행 요약 완료\n"
     ]
    },
    {
     "name": "stderr",
     "output_type": "stream",
     "text": [
      "요약 진행 중:  89%|████████▉ | 2125/2388 [1:29:49<11:33,  2.64s/it]"
     ]
    },
    {
     "name": "stdout",
     "output_type": "stream",
     "text": [
      "2126/2388 행 요약 완료\n"
     ]
    },
    {
     "name": "stderr",
     "output_type": "stream",
     "text": [
      "요약 진행 중:  89%|████████▉ | 2126/2388 [1:29:51<10:03,  2.30s/it]"
     ]
    },
    {
     "name": "stdout",
     "output_type": "stream",
     "text": [
      "2127/2388 행 요약 완료\n"
     ]
    },
    {
     "name": "stderr",
     "output_type": "stream",
     "text": [
      "요약 진행 중:  89%|████████▉ | 2127/2388 [1:29:53<09:27,  2.17s/it]"
     ]
    },
    {
     "name": "stdout",
     "output_type": "stream",
     "text": [
      "2128/2388 행 요약 완료\n"
     ]
    },
    {
     "name": "stderr",
     "output_type": "stream",
     "text": [
      "요약 진행 중:  89%|████████▉ | 2128/2388 [1:29:54<08:40,  2.00s/it]"
     ]
    },
    {
     "name": "stdout",
     "output_type": "stream",
     "text": [
      "2129/2388 행 요약 완료\n"
     ]
    },
    {
     "name": "stderr",
     "output_type": "stream",
     "text": [
      "요약 진행 중:  89%|████████▉ | 2129/2388 [1:29:59<11:44,  2.72s/it]"
     ]
    },
    {
     "name": "stdout",
     "output_type": "stream",
     "text": [
      "2130/2388 행 요약 완료\n"
     ]
    },
    {
     "name": "stderr",
     "output_type": "stream",
     "text": [
      "요약 진행 중:  89%|████████▉ | 2130/2388 [1:30:01<10:44,  2.50s/it]"
     ]
    },
    {
     "name": "stdout",
     "output_type": "stream",
     "text": [
      "2131/2388 행 요약 완료\n"
     ]
    },
    {
     "name": "stderr",
     "output_type": "stream",
     "text": [
      "요약 진행 중:  89%|████████▉ | 2131/2388 [1:30:03<09:56,  2.32s/it]"
     ]
    },
    {
     "name": "stdout",
     "output_type": "stream",
     "text": [
      "2132/2388 행 요약 완료\n"
     ]
    },
    {
     "name": "stderr",
     "output_type": "stream",
     "text": [
      "요약 진행 중:  89%|████████▉ | 2132/2388 [1:30:04<08:49,  2.07s/it]"
     ]
    },
    {
     "name": "stdout",
     "output_type": "stream",
     "text": [
      "2133/2388 행 요약 완료\n"
     ]
    },
    {
     "name": "stderr",
     "output_type": "stream",
     "text": [
      "요약 진행 중:  89%|████████▉ | 2133/2388 [1:30:06<08:01,  1.89s/it]"
     ]
    },
    {
     "name": "stdout",
     "output_type": "stream",
     "text": [
      "2134/2388 행 요약 완료\n"
     ]
    },
    {
     "name": "stderr",
     "output_type": "stream",
     "text": [
      "요약 진행 중:  89%|████████▉ | 2134/2388 [1:30:08<09:08,  2.16s/it]"
     ]
    },
    {
     "name": "stdout",
     "output_type": "stream",
     "text": [
      "2135/2388 행 요약 완료\n"
     ]
    },
    {
     "name": "stderr",
     "output_type": "stream",
     "text": [
      "요약 진행 중:  89%|████████▉ | 2135/2388 [1:30:16<15:40,  3.72s/it]"
     ]
    },
    {
     "name": "stdout",
     "output_type": "stream",
     "text": [
      "2136/2388 행 요약 완료\n"
     ]
    },
    {
     "name": "stderr",
     "output_type": "stream",
     "text": [
      "요약 진행 중:  89%|████████▉ | 2136/2388 [1:30:19<14:45,  3.51s/it]"
     ]
    },
    {
     "name": "stdout",
     "output_type": "stream",
     "text": [
      "2137/2388 행 요약 완료\n"
     ]
    },
    {
     "name": "stderr",
     "output_type": "stream",
     "text": [
      "요약 진행 중:  89%|████████▉ | 2137/2388 [1:30:22<13:43,  3.28s/it]"
     ]
    },
    {
     "name": "stdout",
     "output_type": "stream",
     "text": [
      "2138/2388 행 요약 완료\n"
     ]
    },
    {
     "name": "stderr",
     "output_type": "stream",
     "text": [
      "요약 진행 중:  90%|████████▉ | 2138/2388 [1:30:23<11:25,  2.74s/it]"
     ]
    },
    {
     "name": "stdout",
     "output_type": "stream",
     "text": [
      "2139/2388 행 요약 완료\n"
     ]
    },
    {
     "name": "stderr",
     "output_type": "stream",
     "text": [
      "요약 진행 중:  90%|████████▉ | 2139/2388 [1:30:25<10:46,  2.60s/it]"
     ]
    },
    {
     "name": "stdout",
     "output_type": "stream",
     "text": [
      "2140/2388 행 요약 완료\n"
     ]
    },
    {
     "name": "stderr",
     "output_type": "stream",
     "text": [
      "요약 진행 중:  90%|████████▉ | 2140/2388 [1:30:29<11:42,  2.83s/it]"
     ]
    },
    {
     "name": "stdout",
     "output_type": "stream",
     "text": [
      "2141/2388 행 요약 완료\n"
     ]
    },
    {
     "name": "stderr",
     "output_type": "stream",
     "text": [
      "요약 진행 중:  90%|████████▉ | 2141/2388 [1:30:31<11:27,  2.78s/it]"
     ]
    },
    {
     "name": "stdout",
     "output_type": "stream",
     "text": [
      "2142/2388 행 요약 완료\n"
     ]
    },
    {
     "name": "stderr",
     "output_type": "stream",
     "text": [
      "요약 진행 중:  90%|████████▉ | 2142/2388 [1:30:33<10:05,  2.46s/it]"
     ]
    },
    {
     "name": "stdout",
     "output_type": "stream",
     "text": [
      "2143/2388 행 요약 완료\n"
     ]
    },
    {
     "name": "stderr",
     "output_type": "stream",
     "text": [
      "요약 진행 중:  90%|████████▉ | 2143/2388 [1:30:35<09:31,  2.33s/it]"
     ]
    },
    {
     "name": "stdout",
     "output_type": "stream",
     "text": [
      "2144/2388 행 요약 완료\n"
     ]
    },
    {
     "name": "stderr",
     "output_type": "stream",
     "text": [
      "요약 진행 중:  90%|████████▉ | 2144/2388 [1:30:38<09:48,  2.41s/it]"
     ]
    },
    {
     "name": "stdout",
     "output_type": "stream",
     "text": [
      "2145/2388 행 요약 완료\n"
     ]
    },
    {
     "name": "stderr",
     "output_type": "stream",
     "text": [
      "요약 진행 중:  90%|████████▉ | 2145/2388 [1:30:39<08:19,  2.06s/it]"
     ]
    },
    {
     "name": "stdout",
     "output_type": "stream",
     "text": [
      "2146/2388 행 요약 완료\n"
     ]
    },
    {
     "name": "stderr",
     "output_type": "stream",
     "text": [
      "요약 진행 중:  90%|████████▉ | 2146/2388 [1:30:43<10:30,  2.61s/it]"
     ]
    },
    {
     "name": "stdout",
     "output_type": "stream",
     "text": [
      "2147/2388 행 요약 완료\n"
     ]
    },
    {
     "name": "stderr",
     "output_type": "stream",
     "text": [
      "요약 진행 중:  90%|████████▉ | 2147/2388 [1:30:48<13:38,  3.40s/it]"
     ]
    },
    {
     "name": "stdout",
     "output_type": "stream",
     "text": [
      "2148/2388 행 요약 완료\n"
     ]
    },
    {
     "name": "stderr",
     "output_type": "stream",
     "text": [
      "요약 진행 중:  90%|████████▉ | 2148/2388 [1:30:49<11:06,  2.78s/it]"
     ]
    },
    {
     "name": "stdout",
     "output_type": "stream",
     "text": [
      "2149/2388 행 요약 완료\n"
     ]
    },
    {
     "name": "stderr",
     "output_type": "stream",
     "text": [
      "요약 진행 중:  90%|████████▉ | 2149/2388 [1:30:51<10:00,  2.51s/it]"
     ]
    },
    {
     "name": "stdout",
     "output_type": "stream",
     "text": [
      "2150/2388 행 요약 완료\n"
     ]
    },
    {
     "name": "stderr",
     "output_type": "stream",
     "text": [
      "요약 진행 중:  90%|█████████ | 2150/2388 [1:30:53<08:55,  2.25s/it]"
     ]
    },
    {
     "name": "stdout",
     "output_type": "stream",
     "text": [
      "2151/2388 행 요약 완료\n"
     ]
    },
    {
     "name": "stderr",
     "output_type": "stream",
     "text": [
      "요약 진행 중:  90%|█████████ | 2151/2388 [1:30:54<07:51,  1.99s/it]"
     ]
    },
    {
     "name": "stdout",
     "output_type": "stream",
     "text": [
      "2152/2388 행 요약 완료\n"
     ]
    },
    {
     "name": "stderr",
     "output_type": "stream",
     "text": [
      "요약 진행 중:  90%|█████████ | 2152/2388 [1:30:56<08:00,  2.03s/it]"
     ]
    },
    {
     "name": "stdout",
     "output_type": "stream",
     "text": [
      "2153/2388 행 요약 완료\n"
     ]
    },
    {
     "name": "stderr",
     "output_type": "stream",
     "text": [
      "요약 진행 중:  90%|█████████ | 2153/2388 [1:30:58<07:19,  1.87s/it]"
     ]
    },
    {
     "name": "stdout",
     "output_type": "stream",
     "text": [
      "2154/2388 행 요약 완료\n"
     ]
    },
    {
     "name": "stderr",
     "output_type": "stream",
     "text": [
      "요약 진행 중:  90%|█████████ | 2154/2388 [1:31:04<12:12,  3.13s/it]"
     ]
    },
    {
     "name": "stdout",
     "output_type": "stream",
     "text": [
      "2155/2388 행 요약 완료\n"
     ]
    },
    {
     "name": "stderr",
     "output_type": "stream",
     "text": [
      "요약 진행 중:  90%|█████████ | 2155/2388 [1:31:10<15:32,  4.00s/it]"
     ]
    },
    {
     "name": "stdout",
     "output_type": "stream",
     "text": [
      "2156/2388 행 요약 완료\n"
     ]
    },
    {
     "name": "stderr",
     "output_type": "stream",
     "text": [
      "요약 진행 중:  90%|█████████ | 2156/2388 [1:31:15<16:34,  4.29s/it]"
     ]
    },
    {
     "name": "stdout",
     "output_type": "stream",
     "text": [
      "2157/2388 행 요약 완료\n"
     ]
    },
    {
     "name": "stderr",
     "output_type": "stream",
     "text": [
      "요약 진행 중:  90%|█████████ | 2157/2388 [1:31:18<15:16,  3.97s/it]"
     ]
    },
    {
     "name": "stdout",
     "output_type": "stream",
     "text": [
      "2158/2388 행 요약 완료\n"
     ]
    },
    {
     "name": "stderr",
     "output_type": "stream",
     "text": [
      "요약 진행 중:  90%|█████████ | 2158/2388 [1:31:21<13:33,  3.54s/it]"
     ]
    },
    {
     "name": "stdout",
     "output_type": "stream",
     "text": [
      "2159/2388 행 요약 완료\n"
     ]
    },
    {
     "name": "stderr",
     "output_type": "stream",
     "text": [
      "요약 진행 중:  90%|█████████ | 2159/2388 [1:31:23<11:29,  3.01s/it]"
     ]
    },
    {
     "name": "stdout",
     "output_type": "stream",
     "text": [
      "2160/2388 행 요약 완료\n"
     ]
    },
    {
     "name": "stderr",
     "output_type": "stream",
     "text": [
      "요약 진행 중:  90%|█████████ | 2160/2388 [1:31:24<09:44,  2.56s/it]"
     ]
    },
    {
     "name": "stdout",
     "output_type": "stream",
     "text": [
      "2161/2388 행 요약 완료\n"
     ]
    },
    {
     "name": "stderr",
     "output_type": "stream",
     "text": [
      "요약 진행 중:  90%|█████████ | 2161/2388 [1:31:25<08:03,  2.13s/it]"
     ]
    },
    {
     "name": "stdout",
     "output_type": "stream",
     "text": [
      "2162/2388 행 요약 완료\n"
     ]
    },
    {
     "name": "stderr",
     "output_type": "stream",
     "text": [
      "요약 진행 중:  91%|█████████ | 2162/2388 [1:31:26<06:48,  1.81s/it]"
     ]
    },
    {
     "name": "stdout",
     "output_type": "stream",
     "text": [
      "2163/2388 행 요약 완료\n"
     ]
    },
    {
     "name": "stderr",
     "output_type": "stream",
     "text": [
      "요약 진행 중:  91%|█████████ | 2163/2388 [1:31:29<07:49,  2.08s/it]"
     ]
    },
    {
     "name": "stdout",
     "output_type": "stream",
     "text": [
      "2164/2388 행 요약 완료\n"
     ]
    },
    {
     "name": "stderr",
     "output_type": "stream",
     "text": [
      "요약 진행 중:  91%|█████████ | 2164/2388 [1:31:30<07:07,  1.91s/it]"
     ]
    },
    {
     "name": "stdout",
     "output_type": "stream",
     "text": [
      "2165/2388 행 요약 완료\n"
     ]
    },
    {
     "name": "stderr",
     "output_type": "stream",
     "text": [
      "요약 진행 중:  91%|█████████ | 2165/2388 [1:31:35<10:23,  2.80s/it]"
     ]
    },
    {
     "name": "stdout",
     "output_type": "stream",
     "text": [
      "2166/2388 행 요약 완료\n"
     ]
    },
    {
     "name": "stderr",
     "output_type": "stream",
     "text": [
      "요약 진행 중:  91%|█████████ | 2166/2388 [1:31:37<09:15,  2.50s/it]"
     ]
    },
    {
     "name": "stdout",
     "output_type": "stream",
     "text": [
      "2167/2388 행 요약 완료\n"
     ]
    },
    {
     "name": "stderr",
     "output_type": "stream",
     "text": [
      "요약 진행 중:  91%|█████████ | 2167/2388 [1:31:39<08:04,  2.19s/it]"
     ]
    },
    {
     "name": "stdout",
     "output_type": "stream",
     "text": [
      "2168/2388 행 요약 완료\n"
     ]
    },
    {
     "name": "stderr",
     "output_type": "stream",
     "text": [
      "요약 진행 중:  91%|█████████ | 2168/2388 [1:31:41<08:11,  2.23s/it]"
     ]
    },
    {
     "name": "stdout",
     "output_type": "stream",
     "text": [
      "2169/2388 행 요약 완료\n"
     ]
    },
    {
     "name": "stderr",
     "output_type": "stream",
     "text": [
      "요약 진행 중:  91%|█████████ | 2169/2388 [1:31:43<07:25,  2.04s/it]"
     ]
    },
    {
     "name": "stdout",
     "output_type": "stream",
     "text": [
      "2170/2388 행 요약 완료\n"
     ]
    },
    {
     "name": "stderr",
     "output_type": "stream",
     "text": [
      "요약 진행 중:  91%|█████████ | 2170/2388 [1:31:44<06:51,  1.89s/it]"
     ]
    },
    {
     "name": "stdout",
     "output_type": "stream",
     "text": [
      "2171/2388 행 요약 완료\n"
     ]
    },
    {
     "name": "stderr",
     "output_type": "stream",
     "text": [
      "요약 진행 중:  91%|█████████ | 2171/2388 [1:31:46<07:08,  1.97s/it]"
     ]
    },
    {
     "name": "stdout",
     "output_type": "stream",
     "text": [
      "2172/2388 행 요약 완료\n"
     ]
    },
    {
     "name": "stderr",
     "output_type": "stream",
     "text": [
      "요약 진행 중:  91%|█████████ | 2172/2388 [1:31:48<06:44,  1.87s/it]"
     ]
    },
    {
     "name": "stdout",
     "output_type": "stream",
     "text": [
      "2173/2388 행 요약 완료\n"
     ]
    },
    {
     "name": "stderr",
     "output_type": "stream",
     "text": [
      "요약 진행 중:  91%|█████████ | 2173/2388 [1:31:50<06:49,  1.91s/it]"
     ]
    },
    {
     "name": "stdout",
     "output_type": "stream",
     "text": [
      "2174/2388 행 요약 완료\n"
     ]
    },
    {
     "name": "stderr",
     "output_type": "stream",
     "text": [
      "요약 진행 중:  91%|█████████ | 2174/2388 [1:31:52<06:55,  1.94s/it]"
     ]
    },
    {
     "name": "stdout",
     "output_type": "stream",
     "text": [
      "2175/2388 행 요약 완료\n"
     ]
    },
    {
     "name": "stderr",
     "output_type": "stream",
     "text": [
      "요약 진행 중:  91%|█████████ | 2175/2388 [1:31:53<06:15,  1.76s/it]"
     ]
    },
    {
     "name": "stdout",
     "output_type": "stream",
     "text": [
      "2176/2388 행 요약 완료\n"
     ]
    },
    {
     "name": "stderr",
     "output_type": "stream",
     "text": [
      "요약 진행 중:  91%|█████████ | 2176/2388 [1:31:56<07:13,  2.04s/it]"
     ]
    },
    {
     "name": "stdout",
     "output_type": "stream",
     "text": [
      "2177/2388 행 요약 완료\n"
     ]
    },
    {
     "name": "stderr",
     "output_type": "stream",
     "text": [
      "요약 진행 중:  91%|█████████ | 2177/2388 [1:31:57<06:26,  1.83s/it]"
     ]
    },
    {
     "name": "stdout",
     "output_type": "stream",
     "text": [
      "2178/2388 행 요약 완료\n"
     ]
    },
    {
     "name": "stderr",
     "output_type": "stream",
     "text": [
      "요약 진행 중:  91%|█████████ | 2178/2388 [1:31:59<06:06,  1.74s/it]"
     ]
    },
    {
     "name": "stdout",
     "output_type": "stream",
     "text": [
      "2179/2388 행 요약 완료\n"
     ]
    },
    {
     "name": "stderr",
     "output_type": "stream",
     "text": [
      "요약 진행 중:  91%|█████████ | 2179/2388 [1:32:01<06:36,  1.90s/it]"
     ]
    },
    {
     "name": "stdout",
     "output_type": "stream",
     "text": [
      "2180/2388 행 요약 완료\n"
     ]
    },
    {
     "name": "stderr",
     "output_type": "stream",
     "text": [
      "요약 진행 중:  91%|█████████▏| 2180/2388 [1:32:03<06:52,  1.99s/it]"
     ]
    },
    {
     "name": "stdout",
     "output_type": "stream",
     "text": [
      "2181/2388 행 요약 완료\n"
     ]
    },
    {
     "name": "stderr",
     "output_type": "stream",
     "text": [
      "요약 진행 중:  91%|█████████▏| 2181/2388 [1:32:06<07:23,  2.14s/it]"
     ]
    },
    {
     "name": "stdout",
     "output_type": "stream",
     "text": [
      "2182/2388 행 요약 완료\n"
     ]
    },
    {
     "name": "stderr",
     "output_type": "stream",
     "text": [
      "요약 진행 중:  91%|█████████▏| 2182/2388 [1:32:07<06:13,  1.81s/it]"
     ]
    },
    {
     "name": "stdout",
     "output_type": "stream",
     "text": [
      "2183/2388 행 요약 완료\n"
     ]
    },
    {
     "name": "stderr",
     "output_type": "stream",
     "text": [
      "요약 진행 중:  91%|█████████▏| 2183/2388 [1:32:08<05:41,  1.67s/it]"
     ]
    },
    {
     "name": "stdout",
     "output_type": "stream",
     "text": [
      "2184/2388 행 요약 완료\n"
     ]
    },
    {
     "name": "stderr",
     "output_type": "stream",
     "text": [
      "요약 진행 중:  91%|█████████▏| 2184/2388 [1:32:09<05:18,  1.56s/it]"
     ]
    },
    {
     "name": "stdout",
     "output_type": "stream",
     "text": [
      "2185/2388 행 요약 완료\n"
     ]
    },
    {
     "name": "stderr",
     "output_type": "stream",
     "text": [
      "요약 진행 중:  91%|█████████▏| 2185/2388 [1:32:12<06:42,  1.98s/it]"
     ]
    },
    {
     "name": "stdout",
     "output_type": "stream",
     "text": [
      "2186/2388 행 요약 완료\n"
     ]
    },
    {
     "name": "stderr",
     "output_type": "stream",
     "text": [
      "요약 진행 중:  92%|█████████▏| 2186/2388 [1:32:13<05:31,  1.64s/it]"
     ]
    },
    {
     "name": "stdout",
     "output_type": "stream",
     "text": [
      "2187/2388 행 요약 완료\n"
     ]
    },
    {
     "name": "stderr",
     "output_type": "stream",
     "text": [
      "요약 진행 중:  92%|█████████▏| 2187/2388 [1:32:16<06:40,  1.99s/it]"
     ]
    },
    {
     "name": "stdout",
     "output_type": "stream",
     "text": [
      "2188/2388 행 요약 완료\n"
     ]
    },
    {
     "name": "stderr",
     "output_type": "stream",
     "text": [
      "요약 진행 중:  92%|█████████▏| 2188/2388 [1:32:18<06:06,  1.83s/it]"
     ]
    },
    {
     "name": "stdout",
     "output_type": "stream",
     "text": [
      "2189/2388 행 요약 완료\n"
     ]
    },
    {
     "name": "stderr",
     "output_type": "stream",
     "text": [
      "요약 진행 중:  92%|█████████▏| 2189/2388 [1:32:21<07:25,  2.24s/it]"
     ]
    },
    {
     "name": "stdout",
     "output_type": "stream",
     "text": [
      "2190/2388 행 요약 완료\n"
     ]
    },
    {
     "name": "stderr",
     "output_type": "stream",
     "text": [
      "요약 진행 중:  92%|█████████▏| 2190/2388 [1:32:24<08:35,  2.60s/it]"
     ]
    },
    {
     "name": "stdout",
     "output_type": "stream",
     "text": [
      "2191/2388 행 요약 완료\n"
     ]
    },
    {
     "name": "stderr",
     "output_type": "stream",
     "text": [
      "요약 진행 중:  92%|█████████▏| 2191/2388 [1:32:26<08:10,  2.49s/it]"
     ]
    },
    {
     "name": "stdout",
     "output_type": "stream",
     "text": [
      "2192/2388 행 요약 완료\n"
     ]
    },
    {
     "name": "stderr",
     "output_type": "stream",
     "text": [
      "요약 진행 중:  92%|█████████▏| 2192/2388 [1:32:28<07:38,  2.34s/it]"
     ]
    },
    {
     "name": "stdout",
     "output_type": "stream",
     "text": [
      "2193/2388 행 요약 완료\n"
     ]
    },
    {
     "name": "stderr",
     "output_type": "stream",
     "text": [
      "요약 진행 중:  92%|█████████▏| 2193/2388 [1:32:30<06:52,  2.12s/it]"
     ]
    },
    {
     "name": "stdout",
     "output_type": "stream",
     "text": [
      "2194/2388 행 요약 완료\n"
     ]
    },
    {
     "name": "stderr",
     "output_type": "stream",
     "text": [
      "요약 진행 중:  92%|█████████▏| 2194/2388 [1:32:32<06:21,  1.96s/it]"
     ]
    },
    {
     "name": "stdout",
     "output_type": "stream",
     "text": [
      "2195/2388 행 요약 완료\n"
     ]
    },
    {
     "name": "stderr",
     "output_type": "stream",
     "text": [
      "요약 진행 중:  92%|█████████▏| 2195/2388 [1:32:33<05:32,  1.72s/it]"
     ]
    },
    {
     "name": "stdout",
     "output_type": "stream",
     "text": [
      "2196/2388 행 요약 완료\n"
     ]
    },
    {
     "name": "stderr",
     "output_type": "stream",
     "text": [
      "요약 진행 중:  92%|█████████▏| 2196/2388 [1:32:35<05:34,  1.74s/it]"
     ]
    },
    {
     "name": "stdout",
     "output_type": "stream",
     "text": [
      "2197/2388 행 요약 완료\n"
     ]
    },
    {
     "name": "stderr",
     "output_type": "stream",
     "text": [
      "요약 진행 중:  92%|█████████▏| 2197/2388 [1:32:39<08:16,  2.60s/it]"
     ]
    },
    {
     "name": "stdout",
     "output_type": "stream",
     "text": [
      "2198/2388 행 요약 완료\n"
     ]
    },
    {
     "name": "stderr",
     "output_type": "stream",
     "text": [
      "요약 진행 중:  92%|█████████▏| 2198/2388 [1:32:41<07:10,  2.27s/it]"
     ]
    },
    {
     "name": "stdout",
     "output_type": "stream",
     "text": [
      "2199/2388 행 요약 완료\n"
     ]
    },
    {
     "name": "stderr",
     "output_type": "stream",
     "text": [
      "요약 진행 중:  92%|█████████▏| 2199/2388 [1:32:42<06:24,  2.03s/it]"
     ]
    },
    {
     "name": "stdout",
     "output_type": "stream",
     "text": [
      "2200/2388 행 요약 완료\n"
     ]
    },
    {
     "name": "stderr",
     "output_type": "stream",
     "text": [
      "요약 진행 중:  92%|█████████▏| 2200/2388 [1:32:45<07:03,  2.25s/it]"
     ]
    },
    {
     "name": "stdout",
     "output_type": "stream",
     "text": [
      "2201/2388 행 요약 완료\n"
     ]
    },
    {
     "name": "stderr",
     "output_type": "stream",
     "text": [
      "요약 진행 중:  92%|█████████▏| 2201/2388 [1:32:46<06:05,  1.95s/it]"
     ]
    },
    {
     "name": "stdout",
     "output_type": "stream",
     "text": [
      "2202/2388 행 요약 완료\n"
     ]
    },
    {
     "name": "stderr",
     "output_type": "stream",
     "text": [
      "요약 진행 중:  92%|█████████▏| 2202/2388 [1:32:47<05:26,  1.75s/it]"
     ]
    },
    {
     "name": "stdout",
     "output_type": "stream",
     "text": [
      "2203/2388 행 요약 완료\n"
     ]
    },
    {
     "name": "stderr",
     "output_type": "stream",
     "text": [
      "요약 진행 중:  92%|█████████▏| 2203/2388 [1:32:49<04:49,  1.56s/it]"
     ]
    },
    {
     "name": "stdout",
     "output_type": "stream",
     "text": [
      "2204/2388 행 요약 완료\n"
     ]
    },
    {
     "name": "stderr",
     "output_type": "stream",
     "text": [
      "요약 진행 중:  92%|█████████▏| 2204/2388 [1:32:50<04:44,  1.54s/it]"
     ]
    },
    {
     "name": "stdout",
     "output_type": "stream",
     "text": [
      "2205/2388 행 요약 완료\n"
     ]
    },
    {
     "name": "stderr",
     "output_type": "stream",
     "text": [
      "요약 진행 중:  92%|█████████▏| 2205/2388 [1:32:51<04:27,  1.46s/it]"
     ]
    },
    {
     "name": "stdout",
     "output_type": "stream",
     "text": [
      "2206/2388 행 요약 완료\n"
     ]
    },
    {
     "name": "stderr",
     "output_type": "stream",
     "text": [
      "요약 진행 중:  92%|█████████▏| 2206/2388 [1:32:53<05:01,  1.65s/it]"
     ]
    },
    {
     "name": "stdout",
     "output_type": "stream",
     "text": [
      "2207/2388 행 요약 완료\n"
     ]
    },
    {
     "name": "stderr",
     "output_type": "stream",
     "text": [
      "요약 진행 중:  92%|█████████▏| 2207/2388 [1:32:55<04:59,  1.66s/it]"
     ]
    },
    {
     "name": "stdout",
     "output_type": "stream",
     "text": [
      "2208/2388 행 요약 완료\n"
     ]
    },
    {
     "name": "stderr",
     "output_type": "stream",
     "text": [
      "요약 진행 중:  92%|█████████▏| 2208/2388 [1:32:57<05:21,  1.78s/it]"
     ]
    },
    {
     "name": "stdout",
     "output_type": "stream",
     "text": [
      "2209/2388 행 요약 완료\n"
     ]
    },
    {
     "name": "stderr",
     "output_type": "stream",
     "text": [
      "요약 진행 중:  93%|█████████▎| 2209/2388 [1:32:58<04:53,  1.64s/it]"
     ]
    },
    {
     "name": "stdout",
     "output_type": "stream",
     "text": [
      "2210/2388 행 요약 완료\n"
     ]
    },
    {
     "name": "stderr",
     "output_type": "stream",
     "text": [
      "요약 진행 중:  93%|█████████▎| 2210/2388 [1:33:03<07:20,  2.47s/it]"
     ]
    },
    {
     "name": "stdout",
     "output_type": "stream",
     "text": [
      "2211/2388 행 요약 완료\n"
     ]
    },
    {
     "name": "stderr",
     "output_type": "stream",
     "text": [
      "요약 진행 중:  93%|█████████▎| 2211/2388 [1:33:04<06:20,  2.15s/it]"
     ]
    },
    {
     "name": "stdout",
     "output_type": "stream",
     "text": [
      "2212/2388 행 요약 완료\n"
     ]
    },
    {
     "name": "stderr",
     "output_type": "stream",
     "text": [
      "요약 진행 중:  93%|█████████▎| 2212/2388 [1:33:06<06:04,  2.07s/it]"
     ]
    },
    {
     "name": "stdout",
     "output_type": "stream",
     "text": [
      "2213/2388 행 요약 완료\n"
     ]
    },
    {
     "name": "stderr",
     "output_type": "stream",
     "text": [
      "요약 진행 중:  93%|█████████▎| 2213/2388 [1:33:08<05:26,  1.86s/it]"
     ]
    },
    {
     "name": "stdout",
     "output_type": "stream",
     "text": [
      "2214/2388 행 요약 완료\n"
     ]
    },
    {
     "name": "stderr",
     "output_type": "stream",
     "text": [
      "요약 진행 중:  93%|█████████▎| 2214/2388 [1:33:09<05:25,  1.87s/it]"
     ]
    },
    {
     "name": "stdout",
     "output_type": "stream",
     "text": [
      "2215/2388 행 요약 완료\n"
     ]
    },
    {
     "name": "stderr",
     "output_type": "stream",
     "text": [
      "요약 진행 중:  93%|█████████▎| 2215/2388 [1:33:12<06:10,  2.14s/it]"
     ]
    },
    {
     "name": "stdout",
     "output_type": "stream",
     "text": [
      "2216/2388 행 요약 완료\n"
     ]
    },
    {
     "name": "stderr",
     "output_type": "stream",
     "text": [
      "요약 진행 중:  93%|█████████▎| 2216/2388 [1:33:14<05:40,  1.98s/it]"
     ]
    },
    {
     "name": "stdout",
     "output_type": "stream",
     "text": [
      "2217/2388 행 요약 완료\n"
     ]
    },
    {
     "name": "stderr",
     "output_type": "stream",
     "text": [
      "요약 진행 중:  93%|█████████▎| 2217/2388 [1:33:16<05:33,  1.95s/it]"
     ]
    },
    {
     "name": "stdout",
     "output_type": "stream",
     "text": [
      "2218/2388 행 요약 완료\n"
     ]
    },
    {
     "name": "stderr",
     "output_type": "stream",
     "text": [
      "요약 진행 중:  93%|█████████▎| 2218/2388 [1:33:18<05:58,  2.11s/it]"
     ]
    },
    {
     "name": "stdout",
     "output_type": "stream",
     "text": [
      "2219/2388 행 요약 완료\n"
     ]
    },
    {
     "name": "stderr",
     "output_type": "stream",
     "text": [
      "요약 진행 중:  93%|█████████▎| 2219/2388 [1:33:20<05:26,  1.93s/it]"
     ]
    },
    {
     "name": "stdout",
     "output_type": "stream",
     "text": [
      "2220/2388 행 요약 완료\n"
     ]
    },
    {
     "name": "stderr",
     "output_type": "stream",
     "text": [
      "요약 진행 중:  93%|█████████▎| 2220/2388 [1:33:22<05:24,  1.93s/it]"
     ]
    },
    {
     "name": "stdout",
     "output_type": "stream",
     "text": [
      "2221/2388 행 요약 완료\n"
     ]
    },
    {
     "name": "stderr",
     "output_type": "stream",
     "text": [
      "요약 진행 중:  93%|█████████▎| 2221/2388 [1:33:24<05:25,  1.95s/it]"
     ]
    },
    {
     "name": "stdout",
     "output_type": "stream",
     "text": [
      "2222/2388 행 요약 완료\n"
     ]
    },
    {
     "name": "stderr",
     "output_type": "stream",
     "text": [
      "요약 진행 중:  93%|█████████▎| 2222/2388 [1:33:26<05:29,  1.99s/it]"
     ]
    },
    {
     "name": "stdout",
     "output_type": "stream",
     "text": [
      "2223/2388 행 요약 완료\n"
     ]
    },
    {
     "name": "stderr",
     "output_type": "stream",
     "text": [
      "요약 진행 중:  93%|█████████▎| 2223/2388 [1:33:28<05:38,  2.05s/it]"
     ]
    },
    {
     "name": "stdout",
     "output_type": "stream",
     "text": [
      "2224/2388 행 요약 완료\n"
     ]
    },
    {
     "name": "stderr",
     "output_type": "stream",
     "text": [
      "요약 진행 중:  93%|█████████▎| 2224/2388 [1:33:29<04:58,  1.82s/it]"
     ]
    },
    {
     "name": "stdout",
     "output_type": "stream",
     "text": [
      "2225/2388 행 요약 완료\n"
     ]
    },
    {
     "name": "stderr",
     "output_type": "stream",
     "text": [
      "요약 진행 중:  93%|█████████▎| 2225/2388 [1:33:31<05:14,  1.93s/it]"
     ]
    },
    {
     "name": "stdout",
     "output_type": "stream",
     "text": [
      "2226/2388 행 요약 완료\n"
     ]
    },
    {
     "name": "stderr",
     "output_type": "stream",
     "text": [
      "요약 진행 중:  93%|█████████▎| 2226/2388 [1:33:33<05:23,  2.00s/it]"
     ]
    },
    {
     "name": "stdout",
     "output_type": "stream",
     "text": [
      "2227/2388 행 요약 완료\n"
     ]
    },
    {
     "name": "stderr",
     "output_type": "stream",
     "text": [
      "요약 진행 중:  93%|█████████▎| 2227/2388 [1:33:37<06:35,  2.46s/it]"
     ]
    },
    {
     "name": "stdout",
     "output_type": "stream",
     "text": [
      "2228/2388 행 요약 완료\n"
     ]
    },
    {
     "name": "stderr",
     "output_type": "stream",
     "text": [
      "요약 진행 중:  93%|█████████▎| 2228/2388 [1:33:41<07:55,  2.97s/it]"
     ]
    },
    {
     "name": "stdout",
     "output_type": "stream",
     "text": [
      "2229/2388 행 요약 완료\n"
     ]
    },
    {
     "name": "stderr",
     "output_type": "stream",
     "text": [
      "요약 진행 중:  93%|█████████▎| 2229/2388 [1:33:46<09:04,  3.42s/it]"
     ]
    },
    {
     "name": "stdout",
     "output_type": "stream",
     "text": [
      "2230/2388 행 요약 완료\n"
     ]
    },
    {
     "name": "stderr",
     "output_type": "stream",
     "text": [
      "요약 진행 중:  93%|█████████▎| 2230/2388 [1:33:48<08:12,  3.12s/it]"
     ]
    },
    {
     "name": "stdout",
     "output_type": "stream",
     "text": [
      "2231/2388 행 요약 완료\n"
     ]
    },
    {
     "name": "stderr",
     "output_type": "stream",
     "text": [
      "요약 진행 중:  93%|█████████▎| 2231/2388 [1:33:51<07:57,  3.04s/it]"
     ]
    },
    {
     "name": "stdout",
     "output_type": "stream",
     "text": [
      "2232/2388 행 요약 완료\n"
     ]
    },
    {
     "name": "stderr",
     "output_type": "stream",
     "text": [
      "요약 진행 중:  93%|█████████▎| 2232/2388 [1:33:54<07:38,  2.94s/it]"
     ]
    },
    {
     "name": "stdout",
     "output_type": "stream",
     "text": [
      "2233/2388 행 요약 완료\n"
     ]
    },
    {
     "name": "stderr",
     "output_type": "stream",
     "text": [
      "요약 진행 중:  94%|█████████▎| 2233/2388 [1:33:57<07:43,  2.99s/it]"
     ]
    },
    {
     "name": "stdout",
     "output_type": "stream",
     "text": [
      "2234/2388 행 요약 완료\n"
     ]
    },
    {
     "name": "stderr",
     "output_type": "stream",
     "text": [
      "요약 진행 중:  94%|█████████▎| 2234/2388 [1:33:59<07:17,  2.84s/it]"
     ]
    },
    {
     "name": "stdout",
     "output_type": "stream",
     "text": [
      "2235/2388 행 요약 완료\n"
     ]
    },
    {
     "name": "stderr",
     "output_type": "stream",
     "text": [
      "요약 진행 중:  94%|█████████▎| 2235/2388 [1:34:04<08:34,  3.37s/it]"
     ]
    },
    {
     "name": "stdout",
     "output_type": "stream",
     "text": [
      "2236/2388 행 요약 완료\n"
     ]
    },
    {
     "name": "stderr",
     "output_type": "stream",
     "text": [
      "요약 진행 중:  94%|█████████▎| 2236/2388 [1:34:07<08:18,  3.28s/it]"
     ]
    },
    {
     "name": "stdout",
     "output_type": "stream",
     "text": [
      "2237/2388 행 요약 완료\n"
     ]
    },
    {
     "name": "stderr",
     "output_type": "stream",
     "text": [
      "요약 진행 중:  94%|█████████▎| 2237/2388 [1:34:11<08:38,  3.43s/it]"
     ]
    },
    {
     "name": "stdout",
     "output_type": "stream",
     "text": [
      "2238/2388 행 요약 완료\n"
     ]
    },
    {
     "name": "stderr",
     "output_type": "stream",
     "text": [
      "요약 진행 중:  94%|█████████▎| 2238/2388 [1:34:15<08:58,  3.59s/it]"
     ]
    },
    {
     "name": "stdout",
     "output_type": "stream",
     "text": [
      "2239/2388 행 요약 완료\n"
     ]
    },
    {
     "name": "stderr",
     "output_type": "stream",
     "text": [
      "요약 진행 중:  94%|█████████▍| 2239/2388 [1:34:19<09:40,  3.90s/it]"
     ]
    },
    {
     "name": "stdout",
     "output_type": "stream",
     "text": [
      "2240/2388 행 요약 완료\n"
     ]
    },
    {
     "name": "stderr",
     "output_type": "stream",
     "text": [
      "요약 진행 중:  94%|█████████▍| 2240/2388 [1:34:24<10:11,  4.13s/it]"
     ]
    },
    {
     "name": "stdout",
     "output_type": "stream",
     "text": [
      "2241/2388 행 요약 완료\n"
     ]
    },
    {
     "name": "stderr",
     "output_type": "stream",
     "text": [
      "요약 진행 중:  94%|█████████▍| 2241/2388 [1:34:26<08:51,  3.61s/it]"
     ]
    },
    {
     "name": "stdout",
     "output_type": "stream",
     "text": [
      "2242/2388 행 요약 완료\n"
     ]
    },
    {
     "name": "stderr",
     "output_type": "stream",
     "text": [
      "요약 진행 중:  94%|█████████▍| 2242/2388 [1:34:28<07:23,  3.03s/it]"
     ]
    },
    {
     "name": "stdout",
     "output_type": "stream",
     "text": [
      "2243/2388 행 요약 완료\n"
     ]
    },
    {
     "name": "stderr",
     "output_type": "stream",
     "text": [
      "요약 진행 중:  94%|█████████▍| 2243/2388 [1:34:30<06:46,  2.80s/it]"
     ]
    },
    {
     "name": "stdout",
     "output_type": "stream",
     "text": [
      "2244/2388 행 요약 완료\n"
     ]
    },
    {
     "name": "stderr",
     "output_type": "stream",
     "text": [
      "요약 진행 중:  94%|█████████▍| 2244/2388 [1:34:32<05:58,  2.49s/it]"
     ]
    },
    {
     "name": "stdout",
     "output_type": "stream",
     "text": [
      "2245/2388 행 요약 완료\n"
     ]
    },
    {
     "name": "stderr",
     "output_type": "stream",
     "text": [
      "요약 진행 중:  94%|█████████▍| 2245/2388 [1:34:36<06:58,  2.93s/it]"
     ]
    },
    {
     "name": "stdout",
     "output_type": "stream",
     "text": [
      "2246/2388 행 요약 완료\n"
     ]
    },
    {
     "name": "stderr",
     "output_type": "stream",
     "text": [
      "요약 진행 중:  94%|█████████▍| 2246/2388 [1:34:37<05:39,  2.39s/it]"
     ]
    },
    {
     "name": "stdout",
     "output_type": "stream",
     "text": [
      "2247/2388 행 요약 완료\n"
     ]
    },
    {
     "name": "stderr",
     "output_type": "stream",
     "text": [
      "요약 진행 중:  94%|█████████▍| 2247/2388 [1:34:39<05:01,  2.14s/it]"
     ]
    },
    {
     "name": "stdout",
     "output_type": "stream",
     "text": [
      "2248/2388 행 요약 완료\n"
     ]
    },
    {
     "name": "stderr",
     "output_type": "stream",
     "text": [
      "요약 진행 중:  94%|█████████▍| 2248/2388 [1:34:44<06:59,  2.99s/it]"
     ]
    },
    {
     "name": "stdout",
     "output_type": "stream",
     "text": [
      "2249/2388 행 요약 완료\n"
     ]
    },
    {
     "name": "stderr",
     "output_type": "stream",
     "text": [
      "요약 진행 중:  94%|█████████▍| 2249/2388 [1:34:47<06:56,  2.99s/it]"
     ]
    },
    {
     "name": "stdout",
     "output_type": "stream",
     "text": [
      "2250/2388 행 요약 완료\n"
     ]
    },
    {
     "name": "stderr",
     "output_type": "stream",
     "text": [
      "요약 진행 중:  94%|█████████▍| 2250/2388 [1:34:50<06:53,  2.99s/it]"
     ]
    },
    {
     "name": "stdout",
     "output_type": "stream",
     "text": [
      "2251/2388 행 요약 완료\n"
     ]
    },
    {
     "name": "stderr",
     "output_type": "stream",
     "text": [
      "요약 진행 중:  94%|█████████▍| 2251/2388 [1:34:51<05:26,  2.38s/it]"
     ]
    },
    {
     "name": "stdout",
     "output_type": "stream",
     "text": [
      "2252/2388 행 요약 완료\n"
     ]
    },
    {
     "name": "stderr",
     "output_type": "stream",
     "text": [
      "요약 진행 중:  94%|█████████▍| 2252/2388 [1:34:53<05:26,  2.40s/it]"
     ]
    },
    {
     "name": "stdout",
     "output_type": "stream",
     "text": [
      "2253/2388 행 요약 완료\n"
     ]
    },
    {
     "name": "stderr",
     "output_type": "stream",
     "text": [
      "요약 진행 중:  94%|█████████▍| 2253/2388 [1:34:56<05:32,  2.46s/it]"
     ]
    },
    {
     "name": "stdout",
     "output_type": "stream",
     "text": [
      "2254/2388 행 요약 완료\n"
     ]
    },
    {
     "name": "stderr",
     "output_type": "stream",
     "text": [
      "요약 진행 중:  94%|█████████▍| 2254/2388 [1:34:57<05:00,  2.24s/it]"
     ]
    },
    {
     "name": "stdout",
     "output_type": "stream",
     "text": [
      "2255/2388 행 요약 완료\n"
     ]
    },
    {
     "name": "stderr",
     "output_type": "stream",
     "text": [
      "요약 진행 중:  94%|█████████▍| 2255/2388 [1:34:59<04:24,  1.99s/it]"
     ]
    },
    {
     "name": "stdout",
     "output_type": "stream",
     "text": [
      "2256/2388 행 요약 완료\n"
     ]
    },
    {
     "name": "stderr",
     "output_type": "stream",
     "text": [
      "요약 진행 중:  94%|█████████▍| 2256/2388 [1:35:01<04:14,  1.93s/it]"
     ]
    },
    {
     "name": "stdout",
     "output_type": "stream",
     "text": [
      "2257/2388 행 요약 완료\n"
     ]
    },
    {
     "name": "stderr",
     "output_type": "stream",
     "text": [
      "요약 진행 중:  95%|█████████▍| 2257/2388 [1:35:03<04:14,  1.94s/it]"
     ]
    },
    {
     "name": "stdout",
     "output_type": "stream",
     "text": [
      "2258/2388 행 요약 완료\n"
     ]
    },
    {
     "name": "stderr",
     "output_type": "stream",
     "text": [
      "요약 진행 중:  95%|█████████▍| 2258/2388 [1:35:04<03:53,  1.79s/it]"
     ]
    },
    {
     "name": "stdout",
     "output_type": "stream",
     "text": [
      "2259/2388 행 요약 완료\n"
     ]
    },
    {
     "name": "stderr",
     "output_type": "stream",
     "text": [
      "요약 진행 중:  95%|█████████▍| 2259/2388 [1:35:06<03:50,  1.78s/it]"
     ]
    },
    {
     "name": "stdout",
     "output_type": "stream",
     "text": [
      "2260/2388 행 요약 완료\n"
     ]
    },
    {
     "name": "stderr",
     "output_type": "stream",
     "text": [
      "요약 진행 중:  95%|█████████▍| 2260/2388 [1:35:09<05:01,  2.35s/it]"
     ]
    },
    {
     "name": "stdout",
     "output_type": "stream",
     "text": [
      "2261/2388 행 요약 완료\n"
     ]
    },
    {
     "name": "stderr",
     "output_type": "stream",
     "text": [
      "요약 진행 중:  95%|█████████▍| 2261/2388 [1:35:12<05:02,  2.38s/it]"
     ]
    },
    {
     "name": "stdout",
     "output_type": "stream",
     "text": [
      "2262/2388 행 요약 완료\n"
     ]
    },
    {
     "name": "stderr",
     "output_type": "stream",
     "text": [
      "요약 진행 중:  95%|█████████▍| 2262/2388 [1:35:14<04:42,  2.24s/it]"
     ]
    },
    {
     "name": "stdout",
     "output_type": "stream",
     "text": [
      "2263/2388 행 요약 완료\n"
     ]
    },
    {
     "name": "stderr",
     "output_type": "stream",
     "text": [
      "요약 진행 중:  95%|█████████▍| 2263/2388 [1:35:15<04:16,  2.05s/it]"
     ]
    },
    {
     "name": "stdout",
     "output_type": "stream",
     "text": [
      "2264/2388 행 요약 완료\n"
     ]
    },
    {
     "name": "stderr",
     "output_type": "stream",
     "text": [
      "요약 진행 중:  95%|█████████▍| 2264/2388 [1:35:23<07:28,  3.61s/it]"
     ]
    },
    {
     "name": "stdout",
     "output_type": "stream",
     "text": [
      "2265/2388 행 요약 완료\n"
     ]
    },
    {
     "name": "stderr",
     "output_type": "stream",
     "text": [
      "요약 진행 중:  95%|█████████▍| 2265/2388 [1:35:24<06:18,  3.07s/it]"
     ]
    },
    {
     "name": "stdout",
     "output_type": "stream",
     "text": [
      "2266/2388 행 요약 완료\n"
     ]
    },
    {
     "name": "stderr",
     "output_type": "stream",
     "text": [
      "요약 진행 중:  95%|█████████▍| 2266/2388 [1:35:28<06:16,  3.08s/it]"
     ]
    },
    {
     "name": "stdout",
     "output_type": "stream",
     "text": [
      "2267/2388 행 요약 완료\n"
     ]
    },
    {
     "name": "stderr",
     "output_type": "stream",
     "text": [
      "요약 진행 중:  95%|█████████▍| 2267/2388 [1:35:30<05:52,  2.91s/it]"
     ]
    },
    {
     "name": "stdout",
     "output_type": "stream",
     "text": [
      "2268/2388 행 요약 완료\n"
     ]
    },
    {
     "name": "stderr",
     "output_type": "stream",
     "text": [
      "요약 진행 중:  95%|█████████▍| 2268/2388 [1:35:31<04:55,  2.46s/it]"
     ]
    },
    {
     "name": "stdout",
     "output_type": "stream",
     "text": [
      "2269/2388 행 요약 완료\n"
     ]
    },
    {
     "name": "stderr",
     "output_type": "stream",
     "text": [
      "요약 진행 중:  95%|█████████▌| 2269/2388 [1:35:34<05:05,  2.57s/it]"
     ]
    },
    {
     "name": "stdout",
     "output_type": "stream",
     "text": [
      "2270/2388 행 요약 완료\n"
     ]
    },
    {
     "name": "stderr",
     "output_type": "stream",
     "text": [
      "요약 진행 중:  95%|█████████▌| 2270/2388 [1:35:37<05:23,  2.74s/it]"
     ]
    },
    {
     "name": "stdout",
     "output_type": "stream",
     "text": [
      "2271/2388 행 요약 완료\n"
     ]
    },
    {
     "name": "stderr",
     "output_type": "stream",
     "text": [
      "요약 진행 중:  95%|█████████▌| 2271/2388 [1:35:40<05:08,  2.63s/it]"
     ]
    },
    {
     "name": "stdout",
     "output_type": "stream",
     "text": [
      "2272/2388 행 요약 완료\n"
     ]
    },
    {
     "name": "stderr",
     "output_type": "stream",
     "text": [
      "요약 진행 중:  95%|█████████▌| 2272/2388 [1:35:46<07:07,  3.69s/it]"
     ]
    },
    {
     "name": "stdout",
     "output_type": "stream",
     "text": [
      "2273/2388 행 요약 완료\n"
     ]
    },
    {
     "name": "stderr",
     "output_type": "stream",
     "text": [
      "요약 진행 중:  95%|█████████▌| 2273/2388 [1:35:48<06:01,  3.14s/it]"
     ]
    },
    {
     "name": "stdout",
     "output_type": "stream",
     "text": [
      "2274/2388 행 요약 완료\n"
     ]
    },
    {
     "name": "stderr",
     "output_type": "stream",
     "text": [
      "요약 진행 중:  95%|█████████▌| 2274/2388 [1:35:52<06:32,  3.45s/it]"
     ]
    },
    {
     "name": "stdout",
     "output_type": "stream",
     "text": [
      "2275/2388 행 요약 완료\n"
     ]
    },
    {
     "name": "stderr",
     "output_type": "stream",
     "text": [
      "요약 진행 중:  95%|█████████▌| 2275/2388 [1:35:54<05:49,  3.09s/it]"
     ]
    },
    {
     "name": "stdout",
     "output_type": "stream",
     "text": [
      "2276/2388 행 요약 완료\n"
     ]
    },
    {
     "name": "stderr",
     "output_type": "stream",
     "text": [
      "요약 진행 중:  95%|█████████▌| 2276/2388 [1:35:58<05:59,  3.21s/it]"
     ]
    },
    {
     "name": "stdout",
     "output_type": "stream",
     "text": [
      "2277/2388 행 요약 완료\n"
     ]
    },
    {
     "name": "stderr",
     "output_type": "stream",
     "text": [
      "요약 진행 중:  95%|█████████▌| 2277/2388 [1:35:59<05:02,  2.73s/it]"
     ]
    },
    {
     "name": "stdout",
     "output_type": "stream",
     "text": [
      "2278/2388 행 요약 완료\n"
     ]
    },
    {
     "name": "stderr",
     "output_type": "stream",
     "text": [
      "요약 진행 중:  95%|█████████▌| 2278/2388 [1:36:01<04:34,  2.49s/it]"
     ]
    },
    {
     "name": "stdout",
     "output_type": "stream",
     "text": [
      "2279/2388 행 요약 완료\n"
     ]
    },
    {
     "name": "stderr",
     "output_type": "stream",
     "text": [
      "요약 진행 중:  95%|█████████▌| 2279/2388 [1:36:04<04:24,  2.42s/it]"
     ]
    },
    {
     "name": "stdout",
     "output_type": "stream",
     "text": [
      "2280/2388 행 요약 완료\n"
     ]
    },
    {
     "name": "stderr",
     "output_type": "stream",
     "text": [
      "요약 진행 중:  95%|█████████▌| 2280/2388 [1:36:06<04:26,  2.47s/it]"
     ]
    },
    {
     "name": "stdout",
     "output_type": "stream",
     "text": [
      "2281/2388 행 요약 완료\n"
     ]
    },
    {
     "name": "stderr",
     "output_type": "stream",
     "text": [
      "요약 진행 중:  96%|█████████▌| 2281/2388 [1:36:09<04:20,  2.44s/it]"
     ]
    },
    {
     "name": "stdout",
     "output_type": "stream",
     "text": [
      "2282/2388 행 요약 완료\n"
     ]
    },
    {
     "name": "stderr",
     "output_type": "stream",
     "text": [
      "요약 진행 중:  96%|█████████▌| 2282/2388 [1:36:10<03:58,  2.25s/it]"
     ]
    },
    {
     "name": "stdout",
     "output_type": "stream",
     "text": [
      "2283/2388 행 요약 완료\n"
     ]
    },
    {
     "name": "stderr",
     "output_type": "stream",
     "text": [
      "요약 진행 중:  96%|█████████▌| 2283/2388 [1:36:12<03:46,  2.16s/it]"
     ]
    },
    {
     "name": "stdout",
     "output_type": "stream",
     "text": [
      "2284/2388 행 요약 완료\n"
     ]
    },
    {
     "name": "stderr",
     "output_type": "stream",
     "text": [
      "요약 진행 중:  96%|█████████▌| 2284/2388 [1:36:14<03:33,  2.06s/it]"
     ]
    },
    {
     "name": "stdout",
     "output_type": "stream",
     "text": [
      "2285/2388 행 요약 완료\n"
     ]
    },
    {
     "name": "stderr",
     "output_type": "stream",
     "text": [
      "요약 진행 중:  96%|█████████▌| 2285/2388 [1:36:16<03:40,  2.14s/it]"
     ]
    },
    {
     "name": "stdout",
     "output_type": "stream",
     "text": [
      "2286/2388 행 요약 완료\n"
     ]
    },
    {
     "name": "stderr",
     "output_type": "stream",
     "text": [
      "요약 진행 중:  96%|█████████▌| 2286/2388 [1:36:18<03:11,  1.88s/it]"
     ]
    },
    {
     "name": "stdout",
     "output_type": "stream",
     "text": [
      "2287/2388 행 요약 완료\n"
     ]
    },
    {
     "name": "stderr",
     "output_type": "stream",
     "text": [
      "요약 진행 중:  96%|█████████▌| 2287/2388 [1:36:19<03:01,  1.80s/it]"
     ]
    },
    {
     "name": "stdout",
     "output_type": "stream",
     "text": [
      "2288/2388 행 요약 완료\n"
     ]
    },
    {
     "name": "stderr",
     "output_type": "stream",
     "text": [
      "요약 진행 중:  96%|█████████▌| 2288/2388 [1:36:21<02:53,  1.73s/it]"
     ]
    },
    {
     "name": "stdout",
     "output_type": "stream",
     "text": [
      "2289/2388 행 요약 완료\n"
     ]
    },
    {
     "name": "stderr",
     "output_type": "stream",
     "text": [
      "요약 진행 중:  96%|█████████▌| 2289/2388 [1:36:22<02:47,  1.69s/it]"
     ]
    },
    {
     "name": "stdout",
     "output_type": "stream",
     "text": [
      "2290/2388 행 요약 완료\n"
     ]
    },
    {
     "name": "stderr",
     "output_type": "stream",
     "text": [
      "요약 진행 중:  96%|█████████▌| 2290/2388 [1:36:26<03:38,  2.23s/it]"
     ]
    },
    {
     "name": "stdout",
     "output_type": "stream",
     "text": [
      "2291/2388 행 요약 완료\n"
     ]
    },
    {
     "name": "stderr",
     "output_type": "stream",
     "text": [
      "요약 진행 중:  96%|█████████▌| 2291/2388 [1:36:27<03:07,  1.94s/it]"
     ]
    },
    {
     "name": "stdout",
     "output_type": "stream",
     "text": [
      "2292/2388 행 요약 완료\n"
     ]
    },
    {
     "name": "stderr",
     "output_type": "stream",
     "text": [
      "요약 진행 중:  96%|█████████▌| 2292/2388 [1:36:29<02:55,  1.83s/it]"
     ]
    },
    {
     "name": "stdout",
     "output_type": "stream",
     "text": [
      "2293/2388 행 요약 완료\n"
     ]
    },
    {
     "name": "stderr",
     "output_type": "stream",
     "text": [
      "요약 진행 중:  96%|█████████▌| 2293/2388 [1:36:31<02:53,  1.82s/it]"
     ]
    },
    {
     "name": "stdout",
     "output_type": "stream",
     "text": [
      "2294/2388 행 요약 완료\n"
     ]
    },
    {
     "name": "stderr",
     "output_type": "stream",
     "text": [
      "요약 진행 중:  96%|█████████▌| 2294/2388 [1:36:32<02:47,  1.78s/it]"
     ]
    },
    {
     "name": "stdout",
     "output_type": "stream",
     "text": [
      "2295/2388 행 요약 완료\n"
     ]
    },
    {
     "name": "stderr",
     "output_type": "stream",
     "text": [
      "요약 진행 중:  96%|█████████▌| 2295/2388 [1:36:34<02:40,  1.73s/it]"
     ]
    },
    {
     "name": "stdout",
     "output_type": "stream",
     "text": [
      "2296/2388 행 요약 완료\n"
     ]
    },
    {
     "name": "stderr",
     "output_type": "stream",
     "text": [
      "요약 진행 중:  96%|█████████▌| 2296/2388 [1:36:35<02:36,  1.70s/it]"
     ]
    },
    {
     "name": "stdout",
     "output_type": "stream",
     "text": [
      "2297/2388 행 요약 완료\n"
     ]
    },
    {
     "name": "stderr",
     "output_type": "stream",
     "text": [
      "요약 진행 중:  96%|█████████▌| 2297/2388 [1:36:37<02:36,  1.73s/it]"
     ]
    },
    {
     "name": "stdout",
     "output_type": "stream",
     "text": [
      "2298/2388 행 요약 완료\n"
     ]
    },
    {
     "name": "stderr",
     "output_type": "stream",
     "text": [
      "요약 진행 중:  96%|█████████▌| 2298/2388 [1:36:39<02:37,  1.75s/it]"
     ]
    },
    {
     "name": "stdout",
     "output_type": "stream",
     "text": [
      "2299/2388 행 요약 완료\n"
     ]
    },
    {
     "name": "stderr",
     "output_type": "stream",
     "text": [
      "요약 진행 중:  96%|█████████▋| 2299/2388 [1:36:43<03:44,  2.52s/it]"
     ]
    },
    {
     "name": "stdout",
     "output_type": "stream",
     "text": [
      "2300/2388 행 요약 완료\n"
     ]
    },
    {
     "name": "stderr",
     "output_type": "stream",
     "text": [
      "요약 진행 중:  96%|█████████▋| 2300/2388 [1:36:47<04:19,  2.95s/it]"
     ]
    },
    {
     "name": "stdout",
     "output_type": "stream",
     "text": [
      "2301/2388 행 요약 완료\n"
     ]
    },
    {
     "name": "stderr",
     "output_type": "stream",
     "text": [
      "요약 진행 중:  96%|█████████▋| 2301/2388 [1:36:49<03:38,  2.51s/it]"
     ]
    },
    {
     "name": "stdout",
     "output_type": "stream",
     "text": [
      "2302/2388 행 요약 완료\n"
     ]
    },
    {
     "name": "stderr",
     "output_type": "stream",
     "text": [
      "요약 진행 중:  96%|█████████▋| 2302/2388 [1:36:51<03:26,  2.40s/it]"
     ]
    },
    {
     "name": "stdout",
     "output_type": "stream",
     "text": [
      "2303/2388 행 요약 완료\n"
     ]
    },
    {
     "name": "stderr",
     "output_type": "stream",
     "text": [
      "요약 진행 중:  96%|█████████▋| 2303/2388 [1:36:53<03:08,  2.22s/it]"
     ]
    },
    {
     "name": "stdout",
     "output_type": "stream",
     "text": [
      "2304/2388 행 요약 완료\n"
     ]
    },
    {
     "name": "stderr",
     "output_type": "stream",
     "text": [
      "요약 진행 중:  96%|█████████▋| 2304/2388 [1:36:55<02:54,  2.07s/it]"
     ]
    },
    {
     "name": "stdout",
     "output_type": "stream",
     "text": [
      "2305/2388 행 요약 완료\n"
     ]
    },
    {
     "name": "stderr",
     "output_type": "stream",
     "text": [
      "요약 진행 중:  97%|█████████▋| 2305/2388 [1:36:57<03:04,  2.22s/it]"
     ]
    },
    {
     "name": "stdout",
     "output_type": "stream",
     "text": [
      "2306/2388 행 요약 완료\n"
     ]
    },
    {
     "name": "stderr",
     "output_type": "stream",
     "text": [
      "요약 진행 중:  97%|█████████▋| 2306/2388 [1:36:58<02:39,  1.94s/it]"
     ]
    },
    {
     "name": "stdout",
     "output_type": "stream",
     "text": [
      "2307/2388 행 요약 완료\n"
     ]
    },
    {
     "name": "stderr",
     "output_type": "stream",
     "text": [
      "요약 진행 중:  97%|█████████▋| 2307/2388 [1:37:01<03:05,  2.29s/it]"
     ]
    },
    {
     "name": "stdout",
     "output_type": "stream",
     "text": [
      "2308/2388 행 요약 완료\n"
     ]
    },
    {
     "name": "stderr",
     "output_type": "stream",
     "text": [
      "요약 진행 중:  97%|█████████▋| 2308/2388 [1:37:03<02:45,  2.07s/it]"
     ]
    },
    {
     "name": "stdout",
     "output_type": "stream",
     "text": [
      "2309/2388 행 요약 완료\n"
     ]
    },
    {
     "name": "stderr",
     "output_type": "stream",
     "text": [
      "요약 진행 중:  97%|█████████▋| 2309/2388 [1:37:04<02:28,  1.88s/it]"
     ]
    },
    {
     "name": "stdout",
     "output_type": "stream",
     "text": [
      "2310/2388 행 요약 완료\n"
     ]
    },
    {
     "name": "stderr",
     "output_type": "stream",
     "text": [
      "요약 진행 중:  97%|█████████▋| 2310/2388 [1:37:07<02:48,  2.16s/it]"
     ]
    },
    {
     "name": "stdout",
     "output_type": "stream",
     "text": [
      "2311/2388 행 요약 완료\n"
     ]
    },
    {
     "name": "stderr",
     "output_type": "stream",
     "text": [
      "요약 진행 중:  97%|█████████▋| 2311/2388 [1:37:10<03:00,  2.34s/it]"
     ]
    },
    {
     "name": "stdout",
     "output_type": "stream",
     "text": [
      "2312/2388 행 요약 완료\n"
     ]
    },
    {
     "name": "stderr",
     "output_type": "stream",
     "text": [
      "요약 진행 중:  97%|█████████▋| 2312/2388 [1:37:12<02:44,  2.17s/it]"
     ]
    },
    {
     "name": "stdout",
     "output_type": "stream",
     "text": [
      "2313/2388 행 요약 완료\n"
     ]
    },
    {
     "name": "stderr",
     "output_type": "stream",
     "text": [
      "요약 진행 중:  97%|█████████▋| 2313/2388 [1:37:15<03:15,  2.60s/it]"
     ]
    },
    {
     "name": "stdout",
     "output_type": "stream",
     "text": [
      "2314/2388 행 요약 완료\n"
     ]
    },
    {
     "name": "stderr",
     "output_type": "stream",
     "text": [
      "요약 진행 중:  97%|█████████▋| 2314/2388 [1:37:20<03:47,  3.07s/it]"
     ]
    },
    {
     "name": "stdout",
     "output_type": "stream",
     "text": [
      "2315/2388 행 요약 완료\n"
     ]
    },
    {
     "name": "stderr",
     "output_type": "stream",
     "text": [
      "요약 진행 중:  97%|█████████▋| 2315/2388 [1:37:22<03:19,  2.73s/it]"
     ]
    },
    {
     "name": "stdout",
     "output_type": "stream",
     "text": [
      "2316/2388 행 요약 완료\n"
     ]
    },
    {
     "name": "stderr",
     "output_type": "stream",
     "text": [
      "요약 진행 중:  97%|█████████▋| 2316/2388 [1:37:24<03:10,  2.65s/it]"
     ]
    },
    {
     "name": "stdout",
     "output_type": "stream",
     "text": [
      "2317/2388 행 요약 완료\n"
     ]
    },
    {
     "name": "stderr",
     "output_type": "stream",
     "text": [
      "요약 진행 중:  97%|█████████▋| 2317/2388 [1:37:28<03:30,  2.97s/it]"
     ]
    },
    {
     "name": "stdout",
     "output_type": "stream",
     "text": [
      "2318/2388 행 요약 완료\n"
     ]
    },
    {
     "name": "stderr",
     "output_type": "stream",
     "text": [
      "요약 진행 중:  97%|█████████▋| 2318/2388 [1:37:30<03:19,  2.85s/it]"
     ]
    },
    {
     "name": "stdout",
     "output_type": "stream",
     "text": [
      "2319/2388 행 요약 완료\n"
     ]
    },
    {
     "name": "stderr",
     "output_type": "stream",
     "text": [
      "요약 진행 중:  97%|█████████▋| 2319/2388 [1:37:32<03:03,  2.66s/it]"
     ]
    },
    {
     "name": "stdout",
     "output_type": "stream",
     "text": [
      "2320/2388 행 요약 완료\n"
     ]
    },
    {
     "name": "stderr",
     "output_type": "stream",
     "text": [
      "요약 진행 중:  97%|█████████▋| 2320/2388 [1:37:35<03:00,  2.65s/it]"
     ]
    },
    {
     "name": "stdout",
     "output_type": "stream",
     "text": [
      "2321/2388 행 요약 완료\n"
     ]
    },
    {
     "name": "stderr",
     "output_type": "stream",
     "text": [
      "요약 진행 중:  97%|█████████▋| 2321/2388 [1:37:37<02:36,  2.34s/it]"
     ]
    },
    {
     "name": "stdout",
     "output_type": "stream",
     "text": [
      "2322/2388 행 요약 완료\n"
     ]
    },
    {
     "name": "stderr",
     "output_type": "stream",
     "text": [
      "요약 진행 중:  97%|█████████▋| 2322/2388 [1:37:40<02:59,  2.72s/it]"
     ]
    },
    {
     "name": "stdout",
     "output_type": "stream",
     "text": [
      "2323/2388 행 요약 완료\n"
     ]
    },
    {
     "name": "stderr",
     "output_type": "stream",
     "text": [
      "요약 진행 중:  97%|█████████▋| 2323/2388 [1:37:42<02:38,  2.43s/it]"
     ]
    },
    {
     "name": "stdout",
     "output_type": "stream",
     "text": [
      "2324/2388 행 요약 완료\n"
     ]
    },
    {
     "name": "stderr",
     "output_type": "stream",
     "text": [
      "요약 진행 중:  97%|█████████▋| 2324/2388 [1:37:44<02:32,  2.39s/it]"
     ]
    },
    {
     "name": "stdout",
     "output_type": "stream",
     "text": [
      "2325/2388 행 요약 완료\n"
     ]
    },
    {
     "name": "stderr",
     "output_type": "stream",
     "text": [
      "요약 진행 중:  97%|█████████▋| 2325/2388 [1:37:49<03:14,  3.08s/it]"
     ]
    },
    {
     "name": "stdout",
     "output_type": "stream",
     "text": [
      "2326/2388 행 요약 완료\n"
     ]
    },
    {
     "name": "stderr",
     "output_type": "stream",
     "text": [
      "요약 진행 중:  97%|█████████▋| 2326/2388 [1:37:52<03:02,  2.95s/it]"
     ]
    },
    {
     "name": "stdout",
     "output_type": "stream",
     "text": [
      "2327/2388 행 요약 완료\n"
     ]
    },
    {
     "name": "stderr",
     "output_type": "stream",
     "text": [
      "요약 진행 중:  97%|█████████▋| 2327/2388 [1:37:53<02:36,  2.56s/it]"
     ]
    },
    {
     "name": "stdout",
     "output_type": "stream",
     "text": [
      "2328/2388 행 요약 완료\n"
     ]
    },
    {
     "name": "stderr",
     "output_type": "stream",
     "text": [
      "요약 진행 중:  97%|█████████▋| 2328/2388 [1:37:56<02:30,  2.51s/it]"
     ]
    },
    {
     "name": "stdout",
     "output_type": "stream",
     "text": [
      "2329/2388 행 요약 완료\n"
     ]
    },
    {
     "name": "stderr",
     "output_type": "stream",
     "text": [
      "요약 진행 중:  98%|█████████▊| 2329/2388 [1:37:57<02:09,  2.20s/it]"
     ]
    },
    {
     "name": "stdout",
     "output_type": "stream",
     "text": [
      "2330/2388 행 요약 완료\n"
     ]
    },
    {
     "name": "stderr",
     "output_type": "stream",
     "text": [
      "요약 진행 중:  98%|█████████▊| 2330/2388 [1:37:59<02:05,  2.16s/it]"
     ]
    },
    {
     "name": "stdout",
     "output_type": "stream",
     "text": [
      "2331/2388 행 요약 완료\n"
     ]
    },
    {
     "name": "stderr",
     "output_type": "stream",
     "text": [
      "요약 진행 중:  98%|█████████▊| 2331/2388 [1:38:01<01:58,  2.07s/it]"
     ]
    },
    {
     "name": "stdout",
     "output_type": "stream",
     "text": [
      "2332/2388 행 요약 완료\n"
     ]
    },
    {
     "name": "stderr",
     "output_type": "stream",
     "text": [
      "요약 진행 중:  98%|█████████▊| 2332/2388 [1:38:03<01:50,  1.98s/it]"
     ]
    },
    {
     "name": "stdout",
     "output_type": "stream",
     "text": [
      "2333/2388 행 요약 완료\n"
     ]
    },
    {
     "name": "stderr",
     "output_type": "stream",
     "text": [
      "요약 진행 중:  98%|█████████▊| 2333/2388 [1:38:05<01:49,  1.99s/it]"
     ]
    },
    {
     "name": "stdout",
     "output_type": "stream",
     "text": [
      "2334/2388 행 요약 완료\n"
     ]
    },
    {
     "name": "stderr",
     "output_type": "stream",
     "text": [
      "요약 진행 중:  98%|█████████▊| 2334/2388 [1:38:06<01:39,  1.84s/it]"
     ]
    },
    {
     "name": "stdout",
     "output_type": "stream",
     "text": [
      "2335/2388 행 요약 완료\n"
     ]
    },
    {
     "name": "stderr",
     "output_type": "stream",
     "text": [
      "요약 진행 중:  98%|█████████▊| 2335/2388 [1:38:09<01:45,  1.99s/it]"
     ]
    },
    {
     "name": "stdout",
     "output_type": "stream",
     "text": [
      "2336/2388 행 요약 완료\n"
     ]
    },
    {
     "name": "stderr",
     "output_type": "stream",
     "text": [
      "요약 진행 중:  98%|█████████▊| 2336/2388 [1:38:11<01:45,  2.04s/it]"
     ]
    },
    {
     "name": "stdout",
     "output_type": "stream",
     "text": [
      "2337/2388 행 요약 완료\n"
     ]
    },
    {
     "name": "stderr",
     "output_type": "stream",
     "text": [
      "요약 진행 중:  98%|█████████▊| 2337/2388 [1:38:12<01:33,  1.83s/it]"
     ]
    },
    {
     "name": "stdout",
     "output_type": "stream",
     "text": [
      "2338/2388 행 요약 완료\n"
     ]
    },
    {
     "name": "stderr",
     "output_type": "stream",
     "text": [
      "요약 진행 중:  98%|█████████▊| 2338/2388 [1:38:15<01:51,  2.23s/it]"
     ]
    },
    {
     "name": "stdout",
     "output_type": "stream",
     "text": [
      "2339/2388 행 요약 완료\n"
     ]
    },
    {
     "name": "stderr",
     "output_type": "stream",
     "text": [
      "요약 진행 중:  98%|█████████▊| 2339/2388 [1:38:20<02:17,  2.80s/it]"
     ]
    },
    {
     "name": "stdout",
     "output_type": "stream",
     "text": [
      "2340/2388 행 요약 완료\n"
     ]
    },
    {
     "name": "stderr",
     "output_type": "stream",
     "text": [
      "요약 진행 중:  98%|█████████▊| 2340/2388 [1:38:22<02:03,  2.58s/it]"
     ]
    },
    {
     "name": "stdout",
     "output_type": "stream",
     "text": [
      "2341/2388 행 요약 완료\n"
     ]
    },
    {
     "name": "stderr",
     "output_type": "stream",
     "text": [
      "요약 진행 중:  98%|█████████▊| 2341/2388 [1:38:26<02:19,  2.97s/it]"
     ]
    },
    {
     "name": "stdout",
     "output_type": "stream",
     "text": [
      "2342/2388 행 요약 완료\n"
     ]
    },
    {
     "name": "stderr",
     "output_type": "stream",
     "text": [
      "요약 진행 중:  98%|█████████▊| 2342/2388 [1:38:28<02:16,  2.97s/it]"
     ]
    },
    {
     "name": "stdout",
     "output_type": "stream",
     "text": [
      "2343/2388 행 요약 완료\n"
     ]
    },
    {
     "name": "stderr",
     "output_type": "stream",
     "text": [
      "요약 진행 중:  98%|█████████▊| 2343/2388 [1:38:30<01:53,  2.53s/it]"
     ]
    },
    {
     "name": "stdout",
     "output_type": "stream",
     "text": [
      "2344/2388 행 요약 완료\n"
     ]
    },
    {
     "name": "stderr",
     "output_type": "stream",
     "text": [
      "요약 진행 중:  98%|█████████▊| 2344/2388 [1:38:34<02:08,  2.91s/it]"
     ]
    },
    {
     "name": "stdout",
     "output_type": "stream",
     "text": [
      "2345/2388 행 요약 완료\n"
     ]
    },
    {
     "name": "stderr",
     "output_type": "stream",
     "text": [
      "요약 진행 중:  98%|█████████▊| 2345/2388 [1:38:35<01:45,  2.46s/it]"
     ]
    },
    {
     "name": "stdout",
     "output_type": "stream",
     "text": [
      "2346/2388 행 요약 완료\n"
     ]
    },
    {
     "name": "stderr",
     "output_type": "stream",
     "text": [
      "요약 진행 중:  98%|█████████▊| 2346/2388 [1:38:38<01:47,  2.55s/it]"
     ]
    },
    {
     "name": "stdout",
     "output_type": "stream",
     "text": [
      "2347/2388 행 요약 완료\n"
     ]
    },
    {
     "name": "stderr",
     "output_type": "stream",
     "text": [
      "요약 진행 중:  98%|█████████▊| 2347/2388 [1:38:42<02:04,  3.04s/it]"
     ]
    },
    {
     "name": "stdout",
     "output_type": "stream",
     "text": [
      "2348/2388 행 요약 완료\n"
     ]
    },
    {
     "name": "stderr",
     "output_type": "stream",
     "text": [
      "요약 진행 중:  98%|█████████▊| 2348/2388 [1:38:45<01:59,  2.99s/it]"
     ]
    },
    {
     "name": "stdout",
     "output_type": "stream",
     "text": [
      "2349/2388 행 요약 완료\n"
     ]
    },
    {
     "name": "stderr",
     "output_type": "stream",
     "text": [
      "요약 진행 중:  98%|█████████▊| 2349/2388 [1:38:51<02:26,  3.75s/it]"
     ]
    },
    {
     "name": "stdout",
     "output_type": "stream",
     "text": [
      "2350/2388 행 요약 완료\n"
     ]
    },
    {
     "name": "stderr",
     "output_type": "stream",
     "text": [
      "요약 진행 중:  98%|█████████▊| 2350/2388 [1:38:52<01:57,  3.08s/it]"
     ]
    },
    {
     "name": "stdout",
     "output_type": "stream",
     "text": [
      "2351/2388 행 요약 완료\n"
     ]
    },
    {
     "name": "stderr",
     "output_type": "stream",
     "text": [
      "요약 진행 중:  98%|█████████▊| 2351/2388 [1:38:54<01:37,  2.63s/it]"
     ]
    },
    {
     "name": "stdout",
     "output_type": "stream",
     "text": [
      "2352/2388 행 요약 완료\n"
     ]
    },
    {
     "name": "stderr",
     "output_type": "stream",
     "text": [
      "요약 진행 중:  98%|█████████▊| 2352/2388 [1:38:58<01:51,  3.09s/it]"
     ]
    },
    {
     "name": "stdout",
     "output_type": "stream",
     "text": [
      "2353/2388 행 요약 완료\n"
     ]
    },
    {
     "name": "stderr",
     "output_type": "stream",
     "text": [
      "요약 진행 중:  99%|█████████▊| 2353/2388 [1:39:01<01:45,  3.03s/it]"
     ]
    },
    {
     "name": "stdout",
     "output_type": "stream",
     "text": [
      "2354/2388 행 요약 완료\n"
     ]
    },
    {
     "name": "stderr",
     "output_type": "stream",
     "text": [
      "요약 진행 중:  99%|█████████▊| 2354/2388 [1:39:03<01:35,  2.80s/it]"
     ]
    },
    {
     "name": "stdout",
     "output_type": "stream",
     "text": [
      "2355/2388 행 요약 완료\n"
     ]
    },
    {
     "name": "stderr",
     "output_type": "stream",
     "text": [
      "요약 진행 중:  99%|█████████▊| 2355/2388 [1:39:05<01:23,  2.53s/it]"
     ]
    },
    {
     "name": "stdout",
     "output_type": "stream",
     "text": [
      "2356/2388 행 요약 완료\n"
     ]
    },
    {
     "name": "stderr",
     "output_type": "stream",
     "text": [
      "요약 진행 중:  99%|█████████▊| 2356/2388 [1:39:06<01:11,  2.24s/it]"
     ]
    },
    {
     "name": "stdout",
     "output_type": "stream",
     "text": [
      "2357/2388 행 요약 완료\n"
     ]
    },
    {
     "name": "stderr",
     "output_type": "stream",
     "text": [
      "요약 진행 중:  99%|█████████▊| 2357/2388 [1:39:08<01:03,  2.05s/it]"
     ]
    },
    {
     "name": "stdout",
     "output_type": "stream",
     "text": [
      "2358/2388 행 요약 완료\n"
     ]
    },
    {
     "name": "stderr",
     "output_type": "stream",
     "text": [
      "요약 진행 중:  99%|█████████▊| 2358/2388 [1:39:11<01:11,  2.37s/it]"
     ]
    },
    {
     "name": "stdout",
     "output_type": "stream",
     "text": [
      "2359/2388 행 요약 완료\n"
     ]
    },
    {
     "name": "stderr",
     "output_type": "stream",
     "text": [
      "요약 진행 중:  99%|█████████▉| 2359/2388 [1:39:13<01:06,  2.28s/it]"
     ]
    },
    {
     "name": "stdout",
     "output_type": "stream",
     "text": [
      "2360/2388 행 요약 완료\n"
     ]
    },
    {
     "name": "stderr",
     "output_type": "stream",
     "text": [
      "요약 진행 중:  99%|█████████▉| 2360/2388 [1:39:16<01:11,  2.55s/it]"
     ]
    },
    {
     "name": "stdout",
     "output_type": "stream",
     "text": [
      "2361/2388 행 요약 완료\n"
     ]
    },
    {
     "name": "stderr",
     "output_type": "stream",
     "text": [
      "요약 진행 중:  99%|█████████▉| 2361/2388 [1:39:20<01:20,  2.98s/it]"
     ]
    },
    {
     "name": "stdout",
     "output_type": "stream",
     "text": [
      "2362/2388 행 요약 완료\n"
     ]
    },
    {
     "name": "stderr",
     "output_type": "stream",
     "text": [
      "요약 진행 중:  99%|█████████▉| 2362/2388 [1:39:23<01:15,  2.90s/it]"
     ]
    },
    {
     "name": "stdout",
     "output_type": "stream",
     "text": [
      "2363/2388 행 요약 완료\n"
     ]
    },
    {
     "name": "stderr",
     "output_type": "stream",
     "text": [
      "요약 진행 중:  99%|█████████▉| 2363/2388 [1:39:25<01:01,  2.46s/it]"
     ]
    },
    {
     "name": "stdout",
     "output_type": "stream",
     "text": [
      "2364/2388 행 요약 완료\n"
     ]
    },
    {
     "name": "stderr",
     "output_type": "stream",
     "text": [
      "요약 진행 중:  99%|█████████▉| 2364/2388 [1:39:27<00:56,  2.36s/it]"
     ]
    },
    {
     "name": "stdout",
     "output_type": "stream",
     "text": [
      "2365/2388 행 요약 완료\n"
     ]
    },
    {
     "name": "stderr",
     "output_type": "stream",
     "text": [
      "요약 진행 중:  99%|█████████▉| 2365/2388 [1:39:28<00:46,  2.03s/it]"
     ]
    },
    {
     "name": "stdout",
     "output_type": "stream",
     "text": [
      "2366/2388 행 요약 완료\n"
     ]
    },
    {
     "name": "stderr",
     "output_type": "stream",
     "text": [
      "요약 진행 중:  99%|█████████▉| 2366/2388 [1:39:30<00:45,  2.07s/it]"
     ]
    },
    {
     "name": "stdout",
     "output_type": "stream",
     "text": [
      "2367/2388 행 요약 완료\n"
     ]
    },
    {
     "name": "stderr",
     "output_type": "stream",
     "text": [
      "요약 진행 중:  99%|█████████▉| 2367/2388 [1:39:31<00:38,  1.82s/it]"
     ]
    },
    {
     "name": "stdout",
     "output_type": "stream",
     "text": [
      "2368/2388 행 요약 완료\n"
     ]
    },
    {
     "name": "stderr",
     "output_type": "stream",
     "text": [
      "요약 진행 중:  99%|█████████▉| 2368/2388 [1:39:34<00:40,  2.03s/it]"
     ]
    },
    {
     "name": "stdout",
     "output_type": "stream",
     "text": [
      "2369/2388 행 요약 완료\n"
     ]
    },
    {
     "name": "stderr",
     "output_type": "stream",
     "text": [
      "요약 진행 중:  99%|█████████▉| 2369/2388 [1:39:37<00:42,  2.25s/it]"
     ]
    },
    {
     "name": "stdout",
     "output_type": "stream",
     "text": [
      "2370/2388 행 요약 완료\n"
     ]
    },
    {
     "name": "stderr",
     "output_type": "stream",
     "text": [
      "요약 진행 중:  99%|█████████▉| 2370/2388 [1:39:40<00:46,  2.56s/it]"
     ]
    },
    {
     "name": "stdout",
     "output_type": "stream",
     "text": [
      "2371/2388 행 요약 완료\n"
     ]
    },
    {
     "name": "stderr",
     "output_type": "stream",
     "text": [
      "요약 진행 중:  99%|█████████▉| 2371/2388 [1:39:43<00:44,  2.60s/it]"
     ]
    },
    {
     "name": "stdout",
     "output_type": "stream",
     "text": [
      "2372/2388 행 요약 완료\n"
     ]
    },
    {
     "name": "stderr",
     "output_type": "stream",
     "text": [
      "요약 진행 중:  99%|█████████▉| 2372/2388 [1:39:44<00:37,  2.36s/it]"
     ]
    },
    {
     "name": "stdout",
     "output_type": "stream",
     "text": [
      "2373/2388 행 요약 완료\n"
     ]
    },
    {
     "name": "stderr",
     "output_type": "stream",
     "text": [
      "요약 진행 중:  99%|█████████▉| 2373/2388 [1:39:46<00:31,  2.09s/it]"
     ]
    },
    {
     "name": "stdout",
     "output_type": "stream",
     "text": [
      "2374/2388 행 요약 완료\n"
     ]
    },
    {
     "name": "stderr",
     "output_type": "stream",
     "text": [
      "요약 진행 중:  99%|█████████▉| 2374/2388 [1:39:49<00:33,  2.36s/it]"
     ]
    },
    {
     "name": "stdout",
     "output_type": "stream",
     "text": [
      "2375/2388 행 요약 완료\n"
     ]
    },
    {
     "name": "stderr",
     "output_type": "stream",
     "text": [
      "요약 진행 중:  99%|█████████▉| 2375/2388 [1:39:51<00:30,  2.35s/it]"
     ]
    },
    {
     "name": "stdout",
     "output_type": "stream",
     "text": [
      "2376/2388 행 요약 완료\n"
     ]
    },
    {
     "name": "stderr",
     "output_type": "stream",
     "text": [
      "요약 진행 중:  99%|█████████▉| 2376/2388 [1:39:53<00:26,  2.17s/it]"
     ]
    },
    {
     "name": "stdout",
     "output_type": "stream",
     "text": [
      "2377/2388 행 요약 완료\n"
     ]
    },
    {
     "name": "stderr",
     "output_type": "stream",
     "text": [
      "요약 진행 중: 100%|█████████▉| 2377/2388 [1:39:55<00:22,  2.00s/it]"
     ]
    },
    {
     "name": "stdout",
     "output_type": "stream",
     "text": [
      "2378/2388 행 요약 완료\n"
     ]
    },
    {
     "name": "stderr",
     "output_type": "stream",
     "text": [
      "요약 진행 중: 100%|█████████▉| 2378/2388 [1:39:57<00:21,  2.15s/it]"
     ]
    },
    {
     "name": "stdout",
     "output_type": "stream",
     "text": [
      "2379/2388 행 요약 완료\n"
     ]
    },
    {
     "name": "stderr",
     "output_type": "stream",
     "text": [
      "요약 진행 중: 100%|█████████▉| 2379/2388 [1:40:02<00:25,  2.85s/it]"
     ]
    },
    {
     "name": "stdout",
     "output_type": "stream",
     "text": [
      "2380/2388 행 요약 완료\n"
     ]
    },
    {
     "name": "stderr",
     "output_type": "stream",
     "text": [
      "요약 진행 중: 100%|█████████▉| 2380/2388 [1:40:06<00:26,  3.35s/it]"
     ]
    },
    {
     "name": "stdout",
     "output_type": "stream",
     "text": [
      "2381/2388 행 요약 완료\n"
     ]
    },
    {
     "name": "stderr",
     "output_type": "stream",
     "text": [
      "요약 진행 중: 100%|█████████▉| 2381/2388 [1:40:11<00:25,  3.71s/it]"
     ]
    },
    {
     "name": "stdout",
     "output_type": "stream",
     "text": [
      "2382/2388 행 요약 완료\n"
     ]
    },
    {
     "name": "stderr",
     "output_type": "stream",
     "text": [
      "요약 진행 중: 100%|█████████▉| 2382/2388 [1:40:13<00:20,  3.35s/it]"
     ]
    },
    {
     "name": "stdout",
     "output_type": "stream",
     "text": [
      "2383/2388 행 요약 완료\n"
     ]
    },
    {
     "name": "stderr",
     "output_type": "stream",
     "text": [
      "요약 진행 중: 100%|█████████▉| 2383/2388 [1:40:15<00:14,  2.84s/it]"
     ]
    },
    {
     "name": "stdout",
     "output_type": "stream",
     "text": [
      "2384/2388 행 요약 완료\n"
     ]
    },
    {
     "name": "stderr",
     "output_type": "stream",
     "text": [
      "요약 진행 중: 100%|█████████▉| 2384/2388 [1:40:18<00:12,  3.02s/it]"
     ]
    },
    {
     "name": "stdout",
     "output_type": "stream",
     "text": [
      "2385/2388 행 요약 완료\n"
     ]
    },
    {
     "name": "stderr",
     "output_type": "stream",
     "text": [
      "요약 진행 중: 100%|█████████▉| 2385/2388 [1:40:22<00:09,  3.32s/it]"
     ]
    },
    {
     "name": "stdout",
     "output_type": "stream",
     "text": [
      "2386/2388 행 요약 완료\n"
     ]
    },
    {
     "name": "stderr",
     "output_type": "stream",
     "text": [
      "요약 진행 중: 100%|█████████▉| 2386/2388 [1:40:24<00:05,  2.88s/it]"
     ]
    },
    {
     "name": "stdout",
     "output_type": "stream",
     "text": [
      "2387/2388 행 요약 완료\n"
     ]
    },
    {
     "name": "stderr",
     "output_type": "stream",
     "text": [
      "요약 진행 중: 100%|█████████▉| 2387/2388 [1:40:26<00:02,  2.50s/it]"
     ]
    },
    {
     "name": "stdout",
     "output_type": "stream",
     "text": [
      "2388/2388 행 요약 완료\n"
     ]
    },
    {
     "name": "stderr",
     "output_type": "stream",
     "text": [
      "요약 진행 중: 100%|██████████| 2388/2388 [1:40:31<00:00,  2.53s/it]\n"
     ]
    }
   ],
   "source": [
    "from tqdm import tqdm\n",
    "import time\n",
    "\n",
    "def summarize_with_progress(df):\n",
    "    total_rows = len(df)\n",
    "    summary_list = []\n",
    "    \n",
    "    for index, row in tqdm(df.iterrows(), total=total_rows, desc=\"요약 진행 중\"):\n",
    "        summary = summarize_text(row['질문내용'])\n",
    "        summary_list.append(summary)\n",
    "        \n",
    "        # 현재 진행 상황 출력\n",
    "        print(f\"{index + 1}/{total_rows} 행 요약 완료\")\n",
    "        \n",
    "        # API 호출 제한을 고려한 지연 시간 추가 (필요시 조정)\n",
    "        time.sleep(0.5)\n",
    "    \n",
    "    return pd.Series(summary_list, index=df.index)\n",
    "\n",
    "# 요약 실행\n",
    "df_summary = summarize_with_progress(df)"
   ]
  },
  {
   "cell_type": "markdown",
   "id": "012ee7d4-2e03-4d5b-9e5b-a115c0388f60",
   "metadata": {},
   "source": [
    "### 요약된 결과 출력"
   ]
  },
  {
   "cell_type": "code",
   "execution_count": 10,
   "id": "548a8133-a214-4773-bfd1-f755c7267177",
   "metadata": {
    "tags": []
   },
   "outputs": [
    {
     "name": "stdout",
     "output_type": "stream",
     "text": [
      "0       요약:\\n\\n1. 다둥이 엄마로서 입장권 예매의 어려움을 겪고 있음\\n- 패키지 예...\n",
      "1       이 텍스트는 에버랜드 사파리에서의 경험을 다루고 있습니다. 주요 내용은 다음과 같이...\n",
      "2       요약:\\n\\n1. 풍선 구매 시 요청사항 처리:\\n   - 풍선끈이 길어서 줄여달라...\n",
      "3       요약:\\n\\n1. 화자는 일본인이다.\\n2. 화자는 외국인들도 연간 여권을 만들 수...\n",
      "4       이 텍스트는 푸바오 관람 경험에 대한 긍정적인 리뷰입니다. 주요 내용은 다음과 같이...\n",
      "                              ...                        \n",
      "2383    요약:\\n\\n1. *** & *** 가족들이 10년만에 에버랜드를 방문했습니다.\\n...\n",
      "2384    요약:\\n\\n1. 고객이 로스트밸리 앞 01가판대에서 딸기 젤라또를 구매했으나, 근...\n",
      "2385    요약:\\n\\n- 마지막 게스트를 위해 텐션 높게 서비스를 제공한 마감 직원들을 칭찬...\n",
      "2386    요약:\\n- 아마존 샵의 노*** 캐스터 직원이 매우 친절하게 도와주었음\\n- 바쁜...\n",
      "2387    요약:\\n\\n1. 작년 에버랜드 첫 방문 시 폭우로 인해 퍼레이드를 보지 못했으나,...\n",
      "Length: 2388, dtype: object\n"
     ]
    }
   ],
   "source": [
    "print(df_summary)"
   ]
  },
  {
   "cell_type": "markdown",
   "id": "90c70c08-fd96-43f6-be30-62d5c90db2fe",
   "metadata": {},
   "source": [
    "### 요약된 결과 파일로 저장"
   ]
  },
  {
   "cell_type": "code",
   "execution_count": 11,
   "id": "2b8d6018-1ffe-497f-8d2c-7473d7a50772",
   "metadata": {
    "tags": []
   },
   "outputs": [
    {
     "name": "stdout",
     "output_type": "stream",
     "text": [
      "요약 결과가 './output/./output/2024-04_summary_result_20241021_135123.csv' 파일로 저장되었습니다.\n"
     ]
    }
   ],
   "source": [
    "import pandas as pd\n",
    "from datetime import datetime\n",
    "\n",
    "def save_summary_to_csv(df_original, df_summary, file_name=None):\n",
    "    # 원본 데이터프레임과 요약 데이터프레임 결합\n",
    "    df_combined = pd.concat([df_original, df_summary], axis=1)\n",
    "    \n",
    "    # 요약 컬럼 이름 변경\n",
    "    df_combined = df_combined.rename(columns={0: '요약내용'})\n",
    "    \n",
    "    # 현재 날짜와 시간을 파일명에 포함\n",
    "    if file_name is None:\n",
    "        current_time = datetime.now().strftime(\"%Y%m%d_%H%M%S\")\n",
    "        file_name = f\"./output/{when}_summary_result_{current_time}.csv\"\n",
    "    \n",
    "    # CSV 파일로 저장\n",
    "    df_combined.to_csv(file_name, index=False, encoding='utf-8-sig')\n",
    "    \n",
    "    print(f\"요약 결과가 './output/{file_name}' 파일로 저장되었습니다.\")\n",
    "\n",
    "# 사용 예시\n",
    "save_summary_to_csv(df, df_summary)"
   ]
  },
  {
   "cell_type": "markdown",
   "id": "f9d54636-c252-45f6-bb7e-fc37a3928f0d",
   "metadata": {},
   "source": [
    "---"
   ]
  },
  {
   "cell_type": "markdown",
   "id": "f95e2bb9-2565-406f-89ca-0dbd49a5730e",
   "metadata": {},
   "source": [
    "### 각 행별 요약 내용을 전체로 정리하는 요약\n",
    "--> md (markdown) 형태의 보고서 파일 생성"
   ]
  },
  {
   "cell_type": "code",
   "execution_count": 12,
   "id": "f254839d-4656-439e-a9d5-d123de771852",
   "metadata": {
    "tags": []
   },
   "outputs": [
    {
     "ename": "SyntaxError",
     "evalue": "invalid syntax (1711374633.py, line 12)",
     "output_type": "error",
     "traceback": [
      "\u001b[0;36m  Cell \u001b[0;32mIn[12], line 12\u001b[0;36m\u001b[0m\n\u001b[0;31m    prompt = f\"\"\"다음은 에버랜드 방문 고객의 피드백 요약입니다. 이 내용을 바탕으로 전체적인 내용을 간략하게 요약해주세요.\u001b[0m\n\u001b[0m                 ^\u001b[0m\n\u001b[0;31mSyntaxError\u001b[0m\u001b[0;31m:\u001b[0m invalid syntax\n"
     ]
    }
   ],
   "source": [
    "\"\"\"\n",
    "%%time\n",
    "\n",
    "import pandas as pd\n",
    "import os\n",
    "from datetime import datetime\n",
    "\n",
    "def generate_overall_summary(df_original, df_summary, bedrock_runtime):\n",
    "    # 전체 내용을 하나의 문자열로 결합\n",
    "    all_content = \"\\n\\n\".join(df_summary.astype(str).tolist())\n",
    "    \n",
    "    prompt = f\"\"\"다음은 에버랜드 방문 고객의 피드백 요약입니다. 이 내용을 바탕으로 전체적인 내용을 간략하게 요약해주세요. \n",
    "    주요 주제와 전반적인 고객 만족도, 개선이 필요한 부분 등을 포함해 주세요.\n",
    "\n",
    "    요약 내용:\n",
    "    {all_content[:3000]}  # 토큰 제한을 고려하여 일부만 전송\n",
    "\n",
    "    전체 요약:\"\"\"\n",
    "\n",
    "    response = bedrock_runtime.converse(\n",
    "        modelId=\"us.anthropic.claude-3-sonnet-20240229-v1:0\",  ## Claude 3 Sonnet\n",
    "        #modelId=\"us.anthropic.claude-3-5-sonnet-20240620-v1:0\",  ## Claude 3.5 Sonnet(고객 계정에서 테스트 가능)\n",
    "        messages=[\n",
    "            {\n",
    "                \"role\": \"user\",\n",
    "                \"content\": [{\"text\": prompt}]\n",
    "            }\n",
    "        ],\n",
    "        inferenceConfig={\n",
    "            \"maxTokens\": 4096,\n",
    "            \"temperature\": 0.7,\n",
    "            \"topP\": 1\n",
    "        }\n",
    "    )\n",
    "    \n",
    "    if 'output' in response and 'message' in response['output']:\n",
    "        return response['output']['message']['content'][0]['text']\n",
    "    else:\n",
    "        return \"전체 요약 생성에 실패했습니다.\"\n",
    "\n",
    "def create_markdown_report(df_original, df_summary, overall_summary):\n",
    "    markdown_report = \"# 에버랜드 방문 고객 피드백 요약 및 원본 질문 보고서\\n\\n\"\n",
    "    markdown_report += f\"## 전체 요약\\n\\n{overall_summary}\\n\\n\"\n",
    "    \n",
    "    sections = [\n",
    "        (\"고객 서비스\", [\"캐스트\", \"직원\", \"서비스\"]),\n",
    "        (\"시설 및 편의성\", [\"시설\", \"편의\", \"노후화\"]),\n",
    "        (\"사파리 및 체험 프로그램\", [\"사파리\", \"동물\", \"체험\"]),\n",
    "        (\"대기시간 및 혼잡\", [\"대기\", \"혼잡\", \"줄\"]),\n",
    "        (\"전반적 만족도\", [\"만족\", \"경험\", \"즐거움\"])\n",
    "    ]\n",
    "\n",
    "    for section_title, keywords in sections:\n",
    "        markdown_report += f\"## {section_title}\\n\\n\"\n",
    "        relevant_feedback = []\n",
    "        for index, (original, summary) in enumerate(zip(df_original['질문내용'], df_summary)):\n",
    "            if any(keyword in original.lower() for keyword in keywords):\n",
    "                relevant_feedback.append((original, summary))\n",
    "        \n",
    "        if relevant_feedback:\n",
    "            for i, (original, summary) in enumerate(relevant_feedback[:5], 1):  # 각 섹션당 최대 5개 피드백 표시\n",
    "                markdown_report += f\"### 피드백 {i}\\n\"\n",
    "                markdown_report += f\"**원본 질문:** {original[:200]}...\\n\\n\"\n",
    "                markdown_report += f\"**요약:** {summary[:200]}...\\n\\n\"\n",
    "        else:\n",
    "            markdown_report += \"이 섹션과 관련된 피드백이 없습니다.\\n\\n\"\n",
    "\n",
    "    markdown_report += \"## 주요 원본 질문 목록 (Top 10)\\n\\n\"\n",
    "    top_10_questions = df_original['질문내용'].value_counts().nlargest(10).index.tolist()\n",
    "    for i, question in enumerate(top_10_questions, 1):\n",
    "        markdown_report += f\"{i}. {question[:200]}...\\n\\n\"\n",
    "\n",
    "    return markdown_report\n",
    "\n",
    "# 전체 요약 생성\n",
    "overall_summary = generate_overall_summary(df, df_summary, bedrock_runtime)\n",
    "\n",
    "# 상세 보고서 생성\n",
    "markdown_report = create_markdown_report(df, df_summary, overall_summary)\n",
    "\n",
    "# 출력 디렉토리 확인 및 생성\n",
    "output_dir = \"./output\"\n",
    "os.makedirs(output_dir, exist_ok=True)\n",
    "\n",
    "# 파일명 생성\n",
    "output_filename = f\"{output_dir}/{when}_detailed_summary_report.md\"\n",
    "\n",
    "# 파일로 저장\n",
    "with open(output_filename, \"w\", encoding=\"utf-8\") as f:\n",
    "    f.write(markdown_report)\n",
    "\n",
    "print(f\"Markdown 형식의 상세 보고서가 '{output_filename}' 파일로 저장되었습니다.\")\n",
    "print(\"\\n보고서 내용 미리보기:\")\n",
    "print(markdown_report[:500] + \"...\")  # 처음 500자만 출력\n",
    "\"\"\""
   ]
  },
  {
   "cell_type": "code",
   "execution_count": 13,
   "id": "484a1031-b55c-4d87-85ab-56170c7dc300",
   "metadata": {},
   "outputs": [
    {
     "name": "stdout",
     "output_type": "stream",
     "text": [
      "보고서가 './output/2024-04//2024-04_VOC_summary_report.md' 파일로 저장되었습니다.\n"
     ]
    }
   ],
   "source": [
    "import pandas as pd\n",
    "import matplotlib.pyplot as plt\n",
    "import seaborn as sns\n",
    "from datetime import datetime\n",
    "import os\n",
    "\n",
    "# 디렉토리 생성\n",
    "directory = f'./output/{when}/'\n",
    "if not os.path.exists(directory):\n",
    "    os.makedirs(directory)\n",
    "\n",
    "# 데이터 전처리\n",
    "df['등록일시'] = pd.to_datetime(df['등록일시'], format='%Y%m%d %H%M%S')\n",
    "df['등록일'] = df['등록일시'].dt.date\n",
    "\n",
    "# 일자별 VOC 개수 계산\n",
    "daily_voc_count = df['등록일'].value_counts().sort_index()\n",
    "\n",
    "# 일일 꺾은선 그래프 생성\n",
    "plt.figure(figsize=(12, 6))\n",
    "sns.lineplot(x=daily_voc_count.index, y=daily_voc_count.values)\n",
    "plt.title(f'Number of VOCs received by date in {when}')\n",
    "plt.xlabel('Date')\n",
    "plt.ylabel('Number of VOCs')\n",
    "plt.xticks(rotation=45)\n",
    "plt.tight_layout()\n",
    "plt.savefig(os.path.join(directory, f'{when}_daily_voc_count_line_chart.png'))\n",
    "plt.close()\n",
    "\n",
    "# 마크다운 보고서 생성\n",
    "md_content = f\"# {when} VOC 일자별 요약 보고서\\n\\n\"\n",
    "md_content += f\"![일자별 VOC 접수 건수]({when}_daily_voc_count_line_chart.png)\\n\\n\"\n",
    "\n",
    "# 일자별 요약\n",
    "for date, group in df.groupby('등록일'):\n",
    "    md_content += f\"## {date.strftime('%Y년 %m월 %d일')}\\n\\n\"\n",
    "    md_content += f\"### VOC 접수 건수: {len(group)}\\n\\n\"\n",
    "    md_content += \"### 주요 VOC 요약:\\n\\n\"\n",
    "    \n",
    "    # 해당 일자의 요약 내용 추가\n",
    "    summaries = df_summary[group.index]\n",
    "    for idx, summary in enumerate(summaries, 1):\n",
    "        # \"요약:\" 부분을 제거하고 summary의 나머지 부분만 사용\n",
    "        summary_content = summary.replace(\"요약:\", \"\").strip()\n",
    "        md_content += f\"{date.strftime('%Y-%m-%d')} #{idx:02d} 요약: \\n {summary_content}\\n\\n\"\n",
    "    \n",
    "    md_content += \"---\\n\\n\"\n",
    "\n",
    "# 마크다운 파일로 저장\n",
    "with open(os.path.join(directory, f'{when}_VOC_summary_report.md'), 'w', encoding='utf-8') as f:\n",
    "    f.write(md_content)\n",
    "\n",
    "print(f\"보고서가 '{directory}/{when}_VOC_summary_report.md' 파일로 저장되었습니다.\")"
   ]
  },
  {
   "cell_type": "code",
   "execution_count": null,
   "id": "6f755dd0-9d71-4d0e-a818-9ee298cbc3a6",
   "metadata": {},
   "outputs": [],
   "source": []
  }
 ],
 "metadata": {
  "kernelspec": {
   "display_name": "conda_python3",
   "language": "python",
   "name": "conda_python3"
  },
  "language_info": {
   "codemirror_mode": {
    "name": "ipython",
    "version": 3
   },
   "file_extension": ".py",
   "mimetype": "text/x-python",
   "name": "python",
   "nbconvert_exporter": "python",
   "pygments_lexer": "ipython3",
   "version": "3.10.14"
  }
 },
 "nbformat": 4,
 "nbformat_minor": 5
}
